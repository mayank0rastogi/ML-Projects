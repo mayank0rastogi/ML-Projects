{
  "nbformat": 4,
  "nbformat_minor": 0,
  "metadata": {
    "colab": {
      "name": "HackerEarth Machine Learning Challenge: Exhibit A(rt)(missing value Imputations).ipynb",
      "provenance": [],
      "collapsed_sections": []
    },
    "kernelspec": {
      "name": "python3",
      "display_name": "Python 3"
    }
  },
  "cells": [
    {
      "cell_type": "code",
      "metadata": {
        "id": "x4cG1zfF6eEP"
      },
      "source": [
        "!cp '/content/drive/MyDrive/HACKER EARTH/7342422066d511eb.zip'  ."
      ],
      "execution_count": null,
      "outputs": []
    },
    {
      "cell_type": "code",
      "metadata": {
        "colab": {
          "base_uri": "https://localhost:8080/"
        },
        "id": "U5cqy39E6nHE",
        "outputId": "c1dbcc5d-802c-4a2f-ae32-1a8202ed77e0"
      },
      "source": [
        "!unzip -q 7342422066d511eb.zip"
      ],
      "execution_count": null,
      "outputs": [
        {
          "output_type": "stream",
          "text": [
            "replace dataset/train.csv? [y]es, [n]o, [A]ll, [N]one, [r]ename: n\n",
            "replace dataset/test.csv? [y]es, [n]o, [A]ll, [N]one, [r]ename: n\n",
            "replace dataset/sample_submission.csv? [y]es, [n]o, [A]ll, [N]one, [r]ename: n\n"
          ],
          "name": "stdout"
        }
      ]
    },
    {
      "cell_type": "code",
      "metadata": {
        "id": "92asy-jp6pCk"
      },
      "source": [
        "import pandas as pd\n",
        "import numpy as np\n",
        "import matplotlib.pyplot as plt\n",
        "import seaborn as sns\n",
        "import os\n",
        "\n",
        "path = os.getcwd()\n",
        "data_path = '//content//dataset//'"
      ],
      "execution_count": null,
      "outputs": []
    },
    {
      "cell_type": "code",
      "metadata": {
        "id": "tFBAGTgO6s5R"
      },
      "source": [
        "train = pd.read_csv(data_path + 'train.csv')\n",
        "test  = pd.read_csv(data_path + 'test.csv')\n",
        "sample_sub = pd.read_csv(data_path + 'sample_submission.csv')"
      ],
      "execution_count": null,
      "outputs": []
    },
    {
      "cell_type": "code",
      "metadata": {
        "id": "yBrDheSS60qY"
      },
      "source": [
        "df = pd.concat([train, test], axis = 0).reset_index(drop=True)"
      ],
      "execution_count": null,
      "outputs": []
    },
    {
      "cell_type": "code",
      "metadata": {
        "colab": {
          "base_uri": "https://localhost:8080/"
        },
        "id": "2EXZ4Ztd65-B",
        "outputId": "93a62799-9593-4c56-ba35-19c6cb5a0401"
      },
      "source": [
        "df.isnull().sum()"
      ],
      "execution_count": null,
      "outputs": [
        {
          "output_type": "execute_result",
          "data": {
            "text/plain": [
              "Customer Id                 0\n",
              "Artist Name                 0\n",
              "Artist Reputation         972\n",
              "Height                    494\n",
              "Width                     725\n",
              "Weight                    736\n",
              "Material                  764\n",
              "Price Of Sculpture          0\n",
              "Base Shipping Price         0\n",
              "International               0\n",
              "Express Shipment            0\n",
              "Installation Included       0\n",
              "Transport                1624\n",
              "Fragile                     0\n",
              "Customer Information        0\n",
              "Remote Location           771\n",
              "Scheduled Date              0\n",
              "Delivery Date               0\n",
              "Customer Location           0\n",
              "Cost                     3500\n",
              "dtype: int64"
            ]
          },
          "metadata": {
            "tags": []
          },
          "execution_count": 8
        }
      ]
    },
    {
      "cell_type": "code",
      "metadata": {
        "id": "PIkLTZW_6_aa"
      },
      "source": [
        "df['Artist Reputation'].fillna(df['Artist Reputation'].median(), inplace = True)"
      ],
      "execution_count": null,
      "outputs": []
    },
    {
      "cell_type": "code",
      "metadata": {
        "id": "aYnAsuCo7DPX"
      },
      "source": [
        "def height_imputer_by_material_weight(x):\n",
        "    if x['Weight'] <= 1000:\n",
        "        lower = 0\n",
        "        upper = 999\n",
        "    elif x['Weight']>1000 and x['Weight']<10000:\n",
        "        lower = 1000\n",
        "        upper = 10000\n",
        "    elif x['Weight']>10000 and x['Weight']<100000:\n",
        "        lower = 10000\n",
        "        upper = 100000\n",
        "    else:\n",
        "        lower = 100000\n",
        "        upper = 100000000000000000\n",
        "    impute = df[ (df['Material'] == x['Material']) & (df['Weight']<=upper) & (df['Weight']>=lower)]['Height'].median()\n",
        "    return impute"
      ],
      "execution_count": null,
      "outputs": []
    },
    {
      "cell_type": "code",
      "metadata": {
        "id": "mkHVcWWm7NCk"
      },
      "source": [
        "df.loc[ (df['Height'].isna()) & (~df['Weight'].isna()) & (~df['Material'].isna()), 'Height'] = df[ (df['Height'].isna()) & (~df['Weight'].isna()) & (~df['Material'].isna())].apply(lambda x: height_imputer_by_material_weight(x), axis = 1)"
      ],
      "execution_count": null,
      "outputs": []
    },
    {
      "cell_type": "code",
      "metadata": {
        "id": "3_IWM5e-7PPU"
      },
      "source": [
        "df['Height'].fillna(df['Height'].median(), inplace = True)"
      ],
      "execution_count": null,
      "outputs": []
    },
    {
      "cell_type": "code",
      "metadata": {
        "id": "EkLdK-xh7ROa"
      },
      "source": [
        "def width_imputer_by_material_weight(x):\n",
        "    if x['Weight'] <= 1000:\n",
        "        lower = 0\n",
        "        upper = 999\n",
        "    elif x['Weight']>1000 and x['Weight']<10000:\n",
        "        lower = 1000\n",
        "        upper = 10000\n",
        "    elif x['Weight']>10000 and x['Weight']<100000:\n",
        "        lower = 10000\n",
        "        upper = 100000\n",
        "    else:\n",
        "        lower = 100000\n",
        "        upper = 100000000000000000\n",
        "    impute = df[ (df['Material'] == x['Material']) & (df['Weight']<=upper) & (df['Weight']>=lower)]['Width'].median()\n",
        "    return impute"
      ],
      "execution_count": null,
      "outputs": []
    },
    {
      "cell_type": "code",
      "metadata": {
        "id": "q4LuihsQ7T5C"
      },
      "source": [
        "df.loc[ (df['Width'].isna()) & (~df['Weight'].isna()) & (~df['Material'].isna()), 'Width'] = df[ (df['Width'].isna()) & (~df['Weight'].isna()) & (~df['Material'].isna())].apply(lambda x: height_imputer_by_material_weight(x), axis = 1)"
      ],
      "execution_count": null,
      "outputs": []
    },
    {
      "cell_type": "code",
      "metadata": {
        "id": "mo_Y5VrM7XCt"
      },
      "source": [
        "df['Width'].fillna(df['Width'].median(), inplace = True)"
      ],
      "execution_count": null,
      "outputs": []
    },
    {
      "cell_type": "code",
      "metadata": {
        "id": "TtiFKRIN7ZRt"
      },
      "source": [
        "def weight_imputer_by_material_weight(x):\n",
        "    if x['Height'] <= 10:\n",
        "        lower = 0\n",
        "        upper = 10\n",
        "    elif x['Height']>10 and x['Height']<25:\n",
        "        lower = 10\n",
        "        upper = 25\n",
        "    elif x['Height']>25 and x['Height']<50:\n",
        "        lower = 25\n",
        "        upper = 50\n",
        "    else:\n",
        "        lower = 50\n",
        "        upper = 100\n",
        "    if x['Width'] <= 10:\n",
        "        lower_1 = 0\n",
        "        upper_1 = 10\n",
        "    elif x['Width']>10 and x['Width']<20:\n",
        "        lower_1 = 10\n",
        "        upper_1 = 20\n",
        "    elif x['Width']>20 and x['Width']<35:\n",
        "        lower_1 = 20\n",
        "        upper_1 = 35\n",
        "    else:\n",
        "        lower_1 = 35\n",
        "        upper_1 = 100\n",
        "    impute = df[ (df['Width']<=upper_1) & (df['Width']>=lower_1) & (df['Height']<=upper) & (df['Height']>=lower)]['Weight'].median()\n",
        "    return impute"
      ],
      "execution_count": null,
      "outputs": []
    },
    {
      "cell_type": "code",
      "metadata": {
        "id": "hqUt61NK7cWa"
      },
      "source": [
        "df.loc[ (df['Weight'].isna()), 'Weight'] = df[ (df['Weight'].isna())].apply(lambda x: weight_imputer_by_material_weight(x), axis = 1)"
      ],
      "execution_count": null,
      "outputs": []
    },
    {
      "cell_type": "code",
      "metadata": {
        "id": "NMVkIIRz7e1Z"
      },
      "source": [
        "df.loc[982, 'Weight'] = 160322.500\n",
        "df.loc[1678, 'Weight'] = 160322.500"
      ],
      "execution_count": null,
      "outputs": []
    },
    {
      "cell_type": "code",
      "metadata": {
        "id": "kSYS_pEl7hLM"
      },
      "source": [
        "def material_imputer_by_material_weight(x):\n",
        "    if x['Height'] <= 10:\n",
        "        lower = 0\n",
        "        upper = 10\n",
        "    elif x['Height']>10 and x['Height']<25:\n",
        "        lower = 10\n",
        "        upper = 25\n",
        "    elif x['Height']>25 and x['Height']<50:\n",
        "        lower = 25\n",
        "        upper = 50\n",
        "    else:\n",
        "        lower = 50\n",
        "        upper = 100\n",
        "    if x['Width'] <= 10:\n",
        "        lower_1 = 0\n",
        "        upper_1 = 10\n",
        "    elif x['Width']>10 and x['Width']<20:\n",
        "        lower_1 = 10\n",
        "        upper_1 = 20\n",
        "    elif x['Width']>20 and x['Width']<35:\n",
        "        lower_1 = 20\n",
        "        upper_1 = 35\n",
        "    else:\n",
        "        lower_1 = 35\n",
        "        upper_1 = 100\n",
        "    if x['Weight'] <= 1000:\n",
        "        lower_2 = 0\n",
        "        upper_2 = 999\n",
        "    elif x['Weight']>1000 and x['Weight']<10000:\n",
        "        lower_2 = 1000\n",
        "        upper_2 = 10000\n",
        "    elif x['Weight']>10000 and x['Weight']<100000:\n",
        "        lower_2 = 10000\n",
        "        upper_2 = 100000\n",
        "    else:\n",
        "        lower_2 = 100000\n",
        "        upper_2 = 100000000000000000\n",
        "    dic = df[ (df['Width']<=upper_1) & (df['Width']>=lower_1) & (df['Height']<=upper) & (df['Height']>=lower) & (df['Weight']>=lower_2) & (df['Weight']>=upper_2)]['Material'].value_counts().to_dict()\n",
        "    if len(dic) == 0:\n",
        "        return None\n",
        "    impute = list(dic.keys())[0]\n",
        "    return impute"
      ],
      "execution_count": null,
      "outputs": []
    },
    {
      "cell_type": "code",
      "metadata": {
        "id": "6Uo94P6s7k6n"
      },
      "source": [
        "df.loc[ (df['Material'].isna()), 'Material'] = df[ (df['Material'].isna())].apply(lambda x: material_imputer_by_material_weight(x), axis = 1)"
      ],
      "execution_count": null,
      "outputs": []
    },
    {
      "cell_type": "code",
      "metadata": {
        "id": "vCCYsx0i7qTc"
      },
      "source": [
        "df['Material'].fillna('Stone', inplace = True)"
      ],
      "execution_count": null,
      "outputs": []
    },
    {
      "cell_type": "code",
      "metadata": {
        "id": "upy62aXW7sLd"
      },
      "source": [
        "df.loc[ (df['Transport'].isna()) & (df['Express Shipment'] == 'Yes'), 'Transport'] = 'Waterways'"
      ],
      "execution_count": null,
      "outputs": []
    },
    {
      "cell_type": "code",
      "metadata": {
        "id": "cZt7X9-K7xSZ"
      },
      "source": [
        "df.loc[ (df['Transport'].isna()) & (df['Customer Information'] == 'Wealthy'), 'Transport'] = 'Airways'"
      ],
      "execution_count": null,
      "outputs": []
    },
    {
      "cell_type": "code",
      "metadata": {
        "id": "NEaoP82C7z86"
      },
      "source": [
        "df['Transport'].fillna('Roadways', inplace = True)"
      ],
      "execution_count": null,
      "outputs": []
    },
    {
      "cell_type": "code",
      "metadata": {
        "colab": {
          "base_uri": "https://localhost:8080/"
        },
        "id": "9f6F-7Et72Rv",
        "outputId": "e8cc57b3-6d67-4d9e-fcb8-105106a82978"
      },
      "source": [
        "df.groupby('Customer Information')['Remote Location'].value_counts()"
      ],
      "execution_count": null,
      "outputs": [
        {
          "output_type": "execute_result",
          "data": {
            "text/plain": [
              "Customer Information  Remote Location\n",
              "Wealthy               No                 1959\n",
              "                      Yes                 477\n",
              "Working Class         No                 5424\n",
              "                      Yes                1369\n",
              "Name: Remote Location, dtype: int64"
            ]
          },
          "metadata": {
            "tags": []
          },
          "execution_count": 25
        }
      ]
    },
    {
      "cell_type": "code",
      "metadata": {
        "id": "3r_7KTi274RS"
      },
      "source": [
        "df.loc[ (df['Remote Location'].isna()) & (df['Customer Information'] == 'Wealthy'), 'Remote Location'] = 'No'\n",
        "df['Remote Location'].fillna('Yes', inplace = True)\n"
      ],
      "execution_count": null,
      "outputs": []
    },
    {
      "cell_type": "code",
      "metadata": {
        "id": "ALBvVCM_78H4"
      },
      "source": [
        "train, test = df[: train.shape[0]], df[train.shape[0]:].reset_index(drop = True)"
      ],
      "execution_count": null,
      "outputs": []
    },
    {
      "cell_type": "code",
      "metadata": {
        "id": "1vM_Lixu8Y5a"
      },
      "source": [
        "data_path = '//content//drive//MyDrive//HACKER EARTH//'"
      ],
      "execution_count": null,
      "outputs": []
    },
    {
      "cell_type": "code",
      "metadata": {
        "id": "ONgSsw8G8Eg3"
      },
      "source": [
        "train.to_csv(data_path + 'cleaned_train.csv', index = False)\n",
        "test.to_csv(data_path + 'cleaned_test.csv', index = False)"
      ],
      "execution_count": null,
      "outputs": []
    },
    {
      "cell_type": "code",
      "metadata": {
        "id": "TyAG3QYd8KlE"
      },
      "source": [
        ""
      ],
      "execution_count": null,
      "outputs": []
    }
  ]
}