{
  "nbformat": 4,
  "nbformat_minor": 0,
  "metadata": {
    "colab": {
      "name": "Cipla DS Hiring Challenge .ipynb",
      "provenance": []
    },
    "kernelspec": {
      "name": "python3",
      "display_name": "Python 3"
    },
    "language_info": {
      "name": "python"
    }
  },
  "cells": [
    {
      "cell_type": "code",
      "metadata": {
        "colab": {
          "base_uri": "https://localhost:8080/"
        },
        "id": "b01AplK7GJ4J",
        "outputId": "6e9d8aaf-204d-4b12-d0eb-d83239b96063"
      },
      "source": [
        "from zipfile import ZipFile\n",
        "file_name = \"/content/drive/MyDrive/Dataset/Cipla DS Hiring Challenge/dfb5e5f2c9bc11eb.zip\"\n",
        "with ZipFile(file_name,'r') as zip:\n",
        "  zip.extractall()\n",
        "  print('finish')\n"
      ],
      "execution_count": 1,
      "outputs": [
        {
          "output_type": "stream",
          "text": [
            "finish\n"
          ],
          "name": "stdout"
        }
      ]
    },
    {
      "cell_type": "code",
      "metadata": {
        "id": "hDjb5LpYG5eN"
      },
      "source": [
        "import numpy as np\n",
        "import pandas as pd\n",
        "import matplotlib.pyplot as plt\n",
        "import seaborn as sns"
      ],
      "execution_count": 2,
      "outputs": []
    },
    {
      "cell_type": "code",
      "metadata": {
        "id": "3mhvH6ajG_iu"
      },
      "source": [
        "train=pd.read_csv(\"/content/dataset/train.csv\")\n",
        "test=pd.read_csv(\"/content/dataset/test.csv\")\n",
        "subm=pd.read_csv(\"/content/dataset/sample_submission.csv\")"
      ],
      "execution_count": 82,
      "outputs": []
    },
    {
      "cell_type": "code",
      "metadata": {
        "id": "rifga4dsisCR"
      },
      "source": [
        "test_df=test"
      ],
      "execution_count": 4,
      "outputs": []
    },
    {
      "cell_type": "code",
      "metadata": {
        "colab": {
          "base_uri": "https://localhost:8080/",
          "height": 358
        },
        "id": "O_paurKZHEAu",
        "outputId": "f53a2afe-4675-44af-c4b8-3f6978f0a03d"
      },
      "source": [
        "train.head()"
      ],
      "execution_count": 5,
      "outputs": [
        {
          "output_type": "execute_result",
          "data": {
            "text/html": [
              "<div>\n",
              "<style scoped>\n",
              "    .dataframe tbody tr th:only-of-type {\n",
              "        vertical-align: middle;\n",
              "    }\n",
              "\n",
              "    .dataframe tbody tr th {\n",
              "        vertical-align: top;\n",
              "    }\n",
              "\n",
              "    .dataframe thead th {\n",
              "        text-align: right;\n",
              "    }\n",
              "</style>\n",
              "<table border=\"1\" class=\"dataframe\">\n",
              "  <thead>\n",
              "    <tr style=\"text-align: right;\">\n",
              "      <th></th>\n",
              "      <th>Customer ID</th>\n",
              "      <th>Name</th>\n",
              "      <th>Gender</th>\n",
              "      <th>Age</th>\n",
              "      <th>Income (USD)</th>\n",
              "      <th>Income Stability</th>\n",
              "      <th>Profession</th>\n",
              "      <th>Type of Employment</th>\n",
              "      <th>Location</th>\n",
              "      <th>Loan Amount Request (USD)</th>\n",
              "      <th>Current Loan Expenses (USD)</th>\n",
              "      <th>Expense Type 1</th>\n",
              "      <th>Expense Type 2</th>\n",
              "      <th>Dependents</th>\n",
              "      <th>Credit Score</th>\n",
              "      <th>No. of Defaults</th>\n",
              "      <th>Has Active Credit Card</th>\n",
              "      <th>Property ID</th>\n",
              "      <th>Property Age</th>\n",
              "      <th>Property Type</th>\n",
              "      <th>Property Location</th>\n",
              "      <th>Co-Applicant</th>\n",
              "      <th>Property Price</th>\n",
              "      <th>Loan Sanction Amount (USD)</th>\n",
              "    </tr>\n",
              "  </thead>\n",
              "  <tbody>\n",
              "    <tr>\n",
              "      <th>0</th>\n",
              "      <td>C-36995</td>\n",
              "      <td>Frederica Shealy</td>\n",
              "      <td>F</td>\n",
              "      <td>56</td>\n",
              "      <td>1933.05</td>\n",
              "      <td>Low</td>\n",
              "      <td>Working</td>\n",
              "      <td>Sales staff</td>\n",
              "      <td>Semi-Urban</td>\n",
              "      <td>72809.58</td>\n",
              "      <td>241.08</td>\n",
              "      <td>N</td>\n",
              "      <td>N</td>\n",
              "      <td>3.0</td>\n",
              "      <td>809.44</td>\n",
              "      <td>0</td>\n",
              "      <td>NaN</td>\n",
              "      <td>746</td>\n",
              "      <td>1933.05</td>\n",
              "      <td>4</td>\n",
              "      <td>Rural</td>\n",
              "      <td>1</td>\n",
              "      <td>119933.46</td>\n",
              "      <td>54607.18</td>\n",
              "    </tr>\n",
              "    <tr>\n",
              "      <th>1</th>\n",
              "      <td>C-33999</td>\n",
              "      <td>America Calderone</td>\n",
              "      <td>M</td>\n",
              "      <td>32</td>\n",
              "      <td>4952.91</td>\n",
              "      <td>Low</td>\n",
              "      <td>Working</td>\n",
              "      <td>NaN</td>\n",
              "      <td>Semi-Urban</td>\n",
              "      <td>46837.47</td>\n",
              "      <td>495.81</td>\n",
              "      <td>N</td>\n",
              "      <td>Y</td>\n",
              "      <td>1.0</td>\n",
              "      <td>780.40</td>\n",
              "      <td>0</td>\n",
              "      <td>Unpossessed</td>\n",
              "      <td>608</td>\n",
              "      <td>4952.91</td>\n",
              "      <td>2</td>\n",
              "      <td>Rural</td>\n",
              "      <td>1</td>\n",
              "      <td>54791.00</td>\n",
              "      <td>37469.98</td>\n",
              "    </tr>\n",
              "    <tr>\n",
              "      <th>2</th>\n",
              "      <td>C-3770</td>\n",
              "      <td>Rosetta Verne</td>\n",
              "      <td>F</td>\n",
              "      <td>65</td>\n",
              "      <td>988.19</td>\n",
              "      <td>High</td>\n",
              "      <td>Pensioner</td>\n",
              "      <td>NaN</td>\n",
              "      <td>Semi-Urban</td>\n",
              "      <td>45593.04</td>\n",
              "      <td>171.95</td>\n",
              "      <td>N</td>\n",
              "      <td>Y</td>\n",
              "      <td>1.0</td>\n",
              "      <td>833.15</td>\n",
              "      <td>0</td>\n",
              "      <td>Unpossessed</td>\n",
              "      <td>546</td>\n",
              "      <td>988.19</td>\n",
              "      <td>2</td>\n",
              "      <td>Urban</td>\n",
              "      <td>0</td>\n",
              "      <td>72440.58</td>\n",
              "      <td>36474.43</td>\n",
              "    </tr>\n",
              "    <tr>\n",
              "      <th>3</th>\n",
              "      <td>C-26480</td>\n",
              "      <td>Zoe Chitty</td>\n",
              "      <td>F</td>\n",
              "      <td>65</td>\n",
              "      <td>NaN</td>\n",
              "      <td>High</td>\n",
              "      <td>Pensioner</td>\n",
              "      <td>NaN</td>\n",
              "      <td>Rural</td>\n",
              "      <td>80057.92</td>\n",
              "      <td>298.54</td>\n",
              "      <td>N</td>\n",
              "      <td>Y</td>\n",
              "      <td>2.0</td>\n",
              "      <td>832.70</td>\n",
              "      <td>1</td>\n",
              "      <td>Unpossessed</td>\n",
              "      <td>890</td>\n",
              "      <td>NaN</td>\n",
              "      <td>2</td>\n",
              "      <td>Semi-Urban</td>\n",
              "      <td>1</td>\n",
              "      <td>121441.51</td>\n",
              "      <td>56040.54</td>\n",
              "    </tr>\n",
              "    <tr>\n",
              "      <th>4</th>\n",
              "      <td>C-23459</td>\n",
              "      <td>Afton Venema</td>\n",
              "      <td>F</td>\n",
              "      <td>31</td>\n",
              "      <td>2614.77</td>\n",
              "      <td>Low</td>\n",
              "      <td>Working</td>\n",
              "      <td>High skill tech staff</td>\n",
              "      <td>Semi-Urban</td>\n",
              "      <td>113858.89</td>\n",
              "      <td>491.41</td>\n",
              "      <td>N</td>\n",
              "      <td>Y</td>\n",
              "      <td>NaN</td>\n",
              "      <td>745.55</td>\n",
              "      <td>1</td>\n",
              "      <td>Active</td>\n",
              "      <td>715</td>\n",
              "      <td>2614.77</td>\n",
              "      <td>4</td>\n",
              "      <td>Semi-Urban</td>\n",
              "      <td>1</td>\n",
              "      <td>208567.91</td>\n",
              "      <td>74008.28</td>\n",
              "    </tr>\n",
              "  </tbody>\n",
              "</table>\n",
              "</div>"
            ],
            "text/plain": [
              "  Customer ID               Name  ... Property Price  Loan Sanction Amount (USD)\n",
              "0     C-36995   Frederica Shealy  ...      119933.46                    54607.18\n",
              "1     C-33999  America Calderone  ...       54791.00                    37469.98\n",
              "2      C-3770      Rosetta Verne  ...       72440.58                    36474.43\n",
              "3     C-26480         Zoe Chitty  ...      121441.51                    56040.54\n",
              "4     C-23459       Afton Venema  ...      208567.91                    74008.28\n",
              "\n",
              "[5 rows x 24 columns]"
            ]
          },
          "metadata": {
            "tags": []
          },
          "execution_count": 5
        }
      ]
    },
    {
      "cell_type": "code",
      "metadata": {
        "colab": {
          "base_uri": "https://localhost:8080/",
          "height": 203
        },
        "id": "CoEdeN_xHF17",
        "outputId": "18af70a3-d1a2-48c7-b64b-3dc259e3b00f"
      },
      "source": [
        "subm.head()"
      ],
      "execution_count": 6,
      "outputs": [
        {
          "output_type": "execute_result",
          "data": {
            "text/html": [
              "<div>\n",
              "<style scoped>\n",
              "    .dataframe tbody tr th:only-of-type {\n",
              "        vertical-align: middle;\n",
              "    }\n",
              "\n",
              "    .dataframe tbody tr th {\n",
              "        vertical-align: top;\n",
              "    }\n",
              "\n",
              "    .dataframe thead th {\n",
              "        text-align: right;\n",
              "    }\n",
              "</style>\n",
              "<table border=\"1\" class=\"dataframe\">\n",
              "  <thead>\n",
              "    <tr style=\"text-align: right;\">\n",
              "      <th></th>\n",
              "      <th>Customer ID</th>\n",
              "      <th>Loan Sanction Amount (USD)</th>\n",
              "    </tr>\n",
              "  </thead>\n",
              "  <tbody>\n",
              "    <tr>\n",
              "      <th>0</th>\n",
              "      <td>C-36995</td>\n",
              "      <td>54607.18</td>\n",
              "    </tr>\n",
              "    <tr>\n",
              "      <th>1</th>\n",
              "      <td>C-33999</td>\n",
              "      <td>37469.98</td>\n",
              "    </tr>\n",
              "    <tr>\n",
              "      <th>2</th>\n",
              "      <td>C-3770</td>\n",
              "      <td>36474.43</td>\n",
              "    </tr>\n",
              "    <tr>\n",
              "      <th>3</th>\n",
              "      <td>C-26480</td>\n",
              "      <td>56040.54</td>\n",
              "    </tr>\n",
              "    <tr>\n",
              "      <th>4</th>\n",
              "      <td>C-23459</td>\n",
              "      <td>74008.28</td>\n",
              "    </tr>\n",
              "  </tbody>\n",
              "</table>\n",
              "</div>"
            ],
            "text/plain": [
              "  Customer ID  Loan Sanction Amount (USD)\n",
              "0     C-36995                    54607.18\n",
              "1     C-33999                    37469.98\n",
              "2      C-3770                    36474.43\n",
              "3     C-26480                    56040.54\n",
              "4     C-23459                    74008.28"
            ]
          },
          "metadata": {
            "tags": []
          },
          "execution_count": 6
        }
      ]
    },
    {
      "cell_type": "code",
      "metadata": {
        "colab": {
          "base_uri": "https://localhost:8080/"
        },
        "id": "7FsZ5pnUIdwo",
        "outputId": "48ae3368-1552-4550-895b-c77c1f302576"
      },
      "source": [
        "train.info()"
      ],
      "execution_count": 7,
      "outputs": [
        {
          "output_type": "stream",
          "text": [
            "<class 'pandas.core.frame.DataFrame'>\n",
            "RangeIndex: 30000 entries, 0 to 29999\n",
            "Data columns (total 24 columns):\n",
            " #   Column                       Non-Null Count  Dtype  \n",
            "---  ------                       --------------  -----  \n",
            " 0   Customer ID                  30000 non-null  object \n",
            " 1   Name                         30000 non-null  object \n",
            " 2   Gender                       29947 non-null  object \n",
            " 3   Age                          30000 non-null  int64  \n",
            " 4   Income (USD)                 25424 non-null  float64\n",
            " 5   Income Stability             28317 non-null  object \n",
            " 6   Profession                   30000 non-null  object \n",
            " 7   Type of Employment           22730 non-null  object \n",
            " 8   Location                     30000 non-null  object \n",
            " 9   Loan Amount Request (USD)    30000 non-null  float64\n",
            " 10  Current Loan Expenses (USD)  29828 non-null  float64\n",
            " 11  Expense Type 1               30000 non-null  object \n",
            " 12  Expense Type 2               30000 non-null  object \n",
            " 13  Dependents                   27507 non-null  float64\n",
            " 14  Credit Score                 28297 non-null  float64\n",
            " 15  No. of Defaults              30000 non-null  int64  \n",
            " 16  Has Active Credit Card       28434 non-null  object \n",
            " 17  Property ID                  30000 non-null  int64  \n",
            " 18  Property Age                 25150 non-null  float64\n",
            " 19  Property Type                30000 non-null  int64  \n",
            " 20  Property Location            29644 non-null  object \n",
            " 21  Co-Applicant                 30000 non-null  int64  \n",
            " 22  Property Price               30000 non-null  float64\n",
            " 23  Loan Sanction Amount (USD)   29660 non-null  float64\n",
            "dtypes: float64(8), int64(5), object(11)\n",
            "memory usage: 5.5+ MB\n"
          ],
          "name": "stdout"
        }
      ]
    },
    {
      "cell_type": "code",
      "metadata": {
        "colab": {
          "base_uri": "https://localhost:8080/"
        },
        "id": "CdaPuPz5IgsR",
        "outputId": "af522172-f01c-4f40-c225-2340c4f0f947"
      },
      "source": [
        "train.isna().sum()"
      ],
      "execution_count": 8,
      "outputs": [
        {
          "output_type": "execute_result",
          "data": {
            "text/plain": [
              "Customer ID                       0\n",
              "Name                              0\n",
              "Gender                           53\n",
              "Age                               0\n",
              "Income (USD)                   4576\n",
              "Income Stability               1683\n",
              "Profession                        0\n",
              "Type of Employment             7270\n",
              "Location                          0\n",
              "Loan Amount Request (USD)         0\n",
              "Current Loan Expenses (USD)     172\n",
              "Expense Type 1                    0\n",
              "Expense Type 2                    0\n",
              "Dependents                     2493\n",
              "Credit Score                   1703\n",
              "No. of Defaults                   0\n",
              "Has Active Credit Card         1566\n",
              "Property ID                       0\n",
              "Property Age                   4850\n",
              "Property Type                     0\n",
              "Property Location               356\n",
              "Co-Applicant                      0\n",
              "Property Price                    0\n",
              "Loan Sanction Amount (USD)      340\n",
              "dtype: int64"
            ]
          },
          "metadata": {
            "tags": []
          },
          "execution_count": 8
        }
      ]
    },
    {
      "cell_type": "code",
      "metadata": {
        "colab": {
          "base_uri": "https://localhost:8080/"
        },
        "id": "MQJG7DfDJ7no",
        "outputId": "0739b73b-c6d4-42a3-d8ce-881af8c6b37c"
      },
      "source": [
        "test.isna().sum()"
      ],
      "execution_count": 9,
      "outputs": [
        {
          "output_type": "execute_result",
          "data": {
            "text/plain": [
              "Customer ID                       0\n",
              "Name                              0\n",
              "Gender                           31\n",
              "Age                               0\n",
              "Income (USD)                    750\n",
              "Income Stability                813\n",
              "Profession                        0\n",
              "Type of Employment             4689\n",
              "Location                          0\n",
              "Loan Amount Request (USD)         0\n",
              "Current Loan Expenses (USD)      83\n",
              "Expense Type 1                    0\n",
              "Expense Type 2                    0\n",
              "Dependents                     1142\n",
              "Credit Score                    743\n",
              "No. of Defaults                   0\n",
              "Has Active Credit Card         1076\n",
              "Property ID                       0\n",
              "Property Age                    892\n",
              "Property Type                     0\n",
              "Property Location               160\n",
              "Co-Applicant                      0\n",
              "Property Price                    0\n",
              "dtype: int64"
            ]
          },
          "metadata": {
            "tags": []
          },
          "execution_count": 9
        }
      ]
    },
    {
      "cell_type": "code",
      "metadata": {
        "id": "db-pSng1LvNz"
      },
      "source": [
        "# set target feature\n",
        "targetFeature='Success_probability'"
      ],
      "execution_count": 10,
      "outputs": []
    },
    {
      "cell_type": "code",
      "metadata": {
        "id": "ykbQEjDILyLo"
      },
      "source": [
        "def datashape(df):\n",
        "  rows,columns=df.shape\n",
        "  print(\"The dataset contains \",rows,\"rows and\",columns,\"columns.\")"
      ],
      "execution_count": 11,
      "outputs": []
    },
    {
      "cell_type": "code",
      "metadata": {
        "id": "ytVzw8LbL2j5"
      },
      "source": [
        "# segregate numerical and categorical features\n",
        "def divideFeatures(df):\n",
        "    numerical_features = df.select_dtypes(include=[np.number])\n",
        "    categorical_features = df.select_dtypes(include=[np.object])\n",
        "    return numerical_features, categorical_features"
      ],
      "execution_count": 12,
      "outputs": []
    },
    {
      "cell_type": "code",
      "metadata": {
        "colab": {
          "base_uri": "https://localhost:8080/"
        },
        "id": "uEDn7hs9L5IS",
        "outputId": "f91c1c57-de37-4258-c27c-a7fd8b79ee65"
      },
      "source": [
        "datashape(train)"
      ],
      "execution_count": 13,
      "outputs": [
        {
          "output_type": "stream",
          "text": [
            "The dataset contains  30000 rows and 24 columns.\n"
          ],
          "name": "stdout"
        }
      ]
    },
    {
      "cell_type": "code",
      "metadata": {
        "id": "kXdmPfM4MCW1"
      },
      "source": [
        "# remove ID from training data\n",
        "train.drop(['Customer ID'], inplace=True, axis=1)"
      ],
      "execution_count": 14,
      "outputs": []
    },
    {
      "cell_type": "code",
      "metadata": {
        "colab": {
          "base_uri": "https://localhost:8080/"
        },
        "id": "SuKXMeEFMQJW",
        "outputId": "c88e0cdd-5615-42f6-90cb-7f81ce6e1afa"
      },
      "source": [
        "# check for duplicates\n",
        "print(train.shape)\n",
        "train.drop_duplicates(inplace=True)\n",
        "print(train.shape)"
      ],
      "execution_count": 15,
      "outputs": [
        {
          "output_type": "stream",
          "text": [
            "(30000, 23)\n",
            "(30000, 23)\n"
          ],
          "name": "stdout"
        }
      ]
    },
    {
      "cell_type": "code",
      "metadata": {
        "id": "FRpVpuXAMXQt"
      },
      "source": [
        "continuous_data, categorical_data = divideFeatures(train)"
      ],
      "execution_count": 16,
      "outputs": []
    },
    {
      "cell_type": "code",
      "metadata": {
        "colab": {
          "base_uri": "https://localhost:8080/",
          "height": 209
        },
        "id": "DpJWiSfDMgYT",
        "outputId": "d0deab82-ecf6-400f-9c08-63f61cac3df8"
      },
      "source": [
        "categorical_data[:3]"
      ],
      "execution_count": 17,
      "outputs": [
        {
          "output_type": "execute_result",
          "data": {
            "text/html": [
              "<div>\n",
              "<style scoped>\n",
              "    .dataframe tbody tr th:only-of-type {\n",
              "        vertical-align: middle;\n",
              "    }\n",
              "\n",
              "    .dataframe tbody tr th {\n",
              "        vertical-align: top;\n",
              "    }\n",
              "\n",
              "    .dataframe thead th {\n",
              "        text-align: right;\n",
              "    }\n",
              "</style>\n",
              "<table border=\"1\" class=\"dataframe\">\n",
              "  <thead>\n",
              "    <tr style=\"text-align: right;\">\n",
              "      <th></th>\n",
              "      <th>Name</th>\n",
              "      <th>Gender</th>\n",
              "      <th>Income Stability</th>\n",
              "      <th>Profession</th>\n",
              "      <th>Type of Employment</th>\n",
              "      <th>Location</th>\n",
              "      <th>Expense Type 1</th>\n",
              "      <th>Expense Type 2</th>\n",
              "      <th>Has Active Credit Card</th>\n",
              "      <th>Property Location</th>\n",
              "    </tr>\n",
              "  </thead>\n",
              "  <tbody>\n",
              "    <tr>\n",
              "      <th>0</th>\n",
              "      <td>Frederica Shealy</td>\n",
              "      <td>F</td>\n",
              "      <td>Low</td>\n",
              "      <td>Working</td>\n",
              "      <td>Sales staff</td>\n",
              "      <td>Semi-Urban</td>\n",
              "      <td>N</td>\n",
              "      <td>N</td>\n",
              "      <td>NaN</td>\n",
              "      <td>Rural</td>\n",
              "    </tr>\n",
              "    <tr>\n",
              "      <th>1</th>\n",
              "      <td>America Calderone</td>\n",
              "      <td>M</td>\n",
              "      <td>Low</td>\n",
              "      <td>Working</td>\n",
              "      <td>NaN</td>\n",
              "      <td>Semi-Urban</td>\n",
              "      <td>N</td>\n",
              "      <td>Y</td>\n",
              "      <td>Unpossessed</td>\n",
              "      <td>Rural</td>\n",
              "    </tr>\n",
              "    <tr>\n",
              "      <th>2</th>\n",
              "      <td>Rosetta Verne</td>\n",
              "      <td>F</td>\n",
              "      <td>High</td>\n",
              "      <td>Pensioner</td>\n",
              "      <td>NaN</td>\n",
              "      <td>Semi-Urban</td>\n",
              "      <td>N</td>\n",
              "      <td>Y</td>\n",
              "      <td>Unpossessed</td>\n",
              "      <td>Urban</td>\n",
              "    </tr>\n",
              "  </tbody>\n",
              "</table>\n",
              "</div>"
            ],
            "text/plain": [
              "                Name Gender  ... Has Active Credit Card Property Location\n",
              "0   Frederica Shealy      F  ...                    NaN             Rural\n",
              "1  America Calderone      M  ...            Unpossessed             Rural\n",
              "2      Rosetta Verne      F  ...            Unpossessed             Urban\n",
              "\n",
              "[3 rows x 10 columns]"
            ]
          },
          "metadata": {
            "tags": []
          },
          "execution_count": 17
        }
      ]
    },
    {
      "cell_type": "code",
      "metadata": {
        "colab": {
          "base_uri": "https://localhost:8080/"
        },
        "id": "6ZmK8Bv-Mje7",
        "outputId": "9ca037cf-e7c4-4ca2-ff5c-733201377f6d"
      },
      "source": [
        "for col in categorical_data:\n",
        "    print(f'{col} : {categorical_data[col].unique()}')"
      ],
      "execution_count": 18,
      "outputs": [
        {
          "output_type": "stream",
          "text": [
            "Name : ['Frederica Shealy' 'America Calderone' 'Rosetta Verne' ... 'Carmelo Lone'\n",
            " 'Carolann Osby' 'Bridget Garibaldi']\n",
            "Gender : ['F' 'M' nan]\n",
            "Income Stability : ['Low' 'High' nan]\n",
            "Profession : ['Working' 'Pensioner' 'State servant' 'Commercial associate' 'Unemployed'\n",
            " 'Student' 'Businessman' 'Maternity leave']\n",
            "Type of Employment : ['Sales staff' nan 'High skill tech staff' 'Secretaries' 'Laborers'\n",
            " 'Managers' 'Cooking staff' 'Core staff' 'Drivers' 'Realty agents'\n",
            " 'Security staff' 'Accountants' 'Private service staff'\n",
            " 'Waiters/barmen staff' 'Medicine staff' 'Cleaning staff'\n",
            " 'Low-skill Laborers' 'HR staff' 'IT staff']\n",
            "Location : ['Semi-Urban' 'Rural' 'Urban']\n",
            "Expense Type 1 : ['N' 'Y']\n",
            "Expense Type 2 : ['N' 'Y']\n",
            "Has Active Credit Card : [nan 'Unpossessed' 'Active' 'Inactive']\n",
            "Property Location : ['Rural' 'Urban' 'Semi-Urban' nan]\n"
          ],
          "name": "stdout"
        }
      ]
    },
    {
      "cell_type": "code",
      "metadata": {
        "colab": {
          "base_uri": "https://localhost:8080/"
        },
        "id": "Hw1UHMc2M1_6",
        "outputId": "a0470350-1092-4fbe-fd54-10607dadc01c"
      },
      "source": [
        "for col in continuous_data:\n",
        "    print(f'{col} : {continuous_data[col].unique()}')"
      ],
      "execution_count": 19,
      "outputs": [
        {
          "output_type": "stream",
          "text": [
            "Age : [56 32 65 31 60 43 45 38 18 39 48 61 54 64 41 19 44 24 55 63 23 29 28 49\n",
            " 30 37 51 27 59 62 21 33 58 25 26 50 46 22 36 53 34 40 35 42 57 47 52 20]\n",
            "Income (USD) : [1933.05 4952.91  988.19 ... 1606.88 2417.71 3068.24]\n",
            "Loan Amount Request (USD) : [ 72809.58  46837.47  45593.04 ...  81410.08 142524.1  156290.54]\n",
            "Current Loan Expenses (USD) : [241.08 495.81 171.95 ... 583.11 378.29 693.94]\n",
            "Dependents : [ 3.  1.  2. nan  4.  5.  8.  6.  7. 10. 14.]\n",
            "Credit Score : [809.44 780.4  833.15 ... 709.43 869.61 815.44]\n",
            "No. of Defaults : [0 1]\n",
            "Property ID : [746 608 546 890 715 491 227 314 241 883 325 196 678 578 500 458 395  68\n",
            " 739 499 413 908  89 640 694 566 479 344 424 514 581 854 147 681 164 157\n",
            "  43 245 740 530 575 467 217 421 270 279 563 956 852 400 415 161 816 250\n",
            " 457 191 783 953 942  94 113 918 121 107 917 743 459 758 568 305 483 384\n",
            " 986 609 502 990 477 692 915 600   7 137 992 870 673 210  27 858 835 675\n",
            " 436 434 662 604 184 460   1 993 521 838 955 356 414 839 817 945 274 211\n",
            " 476 347 634 593 235 980 976  69 934 272 189 128 939 456 936 964  75 218\n",
            " 233 768 785 366 249 244   9 741 643 465 901 844 242 195 970 762 929  19\n",
            " 420 275 601 904 322 425 247 769 429 773 213 791 825 637 614  92 954 461\n",
            "   4 348 849  22 618 363 379 378 402 984 441 737 342  36 537  31   6 819\n",
            " 185 172 726 724 519  39 932 823 513  93 644 466 313 472 525 707 635 811\n",
            "  11 781 787  52 355 721 288 911 156 615 534 895 573 538 950 957 556 306\n",
            " 226 320 666 765 294 237  77 751  98 243 127 515 508  10 789 828 251 579\n",
            " 657 790 202 703 848 961 722 755 225 386 886 881 104  48 359 493 463 827\n",
            " 183 842 706 362 110 602 449  91  85 529 376 793 586 775  72 772 972 492\n",
            " 821 361  17  80 331 407 824 938 260 928 150 319 308 764 698 134 592  44\n",
            " 411 365 797 333 197 345 438 543 754 843 190 382 330 496 200 267 771  57\n",
            " 296 804  41 632  26 510 952  62 470 670 159 290 192 158 523 920 178 444\n",
            " 891 212 442  40 430 418 569 204  45 983 509 596 352 273 343 921 174 639\n",
            " 518  60 626  30 188 397  97   8 766 619 880 631 814 577 278 863 332 565\n",
            " 443 598 745 958 867 887 417 522 770  96 405 486 729 276 119  46  95 148\n",
            " 393 377 809 868 391 625  51 370 163 239 176 622 357 716 665 991 742  32\n",
            " 812 799 606 385 232 280 949 708  66 725 654 446 439 636 167 559 295 526\n",
            " 584 807 897 866 876 482 803 231 520 193 392 149 691 638 433 937 966 709\n",
            " 914 810 173 130 350  28 126 381 671  15 451 139 527 321 560 187 266 209\n",
            " 485 869 612 373 132 784 719 889 146  79 335 668 710 685 367 206 576 712\n",
            " 228 971 490 747 841 981  25 160 503 912 428 124 265  63 123  88 544 574\n",
            " 580  18  81  53 933 532 383 700  70 484 761 315 617 497 336 874  34 800\n",
            " 230 387  64 603 696 224 718 995 899 641 136 153 106 655 269 426  50 447\n",
            "  16 264 372 118 412 898 109  49  42 782 427 423 682 468 919 252 652 169\n",
            " 686 713 517 951 730  20 354 599 727 223 749 524 138 948 879 875 170 339\n",
            " 846 732 629 551 462 155 594 564 323 480 229 667 646 346  84 689 557 979\n",
            " 647 129 905 595  24 935 181 450 833 471 408 234 903 946 289 855 481  56\n",
            " 464 969 794 307 151 941 399 317 504 135 542 723 271  78 695 177 516 453\n",
            " 240 996 349 999 554 318 340 780 410 963 437 808   5 302 329 978 253 877\n",
            " 750  38 114 180 974 913 201 916 677 813 198 364 779 310 162 165 316 679\n",
            " 847 488 630  13 309 277 303 221 998 236 697 125 906 736 962 994   2 806\n",
            " 744 100 293 199 536  35 432 473 968 649 611 140 561 498 738 717 777  59\n",
            " 893 776 752 409 145 605 216 131 871 368 714 583 474 763 394 144 818 553\n",
            "  67 798 699 829 550 748   3 152 419  58 792 360 582 862 680 805 501 922\n",
            " 731 704 246 902 822 759 214 650 965  55 103 873 628 205 263 687 540 248\n",
            " 931  21 369 261 416 656 616 856 257 256 672 539 203 571 778 469 401 658\n",
            "  74 179  33 864 186 860 326 371 324 528 115 872 281 207 222 238 786 262\n",
            " 533 924 690 925 733 304 141 757 684  99 642 300 774 587 767 653 105 297\n",
            " 111 865 143 851 973 977 258 659 440 431 220 182 122 947 756 406 959 255\n",
            "  14 674 676 795 455  76  61 985 535 623 171 292 834 664 620 375 422 358\n",
            " 926 101 120 987 720 390 900  37 512 669 857 796 194 286 555 487 102 208\n",
            " 894 988 507 505 910 735 389 531 967 562 975 549 960 259 154 452 506 311\n",
            " 142 859 801 175 398 215 494 590 548 117 116 380 997 607 627 930 495  82\n",
            "  87 404 826 850  65 511 660  83 613 133 944 621  23 648 572 291 112 702\n",
            " 454 840 108 328 853 585 475 353 888 445 610 298 907 558 351 403 885 588\n",
            " 909 166 820  71 327 982 753 254 802 688 624 388  12 301 831 591 334 338\n",
            " 882 570 287 478 282 633 547 552 284 341  54 337 489 861 705 845 312 927\n",
            " 541 837 989 728  29 815 219  47 285 832 884 896 545 268 943 701 711 693\n",
            " 589 435 683 830 168 396  90 940 299 651 923 878 788 892 661 283 567  73\n",
            " 734 448 374 760 645  86 597 663 836]\n",
            "Property Age : [1933.05 4952.91  988.19 ... 1606.88 2417.71 3068.24]\n",
            "Property Type : [4 2 1 3]\n",
            "Co-Applicant : [   1    0 -999]\n",
            "Property Price : [119933.46  54791.    72440.58 ... 102108.02 168194.47 194512.6 ]\n",
            "Loan Sanction Amount (USD) : [ 54607.18  37469.98  36474.43 ...  61057.56  99766.87 117217.9 ]\n"
          ],
          "name": "stdout"
        }
      ]
    },
    {
      "cell_type": "code",
      "metadata": {
        "colab": {
          "base_uri": "https://localhost:8080/",
          "height": 655
        },
        "id": "4pzvaHXHNHFk",
        "outputId": "ac7e6a3c-4274-49e8-d6f0-bcb96ae1d6b7"
      },
      "source": [
        "train[train['Co-Applicant']==-999]"
      ],
      "execution_count": 20,
      "outputs": [
        {
          "output_type": "execute_result",
          "data": {
            "text/html": [
              "<div>\n",
              "<style scoped>\n",
              "    .dataframe tbody tr th:only-of-type {\n",
              "        vertical-align: middle;\n",
              "    }\n",
              "\n",
              "    .dataframe tbody tr th {\n",
              "        vertical-align: top;\n",
              "    }\n",
              "\n",
              "    .dataframe thead th {\n",
              "        text-align: right;\n",
              "    }\n",
              "</style>\n",
              "<table border=\"1\" class=\"dataframe\">\n",
              "  <thead>\n",
              "    <tr style=\"text-align: right;\">\n",
              "      <th></th>\n",
              "      <th>Name</th>\n",
              "      <th>Gender</th>\n",
              "      <th>Age</th>\n",
              "      <th>Income (USD)</th>\n",
              "      <th>Income Stability</th>\n",
              "      <th>Profession</th>\n",
              "      <th>Type of Employment</th>\n",
              "      <th>Location</th>\n",
              "      <th>Loan Amount Request (USD)</th>\n",
              "      <th>Current Loan Expenses (USD)</th>\n",
              "      <th>Expense Type 1</th>\n",
              "      <th>Expense Type 2</th>\n",
              "      <th>Dependents</th>\n",
              "      <th>Credit Score</th>\n",
              "      <th>No. of Defaults</th>\n",
              "      <th>Has Active Credit Card</th>\n",
              "      <th>Property ID</th>\n",
              "      <th>Property Age</th>\n",
              "      <th>Property Type</th>\n",
              "      <th>Property Location</th>\n",
              "      <th>Co-Applicant</th>\n",
              "      <th>Property Price</th>\n",
              "      <th>Loan Sanction Amount (USD)</th>\n",
              "    </tr>\n",
              "  </thead>\n",
              "  <tbody>\n",
              "    <tr>\n",
              "      <th>62</th>\n",
              "      <td>Pam Messmer</td>\n",
              "      <td>M</td>\n",
              "      <td>51</td>\n",
              "      <td>1993.49</td>\n",
              "      <td>NaN</td>\n",
              "      <td>Working</td>\n",
              "      <td>Private service staff</td>\n",
              "      <td>Rural</td>\n",
              "      <td>97298.45</td>\n",
              "      <td>275.74</td>\n",
              "      <td>Y</td>\n",
              "      <td>Y</td>\n",
              "      <td>2.0</td>\n",
              "      <td>801.23</td>\n",
              "      <td>0</td>\n",
              "      <td>Active</td>\n",
              "      <td>94</td>\n",
              "      <td>1993.49</td>\n",
              "      <td>1</td>\n",
              "      <td>Urban</td>\n",
              "      <td>-999</td>\n",
              "      <td>157137.04</td>\n",
              "      <td>68108.91</td>\n",
              "    </tr>\n",
              "    <tr>\n",
              "      <th>98</th>\n",
              "      <td>Mendy Mcclean</td>\n",
              "      <td>M</td>\n",
              "      <td>18</td>\n",
              "      <td>1532.00</td>\n",
              "      <td>Low</td>\n",
              "      <td>Working</td>\n",
              "      <td>NaN</td>\n",
              "      <td>Semi-Urban</td>\n",
              "      <td>33819.92</td>\n",
              "      <td>170.24</td>\n",
              "      <td>Y</td>\n",
              "      <td>Y</td>\n",
              "      <td>4.0</td>\n",
              "      <td>682.04</td>\n",
              "      <td>0</td>\n",
              "      <td>Unpossessed</td>\n",
              "      <td>184</td>\n",
              "      <td>1532.00</td>\n",
              "      <td>4</td>\n",
              "      <td>Rural</td>\n",
              "      <td>-999</td>\n",
              "      <td>49033.50</td>\n",
              "      <td>21982.95</td>\n",
              "    </tr>\n",
              "    <tr>\n",
              "      <th>150</th>\n",
              "      <td>Yolonda Seeber</td>\n",
              "      <td>M</td>\n",
              "      <td>36</td>\n",
              "      <td>2142.63</td>\n",
              "      <td>Low</td>\n",
              "      <td>Working</td>\n",
              "      <td>Core staff</td>\n",
              "      <td>Semi-Urban</td>\n",
              "      <td>47814.96</td>\n",
              "      <td>261.43</td>\n",
              "      <td>N</td>\n",
              "      <td>Y</td>\n",
              "      <td>1.0</td>\n",
              "      <td>847.83</td>\n",
              "      <td>1</td>\n",
              "      <td>Inactive</td>\n",
              "      <td>762</td>\n",
              "      <td>2142.63</td>\n",
              "      <td>1</td>\n",
              "      <td>Rural</td>\n",
              "      <td>-999</td>\n",
              "      <td>83481.60</td>\n",
              "      <td>35861.22</td>\n",
              "    </tr>\n",
              "    <tr>\n",
              "      <th>812</th>\n",
              "      <td>Sparkle Reich</td>\n",
              "      <td>F</td>\n",
              "      <td>29</td>\n",
              "      <td>5213.26</td>\n",
              "      <td>Low</td>\n",
              "      <td>Commercial associate</td>\n",
              "      <td>Managers</td>\n",
              "      <td>Semi-Urban</td>\n",
              "      <td>91111.32</td>\n",
              "      <td>500.92</td>\n",
              "      <td>N</td>\n",
              "      <td>Y</td>\n",
              "      <td>3.0</td>\n",
              "      <td>707.24</td>\n",
              "      <td>0</td>\n",
              "      <td>Inactive</td>\n",
              "      <td>378</td>\n",
              "      <td>5213.26</td>\n",
              "      <td>2</td>\n",
              "      <td>Rural</td>\n",
              "      <td>-999</td>\n",
              "      <td>131613.08</td>\n",
              "      <td>63777.92</td>\n",
              "    </tr>\n",
              "    <tr>\n",
              "      <th>1077</th>\n",
              "      <td>Lizette Griffiths</td>\n",
              "      <td>F</td>\n",
              "      <td>50</td>\n",
              "      <td>NaN</td>\n",
              "      <td>NaN</td>\n",
              "      <td>Working</td>\n",
              "      <td>Managers</td>\n",
              "      <td>Semi-Urban</td>\n",
              "      <td>101100.43</td>\n",
              "      <td>728.76</td>\n",
              "      <td>N</td>\n",
              "      <td>Y</td>\n",
              "      <td>NaN</td>\n",
              "      <td>789.29</td>\n",
              "      <td>0</td>\n",
              "      <td>Unpossessed</td>\n",
              "      <td>427</td>\n",
              "      <td>NaN</td>\n",
              "      <td>4</td>\n",
              "      <td>Semi-Urban</td>\n",
              "      <td>-999</td>\n",
              "      <td>183182.50</td>\n",
              "      <td>70770.30</td>\n",
              "    </tr>\n",
              "    <tr>\n",
              "      <th>...</th>\n",
              "      <td>...</td>\n",
              "      <td>...</td>\n",
              "      <td>...</td>\n",
              "      <td>...</td>\n",
              "      <td>...</td>\n",
              "      <td>...</td>\n",
              "      <td>...</td>\n",
              "      <td>...</td>\n",
              "      <td>...</td>\n",
              "      <td>...</td>\n",
              "      <td>...</td>\n",
              "      <td>...</td>\n",
              "      <td>...</td>\n",
              "      <td>...</td>\n",
              "      <td>...</td>\n",
              "      <td>...</td>\n",
              "      <td>...</td>\n",
              "      <td>...</td>\n",
              "      <td>...</td>\n",
              "      <td>...</td>\n",
              "      <td>...</td>\n",
              "      <td>...</td>\n",
              "      <td>...</td>\n",
              "    </tr>\n",
              "    <tr>\n",
              "      <th>29312</th>\n",
              "      <td>Danica Andrzejewski</td>\n",
              "      <td>F</td>\n",
              "      <td>20</td>\n",
              "      <td>4489.91</td>\n",
              "      <td>Low</td>\n",
              "      <td>Commercial associate</td>\n",
              "      <td>High skill tech staff</td>\n",
              "      <td>Urban</td>\n",
              "      <td>351190.52</td>\n",
              "      <td>917.72</td>\n",
              "      <td>N</td>\n",
              "      <td>N</td>\n",
              "      <td>3.0</td>\n",
              "      <td>715.87</td>\n",
              "      <td>1</td>\n",
              "      <td>NaN</td>\n",
              "      <td>311</td>\n",
              "      <td>4489.91</td>\n",
              "      <td>4</td>\n",
              "      <td>Semi-Urban</td>\n",
              "      <td>-999</td>\n",
              "      <td>409300.71</td>\n",
              "      <td>245833.36</td>\n",
              "    </tr>\n",
              "    <tr>\n",
              "      <th>29531</th>\n",
              "      <td>Nannie Augusta</td>\n",
              "      <td>M</td>\n",
              "      <td>61</td>\n",
              "      <td>3705.62</td>\n",
              "      <td>Low</td>\n",
              "      <td>Commercial associate</td>\n",
              "      <td>NaN</td>\n",
              "      <td>Semi-Urban</td>\n",
              "      <td>43979.64</td>\n",
              "      <td>228.39</td>\n",
              "      <td>N</td>\n",
              "      <td>Y</td>\n",
              "      <td>2.0</td>\n",
              "      <td>697.78</td>\n",
              "      <td>0</td>\n",
              "      <td>Inactive</td>\n",
              "      <td>155</td>\n",
              "      <td>3705.62</td>\n",
              "      <td>4</td>\n",
              "      <td>Semi-Urban</td>\n",
              "      <td>-999</td>\n",
              "      <td>50269.41</td>\n",
              "      <td>30785.75</td>\n",
              "    </tr>\n",
              "    <tr>\n",
              "      <th>29611</th>\n",
              "      <td>Nikki Resto</td>\n",
              "      <td>F</td>\n",
              "      <td>41</td>\n",
              "      <td>4130.76</td>\n",
              "      <td>Low</td>\n",
              "      <td>Commercial associate</td>\n",
              "      <td>Laborers</td>\n",
              "      <td>Semi-Urban</td>\n",
              "      <td>220174.62</td>\n",
              "      <td>652.18</td>\n",
              "      <td>Y</td>\n",
              "      <td>Y</td>\n",
              "      <td>1.0</td>\n",
              "      <td>789.50</td>\n",
              "      <td>0</td>\n",
              "      <td>Active</td>\n",
              "      <td>645</td>\n",
              "      <td>4130.76</td>\n",
              "      <td>2</td>\n",
              "      <td>Rural</td>\n",
              "      <td>-999</td>\n",
              "      <td>307019.64</td>\n",
              "      <td>165130.96</td>\n",
              "    </tr>\n",
              "    <tr>\n",
              "      <th>29821</th>\n",
              "      <td>Lizette Pfarr</td>\n",
              "      <td>F</td>\n",
              "      <td>61</td>\n",
              "      <td>3509.29</td>\n",
              "      <td>Low</td>\n",
              "      <td>Working</td>\n",
              "      <td>Sales staff</td>\n",
              "      <td>Semi-Urban</td>\n",
              "      <td>70909.68</td>\n",
              "      <td>355.09</td>\n",
              "      <td>N</td>\n",
              "      <td>N</td>\n",
              "      <td>2.0</td>\n",
              "      <td>718.31</td>\n",
              "      <td>1</td>\n",
              "      <td>Active</td>\n",
              "      <td>189</td>\n",
              "      <td>3509.29</td>\n",
              "      <td>3</td>\n",
              "      <td>Urban</td>\n",
              "      <td>-999</td>\n",
              "      <td>-999.00</td>\n",
              "      <td>46091.29</td>\n",
              "    </tr>\n",
              "    <tr>\n",
              "      <th>29965</th>\n",
              "      <td>Haley Densmore</td>\n",
              "      <td>M</td>\n",
              "      <td>31</td>\n",
              "      <td>2503.23</td>\n",
              "      <td>Low</td>\n",
              "      <td>Working</td>\n",
              "      <td>Security staff</td>\n",
              "      <td>Urban</td>\n",
              "      <td>158190.02</td>\n",
              "      <td>726.25</td>\n",
              "      <td>Y</td>\n",
              "      <td>Y</td>\n",
              "      <td>2.0</td>\n",
              "      <td>852.12</td>\n",
              "      <td>1</td>\n",
              "      <td>Active</td>\n",
              "      <td>914</td>\n",
              "      <td>2503.23</td>\n",
              "      <td>4</td>\n",
              "      <td>Urban</td>\n",
              "      <td>-999</td>\n",
              "      <td>238992.24</td>\n",
              "      <td>118642.51</td>\n",
              "    </tr>\n",
              "  </tbody>\n",
              "</table>\n",
              "<p>168 rows × 23 columns</p>\n",
              "</div>"
            ],
            "text/plain": [
              "                      Name Gender  ...  Property Price  Loan Sanction Amount (USD)\n",
              "62             Pam Messmer      M  ...       157137.04                    68108.91\n",
              "98           Mendy Mcclean      M  ...        49033.50                    21982.95\n",
              "150         Yolonda Seeber      M  ...        83481.60                    35861.22\n",
              "812          Sparkle Reich      F  ...       131613.08                    63777.92\n",
              "1077     Lizette Griffiths      F  ...       183182.50                    70770.30\n",
              "...                    ...    ...  ...             ...                         ...\n",
              "29312  Danica Andrzejewski      F  ...       409300.71                   245833.36\n",
              "29531       Nannie Augusta      M  ...        50269.41                    30785.75\n",
              "29611          Nikki Resto      F  ...       307019.64                   165130.96\n",
              "29821        Lizette Pfarr      F  ...         -999.00                    46091.29\n",
              "29965       Haley Densmore      M  ...       238992.24                   118642.51\n",
              "\n",
              "[168 rows x 23 columns]"
            ]
          },
          "metadata": {
            "tags": []
          },
          "execution_count": 20
        }
      ]
    },
    {
      "cell_type": "code",
      "metadata": {
        "colab": {
          "base_uri": "https://localhost:8080/"
        },
        "id": "RmzghJZXXgo3",
        "outputId": "1c647b7d-eead-4ab0-f6fd-738c33025d1b"
      },
      "source": [
        "train['Name'].count()"
      ],
      "execution_count": 21,
      "outputs": [
        {
          "output_type": "execute_result",
          "data": {
            "text/plain": [
              "30000"
            ]
          },
          "metadata": {
            "tags": []
          },
          "execution_count": 21
        }
      ]
    },
    {
      "cell_type": "code",
      "metadata": {
        "colab": {
          "base_uri": "https://localhost:8080/",
          "height": 344
        },
        "id": "Dgj-QTAMKIT2",
        "outputId": "d599ce0c-d094-4b63-b996-c8e07b440980"
      },
      "source": [
        "sns.distplot(train['Loan Sanction Amount (USD)'])\n",
        "plt.show()"
      ],
      "execution_count": 22,
      "outputs": [
        {
          "output_type": "stream",
          "text": [
            "/usr/local/lib/python3.7/dist-packages/seaborn/distributions.py:2557: FutureWarning: `distplot` is a deprecated function and will be removed in a future version. Please adapt your code to use either `displot` (a figure-level function with similar flexibility) or `histplot` (an axes-level function for histograms).\n",
            "  warnings.warn(msg, FutureWarning)\n"
          ],
          "name": "stderr"
        },
        {
          "output_type": "display_data",
          "data": {
            "image/png": "[encoded data removed]",
            "text/plain": [
              "<Figure size 432x288 with 1 Axes>"
            ]
          },
          "metadata": {
            "tags": [],
            "needs_background": "light"
          }
        }
      ]
    },
    {
      "cell_type": "code",
      "metadata": {
        "colab": {
          "base_uri": "https://localhost:8080/",
          "height": 366
        },
        "id": "UJcT7Ex-K2mx",
        "outputId": "b64b751e-469f-484c-e35a-4b67ec3a5f2c"
      },
      "source": [
        "sns.distplot(np.log1p(train['Loan Sanction Amount (USD)']))\n",
        "plt.show()"
      ],
      "execution_count": 23,
      "outputs": [
        {
          "output_type": "stream",
          "text": [
            "/usr/local/lib/python3.7/dist-packages/pandas/core/series.py:726: RuntimeWarning: invalid value encountered in log1p\n",
            "  result = getattr(ufunc, method)(*inputs, **kwargs)\n",
            "/usr/local/lib/python3.7/dist-packages/seaborn/distributions.py:2557: FutureWarning: `distplot` is a deprecated function and will be removed in a future version. Please adapt your code to use either `displot` (a figure-level function with similar flexibility) or `histplot` (an axes-level function for histograms).\n",
            "  warnings.warn(msg, FutureWarning)\n"
          ],
          "name": "stderr"
        },
        {
          "output_type": "display_data",
          "data": {
            "image/png": "[encoded data removed]",
            "text/plain": [
              "<Figure size 432x288 with 1 Axes>"
            ]
          },
          "metadata": {
            "tags": [],
            "needs_background": "light"
          }
        }
      ]
    },
    {
      "cell_type": "code",
      "metadata": {
        "id": "H1P4oFl4LL9F",
        "colab": {
          "base_uri": "https://localhost:8080/"
        },
        "outputId": "c98f8dd2-764a-4d4c-9960-b422a9b140ac"
      },
      "source": [
        "#remove all columns having no values\n",
        "train.dropna(axis=1, how=\"all\", inplace=True)\n",
        "train.dropna(axis=0, how=\"all\", inplace=True)\n",
        "datashape(train)"
      ],
      "execution_count": 24,
      "outputs": [
        {
          "output_type": "stream",
          "text": [
            "The dataset contains  30000 rows and 23 columns.\n"
          ],
          "name": "stdout"
        }
      ]
    },
    {
      "cell_type": "code",
      "metadata": {
        "id": "dpGCqlR-YBvX"
      },
      "source": [
        "def fillNanValues(df, col, value):\n",
        "    df[col].fillna(value, inplace=True)"
      ],
      "execution_count": 25,
      "outputs": []
    },
    {
      "cell_type": "code",
      "metadata": {
        "colab": {
          "base_uri": "https://localhost:8080/"
        },
        "id": "WC7RUItMYHZ9",
        "outputId": "5643434b-7522-4172-a86d-921a368c7a76"
      },
      "source": [
        "train['Gender'].unique()"
      ],
      "execution_count": 26,
      "outputs": [
        {
          "output_type": "execute_result",
          "data": {
            "text/plain": [
              "array(['F', 'M', nan], dtype=object)"
            ]
          },
          "metadata": {
            "tags": []
          },
          "execution_count": 26
        }
      ]
    },
    {
      "cell_type": "code",
      "metadata": {
        "colab": {
          "base_uri": "https://localhost:8080/"
        },
        "id": "WfKswRDBZUEg",
        "outputId": "364f710d-add2-48db-c377-6ca64558b6bf"
      },
      "source": [
        "fillNanValues(train, 'Gender', train['Gender'].mode()[0])\n",
        "fillNanValues(test, 'Gender', test['Gender'].mode()[0])\n",
        "print(train['Gender'].isna().any())#any returns boolean values\n",
        "print(test['Gender'].isna().any())"
      ],
      "execution_count": 27,
      "outputs": [
        {
          "output_type": "stream",
          "text": [
            "False\n",
            "False\n"
          ],
          "name": "stdout"
        }
      ]
    },
    {
      "cell_type": "code",
      "metadata": {
        "colab": {
          "base_uri": "https://localhost:8080/"
        },
        "id": "vUupBVQhZf9f",
        "outputId": "6f93629a-1bdd-4592-814a-d244132f2b6b"
      },
      "source": [
        "train['Income Stability'].unique()"
      ],
      "execution_count": 28,
      "outputs": [
        {
          "output_type": "execute_result",
          "data": {
            "text/plain": [
              "array(['Low', 'High', nan], dtype=object)"
            ]
          },
          "metadata": {
            "tags": []
          },
          "execution_count": 28
        }
      ]
    },
    {
      "cell_type": "code",
      "metadata": {
        "colab": {
          "base_uri": "https://localhost:8080/"
        },
        "id": "DHfG6UoVZ5__",
        "outputId": "a15ff2bb-ab99-494a-bb57-103d01ca1d2e"
      },
      "source": [
        "fillNanValues(train, 'Income Stability', train['Income Stability'].mode()[0])\n",
        "fillNanValues(test, 'Income Stability', test['Income Stability'].mode()[0])\n",
        "print(train['Income Stability'].isna().any())#any returns boolean values\n",
        "print(test['Income Stability'].isna().any())"
      ],
      "execution_count": 29,
      "outputs": [
        {
          "output_type": "stream",
          "text": [
            "False\n",
            "False\n"
          ],
          "name": "stdout"
        }
      ]
    },
    {
      "cell_type": "code",
      "metadata": {
        "colab": {
          "base_uri": "https://localhost:8080/"
        },
        "id": "JeZJ_F2PaDiI",
        "outputId": "1955e2f5-512c-414f-a6e0-e4deff7fba92"
      },
      "source": [
        "train['Type of Employment'].unique()"
      ],
      "execution_count": 30,
      "outputs": [
        {
          "output_type": "execute_result",
          "data": {
            "text/plain": [
              "array(['Sales staff', nan, 'High skill tech staff', 'Secretaries',\n",
              "       'Laborers', 'Managers', 'Cooking staff', 'Core staff', 'Drivers',\n",
              "       'Realty agents', 'Security staff', 'Accountants',\n",
              "       'Private service staff', 'Waiters/barmen staff', 'Medicine staff',\n",
              "       'Cleaning staff', 'Low-skill Laborers', 'HR staff', 'IT staff'],\n",
              "      dtype=object)"
            ]
          },
          "metadata": {
            "tags": []
          },
          "execution_count": 30
        }
      ]
    },
    {
      "cell_type": "code",
      "metadata": {
        "colab": {
          "base_uri": "https://localhost:8080/"
        },
        "id": "Cfizj52oaZF5",
        "outputId": "999209b7-fb14-4001-9d47-4c068a2cb631"
      },
      "source": [
        "fillNanValues(train, 'Type of Employment', train['Type of Employment'].mode()[0])\n",
        "fillNanValues(test, 'Type of Employment', test['Type of Employment'].mode()[0])\n",
        "print(train['Type of Employment'].isna().any())#any returns boolean values\n",
        "print(test['Type of Employment'].isna().any())"
      ],
      "execution_count": 31,
      "outputs": [
        {
          "output_type": "stream",
          "text": [
            "False\n",
            "False\n"
          ],
          "name": "stdout"
        }
      ]
    },
    {
      "cell_type": "code",
      "metadata": {
        "colab": {
          "base_uri": "https://localhost:8080/"
        },
        "id": "bJmBHnkTaj6I",
        "outputId": "608c570f-75a1-4e48-91b7-b716d32f4304"
      },
      "source": [
        "train['Has Active Credit Card'].unique()"
      ],
      "execution_count": 32,
      "outputs": [
        {
          "output_type": "execute_result",
          "data": {
            "text/plain": [
              "array([nan, 'Unpossessed', 'Active', 'Inactive'], dtype=object)"
            ]
          },
          "metadata": {
            "tags": []
          },
          "execution_count": 32
        }
      ]
    },
    {
      "cell_type": "code",
      "metadata": {
        "colab": {
          "base_uri": "https://localhost:8080/"
        },
        "id": "30d8_iszawsb",
        "outputId": "cba9707c-bd88-4001-8108-fb85d19d188b"
      },
      "source": [
        "fillNanValues(train, 'Has Active Credit Card', train['Has Active Credit Card'].mode()[0])\n",
        "fillNanValues(test, 'Has Active Credit Card', test['Has Active Credit Card'].mode()[0])\n",
        "print(train['Has Active Credit Card'].isna().any())#any returns boolean values\n",
        "print(test['Has Active Credit Card'].isna().any())"
      ],
      "execution_count": 33,
      "outputs": [
        {
          "output_type": "stream",
          "text": [
            "False\n",
            "False\n"
          ],
          "name": "stdout"
        }
      ]
    },
    {
      "cell_type": "code",
      "metadata": {
        "colab": {
          "base_uri": "https://localhost:8080/"
        },
        "id": "or4DhaHSa8N6",
        "outputId": "d7e96539-1d42-45f6-9967-84ac49e192d0"
      },
      "source": [
        "train['Property Location'].unique()"
      ],
      "execution_count": 34,
      "outputs": [
        {
          "output_type": "execute_result",
          "data": {
            "text/plain": [
              "array(['Rural', 'Urban', 'Semi-Urban', nan], dtype=object)"
            ]
          },
          "metadata": {
            "tags": []
          },
          "execution_count": 34
        }
      ]
    },
    {
      "cell_type": "code",
      "metadata": {
        "colab": {
          "base_uri": "https://localhost:8080/"
        },
        "id": "aovQoeDwbPWN",
        "outputId": "dabcda32-cb28-4b78-be33-06310d4429ce"
      },
      "source": [
        "fillNanValues(train, 'Property Location', train['Property Location'].mode()[0])\n",
        "fillNanValues(test, 'Property Location', test['Property Location'].mode()[0])\n",
        "print(train['Property Location'].isna().any())#any returns boolean values\n",
        "print(test['Property Location'].isna().any())"
      ],
      "execution_count": 35,
      "outputs": [
        {
          "output_type": "stream",
          "text": [
            "False\n",
            "False\n"
          ],
          "name": "stdout"
        }
      ]
    },
    {
      "cell_type": "code",
      "metadata": {
        "colab": {
          "base_uri": "https://localhost:8080/"
        },
        "id": "aEbXJy5pbaf_",
        "outputId": "4bb5c969-2099-4c18-a92d-e3187c790f2d"
      },
      "source": [
        "train.isna().sum()"
      ],
      "execution_count": 36,
      "outputs": [
        {
          "output_type": "execute_result",
          "data": {
            "text/plain": [
              "Name                              0\n",
              "Gender                            0\n",
              "Age                               0\n",
              "Income (USD)                   4576\n",
              "Income Stability                  0\n",
              "Profession                        0\n",
              "Type of Employment                0\n",
              "Location                          0\n",
              "Loan Amount Request (USD)         0\n",
              "Current Loan Expenses (USD)     172\n",
              "Expense Type 1                    0\n",
              "Expense Type 2                    0\n",
              "Dependents                     2493\n",
              "Credit Score                   1703\n",
              "No. of Defaults                   0\n",
              "Has Active Credit Card            0\n",
              "Property ID                       0\n",
              "Property Age                   4850\n",
              "Property Type                     0\n",
              "Property Location                 0\n",
              "Co-Applicant                      0\n",
              "Property Price                    0\n",
              "Loan Sanction Amount (USD)      340\n",
              "dtype: int64"
            ]
          },
          "metadata": {
            "tags": []
          },
          "execution_count": 36
        }
      ]
    },
    {
      "cell_type": "code",
      "metadata": {
        "colab": {
          "base_uri": "https://localhost:8080/"
        },
        "id": "327hCijOc0vs",
        "outputId": "17f12777-1c2d-402a-a37f-f2460ee24991"
      },
      "source": [
        "train['Income (USD)'].unique()"
      ],
      "execution_count": 37,
      "outputs": [
        {
          "output_type": "execute_result",
          "data": {
            "text/plain": [
              "array([1933.05, 4952.91,  988.19, ..., 1606.88, 2417.71, 3068.24])"
            ]
          },
          "metadata": {
            "tags": []
          },
          "execution_count": 37
        }
      ]
    },
    {
      "cell_type": "code",
      "metadata": {
        "colab": {
          "base_uri": "https://localhost:8080/"
        },
        "id": "HI638waSeDgv",
        "outputId": "777a3682-606b-491f-ba3f-493af0d2d551"
      },
      "source": [
        "fillNanValues(train, 'Income (USD)', train['Income (USD)'].mean())\n",
        "fillNanValues(test, 'Income (USD)', test['Income (USD)'].mean())\n",
        "print(train['Income (USD)'].isna().any())#any returns boolean values\n",
        "print(test['Income (USD)'].isna().any())"
      ],
      "execution_count": 38,
      "outputs": [
        {
          "output_type": "stream",
          "text": [
            "False\n",
            "False\n"
          ],
          "name": "stdout"
        }
      ]
    },
    {
      "cell_type": "code",
      "metadata": {
        "colab": {
          "base_uri": "https://localhost:8080/"
        },
        "id": "rviGJAZFeUi7",
        "outputId": "91ea5ce2-065c-4398-b24b-7644e6c87515"
      },
      "source": [
        "train['Current Loan Expenses (USD)'].unique()"
      ],
      "execution_count": 39,
      "outputs": [
        {
          "output_type": "execute_result",
          "data": {
            "text/plain": [
              "array([241.08, 495.81, 171.95, ..., 583.11, 378.29, 693.94])"
            ]
          },
          "metadata": {
            "tags": []
          },
          "execution_count": 39
        }
      ]
    },
    {
      "cell_type": "code",
      "metadata": {
        "colab": {
          "base_uri": "https://localhost:8080/"
        },
        "id": "ANBHgpDHep4n",
        "outputId": "f4187f66-8152-40a4-e46b-76cbb0731a61"
      },
      "source": [
        "fillNanValues(train, 'Current Loan Expenses (USD)', train['Current Loan Expenses (USD)'].mean())\n",
        "fillNanValues(test, 'Current Loan Expenses (USD)', test['Current Loan Expenses (USD)'].mean())\n",
        "print(train['Current Loan Expenses (USD)'].isna().any())#any returns boolean values\n",
        "print(test['Current Loan Expenses (USD)'].isna().any())"
      ],
      "execution_count": 40,
      "outputs": [
        {
          "output_type": "stream",
          "text": [
            "False\n",
            "False\n"
          ],
          "name": "stdout"
        }
      ]
    },
    {
      "cell_type": "code",
      "metadata": {
        "colab": {
          "base_uri": "https://localhost:8080/"
        },
        "id": "qTm6SD_Me2nu",
        "outputId": "91876512-cf1e-42e2-877d-d0c3e1d3f88e"
      },
      "source": [
        "train['Dependents'].unique()"
      ],
      "execution_count": 41,
      "outputs": [
        {
          "output_type": "execute_result",
          "data": {
            "text/plain": [
              "array([ 3.,  1.,  2., nan,  4.,  5.,  8.,  6.,  7., 10., 14.])"
            ]
          },
          "metadata": {
            "tags": []
          },
          "execution_count": 41
        }
      ]
    },
    {
      "cell_type": "code",
      "metadata": {
        "colab": {
          "base_uri": "https://localhost:8080/"
        },
        "id": "2ECKS_1Fe-mT",
        "outputId": "f3decddf-4b37-4bea-9905-ba582d8be4d0"
      },
      "source": [
        "fillNanValues(train, 'Dependents', train['Dependents'].mean())\n",
        "fillNanValues(test, 'Dependents', test['Dependents'].mean())\n",
        "print(train['Dependents'].isna().any())#any returns boolean values\n",
        "print(test['Dependents'].isna().any())"
      ],
      "execution_count": 42,
      "outputs": [
        {
          "output_type": "stream",
          "text": [
            "False\n",
            "False\n"
          ],
          "name": "stdout"
        }
      ]
    },
    {
      "cell_type": "code",
      "metadata": {
        "colab": {
          "base_uri": "https://localhost:8080/"
        },
        "id": "8sdz82hDfL8B",
        "outputId": "52da98d8-957a-4041-b966-804ea085f24f"
      },
      "source": [
        "train['Credit Score'].unique()"
      ],
      "execution_count": 43,
      "outputs": [
        {
          "output_type": "execute_result",
          "data": {
            "text/plain": [
              "array([809.44, 780.4 , 833.15, ..., 709.43, 869.61, 815.44])"
            ]
          },
          "metadata": {
            "tags": []
          },
          "execution_count": 43
        }
      ]
    },
    {
      "cell_type": "code",
      "metadata": {
        "colab": {
          "base_uri": "https://localhost:8080/"
        },
        "id": "EhuabH1JfWCU",
        "outputId": "3b3338b8-e6a4-4e60-c0ca-d5dcd341bf0c"
      },
      "source": [
        "fillNanValues(train, 'Credit Score', train['Credit Score'].mean())\n",
        "fillNanValues(test, 'Credit Score', test['Credit Score'].mean())\n",
        "print(train['Credit Score'].isna().any())#any returns boolean values\n",
        "print(test['Credit Score'].isna().any())"
      ],
      "execution_count": 44,
      "outputs": [
        {
          "output_type": "stream",
          "text": [
            "False\n",
            "False\n"
          ],
          "name": "stdout"
        }
      ]
    },
    {
      "cell_type": "code",
      "metadata": {
        "colab": {
          "base_uri": "https://localhost:8080/"
        },
        "id": "1v9AXAYqff__",
        "outputId": "00da6143-b4ae-4c3f-8406-042237f76edb"
      },
      "source": [
        "train['Property Age'].unique()"
      ],
      "execution_count": 45,
      "outputs": [
        {
          "output_type": "execute_result",
          "data": {
            "text/plain": [
              "array([1933.05, 4952.91,  988.19, ..., 1606.88, 2417.71, 3068.24])"
            ]
          },
          "metadata": {
            "tags": []
          },
          "execution_count": 45
        }
      ]
    },
    {
      "cell_type": "code",
      "metadata": {
        "colab": {
          "base_uri": "https://localhost:8080/"
        },
        "id": "xB1h9S2Afomh",
        "outputId": "eaeaa88b-af74-4cb6-8cbb-bd276a9dda37"
      },
      "source": [
        "fillNanValues(train, 'Property Age', train['Property Age'].mean())\n",
        "fillNanValues(test, 'Property Age', test['Property Age'].mean())\n",
        "print(train['Property Age'].isna().any())#any returns boolean values\n",
        "print(test['Property Age'].isna().any())"
      ],
      "execution_count": 46,
      "outputs": [
        {
          "output_type": "stream",
          "text": [
            "False\n",
            "False\n"
          ],
          "name": "stdout"
        }
      ]
    },
    {
      "cell_type": "code",
      "metadata": {
        "colab": {
          "base_uri": "https://localhost:8080/"
        },
        "id": "1d9_j5a0fx86",
        "outputId": "fabfe5e8-7cb0-4754-e8ec-1016df6ef66a"
      },
      "source": [
        "train['Loan Sanction Amount (USD)'].unique()"
      ],
      "execution_count": 47,
      "outputs": [
        {
          "output_type": "execute_result",
          "data": {
            "text/plain": [
              "array([ 54607.18,  37469.98,  36474.43, ...,  61057.56,  99766.87,\n",
              "       117217.9 ])"
            ]
          },
          "metadata": {
            "tags": []
          },
          "execution_count": 47
        }
      ]
    },
    {
      "cell_type": "code",
      "metadata": {
        "colab": {
          "base_uri": "https://localhost:8080/"
        },
        "id": "UYC6pgtwf6Vz",
        "outputId": "7e5c251a-d4b2-4163-e114-be49a259c643"
      },
      "source": [
        "fillNanValues(train, 'Loan Sanction Amount (USD)', train['Loan Sanction Amount (USD)'].mean())\n",
        "#fillNanValues(test, 'Loan Sanction Amount (USD)', test['Loan Sanction Amount (USD)'].mean())\n",
        "print(train['Loan Sanction Amount (USD)'].isna().any())#any returns boolean values\n",
        "#print(test['Loan Sanction Amount (USD)'].isna().any())"
      ],
      "execution_count": 48,
      "outputs": [
        {
          "output_type": "stream",
          "text": [
            "False\n"
          ],
          "name": "stdout"
        }
      ]
    },
    {
      "cell_type": "code",
      "metadata": {
        "colab": {
          "base_uri": "https://localhost:8080/"
        },
        "id": "DFPg3rD-hBnS",
        "outputId": "2dd4c8c8-8682-42d9-950d-2ee09a8cd988"
      },
      "source": [
        "# setting missing values to most occurring values\n",
        "train['Co-Applicant'] = train['Co-Applicant'].apply(lambda x:0 if x == -999 else x)\n",
        "test['Co-Applicant'] = test['Co-Applicant'].apply(lambda x:0 if x == -999 else x)\n",
        "train['Co-Applicant'].unique()"
      ],
      "execution_count": 49,
      "outputs": [
        {
          "output_type": "execute_result",
          "data": {
            "text/plain": [
              "array([1, 0])"
            ]
          },
          "metadata": {
            "tags": []
          },
          "execution_count": 49
        }
      ]
    },
    {
      "cell_type": "code",
      "metadata": {
        "colab": {
          "base_uri": "https://localhost:8080/"
        },
        "id": "d_2MmTmlgGGt",
        "outputId": "13bfbed8-d91e-4502-c32e-1a6a6b168115"
      },
      "source": [
        "train.isna().sum()"
      ],
      "execution_count": 50,
      "outputs": [
        {
          "output_type": "execute_result",
          "data": {
            "text/plain": [
              "Name                           0\n",
              "Gender                         0\n",
              "Age                            0\n",
              "Income (USD)                   0\n",
              "Income Stability               0\n",
              "Profession                     0\n",
              "Type of Employment             0\n",
              "Location                       0\n",
              "Loan Amount Request (USD)      0\n",
              "Current Loan Expenses (USD)    0\n",
              "Expense Type 1                 0\n",
              "Expense Type 2                 0\n",
              "Dependents                     0\n",
              "Credit Score                   0\n",
              "No. of Defaults                0\n",
              "Has Active Credit Card         0\n",
              "Property ID                    0\n",
              "Property Age                   0\n",
              "Property Type                  0\n",
              "Property Location              0\n",
              "Co-Applicant                   0\n",
              "Property Price                 0\n",
              "Loan Sanction Amount (USD)     0\n",
              "dtype: int64"
            ]
          },
          "metadata": {
            "tags": []
          },
          "execution_count": 50
        }
      ]
    },
    {
      "cell_type": "code",
      "metadata": {
        "colab": {
          "base_uri": "https://localhost:8080/"
        },
        "id": "PMcbn-X4gbvz",
        "outputId": "91b122c3-b2be-4cde-a864-3fb5116099ab"
      },
      "source": [
        "test.isna().sum()"
      ],
      "execution_count": 51,
      "outputs": [
        {
          "output_type": "execute_result",
          "data": {
            "text/plain": [
              "Customer ID                    0\n",
              "Name                           0\n",
              "Gender                         0\n",
              "Age                            0\n",
              "Income (USD)                   0\n",
              "Income Stability               0\n",
              "Profession                     0\n",
              "Type of Employment             0\n",
              "Location                       0\n",
              "Loan Amount Request (USD)      0\n",
              "Current Loan Expenses (USD)    0\n",
              "Expense Type 1                 0\n",
              "Expense Type 2                 0\n",
              "Dependents                     0\n",
              "Credit Score                   0\n",
              "No. of Defaults                0\n",
              "Has Active Credit Card         0\n",
              "Property ID                    0\n",
              "Property Age                   0\n",
              "Property Type                  0\n",
              "Property Location              0\n",
              "Co-Applicant                   0\n",
              "Property Price                 0\n",
              "dtype: int64"
            ]
          },
          "metadata": {
            "tags": []
          },
          "execution_count": 51
        }
      ]
    },
    {
      "cell_type": "code",
      "metadata": {
        "colab": {
          "base_uri": "https://localhost:8080/"
        },
        "id": "x8WVsSVTiObk",
        "outputId": "ee9596bc-f7d5-4ed4-fbbc-37c7c81f2fa3"
      },
      "source": [
        "categorical_data.columns"
      ],
      "execution_count": 52,
      "outputs": [
        {
          "output_type": "execute_result",
          "data": {
            "text/plain": [
              "Index(['Name', 'Gender', 'Income Stability', 'Profession',\n",
              "       'Type of Employment', 'Location', 'Expense Type 1', 'Expense Type 2',\n",
              "       'Has Active Credit Card', 'Property Location'],\n",
              "      dtype='object')"
            ]
          },
          "metadata": {
            "tags": []
          },
          "execution_count": 52
        }
      ]
    },
    {
      "cell_type": "code",
      "metadata": {
        "colab": {
          "base_uri": "https://localhost:8080/"
        },
        "id": "CFPQzEzgiaFl",
        "outputId": "35b13f5e-1879-4a94-886b-a9f07568f5d9"
      },
      "source": [
        "continuous_data.columns"
      ],
      "execution_count": 53,
      "outputs": [
        {
          "output_type": "execute_result",
          "data": {
            "text/plain": [
              "Index(['Age', 'Income (USD)', 'Loan Amount Request (USD)',\n",
              "       'Current Loan Expenses (USD)', 'Dependents', 'Credit Score',\n",
              "       'No. of Defaults', 'Property ID', 'Property Age', 'Property Type',\n",
              "       'Co-Applicant', 'Property Price', 'Loan Sanction Amount (USD)'],\n",
              "      dtype='object')"
            ]
          },
          "metadata": {
            "tags": []
          },
          "execution_count": 53
        }
      ]
    },
    {
      "cell_type": "code",
      "metadata": {
        "id": "jASICGK3aZJH"
      },
      "source": [
        "# train['Loan Sanction Amount (USD)'] = train['Loan Sanction Amount (USD)'].abs()"
      ],
      "execution_count": 54,
      "outputs": []
    },
    {
      "cell_type": "code",
      "metadata": {
        "id": "_d2CxUvfaueI"
      },
      "source": [
        "# train['Loan Sanction Amount (USD)'] = np.log1p(train['Loan Sanction Amount (USD)'])"
      ],
      "execution_count": 55,
      "outputs": []
    },
    {
      "cell_type": "code",
      "metadata": {
        "colab": {
          "base_uri": "https://localhost:8080/",
          "height": 358
        },
        "id": "5GPtbWdFajho",
        "outputId": "9520544e-0eae-4d8e-cc53-8f8bf4fb12ac"
      },
      "source": [
        "train.head()"
      ],
      "execution_count": 56,
      "outputs": [
        {
          "output_type": "execute_result",
          "data": {
            "text/html": [
              "<div>\n",
              "<style scoped>\n",
              "    .dataframe tbody tr th:only-of-type {\n",
              "        vertical-align: middle;\n",
              "    }\n",
              "\n",
              "    .dataframe tbody tr th {\n",
              "        vertical-align: top;\n",
              "    }\n",
              "\n",
              "    .dataframe thead th {\n",
              "        text-align: right;\n",
              "    }\n",
              "</style>\n",
              "<table border=\"1\" class=\"dataframe\">\n",
              "  <thead>\n",
              "    <tr style=\"text-align: right;\">\n",
              "      <th></th>\n",
              "      <th>Name</th>\n",
              "      <th>Gender</th>\n",
              "      <th>Age</th>\n",
              "      <th>Income (USD)</th>\n",
              "      <th>Income Stability</th>\n",
              "      <th>Profession</th>\n",
              "      <th>Type of Employment</th>\n",
              "      <th>Location</th>\n",
              "      <th>Loan Amount Request (USD)</th>\n",
              "      <th>Current Loan Expenses (USD)</th>\n",
              "      <th>Expense Type 1</th>\n",
              "      <th>Expense Type 2</th>\n",
              "      <th>Dependents</th>\n",
              "      <th>Credit Score</th>\n",
              "      <th>No. of Defaults</th>\n",
              "      <th>Has Active Credit Card</th>\n",
              "      <th>Property ID</th>\n",
              "      <th>Property Age</th>\n",
              "      <th>Property Type</th>\n",
              "      <th>Property Location</th>\n",
              "      <th>Co-Applicant</th>\n",
              "      <th>Property Price</th>\n",
              "      <th>Loan Sanction Amount (USD)</th>\n",
              "    </tr>\n",
              "  </thead>\n",
              "  <tbody>\n",
              "    <tr>\n",
              "      <th>0</th>\n",
              "      <td>Frederica Shealy</td>\n",
              "      <td>F</td>\n",
              "      <td>56</td>\n",
              "      <td>1933.050000</td>\n",
              "      <td>Low</td>\n",
              "      <td>Working</td>\n",
              "      <td>Sales staff</td>\n",
              "      <td>Semi-Urban</td>\n",
              "      <td>72809.58</td>\n",
              "      <td>241.08</td>\n",
              "      <td>N</td>\n",
              "      <td>N</td>\n",
              "      <td>3.000000</td>\n",
              "      <td>809.44</td>\n",
              "      <td>0</td>\n",
              "      <td>Active</td>\n",
              "      <td>746</td>\n",
              "      <td>1933.05000</td>\n",
              "      <td>4</td>\n",
              "      <td>Rural</td>\n",
              "      <td>1</td>\n",
              "      <td>119933.46</td>\n",
              "      <td>54607.18</td>\n",
              "    </tr>\n",
              "    <tr>\n",
              "      <th>1</th>\n",
              "      <td>America Calderone</td>\n",
              "      <td>M</td>\n",
              "      <td>32</td>\n",
              "      <td>4952.910000</td>\n",
              "      <td>Low</td>\n",
              "      <td>Working</td>\n",
              "      <td>Laborers</td>\n",
              "      <td>Semi-Urban</td>\n",
              "      <td>46837.47</td>\n",
              "      <td>495.81</td>\n",
              "      <td>N</td>\n",
              "      <td>Y</td>\n",
              "      <td>1.000000</td>\n",
              "      <td>780.40</td>\n",
              "      <td>0</td>\n",
              "      <td>Unpossessed</td>\n",
              "      <td>608</td>\n",
              "      <td>4952.91000</td>\n",
              "      <td>2</td>\n",
              "      <td>Rural</td>\n",
              "      <td>1</td>\n",
              "      <td>54791.00</td>\n",
              "      <td>37469.98</td>\n",
              "    </tr>\n",
              "    <tr>\n",
              "      <th>2</th>\n",
              "      <td>Rosetta Verne</td>\n",
              "      <td>F</td>\n",
              "      <td>65</td>\n",
              "      <td>988.190000</td>\n",
              "      <td>High</td>\n",
              "      <td>Pensioner</td>\n",
              "      <td>Laborers</td>\n",
              "      <td>Semi-Urban</td>\n",
              "      <td>45593.04</td>\n",
              "      <td>171.95</td>\n",
              "      <td>N</td>\n",
              "      <td>Y</td>\n",
              "      <td>1.000000</td>\n",
              "      <td>833.15</td>\n",
              "      <td>0</td>\n",
              "      <td>Unpossessed</td>\n",
              "      <td>546</td>\n",
              "      <td>988.19000</td>\n",
              "      <td>2</td>\n",
              "      <td>Urban</td>\n",
              "      <td>0</td>\n",
              "      <td>72440.58</td>\n",
              "      <td>36474.43</td>\n",
              "    </tr>\n",
              "    <tr>\n",
              "      <th>3</th>\n",
              "      <td>Zoe Chitty</td>\n",
              "      <td>F</td>\n",
              "      <td>65</td>\n",
              "      <td>2630.574417</td>\n",
              "      <td>High</td>\n",
              "      <td>Pensioner</td>\n",
              "      <td>Laborers</td>\n",
              "      <td>Rural</td>\n",
              "      <td>80057.92</td>\n",
              "      <td>298.54</td>\n",
              "      <td>N</td>\n",
              "      <td>Y</td>\n",
              "      <td>2.000000</td>\n",
              "      <td>832.70</td>\n",
              "      <td>1</td>\n",
              "      <td>Unpossessed</td>\n",
              "      <td>890</td>\n",
              "      <td>2631.11944</td>\n",
              "      <td>2</td>\n",
              "      <td>Semi-Urban</td>\n",
              "      <td>1</td>\n",
              "      <td>121441.51</td>\n",
              "      <td>56040.54</td>\n",
              "    </tr>\n",
              "    <tr>\n",
              "      <th>4</th>\n",
              "      <td>Afton Venema</td>\n",
              "      <td>F</td>\n",
              "      <td>31</td>\n",
              "      <td>2614.770000</td>\n",
              "      <td>Low</td>\n",
              "      <td>Working</td>\n",
              "      <td>High skill tech staff</td>\n",
              "      <td>Semi-Urban</td>\n",
              "      <td>113858.89</td>\n",
              "      <td>491.41</td>\n",
              "      <td>N</td>\n",
              "      <td>Y</td>\n",
              "      <td>2.253027</td>\n",
              "      <td>745.55</td>\n",
              "      <td>1</td>\n",
              "      <td>Active</td>\n",
              "      <td>715</td>\n",
              "      <td>2614.77000</td>\n",
              "      <td>4</td>\n",
              "      <td>Semi-Urban</td>\n",
              "      <td>1</td>\n",
              "      <td>208567.91</td>\n",
              "      <td>74008.28</td>\n",
              "    </tr>\n",
              "  </tbody>\n",
              "</table>\n",
              "</div>"
            ],
            "text/plain": [
              "                Name Gender  ...  Property Price  Loan Sanction Amount (USD)\n",
              "0   Frederica Shealy      F  ...       119933.46                    54607.18\n",
              "1  America Calderone      M  ...        54791.00                    37469.98\n",
              "2      Rosetta Verne      F  ...        72440.58                    36474.43\n",
              "3         Zoe Chitty      F  ...       121441.51                    56040.54\n",
              "4       Afton Venema      F  ...       208567.91                    74008.28\n",
              "\n",
              "[5 rows x 23 columns]"
            ]
          },
          "metadata": {
            "tags": []
          },
          "execution_count": 56
        }
      ]
    },
    {
      "cell_type": "code",
      "metadata": {
        "id": "RSkEXET9UEwv"
      },
      "source": [
        "train.drop('Name',axis=1,inplace=True)"
      ],
      "execution_count": 57,
      "outputs": []
    },
    {
      "cell_type": "code",
      "metadata": {
        "id": "LIshbIrESvFe"
      },
      "source": [
        "test.drop('Name',axis=1,inplace=True)"
      ],
      "execution_count": 58,
      "outputs": []
    },
    {
      "cell_type": "code",
      "metadata": {
        "id": "IoYKvxeTZM-7"
      },
      "source": [
        "continuous_data, categorical_data = divideFeatures(train)"
      ],
      "execution_count": 59,
      "outputs": []
    },
    {
      "cell_type": "code",
      "metadata": {
        "id": "W7vY1lLsUgXU"
      },
      "source": [
        "from sklearn.preprocessing import LabelEncoder, StandardScaler\n",
        "le = LabelEncoder()\n",
        "label_columns=categorical_data.columns\n",
        "\n",
        "for label_column in label_columns:\n",
        "    train[label_column] = le.fit_transform(train[label_column])"
      ],
      "execution_count": 60,
      "outputs": []
    },
    {
      "cell_type": "code",
      "metadata": {
        "id": "AzQ83PD2Sz2F"
      },
      "source": [
        "continuous_data, categorical_data = divideFeatures(test)"
      ],
      "execution_count": 61,
      "outputs": []
    },
    {
      "cell_type": "code",
      "metadata": {
        "colab": {
          "base_uri": "https://localhost:8080/",
          "height": 192
        },
        "id": "jLeu75v5TMMq",
        "outputId": "45cec26a-babd-4832-dd1f-d48c2803637e"
      },
      "source": [
        "categorical_data[:3]"
      ],
      "execution_count": 62,
      "outputs": [
        {
          "output_type": "execute_result",
          "data": {
            "text/html": [
              "<div>\n",
              "<style scoped>\n",
              "    .dataframe tbody tr th:only-of-type {\n",
              "        vertical-align: middle;\n",
              "    }\n",
              "\n",
              "    .dataframe tbody tr th {\n",
              "        vertical-align: top;\n",
              "    }\n",
              "\n",
              "    .dataframe thead th {\n",
              "        text-align: right;\n",
              "    }\n",
              "</style>\n",
              "<table border=\"1\" class=\"dataframe\">\n",
              "  <thead>\n",
              "    <tr style=\"text-align: right;\">\n",
              "      <th></th>\n",
              "      <th>Customer ID</th>\n",
              "      <th>Gender</th>\n",
              "      <th>Income Stability</th>\n",
              "      <th>Profession</th>\n",
              "      <th>Type of Employment</th>\n",
              "      <th>Location</th>\n",
              "      <th>Expense Type 1</th>\n",
              "      <th>Expense Type 2</th>\n",
              "      <th>Has Active Credit Card</th>\n",
              "      <th>Property Location</th>\n",
              "      <th>Co-Applicant</th>\n",
              "      <th>Property Price</th>\n",
              "    </tr>\n",
              "  </thead>\n",
              "  <tbody>\n",
              "    <tr>\n",
              "      <th>0</th>\n",
              "      <td>C-26247</td>\n",
              "      <td>F</td>\n",
              "      <td>Low</td>\n",
              "      <td>Commercial associate</td>\n",
              "      <td>Managers</td>\n",
              "      <td>Semi-Urban</td>\n",
              "      <td>N</td>\n",
              "      <td>N</td>\n",
              "      <td>Unpossessed</td>\n",
              "      <td>Urban</td>\n",
              "      <td>1</td>\n",
              "      <td>236644.5</td>\n",
              "    </tr>\n",
              "    <tr>\n",
              "      <th>1</th>\n",
              "      <td>C-35067</td>\n",
              "      <td>F</td>\n",
              "      <td>Low</td>\n",
              "      <td>Working</td>\n",
              "      <td>Sales staff</td>\n",
              "      <td>Rural</td>\n",
              "      <td>Y</td>\n",
              "      <td>Y</td>\n",
              "      <td>Unpossessed</td>\n",
              "      <td>Rural</td>\n",
              "      <td>1</td>\n",
              "      <td>142357.3</td>\n",
              "    </tr>\n",
              "    <tr>\n",
              "      <th>2</th>\n",
              "      <td>C-34590</td>\n",
              "      <td>F</td>\n",
              "      <td>Low</td>\n",
              "      <td>Working</td>\n",
              "      <td>Laborers</td>\n",
              "      <td>Semi-Urban</td>\n",
              "      <td>N</td>\n",
              "      <td>Y</td>\n",
              "      <td>Unpossessed</td>\n",
              "      <td>Urban</td>\n",
              "      <td>1</td>\n",
              "      <td>300991.24</td>\n",
              "    </tr>\n",
              "  </tbody>\n",
              "</table>\n",
              "</div>"
            ],
            "text/plain": [
              "  Customer ID Gender  ... Co-Applicant Property Price\n",
              "0     C-26247      F  ...            1       236644.5\n",
              "1     C-35067      F  ...            1       142357.3\n",
              "2     C-34590      F  ...            1      300991.24\n",
              "\n",
              "[3 rows x 12 columns]"
            ]
          },
          "metadata": {
            "tags": []
          },
          "execution_count": 62
        }
      ]
    },
    {
      "cell_type": "code",
      "metadata": {
        "id": "Ojkcunx5TLob"
      },
      "source": [
        "label_columns=categorical_data.columns\n",
        "\n",
        "for label_column in label_columns:\n",
        "    test[label_column] = le.fit_transform(test[label_column])"
      ],
      "execution_count": 63,
      "outputs": []
    },
    {
      "cell_type": "code",
      "metadata": {
        "colab": {
          "base_uri": "https://localhost:8080/",
          "height": 274
        },
        "id": "jwtkiaIvTTbL",
        "outputId": "ad623d8d-e375-492e-ab94-0eb7ff4f531e"
      },
      "source": [
        "test.head()"
      ],
      "execution_count": 64,
      "outputs": [
        {
          "output_type": "execute_result",
          "data": {
            "text/html": [
              "<div>\n",
              "<style scoped>\n",
              "    .dataframe tbody tr th:only-of-type {\n",
              "        vertical-align: middle;\n",
              "    }\n",
              "\n",
              "    .dataframe tbody tr th {\n",
              "        vertical-align: top;\n",
              "    }\n",
              "\n",
              "    .dataframe thead th {\n",
              "        text-align: right;\n",
              "    }\n",
              "</style>\n",
              "<table border=\"1\" class=\"dataframe\">\n",
              "  <thead>\n",
              "    <tr style=\"text-align: right;\">\n",
              "      <th></th>\n",
              "      <th>Customer ID</th>\n",
              "      <th>Gender</th>\n",
              "      <th>Age</th>\n",
              "      <th>Income (USD)</th>\n",
              "      <th>Income Stability</th>\n",
              "      <th>Profession</th>\n",
              "      <th>Type of Employment</th>\n",
              "      <th>Location</th>\n",
              "      <th>Loan Amount Request (USD)</th>\n",
              "      <th>Current Loan Expenses (USD)</th>\n",
              "      <th>Expense Type 1</th>\n",
              "      <th>Expense Type 2</th>\n",
              "      <th>Dependents</th>\n",
              "      <th>Credit Score</th>\n",
              "      <th>No. of Defaults</th>\n",
              "      <th>Has Active Credit Card</th>\n",
              "      <th>Property ID</th>\n",
              "      <th>Property Age</th>\n",
              "      <th>Property Type</th>\n",
              "      <th>Property Location</th>\n",
              "      <th>Co-Applicant</th>\n",
              "      <th>Property Price</th>\n",
              "    </tr>\n",
              "  </thead>\n",
              "  <tbody>\n",
              "    <tr>\n",
              "      <th>0</th>\n",
              "      <td>7177</td>\n",
              "      <td>0</td>\n",
              "      <td>47</td>\n",
              "      <td>3472.69</td>\n",
              "      <td>1</td>\n",
              "      <td>0</td>\n",
              "      <td>10</td>\n",
              "      <td>1</td>\n",
              "      <td>137088.98</td>\n",
              "      <td>396.72</td>\n",
              "      <td>0</td>\n",
              "      <td>0</td>\n",
              "      <td>2.000000</td>\n",
              "      <td>799.140000</td>\n",
              "      <td>0</td>\n",
              "      <td>2</td>\n",
              "      <td>843</td>\n",
              "      <td>3472.69</td>\n",
              "      <td>2</td>\n",
              "      <td>2</td>\n",
              "      <td>1</td>\n",
              "      <td>8784</td>\n",
              "    </tr>\n",
              "    <tr>\n",
              "      <th>1</th>\n",
              "      <td>11050</td>\n",
              "      <td>0</td>\n",
              "      <td>57</td>\n",
              "      <td>1184.84</td>\n",
              "      <td>1</td>\n",
              "      <td>6</td>\n",
              "      <td>14</td>\n",
              "      <td>0</td>\n",
              "      <td>104771.59</td>\n",
              "      <td>463.76</td>\n",
              "      <td>1</td>\n",
              "      <td>1</td>\n",
              "      <td>2.000000</td>\n",
              "      <td>833.310000</td>\n",
              "      <td>0</td>\n",
              "      <td>2</td>\n",
              "      <td>22</td>\n",
              "      <td>1184.84</td>\n",
              "      <td>1</td>\n",
              "      <td>0</td>\n",
              "      <td>1</td>\n",
              "      <td>3774</td>\n",
              "    </tr>\n",
              "    <tr>\n",
              "      <th>2</th>\n",
              "      <td>10839</td>\n",
              "      <td>0</td>\n",
              "      <td>52</td>\n",
              "      <td>1266.27</td>\n",
              "      <td>1</td>\n",
              "      <td>6</td>\n",
              "      <td>8</td>\n",
              "      <td>1</td>\n",
              "      <td>176684.91</td>\n",
              "      <td>493.15</td>\n",
              "      <td>0</td>\n",
              "      <td>1</td>\n",
              "      <td>3.000000</td>\n",
              "      <td>627.440000</td>\n",
              "      <td>0</td>\n",
              "      <td>2</td>\n",
              "      <td>1</td>\n",
              "      <td>1266.27</td>\n",
              "      <td>1</td>\n",
              "      <td>2</td>\n",
              "      <td>1</td>\n",
              "      <td>10652</td>\n",
              "    </tr>\n",
              "    <tr>\n",
              "      <th>3</th>\n",
              "      <td>2967</td>\n",
              "      <td>1</td>\n",
              "      <td>65</td>\n",
              "      <td>1369.72</td>\n",
              "      <td>0</td>\n",
              "      <td>2</td>\n",
              "      <td>8</td>\n",
              "      <td>0</td>\n",
              "      <td>97009.18</td>\n",
              "      <td>446.15</td>\n",
              "      <td>0</td>\n",
              "      <td>1</td>\n",
              "      <td>2.000000</td>\n",
              "      <td>833.200000</td>\n",
              "      <td>0</td>\n",
              "      <td>1</td>\n",
              "      <td>730</td>\n",
              "      <td>1369.72</td>\n",
              "      <td>1</td>\n",
              "      <td>1</td>\n",
              "      <td>0</td>\n",
              "      <td>2432</td>\n",
              "    </tr>\n",
              "    <tr>\n",
              "      <th>4</th>\n",
              "      <td>993</td>\n",
              "      <td>0</td>\n",
              "      <td>60</td>\n",
              "      <td>1939.23</td>\n",
              "      <td>0</td>\n",
              "      <td>2</td>\n",
              "      <td>8</td>\n",
              "      <td>2</td>\n",
              "      <td>109980.00</td>\n",
              "      <td>370.10</td>\n",
              "      <td>0</td>\n",
              "      <td>0</td>\n",
              "      <td>2.251246</td>\n",
              "      <td>738.821538</td>\n",
              "      <td>0</td>\n",
              "      <td>0</td>\n",
              "      <td>356</td>\n",
              "      <td>1939.23</td>\n",
              "      <td>4</td>\n",
              "      <td>1</td>\n",
              "      <td>1</td>\n",
              "      <td>6266</td>\n",
              "    </tr>\n",
              "  </tbody>\n",
              "</table>\n",
              "</div>"
            ],
            "text/plain": [
              "   Customer ID  Gender  Age  ...  Property Location  Co-Applicant  Property Price\n",
              "0         7177       0   47  ...                  2             1            8784\n",
              "1        11050       0   57  ...                  0             1            3774\n",
              "2        10839       0   52  ...                  2             1           10652\n",
              "3         2967       1   65  ...                  1             0            2432\n",
              "4          993       0   60  ...                  1             1            6266\n",
              "\n",
              "[5 rows x 22 columns]"
            ]
          },
          "metadata": {
            "tags": []
          },
          "execution_count": 64
        }
      ]
    },
    {
      "cell_type": "code",
      "metadata": {
        "id": "KiWKXylSTYJF"
      },
      "source": [
        "test.drop('Customer ID',axis=1,inplace=True)"
      ],
      "execution_count": 65,
      "outputs": []
    },
    {
      "cell_type": "code",
      "metadata": {
        "colab": {
          "base_uri": "https://localhost:8080/",
          "height": 274
        },
        "id": "9Ss3QIO0UP5D",
        "outputId": "0a0996d2-14e2-42bf-9c7d-5ac68d960855"
      },
      "source": [
        "train.head()"
      ],
      "execution_count": 66,
      "outputs": [
        {
          "output_type": "execute_result",
          "data": {
            "text/html": [
              "<div>\n",
              "<style scoped>\n",
              "    .dataframe tbody tr th:only-of-type {\n",
              "        vertical-align: middle;\n",
              "    }\n",
              "\n",
              "    .dataframe tbody tr th {\n",
              "        vertical-align: top;\n",
              "    }\n",
              "\n",
              "    .dataframe thead th {\n",
              "        text-align: right;\n",
              "    }\n",
              "</style>\n",
              "<table border=\"1\" class=\"dataframe\">\n",
              "  <thead>\n",
              "    <tr style=\"text-align: right;\">\n",
              "      <th></th>\n",
              "      <th>Gender</th>\n",
              "      <th>Age</th>\n",
              "      <th>Income (USD)</th>\n",
              "      <th>Income Stability</th>\n",
              "      <th>Profession</th>\n",
              "      <th>Type of Employment</th>\n",
              "      <th>Location</th>\n",
              "      <th>Loan Amount Request (USD)</th>\n",
              "      <th>Current Loan Expenses (USD)</th>\n",
              "      <th>Expense Type 1</th>\n",
              "      <th>Expense Type 2</th>\n",
              "      <th>Dependents</th>\n",
              "      <th>Credit Score</th>\n",
              "      <th>No. of Defaults</th>\n",
              "      <th>Has Active Credit Card</th>\n",
              "      <th>Property ID</th>\n",
              "      <th>Property Age</th>\n",
              "      <th>Property Type</th>\n",
              "      <th>Property Location</th>\n",
              "      <th>Co-Applicant</th>\n",
              "      <th>Property Price</th>\n",
              "      <th>Loan Sanction Amount (USD)</th>\n",
              "    </tr>\n",
              "  </thead>\n",
              "  <tbody>\n",
              "    <tr>\n",
              "      <th>0</th>\n",
              "      <td>0</td>\n",
              "      <td>56</td>\n",
              "      <td>1933.050000</td>\n",
              "      <td>1</td>\n",
              "      <td>7</td>\n",
              "      <td>14</td>\n",
              "      <td>1</td>\n",
              "      <td>72809.58</td>\n",
              "      <td>241.08</td>\n",
              "      <td>0</td>\n",
              "      <td>0</td>\n",
              "      <td>3.000000</td>\n",
              "      <td>809.44</td>\n",
              "      <td>0</td>\n",
              "      <td>0</td>\n",
              "      <td>746</td>\n",
              "      <td>1933.05000</td>\n",
              "      <td>4</td>\n",
              "      <td>0</td>\n",
              "      <td>1</td>\n",
              "      <td>119933.46</td>\n",
              "      <td>54607.18</td>\n",
              "    </tr>\n",
              "    <tr>\n",
              "      <th>1</th>\n",
              "      <td>1</td>\n",
              "      <td>32</td>\n",
              "      <td>4952.910000</td>\n",
              "      <td>1</td>\n",
              "      <td>7</td>\n",
              "      <td>8</td>\n",
              "      <td>1</td>\n",
              "      <td>46837.47</td>\n",
              "      <td>495.81</td>\n",
              "      <td>0</td>\n",
              "      <td>1</td>\n",
              "      <td>1.000000</td>\n",
              "      <td>780.40</td>\n",
              "      <td>0</td>\n",
              "      <td>2</td>\n",
              "      <td>608</td>\n",
              "      <td>4952.91000</td>\n",
              "      <td>2</td>\n",
              "      <td>0</td>\n",
              "      <td>1</td>\n",
              "      <td>54791.00</td>\n",
              "      <td>37469.98</td>\n",
              "    </tr>\n",
              "    <tr>\n",
              "      <th>2</th>\n",
              "      <td>0</td>\n",
              "      <td>65</td>\n",
              "      <td>988.190000</td>\n",
              "      <td>0</td>\n",
              "      <td>3</td>\n",
              "      <td>8</td>\n",
              "      <td>1</td>\n",
              "      <td>45593.04</td>\n",
              "      <td>171.95</td>\n",
              "      <td>0</td>\n",
              "      <td>1</td>\n",
              "      <td>1.000000</td>\n",
              "      <td>833.15</td>\n",
              "      <td>0</td>\n",
              "      <td>2</td>\n",
              "      <td>546</td>\n",
              "      <td>988.19000</td>\n",
              "      <td>2</td>\n",
              "      <td>2</td>\n",
              "      <td>0</td>\n",
              "      <td>72440.58</td>\n",
              "      <td>36474.43</td>\n",
              "    </tr>\n",
              "    <tr>\n",
              "      <th>3</th>\n",
              "      <td>0</td>\n",
              "      <td>65</td>\n",
              "      <td>2630.574417</td>\n",
              "      <td>0</td>\n",
              "      <td>3</td>\n",
              "      <td>8</td>\n",
              "      <td>0</td>\n",
              "      <td>80057.92</td>\n",
              "      <td>298.54</td>\n",
              "      <td>0</td>\n",
              "      <td>1</td>\n",
              "      <td>2.000000</td>\n",
              "      <td>832.70</td>\n",
              "      <td>1</td>\n",
              "      <td>2</td>\n",
              "      <td>890</td>\n",
              "      <td>2631.11944</td>\n",
              "      <td>2</td>\n",
              "      <td>1</td>\n",
              "      <td>1</td>\n",
              "      <td>121441.51</td>\n",
              "      <td>56040.54</td>\n",
              "    </tr>\n",
              "    <tr>\n",
              "      <th>4</th>\n",
              "      <td>0</td>\n",
              "      <td>31</td>\n",
              "      <td>2614.770000</td>\n",
              "      <td>1</td>\n",
              "      <td>7</td>\n",
              "      <td>6</td>\n",
              "      <td>1</td>\n",
              "      <td>113858.89</td>\n",
              "      <td>491.41</td>\n",
              "      <td>0</td>\n",
              "      <td>1</td>\n",
              "      <td>2.253027</td>\n",
              "      <td>745.55</td>\n",
              "      <td>1</td>\n",
              "      <td>0</td>\n",
              "      <td>715</td>\n",
              "      <td>2614.77000</td>\n",
              "      <td>4</td>\n",
              "      <td>1</td>\n",
              "      <td>1</td>\n",
              "      <td>208567.91</td>\n",
              "      <td>74008.28</td>\n",
              "    </tr>\n",
              "  </tbody>\n",
              "</table>\n",
              "</div>"
            ],
            "text/plain": [
              "   Gender  Age  ...  Property Price  Loan Sanction Amount (USD)\n",
              "0       0   56  ...       119933.46                    54607.18\n",
              "1       1   32  ...        54791.00                    37469.98\n",
              "2       0   65  ...        72440.58                    36474.43\n",
              "3       0   65  ...       121441.51                    56040.54\n",
              "4       0   31  ...       208567.91                    74008.28\n",
              "\n",
              "[5 rows x 22 columns]"
            ]
          },
          "metadata": {
            "tags": []
          },
          "execution_count": 66
        }
      ]
    },
    {
      "cell_type": "code",
      "metadata": {
        "id": "9m1hF2kNT7Yi"
      },
      "source": [
        "X=train.drop(['Loan Sanction Amount (USD)'], axis=1)\n",
        "y=train['Loan Sanction Amount (USD)']"
      ],
      "execution_count": 67,
      "outputs": []
    },
    {
      "cell_type": "code",
      "metadata": {
        "colab": {
          "base_uri": "https://localhost:8080/"
        },
        "id": "A1_SCo8DbBHM",
        "outputId": "cf52106c-208e-44f1-d2ff-4657389ce45c"
      },
      "source": [
        "!pip install catboost"
      ],
      "execution_count": 68,
      "outputs": [
        {
          "output_type": "stream",
          "text": [
            "Collecting catboost\n",
            "\u001b[?25l  Downloading https://files.pythonhosted.org/packages/5a/41/24e14322b9986cf72a8763e0a0a69cc256cf963cf9502c8f0044a62c1ae8/catboost-0.26-cp37-none-manylinux1_x86_64.whl (69.2MB)\n",
            "\u001b[K     |████████████████████████████████| 69.2MB 51kB/s \n",
            "\u001b[?25hRequirement already satisfied: scipy in /usr/local/lib/python3.7/dist-packages (from catboost) (1.4.1)\n",
            "Requirement already satisfied: plotly in /usr/local/lib/python3.7/dist-packages (from catboost) (4.4.1)\n",
            "Requirement already satisfied: numpy>=1.16.0 in /usr/local/lib/python3.7/dist-packages (from catboost) (1.19.5)\n",
            "Requirement already satisfied: matplotlib in /usr/local/lib/python3.7/dist-packages (from catboost) (3.2.2)\n",
            "Requirement already satisfied: pandas>=0.24.0 in /usr/local/lib/python3.7/dist-packages (from catboost) (1.1.5)\n",
            "Requirement already satisfied: graphviz in /usr/local/lib/python3.7/dist-packages (from catboost) (0.10.1)\n",
            "Requirement already satisfied: six in /usr/local/lib/python3.7/dist-packages (from catboost) (1.15.0)\n",
            "Requirement already satisfied: retrying>=1.3.3 in /usr/local/lib/python3.7/dist-packages (from plotly->catboost) (1.3.3)\n",
            "Requirement already satisfied: pyparsing!=2.0.4,!=2.1.2,!=2.1.6,>=2.0.1 in /usr/local/lib/python3.7/dist-packages (from matplotlib->catboost) (2.4.7)\n",
            "Requirement already satisfied: kiwisolver>=1.0.1 in /usr/local/lib/python3.7/dist-packages (from matplotlib->catboost) (1.3.1)\n",
            "Requirement already satisfied: python-dateutil>=2.1 in /usr/local/lib/python3.7/dist-packages (from matplotlib->catboost) (2.8.1)\n",
            "Requirement already satisfied: cycler>=0.10 in /usr/local/lib/python3.7/dist-packages (from matplotlib->catboost) (0.10.0)\n",
            "Requirement already satisfied: pytz>=2017.2 in /usr/local/lib/python3.7/dist-packages (from pandas>=0.24.0->catboost) (2018.9)\n",
            "Installing collected packages: catboost\n",
            "Successfully installed catboost-0.26\n"
          ],
          "name": "stdout"
        }
      ]
    },
    {
      "cell_type": "code",
      "metadata": {
        "id": "evwr2ig6XCg4"
      },
      "source": [
        "import pandas as pd \n",
        "import numpy as np\n",
        "import matplotlib.pyplot as plt\n",
        "import seaborn as sns\n",
        "from scipy import stats\n",
        "from sklearn.model_selection import KFold\n",
        "#from sklearn.linear_model import LassoCV , RidgeCV, ElasticNet, Lasso,Ridge\n",
        "from sklearn.model_selection import cross_val_score\n",
        "from sklearn.pipeline import make_pipeline, Pipeline\n",
        "from sklearn.preprocessing import RobustScaler\n",
        "from sklearn.ensemble import GradientBoostingRegressor\n",
        "from sklearn.model_selection import GridSearchCV\n",
        "from lightgbm import LGBMRegressor\n",
        "import lightgbm as lgb \n",
        "from xgboost import XGBRegressor  \n",
        "from sklearn.svm import SVR\n",
        "from sklearn.metrics import mean_squared_error\n",
        "import datetime\n",
        "import xgboost as xgb\n",
        "from mlxtend.regressor import StackingCVRegressor\n",
        "from sklearn.kernel_ridge import KernelRidge\n",
        "from sklearn.ensemble import RandomForestRegressor\n",
        "from catboost import CatBoostRegressor\n",
        "from scipy.stats import skew\n",
        "from scipy.special import boxcox1p\n",
        "from scipy.stats import boxcox_normmax"
      ],
      "execution_count": 69,
      "outputs": []
    },
    {
      "cell_type": "code",
      "metadata": {
        "id": "FNw-G4CfyFEC"
      },
      "source": [
        "from sklearn.model_selection import KFold\n",
        "from sklearn.ensemble import RandomForestRegressor\n",
        "from sklearn.metrics import mean_squared_log_error\n",
        "from sklearn.linear_model import LinearRegression\n",
        "from sklearn.ensemble import ExtraTreesRegressor\n",
        "from sklearn.ensemble import GradientBoostingRegressor\n",
        "from catboost import CatBoostRegressor\n",
        "from sklearn.linear_model import LassoCV, ElasticNet\n",
        "from sklearn.linear_model import RidgeCV\n",
        "from sklearn.tree import DecisionTreeRegressor\n",
        "#from category_encoders import MEstimateEncoder\n",
        "from sklearn.ensemble import StackingRegressor\n",
        "from sklearn.ensemble import VotingRegressor\n",
        "from sklearn.neighbors import KNeighborsRegressor\n",
        "from sklearn.preprocessing import OrdinalEncoder\n",
        "from sklearn.svm import SVR\n",
        "import lightgbm as lgb\n",
        "import xgboost as xgb\n",
        "from sklearn.metrics import mean_squared_log_error"
      ],
      "execution_count": 70,
      "outputs": []
    },
    {
      "cell_type": "code",
      "metadata": {
        "id": "3ZFns19PlVYw"
      },
      "source": [
        "# Stacking regressor function to ensemble LGBM and CatBoost\n",
        "def get_stacking():\n",
        "    level0 = [#('lgbm_regressor', lgb.LGBMRegressor(n_estimators=3000, max_depth=11, learning_rate=0.06, num_leaves=40)),\n",
        "              #('gradient_regressor',GradientBoostingRegressor(n_estimators=1000, learning_rate=0.03)),\n",
        "               ('XGB_regressor', xgb.XGBRegressor(n_estimators=700, objective='reg:squarederror', max_depth=7, learning_rate=0.06, colsample_bytree=0.9, subsample=0.8))]\n",
        "               #('catboost', CatBoostRegressor(silent=True,learning_rate=0.18, n_estimators=2000, depth=6))]\n",
        "    \n",
        "    level1 = ExtraTreesRegressor()\n",
        "    model = StackingRegressor(estimators=level0, final_estimator=level1, cv=5)\n",
        "    return model"
      ],
      "execution_count": 71,
      "outputs": []
    },
    {
      "cell_type": "code",
      "metadata": {
        "colab": {
          "base_uri": "https://localhost:8080/"
        },
        "id": "u6K_y9kXla-L",
        "outputId": "83102fc6-5b8c-4055-8951-6541fa6d1279"
      },
      "source": [
        "# K-Fold Cross Validation \n",
        "kf = KFold(n_splits=10, shuffle=True)\n",
        "scores = []\n",
        "for fold, (train_index, test_index) in enumerate(kf.split(X, y), 1):\n",
        "    X_train = X.iloc[train_index]\n",
        "    #X_train = ordinal_enc(X_train, cat_feature)\n",
        "    #for col in cat_feature:\n",
        "      #X_train[col] = le.fit_transform(X_train[col])\n",
        "    \n",
        "   # y_train = np.log(y.iloc[train_index])\n",
        "    y_train = y.iloc[train_index]\n",
        "\n",
        "    \n",
        "    X_test = X.iloc[test_index]\n",
        "    #X_test = label_enc(X_test, cat_feature, testing=True)\n",
        "    #for col in cat_feature:\n",
        "      #X_test[col] = le.fit_transform(X_test[col])\n",
        "\n",
        "    y_test = y.iloc[test_index]\n",
        "    \n",
        "    #model = GradientBoostingRegressor(n_estimators=200, learning_rate=0.03)\n",
        "    #model = RandomForestRegressor(n_estimators=200, n_jobs=-1)\n",
        "    #model = ElasticNet()\n",
        "    model = lgb.LGBMRegressor(n_estimators=2500, max_depth=11, learning_rate=0.05, num_leaves=40)\n",
        "    #model = xgb.XGBRegressor(n_estimators=590, objective='reg:squarederror', max_depth=7, learning_rate=0.06, min_child_weight=1.2)\n",
        "    #model = get_stacking()\n",
        "    #model = ExtraTreesRegressor(n_estimators=500, bootstrap=True, n_jobs=-1)\n",
        "    #model = LinearRegression()\n",
        "    #model = KNeighborsRegressor(weights='distance', n_neighbors=15)\n",
        "    #model = CatBoostRegressor(silent=True,learning_rate=0.18, n_estimators=1700, depth=6)\n",
        "    model.fit(X_train, y_train)\n",
        "    \n",
        "    pred = model.predict(X_test)\n",
        " \n",
        "    score = np.sqrt(mean_squared_error(y_test,pred))#np.expm1\n",
        "    print(f'RMSLE score for fold {fold} is {score}')\n",
        "    scores.append(score)\n",
        "\n",
        "print(f'Mean RMSLE score is {np.mean(scores)}')"
      ],
      "execution_count": 72,
      "outputs": [
        {
          "output_type": "stream",
          "text": [
            "RMSLE score for fold 1 is 24125.61745537552\n",
            "RMSLE score for fold 2 is 23835.265260672633\n",
            "RMSLE score for fold 3 is 23840.38237061673\n",
            "RMSLE score for fold 4 is 26136.29188011964\n",
            "RMSLE score for fold 5 is 23941.164963171177\n",
            "RMSLE score for fold 6 is 25080.608231010276\n",
            "RMSLE score for fold 7 is 24965.659193711108\n",
            "RMSLE score for fold 8 is 24766.39166194449\n",
            "RMSLE score for fold 9 is 24968.249485907476\n",
            "RMSLE score for fold 10 is 25768.035282844612\n",
            "Mean RMSLE score is 24742.76657853737\n"
          ],
          "name": "stdout"
        }
      ]
    },
    {
      "cell_type": "code",
      "metadata": {
        "id": "kT1NiNdOmCQY"
      },
      "source": [
        "qw=model.predict(test)"
      ],
      "execution_count": 75,
      "outputs": []
    },
    {
      "cell_type": "code",
      "metadata": {
        "colab": {
          "base_uri": "https://localhost:8080/"
        },
        "id": "l7yy4s5eoWT5",
        "outputId": "70dc161e-aa8a-4383-82a3-4c43644031e9"
      },
      "source": [
        "qw[5]"
      ],
      "execution_count": 76,
      "outputs": [
        {
          "output_type": "execute_result",
          "data": {
            "text/plain": [
              "0.0"
            ]
          },
          "metadata": {
            "tags": []
          },
          "execution_count": 76
        }
      ]
    },
    {
      "cell_type": "code",
      "metadata": {
        "id": "U194c1r5x8ut"
      },
      "source": [
        "# Stack Model \n",
        "model = get_stacking()"
      ],
      "execution_count": 73,
      "outputs": []
    },
    {
      "cell_type": "code",
      "metadata": {
        "colab": {
          "base_uri": "https://localhost:8080/"
        },
        "id": "mqeprxpQyLS3",
        "outputId": "95da7026-59a3-4a55-88f9-98721dc00009"
      },
      "source": [
        "model.fit(X, y)"
      ],
      "execution_count": 74,
      "outputs": [
        {
          "output_type": "execute_result",
          "data": {
            "text/plain": [
              "StackingRegressor(cv=5,\n",
              "                  estimators=[('XGB_regressor',\n",
              "                               XGBRegressor(base_score=0.5, booster='gbtree',\n",
              "                                            colsample_bylevel=1,\n",
              "                                            colsample_bynode=1,\n",
              "                                            colsample_bytree=0.9, gamma=0,\n",
              "                                            importance_type='gain',\n",
              "                                            learning_rate=0.06,\n",
              "                                            max_delta_step=0, max_depth=7,\n",
              "                                            min_child_weight=1, missing=None,\n",
              "                                            n_estimators=700, n_jobs=1,\n",
              "                                            nthread=None,\n",
              "                                            objective='reg:squarederror',\n",
              "                                            random_state=0...\n",
              "                                                      ccp_alpha=0.0,\n",
              "                                                      criterion='mse',\n",
              "                                                      max_depth=None,\n",
              "                                                      max_features='auto',\n",
              "                                                      max_leaf_nodes=None,\n",
              "                                                      max_samples=None,\n",
              "                                                      min_impurity_decrease=0.0,\n",
              "                                                      min_impurity_split=None,\n",
              "                                                      min_samples_leaf=1,\n",
              "                                                      min_samples_split=2,\n",
              "                                                      min_weight_fraction_leaf=0.0,\n",
              "                                                      n_estimators=100,\n",
              "                                                      n_jobs=None,\n",
              "                                                      oob_score=False,\n",
              "                                                      random_state=None,\n",
              "                                                      verbose=0,\n",
              "                                                      warm_start=False),\n",
              "                  n_jobs=None, passthrough=False, verbose=0)"
            ]
          },
          "metadata": {
            "tags": []
          },
          "execution_count": 74
        }
      ]
    },
    {
      "cell_type": "code",
      "metadata": {
        "id": "SBiocMKgWppf"
      },
      "source": [
        "lightgbm=LGBMRegressor(objective='regression',num_leaves=80,\n",
        "                              learning_rate=0.05, n_estimators=1200,\n",
        "                              max_bin = 30 , max_features='auto', random_state=10)"
      ],
      "execution_count": null,
      "outputs": []
    },
    {
      "cell_type": "code",
      "metadata": {
        "id": "ojWgAjyzWt_F"
      },
      "source": [
        "xgb=XGBRegressor(learning_rate =0.1, \n",
        "      n_estimators=1500, max_depth=12, min_child_weight=1,gamma=0, reg_alpha=2e-5,\n",
        "      subsample=0.8,colsample_bytree=0.8,\n",
        "      nthread=4,scale_pos_weight=1,seed=27,verbose=True,random_state=10)"
      ],
      "execution_count": null,
      "outputs": []
    },
    {
      "cell_type": "code",
      "metadata": {
        "id": "2Dw-JCXBW08G"
      },
      "source": [
        "grb=GradientBoostingRegressor(learning_rate=0.1,n_estimators=400, max_depth=12\n",
        "                              ,subsample=0.8,\n",
        "                              verbose=False,random_state=10)\n"
      ],
      "execution_count": null,
      "outputs": []
    },
    {
      "cell_type": "code",
      "metadata": {
        "id": "YTiVvDvKW5KK"
      },
      "source": [
        "rf=RandomForestRegressor(n_estimators=3000, oob_score = False, n_jobs = -1,random_state =50,\n",
        "                         max_features = \"auto\", min_samples_leaf = 2,warm_start=True,criterion='mse',max_depth=50)"
      ],
      "execution_count": null,
      "outputs": []
    },
    {
      "cell_type": "code",
      "metadata": {
        "id": "yQZFg3vQW7se"
      },
      "source": [
        "# Final ensemble that uses outputs from each model regressor and the original data in the meta regressor XGB\n",
        "avg=StackingCVRegressor(regressors=(lightgbm,grb),meta_regressor=xgb, use_features_in_secondary=True)#,svr,krr,"
      ],
      "execution_count": null,
      "outputs": []
    },
    {
      "cell_type": "code",
      "metadata": {
        "id": "YhWthPWaXJIk"
      },
      "source": [
        "# Function to calculate RMSE error of the complete model for reference, similiar to rmsle_cv without KFOLD CV\n",
        "def rmsle(y, y_pred):\n",
        "    return np.sqrt(mean_squared_error(y, y_pred))"
      ],
      "execution_count": null,
      "outputs": []
    },
    {
      "cell_type": "code",
      "metadata": {
        "id": "RB-dQkX5XLYk"
      },
      "source": [
        "X=np.array(X)\n",
        "Y=np.array(y)"
      ],
      "execution_count": null,
      "outputs": []
    },
    {
      "cell_type": "code",
      "metadata": {
        "colab": {
          "base_uri": "https://localhost:8080/"
        },
        "id": "V1rv9F7aXSXh",
        "outputId": "81aaf4e8-6b84-4479-e203-9973b19c06df"
      },
      "source": [
        "# Fitting the model on the train data and predicting the train price values\n",
        "xgb.fit(X,Y)\n",
        "y_pred=xgb.predict(X)"
      ],
      "execution_count": null,
      "outputs": [
        {
          "output_type": "stream",
          "text": [
            "[05:03:21] WARNING: /workspace/src/objective/regression_obj.cu:152: reg:linear is now deprecated in favor of reg:squarederror.\n"
          ],
          "name": "stdout"
        }
      ]
    },
    {
      "cell_type": "code",
      "metadata": {
        "colab": {
          "base_uri": "https://localhost:8080/"
        },
        "id": "qqiT50XyXYyr",
        "outputId": "f4ae7213-434c-4ef9-fc96-1bfe6d65c726"
      },
      "source": [
        "# RMSE value of the model on training data\n",
        "rmsle(y,y_pred)"
      ],
      "execution_count": null,
      "outputs": [
        {
          "output_type": "execute_result",
          "data": {
            "text/plain": [
              "16.2806083617486"
            ]
          },
          "metadata": {
            "tags": []
          },
          "execution_count": 321
        }
      ]
    },
    {
      "cell_type": "code",
      "metadata": {
        "id": "odPbGeKAncOA",
        "colab": {
          "base_uri": "https://localhost:8080/",
          "height": 284
        },
        "outputId": "132eb950-7683-4838-e83a-953c78dac16f"
      },
      "source": [
        "# Plot of the model prediction with the original price values in the training data set to undestand model fit\n",
        "plt.scatter(list(y_pred),y)\n",
        "plt.plot(range(7,13),range(7,13),'r')"
      ],
      "execution_count": null,
      "outputs": [
        {
          "output_type": "execute_result",
          "data": {
            "text/plain": [
              "[<matplotlib.lines.Line2D at 0x7fb57a93e850>]"
            ]
          },
          "metadata": {
            "tags": []
          },
          "execution_count": 322
        },
        {
          "output_type": "display_data",
          "data": {
            "image/png": "[encoded data removed]",
            "text/plain": [
              "<Figure size 432x288 with 1 Axes>"
            ]
          },
          "metadata": {
            "tags": [],
            "needs_background": "light"
          }
        }
      ]
    },
    {
      "cell_type": "code",
      "metadata": {
        "id": "lD_7BwU4UMox"
      },
      "source": [
        "get = rf.predict(test)\n"
      ],
      "execution_count": null,
      "outputs": []
    },
    {
      "cell_type": "code",
      "metadata": {
        "id": "aEfkJcLImHk7"
      },
      "source": [
        "Pred=np.exp(get)"
      ],
      "execution_count": null,
      "outputs": []
    },
    {
      "cell_type": "code",
      "metadata": {
        "id": "tlFiGfRtWsDC"
      },
      "source": [
        "submmitted_data = pd.DataFrame()"
      ],
      "execution_count": 79,
      "outputs": []
    },
    {
      "cell_type": "code",
      "metadata": {
        "id": "k0MmnGRoWyAm"
      },
      "source": [
        "submmitted_data['Customer ID'] = test['Customer ID']\n",
        "submmitted_data['Loan Sanction Amount (USD)'] = qw\n",
        "#submmitted_data['Loan Sanction Amount (USD)'] =submmitted_data['Loan Sanction Amount (USD)'].abs()"
      ],
      "execution_count": 80,
      "outputs": []
    },
    {
      "cell_type": "code",
      "metadata": {
        "colab": {
          "base_uri": "https://localhost:8080/",
          "height": 203
        },
        "id": "Xsu0E6lBXBz_",
        "outputId": "89b2522f-2c62-4d04-98f4-68a2afeb52a5"
      },
      "source": [
        "submmitted_data.head()"
      ],
      "execution_count": 81,
      "outputs": [
        {
          "output_type": "execute_result",
          "data": {
            "text/html": [
              "<div>\n",
              "<style scoped>\n",
              "    .dataframe tbody tr th:only-of-type {\n",
              "        vertical-align: middle;\n",
              "    }\n",
              "\n",
              "    .dataframe tbody tr th {\n",
              "        vertical-align: top;\n",
              "    }\n",
              "\n",
              "    .dataframe thead th {\n",
              "        text-align: right;\n",
              "    }\n",
              "</style>\n",
              "<table border=\"1\" class=\"dataframe\">\n",
              "  <thead>\n",
              "    <tr style=\"text-align: right;\">\n",
              "      <th></th>\n",
              "      <th>Customer ID</th>\n",
              "      <th>Loan Sanction Amount (USD)</th>\n",
              "    </tr>\n",
              "  </thead>\n",
              "  <tbody>\n",
              "    <tr>\n",
              "      <th>0</th>\n",
              "      <td>C-26247</td>\n",
              "      <td>97335.838100</td>\n",
              "    </tr>\n",
              "    <tr>\n",
              "      <th>1</th>\n",
              "      <td>C-35067</td>\n",
              "      <td>68004.936000</td>\n",
              "    </tr>\n",
              "    <tr>\n",
              "      <th>2</th>\n",
              "      <td>C-34590</td>\n",
              "      <td>0.000000</td>\n",
              "    </tr>\n",
              "    <tr>\n",
              "      <th>3</th>\n",
              "      <td>C-16668</td>\n",
              "      <td>59903.416331</td>\n",
              "    </tr>\n",
              "    <tr>\n",
              "      <th>4</th>\n",
              "      <td>C-12196</td>\n",
              "      <td>81929.958500</td>\n",
              "    </tr>\n",
              "  </tbody>\n",
              "</table>\n",
              "</div>"
            ],
            "text/plain": [
              "  Customer ID  Loan Sanction Amount (USD)\n",
              "0     C-26247                97335.838100\n",
              "1     C-35067                68004.936000\n",
              "2     C-34590                    0.000000\n",
              "3     C-16668                59903.416331\n",
              "4     C-12196                81929.958500"
            ]
          },
          "metadata": {
            "tags": []
          },
          "execution_count": 81
        }
      ]
    },
    {
      "cell_type": "code",
      "metadata": {
        "id": "_2Gc36jkXFPn"
      },
      "source": [
        "submmitted_data.to_csv('output_7.csv',index=False)"
      ],
      "execution_count": 82,
      "outputs": []
    },
    {
      "cell_type": "code",
      "metadata": {
        "colab": {
          "base_uri": "https://localhost:8080/",
          "height": 203
        },
        "id": "YjF5ZEEFXKpF",
        "outputId": "5a9868df-4756-4a39-de41-0eac42974e85"
      },
      "source": [
        "q=pd.read_csv('output_7.csv')\n",
        "q.head()"
      ],
      "execution_count": 83,
      "outputs": [
        {
          "output_type": "execute_result",
          "data": {
            "text/html": [
              "<div>\n",
              "<style scoped>\n",
              "    .dataframe tbody tr th:only-of-type {\n",
              "        vertical-align: middle;\n",
              "    }\n",
              "\n",
              "    .dataframe tbody tr th {\n",
              "        vertical-align: top;\n",
              "    }\n",
              "\n",
              "    .dataframe thead th {\n",
              "        text-align: right;\n",
              "    }\n",
              "</style>\n",
              "<table border=\"1\" class=\"dataframe\">\n",
              "  <thead>\n",
              "    <tr style=\"text-align: right;\">\n",
              "      <th></th>\n",
              "      <th>Customer ID</th>\n",
              "      <th>Loan Sanction Amount (USD)</th>\n",
              "    </tr>\n",
              "  </thead>\n",
              "  <tbody>\n",
              "    <tr>\n",
              "      <th>0</th>\n",
              "      <td>C-26247</td>\n",
              "      <td>97335.838100</td>\n",
              "    </tr>\n",
              "    <tr>\n",
              "      <th>1</th>\n",
              "      <td>C-35067</td>\n",
              "      <td>68004.936000</td>\n",
              "    </tr>\n",
              "    <tr>\n",
              "      <th>2</th>\n",
              "      <td>C-34590</td>\n",
              "      <td>0.000000</td>\n",
              "    </tr>\n",
              "    <tr>\n",
              "      <th>3</th>\n",
              "      <td>C-16668</td>\n",
              "      <td>59903.416331</td>\n",
              "    </tr>\n",
              "    <tr>\n",
              "      <th>4</th>\n",
              "      <td>C-12196</td>\n",
              "      <td>81929.958500</td>\n",
              "    </tr>\n",
              "  </tbody>\n",
              "</table>\n",
              "</div>"
            ],
            "text/plain": [
              "  Customer ID  Loan Sanction Amount (USD)\n",
              "0     C-26247                97335.838100\n",
              "1     C-35067                68004.936000\n",
              "2     C-34590                    0.000000\n",
              "3     C-16668                59903.416331\n",
              "4     C-12196                81929.958500"
            ]
          },
          "metadata": {
            "tags": []
          },
          "execution_count": 83
        }
      ]
    },
    {
      "cell_type": "markdown",
      "metadata": {
        "id": "7sTJMK6KY6jp"
      },
      "source": [
        "**Neural Network**"
      ]
    },
    {
      "cell_type": "code",
      "metadata": {
        "id": "XCWZ02NxblZP",
        "colab": {
          "base_uri": "https://localhost:8080/",
          "height": 696
        },
        "outputId": "eca09a0d-da72-400f-e863-29a24c9f186c"
      },
      "source": [
        "train_stats=train.describe()\n",
        "train_stats.pop('Loan Sanction Amount (USD)')\n",
        "train_stats=train_stats.transpose()\n",
        "train_stats"
      ],
      "execution_count": 67,
      "outputs": [
        {
          "output_type": "execute_result",
          "data": {
            "text/html": [
              "<div>\n",
              "<style scoped>\n",
              "    .dataframe tbody tr th:only-of-type {\n",
              "        vertical-align: middle;\n",
              "    }\n",
              "\n",
              "    .dataframe tbody tr th {\n",
              "        vertical-align: top;\n",
              "    }\n",
              "\n",
              "    .dataframe thead th {\n",
              "        text-align: right;\n",
              "    }\n",
              "</style>\n",
              "<table border=\"1\" class=\"dataframe\">\n",
              "  <thead>\n",
              "    <tr style=\"text-align: right;\">\n",
              "      <th></th>\n",
              "      <th>count</th>\n",
              "      <th>mean</th>\n",
              "      <th>std</th>\n",
              "      <th>min</th>\n",
              "      <th>25%</th>\n",
              "      <th>50%</th>\n",
              "      <th>75%</th>\n",
              "      <th>max</th>\n",
              "    </tr>\n",
              "  </thead>\n",
              "  <tbody>\n",
              "    <tr>\n",
              "      <th>Gender</th>\n",
              "      <td>30000.0</td>\n",
              "      <td>0.503533</td>\n",
              "      <td>0.499996</td>\n",
              "      <td>0.00</td>\n",
              "      <td>0.0000</td>\n",
              "      <td>1.000000</td>\n",
              "      <td>1.0000</td>\n",
              "      <td>1.00</td>\n",
              "    </tr>\n",
              "    <tr>\n",
              "      <th>Age</th>\n",
              "      <td>30000.0</td>\n",
              "      <td>40.092300</td>\n",
              "      <td>16.045129</td>\n",
              "      <td>18.00</td>\n",
              "      <td>25.0000</td>\n",
              "      <td>40.000000</td>\n",
              "      <td>55.0000</td>\n",
              "      <td>65.00</td>\n",
              "    </tr>\n",
              "    <tr>\n",
              "      <th>Income (USD)</th>\n",
              "      <td>30000.0</td>\n",
              "      <td>2630.574417</td>\n",
              "      <td>10368.201879</td>\n",
              "      <td>377.70</td>\n",
              "      <td>1743.3050</td>\n",
              "      <td>2473.470000</td>\n",
              "      <td>2869.1425</td>\n",
              "      <td>1777460.21</td>\n",
              "    </tr>\n",
              "    <tr>\n",
              "      <th>Income Stability</th>\n",
              "      <td>30000.0</td>\n",
              "      <td>0.914467</td>\n",
              "      <td>0.279678</td>\n",
              "      <td>0.00</td>\n",
              "      <td>1.0000</td>\n",
              "      <td>1.000000</td>\n",
              "      <td>1.0000</td>\n",
              "      <td>1.00</td>\n",
              "    </tr>\n",
              "    <tr>\n",
              "      <th>Profession</th>\n",
              "      <td>30000.0</td>\n",
              "      <td>4.804900</td>\n",
              "      <td>2.628992</td>\n",
              "      <td>0.00</td>\n",
              "      <td>1.0000</td>\n",
              "      <td>7.000000</td>\n",
              "      <td>7.0000</td>\n",
              "      <td>7.00</td>\n",
              "    </tr>\n",
              "    <tr>\n",
              "      <th>Type of Employment</th>\n",
              "      <td>30000.0</td>\n",
              "      <td>7.892067</td>\n",
              "      <td>3.892110</td>\n",
              "      <td>0.00</td>\n",
              "      <td>6.0000</td>\n",
              "      <td>8.000000</td>\n",
              "      <td>10.0000</td>\n",
              "      <td>17.00</td>\n",
              "    </tr>\n",
              "    <tr>\n",
              "      <th>Location</th>\n",
              "      <td>30000.0</td>\n",
              "      <td>0.925367</td>\n",
              "      <td>0.525045</td>\n",
              "      <td>0.00</td>\n",
              "      <td>1.0000</td>\n",
              "      <td>1.000000</td>\n",
              "      <td>1.0000</td>\n",
              "      <td>2.00</td>\n",
              "    </tr>\n",
              "    <tr>\n",
              "      <th>Loan Amount Request (USD)</th>\n",
              "      <td>30000.0</td>\n",
              "      <td>88826.333855</td>\n",
              "      <td>59536.949605</td>\n",
              "      <td>6048.24</td>\n",
              "      <td>41177.7550</td>\n",
              "      <td>75128.075000</td>\n",
              "      <td>119964.6050</td>\n",
              "      <td>621497.82</td>\n",
              "    </tr>\n",
              "    <tr>\n",
              "      <th>Current Loan Expenses (USD)</th>\n",
              "      <td>30000.0</td>\n",
              "      <td>400.936876</td>\n",
              "      <td>241.849055</td>\n",
              "      <td>-999.00</td>\n",
              "      <td>248.6550</td>\n",
              "      <td>376.505000</td>\n",
              "      <td>520.1025</td>\n",
              "      <td>3840.88</td>\n",
              "    </tr>\n",
              "    <tr>\n",
              "      <th>Expense Type 1</th>\n",
              "      <td>30000.0</td>\n",
              "      <td>0.359533</td>\n",
              "      <td>0.479872</td>\n",
              "      <td>0.00</td>\n",
              "      <td>0.0000</td>\n",
              "      <td>0.000000</td>\n",
              "      <td>1.0000</td>\n",
              "      <td>1.00</td>\n",
              "    </tr>\n",
              "    <tr>\n",
              "      <th>Expense Type 2</th>\n",
              "      <td>30000.0</td>\n",
              "      <td>0.672667</td>\n",
              "      <td>0.469248</td>\n",
              "      <td>0.00</td>\n",
              "      <td>0.0000</td>\n",
              "      <td>1.000000</td>\n",
              "      <td>1.0000</td>\n",
              "      <td>1.00</td>\n",
              "    </tr>\n",
              "    <tr>\n",
              "      <th>Dependents</th>\n",
              "      <td>30000.0</td>\n",
              "      <td>2.253027</td>\n",
              "      <td>0.910783</td>\n",
              "      <td>1.00</td>\n",
              "      <td>2.0000</td>\n",
              "      <td>2.000000</td>\n",
              "      <td>3.0000</td>\n",
              "      <td>14.00</td>\n",
              "    </tr>\n",
              "    <tr>\n",
              "      <th>Credit Score</th>\n",
              "      <td>30000.0</td>\n",
              "      <td>739.885381</td>\n",
              "      <td>70.085602</td>\n",
              "      <td>580.00</td>\n",
              "      <td>685.4150</td>\n",
              "      <td>739.885381</td>\n",
              "      <td>795.1400</td>\n",
              "      <td>896.26</td>\n",
              "    </tr>\n",
              "    <tr>\n",
              "      <th>No. of Defaults</th>\n",
              "      <td>30000.0</td>\n",
              "      <td>0.193933</td>\n",
              "      <td>0.395384</td>\n",
              "      <td>0.00</td>\n",
              "      <td>0.0000</td>\n",
              "      <td>0.000000</td>\n",
              "      <td>0.0000</td>\n",
              "      <td>1.00</td>\n",
              "    </tr>\n",
              "    <tr>\n",
              "      <th>Has Active Credit Card</th>\n",
              "      <td>30000.0</td>\n",
              "      <td>0.928667</td>\n",
              "      <td>0.824258</td>\n",
              "      <td>0.00</td>\n",
              "      <td>0.0000</td>\n",
              "      <td>1.000000</td>\n",
              "      <td>2.0000</td>\n",
              "      <td>2.00</td>\n",
              "    </tr>\n",
              "    <tr>\n",
              "      <th>Property ID</th>\n",
              "      <td>30000.0</td>\n",
              "      <td>501.934700</td>\n",
              "      <td>288.158086</td>\n",
              "      <td>1.00</td>\n",
              "      <td>251.0000</td>\n",
              "      <td>504.000000</td>\n",
              "      <td>751.0000</td>\n",
              "      <td>999.00</td>\n",
              "    </tr>\n",
              "    <tr>\n",
              "      <th>Property Age</th>\n",
              "      <td>30000.0</td>\n",
              "      <td>2631.119440</td>\n",
              "      <td>10367.071407</td>\n",
              "      <td>377.70</td>\n",
              "      <td>1749.8125</td>\n",
              "      <td>2491.375000</td>\n",
              "      <td>2849.5725</td>\n",
              "      <td>1777460.21</td>\n",
              "    </tr>\n",
              "    <tr>\n",
              "      <th>Property Type</th>\n",
              "      <td>30000.0</td>\n",
              "      <td>2.460067</td>\n",
              "      <td>1.118562</td>\n",
              "      <td>1.00</td>\n",
              "      <td>1.0000</td>\n",
              "      <td>2.000000</td>\n",
              "      <td>3.0000</td>\n",
              "      <td>4.00</td>\n",
              "    </tr>\n",
              "    <tr>\n",
              "      <th>Property Location</th>\n",
              "      <td>30000.0</td>\n",
              "      <td>0.972500</td>\n",
              "      <td>0.800728</td>\n",
              "      <td>0.00</td>\n",
              "      <td>0.0000</td>\n",
              "      <td>1.000000</td>\n",
              "      <td>2.0000</td>\n",
              "      <td>2.00</td>\n",
              "    </tr>\n",
              "    <tr>\n",
              "      <th>Co-Applicant</th>\n",
              "      <td>30000.0</td>\n",
              "      <td>0.850533</td>\n",
              "      <td>0.356554</td>\n",
              "      <td>0.00</td>\n",
              "      <td>1.0000</td>\n",
              "      <td>1.000000</td>\n",
              "      <td>1.0000</td>\n",
              "      <td>1.00</td>\n",
              "    </tr>\n",
              "    <tr>\n",
              "      <th>Property Price</th>\n",
              "      <td>30000.0</td>\n",
              "      <td>131759.680252</td>\n",
              "      <td>93549.548104</td>\n",
              "      <td>-999.00</td>\n",
              "      <td>60572.1600</td>\n",
              "      <td>109993.610000</td>\n",
              "      <td>178880.7200</td>\n",
              "      <td>1077966.73</td>\n",
              "    </tr>\n",
              "  </tbody>\n",
              "</table>\n",
              "</div>"
            ],
            "text/plain": [
              "                               count           mean  ...          75%         max\n",
              "Gender                       30000.0       0.503533  ...       1.0000        1.00\n",
              "Age                          30000.0      40.092300  ...      55.0000       65.00\n",
              "Income (USD)                 30000.0    2630.574417  ...    2869.1425  1777460.21\n",
              "Income Stability             30000.0       0.914467  ...       1.0000        1.00\n",
              "Profession                   30000.0       4.804900  ...       7.0000        7.00\n",
              "Type of Employment           30000.0       7.892067  ...      10.0000       17.00\n",
              "Location                     30000.0       0.925367  ...       1.0000        2.00\n",
              "Loan Amount Request (USD)    30000.0   88826.333855  ...  119964.6050   621497.82\n",
              "Current Loan Expenses (USD)  30000.0     400.936876  ...     520.1025     3840.88\n",
              "Expense Type 1               30000.0       0.359533  ...       1.0000        1.00\n",
              "Expense Type 2               30000.0       0.672667  ...       1.0000        1.00\n",
              "Dependents                   30000.0       2.253027  ...       3.0000       14.00\n",
              "Credit Score                 30000.0     739.885381  ...     795.1400      896.26\n",
              "No. of Defaults              30000.0       0.193933  ...       0.0000        1.00\n",
              "Has Active Credit Card       30000.0       0.928667  ...       2.0000        2.00\n",
              "Property ID                  30000.0     501.934700  ...     751.0000      999.00\n",
              "Property Age                 30000.0    2631.119440  ...    2849.5725  1777460.21\n",
              "Property Type                30000.0       2.460067  ...       3.0000        4.00\n",
              "Property Location            30000.0       0.972500  ...       2.0000        2.00\n",
              "Co-Applicant                 30000.0       0.850533  ...       1.0000        1.00\n",
              "Property Price               30000.0  131759.680252  ...  178880.7200  1077966.73\n",
              "\n",
              "[21 rows x 8 columns]"
            ]
          },
          "metadata": {
            "tags": []
          },
          "execution_count": 67
        }
      ]
    },
    {
      "cell_type": "code",
      "metadata": {
        "id": "C95NYJ6eZFSU"
      },
      "source": [
        "x_train=train.drop(['Loan Sanction Amount (USD)'],axis=1)\n",
        "y_train=train['Loan Sanction Amount (USD)']"
      ],
      "execution_count": 68,
      "outputs": []
    },
    {
      "cell_type": "code",
      "metadata": {
        "id": "hpBfx7NuZU_8"
      },
      "source": [
        "def norm(x):\n",
        "  return( (x-train_stats['mean']) / train_stats['std'] )\n",
        "\n",
        "norm_x_train=norm(x_train)\n",
        "norm_test=norm(test)"
      ],
      "execution_count": 69,
      "outputs": []
    },
    {
      "cell_type": "code",
      "metadata": {
        "colab": {
          "base_uri": "https://localhost:8080/",
          "height": 181
        },
        "id": "m6R6kABQZ2bD",
        "outputId": "857ebf47-dd5e-466e-93c0-52ce1a6358ea"
      },
      "source": [
        "norm_x_train[:2]"
      ],
      "execution_count": 70,
      "outputs": [
        {
          "output_type": "execute_result",
          "data": {
            "text/html": [
              "<div>\n",
              "<style scoped>\n",
              "    .dataframe tbody tr th:only-of-type {\n",
              "        vertical-align: middle;\n",
              "    }\n",
              "\n",
              "    .dataframe tbody tr th {\n",
              "        vertical-align: top;\n",
              "    }\n",
              "\n",
              "    .dataframe thead th {\n",
              "        text-align: right;\n",
              "    }\n",
              "</style>\n",
              "<table border=\"1\" class=\"dataframe\">\n",
              "  <thead>\n",
              "    <tr style=\"text-align: right;\">\n",
              "      <th></th>\n",
              "      <th>Gender</th>\n",
              "      <th>Age</th>\n",
              "      <th>Income (USD)</th>\n",
              "      <th>Income Stability</th>\n",
              "      <th>Profession</th>\n",
              "      <th>Type of Employment</th>\n",
              "      <th>Location</th>\n",
              "      <th>Loan Amount Request (USD)</th>\n",
              "      <th>Current Loan Expenses (USD)</th>\n",
              "      <th>Expense Type 1</th>\n",
              "      <th>Expense Type 2</th>\n",
              "      <th>Dependents</th>\n",
              "      <th>Credit Score</th>\n",
              "      <th>No. of Defaults</th>\n",
              "      <th>Has Active Credit Card</th>\n",
              "      <th>Property ID</th>\n",
              "      <th>Property Age</th>\n",
              "      <th>Property Type</th>\n",
              "      <th>Property Location</th>\n",
              "      <th>Co-Applicant</th>\n",
              "      <th>Property Price</th>\n",
              "    </tr>\n",
              "  </thead>\n",
              "  <tbody>\n",
              "    <tr>\n",
              "      <th>0</th>\n",
              "      <td>-1.007075</td>\n",
              "      <td>0.991435</td>\n",
              "      <td>-0.067275</td>\n",
              "      <td>0.305827</td>\n",
              "      <td>0.834959</td>\n",
              "      <td>1.569311</td>\n",
              "      <td>0.142147</td>\n",
              "      <td>-0.269022</td>\n",
              "      <td>-0.660978</td>\n",
              "      <td>-0.749228</td>\n",
              "      <td>-1.43350</td>\n",
              "      <td>0.820144</td>\n",
              "      <td>0.992424</td>\n",
              "      <td>-0.490494</td>\n",
              "      <td>-1.126670</td>\n",
              "      <td>0.846984</td>\n",
              "      <td>-0.067335</td>\n",
              "      <td>1.376708</td>\n",
              "      <td>-1.21452</td>\n",
              "      <td>0.419198</td>\n",
              "      <td>-0.126417</td>\n",
              "    </tr>\n",
              "    <tr>\n",
              "      <th>1</th>\n",
              "      <td>0.992942</td>\n",
              "      <td>-0.504346</td>\n",
              "      <td>0.223986</td>\n",
              "      <td>0.305827</td>\n",
              "      <td>0.834959</td>\n",
              "      <td>0.027731</td>\n",
              "      <td>0.142147</td>\n",
              "      <td>-0.705257</td>\n",
              "      <td>0.392282</td>\n",
              "      <td>-0.749228</td>\n",
              "      <td>0.69757</td>\n",
              "      <td>-1.375769</td>\n",
              "      <td>0.578073</td>\n",
              "      <td>-0.490494</td>\n",
              "      <td>1.299755</td>\n",
              "      <td>0.368080</td>\n",
              "      <td>0.223958</td>\n",
              "      <td>-0.411302</td>\n",
              "      <td>-1.21452</td>\n",
              "      <td>0.419198</td>\n",
              "      <td>-0.822758</td>\n",
              "    </tr>\n",
              "  </tbody>\n",
              "</table>\n",
              "</div>"
            ],
            "text/plain": [
              "     Gender       Age  ...  Co-Applicant  Property Price\n",
              "0 -1.007075  0.991435  ...      0.419198       -0.126417\n",
              "1  0.992942 -0.504346  ...      0.419198       -0.822758\n",
              "\n",
              "[2 rows x 21 columns]"
            ]
          },
          "metadata": {
            "tags": []
          },
          "execution_count": 70
        }
      ]
    },
    {
      "cell_type": "code",
      "metadata": {
        "colab": {
          "base_uri": "https://localhost:8080/",
          "height": 181
        },
        "id": "PKcGXXbYZ5Td",
        "outputId": "8b41be57-528a-48b9-a3fe-ce1acf2c7472"
      },
      "source": [
        "norm_test[:2]"
      ],
      "execution_count": 71,
      "outputs": [
        {
          "output_type": "execute_result",
          "data": {
            "text/html": [
              "<div>\n",
              "<style scoped>\n",
              "    .dataframe tbody tr th:only-of-type {\n",
              "        vertical-align: middle;\n",
              "    }\n",
              "\n",
              "    .dataframe tbody tr th {\n",
              "        vertical-align: top;\n",
              "    }\n",
              "\n",
              "    .dataframe thead th {\n",
              "        text-align: right;\n",
              "    }\n",
              "</style>\n",
              "<table border=\"1\" class=\"dataframe\">\n",
              "  <thead>\n",
              "    <tr style=\"text-align: right;\">\n",
              "      <th></th>\n",
              "      <th>Gender</th>\n",
              "      <th>Age</th>\n",
              "      <th>Income (USD)</th>\n",
              "      <th>Income Stability</th>\n",
              "      <th>Profession</th>\n",
              "      <th>Type of Employment</th>\n",
              "      <th>Location</th>\n",
              "      <th>Loan Amount Request (USD)</th>\n",
              "      <th>Current Loan Expenses (USD)</th>\n",
              "      <th>Expense Type 1</th>\n",
              "      <th>Expense Type 2</th>\n",
              "      <th>Dependents</th>\n",
              "      <th>Credit Score</th>\n",
              "      <th>No. of Defaults</th>\n",
              "      <th>Has Active Credit Card</th>\n",
              "      <th>Property ID</th>\n",
              "      <th>Property Age</th>\n",
              "      <th>Property Type</th>\n",
              "      <th>Property Location</th>\n",
              "      <th>Co-Applicant</th>\n",
              "      <th>Property Price</th>\n",
              "    </tr>\n",
              "  </thead>\n",
              "  <tbody>\n",
              "    <tr>\n",
              "      <th>0</th>\n",
              "      <td>-1.007075</td>\n",
              "      <td>0.430517</td>\n",
              "      <td>0.081221</td>\n",
              "      <td>0.305827</td>\n",
              "      <td>-1.827659</td>\n",
              "      <td>0.541591</td>\n",
              "      <td>0.142147</td>\n",
              "      <td>0.810634</td>\n",
              "      <td>-0.017436</td>\n",
              "      <td>-0.749228</td>\n",
              "      <td>-1.43350</td>\n",
              "      <td>-0.277812</td>\n",
              "      <td>0.845461</td>\n",
              "      <td>-0.490494</td>\n",
              "      <td>1.299755</td>\n",
              "      <td>1.183605</td>\n",
              "      <td>0.081177</td>\n",
              "      <td>-0.411302</td>\n",
              "      <td>1.283207</td>\n",
              "      <td>0.419198</td>\n",
              "      <td>-1.314551</td>\n",
              "    </tr>\n",
              "    <tr>\n",
              "      <th>1</th>\n",
              "      <td>-1.007075</td>\n",
              "      <td>1.053759</td>\n",
              "      <td>-0.139439</td>\n",
              "      <td>0.305827</td>\n",
              "      <td>0.454585</td>\n",
              "      <td>1.569311</td>\n",
              "      <td>-1.762452</td>\n",
              "      <td>0.267821</td>\n",
              "      <td>0.259762</td>\n",
              "      <td>1.334662</td>\n",
              "      <td>0.69757</td>\n",
              "      <td>-0.277812</td>\n",
              "      <td>1.333007</td>\n",
              "      <td>-0.490494</td>\n",
              "      <td>1.299755</td>\n",
              "      <td>-1.665526</td>\n",
              "      <td>-0.139507</td>\n",
              "      <td>-1.305307</td>\n",
              "      <td>-1.214520</td>\n",
              "      <td>0.419198</td>\n",
              "      <td>-1.368106</td>\n",
              "    </tr>\n",
              "  </tbody>\n",
              "</table>\n",
              "</div>"
            ],
            "text/plain": [
              "     Gender       Age  ...  Co-Applicant  Property Price\n",
              "0 -1.007075  0.430517  ...      0.419198       -1.314551\n",
              "1 -1.007075  1.053759  ...      0.419198       -1.368106\n",
              "\n",
              "[2 rows x 21 columns]"
            ]
          },
          "metadata": {
            "tags": []
          },
          "execution_count": 71
        }
      ]
    },
    {
      "cell_type": "code",
      "metadata": {
        "id": "xfkWEkgCZ7iK"
      },
      "source": [
        "input_shape=[norm_x_train.shape[1]]"
      ],
      "execution_count": 72,
      "outputs": []
    },
    {
      "cell_type": "code",
      "metadata": {
        "colab": {
          "base_uri": "https://localhost:8080/"
        },
        "id": "dr4vupg0aCWG",
        "outputId": "02cc5519-6a6b-4466-f21f-02f81d5df763"
      },
      "source": [
        "input_shape"
      ],
      "execution_count": 73,
      "outputs": [
        {
          "output_type": "execute_result",
          "data": {
            "text/plain": [
              "[21]"
            ]
          },
          "metadata": {
            "tags": []
          },
          "execution_count": 73
        }
      ]
    },
    {
      "cell_type": "code",
      "metadata": {
        "id": "8ceGbcSMZ_Os"
      },
      "source": [
        "from tensorflow import keras\n",
        "from tensorflow.keras import layers"
      ],
      "execution_count": 74,
      "outputs": []
    },
    {
      "cell_type": "code",
      "metadata": {
        "id": "QExxRYyraB35"
      },
      "source": [
        "model=keras.Sequential([\n",
        "   layers.Dense(150,activation='relu',input_shape=input_shape,kernel_regularizer=keras.regularizers.l2(1)),\n",
        "   layers.Dropout(rate=0.2),\n",
        "   layers.Dense(150,activation='relu',kernel_regularizer=keras.regularizers.l2(1)),\n",
        "   layers.Dropout(rate=0.2),\n",
        "   layers.Dense(150,activation='relu',kernel_regularizer=keras.regularizers.l2(1)),\n",
        "   layers.Dropout(rate=0.2),\n",
        "   layers.Dense(150,activation='relu',kernel_regularizer=keras.regularizers.l2(1)),\n",
        "   layers.Dropout(rate=0.2),\n",
        "\n",
        "   #layers.Dense(50,activation='relu',activity_regularizer=keras.regularizers.l2(1e-2)),\n",
        "   #layers.Dropout(rate=0.2),\n",
        "   #layers.Dense(50,activation='relu',activity_regularizer=keras.regularizers.l2(1e-2)),\n",
        "   #layers.Dropout(rate=0.2),\n",
        "   #layers.Dense(50,activation='relu',activity_regularizer=keras.regularizers.l2(1e-2)),\n",
        "   #layers.Dropout(rate=0.2),\n",
        "   #layers.Dense(36,activation='relu',activity_regularizer=keras.regularizers.l2(1e-2)),\n",
        "   #layers.Dropout(rate=0.3),\n",
        "\n",
        "   layers.Dense(1)\n",
        "])"
      ],
      "execution_count": 75,
      "outputs": []
    },
    {
      "cell_type": "code",
      "metadata": {
        "id": "UYqwxV_uaPeX"
      },
      "source": [
        "optimizer=keras.optimizers.RMSprop(0.01)\n",
        "metric1=keras.metrics.RootMeanSquaredError()\n",
        "metric2=keras.metrics.MeanAbsoluteError()\n",
        "model.compile(\n",
        "    optimizer='adam',\n",
        "    loss='mae',\n",
        "    metrics=[metric1]\n",
        ")"
      ],
      "execution_count": 76,
      "outputs": []
    },
    {
      "cell_type": "code",
      "metadata": {
        "id": "VhnTp_SzaUoA"
      },
      "source": [
        "early_stopping=keras.callbacks.EarlyStopping(\n",
        "    monitor='val_loss',\n",
        "    patience=10,\n",
        "    restore_best_weights=True,\n",
        "    verbose=0\n",
        ")"
      ],
      "execution_count": 77,
      "outputs": []
    },
    {
      "cell_type": "code",
      "metadata": {
        "colab": {
          "base_uri": "https://localhost:8080/"
        },
        "id": "nuvcU1yjaXPh",
        "outputId": "ee9f4635-361a-4944-88ef-e00c72684178"
      },
      "source": [
        "history=model.fit(\n",
        "    norm_x_train,y_train,\n",
        "    validation_split=0.80,\n",
        "    epochs=200,\n",
        "    batch_size=512,\n",
        "    callbacks=[early_stopping]\n",
        ")"
      ],
      "execution_count": 78,
      "outputs": [
        {
          "output_type": "stream",
          "text": [
            "Epoch 1/200\n",
            "12/12 [==============================] - 1s 45ms/step - loss: 47966.0938 - root_mean_squared_error: 67546.3984 - val_loss: 48083.4805 - val_root_mean_squared_error: 67608.9453\n",
            "Epoch 2/200\n",
            "12/12 [==============================] - 0s 26ms/step - loss: 47864.3438 - root_mean_squared_error: 67546.2344 - val_loss: 47993.2812 - val_root_mean_squared_error: 67608.8203\n",
            "Epoch 3/200\n",
            "12/12 [==============================] - 0s 28ms/step - loss: 47782.9219 - root_mean_squared_error: 67546.1250 - val_loss: 47922.1836 - val_root_mean_squared_error: 67608.6875\n",
            "Epoch 4/200\n",
            "12/12 [==============================] - 0s 26ms/step - loss: 47719.2812 - root_mean_squared_error: 67545.9766 - val_loss: 47867.1562 - val_root_mean_squared_error: 67608.5078\n",
            "Epoch 5/200\n",
            "12/12 [==============================] - 0s 26ms/step - loss: 47670.3203 - root_mean_squared_error: 67545.7891 - val_loss: 47825.1094 - val_root_mean_squared_error: 67608.2969\n",
            "Epoch 6/200\n",
            "12/12 [==============================] - 0s 27ms/step - loss: 47633.0469 - root_mean_squared_error: 67545.5469 - val_loss: 47793.2734 - val_root_mean_squared_error: 67608.0312\n",
            "Epoch 7/200\n",
            "12/12 [==============================] - 0s 28ms/step - loss: 47604.9258 - root_mean_squared_error: 67545.2578 - val_loss: 47769.3438 - val_root_mean_squared_error: 67607.7031\n",
            "Epoch 8/200\n",
            "12/12 [==============================] - 0s 27ms/step - loss: 47583.8516 - root_mean_squared_error: 67544.8984 - val_loss: 47751.4805 - val_root_mean_squared_error: 67607.2969\n",
            "Epoch 9/200\n",
            "12/12 [==============================] - 0s 27ms/step - loss: 47568.1562 - root_mean_squared_error: 67544.4609 - val_loss: 47738.2305 - val_root_mean_squared_error: 67606.7891\n",
            "Epoch 10/200\n",
            "12/12 [==============================] - 0s 26ms/step - loss: 47556.5430 - root_mean_squared_error: 67543.8672 - val_loss: 47728.4219 - val_root_mean_squared_error: 67606.1172\n",
            "Epoch 11/200\n",
            "12/12 [==============================] - 0s 28ms/step - loss: 47547.9414 - root_mean_squared_error: 67543.1016 - val_loss: 47721.1406 - val_root_mean_squared_error: 67605.1953\n",
            "Epoch 12/200\n",
            "12/12 [==============================] - 0s 27ms/step - loss: 47541.5039 - root_mean_squared_error: 67541.9453 - val_loss: 47715.6055 - val_root_mean_squared_error: 67603.7656\n",
            "Epoch 13/200\n",
            "12/12 [==============================] - 0s 27ms/step - loss: 47536.5000 - root_mean_squared_error: 67540.1797 - val_loss: 47711.1523 - val_root_mean_squared_error: 67601.3047\n",
            "Epoch 14/200\n",
            "12/12 [==============================] - 0s 28ms/step - loss: 47532.2266 - root_mean_squared_error: 67536.5234 - val_loss: 47706.5469 - val_root_mean_squared_error: 67595.6250\n",
            "Epoch 15/200\n",
            "12/12 [==============================] - 0s 28ms/step - loss: 47526.1484 - root_mean_squared_error: 67526.7500 - val_loss: 47696.5977 - val_root_mean_squared_error: 67575.3125\n",
            "Epoch 16/200\n",
            "12/12 [==============================] - 0s 27ms/step - loss: 47496.4609 - root_mean_squared_error: 67467.8828 - val_loss: 47608.0742 - val_root_mean_squared_error: 67414.8906\n",
            "Epoch 17/200\n",
            "12/12 [==============================] - 0s 27ms/step - loss: 47190.9219 - root_mean_squared_error: 66976.2891 - val_loss: 46790.8086 - val_root_mean_squared_error: 66130.2188\n",
            "Epoch 18/200\n",
            "12/12 [==============================] - 0s 26ms/step - loss: 45308.1211 - root_mean_squared_error: 64048.6172 - val_loss: 42819.2969 - val_root_mean_squared_error: 60181.5234\n",
            "Epoch 19/200\n",
            "12/12 [==============================] - 0s 26ms/step - loss: 38591.7031 - root_mean_squared_error: 53941.0156 - val_loss: 31688.3301 - val_root_mean_squared_error: 43004.3750\n",
            "Epoch 20/200\n",
            "12/12 [==============================] - 0s 27ms/step - loss: 26748.8633 - root_mean_squared_error: 36669.7188 - val_loss: 23033.1973 - val_root_mean_squared_error: 34644.2109\n",
            "Epoch 21/200\n",
            "12/12 [==============================] - 0s 26ms/step - loss: 21914.2305 - root_mean_squared_error: 32949.7617 - val_loss: 19714.7285 - val_root_mean_squared_error: 29098.3555\n",
            "Epoch 22/200\n",
            "12/12 [==============================] - 0s 28ms/step - loss: 19714.2715 - root_mean_squared_error: 30675.7441 - val_loss: 17662.7793 - val_root_mean_squared_error: 29962.4473\n",
            "Epoch 23/200\n",
            "12/12 [==============================] - 0s 25ms/step - loss: 18735.8379 - root_mean_squared_error: 31329.9473 - val_loss: 17051.4336 - val_root_mean_squared_error: 29328.9707\n",
            "Epoch 24/200\n",
            "12/12 [==============================] - 0s 27ms/step - loss: 18302.3535 - root_mean_squared_error: 31238.9434 - val_loss: 16541.0391 - val_root_mean_squared_error: 29516.1719\n",
            "Epoch 25/200\n",
            "12/12 [==============================] - 0s 26ms/step - loss: 17844.4297 - root_mean_squared_error: 31097.4980 - val_loss: 16207.4912 - val_root_mean_squared_error: 29606.5254\n",
            "Epoch 26/200\n",
            "12/12 [==============================] - 0s 26ms/step - loss: 17792.8438 - root_mean_squared_error: 31516.9922 - val_loss: 16139.5010 - val_root_mean_squared_error: 29270.0977\n",
            "Epoch 27/200\n",
            "12/12 [==============================] - 0s 29ms/step - loss: 17543.3633 - root_mean_squared_error: 31208.6934 - val_loss: 15768.3818 - val_root_mean_squared_error: 29434.9707\n",
            "Epoch 28/200\n",
            "12/12 [==============================] - 0s 26ms/step - loss: 17253.7109 - root_mean_squared_error: 30732.9766 - val_loss: 15716.5039 - val_root_mean_squared_error: 29152.3418\n",
            "Epoch 29/200\n",
            "12/12 [==============================] - 0s 26ms/step - loss: 17311.8906 - root_mean_squared_error: 31267.4883 - val_loss: 15421.7510 - val_root_mean_squared_error: 29296.9902\n",
            "Epoch 30/200\n",
            "12/12 [==============================] - 0s 27ms/step - loss: 16925.1309 - root_mean_squared_error: 30439.8906 - val_loss: 15256.4043 - val_root_mean_squared_error: 29200.7246\n",
            "Epoch 31/200\n",
            "12/12 [==============================] - 0s 26ms/step - loss: 17002.8594 - root_mean_squared_error: 30991.9219 - val_loss: 15176.7500 - val_root_mean_squared_error: 28993.6465\n",
            "Epoch 32/200\n",
            "12/12 [==============================] - 0s 27ms/step - loss: 16898.0977 - root_mean_squared_error: 30761.5957 - val_loss: 14967.9854 - val_root_mean_squared_error: 28954.1348\n",
            "Epoch 33/200\n",
            "12/12 [==============================] - 0s 27ms/step - loss: 16732.3906 - root_mean_squared_error: 30448.4785 - val_loss: 14828.3564 - val_root_mean_squared_error: 28921.5508\n",
            "Epoch 34/200\n",
            "12/12 [==============================] - 0s 26ms/step - loss: 16719.8047 - root_mean_squared_error: 30669.5859 - val_loss: 14809.9697 - val_root_mean_squared_error: 28524.4297\n",
            "Epoch 35/200\n",
            "12/12 [==============================] - 0s 27ms/step - loss: 16639.9434 - root_mean_squared_error: 30758.8750 - val_loss: 14750.0186 - val_root_mean_squared_error: 28335.1855\n",
            "Epoch 36/200\n",
            "12/12 [==============================] - 0s 26ms/step - loss: 16381.6299 - root_mean_squared_error: 30034.9922 - val_loss: 14529.4736 - val_root_mean_squared_error: 28477.8945\n",
            "Epoch 37/200\n",
            "12/12 [==============================] - 0s 27ms/step - loss: 16387.2949 - root_mean_squared_error: 30080.9238 - val_loss: 14492.6465 - val_root_mean_squared_error: 28226.7734\n",
            "Epoch 38/200\n",
            "12/12 [==============================] - 0s 27ms/step - loss: 16348.8945 - root_mean_squared_error: 30228.8770 - val_loss: 14716.2256 - val_root_mean_squared_error: 27802.7031\n",
            "Epoch 39/200\n",
            "12/12 [==============================] - 0s 26ms/step - loss: 16278.6201 - root_mean_squared_error: 29877.3203 - val_loss: 14359.0977 - val_root_mean_squared_error: 28010.5410\n",
            "Epoch 40/200\n",
            "12/12 [==============================] - 0s 26ms/step - loss: 16198.0303 - root_mean_squared_error: 29590.1172 - val_loss: 14236.4746 - val_root_mean_squared_error: 28009.4590\n",
            "Epoch 41/200\n",
            "12/12 [==============================] - 0s 27ms/step - loss: 16105.5127 - root_mean_squared_error: 29789.5664 - val_loss: 14233.4736 - val_root_mean_squared_error: 27873.0547\n",
            "Epoch 42/200\n",
            "12/12 [==============================] - 0s 26ms/step - loss: 15958.4893 - root_mean_squared_error: 29565.0000 - val_loss: 14107.2998 - val_root_mean_squared_error: 27957.4941\n",
            "Epoch 43/200\n",
            "12/12 [==============================] - 0s 27ms/step - loss: 16080.4561 - root_mean_squared_error: 29904.8242 - val_loss: 14110.1016 - val_root_mean_squared_error: 27716.4277\n",
            "Epoch 44/200\n",
            "12/12 [==============================] - 0s 26ms/step - loss: 15948.7100 - root_mean_squared_error: 29654.5684 - val_loss: 13990.9131 - val_root_mean_squared_error: 27883.7363\n",
            "Epoch 45/200\n",
            "12/12 [==============================] - 0s 28ms/step - loss: 15945.3926 - root_mean_squared_error: 29677.6816 - val_loss: 14111.6387 - val_root_mean_squared_error: 27515.6484\n",
            "Epoch 46/200\n",
            "12/12 [==============================] - 0s 28ms/step - loss: 15826.7646 - root_mean_squared_error: 29433.7031 - val_loss: 13902.0918 - val_root_mean_squared_error: 27692.6016\n",
            "Epoch 47/200\n",
            "12/12 [==============================] - 0s 27ms/step - loss: 15978.9160 - root_mean_squared_error: 29654.0957 - val_loss: 13985.3691 - val_root_mean_squared_error: 27387.4980\n",
            "Epoch 48/200\n",
            "12/12 [==============================] - 0s 25ms/step - loss: 15872.6240 - root_mean_squared_error: 29702.2441 - val_loss: 13822.1348 - val_root_mean_squared_error: 27747.8906\n",
            "Epoch 49/200\n",
            "12/12 [==============================] - 0s 30ms/step - loss: 15770.0029 - root_mean_squared_error: 29840.4512 - val_loss: 13770.7354 - val_root_mean_squared_error: 27653.3867\n",
            "Epoch 50/200\n",
            "12/12 [==============================] - 0s 28ms/step - loss: 15630.1689 - root_mean_squared_error: 29401.2676 - val_loss: 13766.0625 - val_root_mean_squared_error: 27373.3340\n",
            "Epoch 51/200\n",
            "12/12 [==============================] - 0s 25ms/step - loss: 15554.4229 - root_mean_squared_error: 29327.1953 - val_loss: 13712.3350 - val_root_mean_squared_error: 27620.1758\n",
            "Epoch 52/200\n",
            "12/12 [==============================] - 0s 28ms/step - loss: 15689.3613 - root_mean_squared_error: 29424.6113 - val_loss: 13860.0586 - val_root_mean_squared_error: 27080.1289\n",
            "Epoch 53/200\n",
            "12/12 [==============================] - 0s 28ms/step - loss: 15648.3691 - root_mean_squared_error: 29159.7012 - val_loss: 13641.6436 - val_root_mean_squared_error: 27391.4492\n",
            "Epoch 54/200\n",
            "12/12 [==============================] - 0s 26ms/step - loss: 15638.5566 - root_mean_squared_error: 28912.7090 - val_loss: 13665.6641 - val_root_mean_squared_error: 27136.4180\n",
            "Epoch 55/200\n",
            "12/12 [==============================] - 0s 27ms/step - loss: 15329.8242 - root_mean_squared_error: 28854.6621 - val_loss: 13601.7998 - val_root_mean_squared_error: 27125.2246\n",
            "Epoch 56/200\n",
            "12/12 [==============================] - 0s 28ms/step - loss: 15516.7998 - root_mean_squared_error: 29082.4043 - val_loss: 13660.4238 - val_root_mean_squared_error: 26936.8730\n",
            "Epoch 57/200\n",
            "12/12 [==============================] - 0s 26ms/step - loss: 15506.6875 - root_mean_squared_error: 29181.5078 - val_loss: 13512.7227 - val_root_mean_squared_error: 27017.3926\n",
            "Epoch 58/200\n",
            "12/12 [==============================] - 0s 26ms/step - loss: 15289.0537 - root_mean_squared_error: 28568.9629 - val_loss: 13462.8213 - val_root_mean_squared_error: 27246.9727\n",
            "Epoch 59/200\n",
            "12/12 [==============================] - 0s 29ms/step - loss: 15376.4365 - root_mean_squared_error: 28711.9004 - val_loss: 13554.6250 - val_root_mean_squared_error: 26812.8418\n",
            "Epoch 60/200\n",
            "12/12 [==============================] - 0s 26ms/step - loss: 15181.3877 - root_mean_squared_error: 28471.8613 - val_loss: 13522.9219 - val_root_mean_squared_error: 26747.1348\n",
            "Epoch 61/200\n",
            "12/12 [==============================] - 0s 25ms/step - loss: 15497.2002 - root_mean_squared_error: 29304.1152 - val_loss: 13370.6904 - val_root_mean_squared_error: 26865.4453\n",
            "Epoch 62/200\n",
            "12/12 [==============================] - 0s 27ms/step - loss: 15229.0498 - root_mean_squared_error: 28474.0508 - val_loss: 13284.8359 - val_root_mean_squared_error: 27154.5195\n",
            "Epoch 63/200\n",
            "12/12 [==============================] - 0s 27ms/step - loss: 15130.9355 - root_mean_squared_error: 28992.8750 - val_loss: 13260.2451 - val_root_mean_squared_error: 27098.6113\n",
            "Epoch 64/200\n",
            "12/12 [==============================] - 0s 26ms/step - loss: 15042.5107 - root_mean_squared_error: 28445.7441 - val_loss: 13298.3086 - val_root_mean_squared_error: 26708.2891\n",
            "Epoch 65/200\n",
            "12/12 [==============================] - 0s 28ms/step - loss: 15059.2461 - root_mean_squared_error: 28407.1074 - val_loss: 13196.1367 - val_root_mean_squared_error: 26842.2969\n",
            "Epoch 66/200\n",
            "12/12 [==============================] - 0s 27ms/step - loss: 15064.2334 - root_mean_squared_error: 28302.8047 - val_loss: 13309.0586 - val_root_mean_squared_error: 26542.8848\n",
            "Epoch 67/200\n",
            "12/12 [==============================] - 0s 26ms/step - loss: 15040.0547 - root_mean_squared_error: 28426.5781 - val_loss: 13293.1943 - val_root_mean_squared_error: 26548.4668\n",
            "Epoch 68/200\n",
            "12/12 [==============================] - 0s 27ms/step - loss: 15158.8320 - root_mean_squared_error: 28479.9766 - val_loss: 13099.8662 - val_root_mean_squared_error: 26981.1504\n",
            "Epoch 69/200\n",
            "12/12 [==============================] - 0s 29ms/step - loss: 15034.6084 - root_mean_squared_error: 28559.8574 - val_loss: 13138.2285 - val_root_mean_squared_error: 26589.4590\n",
            "Epoch 70/200\n",
            "12/12 [==============================] - 0s 26ms/step - loss: 15040.0078 - root_mean_squared_error: 28545.7617 - val_loss: 13091.9961 - val_root_mean_squared_error: 26568.4141\n",
            "Epoch 71/200\n",
            "12/12 [==============================] - 0s 25ms/step - loss: 14939.0850 - root_mean_squared_error: 28516.8652 - val_loss: 13019.0479 - val_root_mean_squared_error: 26768.0391\n",
            "Epoch 72/200\n",
            "12/12 [==============================] - 0s 27ms/step - loss: 15019.3027 - root_mean_squared_error: 28368.1660 - val_loss: 13161.3447 - val_root_mean_squared_error: 26327.5137\n",
            "Epoch 73/200\n",
            "12/12 [==============================] - 0s 27ms/step - loss: 14925.8408 - root_mean_squared_error: 28692.0469 - val_loss: 13066.2119 - val_root_mean_squared_error: 26424.0312\n",
            "Epoch 74/200\n",
            "12/12 [==============================] - 0s 27ms/step - loss: 14806.9492 - root_mean_squared_error: 28354.1094 - val_loss: 13033.2783 - val_root_mean_squared_error: 26338.5938\n",
            "Epoch 75/200\n",
            "12/12 [==============================] - 0s 28ms/step - loss: 14780.4678 - root_mean_squared_error: 27855.5547 - val_loss: 12927.8320 - val_root_mean_squared_error: 26838.6504\n",
            "Epoch 76/200\n",
            "12/12 [==============================] - 0s 26ms/step - loss: 14778.7354 - root_mean_squared_error: 28197.8848 - val_loss: 12926.2529 - val_root_mean_squared_error: 26404.4277\n",
            "Epoch 77/200\n",
            "12/12 [==============================] - 0s 26ms/step - loss: 14918.2568 - root_mean_squared_error: 28450.0059 - val_loss: 12967.3525 - val_root_mean_squared_error: 26261.2930\n",
            "Epoch 78/200\n",
            "12/12 [==============================] - 0s 28ms/step - loss: 14685.5371 - root_mean_squared_error: 28328.2930 - val_loss: 12849.3975 - val_root_mean_squared_error: 26469.3281\n",
            "Epoch 79/200\n",
            "12/12 [==============================] - 0s 28ms/step - loss: 14679.2666 - root_mean_squared_error: 28010.0527 - val_loss: 12974.6191 - val_root_mean_squared_error: 26194.3672\n",
            "Epoch 80/200\n",
            "12/12 [==============================] - 0s 27ms/step - loss: 14869.9727 - root_mean_squared_error: 28382.6875 - val_loss: 12764.8652 - val_root_mean_squared_error: 26638.9258\n",
            "Epoch 81/200\n",
            "12/12 [==============================] - 0s 27ms/step - loss: 14721.8398 - root_mean_squared_error: 28086.8691 - val_loss: 12978.3887 - val_root_mean_squared_error: 26058.4375\n",
            "Epoch 82/200\n",
            "12/12 [==============================] - 0s 28ms/step - loss: 14587.6299 - root_mean_squared_error: 28173.8535 - val_loss: 12841.5146 - val_root_mean_squared_error: 26148.5898\n",
            "Epoch 83/200\n",
            "12/12 [==============================] - 0s 28ms/step - loss: 14564.3896 - root_mean_squared_error: 27906.0996 - val_loss: 12842.9111 - val_root_mean_squared_error: 26074.9609\n",
            "Epoch 84/200\n",
            "12/12 [==============================] - 0s 28ms/step - loss: 14595.1455 - root_mean_squared_error: 27644.8457 - val_loss: 12813.6260 - val_root_mean_squared_error: 26090.8145\n",
            "Epoch 85/200\n",
            "12/12 [==============================] - 0s 27ms/step - loss: 14602.8340 - root_mean_squared_error: 27990.1289 - val_loss: 12666.3652 - val_root_mean_squared_error: 26522.7285\n",
            "Epoch 86/200\n",
            "12/12 [==============================] - 0s 28ms/step - loss: 14635.8047 - root_mean_squared_error: 28277.9277 - val_loss: 12824.3340 - val_root_mean_squared_error: 25999.6660\n",
            "Epoch 87/200\n",
            "12/12 [==============================] - 0s 26ms/step - loss: 14646.3945 - root_mean_squared_error: 27993.8477 - val_loss: 12635.7402 - val_root_mean_squared_error: 26342.7617\n",
            "Epoch 88/200\n",
            "12/12 [==============================] - 0s 28ms/step - loss: 14647.7529 - root_mean_squared_error: 28529.7871 - val_loss: 12636.1523 - val_root_mean_squared_error: 26186.5547\n",
            "Epoch 89/200\n",
            "12/12 [==============================] - 0s 27ms/step - loss: 14481.1602 - root_mean_squared_error: 27802.2852 - val_loss: 12588.8555 - val_root_mean_squared_error: 26164.4434\n",
            "Epoch 90/200\n",
            "12/12 [==============================] - 0s 27ms/step - loss: 14531.6885 - root_mean_squared_error: 28090.7305 - val_loss: 12645.6328 - val_root_mean_squared_error: 26032.2637\n",
            "Epoch 91/200\n",
            "12/12 [==============================] - 0s 29ms/step - loss: 14418.0645 - root_mean_squared_error: 27937.4922 - val_loss: 12625.6475 - val_root_mean_squared_error: 26055.3066\n",
            "Epoch 92/200\n",
            "12/12 [==============================] - 0s 27ms/step - loss: 14355.7686 - root_mean_squared_error: 28066.1738 - val_loss: 12563.0205 - val_root_mean_squared_error: 26110.4355\n",
            "Epoch 93/200\n",
            "12/12 [==============================] - 0s 26ms/step - loss: 14320.4668 - root_mean_squared_error: 27706.1504 - val_loss: 12527.4941 - val_root_mean_squared_error: 26117.3770\n",
            "Epoch 94/200\n",
            "12/12 [==============================] - 0s 30ms/step - loss: 14331.6709 - root_mean_squared_error: 27596.7129 - val_loss: 12488.8008 - val_root_mean_squared_error: 26185.9473\n",
            "Epoch 95/200\n",
            "12/12 [==============================] - 0s 26ms/step - loss: 14403.4395 - root_mean_squared_error: 27752.9473 - val_loss: 12470.5537 - val_root_mean_squared_error: 26209.1055\n",
            "Epoch 96/200\n",
            "12/12 [==============================] - 0s 28ms/step - loss: 14258.5596 - root_mean_squared_error: 27737.4023 - val_loss: 12473.0029 - val_root_mean_squared_error: 25997.6367\n",
            "Epoch 97/200\n",
            "12/12 [==============================] - 0s 27ms/step - loss: 14406.2383 - root_mean_squared_error: 27718.4609 - val_loss: 12701.3945 - val_root_mean_squared_error: 25714.1602\n",
            "Epoch 98/200\n",
            "12/12 [==============================] - 0s 27ms/step - loss: 14192.1211 - root_mean_squared_error: 27559.8574 - val_loss: 12500.2871 - val_root_mean_squared_error: 25893.1484\n",
            "Epoch 99/200\n",
            "12/12 [==============================] - 0s 28ms/step - loss: 14258.3174 - root_mean_squared_error: 27909.4707 - val_loss: 12388.2148 - val_root_mean_squared_error: 26123.1660\n",
            "Epoch 100/200\n",
            "12/12 [==============================] - 0s 27ms/step - loss: 14262.5000 - root_mean_squared_error: 27745.7598 - val_loss: 12386.2490 - val_root_mean_squared_error: 26009.4238\n",
            "Epoch 101/200\n",
            "12/12 [==============================] - 0s 28ms/step - loss: 14201.4268 - root_mean_squared_error: 27984.4258 - val_loss: 12454.1748 - val_root_mean_squared_error: 25905.4824\n",
            "Epoch 102/200\n",
            "12/12 [==============================] - 0s 27ms/step - loss: 14198.7461 - root_mean_squared_error: 27997.5957 - val_loss: 12433.7246 - val_root_mean_squared_error: 25825.1758\n",
            "Epoch 103/200\n",
            "12/12 [==============================] - 0s 30ms/step - loss: 14159.7451 - root_mean_squared_error: 27350.3086 - val_loss: 12372.5723 - val_root_mean_squared_error: 25969.9961\n",
            "Epoch 104/200\n",
            "12/12 [==============================] - 0s 27ms/step - loss: 14200.3018 - root_mean_squared_error: 28048.3848 - val_loss: 12450.1201 - val_root_mean_squared_error: 25767.7441\n",
            "Epoch 105/200\n",
            "12/12 [==============================] - 0s 27ms/step - loss: 14180.1182 - root_mean_squared_error: 27300.2031 - val_loss: 12326.4395 - val_root_mean_squared_error: 25959.6484\n",
            "Epoch 106/200\n",
            "12/12 [==============================] - 0s 28ms/step - loss: 14122.0352 - root_mean_squared_error: 27380.2793 - val_loss: 12300.3184 - val_root_mean_squared_error: 25874.3047\n",
            "Epoch 107/200\n",
            "12/12 [==============================] - 0s 26ms/step - loss: 13963.7031 - root_mean_squared_error: 27271.7285 - val_loss: 12283.3887 - val_root_mean_squared_error: 26000.1914\n",
            "Epoch 108/200\n",
            "12/12 [==============================] - 0s 28ms/step - loss: 14175.1836 - root_mean_squared_error: 27803.6289 - val_loss: 12259.9043 - val_root_mean_squared_error: 25815.5508\n",
            "Epoch 109/200\n",
            "12/12 [==============================] - 0s 29ms/step - loss: 14204.5488 - root_mean_squared_error: 27854.0879 - val_loss: 12279.7324 - val_root_mean_squared_error: 25826.1270\n",
            "Epoch 110/200\n",
            "12/12 [==============================] - 0s 28ms/step - loss: 14085.6680 - root_mean_squared_error: 27921.0645 - val_loss: 12215.2246 - val_root_mean_squared_error: 26030.5645\n",
            "Epoch 111/200\n",
            "12/12 [==============================] - 0s 26ms/step - loss: 14036.9502 - root_mean_squared_error: 27154.2578 - val_loss: 12185.0977 - val_root_mean_squared_error: 25941.0840\n",
            "Epoch 112/200\n",
            "12/12 [==============================] - 0s 27ms/step - loss: 14078.8047 - root_mean_squared_error: 27622.9805 - val_loss: 12315.8652 - val_root_mean_squared_error: 25637.0820\n",
            "Epoch 113/200\n",
            "12/12 [==============================] - 0s 28ms/step - loss: 13974.2412 - root_mean_squared_error: 27140.4023 - val_loss: 12293.9209 - val_root_mean_squared_error: 25594.1035\n",
            "Epoch 114/200\n",
            "12/12 [==============================] - 0s 27ms/step - loss: 13913.8857 - root_mean_squared_error: 27336.5508 - val_loss: 12381.9658 - val_root_mean_squared_error: 25458.3652\n",
            "Epoch 115/200\n",
            "12/12 [==============================] - 0s 30ms/step - loss: 14088.6650 - root_mean_squared_error: 27682.2129 - val_loss: 12201.6211 - val_root_mean_squared_error: 25797.4668\n",
            "Epoch 116/200\n",
            "12/12 [==============================] - 0s 29ms/step - loss: 14120.0000 - root_mean_squared_error: 27561.0703 - val_loss: 12121.2900 - val_root_mean_squared_error: 26022.4609\n",
            "Epoch 117/200\n",
            "12/12 [==============================] - 0s 27ms/step - loss: 14055.2812 - root_mean_squared_error: 27540.0645 - val_loss: 12170.0811 - val_root_mean_squared_error: 25665.1816\n",
            "Epoch 118/200\n",
            "12/12 [==============================] - 0s 27ms/step - loss: 13967.0400 - root_mean_squared_error: 27780.0156 - val_loss: 12275.8320 - val_root_mean_squared_error: 25548.5664\n",
            "Epoch 119/200\n",
            "12/12 [==============================] - 0s 28ms/step - loss: 14059.9297 - root_mean_squared_error: 27600.5410 - val_loss: 12234.1094 - val_root_mean_squared_error: 25515.3711\n",
            "Epoch 120/200\n",
            "12/12 [==============================] - 0s 29ms/step - loss: 14048.0537 - root_mean_squared_error: 27903.7324 - val_loss: 12073.1152 - val_root_mean_squared_error: 25841.7246\n",
            "Epoch 121/200\n",
            "12/12 [==============================] - 0s 29ms/step - loss: 14013.9688 - root_mean_squared_error: 27463.7148 - val_loss: 12078.9580 - val_root_mean_squared_error: 25837.6094\n",
            "Epoch 122/200\n",
            "12/12 [==============================] - 0s 29ms/step - loss: 14120.0645 - root_mean_squared_error: 27313.1914 - val_loss: 12095.1484 - val_root_mean_squared_error: 25663.3613\n",
            "Epoch 123/200\n",
            "12/12 [==============================] - 0s 27ms/step - loss: 14067.6504 - root_mean_squared_error: 27874.1504 - val_loss: 12184.7148 - val_root_mean_squared_error: 25568.6641\n",
            "Epoch 124/200\n",
            "12/12 [==============================] - 0s 28ms/step - loss: 13954.8369 - root_mean_squared_error: 27655.4863 - val_loss: 12093.4629 - val_root_mean_squared_error: 25578.7969\n",
            "Epoch 125/200\n",
            "12/12 [==============================] - 0s 28ms/step - loss: 13873.3164 - root_mean_squared_error: 27394.5508 - val_loss: 12067.6680 - val_root_mean_squared_error: 25782.2031\n",
            "Epoch 126/200\n",
            "12/12 [==============================] - 0s 27ms/step - loss: 13952.5391 - root_mean_squared_error: 27611.5586 - val_loss: 12054.1631 - val_root_mean_squared_error: 25594.1855\n",
            "Epoch 127/200\n",
            "12/12 [==============================] - 0s 27ms/step - loss: 13916.6045 - root_mean_squared_error: 27562.1758 - val_loss: 12109.4131 - val_root_mean_squared_error: 25562.4746\n",
            "Epoch 128/200\n",
            "12/12 [==============================] - 0s 29ms/step - loss: 14075.4756 - root_mean_squared_error: 27814.7520 - val_loss: 11995.9844 - val_root_mean_squared_error: 25756.0430\n",
            "Epoch 129/200\n",
            "12/12 [==============================] - 0s 26ms/step - loss: 13952.6963 - root_mean_squared_error: 27265.3184 - val_loss: 12149.8779 - val_root_mean_squared_error: 25367.4727\n",
            "Epoch 130/200\n",
            "12/12 [==============================] - 0s 27ms/step - loss: 13955.5908 - root_mean_squared_error: 27475.0098 - val_loss: 12153.3535 - val_root_mean_squared_error: 25392.0020\n",
            "Epoch 131/200\n",
            "12/12 [==============================] - 0s 29ms/step - loss: 13924.1943 - root_mean_squared_error: 27470.1387 - val_loss: 11996.5938 - val_root_mean_squared_error: 25877.1445\n",
            "Epoch 132/200\n",
            "12/12 [==============================] - 0s 28ms/step - loss: 13926.5195 - root_mean_squared_error: 27237.0957 - val_loss: 12066.4062 - val_root_mean_squared_error: 25477.9473\n",
            "Epoch 133/200\n",
            "12/12 [==============================] - 0s 28ms/step - loss: 13976.0391 - root_mean_squared_error: 27615.1953 - val_loss: 12151.6455 - val_root_mean_squared_error: 25406.4219\n",
            "Epoch 134/200\n",
            "12/12 [==============================] - 0s 30ms/step - loss: 13935.9678 - root_mean_squared_error: 27599.8301 - val_loss: 11966.3691 - val_root_mean_squared_error: 25573.8770\n",
            "Epoch 135/200\n",
            "12/12 [==============================] - 0s 26ms/step - loss: 13762.4697 - root_mean_squared_error: 27283.9004 - val_loss: 12133.9580 - val_root_mean_squared_error: 25277.0664\n",
            "Epoch 136/200\n",
            "12/12 [==============================] - 0s 27ms/step - loss: 13807.8330 - root_mean_squared_error: 27038.2734 - val_loss: 12025.0283 - val_root_mean_squared_error: 25407.4414\n",
            "Epoch 137/200\n",
            "12/12 [==============================] - 0s 28ms/step - loss: 13877.5410 - root_mean_squared_error: 27617.6816 - val_loss: 12301.7139 - val_root_mean_squared_error: 25239.0527\n",
            "Epoch 138/200\n",
            "12/12 [==============================] - 0s 27ms/step - loss: 14019.6904 - root_mean_squared_error: 27710.8145 - val_loss: 11932.8174 - val_root_mean_squared_error: 25638.6523\n",
            "Epoch 139/200\n",
            "12/12 [==============================] - 0s 28ms/step - loss: 13892.1797 - root_mean_squared_error: 27317.2305 - val_loss: 11939.1494 - val_root_mean_squared_error: 25854.7012\n",
            "Epoch 140/200\n",
            "12/12 [==============================] - 0s 27ms/step - loss: 14001.9219 - root_mean_squared_error: 27630.7344 - val_loss: 11970.1504 - val_root_mean_squared_error: 25457.0000\n",
            "Epoch 141/200\n",
            "12/12 [==============================] - 0s 27ms/step - loss: 13785.7510 - root_mean_squared_error: 27168.8613 - val_loss: 11904.9883 - val_root_mean_squared_error: 25702.2500\n",
            "Epoch 142/200\n",
            "12/12 [==============================] - 0s 27ms/step - loss: 13763.7031 - root_mean_squared_error: 26942.1621 - val_loss: 11895.1152 - val_root_mean_squared_error: 25595.8398\n",
            "Epoch 143/200\n",
            "12/12 [==============================] - 0s 27ms/step - loss: 13896.6992 - root_mean_squared_error: 27370.9844 - val_loss: 11991.2549 - val_root_mean_squared_error: 25369.5684\n",
            "Epoch 144/200\n",
            "12/12 [==============================] - 0s 27ms/step - loss: 13687.8770 - root_mean_squared_error: 27101.0332 - val_loss: 11873.6289 - val_root_mean_squared_error: 25669.5801\n",
            "Epoch 145/200\n",
            "12/12 [==============================] - 0s 29ms/step - loss: 13869.0898 - root_mean_squared_error: 27378.3008 - val_loss: 11969.8115 - val_root_mean_squared_error: 25416.6074\n",
            "Epoch 146/200\n",
            "12/12 [==============================] - 0s 28ms/step - loss: 13821.9531 - root_mean_squared_error: 27092.5566 - val_loss: 11946.9600 - val_root_mean_squared_error: 25352.0586\n",
            "Epoch 147/200\n",
            "12/12 [==============================] - 0s 30ms/step - loss: 13712.6670 - root_mean_squared_error: 27174.4219 - val_loss: 11976.5557 - val_root_mean_squared_error: 25281.0000\n",
            "Epoch 148/200\n",
            "12/12 [==============================] - 0s 27ms/step - loss: 13738.9980 - root_mean_squared_error: 27418.5332 - val_loss: 12060.8203 - val_root_mean_squared_error: 25188.9062\n",
            "Epoch 149/200\n",
            "12/12 [==============================] - 0s 29ms/step - loss: 13763.1348 - root_mean_squared_error: 27415.6914 - val_loss: 11856.7939 - val_root_mean_squared_error: 25691.0469\n",
            "Epoch 150/200\n",
            "12/12 [==============================] - 0s 28ms/step - loss: 13747.6113 - root_mean_squared_error: 27211.3359 - val_loss: 11838.8730 - val_root_mean_squared_error: 25460.1621\n",
            "Epoch 151/200\n",
            "12/12 [==============================] - 0s 28ms/step - loss: 13814.7529 - root_mean_squared_error: 27336.1406 - val_loss: 12002.0000 - val_root_mean_squared_error: 25260.5352\n",
            "Epoch 152/200\n",
            "12/12 [==============================] - 0s 28ms/step - loss: 13633.9014 - root_mean_squared_error: 27002.1484 - val_loss: 11861.7764 - val_root_mean_squared_error: 25382.3398\n",
            "Epoch 153/200\n",
            "12/12 [==============================] - 0s 28ms/step - loss: 13699.2871 - root_mean_squared_error: 27032.9062 - val_loss: 11818.3232 - val_root_mean_squared_error: 25505.6328\n",
            "Epoch 154/200\n",
            "12/12 [==============================] - 0s 28ms/step - loss: 13775.0039 - root_mean_squared_error: 27220.8105 - val_loss: 11795.6885 - val_root_mean_squared_error: 25550.8926\n",
            "Epoch 155/200\n",
            "12/12 [==============================] - 0s 28ms/step - loss: 13860.3770 - root_mean_squared_error: 27409.0918 - val_loss: 12029.5176 - val_root_mean_squared_error: 25144.2402\n",
            "Epoch 156/200\n",
            "12/12 [==============================] - 0s 28ms/step - loss: 13603.3428 - root_mean_squared_error: 26968.5996 - val_loss: 11819.9541 - val_root_mean_squared_error: 25479.9570\n",
            "Epoch 157/200\n",
            "12/12 [==============================] - 0s 29ms/step - loss: 13724.1885 - root_mean_squared_error: 26823.2559 - val_loss: 11940.1719 - val_root_mean_squared_error: 25172.1270\n",
            "Epoch 158/200\n",
            "12/12 [==============================] - 0s 27ms/step - loss: 13727.1318 - root_mean_squared_error: 27109.8535 - val_loss: 11861.3604 - val_root_mean_squared_error: 25313.7812\n",
            "Epoch 159/200\n",
            "12/12 [==============================] - 0s 28ms/step - loss: 13700.2803 - root_mean_squared_error: 27344.6816 - val_loss: 11772.2490 - val_root_mean_squared_error: 25558.3066\n",
            "Epoch 160/200\n",
            "12/12 [==============================] - 0s 28ms/step - loss: 13747.5049 - root_mean_squared_error: 27420.9180 - val_loss: 11860.8320 - val_root_mean_squared_error: 25259.6641\n",
            "Epoch 161/200\n",
            "12/12 [==============================] - 0s 28ms/step - loss: 13752.6191 - root_mean_squared_error: 27297.7246 - val_loss: 11789.3193 - val_root_mean_squared_error: 25439.4512\n",
            "Epoch 162/200\n",
            "12/12 [==============================] - 0s 29ms/step - loss: 13647.3438 - root_mean_squared_error: 27025.3242 - val_loss: 11789.7676 - val_root_mean_squared_error: 25785.4844\n",
            "Epoch 163/200\n",
            "12/12 [==============================] - 0s 28ms/step - loss: 13631.0039 - root_mean_squared_error: 27199.6934 - val_loss: 11784.1582 - val_root_mean_squared_error: 25326.2988\n",
            "Epoch 164/200\n",
            "12/12 [==============================] - 0s 28ms/step - loss: 13608.7705 - root_mean_squared_error: 27288.2520 - val_loss: 11835.3506 - val_root_mean_squared_error: 25228.6309\n",
            "Epoch 165/200\n",
            "12/12 [==============================] - 0s 28ms/step - loss: 13791.9609 - root_mean_squared_error: 27098.3379 - val_loss: 11844.6768 - val_root_mean_squared_error: 25223.6973\n",
            "Epoch 166/200\n",
            "12/12 [==============================] - 0s 27ms/step - loss: 13753.5977 - root_mean_squared_error: 27269.6934 - val_loss: 11784.5352 - val_root_mean_squared_error: 25328.2734\n",
            "Epoch 167/200\n",
            "12/12 [==============================] - 0s 28ms/step - loss: 13551.4355 - root_mean_squared_error: 27235.3438 - val_loss: 11843.0928 - val_root_mean_squared_error: 25194.5879\n",
            "Epoch 168/200\n",
            "12/12 [==============================] - 0s 27ms/step - loss: 13626.3389 - root_mean_squared_error: 27035.6426 - val_loss: 12071.7812 - val_root_mean_squared_error: 24978.8848\n",
            "Epoch 169/200\n",
            "12/12 [==============================] - 0s 28ms/step - loss: 13678.5850 - root_mean_squared_error: 26876.3242 - val_loss: 11711.8223 - val_root_mean_squared_error: 25584.4297\n",
            "Epoch 170/200\n",
            "12/12 [==============================] - 0s 26ms/step - loss: 13647.8467 - root_mean_squared_error: 26988.5469 - val_loss: 11705.1094 - val_root_mean_squared_error: 25497.4941\n",
            "Epoch 171/200\n",
            "12/12 [==============================] - 0s 28ms/step - loss: 13479.3027 - root_mean_squared_error: 26956.9160 - val_loss: 11758.4805 - val_root_mean_squared_error: 25283.5254\n",
            "Epoch 172/200\n",
            "12/12 [==============================] - 0s 27ms/step - loss: 13651.3779 - root_mean_squared_error: 27053.9473 - val_loss: 11671.9160 - val_root_mean_squared_error: 25499.7480\n",
            "Epoch 173/200\n",
            "12/12 [==============================] - 0s 29ms/step - loss: 13688.0449 - root_mean_squared_error: 27508.6348 - val_loss: 11696.5898 - val_root_mean_squared_error: 25442.4863\n",
            "Epoch 174/200\n",
            "12/12 [==============================] - 0s 28ms/step - loss: 13525.0586 - root_mean_squared_error: 27062.9551 - val_loss: 11677.1338 - val_root_mean_squared_error: 25390.9395\n",
            "Epoch 175/200\n",
            "12/12 [==============================] - 0s 27ms/step - loss: 13612.3779 - root_mean_squared_error: 26901.6797 - val_loss: 11665.7871 - val_root_mean_squared_error: 25545.3613\n",
            "Epoch 176/200\n",
            "12/12 [==============================] - 0s 31ms/step - loss: 13702.4062 - root_mean_squared_error: 26923.1738 - val_loss: 11671.1885 - val_root_mean_squared_error: 25595.5176\n",
            "Epoch 177/200\n",
            "12/12 [==============================] - 0s 29ms/step - loss: 13500.9092 - root_mean_squared_error: 27382.3750 - val_loss: 11685.5674 - val_root_mean_squared_error: 25463.1680\n",
            "Epoch 178/200\n",
            "12/12 [==============================] - 0s 29ms/step - loss: 13657.6221 - root_mean_squared_error: 27503.1719 - val_loss: 11736.6455 - val_root_mean_squared_error: 25197.3828\n",
            "Epoch 179/200\n",
            "12/12 [==============================] - 0s 27ms/step - loss: 13567.9414 - root_mean_squared_error: 27181.8965 - val_loss: 11653.0225 - val_root_mean_squared_error: 25355.5879\n",
            "Epoch 180/200\n",
            "12/12 [==============================] - 0s 28ms/step - loss: 13569.6641 - root_mean_squared_error: 27488.1953 - val_loss: 11793.5449 - val_root_mean_squared_error: 25087.6367\n",
            "Epoch 181/200\n",
            "12/12 [==============================] - 0s 29ms/step - loss: 13680.0977 - root_mean_squared_error: 27516.9473 - val_loss: 11682.1650 - val_root_mean_squared_error: 25213.9922\n",
            "Epoch 182/200\n",
            "12/12 [==============================] - 0s 27ms/step - loss: 13602.5020 - root_mean_squared_error: 27147.9570 - val_loss: 11752.4961 - val_root_mean_squared_error: 25141.9883\n",
            "Epoch 183/200\n",
            "12/12 [==============================] - 0s 29ms/step - loss: 13581.1113 - root_mean_squared_error: 27117.9023 - val_loss: 11622.3887 - val_root_mean_squared_error: 25593.9102\n",
            "Epoch 184/200\n",
            "12/12 [==============================] - 0s 28ms/step - loss: 13347.3965 - root_mean_squared_error: 26651.1309 - val_loss: 11691.6650 - val_root_mean_squared_error: 25206.9668\n",
            "Epoch 185/200\n",
            "12/12 [==============================] - 0s 27ms/step - loss: 13521.7832 - root_mean_squared_error: 27161.8164 - val_loss: 11828.8115 - val_root_mean_squared_error: 25014.8828\n",
            "Epoch 186/200\n",
            "12/12 [==============================] - 0s 28ms/step - loss: 13623.5225 - root_mean_squared_error: 27705.4160 - val_loss: 11746.2021 - val_root_mean_squared_error: 25127.8301\n",
            "Epoch 187/200\n",
            "12/12 [==============================] - 0s 27ms/step - loss: 13452.8623 - root_mean_squared_error: 26798.7266 - val_loss: 11601.4082 - val_root_mean_squared_error: 25415.9941\n",
            "Epoch 188/200\n",
            "12/12 [==============================] - 0s 27ms/step - loss: 13502.9141 - root_mean_squared_error: 26970.2598 - val_loss: 11639.2959 - val_root_mean_squared_error: 25262.2480\n",
            "Epoch 189/200\n",
            "12/12 [==============================] - 0s 28ms/step - loss: 13499.7402 - root_mean_squared_error: 27336.2461 - val_loss: 11680.2295 - val_root_mean_squared_error: 25092.9082\n",
            "Epoch 190/200\n",
            "12/12 [==============================] - 0s 28ms/step - loss: 13457.1738 - root_mean_squared_error: 26896.0684 - val_loss: 11576.0508 - val_root_mean_squared_error: 25469.8926\n",
            "Epoch 191/200\n",
            "12/12 [==============================] - 0s 29ms/step - loss: 13556.2900 - root_mean_squared_error: 26962.1406 - val_loss: 11621.0996 - val_root_mean_squared_error: 25333.2832\n",
            "Epoch 192/200\n",
            "12/12 [==============================] - 0s 28ms/step - loss: 13619.7783 - root_mean_squared_error: 27488.1504 - val_loss: 11592.3291 - val_root_mean_squared_error: 25293.4453\n",
            "Epoch 193/200\n",
            "12/12 [==============================] - 0s 27ms/step - loss: 13505.6094 - root_mean_squared_error: 26975.8613 - val_loss: 11635.0850 - val_root_mean_squared_error: 25190.4160\n",
            "Epoch 194/200\n",
            "12/12 [==============================] - 0s 31ms/step - loss: 13416.4590 - root_mean_squared_error: 26687.7676 - val_loss: 11569.8936 - val_root_mean_squared_error: 25271.3496\n",
            "Epoch 195/200\n",
            "12/12 [==============================] - 0s 29ms/step - loss: 13457.0215 - root_mean_squared_error: 26870.8047 - val_loss: 11618.2617 - val_root_mean_squared_error: 25207.5312\n",
            "Epoch 196/200\n",
            "12/12 [==============================] - 0s 28ms/step - loss: 13456.2080 - root_mean_squared_error: 26932.3438 - val_loss: 11706.3789 - val_root_mean_squared_error: 25051.8203\n",
            "Epoch 197/200\n",
            "12/12 [==============================] - 0s 29ms/step - loss: 13582.9922 - root_mean_squared_error: 27356.3223 - val_loss: 11678.8506 - val_root_mean_squared_error: 25214.0723\n",
            "Epoch 198/200\n",
            "12/12 [==============================] - 0s 28ms/step - loss: 13585.2480 - root_mean_squared_error: 26932.5645 - val_loss: 11647.0332 - val_root_mean_squared_error: 25117.5391\n",
            "Epoch 199/200\n",
            "12/12 [==============================] - 0s 29ms/step - loss: 13524.8057 - root_mean_squared_error: 26873.7578 - val_loss: 11727.1836 - val_root_mean_squared_error: 25026.0801\n",
            "Epoch 200/200\n",
            "12/12 [==============================] - 0s 29ms/step - loss: 13722.7246 - root_mean_squared_error: 27878.9355 - val_loss: 11971.3496 - val_root_mean_squared_error: 24805.6855\n"
          ],
          "name": "stdout"
        }
      ]
    },
    {
      "cell_type": "code",
      "metadata": {
        "colab": {
          "base_uri": "https://localhost:8080/",
          "height": 282
        },
        "id": "N1RsZ5HyabDS",
        "outputId": "8acb45bb-7511-4c12-e0e6-7e9a1e89cde7"
      },
      "source": [
        "history_df=pd.DataFrame(history.history)\n",
        "history_df.loc[10:,['loss','val_loss']].plot()"
      ],
      "execution_count": 79,
      "outputs": [
        {
          "output_type": "execute_result",
          "data": {
            "text/plain": [
              "<matplotlib.axes._subplots.AxesSubplot at 0x7fae85494dd0>"
            ]
          },
          "metadata": {
            "tags": []
          },
          "execution_count": 79
        },
        {
          "output_type": "display_data",
          "data": {
            "image/png": "[encoded data removed]",
            "text/plain": [
              "<Figure size 432x288 with 1 Axes>"
            ]
          },
          "metadata": {
            "tags": [],
            "needs_background": "light"
          }
        }
      ]
    },
    {
      "cell_type": "code",
      "metadata": {
        "id": "lq9y-hnQaoXv"
      },
      "source": [
        "nn=model.predict(norm_test)"
      ],
      "execution_count": 80,
      "outputs": []
    },
    {
      "cell_type": "code",
      "metadata": {
        "id": "1BxO57-3a_tX"
      },
      "source": [
        "submmitted_data = pd.DataFrame()"
      ],
      "execution_count": 81,
      "outputs": []
    },
    {
      "cell_type": "code",
      "metadata": {
        "id": "mLfWlvhabCVZ"
      },
      "source": [
        "submmitted_data['Customer ID'] = test['Customer ID']\n",
        "submmitted_data['Loan Sanction Amount (USD)'] = nn\n"
      ],
      "execution_count": 83,
      "outputs": []
    },
    {
      "cell_type": "code",
      "metadata": {
        "colab": {
          "base_uri": "https://localhost:8080/",
          "height": 203
        },
        "id": "-vfOoEEXbD4k",
        "outputId": "0166448e-6fe6-4efd-8cfe-54221d1b9602"
      },
      "source": [
        "submmitted_data.head()"
      ],
      "execution_count": 84,
      "outputs": [
        {
          "output_type": "execute_result",
          "data": {
            "text/html": [
              "<div>\n",
              "<style scoped>\n",
              "    .dataframe tbody tr th:only-of-type {\n",
              "        vertical-align: middle;\n",
              "    }\n",
              "\n",
              "    .dataframe tbody tr th {\n",
              "        vertical-align: top;\n",
              "    }\n",
              "\n",
              "    .dataframe thead th {\n",
              "        text-align: right;\n",
              "    }\n",
              "</style>\n",
              "<table border=\"1\" class=\"dataframe\">\n",
              "  <thead>\n",
              "    <tr style=\"text-align: right;\">\n",
              "      <th></th>\n",
              "      <th>Customer ID</th>\n",
              "      <th>Loan Sanction Amount (USD)</th>\n",
              "    </tr>\n",
              "  </thead>\n",
              "  <tbody>\n",
              "    <tr>\n",
              "      <th>0</th>\n",
              "      <td>C-26247</td>\n",
              "      <td>93285.640625</td>\n",
              "    </tr>\n",
              "    <tr>\n",
              "      <th>1</th>\n",
              "      <td>C-35067</td>\n",
              "      <td>75005.648438</td>\n",
              "    </tr>\n",
              "    <tr>\n",
              "      <th>2</th>\n",
              "      <td>C-34590</td>\n",
              "      <td>37695.496094</td>\n",
              "    </tr>\n",
              "    <tr>\n",
              "      <th>3</th>\n",
              "      <td>C-16668</td>\n",
              "      <td>61164.066406</td>\n",
              "    </tr>\n",
              "    <tr>\n",
              "      <th>4</th>\n",
              "      <td>C-12196</td>\n",
              "      <td>69476.078125</td>\n",
              "    </tr>\n",
              "  </tbody>\n",
              "</table>\n",
              "</div>"
            ],
            "text/plain": [
              "  Customer ID  Loan Sanction Amount (USD)\n",
              "0     C-26247                93285.640625\n",
              "1     C-35067                75005.648438\n",
              "2     C-34590                37695.496094\n",
              "3     C-16668                61164.066406\n",
              "4     C-12196                69476.078125"
            ]
          },
          "metadata": {
            "tags": []
          },
          "execution_count": 84
        }
      ]
    },
    {
      "cell_type": "code",
      "metadata": {
        "id": "Zclq0UjObGpy"
      },
      "source": [
        "submmitted_data.to_csv('output_9.csv',index=False)"
      ],
      "execution_count": 85,
      "outputs": []
    },
    {
      "cell_type": "code",
      "metadata": {
        "id": "1NNYfi2MbL55"
      },
      "source": [
        ""
      ],
      "execution_count": null,
      "outputs": []
    }
  ]
}