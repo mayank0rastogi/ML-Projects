{
  "nbformat": 4,
  "nbformat_minor": 0,
  "metadata": {
    "colab": {
      "name": "Machine Hack~ Predict flight ticket Price.ipynb",
      "provenance": [],
      "collapsed_sections": []
    },
    "kernelspec": {
      "display_name": "Python 3",
      "name": "python3"
    }
  },
  "cells": [
    {
      "cell_type": "code",
      "metadata": {
        "colab": {
          "base_uri": "https://localhost:8080/"
        },
        "id": "yEyhSpIGz38k",
        "outputId": "01d57005-01e8-4668-d51f-d1ec2ce99112"
      },
      "source": [
        "from zipfile import ZipFile\n",
        "file_name = \"/content/drive/MyDrive/machineHack/predict flight price/Data.zip\"\n",
        "with ZipFile(file_name,'r') as zip:\n",
        "  zip.extractall()\n",
        "  print('finish')\n"
      ],
      "execution_count": null,
      "outputs": [
        {
          "output_type": "stream",
          "text": [
            "finish\n"
          ],
          "name": "stdout"
        }
      ]
    },
    {
      "cell_type": "code",
      "metadata": {
        "id": "_X8b4QHK0LHn"
      },
      "source": [
        "import numpy as np\n",
        "import pandas as pd\n",
        "import tensorflow\n",
        "import keras\n",
        "#from keras.models import Sequential\n",
        "#from keras.layers import Dense\n",
        "from sklearn.model_selection import cross_val_score\n",
        "from sklearn.model_selection import KFold\n",
        "from sklearn.preprocessing import MinMaxScaler\n",
        "from sklearn.model_selection import train_test_split\n",
        "import seaborn as sns\n",
        "import matplotlib.pyplot as plt"
      ],
      "execution_count": null,
      "outputs": []
    },
    {
      "cell_type": "code",
      "metadata": {
        "id": "9pCNhMdD0Q_L"
      },
      "source": [
        "train = pd.read_excel('/content/Flight_Ticket_Participant_Datasets/Data_Train.xlsx')\n",
        "test = pd.read_excel('/content/Flight_Ticket_Participant_Datasets/Test_set.xlsx')\n"
      ],
      "execution_count": null,
      "outputs": []
    },
    {
      "cell_type": "code",
      "metadata": {
        "colab": {
          "base_uri": "https://localhost:8080/"
        },
        "id": "LSr3sAtg0g1h",
        "outputId": "1bf57fb2-d740-4863-9e1c-8981573134a7"
      },
      "source": [
        "train.info()"
      ],
      "execution_count": null,
      "outputs": [
        {
          "output_type": "stream",
          "text": [
            "<class 'pandas.core.frame.DataFrame'>\n",
            "RangeIndex: 10683 entries, 0 to 10682\n",
            "Data columns (total 11 columns):\n",
            " #   Column           Non-Null Count  Dtype \n",
            "---  ------           --------------  ----- \n",
            " 0   Airline          10683 non-null  object\n",
            " 1   Date_of_Journey  10683 non-null  object\n",
            " 2   Source           10683 non-null  object\n",
            " 3   Destination      10683 non-null  object\n",
            " 4   Route            10682 non-null  object\n",
            " 5   Dep_Time         10683 non-null  object\n",
            " 6   Arrival_Time     10683 non-null  object\n",
            " 7   Duration         10683 non-null  object\n",
            " 8   Total_Stops      10682 non-null  object\n",
            " 9   Additional_Info  10683 non-null  object\n",
            " 10  Price            10683 non-null  int64 \n",
            "dtypes: int64(1), object(10)\n",
            "memory usage: 918.2+ KB\n"
          ],
          "name": "stdout"
        }
      ]
    },
    {
      "cell_type": "code",
      "metadata": {
        "colab": {
          "base_uri": "https://localhost:8080/",
          "height": 229
        },
        "id": "hpQMGXKO0o-m",
        "outputId": "9bdc53ec-6240-4e43-9f9f-505ea5c9e3a1"
      },
      "source": [
        "train.head()"
      ],
      "execution_count": null,
      "outputs": [
        {
          "output_type": "execute_result",
          "data": {
            "text/html": [
              "<div>\n",
              "<style scoped>\n",
              "    .dataframe tbody tr th:only-of-type {\n",
              "        vertical-align: middle;\n",
              "    }\n",
              "\n",
              "    .dataframe tbody tr th {\n",
              "        vertical-align: top;\n",
              "    }\n",
              "\n",
              "    .dataframe thead th {\n",
              "        text-align: right;\n",
              "    }\n",
              "</style>\n",
              "<table border=\"1\" class=\"dataframe\">\n",
              "  <thead>\n",
              "    <tr style=\"text-align: right;\">\n",
              "      <th></th>\n",
              "      <th>Airline</th>\n",
              "      <th>Date_of_Journey</th>\n",
              "      <th>Source</th>\n",
              "      <th>Destination</th>\n",
              "      <th>Route</th>\n",
              "      <th>Dep_Time</th>\n",
              "      <th>Arrival_Time</th>\n",
              "      <th>Duration</th>\n",
              "      <th>Total_Stops</th>\n",
              "      <th>Additional_Info</th>\n",
              "      <th>Price</th>\n",
              "    </tr>\n",
              "  </thead>\n",
              "  <tbody>\n",
              "    <tr>\n",
              "      <th>0</th>\n",
              "      <td>IndiGo</td>\n",
              "      <td>24/03/2019</td>\n",
              "      <td>Banglore</td>\n",
              "      <td>New Delhi</td>\n",
              "      <td>BLR → DEL</td>\n",
              "      <td>22:20</td>\n",
              "      <td>01:10 22 Mar</td>\n",
              "      <td>2h 50m</td>\n",
              "      <td>non-stop</td>\n",
              "      <td>No info</td>\n",
              "      <td>3897</td>\n",
              "    </tr>\n",
              "    <tr>\n",
              "      <th>1</th>\n",
              "      <td>Air India</td>\n",
              "      <td>1/05/2019</td>\n",
              "      <td>Kolkata</td>\n",
              "      <td>Banglore</td>\n",
              "      <td>CCU → IXR → BBI → BLR</td>\n",
              "      <td>05:50</td>\n",
              "      <td>13:15</td>\n",
              "      <td>7h 25m</td>\n",
              "      <td>2 stops</td>\n",
              "      <td>No info</td>\n",
              "      <td>7662</td>\n",
              "    </tr>\n",
              "    <tr>\n",
              "      <th>2</th>\n",
              "      <td>Jet Airways</td>\n",
              "      <td>9/06/2019</td>\n",
              "      <td>Delhi</td>\n",
              "      <td>Cochin</td>\n",
              "      <td>DEL → LKO → BOM → COK</td>\n",
              "      <td>09:25</td>\n",
              "      <td>04:25 10 Jun</td>\n",
              "      <td>19h</td>\n",
              "      <td>2 stops</td>\n",
              "      <td>No info</td>\n",
              "      <td>13882</td>\n",
              "    </tr>\n",
              "    <tr>\n",
              "      <th>3</th>\n",
              "      <td>IndiGo</td>\n",
              "      <td>12/05/2019</td>\n",
              "      <td>Kolkata</td>\n",
              "      <td>Banglore</td>\n",
              "      <td>CCU → NAG → BLR</td>\n",
              "      <td>18:05</td>\n",
              "      <td>23:30</td>\n",
              "      <td>5h 25m</td>\n",
              "      <td>1 stop</td>\n",
              "      <td>No info</td>\n",
              "      <td>6218</td>\n",
              "    </tr>\n",
              "    <tr>\n",
              "      <th>4</th>\n",
              "      <td>IndiGo</td>\n",
              "      <td>01/03/2019</td>\n",
              "      <td>Banglore</td>\n",
              "      <td>New Delhi</td>\n",
              "      <td>BLR → NAG → DEL</td>\n",
              "      <td>16:50</td>\n",
              "      <td>21:35</td>\n",
              "      <td>4h 45m</td>\n",
              "      <td>1 stop</td>\n",
              "      <td>No info</td>\n",
              "      <td>13302</td>\n",
              "    </tr>\n",
              "  </tbody>\n",
              "</table>\n",
              "</div>"
            ],
            "text/plain": [
              "       Airline Date_of_Journey    Source  ... Total_Stops Additional_Info  Price\n",
              "0       IndiGo      24/03/2019  Banglore  ...    non-stop         No info   3897\n",
              "1    Air India       1/05/2019   Kolkata  ...     2 stops         No info   7662\n",
              "2  Jet Airways       9/06/2019     Delhi  ...     2 stops         No info  13882\n",
              "3       IndiGo      12/05/2019   Kolkata  ...      1 stop         No info   6218\n",
              "4       IndiGo      01/03/2019  Banglore  ...      1 stop         No info  13302\n",
              "\n",
              "[5 rows x 11 columns]"
            ]
          },
          "metadata": {
            "tags": []
          },
          "execution_count": 5
        }
      ]
    },
    {
      "cell_type": "code",
      "metadata": {
        "colab": {
          "base_uri": "https://localhost:8080/"
        },
        "id": "yewG9pQ-gTgv",
        "outputId": "ae5a0e4c-b7df-421d-b09b-c852ba9650a0"
      },
      "source": [
        "for i in train.columns:\n",
        "    print(\"Unique values in\", i, train[i].nunique(),\"values\",train[i].unique())"
      ],
      "execution_count": null,
      "outputs": [
        {
          "output_type": "stream",
          "text": [
            "Unique values in Airline 12 values ['IndiGo' 'Air India' 'Jet Airways' 'SpiceJet' 'Multiple carriers' 'GoAir'\n",
            " 'Vistara' 'Air Asia' 'Vistara Premium economy' 'Jet Airways Business'\n",
            " 'Multiple carriers Premium economy' 'Trujet']\n",
            "Unique values in Date_of_Journey 44 values ['24/03/2019' '1/05/2019' '9/06/2019' '12/05/2019' '01/03/2019'\n",
            " '24/06/2019' '12/03/2019' '27/05/2019' '1/06/2019' '18/04/2019'\n",
            " '9/05/2019' '24/04/2019' '3/03/2019' '15/04/2019' '12/06/2019'\n",
            " '6/03/2019' '21/03/2019' '3/04/2019' '6/05/2019' '15/05/2019'\n",
            " '18/06/2019' '15/06/2019' '6/04/2019' '18/05/2019' '27/06/2019'\n",
            " '21/05/2019' '06/03/2019' '3/06/2019' '15/03/2019' '3/05/2019'\n",
            " '9/03/2019' '6/06/2019' '24/05/2019' '09/03/2019' '1/04/2019'\n",
            " '21/04/2019' '21/06/2019' '27/03/2019' '18/03/2019' '12/04/2019'\n",
            " '9/04/2019' '1/03/2019' '03/03/2019' '27/04/2019']\n",
            "Unique values in Source 5 values ['Banglore' 'Kolkata' 'Delhi' 'Chennai' 'Mumbai']\n",
            "Unique values in Destination 6 values ['New Delhi' 'Banglore' 'Cochin' 'Kolkata' 'Delhi' 'Hyderabad']\n",
            "Unique values in Route 128 values ['BLR → DEL' 'CCU → IXR → BBI → BLR' 'DEL → LKO → BOM → COK'\n",
            " 'CCU → NAG → BLR' 'BLR → NAG → DEL' 'CCU → BLR' 'BLR → BOM → DEL'\n",
            " 'DEL → BOM → COK' 'DEL → BLR → COK' 'MAA → CCU' 'CCU → BOM → BLR'\n",
            " 'DEL → AMD → BOM → COK' 'DEL → PNQ → COK' 'DEL → CCU → BOM → COK'\n",
            " 'BLR → COK → DEL' 'DEL → IDR → BOM → COK' 'DEL → LKO → COK'\n",
            " 'CCU → GAU → DEL → BLR' 'DEL → NAG → BOM → COK' 'CCU → MAA → BLR'\n",
            " 'DEL → HYD → COK' 'CCU → HYD → BLR' 'DEL → COK' 'CCU → DEL → BLR'\n",
            " 'BLR → BOM → AMD → DEL' 'BOM → DEL → HYD' 'DEL → MAA → COK' 'BOM → HYD'\n",
            " 'DEL → BHO → BOM → COK' 'DEL → JAI → BOM → COK' 'DEL → ATQ → BOM → COK'\n",
            " 'DEL → JDH → BOM → COK' 'CCU → BBI → BOM → BLR' 'BLR → MAA → DEL'\n",
            " 'DEL → GOI → BOM → COK' 'DEL → BDQ → BOM → COK' 'CCU → JAI → BOM → BLR'\n",
            " 'CCU → BBI → BLR' 'BLR → HYD → DEL' 'DEL → TRV → COK'\n",
            " 'CCU → IXR → DEL → BLR' 'DEL → IXU → BOM → COK' 'CCU → IXB → BLR'\n",
            " 'BLR → BOM → JDH → DEL' 'DEL → UDR → BOM → COK' 'DEL → HYD → MAA → COK'\n",
            " 'CCU → BOM → COK → BLR' 'BLR → CCU → DEL' 'CCU → BOM → GOI → BLR'\n",
            " 'DEL → RPR → NAG → BOM → COK' 'DEL → HYD → BOM → COK'\n",
            " 'CCU → DEL → AMD → BLR' 'CCU → PNQ → BLR' 'BLR → CCU → GAU → DEL'\n",
            " 'CCU → DEL → COK → BLR' 'BLR → PNQ → DEL' 'BOM → JDH → DEL → HYD'\n",
            " 'BLR → BOM → BHO → DEL' 'DEL → AMD → COK' 'BLR → LKO → DEL'\n",
            " 'CCU → GAU → BLR' 'BOM → GOI → HYD' 'CCU → BOM → AMD → BLR'\n",
            " 'CCU → BBI → IXR → DEL → BLR' 'DEL → DED → BOM → COK'\n",
            " 'DEL → MAA → BOM → COK' 'BLR → AMD → DEL' 'BLR → VGA → DEL'\n",
            " 'CCU → JAI → DEL → BLR' 'CCU → AMD → BLR' 'CCU → VNS → DEL → BLR'\n",
            " 'BLR → BOM → IDR → DEL' 'BLR → BBI → DEL' 'BLR → GOI → DEL'\n",
            " 'BOM → AMD → ISK → HYD' 'BOM → DED → DEL → HYD' 'DEL → IXC → BOM → COK'\n",
            " 'CCU → PAT → BLR' 'BLR → CCU → BBI → DEL' 'CCU → BBI → HYD → BLR'\n",
            " 'BLR → BOM → NAG → DEL' 'BLR → CCU → BBI → HYD → DEL' 'BLR → GAU → DEL'\n",
            " 'BOM → BHO → DEL → HYD' 'BOM → JLR → HYD' 'BLR → HYD → VGA → DEL'\n",
            " 'CCU → KNU → BLR' 'CCU → BOM → PNQ → BLR' 'DEL → BBI → COK'\n",
            " 'BLR → VGA → HYD → DEL' 'BOM → JDH → JAI → DEL → HYD'\n",
            " 'DEL → GWL → IDR → BOM → COK' 'CCU → RPR → HYD → BLR' 'CCU → VTZ → BLR'\n",
            " 'CCU → DEL → VGA → BLR' 'BLR → BOM → IDR → GWL → DEL'\n",
            " 'CCU → DEL → COK → TRV → BLR' 'BOM → COK → MAA → HYD' 'BOM → NDC → HYD'\n",
            " 'BLR → BDQ → DEL' 'CCU → BOM → TRV → BLR' 'CCU → BOM → HBX → BLR'\n",
            " 'BOM → BDQ → DEL → HYD' 'BOM → CCU → HYD' 'BLR → TRV → COK → DEL'\n",
            " 'BLR → IDR → DEL' 'CCU → IXZ → MAA → BLR' 'CCU → GAU → IMF → DEL → BLR'\n",
            " 'BOM → GOI → PNQ → HYD' 'BOM → BLR → CCU → BBI → HYD' 'BOM → MAA → HYD'\n",
            " 'BLR → BOM → UDR → DEL' 'BOM → UDR → DEL → HYD' 'BLR → VGA → VTZ → DEL'\n",
            " 'BLR → HBX → BOM → BHO → DEL' 'CCU → IXA → BLR' 'BOM → RPR → VTZ → HYD'\n",
            " 'BLR → HBX → BOM → AMD → DEL' 'BOM → IDR → DEL → HYD' 'BOM → BLR → HYD'\n",
            " 'BLR → STV → DEL' 'CCU → IXB → DEL → BLR' 'BOM → JAI → DEL → HYD'\n",
            " 'BOM → VNS → DEL → HYD' 'BLR → HBX → BOM → NAG → DEL' nan\n",
            " 'BLR → BOM → IXC → DEL' 'BLR → CCU → BBI → HYD → VGA → DEL'\n",
            " 'BOM → BBI → HYD']\n",
            "Unique values in Dep_Time 222 values ['22:20' '05:50' '09:25' '18:05' '16:50' '09:00' '18:55' '08:00' '08:55'\n",
            " '11:25' '09:45' '20:20' '11:40' '21:10' '17:15' '16:40' '08:45' '14:00'\n",
            " '20:15' '16:00' '14:10' '22:00' '04:00' '21:25' '21:50' '07:00' '07:05'\n",
            " '09:50' '14:35' '10:35' '15:05' '14:15' '06:45' '20:55' '11:10' '05:45'\n",
            " '19:00' '23:05' '11:00' '09:35' '21:15' '23:55' '19:45' '08:50' '15:40'\n",
            " '06:05' '15:00' '13:55' '05:55' '13:20' '05:05' '06:25' '17:30' '08:20'\n",
            " '19:55' '06:30' '14:05' '02:00' '09:40' '08:25' '20:25' '13:15' '02:15'\n",
            " '16:55' '20:45' '05:15' '19:50' '20:00' '06:10' '19:30' '04:45' '12:55'\n",
            " '18:15' '17:20' '15:25' '23:00' '12:00' '14:45' '11:50' '11:30' '14:40'\n",
            " '19:10' '06:00' '23:30' '07:35' '13:05' '12:30' '15:10' '12:50' '18:25'\n",
            " '16:30' '00:40' '06:50' '13:00' '19:15' '01:30' '17:00' '10:00' '19:35'\n",
            " '15:30' '12:10' '16:10' '20:35' '22:25' '21:05' '05:35' '05:10' '06:40'\n",
            " '15:15' '00:30' '08:30' '07:10' '05:30' '14:25' '05:25' '10:20' '17:45'\n",
            " '13:10' '22:10' '04:55' '17:50' '21:20' '06:20' '15:55' '20:30' '17:25'\n",
            " '09:30' '07:30' '02:35' '10:55' '17:10' '09:10' '18:45' '15:20' '22:50'\n",
            " '14:55' '14:20' '13:25' '22:15' '11:05' '16:15' '20:10' '06:55' '19:05'\n",
            " '07:55' '07:45' '10:10' '08:15' '11:35' '21:00' '17:55' '16:45' '18:20'\n",
            " '03:50' '08:35' '19:20' '20:05' '17:40' '04:40' '17:35' '09:55' '05:00'\n",
            " '18:00' '02:55' '20:40' '22:55' '22:40' '21:30' '08:10' '17:05' '07:25'\n",
            " '15:45' '09:15' '15:50' '11:45' '22:05' '18:35' '00:25' '19:40' '20:50'\n",
            " '22:45' '10:30' '23:25' '11:55' '10:45' '11:15' '12:20' '14:30' '07:15'\n",
            " '01:35' '18:40' '09:20' '21:55' '13:50' '01:40' '00:20' '04:15' '13:45'\n",
            " '18:30' '06:15' '02:05' '12:15' '13:30' '06:35' '10:05' '08:40' '03:05'\n",
            " '21:35' '16:35' '02:30' '16:25' '05:40' '15:35' '13:40' '07:20' '04:50'\n",
            " '12:45' '10:25' '12:05' '11:20' '21:40' '03:00']\n",
            "Unique values in Arrival_Time 1343 values ['01:10 22 Mar' '13:15' '04:25 10 Jun' ... '06:50 10 Mar' '00:05 19 Mar'\n",
            " '21:20 13 Mar']\n",
            "Unique values in Duration 368 values ['2h 50m' '7h 25m' '19h' '5h 25m' '4h 45m' '2h 25m' '15h 30m' '21h 5m'\n",
            " '25h 30m' '7h 50m' '13h 15m' '2h 35m' '2h 15m' '12h 10m' '26h 35m'\n",
            " '4h 30m' '22h 35m' '23h' '20h 35m' '5h 10m' '15h 20m' '2h 55m' '13h 20m'\n",
            " '15h 10m' '5h 45m' '5h 55m' '13h 25m' '22h' '5h 30m' '10h 25m' '5h 15m'\n",
            " '2h 30m' '6h 15m' '11h 55m' '11h 5m' '8h 30m' '22h 5m' '2h 45m' '12h'\n",
            " '16h 5m' '19h 55m' '3h 15m' '25h 20m' '3h' '16h 15m' '15h 5m' '6h 30m'\n",
            " '25h 5m' '12h 25m' '27h 20m' '10h 15m' '10h 30m' '1h 30m' '1h 25m'\n",
            " '26h 30m' '7h 20m' '13h 30m' '5h' '19h 5m' '14h 50m' '2h 40m' '22h 10m'\n",
            " '9h 35m' '10h' '21h 20m' '18h 45m' '12h 20m' '18h' '9h 15m' '17h 30m'\n",
            " '16h 35m' '12h 15m' '7h 30m' '24h' '8h 55m' '7h 10m' '14h 30m' '30h 20m'\n",
            " '15h' '12h 45m' '10h 10m' '15h 25m' '14h 5m' '20h 15m' '23h 10m'\n",
            " '18h 10m' '16h' '2h 20m' '8h' '16h 55m' '3h 10m' '14h' '23h 50m'\n",
            " '21h 40m' '21h 15m' '10h 50m' '8h 15m' '8h 35m' '11h 50m' '27h 35m'\n",
            " '8h 25m' '20h 55m' '4h 50m' '8h 10m' '24h 25m' '23h 35m' '25h 45m'\n",
            " '26h 10m' '28h 50m' '25h 15m' '9h 20m' '9h 10m' '3h 5m' '11h 30m'\n",
            " '9h 30m' '17h 35m' '5h 5m' '25h 50m' '20h' '13h' '18h 25m' '24h 10m'\n",
            " '4h 55m' '25h 35m' '6h 20m' '18h 40m' '19h 25m' '29h 20m' '9h 5m'\n",
            " '10h 45m' '11h 40m' '22h 55m' '37h 25m' '25h 40m' '13h 55m' '8h 40m'\n",
            " '23h 30m' '12h 35m' '24h 15m' '1h 20m' '11h' '11h 15m' '14h 35m'\n",
            " '12h 55m' '9h' '7h 40m' '11h 45m' '24h 55m' '17h 5m' '29h 55m' '22h 15m'\n",
            " '14h 40m' '7h 15m' '20h 10m' '20h 45m' '27h' '24h 30m' '20h 25m' '5h 35m'\n",
            " '14h 45m' '5h 40m' '4h 5m' '15h 55m' '7h 45m' '28h 20m' '4h 20m' '3h 40m'\n",
            " '8h 50m' '23h 45m' '24h 45m' '21h 35m' '8h 5m' '6h 25m' '15h 50m'\n",
            " '26h 25m' '24h 50m' '26h' '23h 5m' '7h 55m' '26h 20m' '23h 15m' '5h 20m'\n",
            " '4h' '9h 45m' '8h 20m' '17h 25m' '7h 5m' '34h 5m' '6h 5m' '5h 50m' '7h'\n",
            " '4h 25m' '13h 45m' '19h 15m' '22h 30m' '16h 25m' '13h 50m' '27h 5m'\n",
            " '28h 10m' '4h 40m' '15h 40m' '4h 35m' '18h 30m' '38h 15m' '6h 35m'\n",
            " '12h 30m' '11h 20m' '7h 35m' '29h 35m' '26h 55m' '23h 40m' '12h 50m'\n",
            " '9h 50m' '21h 55m' '10h 55m' '21h 10m' '20h 40m' '30h' '13h 10m' '8h 45m'\n",
            " '6h 10m' '17h 45m' '21h 45m' '3h 55m' '17h 20m' '30h 30m' '21h 25m'\n",
            " '12h 40m' '24h 35m' '19h 10m' '22h 40m' '14h 55m' '21h' '6h 45m'\n",
            " '28h 40m' '9h 40m' '16h 40m' '16h 20m' '16h 45m' '1h 15m' '6h 55m'\n",
            " '11h 25m' '14h 20m' '12h 5m' '24h 5m' '28h 15m' '17h 50m' '20h 20m'\n",
            " '28h 5m' '10h 20m' '14h 15m' '35h 15m' '35h 35m' '26h 40m' '28h'\n",
            " '14h 25m' '13h 5m' '37h 20m' '36h 10m' '25h 55m' '35h 5m' '19h 45m'\n",
            " '27h 55m' '47h' '10h 35m' '1h 35m' '16h 10m' '38h 20m' '6h' '16h 50m'\n",
            " '14h 10m' '23h 20m' '17h 40m' '11h 35m' '18h 20m' '6h 40m' '30h 55m'\n",
            " '24h 40m' '29h 50m' '28h 25m' '17h 15m' '22h 45m' '25h 25m' '21h 50m'\n",
            " '33h 15m' '30h 15m' '3h 35m' '27h 40m' '30h 25m' '18h 50m' '27h 45m'\n",
            " '15h 15m' '10h 40m' '26h 15m' '36h 25m' '26h 50m' '15h 45m' '19h 40m'\n",
            " '22h 25m' '19h 35m' '25h' '26h 45m' '38h' '4h 15m' '25h 10m' '18h 15m'\n",
            " '6h 50m' '23h 55m' '17h 55m' '23h 25m' '17h 10m' '24h 20m' '28h 30m'\n",
            " '27h 10m' '19h 20m' '15h 35m' '9h 25m' '21h 30m' '34h 25m' '18h 35m'\n",
            " '29h 40m' '26h 5m' '29h 5m' '27h 25m' '16h 30m' '11h 10m' '28h 55m'\n",
            " '29h 10m' '34h' '30h 40m' '30h 45m' '32h 55m' '10h 5m' '35h 20m' '32h 5m'\n",
            " '31h 40m' '19h 50m' '33h 45m' '30h 10m' '13h 40m' '19h 30m' '31h 30m'\n",
            " '34h 30m' '27h 50m' '38h 35m' '42h 5m' '4h 10m' '39h 5m' '3h 50m' '5m'\n",
            " '32h 30m' '31h 55m' '33h 20m' '27h 30m' '18h 55m' '9h 55m' '41h 20m'\n",
            " '20h 5m' '31h 50m' '42h 45m' '3h 25m' '37h 10m' '29h 30m' '32h 20m'\n",
            " '20h 50m' '40h 20m' '13h 35m' '47h 40m']\n",
            "Unique values in Total_Stops 5 values ['non-stop' '2 stops' '1 stop' '3 stops' nan '4 stops']\n",
            "Unique values in Additional_Info 10 values ['No info' 'In-flight meal not included' 'No check-in baggage included'\n",
            " '1 Short layover' 'No Info' '1 Long layover' 'Change airports'\n",
            " 'Business class' 'Red-eye flight' '2 Long layover']\n",
            "Unique values in Price 1870 values [ 3897  7662 13882 ...  9790 12352 12648]\n"
          ],
          "name": "stdout"
        }
      ]
    },
    {
      "cell_type": "code",
      "metadata": {
        "colab": {
          "base_uri": "https://localhost:8080/"
        },
        "id": "dQdxzy_52O4o",
        "outputId": "a779cd85-f4b3-45cb-f418-86072633842e"
      },
      "source": [
        "for i in test.columns:\n",
        "    print(\"Unique values in\", i, test[i].nunique())"
      ],
      "execution_count": null,
      "outputs": [
        {
          "output_type": "stream",
          "text": [
            "Unique values in Airline 11\n",
            "Unique values in Date_of_Journey 44\n",
            "Unique values in Source 5\n",
            "Unique values in Destination 6\n",
            "Unique values in Route 100\n",
            "Unique values in Dep_Time 199\n",
            "Unique values in Arrival_Time 704\n",
            "Unique values in Duration 320\n",
            "Unique values in Total_Stops 5\n",
            "Unique values in Additional_Info 6\n"
          ],
          "name": "stdout"
        }
      ]
    },
    {
      "cell_type": "code",
      "metadata": {
        "id": "w33jg6ODavJf"
      },
      "source": [
        "# storing number of rows as an a variable for later use\n",
        "len_train=train.shape[0]"
      ],
      "execution_count": null,
      "outputs": []
    },
    {
      "cell_type": "code",
      "metadata": {
        "id": "1iiKsZLuOyYI"
      },
      "source": [
        "#coalescing the two columns for data treatment\n",
        "train=train.append(test)\n",
        "train=train.reset_index()\n",
        "train=train.drop('index',axis=1)"
      ],
      "execution_count": null,
      "outputs": []
    },
    {
      "cell_type": "code",
      "metadata": {
        "colab": {
          "base_uri": "https://localhost:8080/",
          "height": 1000
        },
        "id": "sgqVAapNO0jW",
        "outputId": "87936e6a-6c3b-4a1f-e121-af04373a22b7"
      },
      "source": [
        "#Visually understanding the variation of price with different columns\n",
        "plt.subplots(figsize=[15,5])\n",
        "plt.xticks(rotation=90)\n",
        "sns.boxplot(train.Airline, train.Price)\n",
        "\n",
        "plt.subplots(figsize=[15,5])\n",
        "plt.xticks(rotation=90)\n",
        "sns.boxplot(train.Total_Stops, train.Price)\n",
        "\n",
        "plt.subplots(figsize=[15,5])\n",
        "plt.xticks(rotation=90)\n",
        "plt.plot(train.sort_values(['Date_of_Journey']).Date_of_Journey.unique(), train.groupby(['Date_of_Journey']).mean())\n",
        "\n",
        "plt.subplots(figsize=[15,5])\n",
        "plt.xticks(rotation=90)\n",
        "plt.scatter(train.Date_of_Journey, train.Price)\n",
        "\n",
        "plt.subplots(figsize=[15,5])\n",
        "plt.xticks(rotation=90)\n",
        "sns.boxplot(train.Source, train.Price )\n",
        "\n",
        "plt.subplots(figsize=[15,5])\n",
        "plt.xticks(rotation=90)\n",
        "sns.boxplot(train.Destination, train.Price )\n",
        "\n",
        "plt.subplots(figsize=[15,5])\n",
        "plt.xticks(rotation=90)\n",
        "sns.barplot(train.Additional_Info, train.Price )"
      ],
      "execution_count": null,
      "outputs": [
        {
          "output_type": "stream",
          "text": [
            "/usr/local/lib/python3.7/dist-packages/seaborn/_decorators.py:43: FutureWarning: Pass the following variables as keyword args: x, y. From version 0.12, the only valid positional argument will be `data`, and passing other arguments without an explicit keyword will result in an error or misinterpretation.\n",
            "  FutureWarning\n",
            "/usr/local/lib/python3.7/dist-packages/seaborn/_decorators.py:43: FutureWarning: Pass the following variables as keyword args: x, y. From version 0.12, the only valid positional argument will be `data`, and passing other arguments without an explicit keyword will result in an error or misinterpretation.\n",
            "  FutureWarning\n",
            "/usr/local/lib/python3.7/dist-packages/seaborn/_decorators.py:43: FutureWarning: Pass the following variables as keyword args: x, y. From version 0.12, the only valid positional argument will be `data`, and passing other arguments without an explicit keyword will result in an error or misinterpretation.\n",
            "  FutureWarning\n",
            "/usr/local/lib/python3.7/dist-packages/seaborn/_decorators.py:43: FutureWarning: Pass the following variables as keyword args: x, y. From version 0.12, the only valid positional argument will be `data`, and passing other arguments without an explicit keyword will result in an error or misinterpretation.\n",
            "  FutureWarning\n",
            "/usr/local/lib/python3.7/dist-packages/seaborn/_decorators.py:43: FutureWarning: Pass the following variables as keyword args: x, y. From version 0.12, the only valid positional argument will be `data`, and passing other arguments without an explicit keyword will result in an error or misinterpretation.\n",
            "  FutureWarning\n"
          ],
          "name": "stderr"
        },
        {
          "output_type": "execute_result",
          "data": {
            "text/plain": [
              "<matplotlib.axes._subplots.AxesSubplot at 0x7fca1b38e6d0>"
            ]
          },
          "metadata": {
            "tags": []
          },
          "execution_count": 10
        },
        {
          "output_type": "display_data",
          "data": {
            "image/png": "[encoded data removed]",
            "text/plain": [
              "<Figure size 1080x360 with 1 Axes>"
            ]
          },
          "metadata": {
            "tags": [],
            "needs_background": "light"
          }
        },
        {
          "output_type": "display_data",
          "data": {
            "image/png": "[encoded data removed]",
            "text/plain": [
              "<Figure size 1080x360 with 1 Axes>"
            ]
          },
          "metadata": {
            "tags": [],
            "needs_background": "light"
          }
        },
        {
          "output_type": "display_data",
          "data": {
            "image/png": "[encoded data removed]",
            "text/plain": [
              "<Figure size 1080x360 with 1 Axes>"
            ]
          },
          "metadata": {
            "tags": [],
            "needs_background": "light"
          }
        },
        {
          "output_type": "display_data",
          "data": {
            "image/png": "[encoded data removed]",
            "text/plain": [
              "<Figure size 1080x360 with 1 Axes>"
            ]
          },
          "metadata": {
            "tags": [],
            "needs_background": "light"
          }
        },
        {
          "output_type": "display_data",
          "data": {
            "image/png": "[encoded data removed]",
            "text/plain": [
              "<Figure size 1080x360 with 1 Axes>"
            ]
          },
          "metadata": {
            "tags": [],
            "needs_background": "light"
          }
        },
        {
          "output_type": "display_data",
          "data": {
            "image/png": "[encoded data removed]",
            "text/plain": [
              "<Figure size 1080x360 with 1 Axes>"
            ]
          },
          "metadata": {
            "tags": [],
            "needs_background": "light"
          }
        },
        {
          "output_type": "display_data",
          "data": {
            "image/png": "[encoded data removed]",
            "text/plain": [
              "<Figure size 1080x360 with 1 Axes>"
            ]
          },
          "metadata": {
            "tags": [],
            "needs_background": "light"
          }
        }
      ]
    },
    {
      "cell_type": "markdown",
      "metadata": {
        "id": "J_38ckjMQK-R"
      },
      "source": [
        "**Data Treatment and feature Generation**"
      ]
    },
    {
      "cell_type": "code",
      "metadata": {
        "id": "JS-cjTu_O2oG"
      },
      "source": [
        "# Converting Dep_Time from object (string) to time format\n",
        "train.Dep_Time=pd.to_datetime(train.Dep_Time, format= '%H:%M').dt.time"
      ],
      "execution_count": null,
      "outputs": []
    },
    {
      "cell_type": "code",
      "metadata": {
        "id": "ff0Ju_zCSDfg"
      },
      "source": [
        "# String manipulation to extract only hours and minutes from arrival_time column and dropping the date part, then \n",
        "# converting the string to time format as done above\n",
        "train.Arrival_Time=train.Arrival_Time.str.slice(0,6)\n",
        "train.Arrival_Time=train.Arrival_Time.str.strip()\n",
        "train.Arrival_Time=pd.to_datetime(train.Arrival_Time, format = '%H:%M').dt.time"
      ],
      "execution_count": null,
      "outputs": []
    },
    {
      "cell_type": "code",
      "metadata": {
        "colab": {
          "base_uri": "https://localhost:8080/",
          "height": 229
        },
        "id": "H8bbubQ6SJJa",
        "outputId": "fb605a35-c0a3-422c-ed27-8066267aec96"
      },
      "source": [
        "train[:5]"
      ],
      "execution_count": null,
      "outputs": [
        {
          "output_type": "execute_result",
          "data": {
            "text/html": [
              "<div>\n",
              "<style scoped>\n",
              "    .dataframe tbody tr th:only-of-type {\n",
              "        vertical-align: middle;\n",
              "    }\n",
              "\n",
              "    .dataframe tbody tr th {\n",
              "        vertical-align: top;\n",
              "    }\n",
              "\n",
              "    .dataframe thead th {\n",
              "        text-align: right;\n",
              "    }\n",
              "</style>\n",
              "<table border=\"1\" class=\"dataframe\">\n",
              "  <thead>\n",
              "    <tr style=\"text-align: right;\">\n",
              "      <th></th>\n",
              "      <th>Airline</th>\n",
              "      <th>Date_of_Journey</th>\n",
              "      <th>Source</th>\n",
              "      <th>Destination</th>\n",
              "      <th>Route</th>\n",
              "      <th>Dep_Time</th>\n",
              "      <th>Arrival_Time</th>\n",
              "      <th>Duration</th>\n",
              "      <th>Total_Stops</th>\n",
              "      <th>Additional_Info</th>\n",
              "      <th>Price</th>\n",
              "    </tr>\n",
              "  </thead>\n",
              "  <tbody>\n",
              "    <tr>\n",
              "      <th>0</th>\n",
              "      <td>IndiGo</td>\n",
              "      <td>24/03/2019</td>\n",
              "      <td>Banglore</td>\n",
              "      <td>New Delhi</td>\n",
              "      <td>BLR → DEL</td>\n",
              "      <td>22:20:00</td>\n",
              "      <td>01:10:00</td>\n",
              "      <td>2h 50m</td>\n",
              "      <td>non-stop</td>\n",
              "      <td>No info</td>\n",
              "      <td>3897.0</td>\n",
              "    </tr>\n",
              "    <tr>\n",
              "      <th>1</th>\n",
              "      <td>Air India</td>\n",
              "      <td>1/05/2019</td>\n",
              "      <td>Kolkata</td>\n",
              "      <td>Banglore</td>\n",
              "      <td>CCU → IXR → BBI → BLR</td>\n",
              "      <td>05:50:00</td>\n",
              "      <td>13:15:00</td>\n",
              "      <td>7h 25m</td>\n",
              "      <td>2 stops</td>\n",
              "      <td>No info</td>\n",
              "      <td>7662.0</td>\n",
              "    </tr>\n",
              "    <tr>\n",
              "      <th>2</th>\n",
              "      <td>Jet Airways</td>\n",
              "      <td>9/06/2019</td>\n",
              "      <td>Delhi</td>\n",
              "      <td>Cochin</td>\n",
              "      <td>DEL → LKO → BOM → COK</td>\n",
              "      <td>09:25:00</td>\n",
              "      <td>04:25:00</td>\n",
              "      <td>19h</td>\n",
              "      <td>2 stops</td>\n",
              "      <td>No info</td>\n",
              "      <td>13882.0</td>\n",
              "    </tr>\n",
              "    <tr>\n",
              "      <th>3</th>\n",
              "      <td>IndiGo</td>\n",
              "      <td>12/05/2019</td>\n",
              "      <td>Kolkata</td>\n",
              "      <td>Banglore</td>\n",
              "      <td>CCU → NAG → BLR</td>\n",
              "      <td>18:05:00</td>\n",
              "      <td>23:30:00</td>\n",
              "      <td>5h 25m</td>\n",
              "      <td>1 stop</td>\n",
              "      <td>No info</td>\n",
              "      <td>6218.0</td>\n",
              "    </tr>\n",
              "    <tr>\n",
              "      <th>4</th>\n",
              "      <td>IndiGo</td>\n",
              "      <td>01/03/2019</td>\n",
              "      <td>Banglore</td>\n",
              "      <td>New Delhi</td>\n",
              "      <td>BLR → NAG → DEL</td>\n",
              "      <td>16:50:00</td>\n",
              "      <td>21:35:00</td>\n",
              "      <td>4h 45m</td>\n",
              "      <td>1 stop</td>\n",
              "      <td>No info</td>\n",
              "      <td>13302.0</td>\n",
              "    </tr>\n",
              "  </tbody>\n",
              "</table>\n",
              "</div>"
            ],
            "text/plain": [
              "       Airline Date_of_Journey    Source  ... Total_Stops Additional_Info    Price\n",
              "0       IndiGo      24/03/2019  Banglore  ...    non-stop         No info   3897.0\n",
              "1    Air India       1/05/2019   Kolkata  ...     2 stops         No info   7662.0\n",
              "2  Jet Airways       9/06/2019     Delhi  ...     2 stops         No info  13882.0\n",
              "3       IndiGo      12/05/2019   Kolkata  ...      1 stop         No info   6218.0\n",
              "4       IndiGo      01/03/2019  Banglore  ...      1 stop         No info  13302.0\n",
              "\n",
              "[5 rows x 11 columns]"
            ]
          },
          "metadata": {
            "tags": []
          },
          "execution_count": 13
        }
      ]
    },
    {
      "cell_type": "code",
      "metadata": {
        "id": "RSTKoBr6SMsm"
      },
      "source": [
        "# Converting date of journey to date format\n",
        "train.Date_of_Journey=pd.to_datetime(train.Date_of_Journey,format='%d/%m/%Y').dt.date"
      ],
      "execution_count": null,
      "outputs": []
    },
    {
      "cell_type": "code",
      "metadata": {
        "colab": {
          "base_uri": "https://localhost:8080/",
          "height": 229
        },
        "id": "cmV2htPNTtm_",
        "outputId": "967ddcd8-9739-45d5-87b8-30b8366ba585"
      },
      "source": [
        "train[:5]"
      ],
      "execution_count": null,
      "outputs": [
        {
          "output_type": "execute_result",
          "data": {
            "text/html": [
              "<div>\n",
              "<style scoped>\n",
              "    .dataframe tbody tr th:only-of-type {\n",
              "        vertical-align: middle;\n",
              "    }\n",
              "\n",
              "    .dataframe tbody tr th {\n",
              "        vertical-align: top;\n",
              "    }\n",
              "\n",
              "    .dataframe thead th {\n",
              "        text-align: right;\n",
              "    }\n",
              "</style>\n",
              "<table border=\"1\" class=\"dataframe\">\n",
              "  <thead>\n",
              "    <tr style=\"text-align: right;\">\n",
              "      <th></th>\n",
              "      <th>Airline</th>\n",
              "      <th>Date_of_Journey</th>\n",
              "      <th>Source</th>\n",
              "      <th>Destination</th>\n",
              "      <th>Route</th>\n",
              "      <th>Dep_Time</th>\n",
              "      <th>Arrival_Time</th>\n",
              "      <th>Duration</th>\n",
              "      <th>Total_Stops</th>\n",
              "      <th>Additional_Info</th>\n",
              "      <th>Price</th>\n",
              "    </tr>\n",
              "  </thead>\n",
              "  <tbody>\n",
              "    <tr>\n",
              "      <th>0</th>\n",
              "      <td>IndiGo</td>\n",
              "      <td>2019-03-24</td>\n",
              "      <td>Banglore</td>\n",
              "      <td>New Delhi</td>\n",
              "      <td>BLR → DEL</td>\n",
              "      <td>22:20:00</td>\n",
              "      <td>01:10:00</td>\n",
              "      <td>2h 50m</td>\n",
              "      <td>non-stop</td>\n",
              "      <td>No info</td>\n",
              "      <td>3897.0</td>\n",
              "    </tr>\n",
              "    <tr>\n",
              "      <th>1</th>\n",
              "      <td>Air India</td>\n",
              "      <td>2019-05-01</td>\n",
              "      <td>Kolkata</td>\n",
              "      <td>Banglore</td>\n",
              "      <td>CCU → IXR → BBI → BLR</td>\n",
              "      <td>05:50:00</td>\n",
              "      <td>13:15:00</td>\n",
              "      <td>7h 25m</td>\n",
              "      <td>2 stops</td>\n",
              "      <td>No info</td>\n",
              "      <td>7662.0</td>\n",
              "    </tr>\n",
              "    <tr>\n",
              "      <th>2</th>\n",
              "      <td>Jet Airways</td>\n",
              "      <td>2019-06-09</td>\n",
              "      <td>Delhi</td>\n",
              "      <td>Cochin</td>\n",
              "      <td>DEL → LKO → BOM → COK</td>\n",
              "      <td>09:25:00</td>\n",
              "      <td>04:25:00</td>\n",
              "      <td>19h</td>\n",
              "      <td>2 stops</td>\n",
              "      <td>No info</td>\n",
              "      <td>13882.0</td>\n",
              "    </tr>\n",
              "    <tr>\n",
              "      <th>3</th>\n",
              "      <td>IndiGo</td>\n",
              "      <td>2019-05-12</td>\n",
              "      <td>Kolkata</td>\n",
              "      <td>Banglore</td>\n",
              "      <td>CCU → NAG → BLR</td>\n",
              "      <td>18:05:00</td>\n",
              "      <td>23:30:00</td>\n",
              "      <td>5h 25m</td>\n",
              "      <td>1 stop</td>\n",
              "      <td>No info</td>\n",
              "      <td>6218.0</td>\n",
              "    </tr>\n",
              "    <tr>\n",
              "      <th>4</th>\n",
              "      <td>IndiGo</td>\n",
              "      <td>2019-03-01</td>\n",
              "      <td>Banglore</td>\n",
              "      <td>New Delhi</td>\n",
              "      <td>BLR → NAG → DEL</td>\n",
              "      <td>16:50:00</td>\n",
              "      <td>21:35:00</td>\n",
              "      <td>4h 45m</td>\n",
              "      <td>1 stop</td>\n",
              "      <td>No info</td>\n",
              "      <td>13302.0</td>\n",
              "    </tr>\n",
              "  </tbody>\n",
              "</table>\n",
              "</div>"
            ],
            "text/plain": [
              "       Airline Date_of_Journey    Source  ... Total_Stops Additional_Info    Price\n",
              "0       IndiGo      2019-03-24  Banglore  ...    non-stop         No info   3897.0\n",
              "1    Air India      2019-05-01   Kolkata  ...     2 stops         No info   7662.0\n",
              "2  Jet Airways      2019-06-09     Delhi  ...     2 stops         No info  13882.0\n",
              "3       IndiGo      2019-05-12   Kolkata  ...      1 stop         No info   6218.0\n",
              "4       IndiGo      2019-03-01  Banglore  ...      1 stop         No info  13302.0\n",
              "\n",
              "[5 rows x 11 columns]"
            ]
          },
          "metadata": {
            "tags": []
          },
          "execution_count": 15
        }
      ]
    },
    {
      "cell_type": "code",
      "metadata": {
        "id": "_nnD-a0UTvg5"
      },
      "source": [
        "# Converting duration from string to integer value in minutes\n",
        "minute=train['Duration'].str.slice(3,).str.extract('(\\d+)')\n",
        "hour=train['Duration'].str.extract('(\\d+)').astype('int')\n",
        "minute=minute.fillna(0) #filling up minute= 0 where the flight duration only had hours\n",
        "train['Duration']=minute.astype('int')+hour*60"
      ],
      "execution_count": null,
      "outputs": []
    },
    {
      "cell_type": "code",
      "metadata": {
        "colab": {
          "base_uri": "https://localhost:8080/",
          "height": 229
        },
        "id": "BVrIIYgKUXgi",
        "outputId": "a0975499-6f3b-444d-b8da-c9cc58dabf64"
      },
      "source": [
        "train[:5]"
      ],
      "execution_count": null,
      "outputs": [
        {
          "output_type": "execute_result",
          "data": {
            "text/html": [
              "<div>\n",
              "<style scoped>\n",
              "    .dataframe tbody tr th:only-of-type {\n",
              "        vertical-align: middle;\n",
              "    }\n",
              "\n",
              "    .dataframe tbody tr th {\n",
              "        vertical-align: top;\n",
              "    }\n",
              "\n",
              "    .dataframe thead th {\n",
              "        text-align: right;\n",
              "    }\n",
              "</style>\n",
              "<table border=\"1\" class=\"dataframe\">\n",
              "  <thead>\n",
              "    <tr style=\"text-align: right;\">\n",
              "      <th></th>\n",
              "      <th>Airline</th>\n",
              "      <th>Date_of_Journey</th>\n",
              "      <th>Source</th>\n",
              "      <th>Destination</th>\n",
              "      <th>Route</th>\n",
              "      <th>Dep_Time</th>\n",
              "      <th>Arrival_Time</th>\n",
              "      <th>Duration</th>\n",
              "      <th>Total_Stops</th>\n",
              "      <th>Additional_Info</th>\n",
              "      <th>Price</th>\n",
              "    </tr>\n",
              "  </thead>\n",
              "  <tbody>\n",
              "    <tr>\n",
              "      <th>0</th>\n",
              "      <td>IndiGo</td>\n",
              "      <td>2019-03-24</td>\n",
              "      <td>Banglore</td>\n",
              "      <td>New Delhi</td>\n",
              "      <td>BLR → DEL</td>\n",
              "      <td>22:20:00</td>\n",
              "      <td>01:10:00</td>\n",
              "      <td>170</td>\n",
              "      <td>non-stop</td>\n",
              "      <td>No info</td>\n",
              "      <td>3897.0</td>\n",
              "    </tr>\n",
              "    <tr>\n",
              "      <th>1</th>\n",
              "      <td>Air India</td>\n",
              "      <td>2019-05-01</td>\n",
              "      <td>Kolkata</td>\n",
              "      <td>Banglore</td>\n",
              "      <td>CCU → IXR → BBI → BLR</td>\n",
              "      <td>05:50:00</td>\n",
              "      <td>13:15:00</td>\n",
              "      <td>445</td>\n",
              "      <td>2 stops</td>\n",
              "      <td>No info</td>\n",
              "      <td>7662.0</td>\n",
              "    </tr>\n",
              "    <tr>\n",
              "      <th>2</th>\n",
              "      <td>Jet Airways</td>\n",
              "      <td>2019-06-09</td>\n",
              "      <td>Delhi</td>\n",
              "      <td>Cochin</td>\n",
              "      <td>DEL → LKO → BOM → COK</td>\n",
              "      <td>09:25:00</td>\n",
              "      <td>04:25:00</td>\n",
              "      <td>1140</td>\n",
              "      <td>2 stops</td>\n",
              "      <td>No info</td>\n",
              "      <td>13882.0</td>\n",
              "    </tr>\n",
              "    <tr>\n",
              "      <th>3</th>\n",
              "      <td>IndiGo</td>\n",
              "      <td>2019-05-12</td>\n",
              "      <td>Kolkata</td>\n",
              "      <td>Banglore</td>\n",
              "      <td>CCU → NAG → BLR</td>\n",
              "      <td>18:05:00</td>\n",
              "      <td>23:30:00</td>\n",
              "      <td>325</td>\n",
              "      <td>1 stop</td>\n",
              "      <td>No info</td>\n",
              "      <td>6218.0</td>\n",
              "    </tr>\n",
              "    <tr>\n",
              "      <th>4</th>\n",
              "      <td>IndiGo</td>\n",
              "      <td>2019-03-01</td>\n",
              "      <td>Banglore</td>\n",
              "      <td>New Delhi</td>\n",
              "      <td>BLR → NAG → DEL</td>\n",
              "      <td>16:50:00</td>\n",
              "      <td>21:35:00</td>\n",
              "      <td>285</td>\n",
              "      <td>1 stop</td>\n",
              "      <td>No info</td>\n",
              "      <td>13302.0</td>\n",
              "    </tr>\n",
              "  </tbody>\n",
              "</table>\n",
              "</div>"
            ],
            "text/plain": [
              "       Airline Date_of_Journey    Source  ... Total_Stops Additional_Info    Price\n",
              "0       IndiGo      2019-03-24  Banglore  ...    non-stop         No info   3897.0\n",
              "1    Air India      2019-05-01   Kolkata  ...     2 stops         No info   7662.0\n",
              "2  Jet Airways      2019-06-09     Delhi  ...     2 stops         No info  13882.0\n",
              "3       IndiGo      2019-05-12   Kolkata  ...      1 stop         No info   6218.0\n",
              "4       IndiGo      2019-03-01  Banglore  ...      1 stop         No info  13302.0\n",
              "\n",
              "[5 rows x 11 columns]"
            ]
          },
          "metadata": {
            "tags": []
          },
          "execution_count": 17
        }
      ]
    },
    {
      "cell_type": "code",
      "metadata": {
        "colab": {
          "base_uri": "https://localhost:8080/"
        },
        "id": "r1mJqBzDUZbi",
        "outputId": "e1c052cf-4412-4fcb-c6ea-30d9796c8185"
      },
      "source": [
        "# Creating column date of arrival by adding date and time of journey with duration in minutes\n",
        "train['Date_of_Arrival']=train.apply(lambda r : pd.datetime.combine(r['Date_of_Journey'],r['Dep_Time']),1) + pd.to_timedelta(train.Duration,unit='m')\n",
        "train['Date_of_Arrival']=train.Date_of_Arrival.dt.date"
      ],
      "execution_count": null,
      "outputs": [
        {
          "output_type": "stream",
          "text": [
            "/usr/local/lib/python3.7/dist-packages/ipykernel_launcher.py:2: FutureWarning: The pandas.datetime class is deprecated and will be removed from pandas in a future version. Import from datetime module instead.\n",
            "  \n"
          ],
          "name": "stderr"
        }
      ]
    },
    {
      "cell_type": "code",
      "metadata": {
        "colab": {
          "base_uri": "https://localhost:8080/",
          "height": 585
        },
        "id": "RfA23HPaVd_F",
        "outputId": "d434b565-80e4-4930-e148-1f83ae954751"
      },
      "source": [
        "train[:5]"
      ],
      "execution_count": null,
      "outputs": [
        {
          "output_type": "execute_result",
          "data": {
            "text/html": [
              "<div>\n",
              "<style scoped>\n",
              "    .dataframe tbody tr th:only-of-type {\n",
              "        vertical-align: middle;\n",
              "    }\n",
              "\n",
              "    .dataframe tbody tr th {\n",
              "        vertical-align: top;\n",
              "    }\n",
              "\n",
              "    .dataframe thead th {\n",
              "        text-align: right;\n",
              "    }\n",
              "</style>\n",
              "<table border=\"1\" class=\"dataframe\">\n",
              "  <thead>\n",
              "    <tr style=\"text-align: right;\">\n",
              "      <th></th>\n",
              "      <th>Airline</th>\n",
              "      <th>Date_of_Journey</th>\n",
              "      <th>Source</th>\n",
              "      <th>Destination</th>\n",
              "      <th>Route</th>\n",
              "      <th>Dep_Time</th>\n",
              "      <th>Arrival_Time</th>\n",
              "      <th>Duration</th>\n",
              "      <th>Total_Stops</th>\n",
              "      <th>Additional_Info</th>\n",
              "      <th>Price</th>\n",
              "      <th>Date_of_Arrival</th>\n",
              "    </tr>\n",
              "  </thead>\n",
              "  <tbody>\n",
              "    <tr>\n",
              "      <th>0</th>\n",
              "      <td>IndiGo</td>\n",
              "      <td>2019-03-24</td>\n",
              "      <td>Banglore</td>\n",
              "      <td>New Delhi</td>\n",
              "      <td>BLR → DEL</td>\n",
              "      <td>22:20:00</td>\n",
              "      <td>01:10:00</td>\n",
              "      <td>170</td>\n",
              "      <td>non-stop</td>\n",
              "      <td>No info</td>\n",
              "      <td>3897.0</td>\n",
              "      <td>2019-03-25</td>\n",
              "    </tr>\n",
              "    <tr>\n",
              "      <th>1</th>\n",
              "      <td>Air India</td>\n",
              "      <td>2019-05-01</td>\n",
              "      <td>Kolkata</td>\n",
              "      <td>Banglore</td>\n",
              "      <td>CCU → IXR → BBI → BLR</td>\n",
              "      <td>05:50:00</td>\n",
              "      <td>13:15:00</td>\n",
              "      <td>445</td>\n",
              "      <td>2 stops</td>\n",
              "      <td>No info</td>\n",
              "      <td>7662.0</td>\n",
              "      <td>2019-05-01</td>\n",
              "    </tr>\n",
              "    <tr>\n",
              "      <th>2</th>\n",
              "      <td>Jet Airways</td>\n",
              "      <td>2019-06-09</td>\n",
              "      <td>Delhi</td>\n",
              "      <td>Cochin</td>\n",
              "      <td>DEL → LKO → BOM → COK</td>\n",
              "      <td>09:25:00</td>\n",
              "      <td>04:25:00</td>\n",
              "      <td>1140</td>\n",
              "      <td>2 stops</td>\n",
              "      <td>No info</td>\n",
              "      <td>13882.0</td>\n",
              "      <td>2019-06-10</td>\n",
              "    </tr>\n",
              "    <tr>\n",
              "      <th>3</th>\n",
              "      <td>IndiGo</td>\n",
              "      <td>2019-05-12</td>\n",
              "      <td>Kolkata</td>\n",
              "      <td>Banglore</td>\n",
              "      <td>CCU → NAG → BLR</td>\n",
              "      <td>18:05:00</td>\n",
              "      <td>23:30:00</td>\n",
              "      <td>325</td>\n",
              "      <td>1 stop</td>\n",
              "      <td>No info</td>\n",
              "      <td>6218.0</td>\n",
              "      <td>2019-05-12</td>\n",
              "    </tr>\n",
              "    <tr>\n",
              "      <th>4</th>\n",
              "      <td>IndiGo</td>\n",
              "      <td>2019-03-01</td>\n",
              "      <td>Banglore</td>\n",
              "      <td>New Delhi</td>\n",
              "      <td>BLR → NAG → DEL</td>\n",
              "      <td>16:50:00</td>\n",
              "      <td>21:35:00</td>\n",
              "      <td>285</td>\n",
              "      <td>1 stop</td>\n",
              "      <td>No info</td>\n",
              "      <td>13302.0</td>\n",
              "      <td>2019-03-01</td>\n",
              "    </tr>\n",
              "  </tbody>\n",
              "</table>\n",
              "</div>"
            ],
            "text/plain": [
              "       Airline Date_of_Journey  ...    Price Date_of_Arrival\n",
              "0       IndiGo      2019-03-24  ...   3897.0      2019-03-25\n",
              "1    Air India      2019-05-01  ...   7662.0      2019-05-01\n",
              "2  Jet Airways      2019-06-09  ...  13882.0      2019-06-10\n",
              "3       IndiGo      2019-05-12  ...   6218.0      2019-05-12\n",
              "4       IndiGo      2019-03-01  ...  13302.0      2019-03-01\n",
              "\n",
              "[5 rows x 12 columns]"
            ]
          },
          "metadata": {
            "tags": []
          },
          "execution_count": 19
        }
      ]
    },
    {
      "cell_type": "code",
      "metadata": {
        "colab": {
          "base_uri": "https://localhost:8080/"
        },
        "id": "3odrEpiLVhc9",
        "outputId": "ddbc9a6c-56b5-4e6c-aa2e-2e2ab953d18d"
      },
      "source": [
        "# Changing Total Stops from a string value to a categorical value \n",
        "train.Total_Stops.value_counts()"
      ],
      "execution_count": null,
      "outputs": [
        {
          "output_type": "execute_result",
          "data": {
            "text/plain": [
              "1 stop      7056\n",
              "non-stop    4340\n",
              "2 stops     1899\n",
              "3 stops       56\n",
              "4 stops        2\n",
              "Name: Total_Stops, dtype: int64"
            ]
          },
          "metadata": {
            "tags": []
          },
          "execution_count": 20
        }
      ]
    },
    {
      "cell_type": "code",
      "metadata": {
        "id": "kmzDFu8OV3Q0"
      },
      "source": [
        "dic={'non-stop':0,'1 stop':1,'2 stops':2,'3 stops':3,'4 stops': 4}\n",
        "train['Total_Stops']=train.Total_Stops.map(dic)\n",
        "train.Total_Stops=train.Total_Stops.astype('category')"
      ],
      "execution_count": null,
      "outputs": []
    },
    {
      "cell_type": "code",
      "metadata": {
        "id": "nMWBHZIrWMpw"
      },
      "source": [
        "# Creating a column a categorical column class from the column Airline \n",
        "r=train.Airline.str.split(' ',expand=True).get(2)\n",
        "d={None:'Economy','Premium': 'Premium Economy','economy':'Premium Economy','Business':'Business' }\n",
        "r=r.map(d)\n",
        "train['Class']=r\n",
        "train.Class=train.Class.astype('category')"
      ],
      "execution_count": null,
      "outputs": []
    },
    {
      "cell_type": "code",
      "metadata": {
        "id": "d1oLv7O94tqp"
      },
      "source": [
        "# The column Additional info had values No info and No Info stored, editing to bring them to the same string value\n",
        "train.loc[train.Additional_Info==\"No info\",'Additional_Info']=\"No Info\""
      ],
      "execution_count": null,
      "outputs": []
    },
    {
      "cell_type": "code",
      "metadata": {
        "id": "bb47D-ff44kU"
      },
      "source": [
        "# Creating an integer column same_day_travel that highlights whether the flight was arrived the same day, a day from dep, or more..\n",
        "train['Same_day_travel']=train.Date_of_Arrival-train.Date_of_Journey\n",
        "train['Same_day_travel']=train.Same_day_travel.astype('category')"
      ],
      "execution_count": null,
      "outputs": []
    },
    {
      "cell_type": "code",
      "metadata": {
        "colab": {
          "base_uri": "https://localhost:8080/",
          "height": 585
        },
        "id": "A30bb96B5ExW",
        "outputId": "2295d35f-0d56-42d9-ea10-f0eee4150580"
      },
      "source": [
        "train[:5]"
      ],
      "execution_count": null,
      "outputs": [
        {
          "output_type": "execute_result",
          "data": {
            "text/html": [
              "<div>\n",
              "<style scoped>\n",
              "    .dataframe tbody tr th:only-of-type {\n",
              "        vertical-align: middle;\n",
              "    }\n",
              "\n",
              "    .dataframe tbody tr th {\n",
              "        vertical-align: top;\n",
              "    }\n",
              "\n",
              "    .dataframe thead th {\n",
              "        text-align: right;\n",
              "    }\n",
              "</style>\n",
              "<table border=\"1\" class=\"dataframe\">\n",
              "  <thead>\n",
              "    <tr style=\"text-align: right;\">\n",
              "      <th></th>\n",
              "      <th>Airline</th>\n",
              "      <th>Date_of_Journey</th>\n",
              "      <th>Source</th>\n",
              "      <th>Destination</th>\n",
              "      <th>Route</th>\n",
              "      <th>Dep_Time</th>\n",
              "      <th>Arrival_Time</th>\n",
              "      <th>Duration</th>\n",
              "      <th>Total_Stops</th>\n",
              "      <th>Additional_Info</th>\n",
              "      <th>Price</th>\n",
              "      <th>Date_of_Arrival</th>\n",
              "      <th>Class</th>\n",
              "      <th>Same_day_travel</th>\n",
              "    </tr>\n",
              "  </thead>\n",
              "  <tbody>\n",
              "    <tr>\n",
              "      <th>0</th>\n",
              "      <td>IndiGo</td>\n",
              "      <td>2019-03-24</td>\n",
              "      <td>Banglore</td>\n",
              "      <td>New Delhi</td>\n",
              "      <td>BLR → DEL</td>\n",
              "      <td>22:20:00</td>\n",
              "      <td>01:10:00</td>\n",
              "      <td>170</td>\n",
              "      <td>0.0</td>\n",
              "      <td>No Info</td>\n",
              "      <td>3897.0</td>\n",
              "      <td>2019-03-25</td>\n",
              "      <td>Economy</td>\n",
              "      <td>1 days</td>\n",
              "    </tr>\n",
              "    <tr>\n",
              "      <th>1</th>\n",
              "      <td>Air India</td>\n",
              "      <td>2019-05-01</td>\n",
              "      <td>Kolkata</td>\n",
              "      <td>Banglore</td>\n",
              "      <td>CCU → IXR → BBI → BLR</td>\n",
              "      <td>05:50:00</td>\n",
              "      <td>13:15:00</td>\n",
              "      <td>445</td>\n",
              "      <td>2.0</td>\n",
              "      <td>No Info</td>\n",
              "      <td>7662.0</td>\n",
              "      <td>2019-05-01</td>\n",
              "      <td>Economy</td>\n",
              "      <td>0 days</td>\n",
              "    </tr>\n",
              "    <tr>\n",
              "      <th>2</th>\n",
              "      <td>Jet Airways</td>\n",
              "      <td>2019-06-09</td>\n",
              "      <td>Delhi</td>\n",
              "      <td>Cochin</td>\n",
              "      <td>DEL → LKO → BOM → COK</td>\n",
              "      <td>09:25:00</td>\n",
              "      <td>04:25:00</td>\n",
              "      <td>1140</td>\n",
              "      <td>2.0</td>\n",
              "      <td>No Info</td>\n",
              "      <td>13882.0</td>\n",
              "      <td>2019-06-10</td>\n",
              "      <td>Economy</td>\n",
              "      <td>1 days</td>\n",
              "    </tr>\n",
              "    <tr>\n",
              "      <th>3</th>\n",
              "      <td>IndiGo</td>\n",
              "      <td>2019-05-12</td>\n",
              "      <td>Kolkata</td>\n",
              "      <td>Banglore</td>\n",
              "      <td>CCU → NAG → BLR</td>\n",
              "      <td>18:05:00</td>\n",
              "      <td>23:30:00</td>\n",
              "      <td>325</td>\n",
              "      <td>1.0</td>\n",
              "      <td>No Info</td>\n",
              "      <td>6218.0</td>\n",
              "      <td>2019-05-12</td>\n",
              "      <td>Economy</td>\n",
              "      <td>0 days</td>\n",
              "    </tr>\n",
              "    <tr>\n",
              "      <th>4</th>\n",
              "      <td>IndiGo</td>\n",
              "      <td>2019-03-01</td>\n",
              "      <td>Banglore</td>\n",
              "      <td>New Delhi</td>\n",
              "      <td>BLR → NAG → DEL</td>\n",
              "      <td>16:50:00</td>\n",
              "      <td>21:35:00</td>\n",
              "      <td>285</td>\n",
              "      <td>1.0</td>\n",
              "      <td>No Info</td>\n",
              "      <td>13302.0</td>\n",
              "      <td>2019-03-01</td>\n",
              "      <td>Economy</td>\n",
              "      <td>0 days</td>\n",
              "    </tr>\n",
              "  </tbody>\n",
              "</table>\n",
              "</div>"
            ],
            "text/plain": [
              "       Airline Date_of_Journey  ...    Class Same_day_travel\n",
              "0       IndiGo      2019-03-24  ...  Economy          1 days\n",
              "1    Air India      2019-05-01  ...  Economy          0 days\n",
              "2  Jet Airways      2019-06-09  ...  Economy          1 days\n",
              "3       IndiGo      2019-05-12  ...  Economy          0 days\n",
              "4       IndiGo      2019-03-01  ...  Economy          0 days\n",
              "\n",
              "[5 rows x 14 columns]"
            ]
          },
          "metadata": {
            "tags": []
          },
          "execution_count": 25
        }
      ]
    },
    {
      "cell_type": "code",
      "metadata": {
        "id": "Mx7EDJhR48xn"
      },
      "source": [
        "#Converting Airline to category as price varies with airlines ( Category column helps in tree based modelling)\n",
        "train.Airline=train.Airline.astype('category')"
      ],
      "execution_count": null,
      "outputs": []
    },
    {
      "cell_type": "code",
      "metadata": {
        "colab": {
          "base_uri": "https://localhost:8080/",
          "height": 585
        },
        "id": "v4bgpROf5dvP",
        "outputId": "da1cd5b1-41a4-42b5-f43e-5a54864e2d15"
      },
      "source": [
        "train[:5]"
      ],
      "execution_count": null,
      "outputs": [
        {
          "output_type": "execute_result",
          "data": {
            "text/html": [
              "<div>\n",
              "<style scoped>\n",
              "    .dataframe tbody tr th:only-of-type {\n",
              "        vertical-align: middle;\n",
              "    }\n",
              "\n",
              "    .dataframe tbody tr th {\n",
              "        vertical-align: top;\n",
              "    }\n",
              "\n",
              "    .dataframe thead th {\n",
              "        text-align: right;\n",
              "    }\n",
              "</style>\n",
              "<table border=\"1\" class=\"dataframe\">\n",
              "  <thead>\n",
              "    <tr style=\"text-align: right;\">\n",
              "      <th></th>\n",
              "      <th>Airline</th>\n",
              "      <th>Date_of_Journey</th>\n",
              "      <th>Source</th>\n",
              "      <th>Destination</th>\n",
              "      <th>Route</th>\n",
              "      <th>Dep_Time</th>\n",
              "      <th>Arrival_Time</th>\n",
              "      <th>Duration</th>\n",
              "      <th>Total_Stops</th>\n",
              "      <th>Additional_Info</th>\n",
              "      <th>Price</th>\n",
              "      <th>Date_of_Arrival</th>\n",
              "      <th>Class</th>\n",
              "      <th>Same_day_travel</th>\n",
              "    </tr>\n",
              "  </thead>\n",
              "  <tbody>\n",
              "    <tr>\n",
              "      <th>0</th>\n",
              "      <td>IndiGo</td>\n",
              "      <td>2019-03-24</td>\n",
              "      <td>Banglore</td>\n",
              "      <td>New Delhi</td>\n",
              "      <td>BLR → DEL</td>\n",
              "      <td>22:20:00</td>\n",
              "      <td>01:10:00</td>\n",
              "      <td>170</td>\n",
              "      <td>0.0</td>\n",
              "      <td>No Info</td>\n",
              "      <td>3897.0</td>\n",
              "      <td>2019-03-25</td>\n",
              "      <td>Economy</td>\n",
              "      <td>1 days</td>\n",
              "    </tr>\n",
              "    <tr>\n",
              "      <th>1</th>\n",
              "      <td>Air India</td>\n",
              "      <td>2019-05-01</td>\n",
              "      <td>Kolkata</td>\n",
              "      <td>Banglore</td>\n",
              "      <td>CCU → IXR → BBI → BLR</td>\n",
              "      <td>05:50:00</td>\n",
              "      <td>13:15:00</td>\n",
              "      <td>445</td>\n",
              "      <td>2.0</td>\n",
              "      <td>No Info</td>\n",
              "      <td>7662.0</td>\n",
              "      <td>2019-05-01</td>\n",
              "      <td>Economy</td>\n",
              "      <td>0 days</td>\n",
              "    </tr>\n",
              "    <tr>\n",
              "      <th>2</th>\n",
              "      <td>Jet Airways</td>\n",
              "      <td>2019-06-09</td>\n",
              "      <td>Delhi</td>\n",
              "      <td>Cochin</td>\n",
              "      <td>DEL → LKO → BOM → COK</td>\n",
              "      <td>09:25:00</td>\n",
              "      <td>04:25:00</td>\n",
              "      <td>1140</td>\n",
              "      <td>2.0</td>\n",
              "      <td>No Info</td>\n",
              "      <td>13882.0</td>\n",
              "      <td>2019-06-10</td>\n",
              "      <td>Economy</td>\n",
              "      <td>1 days</td>\n",
              "    </tr>\n",
              "    <tr>\n",
              "      <th>3</th>\n",
              "      <td>IndiGo</td>\n",
              "      <td>2019-05-12</td>\n",
              "      <td>Kolkata</td>\n",
              "      <td>Banglore</td>\n",
              "      <td>CCU → NAG → BLR</td>\n",
              "      <td>18:05:00</td>\n",
              "      <td>23:30:00</td>\n",
              "      <td>325</td>\n",
              "      <td>1.0</td>\n",
              "      <td>No Info</td>\n",
              "      <td>6218.0</td>\n",
              "      <td>2019-05-12</td>\n",
              "      <td>Economy</td>\n",
              "      <td>0 days</td>\n",
              "    </tr>\n",
              "    <tr>\n",
              "      <th>4</th>\n",
              "      <td>IndiGo</td>\n",
              "      <td>2019-03-01</td>\n",
              "      <td>Banglore</td>\n",
              "      <td>New Delhi</td>\n",
              "      <td>BLR → NAG → DEL</td>\n",
              "      <td>16:50:00</td>\n",
              "      <td>21:35:00</td>\n",
              "      <td>285</td>\n",
              "      <td>1.0</td>\n",
              "      <td>No Info</td>\n",
              "      <td>13302.0</td>\n",
              "      <td>2019-03-01</td>\n",
              "      <td>Economy</td>\n",
              "      <td>0 days</td>\n",
              "    </tr>\n",
              "  </tbody>\n",
              "</table>\n",
              "</div>"
            ],
            "text/plain": [
              "       Airline Date_of_Journey  ...    Class Same_day_travel\n",
              "0       IndiGo      2019-03-24  ...  Economy          1 days\n",
              "1    Air India      2019-05-01  ...  Economy          0 days\n",
              "2  Jet Airways      2019-06-09  ...  Economy          1 days\n",
              "3       IndiGo      2019-05-12  ...  Economy          0 days\n",
              "4       IndiGo      2019-03-01  ...  Economy          0 days\n",
              "\n",
              "[5 rows x 14 columns]"
            ]
          },
          "metadata": {
            "tags": []
          },
          "execution_count": 27
        }
      ]
    },
    {
      "cell_type": "code",
      "metadata": {
        "id": "K2P4z0nC5e4M"
      },
      "source": [
        "# Creating 2 columns weekday journey and weekday arrival that highligh what day of the week the flight took off and arrived\n",
        "# respectively. The idea is that the price will be marginally higher on weekends and this metric can help catch that.\n",
        "train['weekday_journey']=train['Date_of_Journey'].apply(lambda x: x.weekday())\n",
        "train['weekday_arrival']=train['Date_of_Arrival'].apply(lambda x: x.weekday())"
      ],
      "execution_count": null,
      "outputs": []
    },
    {
      "cell_type": "code",
      "metadata": {
        "colab": {
          "base_uri": "https://localhost:8080/",
          "height": 585
        },
        "id": "UF_BymhC5rJK",
        "outputId": "bc23a111-19d9-4dbf-db4b-b029e2ae2df4"
      },
      "source": [
        "train[:5]"
      ],
      "execution_count": null,
      "outputs": [
        {
          "output_type": "execute_result",
          "data": {
            "text/html": [
              "<div>\n",
              "<style scoped>\n",
              "    .dataframe tbody tr th:only-of-type {\n",
              "        vertical-align: middle;\n",
              "    }\n",
              "\n",
              "    .dataframe tbody tr th {\n",
              "        vertical-align: top;\n",
              "    }\n",
              "\n",
              "    .dataframe thead th {\n",
              "        text-align: right;\n",
              "    }\n",
              "</style>\n",
              "<table border=\"1\" class=\"dataframe\">\n",
              "  <thead>\n",
              "    <tr style=\"text-align: right;\">\n",
              "      <th></th>\n",
              "      <th>Airline</th>\n",
              "      <th>Date_of_Journey</th>\n",
              "      <th>Source</th>\n",
              "      <th>Destination</th>\n",
              "      <th>Route</th>\n",
              "      <th>Dep_Time</th>\n",
              "      <th>Arrival_Time</th>\n",
              "      <th>Duration</th>\n",
              "      <th>Total_Stops</th>\n",
              "      <th>Additional_Info</th>\n",
              "      <th>Price</th>\n",
              "      <th>Date_of_Arrival</th>\n",
              "      <th>Class</th>\n",
              "      <th>Same_day_travel</th>\n",
              "      <th>weekday_journey</th>\n",
              "      <th>weekday_arrival</th>\n",
              "    </tr>\n",
              "  </thead>\n",
              "  <tbody>\n",
              "    <tr>\n",
              "      <th>0</th>\n",
              "      <td>IndiGo</td>\n",
              "      <td>2019-03-24</td>\n",
              "      <td>Banglore</td>\n",
              "      <td>New Delhi</td>\n",
              "      <td>BLR → DEL</td>\n",
              "      <td>22:20:00</td>\n",
              "      <td>01:10:00</td>\n",
              "      <td>170</td>\n",
              "      <td>0.0</td>\n",
              "      <td>No Info</td>\n",
              "      <td>3897.0</td>\n",
              "      <td>2019-03-25</td>\n",
              "      <td>Economy</td>\n",
              "      <td>1 days</td>\n",
              "      <td>6</td>\n",
              "      <td>0</td>\n",
              "    </tr>\n",
              "    <tr>\n",
              "      <th>1</th>\n",
              "      <td>Air India</td>\n",
              "      <td>2019-05-01</td>\n",
              "      <td>Kolkata</td>\n",
              "      <td>Banglore</td>\n",
              "      <td>CCU → IXR → BBI → BLR</td>\n",
              "      <td>05:50:00</td>\n",
              "      <td>13:15:00</td>\n",
              "      <td>445</td>\n",
              "      <td>2.0</td>\n",
              "      <td>No Info</td>\n",
              "      <td>7662.0</td>\n",
              "      <td>2019-05-01</td>\n",
              "      <td>Economy</td>\n",
              "      <td>0 days</td>\n",
              "      <td>2</td>\n",
              "      <td>2</td>\n",
              "    </tr>\n",
              "    <tr>\n",
              "      <th>2</th>\n",
              "      <td>Jet Airways</td>\n",
              "      <td>2019-06-09</td>\n",
              "      <td>Delhi</td>\n",
              "      <td>Cochin</td>\n",
              "      <td>DEL → LKO → BOM → COK</td>\n",
              "      <td>09:25:00</td>\n",
              "      <td>04:25:00</td>\n",
              "      <td>1140</td>\n",
              "      <td>2.0</td>\n",
              "      <td>No Info</td>\n",
              "      <td>13882.0</td>\n",
              "      <td>2019-06-10</td>\n",
              "      <td>Economy</td>\n",
              "      <td>1 days</td>\n",
              "      <td>6</td>\n",
              "      <td>0</td>\n",
              "    </tr>\n",
              "    <tr>\n",
              "      <th>3</th>\n",
              "      <td>IndiGo</td>\n",
              "      <td>2019-05-12</td>\n",
              "      <td>Kolkata</td>\n",
              "      <td>Banglore</td>\n",
              "      <td>CCU → NAG → BLR</td>\n",
              "      <td>18:05:00</td>\n",
              "      <td>23:30:00</td>\n",
              "      <td>325</td>\n",
              "      <td>1.0</td>\n",
              "      <td>No Info</td>\n",
              "      <td>6218.0</td>\n",
              "      <td>2019-05-12</td>\n",
              "      <td>Economy</td>\n",
              "      <td>0 days</td>\n",
              "      <td>6</td>\n",
              "      <td>6</td>\n",
              "    </tr>\n",
              "    <tr>\n",
              "      <th>4</th>\n",
              "      <td>IndiGo</td>\n",
              "      <td>2019-03-01</td>\n",
              "      <td>Banglore</td>\n",
              "      <td>New Delhi</td>\n",
              "      <td>BLR → NAG → DEL</td>\n",
              "      <td>16:50:00</td>\n",
              "      <td>21:35:00</td>\n",
              "      <td>285</td>\n",
              "      <td>1.0</td>\n",
              "      <td>No Info</td>\n",
              "      <td>13302.0</td>\n",
              "      <td>2019-03-01</td>\n",
              "      <td>Economy</td>\n",
              "      <td>0 days</td>\n",
              "      <td>4</td>\n",
              "      <td>4</td>\n",
              "    </tr>\n",
              "  </tbody>\n",
              "</table>\n",
              "</div>"
            ],
            "text/plain": [
              "       Airline Date_of_Journey  ... weekday_journey weekday_arrival\n",
              "0       IndiGo      2019-03-24  ...               6               0\n",
              "1    Air India      2019-05-01  ...               2               2\n",
              "2  Jet Airways      2019-06-09  ...               6               0\n",
              "3       IndiGo      2019-05-12  ...               6               6\n",
              "4       IndiGo      2019-03-01  ...               4               4\n",
              "\n",
              "[5 rows x 16 columns]"
            ]
          },
          "metadata": {
            "tags": []
          },
          "execution_count": 29
        }
      ]
    },
    {
      "cell_type": "code",
      "metadata": {
        "id": "uKQCr_0l5svP"
      },
      "source": [
        "# Creating columns for year, month, and day of both departure and arrival as integers to be able to better \n",
        "# capture any seasonality due to date\n",
        "train['Year']=pd.DatetimeIndex(train['Date_of_Journey']).year\n",
        "train['month_of_journey']=pd.DatetimeIndex(train['Date_of_Journey']).month\n",
        "train['month_of_Arrival']=pd.DatetimeIndex(train['Date_of_Arrival']).month\n",
        "train['day_of_Arrival']=pd.DatetimeIndex(train['Date_of_Arrival']).day\n",
        "train['day_of_journey']=pd.DatetimeIndex(train['Date_of_Journey']).day"
      ],
      "execution_count": null,
      "outputs": []
    },
    {
      "cell_type": "markdown",
      "metadata": {
        "id": "hdD37QVm-ys6"
      },
      "source": [
        "**Target Variable Normalization**"
      ]
    },
    {
      "cell_type": "code",
      "metadata": {
        "id": "z0VRvr3K-_rB"
      },
      "source": [
        "import pandas as pd \n",
        "import numpy as np\n",
        "import matplotlib.pyplot as plt\n",
        "import seaborn as sns\n",
        "from scipy import stats\n",
        "from sklearn.model_selection import KFold\n",
        "#from sklearn.linear_model import LassoCV , RidgeCV, ElasticNet, Lasso,Ridge\n",
        "from sklearn.model_selection import cross_val_score\n",
        "from sklearn.pipeline import make_pipeline, Pipeline\n",
        "from sklearn.preprocessing import RobustScaler\n",
        "from sklearn.ensemble import GradientBoostingRegressor\n",
        "from sklearn.model_selection import GridSearchCV\n",
        "from lightgbm import LGBMRegressor\n",
        "from xgboost import XGBRegressor  \n",
        "from sklearn.svm import SVR\n",
        "from sklearn.metrics import mean_squared_error\n",
        "import datetime\n",
        "from mlxtend.regressor import StackingCVRegressor\n",
        "from sklearn.kernel_ridge import KernelRidge\n",
        "from sklearn.ensemble import RandomForestRegressor\n",
        "from scipy.stats import skew\n",
        "from scipy.special import boxcox1p\n",
        "from scipy.stats import boxcox_normmax"
      ],
      "execution_count": null,
      "outputs": []
    },
    {
      "cell_type": "code",
      "metadata": {
        "colab": {
          "base_uri": "https://localhost:8080/",
          "height": 678
        },
        "id": "O-_3yGzR94mS",
        "outputId": "31691ae9-f907-4d7b-cf26-20ac4c67115b"
      },
      "source": [
        "sns.distplot(train[:len_train].Price, fit=stats.norm)\n",
        "l=plt.show()\n",
        "stats.probplot(train[:len_train].Price,plot=plt )"
      ],
      "execution_count": null,
      "outputs": [
        {
          "output_type": "stream",
          "text": [
            "/usr/local/lib/python3.7/dist-packages/seaborn/distributions.py:2557: FutureWarning: `distplot` is a deprecated function and will be removed in a future version. Please adapt your code to use either `displot` (a figure-level function with similar flexibility) or `histplot` (an axes-level function for histograms).\n",
            "  warnings.warn(msg, FutureWarning)\n"
          ],
          "name": "stderr"
        },
        {
          "output_type": "display_data",
          "data": {
            "image/png": "[encoded data removed]",
            "text/plain": [
              "<Figure size 432x288 with 1 Axes>"
            ]
          },
          "metadata": {
            "tags": [],
            "needs_background": "light"
          }
        },
        {
          "output_type": "execute_result",
          "data": {
            "text/plain": [
              "((array([-3.82690953, -3.60266143, -3.4795895 , ...,  3.4795895 ,\n",
              "          3.60266143,  3.82690953]),\n",
              "  array([ 1759.,  1759.,  1759., ..., 57209., 62427., 79512.])),\n",
              " (4364.062692425855, 9087.064120565383, 0.9460976378917301))"
            ]
          },
          "metadata": {
            "tags": []
          },
          "execution_count": 32
        },
        {
          "output_type": "display_data",
          "data": {
            "image/png": "[encoded data removed]",
            "text/plain": [
              "<Figure size 432x288 with 1 Axes>"
            ]
          },
          "metadata": {
            "tags": [],
            "needs_background": "light"
          }
        }
      ]
    },
    {
      "cell_type": "code",
      "metadata": {
        "colab": {
          "base_uri": "https://localhost:8080/",
          "height": 610
        },
        "id": "p0EmIX5v-3Mb",
        "outputId": "0d357561-1f97-4421-da4c-5ffda682054d"
      },
      "source": [
        "xt=np.log(train[:len_train].Price)\n",
        "sns.distplot(xt, fit=stats.norm)\n",
        "l=plt.show()\n",
        "stats.probplot(xt,plot=plt )\n",
        "\n",
        "train.Price=np.log(train.Price)"
      ],
      "execution_count": null,
      "outputs": [
        {
          "output_type": "stream",
          "text": [
            "/usr/local/lib/python3.7/dist-packages/seaborn/distributions.py:2557: FutureWarning: `distplot` is a deprecated function and will be removed in a future version. Please adapt your code to use either `displot` (a figure-level function with similar flexibility) or `histplot` (an axes-level function for histograms).\n",
            "  warnings.warn(msg, FutureWarning)\n"
          ],
          "name": "stderr"
        },
        {
          "output_type": "display_data",
          "data": {
            "image/png": "[encoded data removed]",
            "text/plain": [
              "<Figure size 432x288 with 1 Axes>"
            ]
          },
          "metadata": {
            "tags": [],
            "needs_background": "light"
          }
        },
        {
          "output_type": "display_data",
          "data": {
            "image/png": "[encoded data removed]",
            "text/plain": [
              "<Figure size 432x288 with 1 Axes>"
            ]
          },
          "metadata": {
            "tags": [],
            "needs_background": "light"
          }
        }
      ]
    },
    {
      "cell_type": "markdown",
      "metadata": {
        "id": "6m_Ldg32_ino"
      },
      "source": [
        "**Null Value Treatment**"
      ]
    },
    {
      "cell_type": "code",
      "metadata": {
        "colab": {
          "base_uri": "https://localhost:8080/"
        },
        "id": "EjDpvdyO_iD6",
        "outputId": "d492bd4b-3b24-45aa-91be-16b5c9e02395"
      },
      "source": [
        "##Identifying columns with missing values\n",
        "train.isnull().sum()"
      ],
      "execution_count": null,
      "outputs": [
        {
          "output_type": "execute_result",
          "data": {
            "text/plain": [
              "Airline                0\n",
              "Date_of_Journey        0\n",
              "Source                 0\n",
              "Destination            0\n",
              "Route                  1\n",
              "Dep_Time               0\n",
              "Arrival_Time           0\n",
              "Duration               0\n",
              "Total_Stops            1\n",
              "Additional_Info        0\n",
              "Price               2671\n",
              "Date_of_Arrival        0\n",
              "Class                  0\n",
              "Same_day_travel        0\n",
              "weekday_journey        0\n",
              "weekday_arrival        0\n",
              "Year                   0\n",
              "month_of_journey       0\n",
              "month_of_Arrival       0\n",
              "day_of_Arrival         0\n",
              "day_of_journey         0\n",
              "dtype: int64"
            ]
          },
          "metadata": {
            "tags": []
          },
          "execution_count": 34
        }
      ]
    },
    {
      "cell_type": "code",
      "metadata": {
        "colab": {
          "base_uri": "https://localhost:8080/",
          "height": 1000
        },
        "id": "ItM7ttdb_YC9",
        "outputId": "87bd885a-a08f-4ff1-b213-224a10734231"
      },
      "source": [
        "# Filtering data with missing value and filling up with appropriate values as determined\n",
        "train.loc[(train.Source=='Delhi') & (train.Destination=='Cochin') & (pd.DatetimeIndex(train['Date_of_Journey']).month==5)& (train.Duration==1420) &(train.Airline=='Air India') ].sort_values(['Date_of_Journey'])"
      ],
      "execution_count": null,
      "outputs": [
        {
          "output_type": "execute_result",
          "data": {
            "text/html": [
              "<div>\n",
              "<style scoped>\n",
              "    .dataframe tbody tr th:only-of-type {\n",
              "        vertical-align: middle;\n",
              "    }\n",
              "\n",
              "    .dataframe tbody tr th {\n",
              "        vertical-align: top;\n",
              "    }\n",
              "\n",
              "    .dataframe thead th {\n",
              "        text-align: right;\n",
              "    }\n",
              "</style>\n",
              "<table border=\"1\" class=\"dataframe\">\n",
              "  <thead>\n",
              "    <tr style=\"text-align: right;\">\n",
              "      <th></th>\n",
              "      <th>Airline</th>\n",
              "      <th>Date_of_Journey</th>\n",
              "      <th>Source</th>\n",
              "      <th>Destination</th>\n",
              "      <th>Route</th>\n",
              "      <th>Dep_Time</th>\n",
              "      <th>Arrival_Time</th>\n",
              "      <th>Duration</th>\n",
              "      <th>Total_Stops</th>\n",
              "      <th>Additional_Info</th>\n",
              "      <th>Price</th>\n",
              "      <th>Date_of_Arrival</th>\n",
              "      <th>Class</th>\n",
              "      <th>Same_day_travel</th>\n",
              "      <th>weekday_journey</th>\n",
              "      <th>weekday_arrival</th>\n",
              "      <th>Year</th>\n",
              "      <th>month_of_journey</th>\n",
              "      <th>month_of_Arrival</th>\n",
              "      <th>day_of_Arrival</th>\n",
              "      <th>day_of_journey</th>\n",
              "    </tr>\n",
              "  </thead>\n",
              "  <tbody>\n",
              "    <tr>\n",
              "      <th>9039</th>\n",
              "      <td>Air India</td>\n",
              "      <td>2019-05-06</td>\n",
              "      <td>Delhi</td>\n",
              "      <td>Cochin</td>\n",
              "      <td>NaN</td>\n",
              "      <td>09:45:00</td>\n",
              "      <td>09:25:00</td>\n",
              "      <td>1420</td>\n",
              "      <td>NaN</td>\n",
              "      <td>No Info</td>\n",
              "      <td>8.919988</td>\n",
              "      <td>2019-05-07</td>\n",
              "      <td>Economy</td>\n",
              "      <td>1 days</td>\n",
              "      <td>0</td>\n",
              "      <td>1</td>\n",
              "      <td>2019</td>\n",
              "      <td>5</td>\n",
              "      <td>5</td>\n",
              "      <td>7</td>\n",
              "      <td>6</td>\n",
              "    </tr>\n",
              "    <tr>\n",
              "      <th>10348</th>\n",
              "      <td>Air India</td>\n",
              "      <td>2019-05-09</td>\n",
              "      <td>Delhi</td>\n",
              "      <td>Cochin</td>\n",
              "      <td>DEL → HYD → MAA → COK</td>\n",
              "      <td>09:45:00</td>\n",
              "      <td>09:25:00</td>\n",
              "      <td>1420</td>\n",
              "      <td>2.0</td>\n",
              "      <td>No Info</td>\n",
              "      <td>9.202812</td>\n",
              "      <td>2019-05-10</td>\n",
              "      <td>Economy</td>\n",
              "      <td>1 days</td>\n",
              "      <td>3</td>\n",
              "      <td>4</td>\n",
              "      <td>2019</td>\n",
              "      <td>5</td>\n",
              "      <td>5</td>\n",
              "      <td>10</td>\n",
              "      <td>9</td>\n",
              "    </tr>\n",
              "    <tr>\n",
              "      <th>12318</th>\n",
              "      <td>Air India</td>\n",
              "      <td>2019-05-09</td>\n",
              "      <td>Delhi</td>\n",
              "      <td>Cochin</td>\n",
              "      <td>DEL → MAA → COK</td>\n",
              "      <td>09:45:00</td>\n",
              "      <td>09:25:00</td>\n",
              "      <td>1420</td>\n",
              "      <td>1.0</td>\n",
              "      <td>No Info</td>\n",
              "      <td>NaN</td>\n",
              "      <td>2019-05-10</td>\n",
              "      <td>Economy</td>\n",
              "      <td>1 days</td>\n",
              "      <td>3</td>\n",
              "      <td>4</td>\n",
              "      <td>2019</td>\n",
              "      <td>5</td>\n",
              "      <td>5</td>\n",
              "      <td>10</td>\n",
              "      <td>9</td>\n",
              "    </tr>\n",
              "    <tr>\n",
              "      <th>2343</th>\n",
              "      <td>Air India</td>\n",
              "      <td>2019-05-15</td>\n",
              "      <td>Delhi</td>\n",
              "      <td>Cochin</td>\n",
              "      <td>DEL → HYD → MAA → COK</td>\n",
              "      <td>09:45:00</td>\n",
              "      <td>09:25:00</td>\n",
              "      <td>1420</td>\n",
              "      <td>2.0</td>\n",
              "      <td>No Info</td>\n",
              "      <td>9.303375</td>\n",
              "      <td>2019-05-16</td>\n",
              "      <td>Economy</td>\n",
              "      <td>1 days</td>\n",
              "      <td>2</td>\n",
              "      <td>3</td>\n",
              "      <td>2019</td>\n",
              "      <td>5</td>\n",
              "      <td>5</td>\n",
              "      <td>16</td>\n",
              "      <td>15</td>\n",
              "    </tr>\n",
              "    <tr>\n",
              "      <th>2554</th>\n",
              "      <td>Air India</td>\n",
              "      <td>2019-05-15</td>\n",
              "      <td>Delhi</td>\n",
              "      <td>Cochin</td>\n",
              "      <td>DEL → MAA → COK</td>\n",
              "      <td>09:45:00</td>\n",
              "      <td>09:25:00</td>\n",
              "      <td>1420</td>\n",
              "      <td>1.0</td>\n",
              "      <td>No Info</td>\n",
              "      <td>8.919988</td>\n",
              "      <td>2019-05-16</td>\n",
              "      <td>Economy</td>\n",
              "      <td>1 days</td>\n",
              "      <td>2</td>\n",
              "      <td>3</td>\n",
              "      <td>2019</td>\n",
              "      <td>5</td>\n",
              "      <td>5</td>\n",
              "      <td>16</td>\n",
              "      <td>15</td>\n",
              "    </tr>\n",
              "    <tr>\n",
              "      <th>3595</th>\n",
              "      <td>Air India</td>\n",
              "      <td>2019-05-18</td>\n",
              "      <td>Delhi</td>\n",
              "      <td>Cochin</td>\n",
              "      <td>DEL → MAA → COK</td>\n",
              "      <td>09:45:00</td>\n",
              "      <td>09:25:00</td>\n",
              "      <td>1420</td>\n",
              "      <td>1.0</td>\n",
              "      <td>No Info</td>\n",
              "      <td>9.032648</td>\n",
              "      <td>2019-05-19</td>\n",
              "      <td>Economy</td>\n",
              "      <td>1 days</td>\n",
              "      <td>5</td>\n",
              "      <td>6</td>\n",
              "      <td>2019</td>\n",
              "      <td>5</td>\n",
              "      <td>5</td>\n",
              "      <td>19</td>\n",
              "      <td>18</td>\n",
              "    </tr>\n",
              "    <tr>\n",
              "      <th>9717</th>\n",
              "      <td>Air India</td>\n",
              "      <td>2019-05-18</td>\n",
              "      <td>Delhi</td>\n",
              "      <td>Cochin</td>\n",
              "      <td>DEL → HYD → MAA → COK</td>\n",
              "      <td>09:45:00</td>\n",
              "      <td>09:25:00</td>\n",
              "      <td>1420</td>\n",
              "      <td>2.0</td>\n",
              "      <td>No Info</td>\n",
              "      <td>9.303375</td>\n",
              "      <td>2019-05-19</td>\n",
              "      <td>Economy</td>\n",
              "      <td>1 days</td>\n",
              "      <td>5</td>\n",
              "      <td>6</td>\n",
              "      <td>2019</td>\n",
              "      <td>5</td>\n",
              "      <td>5</td>\n",
              "      <td>19</td>\n",
              "      <td>18</td>\n",
              "    </tr>\n",
              "    <tr>\n",
              "      <th>8135</th>\n",
              "      <td>Air India</td>\n",
              "      <td>2019-05-21</td>\n",
              "      <td>Delhi</td>\n",
              "      <td>Cochin</td>\n",
              "      <td>DEL → HYD → MAA → COK</td>\n",
              "      <td>09:45:00</td>\n",
              "      <td>09:25:00</td>\n",
              "      <td>1420</td>\n",
              "      <td>2.0</td>\n",
              "      <td>No Info</td>\n",
              "      <td>9.303375</td>\n",
              "      <td>2019-05-22</td>\n",
              "      <td>Economy</td>\n",
              "      <td>1 days</td>\n",
              "      <td>1</td>\n",
              "      <td>2</td>\n",
              "      <td>2019</td>\n",
              "      <td>5</td>\n",
              "      <td>5</td>\n",
              "      <td>22</td>\n",
              "      <td>21</td>\n",
              "    </tr>\n",
              "    <tr>\n",
              "      <th>1616</th>\n",
              "      <td>Air India</td>\n",
              "      <td>2019-05-24</td>\n",
              "      <td>Delhi</td>\n",
              "      <td>Cochin</td>\n",
              "      <td>DEL → MAA → COK</td>\n",
              "      <td>09:45:00</td>\n",
              "      <td>09:25:00</td>\n",
              "      <td>1420</td>\n",
              "      <td>1.0</td>\n",
              "      <td>No Info</td>\n",
              "      <td>8.919988</td>\n",
              "      <td>2019-05-25</td>\n",
              "      <td>Economy</td>\n",
              "      <td>1 days</td>\n",
              "      <td>4</td>\n",
              "      <td>5</td>\n",
              "      <td>2019</td>\n",
              "      <td>5</td>\n",
              "      <td>5</td>\n",
              "      <td>25</td>\n",
              "      <td>24</td>\n",
              "    </tr>\n",
              "  </tbody>\n",
              "</table>\n",
              "</div>"
            ],
            "text/plain": [
              "         Airline Date_of_Journey  ... day_of_Arrival day_of_journey\n",
              "9039   Air India      2019-05-06  ...              7              6\n",
              "10348  Air India      2019-05-09  ...             10              9\n",
              "12318  Air India      2019-05-09  ...             10              9\n",
              "2343   Air India      2019-05-15  ...             16             15\n",
              "2554   Air India      2019-05-15  ...             16             15\n",
              "3595   Air India      2019-05-18  ...             19             18\n",
              "9717   Air India      2019-05-18  ...             19             18\n",
              "8135   Air India      2019-05-21  ...             22             21\n",
              "1616   Air India      2019-05-24  ...             25             24\n",
              "\n",
              "[9 rows x 21 columns]"
            ]
          },
          "metadata": {
            "tags": []
          },
          "execution_count": 35
        }
      ]
    },
    {
      "cell_type": "code",
      "metadata": {
        "id": "r6-Upowe_zLR"
      },
      "source": [
        "train.Route=train.Route.fillna('DEL → MAA → COK')\n",
        "train.loc[train.Total_Stops.isnull(),'Total_Stops']=1"
      ],
      "execution_count": null,
      "outputs": []
    },
    {
      "cell_type": "markdown",
      "metadata": {
        "id": "z-NC7N_p_9f8"
      },
      "source": [
        "**Outlier Treatment- Did not Use for modelling**"
      ]
    },
    {
      "cell_type": "code",
      "metadata": {
        "colab": {
          "base_uri": "https://localhost:8080/",
          "height": 585
        },
        "id": "6pUwA84E_4si",
        "outputId": "4a123732-87d6-4f2a-c5b0-18b4e5510451"
      },
      "source": [
        "train.head()"
      ],
      "execution_count": null,
      "outputs": [
        {
          "output_type": "execute_result",
          "data": {
            "text/html": [
              "<div>\n",
              "<style scoped>\n",
              "    .dataframe tbody tr th:only-of-type {\n",
              "        vertical-align: middle;\n",
              "    }\n",
              "\n",
              "    .dataframe tbody tr th {\n",
              "        vertical-align: top;\n",
              "    }\n",
              "\n",
              "    .dataframe thead th {\n",
              "        text-align: right;\n",
              "    }\n",
              "</style>\n",
              "<table border=\"1\" class=\"dataframe\">\n",
              "  <thead>\n",
              "    <tr style=\"text-align: right;\">\n",
              "      <th></th>\n",
              "      <th>Airline</th>\n",
              "      <th>Date_of_Journey</th>\n",
              "      <th>Source</th>\n",
              "      <th>Destination</th>\n",
              "      <th>Route</th>\n",
              "      <th>Dep_Time</th>\n",
              "      <th>Arrival_Time</th>\n",
              "      <th>Duration</th>\n",
              "      <th>Total_Stops</th>\n",
              "      <th>Additional_Info</th>\n",
              "      <th>Price</th>\n",
              "      <th>Date_of_Arrival</th>\n",
              "      <th>Class</th>\n",
              "      <th>Same_day_travel</th>\n",
              "      <th>weekday_journey</th>\n",
              "      <th>weekday_arrival</th>\n",
              "      <th>Year</th>\n",
              "      <th>month_of_journey</th>\n",
              "      <th>month_of_Arrival</th>\n",
              "      <th>day_of_Arrival</th>\n",
              "      <th>day_of_journey</th>\n",
              "    </tr>\n",
              "  </thead>\n",
              "  <tbody>\n",
              "    <tr>\n",
              "      <th>0</th>\n",
              "      <td>IndiGo</td>\n",
              "      <td>2019-03-24</td>\n",
              "      <td>Banglore</td>\n",
              "      <td>New Delhi</td>\n",
              "      <td>BLR → DEL</td>\n",
              "      <td>22:20:00</td>\n",
              "      <td>01:10:00</td>\n",
              "      <td>170</td>\n",
              "      <td>0.0</td>\n",
              "      <td>No Info</td>\n",
              "      <td>8.267962</td>\n",
              "      <td>2019-03-25</td>\n",
              "      <td>Economy</td>\n",
              "      <td>1 days</td>\n",
              "      <td>6</td>\n",
              "      <td>0</td>\n",
              "      <td>2019</td>\n",
              "      <td>3</td>\n",
              "      <td>3</td>\n",
              "      <td>25</td>\n",
              "      <td>24</td>\n",
              "    </tr>\n",
              "    <tr>\n",
              "      <th>1</th>\n",
              "      <td>Air India</td>\n",
              "      <td>2019-05-01</td>\n",
              "      <td>Kolkata</td>\n",
              "      <td>Banglore</td>\n",
              "      <td>CCU → IXR → BBI → BLR</td>\n",
              "      <td>05:50:00</td>\n",
              "      <td>13:15:00</td>\n",
              "      <td>445</td>\n",
              "      <td>2.0</td>\n",
              "      <td>No Info</td>\n",
              "      <td>8.944028</td>\n",
              "      <td>2019-05-01</td>\n",
              "      <td>Economy</td>\n",
              "      <td>0 days</td>\n",
              "      <td>2</td>\n",
              "      <td>2</td>\n",
              "      <td>2019</td>\n",
              "      <td>5</td>\n",
              "      <td>5</td>\n",
              "      <td>1</td>\n",
              "      <td>1</td>\n",
              "    </tr>\n",
              "    <tr>\n",
              "      <th>2</th>\n",
              "      <td>Jet Airways</td>\n",
              "      <td>2019-06-09</td>\n",
              "      <td>Delhi</td>\n",
              "      <td>Cochin</td>\n",
              "      <td>DEL → LKO → BOM → COK</td>\n",
              "      <td>09:25:00</td>\n",
              "      <td>04:25:00</td>\n",
              "      <td>1140</td>\n",
              "      <td>2.0</td>\n",
              "      <td>No Info</td>\n",
              "      <td>9.538348</td>\n",
              "      <td>2019-06-10</td>\n",
              "      <td>Economy</td>\n",
              "      <td>1 days</td>\n",
              "      <td>6</td>\n",
              "      <td>0</td>\n",
              "      <td>2019</td>\n",
              "      <td>6</td>\n",
              "      <td>6</td>\n",
              "      <td>10</td>\n",
              "      <td>9</td>\n",
              "    </tr>\n",
              "    <tr>\n",
              "      <th>3</th>\n",
              "      <td>IndiGo</td>\n",
              "      <td>2019-05-12</td>\n",
              "      <td>Kolkata</td>\n",
              "      <td>Banglore</td>\n",
              "      <td>CCU → NAG → BLR</td>\n",
              "      <td>18:05:00</td>\n",
              "      <td>23:30:00</td>\n",
              "      <td>325</td>\n",
              "      <td>1.0</td>\n",
              "      <td>No Info</td>\n",
              "      <td>8.735204</td>\n",
              "      <td>2019-05-12</td>\n",
              "      <td>Economy</td>\n",
              "      <td>0 days</td>\n",
              "      <td>6</td>\n",
              "      <td>6</td>\n",
              "      <td>2019</td>\n",
              "      <td>5</td>\n",
              "      <td>5</td>\n",
              "      <td>12</td>\n",
              "      <td>12</td>\n",
              "    </tr>\n",
              "    <tr>\n",
              "      <th>4</th>\n",
              "      <td>IndiGo</td>\n",
              "      <td>2019-03-01</td>\n",
              "      <td>Banglore</td>\n",
              "      <td>New Delhi</td>\n",
              "      <td>BLR → NAG → DEL</td>\n",
              "      <td>16:50:00</td>\n",
              "      <td>21:35:00</td>\n",
              "      <td>285</td>\n",
              "      <td>1.0</td>\n",
              "      <td>No Info</td>\n",
              "      <td>9.495670</td>\n",
              "      <td>2019-03-01</td>\n",
              "      <td>Economy</td>\n",
              "      <td>0 days</td>\n",
              "      <td>4</td>\n",
              "      <td>4</td>\n",
              "      <td>2019</td>\n",
              "      <td>3</td>\n",
              "      <td>3</td>\n",
              "      <td>1</td>\n",
              "      <td>1</td>\n",
              "    </tr>\n",
              "  </tbody>\n",
              "</table>\n",
              "</div>"
            ],
            "text/plain": [
              "       Airline Date_of_Journey  ... day_of_Arrival day_of_journey\n",
              "0       IndiGo      2019-03-24  ...             25             24\n",
              "1    Air India      2019-05-01  ...              1              1\n",
              "2  Jet Airways      2019-06-09  ...             10              9\n",
              "3       IndiGo      2019-05-12  ...             12             12\n",
              "4       IndiGo      2019-03-01  ...              1              1\n",
              "\n",
              "[5 rows x 21 columns]"
            ]
          },
          "metadata": {
            "tags": []
          },
          "execution_count": 37
        }
      ]
    },
    {
      "cell_type": "markdown",
      "metadata": {
        "id": "VjBUPGyoAODX"
      },
      "source": [
        "**Skew Treatment (BOXCOX Transform)**"
      ]
    },
    {
      "cell_type": "code",
      "metadata": {
        "colab": {
          "base_uri": "https://localhost:8080/",
          "height": 435
        },
        "id": "zJkOxddPAGqO",
        "outputId": "150a23a6-a277-48be-83d0-5675db369c17"
      },
      "source": [
        "numeric_dtypes = ['int16', 'int32', 'int64', 'float16', 'float32', 'float64']\n",
        "numerics2 = []\n",
        "for i in train.columns:\n",
        "    if i!='Price':\n",
        "        if train[i].dtype in numeric_dtypes: \n",
        "            numerics2.append(i)\n",
        "\n",
        "skew_features = train[numerics2].apply(lambda x: skew(x)).sort_values(ascending=False)\n",
        "skews = pd.DataFrame({'skew':skew_features})\n",
        "print(skews)\n",
        "\n",
        "high_skew = skew_features[abs(skew_features) > 0.3]\n",
        "high_skew = high_skew\n",
        "skew_index = high_skew.index\n",
        "\n",
        "for i in skew_index:\n",
        "     if i!='=Price':\n",
        "        train[i]= boxcox1p(train[i], boxcox_normmax(train[i]+1))\n",
        "\n",
        "        \n",
        "skew_features2 = train[numerics2].apply(lambda x: skew(x)).sort_values(ascending=False)\n",
        "skews2 = pd.DataFrame({'skew':skew_features2})\n",
        "skews2"
      ],
      "execution_count": null,
      "outputs": [
        {
          "output_type": "stream",
          "text": [
            "                      skew\n",
            "Duration          0.867995\n",
            "day_of_journey    0.135127\n",
            "day_of_Arrival    0.132062\n",
            "weekday_journey   0.040376\n",
            "weekday_arrival   0.030020\n",
            "Year              0.000000\n",
            "month_of_Arrival -0.390640\n",
            "month_of_journey -0.390640\n"
          ],
          "name": "stdout"
        },
        {
          "output_type": "execute_result",
          "data": {
            "text/html": [
              "<div>\n",
              "<style scoped>\n",
              "    .dataframe tbody tr th:only-of-type {\n",
              "        vertical-align: middle;\n",
              "    }\n",
              "\n",
              "    .dataframe tbody tr th {\n",
              "        vertical-align: top;\n",
              "    }\n",
              "\n",
              "    .dataframe thead th {\n",
              "        text-align: right;\n",
              "    }\n",
              "</style>\n",
              "<table border=\"1\" class=\"dataframe\">\n",
              "  <thead>\n",
              "    <tr style=\"text-align: right;\">\n",
              "      <th></th>\n",
              "      <th>skew</th>\n",
              "    </tr>\n",
              "  </thead>\n",
              "  <tbody>\n",
              "    <tr>\n",
              "      <th>day_of_journey</th>\n",
              "      <td>0.135127</td>\n",
              "    </tr>\n",
              "    <tr>\n",
              "      <th>day_of_Arrival</th>\n",
              "      <td>0.132062</td>\n",
              "    </tr>\n",
              "    <tr>\n",
              "      <th>Duration</th>\n",
              "      <td>0.054899</td>\n",
              "    </tr>\n",
              "    <tr>\n",
              "      <th>weekday_journey</th>\n",
              "      <td>0.040376</td>\n",
              "    </tr>\n",
              "    <tr>\n",
              "      <th>weekday_arrival</th>\n",
              "      <td>0.030020</td>\n",
              "    </tr>\n",
              "    <tr>\n",
              "      <th>Year</th>\n",
              "      <td>0.000000</td>\n",
              "    </tr>\n",
              "    <tr>\n",
              "      <th>month_of_Arrival</th>\n",
              "      <td>-0.105846</td>\n",
              "    </tr>\n",
              "    <tr>\n",
              "      <th>month_of_journey</th>\n",
              "      <td>-0.105846</td>\n",
              "    </tr>\n",
              "  </tbody>\n",
              "</table>\n",
              "</div>"
            ],
            "text/plain": [
              "                      skew\n",
              "day_of_journey    0.135127\n",
              "day_of_Arrival    0.132062\n",
              "Duration          0.054899\n",
              "weekday_journey   0.040376\n",
              "weekday_arrival   0.030020\n",
              "Year              0.000000\n",
              "month_of_Arrival -0.105846\n",
              "month_of_journey -0.105846"
            ]
          },
          "metadata": {
            "tags": []
          },
          "execution_count": 38
        }
      ]
    },
    {
      "cell_type": "markdown",
      "metadata": {
        "id": "u4yXwjN1A34Y"
      },
      "source": [
        "**Data preperation for Modelling and Modelling**"
      ]
    },
    {
      "cell_type": "code",
      "metadata": {
        "id": "UqvTg9kuAr1g"
      },
      "source": [
        "# Creating a sparse matrix using pandas get dummies function that helps split string columns into boolean values.\n",
        "df=pd.get_dummies(train)"
      ],
      "execution_count": null,
      "outputs": []
    },
    {
      "cell_type": "code",
      "metadata": {
        "id": "IQSJpO01A9bl"
      },
      "source": [
        "# Splitting test and train data\n",
        "train_df=df[:len_train]\n",
        "test_df=df[len_train:]"
      ],
      "execution_count": null,
      "outputs": []
    },
    {
      "cell_type": "code",
      "metadata": {
        "id": "2-o1gOrgBCyY"
      },
      "source": [
        "# Removing Price from independent variable data and keeping only price in the other\n",
        "x=train_df.drop('Price',axis=1)\n",
        "y=train_df['Price']"
      ],
      "execution_count": null,
      "outputs": []
    },
    {
      "cell_type": "code",
      "metadata": {
        "id": "OdRjJ0a-BJBi"
      },
      "source": [
        "# Writing a function to evaluate model performance using KFOLD and cross validation\n",
        "def rmsle_cv(model):\n",
        "    kfold=KFold(n_splits=2, shuffle=True, random_state=10).get_n_splits(x)\n",
        "    rmse=np.sqrt(-cross_val_score(model,x,y,cv=kfold, scoring='neg_mean_squared_error'))\n",
        "    return rmse"
      ],
      "execution_count": null,
      "outputs": []
    },
    {
      "cell_type": "code",
      "metadata": {
        "colab": {
          "base_uri": "https://localhost:8080/",
          "height": 86
        },
        "id": "Nmj-_j1dDJ7T",
        "outputId": "5bd32ddb-63a0-4b4e-fe8a-310c78044e53"
      },
      "source": [
        "'''\n",
        "lightgbm=LGBMRegressor(objective='regression',num_leaves=80,\n",
        "                              learning_rate=0.1, n_estimators=1200,\n",
        "                              max_bin = 30, bagging_fraction = 0.8,\n",
        "                              bagging_freq = 9, feature_fraction = 0.129,\n",
        "                              feature_fraction_seed=9, bagging_seed=9,\n",
        "                              min_data_in_leaf =3, min_sum_hessian_in_leaf = 6, random_state=10)\n",
        "                              '''"
      ],
      "execution_count": null,
      "outputs": [
        {
          "output_type": "execute_result",
          "data": {
            "application/vnd.google.colaboratory.intrinsic+json": {
              "type": "string"
            },
            "text/plain": [
              "\"\\nlightgbm=LGBMRegressor(objective='regression',num_leaves=80,\\n                              learning_rate=0.1, n_estimators=1200,\\n                              max_bin = 30, bagging_fraction = 0.8,\\n                              bagging_freq = 9, feature_fraction = 0.129,\\n                              feature_fraction_seed=9, bagging_seed=9,\\n                              min_data_in_leaf =3, min_sum_hessian_in_leaf = 6, random_state=10)\\n                              \""
            ]
          },
          "metadata": {
            "tags": []
          },
          "execution_count": 43
        }
      ]
    },
    {
      "cell_type": "code",
      "metadata": {
        "id": "jRWIbXR6BNGD"
      },
      "source": [
        "from sklearn.model_selection import GridSearchCV"
      ],
      "execution_count": null,
      "outputs": []
    },
    {
      "cell_type": "code",
      "metadata": {
        "id": "qNgeiHCzC25g"
      },
      "source": [
        "param_grid = {  'num_leaves': [20,40,60,80], 'learning_rate': [0.05, 0.01,0.1], 'max_features': ['auto', 'log2'], 'n_estimators': [500,700,1200,1500]}"
      ],
      "execution_count": null,
      "outputs": []
    },
    {
      "cell_type": "code",
      "metadata": {
        "id": "32Xxst4EC_b7"
      },
      "source": [
        "rfr = LGBMRegressor(random_state = 1)\n",
        "\n",
        "g_search = GridSearchCV(estimator = rfr, param_grid = param_grid, \n",
        "\n",
        "                          cv = 3, n_jobs = 1, verbose = 0, return_train_score=True)"
      ],
      "execution_count": null,
      "outputs": []
    },
    {
      "cell_type": "code",
      "metadata": {
        "id": "4t6D8KrnDDhL"
      },
      "source": [
        "#g_search.fit(x, y);"
      ],
      "execution_count": null,
      "outputs": []
    },
    {
      "cell_type": "code",
      "metadata": {
        "id": "eHUhLe4FDFnS"
      },
      "source": [
        "#print(g_search.best_params_)"
      ],
      "execution_count": null,
      "outputs": []
    },
    {
      "cell_type": "code",
      "metadata": {
        "id": "QBLAmK_RI7BM"
      },
      "source": [
        "lightgbm=LGBMRegressor(objective='regression',num_leaves=80,\n",
        "                              learning_rate=0.05, n_estimators=1200,\n",
        "                              max_bin = 30 , max_features='auto', random_state=10)"
      ],
      "execution_count": null,
      "outputs": []
    },
    {
      "cell_type": "code",
      "metadata": {
        "id": "UKH-29A1JSuv"
      },
      "source": [
        "#rmsle_cv(lightgbm).mean(),rmsle_cv(lightgbm).std() # Commented for faster running of complete code"
      ],
      "execution_count": null,
      "outputs": []
    },
    {
      "cell_type": "code",
      "metadata": {
        "id": "DBKPUEYVJbXi"
      },
      "source": [
        "xgb=XGBRegressor(learning_rate =0.1, \n",
        "      n_estimators=1500, max_depth=12, min_child_weight=1,gamma=0, reg_alpha=2e-5,\n",
        "      subsample=0.8,colsample_bytree=0.8,\n",
        "      nthread=4,scale_pos_weight=1,seed=27,verbose=True,random_state=10)"
      ],
      "execution_count": null,
      "outputs": []
    },
    {
      "cell_type": "code",
      "metadata": {
        "id": "CnqgsAUhJlus"
      },
      "source": [
        "#rmsle_cv(xgb).mean(),rmsle_cv(xgb).std() # Commented for faster running of complete code"
      ],
      "execution_count": null,
      "outputs": []
    },
    {
      "cell_type": "code",
      "metadata": {
        "id": "EImIEnoAJpsN"
      },
      "source": [
        "grb=GradientBoostingRegressor(learning_rate=0.1,n_estimators=400, max_depth=12\n",
        "                              ,subsample=0.8,\n",
        "                              verbose=False,random_state=10)\n"
      ],
      "execution_count": null,
      "outputs": []
    },
    {
      "cell_type": "code",
      "metadata": {
        "id": "LfiiOCSSJuPF"
      },
      "source": [
        "#rmsle_cv(grb).mean(), rmsle_cv(grb).std() # Commented for faster running of complete code"
      ],
      "execution_count": null,
      "outputs": []
    },
    {
      "cell_type": "code",
      "metadata": {
        "id": "pwAgIf7_JyRA"
      },
      "source": [
        "svr = Pipeline([('Scaler',RobustScaler()), ('SVR',SVR(C= 10000, epsilon= 0.008, gamma=0.009))])"
      ],
      "execution_count": null,
      "outputs": []
    },
    {
      "cell_type": "code",
      "metadata": {
        "id": "sH037G0ePwrz"
      },
      "source": [
        "#rmsle_cv(svr).mean(), rmsle_cv(svr).std() # Commented for faster running of complete code"
      ],
      "execution_count": null,
      "outputs": []
    },
    {
      "cell_type": "code",
      "metadata": {
        "id": "9b_tqCwRPzYH"
      },
      "source": [
        "\n",
        "krr=KernelRidge(alpha=1, kernel='polynomial', gamma=0.001,degree=3,coef0=5)\n",
        "#rmsle_cv(krr).mean(), rmsle_cv(krr).std() # Commented for faster running of complete code"
      ],
      "execution_count": null,
      "outputs": []
    },
    {
      "cell_type": "code",
      "metadata": {
        "id": "V4B2KTR7P3Db"
      },
      "source": [
        "rf=RandomForestRegressor(n_estimators=3000, oob_score = False, n_jobs = -1,random_state =50,\n",
        "                         max_features = \"auto\", min_samples_leaf = 2,warm_start=True,criterion='mse',max_depth=50)"
      ],
      "execution_count": null,
      "outputs": []
    },
    {
      "cell_type": "code",
      "metadata": {
        "id": "H_IJjXuHdD7s"
      },
      "source": [
        "#rmsle_cv(rf).mean(), rmsle_cv(rf).std() # Commented for faster running of complete code"
      ],
      "execution_count": null,
      "outputs": []
    },
    {
      "cell_type": "code",
      "metadata": {
        "id": "wBepEeQ1dEV3"
      },
      "source": [
        "# Final ensemble that uses outputs from each model regressor and the original data in the meta regressor XGB\n",
        "avg=StackingCVRegressor(regressors=(lightgbm,grb,rf),meta_regressor=xgb, use_features_in_secondary=True)#,svr,krr,"
      ],
      "execution_count": null,
      "outputs": []
    },
    {
      "cell_type": "code",
      "metadata": {
        "id": "IxhtYchVdLe4"
      },
      "source": [
        "# Function to calculate RMSE error of the complete model for reference, similiar to rmsle_cv without KFOLD CV\n",
        "def rmsle(y, y_pred):\n",
        "    return np.sqrt(mean_squared_error(y, y_pred))"
      ],
      "execution_count": null,
      "outputs": []
    },
    {
      "cell_type": "code",
      "metadata": {
        "id": "bBb651BEdPPa"
      },
      "source": [
        "\n",
        "X=np.array(x)\n",
        "Y=np.array(y)"
      ],
      "execution_count": null,
      "outputs": []
    },
    {
      "cell_type": "code",
      "metadata": {
        "colab": {
          "base_uri": "https://localhost:8080/"
        },
        "id": "fHdacAS-0TkG",
        "outputId": "bf5c4ac7-9a6d-4e63-866f-ae32d5894dd4"
      },
      "source": [
        "# Fitting the model on the train data and predicting the train price values\n",
        "avg.fit(X,Y)\n",
        "y_pred=avg.predict(X)"
      ],
      "execution_count": null,
      "outputs": [
        {
          "output_type": "stream",
          "text": [
            "[05:05:19] WARNING: /workspace/src/objective/regression_obj.cu:152: reg:linear is now deprecated in favor of reg:squarederror.\n"
          ],
          "name": "stdout"
        }
      ]
    },
    {
      "cell_type": "code",
      "metadata": {
        "colab": {
          "base_uri": "https://localhost:8080/",
          "height": 282
        },
        "id": "ki5AVSVk0Tha",
        "outputId": "502a5032-fe64-451d-f646-1041b41eb2c6"
      },
      "source": [
        "# Plot of the model prediction with the original price values in the training data set to undestand model fit\n",
        "plt.scatter(list(y_pred),y)\n",
        "plt.plot(range(7,13),range(7,13),'r')"
      ],
      "execution_count": null,
      "outputs": [
        {
          "output_type": "execute_result",
          "data": {
            "text/plain": [
              "[<matplotlib.lines.Line2D at 0x7fca028f57d0>]"
            ]
          },
          "metadata": {
            "tags": []
          },
          "execution_count": 64
        },
        {
          "output_type": "display_data",
          "data": {
            "image/png": "[encoded data removed]",
            "text/plain": [
              "<Figure size 432x288 with 1 Axes>"
            ]
          },
          "metadata": {
            "tags": [],
            "needs_background": "light"
          }
        }
      ]
    },
    {
      "cell_type": "code",
      "metadata": {
        "colab": {
          "base_uri": "https://localhost:8080/"
        },
        "id": "VDAt1j2oeT9i",
        "outputId": "8a5b8809-744b-40c6-b427-949fe646683e"
      },
      "source": [
        "# RMSE value of the model on training data\n",
        "rmsle(y,y_pred)"
      ],
      "execution_count": null,
      "outputs": [
        {
          "output_type": "execute_result",
          "data": {
            "text/plain": [
              "0.05882558111761175"
            ]
          },
          "metadata": {
            "tags": []
          },
          "execution_count": 65
        }
      ]
    },
    {
      "cell_type": "code",
      "metadata": {
        "id": "7DCnWoCJy4i3"
      },
      "source": [
        "# Predictions of test data\n",
        "Predict=avg.predict(np.array(test_df.drop('Price',axis=1)))"
      ],
      "execution_count": null,
      "outputs": []
    },
    {
      "cell_type": "code",
      "metadata": {
        "id": "RwSY2AKDy-bl"
      },
      "source": [
        "# Converting price back to original scale and making it integer\n",
        "Predict=np.exp(Predict)\n",
        "Predict=Predict.astype(int)"
      ],
      "execution_count": null,
      "outputs": []
    },
    {
      "cell_type": "code",
      "metadata": {
        "id": "Rg83hPw2zBp2"
      },
      "source": [
        "\n",
        "# Converting predicted values to dataframe\n",
        "Submission=pd.DataFrame(Predict,columns=['Price'])"
      ],
      "execution_count": null,
      "outputs": []
    },
    {
      "cell_type": "code",
      "metadata": {
        "colab": {
          "base_uri": "https://localhost:8080/"
        },
        "id": "CKr3nSyGzEqN",
        "outputId": "e1d8d6b7-26cb-46b9-8987-ccfa81f9c320"
      },
      "source": [
        "len(Submission)"
      ],
      "execution_count": null,
      "outputs": [
        {
          "output_type": "execute_result",
          "data": {
            "text/plain": [
              "2671"
            ]
          },
          "metadata": {
            "tags": []
          },
          "execution_count": 69
        }
      ]
    },
    {
      "cell_type": "code",
      "metadata": {
        "colab": {
          "base_uri": "https://localhost:8080/",
          "height": 195
        },
        "id": "iEI1IWbFzHow",
        "outputId": "76320f31-e7d9-4859-b698-f5d259312a3a"
      },
      "source": [
        "Submission.head()"
      ],
      "execution_count": null,
      "outputs": [
        {
          "output_type": "execute_result",
          "data": {
            "text/html": [
              "<div>\n",
              "<style scoped>\n",
              "    .dataframe tbody tr th:only-of-type {\n",
              "        vertical-align: middle;\n",
              "    }\n",
              "\n",
              "    .dataframe tbody tr th {\n",
              "        vertical-align: top;\n",
              "    }\n",
              "\n",
              "    .dataframe thead th {\n",
              "        text-align: right;\n",
              "    }\n",
              "</style>\n",
              "<table border=\"1\" class=\"dataframe\">\n",
              "  <thead>\n",
              "    <tr style=\"text-align: right;\">\n",
              "      <th></th>\n",
              "      <th>Price</th>\n",
              "    </tr>\n",
              "  </thead>\n",
              "  <tbody>\n",
              "    <tr>\n",
              "      <th>0</th>\n",
              "      <td>14663</td>\n",
              "    </tr>\n",
              "    <tr>\n",
              "      <th>1</th>\n",
              "      <td>4321</td>\n",
              "    </tr>\n",
              "    <tr>\n",
              "      <th>2</th>\n",
              "      <td>12919</td>\n",
              "    </tr>\n",
              "    <tr>\n",
              "      <th>3</th>\n",
              "      <td>8732</td>\n",
              "    </tr>\n",
              "    <tr>\n",
              "      <th>4</th>\n",
              "      <td>3682</td>\n",
              "    </tr>\n",
              "  </tbody>\n",
              "</table>\n",
              "</div>"
            ],
            "text/plain": [
              "   Price\n",
              "0  14663\n",
              "1   4321\n",
              "2  12919\n",
              "3   8732\n",
              "4   3682"
            ]
          },
          "metadata": {
            "tags": []
          },
          "execution_count": 70
        }
      ]
    },
    {
      "cell_type": "code",
      "metadata": {
        "id": "xzn2idWMzKGT"
      },
      "source": [
        "# Final Submission\n",
        "Submission.to_excel('Submission_rf.xlsx')"
      ],
      "execution_count": null,
      "outputs": []
    },
    {
      "cell_type": "code",
      "metadata": {
        "id": "Lo-XQFPBzOMK"
      },
      "source": [
        "# Final Submission\n",
        "Submission.to_csv('Submission_stacked.csv')"
      ],
      "execution_count": null,
      "outputs": []
    },
    {
      "cell_type": "code",
      "metadata": {
        "id": "VGvDkgSNzafL"
      },
      "source": [
        ""
      ],
      "execution_count": null,
      "outputs": []
    }
  ]
}