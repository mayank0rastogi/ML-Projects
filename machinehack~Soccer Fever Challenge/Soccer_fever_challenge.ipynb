{
  "nbformat": 4,
  "nbformat_minor": 0,
  "metadata": {
    "colab": {
      "name": "Soccer fever challenge.ipynb",
      "provenance": [],
      "collapsed_sections": []
    },
    "kernelspec": {
      "name": "python3",
      "display_name": "Python 3"
    },
    "language_info": {
      "name": "python"
    },
    "widgets": {
      "application/vnd.jupyter.widget-state+json": {
        "2957bcf9ee304a02a1f97f5273256798": {
          "model_module": "catboost-widget",
          "model_name": "CatboostWidgetModel",
          "model_module_version": "^1.0.0",
          "state": {
            "_view_name": "CatboostWidgetView",
            "_dom_classes": [],
            "_model_name": "CatboostWidgetModel",
            "data": {
              "catboost_info": {
                "content": {
                  "data": {
                    "meta": {
                      "name": "experiment",
                      "parameters": "",
                      "test_metrics": [
                        {
                          "best_value": "Min",
                          "name": "Logloss"
                        }
                      ],
                      "learn_sets": [
                        "learn"
                      ],
                      "launch_mode": "Train",
                      "learn_metrics": [
                        {
                          "best_value": "Min",
                          "name": "Logloss"
                        }
                      ],
                      "iteration_count": 175,
                      "test_sets": [
                        "test"
                      ]
                    },
                    "iterations": [
                      {
                        "test": [
                          0.5005369211
                        ],
                        "passed_time": 0.05607050979,
                        "iteration": 0,
                        "remaining_time": 9.756268704,
                        "learn": [
                          0.5017669626
                        ]
                      },
                      {
                        "test": [
                          0.3732881416
                        ],
                        "passed_time": 0.06194169967,
                        "iteration": 1,
                        "remaining_time": 5.357957021,
                        "learn": [
                          0.3741637224
                        ]
                      },
                      {
                        "test": [
                          0.2840867926
                        ],
                        "passed_time": 0.06808872102,
                        "iteration": 2,
                        "remaining_time": 3.903753339,
                        "learn": [
                          0.2860035928
                        ]
                      },
                      {
                        "test": [
                          0.2260529109
                        ],
                        "passed_time": 0.07359017963,
                        "iteration": 3,
                        "remaining_time": 3.145980179,
                        "learn": [
                          0.2287115148
                        ]
                      },
                      {
                        "test": [
                          0.1838969028
                        ],
                        "passed_time": 0.07933410698,
                        "iteration": 4,
                        "remaining_time": 2.697359637,
                        "learn": [
                          0.1859734413
                        ]
                      },
                      {
                        "test": [
                          0.1544483573
                        ],
                        "passed_time": 0.08495686421,
                        "iteration": 5,
                        "remaining_time": 2.392951675,
                        "learn": [
                          0.1564571486
                        ]
                      },
                      {
                        "test": [
                          0.1303126376
                        ],
                        "passed_time": 0.09089631716,
                        "iteration": 6,
                        "remaining_time": 2.181511612,
                        "learn": [
                          0.1323366628
                        ]
                      },
                      {
                        "test": [
                          0.1134428661
                        ],
                        "passed_time": 0.09637268308,
                        "iteration": 7,
                        "remaining_time": 2.011779759,
                        "learn": [
                          0.115152179
                        ]
                      },
                      {
                        "test": [
                          0.09829664824
                        ],
                        "passed_time": 0.101975896,
                        "iteration": 8,
                        "remaining_time": 1.880888749,
                        "learn": [
                          0.09822946478
                        ]
                      },
                      {
                        "test": [
                          0.0879688853
                        ],
                        "passed_time": 0.1075112374,
                        "iteration": 9,
                        "remaining_time": 1.773935417,
                        "learn": [
                          0.08716807208
                        ]
                      },
                      {
                        "test": [
                          0.07790241333
                        ],
                        "passed_time": 0.1133471389,
                        "iteration": 10,
                        "remaining_time": 1.689902798,
                        "learn": [
                          0.07828810919
                        ]
                      },
                      {
                        "test": [
                          0.07257356865
                        ],
                        "passed_time": 0.1188611408,
                        "iteration": 11,
                        "remaining_time": 1.614530496,
                        "learn": [
                          0.07202765841
                        ]
                      },
                      {
                        "test": [
                          0.0673811868
                        ],
                        "passed_time": 0.1244118387,
                        "iteration": 12,
                        "remaining_time": 1.550362914,
                        "learn": [
                          0.06570477417
                        ]
                      },
                      {
                        "test": [
                          0.06261184555
                        ],
                        "passed_time": 0.1298608108,
                        "iteration": 13,
                        "remaining_time": 1.493399325,
                        "learn": [
                          0.06162686336
                        ]
                      },
                      {
                        "test": [
                          0.05910214802
                        ],
                        "passed_time": 0.1353497611,
                        "iteration": 14,
                        "remaining_time": 1.443730785,
                        "learn": [
                          0.05796538059
                        ]
                      },
                      {
                        "test": [
                          0.05746438274
                        ],
                        "passed_time": 0.140923573,
                        "iteration": 15,
                        "remaining_time": 1.400428007,
                        "learn": [
                          0.05557902324
                        ]
                      },
                      {
                        "test": [
                          0.05541919185
                        ],
                        "passed_time": 0.1464056854,
                        "iteration": 16,
                        "remaining_time": 1.360711664,
                        "learn": [
                          0.05311127908
                        ]
                      },
                      {
                        "test": [
                          0.05354141955
                        ],
                        "passed_time": 0.1519803119,
                        "iteration": 17,
                        "remaining_time": 1.325606053,
                        "learn": [
                          0.05068274591
                        ]
                      },
                      {
                        "test": [
                          0.05231323196
                        ],
                        "passed_time": 0.15757212,
                        "iteration": 18,
                        "remaining_time": 1.293750038,
                        "learn": [
                          0.04908582144
                        ]
                      },
                      {
                        "test": [
                          0.05002284021
                        ],
                        "passed_time": 0.1630982228,
                        "iteration": 19,
                        "remaining_time": 1.264011226,
                        "learn": [
                          0.04713554946
                        ]
                      },
                      {
                        "test": [
                          0.04948971527
                        ],
                        "passed_time": 0.1686286598,
                        "iteration": 20,
                        "remaining_time": 1.236610172,
                        "learn": [
                          0.04614263222
                        ]
                      },
                      {
                        "test": [
                          0.04791496683
                        ],
                        "passed_time": 0.1742117994,
                        "iteration": 21,
                        "remaining_time": 1.211563878,
                        "learn": [
                          0.04452609999
                        ]
                      },
                      {
                        "test": [
                          0.04692519015
                        ],
                        "passed_time": 0.1797991468,
                        "iteration": 22,
                        "remaining_time": 1.188237839,
                        "learn": [
                          0.04310782861
                        ]
                      },
                      {
                        "test": [
                          0.04683257538
                        ],
                        "passed_time": 0.1851685835,
                        "iteration": 23,
                        "remaining_time": 1.165019005,
                        "learn": [
                          0.0429159934
                        ]
                      },
                      {
                        "test": [
                          0.04689646825
                        ],
                        "passed_time": 0.1905452078,
                        "iteration": 24,
                        "remaining_time": 1.143271247,
                        "learn": [
                          0.04247211601
                        ]
                      },
                      {
                        "test": [
                          0.04581944156
                        ],
                        "passed_time": 0.1960131431,
                        "iteration": 25,
                        "remaining_time": 1.123306089,
                        "learn": [
                          0.04119089028
                        ]
                      },
                      {
                        "test": [
                          0.04447007232
                        ],
                        "passed_time": 0.2015985828,
                        "iteration": 26,
                        "remaining_time": 1.105058899,
                        "learn": [
                          0.03990500051
                        ]
                      },
                      {
                        "test": [
                          0.04350455338
                        ],
                        "passed_time": 0.2069930548,
                        "iteration": 27,
                        "remaining_time": 1.086713538,
                        "learn": [
                          0.03915590956
                        ]
                      },
                      {
                        "test": [
                          0.0426290248
                        ],
                        "passed_time": 0.2126287299,
                        "iteration": 28,
                        "remaining_time": 1.070475675,
                        "learn": [
                          0.03806208381
                        ]
                      },
                      {
                        "test": [
                          0.04265031523
                        ],
                        "passed_time": 0.2179669845,
                        "iteration": 29,
                        "remaining_time": 1.053507092,
                        "learn": [
                          0.0380143439
                        ]
                      },
                      {
                        "test": [
                          0.04279593912
                        ],
                        "passed_time": 0.2233573192,
                        "iteration": 30,
                        "remaining_time": 1.037530773,
                        "learn": [
                          0.03775432569
                        ]
                      },
                      {
                        "test": [
                          0.04254351954
                        ],
                        "passed_time": 0.2289045564,
                        "iteration": 31,
                        "remaining_time": 1.022917236,
                        "learn": [
                          0.03707771814
                        ]
                      },
                      {
                        "test": [
                          0.04098602815
                        ],
                        "passed_time": 0.2345244099,
                        "iteration": 32,
                        "remaining_time": 1.009165643,
                        "learn": [
                          0.03594227823
                        ]
                      },
                      {
                        "test": [
                          0.04057358345
                        ],
                        "passed_time": 0.2399671226,
                        "iteration": 33,
                        "remaining_time": 0.9951577731,
                        "learn": [
                          0.03575241461
                        ]
                      },
                      {
                        "test": [
                          0.04039676423
                        ],
                        "passed_time": 0.2454053654,
                        "iteration": 34,
                        "remaining_time": 0.9816214618,
                        "learn": [
                          0.03567381792
                        ]
                      },
                      {
                        "test": [
                          0.03981768017
                        ],
                        "passed_time": 0.2509800595,
                        "iteration": 35,
                        "remaining_time": 0.9690618962,
                        "learn": [
                          0.03454871273
                        ]
                      },
                      {
                        "test": [
                          0.0398388031
                        ],
                        "passed_time": 0.2563322446,
                        "iteration": 36,
                        "remaining_time": 0.9560499932,
                        "learn": [
                          0.03451902473
                        ]
                      },
                      {
                        "test": [
                          0.03984181883
                        ],
                        "passed_time": 0.2618021361,
                        "iteration": 37,
                        "remaining_time": 0.9438655958,
                        "learn": [
                          0.03449312619
                        ]
                      },
                      {
                        "test": [
                          0.03981945858
                        ],
                        "passed_time": 0.2671895855,
                        "iteration": 38,
                        "remaining_time": 0.9317380418,
                        "learn": [
                          0.03438945972
                        ]
                      },
                      {
                        "test": [
                          0.03921800069
                        ],
                        "passed_time": 0.2728436203,
                        "iteration": 39,
                        "remaining_time": 0.9208472187,
                        "learn": [
                          0.03348464816
                        ]
                      },
                      {
                        "test": [
                          0.039238457
                        ],
                        "passed_time": 0.2782007348,
                        "iteration": 40,
                        "remaining_time": 0.9092414259,
                        "learn": [
                          0.03346089744
                        ]
                      },
                      {
                        "test": [
                          0.03924466197
                        ],
                        "passed_time": 0.2835882487,
                        "iteration": 41,
                        "remaining_time": 0.8980294544,
                        "learn": [
                          0.03339603447
                        ]
                      },
                      {
                        "test": [
                          0.03924381515
                        ],
                        "passed_time": 0.2892801496,
                        "iteration": 42,
                        "remaining_time": 0.8880227849,
                        "learn": [
                          0.03336639863
                        ]
                      },
                      {
                        "test": [
                          0.03886510471
                        ],
                        "passed_time": 0.2948310995,
                        "iteration": 43,
                        "remaining_time": 0.8777925918,
                        "learn": [
                          0.03286296808
                        ]
                      },
                      {
                        "test": [
                          0.03860869958
                        ],
                        "passed_time": 0.3006575804,
                        "iteration": 44,
                        "remaining_time": 0.8685663434,
                        "learn": [
                          0.03245678971
                        ]
                      },
                      {
                        "test": [
                          0.03790910859
                        ],
                        "passed_time": 0.3065232654,
                        "iteration": 45,
                        "remaining_time": 0.859597853,
                        "learn": [
                          0.03193891604
                        ]
                      },
                      {
                        "test": [
                          0.0379159454
                        ],
                        "passed_time": 0.3120196822,
                        "iteration": 46,
                        "remaining_time": 0.8497557302,
                        "learn": [
                          0.03191671991
                        ]
                      },
                      {
                        "test": [
                          0.03788795938
                        ],
                        "passed_time": 0.3176166142,
                        "iteration": 47,
                        "remaining_time": 0.840360625,
                        "learn": [
                          0.03187054646
                        ]
                      },
                      {
                        "test": [
                          0.03788717949
                        ],
                        "passed_time": 0.3230848996,
                        "iteration": 48,
                        "remaining_time": 0.8307897418,
                        "learn": [
                          0.0317096226
                        ]
                      },
                      {
                        "test": [
                          0.03742296425
                        ],
                        "passed_time": 0.3285919325,
                        "iteration": 49,
                        "remaining_time": 0.8214798314,
                        "learn": [
                          0.03111265771
                        ]
                      },
                      {
                        "test": [
                          0.03737868595
                        ],
                        "passed_time": 0.3341353665,
                        "iteration": 50,
                        "remaining_time": 0.8124075577,
                        "learn": [
                          0.03097168739
                        ]
                      },
                      {
                        "test": [
                          0.03691118463
                        ],
                        "passed_time": 0.3398392161,
                        "iteration": 51,
                        "remaining_time": 0.8038504535,
                        "learn": [
                          0.03056412817
                        ]
                      },
                      {
                        "test": [
                          0.03687295857
                        ],
                        "passed_time": 0.3452626725,
                        "iteration": 52,
                        "remaining_time": 0.7947555858,
                        "learn": [
                          0.03042879799
                        ]
                      },
                      {
                        "test": [
                          0.03695359683
                        ],
                        "passed_time": 0.3507262886,
                        "iteration": 53,
                        "remaining_time": 0.7858866837,
                        "learn": [
                          0.03026528258
                        ]
                      },
                      {
                        "test": [
                          0.03669560968
                        ],
                        "passed_time": 0.3561825767,
                        "iteration": 54,
                        "remaining_time": 0.7771256218,
                        "learn": [
                          0.02982084716
                        ]
                      },
                      {
                        "test": [
                          0.03666666856
                        ],
                        "passed_time": 0.3616088582,
                        "iteration": 55,
                        "remaining_time": 0.7684188237,
                        "learn": [
                          0.02972399714
                        ]
                      },
                      {
                        "test": [
                          0.03675962429
                        ],
                        "passed_time": 0.3672419211,
                        "iteration": 56,
                        "remaining_time": 0.7602552052,
                        "learn": [
                          0.02957916695
                        ]
                      },
                      {
                        "test": [
                          0.0367565104
                        ],
                        "passed_time": 0.3728626422,
                        "iteration": 57,
                        "remaining_time": 0.7521539507,
                        "learn": [
                          0.02948005396
                        ]
                      },
                      {
                        "test": [
                          0.03675586323
                        ],
                        "passed_time": 0.378381969,
                        "iteration": 58,
                        "remaining_time": 0.7439374307,
                        "learn": [
                          0.02938071017
                        ]
                      },
                      {
                        "test": [
                          0.03676491538
                        ],
                        "passed_time": 0.3839875331,
                        "iteration": 59,
                        "remaining_time": 0.7359761051,
                        "learn": [
                          0.0292389589
                        ]
                      },
                      {
                        "test": [
                          0.03676662097
                        ],
                        "passed_time": 0.389388545,
                        "iteration": 60,
                        "remaining_time": 0.7277097398,
                        "learn": [
                          0.02920215739
                        ]
                      },
                      {
                        "test": [
                          0.03678953868
                        ],
                        "passed_time": 0.3950055033,
                        "iteration": 61,
                        "remaining_time": 0.7199293851,
                        "learn": [
                          0.0291606951
                        ]
                      },
                      {
                        "test": [
                          0.03678435006
                        ],
                        "passed_time": 0.4005341918,
                        "iteration": 62,
                        "remaining_time": 0.7120607854,
                        "learn": [
                          0.02907665238
                        ]
                      },
                      {
                        "test": [
                          0.036786503
                        ],
                        "passed_time": 0.405933365,
                        "iteration": 63,
                        "remaining_time": 0.7040406799,
                        "learn": [
                          0.02899111393
                        ]
                      },
                      {
                        "test": [
                          0.03678633533
                        ],
                        "passed_time": 0.4123026943,
                        "iteration": 64,
                        "remaining_time": 0.6977430211,
                        "learn": [
                          0.02889873067
                        ]
                      },
                      {
                        "test": [
                          0.03677269699
                        ],
                        "passed_time": 0.4177150479,
                        "iteration": 65,
                        "remaining_time": 0.6898627306,
                        "learn": [
                          0.02887294511
                        ]
                      }
                    ]
                  },
                  "total_iterations": 175,
                  "passed_iterations": 65
                },
                "path": "catboost_info",
                "name": "catboost_info"
              }
            },
            "_view_module": "catboost-widget",
            "_model_module_version": "^1.0.0",
            "_view_count": null,
            "_view_module_version": "^1.0.0",
            "layout": "IPY_MODEL_e4dc1b990ca44fbaa2b1bfc3e64adec8",
            "_model_module": "catboost-widget"
          }
        }
      }
    }
  },
  "cells": [
    {
      "cell_type": "code",
      "metadata": {
        "colab": {
          "base_uri": "https://localhost:8080/"
        },
        "id": "UhSqVZPG1PrJ",
        "outputId": "3c913215-8435-4b15-91f4-4a64a74c329d"
      },
      "source": [
        "from zipfile import ZipFile\n",
        "file_name = \"/content/drive/MyDrive/machineHack/Soccer fever challenge/LHS_WE_2_Soccer_Fever.zip\"\n",
        "with ZipFile(file_name,'r') as zip:\n",
        "  zip.extractall()\n",
        "  print('finish')"
      ],
      "execution_count": 1,
      "outputs": [
        {
          "output_type": "stream",
          "text": [
            "finish\n"
          ],
          "name": "stdout"
        }
      ]
    },
    {
      "cell_type": "code",
      "metadata": {
        "id": "uPn0O-VT2AdL"
      },
      "source": [
        "import numpy as np\n",
        "import pandas as pd\n"
      ],
      "execution_count": 2,
      "outputs": []
    },
    {
      "cell_type": "code",
      "metadata": {
        "id": "Jc_IC6GH19JB"
      },
      "source": [
        "train=pd.read_csv(\"train.csv\")\n",
        "test = pd.read_csv('test.csv')\n",
        "submission = pd.read_csv('submission.csv')"
      ],
      "execution_count": 3,
      "outputs": []
    },
    {
      "cell_type": "code",
      "metadata": {
        "colab": {
          "base_uri": "https://localhost:8080/",
          "height": 392
        },
        "id": "wXD6GiyL2FUx",
        "outputId": "41194bda-4afb-403e-97e6-7a05847ff74b"
      },
      "source": [
        "train[:5]"
      ],
      "execution_count": 4,
      "outputs": [
        {
          "output_type": "execute_result",
          "data": {
            "text/html": [
              "<div>\n",
              "<style scoped>\n",
              "    .dataframe tbody tr th:only-of-type {\n",
              "        vertical-align: middle;\n",
              "    }\n",
              "\n",
              "    .dataframe tbody tr th {\n",
              "        vertical-align: top;\n",
              "    }\n",
              "\n",
              "    .dataframe thead th {\n",
              "        text-align: right;\n",
              "    }\n",
              "</style>\n",
              "<table border=\"1\" class=\"dataframe\">\n",
              "  <thead>\n",
              "    <tr style=\"text-align: right;\">\n",
              "      <th></th>\n",
              "      <th>season</th>\n",
              "      <th>date</th>\n",
              "      <th>league_id</th>\n",
              "      <th>league</th>\n",
              "      <th>Team 1</th>\n",
              "      <th>Team2</th>\n",
              "      <th>SPI1</th>\n",
              "      <th>SPI2</th>\n",
              "      <th>proj_score1</th>\n",
              "      <th>proj_score2</th>\n",
              "      <th>importance1</th>\n",
              "      <th>importance2</th>\n",
              "      <th>score1</th>\n",
              "      <th>score2</th>\n",
              "      <th>xg1</th>\n",
              "      <th>xg2</th>\n",
              "      <th>nsxg1</th>\n",
              "      <th>nsxg2</th>\n",
              "      <th>adj_score1</th>\n",
              "      <th>adj_score2</th>\n",
              "      <th>Outcome</th>\n",
              "    </tr>\n",
              "  </thead>\n",
              "  <tbody>\n",
              "    <tr>\n",
              "      <th>0</th>\n",
              "      <td>2019</td>\n",
              "      <td>01/03/19</td>\n",
              "      <td>1979</td>\n",
              "      <td>Chinese Super League</td>\n",
              "      <td>Shandong Luneng</td>\n",
              "      <td>Guizhou Renhe</td>\n",
              "      <td>48.22</td>\n",
              "      <td>37.83</td>\n",
              "      <td>1.75</td>\n",
              "      <td>0.84</td>\n",
              "      <td>45.9</td>\n",
              "      <td>22.1</td>\n",
              "      <td>1.0</td>\n",
              "      <td>0.0</td>\n",
              "      <td>1.39</td>\n",
              "      <td>0.26</td>\n",
              "      <td>2.05</td>\n",
              "      <td>0.54</td>\n",
              "      <td>1.05</td>\n",
              "      <td>0.00</td>\n",
              "      <td>1</td>\n",
              "    </tr>\n",
              "    <tr>\n",
              "      <th>1</th>\n",
              "      <td>2019</td>\n",
              "      <td>01/03/19</td>\n",
              "      <td>1979</td>\n",
              "      <td>Chinese Super League</td>\n",
              "      <td>Shanghai Greenland</td>\n",
              "      <td>Shanghai SIPG</td>\n",
              "      <td>39.81</td>\n",
              "      <td>60.08</td>\n",
              "      <td>1.22</td>\n",
              "      <td>1.89</td>\n",
              "      <td>25.6</td>\n",
              "      <td>63.4</td>\n",
              "      <td>0.0</td>\n",
              "      <td>4.0</td>\n",
              "      <td>0.57</td>\n",
              "      <td>2.76</td>\n",
              "      <td>0.80</td>\n",
              "      <td>1.50</td>\n",
              "      <td>0.00</td>\n",
              "      <td>3.26</td>\n",
              "      <td>0</td>\n",
              "    </tr>\n",
              "    <tr>\n",
              "      <th>2</th>\n",
              "      <td>2019</td>\n",
              "      <td>01/03/19</td>\n",
              "      <td>1979</td>\n",
              "      <td>Chinese Super League</td>\n",
              "      <td>Guangzhou Evergrande</td>\n",
              "      <td>Tianjin Quanujian</td>\n",
              "      <td>65.59</td>\n",
              "      <td>39.99</td>\n",
              "      <td>2.58</td>\n",
              "      <td>0.62</td>\n",
              "      <td>77.1</td>\n",
              "      <td>28.8</td>\n",
              "      <td>3.0</td>\n",
              "      <td>0.0</td>\n",
              "      <td>0.49</td>\n",
              "      <td>0.45</td>\n",
              "      <td>1.05</td>\n",
              "      <td>0.75</td>\n",
              "      <td>3.15</td>\n",
              "      <td>0.00</td>\n",
              "      <td>1</td>\n",
              "    </tr>\n",
              "    <tr>\n",
              "      <th>3</th>\n",
              "      <td>2019</td>\n",
              "      <td>01/03/19</td>\n",
              "      <td>1979</td>\n",
              "      <td>Chinese Super League</td>\n",
              "      <td>Wuhan Zall</td>\n",
              "      <td>Beijing Guoan</td>\n",
              "      <td>32.25</td>\n",
              "      <td>54.82</td>\n",
              "      <td>1.10</td>\n",
              "      <td>1.79</td>\n",
              "      <td>35.8</td>\n",
              "      <td>58.9</td>\n",
              "      <td>0.0</td>\n",
              "      <td>1.0</td>\n",
              "      <td>1.12</td>\n",
              "      <td>0.97</td>\n",
              "      <td>1.51</td>\n",
              "      <td>0.94</td>\n",
              "      <td>0.00</td>\n",
              "      <td>1.05</td>\n",
              "      <td>0</td>\n",
              "    </tr>\n",
              "    <tr>\n",
              "      <th>4</th>\n",
              "      <td>2019</td>\n",
              "      <td>01/03/19</td>\n",
              "      <td>1979</td>\n",
              "      <td>Chinese Super League</td>\n",
              "      <td>Chongqing Lifan</td>\n",
              "      <td>Guangzhou RF</td>\n",
              "      <td>38.24</td>\n",
              "      <td>40.45</td>\n",
              "      <td>1.57</td>\n",
              "      <td>1.24</td>\n",
              "      <td>26.2</td>\n",
              "      <td>21.3</td>\n",
              "      <td>2.0</td>\n",
              "      <td>2.0</td>\n",
              "      <td>2.77</td>\n",
              "      <td>3.17</td>\n",
              "      <td>1.05</td>\n",
              "      <td>2.08</td>\n",
              "      <td>2.10</td>\n",
              "      <td>2.10</td>\n",
              "      <td>1</td>\n",
              "    </tr>\n",
              "  </tbody>\n",
              "</table>\n",
              "</div>"
            ],
            "text/plain": [
              "   season      date  league_id  ... adj_score1 adj_score2 Outcome\n",
              "0    2019  01/03/19       1979  ...       1.05       0.00       1\n",
              "1    2019  01/03/19       1979  ...       0.00       3.26       0\n",
              "2    2019  01/03/19       1979  ...       3.15       0.00       1\n",
              "3    2019  01/03/19       1979  ...       0.00       1.05       0\n",
              "4    2019  01/03/19       1979  ...       2.10       2.10       1\n",
              "\n",
              "[5 rows x 21 columns]"
            ]
          },
          "metadata": {},
          "execution_count": 4
        }
      ]
    },
    {
      "cell_type": "markdown",
      "metadata": {
        "id": "9u-LljNS2tnh"
      },
      "source": [
        "**Understand the Distribution of Target Variable**"
      ]
    },
    {
      "cell_type": "code",
      "metadata": {
        "colab": {
          "base_uri": "https://localhost:8080/",
          "height": 335
        },
        "id": "POZAZCtu2QQ7",
        "outputId": "e16ce8cd-b2e9-42f3-e7b0-319e84fd84b1"
      },
      "source": [
        "import seaborn as sns\n",
        "import matplotlib.pyplot as plt\n",
        "\n",
        "sns.distplot(train['Outcome'])\n",
        "plt.show()"
      ],
      "execution_count": 5,
      "outputs": [
        {
          "output_type": "stream",
          "text": [
            "/usr/local/lib/python3.7/dist-packages/seaborn/distributions.py:2557: FutureWarning: `distplot` is a deprecated function and will be removed in a future version. Please adapt your code to use either `displot` (a figure-level function with similar flexibility) or `histplot` (an axes-level function for histograms).\n",
            "  warnings.warn(msg, FutureWarning)\n"
          ],
          "name": "stderr"
        },
        {
          "output_type": "display_data",
          "data": {
            "image/png": "[encoded data removed]",
            "text/plain": [
              "<Figure size 432x288 with 1 Axes>"
            ]
          },
          "metadata": {
            "needs_background": "light"
          }
        }
      ]
    },
    {
      "cell_type": "markdown",
      "metadata": {
        "id": "PPHU9gF5288f"
      },
      "source": [
        ""
      ]
    },
    {
      "cell_type": "code",
      "metadata": {
        "id": "wNZ_9Yq-2fQg"
      },
      "source": [
        "train['date_time'] = pd.to_datetime(train['date'], format='%d/%m/%y')\n",
        "#train['year'] = train['date_time'].dt.year\n",
        "train['month'] = train['date_time'].dt.month\n",
        "train['weekday'] = train['date_time'].dt.weekday\n",
        "\n",
        "# test\n",
        "test['date_time'] = pd.to_datetime(test['date'], format='%d/%m/%y')\n",
        "#test['year'] = test['date_time'].dt.year\n",
        "test['month'] = test['date_time'].dt.month\n",
        "test['weekday'] = test['date_time'].dt.weekday"
      ],
      "execution_count": 6,
      "outputs": []
    },
    {
      "cell_type": "code",
      "metadata": {
        "colab": {
          "base_uri": "https://localhost:8080/"
        },
        "id": "8366iY8v3swO",
        "outputId": "46ca4c99-617d-4736-8941-ec282b952291"
      },
      "source": [
        "train.isnull().sum()"
      ],
      "execution_count": 7,
      "outputs": [
        {
          "output_type": "execute_result",
          "data": {
            "text/plain": [
              "season            0\n",
              "date              0\n",
              "league_id         0\n",
              "league            0\n",
              "Team 1            0\n",
              "Team2             0\n",
              "SPI1              0\n",
              "SPI2              0\n",
              "proj_score1       0\n",
              "proj_score2       0\n",
              "importance1    4916\n",
              "importance2    4916\n",
              "score1         4800\n",
              "score2         4800\n",
              "xg1            5728\n",
              "xg2            5728\n",
              "nsxg1          5728\n",
              "nsxg2          5728\n",
              "adj_score1     5728\n",
              "adj_score2     5728\n",
              "Outcome           0\n",
              "date_time         0\n",
              "month             0\n",
              "weekday           0\n",
              "dtype: int64"
            ]
          },
          "metadata": {},
          "execution_count": 7
        }
      ]
    },
    {
      "cell_type": "code",
      "metadata": {
        "id": "UEgJ035L4eqt"
      },
      "source": [
        "def divideFeatures(df):\n",
        "    numerical_features = df.select_dtypes(include=[np.number])\n",
        "    categorical_features = df.select_dtypes(include=[np.object])\n",
        "    return numerical_features, categorical_features"
      ],
      "execution_count": 8,
      "outputs": []
    },
    {
      "cell_type": "code",
      "metadata": {
        "id": "930YKfsA4kOh"
      },
      "source": [
        "continuous_data, categorical_data = divideFeatures(train)"
      ],
      "execution_count": 9,
      "outputs": []
    },
    {
      "cell_type": "code",
      "metadata": {
        "colab": {
          "base_uri": "https://localhost:8080/"
        },
        "id": "B1-OG74x46eL",
        "outputId": "f34f002e-d80c-467f-cdb9-9d571141c2ef"
      },
      "source": [
        "for col in categorical_data:\n",
        "    print(f'{col} : {categorical_data[col].unique()}')"
      ],
      "execution_count": 10,
      "outputs": [
        {
          "output_type": "stream",
          "text": [
            "date : ['01/03/19' '02/03/19' '03/03/19' '08/03/19' '09/03/19' '10/03/19'\n",
            " '29/03/19' '30/03/19' '31/03/19' '05/04/19' '06/04/19' '07/04/19'\n",
            " '12/04/19' '13/04/19' '14/04/19' '19/04/19' '20/04/19' '21/04/19'\n",
            " '26/04/19' '27/04/19' '28/04/19' '04/05/19' '05/05/19' '10/05/19'\n",
            " '11/05/19' '12/05/19' '17/05/19' '18/05/19' '19/05/19' '24/05/19'\n",
            " '25/05/19' '26/05/19' '01/06/19' '02/06/19' '08/06/19' '14/06/19'\n",
            " '15/06/19' '16/06/19' '21/06/19' '22/06/19' '23/06/19' '29/06/19'\n",
            " '30/06/19' '01/07/19' '05/07/19' '06/07/19' '07/07/19' '10/07/19'\n",
            " '11/07/19' '12/07/19' '13/07/19' '16/07/19' '17/07/19' '20/07/19'\n",
            " '21/07/19' '27/07/19' '28/07/19' '02/08/19' '03/08/19' '09/08/19'\n",
            " '10/08/19' '11/08/19' '13/08/19' '14/08/19' '15/08/19' '13/09/19'\n",
            " '14/09/19' '15/09/19' '20/09/19' '21/09/19' '22/09/19' '26/09/19'\n",
            " '13/10/19' '18/10/19' '19/10/19' '20/10/19' '25/10/19' '26/10/19'\n",
            " '27/10/19' '01/11/19' '22/11/19' '23/11/19' '27/11/19' '30/11/19'\n",
            " '20/10/20' '21/10/20' '22/10/20' '27/10/20' '28/10/20' '29/10/20'\n",
            " '03/11/20' '04/11/20' '05/11/20' '24/11/20' '25/11/20' '26/11/20'\n",
            " '01/12/20' '02/12/20' '03/12/20' '08/12/20' '09/12/20' '10/12/20'\n",
            " '28/12/20' '29/12/20' '30/12/20' '31/12/20' '01/01/21' '02/01/21'\n",
            " '08/01/21' '09/01/21' '10/01/21' '11/01/21' '15/01/21' '16/01/21'\n",
            " '17/01/21' '18/01/21' '19/01/21' '20/01/21' '21/01/21' '22/01/21'\n",
            " '23/01/21' '24/01/21' '25/01/21' '26/01/21' '28/01/21' '29/01/21'\n",
            " '30/01/21' '31/01/21' '01/02/21' '02/02/21' '03/02/21' '04/02/21'\n",
            " '05/02/21' '06/02/21' '07/02/21' '08/02/21' '09/02/21' '10/02/21'\n",
            " '12/02/21' '13/02/21' '14/02/21' '15/02/21' '16/02/21' '17/02/21'\n",
            " '18/02/21' '19/02/21' '20/02/21' '21/02/21' '22/02/21' '23/02/21'\n",
            " '24/02/21' '25/02/21' '26/02/21' '27/02/21' '28/02/21' '02/03/21'\n",
            " '03/03/21' '04/03/21' '05/03/21' '06/03/21' '07/03/21' '08/03/21'\n",
            " '09/03/21' '10/03/21' '11/03/21' '12/03/21' '13/03/21' '14/03/21'\n",
            " '15/03/21' '16/03/21' '17/03/21' '18/03/21' '19/03/21' '20/03/21'\n",
            " '21/03/21' '22/03/21' '24/03/21' '26/03/21' '27/03/21' '28/03/21'\n",
            " '31/03/21' '01/04/21' '02/04/21' '03/04/21' '04/04/21' '05/04/21'\n",
            " '06/04/21' '07/04/21' '08/04/21' '09/04/21' '10/04/21' '11/04/21'\n",
            " '12/04/21' '13/04/21' '14/04/21' '15/04/21' '16/04/21' '17/04/21'\n",
            " '18/04/21' '19/04/21' '20/04/21' '21/04/21' '22/04/21' '23/04/21'\n",
            " '24/04/21' '25/04/21' '26/04/21' '27/04/21' '28/04/21' '29/04/21'\n",
            " '30/04/21' '01/05/21' '02/05/21' '03/05/21' '04/05/21' '05/05/21'\n",
            " '06/05/21' '07/05/21' '08/05/21' '09/05/21' '10/05/21' '12/05/21'\n",
            " '13/05/21' '14/05/21' '15/05/21' '16/05/21' '17/05/21' '18/05/21'\n",
            " '19/05/21' '20/05/21' '21/05/21' '22/05/21' '23/05/21' '24/05/21'\n",
            " '25/05/21' '26/05/21' '27/05/21' '28/05/21' '29/05/21' '30/05/21'\n",
            " '31/05/21' '01/06/21' '02/06/21' '03/06/21' '04/06/21' '05/06/21'\n",
            " '06/06/21' '08/06/21' '09/06/21' '10/06/21' '11/06/21' '12/06/21'\n",
            " '13/06/21' '14/06/21' '15/06/21' '16/06/21' '17/06/21' '18/06/21'\n",
            " '19/06/21' '20/06/21' '21/06/21' '22/06/21' '23/06/21' '24/06/21'\n",
            " '25/06/21' '26/06/21' '27/06/21' '28/06/21' '29/06/21' '30/06/21'\n",
            " '01/07/21' '02/07/21' '03/07/21' '04/07/21' '05/07/21' '06/07/21'\n",
            " '07/07/21' '08/07/21' '09/07/21' '10/07/21' '11/07/21' '12/07/21'\n",
            " '13/07/21' '14/07/21' '16/07/21' '17/07/21' '18/07/21' '19/07/21'\n",
            " '20/07/21' '21/07/21' '22/07/21' '23/07/21' '24/07/21' '25/07/21'\n",
            " '26/07/21' '27/07/21' '28/07/21' '29/07/21' '30/07/21' '31/07/21'\n",
            " '01/08/21' '02/08/21' '03/08/21' '04/08/21' '05/08/21' '06/08/21'\n",
            " '07/08/21' '08/08/21' '09/08/21' '10/08/21' '11/08/21' '12/08/21'\n",
            " '13/08/21' '14/08/21' '15/08/21' '16/08/21' '17/08/21' '18/08/21'\n",
            " '19/08/21' '20/08/21' '21/08/21' '22/08/21' '23/08/21' '24/08/21'\n",
            " '25/08/21' '26/08/21' '27/08/21' '28/08/21' '29/08/21' '30/08/21'\n",
            " '01/09/21' '02/09/21' '03/09/21' '04/09/21' '05/09/21' '06/09/21'\n",
            " '07/09/21' '08/09/21' '09/09/21' '10/09/21' '11/09/21' '12/09/21'\n",
            " '13/09/21' '14/09/21' '15/09/21' '16/09/21' '17/09/21' '18/09/21'\n",
            " '19/09/21' '20/09/21' '21/09/21' '22/09/21' '23/09/21' '24/09/21'\n",
            " '25/09/21' '26/09/21' '27/09/21' '28/09/21' '29/09/21' '30/09/21'\n",
            " '01/10/21' '02/10/21' '03/10/21' '04/10/21' '06/10/21' '07/10/21'\n",
            " '08/10/21' '09/10/21' '10/10/21' '12/10/21' '13/10/21' '14/10/21'\n",
            " '15/10/21' '16/10/21' '17/10/21' '18/10/21' '19/10/21' '20/10/21'\n",
            " '21/10/21' '22/10/21' '23/10/21' '24/10/21' '25/10/21' '26/10/21'\n",
            " '27/10/21' '28/10/21' '29/10/21' '30/10/21' '31/10/21' '01/11/21'\n",
            " '02/11/21' '03/11/21' '04/11/21' '05/11/21' '06/11/21' '07/11/21'\n",
            " '10/11/21' '12/11/21' '13/11/21' '14/11/21' '17/11/21' '18/11/21'\n",
            " '19/11/21' '20/11/21' '21/11/21' '23/11/21' '24/11/21' '25/11/21'\n",
            " '26/11/21' '27/11/21' '28/11/21' '30/11/21' '01/12/21' '02/12/21'\n",
            " '03/12/21' '04/12/21' '05/12/21' '07/12/21' '08/12/21' '09/12/21'\n",
            " '10/12/21' '11/12/21' '12/12/21' '14/12/21']\n",
            "league : ['Chinese Super League' 'UEFA Champions League' 'UEFA Europa League' 'AAL'\n",
            " 'Mexican Primera Division Torneo Clausura' 'Japanese J League'\n",
            " 'NWSL Challenge Cup' 'Swedish Allsvenskan' 'Major League Soccer'\n",
            " 'United Soccer League' 'Norwegian Tippeligaen'\n",
            " \"National Women's Soccer League\" 'Brasileiro Série A' 'Danish SAS-Ligaen'\n",
            " 'APD' 'Mexican Primera Division Torneo Apertura' 'Russian Premier Liga'\n",
            " 'German 2. Bundesliga' 'ATMB' 'BJL' 'French Ligue 2'\n",
            " 'Swiss Raiffeisen Super League' 'Scottish Premiership'\n",
            " 'English League Championship' 'French Ligue 1' 'Portuguese Liga'\n",
            " 'English League Two' 'English League One' 'TTSL' 'Dutch Eredivisie'\n",
            " 'Spanish Segunda Division' 'German Bundesliga' 'BPL'\n",
            " 'Spanish Primera Division' 'South African ABSA Premier League'\n",
            " 'Italy Serie B' 'Italy Serie A' 'Greek Super League'\n",
            " \"FA Women's Super League\"]\n",
            "Team 1 : ['Shandong Luneng' 'Shanghai Greenland' 'Guangzhou Evergrande'\n",
            " 'Wuhan Zall' 'Chongqing Lifan' 'Shenzhen FC' 'Henan Jianye'\n",
            " 'Jiangsu Suning FC' 'Guangzhou RF' 'Shanghai SIPG' 'Tianjin Teda'\n",
            " 'Guizhou Renhe' 'Dalian Aerbin' 'Hebei China Fortune FC'\n",
            " 'Tianjin Quanujian' 'Beijing Guoan' 'Dynamo Kiev' 'Zenit St Petersburg'\n",
            " 'Chelsea' 'Paris Saint-Germain' 'Barcelona' 'Lazio' 'Stade Rennes'\n",
            " 'RB Leipzig' 'FC Salzburg' 'Real Madrid' 'FC Midtjylland' 'Bayern Munich'\n",
            " 'Olympiacos' 'Manchester City' 'Ajax' 'Internazionale' 'Standard Liege'\n",
            " \"Hapoel Be'er\" 'Dundalk' 'Bayer Leverkusen' 'PSV' 'PAOK Salonika'\n",
            " 'CSKA Sofia' 'Young Boys' 'Lech Poznan' 'Rijeka' 'Rapid Vienna' 'Napoli'\n",
            " 'Tottenham Hotspur' 'Maccabi Tel-Aviv' 'Ludogorets' 'Celtic'\n",
            " 'Leicester City' 'TSG Hoffenheim' 'Slovan Liberec' 'Sparta Prague'\n",
            " 'Dinamo Zagreb' 'Villarreal' 'Wolfsberger AC' 'Braga' 'Lokomotiv Moscow'\n",
            " 'Shakhtar Donetsk' 'FC Porto' 'Marseille' 'Atletico Madrid' 'Liverpool'\n",
            " 'Atalanta' 'Borussia Monchengladbach' 'Istanbul Basaksehir'\n",
            " 'FC Krasnodar' 'Ferencvaros' 'Borussia Dortmund' 'Club Brugge' 'Juventus'\n",
            " 'Sevilla FC' 'Manchester United' 'Red Star Belgrade' 'KAA Gent'\n",
            " 'Feyenoord' 'Antwerp' 'FK Qarabag' 'AC Milan' 'Lille' 'Sivasspor'\n",
            " 'AEK Athens' 'LASK Linz' 'CSKA Moscow' 'FC Zorya Luhansk' 'Granada'\n",
            " 'Omonia Nicosia' 'Benfica' 'Nice' 'Real Sociedad' 'Slavia Prague'\n",
            " 'CFR 1907 Cluj' 'Rangers' 'Molde' 'AZ' 'AS Roma' 'Arsenal'\n",
            " 'Western United' 'Brisbane Roar' 'Western Sydney FC'\n",
            " 'Central Coast Mariners' 'Wellington Phoenix' 'Melbourne Victory'\n",
            " 'Macarthur FC' 'Adelaide United' 'Newcastle Jets' 'Puebla' 'Tijuana'\n",
            " 'Mazatlán FC' 'Atlas' 'Tigres UANL' 'Club América' 'Toluca'\n",
            " 'Santos Laguna' 'Pachuca' 'Necaxa' 'FC Juárez' 'Sydney FC'\n",
            " 'Melbourne City' 'Guadalajara' 'Cruz Azul' 'Monterrey' 'Pumas Unam'\n",
            " 'Querétaro' 'León' 'Perth Glory' 'Atlético San Luis' 'Kawasaki Frontale'\n",
            " 'Sanfrecce Hiroshima' 'Urawa Red Diamonds' 'Oita Trinita'\n",
            " 'Consadole Sapporo' 'Kashima Antlers' 'Shonan Bellmare' 'Cerezo Osaka'\n",
            " 'Vissel Kobe' 'Avispa Fukuoka' 'Nagoya Grampus Eight' 'Shimizu S-Pulse'\n",
            " 'Tokushima Vortis' 'FC Tokyo' 'Vegalta Sendai' 'Sagan Tosu' 'Yokohama FC'\n",
            " 'Kashiwa Reysol' 'Yokohama F. Marinos' 'Gamba Osaka' 'Houston Dash'\n",
            " 'Portland Thorns' 'Malmo FF' 'Orebro SK' 'North Carolina FC'\n",
            " 'Racing Louisville FC' 'Halmstads BK' 'Mjallby' 'IFK Norrkoping'\n",
            " 'IF Elfsborg' 'Kalmar FF' 'AIK' 'Orlando Pride' 'Washington Spirit'\n",
            " 'Chicago Red Stars' 'Houston Dynamo' 'Seattle Sounders FC'\n",
            " 'Seattle Reign FC' 'Hammarby' 'Montreal Impact' 'Orlando City SC'\n",
            " 'Los Angeles FC' 'DC United' 'FC Dallas' 'New York Red Bulls'\n",
            " 'Nashville SC' 'Chicago Fire' 'BK Hacken' 'Degerfors IF' 'Östersunds FK'\n",
            " 'Djurgardens IF' 'IK Sirius' 'Inter Miami CF' 'Columbus Crew'\n",
            " 'Vancouver Whitecaps' 'IFK Goteborg' 'Varbergs BoIS FC' 'Sky Blue FC'\n",
            " 'Sporting Kansas City' 'New York City FC' 'Toronto FC'\n",
            " 'San Jose Earthquakes' 'Louisville City FC' 'Minnesota United FC'\n",
            " 'Atlanta United FC' 'Philadelphia Union' 'New England Revolution'\n",
            " 'Oklahoma City Energy FC' 'Colorado Rapids' 'Portland Timbers'\n",
            " 'Los Angeles Galaxy' 'Kansas City' 'New York Red Bulls II'\n",
            " 'Arizona United' 'LA Galaxy II' 'Real Salt Lake' 'Tampa Bay Rowdies'\n",
            " 'Birmingham Legion FC' 'Tulsa Roughnecks' 'San Antonio FC'\n",
            " 'Rio Grande Valley FC Toros' 'Miami FC' 'Swope Park Rangers'\n",
            " 'Indy Eleven' 'El Paso Locomotive FC' 'Bodo/Glimt' 'Viking FK'\n",
            " 'Valerenga' 'Kristiansund BK' 'SK Brann' 'Sacramento Republic FC'\n",
            " 'Tromso' 'Rosenborg' 'Tacoma Defiance' 'Charleston Battery'\n",
            " 'Real Monarchs SLC' 'Hartford Athletic' 'New Mexico United' 'Sarpsborg'\n",
            " 'Stromsgodset' 'Sandefjord' 'FC Cincinnati' 'Loudoun United FC' 'Stabaek'\n",
            " 'Atlanta United 2' 'Colorado Springs Switchbacks FC'\n",
            " 'Pittsburgh Riverhounds' 'Orange County SC' 'Odd BK' 'Lillestrom'\n",
            " 'Haugesund' 'Mjondalen' 'Austin Bold FC' 'Cuiaba' 'Bahía' 'São Paulo'\n",
            " 'San Diego Loyal SC' 'Atletico Mineiro' 'Flamengo' 'Ceará' 'Corinthians'\n",
            " 'Chapecoense AF' 'Atlético Paranaense' 'Internacional' 'Grêmio'\n",
            " 'Atlético Goianiense' 'Charlotte Independence' 'Bragantino' 'Santos'\n",
            " 'Las Vegas Lights FC' 'Fluminense' 'Fortaleza' 'América Mineiro'\n",
            " 'Palmeiras' 'Juventude' 'Sport Recife' 'Memphis 901 FC' 'Austin FC'\n",
            " 'Oakland Roots' 'Union Santa Fe' 'Sarmiento' 'Aldosivi'\n",
            " \"Newell's Old Boys\" 'Lanus' 'Gimnasia La Plata' 'Velez Sarsfield'\n",
            " 'FC Nordsjaelland' 'Vejle' 'FC Copenhagen' 'Huracán' 'AGF Aarhus'\n",
            " 'Arsenal Sarandi' 'River Plate' 'CA Independiente' 'Silkeborg'\n",
            " 'Central Córdoba Santiago del Estero' 'Godoy Cruz' 'Rostov' 'Schalke 04'\n",
            " 'SK Sturm Graz' 'Atlético Tucumán' 'Platense' 'SV Darmstadt 98'\n",
            " 'Dynamo Dresden' 'Hansa Rostock' '1. FC Heidenheim 1846' 'Bastia'\n",
            " 'OH Leuven' 'FC Khimki' 'Cashpoint SC Rheindorf Altach'\n",
            " 'WSG Swarovski Wattens' 'AaB' 'FC Luzern' 'Colon Santa Fe' 'KV Kortrijk'\n",
            " 'Rubin Kazan' 'Le Havre' 'Amiens' 'Pau' 'Toulouse' 'Caen' 'Dunkerque'\n",
            " 'Grenoble' 'Valenciennes' 'Lausanne Sports' 'Werder Bremen' 'San Lorenzo'\n",
            " 'KV Oostende' 'Racing Club' 'Banfield' 'KV Mechelen' 'SV Sandhausen'\n",
            " '1. FC Nürnberg' 'FC St. Pauli' 'Randers FC' 'FC Lugano' 'FC Sion'\n",
            " 'Grasshoppers Zürich' 'Ural Sverdlovsk Oblast' 'SK Austria Klagenfurt'\n",
            " 'SV Ried' 'Krylia Sovetov' 'Brondby' 'Anderlecht' 'Defensa y Justicia'\n",
            " 'Patronato' 'Rosario Central' 'St. Truidense' 'Estudiantes'\n",
            " 'FK Nizhny Novgorod' 'Sonderjyske' 'Dijon FCO' 'Talleres de Córdoba'\n",
            " 'Argentinos Juniors' 'KFCO Beerschot-Wilrijk' 'Boca Juniors'\n",
            " 'FC Arsenal Tula' 'Karlsruher SC' 'SC Paderborn' 'Genk'\n",
            " 'FC Ingolstadt 04' 'Hannover 96' 'Jahn Regensburg' 'Nimes' 'Viborg'\n",
            " 'Ross County' 'Dundee' 'Sporting de Charleroi' 'FC Ufa'\n",
            " 'FC Trenkwalder Admira' 'Hartberg' 'FC Zurich' 'Cercle Brugge'\n",
            " 'RFC Seraing' 'Guingamp' 'Rodez' 'AC Ajaccio' 'Sochaux'\n",
            " 'AS Nancy Lorraine' 'Paris FC' 'Niort' 'Fortuna Düsseldorf' 'Eupen'\n",
            " 'Hearts' 'Union Saint Gilloise' 'Hamburg SV' 'Erzgebirge Aue'\n",
            " 'Holstein Kiel' 'St Gallen' 'Aberdeen' 'SV Zulte Waregem' 'Basel'\n",
            " 'Servette' 'FK Austria Vienna' 'Motherwell' 'Odense BK' 'Terek Grozny'\n",
            " 'Auxerre' 'AFC Bournemouth' 'AS Monaco' 'Sporting CP' 'Dundee Utd'\n",
            " 'FC Arouca' 'St Mirren' 'Queens Park Rangers' 'Mansfield Town'\n",
            " 'Carlisle United' 'Salford City' 'Preston North End' 'Crewe Alexandra'\n",
            " 'Tranmere Rovers' 'Doncaster Rovers' 'Blackburn' 'Derby County'\n",
            " 'Hartlepool' 'Stoke City' 'Cardiff City' 'Rotherham United'\n",
            " 'Northampton Town' 'Cambridge United' 'Scunthorpe' 'Luton Town'\n",
            " 'Fleetwood Town' 'Gillingham' 'Bristol City' 'Stevenage' 'Bolton'\n",
            " 'Exeter City' 'Sunderland' 'Ipswich Town' 'Oldham Athletic'\n",
            " 'Wycombe Wanderers' 'Harrogate Town' 'Shrewsbury Town'\n",
            " 'Forest Green Rovers' 'Lyon' 'Charlton Athletic' 'Spartak Moscow'\n",
            " 'Moreirense' 'Troyes' 'Sheffield United' 'Maritimo' 'Fulham' 'Bordeaux'\n",
            " 'Strasbourg' 'St Etienne' 'St Johnstone' 'Livingston' 'Hibernian'\n",
            " 'Guimaraes' 'Tondela' 'Metz' 'Coventry City' 'Dinamo Moscow'\n",
            " 'Montpellier' 'Pacos Ferreira' 'Sochi' 'Gil Vicente' 'Besiktas'\n",
            " 'Go Ahead Eagles' 'SD Huesca' 'Brentford' 'Lorient' 'Valencia'\n",
            " 'Estoril Praia' 'Real Zaragoza' 'Peterborough United' 'FC Augsburg'\n",
            " 'VfB Stuttgart' 'VfL Wolfsburg' '1. FC Union Berlin' 'Arminia Bielefeld'\n",
            " 'Crawley Town' 'Cheltenham Town' 'Blackpool' 'Everton' 'Plymouth Argyle'\n",
            " 'Huddersfield Town' 'Morecambe' 'Wigan' 'Burton Albion'\n",
            " 'Milton Keynes Dons' 'Portsmouth' 'AFC Wimbledon' 'Millwall'\n",
            " 'Middlesbrough' 'Barnsley' 'West Bromwich Albion' 'Hull City'\n",
            " 'Birmingham' 'Lincoln City' 'Reading' 'Leyton Orient'\n",
            " 'Sheffield Wednesday' 'Burnley' 'Oxford United' 'Nottingham Forest'\n",
            " 'Bristol Rovers' 'Colchester United' 'Bradford City' 'Rochdale' 'Walsall'\n",
            " 'Watford' 'Barrow' 'Swindon Town' 'Accrington Stanley' 'Port Vale' 'RKC'\n",
            " 'Vizela' 'Real Sociedad II' 'Fatih Karagümrük' 'Norwich City' 'Heracles'\n",
            " 'US Quevilly' 'Cadiz' 'Girona FC' 'Mallorca' 'Fortuna Sittard'\n",
            " 'Hatayspor' 'Altay' 'Swansea City' 'Alavés' 'SD Ponferradina' 'Osasuna'\n",
            " 'Cambuur Leeuwarden' 'Angers' 'PEC Zwolle' 'FC Utrecht' 'Reims' 'Brest'\n",
            " 'Clermont Foot' 'Newcastle' 'Nantes' 'Mainz' 'Portimonense' 'Willem II'\n",
            " 'Sporting Gijón' 'Lens' 'FC Cologne' 'Celta Vigo' 'Famalicao'\n",
            " 'Real Oviedo' 'Antalyaspor' 'Adana Demirspor' 'Santa Clara' 'Fuenlabrada'\n",
            " 'Las Palmas' 'Yeni Malatyaspor' 'Boavista' 'Málaga' 'Giresunspor'\n",
            " 'FC Cartagena' 'Elche' 'Belenenses' 'Mamelodi Sundowns' 'Kayserispor'\n",
            " 'NEC' 'Real Valladolid' 'Frosinone' 'Real Betis' 'Almeria'\n",
            " 'Sekhukhune United' 'Orlando Pirates' 'Golden Arrows'\n",
            " 'SpVgg Greuther Fürth' 'VfL Bochum' 'Eintracht Frankfurt' 'SC Freiburg'\n",
            " 'Hertha Berlin' 'Aston Villa' 'Crystal Palace' 'Leeds United'\n",
            " 'Black Aces' 'Lugo' 'Baroka FC' 'Pordenone Calcio' 'Caykur Rizespor'\n",
            " 'Kasimpasa' 'Verona' 'Brighton and Hove Albion' 'Heerenveen' 'Tenerife'\n",
            " 'Espanyol' 'Sparta' 'Cittadella' 'Gazisehir Gaziantep' 'Empoli'\n",
            " 'Alanyaspor' 'Torino' 'FC Groningen' 'Athletic Bilbao' 'AD Alcorcon'\n",
            " 'Aris Salonika' 'Panathinaikos' 'Panetolikos' 'Volos NFC' 'FC Twente'\n",
            " 'Moroka Swallows' 'Southampton' 'Wolverhampton' 'Vitesse' 'UD Ibiza'\n",
            " 'TS Galaxy' 'Ternana' 'Reggina' 'Konyaspor' 'Bologna' 'Udinese' 'Eibar'\n",
            " 'Crotone' 'Pisa' 'Ascoli' 'Benevento' 'Cremonese' 'Fenerbahce' 'Goztepe'\n",
            " 'Levante' 'Trabzonspor' 'Cagliari' 'Mirandes' 'Getafe' 'Galatasaray'\n",
            " 'Sampdoria' 'West Ham United' 'Leganes' 'Tshakhuma Tsha Madzivhandila'\n",
            " 'Chippa United' 'SuperSport United' 'Kaizer Chiefs' 'Stellenbosch FC'\n",
            " 'AmaZulu' 'Bloem Celtic' 'Maritzburg Utd' 'Brescia' 'Sutton United'\n",
            " 'Vicenza' 'Perugia' 'Fiorentina' 'Lamia' 'OFI Crete' 'Atromitos'\n",
            " 'Ionikos FC' 'Giannina' 'Apollon Smyrni' 'Asteras Tripolis' 'Amorebieta'\n",
            " 'Sassuolo' 'Genoa' 'Rayo Vallecano' 'Lecce' 'Parma' 'Monza' 'Spal'\n",
            " 'Salernitana' 'Burgos' 'Manchester United Women' 'Everton Ladies'\n",
            " 'Tottenham Women' 'Newport County' 'Arsenal Women'\n",
            " 'Brighton & Hove Albion' 'West Ham United Ladies' 'Alessandria' 'Como'\n",
            " 'Cosenza' 'Chelsea FC Women' 'Leicester City WFC' 'Birmingham City'\n",
            " 'Manchester City Women' 'Spezia' 'F.B.C Unione Venezia']\n",
            "Team2 : ['Guizhou Renhe' 'Shanghai SIPG' 'Tianjin Quanujian' 'Beijing Guoan'\n",
            " 'Guangzhou RF' 'Hebei China Fortune FC' 'Dalian Aerbin' 'Tianjin Teda'\n",
            " 'Henan Jianye' 'Jiangsu Suning FC' 'Guangzhou Evergrande'\n",
            " 'Shandong Luneng' 'Shanghai Greenland' 'Shenzhen FC' 'Wuhan Zall'\n",
            " 'Chongqing Lifan' 'Juventus' 'Club Brugge' 'Sevilla FC'\n",
            " 'Manchester United' 'Ferencvaros' 'Borussia Dortmund' 'FC Krasnodar'\n",
            " 'Istanbul Basaksehir' 'Lokomotiv Moscow' 'Shakhtar Donetsk' 'Atalanta'\n",
            " 'Atletico Madrid' 'Marseille' 'FC Porto' 'Liverpool'\n",
            " 'Borussia Monchengladbach' 'Rangers' 'Slavia Prague' 'Molde' 'Nice'\n",
            " 'Granada' 'Omonia Nicosia' 'CFR 1907 Cluj' 'AS Roma' 'Benfica'\n",
            " 'Real Sociedad' 'Arsenal' 'AZ' 'LASK Linz' 'FK Qarabag' 'Antwerp'\n",
            " 'AC Milan' 'FC Zorya Luhansk' 'Red Star Belgrade' 'KAA Gent' 'Lille'\n",
            " 'Feyenoord' 'Sivasspor' 'CSKA Moscow' 'AEK Athens' 'Bayern Munich'\n",
            " 'Internazionale' 'Olympiacos' 'Manchester City' 'FC Salzburg'\n",
            " 'FC Midtjylland' 'Ajax' 'Real Madrid' 'Paris Saint-Germain' 'Chelsea'\n",
            " 'Dynamo Kiev' 'Zenit St Petersburg' 'Lazio' 'Barcelona' 'Stade Rennes'\n",
            " 'RB Leipzig' 'Slovan Liberec' 'TSG Hoffenheim' 'Wolfsberger AC'\n",
            " 'Tottenham Hotspur' 'Villarreal' 'Sparta Prague' 'Celtic'\n",
            " 'Maccabi Tel-Aviv' 'Leicester City' 'Ludogorets' 'Dinamo Zagreb' 'Braga'\n",
            " 'PAOK Salonika' 'PSV' 'Standard Liege' \"Hapoel Be'er\" 'Napoli'\n",
            " 'Bayer Leverkusen' 'Young Boys' 'Lech Poznan' 'Rapid Vienna' 'Rijeka'\n",
            " 'CSKA Sofia' 'Dundalk' 'Adelaide United' 'Melbourne City' 'Macarthur FC'\n",
            " 'Newcastle Jets' 'Sydney FC' 'Brisbane Roar' 'Central Coast Mariners'\n",
            " 'Western Sydney FC' 'Guadalajara' 'Pumas Unam' 'Necaxa'\n",
            " 'Wellington Phoenix' 'Monterrey' 'León' 'Atlético San Luis' 'Querétaro'\n",
            " 'Cruz Azul' 'FC Juárez' 'Tijuana' 'Western United' 'Toluca' 'Puebla'\n",
            " 'Club América' 'Mazatlán FC' 'Tigres UANL' 'Atlas' 'Pachuca'\n",
            " 'Santos Laguna' 'Perth Glory' 'Melbourne Victory' 'Yokohama F. Marinos'\n",
            " 'Vegalta Sendai' 'FC Tokyo' 'Tokushima Vortis' 'Yokohama FC'\n",
            " 'Shimizu S-Pulse' 'Sagan Tosu' 'Kashiwa Reysol' 'Gamba Osaka'\n",
            " 'Nagoya Grampus Eight' 'Cerezo Osaka' 'Consadole Sapporo'\n",
            " 'Avispa Fukuoka' 'Vissel Kobe' 'Kawasaki Frontale' 'Urawa Red Diamonds'\n",
            " 'Oita Trinita' 'Shonan Bellmare' 'Sanfrecce Hiroshima' 'Kashima Antlers'\n",
            " 'Chicago Red Stars' 'Kansas City' 'Hammarby' 'IFK Goteborg'\n",
            " 'Washington Spirit' 'Orlando Pride' 'BK Hacken' 'Varbergs BoIS FC'\n",
            " 'IK Sirius' 'Djurgardens IF' 'Östersunds FK' 'Degerfors IF' 'Sky Blue FC'\n",
            " 'Racing Louisville FC' 'Portland Thorns' 'San Jose Earthquakes'\n",
            " 'Minnesota United FC' 'Houston Dash' 'Mjallby' 'Toronto FC'\n",
            " 'Atlanta United FC' 'Austin FC' 'New York City FC' 'Colorado Rapids'\n",
            " 'Sporting Kansas City' 'FC Cincinnati' 'New England Revolution'\n",
            " 'Malmo FF' 'Kalmar FF' 'Orebro SK' 'IFK Norrkoping' 'Halmstads BK'\n",
            " 'Los Angeles Galaxy' 'Philadelphia Union' 'Portland Timbers' 'AIK'\n",
            " 'IF Elfsborg' 'North Carolina FC' 'Seattle Reign FC' 'Orlando City SC'\n",
            " 'Montreal Impact' 'Vancouver Whitecaps' 'FC Dallas' 'Seattle Sounders FC'\n",
            " 'Atlanta United 2' 'Real Salt Lake' 'Chicago Fire' 'Inter Miami CF'\n",
            " 'DC United' 'Tulsa Roughnecks' 'Houston Dynamo' 'New York Red Bulls'\n",
            " 'Hartford Athletic' 'San Diego Loyal SC' 'Sacramento Republic FC'\n",
            " 'Columbus Crew' 'Los Angeles FC' 'Charlotte Independence' 'Indy Eleven'\n",
            " 'Swope Park Rangers' 'Colorado Springs Switchbacks FC'\n",
            " 'New Mexico United' 'Loudoun United FC' 'Las Vegas Lights FC'\n",
            " 'Charleston Battery' 'Oklahoma City Energy FC' 'Birmingham Legion FC'\n",
            " 'Pittsburgh Riverhounds' 'Real Monarchs SLC' 'Oakland Roots'\n",
            " 'Kristiansund BK' 'Tromso' 'SK Brann' 'Rosenborg' 'Tacoma Defiance'\n",
            " 'Bodo/Glimt' 'Valerenga' 'Viking FK' 'Miami FC' 'LA Galaxy II'\n",
            " 'Memphis 901 FC' 'Arizona United' 'Nashville SC' 'Austin Bold FC'\n",
            " 'Haugesund' 'Lillestrom' 'Mjondalen' 'Orange County SC' 'San Antonio FC'\n",
            " 'New York Red Bulls II' 'Odd BK' 'Rio Grande Valley FC Toros' 'Sarpsborg'\n",
            " 'Stabaek' 'Sandefjord' 'Stromsgodset' 'Juventude' 'Santos' 'Fluminense'\n",
            " 'Fortaleza' 'Palmeiras' 'Grêmio' 'El Paso Locomotive FC'\n",
            " 'Atlético Goianiense' 'Bragantino' 'América Mineiro' 'Sport Recife'\n",
            " 'Tampa Bay Rowdies' 'Flamengo' 'São Paulo' 'Bahía' 'Ceará' 'Cuiaba'\n",
            " 'Internacional' 'Corinthians' 'Chapecoense AF' 'Atlético Paranaense'\n",
            " 'Louisville City FC' 'Atletico Mineiro' 'Odense BK' 'Boca Juniors'\n",
            " 'Estudiantes' 'Patronato' 'Talleres de Córdoba' 'Atlético Tucumán'\n",
            " 'Platense' 'Racing Club' 'Viborg' 'Randers FC' 'AaB' 'Defensa y Justicia'\n",
            " 'Brondby' 'San Lorenzo' 'Colon Santa Fe' 'Argentinos Juniors'\n",
            " 'Sonderjyske' 'Banfield' 'Rosario Central' 'Dinamo Moscow' 'Hamburg SV'\n",
            " 'Genk' 'Huracán' 'Aldosivi' 'Jahn Regensburg' 'FC Ingolstadt 04'\n",
            " 'Karlsruher SC' 'SC Paderborn' 'Nimes' 'SV Zulte Waregem'\n",
            " 'FC Trenkwalder Admira' 'Hartberg' 'Lanus' 'RFC Seraing' 'Spartak Moscow'\n",
            " 'FC Arsenal Tula' 'Guingamp' 'Auxerre' 'AS Nancy Lorraine' 'AC Ajaccio'\n",
            " 'Rodez' 'US Quevilly' 'Paris FC' 'Niort' 'St Gallen' 'Hannover 96'\n",
            " 'Central Córdoba Santiago del Estero' 'Sporting de Charleroi'\n",
            " 'Gimnasia La Plata' 'Fortuna Düsseldorf' 'Erzgebirge Aue' 'Holstein Kiel'\n",
            " 'AGF Aarhus' 'FC Zurich' 'Eupen' 'Silkeborg' 'Servette' 'Basel'\n",
            " 'FK Austria Vienna' 'Terek Grozny' 'Union Saint Gilloise' 'Godoy Cruz'\n",
            " 'Sarmiento' 'FC Ufa' 'Velez Sarsfield' 'Union Santa Fe'\n",
            " 'CA Independiente' 'Sochi' 'Vejle' 'Sochaux' 'Arsenal Sarandi'\n",
            " \"Newell's Old Boys\" 'Cercle Brugge' 'River Plate' 'Rubin Kazan'\n",
            " 'SV Darmstadt 98' '1. FC Nürnberg' 'KV Oostende' '1. FC Heidenheim 1846'\n",
            " 'Hansa Rostock' 'SV Sandhausen' 'Livingston' 'Dijon FCO' 'St Johnstone'\n",
            " 'St Mirren' 'St. Truidense' 'SK Austria Klagenfurt'\n",
            " 'Cashpoint SC Rheindorf Altach' 'Lausanne Sports' 'OH Leuven'\n",
            " 'KV Mechelen' 'Valenciennes' 'Pau' 'Amiens' 'Le Havre' 'Toulouse'\n",
            " 'Dunkerque' 'Caen' 'Grasshoppers Zürich' 'Werder Bremen' 'Anderlecht'\n",
            " 'Dynamo Dresden' 'FC St. Pauli' 'Schalke 04' 'FC Luzern' 'Dundee Utd'\n",
            " 'FC Sion' 'FC Lugano' 'FK Nizhny Novgorod' 'WSG Swarovski Wattens'\n",
            " 'SK Sturm Graz' 'SV Ried' 'Hibernian' 'FC Copenhagen'\n",
            " 'KFCO Beerschot-Wilrijk' 'FC Khimki' 'KV Kortrijk' 'FC Nordsjaelland'\n",
            " 'Grenoble' 'West Bromwich Albion' 'Nantes' 'Vizela' 'Estoril Praia'\n",
            " 'Hearts' 'Millwall' 'Bristol Rovers' 'Colchester United' 'Leyton Orient'\n",
            " 'Hull City' 'Cheltenham Town' 'Walsall' 'AFC Wimbledon' 'Swansea City'\n",
            " 'Huddersfield Town' 'Crawley Town' 'Reading' 'Barnsley' 'Plymouth Argyle'\n",
            " 'Port Vale' 'Oxford United' 'Swindon Town' 'Peterborough United'\n",
            " 'Portsmouth' 'Lincoln City' 'Blackpool' 'Barrow' 'Milton Keynes Dons'\n",
            " 'Bradford City' 'Wigan' 'Morecambe' 'Newport County' 'Accrington Stanley'\n",
            " 'Rochdale' 'Burton Albion' 'Sutton United' 'Krylia Sovetov' 'Brest'\n",
            " 'Sheffield Wednesday' 'Birmingham' 'Lens' 'Middlesbrough' 'Clermont Foot'\n",
            " 'Reims' 'Angers' 'Lorient' 'Motherwell' 'Aberdeen' 'Ross County' 'Dundee'\n",
            " 'Portimonense' 'Santa Clara' 'Rostov' 'Nottingham Forest' 'Belenenses'\n",
            " 'Famalicao' 'Ural Sverdlovsk Oblast' 'Boavista' 'Caykur Rizespor'\n",
            " 'Heerenveen' 'Eibar' 'AS Monaco' 'Getafe' 'Guimaraes' 'UD Ibiza'\n",
            " 'Derby County' 'Leeds United' 'Bastia' 'SpVgg Greuther Fürth'\n",
            " 'VfL Bochum' 'SC Freiburg' 'Harrogate Town' 'Wycombe Wanderers'\n",
            " 'Cardiff City' 'Southampton' 'Crystal Palace' 'Wolverhampton'\n",
            " 'Gillingham' 'Fulham' 'Shrewsbury Town' 'Rotherham United' 'Ipswich Town'\n",
            " 'Sunderland' 'Crewe Alexandra' 'Bolton' 'Blackburn' 'Bristol City'\n",
            " 'Coventry City' 'Luton Town' 'Queens Park Rangers' 'Stoke City'\n",
            " 'Fleetwood Town' 'Preston North End' 'Exeter City' 'Doncaster Rovers'\n",
            " 'Brighton and Hove Albion' 'Charlton Athletic' 'AFC Bournemouth'\n",
            " 'Stevenage' 'Northampton Town' 'Oldham Athletic' 'Scunthorpe'\n",
            " 'Forest Green Rovers' 'Aston Villa' 'Hartlepool' 'Carlisle United'\n",
            " 'Cambridge United' 'Tranmere Rovers' 'Tondela' 'Leganes'\n",
            " 'Gazisehir Gaziantep' 'Eintracht Frankfurt' 'FC Arouca' 'Levante'\n",
            " 'Amorebieta' 'Real Betis' 'FC Twente' 'Kasimpasa' 'Kayserispor' 'NEC'\n",
            " 'Strasbourg' 'Sheffield United' 'Sporting CP' 'AD Alcorcon' 'Espanyol'\n",
            " 'FC Groningen' 'Lyon' 'Vitesse' 'Sparta' 'Montpellier' 'Troyes'\n",
            " 'West Ham United' 'Metz' 'Gil Vicente' 'Burgos' 'St Etienne'\n",
            " 'Hertha Berlin' 'Alanyaspor' 'Lugo' 'Goztepe' 'Fenerbahce' 'Bordeaux'\n",
            " 'Moreirense' 'Tenerife' 'Real Valladolid' 'Rayo Vallecano' 'Trabzonspor'\n",
            " 'Konyaspor' 'Pacos Ferreira' 'Mirandes' 'Galatasaray' 'Almeria'\n",
            " 'Athletic Bilbao' 'Maritimo' 'Salford City' 'Mansfield Town' 'AmaZulu'\n",
            " 'Adana Demirspor' 'PEC Zwolle' 'Real Zaragoza' 'Parma' 'VfB Stuttgart'\n",
            " 'Cadiz' 'Real Oviedo' 'Burnley' 'Chippa United' 'Stellenbosch FC'\n",
            " 'Maritzburg Utd' 'Arminia Bielefeld' 'Mainz' 'FC Augsburg'\n",
            " 'VfL Wolfsburg' 'Newcastle' 'Brentford' 'Norwich City' 'Everton'\n",
            " 'SuperSport United' 'Real Sociedad II' 'Tshakhuma Tsha Madzivhandila'\n",
            " 'Mallorca' 'Perugia' 'Fatih Karagümrük' 'Giresunspor' 'Genoa' 'Sassuolo'\n",
            " 'Watford' 'RKC' 'Sporting Gijón' 'Valencia' 'Heracles'\n",
            " 'Cambuur Leeuwarden' 'Vicenza' 'Besiktas' 'Altay' 'FC Utrecht'\n",
            " 'Fuenlabrada' 'OFI Crete' 'Giannina' 'Apollon Smyrni' 'Atromitos'\n",
            " 'Asteras Tripolis' 'Lamia' 'Go Ahead Eagles' 'Bloem Celtic'\n",
            " '1. FC Union Berlin' 'Willem II' 'Málaga' 'Kaizer Chiefs' 'FC Cologne'\n",
            " 'Brescia' 'Monza' 'Salernitana' 'Elche' 'Las Palmas' 'SD Ponferradina'\n",
            " 'Como' 'Spal' 'Cosenza' 'Alessandria' 'Lecce' 'F.B.C Unione Venezia'\n",
            " 'Fiorentina' 'Antalyaspor' 'Yeni Malatyaspor' 'FC Cartagena' 'Ionikos FC'\n",
            " 'Spezia' 'Hatayspor' 'Celta Vigo' 'Orlando Pirates' 'Mamelodi Sundowns'\n",
            " 'Golden Arrows' 'Baroka FC' 'TS Galaxy' 'Moroka Swallows' 'Black Aces'\n",
            " 'Sekhukhune United' 'SD Huesca' 'Alavés' 'Frosinone' 'Bologna' 'Ascoli'\n",
            " 'Empoli' 'Torino' 'Girona FC' 'Panetolikos' 'Aris Salonika'\n",
            " 'Panathinaikos' 'Volos NFC' 'Crotone' 'Sampdoria' 'Osasuna' 'Benevento'\n",
            " 'Cremonese' 'Pordenone Calcio' 'Ternana' 'Cagliari' 'Leicester City WFC'\n",
            " 'Manchester City Women' 'Birmingham City' 'Chelsea FC Women'\n",
            " 'West Ham United Ladies' 'Fortuna Sittard' 'Reggina' 'Cittadella' 'Pisa'\n",
            " 'Everton Ladies' 'Manchester United Women' 'Brighton & Hove Albion'\n",
            " 'Arsenal Women' 'Tottenham Women' 'Udinese' 'Verona']\n"
          ],
          "name": "stdout"
        }
      ]
    },
    {
      "cell_type": "code",
      "metadata": {
        "colab": {
          "base_uri": "https://localhost:8080/",
          "height": 160
        },
        "id": "7Zh3iuJo5K-_",
        "outputId": "007393cd-f2a2-419b-f41c-293d89b32c5b"
      },
      "source": [
        "# boxplots of numerical features for outlier detection\n",
        "import seaborn as sns\n",
        "fig = plt.figure(figsize=(50,50))\n",
        "for i in range(len(continuous_data.columns)):\n",
        "    fig.add_subplot(18, 18, i+1)\n",
        "    sns.boxplot(y=continuous_data.iloc[:,i])\n",
        "plt.tight_layout()\n",
        "plt.show()"
      ],
      "execution_count": 11,
      "outputs": [
        {
          "output_type": "display_data",
          "data": {
            "image/png": "[encoded data removed]",
            "text/plain": [
              "<Figure size 3600x3600 with 19 Axes>"
            ]
          },
          "metadata": {
            "needs_background": "light"
          }
        }
      ]
    },
    {
      "cell_type": "code",
      "metadata": {
        "colab": {
          "base_uri": "https://localhost:8080/"
        },
        "id": "1jiC57i_46ba",
        "outputId": "1362a907-83f3-42f7-f4be-070b092934f1"
      },
      "source": [
        "train['importance1'].nunique()"
      ],
      "execution_count": 12,
      "outputs": [
        {
          "output_type": "execute_result",
          "data": {
            "text/plain": [
              "701"
            ]
          },
          "metadata": {},
          "execution_count": 12
        }
      ]
    },
    {
      "cell_type": "code",
      "metadata": {
        "colab": {
          "base_uri": "https://localhost:8080/"
        },
        "id": "KdapFoKw46YG",
        "outputId": "9a8f5d44-4f37-4554-dd24-285e75d56883"
      },
      "source": [
        "train['importance2'].nunique()"
      ],
      "execution_count": 13,
      "outputs": [
        {
          "output_type": "execute_result",
          "data": {
            "text/plain": [
              "700"
            ]
          },
          "metadata": {},
          "execution_count": 13
        }
      ]
    },
    {
      "cell_type": "code",
      "metadata": {
        "colab": {
          "base_uri": "https://localhost:8080/"
        },
        "id": "4mzCJ9Ga46Ug",
        "outputId": "b89fef8f-15ae-4e38-d86e-b99cd14bc5ad"
      },
      "source": [
        "train['nsxg1'].nunique()"
      ],
      "execution_count": 14,
      "outputs": [
        {
          "output_type": "execute_result",
          "data": {
            "text/plain": [
              "285"
            ]
          },
          "metadata": {},
          "execution_count": 14
        }
      ]
    },
    {
      "cell_type": "code",
      "metadata": {
        "colab": {
          "base_uri": "https://localhost:8080/"
        },
        "id": "Mlo_1Ekg46Rg",
        "outputId": "995b71ca-08bb-4092-9f8f-1826ae9b1dd7"
      },
      "source": [
        "train['adj_score2'].nunique()"
      ],
      "execution_count": 15,
      "outputs": [
        {
          "output_type": "execute_result",
          "data": {
            "text/plain": [
              "104"
            ]
          },
          "metadata": {},
          "execution_count": 15
        }
      ]
    },
    {
      "cell_type": "code",
      "metadata": {
        "colab": {
          "base_uri": "https://localhost:8080/"
        },
        "id": "CwbgES-P8Dsx",
        "outputId": "7d71786a-7702-4ba5-8c95-9231eb5703a6"
      },
      "source": [
        "train.info()"
      ],
      "execution_count": 16,
      "outputs": [
        {
          "output_type": "stream",
          "text": [
            "<class 'pandas.core.frame.DataFrame'>\n",
            "RangeIndex: 7443 entries, 0 to 7442\n",
            "Data columns (total 24 columns):\n",
            " #   Column       Non-Null Count  Dtype         \n",
            "---  ------       --------------  -----         \n",
            " 0   season       7443 non-null   int64         \n",
            " 1   date         7443 non-null   object        \n",
            " 2   league_id    7443 non-null   int64         \n",
            " 3   league       7443 non-null   object        \n",
            " 4   Team 1       7443 non-null   object        \n",
            " 5   Team2        7443 non-null   object        \n",
            " 6   SPI1         7443 non-null   float64       \n",
            " 7   SPI2         7443 non-null   float64       \n",
            " 8   proj_score1  7443 non-null   float64       \n",
            " 9   proj_score2  7443 non-null   float64       \n",
            " 10  importance1  2527 non-null   float64       \n",
            " 11  importance2  2527 non-null   float64       \n",
            " 12  score1       2643 non-null   float64       \n",
            " 13  score2       2643 non-null   float64       \n",
            " 14  xg1          1715 non-null   float64       \n",
            " 15  xg2          1715 non-null   float64       \n",
            " 16  nsxg1        1715 non-null   float64       \n",
            " 17  nsxg2        1715 non-null   float64       \n",
            " 18  adj_score1   1715 non-null   float64       \n",
            " 19  adj_score2   1715 non-null   float64       \n",
            " 20  Outcome      7443 non-null   int64         \n",
            " 21  date_time    7443 non-null   datetime64[ns]\n",
            " 22  month        7443 non-null   int64         \n",
            " 23  weekday      7443 non-null   int64         \n",
            "dtypes: datetime64[ns](1), float64(14), int64(5), object(4)\n",
            "memory usage: 1.4+ MB\n"
          ],
          "name": "stdout"
        }
      ]
    },
    {
      "cell_type": "code",
      "metadata": {
        "id": "T9a_aIgq3X9f"
      },
      "source": [
        "features = ['season','league_id', 'Team 1', 'Team2','SPI1', 'SPI2', 'proj_score1', 'proj_score2',\n",
        "            \n",
        "                # with nan:\n",
        "                'importance1', 'importance2','score1', 'score2','xg1', 'xg2', \n",
        "                'nsxg1', 'nsxg2', \n",
        "                'adj_score1', 'adj_score2',\n",
        "                \n",
        "                # from date:\n",
        "                #'month', \n",
        "                #'weekday'\n",
        "               ]\n",
        "\n",
        "cat_features = [#'season',\n",
        "                'league_id', 'Team 1', 'Team2',\n",
        "    \n",
        "                #'month', \n",
        "                #'weekday'\n",
        "               ]"
      ],
      "execution_count": 17,
      "outputs": []
    },
    {
      "cell_type": "code",
      "metadata": {
        "id": "X2lZ7atS3X7U"
      },
      "source": [
        "X = train[features]\n",
        "y = train['Outcome']"
      ],
      "execution_count": 18,
      "outputs": []
    },
    {
      "cell_type": "code",
      "metadata": {
        "id": "YvOmqJq_3X4-"
      },
      "source": [
        "SEED = 42"
      ],
      "execution_count": 19,
      "outputs": []
    },
    {
      "cell_type": "code",
      "metadata": {
        "colab": {
          "base_uri": "https://localhost:8080/"
        },
        "id": "pHIBb57U90xA",
        "outputId": "84c5cffa-dd69-4051-dbe0-c5926f82bed0"
      },
      "source": [
        "!pip install catboost"
      ],
      "execution_count": 20,
      "outputs": [
        {
          "output_type": "stream",
          "text": [
            "Collecting catboost\n",
            "  Downloading catboost-0.26.1-cp37-none-manylinux1_x86_64.whl (67.4 MB)\n",
            "\u001b[K     |████████████████████████████████| 67.4 MB 28 kB/s \n",
            "\u001b[?25hRequirement already satisfied: pandas>=0.24.0 in /usr/local/lib/python3.7/dist-packages (from catboost) (1.1.5)\n",
            "Requirement already satisfied: scipy in /usr/local/lib/python3.7/dist-packages (from catboost) (1.4.1)\n",
            "Requirement already satisfied: matplotlib in /usr/local/lib/python3.7/dist-packages (from catboost) (3.2.2)\n",
            "Requirement already satisfied: graphviz in /usr/local/lib/python3.7/dist-packages (from catboost) (0.10.1)\n",
            "Requirement already satisfied: six in /usr/local/lib/python3.7/dist-packages (from catboost) (1.15.0)\n",
            "Requirement already satisfied: numpy>=1.16.0 in /usr/local/lib/python3.7/dist-packages (from catboost) (1.19.5)\n",
            "Requirement already satisfied: plotly in /usr/local/lib/python3.7/dist-packages (from catboost) (4.4.1)\n",
            "Requirement already satisfied: pytz>=2017.2 in /usr/local/lib/python3.7/dist-packages (from pandas>=0.24.0->catboost) (2018.9)\n",
            "Requirement already satisfied: python-dateutil>=2.7.3 in /usr/local/lib/python3.7/dist-packages (from pandas>=0.24.0->catboost) (2.8.2)\n",
            "Requirement already satisfied: pyparsing!=2.0.4,!=2.1.2,!=2.1.6,>=2.0.1 in /usr/local/lib/python3.7/dist-packages (from matplotlib->catboost) (2.4.7)\n",
            "Requirement already satisfied: kiwisolver>=1.0.1 in /usr/local/lib/python3.7/dist-packages (from matplotlib->catboost) (1.3.1)\n",
            "Requirement already satisfied: cycler>=0.10 in /usr/local/lib/python3.7/dist-packages (from matplotlib->catboost) (0.10.0)\n",
            "Requirement already satisfied: retrying>=1.3.3 in /usr/local/lib/python3.7/dist-packages (from plotly->catboost) (1.3.3)\n",
            "Installing collected packages: catboost\n",
            "Successfully installed catboost-0.26.1\n"
          ],
          "name": "stdout"
        }
      ]
    },
    {
      "cell_type": "code",
      "metadata": {
        "id": "8ZoRpEc39zry"
      },
      "source": [
        "from catboost import CatBoostClassifier, cv, Pool\n",
        "\n",
        "from sklearn.metrics import log_loss\n",
        "from sklearn.model_selection import train_test_split"
      ],
      "execution_count": 21,
      "outputs": []
    },
    {
      "cell_type": "code",
      "metadata": {
        "id": "r8nVKz7u3X2b"
      },
      "source": [
        "# Let's split the train data into training and validation sets.\n",
        "\n",
        "X_train, X_valid, y_train, y_valid = train_test_split(X, y, train_size=0.8, random_state=SEED)"
      ],
      "execution_count": 22,
      "outputs": []
    },
    {
      "cell_type": "code",
      "metadata": {
        "id": "uDt_iysq3Xzu"
      },
      "source": [
        "# Test data\n",
        "X_test = test[features]"
      ],
      "execution_count": 23,
      "outputs": []
    },
    {
      "cell_type": "code",
      "metadata": {
        "colab": {
          "base_uri": "https://localhost:8080/"
        },
        "id": "sOv8qPzFLG_l",
        "outputId": "e0b8f579-b604-4ce4-8af2-e809b84db469"
      },
      "source": [
        "X_test.shape"
      ],
      "execution_count": 24,
      "outputs": [
        {
          "output_type": "execute_result",
          "data": {
            "text/plain": [
              "(4008, 18)"
            ]
          },
          "metadata": {},
          "execution_count": 24
        }
      ]
    },
    {
      "cell_type": "code",
      "metadata": {
        "id": "QaSoxeRF3Xwe"
      },
      "source": [
        "# Create Pool data\n",
        "train_data = Pool(data=X_train,\n",
        "                  label=y_train,\n",
        "                  cat_features=cat_features\n",
        "                 )\n",
        "\n",
        "valid_data = Pool(data=X_valid,\n",
        "                  label=y_valid,\n",
        "                  cat_features=cat_features\n",
        "                 )"
      ],
      "execution_count": 48,
      "outputs": []
    },
    {
      "cell_type": "code",
      "metadata": {
        "id": "6WwzT8xD3Xt-"
      },
      "source": [
        "CATBOOST_PARAMS = {\n",
        "    'random_seed':SEED,\n",
        "    'learning_rate':0.3,\n",
        "#    'auto_class_weights':'Balanced',\n",
        "    'iterations':175,\n",
        "    'loss_function':'Logloss',\n",
        "#    'eval_metric':'AUC',    \n",
        "    'max_depth':6,\n",
        "    'early_stopping_rounds':10,\n",
        "    'min_data_in_leaf':10}"
      ],
      "execution_count": 49,
      "outputs": []
    },
    {
      "cell_type": "code",
      "metadata": {
        "colab": {
          "base_uri": "https://localhost:8080/",
          "height": 52,
          "referenced_widgets": [
            "2957bcf9ee304a02a1f97f5273256798"
          ]
        },
        "id": "iLo66PFq3Xq7",
        "outputId": "2f0c9fd5-3f7a-4dbd-8ff3-7dea13565215"
      },
      "source": [
        "%%time\n",
        "model = CatBoostClassifier(**CATBOOST_PARAMS)\n",
        "\n",
        "model.fit(train_data,\n",
        "          eval_set=(valid_data),\n",
        "          use_best_model=True, \n",
        "         logging_level= 'Silent',  #'Verbose',  # you can uncomment this for text output\n",
        "         plot=True\n",
        "        )"
      ],
      "execution_count": 50,
      "outputs": [
        {
          "output_type": "display_data",
          "data": {
            "application/vnd.jupyter.widget-view+json": {
              "model_id": "2957bcf9ee304a02a1f97f5273256798",
              "version_minor": 0,
              "version_major": 2
            },
            "text/plain": [
              "MetricVisualizer(layout=Layout(align_self='stretch', height='500px'))"
            ]
          },
          "metadata": {}
        },
        {
          "output_type": "stream",
          "text": [
            "CPU times: user 715 ms, sys: 42.3 ms, total: 758 ms\n",
            "Wall time: 501 ms\n"
          ],
          "name": "stdout"
        }
      ]
    },
    {
      "cell_type": "code",
      "metadata": {
        "colab": {
          "base_uri": "https://localhost:8080/"
        },
        "id": "ddGy_Tq73XoW",
        "outputId": "0be348dd-a2f1-4237-e8b1-f2f9605ff260"
      },
      "source": [
        "log_loss(y_valid, model.predict(X_valid))"
      ],
      "execution_count": 51,
      "outputs": [
        {
          "output_type": "execute_result",
          "data": {
            "text/plain": [
              "0.3247487343875439"
            ]
          },
          "metadata": {},
          "execution_count": 51
        }
      ]
    },
    {
      "cell_type": "code",
      "metadata": {
        "colab": {
          "base_uri": "https://localhost:8080/"
        },
        "id": "l51mJgTg0wCz",
        "outputId": "4742b25c-7a5c-4ee1-fb3e-94903b33cce7"
      },
      "source": [
        "# Evaluate with predict_proba !!!\n",
        "log_loss(y_valid, model.predict_proba(X_valid))\n"
      ],
      "execution_count": 52,
      "outputs": [
        {
          "output_type": "execute_result",
          "data": {
            "text/plain": [
              "0.03666666856498104"
            ]
          },
          "metadata": {},
          "execution_count": 52
        }
      ]
    },
    {
      "cell_type": "code",
      "metadata": {
        "colab": {
          "base_uri": "https://localhost:8080/",
          "height": 418
        },
        "id": "xXT8fZjI_Bah",
        "outputId": "d9f74603-7e4a-4562-8339-de96df0fa266"
      },
      "source": [
        "# with Labels\n",
        "submission = pd.read_csv('submission.csv' )\n",
        "submission['Outcome'] = model.predict(X_test)\n",
        "submission.to_csv('cat_submission.csv',index=False, header=True)\n",
        "submission"
      ],
      "execution_count": 53,
      "outputs": [
        {
          "output_type": "execute_result",
          "data": {
            "text/html": [
              "<div>\n",
              "<style scoped>\n",
              "    .dataframe tbody tr th:only-of-type {\n",
              "        vertical-align: middle;\n",
              "    }\n",
              "\n",
              "    .dataframe tbody tr th {\n",
              "        vertical-align: top;\n",
              "    }\n",
              "\n",
              "    .dataframe thead th {\n",
              "        text-align: right;\n",
              "    }\n",
              "</style>\n",
              "<table border=\"1\" class=\"dataframe\">\n",
              "  <thead>\n",
              "    <tr style=\"text-align: right;\">\n",
              "      <th></th>\n",
              "      <th>Outcome</th>\n",
              "    </tr>\n",
              "  </thead>\n",
              "  <tbody>\n",
              "    <tr>\n",
              "      <th>0</th>\n",
              "      <td>1</td>\n",
              "    </tr>\n",
              "    <tr>\n",
              "      <th>1</th>\n",
              "      <td>1</td>\n",
              "    </tr>\n",
              "    <tr>\n",
              "      <th>2</th>\n",
              "      <td>0</td>\n",
              "    </tr>\n",
              "    <tr>\n",
              "      <th>3</th>\n",
              "      <td>1</td>\n",
              "    </tr>\n",
              "    <tr>\n",
              "      <th>4</th>\n",
              "      <td>0</td>\n",
              "    </tr>\n",
              "    <tr>\n",
              "      <th>...</th>\n",
              "      <td>...</td>\n",
              "    </tr>\n",
              "    <tr>\n",
              "      <th>4003</th>\n",
              "      <td>1</td>\n",
              "    </tr>\n",
              "    <tr>\n",
              "      <th>4004</th>\n",
              "      <td>0</td>\n",
              "    </tr>\n",
              "    <tr>\n",
              "      <th>4005</th>\n",
              "      <td>1</td>\n",
              "    </tr>\n",
              "    <tr>\n",
              "      <th>4006</th>\n",
              "      <td>1</td>\n",
              "    </tr>\n",
              "    <tr>\n",
              "      <th>4007</th>\n",
              "      <td>1</td>\n",
              "    </tr>\n",
              "  </tbody>\n",
              "</table>\n",
              "<p>4008 rows × 1 columns</p>\n",
              "</div>"
            ],
            "text/plain": [
              "      Outcome\n",
              "0           1\n",
              "1           1\n",
              "2           0\n",
              "3           1\n",
              "4           0\n",
              "...       ...\n",
              "4003        1\n",
              "4004        0\n",
              "4005        1\n",
              "4006        1\n",
              "4007        1\n",
              "\n",
              "[4008 rows x 1 columns]"
            ]
          },
          "metadata": {},
          "execution_count": 53
        }
      ]
    },
    {
      "cell_type": "code",
      "metadata": {
        "colab": {
          "base_uri": "https://localhost:8080/"
        },
        "id": "GnUDJD4l_O0I",
        "outputId": "da6d198e-3ac7-4d6e-ac2c-6677be1c2ada"
      },
      "source": [
        "submission['Outcome'].value_counts()"
      ],
      "execution_count": 54,
      "outputs": [
        {
          "output_type": "execute_result",
          "data": {
            "text/plain": [
              "1    2715\n",
              "0    1293\n",
              "Name: Outcome, dtype: int64"
            ]
          },
          "metadata": {},
          "execution_count": 54
        }
      ]
    },
    {
      "cell_type": "code",
      "metadata": {
        "colab": {
          "base_uri": "https://localhost:8080/",
          "height": 418
        },
        "id": "J5LUcgLu_R81",
        "outputId": "17992290-9b8a-48e3-94ed-47a6c53d4b1a"
      },
      "source": [
        "# with Probabilities\n",
        "preds = model.predict_proba(X_test)\n",
        "submission['Outcome'] = [pred[1] for pred in preds]\n",
        "submission.to_csv('cat_proba_submission.csv',index=False, header=True)\n",
        "submission"
      ],
      "execution_count": 55,
      "outputs": [
        {
          "output_type": "execute_result",
          "data": {
            "text/html": [
              "<div>\n",
              "<style scoped>\n",
              "    .dataframe tbody tr th:only-of-type {\n",
              "        vertical-align: middle;\n",
              "    }\n",
              "\n",
              "    .dataframe tbody tr th {\n",
              "        vertical-align: top;\n",
              "    }\n",
              "\n",
              "    .dataframe thead th {\n",
              "        text-align: right;\n",
              "    }\n",
              "</style>\n",
              "<table border=\"1\" class=\"dataframe\">\n",
              "  <thead>\n",
              "    <tr style=\"text-align: right;\">\n",
              "      <th></th>\n",
              "      <th>Outcome</th>\n",
              "    </tr>\n",
              "  </thead>\n",
              "  <tbody>\n",
              "    <tr>\n",
              "      <th>0</th>\n",
              "      <td>0.999450</td>\n",
              "    </tr>\n",
              "    <tr>\n",
              "      <th>1</th>\n",
              "      <td>0.998379</td>\n",
              "    </tr>\n",
              "    <tr>\n",
              "      <th>2</th>\n",
              "      <td>0.000559</td>\n",
              "    </tr>\n",
              "    <tr>\n",
              "      <th>3</th>\n",
              "      <td>0.943518</td>\n",
              "    </tr>\n",
              "    <tr>\n",
              "      <th>4</th>\n",
              "      <td>0.000667</td>\n",
              "    </tr>\n",
              "    <tr>\n",
              "      <th>...</th>\n",
              "      <td>...</td>\n",
              "    </tr>\n",
              "    <tr>\n",
              "      <th>4003</th>\n",
              "      <td>0.673452</td>\n",
              "    </tr>\n",
              "    <tr>\n",
              "      <th>4004</th>\n",
              "      <td>0.279210</td>\n",
              "    </tr>\n",
              "    <tr>\n",
              "      <th>4005</th>\n",
              "      <td>0.994276</td>\n",
              "    </tr>\n",
              "    <tr>\n",
              "      <th>4006</th>\n",
              "      <td>0.998426</td>\n",
              "    </tr>\n",
              "    <tr>\n",
              "      <th>4007</th>\n",
              "      <td>0.996492</td>\n",
              "    </tr>\n",
              "  </tbody>\n",
              "</table>\n",
              "<p>4008 rows × 1 columns</p>\n",
              "</div>"
            ],
            "text/plain": [
              "       Outcome\n",
              "0     0.999450\n",
              "1     0.998379\n",
              "2     0.000559\n",
              "3     0.943518\n",
              "4     0.000667\n",
              "...        ...\n",
              "4003  0.673452\n",
              "4004  0.279210\n",
              "4005  0.994276\n",
              "4006  0.998426\n",
              "4007  0.996492\n",
              "\n",
              "[4008 rows x 1 columns]"
            ]
          },
          "metadata": {},
          "execution_count": 55
        }
      ]
    },
    {
      "cell_type": "code",
      "metadata": {
        "id": "sjw1WBdO_T-m"
      },
      "source": [
        "all_train_data = Pool(data=X,\n",
        "                      label=y,\n",
        "                      cat_features=cat_features\n",
        "                     )"
      ],
      "execution_count": 56,
      "outputs": []
    },
    {
      "cell_type": "code",
      "metadata": {
        "colab": {
          "base_uri": "https://localhost:8080/"
        },
        "id": "8f7eZfKs_exu",
        "outputId": "6a23147e-1803-4a3f-b677-703f39ab0021"
      },
      "source": [
        "%%time\n",
        "grid = {'learning_rate': [0.3, 0.5, 0.4, 0.1],\n",
        "        'max_depth': [4,  6,  8,  10],\n",
        "        'l2_leaf_reg': [1,  3,  5,  7, 9],\n",
        "        #'grow_policy': ['SymmetricTree', 'Depthwise', 'Lossguide']\n",
        "       }\n",
        "\n",
        "model = CatBoostClassifier(iterations=175)\n"
      ],
      "execution_count": 57,
      "outputs": [
        {
          "output_type": "stream",
          "text": [
            "CPU times: user 160 µs, sys: 16 µs, total: 176 µs\n",
            "Wall time: 178 µs\n"
          ],
          "name": "stdout"
        }
      ]
    },
    {
      "cell_type": "code",
      "metadata": {
        "colab": {
          "base_uri": "https://localhost:8080/"
        },
        "id": "sjtZVO_C_hMf",
        "outputId": "390b6823-e47b-4ca3-e734-787f2e7a1991"
      },
      "source": [
        "randomized_search_result = model.randomized_search(grid,\n",
        "            X=all_train_data,\n",
        "            cv=5,\n",
        "            partition_random_seed=SEED,\n",
        "            search_by_train_test_split=True,\n",
        "            refit=True,\n",
        "            shuffle=True,\n",
        "            stratified=None,\n",
        "            train_size=0.8,\n",
        "            verbose=0,\n",
        "            plot=False)"
      ],
      "execution_count": 58,
      "outputs": [
        {
          "output_type": "stream",
          "text": [
            "0:\tlearn: 0.2134654\ttest: 0.2282869\tbest: 0.2282869 (0)\ttotal: 6.75ms\tremaining: 1.17s\n",
            "1:\tlearn: 0.1240903\ttest: 0.1265862\tbest: 0.1265862 (1)\ttotal: 14.2ms\tremaining: 1.23s\n",
            "2:\tlearn: 0.1025312\ttest: 0.1050872\tbest: 0.1050872 (2)\ttotal: 24.6ms\tremaining: 1.41s\n",
            "3:\tlearn: 0.0828346\ttest: 0.0850337\tbest: 0.0850337 (3)\ttotal: 30.6ms\tremaining: 1.31s\n",
            "4:\tlearn: 0.0759374\ttest: 0.0753171\tbest: 0.0753171 (4)\ttotal: 36.1ms\tremaining: 1.23s\n",
            "5:\tlearn: 0.0675590\ttest: 0.0654937\tbest: 0.0654937 (5)\ttotal: 42.1ms\tremaining: 1.19s\n",
            "6:\tlearn: 0.0604048\ttest: 0.0591617\tbest: 0.0591617 (6)\ttotal: 47.6ms\tremaining: 1.14s\n",
            "7:\tlearn: 0.0573435\ttest: 0.0566153\tbest: 0.0566153 (7)\ttotal: 53ms\tremaining: 1.11s\n",
            "8:\tlearn: 0.0548689\ttest: 0.0544519\tbest: 0.0544519 (8)\ttotal: 58.5ms\tremaining: 1.08s\n",
            "9:\tlearn: 0.0529633\ttest: 0.0527675\tbest: 0.0527675 (9)\ttotal: 63.9ms\tremaining: 1.05s\n",
            "10:\tlearn: 0.0512946\ttest: 0.0521571\tbest: 0.0521571 (10)\ttotal: 69.5ms\tremaining: 1.04s\n",
            "11:\tlearn: 0.0491657\ttest: 0.0508163\tbest: 0.0508163 (11)\ttotal: 75.1ms\tremaining: 1.02s\n",
            "12:\tlearn: 0.0488188\ttest: 0.0505806\tbest: 0.0505806 (12)\ttotal: 80.8ms\tremaining: 1.01s\n",
            "13:\tlearn: 0.0488185\ttest: 0.0505805\tbest: 0.0505805 (13)\ttotal: 85.6ms\tremaining: 985ms\n",
            "14:\tlearn: 0.0487405\ttest: 0.0505209\tbest: 0.0505209 (14)\ttotal: 91.3ms\tremaining: 974ms\n",
            "15:\tlearn: 0.0462145\ttest: 0.0488196\tbest: 0.0488196 (15)\ttotal: 96.7ms\tremaining: 961ms\n",
            "16:\tlearn: 0.0441965\ttest: 0.0472437\tbest: 0.0472437 (16)\ttotal: 102ms\tremaining: 950ms\n",
            "17:\tlearn: 0.0430896\ttest: 0.0462928\tbest: 0.0462928 (17)\ttotal: 108ms\tremaining: 939ms\n",
            "18:\tlearn: 0.0430589\ttest: 0.0463074\tbest: 0.0462928 (17)\ttotal: 112ms\tremaining: 922ms\n",
            "19:\tlearn: 0.0420862\ttest: 0.0461337\tbest: 0.0461337 (19)\ttotal: 118ms\tremaining: 914ms\n",
            "20:\tlearn: 0.0419131\ttest: 0.0461789\tbest: 0.0461337 (19)\ttotal: 123ms\tremaining: 904ms\n",
            "21:\tlearn: 0.0400429\ttest: 0.0441235\tbest: 0.0441235 (21)\ttotal: 129ms\tremaining: 895ms\n",
            "22:\tlearn: 0.0380196\ttest: 0.0419136\tbest: 0.0419136 (22)\ttotal: 134ms\tremaining: 888ms\n",
            "23:\tlearn: 0.0374941\ttest: 0.0416007\tbest: 0.0416007 (23)\ttotal: 140ms\tremaining: 881ms\n",
            "24:\tlearn: 0.0374930\ttest: 0.0415956\tbest: 0.0415956 (24)\ttotal: 145ms\tremaining: 869ms\n",
            "25:\tlearn: 0.0363169\ttest: 0.0403142\tbest: 0.0403142 (25)\ttotal: 151ms\tremaining: 863ms\n",
            "26:\tlearn: 0.0355845\ttest: 0.0395988\tbest: 0.0395988 (26)\ttotal: 156ms\tremaining: 857ms\n",
            "27:\tlearn: 0.0355806\ttest: 0.0395987\tbest: 0.0395987 (27)\ttotal: 161ms\tremaining: 848ms\n",
            "28:\tlearn: 0.0353201\ttest: 0.0396531\tbest: 0.0395987 (27)\ttotal: 167ms\tremaining: 841ms\n",
            "29:\tlearn: 0.0337909\ttest: 0.0390059\tbest: 0.0390059 (29)\ttotal: 172ms\tremaining: 833ms\n",
            "30:\tlearn: 0.0329630\ttest: 0.0382069\tbest: 0.0382069 (30)\ttotal: 178ms\tremaining: 826ms\n",
            "31:\tlearn: 0.0325578\ttest: 0.0377696\tbest: 0.0377696 (31)\ttotal: 183ms\tremaining: 819ms\n",
            "32:\tlearn: 0.0315019\ttest: 0.0366331\tbest: 0.0366331 (32)\ttotal: 189ms\tremaining: 813ms\n",
            "33:\tlearn: 0.0315016\ttest: 0.0366318\tbest: 0.0366318 (33)\ttotal: 194ms\tremaining: 803ms\n",
            "34:\tlearn: 0.0310022\ttest: 0.0366668\tbest: 0.0366318 (33)\ttotal: 199ms\tremaining: 798ms\n",
            "35:\tlearn: 0.0309455\ttest: 0.0366236\tbest: 0.0366236 (35)\ttotal: 208ms\tremaining: 803ms\n",
            "36:\tlearn: 0.0301157\ttest: 0.0361524\tbest: 0.0361524 (36)\ttotal: 214ms\tremaining: 797ms\n",
            "37:\tlearn: 0.0296984\ttest: 0.0364712\tbest: 0.0361524 (36)\ttotal: 221ms\tremaining: 797ms\n",
            "38:\tlearn: 0.0295458\ttest: 0.0363652\tbest: 0.0361524 (36)\ttotal: 227ms\tremaining: 790ms\n",
            "39:\tlearn: 0.0294512\ttest: 0.0363762\tbest: 0.0361524 (36)\ttotal: 232ms\tremaining: 785ms\n",
            "40:\tlearn: 0.0288714\ttest: 0.0359286\tbest: 0.0359286 (40)\ttotal: 238ms\tremaining: 778ms\n",
            "41:\tlearn: 0.0286563\ttest: 0.0360327\tbest: 0.0359286 (40)\ttotal: 244ms\tremaining: 772ms\n",
            "42:\tlearn: 0.0286562\ttest: 0.0360326\tbest: 0.0359286 (40)\ttotal: 249ms\tremaining: 763ms\n",
            "43:\tlearn: 0.0283559\ttest: 0.0360998\tbest: 0.0359286 (40)\ttotal: 254ms\tremaining: 757ms\n",
            "44:\tlearn: 0.0282393\ttest: 0.0363560\tbest: 0.0359286 (40)\ttotal: 260ms\tremaining: 750ms\n",
            "45:\tlearn: 0.0271093\ttest: 0.0358212\tbest: 0.0358212 (45)\ttotal: 265ms\tremaining: 744ms\n",
            "46:\tlearn: 0.0270583\ttest: 0.0358398\tbest: 0.0358212 (45)\ttotal: 271ms\tremaining: 738ms\n",
            "47:\tlearn: 0.0270579\ttest: 0.0358388\tbest: 0.0358212 (45)\ttotal: 276ms\tremaining: 730ms\n",
            "48:\tlearn: 0.0268616\ttest: 0.0360189\tbest: 0.0358212 (45)\ttotal: 281ms\tremaining: 723ms\n",
            "49:\tlearn: 0.0268616\ttest: 0.0360189\tbest: 0.0358212 (45)\ttotal: 286ms\tremaining: 715ms\n",
            "50:\tlearn: 0.0259298\ttest: 0.0355153\tbest: 0.0355153 (50)\ttotal: 292ms\tremaining: 710ms\n",
            "51:\tlearn: 0.0257409\ttest: 0.0352867\tbest: 0.0352867 (51)\ttotal: 298ms\tremaining: 704ms\n",
            "52:\tlearn: 0.0247437\ttest: 0.0340950\tbest: 0.0340950 (52)\ttotal: 303ms\tremaining: 698ms\n",
            "53:\tlearn: 0.0239603\ttest: 0.0332198\tbest: 0.0332198 (53)\ttotal: 309ms\tremaining: 691ms\n",
            "54:\tlearn: 0.0237903\ttest: 0.0332229\tbest: 0.0332198 (53)\ttotal: 314ms\tremaining: 685ms\n",
            "55:\tlearn: 0.0237899\ttest: 0.0332230\tbest: 0.0332198 (53)\ttotal: 319ms\tremaining: 678ms\n",
            "56:\tlearn: 0.0237898\ttest: 0.0332227\tbest: 0.0332198 (53)\ttotal: 324ms\tremaining: 671ms\n",
            "57:\tlearn: 0.0237892\ttest: 0.0332218\tbest: 0.0332198 (53)\ttotal: 329ms\tremaining: 664ms\n",
            "58:\tlearn: 0.0237837\ttest: 0.0332225\tbest: 0.0332198 (53)\ttotal: 334ms\tremaining: 657ms\n",
            "59:\tlearn: 0.0237837\ttest: 0.0332225\tbest: 0.0332198 (53)\ttotal: 339ms\tremaining: 649ms\n",
            "60:\tlearn: 0.0236504\ttest: 0.0334767\tbest: 0.0332198 (53)\ttotal: 345ms\tremaining: 644ms\n",
            "61:\tlearn: 0.0236504\ttest: 0.0334767\tbest: 0.0332198 (53)\ttotal: 350ms\tremaining: 637ms\n",
            "62:\tlearn: 0.0234517\ttest: 0.0334256\tbest: 0.0332198 (53)\ttotal: 355ms\tremaining: 632ms\n",
            "63:\tlearn: 0.0233631\ttest: 0.0334659\tbest: 0.0332198 (53)\ttotal: 360ms\tremaining: 625ms\n",
            "64:\tlearn: 0.0231114\ttest: 0.0338581\tbest: 0.0332198 (53)\ttotal: 366ms\tremaining: 619ms\n",
            "65:\tlearn: 0.0231113\ttest: 0.0338584\tbest: 0.0332198 (53)\ttotal: 371ms\tremaining: 612ms\n",
            "66:\tlearn: 0.0231061\ttest: 0.0338480\tbest: 0.0332198 (53)\ttotal: 377ms\tremaining: 608ms\n",
            "67:\tlearn: 0.0227577\ttest: 0.0337937\tbest: 0.0332198 (53)\ttotal: 386ms\tremaining: 608ms\n",
            "68:\tlearn: 0.0221912\ttest: 0.0329754\tbest: 0.0329754 (68)\ttotal: 393ms\tremaining: 603ms\n",
            "69:\tlearn: 0.0221911\ttest: 0.0329750\tbest: 0.0329750 (69)\ttotal: 397ms\tremaining: 596ms\n",
            "70:\tlearn: 0.0221910\ttest: 0.0329749\tbest: 0.0329749 (70)\ttotal: 403ms\tremaining: 590ms\n",
            "71:\tlearn: 0.0221907\ttest: 0.0329742\tbest: 0.0329742 (71)\ttotal: 411ms\tremaining: 588ms\n",
            "72:\tlearn: 0.0221906\ttest: 0.0329741\tbest: 0.0329741 (72)\ttotal: 416ms\tremaining: 581ms\n",
            "73:\tlearn: 0.0221906\ttest: 0.0329740\tbest: 0.0329740 (73)\ttotal: 421ms\tremaining: 574ms\n",
            "74:\tlearn: 0.0211761\ttest: 0.0318788\tbest: 0.0318788 (74)\ttotal: 427ms\tremaining: 569ms\n",
            "75:\tlearn: 0.0211760\ttest: 0.0318788\tbest: 0.0318788 (74)\ttotal: 431ms\tremaining: 562ms\n",
            "76:\tlearn: 0.0211758\ttest: 0.0318792\tbest: 0.0318788 (74)\ttotal: 436ms\tremaining: 555ms\n",
            "77:\tlearn: 0.0211757\ttest: 0.0318790\tbest: 0.0318788 (74)\ttotal: 441ms\tremaining: 549ms\n",
            "78:\tlearn: 0.0211692\ttest: 0.0318795\tbest: 0.0318788 (74)\ttotal: 446ms\tremaining: 543ms\n",
            "79:\tlearn: 0.0211691\ttest: 0.0318796\tbest: 0.0318788 (74)\ttotal: 451ms\tremaining: 536ms\n",
            "80:\tlearn: 0.0211689\ttest: 0.0318797\tbest: 0.0318788 (74)\ttotal: 458ms\tremaining: 531ms\n",
            "81:\tlearn: 0.0210671\ttest: 0.0319120\tbest: 0.0318788 (74)\ttotal: 463ms\tremaining: 525ms\n",
            "82:\tlearn: 0.0210669\ttest: 0.0319099\tbest: 0.0318788 (74)\ttotal: 468ms\tremaining: 519ms\n",
            "83:\tlearn: 0.0210602\ttest: 0.0319109\tbest: 0.0318788 (74)\ttotal: 473ms\tremaining: 513ms\n",
            "84:\tlearn: 0.0210581\ttest: 0.0318947\tbest: 0.0318788 (74)\ttotal: 478ms\tremaining: 507ms\n",
            "85:\tlearn: 0.0209626\ttest: 0.0319238\tbest: 0.0318788 (74)\ttotal: 485ms\tremaining: 502ms\n",
            "86:\tlearn: 0.0204691\ttest: 0.0308206\tbest: 0.0308206 (86)\ttotal: 491ms\tremaining: 496ms\n",
            "87:\tlearn: 0.0203214\ttest: 0.0305863\tbest: 0.0305863 (87)\ttotal: 496ms\tremaining: 490ms\n",
            "88:\tlearn: 0.0203213\ttest: 0.0305863\tbest: 0.0305863 (87)\ttotal: 501ms\tremaining: 484ms\n",
            "89:\tlearn: 0.0203213\ttest: 0.0305863\tbest: 0.0305863 (87)\ttotal: 506ms\tremaining: 478ms\n",
            "90:\tlearn: 0.0203202\ttest: 0.0305856\tbest: 0.0305856 (90)\ttotal: 511ms\tremaining: 472ms\n",
            "91:\tlearn: 0.0202807\ttest: 0.0305905\tbest: 0.0305856 (90)\ttotal: 517ms\tremaining: 466ms\n",
            "92:\tlearn: 0.0198670\ttest: 0.0304879\tbest: 0.0304879 (92)\ttotal: 522ms\tremaining: 460ms\n",
            "93:\tlearn: 0.0198669\ttest: 0.0304875\tbest: 0.0304875 (93)\ttotal: 527ms\tremaining: 454ms\n",
            "94:\tlearn: 0.0198668\ttest: 0.0304876\tbest: 0.0304875 (93)\ttotal: 532ms\tremaining: 448ms\n",
            "95:\tlearn: 0.0196649\ttest: 0.0305371\tbest: 0.0304875 (93)\ttotal: 537ms\tremaining: 442ms\n",
            "96:\tlearn: 0.0196646\ttest: 0.0305363\tbest: 0.0304875 (93)\ttotal: 542ms\tremaining: 436ms\n",
            "97:\tlearn: 0.0196646\ttest: 0.0305363\tbest: 0.0304875 (93)\ttotal: 547ms\tremaining: 430ms\n",
            "98:\tlearn: 0.0196297\ttest: 0.0305916\tbest: 0.0304875 (93)\ttotal: 552ms\tremaining: 424ms\n",
            "99:\tlearn: 0.0196288\ttest: 0.0305905\tbest: 0.0304875 (93)\ttotal: 557ms\tremaining: 418ms\n",
            "100:\tlearn: 0.0194262\ttest: 0.0305700\tbest: 0.0304875 (93)\ttotal: 563ms\tremaining: 412ms\n",
            "101:\tlearn: 0.0193908\ttest: 0.0306379\tbest: 0.0304875 (93)\ttotal: 568ms\tremaining: 406ms\n",
            "102:\tlearn: 0.0193908\ttest: 0.0306378\tbest: 0.0304875 (93)\ttotal: 572ms\tremaining: 400ms\n",
            "103:\tlearn: 0.0193825\ttest: 0.0306253\tbest: 0.0304875 (93)\ttotal: 578ms\tremaining: 394ms\n",
            "104:\tlearn: 0.0193746\ttest: 0.0306166\tbest: 0.0304875 (93)\ttotal: 583ms\tremaining: 389ms\n",
            "105:\tlearn: 0.0193745\ttest: 0.0306165\tbest: 0.0304875 (93)\ttotal: 588ms\tremaining: 383ms\n",
            "106:\tlearn: 0.0193744\ttest: 0.0306164\tbest: 0.0304875 (93)\ttotal: 593ms\tremaining: 377ms\n",
            "107:\tlearn: 0.0193743\ttest: 0.0306162\tbest: 0.0304875 (93)\ttotal: 598ms\tremaining: 371ms\n",
            "108:\tlearn: 0.0193729\ttest: 0.0306142\tbest: 0.0304875 (93)\ttotal: 603ms\tremaining: 365ms\n",
            "109:\tlearn: 0.0193721\ttest: 0.0306140\tbest: 0.0304875 (93)\ttotal: 613ms\tremaining: 362ms\n",
            "110:\tlearn: 0.0193719\ttest: 0.0306144\tbest: 0.0304875 (93)\ttotal: 618ms\tremaining: 356ms\n",
            "111:\tlearn: 0.0193439\ttest: 0.0306342\tbest: 0.0304875 (93)\ttotal: 623ms\tremaining: 350ms\n",
            "112:\tlearn: 0.0189775\ttest: 0.0311969\tbest: 0.0304875 (93)\ttotal: 629ms\tremaining: 345ms\n",
            "113:\tlearn: 0.0189774\ttest: 0.0311968\tbest: 0.0304875 (93)\ttotal: 634ms\tremaining: 339ms\n",
            "114:\tlearn: 0.0189774\ttest: 0.0311971\tbest: 0.0304875 (93)\ttotal: 638ms\tremaining: 333ms\n",
            "115:\tlearn: 0.0189774\ttest: 0.0311974\tbest: 0.0304875 (93)\ttotal: 643ms\tremaining: 327ms\n",
            "116:\tlearn: 0.0189773\ttest: 0.0311974\tbest: 0.0304875 (93)\ttotal: 648ms\tremaining: 321ms\n",
            "117:\tlearn: 0.0189770\ttest: 0.0311982\tbest: 0.0304875 (93)\ttotal: 653ms\tremaining: 316ms\n",
            "118:\tlearn: 0.0189552\ttest: 0.0311942\tbest: 0.0304875 (93)\ttotal: 659ms\tremaining: 310ms\n",
            "119:\tlearn: 0.0189550\ttest: 0.0311937\tbest: 0.0304875 (93)\ttotal: 664ms\tremaining: 304ms\n",
            "120:\tlearn: 0.0187950\ttest: 0.0310955\tbest: 0.0304875 (93)\ttotal: 670ms\tremaining: 299ms\n",
            "121:\tlearn: 0.0187949\ttest: 0.0310956\tbest: 0.0304875 (93)\ttotal: 674ms\tremaining: 293ms\n",
            "122:\tlearn: 0.0187948\ttest: 0.0310956\tbest: 0.0304875 (93)\ttotal: 680ms\tremaining: 287ms\n",
            "123:\tlearn: 0.0183935\ttest: 0.0313144\tbest: 0.0304875 (93)\ttotal: 686ms\tremaining: 282ms\n",
            "124:\tlearn: 0.0177801\ttest: 0.0307807\tbest: 0.0304875 (93)\ttotal: 691ms\tremaining: 277ms\n",
            "125:\tlearn: 0.0177224\ttest: 0.0307420\tbest: 0.0304875 (93)\ttotal: 697ms\tremaining: 271ms\n",
            "126:\tlearn: 0.0177224\ttest: 0.0307420\tbest: 0.0304875 (93)\ttotal: 701ms\tremaining: 265ms\n",
            "127:\tlearn: 0.0176129\ttest: 0.0307883\tbest: 0.0304875 (93)\ttotal: 707ms\tremaining: 260ms\n",
            "128:\tlearn: 0.0176125\ttest: 0.0307874\tbest: 0.0304875 (93)\ttotal: 715ms\tremaining: 255ms\n",
            "129:\tlearn: 0.0176113\ttest: 0.0307834\tbest: 0.0304875 (93)\ttotal: 720ms\tremaining: 249ms\n",
            "130:\tlearn: 0.0174288\ttest: 0.0305755\tbest: 0.0304875 (93)\ttotal: 726ms\tremaining: 244ms\n",
            "131:\tlearn: 0.0173399\ttest: 0.0306562\tbest: 0.0304875 (93)\ttotal: 731ms\tremaining: 238ms\n",
            "132:\tlearn: 0.0172644\ttest: 0.0307237\tbest: 0.0304875 (93)\ttotal: 736ms\tremaining: 233ms\n",
            "133:\tlearn: 0.0172486\ttest: 0.0307333\tbest: 0.0304875 (93)\ttotal: 741ms\tremaining: 227ms\n",
            "134:\tlearn: 0.0171161\ttest: 0.0309010\tbest: 0.0304875 (93)\ttotal: 747ms\tremaining: 221ms\n",
            "135:\tlearn: 0.0169657\ttest: 0.0307806\tbest: 0.0304875 (93)\ttotal: 752ms\tremaining: 216ms\n",
            "136:\tlearn: 0.0169657\ttest: 0.0307806\tbest: 0.0304875 (93)\ttotal: 757ms\tremaining: 210ms\n",
            "137:\tlearn: 0.0167600\ttest: 0.0313105\tbest: 0.0304875 (93)\ttotal: 763ms\tremaining: 205ms\n",
            "138:\tlearn: 0.0166073\ttest: 0.0313550\tbest: 0.0304875 (93)\ttotal: 768ms\tremaining: 199ms\n",
            "139:\tlearn: 0.0165052\ttest: 0.0315593\tbest: 0.0304875 (93)\ttotal: 774ms\tremaining: 193ms\n",
            "140:\tlearn: 0.0163062\ttest: 0.0314813\tbest: 0.0304875 (93)\ttotal: 780ms\tremaining: 188ms\n",
            "141:\tlearn: 0.0158296\ttest: 0.0316687\tbest: 0.0304875 (93)\ttotal: 785ms\tremaining: 183ms\n",
            "142:\tlearn: 0.0156786\ttest: 0.0316693\tbest: 0.0304875 (93)\ttotal: 791ms\tremaining: 177ms\n",
            "143:\tlearn: 0.0156140\ttest: 0.0316733\tbest: 0.0304875 (93)\ttotal: 796ms\tremaining: 171ms\n",
            "144:\tlearn: 0.0154605\ttest: 0.0316540\tbest: 0.0304875 (93)\ttotal: 802ms\tremaining: 166ms\n",
            "145:\tlearn: 0.0152860\ttest: 0.0316272\tbest: 0.0304875 (93)\ttotal: 808ms\tremaining: 160ms\n",
            "146:\tlearn: 0.0151575\ttest: 0.0315262\tbest: 0.0304875 (93)\ttotal: 819ms\tremaining: 156ms\n",
            "147:\tlearn: 0.0150601\ttest: 0.0314928\tbest: 0.0304875 (93)\ttotal: 824ms\tremaining: 150ms\n",
            "148:\tlearn: 0.0150597\ttest: 0.0314930\tbest: 0.0304875 (93)\ttotal: 829ms\tremaining: 145ms\n",
            "149:\tlearn: 0.0150595\ttest: 0.0314930\tbest: 0.0304875 (93)\ttotal: 834ms\tremaining: 139ms\n",
            "150:\tlearn: 0.0150592\ttest: 0.0314922\tbest: 0.0304875 (93)\ttotal: 839ms\tremaining: 133ms\n",
            "151:\tlearn: 0.0149759\ttest: 0.0313822\tbest: 0.0304875 (93)\ttotal: 845ms\tremaining: 128ms\n",
            "152:\tlearn: 0.0144662\ttest: 0.0305809\tbest: 0.0304875 (93)\ttotal: 850ms\tremaining: 122ms\n",
            "153:\tlearn: 0.0142763\ttest: 0.0304539\tbest: 0.0304539 (153)\ttotal: 856ms\tremaining: 117ms\n",
            "154:\tlearn: 0.0142763\ttest: 0.0304539\tbest: 0.0304539 (153)\ttotal: 861ms\tremaining: 111ms\n",
            "155:\tlearn: 0.0142763\ttest: 0.0304541\tbest: 0.0304539 (153)\ttotal: 865ms\tremaining: 105ms\n",
            "156:\tlearn: 0.0142760\ttest: 0.0304545\tbest: 0.0304539 (153)\ttotal: 870ms\tremaining: 99.8ms\n",
            "157:\tlearn: 0.0142759\ttest: 0.0304544\tbest: 0.0304539 (153)\ttotal: 875ms\tremaining: 94.2ms\n",
            "158:\tlearn: 0.0142757\ttest: 0.0304549\tbest: 0.0304539 (153)\ttotal: 880ms\tremaining: 88.6ms\n",
            "159:\tlearn: 0.0142754\ttest: 0.0304555\tbest: 0.0304539 (153)\ttotal: 885ms\tremaining: 83ms\n",
            "160:\tlearn: 0.0142753\ttest: 0.0304558\tbest: 0.0304539 (153)\ttotal: 890ms\tremaining: 77.4ms\n",
            "161:\tlearn: 0.0140142\ttest: 0.0308100\tbest: 0.0304539 (153)\ttotal: 896ms\tremaining: 71.9ms\n",
            "162:\tlearn: 0.0140142\ttest: 0.0308100\tbest: 0.0304539 (153)\ttotal: 900ms\tremaining: 66.3ms\n",
            "163:\tlearn: 0.0134594\ttest: 0.0296528\tbest: 0.0296528 (163)\ttotal: 907ms\tremaining: 60.8ms\n",
            "164:\tlearn: 0.0134593\ttest: 0.0296532\tbest: 0.0296528 (163)\ttotal: 912ms\tremaining: 55.3ms\n",
            "165:\tlearn: 0.0134592\ttest: 0.0296534\tbest: 0.0296528 (163)\ttotal: 917ms\tremaining: 49.7ms\n",
            "166:\tlearn: 0.0134590\ttest: 0.0296544\tbest: 0.0296528 (163)\ttotal: 922ms\tremaining: 44.2ms\n",
            "167:\tlearn: 0.0134588\ttest: 0.0296553\tbest: 0.0296528 (163)\ttotal: 927ms\tremaining: 38.6ms\n",
            "168:\tlearn: 0.0134587\ttest: 0.0296557\tbest: 0.0296528 (163)\ttotal: 932ms\tremaining: 33.1ms\n",
            "169:\tlearn: 0.0134512\ttest: 0.0296700\tbest: 0.0296528 (163)\ttotal: 937ms\tremaining: 27.6ms\n",
            "170:\tlearn: 0.0134511\ttest: 0.0296700\tbest: 0.0296528 (163)\ttotal: 942ms\tremaining: 22ms\n",
            "171:\tlearn: 0.0130718\ttest: 0.0296280\tbest: 0.0296280 (171)\ttotal: 954ms\tremaining: 16.6ms\n",
            "172:\tlearn: 0.0130718\ttest: 0.0296282\tbest: 0.0296280 (171)\ttotal: 959ms\tremaining: 11.1ms\n",
            "173:\tlearn: 0.0129220\ttest: 0.0295320\tbest: 0.0295320 (173)\ttotal: 965ms\tremaining: 5.54ms\n",
            "174:\tlearn: 0.0129219\ttest: 0.0295332\tbest: 0.0295320 (173)\ttotal: 970ms\tremaining: 0us\n",
            "\n",
            "bestTest = 0.02953203772\n",
            "bestIteration = 173\n",
            "\n",
            "0:\tlearn: 0.4779746\ttest: 0.4839404\tbest: 0.4839404 (0)\ttotal: 8.57ms\tremaining: 1.49s\n",
            "1:\tlearn: 0.3425158\ttest: 0.3501085\tbest: 0.3501085 (1)\ttotal: 16.8ms\tremaining: 1.46s\n",
            "2:\tlearn: 0.2698004\ttest: 0.2794584\tbest: 0.2794584 (2)\ttotal: 25.7ms\tremaining: 1.48s\n",
            "3:\tlearn: 0.2066212\ttest: 0.2142533\tbest: 0.2142533 (3)\ttotal: 33.8ms\tremaining: 1.45s\n",
            "4:\tlearn: 0.1721678\ttest: 0.1787943\tbest: 0.1787943 (4)\ttotal: 41.6ms\tremaining: 1.41s\n",
            "5:\tlearn: 0.1483847\ttest: 0.1540724\tbest: 0.1540724 (5)\ttotal: 55ms\tremaining: 1.55s\n",
            "6:\tlearn: 0.1279803\ttest: 0.1329767\tbest: 0.1329767 (6)\ttotal: 63ms\tremaining: 1.51s\n",
            "7:\tlearn: 0.1153743\ttest: 0.1193784\tbest: 0.1193784 (7)\ttotal: 70.9ms\tremaining: 1.48s\n",
            "8:\tlearn: 0.1049474\ttest: 0.1078216\tbest: 0.1078216 (8)\ttotal: 79.1ms\tremaining: 1.46s\n",
            "9:\tlearn: 0.0975628\ttest: 0.1001439\tbest: 0.1001439 (9)\ttotal: 87.1ms\tremaining: 1.44s\n",
            "10:\tlearn: 0.0899520\ttest: 0.0922280\tbest: 0.0922280 (10)\ttotal: 95.5ms\tremaining: 1.42s\n",
            "11:\tlearn: 0.0843992\ttest: 0.0865933\tbest: 0.0865933 (11)\ttotal: 104ms\tremaining: 1.41s\n",
            "12:\tlearn: 0.0808615\ttest: 0.0832506\tbest: 0.0832506 (12)\ttotal: 112ms\tremaining: 1.39s\n",
            "13:\tlearn: 0.0767940\ttest: 0.0783114\tbest: 0.0783114 (13)\ttotal: 120ms\tremaining: 1.38s\n",
            "14:\tlearn: 0.0732266\ttest: 0.0744451\tbest: 0.0744451 (14)\ttotal: 128ms\tremaining: 1.36s\n",
            "15:\tlearn: 0.0701474\ttest: 0.0714578\tbest: 0.0714578 (15)\ttotal: 136ms\tremaining: 1.35s\n",
            "16:\tlearn: 0.0682644\ttest: 0.0701170\tbest: 0.0701170 (16)\ttotal: 144ms\tremaining: 1.34s\n",
            "17:\tlearn: 0.0656801\ttest: 0.0674143\tbest: 0.0674143 (17)\ttotal: 152ms\tremaining: 1.32s\n",
            "18:\tlearn: 0.0637538\ttest: 0.0660167\tbest: 0.0660167 (18)\ttotal: 160ms\tremaining: 1.31s\n",
            "19:\tlearn: 0.0626573\ttest: 0.0653331\tbest: 0.0653331 (19)\ttotal: 168ms\tremaining: 1.3s\n",
            "20:\tlearn: 0.0610639\ttest: 0.0634259\tbest: 0.0634259 (20)\ttotal: 176ms\tremaining: 1.29s\n",
            "21:\tlearn: 0.0592547\ttest: 0.0617007\tbest: 0.0617007 (21)\ttotal: 184ms\tremaining: 1.28s\n",
            "22:\tlearn: 0.0570372\ttest: 0.0593001\tbest: 0.0593001 (22)\ttotal: 192ms\tremaining: 1.27s\n",
            "23:\tlearn: 0.0562672\ttest: 0.0585671\tbest: 0.0585671 (23)\ttotal: 200ms\tremaining: 1.26s\n",
            "24:\tlearn: 0.0561560\ttest: 0.0584963\tbest: 0.0584963 (24)\ttotal: 208ms\tremaining: 1.25s\n",
            "25:\tlearn: 0.0553645\ttest: 0.0575767\tbest: 0.0575767 (25)\ttotal: 216ms\tremaining: 1.24s\n",
            "26:\tlearn: 0.0542667\ttest: 0.0561155\tbest: 0.0561155 (26)\ttotal: 224ms\tremaining: 1.23s\n",
            "27:\tlearn: 0.0534730\ttest: 0.0556963\tbest: 0.0556963 (27)\ttotal: 238ms\tremaining: 1.25s\n",
            "28:\tlearn: 0.0526803\ttest: 0.0548288\tbest: 0.0548288 (28)\ttotal: 246ms\tremaining: 1.24s\n",
            "29:\tlearn: 0.0523848\ttest: 0.0547091\tbest: 0.0547091 (29)\ttotal: 254ms\tremaining: 1.23s\n",
            "30:\tlearn: 0.0513435\ttest: 0.0537060\tbest: 0.0537060 (30)\ttotal: 265ms\tremaining: 1.23s\n",
            "31:\tlearn: 0.0502510\ttest: 0.0525339\tbest: 0.0525339 (31)\ttotal: 273ms\tremaining: 1.22s\n",
            "32:\tlearn: 0.0499637\ttest: 0.0525262\tbest: 0.0525262 (32)\ttotal: 281ms\tremaining: 1.21s\n",
            "33:\tlearn: 0.0494086\ttest: 0.0519329\tbest: 0.0519329 (33)\ttotal: 289ms\tremaining: 1.2s\n",
            "34:\tlearn: 0.0476094\ttest: 0.0500059\tbest: 0.0500059 (34)\ttotal: 297ms\tremaining: 1.19s\n",
            "35:\tlearn: 0.0472040\ttest: 0.0500640\tbest: 0.0500059 (34)\ttotal: 304ms\tremaining: 1.18s\n",
            "36:\tlearn: 0.0469665\ttest: 0.0500296\tbest: 0.0500059 (34)\ttotal: 313ms\tremaining: 1.17s\n",
            "37:\tlearn: 0.0465799\ttest: 0.0500409\tbest: 0.0500059 (34)\ttotal: 321ms\tremaining: 1.16s\n",
            "38:\tlearn: 0.0454344\ttest: 0.0483651\tbest: 0.0483651 (38)\ttotal: 328ms\tremaining: 1.15s\n",
            "39:\tlearn: 0.0448690\ttest: 0.0477463\tbest: 0.0477463 (39)\ttotal: 336ms\tremaining: 1.13s\n",
            "40:\tlearn: 0.0447690\ttest: 0.0476611\tbest: 0.0476611 (40)\ttotal: 344ms\tremaining: 1.13s\n",
            "41:\tlearn: 0.0445579\ttest: 0.0475687\tbest: 0.0475687 (41)\ttotal: 352ms\tremaining: 1.11s\n",
            "42:\tlearn: 0.0443585\ttest: 0.0475084\tbest: 0.0475084 (42)\ttotal: 360ms\tremaining: 1.1s\n",
            "43:\tlearn: 0.0442452\ttest: 0.0474924\tbest: 0.0474924 (43)\ttotal: 368ms\tremaining: 1.09s\n",
            "44:\tlearn: 0.0440374\ttest: 0.0475033\tbest: 0.0474924 (43)\ttotal: 375ms\tremaining: 1.08s\n",
            "45:\tlearn: 0.0437820\ttest: 0.0474295\tbest: 0.0474295 (45)\ttotal: 384ms\tremaining: 1.08s\n",
            "46:\tlearn: 0.0436545\ttest: 0.0473690\tbest: 0.0473690 (46)\ttotal: 391ms\tremaining: 1.06s\n",
            "47:\tlearn: 0.0427424\ttest: 0.0468802\tbest: 0.0468802 (47)\ttotal: 399ms\tremaining: 1.06s\n",
            "48:\tlearn: 0.0420654\ttest: 0.0465182\tbest: 0.0465182 (48)\ttotal: 412ms\tremaining: 1.06s\n",
            "49:\tlearn: 0.0414649\ttest: 0.0461147\tbest: 0.0461147 (49)\ttotal: 421ms\tremaining: 1.05s\n",
            "50:\tlearn: 0.0414649\ttest: 0.0461147\tbest: 0.0461147 (49)\ttotal: 425ms\tremaining: 1.03s\n",
            "51:\tlearn: 0.0409990\ttest: 0.0459591\tbest: 0.0459591 (51)\ttotal: 434ms\tremaining: 1.02s\n",
            "52:\tlearn: 0.0398628\ttest: 0.0446017\tbest: 0.0446017 (52)\ttotal: 442ms\tremaining: 1.02s\n",
            "53:\tlearn: 0.0397573\ttest: 0.0445875\tbest: 0.0445875 (53)\ttotal: 450ms\tremaining: 1.01s\n",
            "54:\tlearn: 0.0392077\ttest: 0.0440279\tbest: 0.0440279 (54)\ttotal: 463ms\tremaining: 1.01s\n",
            "55:\tlearn: 0.0390207\ttest: 0.0439790\tbest: 0.0439790 (55)\ttotal: 473ms\tremaining: 1s\n",
            "56:\tlearn: 0.0388980\ttest: 0.0438982\tbest: 0.0438982 (56)\ttotal: 483ms\tremaining: 999ms\n",
            "57:\tlearn: 0.0386418\ttest: 0.0437797\tbest: 0.0437797 (57)\ttotal: 490ms\tremaining: 989ms\n",
            "58:\tlearn: 0.0382048\ttest: 0.0434098\tbest: 0.0434098 (58)\ttotal: 498ms\tremaining: 980ms\n",
            "59:\tlearn: 0.0379029\ttest: 0.0433863\tbest: 0.0433863 (59)\ttotal: 506ms\tremaining: 970ms\n",
            "60:\tlearn: 0.0374555\ttest: 0.0428684\tbest: 0.0428684 (60)\ttotal: 514ms\tremaining: 960ms\n",
            "61:\tlearn: 0.0369537\ttest: 0.0423322\tbest: 0.0423322 (61)\ttotal: 522ms\tremaining: 951ms\n",
            "62:\tlearn: 0.0367372\ttest: 0.0421990\tbest: 0.0421990 (62)\ttotal: 530ms\tremaining: 941ms\n",
            "63:\tlearn: 0.0365092\ttest: 0.0422023\tbest: 0.0421990 (62)\ttotal: 537ms\tremaining: 932ms\n",
            "64:\tlearn: 0.0363806\ttest: 0.0421195\tbest: 0.0421195 (64)\ttotal: 546ms\tremaining: 924ms\n",
            "65:\tlearn: 0.0361928\ttest: 0.0420194\tbest: 0.0420194 (65)\ttotal: 554ms\tremaining: 914ms\n",
            "66:\tlearn: 0.0360847\ttest: 0.0420490\tbest: 0.0420194 (65)\ttotal: 561ms\tremaining: 905ms\n",
            "67:\tlearn: 0.0358791\ttest: 0.0421397\tbest: 0.0420194 (65)\ttotal: 569ms\tremaining: 896ms\n",
            "68:\tlearn: 0.0358202\ttest: 0.0421887\tbest: 0.0420194 (65)\ttotal: 577ms\tremaining: 887ms\n",
            "69:\tlearn: 0.0354010\ttest: 0.0420367\tbest: 0.0420194 (65)\ttotal: 585ms\tremaining: 878ms\n",
            "70:\tlearn: 0.0352003\ttest: 0.0420600\tbest: 0.0420194 (65)\ttotal: 593ms\tremaining: 869ms\n",
            "71:\tlearn: 0.0348381\ttest: 0.0418081\tbest: 0.0418081 (71)\ttotal: 601ms\tremaining: 860ms\n",
            "72:\tlearn: 0.0346250\ttest: 0.0418256\tbest: 0.0418081 (71)\ttotal: 609ms\tremaining: 851ms\n",
            "73:\tlearn: 0.0339098\ttest: 0.0412558\tbest: 0.0412558 (73)\ttotal: 617ms\tremaining: 842ms\n",
            "74:\tlearn: 0.0337728\ttest: 0.0412870\tbest: 0.0412558 (73)\ttotal: 625ms\tremaining: 834ms\n",
            "75:\tlearn: 0.0337118\ttest: 0.0412927\tbest: 0.0412558 (73)\ttotal: 633ms\tremaining: 825ms\n",
            "76:\tlearn: 0.0332452\ttest: 0.0406719\tbest: 0.0406719 (76)\ttotal: 642ms\tremaining: 817ms\n",
            "77:\tlearn: 0.0327971\ttest: 0.0402982\tbest: 0.0402982 (77)\ttotal: 649ms\tremaining: 808ms\n",
            "78:\tlearn: 0.0323925\ttest: 0.0401121\tbest: 0.0401121 (78)\ttotal: 657ms\tremaining: 799ms\n",
            "79:\tlearn: 0.0321877\ttest: 0.0399781\tbest: 0.0399781 (79)\ttotal: 671ms\tremaining: 797ms\n",
            "80:\tlearn: 0.0321543\ttest: 0.0399796\tbest: 0.0399781 (79)\ttotal: 679ms\tremaining: 788ms\n",
            "81:\tlearn: 0.0314550\ttest: 0.0395549\tbest: 0.0395549 (81)\ttotal: 687ms\tremaining: 780ms\n",
            "82:\tlearn: 0.0313538\ttest: 0.0395486\tbest: 0.0395486 (82)\ttotal: 695ms\tremaining: 771ms\n",
            "83:\tlearn: 0.0312817\ttest: 0.0395558\tbest: 0.0395486 (82)\ttotal: 704ms\tremaining: 762ms\n",
            "84:\tlearn: 0.0307888\ttest: 0.0391674\tbest: 0.0391674 (84)\ttotal: 712ms\tremaining: 754ms\n",
            "85:\tlearn: 0.0305913\ttest: 0.0391406\tbest: 0.0391406 (85)\ttotal: 720ms\tremaining: 745ms\n",
            "86:\tlearn: 0.0299813\ttest: 0.0384697\tbest: 0.0384697 (86)\ttotal: 733ms\tremaining: 742ms\n",
            "87:\tlearn: 0.0296941\ttest: 0.0382791\tbest: 0.0382791 (87)\ttotal: 742ms\tremaining: 733ms\n",
            "88:\tlearn: 0.0293255\ttest: 0.0377626\tbest: 0.0377626 (88)\ttotal: 750ms\tremaining: 724ms\n",
            "89:\tlearn: 0.0287998\ttest: 0.0371398\tbest: 0.0371398 (89)\ttotal: 758ms\tremaining: 716ms\n",
            "90:\tlearn: 0.0283713\ttest: 0.0366834\tbest: 0.0366834 (90)\ttotal: 766ms\tremaining: 707ms\n",
            "91:\tlearn: 0.0281085\ttest: 0.0365300\tbest: 0.0365300 (91)\ttotal: 774ms\tremaining: 698ms\n",
            "92:\tlearn: 0.0279688\ttest: 0.0366111\tbest: 0.0365300 (91)\ttotal: 781ms\tremaining: 689ms\n",
            "93:\tlearn: 0.0278813\ttest: 0.0366385\tbest: 0.0365300 (91)\ttotal: 789ms\tremaining: 680ms\n",
            "94:\tlearn: 0.0277830\ttest: 0.0366073\tbest: 0.0365300 (91)\ttotal: 797ms\tremaining: 671ms\n",
            "95:\tlearn: 0.0273106\ttest: 0.0360777\tbest: 0.0360777 (95)\ttotal: 805ms\tremaining: 662ms\n",
            "96:\tlearn: 0.0269208\ttest: 0.0359043\tbest: 0.0359043 (96)\ttotal: 813ms\tremaining: 654ms\n",
            "97:\tlearn: 0.0268929\ttest: 0.0358994\tbest: 0.0358994 (97)\ttotal: 820ms\tremaining: 645ms\n",
            "98:\tlearn: 0.0266781\ttest: 0.0356575\tbest: 0.0356575 (98)\ttotal: 831ms\tremaining: 638ms\n",
            "99:\tlearn: 0.0266030\ttest: 0.0356276\tbest: 0.0356276 (99)\ttotal: 839ms\tremaining: 629ms\n",
            "100:\tlearn: 0.0263033\ttest: 0.0353096\tbest: 0.0353096 (100)\ttotal: 847ms\tremaining: 620ms\n",
            "101:\tlearn: 0.0258546\ttest: 0.0350184\tbest: 0.0350184 (101)\ttotal: 855ms\tremaining: 612ms\n",
            "102:\tlearn: 0.0252618\ttest: 0.0345774\tbest: 0.0345774 (102)\ttotal: 863ms\tremaining: 603ms\n",
            "103:\tlearn: 0.0247994\ttest: 0.0340946\tbest: 0.0340946 (103)\ttotal: 877ms\tremaining: 599ms\n",
            "104:\tlearn: 0.0242632\ttest: 0.0337424\tbest: 0.0337424 (104)\ttotal: 885ms\tremaining: 590ms\n",
            "105:\tlearn: 0.0236705\ttest: 0.0329351\tbest: 0.0329351 (105)\ttotal: 893ms\tremaining: 581ms\n",
            "106:\tlearn: 0.0234195\ttest: 0.0326901\tbest: 0.0326901 (106)\ttotal: 901ms\tremaining: 573ms\n",
            "107:\tlearn: 0.0232129\ttest: 0.0327475\tbest: 0.0326901 (106)\ttotal: 909ms\tremaining: 564ms\n",
            "108:\tlearn: 0.0228308\ttest: 0.0325299\tbest: 0.0325299 (108)\ttotal: 917ms\tremaining: 555ms\n",
            "109:\tlearn: 0.0227125\ttest: 0.0325811\tbest: 0.0325299 (108)\ttotal: 925ms\tremaining: 547ms\n",
            "110:\tlearn: 0.0224573\ttest: 0.0323201\tbest: 0.0323201 (110)\ttotal: 933ms\tremaining: 538ms\n",
            "111:\tlearn: 0.0222219\ttest: 0.0320877\tbest: 0.0320877 (111)\ttotal: 941ms\tremaining: 529ms\n",
            "112:\tlearn: 0.0216801\ttest: 0.0317027\tbest: 0.0317027 (112)\ttotal: 949ms\tremaining: 521ms\n",
            "113:\tlearn: 0.0215160\ttest: 0.0317029\tbest: 0.0317027 (112)\ttotal: 957ms\tremaining: 512ms\n",
            "114:\tlearn: 0.0210889\ttest: 0.0312716\tbest: 0.0312716 (114)\ttotal: 965ms\tremaining: 503ms\n",
            "115:\tlearn: 0.0209756\ttest: 0.0311469\tbest: 0.0311469 (115)\ttotal: 972ms\tremaining: 495ms\n",
            "116:\tlearn: 0.0209408\ttest: 0.0311733\tbest: 0.0311469 (115)\ttotal: 980ms\tremaining: 486ms\n",
            "117:\tlearn: 0.0205447\ttest: 0.0308129\tbest: 0.0308129 (117)\ttotal: 988ms\tremaining: 477ms\n",
            "118:\tlearn: 0.0203101\ttest: 0.0307447\tbest: 0.0307447 (118)\ttotal: 996ms\tremaining: 469ms\n",
            "119:\tlearn: 0.0201370\ttest: 0.0304729\tbest: 0.0304729 (119)\ttotal: 1s\tremaining: 460ms\n",
            "120:\tlearn: 0.0199430\ttest: 0.0305578\tbest: 0.0304729 (119)\ttotal: 1.01s\tremaining: 452ms\n",
            "121:\tlearn: 0.0196250\ttest: 0.0304324\tbest: 0.0304324 (121)\ttotal: 1.02s\tremaining: 443ms\n",
            "122:\tlearn: 0.0195402\ttest: 0.0304381\tbest: 0.0304324 (121)\ttotal: 1.03s\tremaining: 435ms\n",
            "123:\tlearn: 0.0192500\ttest: 0.0303181\tbest: 0.0303181 (123)\ttotal: 1.04s\tremaining: 426ms\n",
            "124:\tlearn: 0.0191281\ttest: 0.0302486\tbest: 0.0302486 (124)\ttotal: 1.04s\tremaining: 418ms\n",
            "125:\tlearn: 0.0187967\ttest: 0.0299753\tbest: 0.0299753 (125)\ttotal: 1.05s\tremaining: 409ms\n",
            "126:\tlearn: 0.0186415\ttest: 0.0299055\tbest: 0.0299055 (126)\ttotal: 1.06s\tremaining: 401ms\n",
            "127:\tlearn: 0.0184135\ttest: 0.0299013\tbest: 0.0299013 (127)\ttotal: 1.07s\tremaining: 392ms\n",
            "128:\tlearn: 0.0182704\ttest: 0.0296180\tbest: 0.0296180 (128)\ttotal: 1.08s\tremaining: 384ms\n",
            "129:\tlearn: 0.0180764\ttest: 0.0295678\tbest: 0.0295678 (129)\ttotal: 1.09s\tremaining: 376ms\n",
            "130:\tlearn: 0.0178508\ttest: 0.0294849\tbest: 0.0294849 (130)\ttotal: 1.09s\tremaining: 368ms\n",
            "131:\tlearn: 0.0177366\ttest: 0.0295509\tbest: 0.0294849 (130)\ttotal: 1.1s\tremaining: 360ms\n",
            "132:\tlearn: 0.0174977\ttest: 0.0293918\tbest: 0.0293918 (132)\ttotal: 1.11s\tremaining: 351ms\n",
            "133:\tlearn: 0.0172375\ttest: 0.0291135\tbest: 0.0291135 (133)\ttotal: 1.12s\tremaining: 343ms\n",
            "134:\tlearn: 0.0168980\ttest: 0.0286499\tbest: 0.0286499 (134)\ttotal: 1.13s\tremaining: 334ms\n",
            "135:\tlearn: 0.0164805\ttest: 0.0282062\tbest: 0.0282062 (135)\ttotal: 1.14s\tremaining: 326ms\n",
            "136:\tlearn: 0.0164109\ttest: 0.0281653\tbest: 0.0281653 (136)\ttotal: 1.14s\tremaining: 317ms\n",
            "137:\tlearn: 0.0162384\ttest: 0.0279012\tbest: 0.0279012 (137)\ttotal: 1.15s\tremaining: 309ms\n",
            "138:\tlearn: 0.0162101\ttest: 0.0278916\tbest: 0.0278916 (138)\ttotal: 1.16s\tremaining: 300ms\n",
            "139:\tlearn: 0.0159914\ttest: 0.0276041\tbest: 0.0276041 (139)\ttotal: 1.17s\tremaining: 292ms\n",
            "140:\tlearn: 0.0158066\ttest: 0.0272851\tbest: 0.0272851 (140)\ttotal: 1.18s\tremaining: 284ms\n",
            "141:\tlearn: 0.0157566\ttest: 0.0272514\tbest: 0.0272514 (141)\ttotal: 1.19s\tremaining: 275ms\n",
            "142:\tlearn: 0.0156741\ttest: 0.0272978\tbest: 0.0272514 (141)\ttotal: 1.19s\tremaining: 267ms\n",
            "143:\tlearn: 0.0155137\ttest: 0.0271436\tbest: 0.0271436 (143)\ttotal: 1.2s\tremaining: 259ms\n",
            "144:\tlearn: 0.0151802\ttest: 0.0268560\tbest: 0.0268560 (144)\ttotal: 1.21s\tremaining: 250ms\n",
            "145:\tlearn: 0.0151488\ttest: 0.0267983\tbest: 0.0267983 (145)\ttotal: 1.22s\tremaining: 242ms\n",
            "146:\tlearn: 0.0149916\ttest: 0.0266347\tbest: 0.0266347 (146)\ttotal: 1.23s\tremaining: 234ms\n",
            "147:\tlearn: 0.0149476\ttest: 0.0266470\tbest: 0.0266347 (146)\ttotal: 1.24s\tremaining: 225ms\n",
            "148:\tlearn: 0.0148847\ttest: 0.0266371\tbest: 0.0266347 (146)\ttotal: 1.24s\tremaining: 217ms\n",
            "149:\tlearn: 0.0146916\ttest: 0.0262102\tbest: 0.0262102 (149)\ttotal: 1.25s\tremaining: 209ms\n",
            "150:\tlearn: 0.0145732\ttest: 0.0261465\tbest: 0.0261465 (150)\ttotal: 1.26s\tremaining: 200ms\n",
            "151:\tlearn: 0.0143859\ttest: 0.0259869\tbest: 0.0259869 (151)\ttotal: 1.27s\tremaining: 192ms\n",
            "152:\tlearn: 0.0140572\ttest: 0.0258382\tbest: 0.0258382 (152)\ttotal: 1.27s\tremaining: 183ms\n",
            "153:\tlearn: 0.0139920\ttest: 0.0258005\tbest: 0.0258005 (153)\ttotal: 1.29s\tremaining: 176ms\n",
            "154:\tlearn: 0.0138494\ttest: 0.0257629\tbest: 0.0257629 (154)\ttotal: 1.29s\tremaining: 167ms\n",
            "155:\tlearn: 0.0137374\ttest: 0.0255759\tbest: 0.0255759 (155)\ttotal: 1.3s\tremaining: 159ms\n",
            "156:\tlearn: 0.0135783\ttest: 0.0255645\tbest: 0.0255645 (156)\ttotal: 1.31s\tremaining: 150ms\n",
            "157:\tlearn: 0.0135267\ttest: 0.0255544\tbest: 0.0255544 (157)\ttotal: 1.32s\tremaining: 142ms\n",
            "158:\tlearn: 0.0134209\ttest: 0.0255733\tbest: 0.0255544 (157)\ttotal: 1.33s\tremaining: 134ms\n",
            "159:\tlearn: 0.0133460\ttest: 0.0255576\tbest: 0.0255544 (157)\ttotal: 1.33s\tremaining: 125ms\n",
            "160:\tlearn: 0.0131624\ttest: 0.0255064\tbest: 0.0255064 (160)\ttotal: 1.34s\tremaining: 117ms\n",
            "161:\tlearn: 0.0128419\ttest: 0.0251361\tbest: 0.0251361 (161)\ttotal: 1.35s\tremaining: 108ms\n",
            "162:\tlearn: 0.0127968\ttest: 0.0251589\tbest: 0.0251361 (161)\ttotal: 1.36s\tremaining: 100ms\n",
            "163:\tlearn: 0.0126889\ttest: 0.0250070\tbest: 0.0250070 (163)\ttotal: 1.37s\tremaining: 91.7ms\n",
            "164:\tlearn: 0.0126063\ttest: 0.0250072\tbest: 0.0250070 (163)\ttotal: 1.38s\tremaining: 83.4ms\n",
            "165:\tlearn: 0.0125391\ttest: 0.0249253\tbest: 0.0249253 (165)\ttotal: 1.38s\tremaining: 75ms\n",
            "166:\tlearn: 0.0124653\ttest: 0.0249362\tbest: 0.0249253 (165)\ttotal: 1.39s\tremaining: 66.6ms\n",
            "167:\tlearn: 0.0123863\ttest: 0.0249598\tbest: 0.0249253 (165)\ttotal: 1.4s\tremaining: 58.3ms\n",
            "168:\tlearn: 0.0123607\ttest: 0.0249567\tbest: 0.0249253 (165)\ttotal: 1.42s\tremaining: 50.3ms\n",
            "169:\tlearn: 0.0121604\ttest: 0.0250298\tbest: 0.0249253 (165)\ttotal: 1.43s\tremaining: 42ms\n",
            "170:\tlearn: 0.0120814\ttest: 0.0249744\tbest: 0.0249253 (165)\ttotal: 1.44s\tremaining: 33.6ms\n",
            "171:\tlearn: 0.0119568\ttest: 0.0249090\tbest: 0.0249090 (171)\ttotal: 1.44s\tremaining: 25.2ms\n",
            "172:\tlearn: 0.0117475\ttest: 0.0249856\tbest: 0.0249090 (171)\ttotal: 1.45s\tremaining: 16.8ms\n",
            "173:\tlearn: 0.0114957\ttest: 0.0248355\tbest: 0.0248355 (173)\ttotal: 1.46s\tremaining: 8.39ms\n",
            "174:\tlearn: 0.0113784\ttest: 0.0248847\tbest: 0.0248355 (173)\ttotal: 1.47s\tremaining: 0us\n",
            "\n",
            "bestTest = 0.02483545403\n",
            "bestIteration = 173\n",
            "\n",
            "0:\tlearn: 0.2071453\ttest: 0.2190615\tbest: 0.2190615 (0)\ttotal: 8.16ms\tremaining: 1.42s\n",
            "1:\tlearn: 0.1142223\ttest: 0.1226072\tbest: 0.1226072 (1)\ttotal: 16.8ms\tremaining: 1.45s\n",
            "2:\tlearn: 0.0887527\ttest: 0.0979105\tbest: 0.0979105 (2)\ttotal: 27.9ms\tremaining: 1.6s\n",
            "3:\tlearn: 0.0716858\ttest: 0.0775266\tbest: 0.0775266 (3)\ttotal: 35.7ms\tremaining: 1.53s\n",
            "4:\tlearn: 0.0653173\ttest: 0.0735975\tbest: 0.0735975 (4)\ttotal: 45.8ms\tremaining: 1.56s\n",
            "5:\tlearn: 0.0587389\ttest: 0.0693053\tbest: 0.0693053 (5)\ttotal: 54.3ms\tremaining: 1.53s\n",
            "6:\tlearn: 0.0533645\ttest: 0.0627229\tbest: 0.0627229 (6)\ttotal: 62.3ms\tremaining: 1.49s\n",
            "7:\tlearn: 0.0502814\ttest: 0.0610946\tbest: 0.0610946 (7)\ttotal: 70.1ms\tremaining: 1.46s\n",
            "8:\tlearn: 0.0467116\ttest: 0.0578352\tbest: 0.0578352 (8)\ttotal: 78ms\tremaining: 1.44s\n",
            "9:\tlearn: 0.0445264\ttest: 0.0561241\tbest: 0.0561241 (9)\ttotal: 86.2ms\tremaining: 1.42s\n",
            "10:\tlearn: 0.0415440\ttest: 0.0518036\tbest: 0.0518036 (10)\ttotal: 94.2ms\tremaining: 1.4s\n",
            "11:\tlearn: 0.0403167\ttest: 0.0521315\tbest: 0.0518036 (10)\ttotal: 102ms\tremaining: 1.39s\n",
            "12:\tlearn: 0.0393520\ttest: 0.0516624\tbest: 0.0516624 (12)\ttotal: 110ms\tremaining: 1.37s\n",
            "13:\tlearn: 0.0382464\ttest: 0.0516329\tbest: 0.0516329 (13)\ttotal: 118ms\tremaining: 1.35s\n",
            "14:\tlearn: 0.0372969\ttest: 0.0508449\tbest: 0.0508449 (14)\ttotal: 125ms\tremaining: 1.34s\n",
            "15:\tlearn: 0.0367256\ttest: 0.0511200\tbest: 0.0508449 (14)\ttotal: 134ms\tremaining: 1.33s\n",
            "16:\tlearn: 0.0364739\ttest: 0.0507677\tbest: 0.0507677 (16)\ttotal: 141ms\tremaining: 1.31s\n",
            "17:\tlearn: 0.0358711\ttest: 0.0503836\tbest: 0.0503836 (17)\ttotal: 149ms\tremaining: 1.3s\n",
            "18:\tlearn: 0.0348404\ttest: 0.0487618\tbest: 0.0487618 (18)\ttotal: 157ms\tremaining: 1.29s\n",
            "19:\tlearn: 0.0341969\ttest: 0.0487181\tbest: 0.0487181 (19)\ttotal: 165ms\tremaining: 1.28s\n",
            "20:\tlearn: 0.0339453\ttest: 0.0485959\tbest: 0.0485959 (20)\ttotal: 173ms\tremaining: 1.27s\n",
            "21:\tlearn: 0.0310464\ttest: 0.0446003\tbest: 0.0446003 (21)\ttotal: 181ms\tremaining: 1.26s\n",
            "22:\tlearn: 0.0308912\ttest: 0.0446464\tbest: 0.0446003 (21)\ttotal: 189ms\tremaining: 1.25s\n",
            "23:\tlearn: 0.0308901\ttest: 0.0446498\tbest: 0.0446003 (21)\ttotal: 193ms\tremaining: 1.21s\n",
            "24:\tlearn: 0.0308900\ttest: 0.0446497\tbest: 0.0446003 (21)\ttotal: 200ms\tremaining: 1.2s\n",
            "25:\tlearn: 0.0280333\ttest: 0.0407620\tbest: 0.0407620 (25)\ttotal: 208ms\tremaining: 1.19s\n",
            "26:\tlearn: 0.0267893\ttest: 0.0398794\tbest: 0.0398794 (26)\ttotal: 217ms\tremaining: 1.19s\n",
            "27:\tlearn: 0.0255950\ttest: 0.0379039\tbest: 0.0379039 (27)\ttotal: 232ms\tremaining: 1.22s\n",
            "28:\tlearn: 0.0255267\ttest: 0.0379458\tbest: 0.0379039 (27)\ttotal: 241ms\tremaining: 1.21s\n",
            "29:\tlearn: 0.0247883\ttest: 0.0374049\tbest: 0.0374049 (29)\ttotal: 249ms\tremaining: 1.21s\n",
            "30:\tlearn: 0.0230839\ttest: 0.0361214\tbest: 0.0361214 (30)\ttotal: 257ms\tremaining: 1.2s\n",
            "31:\tlearn: 0.0229425\ttest: 0.0363447\tbest: 0.0361214 (30)\ttotal: 265ms\tremaining: 1.18s\n",
            "32:\tlearn: 0.0216080\ttest: 0.0347439\tbest: 0.0347439 (32)\ttotal: 273ms\tremaining: 1.17s\n",
            "33:\tlearn: 0.0213002\ttest: 0.0345273\tbest: 0.0345273 (33)\ttotal: 281ms\tremaining: 1.16s\n",
            "34:\tlearn: 0.0209960\ttest: 0.0344773\tbest: 0.0344773 (34)\ttotal: 289ms\tremaining: 1.16s\n",
            "35:\tlearn: 0.0209850\ttest: 0.0344521\tbest: 0.0344521 (35)\ttotal: 296ms\tremaining: 1.14s\n",
            "36:\tlearn: 0.0200216\ttest: 0.0324772\tbest: 0.0324772 (36)\ttotal: 304ms\tremaining: 1.13s\n",
            "37:\tlearn: 0.0194088\ttest: 0.0318895\tbest: 0.0318895 (37)\ttotal: 312ms\tremaining: 1.13s\n",
            "38:\tlearn: 0.0187571\ttest: 0.0317157\tbest: 0.0317157 (38)\ttotal: 320ms\tremaining: 1.12s\n",
            "39:\tlearn: 0.0178350\ttest: 0.0299382\tbest: 0.0299382 (39)\ttotal: 328ms\tremaining: 1.11s\n",
            "40:\tlearn: 0.0175258\ttest: 0.0305555\tbest: 0.0299382 (39)\ttotal: 336ms\tremaining: 1.1s\n",
            "41:\tlearn: 0.0172128\ttest: 0.0307310\tbest: 0.0299382 (39)\ttotal: 343ms\tremaining: 1.09s\n",
            "42:\tlearn: 0.0167612\ttest: 0.0303344\tbest: 0.0299382 (39)\ttotal: 351ms\tremaining: 1.08s\n",
            "43:\tlearn: 0.0160310\ttest: 0.0292119\tbest: 0.0292119 (43)\ttotal: 359ms\tremaining: 1.07s\n",
            "44:\tlearn: 0.0156727\ttest: 0.0291860\tbest: 0.0291860 (44)\ttotal: 367ms\tremaining: 1.06s\n",
            "45:\tlearn: 0.0150318\ttest: 0.0285511\tbest: 0.0285511 (45)\ttotal: 375ms\tremaining: 1.05s\n",
            "46:\tlearn: 0.0142847\ttest: 0.0277546\tbest: 0.0277546 (46)\ttotal: 383ms\tremaining: 1.04s\n",
            "47:\tlearn: 0.0142846\ttest: 0.0277546\tbest: 0.0277546 (46)\ttotal: 390ms\tremaining: 1.03s\n",
            "48:\tlearn: 0.0142843\ttest: 0.0277544\tbest: 0.0277544 (48)\ttotal: 397ms\tremaining: 1.02s\n",
            "49:\tlearn: 0.0142006\ttest: 0.0275867\tbest: 0.0275867 (49)\ttotal: 406ms\tremaining: 1.01s\n",
            "50:\tlearn: 0.0139504\ttest: 0.0278774\tbest: 0.0275867 (49)\ttotal: 413ms\tremaining: 1s\n",
            "51:\tlearn: 0.0136344\ttest: 0.0273902\tbest: 0.0273902 (51)\ttotal: 421ms\tremaining: 996ms\n",
            "52:\tlearn: 0.0135756\ttest: 0.0275245\tbest: 0.0273902 (51)\ttotal: 429ms\tremaining: 987ms\n",
            "53:\tlearn: 0.0132393\ttest: 0.0278182\tbest: 0.0273902 (51)\ttotal: 442ms\tremaining: 991ms\n",
            "54:\tlearn: 0.0131671\ttest: 0.0277460\tbest: 0.0273902 (51)\ttotal: 450ms\tremaining: 981ms\n",
            "55:\tlearn: 0.0131349\ttest: 0.0278728\tbest: 0.0273902 (51)\ttotal: 457ms\tremaining: 972ms\n",
            "56:\tlearn: 0.0129212\ttest: 0.0278722\tbest: 0.0273902 (51)\ttotal: 465ms\tremaining: 963ms\n",
            "57:\tlearn: 0.0123194\ttest: 0.0268504\tbest: 0.0268504 (57)\ttotal: 478ms\tremaining: 964ms\n",
            "58:\tlearn: 0.0120369\ttest: 0.0267641\tbest: 0.0267641 (58)\ttotal: 486ms\tremaining: 955ms\n",
            "59:\tlearn: 0.0114586\ttest: 0.0262113\tbest: 0.0262113 (59)\ttotal: 494ms\tremaining: 947ms\n",
            "60:\tlearn: 0.0113211\ttest: 0.0262130\tbest: 0.0262113 (59)\ttotal: 502ms\tremaining: 938ms\n",
            "61:\tlearn: 0.0113210\ttest: 0.0262129\tbest: 0.0262113 (59)\ttotal: 509ms\tremaining: 928ms\n",
            "62:\tlearn: 0.0112262\ttest: 0.0261417\tbest: 0.0261417 (62)\ttotal: 517ms\tremaining: 919ms\n",
            "63:\tlearn: 0.0107028\ttest: 0.0255613\tbest: 0.0255613 (63)\ttotal: 525ms\tremaining: 911ms\n",
            "64:\tlearn: 0.0104836\ttest: 0.0256071\tbest: 0.0255613 (63)\ttotal: 534ms\tremaining: 903ms\n",
            "65:\tlearn: 0.0102226\ttest: 0.0258740\tbest: 0.0255613 (63)\ttotal: 542ms\tremaining: 895ms\n",
            "66:\tlearn: 0.0099053\ttest: 0.0258035\tbest: 0.0255613 (63)\ttotal: 553ms\tremaining: 892ms\n",
            "67:\tlearn: 0.0095092\ttest: 0.0248605\tbest: 0.0248605 (67)\ttotal: 562ms\tremaining: 884ms\n",
            "68:\tlearn: 0.0093891\ttest: 0.0247072\tbest: 0.0247072 (68)\ttotal: 569ms\tremaining: 875ms\n",
            "69:\tlearn: 0.0092940\ttest: 0.0248149\tbest: 0.0247072 (68)\ttotal: 577ms\tremaining: 866ms\n",
            "70:\tlearn: 0.0092473\ttest: 0.0247395\tbest: 0.0247072 (68)\ttotal: 585ms\tremaining: 857ms\n",
            "71:\tlearn: 0.0090143\ttest: 0.0244889\tbest: 0.0244889 (71)\ttotal: 593ms\tremaining: 849ms\n",
            "72:\tlearn: 0.0088936\ttest: 0.0243863\tbest: 0.0243863 (72)\ttotal: 601ms\tremaining: 840ms\n",
            "73:\tlearn: 0.0087998\ttest: 0.0243176\tbest: 0.0243176 (73)\ttotal: 609ms\tremaining: 832ms\n",
            "74:\tlearn: 0.0084366\ttest: 0.0230133\tbest: 0.0230133 (74)\ttotal: 617ms\tremaining: 823ms\n",
            "75:\tlearn: 0.0083698\ttest: 0.0230528\tbest: 0.0230133 (74)\ttotal: 626ms\tremaining: 815ms\n",
            "76:\tlearn: 0.0083698\ttest: 0.0230528\tbest: 0.0230133 (74)\ttotal: 638ms\tremaining: 812ms\n",
            "77:\tlearn: 0.0082785\ttest: 0.0232248\tbest: 0.0230133 (74)\ttotal: 652ms\tremaining: 811ms\n",
            "78:\tlearn: 0.0081367\ttest: 0.0233615\tbest: 0.0230133 (74)\ttotal: 661ms\tremaining: 803ms\n",
            "79:\tlearn: 0.0080213\ttest: 0.0231778\tbest: 0.0230133 (74)\ttotal: 669ms\tremaining: 794ms\n",
            "80:\tlearn: 0.0077083\ttest: 0.0231804\tbest: 0.0230133 (74)\ttotal: 676ms\tremaining: 785ms\n",
            "81:\tlearn: 0.0076513\ttest: 0.0230695\tbest: 0.0230133 (74)\ttotal: 684ms\tremaining: 775ms\n",
            "82:\tlearn: 0.0076512\ttest: 0.0230681\tbest: 0.0230133 (74)\ttotal: 691ms\tremaining: 765ms\n",
            "83:\tlearn: 0.0076511\ttest: 0.0230676\tbest: 0.0230133 (74)\ttotal: 698ms\tremaining: 756ms\n",
            "84:\tlearn: 0.0076509\ttest: 0.0230674\tbest: 0.0230133 (74)\ttotal: 705ms\tremaining: 747ms\n",
            "85:\tlearn: 0.0076509\ttest: 0.0230674\tbest: 0.0230133 (74)\ttotal: 712ms\tremaining: 737ms\n",
            "86:\tlearn: 0.0076507\ttest: 0.0230680\tbest: 0.0230133 (74)\ttotal: 719ms\tremaining: 728ms\n",
            "87:\tlearn: 0.0075804\ttest: 0.0231817\tbest: 0.0230133 (74)\ttotal: 727ms\tremaining: 719ms\n",
            "88:\tlearn: 0.0075803\ttest: 0.0231820\tbest: 0.0230133 (74)\ttotal: 734ms\tremaining: 710ms\n",
            "89:\tlearn: 0.0074837\ttest: 0.0232037\tbest: 0.0230133 (74)\ttotal: 747ms\tremaining: 705ms\n",
            "90:\tlearn: 0.0074835\ttest: 0.0232028\tbest: 0.0230133 (74)\ttotal: 755ms\tremaining: 697ms\n",
            "91:\tlearn: 0.0071554\ttest: 0.0229075\tbest: 0.0229075 (91)\ttotal: 763ms\tremaining: 689ms\n",
            "92:\tlearn: 0.0071554\ttest: 0.0229076\tbest: 0.0229075 (91)\ttotal: 770ms\tremaining: 679ms\n",
            "93:\tlearn: 0.0070872\ttest: 0.0228574\tbest: 0.0228574 (93)\ttotal: 778ms\tremaining: 670ms\n",
            "94:\tlearn: 0.0068234\ttest: 0.0227323\tbest: 0.0227323 (94)\ttotal: 786ms\tremaining: 662ms\n",
            "95:\tlearn: 0.0067621\ttest: 0.0227859\tbest: 0.0227323 (94)\ttotal: 793ms\tremaining: 653ms\n",
            "96:\tlearn: 0.0067621\ttest: 0.0227860\tbest: 0.0227323 (94)\ttotal: 800ms\tremaining: 644ms\n",
            "97:\tlearn: 0.0067620\ttest: 0.0227861\tbest: 0.0227323 (94)\ttotal: 808ms\tremaining: 635ms\n",
            "98:\tlearn: 0.0067033\ttest: 0.0228089\tbest: 0.0227323 (94)\ttotal: 815ms\tremaining: 626ms\n",
            "99:\tlearn: 0.0067032\ttest: 0.0228087\tbest: 0.0227323 (94)\ttotal: 822ms\tremaining: 617ms\n",
            "100:\tlearn: 0.0067031\ttest: 0.0228083\tbest: 0.0227323 (94)\ttotal: 829ms\tremaining: 608ms\n",
            "101:\tlearn: 0.0067031\ttest: 0.0228083\tbest: 0.0227323 (94)\ttotal: 836ms\tremaining: 599ms\n",
            "102:\tlearn: 0.0067031\ttest: 0.0228083\tbest: 0.0227323 (94)\ttotal: 844ms\tremaining: 590ms\n",
            "103:\tlearn: 0.0067031\ttest: 0.0228082\tbest: 0.0227323 (94)\ttotal: 851ms\tremaining: 581ms\n",
            "104:\tlearn: 0.0066790\ttest: 0.0228341\tbest: 0.0227323 (94)\ttotal: 862ms\tremaining: 574ms\n",
            "105:\tlearn: 0.0066790\ttest: 0.0228341\tbest: 0.0227323 (94)\ttotal: 869ms\tremaining: 566ms\n",
            "106:\tlearn: 0.0065383\ttest: 0.0227912\tbest: 0.0227323 (94)\ttotal: 877ms\tremaining: 558ms\n",
            "107:\tlearn: 0.0064246\ttest: 0.0226469\tbest: 0.0226469 (107)\ttotal: 885ms\tremaining: 549ms\n",
            "108:\tlearn: 0.0061539\ttest: 0.0222762\tbest: 0.0222762 (108)\ttotal: 893ms\tremaining: 541ms\n",
            "109:\tlearn: 0.0060349\ttest: 0.0222183\tbest: 0.0222183 (109)\ttotal: 901ms\tremaining: 532ms\n",
            "110:\tlearn: 0.0060347\ttest: 0.0222182\tbest: 0.0222182 (110)\ttotal: 909ms\tremaining: 524ms\n",
            "111:\tlearn: 0.0059743\ttest: 0.0224199\tbest: 0.0222182 (110)\ttotal: 916ms\tremaining: 515ms\n",
            "112:\tlearn: 0.0059743\ttest: 0.0224199\tbest: 0.0222182 (110)\ttotal: 923ms\tremaining: 506ms\n",
            "113:\tlearn: 0.0059742\ttest: 0.0224198\tbest: 0.0222182 (110)\ttotal: 930ms\tremaining: 498ms\n",
            "114:\tlearn: 0.0059741\ttest: 0.0224195\tbest: 0.0222182 (110)\ttotal: 939ms\tremaining: 490ms\n",
            "115:\tlearn: 0.0057117\ttest: 0.0215853\tbest: 0.0215853 (115)\ttotal: 952ms\tremaining: 484ms\n",
            "116:\tlearn: 0.0057116\ttest: 0.0215852\tbest: 0.0215852 (116)\ttotal: 959ms\tremaining: 475ms\n",
            "117:\tlearn: 0.0057116\ttest: 0.0215855\tbest: 0.0215852 (116)\ttotal: 966ms\tremaining: 467ms\n",
            "118:\tlearn: 0.0057114\ttest: 0.0215886\tbest: 0.0215852 (116)\ttotal: 973ms\tremaining: 458ms\n",
            "119:\tlearn: 0.0057092\ttest: 0.0215815\tbest: 0.0215815 (119)\ttotal: 980ms\tremaining: 449ms\n",
            "120:\tlearn: 0.0057092\ttest: 0.0215815\tbest: 0.0215815 (120)\ttotal: 987ms\tremaining: 441ms\n",
            "121:\tlearn: 0.0057092\ttest: 0.0215816\tbest: 0.0215815 (120)\ttotal: 995ms\tremaining: 432ms\n",
            "122:\tlearn: 0.0057091\ttest: 0.0215815\tbest: 0.0215815 (122)\ttotal: 1s\tremaining: 423ms\n",
            "123:\tlearn: 0.0057090\ttest: 0.0215817\tbest: 0.0215815 (122)\ttotal: 1.01s\tremaining: 415ms\n",
            "124:\tlearn: 0.0057089\ttest: 0.0215816\tbest: 0.0215815 (122)\ttotal: 1.01s\tremaining: 406ms\n",
            "125:\tlearn: 0.0057089\ttest: 0.0215815\tbest: 0.0215815 (122)\ttotal: 1.02s\tremaining: 398ms\n",
            "126:\tlearn: 0.0057089\ttest: 0.0215815\tbest: 0.0215815 (126)\ttotal: 1.03s\tremaining: 389ms\n",
            "127:\tlearn: 0.0057089\ttest: 0.0215815\tbest: 0.0215815 (126)\ttotal: 1.04s\tremaining: 381ms\n",
            "128:\tlearn: 0.0057089\ttest: 0.0215818\tbest: 0.0215815 (126)\ttotal: 1.04s\tremaining: 372ms\n",
            "129:\tlearn: 0.0057088\ttest: 0.0215816\tbest: 0.0215815 (126)\ttotal: 1.05s\tremaining: 364ms\n",
            "130:\tlearn: 0.0057088\ttest: 0.0215817\tbest: 0.0215815 (126)\ttotal: 1.06s\tremaining: 356ms\n",
            "131:\tlearn: 0.0057087\ttest: 0.0215814\tbest: 0.0215814 (131)\ttotal: 1.07s\tremaining: 349ms\n",
            "132:\tlearn: 0.0057086\ttest: 0.0215814\tbest: 0.0215814 (132)\ttotal: 1.08s\tremaining: 341ms\n",
            "133:\tlearn: 0.0057084\ttest: 0.0215802\tbest: 0.0215802 (133)\ttotal: 1.09s\tremaining: 333ms\n",
            "134:\tlearn: 0.0057080\ttest: 0.0215803\tbest: 0.0215802 (133)\ttotal: 1.09s\tremaining: 324ms\n",
            "135:\tlearn: 0.0057079\ttest: 0.0215799\tbest: 0.0215799 (135)\ttotal: 1.1s\tremaining: 316ms\n",
            "136:\tlearn: 0.0057079\ttest: 0.0215797\tbest: 0.0215797 (136)\ttotal: 1.11s\tremaining: 307ms\n",
            "137:\tlearn: 0.0056004\ttest: 0.0212956\tbest: 0.0212956 (137)\ttotal: 1.12s\tremaining: 299ms\n",
            "138:\tlearn: 0.0056003\ttest: 0.0212951\tbest: 0.0212951 (138)\ttotal: 1.12s\tremaining: 291ms\n",
            "139:\tlearn: 0.0055949\ttest: 0.0212929\tbest: 0.0212929 (139)\ttotal: 1.13s\tremaining: 283ms\n",
            "140:\tlearn: 0.0055948\ttest: 0.0212929\tbest: 0.0212929 (139)\ttotal: 1.14s\tremaining: 275ms\n",
            "141:\tlearn: 0.0055948\ttest: 0.0212929\tbest: 0.0212929 (139)\ttotal: 1.15s\tremaining: 267ms\n",
            "142:\tlearn: 0.0055948\ttest: 0.0212929\tbest: 0.0212929 (142)\ttotal: 1.16s\tremaining: 259ms\n",
            "143:\tlearn: 0.0055945\ttest: 0.0212894\tbest: 0.0212894 (143)\ttotal: 1.16s\tremaining: 250ms\n",
            "144:\tlearn: 0.0055945\ttest: 0.0212893\tbest: 0.0212893 (144)\ttotal: 1.17s\tremaining: 242ms\n",
            "145:\tlearn: 0.0055944\ttest: 0.0212897\tbest: 0.0212893 (144)\ttotal: 1.18s\tremaining: 234ms\n",
            "146:\tlearn: 0.0055943\ttest: 0.0212903\tbest: 0.0212893 (144)\ttotal: 1.19s\tremaining: 226ms\n",
            "147:\tlearn: 0.0055943\ttest: 0.0212901\tbest: 0.0212893 (144)\ttotal: 1.19s\tremaining: 218ms\n",
            "148:\tlearn: 0.0055943\ttest: 0.0212901\tbest: 0.0212893 (144)\ttotal: 1.2s\tremaining: 209ms\n",
            "149:\tlearn: 0.0055926\ttest: 0.0212787\tbest: 0.0212787 (149)\ttotal: 1.21s\tremaining: 201ms\n",
            "150:\tlearn: 0.0055925\ttest: 0.0212789\tbest: 0.0212787 (149)\ttotal: 1.21s\tremaining: 193ms\n",
            "151:\tlearn: 0.0055925\ttest: 0.0212788\tbest: 0.0212787 (149)\ttotal: 1.22s\tremaining: 185ms\n",
            "152:\tlearn: 0.0055925\ttest: 0.0212788\tbest: 0.0212787 (149)\ttotal: 1.23s\tremaining: 177ms\n",
            "153:\tlearn: 0.0054686\ttest: 0.0215058\tbest: 0.0212787 (149)\ttotal: 1.24s\tremaining: 169ms\n",
            "154:\tlearn: 0.0054686\ttest: 0.0215054\tbest: 0.0212787 (149)\ttotal: 1.24s\tremaining: 161ms\n",
            "155:\tlearn: 0.0054685\ttest: 0.0215055\tbest: 0.0212787 (149)\ttotal: 1.25s\tremaining: 152ms\n",
            "156:\tlearn: 0.0054685\ttest: 0.0215053\tbest: 0.0212787 (149)\ttotal: 1.26s\tremaining: 144ms\n",
            "157:\tlearn: 0.0054685\ttest: 0.0215052\tbest: 0.0212787 (149)\ttotal: 1.26s\tremaining: 136ms\n",
            "158:\tlearn: 0.0054632\ttest: 0.0215022\tbest: 0.0212787 (149)\ttotal: 1.28s\tremaining: 129ms\n",
            "159:\tlearn: 0.0054631\ttest: 0.0215021\tbest: 0.0212787 (149)\ttotal: 1.29s\tremaining: 121ms\n",
            "160:\tlearn: 0.0054630\ttest: 0.0215021\tbest: 0.0212787 (149)\ttotal: 1.29s\tremaining: 113ms\n",
            "161:\tlearn: 0.0054629\ttest: 0.0215022\tbest: 0.0212787 (149)\ttotal: 1.3s\tremaining: 105ms\n",
            "162:\tlearn: 0.0054629\ttest: 0.0215022\tbest: 0.0212787 (149)\ttotal: 1.31s\tremaining: 96.5ms\n",
            "163:\tlearn: 0.0054627\ttest: 0.0215020\tbest: 0.0212787 (149)\ttotal: 1.32s\tremaining: 88.4ms\n",
            "164:\tlearn: 0.0054626\ttest: 0.0215021\tbest: 0.0212787 (149)\ttotal: 1.32s\tremaining: 80.3ms\n",
            "165:\tlearn: 0.0054626\ttest: 0.0215021\tbest: 0.0212787 (149)\ttotal: 1.33s\tremaining: 72.2ms\n",
            "166:\tlearn: 0.0054625\ttest: 0.0215023\tbest: 0.0212787 (149)\ttotal: 1.34s\tremaining: 64.2ms\n",
            "167:\tlearn: 0.0054625\ttest: 0.0215022\tbest: 0.0212787 (149)\ttotal: 1.35s\tremaining: 56.1ms\n",
            "168:\tlearn: 0.0054596\ttest: 0.0215021\tbest: 0.0212787 (149)\ttotal: 1.35s\tremaining: 48.1ms\n",
            "169:\tlearn: 0.0054596\ttest: 0.0215021\tbest: 0.0212787 (149)\ttotal: 1.36s\tremaining: 40ms\n",
            "170:\tlearn: 0.0054595\ttest: 0.0215019\tbest: 0.0212787 (149)\ttotal: 1.37s\tremaining: 32ms\n",
            "171:\tlearn: 0.0054595\ttest: 0.0215016\tbest: 0.0212787 (149)\ttotal: 1.37s\tremaining: 24ms\n",
            "172:\tlearn: 0.0054594\ttest: 0.0215018\tbest: 0.0212787 (149)\ttotal: 1.38s\tremaining: 16ms\n",
            "173:\tlearn: 0.0054593\ttest: 0.0215008\tbest: 0.0212787 (149)\ttotal: 1.39s\tremaining: 7.98ms\n",
            "174:\tlearn: 0.0054592\ttest: 0.0215011\tbest: 0.0212787 (149)\ttotal: 1.4s\tremaining: 0us\n",
            "\n",
            "bestTest = 0.02127872258\n",
            "bestIteration = 149\n",
            "\n",
            "0:\tlearn: 0.1847448\ttest: 0.1968930\tbest: 0.1968930 (0)\ttotal: 8.43ms\tremaining: 1.47s\n",
            "1:\tlearn: 0.1032141\ttest: 0.1111840\tbest: 0.1111840 (1)\ttotal: 16.9ms\tremaining: 1.46s\n",
            "2:\tlearn: 0.0805992\ttest: 0.0858585\tbest: 0.0858585 (2)\ttotal: 24.9ms\tremaining: 1.43s\n",
            "3:\tlearn: 0.0667059\ttest: 0.0699889\tbest: 0.0699889 (3)\ttotal: 32.9ms\tremaining: 1.4s\n",
            "4:\tlearn: 0.0591390\ttest: 0.0627827\tbest: 0.0627827 (4)\ttotal: 41.1ms\tremaining: 1.4s\n",
            "5:\tlearn: 0.0520554\ttest: 0.0549415\tbest: 0.0549415 (5)\ttotal: 49.2ms\tremaining: 1.39s\n",
            "6:\tlearn: 0.0488039\ttest: 0.0514995\tbest: 0.0514995 (6)\ttotal: 57ms\tremaining: 1.37s\n",
            "7:\tlearn: 0.0456582\ttest: 0.0490205\tbest: 0.0490205 (7)\ttotal: 64.9ms\tremaining: 1.35s\n",
            "8:\tlearn: 0.0427066\ttest: 0.0464575\tbest: 0.0464575 (8)\ttotal: 72.8ms\tremaining: 1.34s\n",
            "9:\tlearn: 0.0413344\ttest: 0.0450575\tbest: 0.0450575 (9)\ttotal: 81.6ms\tremaining: 1.35s\n",
            "10:\tlearn: 0.0400672\ttest: 0.0449406\tbest: 0.0449406 (10)\ttotal: 92.5ms\tremaining: 1.38s\n",
            "11:\tlearn: 0.0399756\ttest: 0.0449286\tbest: 0.0449286 (11)\ttotal: 99.1ms\tremaining: 1.35s\n",
            "12:\tlearn: 0.0391584\ttest: 0.0449465\tbest: 0.0449286 (11)\ttotal: 107ms\tremaining: 1.33s\n",
            "13:\tlearn: 0.0374101\ttest: 0.0435032\tbest: 0.0435032 (13)\ttotal: 116ms\tremaining: 1.33s\n",
            "14:\tlearn: 0.0366263\ttest: 0.0436116\tbest: 0.0435032 (13)\ttotal: 123ms\tremaining: 1.32s\n",
            "15:\tlearn: 0.0361540\ttest: 0.0437533\tbest: 0.0435032 (13)\ttotal: 132ms\tremaining: 1.31s\n",
            "16:\tlearn: 0.0357801\ttest: 0.0435139\tbest: 0.0435032 (13)\ttotal: 139ms\tremaining: 1.3s\n",
            "17:\tlearn: 0.0351276\ttest: 0.0429347\tbest: 0.0429347 (17)\ttotal: 147ms\tremaining: 1.28s\n",
            "18:\tlearn: 0.0351275\ttest: 0.0429359\tbest: 0.0429347 (17)\ttotal: 154ms\tremaining: 1.27s\n",
            "19:\tlearn: 0.0327266\ttest: 0.0384729\tbest: 0.0384729 (19)\ttotal: 162ms\tremaining: 1.26s\n",
            "20:\tlearn: 0.0303882\ttest: 0.0368432\tbest: 0.0368432 (20)\ttotal: 170ms\tremaining: 1.25s\n",
            "21:\tlearn: 0.0303881\ttest: 0.0368433\tbest: 0.0368432 (20)\ttotal: 175ms\tremaining: 1.22s\n",
            "22:\tlearn: 0.0303880\ttest: 0.0368438\tbest: 0.0368432 (20)\ttotal: 183ms\tremaining: 1.21s\n",
            "23:\tlearn: 0.0299179\ttest: 0.0366809\tbest: 0.0366809 (23)\ttotal: 193ms\tremaining: 1.21s\n",
            "24:\tlearn: 0.0276265\ttest: 0.0364682\tbest: 0.0364682 (24)\ttotal: 200ms\tremaining: 1.2s\n",
            "25:\tlearn: 0.0276111\ttest: 0.0364883\tbest: 0.0364682 (24)\ttotal: 208ms\tremaining: 1.19s\n",
            "26:\tlearn: 0.0275465\ttest: 0.0365430\tbest: 0.0364682 (24)\ttotal: 216ms\tremaining: 1.18s\n",
            "27:\tlearn: 0.0271043\ttest: 0.0366091\tbest: 0.0364682 (24)\ttotal: 223ms\tremaining: 1.17s\n",
            "28:\tlearn: 0.0269755\ttest: 0.0366534\tbest: 0.0364682 (24)\ttotal: 231ms\tremaining: 1.16s\n",
            "29:\tlearn: 0.0269754\ttest: 0.0366534\tbest: 0.0364682 (24)\ttotal: 238ms\tremaining: 1.15s\n",
            "30:\tlearn: 0.0269422\ttest: 0.0366784\tbest: 0.0364682 (24)\ttotal: 246ms\tremaining: 1.14s\n",
            "31:\tlearn: 0.0269420\ttest: 0.0366772\tbest: 0.0364682 (24)\ttotal: 253ms\tremaining: 1.13s\n",
            "32:\tlearn: 0.0269136\ttest: 0.0366502\tbest: 0.0364682 (24)\ttotal: 261ms\tremaining: 1.12s\n",
            "33:\tlearn: 0.0269069\ttest: 0.0366422\tbest: 0.0364682 (24)\ttotal: 268ms\tremaining: 1.11s\n",
            "34:\tlearn: 0.0267685\ttest: 0.0365381\tbest: 0.0364682 (24)\ttotal: 276ms\tremaining: 1.1s\n",
            "35:\tlearn: 0.0260285\ttest: 0.0362045\tbest: 0.0362045 (35)\ttotal: 284ms\tremaining: 1.1s\n",
            "36:\tlearn: 0.0260284\ttest: 0.0362047\tbest: 0.0362045 (35)\ttotal: 294ms\tremaining: 1.1s\n",
            "37:\tlearn: 0.0260284\ttest: 0.0362048\tbest: 0.0362045 (35)\ttotal: 301ms\tremaining: 1.08s\n",
            "38:\tlearn: 0.0253860\ttest: 0.0358894\tbest: 0.0358894 (38)\ttotal: 309ms\tremaining: 1.08s\n",
            "39:\tlearn: 0.0253860\ttest: 0.0358896\tbest: 0.0358894 (38)\ttotal: 316ms\tremaining: 1.07s\n",
            "40:\tlearn: 0.0246993\ttest: 0.0355102\tbest: 0.0355102 (40)\ttotal: 324ms\tremaining: 1.06s\n",
            "41:\tlearn: 0.0246993\ttest: 0.0355105\tbest: 0.0355102 (40)\ttotal: 332ms\tremaining: 1.05s\n",
            "42:\tlearn: 0.0246992\ttest: 0.0355108\tbest: 0.0355102 (40)\ttotal: 342ms\tremaining: 1.05s\n",
            "43:\tlearn: 0.0233521\ttest: 0.0340741\tbest: 0.0340741 (43)\ttotal: 350ms\tremaining: 1.04s\n",
            "44:\tlearn: 0.0233520\ttest: 0.0340751\tbest: 0.0340741 (43)\ttotal: 357ms\tremaining: 1.03s\n",
            "45:\tlearn: 0.0226815\ttest: 0.0336599\tbest: 0.0336599 (45)\ttotal: 365ms\tremaining: 1.02s\n",
            "46:\tlearn: 0.0224751\ttest: 0.0337843\tbest: 0.0336599 (45)\ttotal: 373ms\tremaining: 1.01s\n",
            "47:\tlearn: 0.0224749\ttest: 0.0337858\tbest: 0.0336599 (45)\ttotal: 379ms\tremaining: 1s\n",
            "48:\tlearn: 0.0224747\ttest: 0.0337869\tbest: 0.0336599 (45)\ttotal: 387ms\tremaining: 994ms\n",
            "49:\tlearn: 0.0219797\ttest: 0.0324953\tbest: 0.0324953 (49)\ttotal: 395ms\tremaining: 986ms\n",
            "50:\tlearn: 0.0218306\ttest: 0.0323502\tbest: 0.0323502 (50)\ttotal: 403ms\tremaining: 979ms\n",
            "51:\tlearn: 0.0218305\ttest: 0.0323506\tbest: 0.0323502 (50)\ttotal: 409ms\tremaining: 969ms\n",
            "52:\tlearn: 0.0217013\ttest: 0.0322612\tbest: 0.0322612 (52)\ttotal: 417ms\tremaining: 960ms\n",
            "53:\tlearn: 0.0215365\ttest: 0.0321005\tbest: 0.0321005 (53)\ttotal: 425ms\tremaining: 952ms\n",
            "54:\tlearn: 0.0215364\ttest: 0.0321005\tbest: 0.0321005 (53)\ttotal: 432ms\tremaining: 943ms\n",
            "55:\tlearn: 0.0212215\ttest: 0.0318607\tbest: 0.0318607 (55)\ttotal: 445ms\tremaining: 947ms\n",
            "56:\tlearn: 0.0205728\ttest: 0.0317665\tbest: 0.0317665 (56)\ttotal: 453ms\tremaining: 938ms\n",
            "57:\tlearn: 0.0205728\ttest: 0.0317669\tbest: 0.0317665 (56)\ttotal: 460ms\tremaining: 929ms\n",
            "58:\tlearn: 0.0205728\ttest: 0.0317669\tbest: 0.0317665 (56)\ttotal: 467ms\tremaining: 919ms\n",
            "59:\tlearn: 0.0205727\ttest: 0.0317676\tbest: 0.0317665 (56)\ttotal: 474ms\tremaining: 909ms\n",
            "60:\tlearn: 0.0205725\ttest: 0.0317654\tbest: 0.0317654 (60)\ttotal: 482ms\tremaining: 900ms\n",
            "61:\tlearn: 0.0191041\ttest: 0.0299359\tbest: 0.0299359 (61)\ttotal: 496ms\tremaining: 904ms\n",
            "62:\tlearn: 0.0191040\ttest: 0.0299371\tbest: 0.0299359 (61)\ttotal: 503ms\tremaining: 895ms\n",
            "63:\tlearn: 0.0191037\ttest: 0.0299375\tbest: 0.0299359 (61)\ttotal: 511ms\tremaining: 886ms\n",
            "64:\tlearn: 0.0191036\ttest: 0.0299381\tbest: 0.0299359 (61)\ttotal: 518ms\tremaining: 876ms\n",
            "65:\tlearn: 0.0183836\ttest: 0.0292287\tbest: 0.0292287 (65)\ttotal: 526ms\tremaining: 869ms\n",
            "66:\tlearn: 0.0183835\ttest: 0.0292290\tbest: 0.0292287 (65)\ttotal: 533ms\tremaining: 859ms\n",
            "67:\tlearn: 0.0183834\ttest: 0.0292299\tbest: 0.0292287 (65)\ttotal: 547ms\tremaining: 861ms\n",
            "68:\tlearn: 0.0182789\ttest: 0.0293104\tbest: 0.0292287 (65)\ttotal: 557ms\tremaining: 855ms\n",
            "69:\tlearn: 0.0182788\ttest: 0.0293113\tbest: 0.0292287 (65)\ttotal: 564ms\tremaining: 846ms\n",
            "70:\tlearn: 0.0181911\ttest: 0.0293119\tbest: 0.0292287 (65)\ttotal: 572ms\tremaining: 838ms\n",
            "71:\tlearn: 0.0180167\ttest: 0.0295906\tbest: 0.0292287 (65)\ttotal: 580ms\tremaining: 829ms\n",
            "72:\tlearn: 0.0177328\ttest: 0.0294371\tbest: 0.0292287 (65)\ttotal: 587ms\tremaining: 821ms\n",
            "73:\tlearn: 0.0169429\ttest: 0.0278353\tbest: 0.0278353 (73)\ttotal: 596ms\tremaining: 813ms\n",
            "74:\tlearn: 0.0169427\ttest: 0.0278354\tbest: 0.0278353 (73)\ttotal: 603ms\tremaining: 803ms\n",
            "75:\tlearn: 0.0168266\ttest: 0.0280419\tbest: 0.0278353 (73)\ttotal: 610ms\tremaining: 795ms\n",
            "76:\tlearn: 0.0164539\ttest: 0.0279837\tbest: 0.0278353 (73)\ttotal: 618ms\tremaining: 787ms\n",
            "77:\tlearn: 0.0164538\ttest: 0.0279838\tbest: 0.0278353 (73)\ttotal: 626ms\tremaining: 778ms\n",
            "78:\tlearn: 0.0164538\ttest: 0.0279840\tbest: 0.0278353 (73)\ttotal: 633ms\tremaining: 769ms\n",
            "79:\tlearn: 0.0161299\ttest: 0.0271591\tbest: 0.0271591 (79)\ttotal: 641ms\tremaining: 761ms\n",
            "80:\tlearn: 0.0158542\ttest: 0.0272952\tbest: 0.0271591 (79)\ttotal: 649ms\tremaining: 753ms\n",
            "81:\tlearn: 0.0155138\ttest: 0.0270712\tbest: 0.0270712 (81)\ttotal: 657ms\tremaining: 745ms\n",
            "82:\tlearn: 0.0153398\ttest: 0.0269787\tbest: 0.0269787 (82)\ttotal: 665ms\tremaining: 737ms\n",
            "83:\tlearn: 0.0144204\ttest: 0.0267045\tbest: 0.0267045 (83)\ttotal: 672ms\tremaining: 728ms\n",
            "84:\tlearn: 0.0142363\ttest: 0.0269032\tbest: 0.0267045 (83)\ttotal: 680ms\tremaining: 720ms\n",
            "85:\tlearn: 0.0142363\ttest: 0.0269032\tbest: 0.0267045 (83)\ttotal: 687ms\tremaining: 711ms\n",
            "86:\tlearn: 0.0140627\ttest: 0.0269782\tbest: 0.0267045 (83)\ttotal: 696ms\tremaining: 704ms\n",
            "87:\tlearn: 0.0135052\ttest: 0.0257535\tbest: 0.0257535 (87)\ttotal: 709ms\tremaining: 701ms\n",
            "88:\tlearn: 0.0135051\ttest: 0.0257534\tbest: 0.0257534 (88)\ttotal: 718ms\tremaining: 694ms\n",
            "89:\tlearn: 0.0130230\ttest: 0.0251906\tbest: 0.0251906 (89)\ttotal: 726ms\tremaining: 686ms\n",
            "90:\tlearn: 0.0130226\ttest: 0.0251919\tbest: 0.0251906 (89)\ttotal: 733ms\tremaining: 677ms\n",
            "91:\tlearn: 0.0129279\ttest: 0.0252331\tbest: 0.0251906 (89)\ttotal: 741ms\tremaining: 668ms\n",
            "92:\tlearn: 0.0129279\ttest: 0.0252331\tbest: 0.0251906 (89)\ttotal: 748ms\tremaining: 659ms\n",
            "93:\tlearn: 0.0129279\ttest: 0.0252331\tbest: 0.0251906 (89)\ttotal: 755ms\tremaining: 650ms\n",
            "94:\tlearn: 0.0128944\ttest: 0.0251217\tbest: 0.0251217 (94)\ttotal: 762ms\tremaining: 642ms\n",
            "95:\tlearn: 0.0127617\ttest: 0.0251105\tbest: 0.0251105 (95)\ttotal: 770ms\tremaining: 634ms\n",
            "96:\tlearn: 0.0127395\ttest: 0.0250863\tbest: 0.0250863 (96)\ttotal: 777ms\tremaining: 625ms\n",
            "97:\tlearn: 0.0122288\ttest: 0.0242858\tbest: 0.0242858 (97)\ttotal: 785ms\tremaining: 617ms\n",
            "98:\tlearn: 0.0122288\ttest: 0.0242860\tbest: 0.0242858 (97)\ttotal: 793ms\tremaining: 608ms\n",
            "99:\tlearn: 0.0122288\ttest: 0.0242860\tbest: 0.0242858 (97)\ttotal: 800ms\tremaining: 600ms\n",
            "100:\tlearn: 0.0120576\ttest: 0.0242439\tbest: 0.0242439 (100)\ttotal: 808ms\tremaining: 592ms\n",
            "101:\tlearn: 0.0118647\ttest: 0.0243834\tbest: 0.0242439 (100)\ttotal: 816ms\tremaining: 584ms\n",
            "102:\tlearn: 0.0118646\ttest: 0.0243828\tbest: 0.0242439 (100)\ttotal: 823ms\tremaining: 576ms\n",
            "103:\tlearn: 0.0117817\ttest: 0.0244186\tbest: 0.0242439 (100)\ttotal: 831ms\tremaining: 568ms\n",
            "104:\tlearn: 0.0116473\ttest: 0.0242954\tbest: 0.0242439 (100)\ttotal: 839ms\tremaining: 559ms\n",
            "105:\tlearn: 0.0116472\ttest: 0.0242952\tbest: 0.0242439 (100)\ttotal: 846ms\tremaining: 551ms\n",
            "106:\tlearn: 0.0116472\ttest: 0.0242952\tbest: 0.0242439 (100)\ttotal: 853ms\tremaining: 542ms\n",
            "107:\tlearn: 0.0116470\ttest: 0.0242942\tbest: 0.0242439 (100)\ttotal: 860ms\tremaining: 534ms\n",
            "108:\tlearn: 0.0116469\ttest: 0.0242945\tbest: 0.0242439 (100)\ttotal: 867ms\tremaining: 525ms\n",
            "109:\tlearn: 0.0116468\ttest: 0.0242943\tbest: 0.0242439 (100)\ttotal: 875ms\tremaining: 517ms\n",
            "110:\tlearn: 0.0116466\ttest: 0.0242924\tbest: 0.0242439 (100)\ttotal: 882ms\tremaining: 508ms\n",
            "111:\tlearn: 0.0116464\ttest: 0.0242906\tbest: 0.0242439 (100)\ttotal: 889ms\tremaining: 500ms\n",
            "112:\tlearn: 0.0116464\ttest: 0.0242903\tbest: 0.0242439 (100)\ttotal: 896ms\tremaining: 491ms\n",
            "113:\tlearn: 0.0116464\ttest: 0.0242904\tbest: 0.0242439 (100)\ttotal: 903ms\tremaining: 483ms\n",
            "114:\tlearn: 0.0116463\ttest: 0.0242899\tbest: 0.0242439 (100)\ttotal: 917ms\tremaining: 478ms\n",
            "115:\tlearn: 0.0116462\ttest: 0.0242890\tbest: 0.0242439 (100)\ttotal: 925ms\tremaining: 470ms\n",
            "116:\tlearn: 0.0115300\ttest: 0.0241871\tbest: 0.0241871 (116)\ttotal: 934ms\tremaining: 463ms\n",
            "117:\tlearn: 0.0115299\ttest: 0.0241866\tbest: 0.0241866 (117)\ttotal: 941ms\tremaining: 454ms\n",
            "118:\tlearn: 0.0115299\ttest: 0.0241866\tbest: 0.0241866 (118)\ttotal: 948ms\tremaining: 446ms\n",
            "119:\tlearn: 0.0115299\ttest: 0.0241865\tbest: 0.0241865 (119)\ttotal: 955ms\tremaining: 438ms\n",
            "120:\tlearn: 0.0115299\ttest: 0.0241866\tbest: 0.0241865 (119)\ttotal: 962ms\tremaining: 429ms\n",
            "121:\tlearn: 0.0115296\ttest: 0.0241864\tbest: 0.0241864 (121)\ttotal: 970ms\tremaining: 421ms\n",
            "122:\tlearn: 0.0114119\ttest: 0.0243430\tbest: 0.0241864 (121)\ttotal: 977ms\tremaining: 413ms\n",
            "123:\tlearn: 0.0114115\ttest: 0.0243436\tbest: 0.0241864 (121)\ttotal: 984ms\tremaining: 405ms\n",
            "124:\tlearn: 0.0114115\ttest: 0.0243434\tbest: 0.0241864 (121)\ttotal: 991ms\tremaining: 396ms\n",
            "125:\tlearn: 0.0114114\ttest: 0.0243436\tbest: 0.0241864 (121)\ttotal: 999ms\tremaining: 388ms\n",
            "126:\tlearn: 0.0114114\ttest: 0.0243435\tbest: 0.0241864 (121)\ttotal: 1s\tremaining: 380ms\n",
            "127:\tlearn: 0.0113371\ttest: 0.0242512\tbest: 0.0241864 (121)\ttotal: 1.01s\tremaining: 372ms\n",
            "128:\tlearn: 0.0113368\ttest: 0.0242497\tbest: 0.0241864 (121)\ttotal: 1.02s\tremaining: 364ms\n",
            "129:\tlearn: 0.0113367\ttest: 0.0242500\tbest: 0.0241864 (121)\ttotal: 1.03s\tremaining: 356ms\n",
            "130:\tlearn: 0.0113365\ttest: 0.0242489\tbest: 0.0241864 (121)\ttotal: 1.03s\tremaining: 348ms\n",
            "131:\tlearn: 0.0113365\ttest: 0.0242480\tbest: 0.0241864 (121)\ttotal: 1.04s\tremaining: 339ms\n",
            "132:\tlearn: 0.0113363\ttest: 0.0242484\tbest: 0.0241864 (121)\ttotal: 1.05s\tremaining: 331ms\n",
            "133:\tlearn: 0.0111830\ttest: 0.0241885\tbest: 0.0241864 (121)\ttotal: 1.06s\tremaining: 323ms\n",
            "134:\tlearn: 0.0110400\ttest: 0.0240775\tbest: 0.0240775 (134)\ttotal: 1.06s\tremaining: 315ms\n",
            "135:\tlearn: 0.0110399\ttest: 0.0240784\tbest: 0.0240775 (134)\ttotal: 1.07s\tremaining: 307ms\n",
            "136:\tlearn: 0.0110397\ttest: 0.0240781\tbest: 0.0240775 (134)\ttotal: 1.08s\tremaining: 299ms\n",
            "137:\tlearn: 0.0110395\ttest: 0.0240779\tbest: 0.0240775 (134)\ttotal: 1.09s\tremaining: 292ms\n",
            "138:\tlearn: 0.0110394\ttest: 0.0240778\tbest: 0.0240775 (134)\ttotal: 1.1s\tremaining: 284ms\n",
            "139:\tlearn: 0.0110010\ttest: 0.0240705\tbest: 0.0240705 (139)\ttotal: 1.1s\tremaining: 276ms\n",
            "140:\tlearn: 0.0105054\ttest: 0.0233964\tbest: 0.0233964 (140)\ttotal: 1.11s\tremaining: 269ms\n",
            "141:\tlearn: 0.0105054\ttest: 0.0233963\tbest: 0.0233963 (141)\ttotal: 1.13s\tremaining: 262ms\n",
            "142:\tlearn: 0.0105047\ttest: 0.0233959\tbest: 0.0233959 (142)\ttotal: 1.14s\tremaining: 254ms\n",
            "143:\tlearn: 0.0104920\ttest: 0.0234139\tbest: 0.0233959 (142)\ttotal: 1.14s\tremaining: 246ms\n",
            "144:\tlearn: 0.0101833\ttest: 0.0234860\tbest: 0.0233959 (142)\ttotal: 1.15s\tremaining: 238ms\n",
            "145:\tlearn: 0.0101832\ttest: 0.0234857\tbest: 0.0233959 (142)\ttotal: 1.16s\tremaining: 230ms\n",
            "146:\tlearn: 0.0101832\ttest: 0.0234858\tbest: 0.0233959 (142)\ttotal: 1.17s\tremaining: 222ms\n",
            "147:\tlearn: 0.0101831\ttest: 0.0234858\tbest: 0.0233959 (142)\ttotal: 1.17s\tremaining: 214ms\n",
            "148:\tlearn: 0.0101831\ttest: 0.0234858\tbest: 0.0233959 (142)\ttotal: 1.18s\tremaining: 206ms\n",
            "149:\tlearn: 0.0101831\ttest: 0.0234857\tbest: 0.0233959 (142)\ttotal: 1.19s\tremaining: 198ms\n",
            "150:\tlearn: 0.0101830\ttest: 0.0234854\tbest: 0.0233959 (142)\ttotal: 1.19s\tremaining: 190ms\n",
            "151:\tlearn: 0.0099402\ttest: 0.0236141\tbest: 0.0233959 (142)\ttotal: 1.2s\tremaining: 182ms\n",
            "152:\tlearn: 0.0099064\ttest: 0.0235327\tbest: 0.0233959 (142)\ttotal: 1.21s\tremaining: 174ms\n",
            "153:\tlearn: 0.0099063\ttest: 0.0235328\tbest: 0.0233959 (142)\ttotal: 1.22s\tremaining: 166ms\n",
            "154:\tlearn: 0.0099063\ttest: 0.0235327\tbest: 0.0233959 (142)\ttotal: 1.22s\tremaining: 158ms\n",
            "155:\tlearn: 0.0097989\ttest: 0.0237675\tbest: 0.0233959 (142)\ttotal: 1.23s\tremaining: 150ms\n",
            "156:\tlearn: 0.0097989\ttest: 0.0237674\tbest: 0.0233959 (142)\ttotal: 1.24s\tremaining: 142ms\n",
            "157:\tlearn: 0.0097989\ttest: 0.0237674\tbest: 0.0233959 (142)\ttotal: 1.24s\tremaining: 134ms\n",
            "158:\tlearn: 0.0097987\ttest: 0.0237677\tbest: 0.0233959 (142)\ttotal: 1.25s\tremaining: 126ms\n",
            "159:\tlearn: 0.0097987\ttest: 0.0237677\tbest: 0.0233959 (142)\ttotal: 1.26s\tremaining: 118ms\n",
            "160:\tlearn: 0.0097986\ttest: 0.0237676\tbest: 0.0233959 (142)\ttotal: 1.26s\tremaining: 110ms\n",
            "161:\tlearn: 0.0097985\ttest: 0.0237681\tbest: 0.0233959 (142)\ttotal: 1.27s\tremaining: 102ms\n",
            "162:\tlearn: 0.0097985\ttest: 0.0237679\tbest: 0.0233959 (142)\ttotal: 1.28s\tremaining: 94.2ms\n",
            "163:\tlearn: 0.0097727\ttest: 0.0238032\tbest: 0.0233959 (142)\ttotal: 1.29s\tremaining: 86.4ms\n",
            "164:\tlearn: 0.0097726\ttest: 0.0238031\tbest: 0.0233959 (142)\ttotal: 1.29s\tremaining: 78.5ms\n",
            "165:\tlearn: 0.0096926\ttest: 0.0236847\tbest: 0.0233959 (142)\ttotal: 1.3s\tremaining: 70.6ms\n",
            "166:\tlearn: 0.0096926\ttest: 0.0236847\tbest: 0.0233959 (142)\ttotal: 1.31s\tremaining: 62.7ms\n",
            "167:\tlearn: 0.0094966\ttest: 0.0237815\tbest: 0.0233959 (142)\ttotal: 1.32s\tremaining: 55ms\n",
            "168:\tlearn: 0.0092905\ttest: 0.0236890\tbest: 0.0233959 (142)\ttotal: 1.33s\tremaining: 47.2ms\n",
            "169:\tlearn: 0.0089859\ttest: 0.0235791\tbest: 0.0233959 (142)\ttotal: 1.34s\tremaining: 39.4ms\n",
            "170:\tlearn: 0.0089639\ttest: 0.0235876\tbest: 0.0233959 (142)\ttotal: 1.35s\tremaining: 31.5ms\n",
            "171:\tlearn: 0.0089639\ttest: 0.0235873\tbest: 0.0233959 (142)\ttotal: 1.35s\tremaining: 23.6ms\n",
            "172:\tlearn: 0.0089637\ttest: 0.0235880\tbest: 0.0233959 (142)\ttotal: 1.36s\tremaining: 15.7ms\n",
            "173:\tlearn: 0.0089637\ttest: 0.0235879\tbest: 0.0233959 (142)\ttotal: 1.37s\tremaining: 7.86ms\n",
            "174:\tlearn: 0.0089637\ttest: 0.0235877\tbest: 0.0233959 (142)\ttotal: 1.38s\tremaining: 0us\n",
            "\n",
            "bestTest = 0.02339586503\n",
            "bestIteration = 142\n",
            "\n",
            "0:\tlearn: 0.1421039\ttest: 0.1541866\tbest: 0.1541866 (0)\ttotal: 51.4ms\tremaining: 8.94s\n",
            "1:\tlearn: 0.0773084\ttest: 0.0900356\tbest: 0.0900356 (1)\ttotal: 91.3ms\tremaining: 7.89s\n",
            "2:\tlearn: 0.0565589\ttest: 0.0722785\tbest: 0.0722785 (2)\ttotal: 131ms\tremaining: 7.51s\n",
            "3:\tlearn: 0.0435572\ttest: 0.0559254\tbest: 0.0559254 (3)\ttotal: 180ms\tremaining: 7.71s\n",
            "4:\tlearn: 0.0384110\ttest: 0.0519011\tbest: 0.0519011 (4)\ttotal: 220ms\tremaining: 7.48s\n",
            "5:\tlearn: 0.0342625\ttest: 0.0509841\tbest: 0.0509841 (5)\ttotal: 259ms\tremaining: 7.3s\n",
            "6:\tlearn: 0.0308220\ttest: 0.0482550\tbest: 0.0482550 (6)\ttotal: 301ms\tremaining: 7.22s\n",
            "7:\tlearn: 0.0282707\ttest: 0.0451488\tbest: 0.0451488 (7)\ttotal: 340ms\tremaining: 7.09s\n",
            "8:\tlearn: 0.0263946\ttest: 0.0439908\tbest: 0.0439908 (8)\ttotal: 379ms\tremaining: 6.99s\n",
            "9:\tlearn: 0.0216414\ttest: 0.0412472\tbest: 0.0412472 (9)\ttotal: 425ms\tremaining: 7s\n",
            "10:\tlearn: 0.0189045\ttest: 0.0368418\tbest: 0.0368418 (10)\ttotal: 468ms\tremaining: 6.97s\n",
            "11:\tlearn: 0.0174424\ttest: 0.0372383\tbest: 0.0368418 (10)\ttotal: 506ms\tremaining: 6.88s\n",
            "12:\tlearn: 0.0161520\ttest: 0.0381747\tbest: 0.0368418 (10)\ttotal: 545ms\tremaining: 6.79s\n",
            "13:\tlearn: 0.0158897\ttest: 0.0386970\tbest: 0.0368418 (10)\ttotal: 584ms\tremaining: 6.71s\n",
            "14:\tlearn: 0.0143564\ttest: 0.0381534\tbest: 0.0368418 (10)\ttotal: 622ms\tremaining: 6.64s\n",
            "15:\tlearn: 0.0141299\ttest: 0.0383161\tbest: 0.0368418 (10)\ttotal: 668ms\tremaining: 6.64s\n",
            "16:\tlearn: 0.0125878\ttest: 0.0370593\tbest: 0.0368418 (10)\ttotal: 708ms\tremaining: 6.58s\n",
            "17:\tlearn: 0.0106245\ttest: 0.0375102\tbest: 0.0368418 (10)\ttotal: 748ms\tremaining: 6.52s\n",
            "18:\tlearn: 0.0096359\ttest: 0.0371439\tbest: 0.0368418 (10)\ttotal: 787ms\tremaining: 6.46s\n",
            "19:\tlearn: 0.0090047\ttest: 0.0372369\tbest: 0.0368418 (10)\ttotal: 830ms\tremaining: 6.43s\n",
            "20:\tlearn: 0.0085138\ttest: 0.0373435\tbest: 0.0368418 (10)\ttotal: 871ms\tremaining: 6.39s\n",
            "21:\tlearn: 0.0078861\ttest: 0.0375875\tbest: 0.0368418 (10)\ttotal: 913ms\tremaining: 6.35s\n",
            "22:\tlearn: 0.0068172\ttest: 0.0377748\tbest: 0.0368418 (10)\ttotal: 955ms\tremaining: 6.31s\n",
            "23:\tlearn: 0.0062248\ttest: 0.0373049\tbest: 0.0368418 (10)\ttotal: 993ms\tremaining: 6.25s\n",
            "24:\tlearn: 0.0055788\ttest: 0.0361501\tbest: 0.0361501 (24)\ttotal: 1.03s\tremaining: 6.2s\n",
            "25:\tlearn: 0.0052710\ttest: 0.0355985\tbest: 0.0355985 (25)\ttotal: 1.07s\tremaining: 6.15s\n",
            "26:\tlearn: 0.0047963\ttest: 0.0350779\tbest: 0.0350779 (26)\ttotal: 1.12s\tremaining: 6.12s\n",
            "27:\tlearn: 0.0043987\ttest: 0.0345407\tbest: 0.0345407 (27)\ttotal: 1.16s\tremaining: 6.07s\n",
            "28:\tlearn: 0.0042003\ttest: 0.0348621\tbest: 0.0345407 (27)\ttotal: 1.2s\tremaining: 6.05s\n",
            "29:\tlearn: 0.0038721\ttest: 0.0350546\tbest: 0.0345407 (27)\ttotal: 1.24s\tremaining: 6s\n",
            "30:\tlearn: 0.0035636\ttest: 0.0342607\tbest: 0.0342607 (30)\ttotal: 1.28s\tremaining: 5.95s\n",
            "31:\tlearn: 0.0032523\ttest: 0.0332412\tbest: 0.0332412 (31)\ttotal: 1.32s\tremaining: 5.91s\n",
            "32:\tlearn: 0.0030294\ttest: 0.0328960\tbest: 0.0328960 (32)\ttotal: 1.37s\tremaining: 5.88s\n",
            "33:\tlearn: 0.0030294\ttest: 0.0328959\tbest: 0.0328959 (33)\ttotal: 1.41s\tremaining: 5.83s\n",
            "34:\tlearn: 0.0029222\ttest: 0.0326771\tbest: 0.0326771 (34)\ttotal: 1.44s\tremaining: 5.77s\n",
            "35:\tlearn: 0.0029220\ttest: 0.0326764\tbest: 0.0326764 (35)\ttotal: 1.48s\tremaining: 5.73s\n",
            "36:\tlearn: 0.0029220\ttest: 0.0326762\tbest: 0.0326762 (36)\ttotal: 1.52s\tremaining: 5.68s\n",
            "37:\tlearn: 0.0027192\ttest: 0.0323686\tbest: 0.0323686 (37)\ttotal: 1.56s\tremaining: 5.63s\n",
            "38:\tlearn: 0.0025288\ttest: 0.0323993\tbest: 0.0323686 (37)\ttotal: 1.6s\tremaining: 5.59s\n",
            "39:\tlearn: 0.0025286\ttest: 0.0323989\tbest: 0.0323686 (37)\ttotal: 1.64s\tremaining: 5.54s\n",
            "40:\tlearn: 0.0022484\ttest: 0.0314366\tbest: 0.0314366 (40)\ttotal: 1.68s\tremaining: 5.49s\n",
            "41:\tlearn: 0.0021696\ttest: 0.0303733\tbest: 0.0303733 (41)\ttotal: 1.72s\tremaining: 5.46s\n",
            "42:\tlearn: 0.0021695\ttest: 0.0303737\tbest: 0.0303733 (41)\ttotal: 1.76s\tremaining: 5.41s\n",
            "43:\tlearn: 0.0020683\ttest: 0.0299162\tbest: 0.0299162 (43)\ttotal: 1.8s\tremaining: 5.36s\n",
            "44:\tlearn: 0.0019756\ttest: 0.0298791\tbest: 0.0298791 (44)\ttotal: 1.84s\tremaining: 5.32s\n",
            "45:\tlearn: 0.0017986\ttest: 0.0302322\tbest: 0.0298791 (44)\ttotal: 1.88s\tremaining: 5.27s\n",
            "46:\tlearn: 0.0017431\ttest: 0.0301635\tbest: 0.0298791 (44)\ttotal: 1.92s\tremaining: 5.22s\n",
            "47:\tlearn: 0.0017431\ttest: 0.0301635\tbest: 0.0298791 (44)\ttotal: 1.96s\tremaining: 5.19s\n",
            "48:\tlearn: 0.0016886\ttest: 0.0299651\tbest: 0.0298791 (44)\ttotal: 2s\tremaining: 5.15s\n",
            "49:\tlearn: 0.0016884\ttest: 0.0299636\tbest: 0.0298791 (44)\ttotal: 2.04s\tremaining: 5.1s\n",
            "50:\tlearn: 0.0016881\ttest: 0.0299655\tbest: 0.0298791 (44)\ttotal: 2.08s\tremaining: 5.05s\n",
            "51:\tlearn: 0.0016879\ttest: 0.0299666\tbest: 0.0298791 (44)\ttotal: 2.12s\tremaining: 5s\n",
            "52:\tlearn: 0.0016879\ttest: 0.0299668\tbest: 0.0298791 (44)\ttotal: 2.15s\tremaining: 4.96s\n",
            "53:\tlearn: 0.0016879\ttest: 0.0299668\tbest: 0.0298791 (44)\ttotal: 2.2s\tremaining: 4.94s\n",
            "54:\tlearn: 0.0016878\ttest: 0.0299672\tbest: 0.0298791 (44)\ttotal: 2.24s\tremaining: 4.89s\n",
            "55:\tlearn: 0.0016872\ttest: 0.0299711\tbest: 0.0298791 (44)\ttotal: 2.28s\tremaining: 4.84s\n",
            "56:\tlearn: 0.0016218\ttest: 0.0298797\tbest: 0.0298791 (44)\ttotal: 2.32s\tremaining: 4.8s\n",
            "57:\tlearn: 0.0016210\ttest: 0.0298798\tbest: 0.0298791 (44)\ttotal: 2.36s\tremaining: 4.76s\n",
            "58:\tlearn: 0.0016210\ttest: 0.0298798\tbest: 0.0298791 (44)\ttotal: 2.4s\tremaining: 4.72s\n",
            "59:\tlearn: 0.0016205\ttest: 0.0298790\tbest: 0.0298790 (59)\ttotal: 2.44s\tremaining: 4.68s\n",
            "60:\tlearn: 0.0016205\ttest: 0.0298791\tbest: 0.0298790 (59)\ttotal: 2.48s\tremaining: 4.64s\n",
            "61:\tlearn: 0.0016204\ttest: 0.0298791\tbest: 0.0298790 (59)\ttotal: 2.52s\tremaining: 4.59s\n",
            "62:\tlearn: 0.0016204\ttest: 0.0298793\tbest: 0.0298790 (59)\ttotal: 2.56s\tremaining: 4.55s\n",
            "63:\tlearn: 0.0016203\ttest: 0.0298795\tbest: 0.0298790 (59)\ttotal: 2.6s\tremaining: 4.5s\n",
            "64:\tlearn: 0.0015336\ttest: 0.0303603\tbest: 0.0298790 (59)\ttotal: 2.64s\tremaining: 4.46s\n",
            "65:\tlearn: 0.0015335\ttest: 0.0303602\tbest: 0.0298790 (59)\ttotal: 2.68s\tremaining: 4.42s\n",
            "66:\tlearn: 0.0015335\ttest: 0.0303602\tbest: 0.0298790 (59)\ttotal: 2.72s\tremaining: 4.38s\n",
            "67:\tlearn: 0.0015200\ttest: 0.0304764\tbest: 0.0298790 (59)\ttotal: 2.75s\tremaining: 4.33s\n",
            "68:\tlearn: 0.0015200\ttest: 0.0304765\tbest: 0.0298790 (59)\ttotal: 2.79s\tremaining: 4.29s\n",
            "69:\tlearn: 0.0015200\ttest: 0.0304765\tbest: 0.0298790 (59)\ttotal: 2.83s\tremaining: 4.25s\n",
            "70:\tlearn: 0.0015185\ttest: 0.0304870\tbest: 0.0298790 (59)\ttotal: 2.87s\tremaining: 4.2s\n",
            "71:\tlearn: 0.0015184\ttest: 0.0304879\tbest: 0.0298790 (59)\ttotal: 2.92s\tremaining: 4.17s\n",
            "72:\tlearn: 0.0015183\ttest: 0.0304874\tbest: 0.0298790 (59)\ttotal: 2.96s\tremaining: 4.13s\n",
            "73:\tlearn: 0.0015183\ttest: 0.0304874\tbest: 0.0298790 (59)\ttotal: 3s\tremaining: 4.09s\n",
            "74:\tlearn: 0.0015183\ttest: 0.0304879\tbest: 0.0298790 (59)\ttotal: 3.03s\tremaining: 4.04s\n",
            "75:\tlearn: 0.0015182\ttest: 0.0304884\tbest: 0.0298790 (59)\ttotal: 3.07s\tremaining: 4s\n",
            "76:\tlearn: 0.0015179\ttest: 0.0304904\tbest: 0.0298790 (59)\ttotal: 3.11s\tremaining: 3.96s\n",
            "77:\tlearn: 0.0015178\ttest: 0.0304922\tbest: 0.0298790 (59)\ttotal: 3.16s\tremaining: 3.92s\n",
            "78:\tlearn: 0.0015177\ttest: 0.0304916\tbest: 0.0298790 (59)\ttotal: 3.2s\tremaining: 3.89s\n",
            "79:\tlearn: 0.0015176\ttest: 0.0304920\tbest: 0.0298790 (59)\ttotal: 3.24s\tremaining: 3.85s\n",
            "80:\tlearn: 0.0015176\ttest: 0.0304930\tbest: 0.0298790 (59)\ttotal: 3.28s\tremaining: 3.81s\n",
            "81:\tlearn: 0.0015175\ttest: 0.0304934\tbest: 0.0298790 (59)\ttotal: 3.32s\tremaining: 3.76s\n",
            "82:\tlearn: 0.0015175\ttest: 0.0304928\tbest: 0.0298790 (59)\ttotal: 3.37s\tremaining: 3.73s\n",
            "83:\tlearn: 0.0015174\ttest: 0.0304932\tbest: 0.0298790 (59)\ttotal: 3.41s\tremaining: 3.69s\n",
            "84:\tlearn: 0.0015173\ttest: 0.0304934\tbest: 0.0298790 (59)\ttotal: 3.45s\tremaining: 3.65s\n",
            "85:\tlearn: 0.0015173\ttest: 0.0304935\tbest: 0.0298790 (59)\ttotal: 3.49s\tremaining: 3.61s\n",
            "86:\tlearn: 0.0014270\ttest: 0.0302295\tbest: 0.0298790 (59)\ttotal: 3.52s\tremaining: 3.57s\n",
            "87:\tlearn: 0.0014270\ttest: 0.0302292\tbest: 0.0298790 (59)\ttotal: 3.56s\tremaining: 3.52s\n",
            "88:\tlearn: 0.0014269\ttest: 0.0302298\tbest: 0.0298790 (59)\ttotal: 3.61s\tremaining: 3.49s\n",
            "89:\tlearn: 0.0014269\ttest: 0.0302301\tbest: 0.0298790 (59)\ttotal: 3.65s\tremaining: 3.44s\n",
            "90:\tlearn: 0.0013673\ttest: 0.0305841\tbest: 0.0298790 (59)\ttotal: 3.69s\tremaining: 3.4s\n",
            "91:\tlearn: 0.0013280\ttest: 0.0308344\tbest: 0.0298790 (59)\ttotal: 3.73s\tremaining: 3.36s\n",
            "92:\tlearn: 0.0013280\ttest: 0.0308343\tbest: 0.0298790 (59)\ttotal: 3.76s\tremaining: 3.32s\n",
            "93:\tlearn: 0.0012807\ttest: 0.0308916\tbest: 0.0298790 (59)\ttotal: 3.8s\tremaining: 3.27s\n",
            "94:\tlearn: 0.0012807\ttest: 0.0308921\tbest: 0.0298790 (59)\ttotal: 3.84s\tremaining: 3.23s\n",
            "95:\tlearn: 0.0012807\ttest: 0.0308927\tbest: 0.0298790 (59)\ttotal: 3.88s\tremaining: 3.19s\n",
            "96:\tlearn: 0.0012806\ttest: 0.0308932\tbest: 0.0298790 (59)\ttotal: 3.92s\tremaining: 3.15s\n",
            "97:\tlearn: 0.0012806\ttest: 0.0308937\tbest: 0.0298790 (59)\ttotal: 3.96s\tremaining: 3.11s\n",
            "98:\tlearn: 0.0012806\ttest: 0.0308937\tbest: 0.0298790 (59)\ttotal: 4s\tremaining: 3.07s\n",
            "99:\tlearn: 0.0012805\ttest: 0.0308933\tbest: 0.0298790 (59)\ttotal: 4.04s\tremaining: 3.03s\n",
            "100:\tlearn: 0.0012804\ttest: 0.0308928\tbest: 0.0298790 (59)\ttotal: 4.08s\tremaining: 2.99s\n",
            "101:\tlearn: 0.0012803\ttest: 0.0308920\tbest: 0.0298790 (59)\ttotal: 4.12s\tremaining: 2.95s\n",
            "102:\tlearn: 0.0012802\ttest: 0.0308925\tbest: 0.0298790 (59)\ttotal: 4.16s\tremaining: 2.91s\n",
            "103:\tlearn: 0.0012802\ttest: 0.0308925\tbest: 0.0298790 (59)\ttotal: 4.2s\tremaining: 2.87s\n",
            "104:\tlearn: 0.0012799\ttest: 0.0308956\tbest: 0.0298790 (59)\ttotal: 4.24s\tremaining: 2.83s\n",
            "105:\tlearn: 0.0012263\ttest: 0.0308557\tbest: 0.0298790 (59)\ttotal: 4.28s\tremaining: 2.79s\n",
            "106:\tlearn: 0.0012263\ttest: 0.0308557\tbest: 0.0298790 (59)\ttotal: 4.33s\tremaining: 2.75s\n",
            "107:\tlearn: 0.0011805\ttest: 0.0314185\tbest: 0.0298790 (59)\ttotal: 4.37s\tremaining: 2.71s\n",
            "108:\tlearn: 0.0011803\ttest: 0.0314197\tbest: 0.0298790 (59)\ttotal: 4.41s\tremaining: 2.67s\n",
            "109:\tlearn: 0.0011803\ttest: 0.0314209\tbest: 0.0298790 (59)\ttotal: 4.45s\tremaining: 2.63s\n",
            "110:\tlearn: 0.0011801\ttest: 0.0314178\tbest: 0.0298790 (59)\ttotal: 4.48s\tremaining: 2.58s\n",
            "111:\tlearn: 0.0011801\ttest: 0.0314172\tbest: 0.0298790 (59)\ttotal: 4.53s\tremaining: 2.55s\n",
            "112:\tlearn: 0.0011801\ttest: 0.0314165\tbest: 0.0298790 (59)\ttotal: 4.56s\tremaining: 2.5s\n",
            "113:\tlearn: 0.0011800\ttest: 0.0314167\tbest: 0.0298790 (59)\ttotal: 4.6s\tremaining: 2.46s\n",
            "114:\tlearn: 0.0011800\ttest: 0.0314160\tbest: 0.0298790 (59)\ttotal: 4.65s\tremaining: 2.43s\n",
            "115:\tlearn: 0.0011800\ttest: 0.0314156\tbest: 0.0298790 (59)\ttotal: 4.69s\tremaining: 2.39s\n",
            "116:\tlearn: 0.0011800\ttest: 0.0314158\tbest: 0.0298790 (59)\ttotal: 4.74s\tremaining: 2.35s\n",
            "117:\tlearn: 0.0011800\ttest: 0.0314155\tbest: 0.0298790 (59)\ttotal: 4.78s\tremaining: 2.31s\n",
            "118:\tlearn: 0.0011799\ttest: 0.0314165\tbest: 0.0298790 (59)\ttotal: 4.81s\tremaining: 2.27s\n",
            "119:\tlearn: 0.0011799\ttest: 0.0314163\tbest: 0.0298790 (59)\ttotal: 4.85s\tremaining: 2.22s\n",
            "120:\tlearn: 0.0011799\ttest: 0.0314162\tbest: 0.0298790 (59)\ttotal: 4.89s\tremaining: 2.18s\n",
            "121:\tlearn: 0.0011799\ttest: 0.0314164\tbest: 0.0298790 (59)\ttotal: 4.93s\tremaining: 2.14s\n",
            "122:\tlearn: 0.0011799\ttest: 0.0314167\tbest: 0.0298790 (59)\ttotal: 4.98s\tremaining: 2.1s\n",
            "123:\tlearn: 0.0011798\ttest: 0.0314153\tbest: 0.0298790 (59)\ttotal: 5.01s\tremaining: 2.06s\n",
            "124:\tlearn: 0.0011798\ttest: 0.0314153\tbest: 0.0298790 (59)\ttotal: 5.05s\tremaining: 2.02s\n",
            "125:\tlearn: 0.0011798\ttest: 0.0314153\tbest: 0.0298790 (59)\ttotal: 5.09s\tremaining: 1.98s\n",
            "126:\tlearn: 0.0011798\ttest: 0.0314140\tbest: 0.0298790 (59)\ttotal: 5.13s\tremaining: 1.94s\n",
            "127:\tlearn: 0.0011796\ttest: 0.0314109\tbest: 0.0298790 (59)\ttotal: 5.17s\tremaining: 1.9s\n",
            "128:\tlearn: 0.0011796\ttest: 0.0314102\tbest: 0.0298790 (59)\ttotal: 5.21s\tremaining: 1.86s\n",
            "129:\tlearn: 0.0011796\ttest: 0.0314104\tbest: 0.0298790 (59)\ttotal: 5.25s\tremaining: 1.82s\n",
            "130:\tlearn: 0.0011796\ttest: 0.0314104\tbest: 0.0298790 (59)\ttotal: 5.29s\tremaining: 1.78s\n",
            "131:\tlearn: 0.0011795\ttest: 0.0314104\tbest: 0.0298790 (59)\ttotal: 5.33s\tremaining: 1.74s\n",
            "132:\tlearn: 0.0011795\ttest: 0.0314104\tbest: 0.0298790 (59)\ttotal: 5.37s\tremaining: 1.7s\n",
            "133:\tlearn: 0.0011795\ttest: 0.0314105\tbest: 0.0298790 (59)\ttotal: 5.41s\tremaining: 1.65s\n",
            "134:\tlearn: 0.0011795\ttest: 0.0314102\tbest: 0.0298790 (59)\ttotal: 5.45s\tremaining: 1.61s\n",
            "135:\tlearn: 0.0011793\ttest: 0.0314103\tbest: 0.0298790 (59)\ttotal: 5.49s\tremaining: 1.57s\n",
            "136:\tlearn: 0.0011793\ttest: 0.0314104\tbest: 0.0298790 (59)\ttotal: 5.53s\tremaining: 1.53s\n",
            "137:\tlearn: 0.0011792\ttest: 0.0314114\tbest: 0.0298790 (59)\ttotal: 5.57s\tremaining: 1.49s\n",
            "138:\tlearn: 0.0011792\ttest: 0.0314119\tbest: 0.0298790 (59)\ttotal: 5.61s\tremaining: 1.45s\n",
            "139:\tlearn: 0.0011792\ttest: 0.0314115\tbest: 0.0298790 (59)\ttotal: 5.64s\tremaining: 1.41s\n",
            "140:\tlearn: 0.0011791\ttest: 0.0314107\tbest: 0.0298790 (59)\ttotal: 5.69s\tremaining: 1.37s\n",
            "141:\tlearn: 0.0011791\ttest: 0.0314110\tbest: 0.0298790 (59)\ttotal: 5.73s\tremaining: 1.33s\n",
            "142:\tlearn: 0.0011791\ttest: 0.0314108\tbest: 0.0298790 (59)\ttotal: 5.76s\tremaining: 1.29s\n",
            "143:\tlearn: 0.0011790\ttest: 0.0314099\tbest: 0.0298790 (59)\ttotal: 5.8s\tremaining: 1.25s\n",
            "144:\tlearn: 0.0011790\ttest: 0.0314121\tbest: 0.0298790 (59)\ttotal: 5.84s\tremaining: 1.21s\n",
            "145:\tlearn: 0.0011789\ttest: 0.0314120\tbest: 0.0298790 (59)\ttotal: 5.88s\tremaining: 1.17s\n",
            "146:\tlearn: 0.0011789\ttest: 0.0314117\tbest: 0.0298790 (59)\ttotal: 5.92s\tremaining: 1.13s\n",
            "147:\tlearn: 0.0011789\ttest: 0.0314117\tbest: 0.0298790 (59)\ttotal: 5.96s\tremaining: 1.09s\n",
            "148:\tlearn: 0.0011789\ttest: 0.0314113\tbest: 0.0298790 (59)\ttotal: 6s\tremaining: 1.05s\n",
            "149:\tlearn: 0.0011789\ttest: 0.0314113\tbest: 0.0298790 (59)\ttotal: 6.04s\tremaining: 1s\n",
            "150:\tlearn: 0.0011789\ttest: 0.0314114\tbest: 0.0298790 (59)\ttotal: 6.07s\tremaining: 965ms\n",
            "151:\tlearn: 0.0011788\ttest: 0.0314122\tbest: 0.0298790 (59)\ttotal: 6.11s\tremaining: 925ms\n",
            "152:\tlearn: 0.0011788\ttest: 0.0314132\tbest: 0.0298790 (59)\ttotal: 6.15s\tremaining: 885ms\n",
            "153:\tlearn: 0.0011787\ttest: 0.0314142\tbest: 0.0298790 (59)\ttotal: 6.19s\tremaining: 845ms\n",
            "154:\tlearn: 0.0011785\ttest: 0.0314112\tbest: 0.0298790 (59)\ttotal: 6.24s\tremaining: 805ms\n",
            "155:\tlearn: 0.0011785\ttest: 0.0314129\tbest: 0.0298790 (59)\ttotal: 6.28s\tremaining: 764ms\n",
            "156:\tlearn: 0.0011784\ttest: 0.0314126\tbest: 0.0298790 (59)\ttotal: 6.31s\tremaining: 724ms\n",
            "157:\tlearn: 0.0011783\ttest: 0.0314123\tbest: 0.0298790 (59)\ttotal: 6.35s\tremaining: 683ms\n",
            "158:\tlearn: 0.0011783\ttest: 0.0314123\tbest: 0.0298790 (59)\ttotal: 6.39s\tremaining: 643ms\n",
            "159:\tlearn: 0.0011783\ttest: 0.0314123\tbest: 0.0298790 (59)\ttotal: 6.43s\tremaining: 603ms\n",
            "160:\tlearn: 0.0011781\ttest: 0.0314093\tbest: 0.0298790 (59)\ttotal: 6.47s\tremaining: 563ms\n",
            "161:\tlearn: 0.0011781\ttest: 0.0314087\tbest: 0.0298790 (59)\ttotal: 6.51s\tremaining: 522ms\n",
            "162:\tlearn: 0.0011781\ttest: 0.0314087\tbest: 0.0298790 (59)\ttotal: 6.55s\tremaining: 482ms\n",
            "163:\tlearn: 0.0011781\ttest: 0.0314087\tbest: 0.0298790 (59)\ttotal: 6.58s\tremaining: 442ms\n",
            "164:\tlearn: 0.0011780\ttest: 0.0314074\tbest: 0.0298790 (59)\ttotal: 6.63s\tremaining: 402ms\n",
            "165:\tlearn: 0.0011780\ttest: 0.0314074\tbest: 0.0298790 (59)\ttotal: 6.67s\tremaining: 361ms\n",
            "166:\tlearn: 0.0011780\ttest: 0.0314077\tbest: 0.0298790 (59)\ttotal: 6.7s\tremaining: 321ms\n",
            "167:\tlearn: 0.0011779\ttest: 0.0314069\tbest: 0.0298790 (59)\ttotal: 6.74s\tremaining: 281ms\n",
            "168:\tlearn: 0.0011777\ttest: 0.0314065\tbest: 0.0298790 (59)\ttotal: 6.78s\tremaining: 241ms\n",
            "169:\tlearn: 0.0011777\ttest: 0.0314064\tbest: 0.0298790 (59)\ttotal: 6.82s\tremaining: 201ms\n",
            "170:\tlearn: 0.0011776\ttest: 0.0314066\tbest: 0.0298790 (59)\ttotal: 6.86s\tremaining: 161ms\n",
            "171:\tlearn: 0.0011775\ttest: 0.0314063\tbest: 0.0298790 (59)\ttotal: 6.9s\tremaining: 120ms\n",
            "172:\tlearn: 0.0011775\ttest: 0.0314065\tbest: 0.0298790 (59)\ttotal: 6.94s\tremaining: 80.2ms\n",
            "173:\tlearn: 0.0011773\ttest: 0.0314034\tbest: 0.0298790 (59)\ttotal: 6.98s\tremaining: 40.1ms\n",
            "174:\tlearn: 0.0011773\ttest: 0.0314034\tbest: 0.0298790 (59)\ttotal: 7.01s\tremaining: 0us\n",
            "\n",
            "bestTest = 0.02987896735\n",
            "bestIteration = 59\n",
            "\n",
            "0:\tlearn: 0.1729088\ttest: 0.1831740\tbest: 0.1831740 (0)\ttotal: 39.5ms\tremaining: 6.88s\n",
            "1:\tlearn: 0.0913221\ttest: 0.1027956\tbest: 0.1027956 (1)\ttotal: 84.6ms\tremaining: 7.32s\n",
            "2:\tlearn: 0.0661463\ttest: 0.0760378\tbest: 0.0760378 (2)\ttotal: 124ms\tremaining: 7.13s\n",
            "3:\tlearn: 0.0522245\ttest: 0.0608385\tbest: 0.0608385 (3)\ttotal: 164ms\tremaining: 7s\n",
            "4:\tlearn: 0.0443193\ttest: 0.0554045\tbest: 0.0554045 (4)\ttotal: 204ms\tremaining: 6.92s\n",
            "5:\tlearn: 0.0370122\ttest: 0.0480748\tbest: 0.0480748 (5)\ttotal: 250ms\tremaining: 7.05s\n",
            "6:\tlearn: 0.0332032\ttest: 0.0457322\tbest: 0.0457322 (6)\ttotal: 295ms\tremaining: 7.08s\n",
            "7:\tlearn: 0.0295866\ttest: 0.0430895\tbest: 0.0430895 (7)\ttotal: 334ms\tremaining: 6.98s\n",
            "8:\tlearn: 0.0268010\ttest: 0.0420663\tbest: 0.0420663 (8)\ttotal: 373ms\tremaining: 6.88s\n",
            "9:\tlearn: 0.0262074\ttest: 0.0417703\tbest: 0.0417703 (9)\ttotal: 413ms\tremaining: 6.81s\n",
            "10:\tlearn: 0.0237974\ttest: 0.0417525\tbest: 0.0417525 (10)\ttotal: 453ms\tremaining: 6.75s\n",
            "11:\tlearn: 0.0232751\ttest: 0.0419290\tbest: 0.0417525 (10)\ttotal: 467ms\tremaining: 6.34s\n",
            "12:\tlearn: 0.0219088\ttest: 0.0417624\tbest: 0.0417525 (10)\ttotal: 509ms\tremaining: 6.35s\n",
            "13:\tlearn: 0.0198224\ttest: 0.0406024\tbest: 0.0406024 (13)\ttotal: 548ms\tremaining: 6.31s\n",
            "14:\tlearn: 0.0183320\ttest: 0.0395447\tbest: 0.0395447 (14)\ttotal: 588ms\tremaining: 6.27s\n",
            "15:\tlearn: 0.0174276\ttest: 0.0383224\tbest: 0.0383224 (15)\ttotal: 629ms\tremaining: 6.25s\n",
            "16:\tlearn: 0.0161775\ttest: 0.0361691\tbest: 0.0361691 (16)\ttotal: 668ms\tremaining: 6.21s\n",
            "17:\tlearn: 0.0148864\ttest: 0.0354171\tbest: 0.0354171 (17)\ttotal: 708ms\tremaining: 6.17s\n",
            "18:\tlearn: 0.0133968\ttest: 0.0339324\tbest: 0.0339324 (18)\ttotal: 753ms\tremaining: 6.18s\n",
            "19:\tlearn: 0.0118534\ttest: 0.0342887\tbest: 0.0339324 (18)\ttotal: 792ms\tremaining: 6.14s\n",
            "20:\tlearn: 0.0109526\ttest: 0.0344127\tbest: 0.0339324 (18)\ttotal: 834ms\tremaining: 6.12s\n",
            "21:\tlearn: 0.0101406\ttest: 0.0341933\tbest: 0.0339324 (18)\ttotal: 873ms\tremaining: 6.07s\n",
            "22:\tlearn: 0.0091456\ttest: 0.0338809\tbest: 0.0338809 (22)\ttotal: 916ms\tremaining: 6.05s\n",
            "23:\tlearn: 0.0082693\ttest: 0.0330387\tbest: 0.0330387 (23)\ttotal: 956ms\tremaining: 6.01s\n",
            "24:\tlearn: 0.0075711\ttest: 0.0315066\tbest: 0.0315066 (24)\ttotal: 998ms\tremaining: 5.99s\n",
            "25:\tlearn: 0.0069927\ttest: 0.0301070\tbest: 0.0301070 (25)\ttotal: 1.04s\tremaining: 5.95s\n",
            "26:\tlearn: 0.0064988\ttest: 0.0299985\tbest: 0.0299985 (26)\ttotal: 1.08s\tremaining: 5.91s\n",
            "27:\tlearn: 0.0062574\ttest: 0.0305299\tbest: 0.0299985 (26)\ttotal: 1.12s\tremaining: 5.86s\n",
            "28:\tlearn: 0.0058288\ttest: 0.0292605\tbest: 0.0292605 (28)\ttotal: 1.15s\tremaining: 5.81s\n",
            "29:\tlearn: 0.0054789\ttest: 0.0279084\tbest: 0.0279084 (29)\ttotal: 1.2s\tremaining: 5.79s\n",
            "30:\tlearn: 0.0051932\ttest: 0.0276758\tbest: 0.0276758 (30)\ttotal: 1.24s\tremaining: 5.78s\n",
            "31:\tlearn: 0.0049252\ttest: 0.0278522\tbest: 0.0276758 (30)\ttotal: 1.28s\tremaining: 5.73s\n",
            "32:\tlearn: 0.0045433\ttest: 0.0273647\tbest: 0.0273647 (32)\ttotal: 1.32s\tremaining: 5.69s\n",
            "33:\tlearn: 0.0043168\ttest: 0.0273498\tbest: 0.0273498 (33)\ttotal: 1.36s\tremaining: 5.65s\n",
            "34:\tlearn: 0.0041588\ttest: 0.0271707\tbest: 0.0271707 (34)\ttotal: 1.41s\tremaining: 5.63s\n",
            "35:\tlearn: 0.0038642\ttest: 0.0266340\tbest: 0.0266340 (35)\ttotal: 1.45s\tremaining: 5.59s\n",
            "36:\tlearn: 0.0036853\ttest: 0.0258144\tbest: 0.0258144 (36)\ttotal: 1.49s\tremaining: 5.55s\n",
            "37:\tlearn: 0.0035791\ttest: 0.0258380\tbest: 0.0258144 (36)\ttotal: 1.53s\tremaining: 5.52s\n",
            "38:\tlearn: 0.0033545\ttest: 0.0261318\tbest: 0.0258144 (36)\ttotal: 1.57s\tremaining: 5.48s\n",
            "39:\tlearn: 0.0031869\ttest: 0.0257456\tbest: 0.0257456 (39)\ttotal: 1.61s\tremaining: 5.45s\n",
            "40:\tlearn: 0.0030600\ttest: 0.0255690\tbest: 0.0255690 (40)\ttotal: 1.65s\tremaining: 5.4s\n",
            "41:\tlearn: 0.0029041\ttest: 0.0255695\tbest: 0.0255690 (40)\ttotal: 1.69s\tremaining: 5.36s\n",
            "42:\tlearn: 0.0027667\ttest: 0.0253584\tbest: 0.0253584 (42)\ttotal: 1.73s\tremaining: 5.32s\n",
            "43:\tlearn: 0.0026718\ttest: 0.0251215\tbest: 0.0251215 (43)\ttotal: 1.77s\tremaining: 5.28s\n",
            "44:\tlearn: 0.0025000\ttest: 0.0245772\tbest: 0.0245772 (44)\ttotal: 1.82s\tremaining: 5.25s\n",
            "45:\tlearn: 0.0024411\ttest: 0.0242208\tbest: 0.0242208 (45)\ttotal: 1.86s\tremaining: 5.21s\n",
            "46:\tlearn: 0.0023559\ttest: 0.0247009\tbest: 0.0242208 (45)\ttotal: 1.9s\tremaining: 5.17s\n",
            "47:\tlearn: 0.0022825\ttest: 0.0246663\tbest: 0.0242208 (45)\ttotal: 1.94s\tremaining: 5.12s\n",
            "48:\tlearn: 0.0022014\ttest: 0.0242492\tbest: 0.0242208 (45)\ttotal: 1.98s\tremaining: 5.08s\n",
            "49:\tlearn: 0.0020681\ttest: 0.0234919\tbest: 0.0234919 (49)\ttotal: 2.01s\tremaining: 5.04s\n",
            "50:\tlearn: 0.0019530\ttest: 0.0227961\tbest: 0.0227961 (50)\ttotal: 2.06s\tremaining: 5s\n",
            "51:\tlearn: 0.0018379\ttest: 0.0230234\tbest: 0.0227961 (50)\ttotal: 2.1s\tremaining: 4.96s\n",
            "52:\tlearn: 0.0017735\ttest: 0.0231300\tbest: 0.0227961 (50)\ttotal: 2.13s\tremaining: 4.92s\n",
            "53:\tlearn: 0.0017735\ttest: 0.0231301\tbest: 0.0227961 (50)\ttotal: 2.17s\tremaining: 4.87s\n",
            "54:\tlearn: 0.0017183\ttest: 0.0231473\tbest: 0.0227961 (50)\ttotal: 2.21s\tremaining: 4.83s\n",
            "55:\tlearn: 0.0016546\ttest: 0.0230187\tbest: 0.0227961 (50)\ttotal: 2.26s\tremaining: 4.8s\n",
            "56:\tlearn: 0.0016546\ttest: 0.0230188\tbest: 0.0227961 (50)\ttotal: 2.3s\tremaining: 4.76s\n",
            "57:\tlearn: 0.0016017\ttest: 0.0228852\tbest: 0.0227961 (50)\ttotal: 2.34s\tremaining: 4.72s\n",
            "58:\tlearn: 0.0016017\ttest: 0.0228846\tbest: 0.0227961 (50)\ttotal: 2.38s\tremaining: 4.67s\n",
            "59:\tlearn: 0.0015435\ttest: 0.0227241\tbest: 0.0227241 (59)\ttotal: 2.42s\tremaining: 4.63s\n",
            "60:\tlearn: 0.0015435\ttest: 0.0227241\tbest: 0.0227241 (59)\ttotal: 2.45s\tremaining: 4.59s\n",
            "61:\tlearn: 0.0015434\ttest: 0.0227240\tbest: 0.0227240 (61)\ttotal: 2.5s\tremaining: 4.55s\n",
            "62:\tlearn: 0.0015433\ttest: 0.0227239\tbest: 0.0227239 (62)\ttotal: 2.54s\tremaining: 4.51s\n",
            "63:\tlearn: 0.0015433\ttest: 0.0227245\tbest: 0.0227239 (62)\ttotal: 2.57s\tremaining: 4.46s\n",
            "64:\tlearn: 0.0015433\ttest: 0.0227245\tbest: 0.0227239 (62)\ttotal: 2.61s\tremaining: 4.42s\n",
            "65:\tlearn: 0.0015431\ttest: 0.0227234\tbest: 0.0227234 (65)\ttotal: 2.65s\tremaining: 4.38s\n",
            "66:\tlearn: 0.0014958\ttest: 0.0228679\tbest: 0.0227234 (65)\ttotal: 2.69s\tremaining: 4.34s\n",
            "67:\tlearn: 0.0014957\ttest: 0.0228677\tbest: 0.0227234 (65)\ttotal: 2.73s\tremaining: 4.3s\n",
            "68:\tlearn: 0.0014540\ttest: 0.0227048\tbest: 0.0227048 (68)\ttotal: 2.77s\tremaining: 4.25s\n",
            "69:\tlearn: 0.0014540\ttest: 0.0227048\tbest: 0.0227048 (69)\ttotal: 2.81s\tremaining: 4.21s\n",
            "70:\tlearn: 0.0013817\ttest: 0.0222186\tbest: 0.0222186 (70)\ttotal: 2.85s\tremaining: 4.17s\n",
            "71:\tlearn: 0.0013814\ttest: 0.0222213\tbest: 0.0222186 (70)\ttotal: 2.88s\tremaining: 4.13s\n",
            "72:\tlearn: 0.0013812\ttest: 0.0222215\tbest: 0.0222186 (70)\ttotal: 2.92s\tremaining: 4.08s\n",
            "73:\tlearn: 0.0013435\ttest: 0.0220284\tbest: 0.0220284 (73)\ttotal: 2.97s\tremaining: 4.05s\n",
            "74:\tlearn: 0.0013015\ttest: 0.0217361\tbest: 0.0217361 (74)\ttotal: 3.01s\tremaining: 4.01s\n",
            "75:\tlearn: 0.0013013\ttest: 0.0217367\tbest: 0.0217361 (74)\ttotal: 3.05s\tremaining: 3.97s\n",
            "76:\tlearn: 0.0013013\ttest: 0.0217367\tbest: 0.0217361 (74)\ttotal: 3.08s\tremaining: 3.93s\n",
            "77:\tlearn: 0.0012685\ttest: 0.0218853\tbest: 0.0217361 (74)\ttotal: 3.12s\tremaining: 3.88s\n",
            "78:\tlearn: 0.0012684\ttest: 0.0218855\tbest: 0.0217361 (74)\ttotal: 3.16s\tremaining: 3.84s\n",
            "79:\tlearn: 0.0012684\ttest: 0.0218856\tbest: 0.0217361 (74)\ttotal: 3.2s\tremaining: 3.81s\n",
            "80:\tlearn: 0.0012684\ttest: 0.0218853\tbest: 0.0217361 (74)\ttotal: 3.24s\tremaining: 3.76s\n",
            "81:\tlearn: 0.0012683\ttest: 0.0218854\tbest: 0.0217361 (74)\ttotal: 3.29s\tremaining: 3.73s\n",
            "82:\tlearn: 0.0012683\ttest: 0.0218854\tbest: 0.0217361 (74)\ttotal: 3.32s\tremaining: 3.68s\n",
            "83:\tlearn: 0.0012683\ttest: 0.0218854\tbest: 0.0217361 (74)\ttotal: 3.36s\tremaining: 3.64s\n",
            "84:\tlearn: 0.0012119\ttest: 0.0216565\tbest: 0.0216565 (84)\ttotal: 3.4s\tremaining: 3.6s\n",
            "85:\tlearn: 0.0012118\ttest: 0.0216551\tbest: 0.0216551 (85)\ttotal: 3.44s\tremaining: 3.56s\n",
            "86:\tlearn: 0.0012117\ttest: 0.0216530\tbest: 0.0216530 (86)\ttotal: 3.48s\tremaining: 3.52s\n",
            "87:\tlearn: 0.0012115\ttest: 0.0216524\tbest: 0.0216524 (87)\ttotal: 3.52s\tremaining: 3.48s\n",
            "88:\tlearn: 0.0012115\ttest: 0.0216525\tbest: 0.0216524 (87)\ttotal: 3.56s\tremaining: 3.44s\n",
            "89:\tlearn: 0.0012114\ttest: 0.0216527\tbest: 0.0216524 (87)\ttotal: 3.59s\tremaining: 3.39s\n",
            "90:\tlearn: 0.0012114\ttest: 0.0216524\tbest: 0.0216524 (87)\ttotal: 3.63s\tremaining: 3.35s\n",
            "91:\tlearn: 0.0012113\ttest: 0.0216523\tbest: 0.0216523 (91)\ttotal: 3.68s\tremaining: 3.32s\n",
            "92:\tlearn: 0.0012112\ttest: 0.0216512\tbest: 0.0216512 (92)\ttotal: 3.72s\tremaining: 3.28s\n",
            "93:\tlearn: 0.0012112\ttest: 0.0216501\tbest: 0.0216501 (93)\ttotal: 3.75s\tremaining: 3.23s\n",
            "94:\tlearn: 0.0012111\ttest: 0.0216489\tbest: 0.0216489 (94)\ttotal: 3.79s\tremaining: 3.19s\n",
            "95:\tlearn: 0.0012110\ttest: 0.0216487\tbest: 0.0216487 (95)\ttotal: 3.83s\tremaining: 3.15s\n",
            "96:\tlearn: 0.0012108\ttest: 0.0216481\tbest: 0.0216481 (96)\ttotal: 3.87s\tremaining: 3.11s\n",
            "97:\tlearn: 0.0012108\ttest: 0.0216479\tbest: 0.0216479 (97)\ttotal: 3.92s\tremaining: 3.08s\n",
            "98:\tlearn: 0.0011716\ttest: 0.0214748\tbest: 0.0214748 (98)\ttotal: 3.95s\tremaining: 3.04s\n",
            "99:\tlearn: 0.0011716\ttest: 0.0214744\tbest: 0.0214744 (99)\ttotal: 3.99s\tremaining: 2.99s\n",
            "100:\tlearn: 0.0011714\ttest: 0.0214737\tbest: 0.0214737 (100)\ttotal: 4.03s\tremaining: 2.95s\n",
            "101:\tlearn: 0.0011221\ttest: 0.0213127\tbest: 0.0213127 (101)\ttotal: 4.07s\tremaining: 2.91s\n",
            "102:\tlearn: 0.0011221\ttest: 0.0213128\tbest: 0.0213127 (101)\ttotal: 4.11s\tremaining: 2.87s\n",
            "103:\tlearn: 0.0011221\ttest: 0.0213128\tbest: 0.0213127 (101)\ttotal: 4.15s\tremaining: 2.83s\n",
            "104:\tlearn: 0.0011221\ttest: 0.0213124\tbest: 0.0213124 (104)\ttotal: 4.19s\tremaining: 2.79s\n",
            "105:\tlearn: 0.0011220\ttest: 0.0213121\tbest: 0.0213121 (105)\ttotal: 4.22s\tremaining: 2.75s\n",
            "106:\tlearn: 0.0011219\ttest: 0.0213123\tbest: 0.0213121 (105)\ttotal: 4.27s\tremaining: 2.71s\n",
            "107:\tlearn: 0.0011219\ttest: 0.0213122\tbest: 0.0213121 (105)\ttotal: 4.31s\tremaining: 2.67s\n",
            "108:\tlearn: 0.0011218\ttest: 0.0213117\tbest: 0.0213117 (108)\ttotal: 4.34s\tremaining: 2.63s\n",
            "109:\tlearn: 0.0011218\ttest: 0.0213118\tbest: 0.0213117 (108)\ttotal: 4.38s\tremaining: 2.59s\n",
            "110:\tlearn: 0.0011217\ttest: 0.0213112\tbest: 0.0213112 (110)\ttotal: 4.42s\tremaining: 2.55s\n",
            "111:\tlearn: 0.0011217\ttest: 0.0213111\tbest: 0.0213111 (111)\ttotal: 4.46s\tremaining: 2.51s\n",
            "112:\tlearn: 0.0011216\ttest: 0.0213105\tbest: 0.0213105 (112)\ttotal: 4.5s\tremaining: 2.47s\n",
            "113:\tlearn: 0.0011215\ttest: 0.0213102\tbest: 0.0213102 (113)\ttotal: 4.54s\tremaining: 2.43s\n",
            "114:\tlearn: 0.0011215\ttest: 0.0213102\tbest: 0.0213102 (114)\ttotal: 4.58s\tremaining: 2.39s\n",
            "115:\tlearn: 0.0011215\ttest: 0.0213101\tbest: 0.0213101 (115)\ttotal: 4.62s\tremaining: 2.35s\n",
            "116:\tlearn: 0.0011214\ttest: 0.0213100\tbest: 0.0213100 (116)\ttotal: 4.66s\tremaining: 2.31s\n",
            "117:\tlearn: 0.0011214\ttest: 0.0213097\tbest: 0.0213097 (117)\ttotal: 4.7s\tremaining: 2.27s\n",
            "118:\tlearn: 0.0011214\ttest: 0.0213096\tbest: 0.0213096 (118)\ttotal: 4.73s\tremaining: 2.23s\n",
            "119:\tlearn: 0.0011214\ttest: 0.0213096\tbest: 0.0213096 (119)\ttotal: 4.77s\tremaining: 2.19s\n",
            "120:\tlearn: 0.0011213\ttest: 0.0213096\tbest: 0.0213096 (120)\ttotal: 4.81s\tremaining: 2.15s\n",
            "121:\tlearn: 0.0011213\ttest: 0.0213095\tbest: 0.0213095 (121)\ttotal: 4.85s\tremaining: 2.11s\n",
            "122:\tlearn: 0.0011213\ttest: 0.0213094\tbest: 0.0213094 (122)\ttotal: 4.89s\tremaining: 2.07s\n",
            "123:\tlearn: 0.0011212\ttest: 0.0213094\tbest: 0.0213094 (123)\ttotal: 4.93s\tremaining: 2.03s\n",
            "124:\tlearn: 0.0011212\ttest: 0.0213094\tbest: 0.0213094 (123)\ttotal: 4.97s\tremaining: 1.99s\n",
            "125:\tlearn: 0.0011212\ttest: 0.0213089\tbest: 0.0213089 (125)\ttotal: 5s\tremaining: 1.95s\n",
            "126:\tlearn: 0.0011211\ttest: 0.0213079\tbest: 0.0213079 (126)\ttotal: 5.04s\tremaining: 1.91s\n",
            "127:\tlearn: 0.0011211\ttest: 0.0213077\tbest: 0.0213077 (127)\ttotal: 5.08s\tremaining: 1.87s\n",
            "128:\tlearn: 0.0011211\ttest: 0.0213078\tbest: 0.0213077 (127)\ttotal: 5.12s\tremaining: 1.83s\n",
            "129:\tlearn: 0.0011210\ttest: 0.0213075\tbest: 0.0213075 (129)\ttotal: 5.16s\tremaining: 1.79s\n",
            "130:\tlearn: 0.0011210\ttest: 0.0213075\tbest: 0.0213075 (130)\ttotal: 5.2s\tremaining: 1.75s\n",
            "131:\tlearn: 0.0011209\ttest: 0.0213072\tbest: 0.0213072 (131)\ttotal: 5.24s\tremaining: 1.71s\n",
            "132:\tlearn: 0.0011208\ttest: 0.0213066\tbest: 0.0213066 (132)\ttotal: 5.28s\tremaining: 1.67s\n",
            "133:\tlearn: 0.0011208\ttest: 0.0213067\tbest: 0.0213066 (132)\ttotal: 5.33s\tremaining: 1.63s\n",
            "134:\tlearn: 0.0011208\ttest: 0.0213066\tbest: 0.0213066 (132)\ttotal: 5.37s\tremaining: 1.59s\n",
            "135:\tlearn: 0.0011206\ttest: 0.0213055\tbest: 0.0213055 (135)\ttotal: 5.41s\tremaining: 1.55s\n",
            "136:\tlearn: 0.0011206\ttest: 0.0213050\tbest: 0.0213050 (136)\ttotal: 5.44s\tremaining: 1.51s\n",
            "137:\tlearn: 0.0011206\ttest: 0.0213051\tbest: 0.0213050 (136)\ttotal: 5.48s\tremaining: 1.47s\n",
            "138:\tlearn: 0.0011205\ttest: 0.0213048\tbest: 0.0213048 (138)\ttotal: 5.52s\tremaining: 1.43s\n",
            "139:\tlearn: 0.0011205\ttest: 0.0213046\tbest: 0.0213046 (139)\ttotal: 5.56s\tremaining: 1.39s\n",
            "140:\tlearn: 0.0011205\ttest: 0.0213046\tbest: 0.0213046 (140)\ttotal: 5.6s\tremaining: 1.35s\n",
            "141:\tlearn: 0.0011204\ttest: 0.0213045\tbest: 0.0213045 (141)\ttotal: 5.64s\tremaining: 1.31s\n",
            "142:\tlearn: 0.0011203\ttest: 0.0213042\tbest: 0.0213042 (142)\ttotal: 5.68s\tremaining: 1.27s\n",
            "143:\tlearn: 0.0011203\ttest: 0.0213042\tbest: 0.0213042 (143)\ttotal: 5.72s\tremaining: 1.23s\n",
            "144:\tlearn: 0.0011203\ttest: 0.0213042\tbest: 0.0213042 (144)\ttotal: 5.76s\tremaining: 1.19s\n",
            "145:\tlearn: 0.0011203\ttest: 0.0213041\tbest: 0.0213041 (145)\ttotal: 5.8s\tremaining: 1.15s\n",
            "146:\tlearn: 0.0011202\ttest: 0.0213035\tbest: 0.0213035 (146)\ttotal: 5.84s\tremaining: 1.11s\n",
            "147:\tlearn: 0.0011202\ttest: 0.0213035\tbest: 0.0213035 (147)\ttotal: 5.88s\tremaining: 1.07s\n",
            "148:\tlearn: 0.0011201\ttest: 0.0213032\tbest: 0.0213032 (148)\ttotal: 5.92s\tremaining: 1.03s\n",
            "149:\tlearn: 0.0011201\ttest: 0.0213032\tbest: 0.0213032 (149)\ttotal: 5.96s\tremaining: 993ms\n",
            "150:\tlearn: 0.0011200\ttest: 0.0213026\tbest: 0.0213026 (150)\ttotal: 5.99s\tremaining: 953ms\n",
            "151:\tlearn: 0.0011200\ttest: 0.0213023\tbest: 0.0213023 (151)\ttotal: 6.04s\tremaining: 913ms\n",
            "152:\tlearn: 0.0011199\ttest: 0.0213024\tbest: 0.0213023 (151)\ttotal: 6.07s\tremaining: 873ms\n",
            "153:\tlearn: 0.0011199\ttest: 0.0213022\tbest: 0.0213022 (153)\ttotal: 6.11s\tremaining: 833ms\n",
            "154:\tlearn: 0.0011198\ttest: 0.0213021\tbest: 0.0213021 (154)\ttotal: 6.15s\tremaining: 794ms\n",
            "155:\tlearn: 0.0011198\ttest: 0.0213021\tbest: 0.0213021 (155)\ttotal: 6.19s\tremaining: 754ms\n",
            "156:\tlearn: 0.0011197\ttest: 0.0213016\tbest: 0.0213016 (156)\ttotal: 6.23s\tremaining: 714ms\n",
            "157:\tlearn: 0.0011197\ttest: 0.0213019\tbest: 0.0213016 (156)\ttotal: 6.28s\tremaining: 676ms\n",
            "158:\tlearn: 0.0011197\ttest: 0.0213020\tbest: 0.0213016 (156)\ttotal: 6.32s\tremaining: 636ms\n",
            "159:\tlearn: 0.0011196\ttest: 0.0213019\tbest: 0.0213016 (156)\ttotal: 6.36s\tremaining: 596ms\n",
            "160:\tlearn: 0.0011196\ttest: 0.0213018\tbest: 0.0213016 (156)\ttotal: 6.4s\tremaining: 556ms\n",
            "161:\tlearn: 0.0011195\ttest: 0.0213015\tbest: 0.0213015 (161)\ttotal: 6.44s\tremaining: 517ms\n",
            "162:\tlearn: 0.0011194\ttest: 0.0213012\tbest: 0.0213012 (162)\ttotal: 6.48s\tremaining: 477ms\n",
            "163:\tlearn: 0.0011194\ttest: 0.0213002\tbest: 0.0213002 (163)\ttotal: 6.52s\tremaining: 438ms\n",
            "164:\tlearn: 0.0011193\ttest: 0.0212997\tbest: 0.0212997 (164)\ttotal: 6.56s\tremaining: 398ms\n",
            "165:\tlearn: 0.0011193\ttest: 0.0212991\tbest: 0.0212991 (165)\ttotal: 6.6s\tremaining: 358ms\n",
            "166:\tlearn: 0.0011192\ttest: 0.0212992\tbest: 0.0212991 (165)\ttotal: 6.64s\tremaining: 318ms\n",
            "167:\tlearn: 0.0011190\ttest: 0.0212989\tbest: 0.0212989 (167)\ttotal: 6.68s\tremaining: 278ms\n",
            "168:\tlearn: 0.0011189\ttest: 0.0212989\tbest: 0.0212989 (168)\ttotal: 6.72s\tremaining: 239ms\n",
            "169:\tlearn: 0.0011188\ttest: 0.0212987\tbest: 0.0212987 (169)\ttotal: 6.76s\tremaining: 199ms\n",
            "170:\tlearn: 0.0011188\ttest: 0.0212987\tbest: 0.0212987 (169)\ttotal: 6.8s\tremaining: 159ms\n",
            "171:\tlearn: 0.0010783\ttest: 0.0211635\tbest: 0.0211635 (171)\ttotal: 6.84s\tremaining: 119ms\n",
            "172:\tlearn: 0.0010783\ttest: 0.0211633\tbest: 0.0211633 (172)\ttotal: 6.88s\tremaining: 79.5ms\n",
            "173:\tlearn: 0.0010783\ttest: 0.0211631\tbest: 0.0211631 (173)\ttotal: 6.92s\tremaining: 39.8ms\n",
            "174:\tlearn: 0.0010782\ttest: 0.0211631\tbest: 0.0211631 (174)\ttotal: 6.96s\tremaining: 0us\n",
            "\n",
            "bestTest = 0.02116307139\n",
            "bestIteration = 174\n",
            "\n",
            "0:\tlearn: 0.1934087\ttest: 0.2023432\tbest: 0.2023432 (0)\ttotal: 45.5ms\tremaining: 7.92s\n",
            "1:\tlearn: 0.1071835\ttest: 0.1171127\tbest: 0.1171127 (1)\ttotal: 85.9ms\tremaining: 7.43s\n",
            "2:\tlearn: 0.0770831\ttest: 0.0861918\tbest: 0.0861918 (2)\ttotal: 125ms\tremaining: 7.19s\n",
            "3:\tlearn: 0.0599174\ttest: 0.0673789\tbest: 0.0673789 (3)\ttotal: 165ms\tremaining: 7.05s\n",
            "4:\tlearn: 0.0494654\ttest: 0.0567277\tbest: 0.0567277 (4)\ttotal: 205ms\tremaining: 6.98s\n",
            "5:\tlearn: 0.0431799\ttest: 0.0515096\tbest: 0.0515096 (5)\ttotal: 245ms\tremaining: 6.89s\n",
            "6:\tlearn: 0.0398990\ttest: 0.0505389\tbest: 0.0505389 (6)\ttotal: 289ms\tremaining: 6.93s\n",
            "7:\tlearn: 0.0363775\ttest: 0.0483389\tbest: 0.0483389 (7)\ttotal: 335ms\tremaining: 7s\n",
            "8:\tlearn: 0.0325905\ttest: 0.0470931\tbest: 0.0470931 (8)\ttotal: 375ms\tremaining: 6.91s\n",
            "9:\tlearn: 0.0297306\ttest: 0.0457037\tbest: 0.0457037 (9)\ttotal: 414ms\tremaining: 6.83s\n",
            "10:\tlearn: 0.0273461\ttest: 0.0452344\tbest: 0.0452344 (10)\ttotal: 456ms\tremaining: 6.8s\n",
            "11:\tlearn: 0.0255314\ttest: 0.0457965\tbest: 0.0452344 (10)\ttotal: 502ms\tremaining: 6.82s\n",
            "12:\tlearn: 0.0228757\ttest: 0.0434231\tbest: 0.0434231 (12)\ttotal: 544ms\tremaining: 6.78s\n",
            "13:\tlearn: 0.0210743\ttest: 0.0426363\tbest: 0.0426363 (13)\ttotal: 583ms\tremaining: 6.71s\n",
            "14:\tlearn: 0.0193618\ttest: 0.0411049\tbest: 0.0411049 (14)\ttotal: 623ms\tremaining: 6.64s\n",
            "15:\tlearn: 0.0190360\ttest: 0.0409993\tbest: 0.0409993 (15)\ttotal: 662ms\tremaining: 6.58s\n",
            "16:\tlearn: 0.0185044\ttest: 0.0409826\tbest: 0.0409826 (16)\ttotal: 703ms\tremaining: 6.54s\n",
            "17:\tlearn: 0.0176781\ttest: 0.0401831\tbest: 0.0401831 (17)\ttotal: 753ms\tremaining: 6.57s\n",
            "18:\tlearn: 0.0168309\ttest: 0.0401766\tbest: 0.0401766 (18)\ttotal: 793ms\tremaining: 6.51s\n",
            "19:\tlearn: 0.0151605\ttest: 0.0395206\tbest: 0.0395206 (19)\ttotal: 834ms\tremaining: 6.46s\n",
            "20:\tlearn: 0.0142077\ttest: 0.0386431\tbest: 0.0386431 (20)\ttotal: 875ms\tremaining: 6.41s\n",
            "21:\tlearn: 0.0136328\ttest: 0.0389021\tbest: 0.0386431 (20)\ttotal: 920ms\tremaining: 6.4s\n",
            "22:\tlearn: 0.0132881\ttest: 0.0387711\tbest: 0.0386431 (20)\ttotal: 959ms\tremaining: 6.34s\n",
            "23:\tlearn: 0.0125651\ttest: 0.0379037\tbest: 0.0379037 (23)\ttotal: 998ms\tremaining: 6.28s\n",
            "24:\tlearn: 0.0115924\ttest: 0.0357563\tbest: 0.0357563 (24)\ttotal: 1.04s\tremaining: 6.23s\n",
            "25:\tlearn: 0.0115924\ttest: 0.0357566\tbest: 0.0357563 (24)\ttotal: 1.05s\tremaining: 6s\n",
            "26:\tlearn: 0.0104104\ttest: 0.0352554\tbest: 0.0352554 (26)\ttotal: 1.09s\tremaining: 5.96s\n",
            "27:\tlearn: 0.0100367\ttest: 0.0347041\tbest: 0.0347041 (27)\ttotal: 1.13s\tremaining: 5.93s\n",
            "28:\tlearn: 0.0091435\ttest: 0.0336324\tbest: 0.0336324 (28)\ttotal: 1.17s\tremaining: 5.89s\n",
            "29:\tlearn: 0.0089351\ttest: 0.0337366\tbest: 0.0336324 (28)\ttotal: 1.21s\tremaining: 5.84s\n",
            "30:\tlearn: 0.0086266\ttest: 0.0336997\tbest: 0.0336324 (28)\ttotal: 1.25s\tremaining: 5.79s\n",
            "31:\tlearn: 0.0081310\ttest: 0.0321490\tbest: 0.0321490 (31)\ttotal: 1.29s\tremaining: 5.75s\n",
            "32:\tlearn: 0.0078404\ttest: 0.0321484\tbest: 0.0321484 (32)\ttotal: 1.34s\tremaining: 5.76s\n",
            "33:\tlearn: 0.0075956\ttest: 0.0316736\tbest: 0.0316736 (33)\ttotal: 1.38s\tremaining: 5.71s\n",
            "34:\tlearn: 0.0073430\ttest: 0.0313289\tbest: 0.0313289 (34)\ttotal: 1.42s\tremaining: 5.69s\n",
            "35:\tlearn: 0.0070704\ttest: 0.0314435\tbest: 0.0313289 (34)\ttotal: 1.46s\tremaining: 5.65s\n",
            "36:\tlearn: 0.0069145\ttest: 0.0313034\tbest: 0.0313034 (36)\ttotal: 1.5s\tremaining: 5.61s\n",
            "37:\tlearn: 0.0066081\ttest: 0.0315076\tbest: 0.0313034 (36)\ttotal: 1.55s\tremaining: 5.58s\n",
            "38:\tlearn: 0.0062622\ttest: 0.0313208\tbest: 0.0313034 (36)\ttotal: 1.59s\tremaining: 5.53s\n",
            "39:\tlearn: 0.0059860\ttest: 0.0307799\tbest: 0.0307799 (39)\ttotal: 1.63s\tremaining: 5.49s\n",
            "40:\tlearn: 0.0056479\ttest: 0.0305033\tbest: 0.0305033 (40)\ttotal: 1.67s\tremaining: 5.45s\n",
            "41:\tlearn: 0.0054357\ttest: 0.0305309\tbest: 0.0305033 (40)\ttotal: 1.71s\tremaining: 5.41s\n",
            "42:\tlearn: 0.0052859\ttest: 0.0301000\tbest: 0.0301000 (42)\ttotal: 1.75s\tremaining: 5.38s\n",
            "43:\tlearn: 0.0052857\ttest: 0.0300997\tbest: 0.0300997 (43)\ttotal: 1.8s\tremaining: 5.35s\n",
            "44:\tlearn: 0.0050910\ttest: 0.0295652\tbest: 0.0295652 (44)\ttotal: 1.83s\tremaining: 5.3s\n",
            "45:\tlearn: 0.0048984\ttest: 0.0295239\tbest: 0.0295239 (45)\ttotal: 1.88s\tremaining: 5.26s\n",
            "46:\tlearn: 0.0048984\ttest: 0.0295238\tbest: 0.0295238 (46)\ttotal: 1.91s\tremaining: 5.21s\n",
            "47:\tlearn: 0.0048982\ttest: 0.0295238\tbest: 0.0295238 (46)\ttotal: 1.95s\tremaining: 5.17s\n",
            "48:\tlearn: 0.0047380\ttest: 0.0293277\tbest: 0.0293277 (48)\ttotal: 2s\tremaining: 5.14s\n",
            "49:\tlearn: 0.0046024\ttest: 0.0293391\tbest: 0.0293277 (48)\ttotal: 2.04s\tremaining: 5.09s\n",
            "50:\tlearn: 0.0044129\ttest: 0.0291308\tbest: 0.0291308 (50)\ttotal: 2.08s\tremaining: 5.05s\n",
            "51:\tlearn: 0.0042249\ttest: 0.0289353\tbest: 0.0289353 (51)\ttotal: 2.12s\tremaining: 5s\n",
            "52:\tlearn: 0.0040802\ttest: 0.0288747\tbest: 0.0288747 (52)\ttotal: 2.16s\tremaining: 4.96s\n",
            "53:\tlearn: 0.0039788\ttest: 0.0285347\tbest: 0.0285347 (53)\ttotal: 2.2s\tremaining: 4.92s\n",
            "54:\tlearn: 0.0039788\ttest: 0.0285347\tbest: 0.0285347 (53)\ttotal: 2.24s\tremaining: 4.88s\n",
            "55:\tlearn: 0.0039787\ttest: 0.0285348\tbest: 0.0285347 (53)\ttotal: 2.27s\tremaining: 4.83s\n",
            "56:\tlearn: 0.0039787\ttest: 0.0285349\tbest: 0.0285347 (53)\ttotal: 2.31s\tremaining: 4.79s\n",
            "57:\tlearn: 0.0038626\ttest: 0.0285607\tbest: 0.0285347 (53)\ttotal: 2.36s\tremaining: 4.77s\n",
            "58:\tlearn: 0.0038625\ttest: 0.0285603\tbest: 0.0285347 (53)\ttotal: 2.4s\tremaining: 4.72s\n",
            "59:\tlearn: 0.0038625\ttest: 0.0285606\tbest: 0.0285347 (53)\ttotal: 2.44s\tremaining: 4.67s\n",
            "60:\tlearn: 0.0038624\ttest: 0.0285602\tbest: 0.0285347 (53)\ttotal: 2.48s\tremaining: 4.63s\n",
            "61:\tlearn: 0.0038624\ttest: 0.0285602\tbest: 0.0285347 (53)\ttotal: 2.52s\tremaining: 4.59s\n",
            "62:\tlearn: 0.0038624\ttest: 0.0285603\tbest: 0.0285347 (53)\ttotal: 2.56s\tremaining: 4.54s\n",
            "63:\tlearn: 0.0038622\ttest: 0.0285614\tbest: 0.0285347 (53)\ttotal: 2.6s\tremaining: 4.51s\n",
            "64:\tlearn: 0.0038622\ttest: 0.0285613\tbest: 0.0285347 (53)\ttotal: 2.64s\tremaining: 4.47s\n",
            "65:\tlearn: 0.0038622\ttest: 0.0285612\tbest: 0.0285347 (53)\ttotal: 2.68s\tremaining: 4.42s\n",
            "66:\tlearn: 0.0038622\ttest: 0.0285612\tbest: 0.0285347 (53)\ttotal: 2.72s\tremaining: 4.38s\n",
            "67:\tlearn: 0.0038621\ttest: 0.0285608\tbest: 0.0285347 (53)\ttotal: 2.75s\tremaining: 4.33s\n",
            "68:\tlearn: 0.0038621\ttest: 0.0285607\tbest: 0.0285347 (53)\ttotal: 2.79s\tremaining: 4.29s\n",
            "69:\tlearn: 0.0038621\ttest: 0.0285608\tbest: 0.0285347 (53)\ttotal: 2.84s\tremaining: 4.26s\n",
            "70:\tlearn: 0.0038621\ttest: 0.0285607\tbest: 0.0285347 (53)\ttotal: 2.88s\tremaining: 4.22s\n",
            "71:\tlearn: 0.0038621\ttest: 0.0285607\tbest: 0.0285347 (53)\ttotal: 2.92s\tremaining: 4.17s\n",
            "72:\tlearn: 0.0038621\ttest: 0.0285606\tbest: 0.0285347 (53)\ttotal: 2.96s\tremaining: 4.13s\n",
            "73:\tlearn: 0.0038621\ttest: 0.0285607\tbest: 0.0285347 (53)\ttotal: 3s\tremaining: 4.09s\n",
            "74:\tlearn: 0.0038620\ttest: 0.0285610\tbest: 0.0285347 (53)\ttotal: 3.04s\tremaining: 4.05s\n",
            "75:\tlearn: 0.0038620\ttest: 0.0285610\tbest: 0.0285347 (53)\ttotal: 3.08s\tremaining: 4.01s\n",
            "76:\tlearn: 0.0038620\ttest: 0.0285609\tbest: 0.0285347 (53)\ttotal: 3.12s\tremaining: 3.97s\n",
            "77:\tlearn: 0.0038620\ttest: 0.0285609\tbest: 0.0285347 (53)\ttotal: 3.16s\tremaining: 3.92s\n",
            "78:\tlearn: 0.0038620\ttest: 0.0285609\tbest: 0.0285347 (53)\ttotal: 3.19s\tremaining: 3.88s\n",
            "79:\tlearn: 0.0038620\ttest: 0.0285609\tbest: 0.0285347 (53)\ttotal: 3.23s\tremaining: 3.84s\n",
            "80:\tlearn: 0.0038619\ttest: 0.0285610\tbest: 0.0285347 (53)\ttotal: 3.27s\tremaining: 3.79s\n",
            "81:\tlearn: 0.0038619\ttest: 0.0285612\tbest: 0.0285347 (53)\ttotal: 3.31s\tremaining: 3.76s\n",
            "82:\tlearn: 0.0038619\ttest: 0.0285612\tbest: 0.0285347 (53)\ttotal: 3.36s\tremaining: 3.72s\n",
            "83:\tlearn: 0.0038619\ttest: 0.0285603\tbest: 0.0285347 (53)\ttotal: 3.4s\tremaining: 3.68s\n",
            "84:\tlearn: 0.0037528\ttest: 0.0283744\tbest: 0.0283744 (84)\ttotal: 3.44s\tremaining: 3.64s\n",
            "85:\tlearn: 0.0037527\ttest: 0.0283745\tbest: 0.0283744 (84)\ttotal: 3.47s\tremaining: 3.6s\n",
            "86:\tlearn: 0.0037527\ttest: 0.0283744\tbest: 0.0283744 (86)\ttotal: 3.52s\tremaining: 3.56s\n",
            "87:\tlearn: 0.0037526\ttest: 0.0283743\tbest: 0.0283743 (87)\ttotal: 3.56s\tremaining: 3.52s\n",
            "88:\tlearn: 0.0036769\ttest: 0.0284586\tbest: 0.0283743 (87)\ttotal: 3.6s\tremaining: 3.48s\n",
            "89:\tlearn: 0.0036768\ttest: 0.0284586\tbest: 0.0283743 (87)\ttotal: 3.64s\tremaining: 3.44s\n",
            "90:\tlearn: 0.0036768\ttest: 0.0284585\tbest: 0.0283743 (87)\ttotal: 3.68s\tremaining: 3.39s\n",
            "91:\tlearn: 0.0036768\ttest: 0.0284587\tbest: 0.0283743 (87)\ttotal: 3.71s\tremaining: 3.35s\n",
            "92:\tlearn: 0.0036183\ttest: 0.0285294\tbest: 0.0283743 (87)\ttotal: 3.76s\tremaining: 3.32s\n",
            "93:\tlearn: 0.0036182\ttest: 0.0285295\tbest: 0.0283743 (87)\ttotal: 3.77s\tremaining: 3.25s\n",
            "94:\tlearn: 0.0036182\ttest: 0.0285296\tbest: 0.0283743 (87)\ttotal: 3.81s\tremaining: 3.21s\n",
            "95:\tlearn: 0.0036181\ttest: 0.0285298\tbest: 0.0283743 (87)\ttotal: 3.85s\tremaining: 3.17s\n",
            "96:\tlearn: 0.0036181\ttest: 0.0285298\tbest: 0.0283743 (87)\ttotal: 3.89s\tremaining: 3.13s\n",
            "97:\tlearn: 0.0036179\ttest: 0.0285311\tbest: 0.0283743 (87)\ttotal: 3.93s\tremaining: 3.08s\n",
            "98:\tlearn: 0.0036179\ttest: 0.0285311\tbest: 0.0283743 (87)\ttotal: 3.97s\tremaining: 3.05s\n",
            "99:\tlearn: 0.0036178\ttest: 0.0285314\tbest: 0.0283743 (87)\ttotal: 4.01s\tremaining: 3s\n",
            "100:\tlearn: 0.0036178\ttest: 0.0285314\tbest: 0.0283743 (87)\ttotal: 4.04s\tremaining: 2.96s\n",
            "101:\tlearn: 0.0036178\ttest: 0.0285314\tbest: 0.0283743 (87)\ttotal: 4.08s\tremaining: 2.92s\n",
            "102:\tlearn: 0.0036177\ttest: 0.0285312\tbest: 0.0283743 (87)\ttotal: 4.12s\tremaining: 2.88s\n",
            "103:\tlearn: 0.0036176\ttest: 0.0285308\tbest: 0.0283743 (87)\ttotal: 4.16s\tremaining: 2.84s\n",
            "104:\tlearn: 0.0036176\ttest: 0.0285306\tbest: 0.0283743 (87)\ttotal: 4.2s\tremaining: 2.8s\n",
            "105:\tlearn: 0.0036175\ttest: 0.0285304\tbest: 0.0283743 (87)\ttotal: 4.24s\tremaining: 2.76s\n",
            "106:\tlearn: 0.0036175\ttest: 0.0285304\tbest: 0.0283743 (87)\ttotal: 4.28s\tremaining: 2.72s\n",
            "107:\tlearn: 0.0036175\ttest: 0.0285306\tbest: 0.0283743 (87)\ttotal: 4.32s\tremaining: 2.68s\n",
            "108:\tlearn: 0.0036174\ttest: 0.0285309\tbest: 0.0283743 (87)\ttotal: 4.37s\tremaining: 2.64s\n",
            "109:\tlearn: 0.0036173\ttest: 0.0285306\tbest: 0.0283743 (87)\ttotal: 4.41s\tremaining: 2.61s\n",
            "110:\tlearn: 0.0036171\ttest: 0.0285318\tbest: 0.0283743 (87)\ttotal: 4.45s\tremaining: 2.56s\n",
            "111:\tlearn: 0.0036170\ttest: 0.0285318\tbest: 0.0283743 (87)\ttotal: 4.49s\tremaining: 2.52s\n",
            "112:\tlearn: 0.0036170\ttest: 0.0285317\tbest: 0.0283743 (87)\ttotal: 4.52s\tremaining: 2.48s\n",
            "113:\tlearn: 0.0036170\ttest: 0.0285317\tbest: 0.0283743 (87)\ttotal: 4.56s\tremaining: 2.44s\n",
            "114:\tlearn: 0.0036170\ttest: 0.0285318\tbest: 0.0283743 (87)\ttotal: 4.6s\tremaining: 2.4s\n",
            "115:\tlearn: 0.0036170\ttest: 0.0285318\tbest: 0.0283743 (87)\ttotal: 4.64s\tremaining: 2.36s\n",
            "116:\tlearn: 0.0036169\ttest: 0.0285324\tbest: 0.0283743 (87)\ttotal: 4.68s\tremaining: 2.32s\n",
            "117:\tlearn: 0.0036169\ttest: 0.0285324\tbest: 0.0283743 (87)\ttotal: 4.72s\tremaining: 2.28s\n",
            "118:\tlearn: 0.0036168\ttest: 0.0285323\tbest: 0.0283743 (87)\ttotal: 4.76s\tremaining: 2.24s\n",
            "119:\tlearn: 0.0036168\ttest: 0.0285318\tbest: 0.0283743 (87)\ttotal: 4.8s\tremaining: 2.2s\n",
            "120:\tlearn: 0.0036167\ttest: 0.0285318\tbest: 0.0283743 (87)\ttotal: 4.84s\tremaining: 2.16s\n",
            "121:\tlearn: 0.0036167\ttest: 0.0285318\tbest: 0.0283743 (87)\ttotal: 4.89s\tremaining: 2.12s\n",
            "122:\tlearn: 0.0036167\ttest: 0.0285318\tbest: 0.0283743 (87)\ttotal: 4.93s\tremaining: 2.08s\n",
            "123:\tlearn: 0.0036167\ttest: 0.0285317\tbest: 0.0283743 (87)\ttotal: 4.96s\tremaining: 2.04s\n",
            "124:\tlearn: 0.0036166\ttest: 0.0285320\tbest: 0.0283743 (87)\ttotal: 5s\tremaining: 2s\n",
            "125:\tlearn: 0.0036165\ttest: 0.0285320\tbest: 0.0283743 (87)\ttotal: 5.04s\tremaining: 1.96s\n",
            "126:\tlearn: 0.0036164\ttest: 0.0285320\tbest: 0.0283743 (87)\ttotal: 5.08s\tremaining: 1.92s\n",
            "127:\tlearn: 0.0036164\ttest: 0.0285318\tbest: 0.0283743 (87)\ttotal: 5.12s\tremaining: 1.88s\n",
            "128:\tlearn: 0.0036151\ttest: 0.0285355\tbest: 0.0283743 (87)\ttotal: 5.16s\tremaining: 1.84s\n",
            "129:\tlearn: 0.0036151\ttest: 0.0285355\tbest: 0.0283743 (87)\ttotal: 5.2s\tremaining: 1.8s\n",
            "130:\tlearn: 0.0036151\ttest: 0.0285357\tbest: 0.0283743 (87)\ttotal: 5.24s\tremaining: 1.76s\n",
            "131:\tlearn: 0.0036151\ttest: 0.0285357\tbest: 0.0283743 (87)\ttotal: 5.28s\tremaining: 1.72s\n",
            "132:\tlearn: 0.0036150\ttest: 0.0285357\tbest: 0.0283743 (87)\ttotal: 5.32s\tremaining: 1.68s\n",
            "133:\tlearn: 0.0036150\ttest: 0.0285357\tbest: 0.0283743 (87)\ttotal: 5.37s\tremaining: 1.64s\n",
            "134:\tlearn: 0.0036149\ttest: 0.0285353\tbest: 0.0283743 (87)\ttotal: 5.41s\tremaining: 1.6s\n",
            "135:\tlearn: 0.0036148\ttest: 0.0285352\tbest: 0.0283743 (87)\ttotal: 5.45s\tremaining: 1.56s\n",
            "136:\tlearn: 0.0036147\ttest: 0.0285350\tbest: 0.0283743 (87)\ttotal: 5.48s\tremaining: 1.52s\n",
            "137:\tlearn: 0.0036147\ttest: 0.0285348\tbest: 0.0283743 (87)\ttotal: 5.52s\tremaining: 1.48s\n",
            "138:\tlearn: 0.0036147\ttest: 0.0285347\tbest: 0.0283743 (87)\ttotal: 5.56s\tremaining: 1.44s\n",
            "139:\tlearn: 0.0036145\ttest: 0.0285337\tbest: 0.0283743 (87)\ttotal: 5.61s\tremaining: 1.4s\n",
            "140:\tlearn: 0.0036145\ttest: 0.0285337\tbest: 0.0283743 (87)\ttotal: 5.65s\tremaining: 1.36s\n",
            "141:\tlearn: 0.0036145\ttest: 0.0285335\tbest: 0.0283743 (87)\ttotal: 5.69s\tremaining: 1.32s\n",
            "142:\tlearn: 0.0036144\ttest: 0.0285333\tbest: 0.0283743 (87)\ttotal: 5.73s\tremaining: 1.28s\n",
            "143:\tlearn: 0.0036144\ttest: 0.0285334\tbest: 0.0283743 (87)\ttotal: 5.76s\tremaining: 1.24s\n",
            "144:\tlearn: 0.0036144\ttest: 0.0285333\tbest: 0.0283743 (87)\ttotal: 5.8s\tremaining: 1.2s\n",
            "145:\tlearn: 0.0036144\ttest: 0.0285332\tbest: 0.0283743 (87)\ttotal: 5.86s\tremaining: 1.16s\n",
            "146:\tlearn: 0.0036144\ttest: 0.0285331\tbest: 0.0283743 (87)\ttotal: 5.9s\tremaining: 1.12s\n",
            "147:\tlearn: 0.0036144\ttest: 0.0285333\tbest: 0.0283743 (87)\ttotal: 5.94s\tremaining: 1.08s\n",
            "148:\tlearn: 0.0036144\ttest: 0.0285335\tbest: 0.0283743 (87)\ttotal: 5.98s\tremaining: 1.04s\n",
            "149:\tlearn: 0.0036144\ttest: 0.0285335\tbest: 0.0283743 (87)\ttotal: 6.02s\tremaining: 1s\n",
            "150:\tlearn: 0.0036143\ttest: 0.0285334\tbest: 0.0283743 (87)\ttotal: 6.06s\tremaining: 963ms\n",
            "151:\tlearn: 0.0036143\ttest: 0.0285333\tbest: 0.0283743 (87)\ttotal: 6.1s\tremaining: 923ms\n",
            "152:\tlearn: 0.0036143\ttest: 0.0285330\tbest: 0.0283743 (87)\ttotal: 6.14s\tremaining: 883ms\n",
            "153:\tlearn: 0.0036142\ttest: 0.0285326\tbest: 0.0283743 (87)\ttotal: 6.18s\tremaining: 843ms\n",
            "154:\tlearn: 0.0036142\ttest: 0.0285326\tbest: 0.0283743 (87)\ttotal: 6.22s\tremaining: 803ms\n",
            "155:\tlearn: 0.0036141\ttest: 0.0285325\tbest: 0.0283743 (87)\ttotal: 6.26s\tremaining: 762ms\n",
            "156:\tlearn: 0.0036141\ttest: 0.0285327\tbest: 0.0283743 (87)\ttotal: 6.3s\tremaining: 722ms\n",
            "157:\tlearn: 0.0036141\ttest: 0.0285327\tbest: 0.0283743 (87)\ttotal: 6.34s\tremaining: 682ms\n",
            "158:\tlearn: 0.0036140\ttest: 0.0285326\tbest: 0.0283743 (87)\ttotal: 6.38s\tremaining: 643ms\n",
            "159:\tlearn: 0.0036140\ttest: 0.0285325\tbest: 0.0283743 (87)\ttotal: 6.42s\tremaining: 602ms\n",
            "160:\tlearn: 0.0036140\ttest: 0.0285322\tbest: 0.0283743 (87)\ttotal: 6.46s\tremaining: 562ms\n",
            "161:\tlearn: 0.0036139\ttest: 0.0285330\tbest: 0.0283743 (87)\ttotal: 6.5s\tremaining: 522ms\n",
            "162:\tlearn: 0.0036139\ttest: 0.0285329\tbest: 0.0283743 (87)\ttotal: 6.54s\tremaining: 482ms\n",
            "163:\tlearn: 0.0036139\ttest: 0.0285332\tbest: 0.0283743 (87)\ttotal: 6.58s\tremaining: 441ms\n",
            "164:\tlearn: 0.0036138\ttest: 0.0285334\tbest: 0.0283743 (87)\ttotal: 6.62s\tremaining: 401ms\n",
            "165:\tlearn: 0.0036138\ttest: 0.0285330\tbest: 0.0283743 (87)\ttotal: 6.66s\tremaining: 361ms\n",
            "166:\tlearn: 0.0036137\ttest: 0.0285329\tbest: 0.0283743 (87)\ttotal: 6.7s\tremaining: 321ms\n",
            "167:\tlearn: 0.0036136\ttest: 0.0285322\tbest: 0.0283743 (87)\ttotal: 6.74s\tremaining: 281ms\n",
            "168:\tlearn: 0.0036136\ttest: 0.0285315\tbest: 0.0283743 (87)\ttotal: 6.78s\tremaining: 241ms\n",
            "169:\tlearn: 0.0036136\ttest: 0.0285315\tbest: 0.0283743 (87)\ttotal: 6.82s\tremaining: 201ms\n",
            "170:\tlearn: 0.0036135\ttest: 0.0285322\tbest: 0.0283743 (87)\ttotal: 6.86s\tremaining: 161ms\n",
            "171:\tlearn: 0.0036135\ttest: 0.0285321\tbest: 0.0283743 (87)\ttotal: 6.9s\tremaining: 120ms\n",
            "172:\tlearn: 0.0036134\ttest: 0.0285325\tbest: 0.0283743 (87)\ttotal: 6.94s\tremaining: 80.2ms\n",
            "173:\tlearn: 0.0036134\ttest: 0.0285325\tbest: 0.0283743 (87)\ttotal: 6.97s\tremaining: 40.1ms\n",
            "174:\tlearn: 0.0036134\ttest: 0.0285327\tbest: 0.0283743 (87)\ttotal: 7.02s\tremaining: 0us\n",
            "\n",
            "bestTest = 0.02837434994\n",
            "bestIteration = 87\n",
            "\n",
            "0:\tlearn: 0.2778790\ttest: 0.2842362\tbest: 0.2842362 (0)\ttotal: 40.5ms\tremaining: 7.05s\n",
            "1:\tlearn: 0.1602542\ttest: 0.1676895\tbest: 0.1676895 (1)\ttotal: 81ms\tremaining: 7s\n",
            "2:\tlearn: 0.1105113\ttest: 0.1165158\tbest: 0.1165158 (2)\ttotal: 120ms\tremaining: 6.89s\n",
            "3:\tlearn: 0.0873555\ttest: 0.0932571\tbest: 0.0932571 (3)\ttotal: 164ms\tremaining: 7s\n",
            "4:\tlearn: 0.0722180\ttest: 0.0776694\tbest: 0.0776694 (4)\ttotal: 210ms\tremaining: 7.14s\n",
            "5:\tlearn: 0.0646148\ttest: 0.0704185\tbest: 0.0704185 (5)\ttotal: 252ms\tremaining: 7.11s\n",
            "6:\tlearn: 0.0577989\ttest: 0.0646403\tbest: 0.0646403 (6)\ttotal: 293ms\tremaining: 7.03s\n",
            "7:\tlearn: 0.0522282\ttest: 0.0594470\tbest: 0.0594470 (7)\ttotal: 334ms\tremaining: 6.96s\n",
            "8:\tlearn: 0.0461554\ttest: 0.0540878\tbest: 0.0540878 (8)\ttotal: 383ms\tremaining: 7.06s\n",
            "9:\tlearn: 0.0426544\ttest: 0.0516108\tbest: 0.0516108 (9)\ttotal: 426ms\tremaining: 7.03s\n",
            "10:\tlearn: 0.0401511\ttest: 0.0497018\tbest: 0.0497018 (10)\ttotal: 467ms\tremaining: 6.96s\n",
            "11:\tlearn: 0.0375666\ttest: 0.0478299\tbest: 0.0478299 (11)\ttotal: 507ms\tremaining: 6.88s\n",
            "12:\tlearn: 0.0357799\ttest: 0.0478373\tbest: 0.0478299 (11)\ttotal: 547ms\tremaining: 6.81s\n",
            "13:\tlearn: 0.0345663\ttest: 0.0472829\tbest: 0.0472829 (13)\ttotal: 587ms\tremaining: 6.75s\n",
            "14:\tlearn: 0.0329822\ttest: 0.0457927\tbest: 0.0457927 (14)\ttotal: 626ms\tremaining: 6.68s\n",
            "15:\tlearn: 0.0308043\ttest: 0.0438475\tbest: 0.0438475 (15)\ttotal: 671ms\tremaining: 6.67s\n",
            "16:\tlearn: 0.0304851\ttest: 0.0436118\tbest: 0.0436118 (16)\ttotal: 686ms\tremaining: 6.38s\n",
            "17:\tlearn: 0.0296246\ttest: 0.0432788\tbest: 0.0432788 (17)\ttotal: 725ms\tremaining: 6.32s\n",
            "18:\tlearn: 0.0282992\ttest: 0.0430186\tbest: 0.0430186 (18)\ttotal: 767ms\tremaining: 6.3s\n",
            "19:\tlearn: 0.0274460\ttest: 0.0425495\tbest: 0.0425495 (19)\ttotal: 808ms\tremaining: 6.26s\n",
            "20:\tlearn: 0.0261623\ttest: 0.0414297\tbest: 0.0414297 (20)\ttotal: 848ms\tremaining: 6.22s\n",
            "21:\tlearn: 0.0249298\ttest: 0.0408035\tbest: 0.0408035 (21)\ttotal: 893ms\tremaining: 6.21s\n",
            "22:\tlearn: 0.0240180\ttest: 0.0404926\tbest: 0.0404926 (22)\ttotal: 933ms\tremaining: 6.17s\n",
            "23:\tlearn: 0.0228939\ttest: 0.0391304\tbest: 0.0391304 (23)\ttotal: 974ms\tremaining: 6.13s\n",
            "24:\tlearn: 0.0223355\ttest: 0.0386789\tbest: 0.0386789 (24)\ttotal: 1.01s\tremaining: 6.08s\n",
            "25:\tlearn: 0.0223334\ttest: 0.0386677\tbest: 0.0386677 (25)\ttotal: 1.02s\tremaining: 5.84s\n",
            "26:\tlearn: 0.0213120\ttest: 0.0380230\tbest: 0.0380230 (26)\ttotal: 1.06s\tremaining: 5.8s\n",
            "27:\tlearn: 0.0210748\ttest: 0.0379074\tbest: 0.0379074 (27)\ttotal: 1.1s\tremaining: 5.8s\n",
            "28:\tlearn: 0.0204325\ttest: 0.0372751\tbest: 0.0372751 (28)\ttotal: 1.15s\tremaining: 5.76s\n",
            "29:\tlearn: 0.0195573\ttest: 0.0372003\tbest: 0.0372003 (29)\ttotal: 1.18s\tremaining: 5.72s\n",
            "30:\tlearn: 0.0195160\ttest: 0.0371961\tbest: 0.0371961 (30)\ttotal: 1.22s\tremaining: 5.68s\n",
            "31:\tlearn: 0.0182579\ttest: 0.0361191\tbest: 0.0361191 (31)\ttotal: 1.26s\tremaining: 5.65s\n",
            "32:\tlearn: 0.0176087\ttest: 0.0353416\tbest: 0.0353416 (32)\ttotal: 1.3s\tremaining: 5.61s\n",
            "33:\tlearn: 0.0176087\ttest: 0.0353416\tbest: 0.0353416 (33)\ttotal: 1.31s\tremaining: 5.45s\n",
            "34:\tlearn: 0.0176086\ttest: 0.0353417\tbest: 0.0353416 (33)\ttotal: 1.32s\tremaining: 5.3s\n",
            "35:\tlearn: 0.0168337\ttest: 0.0344351\tbest: 0.0344351 (35)\ttotal: 1.36s\tremaining: 5.27s\n",
            "36:\tlearn: 0.0163038\ttest: 0.0336894\tbest: 0.0336894 (36)\ttotal: 1.41s\tremaining: 5.27s\n",
            "37:\tlearn: 0.0163038\ttest: 0.0336893\tbest: 0.0336893 (37)\ttotal: 1.42s\tremaining: 5.11s\n",
            "38:\tlearn: 0.0156556\ttest: 0.0330162\tbest: 0.0330162 (38)\ttotal: 1.46s\tremaining: 5.1s\n",
            "39:\tlearn: 0.0152889\ttest: 0.0326572\tbest: 0.0326572 (39)\ttotal: 1.5s\tremaining: 5.07s\n",
            "40:\tlearn: 0.0144583\ttest: 0.0324358\tbest: 0.0324358 (40)\ttotal: 1.55s\tremaining: 5.07s\n",
            "41:\tlearn: 0.0136453\ttest: 0.0314797\tbest: 0.0314797 (41)\ttotal: 1.59s\tremaining: 5.04s\n",
            "42:\tlearn: 0.0130662\ttest: 0.0313027\tbest: 0.0313027 (42)\ttotal: 1.63s\tremaining: 5.01s\n",
            "43:\tlearn: 0.0123316\ttest: 0.0308765\tbest: 0.0308765 (43)\ttotal: 1.67s\tremaining: 4.97s\n",
            "44:\tlearn: 0.0122227\ttest: 0.0309073\tbest: 0.0308765 (43)\ttotal: 1.71s\tremaining: 4.94s\n",
            "45:\tlearn: 0.0122226\ttest: 0.0309073\tbest: 0.0308765 (43)\ttotal: 1.75s\tremaining: 4.9s\n",
            "46:\tlearn: 0.0120299\ttest: 0.0308062\tbest: 0.0308062 (46)\ttotal: 1.81s\tremaining: 4.93s\n",
            "47:\tlearn: 0.0114644\ttest: 0.0309518\tbest: 0.0308062 (46)\ttotal: 1.85s\tremaining: 4.9s\n",
            "48:\tlearn: 0.0112748\ttest: 0.0309948\tbest: 0.0308062 (46)\ttotal: 1.89s\tremaining: 4.86s\n",
            "49:\tlearn: 0.0112192\ttest: 0.0310144\tbest: 0.0308062 (46)\ttotal: 1.93s\tremaining: 4.82s\n",
            "50:\tlearn: 0.0112191\ttest: 0.0310138\tbest: 0.0308062 (46)\ttotal: 1.97s\tremaining: 4.78s\n",
            "51:\tlearn: 0.0109847\ttest: 0.0307044\tbest: 0.0307044 (51)\ttotal: 2.01s\tremaining: 4.75s\n",
            "52:\tlearn: 0.0105737\ttest: 0.0303595\tbest: 0.0303595 (52)\ttotal: 2.05s\tremaining: 4.73s\n",
            "53:\tlearn: 0.0105733\ttest: 0.0303596\tbest: 0.0303595 (52)\ttotal: 2.09s\tremaining: 4.69s\n",
            "54:\tlearn: 0.0105730\ttest: 0.0303591\tbest: 0.0303591 (54)\ttotal: 2.13s\tremaining: 4.65s\n",
            "55:\tlearn: 0.0104574\ttest: 0.0302834\tbest: 0.0302834 (55)\ttotal: 2.17s\tremaining: 4.62s\n",
            "56:\tlearn: 0.0103713\ttest: 0.0302344\tbest: 0.0302344 (56)\ttotal: 2.21s\tremaining: 4.58s\n",
            "57:\tlearn: 0.0100126\ttest: 0.0297464\tbest: 0.0297464 (57)\ttotal: 2.25s\tremaining: 4.54s\n",
            "58:\tlearn: 0.0098426\ttest: 0.0298101\tbest: 0.0297464 (57)\ttotal: 2.3s\tremaining: 4.52s\n",
            "59:\tlearn: 0.0098423\ttest: 0.0298126\tbest: 0.0297464 (57)\ttotal: 2.34s\tremaining: 4.49s\n",
            "60:\tlearn: 0.0095124\ttest: 0.0296239\tbest: 0.0296239 (60)\ttotal: 2.38s\tremaining: 4.45s\n",
            "61:\tlearn: 0.0092542\ttest: 0.0296907\tbest: 0.0296239 (60)\ttotal: 2.43s\tremaining: 4.43s\n",
            "62:\tlearn: 0.0090170\ttest: 0.0299769\tbest: 0.0296239 (60)\ttotal: 2.47s\tremaining: 4.39s\n",
            "63:\tlearn: 0.0087661\ttest: 0.0296151\tbest: 0.0296151 (63)\ttotal: 2.52s\tremaining: 4.36s\n",
            "64:\tlearn: 0.0085445\ttest: 0.0298585\tbest: 0.0296151 (63)\ttotal: 2.55s\tremaining: 4.32s\n",
            "65:\tlearn: 0.0085445\ttest: 0.0298585\tbest: 0.0296151 (63)\ttotal: 2.6s\tremaining: 4.29s\n",
            "66:\tlearn: 0.0084410\ttest: 0.0298891\tbest: 0.0296151 (63)\ttotal: 2.64s\tremaining: 4.25s\n",
            "67:\tlearn: 0.0084409\ttest: 0.0298893\tbest: 0.0296151 (63)\ttotal: 2.67s\tremaining: 4.21s\n",
            "68:\tlearn: 0.0081803\ttest: 0.0295035\tbest: 0.0295035 (68)\ttotal: 2.71s\tremaining: 4.17s\n",
            "69:\tlearn: 0.0080497\ttest: 0.0292757\tbest: 0.0292757 (69)\ttotal: 2.76s\tremaining: 4.14s\n",
            "70:\tlearn: 0.0079527\ttest: 0.0292185\tbest: 0.0292185 (70)\ttotal: 2.8s\tremaining: 4.1s\n",
            "71:\tlearn: 0.0078094\ttest: 0.0290529\tbest: 0.0290529 (71)\ttotal: 2.84s\tremaining: 4.06s\n",
            "72:\tlearn: 0.0077151\ttest: 0.0289819\tbest: 0.0289819 (72)\ttotal: 2.88s\tremaining: 4.02s\n",
            "73:\tlearn: 0.0075582\ttest: 0.0283591\tbest: 0.0283591 (73)\ttotal: 2.92s\tremaining: 3.98s\n",
            "74:\tlearn: 0.0074220\ttest: 0.0283995\tbest: 0.0283591 (73)\ttotal: 2.97s\tremaining: 3.96s\n",
            "75:\tlearn: 0.0074219\ttest: 0.0283998\tbest: 0.0283591 (73)\ttotal: 3.01s\tremaining: 3.92s\n",
            "76:\tlearn: 0.0072381\ttest: 0.0283877\tbest: 0.0283591 (73)\ttotal: 3.05s\tremaining: 3.88s\n",
            "77:\tlearn: 0.0070834\ttest: 0.0279531\tbest: 0.0279531 (77)\ttotal: 3.08s\tremaining: 3.84s\n",
            "78:\tlearn: 0.0070186\ttest: 0.0279008\tbest: 0.0279008 (78)\ttotal: 3.12s\tremaining: 3.8s\n",
            "79:\tlearn: 0.0068859\ttest: 0.0278492\tbest: 0.0278492 (79)\ttotal: 3.17s\tremaining: 3.76s\n",
            "80:\tlearn: 0.0068176\ttest: 0.0276654\tbest: 0.0276654 (80)\ttotal: 3.21s\tremaining: 3.73s\n",
            "81:\tlearn: 0.0067501\ttest: 0.0276822\tbest: 0.0276654 (80)\ttotal: 3.25s\tremaining: 3.69s\n",
            "82:\tlearn: 0.0065789\ttest: 0.0272516\tbest: 0.0272516 (82)\ttotal: 3.29s\tremaining: 3.65s\n",
            "83:\tlearn: 0.0064699\ttest: 0.0273343\tbest: 0.0272516 (82)\ttotal: 3.34s\tremaining: 3.61s\n",
            "84:\tlearn: 0.0064699\ttest: 0.0273343\tbest: 0.0272516 (82)\ttotal: 3.38s\tremaining: 3.57s\n",
            "85:\tlearn: 0.0064698\ttest: 0.0273342\tbest: 0.0272516 (82)\ttotal: 3.43s\tremaining: 3.54s\n",
            "86:\tlearn: 0.0064698\ttest: 0.0273342\tbest: 0.0272516 (82)\ttotal: 3.46s\tremaining: 3.5s\n",
            "87:\tlearn: 0.0063933\ttest: 0.0272784\tbest: 0.0272516 (82)\ttotal: 3.5s\tremaining: 3.46s\n",
            "88:\tlearn: 0.0062941\ttest: 0.0272402\tbest: 0.0272402 (88)\ttotal: 3.54s\tremaining: 3.42s\n",
            "89:\tlearn: 0.0060985\ttest: 0.0268864\tbest: 0.0268864 (89)\ttotal: 3.58s\tremaining: 3.38s\n",
            "90:\tlearn: 0.0059984\ttest: 0.0267624\tbest: 0.0267624 (90)\ttotal: 3.62s\tremaining: 3.35s\n",
            "91:\tlearn: 0.0059983\ttest: 0.0267621\tbest: 0.0267621 (91)\ttotal: 3.68s\tremaining: 3.32s\n",
            "92:\tlearn: 0.0059653\ttest: 0.0267576\tbest: 0.0267576 (92)\ttotal: 3.72s\tremaining: 3.28s\n",
            "93:\tlearn: 0.0059653\ttest: 0.0267576\tbest: 0.0267576 (93)\ttotal: 3.76s\tremaining: 3.24s\n",
            "94:\tlearn: 0.0059652\ttest: 0.0267575\tbest: 0.0267575 (94)\ttotal: 3.8s\tremaining: 3.2s\n",
            "95:\tlearn: 0.0058719\ttest: 0.0266792\tbest: 0.0266792 (95)\ttotal: 3.84s\tremaining: 3.16s\n",
            "96:\tlearn: 0.0057617\ttest: 0.0265985\tbest: 0.0265985 (96)\ttotal: 3.88s\tremaining: 3.12s\n",
            "97:\tlearn: 0.0057616\ttest: 0.0265985\tbest: 0.0265985 (96)\ttotal: 3.92s\tremaining: 3.08s\n",
            "98:\tlearn: 0.0056907\ttest: 0.0263124\tbest: 0.0263124 (98)\ttotal: 3.96s\tremaining: 3.04s\n",
            "99:\tlearn: 0.0056111\ttest: 0.0262122\tbest: 0.0262122 (99)\ttotal: 4s\tremaining: 3s\n",
            "100:\tlearn: 0.0056110\ttest: 0.0262119\tbest: 0.0262119 (100)\ttotal: 4.04s\tremaining: 2.96s\n",
            "101:\tlearn: 0.0056110\ttest: 0.0262118\tbest: 0.0262118 (101)\ttotal: 4.08s\tremaining: 2.92s\n",
            "102:\tlearn: 0.0056110\ttest: 0.0262118\tbest: 0.0262118 (102)\ttotal: 4.12s\tremaining: 2.88s\n",
            "103:\tlearn: 0.0054507\ttest: 0.0261513\tbest: 0.0261513 (103)\ttotal: 4.16s\tremaining: 2.84s\n",
            "104:\tlearn: 0.0054507\ttest: 0.0261517\tbest: 0.0261513 (103)\ttotal: 4.2s\tremaining: 2.8s\n",
            "105:\tlearn: 0.0054506\ttest: 0.0261519\tbest: 0.0261513 (103)\ttotal: 4.24s\tremaining: 2.76s\n",
            "106:\tlearn: 0.0054499\ttest: 0.0261513\tbest: 0.0261513 (106)\ttotal: 4.27s\tremaining: 2.72s\n",
            "107:\tlearn: 0.0053603\ttest: 0.0259136\tbest: 0.0259136 (107)\ttotal: 4.31s\tremaining: 2.68s\n",
            "108:\tlearn: 0.0053603\ttest: 0.0259136\tbest: 0.0259136 (108)\ttotal: 4.36s\tremaining: 2.64s\n",
            "109:\tlearn: 0.0053603\ttest: 0.0259137\tbest: 0.0259136 (108)\ttotal: 4.4s\tremaining: 2.6s\n",
            "110:\tlearn: 0.0053054\ttest: 0.0258379\tbest: 0.0258379 (110)\ttotal: 4.45s\tremaining: 2.56s\n",
            "111:\tlearn: 0.0052131\ttest: 0.0258555\tbest: 0.0258379 (110)\ttotal: 4.49s\tremaining: 2.52s\n",
            "112:\tlearn: 0.0051621\ttest: 0.0257541\tbest: 0.0257541 (112)\ttotal: 4.53s\tremaining: 2.48s\n",
            "113:\tlearn: 0.0050705\ttest: 0.0256520\tbest: 0.0256520 (113)\ttotal: 4.58s\tremaining: 2.45s\n",
            "114:\tlearn: 0.0050705\ttest: 0.0256519\tbest: 0.0256519 (114)\ttotal: 4.62s\tremaining: 2.41s\n",
            "115:\tlearn: 0.0050705\ttest: 0.0256519\tbest: 0.0256519 (115)\ttotal: 4.66s\tremaining: 2.37s\n",
            "116:\tlearn: 0.0050705\ttest: 0.0256519\tbest: 0.0256519 (116)\ttotal: 4.7s\tremaining: 2.33s\n",
            "117:\tlearn: 0.0049267\ttest: 0.0254759\tbest: 0.0254759 (117)\ttotal: 4.74s\tremaining: 2.29s\n",
            "118:\tlearn: 0.0048497\ttest: 0.0255539\tbest: 0.0254759 (117)\ttotal: 4.78s\tremaining: 2.25s\n",
            "119:\tlearn: 0.0047725\ttest: 0.0256459\tbest: 0.0254759 (117)\ttotal: 4.82s\tremaining: 2.21s\n",
            "120:\tlearn: 0.0046994\ttest: 0.0253517\tbest: 0.0253517 (120)\ttotal: 4.86s\tremaining: 2.17s\n",
            "121:\tlearn: 0.0046190\ttest: 0.0252945\tbest: 0.0252945 (121)\ttotal: 4.9s\tremaining: 2.13s\n",
            "122:\tlearn: 0.0044990\ttest: 0.0252130\tbest: 0.0252130 (122)\ttotal: 4.94s\tremaining: 2.09s\n",
            "123:\tlearn: 0.0044990\ttest: 0.0252130\tbest: 0.0252130 (122)\ttotal: 4.98s\tremaining: 2.05s\n",
            "124:\tlearn: 0.0044989\ttest: 0.0252134\tbest: 0.0252130 (122)\ttotal: 5.03s\tremaining: 2.01s\n",
            "125:\tlearn: 0.0044988\ttest: 0.0252135\tbest: 0.0252130 (122)\ttotal: 5.07s\tremaining: 1.97s\n",
            "126:\tlearn: 0.0044988\ttest: 0.0252136\tbest: 0.0252130 (122)\ttotal: 5.11s\tremaining: 1.93s\n",
            "127:\tlearn: 0.0044988\ttest: 0.0252136\tbest: 0.0252130 (122)\ttotal: 5.14s\tremaining: 1.89s\n",
            "128:\tlearn: 0.0044362\ttest: 0.0251217\tbest: 0.0251217 (128)\ttotal: 5.18s\tremaining: 1.85s\n",
            "129:\tlearn: 0.0044362\ttest: 0.0251217\tbest: 0.0251217 (129)\ttotal: 5.22s\tremaining: 1.81s\n",
            "130:\tlearn: 0.0043931\ttest: 0.0249511\tbest: 0.0249511 (130)\ttotal: 5.27s\tremaining: 1.77s\n",
            "131:\tlearn: 0.0043706\ttest: 0.0249013\tbest: 0.0249013 (131)\ttotal: 5.31s\tremaining: 1.73s\n",
            "132:\tlearn: 0.0043039\ttest: 0.0246596\tbest: 0.0246596 (132)\ttotal: 5.35s\tremaining: 1.69s\n",
            "133:\tlearn: 0.0042483\ttest: 0.0246516\tbest: 0.0246516 (133)\ttotal: 5.38s\tremaining: 1.65s\n",
            "134:\tlearn: 0.0042483\ttest: 0.0246517\tbest: 0.0246516 (133)\ttotal: 5.43s\tremaining: 1.61s\n",
            "135:\tlearn: 0.0041971\ttest: 0.0245034\tbest: 0.0245034 (135)\ttotal: 5.48s\tremaining: 1.57s\n",
            "136:\tlearn: 0.0041971\ttest: 0.0245034\tbest: 0.0245034 (135)\ttotal: 5.49s\tremaining: 1.52s\n",
            "137:\tlearn: 0.0041970\ttest: 0.0245038\tbest: 0.0245034 (135)\ttotal: 5.53s\tremaining: 1.48s\n",
            "138:\tlearn: 0.0041648\ttest: 0.0244933\tbest: 0.0244933 (138)\ttotal: 5.57s\tremaining: 1.44s\n",
            "139:\tlearn: 0.0040627\ttest: 0.0244734\tbest: 0.0244734 (139)\ttotal: 5.61s\tremaining: 1.4s\n",
            "140:\tlearn: 0.0040627\ttest: 0.0244731\tbest: 0.0244731 (140)\ttotal: 5.65s\tremaining: 1.36s\n",
            "141:\tlearn: 0.0040627\ttest: 0.0244730\tbest: 0.0244730 (141)\ttotal: 5.7s\tremaining: 1.32s\n",
            "142:\tlearn: 0.0039502\ttest: 0.0241784\tbest: 0.0241784 (142)\ttotal: 5.74s\tremaining: 1.28s\n",
            "143:\tlearn: 0.0038935\ttest: 0.0243602\tbest: 0.0241784 (142)\ttotal: 5.78s\tremaining: 1.24s\n",
            "144:\tlearn: 0.0038554\ttest: 0.0243888\tbest: 0.0241784 (142)\ttotal: 5.82s\tremaining: 1.2s\n",
            "145:\tlearn: 0.0038554\ttest: 0.0243888\tbest: 0.0241784 (142)\ttotal: 5.85s\tremaining: 1.16s\n",
            "146:\tlearn: 0.0038554\ttest: 0.0243888\tbest: 0.0241784 (142)\ttotal: 5.89s\tremaining: 1.12s\n",
            "147:\tlearn: 0.0038554\ttest: 0.0243888\tbest: 0.0241784 (142)\ttotal: 5.94s\tremaining: 1.08s\n",
            "148:\tlearn: 0.0038051\ttest: 0.0241635\tbest: 0.0241635 (148)\ttotal: 5.98s\tremaining: 1.04s\n",
            "149:\tlearn: 0.0037551\ttest: 0.0243423\tbest: 0.0241635 (148)\ttotal: 6.02s\tremaining: 1s\n",
            "150:\tlearn: 0.0037449\ttest: 0.0243700\tbest: 0.0241635 (148)\ttotal: 6.05s\tremaining: 962ms\n",
            "151:\tlearn: 0.0037449\ttest: 0.0243701\tbest: 0.0241635 (148)\ttotal: 6.09s\tremaining: 922ms\n",
            "152:\tlearn: 0.0037449\ttest: 0.0243701\tbest: 0.0241635 (148)\ttotal: 6.13s\tremaining: 882ms\n",
            "153:\tlearn: 0.0037448\ttest: 0.0243704\tbest: 0.0241635 (148)\ttotal: 6.17s\tremaining: 842ms\n",
            "154:\tlearn: 0.0037447\ttest: 0.0243706\tbest: 0.0241635 (148)\ttotal: 6.21s\tremaining: 802ms\n",
            "155:\tlearn: 0.0037447\ttest: 0.0243706\tbest: 0.0241635 (148)\ttotal: 6.25s\tremaining: 761ms\n",
            "156:\tlearn: 0.0037150\ttest: 0.0242784\tbest: 0.0241635 (148)\ttotal: 6.29s\tremaining: 721ms\n",
            "157:\tlearn: 0.0036725\ttest: 0.0242864\tbest: 0.0241635 (148)\ttotal: 6.33s\tremaining: 681ms\n",
            "158:\tlearn: 0.0036719\ttest: 0.0242850\tbest: 0.0241635 (148)\ttotal: 6.37s\tremaining: 641ms\n",
            "159:\tlearn: 0.0036719\ttest: 0.0242850\tbest: 0.0241635 (148)\ttotal: 6.42s\tremaining: 602ms\n",
            "160:\tlearn: 0.0036373\ttest: 0.0242417\tbest: 0.0241635 (148)\ttotal: 6.46s\tremaining: 562ms\n",
            "161:\tlearn: 0.0036373\ttest: 0.0242417\tbest: 0.0241635 (148)\ttotal: 6.5s\tremaining: 522ms\n",
            "162:\tlearn: 0.0036373\ttest: 0.0242417\tbest: 0.0241635 (148)\ttotal: 6.54s\tremaining: 481ms\n",
            "163:\tlearn: 0.0036370\ttest: 0.0242412\tbest: 0.0241635 (148)\ttotal: 6.58s\tremaining: 441ms\n",
            "164:\tlearn: 0.0035815\ttest: 0.0243437\tbest: 0.0241635 (148)\ttotal: 6.63s\tremaining: 402ms\n",
            "165:\tlearn: 0.0035090\ttest: 0.0242943\tbest: 0.0241635 (148)\ttotal: 6.66s\tremaining: 361ms\n",
            "166:\tlearn: 0.0035090\ttest: 0.0242942\tbest: 0.0241635 (148)\ttotal: 6.7s\tremaining: 321ms\n",
            "167:\tlearn: 0.0035090\ttest: 0.0242942\tbest: 0.0241635 (148)\ttotal: 6.74s\tremaining: 281ms\n",
            "168:\tlearn: 0.0034741\ttest: 0.0242424\tbest: 0.0241635 (148)\ttotal: 6.78s\tremaining: 241ms\n",
            "169:\tlearn: 0.0033999\ttest: 0.0240906\tbest: 0.0240906 (169)\ttotal: 6.82s\tremaining: 201ms\n",
            "170:\tlearn: 0.0033990\ttest: 0.0240866\tbest: 0.0240866 (170)\ttotal: 6.86s\tremaining: 161ms\n",
            "171:\tlearn: 0.0033989\ttest: 0.0240864\tbest: 0.0240864 (171)\ttotal: 6.9s\tremaining: 120ms\n",
            "172:\tlearn: 0.0033989\ttest: 0.0240864\tbest: 0.0240864 (172)\ttotal: 6.94s\tremaining: 80.2ms\n",
            "173:\tlearn: 0.0033989\ttest: 0.0240864\tbest: 0.0240864 (173)\ttotal: 6.98s\tremaining: 40.1ms\n",
            "174:\tlearn: 0.0033600\ttest: 0.0238785\tbest: 0.0238785 (174)\ttotal: 7.02s\tremaining: 0us\n",
            "\n",
            "bestTest = 0.02387846993\n",
            "bestIteration = 174\n",
            "\n",
            "0:\tlearn: 0.5054838\ttest: 0.5081899\tbest: 0.5081899 (0)\ttotal: 43.5ms\tremaining: 7.56s\n",
            "1:\tlearn: 0.3848115\ttest: 0.3905125\tbest: 0.3905125 (1)\ttotal: 87.3ms\tremaining: 7.55s\n",
            "2:\tlearn: 0.3029471\ttest: 0.3095706\tbest: 0.3095706 (2)\ttotal: 127ms\tremaining: 7.3s\n",
            "3:\tlearn: 0.2453752\ttest: 0.2515488\tbest: 0.2515488 (3)\ttotal: 168ms\tremaining: 7.19s\n",
            "4:\tlearn: 0.1963783\ttest: 0.2022849\tbest: 0.2022849 (4)\ttotal: 209ms\tremaining: 7.1s\n",
            "5:\tlearn: 0.1686097\ttest: 0.1740102\tbest: 0.1740102 (5)\ttotal: 255ms\tremaining: 7.17s\n",
            "6:\tlearn: 0.1506150\ttest: 0.1559224\tbest: 0.1559224 (6)\ttotal: 296ms\tremaining: 7.11s\n",
            "7:\tlearn: 0.1336441\ttest: 0.1384463\tbest: 0.1384463 (7)\ttotal: 336ms\tremaining: 7s\n",
            "8:\tlearn: 0.1200711\ttest: 0.1254002\tbest: 0.1254002 (8)\ttotal: 375ms\tremaining: 6.92s\n",
            "9:\tlearn: 0.1099156\ttest: 0.1154565\tbest: 0.1154565 (9)\ttotal: 421ms\tremaining: 6.94s\n",
            "10:\tlearn: 0.0987694\ttest: 0.1042805\tbest: 0.1042805 (10)\ttotal: 467ms\tremaining: 6.96s\n",
            "11:\tlearn: 0.0903808\ttest: 0.0953662\tbest: 0.0953662 (11)\ttotal: 506ms\tremaining: 6.88s\n",
            "12:\tlearn: 0.0858167\ttest: 0.0910192\tbest: 0.0910192 (12)\ttotal: 546ms\tremaining: 6.81s\n",
            "13:\tlearn: 0.0810653\ttest: 0.0861744\tbest: 0.0861744 (13)\ttotal: 590ms\tremaining: 6.79s\n",
            "14:\tlearn: 0.0755087\ttest: 0.0800682\tbest: 0.0800682 (14)\ttotal: 630ms\tremaining: 6.72s\n",
            "15:\tlearn: 0.0712224\ttest: 0.0760879\tbest: 0.0760879 (15)\ttotal: 674ms\tremaining: 6.7s\n",
            "16:\tlearn: 0.0690672\ttest: 0.0741293\tbest: 0.0741293 (16)\ttotal: 714ms\tremaining: 6.64s\n",
            "17:\tlearn: 0.0657270\ttest: 0.0710621\tbest: 0.0710621 (17)\ttotal: 755ms\tremaining: 6.58s\n",
            "18:\tlearn: 0.0625944\ttest: 0.0684486\tbest: 0.0684486 (18)\ttotal: 794ms\tremaining: 6.51s\n",
            "19:\tlearn: 0.0607715\ttest: 0.0662710\tbest: 0.0662710 (19)\ttotal: 832ms\tremaining: 6.45s\n",
            "20:\tlearn: 0.0582919\ttest: 0.0636852\tbest: 0.0636852 (20)\ttotal: 872ms\tremaining: 6.39s\n",
            "21:\tlearn: 0.0568233\ttest: 0.0624420\tbest: 0.0624420 (21)\ttotal: 920ms\tremaining: 6.4s\n",
            "22:\tlearn: 0.0541360\ttest: 0.0596473\tbest: 0.0596473 (22)\ttotal: 959ms\tremaining: 6.34s\n",
            "23:\tlearn: 0.0524108\ttest: 0.0576507\tbest: 0.0576507 (23)\ttotal: 998ms\tremaining: 6.28s\n",
            "24:\tlearn: 0.0505099\ttest: 0.0562262\tbest: 0.0562262 (24)\ttotal: 1.04s\tremaining: 6.22s\n",
            "25:\tlearn: 0.0484319\ttest: 0.0539991\tbest: 0.0539991 (25)\ttotal: 1.08s\tremaining: 6.17s\n",
            "26:\tlearn: 0.0470094\ttest: 0.0530328\tbest: 0.0530328 (26)\ttotal: 1.13s\tremaining: 6.18s\n",
            "27:\tlearn: 0.0453851\ttest: 0.0512412\tbest: 0.0512412 (27)\ttotal: 1.17s\tremaining: 6.13s\n",
            "28:\tlearn: 0.0446723\ttest: 0.0509698\tbest: 0.0509698 (28)\ttotal: 1.21s\tremaining: 6.08s\n",
            "29:\tlearn: 0.0438315\ttest: 0.0504908\tbest: 0.0504908 (29)\ttotal: 1.25s\tremaining: 6.03s\n",
            "30:\tlearn: 0.0427282\ttest: 0.0499349\tbest: 0.0499349 (30)\ttotal: 1.29s\tremaining: 5.97s\n",
            "31:\tlearn: 0.0424674\ttest: 0.0499367\tbest: 0.0499349 (30)\ttotal: 1.32s\tremaining: 5.92s\n",
            "32:\tlearn: 0.0417845\ttest: 0.0494681\tbest: 0.0494681 (32)\ttotal: 1.37s\tremaining: 5.89s\n",
            "33:\tlearn: 0.0408260\ttest: 0.0488594\tbest: 0.0488594 (33)\ttotal: 1.41s\tremaining: 5.84s\n",
            "34:\tlearn: 0.0401269\ttest: 0.0485809\tbest: 0.0485809 (34)\ttotal: 1.46s\tremaining: 5.82s\n",
            "35:\tlearn: 0.0393622\ttest: 0.0480280\tbest: 0.0480280 (35)\ttotal: 1.49s\tremaining: 5.77s\n",
            "36:\tlearn: 0.0389576\ttest: 0.0479173\tbest: 0.0479173 (36)\ttotal: 1.53s\tremaining: 5.72s\n",
            "37:\tlearn: 0.0385723\ttest: 0.0476928\tbest: 0.0476928 (37)\ttotal: 1.58s\tremaining: 5.69s\n",
            "38:\tlearn: 0.0378330\ttest: 0.0472771\tbest: 0.0472771 (38)\ttotal: 1.62s\tremaining: 5.65s\n",
            "39:\tlearn: 0.0372036\ttest: 0.0466308\tbest: 0.0466308 (39)\ttotal: 1.66s\tremaining: 5.61s\n",
            "40:\tlearn: 0.0364626\ttest: 0.0457300\tbest: 0.0457300 (40)\ttotal: 1.7s\tremaining: 5.56s\n",
            "41:\tlearn: 0.0356260\ttest: 0.0448014\tbest: 0.0448014 (41)\ttotal: 1.74s\tremaining: 5.52s\n",
            "42:\tlearn: 0.0348254\ttest: 0.0440298\tbest: 0.0440298 (42)\ttotal: 1.78s\tremaining: 5.48s\n",
            "43:\tlearn: 0.0345936\ttest: 0.0440225\tbest: 0.0440225 (43)\ttotal: 1.82s\tremaining: 5.43s\n",
            "44:\tlearn: 0.0339711\ttest: 0.0434862\tbest: 0.0434862 (44)\ttotal: 1.86s\tremaining: 5.38s\n",
            "45:\tlearn: 0.0334731\ttest: 0.0432728\tbest: 0.0432728 (45)\ttotal: 1.9s\tremaining: 5.34s\n",
            "46:\tlearn: 0.0328023\ttest: 0.0427519\tbest: 0.0427519 (46)\ttotal: 1.94s\tremaining: 5.29s\n",
            "47:\tlearn: 0.0321809\ttest: 0.0424145\tbest: 0.0424145 (47)\ttotal: 1.98s\tremaining: 5.25s\n",
            "48:\tlearn: 0.0317916\ttest: 0.0422140\tbest: 0.0422140 (48)\ttotal: 2.03s\tremaining: 5.21s\n",
            "49:\tlearn: 0.0312390\ttest: 0.0418458\tbest: 0.0418458 (49)\ttotal: 2.07s\tremaining: 5.17s\n",
            "50:\tlearn: 0.0304844\ttest: 0.0411732\tbest: 0.0411732 (50)\ttotal: 2.11s\tremaining: 5.12s\n",
            "51:\tlearn: 0.0299909\ttest: 0.0408373\tbest: 0.0408373 (51)\ttotal: 2.15s\tremaining: 5.08s\n",
            "52:\tlearn: 0.0297218\ttest: 0.0407296\tbest: 0.0407296 (52)\ttotal: 2.19s\tremaining: 5.04s\n",
            "53:\tlearn: 0.0292880\ttest: 0.0402959\tbest: 0.0402959 (53)\ttotal: 2.23s\tremaining: 5s\n",
            "54:\tlearn: 0.0289855\ttest: 0.0401712\tbest: 0.0401712 (54)\ttotal: 2.27s\tremaining: 4.96s\n",
            "55:\tlearn: 0.0285901\ttest: 0.0398808\tbest: 0.0398808 (55)\ttotal: 2.31s\tremaining: 4.92s\n",
            "56:\tlearn: 0.0283119\ttest: 0.0397531\tbest: 0.0397531 (56)\ttotal: 2.35s\tremaining: 4.87s\n",
            "57:\tlearn: 0.0280056\ttest: 0.0395543\tbest: 0.0395543 (57)\ttotal: 2.4s\tremaining: 4.85s\n",
            "58:\tlearn: 0.0276592\ttest: 0.0393113\tbest: 0.0393113 (58)\ttotal: 2.45s\tremaining: 4.82s\n",
            "59:\tlearn: 0.0271238\ttest: 0.0389718\tbest: 0.0389718 (59)\ttotal: 2.49s\tremaining: 4.78s\n",
            "60:\tlearn: 0.0269632\ttest: 0.0390185\tbest: 0.0389718 (59)\ttotal: 2.53s\tremaining: 4.73s\n",
            "61:\tlearn: 0.0265032\ttest: 0.0384919\tbest: 0.0384919 (61)\ttotal: 2.57s\tremaining: 4.69s\n",
            "62:\tlearn: 0.0260361\ttest: 0.0381080\tbest: 0.0381080 (62)\ttotal: 2.62s\tremaining: 4.66s\n",
            "63:\tlearn: 0.0258422\ttest: 0.0379379\tbest: 0.0379379 (63)\ttotal: 2.66s\tremaining: 4.61s\n",
            "64:\tlearn: 0.0256912\ttest: 0.0378654\tbest: 0.0378654 (64)\ttotal: 2.7s\tremaining: 4.57s\n",
            "65:\tlearn: 0.0254170\ttest: 0.0377632\tbest: 0.0377632 (65)\ttotal: 2.74s\tremaining: 4.53s\n",
            "66:\tlearn: 0.0251826\ttest: 0.0375960\tbest: 0.0375960 (66)\ttotal: 2.78s\tremaining: 4.48s\n",
            "67:\tlearn: 0.0248979\ttest: 0.0374355\tbest: 0.0374355 (67)\ttotal: 2.83s\tremaining: 4.46s\n",
            "68:\tlearn: 0.0246891\ttest: 0.0371207\tbest: 0.0371207 (68)\ttotal: 2.84s\tremaining: 4.36s\n",
            "69:\tlearn: 0.0243092\ttest: 0.0370060\tbest: 0.0370060 (69)\ttotal: 2.88s\tremaining: 4.32s\n",
            "70:\tlearn: 0.0240286\ttest: 0.0368207\tbest: 0.0368207 (70)\ttotal: 2.92s\tremaining: 4.27s\n",
            "71:\tlearn: 0.0237935\ttest: 0.0366537\tbest: 0.0366537 (71)\ttotal: 2.96s\tremaining: 4.23s\n",
            "72:\tlearn: 0.0233358\ttest: 0.0362321\tbest: 0.0362321 (72)\ttotal: 3s\tremaining: 4.19s\n",
            "73:\tlearn: 0.0231349\ttest: 0.0363657\tbest: 0.0362321 (72)\ttotal: 3.05s\tremaining: 4.16s\n",
            "74:\tlearn: 0.0228097\ttest: 0.0362595\tbest: 0.0362321 (72)\ttotal: 3.09s\tremaining: 4.12s\n",
            "75:\tlearn: 0.0225095\ttest: 0.0360016\tbest: 0.0360016 (75)\ttotal: 3.13s\tremaining: 4.07s\n",
            "76:\tlearn: 0.0225034\ttest: 0.0359972\tbest: 0.0359972 (76)\ttotal: 3.14s\tremaining: 4s\n",
            "77:\tlearn: 0.0221628\ttest: 0.0355058\tbest: 0.0355058 (77)\ttotal: 3.18s\tremaining: 3.96s\n",
            "78:\tlearn: 0.0220035\ttest: 0.0354685\tbest: 0.0354685 (78)\ttotal: 3.22s\tremaining: 3.91s\n",
            "79:\tlearn: 0.0218713\ttest: 0.0354526\tbest: 0.0354526 (79)\ttotal: 3.27s\tremaining: 3.88s\n",
            "80:\tlearn: 0.0215606\ttest: 0.0351909\tbest: 0.0351909 (80)\ttotal: 3.31s\tremaining: 3.84s\n",
            "81:\tlearn: 0.0213410\ttest: 0.0350904\tbest: 0.0350904 (81)\ttotal: 3.35s\tremaining: 3.8s\n",
            "82:\tlearn: 0.0210546\ttest: 0.0345673\tbest: 0.0345673 (82)\ttotal: 3.39s\tremaining: 3.75s\n",
            "83:\tlearn: 0.0207450\ttest: 0.0342253\tbest: 0.0342253 (83)\ttotal: 3.43s\tremaining: 3.72s\n",
            "84:\tlearn: 0.0207450\ttest: 0.0342251\tbest: 0.0342251 (84)\ttotal: 3.46s\tremaining: 3.66s\n",
            "85:\tlearn: 0.0207446\ttest: 0.0342240\tbest: 0.0342240 (85)\ttotal: 3.46s\tremaining: 3.58s\n",
            "86:\tlearn: 0.0203822\ttest: 0.0339614\tbest: 0.0339614 (86)\ttotal: 3.51s\tremaining: 3.55s\n",
            "87:\tlearn: 0.0199502\ttest: 0.0336431\tbest: 0.0336431 (87)\ttotal: 3.55s\tremaining: 3.51s\n",
            "88:\tlearn: 0.0196021\ttest: 0.0331923\tbest: 0.0331923 (88)\ttotal: 3.59s\tremaining: 3.47s\n",
            "89:\tlearn: 0.0196020\ttest: 0.0331920\tbest: 0.0331920 (89)\ttotal: 3.59s\tremaining: 3.4s\n",
            "90:\tlearn: 0.0193553\ttest: 0.0329523\tbest: 0.0329523 (90)\ttotal: 3.63s\tremaining: 3.35s\n",
            "91:\tlearn: 0.0193553\ttest: 0.0329523\tbest: 0.0329523 (91)\ttotal: 3.64s\tremaining: 3.29s\n",
            "92:\tlearn: 0.0190768\ttest: 0.0326417\tbest: 0.0326417 (92)\ttotal: 3.68s\tremaining: 3.25s\n",
            "93:\tlearn: 0.0190767\ttest: 0.0326420\tbest: 0.0326417 (92)\ttotal: 3.73s\tremaining: 3.21s\n",
            "94:\tlearn: 0.0187624\ttest: 0.0324129\tbest: 0.0324129 (94)\ttotal: 3.77s\tremaining: 3.17s\n",
            "95:\tlearn: 0.0182220\ttest: 0.0319962\tbest: 0.0319962 (95)\ttotal: 3.81s\tremaining: 3.14s\n",
            "96:\tlearn: 0.0180042\ttest: 0.0318685\tbest: 0.0318685 (96)\ttotal: 3.85s\tremaining: 3.1s\n",
            "97:\tlearn: 0.0177775\ttest: 0.0316609\tbest: 0.0316609 (97)\ttotal: 3.89s\tremaining: 3.06s\n",
            "98:\tlearn: 0.0175170\ttest: 0.0315513\tbest: 0.0315513 (98)\ttotal: 3.94s\tremaining: 3.02s\n",
            "99:\tlearn: 0.0171513\ttest: 0.0312678\tbest: 0.0312678 (99)\ttotal: 3.98s\tremaining: 2.98s\n",
            "100:\tlearn: 0.0167445\ttest: 0.0307327\tbest: 0.0307327 (100)\ttotal: 4.02s\tremaining: 2.94s\n",
            "101:\tlearn: 0.0167443\ttest: 0.0307317\tbest: 0.0307317 (101)\ttotal: 4.02s\tremaining: 2.88s\n",
            "102:\tlearn: 0.0165890\ttest: 0.0306049\tbest: 0.0306049 (102)\ttotal: 4.06s\tremaining: 2.84s\n",
            "103:\tlearn: 0.0165890\ttest: 0.0306048\tbest: 0.0306048 (103)\ttotal: 4.07s\tremaining: 2.78s\n",
            "104:\tlearn: 0.0163491\ttest: 0.0305196\tbest: 0.0305196 (104)\ttotal: 4.11s\tremaining: 2.74s\n",
            "105:\tlearn: 0.0162480\ttest: 0.0304880\tbest: 0.0304880 (105)\ttotal: 4.15s\tremaining: 2.7s\n",
            "106:\tlearn: 0.0162472\ttest: 0.0304847\tbest: 0.0304847 (106)\ttotal: 4.16s\tremaining: 2.64s\n",
            "107:\tlearn: 0.0162467\ttest: 0.0304857\tbest: 0.0304847 (106)\ttotal: 4.2s\tremaining: 2.6s\n",
            "108:\tlearn: 0.0162467\ttest: 0.0304857\tbest: 0.0304847 (106)\ttotal: 4.2s\tremaining: 2.54s\n",
            "109:\tlearn: 0.0162463\ttest: 0.0304836\tbest: 0.0304836 (109)\ttotal: 4.21s\tremaining: 2.49s\n",
            "110:\tlearn: 0.0159565\ttest: 0.0303123\tbest: 0.0303123 (110)\ttotal: 4.25s\tremaining: 2.45s\n",
            "111:\tlearn: 0.0156978\ttest: 0.0299944\tbest: 0.0299944 (111)\ttotal: 4.29s\tremaining: 2.41s\n",
            "112:\tlearn: 0.0154685\ttest: 0.0297572\tbest: 0.0297572 (112)\ttotal: 4.33s\tremaining: 2.37s\n",
            "113:\tlearn: 0.0154685\ttest: 0.0297572\tbest: 0.0297572 (113)\ttotal: 4.37s\tremaining: 2.34s\n",
            "114:\tlearn: 0.0152819\ttest: 0.0296312\tbest: 0.0296312 (114)\ttotal: 4.41s\tremaining: 2.3s\n",
            "115:\tlearn: 0.0149711\ttest: 0.0292571\tbest: 0.0292571 (115)\ttotal: 4.46s\tremaining: 2.27s\n",
            "116:\tlearn: 0.0149711\ttest: 0.0292570\tbest: 0.0292570 (116)\ttotal: 4.46s\tremaining: 2.21s\n",
            "117:\tlearn: 0.0147210\ttest: 0.0289936\tbest: 0.0289936 (117)\ttotal: 4.5s\tremaining: 2.17s\n",
            "118:\tlearn: 0.0144543\ttest: 0.0287615\tbest: 0.0287615 (118)\ttotal: 4.54s\tremaining: 2.14s\n",
            "119:\tlearn: 0.0144539\ttest: 0.0287606\tbest: 0.0287606 (119)\ttotal: 4.56s\tremaining: 2.09s\n",
            "120:\tlearn: 0.0144265\ttest: 0.0287328\tbest: 0.0287328 (120)\ttotal: 4.6s\tremaining: 2.05s\n",
            "121:\tlearn: 0.0144263\ttest: 0.0287326\tbest: 0.0287326 (121)\ttotal: 4.64s\tremaining: 2.02s\n",
            "122:\tlearn: 0.0142747\ttest: 0.0285398\tbest: 0.0285398 (122)\ttotal: 4.68s\tremaining: 1.98s\n",
            "123:\tlearn: 0.0141941\ttest: 0.0285291\tbest: 0.0285291 (123)\ttotal: 4.72s\tremaining: 1.94s\n",
            "124:\tlearn: 0.0141941\ttest: 0.0285288\tbest: 0.0285288 (124)\ttotal: 4.73s\tremaining: 1.89s\n",
            "125:\tlearn: 0.0141940\ttest: 0.0285288\tbest: 0.0285288 (125)\ttotal: 4.76s\tremaining: 1.85s\n",
            "126:\tlearn: 0.0139029\ttest: 0.0280373\tbest: 0.0280373 (126)\ttotal: 4.82s\tremaining: 1.82s\n",
            "127:\tlearn: 0.0137443\ttest: 0.0277783\tbest: 0.0277783 (127)\ttotal: 4.86s\tremaining: 1.78s\n",
            "128:\tlearn: 0.0135387\ttest: 0.0276213\tbest: 0.0276213 (128)\ttotal: 4.89s\tremaining: 1.75s\n",
            "129:\tlearn: 0.0132789\ttest: 0.0272624\tbest: 0.0272624 (129)\ttotal: 4.93s\tremaining: 1.71s\n",
            "130:\tlearn: 0.0132333\ttest: 0.0272258\tbest: 0.0272258 (130)\ttotal: 4.97s\tremaining: 1.67s\n",
            "131:\tlearn: 0.0131290\ttest: 0.0272792\tbest: 0.0272258 (130)\ttotal: 5.01s\tremaining: 1.63s\n",
            "132:\tlearn: 0.0130820\ttest: 0.0271785\tbest: 0.0271785 (132)\ttotal: 5.06s\tremaining: 1.6s\n",
            "133:\tlearn: 0.0129878\ttest: 0.0272337\tbest: 0.0271785 (132)\ttotal: 5.1s\tremaining: 1.56s\n",
            "134:\tlearn: 0.0129018\ttest: 0.0272867\tbest: 0.0271785 (132)\ttotal: 5.14s\tremaining: 1.52s\n",
            "135:\tlearn: 0.0128257\ttest: 0.0273423\tbest: 0.0271785 (132)\ttotal: 5.18s\tremaining: 1.48s\n",
            "136:\tlearn: 0.0125892\ttest: 0.0271056\tbest: 0.0271056 (136)\ttotal: 5.22s\tremaining: 1.45s\n",
            "137:\tlearn: 0.0125892\ttest: 0.0271056\tbest: 0.0271056 (137)\ttotal: 5.23s\tremaining: 1.4s\n",
            "138:\tlearn: 0.0124146\ttest: 0.0268824\tbest: 0.0268824 (138)\ttotal: 5.27s\tremaining: 1.36s\n",
            "139:\tlearn: 0.0123614\ttest: 0.0269202\tbest: 0.0268824 (138)\ttotal: 5.31s\tremaining: 1.33s\n",
            "140:\tlearn: 0.0122053\ttest: 0.0267821\tbest: 0.0267821 (140)\ttotal: 5.35s\tremaining: 1.29s\n",
            "141:\tlearn: 0.0121081\ttest: 0.0265692\tbest: 0.0265692 (141)\ttotal: 5.39s\tremaining: 1.25s\n",
            "142:\tlearn: 0.0119976\ttest: 0.0264219\tbest: 0.0264219 (142)\ttotal: 5.44s\tremaining: 1.22s\n",
            "143:\tlearn: 0.0119976\ttest: 0.0264219\tbest: 0.0264219 (143)\ttotal: 5.48s\tremaining: 1.18s\n",
            "144:\tlearn: 0.0119177\ttest: 0.0264009\tbest: 0.0264009 (144)\ttotal: 5.52s\tremaining: 1.14s\n",
            "145:\tlearn: 0.0116982\ttest: 0.0261373\tbest: 0.0261373 (145)\ttotal: 5.56s\tremaining: 1.1s\n",
            "146:\tlearn: 0.0116981\ttest: 0.0261371\tbest: 0.0261371 (146)\ttotal: 5.6s\tremaining: 1.07s\n",
            "147:\tlearn: 0.0116981\ttest: 0.0261371\tbest: 0.0261371 (147)\ttotal: 5.64s\tremaining: 1.03s\n",
            "148:\tlearn: 0.0115460\ttest: 0.0260368\tbest: 0.0260368 (148)\ttotal: 5.68s\tremaining: 992ms\n",
            "149:\tlearn: 0.0114319\ttest: 0.0259837\tbest: 0.0259837 (149)\ttotal: 5.72s\tremaining: 954ms\n",
            "150:\tlearn: 0.0113527\ttest: 0.0259958\tbest: 0.0259837 (149)\ttotal: 5.76s\tremaining: 916ms\n",
            "151:\tlearn: 0.0113522\ttest: 0.0259965\tbest: 0.0259837 (149)\ttotal: 5.8s\tremaining: 878ms\n",
            "152:\tlearn: 0.0113521\ttest: 0.0259966\tbest: 0.0259837 (149)\ttotal: 5.84s\tremaining: 840ms\n",
            "153:\tlearn: 0.0113258\ttest: 0.0259686\tbest: 0.0259686 (153)\ttotal: 5.88s\tremaining: 802ms\n",
            "154:\tlearn: 0.0112033\ttest: 0.0259664\tbest: 0.0259664 (154)\ttotal: 5.93s\tremaining: 765ms\n",
            "155:\tlearn: 0.0111673\ttest: 0.0258812\tbest: 0.0258812 (155)\ttotal: 5.97s\tremaining: 727ms\n",
            "156:\tlearn: 0.0110658\ttest: 0.0258216\tbest: 0.0258216 (156)\ttotal: 6.01s\tremaining: 689ms\n",
            "157:\tlearn: 0.0110657\ttest: 0.0258215\tbest: 0.0258215 (157)\ttotal: 6.05s\tremaining: 651ms\n",
            "158:\tlearn: 0.0110623\ttest: 0.0258257\tbest: 0.0258215 (157)\ttotal: 6.09s\tremaining: 613ms\n",
            "159:\tlearn: 0.0110615\ttest: 0.0258272\tbest: 0.0258215 (157)\ttotal: 6.13s\tremaining: 574ms\n",
            "160:\tlearn: 0.0110380\ttest: 0.0258032\tbest: 0.0258032 (160)\ttotal: 6.17s\tremaining: 537ms\n",
            "161:\tlearn: 0.0109530\ttest: 0.0257538\tbest: 0.0257538 (161)\ttotal: 6.21s\tremaining: 499ms\n",
            "162:\tlearn: 0.0109036\ttest: 0.0257319\tbest: 0.0257319 (162)\ttotal: 6.25s\tremaining: 461ms\n",
            "163:\tlearn: 0.0108180\ttest: 0.0257461\tbest: 0.0257319 (162)\ttotal: 6.29s\tremaining: 422ms\n",
            "164:\tlearn: 0.0108180\ttest: 0.0257461\tbest: 0.0257319 (162)\ttotal: 6.33s\tremaining: 384ms\n",
            "165:\tlearn: 0.0107217\ttest: 0.0256364\tbest: 0.0256364 (165)\ttotal: 6.37s\tremaining: 346ms\n",
            "166:\tlearn: 0.0106435\ttest: 0.0256072\tbest: 0.0256072 (166)\ttotal: 6.42s\tremaining: 307ms\n",
            "167:\tlearn: 0.0105710\ttest: 0.0255120\tbest: 0.0255120 (167)\ttotal: 6.46s\tremaining: 269ms\n",
            "168:\tlearn: 0.0103700\ttest: 0.0252693\tbest: 0.0252693 (168)\ttotal: 6.51s\tremaining: 231ms\n",
            "169:\tlearn: 0.0103462\ttest: 0.0252750\tbest: 0.0252693 (168)\ttotal: 6.55s\tremaining: 193ms\n",
            "170:\tlearn: 0.0102558\ttest: 0.0252346\tbest: 0.0252346 (170)\ttotal: 6.59s\tremaining: 154ms\n",
            "171:\tlearn: 0.0102397\ttest: 0.0252139\tbest: 0.0252139 (171)\ttotal: 6.63s\tremaining: 116ms\n",
            "172:\tlearn: 0.0101647\ttest: 0.0251341\tbest: 0.0251341 (172)\ttotal: 6.67s\tremaining: 77.1ms\n",
            "173:\tlearn: 0.0101646\ttest: 0.0251341\tbest: 0.0251341 (172)\ttotal: 6.71s\tremaining: 38.6ms\n",
            "174:\tlearn: 0.0101646\ttest: 0.0251342\tbest: 0.0251341 (172)\ttotal: 6.75s\tremaining: 0us\n",
            "\n",
            "bestTest = 0.0251341018\n",
            "bestIteration = 172\n",
            "\n",
            "0:\tlearn: 0.1835693\ttest: 0.1921393\tbest: 0.1921393 (0)\ttotal: 42.7ms\tremaining: 7.44s\n",
            "1:\tlearn: 0.1051919\ttest: 0.1138032\tbest: 0.1138032 (1)\ttotal: 85.5ms\tremaining: 7.4s\n",
            "2:\tlearn: 0.0743920\ttest: 0.0807345\tbest: 0.0807345 (2)\ttotal: 127ms\tremaining: 7.27s\n",
            "3:\tlearn: 0.0653586\ttest: 0.0729273\tbest: 0.0729273 (3)\ttotal: 166ms\tremaining: 7.11s\n",
            "4:\tlearn: 0.0540522\ttest: 0.0639058\tbest: 0.0639058 (4)\ttotal: 205ms\tremaining: 6.98s\n",
            "5:\tlearn: 0.0480340\ttest: 0.0579502\tbest: 0.0579502 (5)\ttotal: 245ms\tremaining: 6.9s\n",
            "6:\tlearn: 0.0415097\ttest: 0.0536145\tbest: 0.0536145 (6)\ttotal: 269ms\tremaining: 6.46s\n",
            "7:\tlearn: 0.0380815\ttest: 0.0509974\tbest: 0.0509974 (7)\ttotal: 316ms\tremaining: 6.59s\n",
            "8:\tlearn: 0.0340069\ttest: 0.0477730\tbest: 0.0477730 (8)\ttotal: 356ms\tremaining: 6.57s\n",
            "9:\tlearn: 0.0321311\ttest: 0.0460509\tbest: 0.0460509 (9)\ttotal: 395ms\tremaining: 6.52s\n",
            "10:\tlearn: 0.0315276\ttest: 0.0462520\tbest: 0.0460509 (9)\ttotal: 434ms\tremaining: 6.48s\n",
            "11:\tlearn: 0.0291501\ttest: 0.0459528\tbest: 0.0459528 (11)\ttotal: 474ms\tremaining: 6.44s\n",
            "12:\tlearn: 0.0258362\ttest: 0.0430045\tbest: 0.0430045 (12)\ttotal: 513ms\tremaining: 6.39s\n",
            "13:\tlearn: 0.0258352\ttest: 0.0430076\tbest: 0.0430045 (12)\ttotal: 567ms\tremaining: 6.52s\n",
            "14:\tlearn: 0.0248137\ttest: 0.0430259\tbest: 0.0430045 (12)\ttotal: 608ms\tremaining: 6.49s\n",
            "15:\tlearn: 0.0237189\ttest: 0.0430987\tbest: 0.0430045 (12)\ttotal: 651ms\tremaining: 6.47s\n",
            "16:\tlearn: 0.0218399\ttest: 0.0427939\tbest: 0.0427939 (16)\ttotal: 692ms\tremaining: 6.43s\n",
            "17:\tlearn: 0.0203171\ttest: 0.0413810\tbest: 0.0413810 (17)\ttotal: 737ms\tremaining: 6.42s\n",
            "18:\tlearn: 0.0190983\ttest: 0.0402649\tbest: 0.0402649 (18)\ttotal: 781ms\tremaining: 6.41s\n",
            "19:\tlearn: 0.0180053\ttest: 0.0398183\tbest: 0.0398183 (19)\ttotal: 821ms\tremaining: 6.36s\n",
            "20:\tlearn: 0.0170975\ttest: 0.0391776\tbest: 0.0391776 (20)\ttotal: 860ms\tremaining: 6.31s\n",
            "21:\tlearn: 0.0160793\ttest: 0.0381814\tbest: 0.0381814 (21)\ttotal: 900ms\tremaining: 6.26s\n",
            "22:\tlearn: 0.0151321\ttest: 0.0374009\tbest: 0.0374009 (22)\ttotal: 941ms\tremaining: 6.22s\n",
            "23:\tlearn: 0.0151319\ttest: 0.0374005\tbest: 0.0374005 (23)\ttotal: 979ms\tremaining: 6.16s\n",
            "24:\tlearn: 0.0151316\ttest: 0.0374007\tbest: 0.0374005 (23)\ttotal: 1.04s\tremaining: 6.22s\n",
            "25:\tlearn: 0.0136342\ttest: 0.0349813\tbest: 0.0349813 (25)\ttotal: 1.08s\tremaining: 6.18s\n",
            "26:\tlearn: 0.0130564\ttest: 0.0342557\tbest: 0.0342557 (26)\ttotal: 1.12s\tremaining: 6.13s\n",
            "27:\tlearn: 0.0129458\ttest: 0.0341228\tbest: 0.0341228 (27)\ttotal: 1.16s\tremaining: 6.08s\n",
            "28:\tlearn: 0.0124466\ttest: 0.0337296\tbest: 0.0337296 (28)\ttotal: 1.2s\tremaining: 6.03s\n",
            "29:\tlearn: 0.0124428\ttest: 0.0337380\tbest: 0.0337296 (28)\ttotal: 1.22s\tremaining: 5.9s\n",
            "30:\tlearn: 0.0124425\ttest: 0.0337387\tbest: 0.0337296 (28)\ttotal: 1.26s\tremaining: 5.87s\n",
            "31:\tlearn: 0.0117172\ttest: 0.0334520\tbest: 0.0334520 (31)\ttotal: 1.3s\tremaining: 5.82s\n",
            "32:\tlearn: 0.0117172\ttest: 0.0334519\tbest: 0.0334519 (32)\ttotal: 1.34s\tremaining: 5.77s\n",
            "33:\tlearn: 0.0117172\ttest: 0.0334519\tbest: 0.0334519 (33)\ttotal: 1.38s\tremaining: 5.72s\n",
            "34:\tlearn: 0.0110112\ttest: 0.0327135\tbest: 0.0327135 (34)\ttotal: 1.42s\tremaining: 5.68s\n",
            "35:\tlearn: 0.0110112\ttest: 0.0327136\tbest: 0.0327135 (34)\ttotal: 1.46s\tremaining: 5.63s\n",
            "36:\tlearn: 0.0105329\ttest: 0.0323458\tbest: 0.0323458 (36)\ttotal: 1.51s\tremaining: 5.65s\n",
            "37:\tlearn: 0.0105323\ttest: 0.0323470\tbest: 0.0323458 (36)\ttotal: 1.56s\tremaining: 5.62s\n",
            "38:\tlearn: 0.0100560\ttest: 0.0319785\tbest: 0.0319785 (38)\ttotal: 1.6s\tremaining: 5.57s\n",
            "39:\tlearn: 0.0100560\ttest: 0.0319783\tbest: 0.0319783 (39)\ttotal: 1.64s\tremaining: 5.52s\n",
            "40:\tlearn: 0.0096574\ttest: 0.0314940\tbest: 0.0314940 (40)\ttotal: 1.68s\tremaining: 5.48s\n",
            "41:\tlearn: 0.0094004\ttest: 0.0314080\tbest: 0.0314080 (41)\ttotal: 1.73s\tremaining: 5.49s\n",
            "42:\tlearn: 0.0092342\ttest: 0.0308577\tbest: 0.0308577 (42)\ttotal: 1.77s\tremaining: 5.45s\n",
            "43:\tlearn: 0.0092341\ttest: 0.0308579\tbest: 0.0308577 (42)\ttotal: 1.81s\tremaining: 5.4s\n",
            "44:\tlearn: 0.0087060\ttest: 0.0305592\tbest: 0.0305592 (44)\ttotal: 1.85s\tremaining: 5.35s\n",
            "45:\tlearn: 0.0084938\ttest: 0.0304278\tbest: 0.0304278 (45)\ttotal: 1.89s\tremaining: 5.31s\n",
            "46:\tlearn: 0.0083478\ttest: 0.0305333\tbest: 0.0304278 (45)\ttotal: 1.94s\tremaining: 5.27s\n",
            "47:\tlearn: 0.0083453\ttest: 0.0305252\tbest: 0.0304278 (45)\ttotal: 1.98s\tremaining: 5.24s\n",
            "48:\tlearn: 0.0083451\ttest: 0.0305255\tbest: 0.0304278 (45)\ttotal: 2.02s\tremaining: 5.19s\n",
            "49:\tlearn: 0.0080910\ttest: 0.0300730\tbest: 0.0300730 (49)\ttotal: 2.06s\tremaining: 5.14s\n",
            "50:\tlearn: 0.0080910\ttest: 0.0300730\tbest: 0.0300730 (49)\ttotal: 2.1s\tremaining: 5.09s\n",
            "51:\tlearn: 0.0079086\ttest: 0.0300722\tbest: 0.0300722 (51)\ttotal: 2.13s\tremaining: 5.05s\n",
            "52:\tlearn: 0.0079012\ttest: 0.0301245\tbest: 0.0300722 (51)\ttotal: 2.18s\tremaining: 5.03s\n",
            "53:\tlearn: 0.0076179\ttest: 0.0291877\tbest: 0.0291877 (53)\ttotal: 2.22s\tremaining: 4.99s\n",
            "54:\tlearn: 0.0076178\ttest: 0.0291881\tbest: 0.0291877 (53)\ttotal: 2.26s\tremaining: 4.94s\n",
            "55:\tlearn: 0.0075453\ttest: 0.0292806\tbest: 0.0291877 (53)\ttotal: 2.3s\tremaining: 4.89s\n",
            "56:\tlearn: 0.0072764\ttest: 0.0290920\tbest: 0.0290920 (56)\ttotal: 2.34s\tremaining: 4.85s\n",
            "57:\tlearn: 0.0071862\ttest: 0.0290023\tbest: 0.0290023 (57)\ttotal: 2.38s\tremaining: 4.8s\n",
            "58:\tlearn: 0.0071386\ttest: 0.0292613\tbest: 0.0290023 (57)\ttotal: 2.43s\tremaining: 4.77s\n",
            "59:\tlearn: 0.0071385\ttest: 0.0292609\tbest: 0.0290023 (57)\ttotal: 2.47s\tremaining: 4.73s\n",
            "60:\tlearn: 0.0071384\ttest: 0.0292608\tbest: 0.0290023 (57)\ttotal: 2.51s\tremaining: 4.68s\n",
            "61:\tlearn: 0.0069392\ttest: 0.0291395\tbest: 0.0290023 (57)\ttotal: 2.55s\tremaining: 4.65s\n",
            "62:\tlearn: 0.0069390\ttest: 0.0291397\tbest: 0.0290023 (57)\ttotal: 2.59s\tremaining: 4.6s\n",
            "63:\tlearn: 0.0069390\ttest: 0.0291397\tbest: 0.0290023 (57)\ttotal: 2.63s\tremaining: 4.56s\n",
            "64:\tlearn: 0.0067641\ttest: 0.0286995\tbest: 0.0286995 (64)\ttotal: 2.67s\tremaining: 4.53s\n",
            "65:\tlearn: 0.0067641\ttest: 0.0286996\tbest: 0.0286995 (64)\ttotal: 2.71s\tremaining: 4.48s\n",
            "66:\tlearn: 0.0067637\ttest: 0.0287008\tbest: 0.0286995 (64)\ttotal: 2.76s\tremaining: 4.45s\n",
            "67:\tlearn: 0.0066420\ttest: 0.0286746\tbest: 0.0286746 (67)\ttotal: 2.8s\tremaining: 4.4s\n",
            "68:\tlearn: 0.0065106\ttest: 0.0289597\tbest: 0.0286746 (67)\ttotal: 2.84s\tremaining: 4.36s\n",
            "69:\tlearn: 0.0062436\ttest: 0.0285348\tbest: 0.0285348 (69)\ttotal: 2.88s\tremaining: 4.32s\n",
            "70:\tlearn: 0.0062435\ttest: 0.0285353\tbest: 0.0285348 (69)\ttotal: 2.92s\tremaining: 4.28s\n",
            "71:\tlearn: 0.0062433\ttest: 0.0285357\tbest: 0.0285348 (69)\ttotal: 2.96s\tremaining: 4.24s\n",
            "72:\tlearn: 0.0060305\ttest: 0.0281473\tbest: 0.0281473 (72)\ttotal: 3s\tremaining: 4.2s\n",
            "73:\tlearn: 0.0058619\ttest: 0.0279131\tbest: 0.0279131 (73)\ttotal: 3.04s\tremaining: 4.15s\n",
            "74:\tlearn: 0.0057178\ttest: 0.0276407\tbest: 0.0276407 (74)\ttotal: 3.08s\tremaining: 4.11s\n",
            "75:\tlearn: 0.0057178\ttest: 0.0276408\tbest: 0.0276407 (74)\ttotal: 3.12s\tremaining: 4.07s\n",
            "76:\tlearn: 0.0057177\ttest: 0.0276408\tbest: 0.0276407 (74)\ttotal: 3.16s\tremaining: 4.02s\n",
            "77:\tlearn: 0.0056019\ttest: 0.0276241\tbest: 0.0276241 (77)\ttotal: 3.2s\tremaining: 3.98s\n",
            "78:\tlearn: 0.0056019\ttest: 0.0276242\tbest: 0.0276241 (77)\ttotal: 3.24s\tremaining: 3.94s\n",
            "79:\tlearn: 0.0055090\ttest: 0.0276716\tbest: 0.0276241 (77)\ttotal: 3.28s\tremaining: 3.89s\n",
            "80:\tlearn: 0.0055090\ttest: 0.0276714\tbest: 0.0276241 (77)\ttotal: 3.32s\tremaining: 3.85s\n",
            "81:\tlearn: 0.0055079\ttest: 0.0276670\tbest: 0.0276241 (77)\ttotal: 3.37s\tremaining: 3.82s\n",
            "82:\tlearn: 0.0055078\ttest: 0.0276667\tbest: 0.0276241 (77)\ttotal: 3.41s\tremaining: 3.78s\n",
            "83:\tlearn: 0.0054862\ttest: 0.0276436\tbest: 0.0276241 (77)\ttotal: 3.45s\tremaining: 3.74s\n",
            "84:\tlearn: 0.0054861\ttest: 0.0276432\tbest: 0.0276241 (77)\ttotal: 3.49s\tremaining: 3.69s\n",
            "85:\tlearn: 0.0053885\ttest: 0.0276733\tbest: 0.0276241 (77)\ttotal: 3.53s\tremaining: 3.65s\n",
            "86:\tlearn: 0.0053884\ttest: 0.0276734\tbest: 0.0276241 (77)\ttotal: 3.57s\tremaining: 3.61s\n",
            "87:\tlearn: 0.0053884\ttest: 0.0276734\tbest: 0.0276241 (77)\ttotal: 3.61s\tremaining: 3.57s\n",
            "88:\tlearn: 0.0053884\ttest: 0.0276734\tbest: 0.0276241 (77)\ttotal: 3.65s\tremaining: 3.53s\n",
            "89:\tlearn: 0.0053884\ttest: 0.0276734\tbest: 0.0276241 (77)\ttotal: 3.69s\tremaining: 3.49s\n",
            "90:\tlearn: 0.0051419\ttest: 0.0272918\tbest: 0.0272918 (90)\ttotal: 3.73s\tremaining: 3.45s\n",
            "91:\tlearn: 0.0051419\ttest: 0.0272918\tbest: 0.0272918 (90)\ttotal: 3.78s\tremaining: 3.41s\n",
            "92:\tlearn: 0.0051419\ttest: 0.0272917\tbest: 0.0272917 (92)\ttotal: 3.83s\tremaining: 3.38s\n",
            "93:\tlearn: 0.0051418\ttest: 0.0272919\tbest: 0.0272917 (92)\ttotal: 3.87s\tremaining: 3.33s\n",
            "94:\tlearn: 0.0051417\ttest: 0.0272919\tbest: 0.0272917 (92)\ttotal: 3.9s\tremaining: 3.29s\n",
            "95:\tlearn: 0.0051412\ttest: 0.0272934\tbest: 0.0272917 (92)\ttotal: 3.94s\tremaining: 3.25s\n",
            "96:\tlearn: 0.0051412\ttest: 0.0272935\tbest: 0.0272917 (92)\ttotal: 3.99s\tremaining: 3.21s\n",
            "97:\tlearn: 0.0051409\ttest: 0.0272942\tbest: 0.0272917 (92)\ttotal: 4.05s\tremaining: 3.18s\n",
            "98:\tlearn: 0.0051409\ttest: 0.0272943\tbest: 0.0272917 (92)\ttotal: 4.09s\tremaining: 3.14s\n",
            "99:\tlearn: 0.0051409\ttest: 0.0272943\tbest: 0.0272917 (92)\ttotal: 4.13s\tremaining: 3.1s\n",
            "100:\tlearn: 0.0050032\ttest: 0.0272945\tbest: 0.0272917 (92)\ttotal: 4.17s\tremaining: 3.05s\n",
            "101:\tlearn: 0.0050025\ttest: 0.0272950\tbest: 0.0272917 (92)\ttotal: 4.21s\tremaining: 3.01s\n",
            "102:\tlearn: 0.0048642\ttest: 0.0272500\tbest: 0.0272500 (102)\ttotal: 4.25s\tremaining: 2.97s\n",
            "103:\tlearn: 0.0048640\ttest: 0.0272504\tbest: 0.0272500 (102)\ttotal: 4.29s\tremaining: 2.93s\n",
            "104:\tlearn: 0.0048640\ttest: 0.0272504\tbest: 0.0272500 (102)\ttotal: 4.33s\tremaining: 2.89s\n",
            "105:\tlearn: 0.0048171\ttest: 0.0272581\tbest: 0.0272500 (102)\ttotal: 4.37s\tremaining: 2.85s\n",
            "106:\tlearn: 0.0048170\ttest: 0.0272579\tbest: 0.0272500 (102)\ttotal: 4.41s\tremaining: 2.8s\n",
            "107:\tlearn: 0.0047834\ttest: 0.0272676\tbest: 0.0272500 (102)\ttotal: 4.45s\tremaining: 2.76s\n",
            "108:\tlearn: 0.0046742\ttest: 0.0271364\tbest: 0.0271364 (108)\ttotal: 4.49s\tremaining: 2.72s\n",
            "109:\tlearn: 0.0046740\ttest: 0.0271373\tbest: 0.0271364 (108)\ttotal: 4.54s\tremaining: 2.68s\n",
            "110:\tlearn: 0.0045843\ttest: 0.0267838\tbest: 0.0267838 (110)\ttotal: 4.58s\tremaining: 2.64s\n",
            "111:\tlearn: 0.0045817\ttest: 0.0267893\tbest: 0.0267838 (110)\ttotal: 4.62s\tremaining: 2.6s\n",
            "112:\tlearn: 0.0045816\ttest: 0.0267895\tbest: 0.0267838 (110)\ttotal: 4.66s\tremaining: 2.56s\n",
            "113:\tlearn: 0.0045816\ttest: 0.0267897\tbest: 0.0267838 (110)\ttotal: 4.7s\tremaining: 2.51s\n",
            "114:\tlearn: 0.0045815\ttest: 0.0267904\tbest: 0.0267838 (110)\ttotal: 4.74s\tremaining: 2.47s\n",
            "115:\tlearn: 0.0045814\ttest: 0.0267905\tbest: 0.0267838 (110)\ttotal: 4.79s\tremaining: 2.44s\n",
            "116:\tlearn: 0.0045812\ttest: 0.0267910\tbest: 0.0267838 (110)\ttotal: 4.83s\tremaining: 2.39s\n",
            "117:\tlearn: 0.0045812\ttest: 0.0267911\tbest: 0.0267838 (110)\ttotal: 4.87s\tremaining: 2.35s\n",
            "118:\tlearn: 0.0045811\ttest: 0.0267911\tbest: 0.0267838 (110)\ttotal: 4.9s\tremaining: 2.31s\n",
            "119:\tlearn: 0.0045811\ttest: 0.0267914\tbest: 0.0267838 (110)\ttotal: 4.94s\tremaining: 2.27s\n",
            "120:\tlearn: 0.0045811\ttest: 0.0267914\tbest: 0.0267838 (110)\ttotal: 4.99s\tremaining: 2.23s\n",
            "121:\tlearn: 0.0045796\ttest: 0.0267943\tbest: 0.0267838 (110)\ttotal: 5.03s\tremaining: 2.18s\n",
            "122:\tlearn: 0.0045796\ttest: 0.0267943\tbest: 0.0267838 (110)\ttotal: 5.07s\tremaining: 2.14s\n",
            "123:\tlearn: 0.0045796\ttest: 0.0267944\tbest: 0.0267838 (110)\ttotal: 5.11s\tremaining: 2.1s\n",
            "124:\tlearn: 0.0045794\ttest: 0.0267946\tbest: 0.0267838 (110)\ttotal: 5.15s\tremaining: 2.06s\n",
            "125:\tlearn: 0.0045792\ttest: 0.0267951\tbest: 0.0267838 (110)\ttotal: 5.18s\tremaining: 2.02s\n",
            "126:\tlearn: 0.0045791\ttest: 0.0267953\tbest: 0.0267838 (110)\ttotal: 5.22s\tremaining: 1.97s\n",
            "127:\tlearn: 0.0045791\ttest: 0.0267955\tbest: 0.0267838 (110)\ttotal: 5.27s\tremaining: 1.94s\n",
            "128:\tlearn: 0.0045790\ttest: 0.0267955\tbest: 0.0267838 (110)\ttotal: 5.31s\tremaining: 1.89s\n",
            "129:\tlearn: 0.0045790\ttest: 0.0267957\tbest: 0.0267838 (110)\ttotal: 5.35s\tremaining: 1.85s\n",
            "130:\tlearn: 0.0045788\ttest: 0.0267962\tbest: 0.0267838 (110)\ttotal: 5.39s\tremaining: 1.81s\n",
            "131:\tlearn: 0.0045788\ttest: 0.0267963\tbest: 0.0267838 (110)\ttotal: 5.43s\tremaining: 1.77s\n",
            "132:\tlearn: 0.0045786\ttest: 0.0267974\tbest: 0.0267838 (110)\ttotal: 5.47s\tremaining: 1.73s\n",
            "133:\tlearn: 0.0045786\ttest: 0.0267974\tbest: 0.0267838 (110)\ttotal: 5.51s\tremaining: 1.69s\n",
            "134:\tlearn: 0.0045784\ttest: 0.0267980\tbest: 0.0267838 (110)\ttotal: 5.56s\tremaining: 1.65s\n",
            "135:\tlearn: 0.0045784\ttest: 0.0267981\tbest: 0.0267838 (110)\ttotal: 5.59s\tremaining: 1.6s\n",
            "136:\tlearn: 0.0045784\ttest: 0.0267981\tbest: 0.0267838 (110)\ttotal: 5.63s\tremaining: 1.56s\n",
            "137:\tlearn: 0.0045781\ttest: 0.0267993\tbest: 0.0267838 (110)\ttotal: 5.67s\tremaining: 1.52s\n",
            "138:\tlearn: 0.0045781\ttest: 0.0267993\tbest: 0.0267838 (110)\ttotal: 5.71s\tremaining: 1.48s\n",
            "139:\tlearn: 0.0045779\ttest: 0.0267999\tbest: 0.0267838 (110)\ttotal: 5.75s\tremaining: 1.44s\n",
            "140:\tlearn: 0.0045779\ttest: 0.0267999\tbest: 0.0267838 (110)\ttotal: 5.8s\tremaining: 1.4s\n",
            "141:\tlearn: 0.0045778\ttest: 0.0268004\tbest: 0.0267838 (110)\ttotal: 5.84s\tremaining: 1.36s\n",
            "142:\tlearn: 0.0045777\ttest: 0.0268006\tbest: 0.0267838 (110)\ttotal: 5.88s\tremaining: 1.31s\n",
            "143:\tlearn: 0.0045777\ttest: 0.0268007\tbest: 0.0267838 (110)\ttotal: 5.91s\tremaining: 1.27s\n",
            "144:\tlearn: 0.0045775\ttest: 0.0268015\tbest: 0.0267838 (110)\ttotal: 5.95s\tremaining: 1.23s\n",
            "145:\tlearn: 0.0045775\ttest: 0.0268016\tbest: 0.0267838 (110)\ttotal: 6s\tremaining: 1.19s\n",
            "146:\tlearn: 0.0045775\ttest: 0.0268016\tbest: 0.0267838 (110)\ttotal: 6.04s\tremaining: 1.15s\n",
            "147:\tlearn: 0.0045775\ttest: 0.0268016\tbest: 0.0267838 (110)\ttotal: 6.08s\tremaining: 1.11s\n",
            "148:\tlearn: 0.0045774\ttest: 0.0268018\tbest: 0.0267838 (110)\ttotal: 6.12s\tremaining: 1.07s\n",
            "149:\tlearn: 0.0045774\ttest: 0.0268019\tbest: 0.0267838 (110)\ttotal: 6.16s\tremaining: 1.03s\n",
            "150:\tlearn: 0.0045773\ttest: 0.0268020\tbest: 0.0267838 (110)\ttotal: 6.2s\tremaining: 986ms\n",
            "151:\tlearn: 0.0045773\ttest: 0.0268022\tbest: 0.0267838 (110)\ttotal: 6.24s\tremaining: 945ms\n",
            "152:\tlearn: 0.0045771\ttest: 0.0268028\tbest: 0.0267838 (110)\ttotal: 6.28s\tremaining: 903ms\n",
            "153:\tlearn: 0.0045770\ttest: 0.0268034\tbest: 0.0267838 (110)\ttotal: 6.32s\tremaining: 862ms\n",
            "154:\tlearn: 0.0045769\ttest: 0.0268035\tbest: 0.0267838 (110)\ttotal: 6.36s\tremaining: 821ms\n",
            "155:\tlearn: 0.0045767\ttest: 0.0268040\tbest: 0.0267838 (110)\ttotal: 6.4s\tremaining: 779ms\n",
            "156:\tlearn: 0.0045762\ttest: 0.0268062\tbest: 0.0267838 (110)\ttotal: 6.44s\tremaining: 739ms\n",
            "157:\tlearn: 0.0045760\ttest: 0.0268068\tbest: 0.0267838 (110)\ttotal: 6.48s\tremaining: 698ms\n",
            "158:\tlearn: 0.0045760\ttest: 0.0268069\tbest: 0.0267838 (110)\ttotal: 6.52s\tremaining: 656ms\n",
            "159:\tlearn: 0.0045759\ttest: 0.0268074\tbest: 0.0267838 (110)\ttotal: 6.56s\tremaining: 615ms\n",
            "160:\tlearn: 0.0045759\ttest: 0.0268076\tbest: 0.0267838 (110)\ttotal: 6.6s\tremaining: 574ms\n",
            "161:\tlearn: 0.0045758\ttest: 0.0268079\tbest: 0.0267838 (110)\ttotal: 6.64s\tremaining: 533ms\n",
            "162:\tlearn: 0.0045758\ttest: 0.0268080\tbest: 0.0267838 (110)\ttotal: 6.68s\tremaining: 492ms\n",
            "163:\tlearn: 0.0045758\ttest: 0.0268081\tbest: 0.0267838 (110)\ttotal: 6.72s\tremaining: 451ms\n",
            "164:\tlearn: 0.0045758\ttest: 0.0268082\tbest: 0.0267838 (110)\ttotal: 6.76s\tremaining: 410ms\n",
            "165:\tlearn: 0.0045757\ttest: 0.0268083\tbest: 0.0267838 (110)\ttotal: 6.81s\tremaining: 369ms\n",
            "166:\tlearn: 0.0045752\ttest: 0.0268105\tbest: 0.0267838 (110)\ttotal: 6.85s\tremaining: 328ms\n",
            "167:\tlearn: 0.0045751\ttest: 0.0268108\tbest: 0.0267838 (110)\ttotal: 6.89s\tremaining: 287ms\n",
            "168:\tlearn: 0.0045751\ttest: 0.0268108\tbest: 0.0267838 (110)\ttotal: 6.93s\tremaining: 246ms\n",
            "169:\tlearn: 0.0045751\ttest: 0.0268112\tbest: 0.0267838 (110)\ttotal: 6.97s\tremaining: 205ms\n",
            "170:\tlearn: 0.0045749\ttest: 0.0268118\tbest: 0.0267838 (110)\ttotal: 7.01s\tremaining: 164ms\n",
            "171:\tlearn: 0.0045747\ttest: 0.0268129\tbest: 0.0267838 (110)\ttotal: 7.05s\tremaining: 123ms\n",
            "172:\tlearn: 0.0045747\ttest: 0.0268130\tbest: 0.0267838 (110)\ttotal: 7.09s\tremaining: 81.9ms\n",
            "173:\tlearn: 0.0045746\ttest: 0.0268132\tbest: 0.0267838 (110)\ttotal: 7.13s\tremaining: 41ms\n",
            "174:\tlearn: 0.0045745\ttest: 0.0268133\tbest: 0.0267838 (110)\ttotal: 7.17s\tremaining: 0us\n",
            "\n",
            "bestTest = 0.02678380231\n",
            "bestIteration = 110\n",
            "\n",
            "0:\tlearn: 0.1923442\ttest: 0.1999028\tbest: 0.1999028 (0)\n",
            "1:\tlearn: 0.1021756\ttest: 0.1103978\tbest: 0.1103978 (1)\n",
            "2:\tlearn: 0.0684806\ttest: 0.0780773\tbest: 0.0780773 (2)\n",
            "3:\tlearn: 0.0536847\ttest: 0.0643640\tbest: 0.0643640 (3)\n",
            "4:\tlearn: 0.0448437\ttest: 0.0577630\tbest: 0.0577630 (4)\n",
            "5:\tlearn: 0.0386081\ttest: 0.0541145\tbest: 0.0541145 (5)\n",
            "6:\tlearn: 0.0361088\ttest: 0.0530605\tbest: 0.0530605 (6)\n",
            "7:\tlearn: 0.0313789\ttest: 0.0504467\tbest: 0.0504467 (7)\n",
            "8:\tlearn: 0.0277531\ttest: 0.0494837\tbest: 0.0494837 (8)\n",
            "9:\tlearn: 0.0256931\ttest: 0.0477918\tbest: 0.0477918 (9)\n",
            "10:\tlearn: 0.0231361\ttest: 0.0461509\tbest: 0.0461509 (10)\n",
            "11:\tlearn: 0.0218939\ttest: 0.0463137\tbest: 0.0461509 (10)\ttotal: 2.52s\tremaining: 34.3s\n",
            "12:\tlearn: 0.0204676\ttest: 0.0464866\tbest: 0.0461509 (10)\n",
            "13:\tlearn: 0.0190202\ttest: 0.0459930\tbest: 0.0459930 (13)\n",
            "14:\tlearn: 0.0174570\ttest: 0.0445375\tbest: 0.0445375 (14)\n",
            "15:\tlearn: 0.0162954\ttest: 0.0445583\tbest: 0.0445375 (14)\n",
            "16:\tlearn: 0.0150908\ttest: 0.0443003\tbest: 0.0443003 (16)\n",
            "17:\tlearn: 0.0138479\ttest: 0.0441461\tbest: 0.0441461 (17)\n",
            "18:\tlearn: 0.0127019\ttest: 0.0443417\tbest: 0.0441461 (17)\n",
            "19:\tlearn: 0.0118946\ttest: 0.0447006\tbest: 0.0441461 (17)\n",
            "20:\tlearn: 0.0109629\ttest: 0.0442328\tbest: 0.0441461 (17)\n",
            "21:\tlearn: 0.0100824\ttest: 0.0445431\tbest: 0.0441461 (17)\n",
            "22:\tlearn: 0.0094478\ttest: 0.0440779\tbest: 0.0440779 (22)\n",
            "23:\tlearn: 0.0088319\ttest: 0.0435065\tbest: 0.0435065 (23)\ttotal: 4.98s\tremaining: 31.3s\n",
            "24:\tlearn: 0.0080861\ttest: 0.0429440\tbest: 0.0429440 (24)\n",
            "25:\tlearn: 0.0074029\ttest: 0.0425305\tbest: 0.0425305 (25)\n",
            "26:\tlearn: 0.0068443\ttest: 0.0416703\tbest: 0.0416703 (26)\n",
            "27:\tlearn: 0.0063033\ttest: 0.0411822\tbest: 0.0411822 (27)\n",
            "28:\tlearn: 0.0058940\ttest: 0.0413482\tbest: 0.0411822 (27)\n",
            "29:\tlearn: 0.0054369\ttest: 0.0404740\tbest: 0.0404740 (29)\n",
            "30:\tlearn: 0.0049481\ttest: 0.0396859\tbest: 0.0396859 (30)\n",
            "31:\tlearn: 0.0046439\ttest: 0.0396253\tbest: 0.0396253 (31)\n",
            "32:\tlearn: 0.0043770\ttest: 0.0391136\tbest: 0.0391136 (32)\n",
            "33:\tlearn: 0.0040796\ttest: 0.0383766\tbest: 0.0383766 (33)\n",
            "34:\tlearn: 0.0038197\ttest: 0.0385379\tbest: 0.0383766 (33)\n",
            "35:\tlearn: 0.0036385\ttest: 0.0385560\tbest: 0.0383766 (33)\ttotal: 7.46s\tremaining: 28.8s\n",
            "36:\tlearn: 0.0034811\ttest: 0.0383330\tbest: 0.0383330 (36)\n",
            "37:\tlearn: 0.0032832\ttest: 0.0384622\tbest: 0.0383330 (36)\n",
            "38:\tlearn: 0.0030725\ttest: 0.0380145\tbest: 0.0380145 (38)\n",
            "39:\tlearn: 0.0029294\ttest: 0.0378788\tbest: 0.0378788 (39)\n",
            "40:\tlearn: 0.0028316\ttest: 0.0378243\tbest: 0.0378243 (40)\n",
            "41:\tlearn: 0.0026911\ttest: 0.0378757\tbest: 0.0378243 (40)\n",
            "42:\tlearn: 0.0025911\ttest: 0.0378515\tbest: 0.0378243 (40)\n",
            "43:\tlearn: 0.0024693\ttest: 0.0377783\tbest: 0.0377783 (43)\n",
            "44:\tlearn: 0.0023621\ttest: 0.0376620\tbest: 0.0376620 (44)\n",
            "45:\tlearn: 0.0022921\ttest: 0.0375555\tbest: 0.0375555 (45)\n",
            "46:\tlearn: 0.0022528\ttest: 0.0375371\tbest: 0.0375371 (46)\n",
            "47:\tlearn: 0.0022177\ttest: 0.0373935\tbest: 0.0373935 (47)\ttotal: 9.99s\tremaining: 26.4s\n",
            "48:\tlearn: 0.0021164\ttest: 0.0374559\tbest: 0.0373935 (47)\n",
            "49:\tlearn: 0.0020574\ttest: 0.0373887\tbest: 0.0373887 (49)\n",
            "50:\tlearn: 0.0020138\ttest: 0.0374635\tbest: 0.0373887 (49)\n",
            "51:\tlearn: 0.0019665\ttest: 0.0375012\tbest: 0.0373887 (49)\n",
            "52:\tlearn: 0.0019255\ttest: 0.0376164\tbest: 0.0373887 (49)\n",
            "53:\tlearn: 0.0018788\ttest: 0.0374962\tbest: 0.0373887 (49)\n",
            "54:\tlearn: 0.0018576\ttest: 0.0373285\tbest: 0.0373285 (54)\n",
            "55:\tlearn: 0.0017722\ttest: 0.0372105\tbest: 0.0372105 (55)\n",
            "56:\tlearn: 0.0017259\ttest: 0.0370838\tbest: 0.0370838 (56)\n",
            "57:\tlearn: 0.0017047\ttest: 0.0370167\tbest: 0.0370167 (57)\n",
            "58:\tlearn: 0.0016930\ttest: 0.0371689\tbest: 0.0370167 (57)\n",
            "59:\tlearn: 0.0016805\ttest: 0.0372324\tbest: 0.0370167 (57)\ttotal: 12.4s\tremaining: 23.9s\n",
            "60:\tlearn: 0.0016681\ttest: 0.0372875\tbest: 0.0370167 (57)\n",
            "61:\tlearn: 0.0016537\ttest: 0.0372811\tbest: 0.0370167 (57)\n",
            "62:\tlearn: 0.0016333\ttest: 0.0373091\tbest: 0.0370167 (57)\n",
            "63:\tlearn: 0.0016278\ttest: 0.0373502\tbest: 0.0370167 (57)\n",
            "64:\tlearn: 0.0016278\ttest: 0.0373503\tbest: 0.0370167 (57)\n",
            "65:\tlearn: 0.0016166\ttest: 0.0372476\tbest: 0.0370167 (57)\n",
            "66:\tlearn: 0.0016165\ttest: 0.0372472\tbest: 0.0370167 (57)\n",
            "67:\tlearn: 0.0016165\ttest: 0.0372470\tbest: 0.0370167 (57)\n",
            "68:\tlearn: 0.0015864\ttest: 0.0373459\tbest: 0.0370167 (57)\n",
            "69:\tlearn: 0.0015721\ttest: 0.0373070\tbest: 0.0370167 (57)\n",
            "70:\tlearn: 0.0015717\ttest: 0.0373077\tbest: 0.0370167 (57)\n",
            "71:\tlearn: 0.0015717\ttest: 0.0373078\tbest: 0.0370167 (57)\ttotal: 14.9s\tremaining: 21.3s\n",
            "72:\tlearn: 0.0015716\ttest: 0.0373082\tbest: 0.0370167 (57)\n",
            "73:\tlearn: 0.0015588\ttest: 0.0374022\tbest: 0.0370167 (57)\n",
            "74:\tlearn: 0.0015506\ttest: 0.0373701\tbest: 0.0370167 (57)\n",
            "75:\tlearn: 0.0015326\ttest: 0.0372724\tbest: 0.0370167 (57)\n",
            "76:\tlearn: 0.0015285\ttest: 0.0372733\tbest: 0.0370167 (57)\n",
            "77:\tlearn: 0.0015002\ttest: 0.0371672\tbest: 0.0370167 (57)\n",
            "78:\tlearn: 0.0014568\ttest: 0.0371787\tbest: 0.0370167 (57)\n",
            "79:\tlearn: 0.0014342\ttest: 0.0371916\tbest: 0.0370167 (57)\n",
            "80:\tlearn: 0.0014341\ttest: 0.0371921\tbest: 0.0370167 (57)\n",
            "81:\tlearn: 0.0014340\ttest: 0.0371917\tbest: 0.0370167 (57)\n",
            "82:\tlearn: 0.0014163\ttest: 0.0371629\tbest: 0.0370167 (57)\n",
            "83:\tlearn: 0.0014085\ttest: 0.0371252\tbest: 0.0370167 (57)\n",
            "84:\tlearn: 0.0014084\ttest: 0.0371251\tbest: 0.0370167 (57)\ttotal: 17.5s\tremaining: 18.5s\n",
            "85:\tlearn: 0.0013902\ttest: 0.0370704\tbest: 0.0370167 (57)\n",
            "86:\tlearn: 0.0013901\ttest: 0.0370704\tbest: 0.0370167 (57)\n",
            "87:\tlearn: 0.0013804\ttest: 0.0370896\tbest: 0.0370167 (57)\n",
            "88:\tlearn: 0.0013803\ttest: 0.0370893\tbest: 0.0370167 (57)\n",
            "89:\tlearn: 0.0013802\ttest: 0.0370895\tbest: 0.0370167 (57)\n",
            "90:\tlearn: 0.0013802\ttest: 0.0370894\tbest: 0.0370167 (57)\n",
            "91:\tlearn: 0.0013776\ttest: 0.0370729\tbest: 0.0370167 (57)\n",
            "92:\tlearn: 0.0013775\ttest: 0.0370727\tbest: 0.0370167 (57)\n",
            "93:\tlearn: 0.0013630\ttest: 0.0370257\tbest: 0.0370167 (57)\n",
            "94:\tlearn: 0.0013630\ttest: 0.0370258\tbest: 0.0370167 (57)\n",
            "95:\tlearn: 0.0013555\ttest: 0.0370581\tbest: 0.0370167 (57)\n",
            "96:\tlearn: 0.0013553\ttest: 0.0370580\tbest: 0.0370167 (57)\ttotal: 19.9s\tremaining: 16s\n",
            "97:\tlearn: 0.0013553\ttest: 0.0370583\tbest: 0.0370167 (57)\n",
            "98:\tlearn: 0.0013506\ttest: 0.0370007\tbest: 0.0370007 (98)\n",
            "99:\tlearn: 0.0013505\ttest: 0.0369999\tbest: 0.0369999 (99)\n",
            "100:\tlearn: 0.0013504\ttest: 0.0370001\tbest: 0.0369999 (99)\n",
            "101:\tlearn: 0.0013503\ttest: 0.0369999\tbest: 0.0369999 (101)\n",
            "102:\tlearn: 0.0013423\ttest: 0.0369931\tbest: 0.0369931 (102)\n",
            "103:\tlearn: 0.0013422\ttest: 0.0369927\tbest: 0.0369927 (103)\n",
            "104:\tlearn: 0.0013163\ttest: 0.0367317\tbest: 0.0367317 (104)\n",
            "105:\tlearn: 0.0012936\ttest: 0.0367194\tbest: 0.0367194 (105)\n",
            "106:\tlearn: 0.0012935\ttest: 0.0367187\tbest: 0.0367187 (106)\n",
            "107:\tlearn: 0.0012876\ttest: 0.0367209\tbest: 0.0367187 (106)\n",
            "108:\tlearn: 0.0012776\ttest: 0.0366978\tbest: 0.0366978 (108)\ttotal: 22.4s\tremaining: 13.5s\n",
            "109:\tlearn: 0.0012687\ttest: 0.0367579\tbest: 0.0366978 (108)\n",
            "110:\tlearn: 0.0012686\ttest: 0.0367579\tbest: 0.0366978 (108)\n",
            "111:\tlearn: 0.0012621\ttest: 0.0368192\tbest: 0.0366978 (108)\n",
            "112:\tlearn: 0.0012618\ttest: 0.0368182\tbest: 0.0366978 (108)\n",
            "113:\tlearn: 0.0012618\ttest: 0.0368182\tbest: 0.0366978 (108)\n",
            "114:\tlearn: 0.0012618\ttest: 0.0368181\tbest: 0.0366978 (108)\n",
            "115:\tlearn: 0.0012617\ttest: 0.0368181\tbest: 0.0366978 (108)\n",
            "116:\tlearn: 0.0012506\ttest: 0.0368090\tbest: 0.0366978 (108)\n",
            "117:\tlearn: 0.0012506\ttest: 0.0368088\tbest: 0.0366978 (108)\n",
            "118:\tlearn: 0.0012505\ttest: 0.0368083\tbest: 0.0366978 (108)\n",
            "119:\tlearn: 0.0012504\ttest: 0.0368085\tbest: 0.0366978 (108)\n",
            "120:\tlearn: 0.0012504\ttest: 0.0368084\tbest: 0.0366978 (108)\ttotal: 24.8s\tremaining: 11.1s\n",
            "121:\tlearn: 0.0012503\ttest: 0.0368081\tbest: 0.0366978 (108)\n",
            "122:\tlearn: 0.0012502\ttest: 0.0368081\tbest: 0.0366978 (108)\n",
            "123:\tlearn: 0.0012425\ttest: 0.0368313\tbest: 0.0366978 (108)\n",
            "124:\tlearn: 0.0012425\ttest: 0.0368318\tbest: 0.0366978 (108)\n",
            "125:\tlearn: 0.0012423\ttest: 0.0368323\tbest: 0.0366978 (108)\n",
            "126:\tlearn: 0.0012422\ttest: 0.0368323\tbest: 0.0366978 (108)\n",
            "127:\tlearn: 0.0012315\ttest: 0.0368613\tbest: 0.0366978 (108)\n",
            "128:\tlearn: 0.0012314\ttest: 0.0368612\tbest: 0.0366978 (108)\n",
            "129:\tlearn: 0.0012314\ttest: 0.0368613\tbest: 0.0366978 (108)\n",
            "130:\tlearn: 0.0012313\ttest: 0.0368614\tbest: 0.0366978 (108)\n",
            "131:\tlearn: 0.0012312\ttest: 0.0368615\tbest: 0.0366978 (108)\n",
            "132:\tlearn: 0.0012312\ttest: 0.0368614\tbest: 0.0366978 (108)\n",
            "133:\tlearn: 0.0012310\ttest: 0.0368600\tbest: 0.0366978 (108)\ttotal: 27.4s\tremaining: 8.38s\n",
            "134:\tlearn: 0.0012308\ttest: 0.0368612\tbest: 0.0366978 (108)\n",
            "135:\tlearn: 0.0012307\ttest: 0.0368607\tbest: 0.0366978 (108)\n",
            "136:\tlearn: 0.0012307\ttest: 0.0368608\tbest: 0.0366978 (108)\n",
            "137:\tlearn: 0.0012306\ttest: 0.0368608\tbest: 0.0366978 (108)\n",
            "138:\tlearn: 0.0012306\ttest: 0.0368608\tbest: 0.0366978 (108)\n",
            "139:\tlearn: 0.0012304\ttest: 0.0368595\tbest: 0.0366978 (108)\n",
            "140:\tlearn: 0.0012303\ttest: 0.0368591\tbest: 0.0366978 (108)\n",
            "141:\tlearn: 0.0012302\ttest: 0.0368590\tbest: 0.0366978 (108)\n",
            "142:\tlearn: 0.0012302\ttest: 0.0368585\tbest: 0.0366978 (108)\n",
            "143:\tlearn: 0.0012301\ttest: 0.0368584\tbest: 0.0366978 (108)\n",
            "144:\tlearn: 0.0012301\ttest: 0.0368583\tbest: 0.0366978 (108)\n",
            "145:\tlearn: 0.0012299\ttest: 0.0368569\tbest: 0.0366978 (108)\ttotal: 29.8s\tremaining: 5.92s\n",
            "146:\tlearn: 0.0012299\ttest: 0.0368568\tbest: 0.0366978 (108)\n",
            "147:\tlearn: 0.0012298\ttest: 0.0368572\tbest: 0.0366978 (108)\n",
            "148:\tlearn: 0.0012297\ttest: 0.0368575\tbest: 0.0366978 (108)\n",
            "149:\tlearn: 0.0012296\ttest: 0.0368564\tbest: 0.0366978 (108)\n",
            "150:\tlearn: 0.0012219\ttest: 0.0368614\tbest: 0.0366978 (108)\n",
            "151:\tlearn: 0.0012218\ttest: 0.0368619\tbest: 0.0366978 (108)\n",
            "152:\tlearn: 0.0012217\ttest: 0.0368621\tbest: 0.0366978 (108)\n",
            "153:\tlearn: 0.0012216\ttest: 0.0368620\tbest: 0.0366978 (108)\n",
            "154:\tlearn: 0.0012215\ttest: 0.0368617\tbest: 0.0366978 (108)\n",
            "155:\tlearn: 0.0012215\ttest: 0.0368618\tbest: 0.0366978 (108)\n",
            "156:\tlearn: 0.0012141\ttest: 0.0369032\tbest: 0.0366978 (108)\n",
            "157:\tlearn: 0.0012140\ttest: 0.0369035\tbest: 0.0366978 (108)\n",
            "158:\tlearn: 0.0012140\ttest: 0.0369035\tbest: 0.0366978 (108)\ttotal: 32.4s\tremaining: 3.26s\n",
            "159:\tlearn: 0.0012139\ttest: 0.0369034\tbest: 0.0366978 (108)\n",
            "160:\tlearn: 0.0012138\ttest: 0.0369029\tbest: 0.0366978 (108)\n",
            "161:\tlearn: 0.0012137\ttest: 0.0369022\tbest: 0.0366978 (108)\n",
            "162:\tlearn: 0.0012058\ttest: 0.0368734\tbest: 0.0366978 (108)\n",
            "163:\tlearn: 0.0011992\ttest: 0.0368615\tbest: 0.0366978 (108)\n",
            "164:\tlearn: 0.0011912\ttest: 0.0368087\tbest: 0.0366978 (108)\n",
            "165:\tlearn: 0.0011910\ttest: 0.0368094\tbest: 0.0366978 (108)\n",
            "166:\tlearn: 0.0011836\ttest: 0.0368459\tbest: 0.0366978 (108)\n",
            "167:\tlearn: 0.0011835\ttest: 0.0368463\tbest: 0.0366978 (108)\n",
            "168:\tlearn: 0.0011835\ttest: 0.0368459\tbest: 0.0366978 (108)\n",
            "169:\tlearn: 0.0011834\ttest: 0.0368464\tbest: 0.0366978 (108)\n",
            "170:\tlearn: 0.0011776\ttest: 0.0367732\tbest: 0.0366978 (108)\n",
            "171:\tlearn: 0.0011774\ttest: 0.0367700\tbest: 0.0366978 (108)\ttotal: 35s\tremaining: 611ms\n",
            "172:\tlearn: 0.0011647\ttest: 0.0367915\tbest: 0.0366978 (108)\n",
            "173:\tlearn: 0.0011647\ttest: 0.0367916\tbest: 0.0366978 (108)\n",
            "174:\tlearn: 0.0011581\ttest: 0.0368116\tbest: 0.0366978 (108)\ttotal: 35.7s\tremaining: 0us\n"
          ],
          "name": "stdout"
        }
      ]
    },
    {
      "cell_type": "code",
      "metadata": {
        "colab": {
          "base_uri": "https://localhost:8080/",
          "height": 168
        },
        "id": "PLCjpu9xHa2j",
        "outputId": "a015d9e2-d67a-46f3-fe88-3e5df8fae0c9"
      },
      "source": [
        "randomized_search_result"
      ],
      "execution_count": 67,
      "outputs": [
        {
          "output_type": "error",
          "ename": "AttributeError",
          "evalue": "ignored",
          "traceback": [
            "\u001b[0;31m---------------------------------------------------------------------------\u001b[0m",
            "\u001b[0;31mAttributeError\u001b[0m                            Traceback (most recent call last)",
            "\u001b[0;32m<ipython-input-67-6434aa252faf>\u001b[0m in \u001b[0;36m<module>\u001b[0;34m()\u001b[0m\n\u001b[0;32m----> 1\u001b[0;31m \u001b[0mrandomized_search_result\u001b[0m\u001b[0;34m.\u001b[0m\u001b[0mscore\u001b[0m\u001b[0;34m\u001b[0m\u001b[0;34m\u001b[0m\u001b[0m\n\u001b[0m",
            "\u001b[0;31mAttributeError\u001b[0m: 'dict' object has no attribute 'score'"
          ]
        }
      ]
    },
    {
      "cell_type": "code",
      "metadata": {
        "colab": {
          "base_uri": "https://localhost:8080/"
        },
        "id": "_WeFkkGB_tZg",
        "outputId": "e079e27d-f26f-4814-938f-6e7fb0f7b07e"
      },
      "source": [
        "log_loss(y_valid, model.predict_proba(X_valid))"
      ],
      "execution_count": 59,
      "outputs": [
        {
          "output_type": "execute_result",
          "data": {
            "text/plain": [
              "0.003807786066605326"
            ]
          },
          "metadata": {},
          "execution_count": 59
        }
      ]
    },
    {
      "cell_type": "code",
      "metadata": {
        "colab": {
          "base_uri": "https://localhost:8080/",
          "height": 418
        },
        "id": "J0vGbiULADN6",
        "outputId": "0fb72dc7-3e79-4dc0-998d-8ea2b97e8584"
      },
      "source": [
        "# Predict and submit\n",
        "# with Probabilities\n",
        "submission = pd.read_csv('submission.csv' )\n",
        "\n",
        "preds = model.predict_proba(X_test)\n",
        "#submission['Outcome'] = [pred[1] for pred in preds]\n",
        "submission['Outcome'] = preds[:,1]\n",
        "\n",
        "submission.to_csv('cv_proba_submission.csv',index=False, header=True)\n",
        "submission"
      ],
      "execution_count": 60,
      "outputs": [
        {
          "output_type": "execute_result",
          "data": {
            "text/html": [
              "<div>\n",
              "<style scoped>\n",
              "    .dataframe tbody tr th:only-of-type {\n",
              "        vertical-align: middle;\n",
              "    }\n",
              "\n",
              "    .dataframe tbody tr th {\n",
              "        vertical-align: top;\n",
              "    }\n",
              "\n",
              "    .dataframe thead th {\n",
              "        text-align: right;\n",
              "    }\n",
              "</style>\n",
              "<table border=\"1\" class=\"dataframe\">\n",
              "  <thead>\n",
              "    <tr style=\"text-align: right;\">\n",
              "      <th></th>\n",
              "      <th>Outcome</th>\n",
              "    </tr>\n",
              "  </thead>\n",
              "  <tbody>\n",
              "    <tr>\n",
              "      <th>0</th>\n",
              "      <td>0.999998</td>\n",
              "    </tr>\n",
              "    <tr>\n",
              "      <th>1</th>\n",
              "      <td>0.999937</td>\n",
              "    </tr>\n",
              "    <tr>\n",
              "      <th>2</th>\n",
              "      <td>0.000004</td>\n",
              "    </tr>\n",
              "    <tr>\n",
              "      <th>3</th>\n",
              "      <td>0.992721</td>\n",
              "    </tr>\n",
              "    <tr>\n",
              "      <th>4</th>\n",
              "      <td>0.000002</td>\n",
              "    </tr>\n",
              "    <tr>\n",
              "      <th>...</th>\n",
              "      <td>...</td>\n",
              "    </tr>\n",
              "    <tr>\n",
              "      <th>4003</th>\n",
              "      <td>0.801284</td>\n",
              "    </tr>\n",
              "    <tr>\n",
              "      <th>4004</th>\n",
              "      <td>0.046089</td>\n",
              "    </tr>\n",
              "    <tr>\n",
              "      <th>4005</th>\n",
              "      <td>0.999900</td>\n",
              "    </tr>\n",
              "    <tr>\n",
              "      <th>4006</th>\n",
              "      <td>0.999975</td>\n",
              "    </tr>\n",
              "    <tr>\n",
              "      <th>4007</th>\n",
              "      <td>0.999977</td>\n",
              "    </tr>\n",
              "  </tbody>\n",
              "</table>\n",
              "<p>4008 rows × 1 columns</p>\n",
              "</div>"
            ],
            "text/plain": [
              "       Outcome\n",
              "0     0.999998\n",
              "1     0.999937\n",
              "2     0.000004\n",
              "3     0.992721\n",
              "4     0.000002\n",
              "...        ...\n",
              "4003  0.801284\n",
              "4004  0.046089\n",
              "4005  0.999900\n",
              "4006  0.999975\n",
              "4007  0.999977\n",
              "\n",
              "[4008 rows x 1 columns]"
            ]
          },
          "metadata": {},
          "execution_count": 60
        }
      ]
    },
    {
      "cell_type": "code",
      "metadata": {
        "colab": {
          "base_uri": "https://localhost:8080/",
          "height": 573
        },
        "id": "W_rvdBC5KsJk",
        "outputId": "87eb7f9a-72ca-4447-b008-b061877d231e"
      },
      "source": [
        "X_test"
      ],
      "execution_count": 80,
      "outputs": [
        {
          "output_type": "execute_result",
          "data": {
            "text/html": [
              "<div>\n",
              "<style scoped>\n",
              "    .dataframe tbody tr th:only-of-type {\n",
              "        vertical-align: middle;\n",
              "    }\n",
              "\n",
              "    .dataframe tbody tr th {\n",
              "        vertical-align: top;\n",
              "    }\n",
              "\n",
              "    .dataframe thead th {\n",
              "        text-align: right;\n",
              "    }\n",
              "</style>\n",
              "<table border=\"1\" class=\"dataframe\">\n",
              "  <thead>\n",
              "    <tr style=\"text-align: right;\">\n",
              "      <th></th>\n",
              "      <th>season</th>\n",
              "      <th>league_id</th>\n",
              "      <th>Team 1</th>\n",
              "      <th>Team2</th>\n",
              "      <th>SPI1</th>\n",
              "      <th>SPI2</th>\n",
              "      <th>proj_score1</th>\n",
              "      <th>proj_score2</th>\n",
              "      <th>importance1</th>\n",
              "      <th>importance2</th>\n",
              "      <th>score1</th>\n",
              "      <th>score2</th>\n",
              "      <th>xg1</th>\n",
              "      <th>xg2</th>\n",
              "      <th>nsxg1</th>\n",
              "      <th>nsxg2</th>\n",
              "      <th>adj_score1</th>\n",
              "      <th>adj_score2</th>\n",
              "    </tr>\n",
              "  </thead>\n",
              "  <tbody>\n",
              "    <tr>\n",
              "      <th>22</th>\n",
              "      <td>2019</td>\n",
              "      <td>1979</td>\n",
              "      <td>Chongqing Lifan</td>\n",
              "      <td>Shenzhen FC</td>\n",
              "      <td>35.06</td>\n",
              "      <td>33.78</td>\n",
              "      <td>1.53</td>\n",
              "      <td>1.02</td>\n",
              "      <td>43.6</td>\n",
              "      <td>26.9</td>\n",
              "      <td>1.0</td>\n",
              "      <td>0.0</td>\n",
              "      <td>0.60</td>\n",
              "      <td>0.81</td>\n",
              "      <td>0.78</td>\n",
              "      <td>1.07</td>\n",
              "      <td>1.05</td>\n",
              "      <td>0.00</td>\n",
              "    </tr>\n",
              "    <tr>\n",
              "      <th>40</th>\n",
              "      <td>2019</td>\n",
              "      <td>1979</td>\n",
              "      <td>Tianjin Quanujian</td>\n",
              "      <td>Shanghai SIPG</td>\n",
              "      <td>36.77</td>\n",
              "      <td>57.68</td>\n",
              "      <td>1.16</td>\n",
              "      <td>1.77</td>\n",
              "      <td>36.5</td>\n",
              "      <td>61.1</td>\n",
              "      <td>0.0</td>\n",
              "      <td>0.0</td>\n",
              "      <td>0.56</td>\n",
              "      <td>1.66</td>\n",
              "      <td>0.51</td>\n",
              "      <td>1.27</td>\n",
              "      <td>0.00</td>\n",
              "      <td>0.00</td>\n",
              "    </tr>\n",
              "    <tr>\n",
              "      <th>52</th>\n",
              "      <td>2019</td>\n",
              "      <td>1979</td>\n",
              "      <td>Chongqing Lifan</td>\n",
              "      <td>Guangzhou Evergrande</td>\n",
              "      <td>36.95</td>\n",
              "      <td>63.34</td>\n",
              "      <td>0.99</td>\n",
              "      <td>1.95</td>\n",
              "      <td>20.7</td>\n",
              "      <td>71.4</td>\n",
              "      <td>0.0</td>\n",
              "      <td>1.0</td>\n",
              "      <td>0.53</td>\n",
              "      <td>2.38</td>\n",
              "      <td>0.73</td>\n",
              "      <td>1.47</td>\n",
              "      <td>0.00</td>\n",
              "      <td>1.05</td>\n",
              "    </tr>\n",
              "    <tr>\n",
              "      <th>91</th>\n",
              "      <td>2019</td>\n",
              "      <td>1979</td>\n",
              "      <td>Guizhou Renhe</td>\n",
              "      <td>Tianjin Quanujian</td>\n",
              "      <td>32.33</td>\n",
              "      <td>33.95</td>\n",
              "      <td>1.39</td>\n",
              "      <td>1.05</td>\n",
              "      <td>61.9</td>\n",
              "      <td>59.3</td>\n",
              "      <td>2.0</td>\n",
              "      <td>0.0</td>\n",
              "      <td>1.65</td>\n",
              "      <td>2.39</td>\n",
              "      <td>1.40</td>\n",
              "      <td>2.31</td>\n",
              "      <td>2.10</td>\n",
              "      <td>0.00</td>\n",
              "    </tr>\n",
              "    <tr>\n",
              "      <th>92</th>\n",
              "      <td>2019</td>\n",
              "      <td>1979</td>\n",
              "      <td>Dalian Aerbin</td>\n",
              "      <td>Shanghai SIPG</td>\n",
              "      <td>43.63</td>\n",
              "      <td>58.51</td>\n",
              "      <td>1.14</td>\n",
              "      <td>1.62</td>\n",
              "      <td>10.5</td>\n",
              "      <td>71.6</td>\n",
              "      <td>1.0</td>\n",
              "      <td>2.0</td>\n",
              "      <td>0.29</td>\n",
              "      <td>1.34</td>\n",
              "      <td>1.05</td>\n",
              "      <td>1.52</td>\n",
              "      <td>1.05</td>\n",
              "      <td>2.10</td>\n",
              "    </tr>\n",
              "    <tr>\n",
              "      <th>...</th>\n",
              "      <td>...</td>\n",
              "      <td>...</td>\n",
              "      <td>...</td>\n",
              "      <td>...</td>\n",
              "      <td>...</td>\n",
              "      <td>...</td>\n",
              "      <td>...</td>\n",
              "      <td>...</td>\n",
              "      <td>...</td>\n",
              "      <td>...</td>\n",
              "      <td>...</td>\n",
              "      <td>...</td>\n",
              "      <td>...</td>\n",
              "      <td>...</td>\n",
              "      <td>...</td>\n",
              "      <td>...</td>\n",
              "      <td>...</td>\n",
              "      <td>...</td>\n",
              "    </tr>\n",
              "    <tr>\n",
              "      <th>7398</th>\n",
              "      <td>2021</td>\n",
              "      <td>1869</td>\n",
              "      <td>Real Betis</td>\n",
              "      <td>Real Sociedad</td>\n",
              "      <td>73.14</td>\n",
              "      <td>78.21</td>\n",
              "      <td>1.33</td>\n",
              "      <td>1.31</td>\n",
              "      <td>NaN</td>\n",
              "      <td>NaN</td>\n",
              "      <td>NaN</td>\n",
              "      <td>NaN</td>\n",
              "      <td>NaN</td>\n",
              "      <td>NaN</td>\n",
              "      <td>NaN</td>\n",
              "      <td>NaN</td>\n",
              "      <td>NaN</td>\n",
              "      <td>NaN</td>\n",
              "    </tr>\n",
              "    <tr>\n",
              "      <th>7402</th>\n",
              "      <td>2021</td>\n",
              "      <td>1843</td>\n",
              "      <td>Angers</td>\n",
              "      <td>Clermont Foot</td>\n",
              "      <td>57.13</td>\n",
              "      <td>53.65</td>\n",
              "      <td>1.36</td>\n",
              "      <td>0.95</td>\n",
              "      <td>NaN</td>\n",
              "      <td>NaN</td>\n",
              "      <td>NaN</td>\n",
              "      <td>NaN</td>\n",
              "      <td>NaN</td>\n",
              "      <td>NaN</td>\n",
              "      <td>NaN</td>\n",
              "      <td>NaN</td>\n",
              "      <td>NaN</td>\n",
              "      <td>NaN</td>\n",
              "    </tr>\n",
              "    <tr>\n",
              "      <th>7409</th>\n",
              "      <td>2021</td>\n",
              "      <td>1843</td>\n",
              "      <td>Reims</td>\n",
              "      <td>St Etienne</td>\n",
              "      <td>50.01</td>\n",
              "      <td>57.02</td>\n",
              "      <td>1.17</td>\n",
              "      <td>1.18</td>\n",
              "      <td>NaN</td>\n",
              "      <td>NaN</td>\n",
              "      <td>NaN</td>\n",
              "      <td>NaN</td>\n",
              "      <td>NaN</td>\n",
              "      <td>NaN</td>\n",
              "      <td>NaN</td>\n",
              "      <td>NaN</td>\n",
              "      <td>NaN</td>\n",
              "      <td>NaN</td>\n",
              "    </tr>\n",
              "    <tr>\n",
              "      <th>7428</th>\n",
              "      <td>2021</td>\n",
              "      <td>1846</td>\n",
              "      <td>Schalke 04</td>\n",
              "      <td>1. FC Nürnberg</td>\n",
              "      <td>49.30</td>\n",
              "      <td>33.35</td>\n",
              "      <td>1.84</td>\n",
              "      <td>0.97</td>\n",
              "      <td>NaN</td>\n",
              "      <td>NaN</td>\n",
              "      <td>NaN</td>\n",
              "      <td>NaN</td>\n",
              "      <td>NaN</td>\n",
              "      <td>NaN</td>\n",
              "      <td>NaN</td>\n",
              "      <td>NaN</td>\n",
              "      <td>NaN</td>\n",
              "      <td>NaN</td>\n",
              "    </tr>\n",
              "    <tr>\n",
              "      <th>7429</th>\n",
              "      <td>2021</td>\n",
              "      <td>1854</td>\n",
              "      <td>Torino</td>\n",
              "      <td>Bologna</td>\n",
              "      <td>57.60</td>\n",
              "      <td>58.51</td>\n",
              "      <td>1.46</td>\n",
              "      <td>1.34</td>\n",
              "      <td>NaN</td>\n",
              "      <td>NaN</td>\n",
              "      <td>NaN</td>\n",
              "      <td>NaN</td>\n",
              "      <td>NaN</td>\n",
              "      <td>NaN</td>\n",
              "      <td>NaN</td>\n",
              "      <td>NaN</td>\n",
              "      <td>NaN</td>\n",
              "      <td>NaN</td>\n",
              "    </tr>\n",
              "  </tbody>\n",
              "</table>\n",
              "<p>745 rows × 18 columns</p>\n",
              "</div>"
            ],
            "text/plain": [
              "      season  league_id             Team 1  ... nsxg2  adj_score1  adj_score2\n",
              "22      2019       1979    Chongqing Lifan  ...  1.07        1.05        0.00\n",
              "40      2019       1979  Tianjin Quanujian  ...  1.27        0.00        0.00\n",
              "52      2019       1979    Chongqing Lifan  ...  1.47        0.00        1.05\n",
              "91      2019       1979      Guizhou Renhe  ...  2.31        2.10        0.00\n",
              "92      2019       1979      Dalian Aerbin  ...  1.52        1.05        2.10\n",
              "...      ...        ...                ...  ...   ...         ...         ...\n",
              "7398    2021       1869         Real Betis  ...   NaN         NaN         NaN\n",
              "7402    2021       1843             Angers  ...   NaN         NaN         NaN\n",
              "7409    2021       1843              Reims  ...   NaN         NaN         NaN\n",
              "7428    2021       1846         Schalke 04  ...   NaN         NaN         NaN\n",
              "7429    2021       1854             Torino  ...   NaN         NaN         NaN\n",
              "\n",
              "[745 rows x 18 columns]"
            ]
          },
          "metadata": {},
          "execution_count": 80
        }
      ]
    },
    {
      "cell_type": "code",
      "metadata": {
        "colab": {
          "base_uri": "https://localhost:8080/"
        },
        "id": "ulvPkbunKilo",
        "outputId": "df83784e-e864-4abe-e877-063406de20b0"
      },
      "source": [
        "test_data.num_row()"
      ],
      "execution_count": 79,
      "outputs": [
        {
          "output_type": "execute_result",
          "data": {
            "text/plain": [
              "745"
            ]
          },
          "metadata": {},
          "execution_count": 79
        }
      ]
    },
    {
      "cell_type": "code",
      "metadata": {
        "colab": {
          "base_uri": "https://localhost:8080/"
        },
        "id": "rYj-HcECETQC",
        "outputId": "d6971eb8-c601-44a6-b46d-d4055ab2325e"
      },
      "source": [
        "%%time\n",
        "\n",
        "from sklearn.model_selection import StratifiedKFold\n",
        "\n",
        "n_fold = 5 # amount of data folds\n",
        "folds = StratifiedKFold(n_splits=n_fold, shuffle=True, random_state=SEED)\n",
        "\n",
        "params = {'loss_function':'Logloss',\n",
        "          'eval_metric':'AUC',\n",
        "          'verbose': 200,\n",
        "          'random_seed': SEED,\n",
        "          'learning_rate':0.23,'max_depth':5\n",
        "         }\n",
        "\n",
        "test_data = Pool(data=X_test,\n",
        "                 cat_features=cat_features)\n",
        "\n",
        "\n",
        "scores = []\n",
        "prediction = np.zeros(X_test.shape[0])\n",
        "for fold_n, (train_index, valid_index) in enumerate(folds.split(X, y)):\n",
        "    \n",
        "    X_train, X_valid = X.iloc[train_index], X.iloc[valid_index] # train and validation data splits\n",
        "    y_train, y_valid = y[train_index], y[valid_index]\n",
        "    \n",
        "    train_data = Pool(data=X_train, \n",
        "                      label=y_train,\n",
        "                      cat_features=cat_features)\n",
        "    valid_data = Pool(data=X_valid, \n",
        "                      label=y_valid,\n",
        "                      cat_features=cat_features)\n",
        "    \n",
        "    model = CatBoostClassifier(**params)\n",
        "    model.fit(train_data,\n",
        "              eval_set=valid_data, \n",
        "              use_best_model=True\n",
        "             )\n",
        "    \n",
        "    score = model.get_best_score()['validation']['AUC']\n",
        "    scores.append(score)\n",
        "\n",
        "    y_pred = model.predict_proba(test_data)[:, 1]\n",
        "    prediction += y_pred\n",
        "\n",
        "prediction /= n_fold\n",
        "print('CV mean: {:.4f}, CV std: {:.4f}'.format(np.mean(scores), np.std(scores)))"
      ],
      "execution_count": 25,
      "outputs": [
        {
          "output_type": "stream",
          "text": [
            "0:\ttest: 0.9700924\tbest: 0.9700924 (0)\ttotal: 61.9ms\tremaining: 1m 1s\n",
            "200:\ttest: 0.9986276\tbest: 0.9993024 (42)\ttotal: 1.95s\tremaining: 7.76s\n",
            "400:\ttest: 0.9986442\tbest: 0.9993024 (42)\ttotal: 3.59s\tremaining: 5.36s\n",
            "600:\ttest: 0.9987564\tbest: 0.9993024 (42)\ttotal: 5.15s\tremaining: 3.42s\n",
            "800:\ttest: 0.9987833\tbest: 0.9993024 (42)\ttotal: 6.7s\tremaining: 1.66s\n",
            "999:\ttest: 0.9987958\tbest: 0.9993024 (42)\ttotal: 8.21s\tremaining: 0us\n",
            "\n",
            "bestTest = 0.999302398\n",
            "bestIteration = 42\n",
            "\n",
            "Shrink model to first 43 iterations.\n",
            "0:\ttest: 0.9768598\tbest: 0.9768598 (0)\ttotal: 10.2ms\tremaining: 10.2s\n",
            "200:\ttest: 0.9995204\tbest: 0.9995744 (115)\ttotal: 1.85s\tremaining: 7.37s\n",
            "400:\ttest: 0.9995765\tbest: 0.9995889 (311)\ttotal: 3.46s\tremaining: 5.17s\n",
            "600:\ttest: 0.9996159\tbest: 0.9996180 (596)\ttotal: 4.97s\tremaining: 3.3s\n",
            "800:\ttest: 0.9996014\tbest: 0.9996201 (602)\ttotal: 6.51s\tremaining: 1.62s\n",
            "999:\ttest: 0.9995765\tbest: 0.9996201 (602)\ttotal: 8.08s\tremaining: 0us\n",
            "\n",
            "bestTest = 0.9996200561\n",
            "bestIteration = 602\n",
            "\n",
            "Shrink model to first 603 iterations.\n",
            "0:\ttest: 0.9736219\tbest: 0.9736219 (0)\ttotal: 10.1ms\tremaining: 10.1s\n",
            "200:\ttest: 0.9974338\tbest: 0.9975065 (55)\ttotal: 1.81s\tremaining: 7.18s\n",
            "400:\ttest: 0.9973736\tbest: 0.9975065 (55)\ttotal: 3.44s\tremaining: 5.14s\n",
            "600:\ttest: 0.9973259\tbest: 0.9975065 (55)\ttotal: 4.98s\tremaining: 3.31s\n",
            "800:\ttest: 0.9973196\tbest: 0.9975065 (55)\ttotal: 6.45s\tremaining: 1.6s\n",
            "999:\ttest: 0.9973321\tbest: 0.9975065 (55)\ttotal: 7.95s\tremaining: 0us\n",
            "\n",
            "bestTest = 0.9975064881\n",
            "bestIteration = 55\n",
            "\n",
            "Shrink model to first 56 iterations.\n",
            "0:\ttest: 0.9853777\tbest: 0.9853777 (0)\ttotal: 10.1ms\tremaining: 10.1s\n",
            "200:\ttest: 0.9980255\tbest: 0.9980692 (154)\ttotal: 1.84s\tremaining: 7.32s\n",
            "400:\ttest: 0.9980505\tbest: 0.9980692 (154)\ttotal: 3.39s\tremaining: 5.07s\n",
            "600:\ttest: 0.9980193\tbest: 0.9980692 (154)\ttotal: 4.92s\tremaining: 3.27s\n",
            "800:\ttest: 0.9980276\tbest: 0.9980692 (154)\ttotal: 6.49s\tremaining: 1.61s\n",
            "999:\ttest: 0.9979777\tbest: 0.9980692 (154)\ttotal: 8.1s\tremaining: 0us\n",
            "\n",
            "bestTest = 0.9980692249\n",
            "bestIteration = 154\n",
            "\n",
            "Shrink model to first 155 iterations.\n",
            "0:\ttest: 0.9836872\tbest: 0.9836872 (0)\ttotal: 10ms\tremaining: 9.99s\n",
            "200:\ttest: 0.9994923\tbest: 0.9995943 (79)\ttotal: 1.81s\tremaining: 7.2s\n",
            "400:\ttest: 0.9994840\tbest: 0.9995943 (79)\ttotal: 3.37s\tremaining: 5.03s\n",
            "600:\ttest: 0.9994986\tbest: 0.9995943 (79)\ttotal: 4.89s\tremaining: 3.25s\n",
            "800:\ttest: 0.9994923\tbest: 0.9995943 (79)\ttotal: 6.34s\tremaining: 1.57s\n",
            "999:\ttest: 0.9994840\tbest: 0.9995943 (79)\ttotal: 7.78s\tremaining: 0us\n",
            "\n",
            "bestTest = 0.9995942876\n",
            "bestIteration = 79\n",
            "\n",
            "Shrink model to first 80 iterations.\n",
            "CV mean: 0.9988, CV std: 0.0009\n",
            "CPU times: user 1min 8s, sys: 4.12 s, total: 1min 12s\n",
            "Wall time: 41.2 s\n"
          ],
          "name": "stdout"
        }
      ]
    },
    {
      "cell_type": "code",
      "metadata": {
        "colab": {
          "base_uri": "https://localhost:8080/",
          "height": 111
        },
        "id": "QAoVLKv3JLn8",
        "outputId": "0a67e822-8913-4f1b-c6d3-1b0999a997ce"
      },
      "source": [
        "submission[:2]"
      ],
      "execution_count": 71,
      "outputs": [
        {
          "output_type": "execute_result",
          "data": {
            "text/html": [
              "<div>\n",
              "<style scoped>\n",
              "    .dataframe tbody tr th:only-of-type {\n",
              "        vertical-align: middle;\n",
              "    }\n",
              "\n",
              "    .dataframe tbody tr th {\n",
              "        vertical-align: top;\n",
              "    }\n",
              "\n",
              "    .dataframe thead th {\n",
              "        text-align: right;\n",
              "    }\n",
              "</style>\n",
              "<table border=\"1\" class=\"dataframe\">\n",
              "  <thead>\n",
              "    <tr style=\"text-align: right;\">\n",
              "      <th></th>\n",
              "      <th>Outcome</th>\n",
              "    </tr>\n",
              "  </thead>\n",
              "  <tbody>\n",
              "    <tr>\n",
              "      <th>0</th>\n",
              "      <td>0.999998</td>\n",
              "    </tr>\n",
              "    <tr>\n",
              "      <th>1</th>\n",
              "      <td>0.999937</td>\n",
              "    </tr>\n",
              "  </tbody>\n",
              "</table>\n",
              "</div>"
            ],
            "text/plain": [
              "    Outcome\n",
              "0  0.999998\n",
              "1  0.999937"
            ]
          },
          "metadata": {},
          "execution_count": 71
        }
      ]
    },
    {
      "cell_type": "code",
      "metadata": {
        "colab": {
          "base_uri": "https://localhost:8080/"
        },
        "id": "qSs2RRUnJntk",
        "outputId": "15f5e72a-17b5-4b8b-82c4-9e61c984c66e"
      },
      "source": [
        "len(prediction)"
      ],
      "execution_count": 26,
      "outputs": [
        {
          "output_type": "execute_result",
          "data": {
            "text/plain": [
              "4008"
            ]
          },
          "metadata": {},
          "execution_count": 26
        }
      ]
    },
    {
      "cell_type": "code",
      "metadata": {
        "colab": {
          "base_uri": "https://localhost:8080/"
        },
        "id": "JqBrtTu8MccK",
        "outputId": "e29e1438-94dc-4512-e4ac-7f8d03ecfab8"
      },
      "source": [
        "print(prediction)"
      ],
      "execution_count": 31,
      "outputs": [
        {
          "output_type": "stream",
          "text": [
            "[9.99936926e-01 9.99893659e-01 5.06086687e-05 ... 9.94610371e-01\n",
            " 9.99809791e-01 9.98718170e-01]\n"
          ],
          "name": "stdout"
        }
      ]
    },
    {
      "cell_type": "code",
      "metadata": {
        "colab": {
          "base_uri": "https://localhost:8080/"
        },
        "id": "C8dJ2zk6IAJ1",
        "outputId": "7c76472b-cca8-456a-f435-c08885d411af"
      },
      "source": [
        "import pandas as pd\n",
        "\n",
        "sub = pd.read_csv('./submission.csv')\n",
        "sub['Outcome'] = prediction\n",
        "sub_name = 'catboost_submission_sratifiedKfold.csv'\n",
        "sub.to_csv(sub_name, index=False)\n",
        "\n",
        "print(f'Saving submission file as: {sub_name}')"
      ],
      "execution_count": 27,
      "outputs": [
        {
          "output_type": "stream",
          "text": [
            "Saving submission file as: catboost_submission_sratifiedKfold.csv\n"
          ],
          "name": "stdout"
        }
      ]
    },
    {
      "cell_type": "code",
      "metadata": {
        "colab": {
          "base_uri": "https://localhost:8080/",
          "height": 141
        },
        "id": "v0BD3jhqMSk_",
        "outputId": "343e8d4c-7bac-4bac-d335-d349c610e5de"
      },
      "source": [
        "sub[:3]"
      ],
      "execution_count": 29,
      "outputs": [
        {
          "output_type": "execute_result",
          "data": {
            "text/html": [
              "<div>\n",
              "<style scoped>\n",
              "    .dataframe tbody tr th:only-of-type {\n",
              "        vertical-align: middle;\n",
              "    }\n",
              "\n",
              "    .dataframe tbody tr th {\n",
              "        vertical-align: top;\n",
              "    }\n",
              "\n",
              "    .dataframe thead th {\n",
              "        text-align: right;\n",
              "    }\n",
              "</style>\n",
              "<table border=\"1\" class=\"dataframe\">\n",
              "  <thead>\n",
              "    <tr style=\"text-align: right;\">\n",
              "      <th></th>\n",
              "      <th>Outcome</th>\n",
              "    </tr>\n",
              "  </thead>\n",
              "  <tbody>\n",
              "    <tr>\n",
              "      <th>0</th>\n",
              "      <td>0.999937</td>\n",
              "    </tr>\n",
              "    <tr>\n",
              "      <th>1</th>\n",
              "      <td>0.999894</td>\n",
              "    </tr>\n",
              "    <tr>\n",
              "      <th>2</th>\n",
              "      <td>0.000051</td>\n",
              "    </tr>\n",
              "  </tbody>\n",
              "</table>\n",
              "</div>"
            ],
            "text/plain": [
              "    Outcome\n",
              "0  0.999937\n",
              "1  0.999894\n",
              "2  0.000051"
            ]
          },
          "metadata": {},
          "execution_count": 29
        }
      ]
    },
    {
      "cell_type": "code",
      "metadata": {
        "colab": {
          "base_uri": "https://localhost:8080/",
          "height": 141
        },
        "id": "fa4-7dSfJe_F",
        "outputId": "1730a98c-9e2a-417c-d039-6edbd2a6d8eb"
      },
      "source": [
        "a=pd.read_csv('/content/catboost_submission_sratifiedKfold.csv')\n",
        "a[:3]"
      ],
      "execution_count": 28,
      "outputs": [
        {
          "output_type": "execute_result",
          "data": {
            "text/html": [
              "<div>\n",
              "<style scoped>\n",
              "    .dataframe tbody tr th:only-of-type {\n",
              "        vertical-align: middle;\n",
              "    }\n",
              "\n",
              "    .dataframe tbody tr th {\n",
              "        vertical-align: top;\n",
              "    }\n",
              "\n",
              "    .dataframe thead th {\n",
              "        text-align: right;\n",
              "    }\n",
              "</style>\n",
              "<table border=\"1\" class=\"dataframe\">\n",
              "  <thead>\n",
              "    <tr style=\"text-align: right;\">\n",
              "      <th></th>\n",
              "      <th>Outcome</th>\n",
              "    </tr>\n",
              "  </thead>\n",
              "  <tbody>\n",
              "    <tr>\n",
              "      <th>0</th>\n",
              "      <td>0.999937</td>\n",
              "    </tr>\n",
              "    <tr>\n",
              "      <th>1</th>\n",
              "      <td>0.999894</td>\n",
              "    </tr>\n",
              "    <tr>\n",
              "      <th>2</th>\n",
              "      <td>0.000051</td>\n",
              "    </tr>\n",
              "  </tbody>\n",
              "</table>\n",
              "</div>"
            ],
            "text/plain": [
              "    Outcome\n",
              "0  0.999937\n",
              "1  0.999894\n",
              "2  0.000051"
            ]
          },
          "metadata": {},
          "execution_count": 28
        }
      ]
    },
    {
      "cell_type": "code",
      "metadata": {
        "id": "K2V3O3YdMQ-0"
      },
      "source": [
        ""
      ],
      "execution_count": null,
      "outputs": []
    }
  ]
}