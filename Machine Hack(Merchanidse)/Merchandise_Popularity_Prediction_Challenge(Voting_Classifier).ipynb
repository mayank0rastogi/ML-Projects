{
  "nbformat": 4,
  "nbformat_minor": 0,
  "metadata": {
    "colab": {
      "name": "Merchandise Popularity Prediction Challenge(Voting Classifier).ipynb",
      "provenance": [],
      "collapsed_sections": []
    },
    "kernelspec": {
      "name": "python3",
      "display_name": "Python 3"
    }
  },
  "cells": [
    {
      "cell_type": "code",
      "metadata": {
        "colab": {
          "base_uri": "https://localhost:8080/"
        },
        "id": "3twa9FutwrDy",
        "outputId": "bc20ebff-c58c-4453-8685-39a585abebab"
      },
      "source": [
        "from zipfile import ZipFile\n",
        "file_name = \"/content/drive/MyDrive/machineHack/MPP_Dataset.zip\"\n",
        "with ZipFile(file_name,'r') as zip:\n",
        "  zip.extractall()\n",
        "  print('finish')\n",
        "\n"
      ],
      "execution_count": null,
      "outputs": [
        {
          "output_type": "stream",
          "text": [
            "finish\n"
          ],
          "name": "stdout"
        }
      ]
    },
    {
      "cell_type": "code",
      "metadata": {
        "colab": {
          "base_uri": "https://localhost:8080/"
        },
        "id": "qLarjgVRxVXi",
        "outputId": "322db97a-f306-44e8-9682-69b21fab9a95"
      },
      "source": [
        "!pip install catboost"
      ],
      "execution_count": null,
      "outputs": [
        {
          "output_type": "stream",
          "text": [
            "Collecting catboost\n",
            "\u001b[?25l  Downloading https://files.pythonhosted.org/packages/20/37/bc4e0ddc30c07a96482abf1de7ed1ca54e59bba2026a33bca6d2ef286e5b/catboost-0.24.4-cp36-none-manylinux1_x86_64.whl (65.7MB)\n",
            "\u001b[K     |████████████████████████████████| 65.8MB 56kB/s \n",
            "\u001b[?25hRequirement already satisfied: six in /usr/local/lib/python3.6/dist-packages (from catboost) (1.15.0)\n",
            "Requirement already satisfied: graphviz in /usr/local/lib/python3.6/dist-packages (from catboost) (0.10.1)\n",
            "Requirement already satisfied: plotly in /usr/local/lib/python3.6/dist-packages (from catboost) (4.4.1)\n",
            "Requirement already satisfied: scipy in /usr/local/lib/python3.6/dist-packages (from catboost) (1.4.1)\n",
            "Requirement already satisfied: pandas>=0.24.0 in /usr/local/lib/python3.6/dist-packages (from catboost) (1.1.5)\n",
            "Requirement already satisfied: matplotlib in /usr/local/lib/python3.6/dist-packages (from catboost) (3.2.2)\n",
            "Requirement already satisfied: numpy>=1.16.0 in /usr/local/lib/python3.6/dist-packages (from catboost) (1.19.5)\n",
            "Requirement already satisfied: retrying>=1.3.3 in /usr/local/lib/python3.6/dist-packages (from plotly->catboost) (1.3.3)\n",
            "Requirement already satisfied: pytz>=2017.2 in /usr/local/lib/python3.6/dist-packages (from pandas>=0.24.0->catboost) (2018.9)\n",
            "Requirement already satisfied: python-dateutil>=2.7.3 in /usr/local/lib/python3.6/dist-packages (from pandas>=0.24.0->catboost) (2.8.1)\n",
            "Requirement already satisfied: pyparsing!=2.0.4,!=2.1.2,!=2.1.6,>=2.0.1 in /usr/local/lib/python3.6/dist-packages (from matplotlib->catboost) (2.4.7)\n",
            "Requirement already satisfied: cycler>=0.10 in /usr/local/lib/python3.6/dist-packages (from matplotlib->catboost) (0.10.0)\n",
            "Requirement already satisfied: kiwisolver>=1.0.1 in /usr/local/lib/python3.6/dist-packages (from matplotlib->catboost) (1.3.1)\n",
            "Installing collected packages: catboost\n",
            "Successfully installed catboost-0.24.4\n"
          ],
          "name": "stdout"
        }
      ]
    },
    {
      "cell_type": "code",
      "metadata": {
        "id": "A0mzRo7jw26s"
      },
      "source": [
        "from sklearn.multiclass import OneVsRestClassifier,OneVsOneClassifier\n",
        "from sklearn.linear_model import LogisticRegression\n",
        "from sklearn.neighbors import KNeighborsClassifier\n",
        "from sklearn.svm import SVC\n",
        "from sklearn.tree import DecisionTreeClassifier,ExtraTreeClassifier\n",
        "from sklearn.ensemble import BaggingClassifier\n",
        "from sklearn.ensemble import RandomForestClassifier\n",
        "from sklearn.ensemble import ExtraTreesClassifier\n",
        "from sklearn.ensemble import StackingClassifier\n",
        "from sklearn.ensemble import AdaBoostClassifier\n",
        "from sklearn.ensemble import GradientBoostingClassifier,VotingClassifier\n",
        "from xgboost import XGBClassifier,XGBRFClassifier\n",
        "from catboost import CatBoostClassifier\n",
        "from lightgbm import LGBMClassifier\n",
        "from imblearn.ensemble import BalancedBaggingClassifier,BalancedRandomForestClassifier,EasyEnsembleClassifier"
      ],
      "execution_count": null,
      "outputs": []
    },
    {
      "cell_type": "code",
      "metadata": {
        "id": "544dMpQexUCQ"
      },
      "source": [
        "\n",
        "import pandas as pd\n",
        "import numpy as np\n",
        "import seaborn as sns\n",
        "import matplotlib.pyplot as plt\n",
        "import random\n",
        "# Random State\n",
        "seed = 9\n",
        "np.random.seed(seed)"
      ],
      "execution_count": null,
      "outputs": []
    },
    {
      "cell_type": "code",
      "metadata": {
        "id": "0CHkCg4YxiRG"
      },
      "source": [
        "train  = pd.read_csv('/content/MPP_Dataset/Train.csv')\n",
        "test   = pd.read_csv('/content/MPP_Dataset/Test.csv')"
      ],
      "execution_count": null,
      "outputs": []
    },
    {
      "cell_type": "code",
      "metadata": {
        "id": "s4UzEfs-xltY"
      },
      "source": [
        "train.drop_duplicates(inplace=True)"
      ],
      "execution_count": null,
      "outputs": []
    },
    {
      "cell_type": "code",
      "metadata": {
        "colab": {
          "base_uri": "https://localhost:8080/"
        },
        "id": "iWXwFAPxxpCg",
        "outputId": "b04253e2-9ff4-4d98-d5b8-cb0376e19f6f"
      },
      "source": [
        "train['popularity'].value_counts()"
      ],
      "execution_count": null,
      "outputs": [
        {
          "output_type": "execute_result",
          "data": {
            "text/plain": [
              "4    12850\n",
              "3     1784\n",
              "5      376\n",
              "1      261\n",
              "0       14\n",
              "Name: popularity, dtype: int64"
            ]
          },
          "metadata": {
            "tags": []
          },
          "execution_count": 88
        }
      ]
    },
    {
      "cell_type": "code",
      "metadata": {
        "colab": {
          "base_uri": "https://localhost:8080/",
          "height": 195
        },
        "id": "WlNle_QxeKNL",
        "outputId": "bf5153cb-a885-4493-ba89-02e249595a45"
      },
      "source": [
        "train[:5]"
      ],
      "execution_count": null,
      "outputs": [
        {
          "output_type": "execute_result",
          "data": {
            "text/html": [
              "<div>\n",
              "<style scoped>\n",
              "    .dataframe tbody tr th:only-of-type {\n",
              "        vertical-align: middle;\n",
              "    }\n",
              "\n",
              "    .dataframe tbody tr th {\n",
              "        vertical-align: top;\n",
              "    }\n",
              "\n",
              "    .dataframe thead th {\n",
              "        text-align: right;\n",
              "    }\n",
              "</style>\n",
              "<table border=\"1\" class=\"dataframe\">\n",
              "  <thead>\n",
              "    <tr style=\"text-align: right;\">\n",
              "      <th></th>\n",
              "      <th>Store_Ratio</th>\n",
              "      <th>Basket_Ratio</th>\n",
              "      <th>Category_1</th>\n",
              "      <th>Store_Score</th>\n",
              "      <th>Category_2</th>\n",
              "      <th>Store_Presence</th>\n",
              "      <th>Score_1</th>\n",
              "      <th>Score_2</th>\n",
              "      <th>Score_3</th>\n",
              "      <th>Score_4</th>\n",
              "      <th>time</th>\n",
              "      <th>popularity</th>\n",
              "    </tr>\n",
              "  </thead>\n",
              "  <tbody>\n",
              "    <tr>\n",
              "      <th>0</th>\n",
              "      <td>0.407</td>\n",
              "      <td>0.00380</td>\n",
              "      <td>2</td>\n",
              "      <td>-35.865</td>\n",
              "      <td>1</td>\n",
              "      <td>0.9920</td>\n",
              "      <td>0.944</td>\n",
              "      <td>0.0988</td>\n",
              "      <td>0.1100</td>\n",
              "      <td>113.911</td>\n",
              "      <td>189125</td>\n",
              "      <td>4</td>\n",
              "    </tr>\n",
              "    <tr>\n",
              "      <th>1</th>\n",
              "      <td>0.234</td>\n",
              "      <td>0.10500</td>\n",
              "      <td>0</td>\n",
              "      <td>-19.884</td>\n",
              "      <td>1</td>\n",
              "      <td>0.9440</td>\n",
              "      <td>0.900</td>\n",
              "      <td>0.1290</td>\n",
              "      <td>0.0382</td>\n",
              "      <td>76.332</td>\n",
              "      <td>186513</td>\n",
              "      <td>4</td>\n",
              "    </tr>\n",
              "    <tr>\n",
              "      <th>2</th>\n",
              "      <td>0.668</td>\n",
              "      <td>0.72600</td>\n",
              "      <td>9</td>\n",
              "      <td>-7.512</td>\n",
              "      <td>1</td>\n",
              "      <td>0.0387</td>\n",
              "      <td>0.000</td>\n",
              "      <td>0.1340</td>\n",
              "      <td>0.4530</td>\n",
              "      <td>124.075</td>\n",
              "      <td>172143</td>\n",
              "      <td>4</td>\n",
              "    </tr>\n",
              "    <tr>\n",
              "      <th>3</th>\n",
              "      <td>0.184</td>\n",
              "      <td>0.00561</td>\n",
              "      <td>4</td>\n",
              "      <td>-34.357</td>\n",
              "      <td>1</td>\n",
              "      <td>0.8490</td>\n",
              "      <td>0.931</td>\n",
              "      <td>0.1110</td>\n",
              "      <td>0.0641</td>\n",
              "      <td>79.037</td>\n",
              "      <td>184000</td>\n",
              "      <td>5</td>\n",
              "    </tr>\n",
              "    <tr>\n",
              "      <th>4</th>\n",
              "      <td>0.231</td>\n",
              "      <td>0.13100</td>\n",
              "      <td>6</td>\n",
              "      <td>-22.842</td>\n",
              "      <td>1</td>\n",
              "      <td>0.9370</td>\n",
              "      <td>0.000</td>\n",
              "      <td>0.1090</td>\n",
              "      <td>0.0677</td>\n",
              "      <td>109.560</td>\n",
              "      <td>186507</td>\n",
              "      <td>3</td>\n",
              "    </tr>\n",
              "  </tbody>\n",
              "</table>\n",
              "</div>"
            ],
            "text/plain": [
              "   Store_Ratio  Basket_Ratio  Category_1  ...  Score_4    time  popularity\n",
              "0        0.407       0.00380           2  ...  113.911  189125           4\n",
              "1        0.234       0.10500           0  ...   76.332  186513           4\n",
              "2        0.668       0.72600           9  ...  124.075  172143           4\n",
              "3        0.184       0.00561           4  ...   79.037  184000           5\n",
              "4        0.231       0.13100           6  ...  109.560  186507           3\n",
              "\n",
              "[5 rows x 12 columns]"
            ]
          },
          "metadata": {
            "tags": []
          },
          "execution_count": 89
        }
      ]
    },
    {
      "cell_type": "markdown",
      "metadata": {
        "id": "6PS3Glupflxv"
      },
      "source": [
        "**where store ratio is 0 than popularity is also 0**"
      ]
    },
    {
      "cell_type": "code",
      "metadata": {
        "colab": {
          "base_uri": "https://localhost:8080/",
          "height": 462
        },
        "id": "1TsT5ZDxerqq",
        "outputId": "a23368b4-4caa-4766-ce2b-ad4b69733ad4"
      },
      "source": [
        "train[train.Store_Ratio == 0 ]"
      ],
      "execution_count": null,
      "outputs": [
        {
          "output_type": "execute_result",
          "data": {
            "text/html": [
              "<div>\n",
              "<style scoped>\n",
              "    .dataframe tbody tr th:only-of-type {\n",
              "        vertical-align: middle;\n",
              "    }\n",
              "\n",
              "    .dataframe tbody tr th {\n",
              "        vertical-align: top;\n",
              "    }\n",
              "\n",
              "    .dataframe thead th {\n",
              "        text-align: right;\n",
              "    }\n",
              "</style>\n",
              "<table border=\"1\" class=\"dataframe\">\n",
              "  <thead>\n",
              "    <tr style=\"text-align: right;\">\n",
              "      <th></th>\n",
              "      <th>Store_Ratio</th>\n",
              "      <th>Basket_Ratio</th>\n",
              "      <th>Category_1</th>\n",
              "      <th>Store_Score</th>\n",
              "      <th>Category_2</th>\n",
              "      <th>Store_Presence</th>\n",
              "      <th>Score_1</th>\n",
              "      <th>Score_2</th>\n",
              "      <th>Score_3</th>\n",
              "      <th>Score_4</th>\n",
              "      <th>time</th>\n",
              "      <th>popularity</th>\n",
              "    </tr>\n",
              "  </thead>\n",
              "  <tbody>\n",
              "    <tr>\n",
              "      <th>821</th>\n",
              "      <td>0.0</td>\n",
              "      <td>0.038700</td>\n",
              "      <td>5</td>\n",
              "      <td>-23.866</td>\n",
              "      <td>1</td>\n",
              "      <td>0.996000</td>\n",
              "      <td>0.967</td>\n",
              "      <td>0.1270</td>\n",
              "      <td>0.0</td>\n",
              "      <td>0.0</td>\n",
              "      <td>120107</td>\n",
              "      <td>0</td>\n",
              "    </tr>\n",
              "    <tr>\n",
              "      <th>3396</th>\n",
              "      <td>0.0</td>\n",
              "      <td>0.042100</td>\n",
              "      <td>8</td>\n",
              "      <td>-26.134</td>\n",
              "      <td>1</td>\n",
              "      <td>0.996000</td>\n",
              "      <td>0.967</td>\n",
              "      <td>0.0996</td>\n",
              "      <td>0.0</td>\n",
              "      <td>0.0</td>\n",
              "      <td>127000</td>\n",
              "      <td>0</td>\n",
              "    </tr>\n",
              "    <tr>\n",
              "      <th>3849</th>\n",
              "      <td>0.0</td>\n",
              "      <td>0.011400</td>\n",
              "      <td>0</td>\n",
              "      <td>-18.766</td>\n",
              "      <td>1</td>\n",
              "      <td>0.993000</td>\n",
              "      <td>0.967</td>\n",
              "      <td>0.1210</td>\n",
              "      <td>0.0</td>\n",
              "      <td>0.0</td>\n",
              "      <td>99968</td>\n",
              "      <td>0</td>\n",
              "    </tr>\n",
              "    <tr>\n",
              "      <th>5564</th>\n",
              "      <td>0.0</td>\n",
              "      <td>0.786000</td>\n",
              "      <td>5</td>\n",
              "      <td>-15.405</td>\n",
              "      <td>0</td>\n",
              "      <td>0.730000</td>\n",
              "      <td>0.986</td>\n",
              "      <td>0.1660</td>\n",
              "      <td>0.0</td>\n",
              "      <td>0.0</td>\n",
              "      <td>150091</td>\n",
              "      <td>0</td>\n",
              "    </tr>\n",
              "    <tr>\n",
              "      <th>5719</th>\n",
              "      <td>0.0</td>\n",
              "      <td>0.003560</td>\n",
              "      <td>1</td>\n",
              "      <td>-27.949</td>\n",
              "      <td>1</td>\n",
              "      <td>0.993000</td>\n",
              "      <td>0.963</td>\n",
              "      <td>0.1040</td>\n",
              "      <td>0.0</td>\n",
              "      <td>0.0</td>\n",
              "      <td>101625</td>\n",
              "      <td>0</td>\n",
              "    </tr>\n",
              "    <tr>\n",
              "      <th>6076</th>\n",
              "      <td>0.0</td>\n",
              "      <td>0.165000</td>\n",
              "      <td>5</td>\n",
              "      <td>-13.380</td>\n",
              "      <td>1</td>\n",
              "      <td>0.885000</td>\n",
              "      <td>0.000</td>\n",
              "      <td>0.1050</td>\n",
              "      <td>0.0</td>\n",
              "      <td>0.0</td>\n",
              "      <td>135288</td>\n",
              "      <td>0</td>\n",
              "    </tr>\n",
              "    <tr>\n",
              "      <th>6535</th>\n",
              "      <td>0.0</td>\n",
              "      <td>0.080600</td>\n",
              "      <td>11</td>\n",
              "      <td>-18.483</td>\n",
              "      <td>1</td>\n",
              "      <td>0.477000</td>\n",
              "      <td>0.970</td>\n",
              "      <td>0.9720</td>\n",
              "      <td>0.0</td>\n",
              "      <td>0.0</td>\n",
              "      <td>169902</td>\n",
              "      <td>0</td>\n",
              "    </tr>\n",
              "    <tr>\n",
              "      <th>7454</th>\n",
              "      <td>0.0</td>\n",
              "      <td>0.014300</td>\n",
              "      <td>0</td>\n",
              "      <td>-20.743</td>\n",
              "      <td>0</td>\n",
              "      <td>0.077300</td>\n",
              "      <td>0.860</td>\n",
              "      <td>0.4360</td>\n",
              "      <td>0.0</td>\n",
              "      <td>0.0</td>\n",
              "      <td>122000</td>\n",
              "      <td>0</td>\n",
              "    </tr>\n",
              "    <tr>\n",
              "      <th>7996</th>\n",
              "      <td>0.0</td>\n",
              "      <td>0.213000</td>\n",
              "      <td>5</td>\n",
              "      <td>-16.451</td>\n",
              "      <td>1</td>\n",
              "      <td>0.175000</td>\n",
              "      <td>0.986</td>\n",
              "      <td>0.4450</td>\n",
              "      <td>0.0</td>\n",
              "      <td>0.0</td>\n",
              "      <td>132696</td>\n",
              "      <td>0</td>\n",
              "    </tr>\n",
              "    <tr>\n",
              "      <th>11599</th>\n",
              "      <td>0.0</td>\n",
              "      <td>0.284000</td>\n",
              "      <td>0</td>\n",
              "      <td>-16.418</td>\n",
              "      <td>1</td>\n",
              "      <td>0.195000</td>\n",
              "      <td>0.997</td>\n",
              "      <td>0.9250</td>\n",
              "      <td>0.0</td>\n",
              "      <td>0.0</td>\n",
              "      <td>113992</td>\n",
              "      <td>0</td>\n",
              "    </tr>\n",
              "    <tr>\n",
              "      <th>13193</th>\n",
              "      <td>0.0</td>\n",
              "      <td>0.000265</td>\n",
              "      <td>3</td>\n",
              "      <td>-13.737</td>\n",
              "      <td>1</td>\n",
              "      <td>0.000001</td>\n",
              "      <td>0.981</td>\n",
              "      <td>0.5390</td>\n",
              "      <td>0.0</td>\n",
              "      <td>0.0</td>\n",
              "      <td>166000</td>\n",
              "      <td>0</td>\n",
              "    </tr>\n",
              "    <tr>\n",
              "      <th>15098</th>\n",
              "      <td>0.0</td>\n",
              "      <td>0.018100</td>\n",
              "      <td>4</td>\n",
              "      <td>-30.676</td>\n",
              "      <td>0</td>\n",
              "      <td>0.996000</td>\n",
              "      <td>0.842</td>\n",
              "      <td>0.0795</td>\n",
              "      <td>0.0</td>\n",
              "      <td>0.0</td>\n",
              "      <td>129250</td>\n",
              "      <td>0</td>\n",
              "    </tr>\n",
              "    <tr>\n",
              "      <th>15947</th>\n",
              "      <td>0.0</td>\n",
              "      <td>0.000289</td>\n",
              "      <td>0</td>\n",
              "      <td>-26.453</td>\n",
              "      <td>1</td>\n",
              "      <td>0.924000</td>\n",
              "      <td>0.959</td>\n",
              "      <td>0.1110</td>\n",
              "      <td>0.0</td>\n",
              "      <td>0.0</td>\n",
              "      <td>189600</td>\n",
              "      <td>0</td>\n",
              "    </tr>\n",
              "    <tr>\n",
              "      <th>18110</th>\n",
              "      <td>0.0</td>\n",
              "      <td>0.056900</td>\n",
              "      <td>0</td>\n",
              "      <td>-20.051</td>\n",
              "      <td>0</td>\n",
              "      <td>0.000001</td>\n",
              "      <td>0.889</td>\n",
              "      <td>0.3520</td>\n",
              "      <td>0.0</td>\n",
              "      <td>0.0</td>\n",
              "      <td>165055</td>\n",
              "      <td>0</td>\n",
              "    </tr>\n",
              "  </tbody>\n",
              "</table>\n",
              "</div>"
            ],
            "text/plain": [
              "       Store_Ratio  Basket_Ratio  Category_1  ...  Score_4    time  popularity\n",
              "821            0.0      0.038700           5  ...      0.0  120107           0\n",
              "3396           0.0      0.042100           8  ...      0.0  127000           0\n",
              "3849           0.0      0.011400           0  ...      0.0   99968           0\n",
              "5564           0.0      0.786000           5  ...      0.0  150091           0\n",
              "5719           0.0      0.003560           1  ...      0.0  101625           0\n",
              "6076           0.0      0.165000           5  ...      0.0  135288           0\n",
              "6535           0.0      0.080600          11  ...      0.0  169902           0\n",
              "7454           0.0      0.014300           0  ...      0.0  122000           0\n",
              "7996           0.0      0.213000           5  ...      0.0  132696           0\n",
              "11599          0.0      0.284000           0  ...      0.0  113992           0\n",
              "13193          0.0      0.000265           3  ...      0.0  166000           0\n",
              "15098          0.0      0.018100           4  ...      0.0  129250           0\n",
              "15947          0.0      0.000289           0  ...      0.0  189600           0\n",
              "18110          0.0      0.056900           0  ...      0.0  165055           0\n",
              "\n",
              "[14 rows x 12 columns]"
            ]
          },
          "metadata": {
            "tags": []
          },
          "execution_count": 90
        }
      ]
    },
    {
      "cell_type": "code",
      "metadata": {
        "id": "RdiRlCo_e6AS"
      },
      "source": [
        "test.loc[(test.Store_Ratio == 0 ),'popularity']= 0"
      ],
      "execution_count": null,
      "outputs": []
    },
    {
      "cell_type": "code",
      "metadata": {
        "colab": {
          "base_uri": "https://localhost:8080/"
        },
        "id": "Ib0_Ksh9yxLl",
        "outputId": "b8ebedf9-f7c9-4661-a6d3-67643d68f1de"
      },
      "source": [
        "test.isnull().sum()"
      ],
      "execution_count": null,
      "outputs": [
        {
          "output_type": "execute_result",
          "data": {
            "text/plain": [
              "Store_Ratio           0\n",
              "Basket_Ratio          0\n",
              "Category_1            0\n",
              "Store_Score           0\n",
              "Category_2            0\n",
              "Store_Presence        0\n",
              "Score_1               0\n",
              "Score_2               0\n",
              "Score_3               0\n",
              "Score_4               0\n",
              "time                  0\n",
              "popularity        12129\n",
              "dtype: int64"
            ]
          },
          "metadata": {
            "tags": []
          },
          "execution_count": 95
        }
      ]
    },
    {
      "cell_type": "code",
      "metadata": {
        "colab": {
          "base_uri": "https://localhost:8080/",
          "height": 195
        },
        "id": "IVjs4NUygAvX",
        "outputId": "f000ef45-3b85-4bc7-8336-d08f309d5b36"
      },
      "source": [
        "test[:5]"
      ],
      "execution_count": null,
      "outputs": [
        {
          "output_type": "execute_result",
          "data": {
            "text/html": [
              "<div>\n",
              "<style scoped>\n",
              "    .dataframe tbody tr th:only-of-type {\n",
              "        vertical-align: middle;\n",
              "    }\n",
              "\n",
              "    .dataframe tbody tr th {\n",
              "        vertical-align: top;\n",
              "    }\n",
              "\n",
              "    .dataframe thead th {\n",
              "        text-align: right;\n",
              "    }\n",
              "</style>\n",
              "<table border=\"1\" class=\"dataframe\">\n",
              "  <thead>\n",
              "    <tr style=\"text-align: right;\">\n",
              "      <th></th>\n",
              "      <th>Store_Ratio</th>\n",
              "      <th>Basket_Ratio</th>\n",
              "      <th>Category_1</th>\n",
              "      <th>Store_Score</th>\n",
              "      <th>Category_2</th>\n",
              "      <th>Store_Presence</th>\n",
              "      <th>Score_1</th>\n",
              "      <th>Score_2</th>\n",
              "      <th>Score_3</th>\n",
              "      <th>Score_4</th>\n",
              "      <th>time</th>\n",
              "      <th>popularity</th>\n",
              "    </tr>\n",
              "  </thead>\n",
              "  <tbody>\n",
              "    <tr>\n",
              "      <th>0</th>\n",
              "      <td>0.164</td>\n",
              "      <td>0.994</td>\n",
              "      <td>1</td>\n",
              "      <td>-23.718</td>\n",
              "      <td>0</td>\n",
              "      <td>0.12400</td>\n",
              "      <td>0.99100</td>\n",
              "      <td>0.7890</td>\n",
              "      <td>0.00001</td>\n",
              "      <td>127.602</td>\n",
              "      <td>236436</td>\n",
              "      <td>NaN</td>\n",
              "    </tr>\n",
              "    <tr>\n",
              "      <th>1</th>\n",
              "      <td>0.586</td>\n",
              "      <td>0.636</td>\n",
              "      <td>4</td>\n",
              "      <td>-7.710</td>\n",
              "      <td>1</td>\n",
              "      <td>0.00208</td>\n",
              "      <td>0.32200</td>\n",
              "      <td>0.1070</td>\n",
              "      <td>0.35500</td>\n",
              "      <td>136.337</td>\n",
              "      <td>253631</td>\n",
              "      <td>NaN</td>\n",
              "    </tr>\n",
              "    <tr>\n",
              "      <th>2</th>\n",
              "      <td>0.457</td>\n",
              "      <td>0.743</td>\n",
              "      <td>0</td>\n",
              "      <td>-7.591</td>\n",
              "      <td>1</td>\n",
              "      <td>0.40400</td>\n",
              "      <td>0.00931</td>\n",
              "      <td>0.2010</td>\n",
              "      <td>0.68800</td>\n",
              "      <td>154.902</td>\n",
              "      <td>215669</td>\n",
              "      <td>NaN</td>\n",
              "    </tr>\n",
              "    <tr>\n",
              "      <th>3</th>\n",
              "      <td>0.423</td>\n",
              "      <td>0.748</td>\n",
              "      <td>5</td>\n",
              "      <td>-9.832</td>\n",
              "      <td>1</td>\n",
              "      <td>0.03000</td>\n",
              "      <td>0.22100</td>\n",
              "      <td>0.1690</td>\n",
              "      <td>0.42800</td>\n",
              "      <td>93.977</td>\n",
              "      <td>325200</td>\n",
              "      <td>NaN</td>\n",
              "    </tr>\n",
              "    <tr>\n",
              "      <th>4</th>\n",
              "      <td>0.802</td>\n",
              "      <td>0.756</td>\n",
              "      <td>2</td>\n",
              "      <td>-10.791</td>\n",
              "      <td>0</td>\n",
              "      <td>0.08430</td>\n",
              "      <td>0.00765</td>\n",
              "      <td>0.0521</td>\n",
              "      <td>0.96300</td>\n",
              "      <td>131.715</td>\n",
              "      <td>288293</td>\n",
              "      <td>NaN</td>\n",
              "    </tr>\n",
              "  </tbody>\n",
              "</table>\n",
              "</div>"
            ],
            "text/plain": [
              "   Store_Ratio  Basket_Ratio  Category_1  ...  Score_4    time  popularity\n",
              "0        0.164         0.994           1  ...  127.602  236436         NaN\n",
              "1        0.586         0.636           4  ...  136.337  253631         NaN\n",
              "2        0.457         0.743           0  ...  154.902  215669         NaN\n",
              "3        0.423         0.748           5  ...   93.977  325200         NaN\n",
              "4        0.802         0.756           2  ...  131.715  288293         NaN\n",
              "\n",
              "[5 rows x 12 columns]"
            ]
          },
          "metadata": {
            "tags": []
          },
          "execution_count": 96
        }
      ]
    },
    {
      "cell_type": "code",
      "metadata": {
        "colab": {
          "base_uri": "https://localhost:8080/",
          "height": 304
        },
        "id": "4aDOlRY5x7t-",
        "outputId": "5935cca9-da7f-4f79-e5d6-5ad996a2cf41"
      },
      "source": [
        "train.describe()"
      ],
      "execution_count": null,
      "outputs": [
        {
          "output_type": "execute_result",
          "data": {
            "text/html": [
              "<div>\n",
              "<style scoped>\n",
              "    .dataframe tbody tr th:only-of-type {\n",
              "        vertical-align: middle;\n",
              "    }\n",
              "\n",
              "    .dataframe tbody tr th {\n",
              "        vertical-align: top;\n",
              "    }\n",
              "\n",
              "    .dataframe thead th {\n",
              "        text-align: right;\n",
              "    }\n",
              "</style>\n",
              "<table border=\"1\" class=\"dataframe\">\n",
              "  <thead>\n",
              "    <tr style=\"text-align: right;\">\n",
              "      <th></th>\n",
              "      <th>Store_Ratio</th>\n",
              "      <th>Basket_Ratio</th>\n",
              "      <th>Category_1</th>\n",
              "      <th>Store_Score</th>\n",
              "      <th>Category_2</th>\n",
              "      <th>Store_Presence</th>\n",
              "      <th>Score_1</th>\n",
              "      <th>Score_2</th>\n",
              "      <th>Score_3</th>\n",
              "      <th>Score_4</th>\n",
              "      <th>time</th>\n",
              "      <th>popularity</th>\n",
              "    </tr>\n",
              "  </thead>\n",
              "  <tbody>\n",
              "    <tr>\n",
              "      <th>count</th>\n",
              "      <td>15285.000000</td>\n",
              "      <td>15285.000000</td>\n",
              "      <td>15285.000000</td>\n",
              "      <td>15285.000000</td>\n",
              "      <td>15285.000000</td>\n",
              "      <td>15285.000000</td>\n",
              "      <td>15285.000000</td>\n",
              "      <td>15285.000000</td>\n",
              "      <td>15285.000000</td>\n",
              "      <td>15285.000000</td>\n",
              "      <td>1.528500e+04</td>\n",
              "      <td>15285.000000</td>\n",
              "    </tr>\n",
              "    <tr>\n",
              "      <th>mean</th>\n",
              "      <td>0.548290</td>\n",
              "      <td>0.498163</td>\n",
              "      <td>5.137782</td>\n",
              "      <td>-11.741641</td>\n",
              "      <td>0.646189</td>\n",
              "      <td>0.463499</td>\n",
              "      <td>0.303094</td>\n",
              "      <td>0.165802</td>\n",
              "      <td>0.430720</td>\n",
              "      <td>115.912332</td>\n",
              "      <td>2.222829e+05</td>\n",
              "      <td>3.852993</td>\n",
              "    </tr>\n",
              "    <tr>\n",
              "      <th>std</th>\n",
              "      <td>0.201223</td>\n",
              "      <td>0.297053</td>\n",
              "      <td>3.542558</td>\n",
              "      <td>7.989707</td>\n",
              "      <td>0.478167</td>\n",
              "      <td>0.376327</td>\n",
              "      <td>0.405763</td>\n",
              "      <td>0.136753</td>\n",
              "      <td>0.273821</td>\n",
              "      <td>31.186151</td>\n",
              "      <td>1.011309e+05</td>\n",
              "      <td>0.536710</td>\n",
              "    </tr>\n",
              "    <tr>\n",
              "      <th>min</th>\n",
              "      <td>0.000000</td>\n",
              "      <td>0.000216</td>\n",
              "      <td>0.000000</td>\n",
              "      <td>-47.576000</td>\n",
              "      <td>0.000000</td>\n",
              "      <td>0.000000</td>\n",
              "      <td>0.000000</td>\n",
              "      <td>0.011900</td>\n",
              "      <td>0.000000</td>\n",
              "      <td>0.000000</td>\n",
              "      <td>3.184400e+04</td>\n",
              "      <td>0.000000</td>\n",
              "    </tr>\n",
              "    <tr>\n",
              "      <th>25%</th>\n",
              "      <td>0.419000</td>\n",
              "      <td>0.232000</td>\n",
              "      <td>2.000000</td>\n",
              "      <td>-15.338000</td>\n",
              "      <td>0.000000</td>\n",
              "      <td>0.079200</td>\n",
              "      <td>0.000000</td>\n",
              "      <td>0.094600</td>\n",
              "      <td>0.193000</td>\n",
              "      <td>91.990000</td>\n",
              "      <td>1.726670e+05</td>\n",
              "      <td>4.000000</td>\n",
              "    </tr>\n",
              "    <tr>\n",
              "      <th>50%</th>\n",
              "      <td>0.577000</td>\n",
              "      <td>0.532000</td>\n",
              "      <td>5.000000</td>\n",
              "      <td>-8.977000</td>\n",
              "      <td>1.000000</td>\n",
              "      <td>0.404000</td>\n",
              "      <td>0.001490</td>\n",
              "      <td>0.113000</td>\n",
              "      <td>0.405000</td>\n",
              "      <td>114.991000</td>\n",
              "      <td>2.079000e+05</td>\n",
              "      <td>4.000000</td>\n",
              "    </tr>\n",
              "    <tr>\n",
              "      <th>75%</th>\n",
              "      <td>0.701000</td>\n",
              "      <td>0.749000</td>\n",
              "      <td>8.000000</td>\n",
              "      <td>-5.893000</td>\n",
              "      <td>1.000000</td>\n",
              "      <td>0.871000</td>\n",
              "      <td>0.833000</td>\n",
              "      <td>0.180000</td>\n",
              "      <td>0.653000</td>\n",
              "      <td>135.027000</td>\n",
              "      <td>2.512680e+05</td>\n",
              "      <td>4.000000</td>\n",
              "    </tr>\n",
              "    <tr>\n",
              "      <th>max</th>\n",
              "      <td>0.998000</td>\n",
              "      <td>1.000000</td>\n",
              "      <td>11.000000</td>\n",
              "      <td>-0.079000</td>\n",
              "      <td>1.000000</td>\n",
              "      <td>0.996000</td>\n",
              "      <td>1.000000</td>\n",
              "      <td>0.991000</td>\n",
              "      <td>0.999000</td>\n",
              "      <td>219.701000</td>\n",
              "      <td>3.908467e+06</td>\n",
              "      <td>5.000000</td>\n",
              "    </tr>\n",
              "  </tbody>\n",
              "</table>\n",
              "</div>"
            ],
            "text/plain": [
              "        Store_Ratio  Basket_Ratio  ...          time    popularity\n",
              "count  15285.000000  15285.000000  ...  1.528500e+04  15285.000000\n",
              "mean       0.548290      0.498163  ...  2.222829e+05      3.852993\n",
              "std        0.201223      0.297053  ...  1.011309e+05      0.536710\n",
              "min        0.000000      0.000216  ...  3.184400e+04      0.000000\n",
              "25%        0.419000      0.232000  ...  1.726670e+05      4.000000\n",
              "50%        0.577000      0.532000  ...  2.079000e+05      4.000000\n",
              "75%        0.701000      0.749000  ...  2.512680e+05      4.000000\n",
              "max        0.998000      1.000000  ...  3.908467e+06      5.000000\n",
              "\n",
              "[8 rows x 12 columns]"
            ]
          },
          "metadata": {
            "tags": []
          },
          "execution_count": 97
        }
      ]
    },
    {
      "cell_type": "code",
      "metadata": {
        "id": "jKmUZA_VxywW"
      },
      "source": [
        "#as the store score having negative values and score4 has many variations in their values and time i have chosses here beacuse it conatins huge value\n",
        "from sklearn.preprocessing import MinMaxScaler\n",
        "\n",
        "scaler = MinMaxScaler()\n",
        "train['Score_4'] = scaler.fit_transform(train[['Score_4']])\n",
        "test['Score_4'] = scaler.transform(test[['Score_4']])\n",
        "\n",
        "scaler = MinMaxScaler()\n",
        "train['Store_Score'] = scaler.fit_transform(train[['Store_Score']])\n",
        "test['Store_Score'] = scaler.transform(test[['Store_Score']])\n",
        "\n",
        "train['time'] = scaler.fit_transform(train[['time']])\n",
        "test['time'] =  scaler.transform(test[['time']])"
      ],
      "execution_count": null,
      "outputs": []
    },
    {
      "cell_type": "code",
      "metadata": {
        "colab": {
          "base_uri": "https://localhost:8080/"
        },
        "id": "n8rh41cKzK0I",
        "outputId": "3eb70b27-ad21-4fda-c9d2-828e93fdeb84"
      },
      "source": [
        "pip install prince"
      ],
      "execution_count": null,
      "outputs": [
        {
          "output_type": "stream",
          "text": [
            "Requirement already satisfied: prince in /usr/local/lib/python3.6/dist-packages (0.7.1)\n",
            "Requirement already satisfied: numpy>=1.17.1 in /usr/local/lib/python3.6/dist-packages (from prince) (1.19.5)\n",
            "Requirement already satisfied: matplotlib>=3.0.2 in /usr/local/lib/python3.6/dist-packages (from prince) (3.2.2)\n",
            "Requirement already satisfied: scikit-learn>=0.22.1 in /usr/local/lib/python3.6/dist-packages (from prince) (0.22.2.post1)\n",
            "Requirement already satisfied: pandas>=1.0.3 in /usr/local/lib/python3.6/dist-packages (from prince) (1.1.5)\n",
            "Requirement already satisfied: scipy>=1.3.0 in /usr/local/lib/python3.6/dist-packages (from prince) (1.4.1)\n",
            "Requirement already satisfied: python-dateutil>=2.1 in /usr/local/lib/python3.6/dist-packages (from matplotlib>=3.0.2->prince) (2.8.1)\n",
            "Requirement already satisfied: pyparsing!=2.0.4,!=2.1.2,!=2.1.6,>=2.0.1 in /usr/local/lib/python3.6/dist-packages (from matplotlib>=3.0.2->prince) (2.4.7)\n",
            "Requirement already satisfied: kiwisolver>=1.0.1 in /usr/local/lib/python3.6/dist-packages (from matplotlib>=3.0.2->prince) (1.3.1)\n",
            "Requirement already satisfied: cycler>=0.10 in /usr/local/lib/python3.6/dist-packages (from matplotlib>=3.0.2->prince) (0.10.0)\n",
            "Requirement already satisfied: joblib>=0.11 in /usr/local/lib/python3.6/dist-packages (from scikit-learn>=0.22.1->prince) (1.0.0)\n",
            "Requirement already satisfied: pytz>=2017.2 in /usr/local/lib/python3.6/dist-packages (from pandas>=1.0.3->prince) (2018.9)\n",
            "Requirement already satisfied: six>=1.5 in /usr/local/lib/python3.6/dist-packages (from python-dateutil>=2.1->matplotlib>=3.0.2->prince) (1.15.0)\n"
          ],
          "name": "stdout"
        }
      ]
    },
    {
      "cell_type": "markdown",
      "metadata": {
        "id": "yVNxYr5Dzck1"
      },
      "source": [
        "**Feature Engineering**"
      ]
    },
    {
      "cell_type": "code",
      "metadata": {
        "id": "hjq6Uis1yseQ"
      },
      "source": [
        "#import prince#library used to performing factor analysis\n",
        "#pca = prince.PCA(n_components=2)\n",
        "#train[['PCA1','PCA2']] = pca.fit_transform(train[['Score_1','Score_2','Score_3','Score_4']])\n",
        "#test[['PCA1','PCA2']]  = pca.transform(test[['Score_1','Score_2','Score_3','Score_4']])"
      ],
      "execution_count": null,
      "outputs": []
    },
    {
      "cell_type": "code",
      "metadata": {
        "colab": {
          "base_uri": "https://localhost:8080/",
          "height": 195
        },
        "id": "LRqOxCTOzHeR",
        "outputId": "6a391baa-ce0a-420f-ecea-f879b56e4772"
      },
      "source": [
        "train[:5]"
      ],
      "execution_count": null,
      "outputs": [
        {
          "output_type": "execute_result",
          "data": {
            "text/html": [
              "<div>\n",
              "<style scoped>\n",
              "    .dataframe tbody tr th:only-of-type {\n",
              "        vertical-align: middle;\n",
              "    }\n",
              "\n",
              "    .dataframe tbody tr th {\n",
              "        vertical-align: top;\n",
              "    }\n",
              "\n",
              "    .dataframe thead th {\n",
              "        text-align: right;\n",
              "    }\n",
              "</style>\n",
              "<table border=\"1\" class=\"dataframe\">\n",
              "  <thead>\n",
              "    <tr style=\"text-align: right;\">\n",
              "      <th></th>\n",
              "      <th>Store_Ratio</th>\n",
              "      <th>Basket_Ratio</th>\n",
              "      <th>Category_1</th>\n",
              "      <th>Store_Score</th>\n",
              "      <th>Category_2</th>\n",
              "      <th>Store_Presence</th>\n",
              "      <th>Score_1</th>\n",
              "      <th>Score_2</th>\n",
              "      <th>Score_3</th>\n",
              "      <th>Score_4</th>\n",
              "      <th>time</th>\n",
              "      <th>popularity</th>\n",
              "    </tr>\n",
              "  </thead>\n",
              "  <tbody>\n",
              "    <tr>\n",
              "      <th>0</th>\n",
              "      <td>0.407</td>\n",
              "      <td>0.00380</td>\n",
              "      <td>2</td>\n",
              "      <td>0.246563</td>\n",
              "      <td>1</td>\n",
              "      <td>0.9920</td>\n",
              "      <td>0.944</td>\n",
              "      <td>0.0988</td>\n",
              "      <td>0.1100</td>\n",
              "      <td>0.518482</td>\n",
              "      <td>0.040572</td>\n",
              "      <td>4</td>\n",
              "    </tr>\n",
              "    <tr>\n",
              "      <th>1</th>\n",
              "      <td>0.234</td>\n",
              "      <td>0.10500</td>\n",
              "      <td>0</td>\n",
              "      <td>0.583026</td>\n",
              "      <td>1</td>\n",
              "      <td>0.9440</td>\n",
              "      <td>0.900</td>\n",
              "      <td>0.1290</td>\n",
              "      <td>0.0382</td>\n",
              "      <td>0.347436</td>\n",
              "      <td>0.039898</td>\n",
              "      <td>4</td>\n",
              "    </tr>\n",
              "    <tr>\n",
              "      <th>2</th>\n",
              "      <td>0.668</td>\n",
              "      <td>0.72600</td>\n",
              "      <td>9</td>\n",
              "      <td>0.843506</td>\n",
              "      <td>1</td>\n",
              "      <td>0.0387</td>\n",
              "      <td>0.000</td>\n",
              "      <td>0.1340</td>\n",
              "      <td>0.4530</td>\n",
              "      <td>0.564745</td>\n",
              "      <td>0.036191</td>\n",
              "      <td>4</td>\n",
              "    </tr>\n",
              "    <tr>\n",
              "      <th>3</th>\n",
              "      <td>0.184</td>\n",
              "      <td>0.00561</td>\n",
              "      <td>4</td>\n",
              "      <td>0.278312</td>\n",
              "      <td>1</td>\n",
              "      <td>0.8490</td>\n",
              "      <td>0.931</td>\n",
              "      <td>0.1110</td>\n",
              "      <td>0.0641</td>\n",
              "      <td>0.359748</td>\n",
              "      <td>0.039250</td>\n",
              "      <td>5</td>\n",
              "    </tr>\n",
              "    <tr>\n",
              "      <th>4</th>\n",
              "      <td>0.231</td>\n",
              "      <td>0.13100</td>\n",
              "      <td>6</td>\n",
              "      <td>0.520749</td>\n",
              "      <td>1</td>\n",
              "      <td>0.9370</td>\n",
              "      <td>0.000</td>\n",
              "      <td>0.1090</td>\n",
              "      <td>0.0677</td>\n",
              "      <td>0.498678</td>\n",
              "      <td>0.039896</td>\n",
              "      <td>3</td>\n",
              "    </tr>\n",
              "  </tbody>\n",
              "</table>\n",
              "</div>"
            ],
            "text/plain": [
              "   Store_Ratio  Basket_Ratio  Category_1  ...   Score_4      time  popularity\n",
              "0        0.407       0.00380           2  ...  0.518482  0.040572           4\n",
              "1        0.234       0.10500           0  ...  0.347436  0.039898           4\n",
              "2        0.668       0.72600           9  ...  0.564745  0.036191           4\n",
              "3        0.184       0.00561           4  ...  0.359748  0.039250           5\n",
              "4        0.231       0.13100           6  ...  0.498678  0.039896           3\n",
              "\n",
              "[5 rows x 12 columns]"
            ]
          },
          "metadata": {
            "tags": []
          },
          "execution_count": 99
        }
      ]
    },
    {
      "cell_type": "code",
      "metadata": {
        "id": "5QGp2hSWzhYj"
      },
      "source": [
        "from sklearn.model_selection import cross_val_score\n",
        "\n",
        "def cross_valid(model,X,y,cv=10):\n",
        "    results = cross_val_score(model, X, y,scoring=\"neg_log_loss\",cv=cv,n_jobs=-1)\n",
        "    return (results)"
      ],
      "execution_count": null,
      "outputs": []
    },
    {
      "cell_type": "code",
      "metadata": {
        "id": "a0SZBZEO0idh"
      },
      "source": [
        "y = train.pop('popularity')\n",
        "X = train"
      ],
      "execution_count": null,
      "outputs": []
    },
    {
      "cell_type": "code",
      "metadata": {
        "colab": {
          "base_uri": "https://localhost:8080/"
        },
        "id": "d9mVgrrk0quN",
        "outputId": "f7894a39-9258-432c-901a-b8b355267304"
      },
      "source": [
        "X.columns"
      ],
      "execution_count": null,
      "outputs": [
        {
          "output_type": "execute_result",
          "data": {
            "text/plain": [
              "Index(['Store_Ratio', 'Basket_Ratio', 'Category_1', 'Store_Score',\n",
              "       'Category_2', 'Store_Presence', 'Score_1', 'Score_2', 'Score_3',\n",
              "       'Score_4', 'time'],\n",
              "      dtype='object')"
            ]
          },
          "metadata": {
            "tags": []
          },
          "execution_count": 102
        }
      ]
    },
    {
      "cell_type": "code",
      "metadata": {
        "colab": {
          "base_uri": "https://localhost:8080/"
        },
        "id": "C2Uj0Bgh3SGe",
        "outputId": "be80ce15-e028-4e3b-ef77-5d696c11b61b"
      },
      "source": [
        "y"
      ],
      "execution_count": null,
      "outputs": [
        {
          "output_type": "execute_result",
          "data": {
            "text/plain": [
              "0        4\n",
              "1        4\n",
              "2        4\n",
              "3        5\n",
              "4        3\n",
              "        ..\n",
              "18201    4\n",
              "18202    4\n",
              "18203    4\n",
              "18206    4\n",
              "18207    3\n",
              "Name: popularity, Length: 15285, dtype: int64"
            ]
          },
          "metadata": {
            "tags": []
          },
          "execution_count": 103
        }
      ]
    },
    {
      "cell_type": "code",
      "metadata": {
        "colab": {
          "base_uri": "https://localhost:8080/"
        },
        "id": "b2m7Gc7c2UwK",
        "outputId": "4dd9026e-df1b-42a2-b238-a784b87e5dbf"
      },
      "source": [
        "est= [('LR',LogisticRegression()),('SVC',ExtraTreesClassifier(random_state=seed)),\n",
        "              ('CB',CatBoostClassifier(loss_function='MultiClass',random_state=seed)),\n",
        "              ('GR',GradientBoostingClassifier(random_state=seed))]\n",
        "\n",
        "Reg_Models = [LogisticRegression(),#KNeighborsClassifier(),\n",
        "              OneVsRestClassifier(SVC(probability=True)),\n",
        "              GradientBoostingClassifier(random_state=seed),\n",
        "              #DecisionTreeClassifier(),ExtraTreeClassifier(),\n",
        "              #RandomForestClassifier(),\n",
        "              ExtraTreesClassifier(random_state=seed),\n",
        "              XGBClassifier(objective='multi:softmax',random_state=seed),\n",
        "              CatBoostClassifier(loss_function='MultiClass',random_state=seed),\n",
        "              LGBMClassifier(objective = 'multiclass',random_state=seed),\n",
        "              #StackingClassifier(estimators=estimators)\n",
        "              VotingClassifier(estimators=est,n_jobs=-1,voting='soft')\n",
        "              #BalancedBaggingClassifier(),BalancedRandomForestClassifier(),EasyEnsembleClassifier()\n",
        "             ]\n",
        "\n",
        "\n",
        "for i in Reg_Models:\n",
        "  model = i\n",
        "  err = cross_valid(model,X,y,cv=10)\n",
        "\n",
        "  print(str(model).split(\"(\")[0], err)\n",
        "  print(err.mean())"
      ],
      "execution_count": null,
      "outputs": [
        {
          "output_type": "stream",
          "text": [
            "LogisticRegression [-0.47515758 -0.4798261  -0.47007765 -0.47822616 -0.47340635 -0.48544809\n",
            " -0.48538003 -0.47419759 -0.46923674 -0.47111588]\n",
            "-0.47620721556027734\n"
          ],
          "name": "stdout"
        },
        {
          "output_type": "stream",
          "text": [
            "/usr/local/lib/python3.6/dist-packages/joblib/externals/loky/process_executor.py:691: UserWarning: A worker stopped while some jobs were given to the executor. This can be caused by a too short worker timeout or by a memory leak.\n",
            "  \"timeout or by a memory leak.\", UserWarning\n"
          ],
          "name": "stderr"
        },
        {
          "output_type": "stream",
          "text": [
            "OneVsRestClassifier [-0.55542152 -0.5566989  -0.5551881  -0.55340988 -0.54711296 -0.55287672\n",
            " -0.55517557 -0.55295921 -0.54524048 -0.54882536]\n",
            "-0.5522908698083155\n",
            "GradientBoostingClassifier [-0.46976268 -0.49128307 -0.46699463 -0.47073062 -0.46594951 -0.47429981\n",
            " -0.4733765  -0.4740053  -0.47399234 -0.47790985]\n",
            "-0.47383043164862304\n",
            "ExtraTreesClassifier [-0.69456232 -0.65635581 -0.69547485 -0.56702852 -0.6815804  -0.63679733\n",
            " -0.65921456 -0.69206647 -0.60509395 -0.66933434]\n",
            "-0.6557508543328694\n",
            "XGBClassifier [-0.46779751 -0.46471964 -0.45702442 -0.464407   -0.45988973 -0.46414833\n",
            " -0.47166941 -0.46499244 -0.45829856 -0.4677774 ]\n",
            "-0.46407244518639496\n",
            "<catboost.core.CatBoostClassifier object at 0x7fa7a7421d30> [-0.49022276 -0.47268652 -0.47934949 -0.4710375  -0.48041396 -0.47424203\n",
            " -0.48914499 -0.47738987 -0.46192446 -0.48362984]\n",
            "-0.4780041412943839\n",
            "LGBMClassifier [-2.33585917 -1.09273477 -0.75615867 -0.61591618 -0.64755525 -0.48792327\n",
            " -0.65759322 -0.57537462 -0.45714611 -0.72175558]\n",
            "-0.8348016855318521\n",
            "VotingClassifier [-0.46367363 -0.45758153 -0.45840302 -0.45692302 -0.45813196 -0.46174661\n",
            " -0.47078555 -0.46443434 -0.44932458 -0.46406243]\n",
            "-0.46050666689203484\n"
          ],
          "name": "stdout"
        }
      ]
    },
    {
      "cell_type": "code",
      "metadata": {
        "colab": {
          "base_uri": "https://localhost:8080/"
        },
        "id": "dy5hbbTJ3DpW",
        "outputId": "e08cfddd-0f39-465d-f135-2a0716e82d23"
      },
      "source": [
        "from sklearn.model_selection import cross_validate\n",
        "\n",
        "estimators = [('LR',LogisticRegression()),('SVC',ExtraTreesClassifier(random_state=seed)),\n",
        "              ('CB',CatBoostClassifier(loss_function='MultiClass',random_state=seed)),\n",
        "              ('GR',GradientBoostingClassifier(random_state=seed))]\n",
        "\n",
        "clf=VotingClassifier(estimators=estimators,n_jobs=-1,voting='soft')\n",
        "\n",
        "output = cross_validate(clf,X,y,n_jobs=-1, cv=10, scoring = 'neg_log_loss', return_estimator =True,return_train_score=True)"
      ],
      "execution_count": null,
      "outputs": [
        {
          "output_type": "stream",
          "text": [
            "/usr/local/lib/python3.6/dist-packages/joblib/externals/loky/process_executor.py:691: UserWarning: A worker stopped while some jobs were given to the executor. This can be caused by a too short worker timeout or by a memory leak.\n",
            "  \"timeout or by a memory leak.\", UserWarning\n"
          ],
          "name": "stderr"
        }
      ]
    },
    {
      "cell_type": "code",
      "metadata": {
        "colab": {
          "base_uri": "https://localhost:8080/"
        },
        "id": "oVmzJwwW98fK",
        "outputId": "2fb322cb-db06-42d2-a064-20935b88e0ea"
      },
      "source": [
        "output"
      ],
      "execution_count": null,
      "outputs": [
        {
          "output_type": "execute_result",
          "data": {
            "text/plain": [
              "{'estimator': (VotingClassifier(estimators=[('LR',\n",
              "                                LogisticRegression(C=1.0, class_weight=None,\n",
              "                                                   dual=False, fit_intercept=True,\n",
              "                                                   intercept_scaling=1,\n",
              "                                                   l1_ratio=None, max_iter=100,\n",
              "                                                   multi_class='auto',\n",
              "                                                   n_jobs=None, penalty='l2',\n",
              "                                                   random_state=None,\n",
              "                                                   solver='lbfgs', tol=0.0001,\n",
              "                                                   verbose=0, warm_start=False)),\n",
              "                               ('SVC',\n",
              "                                ExtraTreesClassifier(bootstrap=False,\n",
              "                                                     ccp_alpha=0.0,\n",
              "                                                     class_weight=None,\n",
              "                                                     cr...\n",
              "                                                           max_leaf_nodes=None,\n",
              "                                                           min_impurity_decrease=0.0,\n",
              "                                                           min_impurity_split=None,\n",
              "                                                           min_samples_leaf=1,\n",
              "                                                           min_samples_split=2,\n",
              "                                                           min_weight_fraction_leaf=0.0,\n",
              "                                                           n_estimators=100,\n",
              "                                                           n_iter_no_change=None,\n",
              "                                                           presort='deprecated',\n",
              "                                                           random_state=9,\n",
              "                                                           subsample=1.0,\n",
              "                                                           tol=0.0001,\n",
              "                                                           validation_fraction=0.1,\n",
              "                                                           verbose=0,\n",
              "                                                           warm_start=False))],\n",
              "                   flatten_transform=True, n_jobs=-1, voting='soft',\n",
              "                   weights=None), VotingClassifier(estimators=[('LR',\n",
              "                                LogisticRegression(C=1.0, class_weight=None,\n",
              "                                                   dual=False, fit_intercept=True,\n",
              "                                                   intercept_scaling=1,\n",
              "                                                   l1_ratio=None, max_iter=100,\n",
              "                                                   multi_class='auto',\n",
              "                                                   n_jobs=None, penalty='l2',\n",
              "                                                   random_state=None,\n",
              "                                                   solver='lbfgs', tol=0.0001,\n",
              "                                                   verbose=0, warm_start=False)),\n",
              "                               ('SVC',\n",
              "                                ExtraTreesClassifier(bootstrap=False,\n",
              "                                                     ccp_alpha=0.0,\n",
              "                                                     class_weight=None,\n",
              "                                                     cr...\n",
              "                                                           max_leaf_nodes=None,\n",
              "                                                           min_impurity_decrease=0.0,\n",
              "                                                           min_impurity_split=None,\n",
              "                                                           min_samples_leaf=1,\n",
              "                                                           min_samples_split=2,\n",
              "                                                           min_weight_fraction_leaf=0.0,\n",
              "                                                           n_estimators=100,\n",
              "                                                           n_iter_no_change=None,\n",
              "                                                           presort='deprecated',\n",
              "                                                           random_state=9,\n",
              "                                                           subsample=1.0,\n",
              "                                                           tol=0.0001,\n",
              "                                                           validation_fraction=0.1,\n",
              "                                                           verbose=0,\n",
              "                                                           warm_start=False))],\n",
              "                   flatten_transform=True, n_jobs=-1, voting='soft',\n",
              "                   weights=None), VotingClassifier(estimators=[('LR',\n",
              "                                LogisticRegression(C=1.0, class_weight=None,\n",
              "                                                   dual=False, fit_intercept=True,\n",
              "                                                   intercept_scaling=1,\n",
              "                                                   l1_ratio=None, max_iter=100,\n",
              "                                                   multi_class='auto',\n",
              "                                                   n_jobs=None, penalty='l2',\n",
              "                                                   random_state=None,\n",
              "                                                   solver='lbfgs', tol=0.0001,\n",
              "                                                   verbose=0, warm_start=False)),\n",
              "                               ('SVC',\n",
              "                                ExtraTreesClassifier(bootstrap=False,\n",
              "                                                     ccp_alpha=0.0,\n",
              "                                                     class_weight=None,\n",
              "                                                     cr...\n",
              "                                                           max_leaf_nodes=None,\n",
              "                                                           min_impurity_decrease=0.0,\n",
              "                                                           min_impurity_split=None,\n",
              "                                                           min_samples_leaf=1,\n",
              "                                                           min_samples_split=2,\n",
              "                                                           min_weight_fraction_leaf=0.0,\n",
              "                                                           n_estimators=100,\n",
              "                                                           n_iter_no_change=None,\n",
              "                                                           presort='deprecated',\n",
              "                                                           random_state=9,\n",
              "                                                           subsample=1.0,\n",
              "                                                           tol=0.0001,\n",
              "                                                           validation_fraction=0.1,\n",
              "                                                           verbose=0,\n",
              "                                                           warm_start=False))],\n",
              "                   flatten_transform=True, n_jobs=-1, voting='soft',\n",
              "                   weights=None), VotingClassifier(estimators=[('LR',\n",
              "                                LogisticRegression(C=1.0, class_weight=None,\n",
              "                                                   dual=False, fit_intercept=True,\n",
              "                                                   intercept_scaling=1,\n",
              "                                                   l1_ratio=None, max_iter=100,\n",
              "                                                   multi_class='auto',\n",
              "                                                   n_jobs=None, penalty='l2',\n",
              "                                                   random_state=None,\n",
              "                                                   solver='lbfgs', tol=0.0001,\n",
              "                                                   verbose=0, warm_start=False)),\n",
              "                               ('SVC',\n",
              "                                ExtraTreesClassifier(bootstrap=False,\n",
              "                                                     ccp_alpha=0.0,\n",
              "                                                     class_weight=None,\n",
              "                                                     cr...\n",
              "                                                           max_leaf_nodes=None,\n",
              "                                                           min_impurity_decrease=0.0,\n",
              "                                                           min_impurity_split=None,\n",
              "                                                           min_samples_leaf=1,\n",
              "                                                           min_samples_split=2,\n",
              "                                                           min_weight_fraction_leaf=0.0,\n",
              "                                                           n_estimators=100,\n",
              "                                                           n_iter_no_change=None,\n",
              "                                                           presort='deprecated',\n",
              "                                                           random_state=9,\n",
              "                                                           subsample=1.0,\n",
              "                                                           tol=0.0001,\n",
              "                                                           validation_fraction=0.1,\n",
              "                                                           verbose=0,\n",
              "                                                           warm_start=False))],\n",
              "                   flatten_transform=True, n_jobs=-1, voting='soft',\n",
              "                   weights=None), VotingClassifier(estimators=[('LR',\n",
              "                                LogisticRegression(C=1.0, class_weight=None,\n",
              "                                                   dual=False, fit_intercept=True,\n",
              "                                                   intercept_scaling=1,\n",
              "                                                   l1_ratio=None, max_iter=100,\n",
              "                                                   multi_class='auto',\n",
              "                                                   n_jobs=None, penalty='l2',\n",
              "                                                   random_state=None,\n",
              "                                                   solver='lbfgs', tol=0.0001,\n",
              "                                                   verbose=0, warm_start=False)),\n",
              "                               ('SVC',\n",
              "                                ExtraTreesClassifier(bootstrap=False,\n",
              "                                                     ccp_alpha=0.0,\n",
              "                                                     class_weight=None,\n",
              "                                                     cr...\n",
              "                                                           max_leaf_nodes=None,\n",
              "                                                           min_impurity_decrease=0.0,\n",
              "                                                           min_impurity_split=None,\n",
              "                                                           min_samples_leaf=1,\n",
              "                                                           min_samples_split=2,\n",
              "                                                           min_weight_fraction_leaf=0.0,\n",
              "                                                           n_estimators=100,\n",
              "                                                           n_iter_no_change=None,\n",
              "                                                           presort='deprecated',\n",
              "                                                           random_state=9,\n",
              "                                                           subsample=1.0,\n",
              "                                                           tol=0.0001,\n",
              "                                                           validation_fraction=0.1,\n",
              "                                                           verbose=0,\n",
              "                                                           warm_start=False))],\n",
              "                   flatten_transform=True, n_jobs=-1, voting='soft',\n",
              "                   weights=None), VotingClassifier(estimators=[('LR',\n",
              "                                LogisticRegression(C=1.0, class_weight=None,\n",
              "                                                   dual=False, fit_intercept=True,\n",
              "                                                   intercept_scaling=1,\n",
              "                                                   l1_ratio=None, max_iter=100,\n",
              "                                                   multi_class='auto',\n",
              "                                                   n_jobs=None, penalty='l2',\n",
              "                                                   random_state=None,\n",
              "                                                   solver='lbfgs', tol=0.0001,\n",
              "                                                   verbose=0, warm_start=False)),\n",
              "                               ('SVC',\n",
              "                                ExtraTreesClassifier(bootstrap=False,\n",
              "                                                     ccp_alpha=0.0,\n",
              "                                                     class_weight=None,\n",
              "                                                     cr...\n",
              "                                                           max_leaf_nodes=None,\n",
              "                                                           min_impurity_decrease=0.0,\n",
              "                                                           min_impurity_split=None,\n",
              "                                                           min_samples_leaf=1,\n",
              "                                                           min_samples_split=2,\n",
              "                                                           min_weight_fraction_leaf=0.0,\n",
              "                                                           n_estimators=100,\n",
              "                                                           n_iter_no_change=None,\n",
              "                                                           presort='deprecated',\n",
              "                                                           random_state=9,\n",
              "                                                           subsample=1.0,\n",
              "                                                           tol=0.0001,\n",
              "                                                           validation_fraction=0.1,\n",
              "                                                           verbose=0,\n",
              "                                                           warm_start=False))],\n",
              "                   flatten_transform=True, n_jobs=-1, voting='soft',\n",
              "                   weights=None), VotingClassifier(estimators=[('LR',\n",
              "                                LogisticRegression(C=1.0, class_weight=None,\n",
              "                                                   dual=False, fit_intercept=True,\n",
              "                                                   intercept_scaling=1,\n",
              "                                                   l1_ratio=None, max_iter=100,\n",
              "                                                   multi_class='auto',\n",
              "                                                   n_jobs=None, penalty='l2',\n",
              "                                                   random_state=None,\n",
              "                                                   solver='lbfgs', tol=0.0001,\n",
              "                                                   verbose=0, warm_start=False)),\n",
              "                               ('SVC',\n",
              "                                ExtraTreesClassifier(bootstrap=False,\n",
              "                                                     ccp_alpha=0.0,\n",
              "                                                     class_weight=None,\n",
              "                                                     cr...\n",
              "                                                           max_leaf_nodes=None,\n",
              "                                                           min_impurity_decrease=0.0,\n",
              "                                                           min_impurity_split=None,\n",
              "                                                           min_samples_leaf=1,\n",
              "                                                           min_samples_split=2,\n",
              "                                                           min_weight_fraction_leaf=0.0,\n",
              "                                                           n_estimators=100,\n",
              "                                                           n_iter_no_change=None,\n",
              "                                                           presort='deprecated',\n",
              "                                                           random_state=9,\n",
              "                                                           subsample=1.0,\n",
              "                                                           tol=0.0001,\n",
              "                                                           validation_fraction=0.1,\n",
              "                                                           verbose=0,\n",
              "                                                           warm_start=False))],\n",
              "                   flatten_transform=True, n_jobs=-1, voting='soft',\n",
              "                   weights=None), VotingClassifier(estimators=[('LR',\n",
              "                                LogisticRegression(C=1.0, class_weight=None,\n",
              "                                                   dual=False, fit_intercept=True,\n",
              "                                                   intercept_scaling=1,\n",
              "                                                   l1_ratio=None, max_iter=100,\n",
              "                                                   multi_class='auto',\n",
              "                                                   n_jobs=None, penalty='l2',\n",
              "                                                   random_state=None,\n",
              "                                                   solver='lbfgs', tol=0.0001,\n",
              "                                                   verbose=0, warm_start=False)),\n",
              "                               ('SVC',\n",
              "                                ExtraTreesClassifier(bootstrap=False,\n",
              "                                                     ccp_alpha=0.0,\n",
              "                                                     class_weight=None,\n",
              "                                                     cr...\n",
              "                                                           max_leaf_nodes=None,\n",
              "                                                           min_impurity_decrease=0.0,\n",
              "                                                           min_impurity_split=None,\n",
              "                                                           min_samples_leaf=1,\n",
              "                                                           min_samples_split=2,\n",
              "                                                           min_weight_fraction_leaf=0.0,\n",
              "                                                           n_estimators=100,\n",
              "                                                           n_iter_no_change=None,\n",
              "                                                           presort='deprecated',\n",
              "                                                           random_state=9,\n",
              "                                                           subsample=1.0,\n",
              "                                                           tol=0.0001,\n",
              "                                                           validation_fraction=0.1,\n",
              "                                                           verbose=0,\n",
              "                                                           warm_start=False))],\n",
              "                   flatten_transform=True, n_jobs=-1, voting='soft',\n",
              "                   weights=None), VotingClassifier(estimators=[('LR',\n",
              "                                LogisticRegression(C=1.0, class_weight=None,\n",
              "                                                   dual=False, fit_intercept=True,\n",
              "                                                   intercept_scaling=1,\n",
              "                                                   l1_ratio=None, max_iter=100,\n",
              "                                                   multi_class='auto',\n",
              "                                                   n_jobs=None, penalty='l2',\n",
              "                                                   random_state=None,\n",
              "                                                   solver='lbfgs', tol=0.0001,\n",
              "                                                   verbose=0, warm_start=False)),\n",
              "                               ('SVC',\n",
              "                                ExtraTreesClassifier(bootstrap=False,\n",
              "                                                     ccp_alpha=0.0,\n",
              "                                                     class_weight=None,\n",
              "                                                     cr...\n",
              "                                                           max_leaf_nodes=None,\n",
              "                                                           min_impurity_decrease=0.0,\n",
              "                                                           min_impurity_split=None,\n",
              "                                                           min_samples_leaf=1,\n",
              "                                                           min_samples_split=2,\n",
              "                                                           min_weight_fraction_leaf=0.0,\n",
              "                                                           n_estimators=100,\n",
              "                                                           n_iter_no_change=None,\n",
              "                                                           presort='deprecated',\n",
              "                                                           random_state=9,\n",
              "                                                           subsample=1.0,\n",
              "                                                           tol=0.0001,\n",
              "                                                           validation_fraction=0.1,\n",
              "                                                           verbose=0,\n",
              "                                                           warm_start=False))],\n",
              "                   flatten_transform=True, n_jobs=-1, voting='soft',\n",
              "                   weights=None), VotingClassifier(estimators=[('LR',\n",
              "                                LogisticRegression(C=1.0, class_weight=None,\n",
              "                                                   dual=False, fit_intercept=True,\n",
              "                                                   intercept_scaling=1,\n",
              "                                                   l1_ratio=None, max_iter=100,\n",
              "                                                   multi_class='auto',\n",
              "                                                   n_jobs=None, penalty='l2',\n",
              "                                                   random_state=None,\n",
              "                                                   solver='lbfgs', tol=0.0001,\n",
              "                                                   verbose=0, warm_start=False)),\n",
              "                               ('SVC',\n",
              "                                ExtraTreesClassifier(bootstrap=False,\n",
              "                                                     ccp_alpha=0.0,\n",
              "                                                     class_weight=None,\n",
              "                                                     cr...\n",
              "                                                           max_leaf_nodes=None,\n",
              "                                                           min_impurity_decrease=0.0,\n",
              "                                                           min_impurity_split=None,\n",
              "                                                           min_samples_leaf=1,\n",
              "                                                           min_samples_split=2,\n",
              "                                                           min_weight_fraction_leaf=0.0,\n",
              "                                                           n_estimators=100,\n",
              "                                                           n_iter_no_change=None,\n",
              "                                                           presort='deprecated',\n",
              "                                                           random_state=9,\n",
              "                                                           subsample=1.0,\n",
              "                                                           tol=0.0001,\n",
              "                                                           validation_fraction=0.1,\n",
              "                                                           verbose=0,\n",
              "                                                           warm_start=False))],\n",
              "                   flatten_transform=True, n_jobs=-1, voting='soft',\n",
              "                   weights=None)),\n",
              " 'fit_time': array([70.51507711, 70.41598892, 70.7836647 , 70.81035447, 71.12044883,\n",
              "        70.85685587, 70.62097383, 70.73217654, 71.04734635, 70.80548596]),\n",
              " 'score_time': array([0.14224434, 0.09659457, 0.13510537, 0.12610769, 0.13595557,\n",
              "        0.14033914, 0.13348818, 0.16042757, 0.13339758, 0.15535069]),\n",
              " 'test_score': array([-0.46367363, -0.45758153, -0.45840302, -0.45692302, -0.45813196,\n",
              "        -0.46174661, -0.47078555, -0.46443434, -0.44932458, -0.46406243]),\n",
              " 'train_score': array([-0.19954883, -0.20054426, -0.20053606, -0.20034213, -0.20077739,\n",
              "        -0.20033807, -0.20025754, -0.20052272, -0.20093476, -0.199755  ])}"
            ]
          },
          "metadata": {
            "tags": []
          },
          "execution_count": 106
        }
      ]
    },
    {
      "cell_type": "code",
      "metadata": {
        "id": "luq3G35lmwde"
      },
      "source": [
        "test_predeicted = test.pop('popularity');"
      ],
      "execution_count": null,
      "outputs": []
    },
    {
      "cell_type": "code",
      "metadata": {
        "colab": {
          "base_uri": "https://localhost:8080/",
          "height": 958
        },
        "id": "qn7y7XGv9-ds",
        "outputId": "aebfb919-dda9-43ac-c00d-4d102e8d57b4"
      },
      "source": [
        "final= []\n",
        "sub_file = []\n",
        "for idx,estimator in enumerate(output['estimator']):\n",
        "  print(idx)\n",
        "  print(estimator)\n",
        "  score = estimator.predict_proba(test_predeicted)\n",
        "  sub_file.append(score)"
      ],
      "execution_count": null,
      "outputs": [
        {
          "output_type": "stream",
          "text": [
            "0\n",
            "VotingClassifier(estimators=[('LR',\n",
            "                              LogisticRegression(C=1.0, class_weight=None,\n",
            "                                                 dual=False, fit_intercept=True,\n",
            "                                                 intercept_scaling=1,\n",
            "                                                 l1_ratio=None, max_iter=100,\n",
            "                                                 multi_class='auto',\n",
            "                                                 n_jobs=None, penalty='l2',\n",
            "                                                 random_state=None,\n",
            "                                                 solver='lbfgs', tol=0.0001,\n",
            "                                                 verbose=0, warm_start=False)),\n",
            "                             ('SVC',\n",
            "                              ExtraTreesClassifier(bootstrap=False,\n",
            "                                                   ccp_alpha=0.0,\n",
            "                                                   class_weight=None,\n",
            "                                                   cr...\n",
            "                                                         max_leaf_nodes=None,\n",
            "                                                         min_impurity_decrease=0.0,\n",
            "                                                         min_impurity_split=None,\n",
            "                                                         min_samples_leaf=1,\n",
            "                                                         min_samples_split=2,\n",
            "                                                         min_weight_fraction_leaf=0.0,\n",
            "                                                         n_estimators=100,\n",
            "                                                         n_iter_no_change=None,\n",
            "                                                         presort='deprecated',\n",
            "                                                         random_state=9,\n",
            "                                                         subsample=1.0,\n",
            "                                                         tol=0.0001,\n",
            "                                                         validation_fraction=0.1,\n",
            "                                                         verbose=0,\n",
            "                                                         warm_start=False))],\n",
            "                 flatten_transform=True, n_jobs=-1, voting='soft',\n",
            "                 weights=None)\n"
          ],
          "name": "stdout"
        },
        {
          "output_type": "error",
          "ename": "ValueError",
          "evalue": "ignored",
          "traceback": [
            "\u001b[0;31m---------------------------------------------------------------------------\u001b[0m",
            "\u001b[0;31mValueError\u001b[0m                                Traceback (most recent call last)",
            "\u001b[0;32m<ipython-input-110-02b6e6d7a7dd>\u001b[0m in \u001b[0;36m<module>\u001b[0;34m()\u001b[0m\n\u001b[1;32m      4\u001b[0m   \u001b[0mprint\u001b[0m\u001b[0;34m(\u001b[0m\u001b[0midx\u001b[0m\u001b[0;34m)\u001b[0m\u001b[0;34m\u001b[0m\u001b[0;34m\u001b[0m\u001b[0m\n\u001b[1;32m      5\u001b[0m   \u001b[0mprint\u001b[0m\u001b[0;34m(\u001b[0m\u001b[0mestimator\u001b[0m\u001b[0;34m)\u001b[0m\u001b[0;34m\u001b[0m\u001b[0;34m\u001b[0m\u001b[0m\n\u001b[0;32m----> 6\u001b[0;31m   \u001b[0mscore\u001b[0m \u001b[0;34m=\u001b[0m \u001b[0mestimator\u001b[0m\u001b[0;34m.\u001b[0m\u001b[0mpredict_proba\u001b[0m\u001b[0;34m(\u001b[0m\u001b[0mtest_predeicted\u001b[0m\u001b[0;34m)\u001b[0m\u001b[0;34m\u001b[0m\u001b[0;34m\u001b[0m\u001b[0m\n\u001b[0m\u001b[1;32m      7\u001b[0m   \u001b[0msub_file\u001b[0m\u001b[0;34m.\u001b[0m\u001b[0mappend\u001b[0m\u001b[0;34m(\u001b[0m\u001b[0mscore\u001b[0m\u001b[0;34m)\u001b[0m\u001b[0;34m\u001b[0m\u001b[0;34m\u001b[0m\u001b[0m\n",
            "\u001b[0;32m/usr/local/lib/python3.6/dist-packages/sklearn/ensemble/_voting.py\u001b[0m in \u001b[0;36m_predict_proba\u001b[0;34m(self, X)\u001b[0m\n\u001b[1;32m    257\u001b[0m         \u001b[0;34m\"\"\"Predict class probabilities for X in 'soft' voting.\"\"\"\u001b[0m\u001b[0;34m\u001b[0m\u001b[0;34m\u001b[0m\u001b[0m\n\u001b[1;32m    258\u001b[0m         \u001b[0mcheck_is_fitted\u001b[0m\u001b[0;34m(\u001b[0m\u001b[0mself\u001b[0m\u001b[0;34m)\u001b[0m\u001b[0;34m\u001b[0m\u001b[0;34m\u001b[0m\u001b[0m\n\u001b[0;32m--> 259\u001b[0;31m         avg = np.average(self._collect_probas(X), axis=0,\n\u001b[0m\u001b[1;32m    260\u001b[0m                          weights=self._weights_not_none)\n\u001b[1;32m    261\u001b[0m         \u001b[0;32mreturn\u001b[0m \u001b[0mavg\u001b[0m\u001b[0;34m\u001b[0m\u001b[0;34m\u001b[0m\u001b[0m\n",
            "\u001b[0;32m/usr/local/lib/python3.6/dist-packages/sklearn/ensemble/_voting.py\u001b[0m in \u001b[0;36m_collect_probas\u001b[0;34m(self, X)\u001b[0m\n\u001b[1;32m    252\u001b[0m     \u001b[0;32mdef\u001b[0m \u001b[0m_collect_probas\u001b[0m\u001b[0;34m(\u001b[0m\u001b[0mself\u001b[0m\u001b[0;34m,\u001b[0m \u001b[0mX\u001b[0m\u001b[0;34m)\u001b[0m\u001b[0;34m:\u001b[0m\u001b[0;34m\u001b[0m\u001b[0;34m\u001b[0m\u001b[0m\n\u001b[1;32m    253\u001b[0m         \u001b[0;34m\"\"\"Collect results from clf.predict calls.\"\"\"\u001b[0m\u001b[0;34m\u001b[0m\u001b[0;34m\u001b[0m\u001b[0m\n\u001b[0;32m--> 254\u001b[0;31m         \u001b[0;32mreturn\u001b[0m \u001b[0mnp\u001b[0m\u001b[0;34m.\u001b[0m\u001b[0masarray\u001b[0m\u001b[0;34m(\u001b[0m\u001b[0;34m[\u001b[0m\u001b[0mclf\u001b[0m\u001b[0;34m.\u001b[0m\u001b[0mpredict_proba\u001b[0m\u001b[0;34m(\u001b[0m\u001b[0mX\u001b[0m\u001b[0;34m)\u001b[0m \u001b[0;32mfor\u001b[0m \u001b[0mclf\u001b[0m \u001b[0;32min\u001b[0m \u001b[0mself\u001b[0m\u001b[0;34m.\u001b[0m\u001b[0mestimators_\u001b[0m\u001b[0;34m]\u001b[0m\u001b[0;34m)\u001b[0m\u001b[0;34m\u001b[0m\u001b[0;34m\u001b[0m\u001b[0m\n\u001b[0m\u001b[1;32m    255\u001b[0m \u001b[0;34m\u001b[0m\u001b[0m\n\u001b[1;32m    256\u001b[0m     \u001b[0;32mdef\u001b[0m \u001b[0m_predict_proba\u001b[0m\u001b[0;34m(\u001b[0m\u001b[0mself\u001b[0m\u001b[0;34m,\u001b[0m \u001b[0mX\u001b[0m\u001b[0;34m)\u001b[0m\u001b[0;34m:\u001b[0m\u001b[0;34m\u001b[0m\u001b[0;34m\u001b[0m\u001b[0m\n",
            "\u001b[0;32m/usr/local/lib/python3.6/dist-packages/sklearn/ensemble/_voting.py\u001b[0m in \u001b[0;36m<listcomp>\u001b[0;34m(.0)\u001b[0m\n\u001b[1;32m    252\u001b[0m     \u001b[0;32mdef\u001b[0m \u001b[0m_collect_probas\u001b[0m\u001b[0;34m(\u001b[0m\u001b[0mself\u001b[0m\u001b[0;34m,\u001b[0m \u001b[0mX\u001b[0m\u001b[0;34m)\u001b[0m\u001b[0;34m:\u001b[0m\u001b[0;34m\u001b[0m\u001b[0;34m\u001b[0m\u001b[0m\n\u001b[1;32m    253\u001b[0m         \u001b[0;34m\"\"\"Collect results from clf.predict calls.\"\"\"\u001b[0m\u001b[0;34m\u001b[0m\u001b[0;34m\u001b[0m\u001b[0m\n\u001b[0;32m--> 254\u001b[0;31m         \u001b[0;32mreturn\u001b[0m \u001b[0mnp\u001b[0m\u001b[0;34m.\u001b[0m\u001b[0masarray\u001b[0m\u001b[0;34m(\u001b[0m\u001b[0;34m[\u001b[0m\u001b[0mclf\u001b[0m\u001b[0;34m.\u001b[0m\u001b[0mpredict_proba\u001b[0m\u001b[0;34m(\u001b[0m\u001b[0mX\u001b[0m\u001b[0;34m)\u001b[0m \u001b[0;32mfor\u001b[0m \u001b[0mclf\u001b[0m \u001b[0;32min\u001b[0m \u001b[0mself\u001b[0m\u001b[0;34m.\u001b[0m\u001b[0mestimators_\u001b[0m\u001b[0;34m]\u001b[0m\u001b[0;34m)\u001b[0m\u001b[0;34m\u001b[0m\u001b[0;34m\u001b[0m\u001b[0m\n\u001b[0m\u001b[1;32m    255\u001b[0m \u001b[0;34m\u001b[0m\u001b[0m\n\u001b[1;32m    256\u001b[0m     \u001b[0;32mdef\u001b[0m \u001b[0m_predict_proba\u001b[0m\u001b[0;34m(\u001b[0m\u001b[0mself\u001b[0m\u001b[0;34m,\u001b[0m \u001b[0mX\u001b[0m\u001b[0;34m)\u001b[0m\u001b[0;34m:\u001b[0m\u001b[0;34m\u001b[0m\u001b[0;34m\u001b[0m\u001b[0m\n",
            "\u001b[0;32m/usr/local/lib/python3.6/dist-packages/sklearn/linear_model/_logistic.py\u001b[0m in \u001b[0;36mpredict_proba\u001b[0;34m(self, X)\u001b[0m\n\u001b[1;32m   1651\u001b[0m             \u001b[0;32mreturn\u001b[0m \u001b[0msuper\u001b[0m\u001b[0;34m(\u001b[0m\u001b[0;34m)\u001b[0m\u001b[0;34m.\u001b[0m\u001b[0m_predict_proba_lr\u001b[0m\u001b[0;34m(\u001b[0m\u001b[0mX\u001b[0m\u001b[0;34m)\u001b[0m\u001b[0;34m\u001b[0m\u001b[0;34m\u001b[0m\u001b[0m\n\u001b[1;32m   1652\u001b[0m         \u001b[0;32melse\u001b[0m\u001b[0;34m:\u001b[0m\u001b[0;34m\u001b[0m\u001b[0;34m\u001b[0m\u001b[0m\n\u001b[0;32m-> 1653\u001b[0;31m             \u001b[0mdecision\u001b[0m \u001b[0;34m=\u001b[0m \u001b[0mself\u001b[0m\u001b[0;34m.\u001b[0m\u001b[0mdecision_function\u001b[0m\u001b[0;34m(\u001b[0m\u001b[0mX\u001b[0m\u001b[0;34m)\u001b[0m\u001b[0;34m\u001b[0m\u001b[0;34m\u001b[0m\u001b[0m\n\u001b[0m\u001b[1;32m   1654\u001b[0m             \u001b[0;32mif\u001b[0m \u001b[0mdecision\u001b[0m\u001b[0;34m.\u001b[0m\u001b[0mndim\u001b[0m \u001b[0;34m==\u001b[0m \u001b[0;36m1\u001b[0m\u001b[0;34m:\u001b[0m\u001b[0;34m\u001b[0m\u001b[0;34m\u001b[0m\u001b[0m\n\u001b[1;32m   1655\u001b[0m                 \u001b[0;31m# Workaround for multi_class=\"multinomial\" and binary outcomes\u001b[0m\u001b[0;34m\u001b[0m\u001b[0;34m\u001b[0m\u001b[0;34m\u001b[0m\u001b[0m\n",
            "\u001b[0;32m/usr/local/lib/python3.6/dist-packages/sklearn/linear_model/_base.py\u001b[0m in \u001b[0;36mdecision_function\u001b[0;34m(self, X)\u001b[0m\n\u001b[1;32m    266\u001b[0m         \u001b[0mcheck_is_fitted\u001b[0m\u001b[0;34m(\u001b[0m\u001b[0mself\u001b[0m\u001b[0;34m)\u001b[0m\u001b[0;34m\u001b[0m\u001b[0;34m\u001b[0m\u001b[0m\n\u001b[1;32m    267\u001b[0m \u001b[0;34m\u001b[0m\u001b[0m\n\u001b[0;32m--> 268\u001b[0;31m         \u001b[0mX\u001b[0m \u001b[0;34m=\u001b[0m \u001b[0mcheck_array\u001b[0m\u001b[0;34m(\u001b[0m\u001b[0mX\u001b[0m\u001b[0;34m,\u001b[0m \u001b[0maccept_sparse\u001b[0m\u001b[0;34m=\u001b[0m\u001b[0;34m'csr'\u001b[0m\u001b[0;34m)\u001b[0m\u001b[0;34m\u001b[0m\u001b[0;34m\u001b[0m\u001b[0m\n\u001b[0m\u001b[1;32m    269\u001b[0m \u001b[0;34m\u001b[0m\u001b[0m\n\u001b[1;32m    270\u001b[0m         \u001b[0mn_features\u001b[0m \u001b[0;34m=\u001b[0m \u001b[0mself\u001b[0m\u001b[0;34m.\u001b[0m\u001b[0mcoef_\u001b[0m\u001b[0;34m.\u001b[0m\u001b[0mshape\u001b[0m\u001b[0;34m[\u001b[0m\u001b[0;36m1\u001b[0m\u001b[0;34m]\u001b[0m\u001b[0;34m\u001b[0m\u001b[0;34m\u001b[0m\u001b[0m\n",
            "\u001b[0;32m/usr/local/lib/python3.6/dist-packages/sklearn/utils/validation.py\u001b[0m in \u001b[0;36mcheck_array\u001b[0;34m(array, accept_sparse, accept_large_sparse, dtype, order, copy, force_all_finite, ensure_2d, allow_nd, ensure_min_samples, ensure_min_features, warn_on_dtype, estimator)\u001b[0m\n\u001b[1;32m    554\u001b[0m                     \u001b[0;34m\"Reshape your data either using array.reshape(-1, 1) if \"\u001b[0m\u001b[0;34m\u001b[0m\u001b[0;34m\u001b[0m\u001b[0m\n\u001b[1;32m    555\u001b[0m                     \u001b[0;34m\"your data has a single feature or array.reshape(1, -1) \"\u001b[0m\u001b[0;34m\u001b[0m\u001b[0;34m\u001b[0m\u001b[0m\n\u001b[0;32m--> 556\u001b[0;31m                     \"if it contains a single sample.\".format(array))\n\u001b[0m\u001b[1;32m    557\u001b[0m \u001b[0;34m\u001b[0m\u001b[0m\n\u001b[1;32m    558\u001b[0m         \u001b[0;31m# in the future np.flexible dtypes will be handled like object dtypes\u001b[0m\u001b[0;34m\u001b[0m\u001b[0;34m\u001b[0m\u001b[0;34m\u001b[0m\u001b[0m\n",
            "\u001b[0;31mValueError\u001b[0m: Expected 2D array, got 1D array instead:\narray=[nan nan nan ... nan nan nan].\nReshape your data either using array.reshape(-1, 1) if your data has a single feature or array.reshape(1, -1) if it contains a single sample."
          ]
        }
      ]
    },
    {
      "cell_type": "code",
      "metadata": {
        "id": "FuUhB3TCA9na"
      },
      "source": [
        "#taking mean of all 5 models and creating dataframe\n",
        "final = np.mean(sub_file,0)\n",
        "final_df = pd.DataFrame(final)"
      ],
      "execution_count": null,
      "outputs": []
    },
    {
      "cell_type": "code",
      "metadata": {
        "id": "rg2oxR1hBCZT"
      },
      "source": [
        "final_df.head()"
      ],
      "execution_count": null,
      "outputs": []
    },
    {
      "cell_type": "code",
      "metadata": {
        "id": "N4YNgusBBQaK"
      },
      "source": [
        "final_df.to_csv('vc-pred_2.csv',index=False)"
      ],
      "execution_count": null,
      "outputs": []
    },
    {
      "cell_type": "code",
      "metadata": {
        "id": "0csnyQ8XNanL"
      },
      "source": [
        "test = test[['Store_Ratio', 'Basket_Ratio', 'Category_1', 'Store_Score',\n",
        "       'Category_2', 'Store_Presence', 'Score_1', 'Score_2', 'Score_3',\n",
        "       'Score_4', 'time','popularity']]\n"
      ],
      "execution_count": null,
      "outputs": []
    },
    {
      "cell_type": "code",
      "metadata": {
        "id": "_cmGhM4XDNkV"
      },
      "source": [
        "#Moving the predection vlaue of record's duplicate in Test from Train set\n",
        "final_df['pred'] = y"
      ],
      "execution_count": null,
      "outputs": []
    },
    {
      "cell_type": "code",
      "metadata": {
        "colab": {
          "base_uri": "https://localhost:8080/",
          "height": 195
        },
        "id": "FnEvQDuxNIsj",
        "outputId": "32a5fb2c-9fbb-4be3-a548-1608297d20f3"
      },
      "source": [
        "final_df.head()"
      ],
      "execution_count": null,
      "outputs": [
        {
          "output_type": "execute_result",
          "data": {
            "text/html": [
              "<div>\n",
              "<style scoped>\n",
              "    .dataframe tbody tr th:only-of-type {\n",
              "        vertical-align: middle;\n",
              "    }\n",
              "\n",
              "    .dataframe tbody tr th {\n",
              "        vertical-align: top;\n",
              "    }\n",
              "\n",
              "    .dataframe thead th {\n",
              "        text-align: right;\n",
              "    }\n",
              "</style>\n",
              "<table border=\"1\" class=\"dataframe\">\n",
              "  <thead>\n",
              "    <tr style=\"text-align: right;\">\n",
              "      <th></th>\n",
              "      <th>0</th>\n",
              "      <th>1</th>\n",
              "      <th>2</th>\n",
              "      <th>3</th>\n",
              "      <th>4</th>\n",
              "      <th>pred</th>\n",
              "    </tr>\n",
              "  </thead>\n",
              "  <tbody>\n",
              "    <tr>\n",
              "      <th>0</th>\n",
              "      <td>0.001555</td>\n",
              "      <td>0.028926</td>\n",
              "      <td>0.549104</td>\n",
              "      <td>0.368920</td>\n",
              "      <td>0.051495</td>\n",
              "      <td>4.0</td>\n",
              "    </tr>\n",
              "    <tr>\n",
              "      <th>1</th>\n",
              "      <td>0.000040</td>\n",
              "      <td>0.004808</td>\n",
              "      <td>0.033800</td>\n",
              "      <td>0.953406</td>\n",
              "      <td>0.007947</td>\n",
              "      <td>4.0</td>\n",
              "    </tr>\n",
              "    <tr>\n",
              "      <th>2</th>\n",
              "      <td>0.000044</td>\n",
              "      <td>0.005942</td>\n",
              "      <td>0.065809</td>\n",
              "      <td>0.914258</td>\n",
              "      <td>0.013947</td>\n",
              "      <td>4.0</td>\n",
              "    </tr>\n",
              "    <tr>\n",
              "      <th>3</th>\n",
              "      <td>0.000070</td>\n",
              "      <td>0.006093</td>\n",
              "      <td>0.044533</td>\n",
              "      <td>0.936573</td>\n",
              "      <td>0.012731</td>\n",
              "      <td>5.0</td>\n",
              "    </tr>\n",
              "    <tr>\n",
              "      <th>4</th>\n",
              "      <td>0.000007</td>\n",
              "      <td>0.000810</td>\n",
              "      <td>0.008301</td>\n",
              "      <td>0.988476</td>\n",
              "      <td>0.002405</td>\n",
              "      <td>3.0</td>\n",
              "    </tr>\n",
              "  </tbody>\n",
              "</table>\n",
              "</div>"
            ],
            "text/plain": [
              "          0         1         2         3         4  pred\n",
              "0  0.001555  0.028926  0.549104  0.368920  0.051495   4.0\n",
              "1  0.000040  0.004808  0.033800  0.953406  0.007947   4.0\n",
              "2  0.000044  0.005942  0.065809  0.914258  0.013947   4.0\n",
              "3  0.000070  0.006093  0.044533  0.936573  0.012731   5.0\n",
              "4  0.000007  0.000810  0.008301  0.988476  0.002405   3.0"
            ]
          },
          "metadata": {
            "tags": []
          },
          "execution_count": 81
        }
      ]
    },
    {
      "cell_type": "code",
      "metadata": {
        "id": "n1sZBACVYPZh"
      },
      "source": [
        ""
      ],
      "execution_count": null,
      "outputs": []
    }
  ]
}