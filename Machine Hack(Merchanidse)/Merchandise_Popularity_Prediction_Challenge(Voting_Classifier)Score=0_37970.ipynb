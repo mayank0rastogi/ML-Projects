{
  "nbformat": 4,
  "nbformat_minor": 0,
  "metadata": {
    "colab": {
      "name": "Merchandise Popularity Prediction Challenge(Voting Classifier)Score=0.37970.ipynb",
      "provenance": []
    },
    "kernelspec": {
      "name": "python3",
      "display_name": "Python 3"
    }
  },
  "cells": [
    {
      "cell_type": "code",
      "metadata": {
        "colab": {
          "base_uri": "https://localhost:8080/"
        },
        "id": "zLmsVKlBrDVP",
        "outputId": "8b6876ea-cb5c-4ba8-a765-495a2a64eac5"
      },
      "source": [
        "from zipfile import ZipFile\n",
        "file_name = \"/content/drive/MyDrive/machineHack/MPP_Dataset.zip\"\n",
        "with ZipFile(file_name,'r') as zip:\n",
        "  zip.extractall()\n",
        "  print('finish')\n",
        "\n"
      ],
      "execution_count": null,
      "outputs": [
        {
          "output_type": "stream",
          "text": [
            "finish\n"
          ],
          "name": "stdout"
        }
      ]
    },
    {
      "cell_type": "code",
      "metadata": {
        "colab": {
          "base_uri": "https://localhost:8080/"
        },
        "id": "U2OqQPL_raVU",
        "outputId": "ac15a5d1-7834-4127-8f9d-20a71ca54119"
      },
      "source": [
        "!pip install catboost"
      ],
      "execution_count": null,
      "outputs": [
        {
          "output_type": "stream",
          "text": [
            "Collecting catboost\n",
            "\u001b[?25l  Downloading https://files.pythonhosted.org/packages/20/37/bc4e0ddc30c07a96482abf1de7ed1ca54e59bba2026a33bca6d2ef286e5b/catboost-0.24.4-cp36-none-manylinux1_x86_64.whl (65.7MB)\n",
            "\u001b[K     |████████████████████████████████| 65.8MB 90kB/s \n",
            "\u001b[?25hRequirement already satisfied: plotly in /usr/local/lib/python3.6/dist-packages (from catboost) (4.4.1)\n",
            "Requirement already satisfied: six in /usr/local/lib/python3.6/dist-packages (from catboost) (1.15.0)\n",
            "Requirement already satisfied: pandas>=0.24.0 in /usr/local/lib/python3.6/dist-packages (from catboost) (1.1.5)\n",
            "Requirement already satisfied: graphviz in /usr/local/lib/python3.6/dist-packages (from catboost) (0.10.1)\n",
            "Requirement already satisfied: scipy in /usr/local/lib/python3.6/dist-packages (from catboost) (1.4.1)\n",
            "Requirement already satisfied: numpy>=1.16.0 in /usr/local/lib/python3.6/dist-packages (from catboost) (1.19.5)\n",
            "Requirement already satisfied: matplotlib in /usr/local/lib/python3.6/dist-packages (from catboost) (3.2.2)\n",
            "Requirement already satisfied: retrying>=1.3.3 in /usr/local/lib/python3.6/dist-packages (from plotly->catboost) (1.3.3)\n",
            "Requirement already satisfied: python-dateutil>=2.7.3 in /usr/local/lib/python3.6/dist-packages (from pandas>=0.24.0->catboost) (2.8.1)\n",
            "Requirement already satisfied: pytz>=2017.2 in /usr/local/lib/python3.6/dist-packages (from pandas>=0.24.0->catboost) (2018.9)\n",
            "Requirement already satisfied: pyparsing!=2.0.4,!=2.1.2,!=2.1.6,>=2.0.1 in /usr/local/lib/python3.6/dist-packages (from matplotlib->catboost) (2.4.7)\n",
            "Requirement already satisfied: kiwisolver>=1.0.1 in /usr/local/lib/python3.6/dist-packages (from matplotlib->catboost) (1.3.1)\n",
            "Requirement already satisfied: cycler>=0.10 in /usr/local/lib/python3.6/dist-packages (from matplotlib->catboost) (0.10.0)\n",
            "Installing collected packages: catboost\n",
            "Successfully installed catboost-0.24.4\n"
          ],
          "name": "stdout"
        }
      ]
    },
    {
      "cell_type": "code",
      "metadata": {
        "id": "DFPIo94MrFKC"
      },
      "source": [
        "# Import Necessary Libraries\n",
        "from sklearn.ensemble import RandomForestClassifier, ExtraTreesClassifier, VotingClassifier\n",
        "from catboost import CatBoostClassifier\n",
        "import matplotlib.pyplot as plt\n",
        "from sklearn.preprocessing import StandardScaler, MinMaxScaler\n",
        "from sklearn.model_selection import train_test_split\n",
        "import numpy as np\n",
        "import pandas as pd"
      ],
      "execution_count": null,
      "outputs": []
    },
    {
      "cell_type": "code",
      "metadata": {
        "id": "lgk0q_6HsvcM"
      },
      "source": [
        "# Random State\n",
        "seed = 42\n",
        "np.random.seed(seed)"
      ],
      "execution_count": null,
      "outputs": []
    },
    {
      "cell_type": "code",
      "metadata": {
        "id": "JQvA1RwgrJ_q"
      },
      "source": [
        "train  = pd.read_csv('/content/MPP_Dataset/Train.csv')\n",
        "test   = pd.read_csv('/content/MPP_Dataset/Test.csv')"
      ],
      "execution_count": null,
      "outputs": []
    },
    {
      "cell_type": "code",
      "metadata": {
        "id": "zpv5k2i-rh1c"
      },
      "source": [
        "train  = train.drop_duplicates().reset_index(drop=True)"
      ],
      "execution_count": null,
      "outputs": []
    },
    {
      "cell_type": "code",
      "metadata": {
        "id": "rIGRWmg4r2kE"
      },
      "source": [
        "X_train = train.drop(['popularity'], axis = 1)\n",
        "y_train = train['popularity']"
      ],
      "execution_count": null,
      "outputs": []
    },
    {
      "cell_type": "code",
      "metadata": {
        "id": "KpeXZyQmrmp0"
      },
      "source": [
        "#cols = ['Category_1','Category_2'] \n",
        "cols = ['Category_2']\n",
        "X_scaled = pd.get_dummies(X_train, columns=cols)\n",
        "test_scaled = pd.get_dummies(test , columns=cols)"
      ],
      "execution_count": null,
      "outputs": []
    },
    {
      "cell_type": "code",
      "metadata": {
        "colab": {
          "base_uri": "https://localhost:8080/",
          "height": 50
        },
        "id": "eW9MI7MbruQn",
        "outputId": "570b8bcc-7919-4c3d-cc60-fd3278f328ec"
      },
      "source": [
        "scaler = MinMaxScaler()\n",
        "X_scaled = scaler.fit_transform(X_scaled)\n",
        "test_scaled = scaler.transform(test_scaled)\n",
        "\n",
        "# Display\n",
        "display(X_scaled.shape, test_scaled.shape)"
      ],
      "execution_count": null,
      "outputs": [
        {
          "output_type": "display_data",
          "data": {
            "text/plain": [
              "(15285, 12)"
            ]
          },
          "metadata": {
            "tags": []
          }
        },
        {
          "output_type": "display_data",
          "data": {
            "text/plain": [
              "(12140, 12)"
            ]
          },
          "metadata": {
            "tags": []
          }
        }
      ]
    },
    {
      "cell_type": "code",
      "metadata": {
        "colab": {
          "base_uri": "https://localhost:8080/",
          "height": 1000
        },
        "id": "Sb9iL4TjsCI5",
        "outputId": "4f7b7797-9190-47a7-9086-fad8a8a53262"
      },
      "source": [
        "# Instantiate CatBOOST\n",
        "model_cat = CatBoostClassifier(metric_period=400,\n",
        "                          random_state=seed,\n",
        "                          learning_rate=0.01,\n",
        "                          loss_function = 'MultiClass',\n",
        "                          border_count=1500)   # Catboost\n",
        "\n",
        "# Instantiate ExtraTreeClassifer\n",
        "model_etr=ExtraTreesClassifier(\n",
        "    n_estimators = 6000, max_depth = None, n_jobs = -1, random_state = seed, verbose = 1,bootstrap=True)     # ExtraTreesClassifier\n",
        "\n",
        "# Instantiate RandomForestClassifier\n",
        "model_rf=RandomForestClassifier(\n",
        "    n_estimators = 9000,  max_depth = None, n_jobs = -1, random_state = seed, verbose = 1)    # RandomForestClassifier\n",
        "\n",
        "\n",
        "# Combine all models(estimators) and use 'soft voting' -- Voting Classifier\n",
        "voting=VotingClassifier(estimators = [(\n",
        "    'CatBoost', model_cat), ('ETR', model_etr), ('RF', model_rf)], voting = 'soft', weights = [8, 6, 8])\n",
        "\n",
        "\n",
        "\n",
        "# Fit the Model\n",
        "voting.fit(X_scaled, y_train)\n",
        "\n",
        "# Make Predictions and convert Predictions to Dataframe\n",
        "cm_pred = pd.DataFrame(voting.predict_proba(test_scaled))\n",
        "display(cm_pred)"
      ],
      "execution_count": null,
      "outputs": [
        {
          "output_type": "stream",
          "text": [
            "0:\tlearn: 1.5825669\ttotal: 152ms\tremaining: 2m 32s\n",
            "400:\tlearn: 0.4635001\ttotal: 29.7s\tremaining: 44.3s\n",
            "800:\tlearn: 0.4377283\ttotal: 59.2s\tremaining: 14.7s\n",
            "999:\tlearn: 0.4295014\ttotal: 1m 13s\tremaining: 0us\n"
          ],
          "name": "stdout"
        },
        {
          "output_type": "stream",
          "text": [
            "[Parallel(n_jobs=-1)]: Using backend LokyBackend with 2 concurrent workers.\n",
            "[Parallel(n_jobs=-1)]: Done 202 tasks      | elapsed:    3.5s\n",
            "[Parallel(n_jobs=-1)]: Done 1402 tasks      | elapsed:   17.1s\n",
            "[Parallel(n_jobs=-1)]: Done 3402 tasks      | elapsed:   40.2s\n",
            "[Parallel(n_jobs=-1)]: Done 6000 out of 6000 | elapsed:  1.2min finished\n",
            "[Parallel(n_jobs=-1)]: Using backend LokyBackend with 2 concurrent workers.\n",
            "[Parallel(n_jobs=-1)]: Done  88 tasks      | elapsed:    3.1s\n",
            "[Parallel(n_jobs=-1)]: Done 388 tasks      | elapsed:   13.4s\n",
            "[Parallel(n_jobs=-1)]: Done 888 tasks      | elapsed:   30.6s\n",
            "[Parallel(n_jobs=-1)]: Done 1588 tasks      | elapsed:   54.3s\n",
            "[Parallel(n_jobs=-1)]: Done 2488 tasks      | elapsed:  1.4min\n",
            "[Parallel(n_jobs=-1)]: Done 3588 tasks      | elapsed:  2.0min\n",
            "[Parallel(n_jobs=-1)]: Done 4888 tasks      | elapsed:  2.8min\n",
            "[Parallel(n_jobs=-1)]: Done 6388 tasks      | elapsed:  3.6min\n",
            "[Parallel(n_jobs=-1)]: Done 8088 tasks      | elapsed:  4.6min\n",
            "[Parallel(n_jobs=-1)]: Done 9000 out of 9000 | elapsed:  5.1min finished\n",
            "[Parallel(n_jobs=2)]: Using backend ThreadingBackend with 2 concurrent workers.\n",
            "[Parallel(n_jobs=2)]: Done  46 tasks      | elapsed:    0.1s\n",
            "[Parallel(n_jobs=2)]: Done 196 tasks      | elapsed:    0.4s\n",
            "[Parallel(n_jobs=2)]: Done 446 tasks      | elapsed:    1.0s\n",
            "[Parallel(n_jobs=2)]: Done 796 tasks      | elapsed:    1.7s\n",
            "[Parallel(n_jobs=2)]: Done 1246 tasks      | elapsed:    2.7s\n",
            "[Parallel(n_jobs=2)]: Done 1796 tasks      | elapsed:    3.9s\n",
            "[Parallel(n_jobs=2)]: Done 2446 tasks      | elapsed:    5.3s\n",
            "[Parallel(n_jobs=2)]: Done 3196 tasks      | elapsed:    6.9s\n",
            "[Parallel(n_jobs=2)]: Done 4046 tasks      | elapsed:    8.7s\n",
            "[Parallel(n_jobs=2)]: Done 4996 tasks      | elapsed:   10.8s\n",
            "[Parallel(n_jobs=2)]: Done 6000 out of 6000 | elapsed:   12.9s finished\n",
            "[Parallel(n_jobs=2)]: Using backend ThreadingBackend with 2 concurrent workers.\n",
            "[Parallel(n_jobs=2)]: Done  46 tasks      | elapsed:    0.1s\n",
            "[Parallel(n_jobs=2)]: Done 196 tasks      | elapsed:    0.4s\n",
            "[Parallel(n_jobs=2)]: Done 446 tasks      | elapsed:    0.8s\n",
            "[Parallel(n_jobs=2)]: Done 796 tasks      | elapsed:    1.5s\n",
            "[Parallel(n_jobs=2)]: Done 1246 tasks      | elapsed:    2.3s\n",
            "[Parallel(n_jobs=2)]: Done 1796 tasks      | elapsed:    3.4s\n",
            "[Parallel(n_jobs=2)]: Done 2446 tasks      | elapsed:    4.5s\n",
            "[Parallel(n_jobs=2)]: Done 3196 tasks      | elapsed:    5.9s\n",
            "[Parallel(n_jobs=2)]: Done 4046 tasks      | elapsed:    7.4s\n",
            "[Parallel(n_jobs=2)]: Done 4996 tasks      | elapsed:    9.2s\n",
            "[Parallel(n_jobs=2)]: Done 6046 tasks      | elapsed:   11.0s\n",
            "[Parallel(n_jobs=2)]: Done 7196 tasks      | elapsed:   13.2s\n",
            "[Parallel(n_jobs=2)]: Done 8446 tasks      | elapsed:   15.4s\n",
            "[Parallel(n_jobs=2)]: Done 9000 out of 9000 | elapsed:   16.4s finished\n"
          ],
          "name": "stderr"
        },
        {
          "output_type": "display_data",
          "data": {
            "text/html": [
              "<div>\n",
              "<style scoped>\n",
              "    .dataframe tbody tr th:only-of-type {\n",
              "        vertical-align: middle;\n",
              "    }\n",
              "\n",
              "    .dataframe tbody tr th {\n",
              "        vertical-align: top;\n",
              "    }\n",
              "\n",
              "    .dataframe thead th {\n",
              "        text-align: right;\n",
              "    }\n",
              "</style>\n",
              "<table border=\"1\" class=\"dataframe\">\n",
              "  <thead>\n",
              "    <tr style=\"text-align: right;\">\n",
              "      <th></th>\n",
              "      <th>0</th>\n",
              "      <th>1</th>\n",
              "      <th>2</th>\n",
              "      <th>3</th>\n",
              "      <th>4</th>\n",
              "    </tr>\n",
              "  </thead>\n",
              "  <tbody>\n",
              "    <tr>\n",
              "      <th>0</th>\n",
              "      <td>0.002403</td>\n",
              "      <td>0.064266</td>\n",
              "      <td>0.598503</td>\n",
              "      <td>0.261213</td>\n",
              "      <td>0.073615</td>\n",
              "    </tr>\n",
              "    <tr>\n",
              "      <th>1</th>\n",
              "      <td>0.000045</td>\n",
              "      <td>0.005574</td>\n",
              "      <td>0.031738</td>\n",
              "      <td>0.955256</td>\n",
              "      <td>0.007386</td>\n",
              "    </tr>\n",
              "    <tr>\n",
              "      <th>2</th>\n",
              "      <td>0.000065</td>\n",
              "      <td>0.004153</td>\n",
              "      <td>0.055776</td>\n",
              "      <td>0.925023</td>\n",
              "      <td>0.014984</td>\n",
              "    </tr>\n",
              "    <tr>\n",
              "      <th>3</th>\n",
              "      <td>0.000066</td>\n",
              "      <td>0.005355</td>\n",
              "      <td>0.046603</td>\n",
              "      <td>0.933864</td>\n",
              "      <td>0.014112</td>\n",
              "    </tr>\n",
              "    <tr>\n",
              "      <th>4</th>\n",
              "      <td>0.000074</td>\n",
              "      <td>0.001058</td>\n",
              "      <td>0.008534</td>\n",
              "      <td>0.986190</td>\n",
              "      <td>0.004144</td>\n",
              "    </tr>\n",
              "    <tr>\n",
              "      <th>...</th>\n",
              "      <td>...</td>\n",
              "      <td>...</td>\n",
              "      <td>...</td>\n",
              "      <td>...</td>\n",
              "      <td>...</td>\n",
              "    </tr>\n",
              "    <tr>\n",
              "      <th>12135</th>\n",
              "      <td>0.000246</td>\n",
              "      <td>0.029402</td>\n",
              "      <td>0.155123</td>\n",
              "      <td>0.784889</td>\n",
              "      <td>0.030340</td>\n",
              "    </tr>\n",
              "    <tr>\n",
              "      <th>12136</th>\n",
              "      <td>0.000049</td>\n",
              "      <td>0.000910</td>\n",
              "      <td>0.009918</td>\n",
              "      <td>0.986506</td>\n",
              "      <td>0.002616</td>\n",
              "    </tr>\n",
              "    <tr>\n",
              "      <th>12137</th>\n",
              "      <td>0.000048</td>\n",
              "      <td>0.002572</td>\n",
              "      <td>0.020809</td>\n",
              "      <td>0.973723</td>\n",
              "      <td>0.002849</td>\n",
              "    </tr>\n",
              "    <tr>\n",
              "      <th>12138</th>\n",
              "      <td>0.000058</td>\n",
              "      <td>0.003624</td>\n",
              "      <td>0.014762</td>\n",
              "      <td>0.978950</td>\n",
              "      <td>0.002607</td>\n",
              "    </tr>\n",
              "    <tr>\n",
              "      <th>12139</th>\n",
              "      <td>0.000437</td>\n",
              "      <td>0.061141</td>\n",
              "      <td>0.271522</td>\n",
              "      <td>0.630588</td>\n",
              "      <td>0.036313</td>\n",
              "    </tr>\n",
              "  </tbody>\n",
              "</table>\n",
              "<p>12140 rows × 5 columns</p>\n",
              "</div>"
            ],
            "text/plain": [
              "              0         1         2         3         4\n",
              "0      0.002403  0.064266  0.598503  0.261213  0.073615\n",
              "1      0.000045  0.005574  0.031738  0.955256  0.007386\n",
              "2      0.000065  0.004153  0.055776  0.925023  0.014984\n",
              "3      0.000066  0.005355  0.046603  0.933864  0.014112\n",
              "4      0.000074  0.001058  0.008534  0.986190  0.004144\n",
              "...         ...       ...       ...       ...       ...\n",
              "12135  0.000246  0.029402  0.155123  0.784889  0.030340\n",
              "12136  0.000049  0.000910  0.009918  0.986506  0.002616\n",
              "12137  0.000048  0.002572  0.020809  0.973723  0.002849\n",
              "12138  0.000058  0.003624  0.014762  0.978950  0.002607\n",
              "12139  0.000437  0.061141  0.271522  0.630588  0.036313\n",
              "\n",
              "[12140 rows x 5 columns]"
            ]
          },
          "metadata": {
            "tags": []
          }
        }
      ]
    },
    {
      "cell_type": "code",
      "metadata": {
        "id": "c3w47mjqspz2"
      },
      "source": [
        "cm_pred.to_csv('vc-pred.csv',index=False)"
      ],
      "execution_count": null,
      "outputs": []
    },
    {
      "cell_type": "code",
      "metadata": {
        "id": "yPqXz1m5veYi"
      },
      "source": [
        ""
      ],
      "execution_count": null,
      "outputs": []
    }
  ]
}