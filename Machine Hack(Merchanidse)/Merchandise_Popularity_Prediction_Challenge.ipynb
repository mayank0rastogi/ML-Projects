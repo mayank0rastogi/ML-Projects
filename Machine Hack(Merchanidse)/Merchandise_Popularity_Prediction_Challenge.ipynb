{
  "nbformat": 4,
  "nbformat_minor": 0,
  "metadata": {
    "colab": {
      "name": " Merchandise Popularity Prediction Challenge.ipynb",
      "provenance": [],
      "collapsed_sections": [],
      "toc_visible": true
    },
    "kernelspec": {
      "name": "python3",
      "display_name": "Python 3"
    }
  },
  "cells": [
    {
      "cell_type": "code",
      "metadata": {
        "colab": {
          "base_uri": "https://localhost:8080/"
        },
        "id": "WLb6KBP7ZfNb",
        "outputId": "45bf1ab3-2123-443b-c2c8-126cbaca7bf4"
      },
      "source": [
        "from zipfile import ZipFile\n",
        "file_name = \"/content/drive/MyDrive/machineHack/MPP_Dataset.zip\"\n",
        "with ZipFile(file_name,'r') as zip:\n",
        "  zip.extractall()\n",
        "  print('finish')\n"
      ],
      "execution_count": null,
      "outputs": [
        {
          "output_type": "stream",
          "text": [
            "finish\n"
          ],
          "name": "stdout"
        }
      ]
    },
    {
      "cell_type": "code",
      "metadata": {
        "id": "UQ5mLaV2Z3C-"
      },
      "source": [
        "import pandas as pd\n",
        "import numpy as np\n",
        "import seaborn as sns\n",
        "import matplotlib.pyplot as plt\n",
        "from lightgbm import LGBMClassifier\n",
        "from xgboost import XGBClassifier\n",
        "from sklearn.linear_model import LogisticRegression , RidgeClassifier\n",
        "from sklearn.tree import DecisionTreeClassifier\n",
        "from sklearn.ensemble import RandomForestClassifier , GradientBoostingClassifier , ExtraTreesClassifier , AdaBoostClassifier\n",
        "from sklearn.model_selection import KFold ,StratifiedKFold\n",
        "from sklearn.metrics import log_loss\n",
        "import warnings \n",
        "warnings.filterwarnings('ignore')"
      ],
      "execution_count": null,
      "outputs": []
    },
    {
      "cell_type": "code",
      "metadata": {
        "id": "ZQH1jyPAaHRt"
      },
      "source": [
        "train=pd.read_csv(\"/content/MPP_Dataset/Train.csv\")\n",
        "test=pd.read_csv(\"/content/MPP_Dataset/Test.csv\")\n",
        "submission=pd.read_csv(\"/content/MPP_Dataset/sample_submission.csv\")"
      ],
      "execution_count": null,
      "outputs": []
    },
    {
      "cell_type": "code",
      "metadata": {
        "colab": {
          "base_uri": "https://localhost:8080/",
          "height": 216
        },
        "id": "5sJgAOk5ac0n",
        "outputId": "2e0a475a-887c-4fd0-e0a5-ab61004a7e27"
      },
      "source": [
        "train.head()"
      ],
      "execution_count": null,
      "outputs": [
        {
          "output_type": "execute_result",
          "data": {
            "text/html": [
              "<div>\n",
              "<style scoped>\n",
              "    .dataframe tbody tr th:only-of-type {\n",
              "        vertical-align: middle;\n",
              "    }\n",
              "\n",
              "    .dataframe tbody tr th {\n",
              "        vertical-align: top;\n",
              "    }\n",
              "\n",
              "    .dataframe thead th {\n",
              "        text-align: right;\n",
              "    }\n",
              "</style>\n",
              "<table border=\"1\" class=\"dataframe\">\n",
              "  <thead>\n",
              "    <tr style=\"text-align: right;\">\n",
              "      <th></th>\n",
              "      <th>Store_Ratio</th>\n",
              "      <th>Basket_Ratio</th>\n",
              "      <th>Category_1</th>\n",
              "      <th>Store_Score</th>\n",
              "      <th>Category_2</th>\n",
              "      <th>Store_Presence</th>\n",
              "      <th>Score_1</th>\n",
              "      <th>Score_2</th>\n",
              "      <th>Score_3</th>\n",
              "      <th>Score_4</th>\n",
              "      <th>time</th>\n",
              "      <th>popularity</th>\n",
              "    </tr>\n",
              "  </thead>\n",
              "  <tbody>\n",
              "    <tr>\n",
              "      <th>0</th>\n",
              "      <td>0.407</td>\n",
              "      <td>0.00380</td>\n",
              "      <td>2</td>\n",
              "      <td>-35.865</td>\n",
              "      <td>1</td>\n",
              "      <td>0.9920</td>\n",
              "      <td>0.944</td>\n",
              "      <td>0.0988</td>\n",
              "      <td>0.1100</td>\n",
              "      <td>113.911</td>\n",
              "      <td>189125</td>\n",
              "      <td>4</td>\n",
              "    </tr>\n",
              "    <tr>\n",
              "      <th>1</th>\n",
              "      <td>0.234</td>\n",
              "      <td>0.10500</td>\n",
              "      <td>0</td>\n",
              "      <td>-19.884</td>\n",
              "      <td>1</td>\n",
              "      <td>0.9440</td>\n",
              "      <td>0.900</td>\n",
              "      <td>0.1290</td>\n",
              "      <td>0.0382</td>\n",
              "      <td>76.332</td>\n",
              "      <td>186513</td>\n",
              "      <td>4</td>\n",
              "    </tr>\n",
              "    <tr>\n",
              "      <th>2</th>\n",
              "      <td>0.668</td>\n",
              "      <td>0.72600</td>\n",
              "      <td>9</td>\n",
              "      <td>-7.512</td>\n",
              "      <td>1</td>\n",
              "      <td>0.0387</td>\n",
              "      <td>0.000</td>\n",
              "      <td>0.1340</td>\n",
              "      <td>0.4530</td>\n",
              "      <td>124.075</td>\n",
              "      <td>172143</td>\n",
              "      <td>4</td>\n",
              "    </tr>\n",
              "    <tr>\n",
              "      <th>3</th>\n",
              "      <td>0.184</td>\n",
              "      <td>0.00561</td>\n",
              "      <td>4</td>\n",
              "      <td>-34.357</td>\n",
              "      <td>1</td>\n",
              "      <td>0.8490</td>\n",
              "      <td>0.931</td>\n",
              "      <td>0.1110</td>\n",
              "      <td>0.0641</td>\n",
              "      <td>79.037</td>\n",
              "      <td>184000</td>\n",
              "      <td>5</td>\n",
              "    </tr>\n",
              "    <tr>\n",
              "      <th>4</th>\n",
              "      <td>0.231</td>\n",
              "      <td>0.13100</td>\n",
              "      <td>6</td>\n",
              "      <td>-22.842</td>\n",
              "      <td>1</td>\n",
              "      <td>0.9370</td>\n",
              "      <td>0.000</td>\n",
              "      <td>0.1090</td>\n",
              "      <td>0.0677</td>\n",
              "      <td>109.560</td>\n",
              "      <td>186507</td>\n",
              "      <td>3</td>\n",
              "    </tr>\n",
              "  </tbody>\n",
              "</table>\n",
              "</div>"
            ],
            "text/plain": [
              "   Store_Ratio  Basket_Ratio  Category_1  ...  Score_4    time  popularity\n",
              "0        0.407       0.00380           2  ...  113.911  189125           4\n",
              "1        0.234       0.10500           0  ...   76.332  186513           4\n",
              "2        0.668       0.72600           9  ...  124.075  172143           4\n",
              "3        0.184       0.00561           4  ...   79.037  184000           5\n",
              "4        0.231       0.13100           6  ...  109.560  186507           3\n",
              "\n",
              "[5 rows x 12 columns]"
            ]
          },
          "metadata": {
            "tags": []
          },
          "execution_count": 133
        }
      ]
    },
    {
      "cell_type": "code",
      "metadata": {
        "id": "907nQOHrp0Cb"
      },
      "source": [
        "#train.drop(['Category_2'],axis=1,inplace=True)"
      ],
      "execution_count": null,
      "outputs": []
    },
    {
      "cell_type": "code",
      "metadata": {
        "colab": {
          "base_uri": "https://localhost:8080/"
        },
        "id": "Qew1yGHBp-Q5",
        "outputId": "316f2f6e-9414-4eda-9af5-dae5a5513ac5"
      },
      "source": [
        "train.shape"
      ],
      "execution_count": null,
      "outputs": [
        {
          "output_type": "execute_result",
          "data": {
            "text/plain": [
              "(18208, 11)"
            ]
          },
          "metadata": {
            "tags": []
          },
          "execution_count": 100
        }
      ]
    },
    {
      "cell_type": "code",
      "metadata": {
        "colab": {
          "base_uri": "https://localhost:8080/",
          "height": 196
        },
        "id": "8NWpJEMSqCyR",
        "outputId": "26a68286-8cea-4c8d-fa2b-c9b455c31964"
      },
      "source": [
        "train.head()"
      ],
      "execution_count": null,
      "outputs": [
        {
          "output_type": "execute_result",
          "data": {
            "text/html": [
              "<div>\n",
              "<style scoped>\n",
              "    .dataframe tbody tr th:only-of-type {\n",
              "        vertical-align: middle;\n",
              "    }\n",
              "\n",
              "    .dataframe tbody tr th {\n",
              "        vertical-align: top;\n",
              "    }\n",
              "\n",
              "    .dataframe thead th {\n",
              "        text-align: right;\n",
              "    }\n",
              "</style>\n",
              "<table border=\"1\" class=\"dataframe\">\n",
              "  <thead>\n",
              "    <tr style=\"text-align: right;\">\n",
              "      <th></th>\n",
              "      <th>Store_Ratio</th>\n",
              "      <th>Basket_Ratio</th>\n",
              "      <th>Category_1</th>\n",
              "      <th>Store_Score</th>\n",
              "      <th>Store_Presence</th>\n",
              "      <th>Score_1</th>\n",
              "      <th>Score_2</th>\n",
              "      <th>Score_3</th>\n",
              "      <th>Score_4</th>\n",
              "      <th>time</th>\n",
              "      <th>popularity</th>\n",
              "    </tr>\n",
              "  </thead>\n",
              "  <tbody>\n",
              "    <tr>\n",
              "      <th>0</th>\n",
              "      <td>0.407</td>\n",
              "      <td>0.00380</td>\n",
              "      <td>2</td>\n",
              "      <td>-35.865</td>\n",
              "      <td>0.9920</td>\n",
              "      <td>0.944</td>\n",
              "      <td>0.0988</td>\n",
              "      <td>0.1100</td>\n",
              "      <td>113.911</td>\n",
              "      <td>189125</td>\n",
              "      <td>4</td>\n",
              "    </tr>\n",
              "    <tr>\n",
              "      <th>1</th>\n",
              "      <td>0.234</td>\n",
              "      <td>0.10500</td>\n",
              "      <td>0</td>\n",
              "      <td>-19.884</td>\n",
              "      <td>0.9440</td>\n",
              "      <td>0.900</td>\n",
              "      <td>0.1290</td>\n",
              "      <td>0.0382</td>\n",
              "      <td>76.332</td>\n",
              "      <td>186513</td>\n",
              "      <td>4</td>\n",
              "    </tr>\n",
              "    <tr>\n",
              "      <th>2</th>\n",
              "      <td>0.668</td>\n",
              "      <td>0.72600</td>\n",
              "      <td>9</td>\n",
              "      <td>-7.512</td>\n",
              "      <td>0.0387</td>\n",
              "      <td>0.000</td>\n",
              "      <td>0.1340</td>\n",
              "      <td>0.4530</td>\n",
              "      <td>124.075</td>\n",
              "      <td>172143</td>\n",
              "      <td>4</td>\n",
              "    </tr>\n",
              "    <tr>\n",
              "      <th>3</th>\n",
              "      <td>0.184</td>\n",
              "      <td>0.00561</td>\n",
              "      <td>4</td>\n",
              "      <td>-34.357</td>\n",
              "      <td>0.8490</td>\n",
              "      <td>0.931</td>\n",
              "      <td>0.1110</td>\n",
              "      <td>0.0641</td>\n",
              "      <td>79.037</td>\n",
              "      <td>184000</td>\n",
              "      <td>5</td>\n",
              "    </tr>\n",
              "    <tr>\n",
              "      <th>4</th>\n",
              "      <td>0.231</td>\n",
              "      <td>0.13100</td>\n",
              "      <td>6</td>\n",
              "      <td>-22.842</td>\n",
              "      <td>0.9370</td>\n",
              "      <td>0.000</td>\n",
              "      <td>0.1090</td>\n",
              "      <td>0.0677</td>\n",
              "      <td>109.560</td>\n",
              "      <td>186507</td>\n",
              "      <td>3</td>\n",
              "    </tr>\n",
              "  </tbody>\n",
              "</table>\n",
              "</div>"
            ],
            "text/plain": [
              "   Store_Ratio  Basket_Ratio  Category_1  ...  Score_4    time  popularity\n",
              "0        0.407       0.00380           2  ...  113.911  189125           4\n",
              "1        0.234       0.10500           0  ...   76.332  186513           4\n",
              "2        0.668       0.72600           9  ...  124.075  172143           4\n",
              "3        0.184       0.00561           4  ...   79.037  184000           5\n",
              "4        0.231       0.13100           6  ...  109.560  186507           3\n",
              "\n",
              "[5 rows x 11 columns]"
            ]
          },
          "metadata": {
            "tags": []
          },
          "execution_count": 101
        }
      ]
    },
    {
      "cell_type": "code",
      "metadata": {
        "colab": {
          "base_uri": "https://localhost:8080/",
          "height": 196
        },
        "id": "hThMFlv6amTS",
        "outputId": "631e579d-e842-4e97-ab4f-34abf43f817f"
      },
      "source": [
        "test.head()"
      ],
      "execution_count": null,
      "outputs": [
        {
          "output_type": "execute_result",
          "data": {
            "text/html": [
              "<div>\n",
              "<style scoped>\n",
              "    .dataframe tbody tr th:only-of-type {\n",
              "        vertical-align: middle;\n",
              "    }\n",
              "\n",
              "    .dataframe tbody tr th {\n",
              "        vertical-align: top;\n",
              "    }\n",
              "\n",
              "    .dataframe thead th {\n",
              "        text-align: right;\n",
              "    }\n",
              "</style>\n",
              "<table border=\"1\" class=\"dataframe\">\n",
              "  <thead>\n",
              "    <tr style=\"text-align: right;\">\n",
              "      <th></th>\n",
              "      <th>Store_Ratio</th>\n",
              "      <th>Basket_Ratio</th>\n",
              "      <th>Category_1</th>\n",
              "      <th>Store_Score</th>\n",
              "      <th>Category_2</th>\n",
              "      <th>Store_Presence</th>\n",
              "      <th>Score_1</th>\n",
              "      <th>Score_2</th>\n",
              "      <th>Score_3</th>\n",
              "      <th>Score_4</th>\n",
              "      <th>time</th>\n",
              "    </tr>\n",
              "  </thead>\n",
              "  <tbody>\n",
              "    <tr>\n",
              "      <th>0</th>\n",
              "      <td>0.164</td>\n",
              "      <td>0.994</td>\n",
              "      <td>1</td>\n",
              "      <td>-23.718</td>\n",
              "      <td>0</td>\n",
              "      <td>0.12400</td>\n",
              "      <td>0.99100</td>\n",
              "      <td>0.7890</td>\n",
              "      <td>0.00001</td>\n",
              "      <td>127.602</td>\n",
              "      <td>236436</td>\n",
              "    </tr>\n",
              "    <tr>\n",
              "      <th>1</th>\n",
              "      <td>0.586</td>\n",
              "      <td>0.636</td>\n",
              "      <td>4</td>\n",
              "      <td>-7.710</td>\n",
              "      <td>1</td>\n",
              "      <td>0.00208</td>\n",
              "      <td>0.32200</td>\n",
              "      <td>0.1070</td>\n",
              "      <td>0.35500</td>\n",
              "      <td>136.337</td>\n",
              "      <td>253631</td>\n",
              "    </tr>\n",
              "    <tr>\n",
              "      <th>2</th>\n",
              "      <td>0.457</td>\n",
              "      <td>0.743</td>\n",
              "      <td>0</td>\n",
              "      <td>-7.591</td>\n",
              "      <td>1</td>\n",
              "      <td>0.40400</td>\n",
              "      <td>0.00931</td>\n",
              "      <td>0.2010</td>\n",
              "      <td>0.68800</td>\n",
              "      <td>154.902</td>\n",
              "      <td>215669</td>\n",
              "    </tr>\n",
              "    <tr>\n",
              "      <th>3</th>\n",
              "      <td>0.423</td>\n",
              "      <td>0.748</td>\n",
              "      <td>5</td>\n",
              "      <td>-9.832</td>\n",
              "      <td>1</td>\n",
              "      <td>0.03000</td>\n",
              "      <td>0.22100</td>\n",
              "      <td>0.1690</td>\n",
              "      <td>0.42800</td>\n",
              "      <td>93.977</td>\n",
              "      <td>325200</td>\n",
              "    </tr>\n",
              "    <tr>\n",
              "      <th>4</th>\n",
              "      <td>0.802</td>\n",
              "      <td>0.756</td>\n",
              "      <td>2</td>\n",
              "      <td>-10.791</td>\n",
              "      <td>0</td>\n",
              "      <td>0.08430</td>\n",
              "      <td>0.00765</td>\n",
              "      <td>0.0521</td>\n",
              "      <td>0.96300</td>\n",
              "      <td>131.715</td>\n",
              "      <td>288293</td>\n",
              "    </tr>\n",
              "  </tbody>\n",
              "</table>\n",
              "</div>"
            ],
            "text/plain": [
              "   Store_Ratio  Basket_Ratio  Category_1  ...  Score_3  Score_4    time\n",
              "0        0.164         0.994           1  ...  0.00001  127.602  236436\n",
              "1        0.586         0.636           4  ...  0.35500  136.337  253631\n",
              "2        0.457         0.743           0  ...  0.68800  154.902  215669\n",
              "3        0.423         0.748           5  ...  0.42800   93.977  325200\n",
              "4        0.802         0.756           2  ...  0.96300  131.715  288293\n",
              "\n",
              "[5 rows x 11 columns]"
            ]
          },
          "metadata": {
            "tags": []
          },
          "execution_count": 102
        }
      ]
    },
    {
      "cell_type": "code",
      "metadata": {
        "id": "Mhf2vsqCqGIA"
      },
      "source": [
        "\n",
        "#test.drop(['Category_2'],axis=1,inplace=True)"
      ],
      "execution_count": null,
      "outputs": []
    },
    {
      "cell_type": "code",
      "metadata": {
        "colab": {
          "base_uri": "https://localhost:8080/",
          "height": 196
        },
        "id": "JrSJAc9AH7a3",
        "outputId": "fa40a9c8-af9f-42dc-b78c-253f4abbc466"
      },
      "source": [
        "test.head()"
      ],
      "execution_count": null,
      "outputs": [
        {
          "output_type": "execute_result",
          "data": {
            "text/html": [
              "<div>\n",
              "<style scoped>\n",
              "    .dataframe tbody tr th:only-of-type {\n",
              "        vertical-align: middle;\n",
              "    }\n",
              "\n",
              "    .dataframe tbody tr th {\n",
              "        vertical-align: top;\n",
              "    }\n",
              "\n",
              "    .dataframe thead th {\n",
              "        text-align: right;\n",
              "    }\n",
              "</style>\n",
              "<table border=\"1\" class=\"dataframe\">\n",
              "  <thead>\n",
              "    <tr style=\"text-align: right;\">\n",
              "      <th></th>\n",
              "      <th>Store_Ratio</th>\n",
              "      <th>Basket_Ratio</th>\n",
              "      <th>Category_1</th>\n",
              "      <th>Store_Score</th>\n",
              "      <th>Store_Presence</th>\n",
              "      <th>Score_1</th>\n",
              "      <th>Score_2</th>\n",
              "      <th>Score_3</th>\n",
              "      <th>Score_4</th>\n",
              "      <th>time</th>\n",
              "    </tr>\n",
              "  </thead>\n",
              "  <tbody>\n",
              "    <tr>\n",
              "      <th>0</th>\n",
              "      <td>0.164</td>\n",
              "      <td>0.994</td>\n",
              "      <td>1</td>\n",
              "      <td>-23.718</td>\n",
              "      <td>0.12400</td>\n",
              "      <td>0.99100</td>\n",
              "      <td>0.7890</td>\n",
              "      <td>0.00001</td>\n",
              "      <td>127.602</td>\n",
              "      <td>236436</td>\n",
              "    </tr>\n",
              "    <tr>\n",
              "      <th>1</th>\n",
              "      <td>0.586</td>\n",
              "      <td>0.636</td>\n",
              "      <td>4</td>\n",
              "      <td>-7.710</td>\n",
              "      <td>0.00208</td>\n",
              "      <td>0.32200</td>\n",
              "      <td>0.1070</td>\n",
              "      <td>0.35500</td>\n",
              "      <td>136.337</td>\n",
              "      <td>253631</td>\n",
              "    </tr>\n",
              "    <tr>\n",
              "      <th>2</th>\n",
              "      <td>0.457</td>\n",
              "      <td>0.743</td>\n",
              "      <td>0</td>\n",
              "      <td>-7.591</td>\n",
              "      <td>0.40400</td>\n",
              "      <td>0.00931</td>\n",
              "      <td>0.2010</td>\n",
              "      <td>0.68800</td>\n",
              "      <td>154.902</td>\n",
              "      <td>215669</td>\n",
              "    </tr>\n",
              "    <tr>\n",
              "      <th>3</th>\n",
              "      <td>0.423</td>\n",
              "      <td>0.748</td>\n",
              "      <td>5</td>\n",
              "      <td>-9.832</td>\n",
              "      <td>0.03000</td>\n",
              "      <td>0.22100</td>\n",
              "      <td>0.1690</td>\n",
              "      <td>0.42800</td>\n",
              "      <td>93.977</td>\n",
              "      <td>325200</td>\n",
              "    </tr>\n",
              "    <tr>\n",
              "      <th>4</th>\n",
              "      <td>0.802</td>\n",
              "      <td>0.756</td>\n",
              "      <td>2</td>\n",
              "      <td>-10.791</td>\n",
              "      <td>0.08430</td>\n",
              "      <td>0.00765</td>\n",
              "      <td>0.0521</td>\n",
              "      <td>0.96300</td>\n",
              "      <td>131.715</td>\n",
              "      <td>288293</td>\n",
              "    </tr>\n",
              "  </tbody>\n",
              "</table>\n",
              "</div>"
            ],
            "text/plain": [
              "   Store_Ratio  Basket_Ratio  Category_1  ...  Score_3  Score_4    time\n",
              "0        0.164         0.994           1  ...  0.00001  127.602  236436\n",
              "1        0.586         0.636           4  ...  0.35500  136.337  253631\n",
              "2        0.457         0.743           0  ...  0.68800  154.902  215669\n",
              "3        0.423         0.748           5  ...  0.42800   93.977  325200\n",
              "4        0.802         0.756           2  ...  0.96300  131.715  288293\n",
              "\n",
              "[5 rows x 10 columns]"
            ]
          },
          "metadata": {
            "tags": []
          },
          "execution_count": 104
        }
      ]
    },
    {
      "cell_type": "code",
      "metadata": {
        "colab": {
          "base_uri": "https://localhost:8080/",
          "height": 196
        },
        "id": "Rx_6I7sxawnK",
        "outputId": "c82ec8c9-6230-4613-90ab-0adcbf2c6521"
      },
      "source": [
        "submission.head()"
      ],
      "execution_count": null,
      "outputs": [
        {
          "output_type": "execute_result",
          "data": {
            "text/html": [
              "<div>\n",
              "<style scoped>\n",
              "    .dataframe tbody tr th:only-of-type {\n",
              "        vertical-align: middle;\n",
              "    }\n",
              "\n",
              "    .dataframe tbody tr th {\n",
              "        vertical-align: top;\n",
              "    }\n",
              "\n",
              "    .dataframe thead th {\n",
              "        text-align: right;\n",
              "    }\n",
              "</style>\n",
              "<table border=\"1\" class=\"dataframe\">\n",
              "  <thead>\n",
              "    <tr style=\"text-align: right;\">\n",
              "      <th></th>\n",
              "      <th>0</th>\n",
              "      <th>1</th>\n",
              "      <th>2</th>\n",
              "      <th>3</th>\n",
              "      <th>4</th>\n",
              "    </tr>\n",
              "  </thead>\n",
              "  <tbody>\n",
              "    <tr>\n",
              "      <th>0</th>\n",
              "      <td>1</td>\n",
              "      <td>0</td>\n",
              "      <td>0</td>\n",
              "      <td>0</td>\n",
              "      <td>0</td>\n",
              "    </tr>\n",
              "    <tr>\n",
              "      <th>1</th>\n",
              "      <td>1</td>\n",
              "      <td>0</td>\n",
              "      <td>0</td>\n",
              "      <td>0</td>\n",
              "      <td>0</td>\n",
              "    </tr>\n",
              "    <tr>\n",
              "      <th>2</th>\n",
              "      <td>1</td>\n",
              "      <td>0</td>\n",
              "      <td>0</td>\n",
              "      <td>0</td>\n",
              "      <td>0</td>\n",
              "    </tr>\n",
              "    <tr>\n",
              "      <th>3</th>\n",
              "      <td>1</td>\n",
              "      <td>0</td>\n",
              "      <td>0</td>\n",
              "      <td>0</td>\n",
              "      <td>0</td>\n",
              "    </tr>\n",
              "    <tr>\n",
              "      <th>4</th>\n",
              "      <td>1</td>\n",
              "      <td>0</td>\n",
              "      <td>0</td>\n",
              "      <td>0</td>\n",
              "      <td>0</td>\n",
              "    </tr>\n",
              "  </tbody>\n",
              "</table>\n",
              "</div>"
            ],
            "text/plain": [
              "   0  1  2  3  4\n",
              "0  1  0  0  0  0\n",
              "1  1  0  0  0  0\n",
              "2  1  0  0  0  0\n",
              "3  1  0  0  0  0\n",
              "4  1  0  0  0  0"
            ]
          },
          "metadata": {
            "tags": []
          },
          "execution_count": 63
        }
      ]
    },
    {
      "cell_type": "code",
      "metadata": {
        "colab": {
          "base_uri": "https://localhost:8080/"
        },
        "id": "1diYdaKgnwHz",
        "outputId": "40c4cf6f-acff-4f80-d56a-92abcc1087e3"
      },
      "source": [
        "train.isna().sum()/train.shape[0]*100"
      ],
      "execution_count": null,
      "outputs": [
        {
          "output_type": "execute_result",
          "data": {
            "text/plain": [
              "Store_Ratio       0.0\n",
              "Basket_Ratio      0.0\n",
              "Store_Score       0.0\n",
              "Store_Presence    0.0\n",
              "Score_1           0.0\n",
              "Score_2           0.0\n",
              "Score_3           0.0\n",
              "Score_4           0.0\n",
              "time              0.0\n",
              "popularity        0.0\n",
              "dtype: float64"
            ]
          },
          "metadata": {
            "tags": []
          },
          "execution_count": 64
        }
      ]
    },
    {
      "cell_type": "code",
      "metadata": {
        "id": "W7MDcMCAnwAe"
      },
      "source": [
        "from sklearn.preprocessing import MinMaxScaler\n",
        "scaler = MinMaxScaler()"
      ],
      "execution_count": null,
      "outputs": []
    },
    {
      "cell_type": "code",
      "metadata": {
        "id": "Um12cV1e0r1p"
      },
      "source": [
        "from sklearn.preprocessing import StandardScaler\n",
        "scaler = StandardScaler()"
      ],
      "execution_count": null,
      "outputs": []
    },
    {
      "cell_type": "code",
      "metadata": {
        "id": "R0qJyNSrrnbu"
      },
      "source": [
        "col_ls = ['Store_Ratio','Basket_Ratio','Category_1','Store_Score','Category_2','Store_Presence','Score_1','Score_2','Score_3','Score_4','time']"
      ],
      "execution_count": null,
      "outputs": []
    },
    {
      "cell_type": "code",
      "metadata": {
        "id": "EABo13tanv8s"
      },
      "source": [
        "\n",
        "data[col_ls] = scaler.fit_transform(data[col_ls])"
      ],
      "execution_count": null,
      "outputs": []
    },
    {
      "cell_type": "code",
      "metadata": {
        "id": "hiO7szDinv4z"
      },
      "source": [
        "train1 = data[ data['is_train'] == 1]\n",
        "test1 = data[ data['is_train'] == 0]"
      ],
      "execution_count": null,
      "outputs": []
    },
    {
      "cell_type": "code",
      "metadata": {
        "id": "HzFkea-Dnv0h"
      },
      "source": [
        "train1.drop(['is_train'], inplace=True, axis=1)\n",
        "test1.drop(['is_train'], inplace=True, axis=1)\n",
        "test1.drop(['popularity'], inplace=True, axis=1)"
      ],
      "execution_count": null,
      "outputs": []
    },
    {
      "cell_type": "code",
      "metadata": {
        "id": "VuhdTLwtsYvn"
      },
      "source": [
        "train1 = train1[ [col for col in train1 if col!='popularity'] + ['popularity']]"
      ],
      "execution_count": null,
      "outputs": []
    },
    {
      "cell_type": "code",
      "metadata": {
        "id": "-YhCtDb2sYsW"
      },
      "source": [
        "X_train = train1.iloc[:,:-1]\n",
        "y_train = train1.iloc[:,-1]\n",
        "X_test = test1"
      ],
      "execution_count": null,
      "outputs": []
    },
    {
      "cell_type": "code",
      "metadata": {
        "colab": {
          "base_uri": "https://localhost:8080/",
          "height": 216
        },
        "id": "wO5W329Lw2AR",
        "outputId": "9ef5451e-efde-40d4-a024-1a9d0ae9cee4"
      },
      "source": [
        "X_train.head()"
      ],
      "execution_count": null,
      "outputs": [
        {
          "output_type": "execute_result",
          "data": {
            "text/html": [
              "<div>\n",
              "<style scoped>\n",
              "    .dataframe tbody tr th:only-of-type {\n",
              "        vertical-align: middle;\n",
              "    }\n",
              "\n",
              "    .dataframe tbody tr th {\n",
              "        vertical-align: top;\n",
              "    }\n",
              "\n",
              "    .dataframe thead th {\n",
              "        text-align: right;\n",
              "    }\n",
              "</style>\n",
              "<table border=\"1\" class=\"dataframe\">\n",
              "  <thead>\n",
              "    <tr style=\"text-align: right;\">\n",
              "      <th></th>\n",
              "      <th>Store_Ratio</th>\n",
              "      <th>Basket_Ratio</th>\n",
              "      <th>Category_1</th>\n",
              "      <th>Store_Score</th>\n",
              "      <th>Category_2</th>\n",
              "      <th>Store_Presence</th>\n",
              "      <th>Score_1</th>\n",
              "      <th>Score_2</th>\n",
              "      <th>Score_3</th>\n",
              "      <th>Score_4</th>\n",
              "      <th>time</th>\n",
              "    </tr>\n",
              "  </thead>\n",
              "  <tbody>\n",
              "    <tr>\n",
              "      <th>0</th>\n",
              "      <td>-0.679737</td>\n",
              "      <td>-1.597322</td>\n",
              "      <td>-0.889430</td>\n",
              "      <td>-2.843376</td>\n",
              "      <td>0.739825</td>\n",
              "      <td>1.358726</td>\n",
              "      <td>1.503121</td>\n",
              "      <td>-0.483481</td>\n",
              "      <td>-1.146339</td>\n",
              "      <td>-0.049903</td>\n",
              "      <td>-0.305674</td>\n",
              "    </tr>\n",
              "    <tr>\n",
              "      <th>1</th>\n",
              "      <td>-1.537591</td>\n",
              "      <td>-1.261883</td>\n",
              "      <td>-1.455606</td>\n",
              "      <td>-0.927775</td>\n",
              "      <td>0.739825</td>\n",
              "      <td>1.232212</td>\n",
              "      <td>1.396805</td>\n",
              "      <td>-0.263947</td>\n",
              "      <td>-1.410943</td>\n",
              "      <td>-1.243088</td>\n",
              "      <td>-0.334350</td>\n",
              "    </tr>\n",
              "    <tr>\n",
              "      <th>2</th>\n",
              "      <td>0.614482</td>\n",
              "      <td>0.796494</td>\n",
              "      <td>1.092185</td>\n",
              "      <td>0.555224</td>\n",
              "      <td>0.739825</td>\n",
              "      <td>-1.153885</td>\n",
              "      <td>-0.777855</td>\n",
              "      <td>-0.227601</td>\n",
              "      <td>0.117716</td>\n",
              "      <td>0.272818</td>\n",
              "      <td>-0.492115</td>\n",
              "    </tr>\n",
              "    <tr>\n",
              "      <th>3</th>\n",
              "      <td>-1.785526</td>\n",
              "      <td>-1.591322</td>\n",
              "      <td>-0.323255</td>\n",
              "      <td>-2.662616</td>\n",
              "      <td>0.739825</td>\n",
              "      <td>0.981821</td>\n",
              "      <td>1.471710</td>\n",
              "      <td>-0.394795</td>\n",
              "      <td>-1.315494</td>\n",
              "      <td>-1.157201</td>\n",
              "      <td>-0.361940</td>\n",
              "    </tr>\n",
              "    <tr>\n",
              "      <th>4</th>\n",
              "      <td>-1.552467</td>\n",
              "      <td>-1.175703</td>\n",
              "      <td>0.242921</td>\n",
              "      <td>-1.282343</td>\n",
              "      <td>0.739825</td>\n",
              "      <td>1.213762</td>\n",
              "      <td>-0.777855</td>\n",
              "      <td>-0.409334</td>\n",
              "      <td>-1.302227</td>\n",
              "      <td>-0.188054</td>\n",
              "      <td>-0.334416</td>\n",
              "    </tr>\n",
              "  </tbody>\n",
              "</table>\n",
              "</div>"
            ],
            "text/plain": [
              "   Store_Ratio  Basket_Ratio  Category_1  ...   Score_3   Score_4      time\n",
              "0    -0.679737     -1.597322   -0.889430  ... -1.146339 -0.049903 -0.305674\n",
              "1    -1.537591     -1.261883   -1.455606  ... -1.410943 -1.243088 -0.334350\n",
              "2     0.614482      0.796494    1.092185  ...  0.117716  0.272818 -0.492115\n",
              "3    -1.785526     -1.591322   -0.323255  ... -1.315494 -1.157201 -0.361940\n",
              "4    -1.552467     -1.175703    0.242921  ... -1.302227 -0.188054 -0.334416\n",
              "\n",
              "[5 rows x 11 columns]"
            ]
          },
          "metadata": {
            "tags": []
          },
          "execution_count": 41
        }
      ]
    },
    {
      "cell_type": "code",
      "metadata": {
        "colab": {
          "base_uri": "https://localhost:8080/"
        },
        "id": "SLydDbgz7Wgc",
        "outputId": "64c187c8-7451-461d-9e07-051966b050c6"
      },
      "source": [
        "X_train.shape"
      ],
      "execution_count": null,
      "outputs": [
        {
          "output_type": "execute_result",
          "data": {
            "text/plain": [
              "(18208, 11)"
            ]
          },
          "metadata": {
            "tags": []
          },
          "execution_count": 42
        }
      ]
    },
    {
      "cell_type": "code",
      "metadata": {
        "colab": {
          "base_uri": "https://localhost:8080/"
        },
        "id": "YAr7gr4exBTM",
        "outputId": "f43874d0-3c3d-47b5-8fbb-2beeb2afcac7"
      },
      "source": [
        "y_train.head()"
      ],
      "execution_count": null,
      "outputs": [
        {
          "output_type": "execute_result",
          "data": {
            "text/plain": [
              "0    4\n",
              "1    4\n",
              "2    4\n",
              "3    5\n",
              "4    3\n",
              "Name: popularity, dtype: object"
            ]
          },
          "metadata": {
            "tags": []
          },
          "execution_count": 43
        }
      ]
    },
    {
      "cell_type": "code",
      "metadata": {
        "colab": {
          "base_uri": "https://localhost:8080/",
          "height": 216
        },
        "id": "hYewkDRHxGop",
        "outputId": "e9305825-b470-4309-dfa7-ab1ee3dccb42"
      },
      "source": [
        "X_test.head()"
      ],
      "execution_count": null,
      "outputs": [
        {
          "output_type": "execute_result",
          "data": {
            "text/html": [
              "<div>\n",
              "<style scoped>\n",
              "    .dataframe tbody tr th:only-of-type {\n",
              "        vertical-align: middle;\n",
              "    }\n",
              "\n",
              "    .dataframe tbody tr th {\n",
              "        vertical-align: top;\n",
              "    }\n",
              "\n",
              "    .dataframe thead th {\n",
              "        text-align: right;\n",
              "    }\n",
              "</style>\n",
              "<table border=\"1\" class=\"dataframe\">\n",
              "  <thead>\n",
              "    <tr style=\"text-align: right;\">\n",
              "      <th></th>\n",
              "      <th>Store_Ratio</th>\n",
              "      <th>Basket_Ratio</th>\n",
              "      <th>Category_1</th>\n",
              "      <th>Store_Score</th>\n",
              "      <th>Category_2</th>\n",
              "      <th>Store_Presence</th>\n",
              "      <th>Score_1</th>\n",
              "      <th>Score_2</th>\n",
              "      <th>Score_3</th>\n",
              "      <th>Score_4</th>\n",
              "      <th>time</th>\n",
              "    </tr>\n",
              "  </thead>\n",
              "  <tbody>\n",
              "    <tr>\n",
              "      <th>0</th>\n",
              "      <td>-1.884700</td>\n",
              "      <td>1.684811</td>\n",
              "      <td>-1.172518</td>\n",
              "      <td>-1.387347</td>\n",
              "      <td>-1.351671</td>\n",
              "      <td>-0.929060</td>\n",
              "      <td>1.616687</td>\n",
              "      <td>4.533800</td>\n",
              "      <td>-1.551685</td>\n",
              "      <td>0.384805</td>\n",
              "      <td>0.213743</td>\n",
              "    </tr>\n",
              "    <tr>\n",
              "      <th>1</th>\n",
              "      <td>0.207869</td>\n",
              "      <td>0.498178</td>\n",
              "      <td>-0.323255</td>\n",
              "      <td>0.531491</td>\n",
              "      <td>0.739825</td>\n",
              "      <td>-1.250404</td>\n",
              "      <td>0.000190</td>\n",
              "      <td>-0.423872</td>\n",
              "      <td>-0.243443</td>\n",
              "      <td>0.662153</td>\n",
              "      <td>0.402523</td>\n",
              "    </tr>\n",
              "    <tr>\n",
              "      <th>2</th>\n",
              "      <td>-0.431803</td>\n",
              "      <td>0.852842</td>\n",
              "      <td>-1.455606</td>\n",
              "      <td>0.545755</td>\n",
              "      <td>0.739825</td>\n",
              "      <td>-0.191064</td>\n",
              "      <td>-0.755360</td>\n",
              "      <td>0.259443</td>\n",
              "      <td>0.983759</td>\n",
              "      <td>1.251617</td>\n",
              "      <td>-0.014253</td>\n",
              "    </tr>\n",
              "    <tr>\n",
              "      <th>3</th>\n",
              "      <td>-0.600398</td>\n",
              "      <td>0.869415</td>\n",
              "      <td>-0.040167</td>\n",
              "      <td>0.277132</td>\n",
              "      <td>0.739825</td>\n",
              "      <td>-1.176815</td>\n",
              "      <td>-0.243855</td>\n",
              "      <td>0.026825</td>\n",
              "      <td>0.025583</td>\n",
              "      <td>-0.682835</td>\n",
              "      <td>1.188263</td>\n",
              "    </tr>\n",
              "    <tr>\n",
              "      <th>4</th>\n",
              "      <td>1.278947</td>\n",
              "      <td>0.895932</td>\n",
              "      <td>-0.889430</td>\n",
              "      <td>0.162179</td>\n",
              "      <td>-1.351671</td>\n",
              "      <td>-1.033697</td>\n",
              "      <td>-0.759371</td>\n",
              "      <td>-0.822958</td>\n",
              "      <td>1.997215</td>\n",
              "      <td>0.515398</td>\n",
              "      <td>0.783069</td>\n",
              "    </tr>\n",
              "  </tbody>\n",
              "</table>\n",
              "</div>"
            ],
            "text/plain": [
              "   Store_Ratio  Basket_Ratio  Category_1  ...   Score_3   Score_4      time\n",
              "0    -1.884700      1.684811   -1.172518  ... -1.551685  0.384805  0.213743\n",
              "1     0.207869      0.498178   -0.323255  ... -0.243443  0.662153  0.402523\n",
              "2    -0.431803      0.852842   -1.455606  ...  0.983759  1.251617 -0.014253\n",
              "3    -0.600398      0.869415   -0.040167  ...  0.025583 -0.682835  1.188263\n",
              "4     1.278947      0.895932   -0.889430  ...  1.997215  0.515398  0.783069\n",
              "\n",
              "[5 rows x 11 columns]"
            ]
          },
          "metadata": {
            "tags": []
          },
          "execution_count": 44
        }
      ]
    },
    {
      "cell_type": "code",
      "metadata": {
        "colab": {
          "base_uri": "https://localhost:8080/"
        },
        "id": "BkgSAicE7bw9",
        "outputId": "95a24cee-bf66-4c99-cc71-f774a711b263"
      },
      "source": [
        "X_test.shape"
      ],
      "execution_count": null,
      "outputs": [
        {
          "output_type": "execute_result",
          "data": {
            "text/plain": [
              "(12140, 11)"
            ]
          },
          "metadata": {
            "tags": []
          },
          "execution_count": 45
        }
      ]
    },
    {
      "cell_type": "code",
      "metadata": {
        "id": "pm9k43B3sYoy"
      },
      "source": [
        "from sklearn.ensemble import RandomForestRegressor\n",
        "\n",
        "model = RandomForestRegressor(bootstrap=True, ccp_alpha=0.0, criterion='mse',\n",
        "                      max_depth=5, max_features='auto', max_leaf_nodes=None,\n",
        "                      max_samples=None, min_impurity_decrease=0.0,\n",
        "                      min_impurity_split=None, min_samples_leaf=1,\n",
        "                      min_samples_split=2, min_weight_fraction_leaf=0,\n",
        "                      n_estimators=150, n_jobs=None, oob_score=False,\n",
        "                      random_state=None, verbose=0, warm_start=False)"
      ],
      "execution_count": null,
      "outputs": []
    },
    {
      "cell_type": "code",
      "metadata": {
        "id": "BOZp2OAgsYlb"
      },
      "source": [
        "model.fit(X_train, y_train)\n",
        "y_pred = model.predict(X_test)"
      ],
      "execution_count": null,
      "outputs": []
    },
    {
      "cell_type": "code",
      "metadata": {
        "id": "LFxTJmj717sg"
      },
      "source": [
        "submit = pd.DataFrame() "
      ],
      "execution_count": null,
      "outputs": []
    },
    {
      "cell_type": "code",
      "metadata": {
        "id": "6XxLf8-z17nq"
      },
      "source": [
        "submit.insert(0, \"0\",y_pred, True) "
      ],
      "execution_count": null,
      "outputs": []
    },
    {
      "cell_type": "code",
      "metadata": {
        "id": "2taWCkox3RSc"
      },
      "source": [
        "submit.insert(1, \"1\",y_pred, True)"
      ],
      "execution_count": null,
      "outputs": []
    },
    {
      "cell_type": "code",
      "metadata": {
        "id": "CGtQcqJX3RIW"
      },
      "source": [
        "submit.insert(2, \"2\", y_pred, True)"
      ],
      "execution_count": null,
      "outputs": []
    },
    {
      "cell_type": "code",
      "metadata": {
        "id": "Sp7J4lvk3Q-u"
      },
      "source": [
        "submit.insert(3, \"3\", y_pred, True)"
      ],
      "execution_count": null,
      "outputs": []
    },
    {
      "cell_type": "code",
      "metadata": {
        "id": "bXQSiv4p3Y5w"
      },
      "source": [
        "submit.insert(4, \"4\", y_pred, True)"
      ],
      "execution_count": null,
      "outputs": []
    },
    {
      "cell_type": "code",
      "metadata": {
        "colab": {
          "base_uri": "https://localhost:8080/",
          "height": 404
        },
        "id": "gdWGnnpysYgj",
        "outputId": "8dc8f6e4-eaab-4e20-e801-411fcddd9b47"
      },
      "source": [
        "submit"
      ],
      "execution_count": null,
      "outputs": [
        {
          "output_type": "execute_result",
          "data": {
            "text/html": [
              "<div>\n",
              "<style scoped>\n",
              "    .dataframe tbody tr th:only-of-type {\n",
              "        vertical-align: middle;\n",
              "    }\n",
              "\n",
              "    .dataframe tbody tr th {\n",
              "        vertical-align: top;\n",
              "    }\n",
              "\n",
              "    .dataframe thead th {\n",
              "        text-align: right;\n",
              "    }\n",
              "</style>\n",
              "<table border=\"1\" class=\"dataframe\">\n",
              "  <thead>\n",
              "    <tr style=\"text-align: right;\">\n",
              "      <th></th>\n",
              "      <th>0</th>\n",
              "      <th>1</th>\n",
              "      <th>2</th>\n",
              "      <th>3</th>\n",
              "      <th>4</th>\n",
              "    </tr>\n",
              "  </thead>\n",
              "  <tbody>\n",
              "    <tr>\n",
              "      <th>0</th>\n",
              "      <td>3.465590</td>\n",
              "      <td>3.465590</td>\n",
              "      <td>3.465590</td>\n",
              "      <td>3.465590</td>\n",
              "      <td>3.465590</td>\n",
              "    </tr>\n",
              "    <tr>\n",
              "      <th>1</th>\n",
              "      <td>3.963696</td>\n",
              "      <td>3.963696</td>\n",
              "      <td>3.963696</td>\n",
              "      <td>3.963696</td>\n",
              "      <td>3.963696</td>\n",
              "    </tr>\n",
              "    <tr>\n",
              "      <th>2</th>\n",
              "      <td>3.925851</td>\n",
              "      <td>3.925851</td>\n",
              "      <td>3.925851</td>\n",
              "      <td>3.925851</td>\n",
              "      <td>3.925851</td>\n",
              "    </tr>\n",
              "    <tr>\n",
              "      <th>3</th>\n",
              "      <td>3.911881</td>\n",
              "      <td>3.911881</td>\n",
              "      <td>3.911881</td>\n",
              "      <td>3.911881</td>\n",
              "      <td>3.911881</td>\n",
              "    </tr>\n",
              "    <tr>\n",
              "      <th>4</th>\n",
              "      <td>3.980546</td>\n",
              "      <td>3.980546</td>\n",
              "      <td>3.980546</td>\n",
              "      <td>3.980546</td>\n",
              "      <td>3.980546</td>\n",
              "    </tr>\n",
              "    <tr>\n",
              "      <th>...</th>\n",
              "      <td>...</td>\n",
              "      <td>...</td>\n",
              "      <td>...</td>\n",
              "      <td>...</td>\n",
              "      <td>...</td>\n",
              "    </tr>\n",
              "    <tr>\n",
              "      <th>12135</th>\n",
              "      <td>3.582961</td>\n",
              "      <td>3.582961</td>\n",
              "      <td>3.582961</td>\n",
              "      <td>3.582961</td>\n",
              "      <td>3.582961</td>\n",
              "    </tr>\n",
              "    <tr>\n",
              "      <th>12136</th>\n",
              "      <td>3.981888</td>\n",
              "      <td>3.981888</td>\n",
              "      <td>3.981888</td>\n",
              "      <td>3.981888</td>\n",
              "      <td>3.981888</td>\n",
              "    </tr>\n",
              "    <tr>\n",
              "      <th>12137</th>\n",
              "      <td>3.967888</td>\n",
              "      <td>3.967888</td>\n",
              "      <td>3.967888</td>\n",
              "      <td>3.967888</td>\n",
              "      <td>3.967888</td>\n",
              "    </tr>\n",
              "    <tr>\n",
              "      <th>12138</th>\n",
              "      <td>3.951696</td>\n",
              "      <td>3.951696</td>\n",
              "      <td>3.951696</td>\n",
              "      <td>3.951696</td>\n",
              "      <td>3.951696</td>\n",
              "    </tr>\n",
              "    <tr>\n",
              "      <th>12139</th>\n",
              "      <td>3.613927</td>\n",
              "      <td>3.613927</td>\n",
              "      <td>3.613927</td>\n",
              "      <td>3.613927</td>\n",
              "      <td>3.613927</td>\n",
              "    </tr>\n",
              "  </tbody>\n",
              "</table>\n",
              "<p>12140 rows × 5 columns</p>\n",
              "</div>"
            ],
            "text/plain": [
              "              0         1         2         3         4\n",
              "0      3.465590  3.465590  3.465590  3.465590  3.465590\n",
              "1      3.963696  3.963696  3.963696  3.963696  3.963696\n",
              "2      3.925851  3.925851  3.925851  3.925851  3.925851\n",
              "3      3.911881  3.911881  3.911881  3.911881  3.911881\n",
              "4      3.980546  3.980546  3.980546  3.980546  3.980546\n",
              "...         ...       ...       ...       ...       ...\n",
              "12135  3.582961  3.582961  3.582961  3.582961  3.582961\n",
              "12136  3.981888  3.981888  3.981888  3.981888  3.981888\n",
              "12137  3.967888  3.967888  3.967888  3.967888  3.967888\n",
              "12138  3.951696  3.951696  3.951696  3.951696  3.951696\n",
              "12139  3.613927  3.613927  3.613927  3.613927  3.613927\n",
              "\n",
              "[12140 rows x 5 columns]"
            ]
          },
          "metadata": {
            "tags": []
          },
          "execution_count": 57
        }
      ]
    },
    {
      "cell_type": "code",
      "metadata": {
        "colab": {
          "base_uri": "https://localhost:8080/",
          "height": 47
        },
        "id": "OABS4QJTtZAI",
        "outputId": "a5c337a3-f516-4f69-aabd-c9310339596b"
      },
      "source": [
        "\n",
        "submit.to_csv(\"submit.csv\",index=None)\n",
        "submit"
      ],
      "execution_count": null,
      "outputs": [
        {
          "output_type": "execute_result",
          "data": {
            "text/html": [
              "<div>\n",
              "<style scoped>\n",
              "    .dataframe tbody tr th:only-of-type {\n",
              "        vertical-align: middle;\n",
              "    }\n",
              "\n",
              "    .dataframe tbody tr th {\n",
              "        vertical-align: top;\n",
              "    }\n",
              "\n",
              "    .dataframe thead th {\n",
              "        text-align: right;\n",
              "    }\n",
              "</style>\n",
              "<table border=\"1\" class=\"dataframe\">\n",
              "  <thead>\n",
              "    <tr style=\"text-align: right;\">\n",
              "      <th></th>\n",
              "      <th>0</th>\n",
              "      <th>1</th>\n",
              "      <th>2</th>\n",
              "      <th>3</th>\n",
              "      <th>4</th>\n",
              "    </tr>\n",
              "  </thead>\n",
              "  <tbody>\n",
              "  </tbody>\n",
              "</table>\n",
              "</div>"
            ],
            "text/plain": [
              "Empty DataFrame\n",
              "Columns: [0, 1, 2, 3, 4]\n",
              "Index: []"
            ]
          },
          "metadata": {
            "tags": []
          },
          "execution_count": 224
        }
      ]
    },
    {
      "cell_type": "code",
      "metadata": {
        "id": "v1Lm-iMfs2jV"
      },
      "source": [
        "# Separating dependent-independent variables\n",
        "X = df1.drop('popularity',axis=1)\n",
        "y = df1['popularity']"
      ],
      "execution_count": null,
      "outputs": []
    },
    {
      "cell_type": "code",
      "metadata": {
        "id": "g1PcDMwGtDbH"
      },
      "source": [
        "from sklearn.preprocessing import StandardScaler\n",
        "scaler = StandardScaler()\n",
        "X_ = scaler.fit_transform(X)\n",
        "X = pd.DataFrame(X_,columns=X.columns)\n"
      ],
      "execution_count": null,
      "outputs": []
    },
    {
      "cell_type": "code",
      "metadata": {
        "colab": {
          "base_uri": "https://localhost:8080/",
          "height": 662
        },
        "id": "cFhSpMFAta6t",
        "outputId": "e4a37331-0428-47ff-b80e-3e9ade8245ed"
      },
      "source": [
        "# Correlation matrix\n",
        "plt.figure(figsize=(17,10))\n",
        "sns.heatmap(train.corr(method='spearman').round(2),linewidth = 0.5,annot=True,cmap=\"YlGnBu\")\n",
        "plt.show()"
      ],
      "execution_count": null,
      "outputs": [
        {
          "output_type": "display_data",
          "data": {
            "image/png": "[encoded data removed]",
            "text/plain": [
              "<Figure size 1224x720 with 2 Axes>"
            ]
          },
          "metadata": {
            "tags": [],
            "needs_background": "light"
          }
        }
      ]
    },
    {
      "cell_type": "code",
      "metadata": {
        "colab": {
          "base_uri": "https://localhost:8080/"
        },
        "id": "GGWhyLp-9blM",
        "outputId": "2b15d94a-b957-4306-ba58-c9f4497ef81c"
      },
      "source": [
        "from sklearn.ensemble import RandomForestClassifier\n",
        "from sklearn.datasets import make_classification\n",
        "X_train,y_train= make_classification(n_samples=1000, n_features=11,\n",
        "                         n_informative=2, n_redundant=0,\n",
        "                           random_state=0, shuffle=False)\n",
        "clf = RandomForestClassifier(max_depth=2, random_state=0)\n",
        "clf.fit(X_train, y_train)\n"
      ],
      "execution_count": null,
      "outputs": [
        {
          "output_type": "execute_result",
          "data": {
            "text/plain": [
              "RandomForestClassifier(bootstrap=True, ccp_alpha=0.0, class_weight=None,\n",
              "                       criterion='gini', max_depth=2, max_features='auto',\n",
              "                       max_leaf_nodes=None, max_samples=None,\n",
              "                       min_impurity_decrease=0.0, min_impurity_split=None,\n",
              "                       min_samples_leaf=1, min_samples_split=2,\n",
              "                       min_weight_fraction_leaf=0.0, n_estimators=100,\n",
              "                       n_jobs=None, oob_score=False, random_state=0, verbose=0,\n",
              "                       warm_start=False)"
            ]
          },
          "metadata": {
            "tags": []
          },
          "execution_count": 75
        }
      ]
    },
    {
      "cell_type": "code",
      "metadata": {
        "id": "fsTlXa8n9veP"
      },
      "source": [
        "y_pre_cl=clf.predict(X_test)"
      ],
      "execution_count": null,
      "outputs": []
    },
    {
      "cell_type": "code",
      "metadata": {
        "id": "iEzev7_T-ecA"
      },
      "source": [
        "Y_pre_prb=clf.predict(X_test)"
      ],
      "execution_count": null,
      "outputs": []
    },
    {
      "cell_type": "code",
      "metadata": {
        "id": "iaTjaCCq_Vii"
      },
      "source": [
        " Y_pre_prb=(np.array(Y_pre_prb))"
      ],
      "execution_count": null,
      "outputs": []
    },
    {
      "cell_type": "code",
      "metadata": {
        "colab": {
          "base_uri": "https://localhost:8080/"
        },
        "id": "eWlHxnv4t1RN",
        "outputId": "355bac78-153e-44ff-d7d7-aaebd1277300"
      },
      "source": [
        "# importing decision tree classifier \n",
        "from sklearn.tree import DecisionTreeClassifier\n",
        "\n",
        "# creating the decision tree function\n",
        "model_dt = DecisionTreeClassifier(random_state=10,criterion='gini')\n",
        "\n",
        "#fitting the model\n",
        "model_dt.fit(X_train,y_train)\n",
        "\n",
        "# depth of the decision tree\n",
        "print('Depth of the Decision Tree: ', model_dt.get_depth())\n",
        "\n",
        "#checking the training score\n",
        "print('Accuracy on training: ',model_dt.score(X_train, y_train))\n",
        "\n",
        "# predict the target on the train dataset\n",
        "y_dt = model_dt.predict(X_test)\n",
        "\n",
        "from sklearn.metrics import confusion_matrix\n",
        "#cm1 = confusion_matrix(X_test, y_dt)\n",
        "print('-------The confusion matrix for this model is-------')\n",
        "#print(cm1)\n",
        "\n",
        "from sklearn.metrics import classification_report\n",
        "print('\\n\\n-------Printing the whole report of the model-------')\n",
        "#print(classification_report(X_test, y_dt))"
      ],
      "execution_count": null,
      "outputs": [
        {
          "output_type": "stream",
          "text": [
            "Depth of the Decision Tree:  10\n",
            "Accuracy on training:  1.0\n",
            "-------The confusion matrix for this model is-------\n",
            "\n",
            "\n",
            "-------Printing the whole report of the model-------\n"
          ],
          "name": "stdout"
        }
      ]
    },
    {
      "cell_type": "code",
      "metadata": {
        "id": "_P84fhHu7i8f"
      },
      "source": [
        "submit = pd.DataFrame() "
      ],
      "execution_count": null,
      "outputs": []
    },
    {
      "cell_type": "code",
      "metadata": {
        "id": "J_rmpkI97h4_"
      },
      "source": [
        "submit.insert(0, \"0\",y_dt, True)"
      ],
      "execution_count": null,
      "outputs": []
    },
    {
      "cell_type": "code",
      "metadata": {
        "id": "zEGA8nZa71Tu"
      },
      "source": [
        "submit.insert(1, \"1\",y_dt, True)"
      ],
      "execution_count": null,
      "outputs": []
    },
    {
      "cell_type": "code",
      "metadata": {
        "id": "2V9mi6sN71Kl"
      },
      "source": [
        "submit.insert(2, \"2\",y_dt, True)"
      ],
      "execution_count": null,
      "outputs": []
    },
    {
      "cell_type": "code",
      "metadata": {
        "id": "V5HWAyp-71Bu"
      },
      "source": [
        "submit.insert(3, \"3\",y_dt, True)"
      ],
      "execution_count": null,
      "outputs": []
    },
    {
      "cell_type": "code",
      "metadata": {
        "id": "Bt-L9wFL704Z"
      },
      "source": [
        "submit.insert(4, \"4\",y_dt, True)"
      ],
      "execution_count": null,
      "outputs": []
    },
    {
      "cell_type": "code",
      "metadata": {
        "colab": {
          "base_uri": "https://localhost:8080/",
          "height": 404
        },
        "id": "lEkt56Qi8CY_",
        "outputId": "64b8eb47-2db8-40d3-b337-d8f5267b605e"
      },
      "source": [
        "submit"
      ],
      "execution_count": null,
      "outputs": [
        {
          "output_type": "execute_result",
          "data": {
            "text/html": [
              "<div>\n",
              "<style scoped>\n",
              "    .dataframe tbody tr th:only-of-type {\n",
              "        vertical-align: middle;\n",
              "    }\n",
              "\n",
              "    .dataframe tbody tr th {\n",
              "        vertical-align: top;\n",
              "    }\n",
              "\n",
              "    .dataframe thead th {\n",
              "        text-align: right;\n",
              "    }\n",
              "</style>\n",
              "<table border=\"1\" class=\"dataframe\">\n",
              "  <thead>\n",
              "    <tr style=\"text-align: right;\">\n",
              "      <th></th>\n",
              "      <th>0</th>\n",
              "      <th>1</th>\n",
              "      <th>2</th>\n",
              "      <th>3</th>\n",
              "      <th>4</th>\n",
              "    </tr>\n",
              "  </thead>\n",
              "  <tbody>\n",
              "    <tr>\n",
              "      <th>0</th>\n",
              "      <td>1</td>\n",
              "      <td>1</td>\n",
              "      <td>1</td>\n",
              "      <td>1</td>\n",
              "      <td>1</td>\n",
              "    </tr>\n",
              "    <tr>\n",
              "      <th>1</th>\n",
              "      <td>1</td>\n",
              "      <td>1</td>\n",
              "      <td>1</td>\n",
              "      <td>1</td>\n",
              "      <td>1</td>\n",
              "    </tr>\n",
              "    <tr>\n",
              "      <th>2</th>\n",
              "      <td>1</td>\n",
              "      <td>1</td>\n",
              "      <td>1</td>\n",
              "      <td>1</td>\n",
              "      <td>1</td>\n",
              "    </tr>\n",
              "    <tr>\n",
              "      <th>3</th>\n",
              "      <td>1</td>\n",
              "      <td>1</td>\n",
              "      <td>1</td>\n",
              "      <td>1</td>\n",
              "      <td>1</td>\n",
              "    </tr>\n",
              "    <tr>\n",
              "      <th>4</th>\n",
              "      <td>1</td>\n",
              "      <td>1</td>\n",
              "      <td>1</td>\n",
              "      <td>1</td>\n",
              "      <td>1</td>\n",
              "    </tr>\n",
              "    <tr>\n",
              "      <th>...</th>\n",
              "      <td>...</td>\n",
              "      <td>...</td>\n",
              "      <td>...</td>\n",
              "      <td>...</td>\n",
              "      <td>...</td>\n",
              "    </tr>\n",
              "    <tr>\n",
              "      <th>12135</th>\n",
              "      <td>0</td>\n",
              "      <td>0</td>\n",
              "      <td>0</td>\n",
              "      <td>0</td>\n",
              "      <td>0</td>\n",
              "    </tr>\n",
              "    <tr>\n",
              "      <th>12136</th>\n",
              "      <td>1</td>\n",
              "      <td>1</td>\n",
              "      <td>1</td>\n",
              "      <td>1</td>\n",
              "      <td>1</td>\n",
              "    </tr>\n",
              "    <tr>\n",
              "      <th>12137</th>\n",
              "      <td>1</td>\n",
              "      <td>1</td>\n",
              "      <td>1</td>\n",
              "      <td>1</td>\n",
              "      <td>1</td>\n",
              "    </tr>\n",
              "    <tr>\n",
              "      <th>12138</th>\n",
              "      <td>1</td>\n",
              "      <td>1</td>\n",
              "      <td>1</td>\n",
              "      <td>1</td>\n",
              "      <td>1</td>\n",
              "    </tr>\n",
              "    <tr>\n",
              "      <th>12139</th>\n",
              "      <td>0</td>\n",
              "      <td>0</td>\n",
              "      <td>0</td>\n",
              "      <td>0</td>\n",
              "      <td>0</td>\n",
              "    </tr>\n",
              "  </tbody>\n",
              "</table>\n",
              "<p>12140 rows × 5 columns</p>\n",
              "</div>"
            ],
            "text/plain": [
              "       0  1  2  3  4\n",
              "0      1  1  1  1  1\n",
              "1      1  1  1  1  1\n",
              "2      1  1  1  1  1\n",
              "3      1  1  1  1  1\n",
              "4      1  1  1  1  1\n",
              "...   .. .. .. .. ..\n",
              "12135  0  0  0  0  0\n",
              "12136  1  1  1  1  1\n",
              "12137  1  1  1  1  1\n",
              "12138  1  1  1  1  1\n",
              "12139  0  0  0  0  0\n",
              "\n",
              "[12140 rows x 5 columns]"
            ]
          },
          "metadata": {
            "tags": []
          },
          "execution_count": 84
        }
      ]
    },
    {
      "cell_type": "code",
      "metadata": {
        "colab": {
          "base_uri": "https://localhost:8080/"
        },
        "id": "uVQuXO5n8KR7",
        "outputId": "6a7ec8ed-b980-4e41-9aef-1ffcb0fe0a24"
      },
      "source": [
        "submit.nunique().sum()"
      ],
      "execution_count": null,
      "outputs": [
        {
          "output_type": "execute_result",
          "data": {
            "text/plain": [
              "10"
            ]
          },
          "metadata": {
            "tags": []
          },
          "execution_count": 90
        }
      ]
    },
    {
      "cell_type": "code",
      "metadata": {
        "colab": {
          "base_uri": "https://localhost:8080/",
          "height": 404
        },
        "id": "nZkYJnWd8CTK",
        "outputId": "265939ad-373a-4267-b56b-5d70ef206cf1"
      },
      "source": [
        "\n",
        "submit.to_csv(\"submit_dt.csv\",index=None)\n",
        "submit"
      ],
      "execution_count": null,
      "outputs": [
        {
          "output_type": "execute_result",
          "data": {
            "text/html": [
              "<div>\n",
              "<style scoped>\n",
              "    .dataframe tbody tr th:only-of-type {\n",
              "        vertical-align: middle;\n",
              "    }\n",
              "\n",
              "    .dataframe tbody tr th {\n",
              "        vertical-align: top;\n",
              "    }\n",
              "\n",
              "    .dataframe thead th {\n",
              "        text-align: right;\n",
              "    }\n",
              "</style>\n",
              "<table border=\"1\" class=\"dataframe\">\n",
              "  <thead>\n",
              "    <tr style=\"text-align: right;\">\n",
              "      <th></th>\n",
              "      <th>0</th>\n",
              "      <th>1</th>\n",
              "      <th>2</th>\n",
              "      <th>3</th>\n",
              "      <th>4</th>\n",
              "    </tr>\n",
              "  </thead>\n",
              "  <tbody>\n",
              "    <tr>\n",
              "      <th>0</th>\n",
              "      <td>1</td>\n",
              "      <td>1</td>\n",
              "      <td>1</td>\n",
              "      <td>1</td>\n",
              "      <td>1</td>\n",
              "    </tr>\n",
              "    <tr>\n",
              "      <th>1</th>\n",
              "      <td>1</td>\n",
              "      <td>1</td>\n",
              "      <td>1</td>\n",
              "      <td>1</td>\n",
              "      <td>1</td>\n",
              "    </tr>\n",
              "    <tr>\n",
              "      <th>2</th>\n",
              "      <td>1</td>\n",
              "      <td>1</td>\n",
              "      <td>1</td>\n",
              "      <td>1</td>\n",
              "      <td>1</td>\n",
              "    </tr>\n",
              "    <tr>\n",
              "      <th>3</th>\n",
              "      <td>1</td>\n",
              "      <td>1</td>\n",
              "      <td>1</td>\n",
              "      <td>1</td>\n",
              "      <td>1</td>\n",
              "    </tr>\n",
              "    <tr>\n",
              "      <th>4</th>\n",
              "      <td>1</td>\n",
              "      <td>1</td>\n",
              "      <td>1</td>\n",
              "      <td>1</td>\n",
              "      <td>1</td>\n",
              "    </tr>\n",
              "    <tr>\n",
              "      <th>...</th>\n",
              "      <td>...</td>\n",
              "      <td>...</td>\n",
              "      <td>...</td>\n",
              "      <td>...</td>\n",
              "      <td>...</td>\n",
              "    </tr>\n",
              "    <tr>\n",
              "      <th>12135</th>\n",
              "      <td>0</td>\n",
              "      <td>0</td>\n",
              "      <td>0</td>\n",
              "      <td>0</td>\n",
              "      <td>0</td>\n",
              "    </tr>\n",
              "    <tr>\n",
              "      <th>12136</th>\n",
              "      <td>1</td>\n",
              "      <td>1</td>\n",
              "      <td>1</td>\n",
              "      <td>1</td>\n",
              "      <td>1</td>\n",
              "    </tr>\n",
              "    <tr>\n",
              "      <th>12137</th>\n",
              "      <td>1</td>\n",
              "      <td>1</td>\n",
              "      <td>1</td>\n",
              "      <td>1</td>\n",
              "      <td>1</td>\n",
              "    </tr>\n",
              "    <tr>\n",
              "      <th>12138</th>\n",
              "      <td>1</td>\n",
              "      <td>1</td>\n",
              "      <td>1</td>\n",
              "      <td>1</td>\n",
              "      <td>1</td>\n",
              "    </tr>\n",
              "    <tr>\n",
              "      <th>12139</th>\n",
              "      <td>0</td>\n",
              "      <td>0</td>\n",
              "      <td>0</td>\n",
              "      <td>0</td>\n",
              "      <td>0</td>\n",
              "    </tr>\n",
              "  </tbody>\n",
              "</table>\n",
              "<p>12140 rows × 5 columns</p>\n",
              "</div>"
            ],
            "text/plain": [
              "       0  1  2  3  4\n",
              "0      1  1  1  1  1\n",
              "1      1  1  1  1  1\n",
              "2      1  1  1  1  1\n",
              "3      1  1  1  1  1\n",
              "4      1  1  1  1  1\n",
              "...   .. .. .. .. ..\n",
              "12135  0  0  0  0  0\n",
              "12136  1  1  1  1  1\n",
              "12137  1  1  1  1  1\n",
              "12138  1  1  1  1  1\n",
              "12139  0  0  0  0  0\n",
              "\n",
              "[12140 rows x 5 columns]"
            ]
          },
          "metadata": {
            "tags": []
          },
          "execution_count": 91
        }
      ]
    },
    {
      "cell_type": "code",
      "metadata": {
        "id": "-tv_KfeMt5OO"
      },
      "source": [
        "X1 = train_dt1_x.copy()\n",
        "y1 = pd.DataFrame({'pop':train_dt1_y})"
      ],
      "execution_count": null,
      "outputs": []
    },
    {
      "cell_type": "code",
      "metadata": {
        "colab": {
          "base_uri": "https://localhost:8080/"
        },
        "id": "lMQDEhKIuaDk",
        "outputId": "bcd78695-fae3-497a-dcb8-fdf84e685ff4"
      },
      "source": [
        "\n",
        "parameter_grid = {\n",
        "    'max_depth' : [24,25,26,27,28,29,30],\n",
        "    'max_features': [0.3, 0.5, 0.7]\n",
        "    }\n",
        "\n",
        "from sklearn.model_selection import GridSearchCV\n",
        "gridsearch = GridSearchCV(estimator=model_dt1, param_grid=parameter_grid, scoring='neg_mean_squared_error', cv=5)\n",
        "\n",
        "gridsearch.fit(X1, y1)\n",
        "\n",
        "print(gridsearch.best_params_)"
      ],
      "execution_count": null,
      "outputs": [
        {
          "output_type": "stream",
          "text": [
            "{'max_depth': 30, 'max_features': 0.3}\n"
          ],
          "name": "stdout"
        }
      ]
    },
    {
      "cell_type": "code",
      "metadata": {
        "colab": {
          "base_uri": "https://localhost:8080/"
        },
        "id": "B4sFEPqiufHn",
        "outputId": "4f752c02-d4d5-4096-893e-5d7e0f410891"
      },
      "source": [
        "\n",
        "parameter_grid = {\n",
        "    'max_depth' : [24,25,26,27,28,29,30],\n",
        "    'max_features': [0.3, 0.5, 0.7,0.9]\n",
        "    }\n",
        "\n",
        "from sklearn.model_selection import RandomizedSearchCV\n",
        "\n",
        "randomsearch = RandomizedSearchCV(estimator=model_dt1, param_distributions=parameter_grid, n_iter= 10, cv=5)\n",
        "randomsearch.fit(X1, y1)\n",
        "\n",
        "print(randomsearch.best_params_)"
      ],
      "execution_count": null,
      "outputs": [
        {
          "output_type": "stream",
          "text": [
            "{'max_features': 0.3, 'max_depth': 30}\n"
          ],
          "name": "stdout"
        }
      ]
    },
    {
      "cell_type": "code",
      "metadata": {
        "colab": {
          "base_uri": "https://localhost:8080/"
        },
        "id": "h-vAWqLCujWu",
        "outputId": "01a9d0fc-cb30-4928-8309-b008286f8c0a"
      },
      "source": [
        "# final model\n",
        "model_dt1 = DecisionTreeClassifier(max_depth=30, max_features=0.3 ,random_state=10)\n",
        "\n",
        "# fitting the model\n",
        "model_dt1.fit(train_dt1_x, train_dt1_y)\n",
        "\n",
        "# Training score\n",
        "print(model_dt1.score(train_dt1_x, train_dt1_y).round(4))"
      ],
      "execution_count": null,
      "outputs": [
        {
          "output_type": "stream",
          "text": [
            "0.9992\n"
          ],
          "name": "stdout"
        }
      ]
    },
    {
      "cell_type": "code",
      "metadata": {
        "colab": {
          "base_uri": "https://localhost:8080/",
          "height": 779
        },
        "id": "Cvf8ngRVutLQ",
        "outputId": "d5e9f3b3-fc70-418d-e9d3-0ee75eaf2fab"
      },
      "source": [
        "from sklearn import tree\n",
        "\n",
        "fig = plt.figure(figsize=(25,20))\n",
        "_ = tree.plot_tree(model_dt1, feature_names=train_dt1_x.columns, max_depth=2, filled=True)"
      ],
      "execution_count": null,
      "outputs": [
        {
          "output_type": "display_data",
          "data": {
            "image/png": "[encoded data removed]",
            "text/plain": [
              "<Figure size 1800x1440 with 1 Axes>"
            ]
          },
          "metadata": {
            "tags": [],
            "needs_background": "light"
          }
        }
      ]
    },
    {
      "cell_type": "markdown",
      "metadata": {
        "id": "jwQKrhBgLbLr"
      },
      "source": [
        "**Skip Above models **"
      ]
    },
    {
      "cell_type": "markdown",
      "metadata": {
        "id": "BqNBn1gOLLlQ"
      },
      "source": [
        "**Logistic Regression**"
      ]
    },
    {
      "cell_type": "code",
      "metadata": {
        "colab": {
          "base_uri": "https://localhost:8080/"
        },
        "id": "9L4NHc4Q7Jas",
        "outputId": "9e267dd6-57ab-48af-8f23-9b6bc3e7ee0c"
      },
      "source": [
        "X = train.drop('popularity',axis=1)\n",
        "Y = train['popularity']\n",
        "\n",
        "from sklearn.preprocessing import StandardScaler\n",
        "scaler = StandardScaler()\n",
        "X_ = scaler.fit_transform(X)\n",
        "X = pd.DataFrame(X_,columns=X.columns)\n",
        "\n",
        "folds = StratifiedKFold(n_splits=5,shuffle=True ,random_state=42)\n",
        "\n",
        "oof_preds = []\n",
        "oof_scores = []\n",
        "\n",
        "for i , (train_idx,test_idx) in enumerate(folds.split(X,Y)):\n",
        "  train_set = (X.iloc[train_idx],Y.iloc[train_idx])\n",
        "  test_set = (X.iloc[test_idx],Y.iloc[test_idx])\n",
        "\n",
        "  model = LogisticRegression(max_iter=5000)\n",
        "  model.fit(*train_set)\n",
        "\n",
        "  preds = model.predict_proba(test_set[0])\n",
        "  score = log_loss(test_set[1],preds)\n",
        "  \n",
        "  oof_pred_fold = model.predict_proba(scaler.transform(test))\n",
        "  oof_preds.append(oof_pred_fold)\n",
        "\n",
        "  print(score)\n",
        "  oof_scores.append(score)\n",
        "\n",
        "print(\"Mean OOF Score :\",np.mean(oof_scores))\n",
        "final_preds = np.mean(np.array(oof_preds),axis=0)\n",
        "\n",
        "\n"
      ],
      "execution_count": null,
      "outputs": [
        {
          "output_type": "stream",
          "text": [
            "0.4907592085350743\n",
            "0.4798785997164028\n",
            "0.47593312360446516\n",
            "0.483284000150208\n",
            "0.47196863615997237\n",
            "Mean OOF Score : 0.48036471363322447\n"
          ],
          "name": "stdout"
        }
      ]
    },
    {
      "cell_type": "code",
      "metadata": {
        "colab": {
          "base_uri": "https://localhost:8080/",
          "height": 415
        },
        "id": "zNNKQtcKDYFb",
        "outputId": "65c4ab4c-366c-40e5-d1d1-fa51f11f630d"
      },
      "source": [
        "importance = model.coef_[0]\n",
        "# summarize feature importance\n",
        "for i,v in enumerate(importance):\n",
        "\tprint('Feature: %0d, Score: %.5f' % (i,v))\n",
        "# plot feature importance\n",
        "plt.bar([x for x in range(len(importance))], importance)\n",
        "plt.show()"
      ],
      "execution_count": null,
      "outputs": [
        {
          "output_type": "stream",
          "text": [
            "Feature: 0, Score: -1.04284\n",
            "Feature: 1, Score: -0.35004\n",
            "Feature: 2, Score: 0.12946\n",
            "Feature: 3, Score: -0.17020\n",
            "Feature: 4, Score: 0.01232\n",
            "Feature: 5, Score: 0.07705\n",
            "Feature: 6, Score: -0.32319\n",
            "Feature: 7, Score: -2.53692\n",
            "Feature: 8, Score: -0.64695\n"
          ],
          "name": "stdout"
        },
        {
          "output_type": "display_data",
          "data": {
            "image/png": "[encoded data removed]",
            "text/plain": [
              "<Figure size 432x288 with 1 Axes>"
            ]
          },
          "metadata": {
            "tags": [],
            "needs_background": "light"
          }
        }
      ]
    },
    {
      "cell_type": "code",
      "metadata": {
        "id": "-mmFfQ-N9SmW"
      },
      "source": [
        "submission = pd.DataFrame(final_preds)\n",
        "submission.to_csv(\"submission.csv\",index=None)\n",
        "submission"
      ],
      "execution_count": null,
      "outputs": []
    },
    {
      "cell_type": "code",
      "metadata": {
        "colab": {
          "base_uri": "https://localhost:8080/"
        },
        "id": "40iQ9h-6DkLd",
        "outputId": "edddc702-0daf-45a5-b9f6-da66046a86f4"
      },
      "source": [
        "for i , (train_idx,test_idx) in enumerate(folds.split(X,Y)):\n",
        "  train_set = (X.iloc[train_idx],Y.iloc[train_idx])\n",
        "  test_set = (X.iloc[test_idx],Y.iloc[test_idx])\n",
        "\n",
        "  model_xg = DecisionTreeClassifier(random_state=10,criterion='gini')\n",
        "  model_xg.fit(*train_set)\n",
        "\n",
        "  preds = model_xg.predict_proba(test_set[0])\n",
        "  score = log_loss(test_set[1],preds)\n",
        "  \n",
        "  oof_pred_fold = model_xg.predict_proba(scaler.transform(test))\n",
        "  oof_preds.append(oof_pred_fold)\n",
        "\n",
        "  print(score)\n",
        "  oof_scores.append(score)\n",
        "\n",
        "print(\"Mean OOF Score :\",np.mean(oof_scores))\n",
        "final_preds = np.mean(np.array(oof_preds),axis=0)"
      ],
      "execution_count": null,
      "outputs": [
        {
          "output_type": "stream",
          "text": [
            "6.059933584939029\n",
            "6.48668947120234\n",
            "6.467722542923971\n",
            "6.3936103515984115\n",
            "6.497957108078504\n",
            "Mean OOF Score : 3.430773662690838\n"
          ],
          "name": "stdout"
        }
      ]
    },
    {
      "cell_type": "code",
      "metadata": {
        "colab": {
          "base_uri": "https://localhost:8080/"
        },
        "id": "jnSrO6Z-FSSw",
        "outputId": "4df222c5-5e48-4537-d661-82fcddd99a0b"
      },
      "source": [
        "for i , (train_idx,test_idx) in enumerate(folds.split(X,Y)):\n",
        "  train_set = (X.iloc[train_idx],Y.iloc[train_idx])\n",
        "  test_set = (X.iloc[test_idx],Y.iloc[test_idx])\n",
        "\n",
        "  model_ET = ExtraTreesClassifier(n_estimators=500, criterion='entropy', max_depth=None, max_features=None)\n",
        "  model_ET.fit(*train_set)\n",
        "\n",
        "  preds = model_ET.predict_proba(test_set[0])\n",
        "  score = log_loss(test_set[1],preds)\n",
        "  \n",
        "  oof_pred_fold = model_ET.predict_proba(scaler.transform(test))\n",
        "  oof_preds.append(oof_pred_fold)\n",
        "\n",
        "  print(score)\n",
        "  oof_scores.append(score)\n",
        "\n",
        "print(\"Mean OOF Score :\",np.mean(oof_scores))\n",
        "final_preds = np.mean(np.array(oof_preds),axis=0)"
      ],
      "execution_count": null,
      "outputs": [
        {
          "output_type": "stream",
          "text": [
            "0.41048988912449164\n",
            "0.3984306317457895\n",
            "0.39423624239819755\n",
            "0.37174822328309487\n",
            "0.35179718047631664\n",
            "Mean OOF Score : 2.415629252929085\n"
          ],
          "name": "stdout"
        }
      ]
    },
    {
      "cell_type": "code",
      "metadata": {
        "colab": {
          "base_uri": "https://localhost:8080/"
        },
        "id": "L4VJmWsLDHkF",
        "outputId": "f307c027-43d0-4c71-8c24-603214e76cc4"
      },
      "source": [
        "print(model_ET.feature_importances_)"
      ],
      "execution_count": null,
      "outputs": [
        {
          "output_type": "stream",
          "text": [
            "[0.16121043 0.11877841 0.0782939  0.0962232  0.03040554 0.1064221\n",
            " 0.06981626 0.06755505 0.08830553 0.10427209 0.07871749]\n"
          ],
          "name": "stdout"
        }
      ]
    },
    {
      "cell_type": "code",
      "metadata": {
        "colab": {
          "base_uri": "https://localhost:8080/",
          "height": 265
        },
        "id": "i4jwuZ1Zh3c2",
        "outputId": "31ceff24-17ae-4b4d-b9ef-4d4771f50323"
      },
      "source": [
        "feat_importances = pd.Series(model_ET.feature_importances_, index=X.columns)\n",
        "feat_importances.nlargest(12).plot(kind='barh')\n",
        "plt.show()"
      ],
      "execution_count": null,
      "outputs": [
        {
          "output_type": "display_data",
          "data": {
            "image/png": "[encoded data removed]",
            "text/plain": [
              "<Figure size 432x288 with 1 Axes>"
            ]
          },
          "metadata": {
            "tags": [],
            "needs_background": "light"
          }
        }
      ]
    },
    {
      "cell_type": "markdown",
      "metadata": {
        "id": "eEH6am8IMHKF"
      },
      "source": [
        "Gradient Boosting Classifier"
      ]
    },
    {
      "cell_type": "code",
      "metadata": {
        "colab": {
          "base_uri": "https://localhost:8080/"
        },
        "id": "QAW-MuTTEK-D",
        "outputId": "9802e532-756a-4f36-8efa-b6fc259fa0da"
      },
      "source": [
        "for i , (train_idx,test_idx) in enumerate(folds.split(X,Y)):\n",
        "  train_set = (X.iloc[train_idx],Y.iloc[train_idx])\n",
        "  test_set = (X.iloc[test_idx],Y.iloc[test_idx])\n",
        "\n",
        "  model_xg = GradientBoostingClassifier(loss='deviance', learning_rate=0.01, n_estimators=400,  criterion='friedman_mse', verbose=0)\n",
        "  model_xg.fit(*train_set)\n",
        "\n",
        "  preds = model_xg.predict_proba(test_set[0])\n",
        "  score = log_loss(test_set[1],preds)\n",
        "  \n",
        "  oof_pred_fold = model_xg.predict_proba(scaler.transform(test))\n",
        "  oof_preds.append(oof_pred_fold)\n",
        "\n",
        "  print(score)\n",
        "  oof_scores.append(score)\n",
        "\n",
        "print(\"Mean OOF Score :\",np.mean(oof_scores))\n",
        "final_preds = np.mean(np.array(oof_preds),axis=0)"
      ],
      "execution_count": null,
      "outputs": [
        {
          "output_type": "stream",
          "text": [
            "0.46911066331881646\n",
            "0.4639289309552999\n",
            "0.4600472140066761\n",
            "0.46713393732606306\n",
            "0.45213786715560444\n",
            "Mean OOF Score : 1.9273398703349365\n"
          ],
          "name": "stdout"
        }
      ]
    },
    {
      "cell_type": "markdown",
      "metadata": {
        "id": "m41nn-4GLyLo"
      },
      "source": [
        "**Adaboost Classifier this is model that gives me a chance to score the $57$ in leaderBoard**"
      ]
    },
    {
      "cell_type": "code",
      "metadata": {
        "colab": {
          "base_uri": "https://localhost:8080/"
        },
        "id": "SUgIPXJel700",
        "outputId": "f1638247-de85-4928-cded-51d57cdc209a"
      },
      "source": [
        "for i , (train_idx,test_idx) in enumerate(folds.split(X,Y)):\n",
        "  train_set = (X.iloc[train_idx],Y.iloc[train_idx])\n",
        "  test_set = (X.iloc[test_idx],Y.iloc[test_idx])\n",
        "\n",
        "  \n",
        "bdt_real1 = AdaBoostClassifier(\n",
        "    DecisionTreeClassifier(max_depth=12),\n",
        "    n_estimators=600,\n",
        "    learning_rate=1)\n",
        "bdt_real1.fit(*train_set)\n",
        "\n",
        "preds =  bdt_real1.predict_proba(test_set[0])\n",
        "score = log_loss(test_set[1],preds)\n",
        "  \n",
        "oof_pred_fold =  bdt_real1.predict_proba(scaler.transform(test))\n",
        "oof_preds.append(oof_pred_fold)\n",
        "\n",
        "print(score)\n",
        "oof_scores.append(score)\n",
        "\n",
        "print(\"Mean OOF Score :\",np.mean(oof_scores))\n",
        "final_preds = np.mean(np.array(oof_preds),axis=0)"
      ],
      "execution_count": null,
      "outputs": [
        {
          "output_type": "stream",
          "text": [
            "0.842526703341975\n",
            "Mean OOF Score : 1.8756821004781288\n"
          ],
          "name": "stdout"
        }
      ]
    },
    {
      "cell_type": "code",
      "metadata": {
        "colab": {
          "base_uri": "https://localhost:8080/",
          "height": 404
        },
        "id": "0lgdDgokm3n5",
        "outputId": "1f28f7a4-95b8-4f12-efd2-70369ac38086"
      },
      "source": [
        "submission = pd.DataFrame(final_preds)\n",
        "submission.to_csv(\"submission.csv\",index=None)\n",
        "submission"
      ],
      "execution_count": null,
      "outputs": [
        {
          "output_type": "execute_result",
          "data": {
            "text/html": [
              "<div>\n",
              "<style scoped>\n",
              "    .dataframe tbody tr th:only-of-type {\n",
              "        vertical-align: middle;\n",
              "    }\n",
              "\n",
              "    .dataframe tbody tr th {\n",
              "        vertical-align: top;\n",
              "    }\n",
              "\n",
              "    .dataframe thead th {\n",
              "        text-align: right;\n",
              "    }\n",
              "</style>\n",
              "<table border=\"1\" class=\"dataframe\">\n",
              "  <thead>\n",
              "    <tr style=\"text-align: right;\">\n",
              "      <th></th>\n",
              "      <th>0</th>\n",
              "      <th>1</th>\n",
              "      <th>2</th>\n",
              "      <th>3</th>\n",
              "      <th>4</th>\n",
              "    </tr>\n",
              "  </thead>\n",
              "  <tbody>\n",
              "    <tr>\n",
              "      <th>0</th>\n",
              "      <td>0.000058</td>\n",
              "      <td>0.023081</td>\n",
              "      <td>0.712028</td>\n",
              "      <td>0.219379</td>\n",
              "      <td>0.045454</td>\n",
              "    </tr>\n",
              "    <tr>\n",
              "      <th>1</th>\n",
              "      <td>0.000027</td>\n",
              "      <td>0.005780</td>\n",
              "      <td>0.029593</td>\n",
              "      <td>0.955212</td>\n",
              "      <td>0.009388</td>\n",
              "    </tr>\n",
              "    <tr>\n",
              "      <th>2</th>\n",
              "      <td>0.000030</td>\n",
              "      <td>0.005585</td>\n",
              "      <td>0.057115</td>\n",
              "      <td>0.920739</td>\n",
              "      <td>0.016531</td>\n",
              "    </tr>\n",
              "    <tr>\n",
              "      <th>3</th>\n",
              "      <td>0.000031</td>\n",
              "      <td>0.007032</td>\n",
              "      <td>0.046990</td>\n",
              "      <td>0.909271</td>\n",
              "      <td>0.036675</td>\n",
              "    </tr>\n",
              "    <tr>\n",
              "      <th>4</th>\n",
              "      <td>0.000024</td>\n",
              "      <td>0.000796</td>\n",
              "      <td>0.005467</td>\n",
              "      <td>0.992319</td>\n",
              "      <td>0.001394</td>\n",
              "    </tr>\n",
              "    <tr>\n",
              "      <th>...</th>\n",
              "      <td>...</td>\n",
              "      <td>...</td>\n",
              "      <td>...</td>\n",
              "      <td>...</td>\n",
              "      <td>...</td>\n",
              "    </tr>\n",
              "    <tr>\n",
              "      <th>12135</th>\n",
              "      <td>0.000098</td>\n",
              "      <td>0.017534</td>\n",
              "      <td>0.113969</td>\n",
              "      <td>0.848526</td>\n",
              "      <td>0.019873</td>\n",
              "    </tr>\n",
              "    <tr>\n",
              "      <th>12136</th>\n",
              "      <td>0.000023</td>\n",
              "      <td>0.000905</td>\n",
              "      <td>0.008468</td>\n",
              "      <td>0.988782</td>\n",
              "      <td>0.001821</td>\n",
              "    </tr>\n",
              "    <tr>\n",
              "      <th>12137</th>\n",
              "      <td>0.000027</td>\n",
              "      <td>0.003209</td>\n",
              "      <td>0.038180</td>\n",
              "      <td>0.955832</td>\n",
              "      <td>0.002752</td>\n",
              "    </tr>\n",
              "    <tr>\n",
              "      <th>12138</th>\n",
              "      <td>0.000027</td>\n",
              "      <td>0.001215</td>\n",
              "      <td>0.008432</td>\n",
              "      <td>0.988666</td>\n",
              "      <td>0.001661</td>\n",
              "    </tr>\n",
              "    <tr>\n",
              "      <th>12139</th>\n",
              "      <td>0.000053</td>\n",
              "      <td>0.033996</td>\n",
              "      <td>0.232230</td>\n",
              "      <td>0.713899</td>\n",
              "      <td>0.019822</td>\n",
              "    </tr>\n",
              "  </tbody>\n",
              "</table>\n",
              "<p>12140 rows × 5 columns</p>\n",
              "</div>"
            ],
            "text/plain": [
              "              0         1         2         3         4\n",
              "0      0.000058  0.023081  0.712028  0.219379  0.045454\n",
              "1      0.000027  0.005780  0.029593  0.955212  0.009388\n",
              "2      0.000030  0.005585  0.057115  0.920739  0.016531\n",
              "3      0.000031  0.007032  0.046990  0.909271  0.036675\n",
              "4      0.000024  0.000796  0.005467  0.992319  0.001394\n",
              "...         ...       ...       ...       ...       ...\n",
              "12135  0.000098  0.017534  0.113969  0.848526  0.019873\n",
              "12136  0.000023  0.000905  0.008468  0.988782  0.001821\n",
              "12137  0.000027  0.003209  0.038180  0.955832  0.002752\n",
              "12138  0.000027  0.001215  0.008432  0.988666  0.001661\n",
              "12139  0.000053  0.033996  0.232230  0.713899  0.019822\n",
              "\n",
              "[12140 rows x 5 columns]"
            ]
          },
          "metadata": {
            "tags": []
          },
          "execution_count": 36
        }
      ]
    },
    {
      "cell_type": "markdown",
      "metadata": {
        "id": "zMyKkTb_Lumc"
      },
      "source": [
        "**LGBM classifier**"
      ]
    },
    {
      "cell_type": "code",
      "metadata": {
        "colab": {
          "base_uri": "https://localhost:8080/"
        },
        "id": "ewGrjT8onnuo",
        "outputId": "e1c263d0-7c94-4b48-a696-68efd2cb7380"
      },
      "source": [
        "for i , (train_idx,test_idx) in enumerate(folds.split(X,Y)):\n",
        "  train_set = (X.iloc[train_idx],Y.iloc[train_idx])\n",
        "  test_set = (X.iloc[test_idx],Y.iloc[test_idx])\n",
        "\n",
        "  \n",
        "lgbmmodel=LGBMClassifier(boosting_type='gbdt',learning_rate=0.05, n_estimators=900)\n",
        "lgbmmodel.fit(*train_set)\n",
        "\n",
        "preds =  lgbmmodel.predict_proba(test_set[0])\n",
        "score = log_loss(test_set[1],preds)\n",
        "  \n",
        "oof_pred_fold = lgbmmodel.predict_proba(scaler.transform(test))\n",
        "oof_preds.append(oof_pred_fold)\n",
        "\n",
        "print(score)\n",
        "oof_scores.append(score)\n",
        "\n",
        "print(\"Mean OOF Score :\",np.mean(oof_scores))\n",
        "final_preds = np.mean(np.array(oof_preds),axis=0)\n",
        "\n"
      ],
      "execution_count": null,
      "outputs": [
        {
          "output_type": "stream",
          "text": [
            "0.4590175086932425\n",
            "Mean OOF Score : 0.6002094945052933\n"
          ],
          "name": "stdout"
        }
      ]
    },
    {
      "cell_type": "code",
      "metadata": {
        "colab": {
          "base_uri": "https://localhost:8080/"
        },
        "id": "n7BueveRCtwZ",
        "outputId": "76de7f17-4cf7-43ca-cb09-9b0d25c63dfe"
      },
      "source": [
        "print(lgbmmodel.feature_importances_)"
      ],
      "execution_count": null,
      "outputs": [
        {
          "output_type": "stream",
          "text": [
            "[14207 12803  7284 12353  1189 12634 12176 13326 13245 16722 15293]\n"
          ],
          "name": "stdout"
        }
      ]
    },
    {
      "cell_type": "code",
      "metadata": {
        "colab": {
          "base_uri": "https://localhost:8080/",
          "height": 265
        },
        "id": "8PlV4Na-CtDP",
        "outputId": "18eb7520-5074-4c39-a291-dd89d4468eb3"
      },
      "source": [
        "feat_importances = pd.Series(lgbmmodel.feature_importances_, index=X.columns)\n",
        "feat_importances.nlargest(12).plot(kind='barh')\n",
        "plt.show()"
      ],
      "execution_count": null,
      "outputs": [
        {
          "output_type": "display_data",
          "data": {
            "image/png": "[encoded data removed]",
            "text/plain": [
              "<Figure size 432x288 with 1 Axes>"
            ]
          },
          "metadata": {
            "tags": [],
            "needs_background": "light"
          }
        }
      ]
    },
    {
      "cell_type": "markdown",
      "metadata": {
        "id": "HACStsMLLpwR"
      },
      "source": [
        "**Adaboost Classifier**"
      ]
    },
    {
      "cell_type": "code",
      "metadata": {
        "colab": {
          "base_uri": "https://localhost:8080/"
        },
        "id": "OIalx3Etr6RC",
        "outputId": "5ef38627-4df1-43ba-b81a-3326349f717c"
      },
      "source": [
        "for i , (train_idx,test_idx) in enumerate(folds.split(X,Y)):\n",
        "  train_set = (X.iloc[train_idx],Y.iloc[train_idx])\n",
        "  test_set = (X.iloc[test_idx],Y.iloc[test_idx])\n",
        "\n",
        "  \n",
        "bdt_dis =AdaBoostClassifier(\n",
        "    DecisionTreeClassifier(max_depth=10),\n",
        "    n_estimators=800,\n",
        "    learning_rate=1.5,\n",
        "    algorithm=\"SAMME\")\n",
        "bdt_dis.fit(*train_set)\n",
        "\n",
        "preds =  bdt_dis.predict_proba(test_set[0])\n",
        "score = log_loss(test_set[1],preds)\n",
        "  \n",
        "oof_pred_fold =  bdt_dis.predict_proba(scaler.transform(test))\n",
        "oof_preds.append(oof_pred_fold)\n",
        "\n",
        "print(score)\n",
        "oof_scores.append(score)\n",
        "\n",
        "print(\"Mean OOF Score :\",np.mean(oof_scores))\n",
        "final_preds = np.mean(np.array(oof_preds),axis=0)"
      ],
      "execution_count": null,
      "outputs": [
        {
          "output_type": "stream",
          "text": [
            "1.536106314753326\n",
            "Mean OOF Score : 0.5800881433443814\n"
          ],
          "name": "stdout"
        }
      ]
    },
    {
      "cell_type": "code",
      "metadata": {
        "colab": {
          "base_uri": "https://localhost:8080/"
        },
        "id": "rwgQJYyvt5xB",
        "outputId": "2493da9f-63fb-4795-b228-3ff0ebb250f6"
      },
      "source": [
        "for i , (train_idx,test_idx) in enumerate(folds.split(X,Y)):\n",
        "  train_set = (X.iloc[train_idx],Y.iloc[train_idx])\n",
        "  test_set = (X.iloc[test_idx],Y.iloc[test_idx])\n",
        "\n",
        "  \n",
        "bdt_real = AdaBoostClassifier(\n",
        "    DecisionTreeClassifier(max_depth=14),\n",
        "    n_estimators=800,\n",
        "    learning_rate=1)\n",
        "bdt_real.fit(*train_set)\n",
        "\n",
        "preds =  bdt_real.predict_proba(test_set[0])\n",
        "score = log_loss(test_set[1],preds)\n",
        "  \n",
        "oof_pred_fold =  bdt_real.predict_proba(scaler.transform(test))\n",
        "oof_preds.append(oof_pred_fold)\n",
        "\n",
        "print(score)\n",
        "oof_scores.append(score)\n",
        "\n",
        "print(\"Mean OOF Score :\",np.mean(oof_scores))\n",
        "final_preds = np.mean(np.array(oof_preds),axis=0)"
      ],
      "execution_count": null,
      "outputs": [
        {
          "output_type": "stream",
          "text": [
            "1.0105575111092184\n",
            "Mean OOF Score : 0.5687301798792235\n"
          ],
          "name": "stdout"
        }
      ]
    },
    {
      "cell_type": "markdown",
      "metadata": {
        "id": "lkZFMoPMLmKd"
      },
      "source": [
        "**Important Features**"
      ]
    },
    {
      "cell_type": "code",
      "metadata": {
        "colab": {
          "base_uri": "https://localhost:8080/"
        },
        "id": "49iA9LihCIf2",
        "outputId": "9c9f10f7-703b-4595-b1b6-a734ca164553"
      },
      "source": [
        "print(bdt_real.feature_importances_)"
      ],
      "execution_count": null,
      "outputs": [
        {
          "output_type": "stream",
          "text": [
            "[0.12276515 0.10371749 0.07994655 0.10579022 0.10868938 0.10623782\n",
            " 0.11459778 0.12310449 0.13515112]\n"
          ],
          "name": "stdout"
        }
      ]
    },
    {
      "cell_type": "code",
      "metadata": {
        "colab": {
          "base_uri": "https://localhost:8080/",
          "height": 265
        },
        "id": "CNVUU4BwCM-7",
        "outputId": "84327d7f-8257-459d-f10f-c4a196664c06"
      },
      "source": [
        "feat_importances = pd.Series(bdt_real.feature_importances_, index=X.columns)\n",
        "feat_importances.nlargest(12).plot(kind='barh')\n",
        "plt.show()"
      ],
      "execution_count": null,
      "outputs": [
        {
          "output_type": "display_data",
          "data": {
            "image/png": "[encoded data removed]",
            "text/plain": [
              "<Figure size 432x288 with 1 Axes>"
            ]
          },
          "metadata": {
            "tags": [],
            "needs_background": "light"
          }
        }
      ]
    },
    {
      "cell_type": "code",
      "metadata": {
        "colab": {
          "base_uri": "https://localhost:8080/",
          "height": 404
        },
        "id": "QptrO_8n8AFD",
        "outputId": "72d4787a-608e-4156-d650-c19f0a0ca8da"
      },
      "source": [
        "submission = pd.DataFrame(final_preds)\n",
        "submission.to_csv(\"bdt_real1.csv\",index=None)\n",
        "submission"
      ],
      "execution_count": null,
      "outputs": [
        {
          "output_type": "execute_result",
          "data": {
            "text/html": [
              "<div>\n",
              "<style scoped>\n",
              "    .dataframe tbody tr th:only-of-type {\n",
              "        vertical-align: middle;\n",
              "    }\n",
              "\n",
              "    .dataframe tbody tr th {\n",
              "        vertical-align: top;\n",
              "    }\n",
              "\n",
              "    .dataframe thead th {\n",
              "        text-align: right;\n",
              "    }\n",
              "</style>\n",
              "<table border=\"1\" class=\"dataframe\">\n",
              "  <thead>\n",
              "    <tr style=\"text-align: right;\">\n",
              "      <th></th>\n",
              "      <th>0</th>\n",
              "      <th>1</th>\n",
              "      <th>2</th>\n",
              "      <th>3</th>\n",
              "      <th>4</th>\n",
              "    </tr>\n",
              "  </thead>\n",
              "  <tbody>\n",
              "    <tr>\n",
              "      <th>0</th>\n",
              "      <td>2.752418e-06</td>\n",
              "      <td>0.039228</td>\n",
              "      <td>0.260549</td>\n",
              "      <td>0.630611</td>\n",
              "      <td>0.069610</td>\n",
              "    </tr>\n",
              "    <tr>\n",
              "      <th>1</th>\n",
              "      <td>8.592354e-09</td>\n",
              "      <td>0.004359</td>\n",
              "      <td>0.037656</td>\n",
              "      <td>0.950865</td>\n",
              "      <td>0.007120</td>\n",
              "    </tr>\n",
              "    <tr>\n",
              "      <th>2</th>\n",
              "      <td>3.498864e-09</td>\n",
              "      <td>0.006648</td>\n",
              "      <td>0.074184</td>\n",
              "      <td>0.906666</td>\n",
              "      <td>0.012502</td>\n",
              "    </tr>\n",
              "    <tr>\n",
              "      <th>3</th>\n",
              "      <td>9.119866e-07</td>\n",
              "      <td>0.006119</td>\n",
              "      <td>0.039180</td>\n",
              "      <td>0.944394</td>\n",
              "      <td>0.010305</td>\n",
              "    </tr>\n",
              "    <tr>\n",
              "      <th>4</th>\n",
              "      <td>4.063249e-10</td>\n",
              "      <td>0.000688</td>\n",
              "      <td>0.011868</td>\n",
              "      <td>0.985263</td>\n",
              "      <td>0.002182</td>\n",
              "    </tr>\n",
              "    <tr>\n",
              "      <th>...</th>\n",
              "      <td>...</td>\n",
              "      <td>...</td>\n",
              "      <td>...</td>\n",
              "      <td>...</td>\n",
              "      <td>...</td>\n",
              "    </tr>\n",
              "    <tr>\n",
              "      <th>12135</th>\n",
              "      <td>3.471420e-04</td>\n",
              "      <td>0.051035</td>\n",
              "      <td>0.249102</td>\n",
              "      <td>0.623430</td>\n",
              "      <td>0.076086</td>\n",
              "    </tr>\n",
              "    <tr>\n",
              "      <th>12136</th>\n",
              "      <td>4.279766e-08</td>\n",
              "      <td>0.001454</td>\n",
              "      <td>0.011216</td>\n",
              "      <td>0.985654</td>\n",
              "      <td>0.001677</td>\n",
              "    </tr>\n",
              "    <tr>\n",
              "      <th>12137</th>\n",
              "      <td>1.791225e-08</td>\n",
              "      <td>0.003407</td>\n",
              "      <td>0.026971</td>\n",
              "      <td>0.963178</td>\n",
              "      <td>0.006444</td>\n",
              "    </tr>\n",
              "    <tr>\n",
              "      <th>12138</th>\n",
              "      <td>2.620973e-07</td>\n",
              "      <td>0.003447</td>\n",
              "      <td>0.025098</td>\n",
              "      <td>0.968138</td>\n",
              "      <td>0.003317</td>\n",
              "    </tr>\n",
              "    <tr>\n",
              "      <th>12139</th>\n",
              "      <td>9.213061e-07</td>\n",
              "      <td>0.021115</td>\n",
              "      <td>0.207474</td>\n",
              "      <td>0.744838</td>\n",
              "      <td>0.026572</td>\n",
              "    </tr>\n",
              "  </tbody>\n",
              "</table>\n",
              "<p>12140 rows × 5 columns</p>\n",
              "</div>"
            ],
            "text/plain": [
              "                  0         1         2         3         4\n",
              "0      2.752418e-06  0.039228  0.260549  0.630611  0.069610\n",
              "1      8.592354e-09  0.004359  0.037656  0.950865  0.007120\n",
              "2      3.498864e-09  0.006648  0.074184  0.906666  0.012502\n",
              "3      9.119866e-07  0.006119  0.039180  0.944394  0.010305\n",
              "4      4.063249e-10  0.000688  0.011868  0.985263  0.002182\n",
              "...             ...       ...       ...       ...       ...\n",
              "12135  3.471420e-04  0.051035  0.249102  0.623430  0.076086\n",
              "12136  4.279766e-08  0.001454  0.011216  0.985654  0.001677\n",
              "12137  1.791225e-08  0.003407  0.026971  0.963178  0.006444\n",
              "12138  2.620973e-07  0.003447  0.025098  0.968138  0.003317\n",
              "12139  9.213061e-07  0.021115  0.207474  0.744838  0.026572\n",
              "\n",
              "[12140 rows x 5 columns]"
            ]
          },
          "metadata": {
            "tags": []
          },
          "execution_count": 136
        }
      ]
    },
    {
      "cell_type": "code",
      "metadata": {
        "id": "BkiEoL7hyBty"
      },
      "source": [
        ""
      ],
      "execution_count": null,
      "outputs": []
    }
  ]
}