{
  "nbformat": 4,
  "nbformat_minor": 0,
  "metadata": {
    "colab": {
      "name": "Analytics oympiad-2021.ipynb",
      "provenance": [],
      "collapsed_sections": []
    },
    "kernelspec": {
      "name": "python3",
      "display_name": "Python 3"
    },
    "language_info": {
      "name": "python"
    }
  },
  "cells": [
    {
      "cell_type": "markdown",
      "metadata": {
        "id": "TVt5KUa7eYGc"
      },
      "source": [
        "Analytics Hackathon-2021"
      ]
    },
    {
      "cell_type": "code",
      "metadata": {
        "colab": {
          "base_uri": "https://localhost:8080/"
        },
        "id": "uvGFXaXFeeFa",
        "outputId": "89a4c26f-ed36-401d-bf34-c72b40157807"
      },
      "source": [
        "!unzip '/content/drive/MyDrive/machineHack/Analytics Olympiad-2021(shiv Nadar)/Shiv_Nadar_DAC.zip'"
      ],
      "execution_count": null,
      "outputs": [
        {
          "output_type": "stream",
          "name": "stdout",
          "text": [
            "Archive:  /content/drive/MyDrive/machineHack/Analytics Olympiad-2021(shiv Nadar)/Shiv_Nadar_DAC.zip\n",
            "  inflating: submission.csv          \n",
            "  inflating: test.csv                \n",
            "  inflating: train.csv               \n"
          ]
        }
      ]
    },
    {
      "cell_type": "code",
      "metadata": {
        "id": "gWqHW-B2b4sB"
      },
      "source": [
        "import pandas as pd\n",
        "import numpy as np\n",
        "import pandas as pd\n",
        "import matplotlib.pyplot as plt\n",
        "import seaborn as sns\n",
        "import lightgbm as lgb\n",
        "from sklearn.ensemble import ExtraTreesRegressor\n",
        "from sklearn.ensemble import GradientBoostingRegressor\n",
        "from sklearn.ensemble import VotingRegressor\n",
        "from sklearn.preprocessing import LabelEncoder\n",
        "from sklearn.preprocessing import MinMaxScaler"
      ],
      "execution_count": null,
      "outputs": []
    },
    {
      "cell_type": "code",
      "metadata": {
        "colab": {
          "base_uri": "https://localhost:8080/",
          "height": 204
        },
        "id": "HIFY_of1fvEa",
        "outputId": "dc4439e2-dbf5-4d0b-83d0-7ec7b01d8de3"
      },
      "source": [
        "df=pd.read_csv('/content/train.csv')\n",
        "df.head()"
      ],
      "execution_count": null,
      "outputs": [
        {
          "output_type": "execute_result",
          "data": {
            "text/html": [
              "<div>\n",
              "<style scoped>\n",
              "    .dataframe tbody tr th:only-of-type {\n",
              "        vertical-align: middle;\n",
              "    }\n",
              "\n",
              "    .dataframe tbody tr th {\n",
              "        vertical-align: top;\n",
              "    }\n",
              "\n",
              "    .dataframe thead th {\n",
              "        text-align: right;\n",
              "    }\n",
              "</style>\n",
              "<table border=\"1\" class=\"dataframe\">\n",
              "  <thead>\n",
              "    <tr style=\"text-align: right;\">\n",
              "      <th></th>\n",
              "      <th>Item_ID</th>\n",
              "      <th>Item_W</th>\n",
              "      <th>Item_Type</th>\n",
              "      <th>Item_MRP</th>\n",
              "      <th>Outlet_ID</th>\n",
              "      <th>Outlet_Year</th>\n",
              "      <th>Outlet_Size</th>\n",
              "      <th>Outlet_Location_Type</th>\n",
              "      <th>Sales</th>\n",
              "    </tr>\n",
              "  </thead>\n",
              "  <tbody>\n",
              "    <tr>\n",
              "      <th>0</th>\n",
              "      <td>FDU32</td>\n",
              "      <td>21.027499</td>\n",
              "      <td>Baking Goods</td>\n",
              "      <td>197.352319</td>\n",
              "      <td>OUT046</td>\n",
              "      <td>2004</td>\n",
              "      <td>Small</td>\n",
              "      <td>Tier 2</td>\n",
              "      <td>2689.457781</td>\n",
              "    </tr>\n",
              "    <tr>\n",
              "      <th>1</th>\n",
              "      <td>NCT54</td>\n",
              "      <td>21.102371</td>\n",
              "      <td>Meat</td>\n",
              "      <td>148.250214</td>\n",
              "      <td>OUT035</td>\n",
              "      <td>1987</td>\n",
              "      <td>Small</td>\n",
              "      <td>Tier 1</td>\n",
              "      <td>3437.350375</td>\n",
              "    </tr>\n",
              "    <tr>\n",
              "      <th>2</th>\n",
              "      <td>FDW08</td>\n",
              "      <td>20.882263</td>\n",
              "      <td>Hard Drinks</td>\n",
              "      <td>205.465010</td>\n",
              "      <td>OUT035</td>\n",
              "      <td>1999</td>\n",
              "      <td>Small</td>\n",
              "      <td>Tier 3</td>\n",
              "      <td>3129.967268</td>\n",
              "    </tr>\n",
              "    <tr>\n",
              "      <th>3</th>\n",
              "      <td>FDJ22</td>\n",
              "      <td>21.050435</td>\n",
              "      <td>Starchy Foods</td>\n",
              "      <td>253.417583</td>\n",
              "      <td>OUT046</td>\n",
              "      <td>1996</td>\n",
              "      <td>Small</td>\n",
              "      <td>Tier 1</td>\n",
              "      <td>1306.514376</td>\n",
              "    </tr>\n",
              "    <tr>\n",
              "      <th>4</th>\n",
              "      <td>FDF47</td>\n",
              "      <td>21.247876</td>\n",
              "      <td>Baking Goods</td>\n",
              "      <td>240.871039</td>\n",
              "      <td>OUT035</td>\n",
              "      <td>1988</td>\n",
              "      <td>Small</td>\n",
              "      <td>Tier 3</td>\n",
              "      <td>1739.769829</td>\n",
              "    </tr>\n",
              "  </tbody>\n",
              "</table>\n",
              "</div>"
            ],
            "text/plain": [
              "  Item_ID     Item_W  ... Outlet_Location_Type        Sales\n",
              "0   FDU32  21.027499  ...               Tier 2  2689.457781\n",
              "1   NCT54  21.102371  ...               Tier 1  3437.350375\n",
              "2   FDW08  20.882263  ...               Tier 3  3129.967268\n",
              "3   FDJ22  21.050435  ...               Tier 1  1306.514376\n",
              "4   FDF47  21.247876  ...               Tier 3  1739.769829\n",
              "\n",
              "[5 rows x 9 columns]"
            ]
          },
          "metadata": {},
          "execution_count": 228
        }
      ]
    },
    {
      "cell_type": "code",
      "metadata": {
        "colab": {
          "base_uri": "https://localhost:8080/",
          "height": 204
        },
        "id": "-e-ciFEijT9T",
        "outputId": "8dcfaa42-39e3-4bca-fe8a-7baee283d451"
      },
      "source": [
        "test=pd.read_csv('/content/test.csv')\n",
        "test.head()"
      ],
      "execution_count": null,
      "outputs": [
        {
          "output_type": "execute_result",
          "data": {
            "text/html": [
              "<div>\n",
              "<style scoped>\n",
              "    .dataframe tbody tr th:only-of-type {\n",
              "        vertical-align: middle;\n",
              "    }\n",
              "\n",
              "    .dataframe tbody tr th {\n",
              "        vertical-align: top;\n",
              "    }\n",
              "\n",
              "    .dataframe thead th {\n",
              "        text-align: right;\n",
              "    }\n",
              "</style>\n",
              "<table border=\"1\" class=\"dataframe\">\n",
              "  <thead>\n",
              "    <tr style=\"text-align: right;\">\n",
              "      <th></th>\n",
              "      <th>Item_ID</th>\n",
              "      <th>Item_W</th>\n",
              "      <th>Item_Type</th>\n",
              "      <th>Item_MRP</th>\n",
              "      <th>Outlet_ID</th>\n",
              "      <th>Outlet_Year</th>\n",
              "      <th>Outlet_Size</th>\n",
              "      <th>Outlet_Location_Type</th>\n",
              "    </tr>\n",
              "  </thead>\n",
              "  <tbody>\n",
              "    <tr>\n",
              "      <th>0</th>\n",
              "      <td>DRM23</td>\n",
              "      <td>10.156725</td>\n",
              "      <td>Snack Foods</td>\n",
              "      <td>119.319482</td>\n",
              "      <td>OUT013</td>\n",
              "      <td>1999</td>\n",
              "      <td>High</td>\n",
              "      <td>Tier 3</td>\n",
              "    </tr>\n",
              "    <tr>\n",
              "      <th>1</th>\n",
              "      <td>FDG47</td>\n",
              "      <td>10.434425</td>\n",
              "      <td>Household</td>\n",
              "      <td>263.600449</td>\n",
              "      <td>OUT018</td>\n",
              "      <td>1987</td>\n",
              "      <td>High</td>\n",
              "      <td>Tier 3</td>\n",
              "    </tr>\n",
              "    <tr>\n",
              "      <th>2</th>\n",
              "      <td>FDN21</td>\n",
              "      <td>11.953589</td>\n",
              "      <td>Health and Hygiene</td>\n",
              "      <td>246.286990</td>\n",
              "      <td>OUT018</td>\n",
              "      <td>1997</td>\n",
              "      <td>High</td>\n",
              "      <td>Tier 1</td>\n",
              "    </tr>\n",
              "    <tr>\n",
              "      <th>3</th>\n",
              "      <td>FDZ23</td>\n",
              "      <td>14.948546</td>\n",
              "      <td>Dairy</td>\n",
              "      <td>136.200508</td>\n",
              "      <td>OUT046</td>\n",
              "      <td>2004</td>\n",
              "      <td>Medium</td>\n",
              "      <td>Tier 2</td>\n",
              "    </tr>\n",
              "    <tr>\n",
              "      <th>4</th>\n",
              "      <td>FDC16</td>\n",
              "      <td>11.080042</td>\n",
              "      <td>Canned</td>\n",
              "      <td>173.145664</td>\n",
              "      <td>OUT018</td>\n",
              "      <td>2009</td>\n",
              "      <td>Medium</td>\n",
              "      <td>Tier 3</td>\n",
              "    </tr>\n",
              "  </tbody>\n",
              "</table>\n",
              "</div>"
            ],
            "text/plain": [
              "  Item_ID     Item_W  ... Outlet_Size  Outlet_Location_Type\n",
              "0   DRM23  10.156725  ...        High                Tier 3\n",
              "1   FDG47  10.434425  ...        High                Tier 3\n",
              "2   FDN21  11.953589  ...        High                Tier 1\n",
              "3   FDZ23  14.948546  ...      Medium                Tier 2\n",
              "4   FDC16  11.080042  ...      Medium                Tier 3\n",
              "\n",
              "[5 rows x 8 columns]"
            ]
          },
          "metadata": {},
          "execution_count": 229
        }
      ]
    },
    {
      "cell_type": "code",
      "metadata": {
        "colab": {
          "base_uri": "https://localhost:8080/"
        },
        "id": "Gdtapc39fZiE",
        "outputId": "4563e080-cd04-4967-b92c-448098485ddf"
      },
      "source": [
        "df.shape"
      ],
      "execution_count": null,
      "outputs": [
        {
          "output_type": "execute_result",
          "data": {
            "text/plain": [
              "(87864, 9)"
            ]
          },
          "metadata": {},
          "execution_count": 230
        }
      ]
    },
    {
      "cell_type": "code",
      "metadata": {
        "colab": {
          "base_uri": "https://localhost:8080/"
        },
        "id": "STCvXaMyjJbW",
        "outputId": "05ddf803-3249-457a-b8d1-521e2fd3f043"
      },
      "source": [
        "df.info()"
      ],
      "execution_count": null,
      "outputs": [
        {
          "output_type": "stream",
          "name": "stdout",
          "text": [
            "<class 'pandas.core.frame.DataFrame'>\n",
            "RangeIndex: 87864 entries, 0 to 87863\n",
            "Data columns (total 9 columns):\n",
            " #   Column                Non-Null Count  Dtype  \n",
            "---  ------                --------------  -----  \n",
            " 0   Item_ID               87864 non-null  object \n",
            " 1   Item_W                87864 non-null  float64\n",
            " 2   Item_Type             87864 non-null  object \n",
            " 3   Item_MRP              87864 non-null  float64\n",
            " 4   Outlet_ID             87864 non-null  object \n",
            " 5   Outlet_Year           87864 non-null  int64  \n",
            " 6   Outlet_Size           87864 non-null  object \n",
            " 7   Outlet_Location_Type  87864 non-null  object \n",
            " 8   Sales                 87864 non-null  float64\n",
            "dtypes: float64(3), int64(1), object(5)\n",
            "memory usage: 6.0+ MB\n"
          ]
        }
      ]
    },
    {
      "cell_type": "code",
      "metadata": {
        "colab": {
          "base_uri": "https://localhost:8080/",
          "height": 296
        },
        "id": "smdP369QjKUv",
        "outputId": "6d2db07d-629f-41e4-ef17-5355641f6d27"
      },
      "source": [
        "df.describe()"
      ],
      "execution_count": null,
      "outputs": [
        {
          "output_type": "execute_result",
          "data": {
            "text/html": [
              "<div>\n",
              "<style scoped>\n",
              "    .dataframe tbody tr th:only-of-type {\n",
              "        vertical-align: middle;\n",
              "    }\n",
              "\n",
              "    .dataframe tbody tr th {\n",
              "        vertical-align: top;\n",
              "    }\n",
              "\n",
              "    .dataframe thead th {\n",
              "        text-align: right;\n",
              "    }\n",
              "</style>\n",
              "<table border=\"1\" class=\"dataframe\">\n",
              "  <thead>\n",
              "    <tr style=\"text-align: right;\">\n",
              "      <th></th>\n",
              "      <th>Item_W</th>\n",
              "      <th>Item_MRP</th>\n",
              "      <th>Outlet_Year</th>\n",
              "      <th>Sales</th>\n",
              "    </tr>\n",
              "  </thead>\n",
              "  <tbody>\n",
              "    <tr>\n",
              "      <th>count</th>\n",
              "      <td>87864.000000</td>\n",
              "      <td>87864.000000</td>\n",
              "      <td>87864.00000</td>\n",
              "      <td>87864.000000</td>\n",
              "    </tr>\n",
              "    <tr>\n",
              "      <th>mean</th>\n",
              "      <td>15.591469</td>\n",
              "      <td>151.242943</td>\n",
              "      <td>1999.87063</td>\n",
              "      <td>1911.842120</td>\n",
              "    </tr>\n",
              "    <tr>\n",
              "      <th>std</th>\n",
              "      <td>4.364429</td>\n",
              "      <td>59.536366</td>\n",
              "      <td>6.63429</td>\n",
              "      <td>1291.386004</td>\n",
              "    </tr>\n",
              "    <tr>\n",
              "      <th>min</th>\n",
              "      <td>7.992700</td>\n",
              "      <td>32.910015</td>\n",
              "      <td>1987.00000</td>\n",
              "      <td>-1229.360345</td>\n",
              "    </tr>\n",
              "    <tr>\n",
              "      <th>25%</th>\n",
              "      <td>10.968658</td>\n",
              "      <td>112.423337</td>\n",
              "      <td>1997.00000</td>\n",
              "      <td>959.249675</td>\n",
              "    </tr>\n",
              "    <tr>\n",
              "      <th>50%</th>\n",
              "      <td>15.831170</td>\n",
              "      <td>145.581473</td>\n",
              "      <td>1999.00000</td>\n",
              "      <td>1606.307877</td>\n",
              "    </tr>\n",
              "    <tr>\n",
              "      <th>75%</th>\n",
              "      <td>19.969936</td>\n",
              "      <td>197.110367</td>\n",
              "      <td>2004.00000</td>\n",
              "      <td>2608.057736</td>\n",
              "    </tr>\n",
              "    <tr>\n",
              "      <th>max</th>\n",
              "      <td>21.250000</td>\n",
              "      <td>265.214271</td>\n",
              "      <td>2009.00000</td>\n",
              "      <td>10309.283310</td>\n",
              "    </tr>\n",
              "  </tbody>\n",
              "</table>\n",
              "</div>"
            ],
            "text/plain": [
              "             Item_W      Item_MRP  Outlet_Year         Sales\n",
              "count  87864.000000  87864.000000  87864.00000  87864.000000\n",
              "mean      15.591469    151.242943   1999.87063   1911.842120\n",
              "std        4.364429     59.536366      6.63429   1291.386004\n",
              "min        7.992700     32.910015   1987.00000  -1229.360345\n",
              "25%       10.968658    112.423337   1997.00000    959.249675\n",
              "50%       15.831170    145.581473   1999.00000   1606.307877\n",
              "75%       19.969936    197.110367   2004.00000   2608.057736\n",
              "max       21.250000    265.214271   2009.00000  10309.283310"
            ]
          },
          "metadata": {},
          "execution_count": 232
        }
      ]
    },
    {
      "cell_type": "code",
      "metadata": {
        "colab": {
          "base_uri": "https://localhost:8080/"
        },
        "id": "SS2-tiGNjOZL",
        "outputId": "5187f0d3-23d8-43fc-f4fd-2c815058c1b0"
      },
      "source": [
        "df.isnull().sum()"
      ],
      "execution_count": null,
      "outputs": [
        {
          "output_type": "execute_result",
          "data": {
            "text/plain": [
              "Item_ID                 0\n",
              "Item_W                  0\n",
              "Item_Type               0\n",
              "Item_MRP                0\n",
              "Outlet_ID               0\n",
              "Outlet_Year             0\n",
              "Outlet_Size             0\n",
              "Outlet_Location_Type    0\n",
              "Sales                   0\n",
              "dtype: int64"
            ]
          },
          "metadata": {},
          "execution_count": 233
        }
      ]
    },
    {
      "cell_type": "code",
      "metadata": {
        "colab": {
          "base_uri": "https://localhost:8080/"
        },
        "id": "rcyDTrLujRYE",
        "outputId": "073593de-f180-4cdf-aa12-41568f902f34"
      },
      "source": [
        "test.shape"
      ],
      "execution_count": null,
      "outputs": [
        {
          "output_type": "execute_result",
          "data": {
            "text/plain": [
              "(37656, 8)"
            ]
          },
          "metadata": {},
          "execution_count": 234
        }
      ]
    },
    {
      "cell_type": "code",
      "metadata": {
        "colab": {
          "base_uri": "https://localhost:8080/"
        },
        "id": "yVfCQAMdlDzm",
        "outputId": "796aa6c8-c2fd-4257-ea43-1a1719cbe055"
      },
      "source": [
        "test.isnull().sum()"
      ],
      "execution_count": null,
      "outputs": [
        {
          "output_type": "execute_result",
          "data": {
            "text/plain": [
              "Item_ID                 0\n",
              "Item_W                  0\n",
              "Item_Type               0\n",
              "Item_MRP                0\n",
              "Outlet_ID               0\n",
              "Outlet_Year             0\n",
              "Outlet_Size             0\n",
              "Outlet_Location_Type    0\n",
              "dtype: int64"
            ]
          },
          "metadata": {},
          "execution_count": 235
        }
      ]
    },
    {
      "cell_type": "code",
      "metadata": {
        "id": "omZ8vBA9lHPJ"
      },
      "source": [
        "# df.drop(columns=['Item_ID'],axis = 1,inplace = True)"
      ],
      "execution_count": null,
      "outputs": []
    },
    {
      "cell_type": "code",
      "metadata": {
        "colab": {
          "base_uri": "https://localhost:8080/",
          "height": 630
        },
        "id": "MCdH4mx6qFOh",
        "outputId": "1a48af7e-7568-4c4d-b555-b80da67663c8"
      },
      "source": [
        "df.groupby('Item_Type')['Item_MRP','Item_W'].mean()"
      ],
      "execution_count": null,
      "outputs": [
        {
          "output_type": "stream",
          "name": "stderr",
          "text": [
            "/usr/local/lib/python3.7/dist-packages/ipykernel_launcher.py:1: FutureWarning: Indexing with multiple keys (implicitly converted to a tuple of keys) will be deprecated, use a list instead.\n",
            "  \"\"\"Entry point for launching an IPython kernel.\n"
          ]
        },
        {
          "output_type": "execute_result",
          "data": {
            "text/html": [
              "<div>\n",
              "<style scoped>\n",
              "    .dataframe tbody tr th:only-of-type {\n",
              "        vertical-align: middle;\n",
              "    }\n",
              "\n",
              "    .dataframe tbody tr th {\n",
              "        vertical-align: top;\n",
              "    }\n",
              "\n",
              "    .dataframe thead th {\n",
              "        text-align: right;\n",
              "    }\n",
              "</style>\n",
              "<table border=\"1\" class=\"dataframe\">\n",
              "  <thead>\n",
              "    <tr style=\"text-align: right;\">\n",
              "      <th></th>\n",
              "      <th>Item_MRP</th>\n",
              "      <th>Item_W</th>\n",
              "    </tr>\n",
              "    <tr>\n",
              "      <th>Item_Type</th>\n",
              "      <th></th>\n",
              "      <th></th>\n",
              "    </tr>\n",
              "  </thead>\n",
              "  <tbody>\n",
              "    <tr>\n",
              "      <th>Baking Goods</th>\n",
              "      <td>150.702459</td>\n",
              "      <td>15.053796</td>\n",
              "    </tr>\n",
              "    <tr>\n",
              "      <th>Breads</th>\n",
              "      <td>147.199312</td>\n",
              "      <td>15.270986</td>\n",
              "    </tr>\n",
              "    <tr>\n",
              "      <th>Breakfast</th>\n",
              "      <td>156.858735</td>\n",
              "      <td>16.637266</td>\n",
              "    </tr>\n",
              "    <tr>\n",
              "      <th>Canned</th>\n",
              "      <td>153.352637</td>\n",
              "      <td>16.179592</td>\n",
              "    </tr>\n",
              "    <tr>\n",
              "      <th>Dairy</th>\n",
              "      <td>155.376347</td>\n",
              "      <td>16.564873</td>\n",
              "    </tr>\n",
              "    <tr>\n",
              "      <th>Frozen Foods</th>\n",
              "      <td>154.739848</td>\n",
              "      <td>16.436911</td>\n",
              "    </tr>\n",
              "    <tr>\n",
              "      <th>Fruits and Vegetables</th>\n",
              "      <td>147.637898</td>\n",
              "      <td>15.340384</td>\n",
              "    </tr>\n",
              "    <tr>\n",
              "      <th>Hard Drinks</th>\n",
              "      <td>151.503811</td>\n",
              "      <td>14.901788</td>\n",
              "    </tr>\n",
              "    <tr>\n",
              "      <th>Health and Hygiene</th>\n",
              "      <td>154.309473</td>\n",
              "      <td>16.252626</td>\n",
              "    </tr>\n",
              "    <tr>\n",
              "      <th>Household</th>\n",
              "      <td>154.517991</td>\n",
              "      <td>16.264300</td>\n",
              "    </tr>\n",
              "    <tr>\n",
              "      <th>Meat</th>\n",
              "      <td>151.695326</td>\n",
              "      <td>14.918820</td>\n",
              "    </tr>\n",
              "    <tr>\n",
              "      <th>Others</th>\n",
              "      <td>148.687969</td>\n",
              "      <td>14.957866</td>\n",
              "    </tr>\n",
              "    <tr>\n",
              "      <th>Seafood</th>\n",
              "      <td>151.255273</td>\n",
              "      <td>15.184987</td>\n",
              "    </tr>\n",
              "    <tr>\n",
              "      <th>Snack Foods</th>\n",
              "      <td>154.001620</td>\n",
              "      <td>16.476871</td>\n",
              "    </tr>\n",
              "    <tr>\n",
              "      <th>Soft Drinks</th>\n",
              "      <td>149.410418</td>\n",
              "      <td>15.513756</td>\n",
              "    </tr>\n",
              "    <tr>\n",
              "      <th>Starchy Foods</th>\n",
              "      <td>148.300318</td>\n",
              "      <td>15.280808</td>\n",
              "    </tr>\n",
              "  </tbody>\n",
              "</table>\n",
              "</div>"
            ],
            "text/plain": [
              "                         Item_MRP     Item_W\n",
              "Item_Type                                   \n",
              "Baking Goods           150.702459  15.053796\n",
              "Breads                 147.199312  15.270986\n",
              "Breakfast              156.858735  16.637266\n",
              "Canned                 153.352637  16.179592\n",
              "Dairy                  155.376347  16.564873\n",
              "Frozen Foods           154.739848  16.436911\n",
              "Fruits and Vegetables  147.637898  15.340384\n",
              "Hard Drinks            151.503811  14.901788\n",
              "Health and Hygiene     154.309473  16.252626\n",
              "Household              154.517991  16.264300\n",
              "Meat                   151.695326  14.918820\n",
              "Others                 148.687969  14.957866\n",
              "Seafood                151.255273  15.184987\n",
              "Snack Foods            154.001620  16.476871\n",
              "Soft Drinks            149.410418  15.513756\n",
              "Starchy Foods          148.300318  15.280808"
            ]
          },
          "metadata": {},
          "execution_count": 237
        }
      ]
    },
    {
      "cell_type": "code",
      "metadata": {
        "colab": {
          "base_uri": "https://localhost:8080/"
        },
        "id": "giJCPaWUrqra",
        "outputId": "9025f4c2-c132-4e09-97ff-7b063c5dab90"
      },
      "source": [
        "df['Item_ID'].value_counts(normalize=True)*100"
      ],
      "execution_count": null,
      "outputs": [
        {
          "output_type": "execute_result",
          "data": {
            "text/plain": [
              "FDE11    0.476873\n",
              "NCE07    0.412000\n",
              "NCL18    0.393790\n",
              "NCO06    0.382409\n",
              "FDD51    0.374442\n",
              "           ...   \n",
              "DRF60    0.002276\n",
              "FDB20    0.002276\n",
              "FDM15    0.002276\n",
              "FDA22    0.001138\n",
              "NCM19    0.001138\n",
              "Name: Item_ID, Length: 895, dtype: float64"
            ]
          },
          "metadata": {},
          "execution_count": 238
        }
      ]
    },
    {
      "cell_type": "code",
      "metadata": {
        "id": "DgSw_TfIrz_x"
      },
      "source": [
        "df['Item_category']=df['Item_ID'].str[:2]"
      ],
      "execution_count": null,
      "outputs": []
    },
    {
      "cell_type": "code",
      "metadata": {
        "id": "ZWI8sCIhsYdS"
      },
      "source": [
        "test['Item_category']=test['Item_ID'].str[:2]"
      ],
      "execution_count": null,
      "outputs": []
    },
    {
      "cell_type": "code",
      "metadata": {
        "id": "1L0eC5fEstSD"
      },
      "source": [
        "df['new_item']=df['Item_ID'].str[-2:].astype('int')"
      ],
      "execution_count": null,
      "outputs": []
    },
    {
      "cell_type": "code",
      "metadata": {
        "id": "krfMocsjsyld"
      },
      "source": [
        "test['new_item']=df['Item_ID'].str[-2:].astype('int')"
      ],
      "execution_count": null,
      "outputs": []
    },
    {
      "cell_type": "code",
      "metadata": {
        "colab": {
          "base_uri": "https://localhost:8080/",
          "height": 204
        },
        "id": "1qdM98Tes2wI",
        "outputId": "685aceb7-e685-4f43-fe80-e82fda1c35b1"
      },
      "source": [
        "df[:5]"
      ],
      "execution_count": null,
      "outputs": [
        {
          "output_type": "execute_result",
          "data": {
            "text/html": [
              "<div>\n",
              "<style scoped>\n",
              "    .dataframe tbody tr th:only-of-type {\n",
              "        vertical-align: middle;\n",
              "    }\n",
              "\n",
              "    .dataframe tbody tr th {\n",
              "        vertical-align: top;\n",
              "    }\n",
              "\n",
              "    .dataframe thead th {\n",
              "        text-align: right;\n",
              "    }\n",
              "</style>\n",
              "<table border=\"1\" class=\"dataframe\">\n",
              "  <thead>\n",
              "    <tr style=\"text-align: right;\">\n",
              "      <th></th>\n",
              "      <th>Item_ID</th>\n",
              "      <th>Item_W</th>\n",
              "      <th>Item_Type</th>\n",
              "      <th>Item_MRP</th>\n",
              "      <th>Outlet_ID</th>\n",
              "      <th>Outlet_Year</th>\n",
              "      <th>Outlet_Size</th>\n",
              "      <th>Outlet_Location_Type</th>\n",
              "      <th>Sales</th>\n",
              "      <th>Item_category</th>\n",
              "      <th>new_item</th>\n",
              "    </tr>\n",
              "  </thead>\n",
              "  <tbody>\n",
              "    <tr>\n",
              "      <th>0</th>\n",
              "      <td>FDU32</td>\n",
              "      <td>21.027499</td>\n",
              "      <td>Baking Goods</td>\n",
              "      <td>197.352319</td>\n",
              "      <td>OUT046</td>\n",
              "      <td>2004</td>\n",
              "      <td>Small</td>\n",
              "      <td>Tier 2</td>\n",
              "      <td>2689.457781</td>\n",
              "      <td>FD</td>\n",
              "      <td>32</td>\n",
              "    </tr>\n",
              "    <tr>\n",
              "      <th>1</th>\n",
              "      <td>NCT54</td>\n",
              "      <td>21.102371</td>\n",
              "      <td>Meat</td>\n",
              "      <td>148.250214</td>\n",
              "      <td>OUT035</td>\n",
              "      <td>1987</td>\n",
              "      <td>Small</td>\n",
              "      <td>Tier 1</td>\n",
              "      <td>3437.350375</td>\n",
              "      <td>NC</td>\n",
              "      <td>54</td>\n",
              "    </tr>\n",
              "    <tr>\n",
              "      <th>2</th>\n",
              "      <td>FDW08</td>\n",
              "      <td>20.882263</td>\n",
              "      <td>Hard Drinks</td>\n",
              "      <td>205.465010</td>\n",
              "      <td>OUT035</td>\n",
              "      <td>1999</td>\n",
              "      <td>Small</td>\n",
              "      <td>Tier 3</td>\n",
              "      <td>3129.967268</td>\n",
              "      <td>FD</td>\n",
              "      <td>8</td>\n",
              "    </tr>\n",
              "    <tr>\n",
              "      <th>3</th>\n",
              "      <td>FDJ22</td>\n",
              "      <td>21.050435</td>\n",
              "      <td>Starchy Foods</td>\n",
              "      <td>253.417583</td>\n",
              "      <td>OUT046</td>\n",
              "      <td>1996</td>\n",
              "      <td>Small</td>\n",
              "      <td>Tier 1</td>\n",
              "      <td>1306.514376</td>\n",
              "      <td>FD</td>\n",
              "      <td>22</td>\n",
              "    </tr>\n",
              "    <tr>\n",
              "      <th>4</th>\n",
              "      <td>FDF47</td>\n",
              "      <td>21.247876</td>\n",
              "      <td>Baking Goods</td>\n",
              "      <td>240.871039</td>\n",
              "      <td>OUT035</td>\n",
              "      <td>1988</td>\n",
              "      <td>Small</td>\n",
              "      <td>Tier 3</td>\n",
              "      <td>1739.769829</td>\n",
              "      <td>FD</td>\n",
              "      <td>47</td>\n",
              "    </tr>\n",
              "  </tbody>\n",
              "</table>\n",
              "</div>"
            ],
            "text/plain": [
              "  Item_ID     Item_W      Item_Type  ...        Sales Item_category  new_item\n",
              "0   FDU32  21.027499   Baking Goods  ...  2689.457781            FD        32\n",
              "1   NCT54  21.102371           Meat  ...  3437.350375            NC        54\n",
              "2   FDW08  20.882263    Hard Drinks  ...  3129.967268            FD         8\n",
              "3   FDJ22  21.050435  Starchy Foods  ...  1306.514376            FD        22\n",
              "4   FDF47  21.247876   Baking Goods  ...  1739.769829            FD        47\n",
              "\n",
              "[5 rows x 11 columns]"
            ]
          },
          "metadata": {},
          "execution_count": 243
        }
      ]
    },
    {
      "cell_type": "code",
      "metadata": {
        "colab": {
          "base_uri": "https://localhost:8080/",
          "height": 204
        },
        "id": "jIoxteeMs4t1",
        "outputId": "f55f753e-9a31-4254-e69f-23eb344b933f"
      },
      "source": [
        "test[:5]"
      ],
      "execution_count": null,
      "outputs": [
        {
          "output_type": "execute_result",
          "data": {
            "text/html": [
              "<div>\n",
              "<style scoped>\n",
              "    .dataframe tbody tr th:only-of-type {\n",
              "        vertical-align: middle;\n",
              "    }\n",
              "\n",
              "    .dataframe tbody tr th {\n",
              "        vertical-align: top;\n",
              "    }\n",
              "\n",
              "    .dataframe thead th {\n",
              "        text-align: right;\n",
              "    }\n",
              "</style>\n",
              "<table border=\"1\" class=\"dataframe\">\n",
              "  <thead>\n",
              "    <tr style=\"text-align: right;\">\n",
              "      <th></th>\n",
              "      <th>Item_ID</th>\n",
              "      <th>Item_W</th>\n",
              "      <th>Item_Type</th>\n",
              "      <th>Item_MRP</th>\n",
              "      <th>Outlet_ID</th>\n",
              "      <th>Outlet_Year</th>\n",
              "      <th>Outlet_Size</th>\n",
              "      <th>Outlet_Location_Type</th>\n",
              "      <th>Item_category</th>\n",
              "      <th>new_item</th>\n",
              "    </tr>\n",
              "  </thead>\n",
              "  <tbody>\n",
              "    <tr>\n",
              "      <th>0</th>\n",
              "      <td>DRM23</td>\n",
              "      <td>10.156725</td>\n",
              "      <td>Snack Foods</td>\n",
              "      <td>119.319482</td>\n",
              "      <td>OUT013</td>\n",
              "      <td>1999</td>\n",
              "      <td>High</td>\n",
              "      <td>Tier 3</td>\n",
              "      <td>DR</td>\n",
              "      <td>32</td>\n",
              "    </tr>\n",
              "    <tr>\n",
              "      <th>1</th>\n",
              "      <td>FDG47</td>\n",
              "      <td>10.434425</td>\n",
              "      <td>Household</td>\n",
              "      <td>263.600449</td>\n",
              "      <td>OUT018</td>\n",
              "      <td>1987</td>\n",
              "      <td>High</td>\n",
              "      <td>Tier 3</td>\n",
              "      <td>FD</td>\n",
              "      <td>54</td>\n",
              "    </tr>\n",
              "    <tr>\n",
              "      <th>2</th>\n",
              "      <td>FDN21</td>\n",
              "      <td>11.953589</td>\n",
              "      <td>Health and Hygiene</td>\n",
              "      <td>246.286990</td>\n",
              "      <td>OUT018</td>\n",
              "      <td>1997</td>\n",
              "      <td>High</td>\n",
              "      <td>Tier 1</td>\n",
              "      <td>FD</td>\n",
              "      <td>8</td>\n",
              "    </tr>\n",
              "    <tr>\n",
              "      <th>3</th>\n",
              "      <td>FDZ23</td>\n",
              "      <td>14.948546</td>\n",
              "      <td>Dairy</td>\n",
              "      <td>136.200508</td>\n",
              "      <td>OUT046</td>\n",
              "      <td>2004</td>\n",
              "      <td>Medium</td>\n",
              "      <td>Tier 2</td>\n",
              "      <td>FD</td>\n",
              "      <td>22</td>\n",
              "    </tr>\n",
              "    <tr>\n",
              "      <th>4</th>\n",
              "      <td>FDC16</td>\n",
              "      <td>11.080042</td>\n",
              "      <td>Canned</td>\n",
              "      <td>173.145664</td>\n",
              "      <td>OUT018</td>\n",
              "      <td>2009</td>\n",
              "      <td>Medium</td>\n",
              "      <td>Tier 3</td>\n",
              "      <td>FD</td>\n",
              "      <td>47</td>\n",
              "    </tr>\n",
              "  </tbody>\n",
              "</table>\n",
              "</div>"
            ],
            "text/plain": [
              "  Item_ID     Item_W  ... Item_category  new_item\n",
              "0   DRM23  10.156725  ...            DR        32\n",
              "1   FDG47  10.434425  ...            FD        54\n",
              "2   FDN21  11.953589  ...            FD         8\n",
              "3   FDZ23  14.948546  ...            FD        22\n",
              "4   FDC16  11.080042  ...            FD        47\n",
              "\n",
              "[5 rows x 10 columns]"
            ]
          },
          "metadata": {},
          "execution_count": 244
        }
      ]
    },
    {
      "cell_type": "code",
      "metadata": {
        "colab": {
          "base_uri": "https://localhost:8080/",
          "height": 536
        },
        "id": "ZhU0KnDBs5nz",
        "outputId": "8911e7cf-f0dd-4db3-f856-a83917655fd5"
      },
      "source": [
        "plt.figure(figsize=(16,6))\n",
        "plt.xticks(rotation=45)\n",
        "sns.countplot(df['Item_Type'])\n"
      ],
      "execution_count": null,
      "outputs": [
        {
          "output_type": "stream",
          "name": "stderr",
          "text": [
            "/usr/local/lib/python3.7/dist-packages/seaborn/_decorators.py:43: FutureWarning: Pass the following variable as a keyword arg: x. From version 0.12, the only valid positional argument will be `data`, and passing other arguments without an explicit keyword will result in an error or misinterpretation.\n",
            "  FutureWarning\n"
          ]
        },
        {
          "output_type": "execute_result",
          "data": {
            "text/plain": [
              "<matplotlib.axes._subplots.AxesSubplot at 0x7fc7724afdd0>"
            ]
          },
          "metadata": {},
          "execution_count": 245
        },
        {
          "output_type": "display_data",
          "data": {
            "image/png": "[encoded data removed]",
            "text/plain": [
              "<Figure size 1152x432 with 1 Axes>"
            ]
          },
          "metadata": {
            "needs_background": "light"
          }
        }
      ]
    },
    {
      "cell_type": "code",
      "metadata": {
        "colab": {
          "base_uri": "https://localhost:8080/",
          "height": 353
        },
        "id": "PTm5T5o8uY6v",
        "outputId": "befbe87c-e048-4ca8-d5dc-9d5eb37482d8"
      },
      "source": [
        "sns.distplot(df['Item_MRP'],bins=100)"
      ],
      "execution_count": null,
      "outputs": [
        {
          "output_type": "stream",
          "name": "stderr",
          "text": [
            "/usr/local/lib/python3.7/dist-packages/seaborn/distributions.py:2619: FutureWarning: `distplot` is a deprecated function and will be removed in a future version. Please adapt your code to use either `displot` (a figure-level function with similar flexibility) or `histplot` (an axes-level function for histograms).\n",
            "  warnings.warn(msg, FutureWarning)\n"
          ]
        },
        {
          "output_type": "execute_result",
          "data": {
            "text/plain": [
              "<matplotlib.axes._subplots.AxesSubplot at 0x7fc771bdb8d0>"
            ]
          },
          "metadata": {},
          "execution_count": 246
        },
        {
          "output_type": "display_data",
          "data": {
            "image/png": "[encoded data removed]",
            "text/plain": [
              "<Figure size 432x288 with 1 Axes>"
            ]
          },
          "metadata": {
            "needs_background": "light"
          }
        }
      ]
    },
    {
      "cell_type": "code",
      "metadata": {
        "id": "ZSE9hZFOt5yP"
      },
      "source": [
        "def convert_into_one_hot_encoded_form(s):\n",
        "    if s<=67.5:\n",
        "        return 0\n",
        "    elif (s>67.5) & (s<=134.5):\n",
        "        return 1\n",
        "    elif (s>134.5) & (s<=201.1):\n",
        "        return 2\n",
        "    else:\n",
        "        return 3"
      ],
      "execution_count": null,
      "outputs": []
    },
    {
      "cell_type": "code",
      "metadata": {
        "id": "cKa7DZ2OuWL3"
      },
      "source": [
        "df['MRP_bins']=df['Item_MRP'].apply(convert_into_one_hot_encoded_form)"
      ],
      "execution_count": null,
      "outputs": []
    },
    {
      "cell_type": "code",
      "metadata": {
        "colab": {
          "base_uri": "https://localhost:8080/",
          "height": 353
        },
        "id": "NgmZOzYRudBh",
        "outputId": "c6ae93a5-193e-420d-bd8b-513e39d9fc91"
      },
      "source": [
        "sns.distplot(df['MRP_bins'],bins=100)"
      ],
      "execution_count": null,
      "outputs": [
        {
          "output_type": "stream",
          "name": "stderr",
          "text": [
            "/usr/local/lib/python3.7/dist-packages/seaborn/distributions.py:2619: FutureWarning: `distplot` is a deprecated function and will be removed in a future version. Please adapt your code to use either `displot` (a figure-level function with similar flexibility) or `histplot` (an axes-level function for histograms).\n",
            "  warnings.warn(msg, FutureWarning)\n"
          ]
        },
        {
          "output_type": "execute_result",
          "data": {
            "text/plain": [
              "<matplotlib.axes._subplots.AxesSubplot at 0x7fc7731b0450>"
            ]
          },
          "metadata": {},
          "execution_count": 249
        },
        {
          "output_type": "display_data",
          "data": {
            "image/png": "[encoded data removed]",
            "text/plain": [
              "<Figure size 432x288 with 1 Axes>"
            ]
          },
          "metadata": {
            "needs_background": "light"
          }
        }
      ]
    },
    {
      "cell_type": "code",
      "metadata": {
        "id": "N_CO15ZZur6d"
      },
      "source": [
        "test['MRP_bins']=test['Item_MRP'].apply(convert_into_one_hot_encoded_form)"
      ],
      "execution_count": null,
      "outputs": []
    },
    {
      "cell_type": "code",
      "metadata": {
        "colab": {
          "base_uri": "https://localhost:8080/"
        },
        "id": "foWdllQqu5bv",
        "outputId": "2067fc0b-db9a-46d0-9f44-09b21655432a"
      },
      "source": [
        "df['Outlet_ID'].value_counts()"
      ],
      "execution_count": null,
      "outputs": [
        {
          "output_type": "execute_result",
          "data": {
            "text/plain": [
              "OUT035    24071\n",
              "OUT046    20850\n",
              "OUT018    17156\n",
              "OUT049    13356\n",
              "OUT013    12431\n",
              "Name: Outlet_ID, dtype: int64"
            ]
          },
          "metadata": {},
          "execution_count": 251
        }
      ]
    },
    {
      "cell_type": "code",
      "metadata": {
        "id": "X_lEVZnHvAiW"
      },
      "source": [
        "df['new_outlet']=df['Outlet_ID'].str.split('0').str.get(1).astype('int')"
      ],
      "execution_count": null,
      "outputs": []
    },
    {
      "cell_type": "code",
      "metadata": {
        "id": "B1nqDYGivJHe"
      },
      "source": [
        "test['new_outlet']=test['Outlet_ID'].str.split('0').str.get(1).astype('int')"
      ],
      "execution_count": null,
      "outputs": []
    },
    {
      "cell_type": "code",
      "metadata": {
        "colab": {
          "base_uri": "https://localhost:8080/",
          "height": 254
        },
        "id": "SWt6hlFWvOkA",
        "outputId": "23c966d9-b429-469e-88c0-e2bae52e7c41"
      },
      "source": [
        "df[:5]"
      ],
      "execution_count": null,
      "outputs": [
        {
          "output_type": "execute_result",
          "data": {
            "text/html": [
              "<div>\n",
              "<style scoped>\n",
              "    .dataframe tbody tr th:only-of-type {\n",
              "        vertical-align: middle;\n",
              "    }\n",
              "\n",
              "    .dataframe tbody tr th {\n",
              "        vertical-align: top;\n",
              "    }\n",
              "\n",
              "    .dataframe thead th {\n",
              "        text-align: right;\n",
              "    }\n",
              "</style>\n",
              "<table border=\"1\" class=\"dataframe\">\n",
              "  <thead>\n",
              "    <tr style=\"text-align: right;\">\n",
              "      <th></th>\n",
              "      <th>Item_ID</th>\n",
              "      <th>Item_W</th>\n",
              "      <th>Item_Type</th>\n",
              "      <th>Item_MRP</th>\n",
              "      <th>Outlet_ID</th>\n",
              "      <th>Outlet_Year</th>\n",
              "      <th>Outlet_Size</th>\n",
              "      <th>Outlet_Location_Type</th>\n",
              "      <th>Sales</th>\n",
              "      <th>Item_category</th>\n",
              "      <th>new_item</th>\n",
              "      <th>MRP_bins</th>\n",
              "      <th>new_outlet</th>\n",
              "    </tr>\n",
              "  </thead>\n",
              "  <tbody>\n",
              "    <tr>\n",
              "      <th>0</th>\n",
              "      <td>FDU32</td>\n",
              "      <td>21.027499</td>\n",
              "      <td>Baking Goods</td>\n",
              "      <td>197.352319</td>\n",
              "      <td>OUT046</td>\n",
              "      <td>2004</td>\n",
              "      <td>Small</td>\n",
              "      <td>Tier 2</td>\n",
              "      <td>2689.457781</td>\n",
              "      <td>FD</td>\n",
              "      <td>32</td>\n",
              "      <td>2</td>\n",
              "      <td>46</td>\n",
              "    </tr>\n",
              "    <tr>\n",
              "      <th>1</th>\n",
              "      <td>NCT54</td>\n",
              "      <td>21.102371</td>\n",
              "      <td>Meat</td>\n",
              "      <td>148.250214</td>\n",
              "      <td>OUT035</td>\n",
              "      <td>1987</td>\n",
              "      <td>Small</td>\n",
              "      <td>Tier 1</td>\n",
              "      <td>3437.350375</td>\n",
              "      <td>NC</td>\n",
              "      <td>54</td>\n",
              "      <td>2</td>\n",
              "      <td>35</td>\n",
              "    </tr>\n",
              "    <tr>\n",
              "      <th>2</th>\n",
              "      <td>FDW08</td>\n",
              "      <td>20.882263</td>\n",
              "      <td>Hard Drinks</td>\n",
              "      <td>205.465010</td>\n",
              "      <td>OUT035</td>\n",
              "      <td>1999</td>\n",
              "      <td>Small</td>\n",
              "      <td>Tier 3</td>\n",
              "      <td>3129.967268</td>\n",
              "      <td>FD</td>\n",
              "      <td>8</td>\n",
              "      <td>3</td>\n",
              "      <td>35</td>\n",
              "    </tr>\n",
              "    <tr>\n",
              "      <th>3</th>\n",
              "      <td>FDJ22</td>\n",
              "      <td>21.050435</td>\n",
              "      <td>Starchy Foods</td>\n",
              "      <td>253.417583</td>\n",
              "      <td>OUT046</td>\n",
              "      <td>1996</td>\n",
              "      <td>Small</td>\n",
              "      <td>Tier 1</td>\n",
              "      <td>1306.514376</td>\n",
              "      <td>FD</td>\n",
              "      <td>22</td>\n",
              "      <td>3</td>\n",
              "      <td>46</td>\n",
              "    </tr>\n",
              "    <tr>\n",
              "      <th>4</th>\n",
              "      <td>FDF47</td>\n",
              "      <td>21.247876</td>\n",
              "      <td>Baking Goods</td>\n",
              "      <td>240.871039</td>\n",
              "      <td>OUT035</td>\n",
              "      <td>1988</td>\n",
              "      <td>Small</td>\n",
              "      <td>Tier 3</td>\n",
              "      <td>1739.769829</td>\n",
              "      <td>FD</td>\n",
              "      <td>47</td>\n",
              "      <td>3</td>\n",
              "      <td>35</td>\n",
              "    </tr>\n",
              "  </tbody>\n",
              "</table>\n",
              "</div>"
            ],
            "text/plain": [
              "  Item_ID     Item_W      Item_Type  ...  new_item MRP_bins  new_outlet\n",
              "0   FDU32  21.027499   Baking Goods  ...        32        2          46\n",
              "1   NCT54  21.102371           Meat  ...        54        2          35\n",
              "2   FDW08  20.882263    Hard Drinks  ...         8        3          35\n",
              "3   FDJ22  21.050435  Starchy Foods  ...        22        3          46\n",
              "4   FDF47  21.247876   Baking Goods  ...        47        3          35\n",
              "\n",
              "[5 rows x 13 columns]"
            ]
          },
          "metadata": {},
          "execution_count": 254
        }
      ]
    },
    {
      "cell_type": "code",
      "metadata": {
        "colab": {
          "base_uri": "https://localhost:8080/",
          "height": 204
        },
        "id": "gT_ZtVMMvRqx",
        "outputId": "65e52701-8f49-4172-908a-008bbe485298"
      },
      "source": [
        "test[:5]"
      ],
      "execution_count": null,
      "outputs": [
        {
          "output_type": "execute_result",
          "data": {
            "text/html": [
              "<div>\n",
              "<style scoped>\n",
              "    .dataframe tbody tr th:only-of-type {\n",
              "        vertical-align: middle;\n",
              "    }\n",
              "\n",
              "    .dataframe tbody tr th {\n",
              "        vertical-align: top;\n",
              "    }\n",
              "\n",
              "    .dataframe thead th {\n",
              "        text-align: right;\n",
              "    }\n",
              "</style>\n",
              "<table border=\"1\" class=\"dataframe\">\n",
              "  <thead>\n",
              "    <tr style=\"text-align: right;\">\n",
              "      <th></th>\n",
              "      <th>Item_ID</th>\n",
              "      <th>Item_W</th>\n",
              "      <th>Item_Type</th>\n",
              "      <th>Item_MRP</th>\n",
              "      <th>Outlet_ID</th>\n",
              "      <th>Outlet_Year</th>\n",
              "      <th>Outlet_Size</th>\n",
              "      <th>Outlet_Location_Type</th>\n",
              "      <th>Item_category</th>\n",
              "      <th>new_item</th>\n",
              "      <th>MRP_bins</th>\n",
              "      <th>new_outlet</th>\n",
              "    </tr>\n",
              "  </thead>\n",
              "  <tbody>\n",
              "    <tr>\n",
              "      <th>0</th>\n",
              "      <td>DRM23</td>\n",
              "      <td>10.156725</td>\n",
              "      <td>Snack Foods</td>\n",
              "      <td>119.319482</td>\n",
              "      <td>OUT013</td>\n",
              "      <td>1999</td>\n",
              "      <td>High</td>\n",
              "      <td>Tier 3</td>\n",
              "      <td>DR</td>\n",
              "      <td>32</td>\n",
              "      <td>1</td>\n",
              "      <td>13</td>\n",
              "    </tr>\n",
              "    <tr>\n",
              "      <th>1</th>\n",
              "      <td>FDG47</td>\n",
              "      <td>10.434425</td>\n",
              "      <td>Household</td>\n",
              "      <td>263.600449</td>\n",
              "      <td>OUT018</td>\n",
              "      <td>1987</td>\n",
              "      <td>High</td>\n",
              "      <td>Tier 3</td>\n",
              "      <td>FD</td>\n",
              "      <td>54</td>\n",
              "      <td>3</td>\n",
              "      <td>18</td>\n",
              "    </tr>\n",
              "    <tr>\n",
              "      <th>2</th>\n",
              "      <td>FDN21</td>\n",
              "      <td>11.953589</td>\n",
              "      <td>Health and Hygiene</td>\n",
              "      <td>246.286990</td>\n",
              "      <td>OUT018</td>\n",
              "      <td>1997</td>\n",
              "      <td>High</td>\n",
              "      <td>Tier 1</td>\n",
              "      <td>FD</td>\n",
              "      <td>8</td>\n",
              "      <td>3</td>\n",
              "      <td>18</td>\n",
              "    </tr>\n",
              "    <tr>\n",
              "      <th>3</th>\n",
              "      <td>FDZ23</td>\n",
              "      <td>14.948546</td>\n",
              "      <td>Dairy</td>\n",
              "      <td>136.200508</td>\n",
              "      <td>OUT046</td>\n",
              "      <td>2004</td>\n",
              "      <td>Medium</td>\n",
              "      <td>Tier 2</td>\n",
              "      <td>FD</td>\n",
              "      <td>22</td>\n",
              "      <td>2</td>\n",
              "      <td>46</td>\n",
              "    </tr>\n",
              "    <tr>\n",
              "      <th>4</th>\n",
              "      <td>FDC16</td>\n",
              "      <td>11.080042</td>\n",
              "      <td>Canned</td>\n",
              "      <td>173.145664</td>\n",
              "      <td>OUT018</td>\n",
              "      <td>2009</td>\n",
              "      <td>Medium</td>\n",
              "      <td>Tier 3</td>\n",
              "      <td>FD</td>\n",
              "      <td>47</td>\n",
              "      <td>2</td>\n",
              "      <td>18</td>\n",
              "    </tr>\n",
              "  </tbody>\n",
              "</table>\n",
              "</div>"
            ],
            "text/plain": [
              "  Item_ID     Item_W           Item_Type  ...  new_item MRP_bins  new_outlet\n",
              "0   DRM23  10.156725         Snack Foods  ...        32        1          13\n",
              "1   FDG47  10.434425           Household  ...        54        3          18\n",
              "2   FDN21  11.953589  Health and Hygiene  ...         8        3          18\n",
              "3   FDZ23  14.948546               Dairy  ...        22        2          46\n",
              "4   FDC16  11.080042              Canned  ...        47        2          18\n",
              "\n",
              "[5 rows x 12 columns]"
            ]
          },
          "metadata": {},
          "execution_count": 255
        }
      ]
    },
    {
      "cell_type": "code",
      "metadata": {
        "colab": {
          "base_uri": "https://localhost:8080/"
        },
        "id": "jFklVErOvSu2",
        "outputId": "72619789-5e8a-4c0a-a27f-05e9f416629a"
      },
      "source": [
        "\n",
        "df['Outlet_Year'].value_counts()"
      ],
      "execution_count": null,
      "outputs": [
        {
          "output_type": "execute_result",
          "data": {
            "text/plain": [
              "1997    16916\n",
              "2004    15197\n",
              "2009    13662\n",
              "1999    13046\n",
              "1987    10357\n",
              "1996     4684\n",
              "2003     4622\n",
              "2008     4106\n",
              "1998     3798\n",
              "1988     1440\n",
              "2007       20\n",
              "2005       16\n",
              "Name: Outlet_Year, dtype: int64"
            ]
          },
          "metadata": {},
          "execution_count": 256
        }
      ]
    },
    {
      "cell_type": "code",
      "metadata": {
        "id": "YxqZ6DOlveAY"
      },
      "source": [
        "df['since']=2013-df['Outlet_Year']"
      ],
      "execution_count": null,
      "outputs": []
    },
    {
      "cell_type": "code",
      "metadata": {
        "id": "MA1Sidvz282Y"
      },
      "source": [
        "test['since']=2013-test['Outlet_Year']"
      ],
      "execution_count": null,
      "outputs": []
    },
    {
      "cell_type": "code",
      "metadata": {
        "colab": {
          "base_uri": "https://localhost:8080/",
          "height": 356
        },
        "id": "1AbzdpuQvlq9",
        "outputId": "0e0b995e-1d99-4075-c639-fb556d850956"
      },
      "source": [
        "sns.countplot(df['Outlet_Location_Type'])"
      ],
      "execution_count": null,
      "outputs": [
        {
          "output_type": "stream",
          "name": "stderr",
          "text": [
            "/usr/local/lib/python3.7/dist-packages/seaborn/_decorators.py:43: FutureWarning: Pass the following variable as a keyword arg: x. From version 0.12, the only valid positional argument will be `data`, and passing other arguments without an explicit keyword will result in an error or misinterpretation.\n",
            "  FutureWarning\n"
          ]
        },
        {
          "output_type": "execute_result",
          "data": {
            "text/plain": [
              "<matplotlib.axes._subplots.AxesSubplot at 0x7fc77195d890>"
            ]
          },
          "metadata": {},
          "execution_count": 259
        },
        {
          "output_type": "display_data",
          "data": {
            "image/png": "[encoded data removed]",
            "text/plain": [
              "<Figure size 432x288 with 1 Axes>"
            ]
          },
          "metadata": {
            "needs_background": "light"
          }
        }
      ]
    },
    {
      "cell_type": "markdown",
      "metadata": {
        "id": "bgg359FLw4OL"
      },
      "source": [
        "detecting the outliers"
      ]
    },
    {
      "cell_type": "code",
      "metadata": {
        "id": "6WmJaOO2wkOT"
      },
      "source": [
        "df.boxplot(column = 'Sales')"
      ],
      "execution_count": null,
      "outputs": []
    },
    {
      "cell_type": "code",
      "metadata": {
        "colab": {
          "base_uri": "https://localhost:8080/",
          "height": 388
        },
        "id": "NFCc_Ul3wrVs",
        "outputId": "91ee9742-c1e7-45ae-b909-8db17693ab01"
      },
      "source": [
        "sns.distplot(np.log1p(df['Sales']),bins=100)"
      ],
      "execution_count": null,
      "outputs": [
        {
          "output_type": "stream",
          "name": "stderr",
          "text": [
            "/usr/local/lib/python3.7/dist-packages/pandas/core/series.py:726: RuntimeWarning: invalid value encountered in log1p\n",
            "  result = getattr(ufunc, method)(*inputs, **kwargs)\n",
            "/usr/local/lib/python3.7/dist-packages/seaborn/distributions.py:2619: FutureWarning: `distplot` is a deprecated function and will be removed in a future version. Please adapt your code to use either `displot` (a figure-level function with similar flexibility) or `histplot` (an axes-level function for histograms).\n",
            "  warnings.warn(msg, FutureWarning)\n"
          ]
        },
        {
          "output_type": "execute_result",
          "data": {
            "text/plain": [
              "<matplotlib.axes._subplots.AxesSubplot at 0x7fc7717b1610>"
            ]
          },
          "metadata": {},
          "execution_count": 261
        },
        {
          "output_type": "display_data",
          "data": {
            "image/png": "[encoded data removed]",
            "text/plain": [
              "<Figure size 432x288 with 1 Axes>"
            ]
          },
          "metadata": {
            "needs_background": "light"
          }
        }
      ]
    },
    {
      "cell_type": "markdown",
      "metadata": {
        "id": "DwPsJozsxaC1"
      },
      "source": [
        "to overcome the outlier in the target variable"
      ]
    },
    {
      "cell_type": "code",
      "metadata": {
        "colab": {
          "base_uri": "https://localhost:8080/"
        },
        "id": "p-pq8prnw9IJ",
        "outputId": "a61f0c31-45a4-43aa-d95c-fbdf07a26893"
      },
      "source": [
        "q1 = df.quantile(q = 0.25)\n",
        "q3 = df.quantile(q = 0.75)\n",
        "iqr = q3 - q1\n",
        "print('IQR for train :',iqr)"
      ],
      "execution_count": null,
      "outputs": [
        {
          "output_type": "stream",
          "name": "stdout",
          "text": [
            "IQR for train : Item_W            9.001278\n",
            "Item_MRP         84.687030\n",
            "Outlet_Year       7.000000\n",
            "Sales          1648.808061\n",
            "new_item         30.000000\n",
            "MRP_bins          1.000000\n",
            "new_outlet       28.000000\n",
            "since             7.000000\n",
            "dtype: float64\n"
          ]
        }
      ]
    },
    {
      "cell_type": "code",
      "metadata": {
        "id": "7vFNniL4xkM6"
      },
      "source": [
        "def remove_outlier(col):\n",
        "    sorted(col)\n",
        "    Q1,Q3=col.quantile([0.25,0.75])\n",
        "    IQR = Q3-Q1\n",
        "    lower_range = Q1-(1.5*IQR)\n",
        "    upper_range = Q3+(1.5*IQR)\n",
        "    return lower_range,upper_range"
      ],
      "execution_count": null,
      "outputs": []
    },
    {
      "cell_type": "code",
      "metadata": {
        "id": "Y7f2jWsRxtUw"
      },
      "source": [
        "lowprice,uppprice = remove_outlier(df['Sales'])\n"
      ],
      "execution_count": null,
      "outputs": []
    },
    {
      "cell_type": "code",
      "metadata": {
        "colab": {
          "base_uri": "https://localhost:8080/"
        },
        "id": "P57opJFax77f",
        "outputId": "8c8356e8-3eb4-4073-c710-fb54ae560a00"
      },
      "source": [
        "uppprice "
      ],
      "execution_count": null,
      "outputs": [
        {
          "output_type": "execute_result",
          "data": {
            "text/plain": [
              "5081.2698282"
            ]
          },
          "metadata": {},
          "execution_count": 265
        }
      ]
    },
    {
      "cell_type": "code",
      "metadata": {
        "id": "0FgUQBAnx5R1"
      },
      "source": [
        "df['Sales']=np.where(df['Sales']>uppprice,uppprice,df['Sales'])\n",
        "df['Sales']=np.where(df['Sales']<lowprice,lowprice,df['Sales'])"
      ],
      "execution_count": null,
      "outputs": []
    },
    {
      "cell_type": "code",
      "metadata": {
        "colab": {
          "base_uri": "https://localhost:8080/",
          "height": 283
        },
        "id": "PdYvtt6CyMfj",
        "outputId": "464aae9c-b57f-4970-dbf7-b79932119849"
      },
      "source": [
        "df.boxplot(column = 'Sales')"
      ],
      "execution_count": null,
      "outputs": [
        {
          "output_type": "execute_result",
          "data": {
            "text/plain": [
              "<matplotlib.axes._subplots.AxesSubplot at 0x7fc7724ad650>"
            ]
          },
          "metadata": {},
          "execution_count": 267
        },
        {
          "output_type": "display_data",
          "data": {
            "image/png": "[encoded data removed]",
            "text/plain": [
              "<Figure size 432x288 with 1 Axes>"
            ]
          },
          "metadata": {
            "needs_background": "light"
          }
        }
      ]
    },
    {
      "cell_type": "code",
      "metadata": {
        "colab": {
          "base_uri": "https://localhost:8080/",
          "height": 352
        },
        "id": "zHefINw2yU-f",
        "outputId": "f5805666-f555-41d4-b208-adfb77afe4f5"
      },
      "source": [
        "sns.distplot(df['Sales'],bins=100)"
      ],
      "execution_count": null,
      "outputs": [
        {
          "output_type": "stream",
          "name": "stderr",
          "text": [
            "/usr/local/lib/python3.7/dist-packages/seaborn/distributions.py:2619: FutureWarning: `distplot` is a deprecated function and will be removed in a future version. Please adapt your code to use either `displot` (a figure-level function with similar flexibility) or `histplot` (an axes-level function for histograms).\n",
            "  warnings.warn(msg, FutureWarning)\n"
          ]
        },
        {
          "output_type": "execute_result",
          "data": {
            "text/plain": [
              "<matplotlib.axes._subplots.AxesSubplot at 0x7fc771403450>"
            ]
          },
          "metadata": {},
          "execution_count": 268
        },
        {
          "output_type": "display_data",
          "data": {
            "image/png": "[encoded data removed]",
            "text/plain": [
              "<Figure size 432x288 with 1 Axes>"
            ]
          },
          "metadata": {
            "needs_background": "light"
          }
        }
      ]
    },
    {
      "cell_type": "code",
      "metadata": {
        "colab": {
          "base_uri": "https://localhost:8080/",
          "height": 284
        },
        "id": "sVoMGgF2y6zP",
        "outputId": "c1deea17-11da-4882-ebd2-1f032bf97d35"
      },
      "source": [
        "df.boxplot(column = 'Item_MRP')"
      ],
      "execution_count": null,
      "outputs": [
        {
          "output_type": "execute_result",
          "data": {
            "text/plain": [
              "<matplotlib.axes._subplots.AxesSubplot at 0x7fc77167ecd0>"
            ]
          },
          "metadata": {},
          "execution_count": 269
        },
        {
          "output_type": "display_data",
          "data": {
            "image/png": "[encoded data removed]",
            "text/plain": [
              "<Figure size 432x288 with 1 Axes>"
            ]
          },
          "metadata": {
            "needs_background": "light"
          }
        }
      ]
    },
    {
      "cell_type": "code",
      "metadata": {
        "colab": {
          "base_uri": "https://localhost:8080/",
          "height": 353
        },
        "id": "075fPYCcybFA",
        "outputId": "7ab57b74-8c67-4ebe-febc-a01e5c2778a5"
      },
      "source": [
        "sns.distplot(df['Item_MRP'],bins=100)"
      ],
      "execution_count": null,
      "outputs": [
        {
          "output_type": "stream",
          "name": "stderr",
          "text": [
            "/usr/local/lib/python3.7/dist-packages/seaborn/distributions.py:2619: FutureWarning: `distplot` is a deprecated function and will be removed in a future version. Please adapt your code to use either `displot` (a figure-level function with similar flexibility) or `histplot` (an axes-level function for histograms).\n",
            "  warnings.warn(msg, FutureWarning)\n"
          ]
        },
        {
          "output_type": "execute_result",
          "data": {
            "text/plain": [
              "<matplotlib.axes._subplots.AxesSubplot at 0x7fc771497450>"
            ]
          },
          "metadata": {},
          "execution_count": 270
        },
        {
          "output_type": "display_data",
          "data": {
            "image/png": "[encoded data removed]",
            "text/plain": [
              "<Figure size 432x288 with 1 Axes>"
            ]
          },
          "metadata": {
            "needs_background": "light"
          }
        }
      ]
    },
    {
      "cell_type": "code",
      "metadata": {
        "colab": {
          "base_uri": "https://localhost:8080/",
          "height": 296
        },
        "id": "A7drzSI6ywJJ",
        "outputId": "2159da7f-2b72-49a0-da14-aa58915ce2b7"
      },
      "source": [
        "df.corr()"
      ],
      "execution_count": null,
      "outputs": [
        {
          "output_type": "execute_result",
          "data": {
            "text/html": [
              "<div>\n",
              "<style scoped>\n",
              "    .dataframe tbody tr th:only-of-type {\n",
              "        vertical-align: middle;\n",
              "    }\n",
              "\n",
              "    .dataframe tbody tr th {\n",
              "        vertical-align: top;\n",
              "    }\n",
              "\n",
              "    .dataframe thead th {\n",
              "        text-align: right;\n",
              "    }\n",
              "</style>\n",
              "<table border=\"1\" class=\"dataframe\">\n",
              "  <thead>\n",
              "    <tr style=\"text-align: right;\">\n",
              "      <th></th>\n",
              "      <th>Item_W</th>\n",
              "      <th>Item_MRP</th>\n",
              "      <th>Outlet_Year</th>\n",
              "      <th>Sales</th>\n",
              "      <th>new_item</th>\n",
              "      <th>MRP_bins</th>\n",
              "      <th>new_outlet</th>\n",
              "      <th>since</th>\n",
              "    </tr>\n",
              "  </thead>\n",
              "  <tbody>\n",
              "    <tr>\n",
              "      <th>Item_W</th>\n",
              "      <td>1.000000</td>\n",
              "      <td>-0.022830</td>\n",
              "      <td>0.009632</td>\n",
              "      <td>0.000800</td>\n",
              "      <td>0.002828</td>\n",
              "      <td>-0.018305</td>\n",
              "      <td>-0.032792</td>\n",
              "      <td>-0.009632</td>\n",
              "    </tr>\n",
              "    <tr>\n",
              "      <th>Item_MRP</th>\n",
              "      <td>-0.022830</td>\n",
              "      <td>1.000000</td>\n",
              "      <td>-0.009837</td>\n",
              "      <td>0.014094</td>\n",
              "      <td>-0.002244</td>\n",
              "      <td>0.946715</td>\n",
              "      <td>0.023433</td>\n",
              "      <td>0.009837</td>\n",
              "    </tr>\n",
              "    <tr>\n",
              "      <th>Outlet_Year</th>\n",
              "      <td>0.009632</td>\n",
              "      <td>-0.009837</td>\n",
              "      <td>1.000000</td>\n",
              "      <td>-0.037117</td>\n",
              "      <td>0.002296</td>\n",
              "      <td>-0.009558</td>\n",
              "      <td>-0.139305</td>\n",
              "      <td>-1.000000</td>\n",
              "    </tr>\n",
              "    <tr>\n",
              "      <th>Sales</th>\n",
              "      <td>0.000800</td>\n",
              "      <td>0.014094</td>\n",
              "      <td>-0.037117</td>\n",
              "      <td>1.000000</td>\n",
              "      <td>0.000134</td>\n",
              "      <td>0.013225</td>\n",
              "      <td>0.026789</td>\n",
              "      <td>0.037117</td>\n",
              "    </tr>\n",
              "    <tr>\n",
              "      <th>new_item</th>\n",
              "      <td>0.002828</td>\n",
              "      <td>-0.002244</td>\n",
              "      <td>0.002296</td>\n",
              "      <td>0.000134</td>\n",
              "      <td>1.000000</td>\n",
              "      <td>-0.001213</td>\n",
              "      <td>0.000033</td>\n",
              "      <td>-0.002296</td>\n",
              "    </tr>\n",
              "    <tr>\n",
              "      <th>MRP_bins</th>\n",
              "      <td>-0.018305</td>\n",
              "      <td>0.946715</td>\n",
              "      <td>-0.009558</td>\n",
              "      <td>0.013225</td>\n",
              "      <td>-0.001213</td>\n",
              "      <td>1.000000</td>\n",
              "      <td>0.015865</td>\n",
              "      <td>0.009558</td>\n",
              "    </tr>\n",
              "    <tr>\n",
              "      <th>new_outlet</th>\n",
              "      <td>-0.032792</td>\n",
              "      <td>0.023433</td>\n",
              "      <td>-0.139305</td>\n",
              "      <td>0.026789</td>\n",
              "      <td>0.000033</td>\n",
              "      <td>0.015865</td>\n",
              "      <td>1.000000</td>\n",
              "      <td>0.139305</td>\n",
              "    </tr>\n",
              "    <tr>\n",
              "      <th>since</th>\n",
              "      <td>-0.009632</td>\n",
              "      <td>0.009837</td>\n",
              "      <td>-1.000000</td>\n",
              "      <td>0.037117</td>\n",
              "      <td>-0.002296</td>\n",
              "      <td>0.009558</td>\n",
              "      <td>0.139305</td>\n",
              "      <td>1.000000</td>\n",
              "    </tr>\n",
              "  </tbody>\n",
              "</table>\n",
              "</div>"
            ],
            "text/plain": [
              "               Item_W  Item_MRP  Outlet_Year  ...  MRP_bins  new_outlet     since\n",
              "Item_W       1.000000 -0.022830     0.009632  ... -0.018305   -0.032792 -0.009632\n",
              "Item_MRP    -0.022830  1.000000    -0.009837  ...  0.946715    0.023433  0.009837\n",
              "Outlet_Year  0.009632 -0.009837     1.000000  ... -0.009558   -0.139305 -1.000000\n",
              "Sales        0.000800  0.014094    -0.037117  ...  0.013225    0.026789  0.037117\n",
              "new_item     0.002828 -0.002244     0.002296  ... -0.001213    0.000033 -0.002296\n",
              "MRP_bins    -0.018305  0.946715    -0.009558  ...  1.000000    0.015865  0.009558\n",
              "new_outlet  -0.032792  0.023433    -0.139305  ...  0.015865    1.000000  0.139305\n",
              "since       -0.009632  0.009837    -1.000000  ...  0.009558    0.139305  1.000000\n",
              "\n",
              "[8 rows x 8 columns]"
            ]
          },
          "metadata": {},
          "execution_count": 271
        }
      ]
    },
    {
      "cell_type": "code",
      "metadata": {
        "colab": {
          "base_uri": "https://localhost:8080/",
          "height": 291
        },
        "id": "FWlqJZ0rzf74",
        "outputId": "9bea93f8-3aa3-4526-99a7-317b70732a2b"
      },
      "source": [
        "df[:5]"
      ],
      "execution_count": null,
      "outputs": [
        {
          "output_type": "execute_result",
          "data": {
            "text/html": [
              "<div>\n",
              "<style scoped>\n",
              "    .dataframe tbody tr th:only-of-type {\n",
              "        vertical-align: middle;\n",
              "    }\n",
              "\n",
              "    .dataframe tbody tr th {\n",
              "        vertical-align: top;\n",
              "    }\n",
              "\n",
              "    .dataframe thead th {\n",
              "        text-align: right;\n",
              "    }\n",
              "</style>\n",
              "<table border=\"1\" class=\"dataframe\">\n",
              "  <thead>\n",
              "    <tr style=\"text-align: right;\">\n",
              "      <th></th>\n",
              "      <th>Item_ID</th>\n",
              "      <th>Item_W</th>\n",
              "      <th>Item_Type</th>\n",
              "      <th>Item_MRP</th>\n",
              "      <th>Outlet_ID</th>\n",
              "      <th>Outlet_Year</th>\n",
              "      <th>Outlet_Size</th>\n",
              "      <th>Outlet_Location_Type</th>\n",
              "      <th>Sales</th>\n",
              "      <th>Item_category</th>\n",
              "      <th>new_item</th>\n",
              "      <th>MRP_bins</th>\n",
              "      <th>new_outlet</th>\n",
              "      <th>since</th>\n",
              "    </tr>\n",
              "  </thead>\n",
              "  <tbody>\n",
              "    <tr>\n",
              "      <th>0</th>\n",
              "      <td>FDU32</td>\n",
              "      <td>21.027499</td>\n",
              "      <td>Baking Goods</td>\n",
              "      <td>197.352319</td>\n",
              "      <td>OUT046</td>\n",
              "      <td>2004</td>\n",
              "      <td>Small</td>\n",
              "      <td>Tier 2</td>\n",
              "      <td>2689.457781</td>\n",
              "      <td>FD</td>\n",
              "      <td>32</td>\n",
              "      <td>2</td>\n",
              "      <td>46</td>\n",
              "      <td>9</td>\n",
              "    </tr>\n",
              "    <tr>\n",
              "      <th>1</th>\n",
              "      <td>NCT54</td>\n",
              "      <td>21.102371</td>\n",
              "      <td>Meat</td>\n",
              "      <td>148.250214</td>\n",
              "      <td>OUT035</td>\n",
              "      <td>1987</td>\n",
              "      <td>Small</td>\n",
              "      <td>Tier 1</td>\n",
              "      <td>3437.350375</td>\n",
              "      <td>NC</td>\n",
              "      <td>54</td>\n",
              "      <td>2</td>\n",
              "      <td>35</td>\n",
              "      <td>26</td>\n",
              "    </tr>\n",
              "    <tr>\n",
              "      <th>2</th>\n",
              "      <td>FDW08</td>\n",
              "      <td>20.882263</td>\n",
              "      <td>Hard Drinks</td>\n",
              "      <td>205.465010</td>\n",
              "      <td>OUT035</td>\n",
              "      <td>1999</td>\n",
              "      <td>Small</td>\n",
              "      <td>Tier 3</td>\n",
              "      <td>3129.967268</td>\n",
              "      <td>FD</td>\n",
              "      <td>8</td>\n",
              "      <td>3</td>\n",
              "      <td>35</td>\n",
              "      <td>14</td>\n",
              "    </tr>\n",
              "    <tr>\n",
              "      <th>3</th>\n",
              "      <td>FDJ22</td>\n",
              "      <td>21.050435</td>\n",
              "      <td>Starchy Foods</td>\n",
              "      <td>253.417583</td>\n",
              "      <td>OUT046</td>\n",
              "      <td>1996</td>\n",
              "      <td>Small</td>\n",
              "      <td>Tier 1</td>\n",
              "      <td>1306.514376</td>\n",
              "      <td>FD</td>\n",
              "      <td>22</td>\n",
              "      <td>3</td>\n",
              "      <td>46</td>\n",
              "      <td>17</td>\n",
              "    </tr>\n",
              "    <tr>\n",
              "      <th>4</th>\n",
              "      <td>FDF47</td>\n",
              "      <td>21.247876</td>\n",
              "      <td>Baking Goods</td>\n",
              "      <td>240.871039</td>\n",
              "      <td>OUT035</td>\n",
              "      <td>1988</td>\n",
              "      <td>Small</td>\n",
              "      <td>Tier 3</td>\n",
              "      <td>1739.769829</td>\n",
              "      <td>FD</td>\n",
              "      <td>47</td>\n",
              "      <td>3</td>\n",
              "      <td>35</td>\n",
              "      <td>25</td>\n",
              "    </tr>\n",
              "  </tbody>\n",
              "</table>\n",
              "</div>"
            ],
            "text/plain": [
              "  Item_ID     Item_W      Item_Type  ...  MRP_bins new_outlet  since\n",
              "0   FDU32  21.027499   Baking Goods  ...         2         46      9\n",
              "1   NCT54  21.102371           Meat  ...         2         35     26\n",
              "2   FDW08  20.882263    Hard Drinks  ...         3         35     14\n",
              "3   FDJ22  21.050435  Starchy Foods  ...         3         46     17\n",
              "4   FDF47  21.247876   Baking Goods  ...         3         35     25\n",
              "\n",
              "[5 rows x 14 columns]"
            ]
          },
          "metadata": {},
          "execution_count": 272
        }
      ]
    },
    {
      "cell_type": "code",
      "metadata": {
        "id": "0hgKCP8D5FgW"
      },
      "source": [
        ""
      ],
      "execution_count": null,
      "outputs": []
    },
    {
      "cell_type": "code",
      "metadata": {
        "id": "4r_SC-zf5MMg"
      },
      "source": [
        "\n"
      ],
      "execution_count": null,
      "outputs": []
    },
    {
      "cell_type": "code",
      "metadata": {
        "id": "lPz7nxuDzLbq"
      },
      "source": [
        "# from sklearn.preprocessing import LabelEncoder\n",
        "# ll=LabelEncoder()"
      ],
      "execution_count": null,
      "outputs": []
    },
    {
      "cell_type": "code",
      "metadata": {
        "id": "okN_SlJWzUd-"
      },
      "source": [
        "# for col in df.columns[df.dtypes=='object'].drop('Item_ID','Outlet_ID'):\n",
        "#     df[col]=ll.fit_transform(df[col])"
      ],
      "execution_count": null,
      "outputs": []
    },
    {
      "cell_type": "code",
      "metadata": {
        "id": "n7YlTcaZzi80"
      },
      "source": [
        "# for col in test.columns[test.dtypes=='object'].drop('Item_ID','Outlet_ID'):\n",
        "#     test[col]=ll.fit_transform(test[col])"
      ],
      "execution_count": null,
      "outputs": []
    },
    {
      "cell_type": "code",
      "metadata": {
        "id": "MpgTM-m1vlPe"
      },
      "source": [
        "df.drop(['Item_Type','Outlet_ID','Item_ID'],axis=1,inplace = True)"
      ],
      "execution_count": null,
      "outputs": []
    },
    {
      "cell_type": "code",
      "metadata": {
        "id": "szQfFoTUvlJy"
      },
      "source": [
        "test.drop(['Item_Type','Outlet_ID','Item_ID'],axis=1,inplace = True)"
      ],
      "execution_count": null,
      "outputs": []
    },
    {
      "cell_type": "code",
      "metadata": {
        "id": "nLoxHaE7u7YV"
      },
      "source": [
        "df = pd.get_dummies(df)\n",
        "test = pd.get_dummies(test)"
      ],
      "execution_count": null,
      "outputs": []
    },
    {
      "cell_type": "code",
      "metadata": {
        "colab": {
          "base_uri": "https://localhost:8080/"
        },
        "id": "Yfv0CF2H0F8b",
        "outputId": "73c1453b-7de3-488d-a49e-7f2d51243bd7"
      },
      "source": [
        "df['new_outlet'].unique()"
      ],
      "execution_count": null,
      "outputs": [
        {
          "output_type": "execute_result",
          "data": {
            "text/plain": [
              "array([46, 35, 49, 18, 13])"
            ]
          },
          "metadata": {},
          "execution_count": 189
        }
      ]
    },
    {
      "cell_type": "code",
      "metadata": {
        "colab": {
          "base_uri": "https://localhost:8080/"
        },
        "id": "bBJnJOx9zvJA",
        "outputId": "86dbb902-64fb-41f2-8dca-ebc76b8d24b6"
      },
      "source": [
        "df.groupby(['new_outlet'])['Sales'].mean().sort_values()"
      ],
      "execution_count": null,
      "outputs": [
        {
          "output_type": "execute_result",
          "data": {
            "text/plain": [
              "new_outlet\n",
              "18    1646.930873\n",
              "46    1879.236788\n",
              "49    1937.558609\n",
              "35    1979.001816\n",
              "13    2031.413877\n",
              "Name: Sales, dtype: float64"
            ]
          },
          "metadata": {},
          "execution_count": 190
        }
      ]
    },
    {
      "cell_type": "code",
      "metadata": {
        "id": "C_lKuEs5z-tH"
      },
      "source": [
        "def convert_outlet_no_into_concise_no(s):\n",
        "    if s in [1,19]:\n",
        "        return 1\n",
        "    else:\n",
        "        return s"
      ],
      "execution_count": null,
      "outputs": []
    },
    {
      "cell_type": "code",
      "metadata": {
        "id": "ETzyZZTV0ojz"
      },
      "source": [
        "df['new_outlet1']=df['new_outlet'].apply(convert_outlet_no_into_concise_no)"
      ],
      "execution_count": null,
      "outputs": []
    },
    {
      "cell_type": "code",
      "metadata": {
        "colab": {
          "base_uri": "https://localhost:8080/",
          "height": 240
        },
        "id": "E4z-3Zg90x3Q",
        "outputId": "e28a3398-8b3b-4737-c68e-96a489fd85e5"
      },
      "source": [
        "df[:5]"
      ],
      "execution_count": null,
      "outputs": [
        {
          "output_type": "execute_result",
          "data": {
            "text/html": [
              "<div>\n",
              "<style scoped>\n",
              "    .dataframe tbody tr th:only-of-type {\n",
              "        vertical-align: middle;\n",
              "    }\n",
              "\n",
              "    .dataframe tbody tr th {\n",
              "        vertical-align: top;\n",
              "    }\n",
              "\n",
              "    .dataframe thead th {\n",
              "        text-align: right;\n",
              "    }\n",
              "</style>\n",
              "<table border=\"1\" class=\"dataframe\">\n",
              "  <thead>\n",
              "    <tr style=\"text-align: right;\">\n",
              "      <th></th>\n",
              "      <th>Item_W</th>\n",
              "      <th>Item_MRP</th>\n",
              "      <th>Outlet_Year</th>\n",
              "      <th>Sales</th>\n",
              "      <th>new_item</th>\n",
              "      <th>MRP_bins</th>\n",
              "      <th>new_outlet</th>\n",
              "      <th>since</th>\n",
              "      <th>Outlet_Size_High</th>\n",
              "      <th>Outlet_Size_Medium</th>\n",
              "      <th>Outlet_Size_Small</th>\n",
              "      <th>Outlet_Location_Type_Tier 1</th>\n",
              "      <th>Outlet_Location_Type_Tier 2</th>\n",
              "      <th>Outlet_Location_Type_Tier 3</th>\n",
              "      <th>Item_category_DR</th>\n",
              "      <th>Item_category_FD</th>\n",
              "      <th>Item_category_NC</th>\n",
              "      <th>new_outlet1</th>\n",
              "    </tr>\n",
              "  </thead>\n",
              "  <tbody>\n",
              "    <tr>\n",
              "      <th>0</th>\n",
              "      <td>21.027499</td>\n",
              "      <td>197.352319</td>\n",
              "      <td>2004</td>\n",
              "      <td>2689.457781</td>\n",
              "      <td>32</td>\n",
              "      <td>2</td>\n",
              "      <td>46</td>\n",
              "      <td>9</td>\n",
              "      <td>0</td>\n",
              "      <td>0</td>\n",
              "      <td>1</td>\n",
              "      <td>0</td>\n",
              "      <td>1</td>\n",
              "      <td>0</td>\n",
              "      <td>0</td>\n",
              "      <td>1</td>\n",
              "      <td>0</td>\n",
              "      <td>46</td>\n",
              "    </tr>\n",
              "    <tr>\n",
              "      <th>1</th>\n",
              "      <td>21.102371</td>\n",
              "      <td>148.250214</td>\n",
              "      <td>1987</td>\n",
              "      <td>3437.350375</td>\n",
              "      <td>54</td>\n",
              "      <td>2</td>\n",
              "      <td>35</td>\n",
              "      <td>26</td>\n",
              "      <td>0</td>\n",
              "      <td>0</td>\n",
              "      <td>1</td>\n",
              "      <td>1</td>\n",
              "      <td>0</td>\n",
              "      <td>0</td>\n",
              "      <td>0</td>\n",
              "      <td>0</td>\n",
              "      <td>1</td>\n",
              "      <td>35</td>\n",
              "    </tr>\n",
              "    <tr>\n",
              "      <th>2</th>\n",
              "      <td>20.882263</td>\n",
              "      <td>205.465010</td>\n",
              "      <td>1999</td>\n",
              "      <td>3129.967268</td>\n",
              "      <td>8</td>\n",
              "      <td>3</td>\n",
              "      <td>35</td>\n",
              "      <td>14</td>\n",
              "      <td>0</td>\n",
              "      <td>0</td>\n",
              "      <td>1</td>\n",
              "      <td>0</td>\n",
              "      <td>0</td>\n",
              "      <td>1</td>\n",
              "      <td>0</td>\n",
              "      <td>1</td>\n",
              "      <td>0</td>\n",
              "      <td>35</td>\n",
              "    </tr>\n",
              "    <tr>\n",
              "      <th>3</th>\n",
              "      <td>21.050435</td>\n",
              "      <td>253.417583</td>\n",
              "      <td>1996</td>\n",
              "      <td>1306.514376</td>\n",
              "      <td>22</td>\n",
              "      <td>3</td>\n",
              "      <td>46</td>\n",
              "      <td>17</td>\n",
              "      <td>0</td>\n",
              "      <td>0</td>\n",
              "      <td>1</td>\n",
              "      <td>1</td>\n",
              "      <td>0</td>\n",
              "      <td>0</td>\n",
              "      <td>0</td>\n",
              "      <td>1</td>\n",
              "      <td>0</td>\n",
              "      <td>46</td>\n",
              "    </tr>\n",
              "    <tr>\n",
              "      <th>4</th>\n",
              "      <td>21.247876</td>\n",
              "      <td>240.871039</td>\n",
              "      <td>1988</td>\n",
              "      <td>1739.769829</td>\n",
              "      <td>47</td>\n",
              "      <td>3</td>\n",
              "      <td>35</td>\n",
              "      <td>25</td>\n",
              "      <td>0</td>\n",
              "      <td>0</td>\n",
              "      <td>1</td>\n",
              "      <td>0</td>\n",
              "      <td>0</td>\n",
              "      <td>1</td>\n",
              "      <td>0</td>\n",
              "      <td>1</td>\n",
              "      <td>0</td>\n",
              "      <td>35</td>\n",
              "    </tr>\n",
              "  </tbody>\n",
              "</table>\n",
              "</div>"
            ],
            "text/plain": [
              "      Item_W    Item_MRP  ...  Item_category_NC  new_outlet1\n",
              "0  21.027499  197.352319  ...                 0           46\n",
              "1  21.102371  148.250214  ...                 1           35\n",
              "2  20.882263  205.465010  ...                 0           35\n",
              "3  21.050435  253.417583  ...                 0           46\n",
              "4  21.247876  240.871039  ...                 0           35\n",
              "\n",
              "[5 rows x 18 columns]"
            ]
          },
          "metadata": {},
          "execution_count": 193
        }
      ]
    },
    {
      "cell_type": "code",
      "metadata": {
        "colab": {
          "base_uri": "https://localhost:8080/",
          "height": 240
        },
        "id": "O1zZXjhE2mNy",
        "outputId": "95d2da32-96aa-4751-c7b9-35843410be9b"
      },
      "source": [
        "test[:5]"
      ],
      "execution_count": null,
      "outputs": [
        {
          "output_type": "execute_result",
          "data": {
            "text/html": [
              "<div>\n",
              "<style scoped>\n",
              "    .dataframe tbody tr th:only-of-type {\n",
              "        vertical-align: middle;\n",
              "    }\n",
              "\n",
              "    .dataframe tbody tr th {\n",
              "        vertical-align: top;\n",
              "    }\n",
              "\n",
              "    .dataframe thead th {\n",
              "        text-align: right;\n",
              "    }\n",
              "</style>\n",
              "<table border=\"1\" class=\"dataframe\">\n",
              "  <thead>\n",
              "    <tr style=\"text-align: right;\">\n",
              "      <th></th>\n",
              "      <th>Item_W</th>\n",
              "      <th>Item_MRP</th>\n",
              "      <th>Outlet_Year</th>\n",
              "      <th>new_item</th>\n",
              "      <th>MRP_bins</th>\n",
              "      <th>new_outlet</th>\n",
              "      <th>since</th>\n",
              "      <th>Outlet_Size_High</th>\n",
              "      <th>Outlet_Size_Medium</th>\n",
              "      <th>Outlet_Size_Small</th>\n",
              "      <th>Outlet_Location_Type_Tier 1</th>\n",
              "      <th>Outlet_Location_Type_Tier 2</th>\n",
              "      <th>Outlet_Location_Type_Tier 3</th>\n",
              "      <th>Item_category_DR</th>\n",
              "      <th>Item_category_FD</th>\n",
              "      <th>Item_category_NC</th>\n",
              "    </tr>\n",
              "  </thead>\n",
              "  <tbody>\n",
              "    <tr>\n",
              "      <th>0</th>\n",
              "      <td>10.156725</td>\n",
              "      <td>119.319482</td>\n",
              "      <td>1999</td>\n",
              "      <td>32</td>\n",
              "      <td>1</td>\n",
              "      <td>13</td>\n",
              "      <td>14</td>\n",
              "      <td>1</td>\n",
              "      <td>0</td>\n",
              "      <td>0</td>\n",
              "      <td>0</td>\n",
              "      <td>0</td>\n",
              "      <td>1</td>\n",
              "      <td>1</td>\n",
              "      <td>0</td>\n",
              "      <td>0</td>\n",
              "    </tr>\n",
              "    <tr>\n",
              "      <th>1</th>\n",
              "      <td>10.434425</td>\n",
              "      <td>263.600449</td>\n",
              "      <td>1987</td>\n",
              "      <td>54</td>\n",
              "      <td>3</td>\n",
              "      <td>18</td>\n",
              "      <td>26</td>\n",
              "      <td>1</td>\n",
              "      <td>0</td>\n",
              "      <td>0</td>\n",
              "      <td>0</td>\n",
              "      <td>0</td>\n",
              "      <td>1</td>\n",
              "      <td>0</td>\n",
              "      <td>1</td>\n",
              "      <td>0</td>\n",
              "    </tr>\n",
              "    <tr>\n",
              "      <th>2</th>\n",
              "      <td>11.953589</td>\n",
              "      <td>246.286990</td>\n",
              "      <td>1997</td>\n",
              "      <td>8</td>\n",
              "      <td>3</td>\n",
              "      <td>18</td>\n",
              "      <td>16</td>\n",
              "      <td>1</td>\n",
              "      <td>0</td>\n",
              "      <td>0</td>\n",
              "      <td>1</td>\n",
              "      <td>0</td>\n",
              "      <td>0</td>\n",
              "      <td>0</td>\n",
              "      <td>1</td>\n",
              "      <td>0</td>\n",
              "    </tr>\n",
              "    <tr>\n",
              "      <th>3</th>\n",
              "      <td>14.948546</td>\n",
              "      <td>136.200508</td>\n",
              "      <td>2004</td>\n",
              "      <td>22</td>\n",
              "      <td>2</td>\n",
              "      <td>46</td>\n",
              "      <td>9</td>\n",
              "      <td>0</td>\n",
              "      <td>1</td>\n",
              "      <td>0</td>\n",
              "      <td>0</td>\n",
              "      <td>1</td>\n",
              "      <td>0</td>\n",
              "      <td>0</td>\n",
              "      <td>1</td>\n",
              "      <td>0</td>\n",
              "    </tr>\n",
              "    <tr>\n",
              "      <th>4</th>\n",
              "      <td>11.080042</td>\n",
              "      <td>173.145664</td>\n",
              "      <td>2009</td>\n",
              "      <td>47</td>\n",
              "      <td>2</td>\n",
              "      <td>18</td>\n",
              "      <td>4</td>\n",
              "      <td>0</td>\n",
              "      <td>1</td>\n",
              "      <td>0</td>\n",
              "      <td>0</td>\n",
              "      <td>0</td>\n",
              "      <td>1</td>\n",
              "      <td>0</td>\n",
              "      <td>1</td>\n",
              "      <td>0</td>\n",
              "    </tr>\n",
              "  </tbody>\n",
              "</table>\n",
              "</div>"
            ],
            "text/plain": [
              "      Item_W    Item_MRP  ...  Item_category_FD  Item_category_NC\n",
              "0  10.156725  119.319482  ...                 0                 0\n",
              "1  10.434425  263.600449  ...                 1                 0\n",
              "2  11.953589  246.286990  ...                 1                 0\n",
              "3  14.948546  136.200508  ...                 1                 0\n",
              "4  11.080042  173.145664  ...                 1                 0\n",
              "\n",
              "[5 rows x 16 columns]"
            ]
          },
          "metadata": {},
          "execution_count": 194
        }
      ]
    },
    {
      "cell_type": "code",
      "metadata": {
        "colab": {
          "base_uri": "https://localhost:8080/"
        },
        "id": "rFnixetR0yyC",
        "outputId": "9d0fa095-1061-421c-dea5-546765ac6ebd"
      },
      "source": [
        "df['new_outlet1'].unique()"
      ],
      "execution_count": null,
      "outputs": [
        {
          "output_type": "execute_result",
          "data": {
            "text/plain": [
              "array([46, 35, 49, 18, 13])"
            ]
          },
          "metadata": {},
          "execution_count": 195
        }
      ]
    },
    {
      "cell_type": "code",
      "metadata": {
        "id": "BF7UiEff04OM"
      },
      "source": [
        "test['new_outlet1']=test['new_outlet'].apply(convert_outlet_no_into_concise_no)"
      ],
      "execution_count": null,
      "outputs": []
    },
    {
      "cell_type": "code",
      "metadata": {
        "colab": {
          "base_uri": "https://localhost:8080/"
        },
        "id": "dck0AgNs2Ykh",
        "outputId": "bb98616e-e66c-4b0d-fc32-e7fd73432306"
      },
      "source": [
        "df.shape"
      ],
      "execution_count": null,
      "outputs": [
        {
          "output_type": "execute_result",
          "data": {
            "text/plain": [
              "(87864, 18)"
            ]
          },
          "metadata": {},
          "execution_count": 197
        }
      ]
    },
    {
      "cell_type": "code",
      "metadata": {
        "colab": {
          "base_uri": "https://localhost:8080/"
        },
        "id": "znCS7oDd2a9c",
        "outputId": "98079c68-72fa-49f9-fbfc-d3a50489d2ef"
      },
      "source": [
        "test.shape"
      ],
      "execution_count": null,
      "outputs": [
        {
          "output_type": "execute_result",
          "data": {
            "text/plain": [
              "(37656, 17)"
            ]
          },
          "metadata": {},
          "execution_count": 198
        }
      ]
    },
    {
      "cell_type": "markdown",
      "metadata": {
        "id": "WQ2srcXewdd1"
      },
      "source": [
        "**Scaling down the Features**"
      ]
    },
    {
      "cell_type": "code",
      "metadata": {
        "id": "sg4Ddo1FwgNu"
      },
      "source": [
        "scaler1 = MinMaxScaler()\n",
        "df[['Item_W','Item_MRP']]=scaler1.fit_transform(df[['Item_W','Item_MRP']])\n",
        "scaler2 = MinMaxScaler()\n",
        "test[['Item_W','Item_MRP']]=scaler2.fit_transform(test[['Item_W','Item_MRP']])"
      ],
      "execution_count": null,
      "outputs": []
    },
    {
      "cell_type": "markdown",
      "metadata": {
        "id": "XEn2-5ns1Kr0"
      },
      "source": [
        "**Model Building**"
      ]
    },
    {
      "cell_type": "code",
      "metadata": {
        "colab": {
          "base_uri": "https://localhost:8080/",
          "height": 240
        },
        "id": "UfvMuZIuwuwr",
        "outputId": "344dbbf7-cb9e-469b-9485-f0f75e5440e9"
      },
      "source": [
        "df[:5]"
      ],
      "execution_count": null,
      "outputs": [
        {
          "output_type": "execute_result",
          "data": {
            "text/html": [
              "<div>\n",
              "<style scoped>\n",
              "    .dataframe tbody tr th:only-of-type {\n",
              "        vertical-align: middle;\n",
              "    }\n",
              "\n",
              "    .dataframe tbody tr th {\n",
              "        vertical-align: top;\n",
              "    }\n",
              "\n",
              "    .dataframe thead th {\n",
              "        text-align: right;\n",
              "    }\n",
              "</style>\n",
              "<table border=\"1\" class=\"dataframe\">\n",
              "  <thead>\n",
              "    <tr style=\"text-align: right;\">\n",
              "      <th></th>\n",
              "      <th>Item_W</th>\n",
              "      <th>Item_MRP</th>\n",
              "      <th>Outlet_Year</th>\n",
              "      <th>Sales</th>\n",
              "      <th>new_item</th>\n",
              "      <th>MRP_bins</th>\n",
              "      <th>new_outlet</th>\n",
              "      <th>since</th>\n",
              "      <th>Outlet_Size_High</th>\n",
              "      <th>Outlet_Size_Medium</th>\n",
              "      <th>Outlet_Size_Small</th>\n",
              "      <th>Outlet_Location_Type_Tier 1</th>\n",
              "      <th>Outlet_Location_Type_Tier 2</th>\n",
              "      <th>Outlet_Location_Type_Tier 3</th>\n",
              "      <th>Item_category_DR</th>\n",
              "      <th>Item_category_FD</th>\n",
              "      <th>Item_category_NC</th>\n",
              "      <th>new_outlet1</th>\n",
              "    </tr>\n",
              "  </thead>\n",
              "  <tbody>\n",
              "    <tr>\n",
              "      <th>0</th>\n",
              "      <td>0.983217</td>\n",
              "      <td>0.707875</td>\n",
              "      <td>2004</td>\n",
              "      <td>2689.457781</td>\n",
              "      <td>32</td>\n",
              "      <td>2</td>\n",
              "      <td>46</td>\n",
              "      <td>9</td>\n",
              "      <td>0</td>\n",
              "      <td>0</td>\n",
              "      <td>1</td>\n",
              "      <td>0</td>\n",
              "      <td>1</td>\n",
              "      <td>0</td>\n",
              "      <td>0</td>\n",
              "      <td>1</td>\n",
              "      <td>0</td>\n",
              "      <td>46</td>\n",
              "    </tr>\n",
              "    <tr>\n",
              "      <th>1</th>\n",
              "      <td>0.988864</td>\n",
              "      <td>0.496505</td>\n",
              "      <td>1987</td>\n",
              "      <td>3437.350375</td>\n",
              "      <td>54</td>\n",
              "      <td>2</td>\n",
              "      <td>35</td>\n",
              "      <td>26</td>\n",
              "      <td>0</td>\n",
              "      <td>0</td>\n",
              "      <td>1</td>\n",
              "      <td>1</td>\n",
              "      <td>0</td>\n",
              "      <td>0</td>\n",
              "      <td>0</td>\n",
              "      <td>0</td>\n",
              "      <td>1</td>\n",
              "      <td>35</td>\n",
              "    </tr>\n",
              "    <tr>\n",
              "      <th>2</th>\n",
              "      <td>0.972262</td>\n",
              "      <td>0.742797</td>\n",
              "      <td>1999</td>\n",
              "      <td>3129.967268</td>\n",
              "      <td>8</td>\n",
              "      <td>3</td>\n",
              "      <td>35</td>\n",
              "      <td>14</td>\n",
              "      <td>0</td>\n",
              "      <td>0</td>\n",
              "      <td>1</td>\n",
              "      <td>0</td>\n",
              "      <td>0</td>\n",
              "      <td>1</td>\n",
              "      <td>0</td>\n",
              "      <td>1</td>\n",
              "      <td>0</td>\n",
              "      <td>35</td>\n",
              "    </tr>\n",
              "    <tr>\n",
              "      <th>3</th>\n",
              "      <td>0.984947</td>\n",
              "      <td>0.949219</td>\n",
              "      <td>1996</td>\n",
              "      <td>1306.514376</td>\n",
              "      <td>22</td>\n",
              "      <td>3</td>\n",
              "      <td>46</td>\n",
              "      <td>17</td>\n",
              "      <td>0</td>\n",
              "      <td>0</td>\n",
              "      <td>1</td>\n",
              "      <td>1</td>\n",
              "      <td>0</td>\n",
              "      <td>0</td>\n",
              "      <td>0</td>\n",
              "      <td>1</td>\n",
              "      <td>0</td>\n",
              "      <td>46</td>\n",
              "    </tr>\n",
              "    <tr>\n",
              "      <th>4</th>\n",
              "      <td>0.999840</td>\n",
              "      <td>0.895210</td>\n",
              "      <td>1988</td>\n",
              "      <td>1739.769829</td>\n",
              "      <td>47</td>\n",
              "      <td>3</td>\n",
              "      <td>35</td>\n",
              "      <td>25</td>\n",
              "      <td>0</td>\n",
              "      <td>0</td>\n",
              "      <td>1</td>\n",
              "      <td>0</td>\n",
              "      <td>0</td>\n",
              "      <td>1</td>\n",
              "      <td>0</td>\n",
              "      <td>1</td>\n",
              "      <td>0</td>\n",
              "      <td>35</td>\n",
              "    </tr>\n",
              "  </tbody>\n",
              "</table>\n",
              "</div>"
            ],
            "text/plain": [
              "     Item_W  Item_MRP  ...  Item_category_NC  new_outlet1\n",
              "0  0.983217  0.707875  ...                 0           46\n",
              "1  0.988864  0.496505  ...                 1           35\n",
              "2  0.972262  0.742797  ...                 0           35\n",
              "3  0.984947  0.949219  ...                 0           46\n",
              "4  0.999840  0.895210  ...                 0           35\n",
              "\n",
              "[5 rows x 18 columns]"
            ]
          },
          "metadata": {},
          "execution_count": 200
        }
      ]
    },
    {
      "cell_type": "code",
      "metadata": {
        "id": "iYcM7XVrxRe6"
      },
      "source": [
        "df.drop(['new_item',\t'MRP_bins',\t'new_outlet',\t'since'],axis=1,inplace = True)"
      ],
      "execution_count": null,
      "outputs": []
    },
    {
      "cell_type": "code",
      "metadata": {
        "id": "td6NF4JPxBoY"
      },
      "source": [
        "test.drop(['new_item',\t'MRP_bins',\t'new_outlet',\t'since'],axis=1,inplace = True)"
      ],
      "execution_count": null,
      "outputs": []
    },
    {
      "cell_type": "code",
      "metadata": {
        "colab": {
          "base_uri": "https://localhost:8080/"
        },
        "id": "lCjmOhr_xUkU",
        "outputId": "f2257a56-df08-4467-84ad-6363ea39716b"
      },
      "source": [
        "df.shape,test.shape"
      ],
      "execution_count": null,
      "outputs": [
        {
          "output_type": "execute_result",
          "data": {
            "text/plain": [
              "((87864, 14), (37656, 13))"
            ]
          },
          "metadata": {},
          "execution_count": 203
        }
      ]
    },
    {
      "cell_type": "code",
      "metadata": {
        "id": "Qp699P-vxkOb"
      },
      "source": [
        "X = df.drop(columns=['Sales'])\n",
        "y = df['Sales']\n"
      ],
      "execution_count": null,
      "outputs": []
    },
    {
      "cell_type": "code",
      "metadata": {
        "id": "0aLwOTkfxozz"
      },
      "source": [
        "from sklearn.model_selection import train_test_split\n",
        "X_train, X_val, y_train, y_val = train_test_split(X, y,train_size =0.75, random_state=0)\n"
      ],
      "execution_count": null,
      "outputs": []
    },
    {
      "cell_type": "code",
      "metadata": {
        "colab": {
          "base_uri": "https://localhost:8080/"
        },
        "id": "RjlNBzCKxrAR",
        "outputId": "13d3337f-646e-40f0-a253-51ef934b6167"
      },
      "source": [
        "X_train.shape , y_train.shape"
      ],
      "execution_count": null,
      "outputs": [
        {
          "output_type": "execute_result",
          "data": {
            "text/plain": [
              "((65898, 13), (65898,))"
            ]
          },
          "metadata": {},
          "execution_count": 206
        }
      ]
    },
    {
      "cell_type": "code",
      "metadata": {
        "id": "5aTbhKH-zfLu"
      },
      "source": [
        ""
      ],
      "execution_count": null,
      "outputs": []
    },
    {
      "cell_type": "code",
      "metadata": {
        "id": "4XegN31ByDLL"
      },
      "source": [
        "import statsmodels.api as sm"
      ],
      "execution_count": null,
      "outputs": []
    },
    {
      "cell_type": "code",
      "metadata": {
        "id": "tSnevZ_xxyRZ"
      },
      "source": [
        "def backward_elimination(df, target,significance_level = 0.05):\n",
        "    features = df.columns.tolist()\n",
        "    while(len(features)>0):\n",
        "        features_with_constant = sm.add_constant(df[features])\n",
        "        p_values = sm.OLS(target, features_with_constant).fit().pvalues[1:]\n",
        "        max_p_value = p_values.max()\n",
        "        if(max_p_value >= significance_level):\n",
        "            excluded_feature = p_values.idxmax()\n",
        "            features.remove(excluded_feature)\n",
        "        else:\n",
        "            break \n",
        "    return features\n",
        "\n",
        "features = backward_elimination(X_train,y_train)"
      ],
      "execution_count": null,
      "outputs": []
    },
    {
      "cell_type": "code",
      "metadata": {
        "id": "7RuPM-kZ1Rmu"
      },
      "source": [
        "features = list(set(features))"
      ],
      "execution_count": null,
      "outputs": []
    },
    {
      "cell_type": "code",
      "metadata": {
        "colab": {
          "base_uri": "https://localhost:8080/"
        },
        "id": "L5yzWJd_1Sry",
        "outputId": "e8424d5e-84cd-43d6-e84a-115568af3665"
      },
      "source": [
        "features"
      ],
      "execution_count": null,
      "outputs": [
        {
          "output_type": "execute_result",
          "data": {
            "text/plain": [
              "['Outlet_Location_Type_Tier 2',\n",
              " 'Outlet_Location_Type_Tier 1',\n",
              " 'Outlet_Size_High',\n",
              " 'Outlet_Year',\n",
              " 'Item_category_FD',\n",
              " 'Outlet_Size_Medium',\n",
              " 'Item_MRP',\n",
              " 'Item_category_NC',\n",
              " 'Item_category_DR',\n",
              " 'Outlet_Size_Small',\n",
              " 'Outlet_Location_Type_Tier 3']"
            ]
          },
          "metadata": {},
          "execution_count": 210
        }
      ]
    },
    {
      "cell_type": "code",
      "metadata": {
        "id": "tbJfEvdv1X24"
      },
      "source": [
        "from sklearn.linear_model import LinearRegression, Lasso, Ridge\n",
        "from sklearn.tree import DecisionTreeRegressor\n",
        "from sklearn.ensemble import RandomForestRegressor\n",
        "from sklearn.svm import SVR\n",
        "from sklearn.model_selection import train_test_split\n",
        "from sklearn.metrics import mean_squared_error\n"
      ],
      "execution_count": null,
      "outputs": []
    },
    {
      "cell_type": "code",
      "metadata": {
        "id": "ZbVCEtMD1ZLn"
      },
      "source": [
        "lr = LinearRegression()\n",
        "ls = Lasso()\n",
        "rd = Ridge()\n",
        "dr = DecisionTreeRegressor()\n",
        "svr = SVR(kernel = 'rbf')"
      ],
      "execution_count": null,
      "outputs": []
    },
    {
      "cell_type": "code",
      "metadata": {
        "colab": {
          "base_uri": "https://localhost:8080/"
        },
        "id": "QMe14TNZ1eP5",
        "outputId": "a310af34-db06-4147-f05d-7beaa2c008f9"
      },
      "source": [
        "lr.fit(X_train[features],y_train)\n",
        "LinearRegression()\n",
        "y_pred = lr.predict(X_val[features])\n",
        "np.sqrt(mean_squared_error(y_val, y_pred))\n"
      ],
      "execution_count": null,
      "outputs": [
        {
          "output_type": "execute_result",
          "data": {
            "text/plain": [
              "1218.237382753507"
            ]
          },
          "metadata": {},
          "execution_count": 213
        }
      ]
    },
    {
      "cell_type": "code",
      "metadata": {
        "colab": {
          "base_uri": "https://localhost:8080/"
        },
        "id": "CzU7LsMA1meq",
        "outputId": "3a932089-0283-4cd4-8adf-5b75c7da5049"
      },
      "source": [
        "model_ls = [(lr, 'Linear Regression'),(ls, 'Lasso'),(rd, 'Ridge'),(dr, 'Decission Tree Reg'), (svr, 'Support Vector Regression')]\n",
        "\n",
        "# Iterate over each model\n",
        "\n",
        "for item in model_ls:\n",
        "    model = item[0]\n",
        "    name = item[1]\n",
        "    print(f'Running {name}')\n",
        "    print('')\n",
        "\n",
        "\n",
        "# Train the model\n",
        "\n",
        "    model.fit(X_train[features], y_train)\n",
        "\n",
        "# predict the results\n",
        "\n",
        "    y_pred = model.predict(X_val[features])\n",
        "\n",
        "# calculate the root mean squared error\n",
        "\n",
        "    error = round(np.sqrt(mean_squared_error(y_val, y_pred)),2)\n",
        "\n",
        "# print the value\n",
        "\n",
        "    print (f'Root mean squared error using {name}is {error}')\n",
        "    print ('-'*100)\n",
        "    print('=========================================================================================================================')"
      ],
      "execution_count": null,
      "outputs": [
        {
          "output_type": "stream",
          "name": "stdout",
          "text": [
            "Running Linear Regression\n",
            "\n",
            "Root mean squared error using Linear Regressionis 1218.24\n",
            "----------------------------------------------------------------------------------------------------\n",
            "=========================================================================================================================\n",
            "Running Lasso\n",
            "\n",
            "Root mean squared error using Lassois 1218.36\n",
            "----------------------------------------------------------------------------------------------------\n",
            "=========================================================================================================================\n",
            "Running Ridge\n",
            "\n",
            "Root mean squared error using Ridgeis 1218.24\n",
            "----------------------------------------------------------------------------------------------------\n",
            "=========================================================================================================================\n",
            "Running Decission Tree Reg\n",
            "\n",
            "Root mean squared error using Decission Tree Regis 1737.35\n",
            "----------------------------------------------------------------------------------------------------\n",
            "=========================================================================================================================\n",
            "Running Support Vector Regression\n",
            "\n",
            "Root mean squared error using Support Vector Regressionis 1257.33\n",
            "----------------------------------------------------------------------------------------------------\n",
            "=========================================================================================================================\n"
          ]
        }
      ]
    },
    {
      "cell_type": "code",
      "metadata": {
        "colab": {
          "base_uri": "https://localhost:8080/"
        },
        "id": "SyNNqEt112Q4",
        "outputId": "580ed853-a4b5-47dd-d3f4-191138507894"
      },
      "source": [
        "from sklearn.ensemble import GradientBoostingRegressor\n",
        "\n",
        "gbr = GradientBoostingRegressor(random_state=42)\n",
        "\n",
        "gbr.fit(X_train[features],y_train)\n",
        "\n",
        "y_pred_gbr = gbr.predict(X_val[features])\n",
        "\n",
        "rmse_gbr = mean_squared_error(y_val,y_pred_gbr) ** 0.5\n",
        "\n",
        "print(rmse_gbr)"
      ],
      "execution_count": null,
      "outputs": [
        {
          "output_type": "stream",
          "name": "stdout",
          "text": [
            "1210.9345309191237\n"
          ]
        }
      ]
    },
    {
      "cell_type": "code",
      "metadata": {
        "colab": {
          "base_uri": "https://localhost:8080/"
        },
        "id": "URFEInpt3TfU",
        "outputId": "1737c035-19b1-4067-bc87-547291cd9d43"
      },
      "source": [
        "final_gbr = GradientBoostingRegressor(random_state=42)\n",
        "final_gbr.fit(X_train[features],y_train)"
      ],
      "execution_count": null,
      "outputs": [
        {
          "output_type": "execute_result",
          "data": {
            "text/plain": [
              "GradientBoostingRegressor(alpha=0.9, ccp_alpha=0.0, criterion='friedman_mse',\n",
              "                          init=None, learning_rate=0.1, loss='ls', max_depth=3,\n",
              "                          max_features=None, max_leaf_nodes=None,\n",
              "                          min_impurity_decrease=0.0, min_impurity_split=None,\n",
              "                          min_samples_leaf=1, min_samples_split=2,\n",
              "                          min_weight_fraction_leaf=0.0, n_estimators=100,\n",
              "                          n_iter_no_change=None, presort='deprecated',\n",
              "                          random_state=42, subsample=1.0, tol=0.0001,\n",
              "                          validation_fraction=0.1, verbose=0, warm_start=False)"
            ]
          },
          "metadata": {},
          "execution_count": 216
        }
      ]
    },
    {
      "cell_type": "code",
      "metadata": {
        "id": "d7lznFDx3fyt"
      },
      "source": [
        "y_pred = final_gbr.predict(test[features])"
      ],
      "execution_count": null,
      "outputs": []
    },
    {
      "cell_type": "code",
      "metadata": {
        "id": "4PaXYGtd1EUy"
      },
      "source": [
        "model=lgb.LGBMRegressor(max_depth=20,n_estimators=100)"
      ],
      "execution_count": null,
      "outputs": []
    },
    {
      "cell_type": "code",
      "metadata": {
        "id": "LJXjx_6L1N_I"
      },
      "source": [
        "gg=GradientBoostingRegressor(n_estimators=700, min_samples_leaf=55)"
      ],
      "execution_count": null,
      "outputs": []
    },
    {
      "cell_type": "code",
      "metadata": {
        "id": "vHohU0Aa1R8Z"
      },
      "source": [
        "ex=ExtraTreesRegressor(n_estimators=700,max_depth=6,min_samples_split=28, min_samples_leaf=50,n_jobs=-1)"
      ],
      "execution_count": null,
      "outputs": []
    },
    {
      "cell_type": "code",
      "metadata": {
        "id": "GGaU3ogr1UbW"
      },
      "source": [
        "final=VotingRegressor([('x',model),('y',ex),('z',gg)],weights=[1,1,2])"
      ],
      "execution_count": null,
      "outputs": []
    },
    {
      "cell_type": "code",
      "metadata": {
        "colab": {
          "base_uri": "https://localhost:8080/"
        },
        "id": "MRofjOKj1Yww",
        "outputId": "7e46633b-548d-489d-9540-1e827786ae58"
      },
      "source": [
        "final.fit(df.drop(['Item_ID','Outlet_ID','Sales','Outlet_Year','new_outlet'],axis=1),(df['Sales']))"
      ],
      "execution_count": null,
      "outputs": [
        {
          "output_type": "execute_result",
          "data": {
            "text/plain": [
              "VotingRegressor(estimators=[('x',\n",
              "                             LGBMRegressor(boosting_type='gbdt',\n",
              "                                           class_weight=None,\n",
              "                                           colsample_bytree=1.0,\n",
              "                                           importance_type='split',\n",
              "                                           learning_rate=0.1, max_depth=20,\n",
              "                                           min_child_samples=20,\n",
              "                                           min_child_weight=0.001,\n",
              "                                           min_split_gain=0.0, n_estimators=100,\n",
              "                                           n_jobs=-1, num_leaves=31,\n",
              "                                           objective=None, random_state=None,\n",
              "                                           reg_alpha=0.0, reg_lambda=0.0,\n",
              "                                           silent=True, subsample=...\n",
              "                                                       loss='ls', max_depth=3,\n",
              "                                                       max_features=None,\n",
              "                                                       max_leaf_nodes=None,\n",
              "                                                       min_impurity_decrease=0.0,\n",
              "                                                       min_impurity_split=None,\n",
              "                                                       min_samples_leaf=55,\n",
              "                                                       min_samples_split=2,\n",
              "                                                       min_weight_fraction_leaf=0.0,\n",
              "                                                       n_estimators=700,\n",
              "                                                       n_iter_no_change=None,\n",
              "                                                       presort='deprecated',\n",
              "                                                       random_state=None,\n",
              "                                                       subsample=1.0,\n",
              "                                                       tol=0.0001,\n",
              "                                                       validation_fraction=0.1,\n",
              "                                                       verbose=0,\n",
              "                                                       warm_start=False))],\n",
              "                n_jobs=None, weights=[1, 1, 2])"
            ]
          },
          "metadata": {},
          "execution_count": 63
        }
      ]
    },
    {
      "cell_type": "code",
      "metadata": {
        "id": "RLUj5_021oLY"
      },
      "source": [
        "pred=final.predict(test.drop(['Item_ID','Outlet_ID','Outlet_Year','new_outlet'],axis=1))\n",
        "pred=(abs(pred))"
      ],
      "execution_count": null,
      "outputs": []
    },
    {
      "cell_type": "code",
      "metadata": {
        "id": "bu9zTO2r3qkN"
      },
      "source": [
        "sub=pd.read_csv('/content/submission.csv')"
      ],
      "execution_count": null,
      "outputs": []
    },
    {
      "cell_type": "code",
      "metadata": {
        "colab": {
          "base_uri": "https://localhost:8080/",
          "height": 204
        },
        "id": "c-xGuhhV5x4T",
        "outputId": "caedb06e-ee7f-429e-8243-8a62c15d8526"
      },
      "source": [
        "sub[:5]"
      ],
      "execution_count": null,
      "outputs": [
        {
          "output_type": "execute_result",
          "data": {
            "text/html": [
              "<div>\n",
              "<style scoped>\n",
              "    .dataframe tbody tr th:only-of-type {\n",
              "        vertical-align: middle;\n",
              "    }\n",
              "\n",
              "    .dataframe tbody tr th {\n",
              "        vertical-align: top;\n",
              "    }\n",
              "\n",
              "    .dataframe thead th {\n",
              "        text-align: right;\n",
              "    }\n",
              "</style>\n",
              "<table border=\"1\" class=\"dataframe\">\n",
              "  <thead>\n",
              "    <tr style=\"text-align: right;\">\n",
              "      <th></th>\n",
              "      <th>Sales</th>\n",
              "    </tr>\n",
              "  </thead>\n",
              "  <tbody>\n",
              "    <tr>\n",
              "      <th>0</th>\n",
              "      <td>0.0</td>\n",
              "    </tr>\n",
              "    <tr>\n",
              "      <th>1</th>\n",
              "      <td>0.0</td>\n",
              "    </tr>\n",
              "    <tr>\n",
              "      <th>2</th>\n",
              "      <td>0.0</td>\n",
              "    </tr>\n",
              "    <tr>\n",
              "      <th>3</th>\n",
              "      <td>0.0</td>\n",
              "    </tr>\n",
              "    <tr>\n",
              "      <th>4</th>\n",
              "      <td>0.0</td>\n",
              "    </tr>\n",
              "  </tbody>\n",
              "</table>\n",
              "</div>"
            ],
            "text/plain": [
              "   Sales\n",
              "0    0.0\n",
              "1    0.0\n",
              "2    0.0\n",
              "3    0.0\n",
              "4    0.0"
            ]
          },
          "metadata": {},
          "execution_count": 66
        }
      ]
    },
    {
      "cell_type": "code",
      "metadata": {
        "id": "aNmI2Hg62NGD"
      },
      "source": [
        "a=test[['Item_ID','Outlet_ID']]\n",
        "b=pd.DataFrame(pred).rename(columns={0:'Sales'})"
      ],
      "execution_count": null,
      "outputs": []
    },
    {
      "cell_type": "code",
      "metadata": {
        "id": "C0UsP6zk6Ang"
      },
      "source": [
        "pd.concat([a,b],axis=1).to_csv('hack.csv',index=False)"
      ],
      "execution_count": null,
      "outputs": []
    },
    {
      "cell_type": "code",
      "metadata": {
        "colab": {
          "base_uri": "https://localhost:8080/",
          "height": 204
        },
        "id": "KIrMlMgt6CnB",
        "outputId": "9d3f776e-0bf7-42fc-b448-17ca9163eadd"
      },
      "source": [
        "h=pd.read_csv('submission-1.csv')\n",
        "h[:5]"
      ],
      "execution_count": null,
      "outputs": [
        {
          "output_type": "execute_result",
          "data": {
            "text/html": [
              "<div>\n",
              "<style scoped>\n",
              "    .dataframe tbody tr th:only-of-type {\n",
              "        vertical-align: middle;\n",
              "    }\n",
              "\n",
              "    .dataframe tbody tr th {\n",
              "        vertical-align: top;\n",
              "    }\n",
              "\n",
              "    .dataframe thead th {\n",
              "        text-align: right;\n",
              "    }\n",
              "</style>\n",
              "<table border=\"1\" class=\"dataframe\">\n",
              "  <thead>\n",
              "    <tr style=\"text-align: right;\">\n",
              "      <th></th>\n",
              "      <th>Sales</th>\n",
              "    </tr>\n",
              "  </thead>\n",
              "  <tbody>\n",
              "    <tr>\n",
              "      <th>0</th>\n",
              "      <td>2062.160495</td>\n",
              "    </tr>\n",
              "    <tr>\n",
              "      <th>1</th>\n",
              "      <td>2022.703926</td>\n",
              "    </tr>\n",
              "    <tr>\n",
              "      <th>2</th>\n",
              "      <td>1845.062052</td>\n",
              "    </tr>\n",
              "    <tr>\n",
              "      <th>3</th>\n",
              "      <td>1818.009491</td>\n",
              "    </tr>\n",
              "    <tr>\n",
              "      <th>4</th>\n",
              "      <td>1470.766176</td>\n",
              "    </tr>\n",
              "  </tbody>\n",
              "</table>\n",
              "</div>"
            ],
            "text/plain": [
              "         Sales\n",
              "0  2062.160495\n",
              "1  2022.703926\n",
              "2  1845.062052\n",
              "3  1818.009491\n",
              "4  1470.766176"
            ]
          },
          "metadata": {},
          "execution_count": 75
        }
      ]
    },
    {
      "cell_type": "code",
      "metadata": {
        "id": "5AQ-64364SkE"
      },
      "source": [
        "y_pred=(abs(y_pred))"
      ],
      "execution_count": null,
      "outputs": []
    },
    {
      "cell_type": "code",
      "metadata": {
        "id": "59n5Z6ve6IPZ"
      },
      "source": [
        "b=pd.DataFrame(y_pred).rename(columns={0:'Sales'})"
      ],
      "execution_count": null,
      "outputs": []
    },
    {
      "cell_type": "code",
      "metadata": {
        "id": "3WW2n9EZ6RyY"
      },
      "source": [
        "b.to_csv('submission-2.csv',index=False)"
      ],
      "execution_count": null,
      "outputs": []
    },
    {
      "cell_type": "code",
      "metadata": {
        "id": "pmt7zFFY6VBr",
        "colab": {
          "base_uri": "https://localhost:8080/",
          "height": 204
        },
        "outputId": "cdf0a661-0c2e-4007-cb47-5f057123231b"
      },
      "source": [
        "r=pd.read_csv('submission-2.csv')\n",
        "r[:5]"
      ],
      "execution_count": null,
      "outputs": [
        {
          "output_type": "execute_result",
          "data": {
            "text/html": [
              "<div>\n",
              "<style scoped>\n",
              "    .dataframe tbody tr th:only-of-type {\n",
              "        vertical-align: middle;\n",
              "    }\n",
              "\n",
              "    .dataframe tbody tr th {\n",
              "        vertical-align: top;\n",
              "    }\n",
              "\n",
              "    .dataframe thead th {\n",
              "        text-align: right;\n",
              "    }\n",
              "</style>\n",
              "<table border=\"1\" class=\"dataframe\">\n",
              "  <thead>\n",
              "    <tr style=\"text-align: right;\">\n",
              "      <th></th>\n",
              "      <th>Sales</th>\n",
              "    </tr>\n",
              "  </thead>\n",
              "  <tbody>\n",
              "    <tr>\n",
              "      <th>0</th>\n",
              "      <td>1934.193604</td>\n",
              "    </tr>\n",
              "    <tr>\n",
              "      <th>1</th>\n",
              "      <td>2091.037195</td>\n",
              "    </tr>\n",
              "    <tr>\n",
              "      <th>2</th>\n",
              "      <td>1958.045543</td>\n",
              "    </tr>\n",
              "    <tr>\n",
              "      <th>3</th>\n",
              "      <td>1908.304132</td>\n",
              "    </tr>\n",
              "    <tr>\n",
              "      <th>4</th>\n",
              "      <td>1556.147554</td>\n",
              "    </tr>\n",
              "  </tbody>\n",
              "</table>\n",
              "</div>"
            ],
            "text/plain": [
              "         Sales\n",
              "0  1934.193604\n",
              "1  2091.037195\n",
              "2  1958.045543\n",
              "3  1908.304132\n",
              "4  1556.147554"
            ]
          },
          "metadata": {},
          "execution_count": 226
        }
      ]
    },
    {
      "cell_type": "code",
      "metadata": {
        "id": "nflfnUyE4Flu"
      },
      "source": [
        ""
      ],
      "execution_count": null,
      "outputs": []
    }
  ]
}