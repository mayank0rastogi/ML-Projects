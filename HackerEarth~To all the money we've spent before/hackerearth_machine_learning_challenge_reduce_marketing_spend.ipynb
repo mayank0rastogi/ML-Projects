{
  "nbformat": 4,
  "nbformat_minor": 0,
  "metadata": {
    "colab": {
      "name": "hackerearth-machine-learning-challenge-reduce-marketing-spend.ipynb",
      "provenance": [],
      "collapsed_sections": []
    },
    "kernelspec": {
      "display_name": "Python 3",
      "name": "python3"
    },
    "language_info": {
      "name": "python"
    }
  },
  "cells": [
    {
      "cell_type": "code",
      "metadata": {
        "colab": {
          "base_uri": "https://localhost:8080/"
        },
        "id": "S9kCS0avYNgz",
        "outputId": "af0df880-a9bb-47e0-aca4-c52339ad2906"
      },
      "source": [
        "from zipfile import ZipFile\n",
        "file_name = \"/content/drive/MyDrive/HACKER EARTH/hackerearth-machine-learning-challenge-reduce-marketing-spend/f167b0fc922411eb.zip\"\n",
        "with ZipFile(file_name,'r') as zip:\n",
        "  zip.extractall()\n",
        "  print('finish')\n"
      ],
      "execution_count": 1,
      "outputs": [
        {
          "output_type": "stream",
          "text": [
            "finish\n"
          ],
          "name": "stdout"
        }
      ]
    },
    {
      "cell_type": "code",
      "metadata": {
        "id": "0bW9scMwYu3c"
      },
      "source": [
        "import numpy as np\n",
        "import pandas as pd\n",
        "import matplotlib.pyplot as plt\n",
        "import seaborn as sns"
      ],
      "execution_count": 1,
      "outputs": []
    },
    {
      "cell_type": "code",
      "metadata": {
        "id": "PEBCQpoZY2tj"
      },
      "source": [
        "train=pd.read_csv(\"/content/dataset/train.csv\")\n",
        "test=pd.read_csv(\"/content/dataset/test.csv\")\n",
        "subm=pd.read_csv(\"/content/dataset/sample_submission.csv\")"
      ],
      "execution_count": 2,
      "outputs": []
    },
    {
      "cell_type": "code",
      "metadata": {
        "colab": {
          "base_uri": "https://localhost:8080/",
          "height": 383
        },
        "id": "7tWjjvBmZP87",
        "outputId": "d4c90a44-cf2f-417b-9e61-cf91d07afd18"
      },
      "source": [
        "train[:5]"
      ],
      "execution_count": 3,
      "outputs": [
        {
          "output_type": "execute_result",
          "data": {
            "text/html": [
              "<div>\n",
              "<style scoped>\n",
              "    .dataframe tbody tr th:only-of-type {\n",
              "        vertical-align: middle;\n",
              "    }\n",
              "\n",
              "    .dataframe tbody tr th {\n",
              "        vertical-align: top;\n",
              "    }\n",
              "\n",
              "    .dataframe thead th {\n",
              "        text-align: right;\n",
              "    }\n",
              "</style>\n",
              "<table border=\"1\" class=\"dataframe\">\n",
              "  <thead>\n",
              "    <tr style=\"text-align: right;\">\n",
              "      <th></th>\n",
              "      <th>Deal_title</th>\n",
              "      <th>Lead_name</th>\n",
              "      <th>Industry</th>\n",
              "      <th>Deal_value</th>\n",
              "      <th>Weighted_amount</th>\n",
              "      <th>Date_of_creation</th>\n",
              "      <th>Pitch</th>\n",
              "      <th>Contact_no</th>\n",
              "      <th>Lead_revenue</th>\n",
              "      <th>Fund_category</th>\n",
              "      <th>Geography</th>\n",
              "      <th>Location</th>\n",
              "      <th>POC_name</th>\n",
              "      <th>Designation</th>\n",
              "      <th>Lead_POC_email</th>\n",
              "      <th>Hiring_candidate_role</th>\n",
              "      <th>Lead_source</th>\n",
              "      <th>Level_of_meeting</th>\n",
              "      <th>Last_lead_update</th>\n",
              "      <th>Internal_POC</th>\n",
              "      <th>Resource</th>\n",
              "      <th>Internal_rating</th>\n",
              "      <th>Success_probability</th>\n",
              "    </tr>\n",
              "  </thead>\n",
              "  <tbody>\n",
              "    <tr>\n",
              "      <th>0</th>\n",
              "      <td>TitleM5DZY</td>\n",
              "      <td>Davis, Perkins and Bishop Inc</td>\n",
              "      <td>Restaurants</td>\n",
              "      <td>320506$</td>\n",
              "      <td>2067263.7$</td>\n",
              "      <td>2020-03-29</td>\n",
              "      <td>Product_2</td>\n",
              "      <td>607.447.7883</td>\n",
              "      <td>50 - 100 Million</td>\n",
              "      <td>Category 2</td>\n",
              "      <td>USA</td>\n",
              "      <td>Killeen-Temple, TX</td>\n",
              "      <td>Charlene Werner</td>\n",
              "      <td>Executive Vice President</td>\n",
              "      <td>charlenewerner@davis.com</td>\n",
              "      <td>Community pharmacist</td>\n",
              "      <td>Website</td>\n",
              "      <td>Level 3</td>\n",
              "      <td>No track</td>\n",
              "      <td>Davis,Sharrice A</td>\n",
              "      <td>NaN</td>\n",
              "      <td>3</td>\n",
              "      <td>73.6</td>\n",
              "    </tr>\n",
              "    <tr>\n",
              "      <th>1</th>\n",
              "      <td>TitleKIW18</td>\n",
              "      <td>Bender PLC LLC</td>\n",
              "      <td>Construction Services</td>\n",
              "      <td>39488$</td>\n",
              "      <td>240876.8$</td>\n",
              "      <td>2019-07-10</td>\n",
              "      <td>Product_2</td>\n",
              "      <td>892-938-9493</td>\n",
              "      <td>500 Million - 1 Billion</td>\n",
              "      <td>Category 4</td>\n",
              "      <td>India</td>\n",
              "      <td>Ratlam</td>\n",
              "      <td>rakhi</td>\n",
              "      <td>Chairman/CEO/President</td>\n",
              "      <td>terrylogan@bender.com</td>\n",
              "      <td>Recruitment consultant</td>\n",
              "      <td>Others</td>\n",
              "      <td>Level 1</td>\n",
              "      <td>Did not hear back after Level 1</td>\n",
              "      <td>Brown,Maxine A</td>\n",
              "      <td>No</td>\n",
              "      <td>5</td>\n",
              "      <td>58.9</td>\n",
              "    </tr>\n",
              "    <tr>\n",
              "      <th>2</th>\n",
              "      <td>TitleFXSDN</td>\n",
              "      <td>Carter-Henry and Sons</td>\n",
              "      <td>Hospitals/Clinics</td>\n",
              "      <td>359392$</td>\n",
              "      <td>2407926.4$</td>\n",
              "      <td>2019-07-27</td>\n",
              "      <td>Product_1</td>\n",
              "      <td>538.748.2271</td>\n",
              "      <td>500 Million - 1 Billion</td>\n",
              "      <td>Category 4</td>\n",
              "      <td>USA</td>\n",
              "      <td>Albany-Schenectady-Troy, NY</td>\n",
              "      <td>Ariel Hamilton</td>\n",
              "      <td>SVP/General Counsel</td>\n",
              "      <td>arielhamilton@carterhenry.com</td>\n",
              "      <td>Health service manager</td>\n",
              "      <td>Marketing Event</td>\n",
              "      <td>Level 1</td>\n",
              "      <td>?</td>\n",
              "      <td>Georgakopoulos,Vasilios T</td>\n",
              "      <td>No</td>\n",
              "      <td>4</td>\n",
              "      <td>68.8</td>\n",
              "    </tr>\n",
              "    <tr>\n",
              "      <th>3</th>\n",
              "      <td>TitlePSK4Y</td>\n",
              "      <td>Garcia Ltd Ltd</td>\n",
              "      <td>Real Estate</td>\n",
              "      <td>76774$</td>\n",
              "      <td>468321.4$</td>\n",
              "      <td>2021-01-30</td>\n",
              "      <td>Product_2</td>\n",
              "      <td>(692)052-1389x75188</td>\n",
              "      <td>500 Million - 1 Billion</td>\n",
              "      <td>Category 3</td>\n",
              "      <td>USA</td>\n",
              "      <td>Mount Vernon-Anacortes, WA</td>\n",
              "      <td>Erin Wilson</td>\n",
              "      <td>CEO/Co-Founder/Chairman</td>\n",
              "      <td>erinwilson@garcia.com</td>\n",
              "      <td>Therapist, speech and language</td>\n",
              "      <td>Contact Email</td>\n",
              "      <td>Level 2</td>\n",
              "      <td>Did not hear back after Level 1</td>\n",
              "      <td>Brown,Maxine A</td>\n",
              "      <td>We have all the requirements</td>\n",
              "      <td>1</td>\n",
              "      <td>64.5</td>\n",
              "    </tr>\n",
              "    <tr>\n",
              "      <th>4</th>\n",
              "      <td>Title904GV</td>\n",
              "      <td>Lee and Sons PLC</td>\n",
              "      <td>Financial Services</td>\n",
              "      <td>483896$</td>\n",
              "      <td>NaN</td>\n",
              "      <td>2019-05-22</td>\n",
              "      <td>Product_2</td>\n",
              "      <td>001-878-814-6134x015</td>\n",
              "      <td>50 - 100 Million</td>\n",
              "      <td>Category 3</td>\n",
              "      <td>India</td>\n",
              "      <td>Shimoga</td>\n",
              "      <td>kavita</td>\n",
              "      <td>Executive Vice President</td>\n",
              "      <td>mr.christopher@lee.com</td>\n",
              "      <td>Media planner</td>\n",
              "      <td>Website</td>\n",
              "      <td>Level 2</td>\n",
              "      <td>Up-to-date</td>\n",
              "      <td>Thomas,Lori E</td>\n",
              "      <td>No</td>\n",
              "      <td>4</td>\n",
              "      <td>62.4</td>\n",
              "    </tr>\n",
              "  </tbody>\n",
              "</table>\n",
              "</div>"
            ],
            "text/plain": [
              "   Deal_title  ... Success_probability\n",
              "0  TitleM5DZY  ...                73.6\n",
              "1  TitleKIW18  ...                58.9\n",
              "2  TitleFXSDN  ...                68.8\n",
              "3  TitlePSK4Y  ...                64.5\n",
              "4  Title904GV  ...                62.4\n",
              "\n",
              "[5 rows x 23 columns]"
            ]
          },
          "metadata": {
            "tags": []
          },
          "execution_count": 3
        }
      ]
    },
    {
      "cell_type": "code",
      "metadata": {
        "colab": {
          "base_uri": "https://localhost:8080/"
        },
        "id": "VGW2wxttZSKe",
        "outputId": "5d70030d-43d8-4811-e0c0-c915a83153df"
      },
      "source": [
        "train.info()"
      ],
      "execution_count": 4,
      "outputs": [
        {
          "output_type": "stream",
          "text": [
            "<class 'pandas.core.frame.DataFrame'>\n",
            "RangeIndex: 7007 entries, 0 to 7006\n",
            "Data columns (total 23 columns):\n",
            " #   Column                 Non-Null Count  Dtype  \n",
            "---  ------                 --------------  -----  \n",
            " 0   Deal_title             7007 non-null   object \n",
            " 1   Lead_name              7007 non-null   object \n",
            " 2   Industry               7006 non-null   object \n",
            " 3   Deal_value             6956 non-null   object \n",
            " 4   Weighted_amount        6482 non-null   object \n",
            " 5   Date_of_creation       7007 non-null   object \n",
            " 6   Pitch                  7007 non-null   object \n",
            " 7   Contact_no             7007 non-null   object \n",
            " 8   Lead_revenue           7007 non-null   object \n",
            " 9   Fund_category          7007 non-null   object \n",
            " 10  Geography              6035 non-null   object \n",
            " 11  Location               6996 non-null   object \n",
            " 12  POC_name               6999 non-null   object \n",
            " 13  Designation            7007 non-null   object \n",
            " 14  Lead_POC_email         7007 non-null   object \n",
            " 15  Hiring_candidate_role  7007 non-null   object \n",
            " 16  Lead_source            7007 non-null   object \n",
            " 17  Level_of_meeting       7007 non-null   object \n",
            " 18  Last_lead_update       6374 non-null   object \n",
            " 19  Internal_POC           7007 non-null   object \n",
            " 20  Resource               6858 non-null   object \n",
            " 21  Internal_rating        7007 non-null   int64  \n",
            " 22  Success_probability    7007 non-null   float64\n",
            "dtypes: float64(1), int64(1), object(21)\n",
            "memory usage: 1.2+ MB\n"
          ],
          "name": "stdout"
        }
      ]
    },
    {
      "cell_type": "code",
      "metadata": {
        "colab": {
          "base_uri": "https://localhost:8080/",
          "height": 284
        },
        "id": "Rd4RXhTxZY66",
        "outputId": "995224da-12b2-414d-bf24-76ed5887fccc"
      },
      "source": [
        "train.describe()"
      ],
      "execution_count": 5,
      "outputs": [
        {
          "output_type": "execute_result",
          "data": {
            "text/html": [
              "<div>\n",
              "<style scoped>\n",
              "    .dataframe tbody tr th:only-of-type {\n",
              "        vertical-align: middle;\n",
              "    }\n",
              "\n",
              "    .dataframe tbody tr th {\n",
              "        vertical-align: top;\n",
              "    }\n",
              "\n",
              "    .dataframe thead th {\n",
              "        text-align: right;\n",
              "    }\n",
              "</style>\n",
              "<table border=\"1\" class=\"dataframe\">\n",
              "  <thead>\n",
              "    <tr style=\"text-align: right;\">\n",
              "      <th></th>\n",
              "      <th>Internal_rating</th>\n",
              "      <th>Success_probability</th>\n",
              "    </tr>\n",
              "  </thead>\n",
              "  <tbody>\n",
              "    <tr>\n",
              "      <th>count</th>\n",
              "      <td>7007.000000</td>\n",
              "      <td>7007.000000</td>\n",
              "    </tr>\n",
              "    <tr>\n",
              "      <th>mean</th>\n",
              "      <td>3.009562</td>\n",
              "      <td>64.745133</td>\n",
              "    </tr>\n",
              "    <tr>\n",
              "      <th>std</th>\n",
              "      <td>1.418666</td>\n",
              "      <td>17.931635</td>\n",
              "    </tr>\n",
              "    <tr>\n",
              "      <th>min</th>\n",
              "      <td>1.000000</td>\n",
              "      <td>-5.000000</td>\n",
              "    </tr>\n",
              "    <tr>\n",
              "      <th>25%</th>\n",
              "      <td>2.000000</td>\n",
              "      <td>60.600000</td>\n",
              "    </tr>\n",
              "    <tr>\n",
              "      <th>50%</th>\n",
              "      <td>3.000000</td>\n",
              "      <td>65.300000</td>\n",
              "    </tr>\n",
              "    <tr>\n",
              "      <th>75%</th>\n",
              "      <td>4.000000</td>\n",
              "      <td>69.600000</td>\n",
              "    </tr>\n",
              "    <tr>\n",
              "      <th>max</th>\n",
              "      <td>5.000000</td>\n",
              "      <td>107.340000</td>\n",
              "    </tr>\n",
              "  </tbody>\n",
              "</table>\n",
              "</div>"
            ],
            "text/plain": [
              "       Internal_rating  Success_probability\n",
              "count      7007.000000          7007.000000\n",
              "mean          3.009562            64.745133\n",
              "std           1.418666            17.931635\n",
              "min           1.000000            -5.000000\n",
              "25%           2.000000            60.600000\n",
              "50%           3.000000            65.300000\n",
              "75%           4.000000            69.600000\n",
              "max           5.000000           107.340000"
            ]
          },
          "metadata": {
            "tags": []
          },
          "execution_count": 5
        }
      ]
    },
    {
      "cell_type": "code",
      "metadata": {
        "colab": {
          "base_uri": "https://localhost:8080/",
          "height": 195
        },
        "id": "EqXZW8J-ZaTV",
        "outputId": "b5937554-f95d-4b84-ee2c-3c45b389760b"
      },
      "source": [
        "subm[:5]"
      ],
      "execution_count": 6,
      "outputs": [
        {
          "output_type": "execute_result",
          "data": {
            "text/html": [
              "<div>\n",
              "<style scoped>\n",
              "    .dataframe tbody tr th:only-of-type {\n",
              "        vertical-align: middle;\n",
              "    }\n",
              "\n",
              "    .dataframe tbody tr th {\n",
              "        vertical-align: top;\n",
              "    }\n",
              "\n",
              "    .dataframe thead th {\n",
              "        text-align: right;\n",
              "    }\n",
              "</style>\n",
              "<table border=\"1\" class=\"dataframe\">\n",
              "  <thead>\n",
              "    <tr style=\"text-align: right;\">\n",
              "      <th></th>\n",
              "      <th>Deal_title</th>\n",
              "      <th>Success_probability</th>\n",
              "    </tr>\n",
              "  </thead>\n",
              "  <tbody>\n",
              "    <tr>\n",
              "      <th>0</th>\n",
              "      <td>TitleM5DZY</td>\n",
              "      <td>48.6</td>\n",
              "    </tr>\n",
              "    <tr>\n",
              "      <th>1</th>\n",
              "      <td>TitleKIW18</td>\n",
              "      <td>33.9</td>\n",
              "    </tr>\n",
              "    <tr>\n",
              "      <th>2</th>\n",
              "      <td>TitleFXSDN</td>\n",
              "      <td>43.8</td>\n",
              "    </tr>\n",
              "    <tr>\n",
              "      <th>3</th>\n",
              "      <td>TitlePSK4Y</td>\n",
              "      <td>39.5</td>\n",
              "    </tr>\n",
              "    <tr>\n",
              "      <th>4</th>\n",
              "      <td>Title904GV</td>\n",
              "      <td>37.4</td>\n",
              "    </tr>\n",
              "  </tbody>\n",
              "</table>\n",
              "</div>"
            ],
            "text/plain": [
              "   Deal_title  Success_probability\n",
              "0  TitleM5DZY                 48.6\n",
              "1  TitleKIW18                 33.9\n",
              "2  TitleFXSDN                 43.8\n",
              "3  TitlePSK4Y                 39.5\n",
              "4  Title904GV                 37.4"
            ]
          },
          "metadata": {
            "tags": []
          },
          "execution_count": 6
        }
      ]
    },
    {
      "cell_type": "code",
      "metadata": {
        "colab": {
          "base_uri": "https://localhost:8080/",
          "height": 434
        },
        "id": "eub13p3HZc0T",
        "outputId": "6d14b94b-39aa-4a3d-de63-a8e8e0bd9cc4"
      },
      "source": [
        "test[:5]"
      ],
      "execution_count": 7,
      "outputs": [
        {
          "output_type": "execute_result",
          "data": {
            "text/html": [
              "<div>\n",
              "<style scoped>\n",
              "    .dataframe tbody tr th:only-of-type {\n",
              "        vertical-align: middle;\n",
              "    }\n",
              "\n",
              "    .dataframe tbody tr th {\n",
              "        vertical-align: top;\n",
              "    }\n",
              "\n",
              "    .dataframe thead th {\n",
              "        text-align: right;\n",
              "    }\n",
              "</style>\n",
              "<table border=\"1\" class=\"dataframe\">\n",
              "  <thead>\n",
              "    <tr style=\"text-align: right;\">\n",
              "      <th></th>\n",
              "      <th>Deal_title</th>\n",
              "      <th>Lead_name</th>\n",
              "      <th>Industry</th>\n",
              "      <th>Deal_value</th>\n",
              "      <th>Weighted_amount</th>\n",
              "      <th>Date_of_creation</th>\n",
              "      <th>Pitch</th>\n",
              "      <th>Contact_no</th>\n",
              "      <th>Lead_revenue</th>\n",
              "      <th>Fund_category</th>\n",
              "      <th>Geography</th>\n",
              "      <th>Location</th>\n",
              "      <th>POC_name</th>\n",
              "      <th>Designation</th>\n",
              "      <th>Lead_POC_email</th>\n",
              "      <th>Hiring_candidate_role</th>\n",
              "      <th>Lead_source</th>\n",
              "      <th>Level_of_meeting</th>\n",
              "      <th>Last_lead_update</th>\n",
              "      <th>Internal_POC</th>\n",
              "      <th>Resource</th>\n",
              "      <th>Internal_rating</th>\n",
              "    </tr>\n",
              "  </thead>\n",
              "  <tbody>\n",
              "    <tr>\n",
              "      <th>0</th>\n",
              "      <td>TitleAD16O</td>\n",
              "      <td>Bonilla Ltd Inc</td>\n",
              "      <td>Investment Bank/Brokerage</td>\n",
              "      <td>200988$</td>\n",
              "      <td>NaN</td>\n",
              "      <td>2020-04-15</td>\n",
              "      <td>Product_1</td>\n",
              "      <td>167.332.2751x989</td>\n",
              "      <td>100 - 500 Million</td>\n",
              "      <td>Category 4</td>\n",
              "      <td>India</td>\n",
              "      <td>Bhubaneshwar</td>\n",
              "      <td>sonia</td>\n",
              "      <td>Chairman/CEO/President</td>\n",
              "      <td>maureenthomas@bonilla.com</td>\n",
              "      <td>Designer, fashion/clothing</td>\n",
              "      <td>Marketing Event</td>\n",
              "      <td>Level 1</td>\n",
              "      <td>more than a month</td>\n",
              "      <td>Massiah,Gerard F</td>\n",
              "      <td>No</td>\n",
              "      <td>-1.0</td>\n",
              "    </tr>\n",
              "    <tr>\n",
              "      <th>1</th>\n",
              "      <td>TitleOW6CR</td>\n",
              "      <td>Williams, Rogers and Roach PLC</td>\n",
              "      <td>Electronics</td>\n",
              "      <td>409961$</td>\n",
              "      <td>2541758.2$</td>\n",
              "      <td>2021-01-23</td>\n",
              "      <td>Product_1</td>\n",
              "      <td>001-486-903-0711x7831</td>\n",
              "      <td>100 - 500 Million</td>\n",
              "      <td>Category 3</td>\n",
              "      <td>USA</td>\n",
              "      <td>Coeur d'Alene, ID</td>\n",
              "      <td>Daniel Bell</td>\n",
              "      <td>CEO/Co-Founder/Chairman</td>\n",
              "      <td>danielbell@williams.com</td>\n",
              "      <td>Horticultural consultant</td>\n",
              "      <td>Marketing Event</td>\n",
              "      <td>Level 2</td>\n",
              "      <td>Up-to-date</td>\n",
              "      <td>Smith,Keenan H</td>\n",
              "      <td>Yes</td>\n",
              "      <td>1.0</td>\n",
              "    </tr>\n",
              "    <tr>\n",
              "      <th>2</th>\n",
              "      <td>TitleVVJQ5</td>\n",
              "      <td>Wood, Vaughn and Morales Ltd</td>\n",
              "      <td>Banks</td>\n",
              "      <td>434433$</td>\n",
              "      <td>3041031.0$</td>\n",
              "      <td>2020-07-19</td>\n",
              "      <td>Product_1</td>\n",
              "      <td>(393)104-2610x9723</td>\n",
              "      <td>100 - 500 Million</td>\n",
              "      <td>Category 1</td>\n",
              "      <td>USA</td>\n",
              "      <td>Portland-South Portland, ME</td>\n",
              "      <td>Andrew Davis</td>\n",
              "      <td>Chairman/Chief Innovation Officer</td>\n",
              "      <td>andrewdavis@wood.com</td>\n",
              "      <td>Information officer</td>\n",
              "      <td>Marketing Event</td>\n",
              "      <td>Level 2</td>\n",
              "      <td>Did not hear back after Level 1</td>\n",
              "      <td>Gilley,Janine</td>\n",
              "      <td>Deliverable</td>\n",
              "      <td>5.0</td>\n",
              "    </tr>\n",
              "    <tr>\n",
              "      <th>3</th>\n",
              "      <td>TitleUS8NA</td>\n",
              "      <td>Durham-Crawford Inc</td>\n",
              "      <td>Music</td>\n",
              "      <td>218952$</td>\n",
              "      <td>1521716.4$</td>\n",
              "      <td>2020-02-27</td>\n",
              "      <td>Product_2</td>\n",
              "      <td>(817)040-4599</td>\n",
              "      <td>100 - 500 Million</td>\n",
              "      <td>Category 1</td>\n",
              "      <td>India</td>\n",
              "      <td>Bareilly</td>\n",
              "      <td>shital</td>\n",
              "      <td>CEO/Chairman/President</td>\n",
              "      <td>charlesrivera@durhamcrawford.com</td>\n",
              "      <td>Commercial/residential surveyor</td>\n",
              "      <td>Contact Email</td>\n",
              "      <td>Level 3</td>\n",
              "      <td>more than a month</td>\n",
              "      <td>Morsy,Omar A</td>\n",
              "      <td>No</td>\n",
              "      <td>5.0</td>\n",
              "    </tr>\n",
              "    <tr>\n",
              "      <th>4</th>\n",
              "      <td>Title5VGWW</td>\n",
              "      <td>Simpson, Duncan and Long LLC</td>\n",
              "      <td>Real Estate</td>\n",
              "      <td>392835$</td>\n",
              "      <td>2455218.75$</td>\n",
              "      <td>2020-10-25</td>\n",
              "      <td>Product_1</td>\n",
              "      <td>718-032-5726x76098</td>\n",
              "      <td>500 Million - 1 Billion</td>\n",
              "      <td>Category 3</td>\n",
              "      <td>USA</td>\n",
              "      <td>Trenton, NJ</td>\n",
              "      <td>Shelly Stephenson</td>\n",
              "      <td>CEO/Co-Founder/Chairman</td>\n",
              "      <td>shellystephenson@simpson.com</td>\n",
              "      <td>Wellsite geologist</td>\n",
              "      <td>Others</td>\n",
              "      <td>Level 3</td>\n",
              "      <td>More than 2 weeks</td>\n",
              "      <td>Morsy,Omar A</td>\n",
              "      <td>Deliverable</td>\n",
              "      <td>2.0</td>\n",
              "    </tr>\n",
              "  </tbody>\n",
              "</table>\n",
              "</div>"
            ],
            "text/plain": [
              "   Deal_title                       Lead_name  ...     Resource Internal_rating\n",
              "0  TitleAD16O                 Bonilla Ltd Inc  ...           No            -1.0\n",
              "1  TitleOW6CR  Williams, Rogers and Roach PLC  ...          Yes             1.0\n",
              "2  TitleVVJQ5    Wood, Vaughn and Morales Ltd  ...  Deliverable             5.0\n",
              "3  TitleUS8NA             Durham-Crawford Inc  ...           No             5.0\n",
              "4  Title5VGWW    Simpson, Duncan and Long LLC  ...  Deliverable             2.0\n",
              "\n",
              "[5 rows x 22 columns]"
            ]
          },
          "metadata": {
            "tags": []
          },
          "execution_count": 7
        }
      ]
    },
    {
      "cell_type": "code",
      "metadata": {
        "id": "GpNHJwOuwJN6"
      },
      "source": [
        "# set target feature\n",
        "targetFeature='Success_probability'"
      ],
      "execution_count": 8,
      "outputs": []
    },
    {
      "cell_type": "code",
      "metadata": {
        "id": "S-SmGh3fwke9"
      },
      "source": [
        "def datashape(df):\n",
        "  rows,columns=df.shape\n",
        "  print(\"The dataset contains \",rows,\"rows and\",columns,\"columns.\")"
      ],
      "execution_count": 9,
      "outputs": []
    },
    {
      "cell_type": "code",
      "metadata": {
        "id": "i0QT1s3bwot6"
      },
      "source": [
        "# segregate numerical and categorical features\n",
        "def divideFeatures(df):\n",
        "    numerical_features = df.select_dtypes(include=[np.number])\n",
        "    categorical_features = df.select_dtypes(include=[np.object])\n",
        "    return numerical_features, categorical_features"
      ],
      "execution_count": 10,
      "outputs": []
    },
    {
      "cell_type": "code",
      "metadata": {
        "colab": {
          "base_uri": "https://localhost:8080/"
        },
        "id": "un7Ir21jwtMm",
        "outputId": "28b67e45-bd95-4922-bd74-f08443469b29"
      },
      "source": [
        "datashape(train)"
      ],
      "execution_count": 11,
      "outputs": [
        {
          "output_type": "stream",
          "text": [
            "The dataset contains  7007 rows and 23 columns.\n"
          ],
          "name": "stdout"
        }
      ]
    },
    {
      "cell_type": "code",
      "metadata": {
        "colab": {
          "base_uri": "https://localhost:8080/"
        },
        "id": "PHfmQGcmwygw",
        "outputId": "70236462-52b3-43de-f519-8565cb111782"
      },
      "source": [
        "datashape(test)"
      ],
      "execution_count": 12,
      "outputs": [
        {
          "output_type": "stream",
          "text": [
            "The dataset contains  2093 rows and 22 columns.\n"
          ],
          "name": "stdout"
        }
      ]
    },
    {
      "cell_type": "code",
      "metadata": {
        "id": "XZ4n3FWxw0HC"
      },
      "source": [
        "# remove ID from training data\n",
        "train.drop(['Deal_title'], inplace=True, axis=1)"
      ],
      "execution_count": 13,
      "outputs": []
    },
    {
      "cell_type": "code",
      "metadata": {
        "colab": {
          "base_uri": "https://localhost:8080/"
        },
        "id": "-DrAvLMBw7rS",
        "outputId": "2ea9b8cf-9807-42f4-9026-f5165a24a2fe"
      },
      "source": [
        "# check for duplicates\n",
        "print(train.shape)\n",
        "train.drop_duplicates(inplace=True)\n",
        "print(train.shape)"
      ],
      "execution_count": 14,
      "outputs": [
        {
          "output_type": "stream",
          "text": [
            "(7007, 22)\n",
            "(7007, 22)\n"
          ],
          "name": "stdout"
        }
      ]
    },
    {
      "cell_type": "code",
      "metadata": {
        "colab": {
          "base_uri": "https://localhost:8080/"
        },
        "id": "pw2BcA4axLv1",
        "outputId": "19fbd104-b391-40ee-d355-33bbfda9c690"
      },
      "source": [
        "train.isnull().sum()"
      ],
      "execution_count": 15,
      "outputs": [
        {
          "output_type": "execute_result",
          "data": {
            "text/plain": [
              "Lead_name                  0\n",
              "Industry                   1\n",
              "Deal_value                51\n",
              "Weighted_amount          525\n",
              "Date_of_creation           0\n",
              "Pitch                      0\n",
              "Contact_no                 0\n",
              "Lead_revenue               0\n",
              "Fund_category              0\n",
              "Geography                972\n",
              "Location                  11\n",
              "POC_name                   8\n",
              "Designation                0\n",
              "Lead_POC_email             0\n",
              "Hiring_candidate_role      0\n",
              "Lead_source                0\n",
              "Level_of_meeting           0\n",
              "Last_lead_update         633\n",
              "Internal_POC               0\n",
              "Resource                 149\n",
              "Internal_rating            0\n",
              "Success_probability        0\n",
              "dtype: int64"
            ]
          },
          "metadata": {
            "tags": []
          },
          "execution_count": 15
        }
      ]
    },
    {
      "cell_type": "code",
      "metadata": {
        "id": "WJobQo00w_Q5"
      },
      "source": [
        "continuous_data, categorical_data = divideFeatures(train)"
      ],
      "execution_count": 16,
      "outputs": []
    },
    {
      "cell_type": "code",
      "metadata": {
        "colab": {
          "base_uri": "https://localhost:8080/",
          "height": 383
        },
        "id": "unKlGp7_xGg5",
        "outputId": "c58a2959-c8fa-46da-986d-2243d1f98311"
      },
      "source": [
        "categorical_data[:5]"
      ],
      "execution_count": 17,
      "outputs": [
        {
          "output_type": "execute_result",
          "data": {
            "text/html": [
              "<div>\n",
              "<style scoped>\n",
              "    .dataframe tbody tr th:only-of-type {\n",
              "        vertical-align: middle;\n",
              "    }\n",
              "\n",
              "    .dataframe tbody tr th {\n",
              "        vertical-align: top;\n",
              "    }\n",
              "\n",
              "    .dataframe thead th {\n",
              "        text-align: right;\n",
              "    }\n",
              "</style>\n",
              "<table border=\"1\" class=\"dataframe\">\n",
              "  <thead>\n",
              "    <tr style=\"text-align: right;\">\n",
              "      <th></th>\n",
              "      <th>Lead_name</th>\n",
              "      <th>Industry</th>\n",
              "      <th>Deal_value</th>\n",
              "      <th>Weighted_amount</th>\n",
              "      <th>Date_of_creation</th>\n",
              "      <th>Pitch</th>\n",
              "      <th>Contact_no</th>\n",
              "      <th>Lead_revenue</th>\n",
              "      <th>Fund_category</th>\n",
              "      <th>Geography</th>\n",
              "      <th>Location</th>\n",
              "      <th>POC_name</th>\n",
              "      <th>Designation</th>\n",
              "      <th>Lead_POC_email</th>\n",
              "      <th>Hiring_candidate_role</th>\n",
              "      <th>Lead_source</th>\n",
              "      <th>Level_of_meeting</th>\n",
              "      <th>Last_lead_update</th>\n",
              "      <th>Internal_POC</th>\n",
              "      <th>Resource</th>\n",
              "    </tr>\n",
              "  </thead>\n",
              "  <tbody>\n",
              "    <tr>\n",
              "      <th>0</th>\n",
              "      <td>Davis, Perkins and Bishop Inc</td>\n",
              "      <td>Restaurants</td>\n",
              "      <td>320506$</td>\n",
              "      <td>2067263.7$</td>\n",
              "      <td>2020-03-29</td>\n",
              "      <td>Product_2</td>\n",
              "      <td>607.447.7883</td>\n",
              "      <td>50 - 100 Million</td>\n",
              "      <td>Category 2</td>\n",
              "      <td>USA</td>\n",
              "      <td>Killeen-Temple, TX</td>\n",
              "      <td>Charlene Werner</td>\n",
              "      <td>Executive Vice President</td>\n",
              "      <td>charlenewerner@davis.com</td>\n",
              "      <td>Community pharmacist</td>\n",
              "      <td>Website</td>\n",
              "      <td>Level 3</td>\n",
              "      <td>No track</td>\n",
              "      <td>Davis,Sharrice A</td>\n",
              "      <td>NaN</td>\n",
              "    </tr>\n",
              "    <tr>\n",
              "      <th>1</th>\n",
              "      <td>Bender PLC LLC</td>\n",
              "      <td>Construction Services</td>\n",
              "      <td>39488$</td>\n",
              "      <td>240876.8$</td>\n",
              "      <td>2019-07-10</td>\n",
              "      <td>Product_2</td>\n",
              "      <td>892-938-9493</td>\n",
              "      <td>500 Million - 1 Billion</td>\n",
              "      <td>Category 4</td>\n",
              "      <td>India</td>\n",
              "      <td>Ratlam</td>\n",
              "      <td>rakhi</td>\n",
              "      <td>Chairman/CEO/President</td>\n",
              "      <td>terrylogan@bender.com</td>\n",
              "      <td>Recruitment consultant</td>\n",
              "      <td>Others</td>\n",
              "      <td>Level 1</td>\n",
              "      <td>Did not hear back after Level 1</td>\n",
              "      <td>Brown,Maxine A</td>\n",
              "      <td>No</td>\n",
              "    </tr>\n",
              "    <tr>\n",
              "      <th>2</th>\n",
              "      <td>Carter-Henry and Sons</td>\n",
              "      <td>Hospitals/Clinics</td>\n",
              "      <td>359392$</td>\n",
              "      <td>2407926.4$</td>\n",
              "      <td>2019-07-27</td>\n",
              "      <td>Product_1</td>\n",
              "      <td>538.748.2271</td>\n",
              "      <td>500 Million - 1 Billion</td>\n",
              "      <td>Category 4</td>\n",
              "      <td>USA</td>\n",
              "      <td>Albany-Schenectady-Troy, NY</td>\n",
              "      <td>Ariel Hamilton</td>\n",
              "      <td>SVP/General Counsel</td>\n",
              "      <td>arielhamilton@carterhenry.com</td>\n",
              "      <td>Health service manager</td>\n",
              "      <td>Marketing Event</td>\n",
              "      <td>Level 1</td>\n",
              "      <td>?</td>\n",
              "      <td>Georgakopoulos,Vasilios T</td>\n",
              "      <td>No</td>\n",
              "    </tr>\n",
              "    <tr>\n",
              "      <th>3</th>\n",
              "      <td>Garcia Ltd Ltd</td>\n",
              "      <td>Real Estate</td>\n",
              "      <td>76774$</td>\n",
              "      <td>468321.4$</td>\n",
              "      <td>2021-01-30</td>\n",
              "      <td>Product_2</td>\n",
              "      <td>(692)052-1389x75188</td>\n",
              "      <td>500 Million - 1 Billion</td>\n",
              "      <td>Category 3</td>\n",
              "      <td>USA</td>\n",
              "      <td>Mount Vernon-Anacortes, WA</td>\n",
              "      <td>Erin Wilson</td>\n",
              "      <td>CEO/Co-Founder/Chairman</td>\n",
              "      <td>erinwilson@garcia.com</td>\n",
              "      <td>Therapist, speech and language</td>\n",
              "      <td>Contact Email</td>\n",
              "      <td>Level 2</td>\n",
              "      <td>Did not hear back after Level 1</td>\n",
              "      <td>Brown,Maxine A</td>\n",
              "      <td>We have all the requirements</td>\n",
              "    </tr>\n",
              "    <tr>\n",
              "      <th>4</th>\n",
              "      <td>Lee and Sons PLC</td>\n",
              "      <td>Financial Services</td>\n",
              "      <td>483896$</td>\n",
              "      <td>NaN</td>\n",
              "      <td>2019-05-22</td>\n",
              "      <td>Product_2</td>\n",
              "      <td>001-878-814-6134x015</td>\n",
              "      <td>50 - 100 Million</td>\n",
              "      <td>Category 3</td>\n",
              "      <td>India</td>\n",
              "      <td>Shimoga</td>\n",
              "      <td>kavita</td>\n",
              "      <td>Executive Vice President</td>\n",
              "      <td>mr.christopher@lee.com</td>\n",
              "      <td>Media planner</td>\n",
              "      <td>Website</td>\n",
              "      <td>Level 2</td>\n",
              "      <td>Up-to-date</td>\n",
              "      <td>Thomas,Lori E</td>\n",
              "      <td>No</td>\n",
              "    </tr>\n",
              "  </tbody>\n",
              "</table>\n",
              "</div>"
            ],
            "text/plain": [
              "                       Lead_name  ...                      Resource\n",
              "0  Davis, Perkins and Bishop Inc  ...                           NaN\n",
              "1                 Bender PLC LLC  ...                            No\n",
              "2          Carter-Henry and Sons  ...                            No\n",
              "3                 Garcia Ltd Ltd  ...  We have all the requirements\n",
              "4               Lee and Sons PLC  ...                            No\n",
              "\n",
              "[5 rows x 20 columns]"
            ]
          },
          "metadata": {
            "tags": []
          },
          "execution_count": 17
        }
      ]
    },
    {
      "cell_type": "code",
      "metadata": {
        "colab": {
          "base_uri": "https://localhost:8080/",
          "height": 265
        },
        "id": "l2t92UBzxIYj",
        "outputId": "1cb71113-b973-4711-802e-35233e9d2b85"
      },
      "source": [
        "# check target feature distribution\n",
        "train[targetFeature].hist()\n",
        "plt.show()"
      ],
      "execution_count": 18,
      "outputs": [
        {
          "output_type": "display_data",
          "data": {
            "image/png": "[encoded data removed]",
            "text/plain": [
              "<Figure size 432x288 with 1 Axes>"
            ]
          },
          "metadata": {
            "tags": [],
            "needs_background": "light"
          }
        }
      ]
    },
    {
      "cell_type": "code",
      "metadata": {
        "colab": {
          "base_uri": "https://localhost:8080/"
        },
        "id": "45YMWXhvxX1J",
        "outputId": "32d31aa1-cc10-4a14-b0c3-e022d4106d09"
      },
      "source": [
        "for col in categorical_data:\n",
        "    print(f'{col} : {categorical_data[col].unique()}')"
      ],
      "execution_count": 19,
      "outputs": [
        {
          "output_type": "stream",
          "text": [
            "Lead_name : ['Davis, Perkins and Bishop Inc' 'Bender PLC LLC' 'Carter-Henry and Sons'\n",
            " ... 'Romero-Juarez PLC' 'Sullivan, Mooney and Elliott LLC'\n",
            " 'Jones LLC and Sons']\n",
            "Industry : ['Restaurants' 'Construction Services' 'Hospitals/Clinics' 'Real Estate'\n",
            " 'Financial Services' 'Banks' 'Architecture/Engineering'\n",
            " 'Education/Training' 'REIT' 'Healthcare Facilities/Services'\n",
            " 'Hotels/Motels' 'Biotech/Healthcare' 'Services' 'Other Investment Firms'\n",
            " 'Software' 'Other Biz Services' 'Materials/Manufacturing' 'Other'\n",
            " 'Trucking' 'Automotive/Transportation' 'Constr - Supplies'\n",
            " 'Casinos/Gaming' 'Food Processing' 'BioTech/Drugs'\n",
            " 'Investment Bank/Brokerage' 'Technology Consulting' 'Grocery'\n",
            " 'Online Banking' 'Staffing' 'Associations' 'Consumer Products'\n",
            " 'Professional Services' 'Insurance' 'Beverages (Non-Alcoholic)'\n",
            " 'Non-Profit' 'Internet Software' 'Software Consulting' 'Energy'\n",
            " 'Furniture/Fixtures' 'Recreational Products' 'Chemical Manufacturing'\n",
            " 'Personal Services' 'Training' 'Health/Accident' 'Marketing/Advertising'\n",
            " 'Telecom Hardware' 'Gold/Silver' 'Semiconductors' 'Other Consulting'\n",
            " 'Oil, Gas, Coal' 'Aerospace/Defense' 'Social Services'\n",
            " 'Information Services' 'Telecom Consulting' 'Machine Tools' 'Iron/Steel'\n",
            " 'Industrial Equip' 'Wireless Consulting' 'Service Providers'\n",
            " 'Lending/Mortgage' 'Fabricated Products' 'Advertising/PR' 'Wood/Paper'\n",
            " 'Networking/Comm.' 'Electric Utilities' 'eCommerce' 'Office Supplies'\n",
            " 'Photography' 'eBusiness' 'Conglomerates' 'Electronics' 'Apparel Retail'\n",
            " 'Metals/Mining' 'Finance' 'Life' 'Specialty' 'Alternative'\n",
            " 'Apparel Products' 'Water Utilities' 'Recreational Services'\n",
            " 'MSPs (Mgmt)' 'Medical Equipment' 'Catalog/MailOrder' 'Retail'\n",
            " 'Department/Discount' 'Entertainment/Media' 'B2B eCommerce'\n",
            " 'Plumbing/HVAC' 'Property/Casualty' 'Venture Capital' 'WSPs (Wireless)'\n",
            " 'Sales/Marketing Services' 'Auto Manufacturers' 'Plastic/Rubber'\n",
            " 'Auto Parts/Services' 'Legal' 'Religious Groups' 'Web'\n",
            " 'Peripherals/Comp.' 'Finance Software' 'BSPs (Broadband)' 'Outsourcing'\n",
            " 'Shipping' 'Personal/Household Products' 'Home Improvement'\n",
            " 'Waste/Recycling' 'Government' 'Periodicals' 'Scientific'\n",
            " 'Computer Hardware' 'Constr/Agric Machinery' 'SaaS'\n",
            " 'Staffing/Outsourcing/HR' 'Television/Cable' 'Warehousing/Logistics'\n",
            " 'Network Infrastructure' 'Schools' 'Rentals/Leasing' 'Wood/Timber'\n",
            " 'Movies' 'Testing' 'Human Resources' 'Packaging/Containers' 'Publishing'\n",
            " 'Printing Services' 'Vitamins/Nutritionals/Other' 'Utilities'\n",
            " 'Wireless Hardware' 'Supply Chain' 'Beverages (Alcoholic)'\n",
            " 'Security Software' 'OSPs (Optical)' 'Technology Retail'\n",
            " 'Hardware Consulting' 'Concrete/Cement' 'Music' 'Internet Consulting'\n",
            " 'Telecom Services/Telephone Companies' 'Airlines/Air Couriers'\n",
            " 'Satellite/RF/Micro' 'Construction/Agriculture' 'Aircraft Parts'\n",
            " 'Leisure/Hospitality' 'Servers/Storage' 'Trucks/Buses/RVs'\n",
            " 'Security Hardware' 'Accounting' 'Natural Gas' 'Multimedia Software'\n",
            " 'Security Services' 'Railroads' 'Other Vehicles'\n",
            " 'Wireless Software Networking' 'Sales/Marketing Software' 'Database'\n",
            " 'Office Equipment' 'Enterprise' 'ISPs' 'Internet' 'eMail/Messaging'\n",
            " 'Speech Recognition' 'Radio' 'Appliances/Tools' 'Telecom Software' 'Book'\n",
            " nan 'Other Biz Products' 'ERP' 'Newspapers' 'Auto Dealers'\n",
            " 'Multimedia Hardware' 'Web Development']\n",
            "Deal_value : ['320506$' '39488$' '359392$' ... '253608$' '118615$' '258627$']\n",
            "Weighted_amount : ['2067263.7$' '240876.8$' '2407926.4$' ... '1453372.8$' '794720.5$'\n",
            " '1642281.45$']\n",
            "Date_of_creation : ['2020-03-29' '2019-07-10' '2019-07-27' '2021-01-30' '2019-05-22'\n",
            " '2019-06-30' '2019-11-20' '2020-12-22' '2019-01-08' '2020-07-04'\n",
            " '2020-01-30' '2019-07-22' '2020-03-27' '2020-04-25' '2020-06-27'\n",
            " '2019-11-08' '2019-10-13' '2019-05-19' '2019-10-28' '2019-11-12'\n",
            " '2020-02-18' '2019-07-19' '2019-09-19' '2020-10-27' '2020-06-21'\n",
            " '2020-01-27' '2019-02-09' '2019-05-31' '2019-04-23' '2019-11-30'\n",
            " '2019-10-10' '2019-05-16' '2019-06-12' '2019-10-04' '2020-05-03'\n",
            " '2019-07-30' '2020-05-20' '2019-08-23' '2019-01-10' '2020-12-27'\n",
            " '2019-08-13' '2019-01-21' '2019-05-30' '2020-10-08' '2019-03-28'\n",
            " '2019-11-17' '2020-01-20' '2020-09-24' '2020-05-02' '2021-02-12'\n",
            " '2021-02-14' '2019-10-25' '2020-03-01' '2021-01-17' '2020-02-16'\n",
            " '2019-01-03' '2019-04-22' '2019-10-17' '2021-02-05' '2020-06-14'\n",
            " '2020-07-15' '2019-12-30' '2020-04-10' '2019-03-10' '2020-02-20'\n",
            " '2020-02-17' '2019-12-25' '2020-10-30' '2020-10-18' '2019-03-27'\n",
            " '2021-01-21' '2019-08-01' '2019-08-19' '2019-08-17' '2020-07-27'\n",
            " '2019-12-19' '2020-05-19' '2019-07-23' '2020-08-04' '2020-03-07'\n",
            " '2020-07-03' '2019-07-24' '2021-01-13' '2019-11-21' '2020-07-18'\n",
            " '2020-02-03' '2019-10-27' '2019-04-20' '2020-09-05' '2019-11-05'\n",
            " '2020-11-25' '2020-07-22' '2020-04-23' '2019-09-18' '2020-09-22'\n",
            " '2020-03-20' '2019-01-30' '2020-06-06' '2020-04-09' '2020-07-24'\n",
            " '2020-02-02' '2019-09-28' '2020-03-25' '2020-07-25' '2019-07-07'\n",
            " '2020-03-24' '2019-03-11' '2020-06-02' '2020-06-25' '2019-08-16'\n",
            " '2020-09-27' '2020-02-25' '2019-11-18' '2020-08-31' '2020-11-14'\n",
            " '2019-03-31' '2019-08-21' '2020-04-21' '2021-01-19' '2019-04-26'\n",
            " '2020-11-29' '2019-09-01' '2019-11-11' '2019-09-03' '2019-08-04'\n",
            " '2019-10-21' '2019-06-24' '2019-05-23' '2019-04-02' '2019-08-02'\n",
            " '2020-05-16' '2020-10-13' '2020-03-28' '2020-10-10' '2020-10-20'\n",
            " '2019-12-20' '2019-03-23' '2020-01-15' '2019-03-05' '2019-06-22'\n",
            " '2019-06-26' '2019-08-06' '2020-07-05' '2020-03-08' '2020-05-15'\n",
            " '2020-03-22' '2020-04-16' '2019-03-03' '2019-11-15' '2019-09-07'\n",
            " '2021-02-09' '2020-05-26' '2020-06-09' '2021-01-12' '2020-10-05'\n",
            " '2019-10-22' '2019-11-25' '2020-06-12' '2019-11-13' '2019-06-16'\n",
            " '2020-05-23' '2019-04-19' '2020-06-28' '2019-04-11' '2020-08-24'\n",
            " '2020-09-17' '2019-02-15' '2020-08-10' '2019-06-06' '2019-05-26'\n",
            " '2020-05-14' '2020-08-01' '2020-12-21' '2019-02-17' '2020-01-10'\n",
            " '2020-12-04' '2019-02-07' '2020-01-03' '2019-10-20' '2020-10-15'\n",
            " '2019-11-06' '2019-11-24' '2019-01-06' '2020-06-29' '2020-07-08'\n",
            " '2019-09-21' '2019-04-29' '2019-07-29' '2020-10-12' '2020-05-08'\n",
            " '2019-08-30' '2019-03-21' '2020-02-15' '2019-09-24' '2019-04-05'\n",
            " '2019-12-07' '2019-06-13' '2019-08-28' '2020-03-21' '2019-07-31'\n",
            " '2019-06-20' '2020-12-05' '2020-04-06' '2019-10-18' '2019-01-27'\n",
            " '2019-05-01' '2019-09-25' '2019-10-03' '2019-02-05' '2019-11-03'\n",
            " '2021-01-15' '2019-03-16' '2019-01-15' '2020-04-15' '2020-01-06'\n",
            " '2019-03-18' '2019-09-30' '2019-03-30' '2020-04-14' '2020-12-19'\n",
            " '2020-06-01' '2020-10-06' '2020-01-08' '2020-08-07' '2019-08-03'\n",
            " '2020-04-01' '2020-08-25' '2019-05-06' '2020-10-25' '2020-04-05'\n",
            " '2019-12-23' '2019-05-07' '2020-05-11' '2019-08-25' '2019-07-11'\n",
            " '2021-01-18' '2020-12-12' '2019-02-22' '2020-08-18' '2019-12-29'\n",
            " '2019-06-11' '2020-04-27' '2020-08-09' '2019-10-12' '2019-02-28'\n",
            " '2019-03-09' '2020-03-14' '2021-01-31' '2019-10-06' '2020-09-03'\n",
            " '2019-03-24' '2019-03-26' '2019-06-29' '2020-10-29' '2020-07-07'\n",
            " '2019-09-14' '2020-12-20' '2020-03-03' '2019-06-01' '2020-12-29'\n",
            " '2019-09-16' '2019-03-15' '2020-06-10' '2019-10-19' '2020-04-30'\n",
            " '2019-09-20' '2019-09-08' '2019-01-29' '2020-10-01' '2020-01-17'\n",
            " '2020-11-21' '2020-01-02' '2020-02-08' '2019-09-15' '2019-04-07'\n",
            " '2019-10-16' '2020-05-10' '2021-01-20' '2020-11-26' '2020-11-07'\n",
            " '2019-12-04' '2021-01-09' '2020-03-12' '2020-11-20' '2019-03-14'\n",
            " '2020-01-26' '2019-04-24' '2020-03-05' '2020-02-06' '2020-02-26'\n",
            " '2019-09-17' '2019-02-21' '2019-07-04' '2020-11-16' '2019-04-08'\n",
            " '2020-05-31' '2019-10-09' '2019-07-20' '2020-06-26' '2019-08-26'\n",
            " '2020-02-13' '2020-03-16' '2019-08-24' '2020-05-13' '2020-01-21'\n",
            " '2021-02-06' '2020-09-11' '2020-08-08' '2019-05-24' '2020-06-24'\n",
            " '2019-03-25' '2019-09-02' '2019-09-06' '2019-09-23' '2020-01-04'\n",
            " '2019-10-24' '2020-02-29' '2019-12-05' '2019-01-13' '2019-12-08'\n",
            " '2020-06-22' '2020-07-13' '2020-03-10' '2020-07-12' '2020-01-31'\n",
            " '2019-02-12' '2019-06-04' '2019-10-02' '2020-03-04' '2019-08-29'\n",
            " '2021-01-07' '2021-02-11' '2020-05-04' '2020-12-23' '2019-12-27'\n",
            " '2020-11-30' '2019-01-01' '2020-01-25' '2020-08-17' '2019-03-07'\n",
            " '2019-05-10' '2019-02-27' '2020-11-10' '2020-01-18' '2019-05-04'\n",
            " '2019-10-23' '2020-06-30' '2021-01-01' '2019-01-05' '2019-07-12'\n",
            " '2020-02-14' '2019-07-05' '2020-04-12' '2020-11-19' '2019-09-27'\n",
            " '2021-01-04' '2019-05-13' '2019-03-19' '2020-09-12' '2019-03-20'\n",
            " '2020-09-19' '2020-04-29' '2019-01-04' '2019-12-11' '2020-02-01'\n",
            " '2019-01-17' '2019-10-08' '2019-07-02' '2020-06-20' '2020-09-08'\n",
            " '2020-03-23' '2019-06-07' '2019-11-07' '2019-04-01' '2019-09-12'\n",
            " '2019-06-15' '2020-12-14' '2019-03-29' '2020-02-23' '2020-05-09'\n",
            " '2019-01-25' '2019-03-08' '2019-08-18' '2020-07-23' '2020-03-06'\n",
            " '2021-02-08' '2019-04-27' '2019-05-28' '2019-06-27' '2020-03-26'\n",
            " '2020-06-13' '2020-06-17' '2019-06-28' '2019-02-08' '2020-04-11'\n",
            " '2019-12-24' '2020-11-02' '2020-01-22' '2020-03-19' '2020-09-01'\n",
            " '2019-12-10' '2020-07-26' '2020-07-29' '2020-11-23' '2019-11-09'\n",
            " '2020-07-10' '2020-09-28' '2020-08-03' '2020-07-19' '2019-08-15'\n",
            " '2019-04-15' '2020-07-16' '2020-03-31' '2020-08-28' '2020-12-11'\n",
            " '2020-01-01' '2021-01-11' '2020-07-17' '2019-12-12' '2019-07-25'\n",
            " '2020-04-13' '2019-03-13' '2020-08-15' '2019-02-26' '2020-02-27'\n",
            " '2020-08-26' '2020-06-18' '2020-06-19' '2019-12-01' '2019-06-25'\n",
            " '2020-08-14' '2020-09-16' '2020-10-23' '2020-06-07' '2019-09-13'\n",
            " '2019-06-10' '2020-04-24' '2019-12-15' '2020-06-08' '2019-05-12'\n",
            " '2020-08-05' '2019-02-01' '2019-03-17' '2020-08-29' '2020-08-30'\n",
            " '2020-01-23' '2020-02-09' '2020-08-13' '2019-02-25' '2019-06-21'\n",
            " '2020-07-11' '2019-11-22' '2020-12-26' '2019-01-26' '2020-03-17'\n",
            " '2020-10-22' '2019-11-23' '2020-05-17' '2020-10-14' '2021-02-04'\n",
            " '2019-10-15' '2019-02-10' '2019-11-14' '2020-10-26' '2019-04-13'\n",
            " '2019-10-07' '2019-01-22' '2019-04-28' '2020-03-15' '2020-01-14'\n",
            " '2020-12-28' '2019-08-22' '2019-08-31' '2020-09-29' '2020-03-02'\n",
            " '2019-11-28' '2020-10-24' '2019-08-27' '2021-01-27' '2020-08-27'\n",
            " '2020-11-27' '2020-07-09' '2019-12-22' '2019-09-05' '2020-04-19'\n",
            " '2020-08-22' '2020-08-02' '2020-05-28' '2020-11-13' '2019-12-26'\n",
            " '2021-01-14' '2019-02-04' '2019-07-18' '2020-05-24' '2019-09-26'\n",
            " '2019-12-02' '2020-08-21' '2019-02-24' '2019-01-09' '2020-01-13'\n",
            " '2019-01-11' '2020-03-13' '2019-05-17' '2020-07-31' '2020-05-21'\n",
            " '2020-10-07' '2019-02-11' '2021-01-03' '2019-07-16' '2020-11-05'\n",
            " '2021-01-29' '2019-06-23' '2020-11-04' '2019-08-12' '2020-11-08'\n",
            " '2020-01-19' '2020-11-12' '2019-07-08' '2019-12-03' '2019-08-05'\n",
            " '2019-06-05' '2020-12-02' '2020-10-11' '2020-12-15' '2020-03-30'\n",
            " '2019-09-10' '2019-07-17' '2019-10-29' '2020-01-24' '2020-10-21'\n",
            " '2020-01-09' '2019-01-18' '2019-04-18' '2019-04-12' '2019-11-02'\n",
            " '2019-07-01' '2020-02-04' '2021-01-28' '2020-01-11' '2019-03-22'\n",
            " '2019-01-28' '2020-10-03' '2019-06-02' '2020-11-06' '2019-02-06'\n",
            " '2020-05-29' '2020-05-01' '2019-09-22' '2020-06-03' '2020-04-02'\n",
            " '2019-04-30' '2020-12-30' '2019-05-25' '2019-04-16' '2020-02-24'\n",
            " '2019-10-31' '2020-05-22' '2019-10-05' '2019-01-19' '2020-04-17'\n",
            " '2021-02-15' '2019-09-11' '2019-03-04' '2020-05-25' '2020-07-20'\n",
            " '2020-08-16' '2021-01-16' '2020-06-16' '2019-02-13' '2019-07-26'\n",
            " '2020-12-03' '2019-06-18' '2020-11-09' '2019-07-15' '2020-06-04'\n",
            " '2019-05-03' '2020-12-24' '2019-08-08' '2020-08-23' '2020-11-03'\n",
            " '2020-07-06' '2019-11-19' '2020-01-12' '2020-04-07' '2020-02-10'\n",
            " '2020-01-16' '2019-10-26' '2020-10-17' '2019-09-29' '2020-06-15'\n",
            " '2020-07-30' '2020-03-09' '2020-11-11' '2019-01-20' '2020-09-09'\n",
            " '2020-08-12' '2019-03-02' '2021-01-25' '2020-04-04' '2020-09-02'\n",
            " '2020-05-06' '2021-01-02' '2020-09-30' '2019-04-03' '2021-01-24'\n",
            " '2019-05-08' '2020-02-12' '2020-04-03' '2020-05-27' '2019-01-23'\n",
            " '2020-12-01' '2020-09-07' '2019-08-09' '2020-04-08' '2020-09-15'\n",
            " '2019-07-28' '2020-08-06' '2020-04-28' '2019-10-11' '2020-02-05'\n",
            " '2020-12-25' '2020-09-06' '2021-01-10' '2020-02-07' '2019-11-27'\n",
            " '2019-12-21' '2021-02-13' '2019-12-13' '2020-09-04' '2020-09-20'\n",
            " '2019-06-08' '2019-04-14' '2020-08-20' '2019-04-17' '2021-01-08'\n",
            " '2019-12-16' '2019-05-09' '2019-09-09' '2019-06-09' '2020-07-14'\n",
            " '2019-12-31' '2019-03-01' '2019-09-04' '2020-04-22' '2021-02-03'\n",
            " '2020-09-23' '2020-01-29' '2020-10-31' '2020-05-12' '2019-03-12'\n",
            " '2020-12-18' '2020-11-15' '2020-04-18' '2020-09-21' '2020-05-18'\n",
            " '2020-12-17' '2019-05-15' '2019-07-09' '2019-01-14' '2020-09-13'\n",
            " '2019-11-16' '2019-04-04' '2019-07-13' '2019-05-27' '2019-06-19'\n",
            " '2019-08-10' '2019-10-01' '2019-02-23' '2019-01-16' '2019-12-14'\n",
            " '2021-02-01' '2020-10-09' '2020-07-21' '2019-02-19' '2020-07-02'\n",
            " '2020-11-01' '2020-01-05' '2020-07-01' '2019-05-02' '2020-10-28'\n",
            " '2019-12-06' '2019-12-28' '2020-11-17' '2019-04-09' '2020-08-19'\n",
            " '2020-12-13' '2019-05-18' '2019-01-12' '2021-01-05' '2020-12-07'\n",
            " '2020-02-28' '2021-01-06' '2019-05-21' '2019-02-18' '2021-01-22'\n",
            " '2019-01-07' '2019-01-24' '2019-10-30' '2019-10-14' '2020-09-14'\n",
            " '2019-06-14' '2021-01-26' '2019-03-06' '2020-04-20' '2020-12-06'\n",
            " '2020-11-24' '2020-05-07' '2019-05-29' '2019-06-03' '2019-07-21'\n",
            " '2020-03-18' '2020-05-30' '2020-02-11' '2020-06-05' '2020-09-18'\n",
            " '2020-05-05' '2020-03-11' '2019-04-06' '2021-02-07' '2019-11-29'\n",
            " '2019-05-14' '2019-02-03' '2019-02-14' '2020-10-19' '2020-02-19'\n",
            " '2021-02-02' '2019-04-21' '2019-01-31' '2020-07-28' '2019-12-09'\n",
            " '2020-11-28' '2020-10-02' '2020-11-22' '2021-02-10' '2019-12-17'\n",
            " '2020-12-31' '2019-11-26' '2019-08-11' '2019-07-06' '2020-10-16'\n",
            " '2019-11-04' '2020-06-11' '2020-01-07' '2020-09-26' '2020-10-04'\n",
            " '2020-09-25' '2019-04-10' '2019-08-20' '2020-02-21' '2020-12-16'\n",
            " '2019-05-05' '2019-02-16' '2020-11-18' '2019-07-03' '2020-02-22'\n",
            " '2019-02-02' '2019-08-07' '2020-01-28' '2020-04-26' '2019-02-20'\n",
            " '2020-08-11' '2021-01-23' '2020-12-08' '2020-12-09' '2019-05-11'\n",
            " '2019-01-02' '2019-08-14' '2019-06-17' '2019-04-25' '2019-11-10'\n",
            " '2019-12-18' '2019-07-14' '2019-11-01' '2020-09-10' '2020-12-10'\n",
            " '2019-05-20' '2020-06-23']\n",
            "Pitch : ['Product_2' 'Product_1']\n",
            "Contact_no : ['607.447.7883' '892-938-9493' '538.748.2271' ... '777-231-4109x712'\n",
            " '001-212-631-5467x377' '+1-240-958-7728']\n",
            "Lead_revenue : ['50 - 100 Million' '500 Million - 1 Billion' '100 - 500 Million']\n",
            "Fund_category : ['Category 2' 'Category 4' 'Category 3' 'Category 1']\n",
            "Geography : ['USA' 'India' nan]\n",
            "Location : ['Killeen-Temple, TX' 'Ratlam' 'Albany-Schenectady-Troy, NY'\n",
            " 'Mount Vernon-Anacortes, WA' 'Shimoga' 'Bulandshahr' 'Salisbury, MD-DE'\n",
            " 'Jacksonville, FL' 'Seattle-Tacoma-Bellevue, WA' 'Clarksville, TN-KY'\n",
            " 'Oxnard-Thousand Oaks-Ventura, CA' 'Lafayette, LA' 'Danville, IL'\n",
            " 'Pilibhit' 'Nanded' 'Mobile, AL'\n",
            " 'Miami-Fort Lauderdale-West Palm Beach, FL' 'Columbus, IN' 'Vellore'\n",
            " 'Srinagar' 'Peoria, IL' 'Alipurduar' 'Bharauri' 'Ahmadnagar'\n",
            " 'Grand Junction, CO' 'Chirala' 'Bhubaneshwar'\n",
            " 'Chambersburg-Waynesboro, PA' 'Thanjavur' 'Bakshpur' 'Springfield, OH'\n",
            " 'Gaya' 'Puducherry' 'Chico, CA' 'Bellary' 'Monroe, MI'\n",
            " 'Winchester, VA-WV' 'Salinas, CA' 'Watertown-Fort Drum, NY'\n",
            " 'Providence-Warwick, RI-MA' 'Dibrugarh' 'Gadsden, AL' 'Tiruvannamalai'\n",
            " 'Dayton, OH' 'Ranchi' 'Lake Havasu City-Kingman, AZ'\n",
            " 'Lakeland-Winter Haven, FL' 'Reno, NV' 'Kingsport-Bristol-Bristol, TN-VA'\n",
            " 'Iowa City, IA' 'Sioux Falls, SD' 'Saharanpur' 'Shahbazpur' 'Rajkot'\n",
            " 'Dhanbad' 'Alappuzha' 'Flint, MI' 'Machilipatnam' 'Ludhiana'\n",
            " 'Charleston-North Charleston, SC' 'Lucknow' 'Dindigul' 'Bhuj'\n",
            " 'Tiruchchirappalli' 'Sacramento--Roseville--Arden-Arcade, CA'\n",
            " 'Williamsport, PA' 'Charlottesville, VA' 'Janesville-Beloit, WI'\n",
            " 'Saidapur' 'Bhagalpur' 'Ghandinagar' 'Bareilly'\n",
            " 'College Station-Bryan, TX' 'Diu' 'Lansing-East Lansing, MI'\n",
            " 'Billings, MT' 'Tonk' 'Abohar' 'Aligarh' 'Rome, GA' 'Muzaffarpur'\n",
            " 'Jefferson City, MO' 'Salem' 'Binghamton, NY' 'Jodhpur' 'Jorhat'\n",
            " 'Dothan, AL' 'Indore' 'Khammam' 'Scranton--Wilkes-Barre--Hazleton, PA'\n",
            " 'Green Bay, WI' 'Bhopal ' 'Sebring, FL' 'Bhavnagar'\n",
            " 'Birmingham-Hoover, AL' 'Davangere' 'Adilabad' 'Silvassa' 'Bharatpur'\n",
            " 'Burlington-South Burlington, VT' 'Greenville-Anderson-Mauldin, SC'\n",
            " 'Mahabubnagar' 'Tampa-St. Petersburg-Clearwater, FL' 'Kokomo, IN'\n",
            " 'Hattiesburg, MS' 'Vizianagaram' 'Haora' 'Tirupati' 'Nellore'\n",
            " 'Oklahoma City, OK' 'Hanford-Corcoran, CA' 'Bhilai'\n",
            " 'Cape Girardeau, MO-IL' 'Raipur' 'Panaji' 'Itanagar' 'Kankakee, IL'\n",
            " 'Ocala, FL' 'Chikka Mandya' 'Muzaffarnagar' 'Kota' 'Ahmedabad' 'Ajmer'\n",
            " 'Firozabad' 'Walla Walla, WA' 'Bikaner'\n",
            " 'Minneapolis-St. Paul-Bloomington, MN-WI' 'Yuma, AZ' 'Altoona, PA'\n",
            " 'Purnea' 'Huntsville, AL' 'Dallas-Fort Worth-Arlington, TX' 'Shiliguri'\n",
            " 'Enid, OK' 'Hata' 'Bengaluru' 'Vishakhapatnam'\n",
            " 'New York-Newark-Jersey City, NY-NJ-PA' 'Porbandar' 'Jammu'\n",
            " 'Pittsfield, MA' 'Battle Creek, MI' 'Huntington-Ashland, WV-KY-OH'\n",
            " 'Jhansi' 'Dalton, GA' 'Cleveland, TN' 'Hisar' 'Dubuque, IA'\n",
            " 'Panama City, FL' 'Fond du Lac, WI'\n",
            " 'Buffalo-Cheektowaga-Niagara Falls, NY' 'Nasik'\n",
            " 'Little Rock-North Little Rock-Conway, AR' 'Provo-Orem, UT' 'Fresno, CA'\n",
            " 'Guwahati' 'Hubli' 'Vallejo-Fairfield, CA' 'Gangtok' 'St. Joseph, MO-KS'\n",
            " 'Grand Rapids-Wyoming, MI' 'Shimla' 'San Diego-Carlsbad, CA' 'Kagaznagar'\n",
            " 'Charlotte-Concord-Gastonia, NC-SC' 'Detroit-Warren-Dearborn, MI'\n",
            " 'Chandigarh ' 'Lubbock, TX' 'Cape Coral-Fort Myers, FL' 'Casper, WY'\n",
            " 'Crestview-Fort Walton Beach-Destin, FL' 'Augusta-Richmond County, GA-SC'\n",
            " 'Gulbarga' \"Coeur d'Alene, ID\" 'Fargo, ND-MN' 'Sierra Vista-Douglas, AZ'\n",
            " 'Agartala' 'Parbhani' 'Terre Haute, IN' 'Pittsburgh, PA' 'Kavaratti'\n",
            " 'Gwalior' 'Philadelphia-Camden-Wilmington, PA-NJ-DE-MD' 'Amritsar'\n",
            " 'Urban Honolulu, HI' 'Valdosta, GA' 'Kollam' 'Tulsa, OK'\n",
            " 'Myrtle Beach-Conway-North Myrtle Beach, SC-NC' 'Sirsa'\n",
            " 'Parkersburg-Vienna, WV' 'Haripur' 'Wichita, KS' 'Utica-Rome, NY'\n",
            " 'Cedar Rapids, IA' 'Sioux City, IA-NE-SD' 'Durham-Chapel Hill, NC'\n",
            " 'Jamshedpur' 'Krishnanagar' 'Olympia-Tumwater, WA'\n",
            " 'Norwich-New London, CT' 'Portland-Vancouver-Hillsboro, OR-WA' 'Waco, TX'\n",
            " 'Hapur' 'Dispur' 'Michigan City-La Porte, IN' 'Prescott, AZ'\n",
            " 'Burlington, NC' 'Agra' 'Athens-Clarke County, GA' 'Kochi'\n",
            " 'Portland-South Portland, ME' 'Krishnapuram' 'San Angelo, TX' 'Patiala'\n",
            " 'New Orleans-Metairie, LA' 'Alexandria, LA' 'The Villages, FL' 'Silchar'\n",
            " 'Sonipat' 'Springfield, MA' 'Proddatur' 'Madurai'\n",
            " 'Bridgeport-Stamford-Norwalk, CT' 'East Stroudsburg, PA'\n",
            " 'Spartanburg, SC' 'Kolkata ' 'Patna' 'Akola' 'Auburn-Opelika, AL'\n",
            " 'Pathankot' 'Kumbakonam' 'Tallahassee, FL' 'Puri' 'Springfield, MO'\n",
            " 'Tharati Etawah' 'Rajapalaiyam' 'Montgomery, AL' 'Talcher'\n",
            " 'Fort Collins, CO' 'Gainesville, FL' 'Trenton, NJ' 'Bhilwara'\n",
            " 'Madera, CA' 'Hilton Head Island-Bluffton-Beaufort, SC' 'Albuquerque, NM'\n",
            " 'Bhiwani' 'Worcester, MA-CT' 'Kurnool' 'Modesto, CA' 'Aurangabad'\n",
            " 'Milwaukee-Waukesha-West Allis, WI' 'Allahabad' 'Fort Smith, AR-OK'\n",
            " 'Kohima' 'Bhusaval' 'Niles-Benton Harbor, MI'\n",
            " 'Louisville/Jefferson County, KY-IN' 'Abilene, TX' 'Kansas City, MO-KS'\n",
            " 'Yakima, WA' 'Reading, PA' 'Columbus, GA-AL' 'Rohtak' 'Kolar'\n",
            " 'South Bend-Mishawaka, IN-MI' 'Fayetteville-Springdale-Rogers, AR-MO'\n",
            " 'Pali' 'Phoenix-Mesa-Scottsdale, AZ' 'Nagercoil' 'Brajrajnagar'\n",
            " 'Warner Robins, GA' 'Bhatpara' 'Davenport-Moline-Rock Island, IA-IL'\n",
            " 'Des Moines-West Des Moines, IA' 'Sangli' 'Evansville, IN-KY'\n",
            " 'Omaha-Council Bluffs, NE-IA' 'Odessa, TX' 'Shreveport-Bossier City, LA'\n",
            " 'Cuttack' 'Faridabad' 'Barnstable Town, MA'\n",
            " 'Allentown-Bethlehem-Easton, PA-NJ' 'Karnal' 'Imphal' 'New Delhi'\n",
            " 'Albany, OR' 'Idaho Falls, ID' 'Ogden-Clearfield, UT' 'Lynchburg, VA'\n",
            " 'Daphne-Fairhope-Foley, AL' 'Gurugram' 'Johnstown, PA' 'Medford, OR'\n",
            " 'Tezpur' 'Cleveland-Elyria, OH' 'Sherman-Denison, TX' 'Hyderabad'\n",
            " 'Gopalpur' 'Longview, WA' 'Mirzapur' 'Fort Wayne, IN' 'St. Cloud, MN'\n",
            " 'Malegaon Camp' 'Palm Bay-Melbourne-Titusville, FL'\n",
            " 'Youngstown-Warren-Boardman, OH-PA' 'Khanapur' 'Samlaipadar'\n",
            " 'Jackson, MS' 'Corpus Christi, TX' 'Anniston-Oxford-Jacksonville, AL'\n",
            " 'Roanoke, VA' 'Rocky Mount, NC' 'Panchkula' 'Port St. Lucie, FL'\n",
            " 'Bilaspur' 'Barddhaman' 'Delhi' 'Akron, OH' 'Elkhart-Goshen, IN'\n",
            " 'Nandyal' 'Great Falls, MT' 'Yuba City, CA' 'Jorapokhar' 'Alwar'\n",
            " 'Vadodara' 'Navsari' 'Bend-Redmond, OR' 'Asheville, NC'\n",
            " 'Atlanta-Sandy Springs-Roswell, GA' 'U.S. metropolitan areas' 'Kalyan'\n",
            " 'Mangalore' 'Gulfport-Biloxi-Pascagoula, MS' 'Pine Bluff, AR' 'Bhiwandi'\n",
            " 'Wenatchee, WA' 'Florence, SC' 'Duluth, MN-WI' 'Kennewick-Richland, WA'\n",
            " 'Hinesville, GA' 'Ujjain' 'Pensacola-Ferry Pass-Brent, FL' 'Baramula'\n",
            " 'Lake Charles, LA' 'Valparai' 'Jaipur'\n",
            " 'San Francisco-Oakland-Hayward, CA' 'Wichita Falls, TX'\n",
            " 'Florence-Muscle Shoals, AL' 'Mumbai' 'Sheboygan, WI' 'Jacksonville, NC'\n",
            " 'Bloomington, IL' 'Amarillo, TX' 'Pune' 'Madison, WI' 'Lewiston, ID-WA'\n",
            " 'El Centro, CA' 'Ann Arbor, MI' 'Ambala' nan 'Haldia'\n",
            " 'McAllen-Edinburg-Mission, TX' 'Rapid City, SD' 'Midland, TX'\n",
            " 'Bremerton-Silverdale, WA' 'Kakinada' 'Toledo, OH' 'Bangor, ME'\n",
            " 'Anchorage, AK' 'La Crosse-Onalaska, WI-MN'\n",
            " 'Houston-The Woodlands-Sugar Land, TX' 'Rajahmundry'\n",
            " 'Brownsville-Harlingen, TX' 'Hartford-West Hartford-East Hartford, CT'\n",
            " 'Aizawl  ' 'Boise City, ID' 'Hindupur' 'Memphis, TN-MS-AR'\n",
            " 'Grand Island, NE' 'Gainesville, GA' 'Appleton, WI' 'Guntur'\n",
            " 'Los Angeles-Long Beach-Anaheim, CA' 'Tuscaloosa, AL' 'Napa, CA'\n",
            " 'Lewiston-Auburn, ME' 'Logan, UT-ID' 'Mankato-North Mankato, MN'\n",
            " 'Rochester, NY' 'Syracuse, NY' 'Chanda' 'Karimnagar' 'Greenville, NC'\n",
            " 'Macon, GA' 'Corvallis, OR' 'Nizamabad' 'Calicut'\n",
            " 'Staunton-Waynesboro, VA' 'Kingston, NY' 'Tyler, TX' 'Rampura'\n",
            " 'Lincoln, NE' 'Albany, GA' 'Naples-Immokalee-Marco Island, FL' 'Saidpur'\n",
            " 'Texarkana, TX-AR' 'Cuddalore' 'Lawrence, KS' 'Wausau, WI'\n",
            " 'Fairbanks, AK' 'Ramagundam' 'Denver-Aurora-Lakewood, CO' 'Jackson, TN'\n",
            " 'Winston-Salem, NC' 'Thiruvananthapuram' 'Knoxville, TN'\n",
            " 'Grand Forks, ND-MN' 'Decatur, IL' 'Decatur, AL' 'Brahmapur'\n",
            " 'St. George, UT' 'Raleigh, NC' 'Source: U.S. Bureau of Economic Analysis'\n",
            " 'Meerut' 'Monroe, LA' 'Ames, IA' 'Kalamazoo-Portage, MI' 'Ghaziabad'\n",
            " 'Bellingham, WA' 'Virginia Beach-Norfolk-Newport News, VA-NC'\n",
            " 'Kahului-Wailuku-Lahaina, HI' 'Coimbatore'\n",
            " 'San Jose-Sunnyvale-Santa Clara, CA' 'Longview, TX' 'Belgaum'\n",
            " 'Grants Pass, OR' 'Washington-Arlington-Alexandria, DC-VA-MD-WV'\n",
            " 'Riverside-San Bernardino-Ontario, CA' 'Lancaster, PA'\n",
            " 'State College, PA' 'Cumberland, MD-WV' 'Hickory-Lenoir-Morganton, NC'\n",
            " 'Harrisburg-Carlisle, PA' 'Mansfield, OH' 'Chennai' 'Ithaca, NY'\n",
            " 'Moradabad' 'Farmington, NM' 'Greeley, CO'\n",
            " 'Santa Maria-Santa Barbara, CA' 'Chattanooga, TN-GA' 'Dover, DE'\n",
            " 'Panipat' 'Oshkosh-Neenah, WI' 'Columbia, SC' 'Morgantown, WV' 'Surat'\n",
            " 'Waterloo-Cedar Falls, IA' 'Austin-Round Rock, TX' 'Latur' 'Elmira, NY'\n",
            " 'Baton Rouge, LA' 'Blacksburg-Christiansburg-Radford, VA' 'Asansol'\n",
            " 'Indianapolis-Carmel-Anderson, IN' 'Elizabethtown-Fort Knox, KY'\n",
            " 'Mathura' 'Kolhapur' 'Harrisonburg, VA' 'Bijapur' 'Bidar' 'New Bern, NC'\n",
            " 'Punta Gorda, FL' 'Tuticorin' 'Wilmington, NC' 'St. Louis, MO-IL'\n",
            " 'Raichur' 'El Paso, TX' 'Johnson City, TN' 'Bamanpuri' 'Lima, OH'\n",
            " 'Tucson, AZ' 'Laredo, TX' 'Missoula, MT' 'New Haven-Milford, CT'\n",
            " 'Topeka, KS' 'Pueblo, CO' 'Muskegon, MI' 'Tirunelveli'\n",
            " '* Advance statistics' 'Visalia-Porterville, CA' 'Jabalpur'\n",
            " 'Atlantic City-Hammonton, NJ' 'Goldsboro, NC' 'Beaumont-Port Arthur, TX'\n",
            " 'Wheeling, WV-OH' 'Muncie, IN' 'Saugor' 'Carson City, NV' 'Eugene, OR'\n",
            " 'Amaravati' 'Columbus, OH' 'Shillong ' 'Spokane-Spokane Valley, WA'\n",
            " 'Budaun' 'Santa Rosa, CA' 'Owensboro, KY' 'Mysore'\n",
            " 'Lafayette-West Lafayette, IN' 'Karur' 'Lebanon, PA'\n",
            " 'Boston-Cambridge-Newton, MA-NH' 'Santa Fe, NM' 'Fyzabad'\n",
            " 'Manchester-Nashua, NH' 'Vineland-Bridgeton, NJ' 'Saginaw, MI'\n",
            " 'Deltona-Daytona Beach-Ormond Beach, FL' 'Greensboro-High Point, NC'\n",
            " 'Warangal' 'Brunswick, GA' 'Springfield, IL' 'Rockford, IL' 'Merced, CA'\n",
            " 'Morristown, TN' 'Midland, MI' 'San Antonio-New Braunfels, TX'\n",
            " 'Victoria, TX' 'Charleston, WV' 'Sebastian-Vero Beach, FL' 'Boulder, CO'\n",
            " 'Bloomsburg-Berwick, PA' 'Bloomington, IN' 'Glens Falls, NY'\n",
            " 'Cheyenne, WY' 'Cincinnati, OH-KY-IN' 'Colorado Springs, CO'\n",
            " 'Las Cruces, NM' 'Port Blair' 'Daman' 'Salt Lake City, UT' 'Varanasi'\n",
            " 'Las Vegas-Henderson-Paradise, NV' 'California-Lexington Park, MD'\n",
            " 'Carbondale-Marion, IL' 'Lawton, OK' 'Bismarck, ND'\n",
            " 'Homosassa Springs, FL' 'Champaign-Urbana, IL'\n",
            " 'Santa Cruz-Watsonville, CA' 'Houma-Thibodaux, LA' 'Savannah, GA'\n",
            " 'Orlando-Kissimmee-Sanford, FL' 'Canton-Massillon, OH' 'Rochester, MN'\n",
            " 'Hammond, LA' 'Sikar' 'Pocatello, ID' 'Joplin, MO' 'Hospet'\n",
            " 'San Luis Obispo-Paso Robles-Arroyo Grande, CA' 'Lexington-Fayette, KY'\n",
            " 'DehraDun' 'Erie, PA' 'Flagstaff, AZ' 'Sumter, SC' 'Raurkela'\n",
            " 'Weirton-Steubenville, WV-OH' 'Fayetteville, NC' 'Ocean City, NJ'\n",
            " 'Redding, CA' 'York-Hanover, PA'\n",
            " 'Nashville-Davidson--Murfreesboro--Franklin, TN' 'Udaipur'\n",
            " 'Stockton-Lodi, CA' 'Chicago-Naperville-Elgin, IL-IN-WI' 'Ongole'\n",
            " 'Salem, OR' 'Eau Claire, WI' 'Bay City, MI' 'Nalgonda' 'Gettysburg, PA'\n",
            " 'Jonesboro, AR' 'Hot Springs, AR' 'Columbia, MO'\n",
            " 'Hagerstown-Martinsburg, MD-WV' 'Baltimore-Columbia-Towson, MD'\n",
            " 'Racine, WI' 'North Port-Sarasota-Bradenton, FL' 'Richmond, VA'\n",
            " 'Bowling Green, KY' 'Beckley, WV' 'Bakersfield, CA' 'Manhattan, KS'\n",
            " 'Jackson, MI']\n",
            "POC_name : ['Charlene Werner' 'rakhi' 'Ariel Hamilton' ... 'Nicholas Duncan'\n",
            " 'Wayne Williams' 'Carol Strickland']\n",
            "Designation : ['Executive Vice President' 'Chairman/CEO/President'\n",
            " 'SVP/General Counsel ' 'CEO/Co-Founder/Chairman'\n",
            " 'Vice President / GM (04-present) : VP Sales and Marketing (01-04)'\n",
            " 'Chairman/Chief Innovation Officer' 'CEO' 'CEO/Chairman/President'\n",
            " 'CEO/President' 'Chief Executive Officer']\n",
            "Lead_POC_email : ['charlenewerner@davis.com' 'terrylogan@bender.com'\n",
            " 'arielhamilton@carterhenry.com' ... 'nicholasduncan@romerojuarez.com'\n",
            " 'waynewilliams@sullivan.com' 'carolstrickland@jones.com']\n",
            "Hiring_candidate_role : ['Community pharmacist' 'Recruitment consultant' 'Health service manager'\n",
            " 'Therapist, speech and language' 'Media planner' 'Microbiologist'\n",
            " 'Cartographer' 'Engineer, maintenance (IT)'\n",
            " 'Product/process development scientist' 'Engineering geologist'\n",
            " 'Hydrogeologist' 'Scientist, audiological'\n",
            " 'Speech and language therapist' 'Hospital doctor'\n",
            " 'Public affairs consultant' 'Sports coach' 'Broadcast journalist'\n",
            " 'Phytotherapist' 'Sales promotion account executive'\n",
            " 'Teacher, early years/pre' 'Early years teacher' 'Actor'\n",
            " 'Software engineer' 'Warden/ranger' 'Neurosurgeon' 'Designer, multimedia'\n",
            " 'Quantity surveyor' 'Armed forces operational officer' 'TEFL teacher'\n",
            " 'Civil Service administrator' 'Archaeologist' 'Programmer, systems'\n",
            " 'Financial adviser' 'Operational investment banker'\n",
            " 'Trade union research officer' 'Housing manager/officer'\n",
            " 'Interior and spatial designer' 'Hydrologist' 'Fitness centre manager'\n",
            " 'Teacher, special educational needs' 'Advertising art director'\n",
            " 'Emergency planning/management officer' 'Futures trader'\n",
            " 'Nurse, learning disability' 'Secretary/administrator'\n",
            " 'Field seismologist' 'Electronics engineer'\n",
            " 'Historic buildings inspector/conservation officer'\n",
            " 'Secondary school teacher' 'Administrator'\n",
            " 'Medical laboratory scientific officer' 'Psychologist, occupational'\n",
            " 'Doctor, hospital' 'Accountant, chartered public finance'\n",
            " 'Horticultural therapist' 'Interpreter' 'Further education lecturer'\n",
            " 'Manufacturing systems engineer' 'Scientist, biomedical' 'Archivist'\n",
            " 'Trade mark attorney' 'Journalist, broadcasting' 'Glass blower/designer'\n",
            " 'Retail merchandiser' 'Rural practice surveyor' 'Accountant, chartered'\n",
            " 'Broadcast engineer' 'Amenity horticulturist' 'Chief Financial Officer'\n",
            " 'Energy engineer' 'Therapeutic radiographer' 'Psychologist, educational'\n",
            " 'Careers information officer' 'Advertising account executive'\n",
            " 'Police officer' 'Engineer, production' 'Sports administrator'\n",
            " 'Engineer, manufacturing systems' 'English as a foreign language teacher'\n",
            " 'Research scientist (life sciences)' 'Nutritional therapist'\n",
            " 'Community arts worker' 'Education administrator'\n",
            " 'Administrator, Civil Service' 'Dentist' 'Designer, interior/spatial'\n",
            " 'Aeronautical engineer' 'Minerals surveyor' 'Firefighter'\n",
            " 'Land/geomatics surveyor' 'Engineer, electronics'\n",
            " 'Museum/gallery conservator' 'Acupuncturist'\n",
            " 'Health promotion specialist' 'Environmental education officer'\n",
            " 'Equities trader' 'Newspaper journalist' 'Publishing rights manager'\n",
            " 'Chartered public finance accountant' 'Quality manager'\n",
            " 'Multimedia specialist' 'Exhibition designer' 'Air broker'\n",
            " 'Special educational needs teacher' 'Environmental consultant'\n",
            " 'Paediatric nurse' 'Charity officer' 'Industrial/product designer'\n",
            " 'Landscape architect' 'Buyer, retail' 'Production engineer'\n",
            " 'Engineer, building services' 'Engineer, broadcasting (operations)'\n",
            " 'Scientist, forensic' 'IT consultant' 'Agricultural engineer'\n",
            " 'Multimedia programmer' 'Horticultural consultant'\n",
            " 'Radiation protection practitioner' 'Counselling psychologist'\n",
            " 'Environmental health practitioner' 'Technical sales engineer'\n",
            " 'Physiotherapist' 'Engineer, technical sales' 'Copywriter, advertising'\n",
            " 'Astronomer' 'Higher education lecturer' 'Waste management officer'\n",
            " 'Surveyor, rural practice' 'Architectural technologist'\n",
            " 'Scientist, water quality' 'Ceramics designer' 'Product designer'\n",
            " 'Engineer, agricultural' 'Scientist, research (physical sciences)'\n",
            " 'Heritage manager' 'Control and instrumentation engineer' 'Chiropractor'\n",
            " 'Cytogeneticist' 'Chief Technology Officer' 'Associate Professor'\n",
            " 'Designer, blown glass/stained glass' 'Librarian, public'\n",
            " 'Television camera operator' 'Fisheries officer' 'Engineer, biomedical'\n",
            " 'Buyer, industrial' 'Seismic interpreter' 'Retail buyer' 'Herbalist'\n",
            " 'Secretary, company' 'Diagnostic radiographer'\n",
            " 'Scientist, research (maths)' 'Information officer'\n",
            " 'Scientist, research (life sciences)' 'Jewellery designer'\n",
            " 'Computer games developer' 'Musician' 'Database administrator'\n",
            " 'Press sub' 'Information systems manager'\n",
            " 'English as a second language teacher' 'Legal secretary'\n",
            " 'Planning and development surveyor' 'Accounting technician'\n",
            " 'Network engineer' 'Charity fundraiser' 'Advertising account planner'\n",
            " 'Development worker, international aid' 'Proofreader'\n",
            " 'Clinical molecular geneticist' 'Company secretary' 'Banker'\n",
            " 'Solicitor, Scotland' 'Call centre manager' 'Records manager'\n",
            " 'Programme researcher, broadcasting/film/video' 'Manufacturing engineer'\n",
            " 'Clinical research associate' 'Ergonomist' 'Pharmacist, community'\n",
            " 'Games developer' 'Market researcher' 'Toxicologist' 'Physicist, medical'\n",
            " 'Bookseller' 'Solicitor' 'Doctor, general practice' 'Soil scientist'\n",
            " 'Retail banker' 'Training and development officer' 'Engineer, drilling'\n",
            " 'Chartered accountant' 'Furniture conservator/restorer'\n",
            " 'Visual merchandiser' 'Journalist, newspaper' 'Surveyor, land/geomatics'\n",
            " 'Recycling officer' 'Marketing executive' 'Community education officer'\n",
            " 'Conservation officer, nature' 'Naval architect' 'Land' 'Dietitian'\n",
            " 'Dancer' 'Research scientist (medical)' 'Food technologist'\n",
            " 'Scientist, research (medical)' 'Data scientist' 'Writer'\n",
            " 'Librarian, academic' 'Location manager' 'Teacher, primary school'\n",
            " 'Printmaker' 'Education officer, museum' 'Plant breeder/geneticist'\n",
            " 'Prison officer' 'Drilling engineer' 'Administrator, local government'\n",
            " 'Education officer, community' 'Administrator, arts'\n",
            " 'Engineer, aeronautical' 'Pharmacist, hospital'\n",
            " 'Geographical information systems officer' 'Programmer, applications'\n",
            " 'Research officer, government' 'Museum/gallery curator' 'Statistician'\n",
            " 'Chief Operating Officer' 'Research scientist (maths)'\n",
            " 'Mental health nurse' 'Pilot, airline' 'Investment banker, operational'\n",
            " 'Herpetologist' 'Engineer, control and instrumentation'\n",
            " 'Public relations account executive' 'Medical technical officer'\n",
            " 'Magazine journalist' 'Arts administrator' 'Chief Marketing Officer'\n",
            " 'Chiropodist' 'Therapist, drama' 'International aid/development worker'\n",
            " 'Animal nutritionist' 'Programmer, multimedia' 'Cabin crew'\n",
            " 'Magazine features editor' 'Music therapist' 'Furniture designer'\n",
            " 'IT sales professional' 'Psychologist, forensic' 'Merchandiser, retail'\n",
            " 'Health visitor' 'Telecommunications researcher'\n",
            " 'Contracting civil engineer' 'Accountant, chartered management'\n",
            " 'Designer, ceramics/pottery' 'Engineer, civil (contracting)'\n",
            " 'Education officer, environmental' 'Public house manager'\n",
            " 'Surveyor, building control' 'Civil engineer, consulting'\n",
            " 'Engineer, petroleum' 'Facilities manager' 'Therapist, music'\n",
            " 'Editor, film/video' 'Warehouse manager' 'Designer, furniture'\n",
            " 'Osteopath' 'Scientist, marine' 'Music tutor'\n",
            " 'Scientist, product/process development' 'Special effects artist'\n",
            " 'Translator' 'Estate manager/land agent' 'Building control surveyor'\n",
            " 'Scientist, physiological' 'Meteorologist' 'Environmental manager'\n",
            " 'Personal assistant' 'Travel agency manager' 'Public librarian'\n",
            " 'Therapist, occupational' 'Clothing/textile technologist'\n",
            " 'Clinical scientist, histocompatibility and immunogenetics'\n",
            " 'Sport and exercise psychologist' 'Analytical chemist' 'Haematologist'\n",
            " 'Electrical engineer' 'Theatre stage manager' 'Psychiatrist'\n",
            " 'Insurance risk surveyor' 'Mechanical engineer' 'Automotive engineer'\n",
            " 'IT technical support officer' 'Sports therapist'\n",
            " 'Lighting technician, broadcasting/film/video' 'Film/video editor'\n",
            " 'Primary school teacher' 'Runner, broadcasting/film/video'\n",
            " 'Insurance account manager' \"Barrister's clerk\" 'Data processing manager'\n",
            " 'Surveyor, planning and development' 'Oncologist'\n",
            " 'Accountant, chartered certified' 'Chief of Staff' 'Industrial buyer'\n",
            " 'Financial risk analyst' 'Chemical engineer' 'Building services engineer'\n",
            " 'Economist' 'Lawyer' 'Nurse, mental health' 'Engineer, electrical'\n",
            " 'Biomedical engineer' 'Marine scientist' 'Barrister'\n",
            " 'Production assistant, television' 'Civil Service fast streamer' 'Gaffer'\n",
            " 'Arts development officer' 'Animator' 'Print production planner'\n",
            " 'Armed forces logistics/support/administrative officer'\n",
            " 'Television production assistant' 'Psychologist, sport and exercise'\n",
            " 'Chartered loss adjuster' 'Building surveyor' 'Radio broadcast assistant'\n",
            " 'Restaurant manager' 'Hotel manager' 'Optometrist' 'Health physicist'\n",
            " 'Water quality scientist' 'Advice worker' 'Sports development officer'\n",
            " 'Producer, television/film/video' 'Comptroller' 'Technical author'\n",
            " 'Town planner' 'Financial trader' 'Clinical biochemist' 'Estate agent'\n",
            " 'Horticulturist, amenity' 'Ophthalmologist'\n",
            " 'Production designer, theatre/television/film' 'Transport planner'\n",
            " 'Exercise physiologist' 'Illustrator' 'Social researcher'\n",
            " 'Forensic scientist' 'Medical sales representative'\n",
            " 'Learning disability nurse' 'Tourist information centre manager'\n",
            " 'Management consultant' 'Orthoptist'\n",
            " 'Psychologist, prison and probation services' 'Technical brewer'\n",
            " 'Stage manager' 'Chemist, analytical' 'Tax adviser' 'Psychiatric nurse'\n",
            " 'Systems analyst' 'Counsellor' 'Learning mentor' 'Adult nurse' 'Midwife'\n",
            " 'Engineer, water' 'Radiographer, diagnostic' 'Colour technologist'\n",
            " 'Engineer, land' 'Garment/textile technologist' 'Web designer'\n",
            " 'Site engineer' 'Administrator, education' 'Civil engineer, contracting'\n",
            " 'Ecologist' 'Surveyor, quantity' 'Animal technologist'\n",
            " 'Communications engineer' 'Geologist, wellsite' 'Product manager'\n",
            " 'Patent examiner' 'Commercial/residential surveyor' 'Pensions consultant'\n",
            " 'Engineer, site' 'Media buyer' 'Dealer' 'Forest/woodland manager'\n",
            " 'Dance movement psychotherapist' 'Sales professional, IT' 'Photographer'\n",
            " 'Therapist, nutritional' 'Sub'\n",
            " 'Chartered legal executive (England and Wales)'\n",
            " 'Teacher, secondary school' 'Psychotherapist, dance movement'\n",
            " 'Engineer, civil (consulting)' 'Consulting civil engineer'\n",
            " 'Armed forces technical officer' 'Geneticist, molecular'\n",
            " 'Brewing technologist' 'Catering manager' 'Health and safety adviser'\n",
            " 'Financial controller' 'Office manager' 'Air cabin crew'\n",
            " 'Sound technician, broadcasting/film/video' 'Tree surgeon'\n",
            " 'Lecturer, further education' 'Energy manager' 'Professor Emeritus'\n",
            " 'Publishing copy' 'Designer, jewellery' 'Engineer, communications'\n",
            " 'Dramatherapist' 'Occupational psychologist' 'Press photographer'\n",
            " 'Risk manager' 'Pension scheme manager' 'Commercial art gallery manager'\n",
            " 'Artist' 'Surveyor, insurance' 'Science writer'\n",
            " 'Local government officer' 'Financial planner' 'Operations geologist'\n",
            " 'Theatre director' 'Airline pilot' 'Best boy'\n",
            " 'Geophysical data processor' 'Tax inspector' 'Immunologist'\n",
            " 'Television floor manager' 'Investment analyst' 'Therapist, sports'\n",
            " 'Engineer, mining' 'Designer, graphic' 'Journalist, magazine'\n",
            " 'Bonds trader' 'Medical illustrator' 'Chief Executive Officer'\n",
            " 'Teacher, English as a foreign language' 'Commercial horticulturist'\n",
            " 'Psychologist, clinical' 'Radio producer' 'Theatre manager'\n",
            " 'Air traffic controller' 'Homeopath' 'Podiatrist' 'Pharmacologist'\n",
            " 'Geophysicist/field seismologist' 'Occupational therapist'\n",
            " 'Claims inspector/assessor' 'Probation officer' 'Surveyor, hydrographic'\n",
            " 'Teaching laboratory technician' 'Museum education officer'\n",
            " 'Fast food restaurant manager' 'Camera operator' 'Clinical psychologist'\n",
            " 'Applications developer' 'Lobbyist' 'Petroleum engineer'\n",
            " 'Conference centre manager' 'Loss adjuster, chartered'\n",
            " 'Biomedical scientist' 'Engineer, maintenance'\n",
            " 'Passenger transport manager' 'Therapist, horticultural'\n",
            " 'Restaurant manager, fast food' 'Ambulance person' 'Nurse, adult'\n",
            " 'IT trainer' 'Conservator, museum/gallery'\n",
            " 'Outdoor activities/education manager' 'Lecturer, higher education'\n",
            " 'Fashion designer' 'Diplomatic Services operational officer'\n",
            " 'Scientist, clinical (histocompatibility and immunogenetics)'\n",
            " 'Wellsite geologist' 'Adult guidance worker'\n",
            " 'Scientific laboratory technician' 'Production assistant, radio'\n",
            " 'Social worker' 'Careers adviser'\n",
            " 'Conservation officer, historic buildings' 'Surveyor, mining'\n",
            " 'Audiological scientist' 'Arboriculturist' 'Geoscientist'\n",
            " 'Engineer, chemical' 'Designer, industrial/product'\n",
            " 'Radiographer, therapeutic' 'Art gallery manager' 'Editorial assistant'\n",
            " 'Oceanographer' 'Curator' 'Research officer, political party'\n",
            " 'Private music teacher' 'Insurance claims handler' 'Designer, textile'\n",
            " 'Teacher, adult education' 'Optician, dispensing'\n",
            " 'Trading standards officer' 'Farm manager'\n",
            " 'Research scientist (physical sciences)'\n",
            " 'Armed forces training and education officer' 'Make'\n",
            " 'Holiday representative' 'Water engineer' 'Customer service manager'\n",
            " 'Chartered certified accountant' 'Lexicographer' 'Set designer'\n",
            " 'Merchant navy officer' 'Youth worker' 'Engineer, manufacturing'\n",
            " 'Embryologist, clinical' 'Structural engineer' 'Engineer, automotive'\n",
            " 'Chief Strategy Officer' 'Museum/gallery exhibitions officer'\n",
            " 'Engineer, structural' 'Textile designer' \"Nurse, children's\"\n",
            " 'Patent attorney' 'Administrator, sports' 'Barista'\n",
            " 'General practice doctor' 'Biochemist, clinical' 'Legal executive'\n",
            " 'Engineer, materials' 'Therapist, art' 'Purchasing manager'\n",
            " 'Graphic designer' 'Conservator, furniture' 'Surveyor, building'\n",
            " 'Veterinary surgeon' 'Art therapist' 'Mining engineer' 'Geochemist'\n",
            " 'Surveyor, minerals' 'Fine artist' 'Hospital pharmacist'\n",
            " 'Materials engineer' 'Government social research officer'\n",
            " 'Tourism officer' 'Intelligence analyst' 'Theme park manager'\n",
            " 'Public relations officer' 'Hydrographic surveyor' 'Personnel officer'\n",
            " 'Dispensing optician' 'Occupational hygienist' 'Fish farm manager'\n",
            " 'Logistics and distribution manager' 'Corporate treasurer'\n",
            " 'Insurance underwriter' 'Research officer, trade union'\n",
            " 'Investment banker, corporate' \"Politician's assistant\"\n",
            " 'Editor, commissioning' 'Retail manager' 'Financial manager'\n",
            " 'Tour manager' 'Administrator, charities/voluntary organisations'\n",
            " 'Health and safety inspector' 'Broadcast presenter' 'Immigration officer'\n",
            " 'Maintenance engineer' 'Horticulturist, commercial' 'Teacher, music'\n",
            " 'Ship broker' 'Engineer, energy' 'Risk analyst' 'Ranger/warden'\n",
            " 'Production manager' 'Paramedic' 'Editor, magazine features'\n",
            " 'Chartered management accountant' 'Clinical cytogeneticist' 'Architect'\n",
            " 'Freight forwarder' 'Child psychotherapist' 'Video editor'\n",
            " 'Educational psychologist' 'Clinical embryologist'\n",
            " 'Accommodation manager' 'Surveyor, commercial/residential' 'Surgeon'\n",
            " 'Agricultural consultant' 'Actuary' 'Advertising copywriter'\n",
            " 'Event organiser' 'Metallurgist' 'Corporate investment banker'\n",
            " 'Community development worker' 'Licensed conveyancer'\n",
            " 'Nature conservation officer' 'Aid worker' 'Psychotherapist'\n",
            " 'Presenter, broadcasting' 'Higher education careers adviser' 'Copy'\n",
            " 'Commissioning editor' 'Designer, television/film set'\n",
            " 'Senior tax professional/tax inspector' 'Race relations officer'\n",
            " 'Forensic psychologist' 'Field trials officer' 'Operational researcher'\n",
            " 'Mudlogger' 'Quarry manager' 'Medical physicist' 'Producer, radio'\n",
            " 'Designer, exhibition/display' 'Television/film/video producer'\n",
            " 'Systems developer' 'Psychotherapist, child' 'Designer, fashion/clothing'\n",
            " 'Medical secretary' 'Insurance broker' 'Development worker, community'\n",
            " 'Volunteer coordinator' 'Academic librarian' 'Psychologist, counselling'\n",
            " 'Exhibitions officer, museum/gallery' 'Leisure centre manager'\n",
            " 'Contractor' 'Physiological scientist'\n",
            " 'Social research officer, government' 'Geologist, engineering'\n",
            " 'Sales executive' 'Equality and diversity officer' 'Pathologist'\n",
            " 'Human resources officer' 'Regulatory affairs officer']\n",
            "Lead_source : ['Website' 'Others' 'Marketing Event' 'Contact Email']\n",
            "Level_of_meeting : ['Level 3' 'Level 1' 'Level 2']\n",
            "Last_lead_update : ['No track' 'Did not hear back after Level 1' '?' 'Up-to-date'\n",
            " '2 days back' 'More than 2 weeks' '5 days back' 'more than a month'\n",
            " 'Following up but lead not responding' nan 'More than a week back'\n",
            " 'Pending']\n",
            "Internal_POC : ['Davis,Sharrice A' 'Brown,Maxine A' 'Georgakopoulos,Vasilios T'\n",
            " 'Thomas,Lori E' 'Featherstone,Adrian R' 'Booker,David L' 'Cashin,Marc C'\n",
            " 'Van Arter,Derrick' 'Hanyok,John J' 'Clavey,Therese A' 'Hameier,Kurt E'\n",
            " 'Maine,John P' 'Shelton,Sidney P' 'Young,Valerie K' 'Anthony,Katherine D'\n",
            " 'Dimattia,Frank D' 'Mabrey,Kevin C' 'Tondeur,Keith D' 'Irizarry,Yolanda'\n",
            " 'Leu,Darren L' 'Jones,Michael L' 'Dyson,William A' 'Ali,Mohamed'\n",
            " 'Jones,Eyvette W' 'Salyers,Daniel L' 'Morsy,Omar A' 'Davis,Brian R'\n",
            " 'Massiah,Gerard F' 'Hebron,Artenia D' 'Knox,Antonio D' 'Green,Candy'\n",
            " 'Pappas,Mark S' 'Heidelberg,Andre D' 'Green,Ann E' 'Turner,Marlon D'\n",
            " 'McKenstry,Loretta A' 'Moran,Natalie A' 'Smith,Keenan H' 'Ross,Eric L'\n",
            " 'Ullrich,Rose Anne' 'Himes,Maurice C' 'Robinson,John C' 'Kiepea,Prince A'\n",
            " 'Gaskins Jr,Franklin D' 'Gould,Lisa D' 'Ryker,David' 'Meli,Teresa V'\n",
            " 'Houston,Arnold E' 'Logan,Kevin N' 'Gilley,Janine' 'Sutton,Michelle R'\n",
            " 'Rocks,Michael J' 'Charles,Caleb' 'Abdul-Hamid,Saud Muhamad'\n",
            " 'Bannister,Joan' 'Carter Sr,Clifton E' 'Cash,Tyrone J'\n",
            " 'Vickers Jr.,Henry J' 'Dunaway,Antoine' 'Murray,Younetta']\n",
            "Resource : [nan 'No' 'We have all the requirements' 'Deliverable' 'Cannot deliver'\n",
            " 'Not enough' 'Yes']\n"
          ],
          "name": "stdout"
        }
      ]
    },
    {
      "cell_type": "code",
      "metadata": {
        "colab": {
          "base_uri": "https://localhost:8080/"
        },
        "id": "45o9sngJxc_W",
        "outputId": "f78856cb-534c-45e9-fe60-d7e8fb1efcd3"
      },
      "source": [
        "for col in continuous_data:\n",
        "    print(f'{col} : {continuous_data[col].unique()}')"
      ],
      "execution_count": 20,
      "outputs": [
        {
          "output_type": "stream",
          "text": [
            "Internal_rating : [3 5 4 1 2]\n",
            "Success_probability : [ 73.6   58.9   68.8   64.5   62.4   66.3   73.4   74.1   61.4   66.\n",
            "  67.9   63.9   71.5   26.35  60.7   71.    70.    66.4   61.9   63.7\n",
            " 107.34  60.1   62.9   68.6   64.8   68.3   57.8   56.2   76.1   60.8\n",
            "  58.8   64.1   69.7   65.6   73.1   69.9   66.2   65.8   68.1   70.4\n",
            "  64.2   -5.    60.3   58.6   63.6   68.5   55.7   60.2   59.9   69.4\n",
            "  73.5   59.1   60.9   70.6   62.    63.4   66.1   64.6   59.6   76.2\n",
            "  62.5   67.3   70.8   61.8   64.    65.3   72.9   69.2   55.6   67.1\n",
            "  55.4   55.9   67.7   70.1   57.2   69.6   59.4   57.5   65.4   61.5\n",
            "  64.9   63.3   67.2   70.7   65.1   61.1   68.4   65.7   60.4   74.8\n",
            "  75.2   61.7   73.8   61.6   72.7    8.    57.6   57.4   69.3   63.5\n",
            "  64.4   75.6   59.    56.9   73.9   66.9   57.1   58.3   66.7   75.\n",
            "  72.6   59.2   60.6   66.8   70.3   65.9   68.    71.9   66.6   63.\n",
            "  71.2   67.4   67.    57.3   65.5   72.    67.6   67.8   73.2   71.6\n",
            "  58.4   61.2   67.5   54.9   65.    75.1   74.    58.2   62.7   58.5\n",
            "  71.8   55.8   69.8   71.3   56.1   62.1   64.7   73.7   64.3   71.1\n",
            "  62.2   63.8   62.3   59.7   70.5   75.5   74.6   59.3   69.1   54.7\n",
            "  62.8   55.5   77.7   71.4   72.5   66.5   60.5   59.8   61.    70.2\n",
            "  62.6   63.2   68.9   57.9   63.1   68.2   74.7   58.    77.3   53.9\n",
            "  69.    77.    56.7   56.6   74.2   72.8   73.3   74.4   55.1   54.3\n",
            "  72.4   75.9   69.5   70.9   76.8   54.4   75.3   75.7   72.1   77.4\n",
            "  51.9   78.8   74.9   50.9   58.7   74.3   53.4   57.    55.3   71.7\n",
            "  58.1   59.5   65.2   77.6   55.2   56.5   72.3   51.7   53.6   56.8\n",
            "  61.3   54.1   56.3   72.2   68.7   54.2   54.6   79.1   75.8   76.4\n",
            "  56.    57.7   60.    52.7   74.5   54.    53.2   75.4   52.3   52.6\n",
            "  53.7   56.4   52.8   73.    76.7   55.    76.9   52.2 ]\n"
          ],
          "name": "stdout"
        }
      ]
    },
    {
      "cell_type": "code",
      "metadata": {
        "colab": {
          "base_uri": "https://localhost:8080/",
          "height": 210
        },
        "id": "OLDvwMRwxsOj",
        "outputId": "6baedfc6-334d-4cf2-8c33-36a059330397"
      },
      "source": [
        "# boxplots of numerical features for outlier detection\n",
        "import seaborn as sns\n",
        "fig = plt.figure(figsize=(8,8))\n",
        "for i in range(len(continuous_data.columns)):\n",
        "    fig.add_subplot(3, 3, i+1)\n",
        "    sns.boxplot(y=continuous_data.iloc[:,i])\n",
        "plt.tight_layout()\n",
        "plt.show()"
      ],
      "execution_count": 21,
      "outputs": [
        {
          "output_type": "display_data",
          "data": {
            "image/png": "[encoded data removed]",
            "text/plain": [
              "<Figure size 576x576 with 2 Axes>"
            ]
          },
          "metadata": {
            "tags": [],
            "needs_background": "light"
          }
        }
      ]
    },
    {
      "cell_type": "code",
      "metadata": {
        "colab": {
          "base_uri": "https://localhost:8080/",
          "height": 374
        },
        "id": "NIZP4JRuxy90",
        "outputId": "6175b113-ba2b-416b-9e41-06c8a6b82be7"
      },
      "source": [
        "sns.pairplot(train)\n",
        "plt.show()"
      ],
      "execution_count": 22,
      "outputs": [
        {
          "output_type": "display_data",
          "data": {
            "image/png": "[encoded data removed]",
            "text/plain": [
              "<Figure size 360x360 with 6 Axes>"
            ]
          },
          "metadata": {
            "tags": [],
            "needs_background": "light"
          }
        }
      ]
    },
    {
      "cell_type": "code",
      "metadata": {
        "colab": {
          "base_uri": "https://localhost:8080/",
          "height": 334
        },
        "id": "yaPvuB9aGDja",
        "outputId": "7a990c0a-68c5-43a8-c377-f99833ccad97"
      },
      "source": [
        "# Checking skewness for dependent Variable. It shows the dependent variable is 'right skewed'. \n",
        "sns.distplot(train['Success_probability'])\n",
        "plt.show()"
      ],
      "execution_count": 23,
      "outputs": [
        {
          "output_type": "stream",
          "text": [
            "/usr/local/lib/python3.7/dist-packages/seaborn/distributions.py:2557: FutureWarning: `distplot` is a deprecated function and will be removed in a future version. Please adapt your code to use either `displot` (a figure-level function with similar flexibility) or `histplot` (an axes-level function for histograms).\n",
            "  warnings.warn(msg, FutureWarning)\n"
          ],
          "name": "stderr"
        },
        {
          "output_type": "display_data",
          "data": {
            "image/png": "[encoded data removed]",
            "text/plain": [
              "<Figure size 432x288 with 1 Axes>"
            ]
          },
          "metadata": {
            "tags": [],
            "needs_background": "light"
          }
        }
      ]
    },
    {
      "cell_type": "code",
      "metadata": {
        "id": "RGmE4iDQGSZC"
      },
      "source": [
        "# Log transformed dependent variable does'nt work\n",
        "#sns.distplot(np.log1p(train['Success_probability']))\n",
        "#plt.show()"
      ],
      "execution_count": 24,
      "outputs": []
    },
    {
      "cell_type": "code",
      "metadata": {
        "id": "dK6hBH7PxLMv"
      },
      "source": [
        "#train['Success_probability']=np.log(train['Success_probability'])"
      ],
      "execution_count": 25,
      "outputs": []
    },
    {
      "cell_type": "code",
      "metadata": {
        "id": "4P95p6umxhw0"
      },
      "source": [
        "#train['Success_probability'].isnull().sum()"
      ],
      "execution_count": 26,
      "outputs": []
    },
    {
      "cell_type": "code",
      "metadata": {
        "colab": {
          "base_uri": "https://localhost:8080/"
        },
        "id": "4LtteL8lx5XQ",
        "outputId": "16c81c59-1078-4f42-b7c4-a976b42d5361"
      },
      "source": [
        "skewed_features = continuous_data.apply(lambda x: x.skew()).sort_values(ascending=False)\n",
        "skewed_features"
      ],
      "execution_count": 27,
      "outputs": [
        {
          "output_type": "execute_result",
          "data": {
            "text/plain": [
              "Internal_rating       -0.006075\n",
              "Success_probability   -0.453803\n",
              "dtype: float64"
            ]
          },
          "metadata": {
            "tags": []
          },
          "execution_count": 27
        }
      ]
    },
    {
      "cell_type": "code",
      "metadata": {
        "id": "9R2hTJ67yEjs"
      },
      "source": [
        " miss = train.isna().sum().sort_values(ascending=False)"
      ],
      "execution_count": 28,
      "outputs": []
    },
    {
      "cell_type": "code",
      "metadata": {
        "colab": {
          "base_uri": "https://localhost:8080/"
        },
        "id": "a59Q-0ROyLMz",
        "outputId": "2c161fa6-e6e6-459d-ac40-ee5e5541302e"
      },
      "source": [
        "miss"
      ],
      "execution_count": 29,
      "outputs": [
        {
          "output_type": "execute_result",
          "data": {
            "text/plain": [
              "Geography                972\n",
              "Last_lead_update         633\n",
              "Weighted_amount          525\n",
              "Resource                 149\n",
              "Deal_value                51\n",
              "Location                  11\n",
              "POC_name                   8\n",
              "Industry                   1\n",
              "Fund_category              0\n",
              "Date_of_creation           0\n",
              "Pitch                      0\n",
              "Contact_no                 0\n",
              "Lead_revenue               0\n",
              "Success_probability        0\n",
              "Internal_rating            0\n",
              "Designation                0\n",
              "Lead_POC_email             0\n",
              "Hiring_candidate_role      0\n",
              "Lead_source                0\n",
              "Level_of_meeting           0\n",
              "Internal_POC               0\n",
              "Lead_name                  0\n",
              "dtype: int64"
            ]
          },
          "metadata": {
            "tags": []
          },
          "execution_count": 29
        }
      ]
    },
    {
      "cell_type": "code",
      "metadata": {
        "colab": {
          "base_uri": "https://localhost:8080/",
          "height": 434
        },
        "id": "HcdP3qtbyMHA",
        "outputId": "92e82aaf-4800-41a3-b9f1-25f251c84c86"
      },
      "source": [
        "miss.plot(kind='bar',figsize=(14,5))\n",
        "plt.title('Missing Values')\n",
        "plt.show()"
      ],
      "execution_count": 30,
      "outputs": [
        {
          "output_type": "display_data",
          "data": {
            "image/png": "[encoded data removed]",
            "text/plain": [
              "<Figure size 1008x360 with 1 Axes>"
            ]
          },
          "metadata": {
            "tags": [],
            "needs_background": "light"
          }
        }
      ]
    },
    {
      "cell_type": "code",
      "metadata": {
        "id": "qwsx7Td3yQuy"
      },
      "source": [
        " miss_t = test.isna().sum().sort_values(ascending=False)"
      ],
      "execution_count": 31,
      "outputs": []
    },
    {
      "cell_type": "code",
      "metadata": {
        "colab": {
          "base_uri": "https://localhost:8080/"
        },
        "id": "2gXWOG-6yz4v",
        "outputId": "723124cd-2ae5-4b19-cc97-e7b490e846c9"
      },
      "source": [
        "miss_t"
      ],
      "execution_count": 32,
      "outputs": [
        {
          "output_type": "execute_result",
          "data": {
            "text/plain": [
              "Last_lead_update         168\n",
              "Geography                 79\n",
              "Weighted_amount           60\n",
              "Resource                  14\n",
              "Deal_value                 5\n",
              "Location                   3\n",
              "POC_name                   2\n",
              "Industry                   1\n",
              "Lead_revenue               0\n",
              "Lead_name                  0\n",
              "Date_of_creation           0\n",
              "Pitch                      0\n",
              "Contact_no                 0\n",
              "Internal_rating            0\n",
              "Fund_category              0\n",
              "Designation                0\n",
              "Lead_POC_email             0\n",
              "Hiring_candidate_role      0\n",
              "Lead_source                0\n",
              "Level_of_meeting           0\n",
              "Internal_POC               0\n",
              "Deal_title                 0\n",
              "dtype: int64"
            ]
          },
          "metadata": {
            "tags": []
          },
          "execution_count": 32
        }
      ]
    },
    {
      "cell_type": "code",
      "metadata": {
        "colab": {
          "base_uri": "https://localhost:8080/",
          "height": 434
        },
        "id": "Ywsgv8-zy1GL",
        "outputId": "5f7a361a-b72d-4ff4-981c-883f754f8487"
      },
      "source": [
        "miss_t.plot(kind='bar',figsize=(14,5))\n",
        "plt.title('Missing Values')\n",
        "plt.show()"
      ],
      "execution_count": 33,
      "outputs": [
        {
          "output_type": "display_data",
          "data": {
            "image/png": "[encoded data removed]",
            "text/plain": [
              "<Figure size 1008x360 with 1 Axes>"
            ]
          },
          "metadata": {
            "tags": [],
            "needs_background": "light"
          }
        }
      ]
    },
    {
      "cell_type": "code",
      "metadata": {
        "colab": {
          "base_uri": "https://localhost:8080/"
        },
        "id": "OxhNkJWLy5ME",
        "outputId": "32b42373-ef7a-437d-cb34-6c7ab792656b"
      },
      "source": [
        "#remove all columns having no values\n",
        "train.dropna(axis=1, how=\"all\", inplace=True)\n",
        "train.dropna(axis=0, how=\"all\", inplace=True)\n",
        "datashape(train)"
      ],
      "execution_count": 34,
      "outputs": [
        {
          "output_type": "stream",
          "text": [
            "The dataset contains  7007 rows and 22 columns.\n"
          ],
          "name": "stdout"
        }
      ]
    },
    {
      "cell_type": "code",
      "metadata": {
        "colab": {
          "base_uri": "https://localhost:8080/"
        },
        "id": "xrIfwtqDy_b-",
        "outputId": "82273cf5-b17c-473e-b1f4-1744c90dc2c2"
      },
      "source": [
        " miss = train.isna().sum().sort_values(ascending=False)\n",
        " miss"
      ],
      "execution_count": 35,
      "outputs": [
        {
          "output_type": "execute_result",
          "data": {
            "text/plain": [
              "Geography                972\n",
              "Last_lead_update         633\n",
              "Weighted_amount          525\n",
              "Resource                 149\n",
              "Deal_value                51\n",
              "Location                  11\n",
              "POC_name                   8\n",
              "Industry                   1\n",
              "Fund_category              0\n",
              "Date_of_creation           0\n",
              "Pitch                      0\n",
              "Contact_no                 0\n",
              "Lead_revenue               0\n",
              "Success_probability        0\n",
              "Internal_rating            0\n",
              "Designation                0\n",
              "Lead_POC_email             0\n",
              "Hiring_candidate_role      0\n",
              "Lead_source                0\n",
              "Level_of_meeting           0\n",
              "Internal_POC               0\n",
              "Lead_name                  0\n",
              "dtype: int64"
            ]
          },
          "metadata": {
            "tags": []
          },
          "execution_count": 35
        }
      ]
    },
    {
      "cell_type": "code",
      "metadata": {
        "id": "XNUgjK9jzGKu"
      },
      "source": [
        "def fillNanValues(df, col, value):\n",
        "    df[col].fillna(value, inplace=True)"
      ],
      "execution_count": 36,
      "outputs": []
    },
    {
      "cell_type": "code",
      "metadata": {
        "colab": {
          "base_uri": "https://localhost:8080/"
        },
        "id": "3QD2O4rN1Z59",
        "outputId": "e5e3ca24-30fd-4098-ea56-6e754c9e628e"
      },
      "source": [
        "train['Geography'].unique()"
      ],
      "execution_count": 37,
      "outputs": [
        {
          "output_type": "execute_result",
          "data": {
            "text/plain": [
              "array(['USA', 'India', nan], dtype=object)"
            ]
          },
          "metadata": {
            "tags": []
          },
          "execution_count": 37
        }
      ]
    },
    {
      "cell_type": "code",
      "metadata": {
        "colab": {
          "base_uri": "https://localhost:8080/"
        },
        "id": "kUXBTdI1z0Ro",
        "outputId": "eb3148c5-12f9-46d9-a873-341921fa1348"
      },
      "source": [
        "fillNanValues(train, 'Geography', train['Geography'].mode()[0])\n",
        "fillNanValues(test, 'Geography', test['Geography'].mode()[0])\n",
        "print(train['Geography'].isna().any())#any returns boolean values\n",
        "print(test['Geography'].isna().any())"
      ],
      "execution_count": 38,
      "outputs": [
        {
          "output_type": "stream",
          "text": [
            "False\n",
            "False\n"
          ],
          "name": "stdout"
        }
      ]
    },
    {
      "cell_type": "code",
      "metadata": {
        "colab": {
          "base_uri": "https://localhost:8080/"
        },
        "id": "qzt9r91r1n55",
        "outputId": "f97e4d0e-b3e1-4da3-c6b5-25d9b8d28c56"
      },
      "source": [
        "train['Geography'].unique()"
      ],
      "execution_count": 39,
      "outputs": [
        {
          "output_type": "execute_result",
          "data": {
            "text/plain": [
              "array(['USA', 'India'], dtype=object)"
            ]
          },
          "metadata": {
            "tags": []
          },
          "execution_count": 39
        }
      ]
    },
    {
      "cell_type": "code",
      "metadata": {
        "colab": {
          "base_uri": "https://localhost:8080/"
        },
        "id": "XdyPHrtr3cCi",
        "outputId": "ed189e51-9888-4c5b-8a31-cd288a74e7e9"
      },
      "source": [
        "train['Last_lead_update'].unique()"
      ],
      "execution_count": 40,
      "outputs": [
        {
          "output_type": "execute_result",
          "data": {
            "text/plain": [
              "array(['No track', 'Did not hear back after Level 1', '?', 'Up-to-date',\n",
              "       '2 days back', 'More than 2 weeks', '5 days back',\n",
              "       'more than a month', 'Following up but lead not responding', nan,\n",
              "       'More than a week back', 'Pending'], dtype=object)"
            ]
          },
          "metadata": {
            "tags": []
          },
          "execution_count": 40
        }
      ]
    },
    {
      "cell_type": "code",
      "metadata": {
        "colab": {
          "base_uri": "https://localhost:8080/"
        },
        "id": "ALQ7QAAg1sYd",
        "outputId": "2131490a-d5d7-4681-c429-a56d53a92a70"
      },
      "source": [
        "fillNanValues(train, 'Last_lead_update', train['Last_lead_update'].mode()[0])\n",
        "fillNanValues(test, 'Last_lead_update', test['Last_lead_update'].mode()[0])\n",
        "print(train['Last_lead_update'].isna().any())#any returns boolean values\n",
        "print(test['Last_lead_update'].isna().any())"
      ],
      "execution_count": 41,
      "outputs": [
        {
          "output_type": "stream",
          "text": [
            "False\n",
            "False\n"
          ],
          "name": "stdout"
        }
      ]
    },
    {
      "cell_type": "code",
      "metadata": {
        "colab": {
          "base_uri": "https://localhost:8080/"
        },
        "id": "CF_J9QUP4n0K",
        "outputId": "e21d0932-e569-4e84-f12c-fc05ca13aa14"
      },
      "source": [
        "train['Last_lead_update'].unique()"
      ],
      "execution_count": 42,
      "outputs": [
        {
          "output_type": "execute_result",
          "data": {
            "text/plain": [
              "array(['No track', 'Did not hear back after Level 1', '?', 'Up-to-date',\n",
              "       '2 days back', 'More than 2 weeks', '5 days back',\n",
              "       'more than a month', 'Following up but lead not responding',\n",
              "       'More than a week back', 'Pending'], dtype=object)"
            ]
          },
          "metadata": {
            "tags": []
          },
          "execution_count": 42
        }
      ]
    },
    {
      "cell_type": "code",
      "metadata": {
        "colab": {
          "base_uri": "https://localhost:8080/"
        },
        "id": "GlGvKu4r4t-s",
        "outputId": "72e1269d-e201-4574-a22f-6b393ff687da"
      },
      "source": [
        "train['Weighted_amount'].unique()"
      ],
      "execution_count": 43,
      "outputs": [
        {
          "output_type": "execute_result",
          "data": {
            "text/plain": [
              "array(['2067263.7$', '240876.8$', '2407926.4$', ..., '1453372.8$',\n",
              "       '794720.5$', '1642281.45$'], dtype=object)"
            ]
          },
          "metadata": {
            "tags": []
          },
          "execution_count": 43
        }
      ]
    },
    {
      "cell_type": "code",
      "metadata": {
        "colab": {
          "base_uri": "https://localhost:8080/"
        },
        "id": "sidU7REC5Yl5",
        "outputId": "78842c7a-61e8-42c5-e6a6-97d03f88c235"
      },
      "source": [
        "\n",
        "fillNanValues(train, 'Weighted_amount', train['Weighted_amount'].mode()[0])\n",
        "fillNanValues(test, 'Weighted_amount', test['Weighted_amount'].mode()[0])\n",
        "print(train['Weighted_amount'].isna().any())#any returns boolean values\n",
        "print(test['Weighted_amount'].isna().any())"
      ],
      "execution_count": 44,
      "outputs": [
        {
          "output_type": "stream",
          "text": [
            "False\n",
            "False\n"
          ],
          "name": "stdout"
        }
      ]
    },
    {
      "cell_type": "code",
      "metadata": {
        "colab": {
          "base_uri": "https://localhost:8080/"
        },
        "id": "kla9dVXe5zK9",
        "outputId": "3adad7c8-835c-47dd-ee97-89605f6516bf"
      },
      "source": [
        "train['Weighted_amount'].unique()"
      ],
      "execution_count": 45,
      "outputs": [
        {
          "output_type": "execute_result",
          "data": {
            "text/plain": [
              "array(['2067263.7$', '240876.8$', '2407926.4$', ..., '1453372.8$',\n",
              "       '794720.5$', '1642281.45$'], dtype=object)"
            ]
          },
          "metadata": {
            "tags": []
          },
          "execution_count": 45
        }
      ]
    },
    {
      "cell_type": "code",
      "metadata": {
        "colab": {
          "base_uri": "https://localhost:8080/"
        },
        "id": "NtMc4kYR7QKb",
        "outputId": "9978e238-dba1-4762-fd50-466217226224"
      },
      "source": [
        "train['Resource'].unique()"
      ],
      "execution_count": 46,
      "outputs": [
        {
          "output_type": "execute_result",
          "data": {
            "text/plain": [
              "array([nan, 'No', 'We have all the requirements', 'Deliverable',\n",
              "       'Cannot deliver', 'Not enough', 'Yes'], dtype=object)"
            ]
          },
          "metadata": {
            "tags": []
          },
          "execution_count": 46
        }
      ]
    },
    {
      "cell_type": "code",
      "metadata": {
        "colab": {
          "base_uri": "https://localhost:8080/"
        },
        "id": "vB5lW6MT6SRV",
        "outputId": "62965f0e-8c16-405b-ae7a-d559354a12c4"
      },
      "source": [
        "fillNanValues(train, 'Resource', train['Resource'].mode()[0])\n",
        "fillNanValues(test, 'Resource', test['Resource'].mode()[0])\n",
        "print(train['Resource'].isna().any())#any returns boolean values\n",
        "print(test['Resource'].isna().any())"
      ],
      "execution_count": 47,
      "outputs": [
        {
          "output_type": "stream",
          "text": [
            "False\n",
            "False\n"
          ],
          "name": "stdout"
        }
      ]
    },
    {
      "cell_type": "code",
      "metadata": {
        "colab": {
          "base_uri": "https://localhost:8080/"
        },
        "id": "U0BQDwKE7vrx",
        "outputId": "7181fe28-d1b3-4df0-8e01-ad64045aaa03"
      },
      "source": [
        "train['Resource'].unique()"
      ],
      "execution_count": 48,
      "outputs": [
        {
          "output_type": "execute_result",
          "data": {
            "text/plain": [
              "array(['No', 'We have all the requirements', 'Deliverable',\n",
              "       'Cannot deliver', 'Not enough', 'Yes'], dtype=object)"
            ]
          },
          "metadata": {
            "tags": []
          },
          "execution_count": 48
        }
      ]
    },
    {
      "cell_type": "code",
      "metadata": {
        "colab": {
          "base_uri": "https://localhost:8080/"
        },
        "id": "KYtLXFmi8dHi",
        "outputId": "b96ea79b-e6c7-4599-bedd-a792d1df79b5"
      },
      "source": [
        "train['Deal_value'].unique()"
      ],
      "execution_count": 49,
      "outputs": [
        {
          "output_type": "execute_result",
          "data": {
            "text/plain": [
              "array(['320506$', '39488$', '359392$', ..., '253608$', '118615$',\n",
              "       '258627$'], dtype=object)"
            ]
          },
          "metadata": {
            "tags": []
          },
          "execution_count": 49
        }
      ]
    },
    {
      "cell_type": "code",
      "metadata": {
        "colab": {
          "base_uri": "https://localhost:8080/"
        },
        "id": "WhqdQ3V_9gFi",
        "outputId": "679374e5-45bd-41a0-d22d-bb7259b7e69e"
      },
      "source": [
        "fillNanValues(train, 'Deal_value', train['Deal_value'].mode()[0])\n",
        "fillNanValues(test, 'Deal_value', test['Deal_value'].mode()[0])\n",
        "print(train['Deal_value'].isna().any())#any returns boolean values\n",
        "print(test['Deal_value'].isna().any())"
      ],
      "execution_count": 50,
      "outputs": [
        {
          "output_type": "stream",
          "text": [
            "False\n",
            "False\n"
          ],
          "name": "stdout"
        }
      ]
    },
    {
      "cell_type": "code",
      "metadata": {
        "colab": {
          "base_uri": "https://localhost:8080/"
        },
        "id": "g4L2msUZ-VFi",
        "outputId": "0ab4da51-3d0c-4b85-9ba3-ae778f6f10e1"
      },
      "source": [
        "train['Location'].unique()"
      ],
      "execution_count": 51,
      "outputs": [
        {
          "output_type": "execute_result",
          "data": {
            "text/plain": [
              "array(['Killeen-Temple, TX', 'Ratlam', 'Albany-Schenectady-Troy, NY',\n",
              "       'Mount Vernon-Anacortes, WA', 'Shimoga', 'Bulandshahr',\n",
              "       'Salisbury, MD-DE', 'Jacksonville, FL',\n",
              "       'Seattle-Tacoma-Bellevue, WA', 'Clarksville, TN-KY',\n",
              "       'Oxnard-Thousand Oaks-Ventura, CA', 'Lafayette, LA',\n",
              "       'Danville, IL', 'Pilibhit', 'Nanded', 'Mobile, AL',\n",
              "       'Miami-Fort Lauderdale-West Palm Beach, FL', 'Columbus, IN',\n",
              "       'Vellore', 'Srinagar', 'Peoria, IL', 'Alipurduar', 'Bharauri',\n",
              "       'Ahmadnagar', 'Grand Junction, CO', 'Chirala', 'Bhubaneshwar',\n",
              "       'Chambersburg-Waynesboro, PA', 'Thanjavur', 'Bakshpur',\n",
              "       'Springfield, OH', 'Gaya', 'Puducherry', 'Chico, CA', 'Bellary',\n",
              "       'Monroe, MI', 'Winchester, VA-WV', 'Salinas, CA',\n",
              "       'Watertown-Fort Drum, NY', 'Providence-Warwick, RI-MA',\n",
              "       'Dibrugarh', 'Gadsden, AL', 'Tiruvannamalai', 'Dayton, OH',\n",
              "       'Ranchi', 'Lake Havasu City-Kingman, AZ',\n",
              "       'Lakeland-Winter Haven, FL', 'Reno, NV',\n",
              "       'Kingsport-Bristol-Bristol, TN-VA', 'Iowa City, IA',\n",
              "       'Sioux Falls, SD', 'Saharanpur', 'Shahbazpur', 'Rajkot', 'Dhanbad',\n",
              "       'Alappuzha', 'Flint, MI', 'Machilipatnam', 'Ludhiana',\n",
              "       'Charleston-North Charleston, SC', 'Lucknow', 'Dindigul', 'Bhuj',\n",
              "       'Tiruchchirappalli', 'Sacramento--Roseville--Arden-Arcade, CA',\n",
              "       'Williamsport, PA', 'Charlottesville, VA', 'Janesville-Beloit, WI',\n",
              "       'Saidapur', 'Bhagalpur', 'Ghandinagar', 'Bareilly',\n",
              "       'College Station-Bryan, TX', 'Diu', 'Lansing-East Lansing, MI',\n",
              "       'Billings, MT', 'Tonk', 'Abohar', 'Aligarh', 'Rome, GA',\n",
              "       'Muzaffarpur', 'Jefferson City, MO', 'Salem', 'Binghamton, NY',\n",
              "       'Jodhpur', 'Jorhat', 'Dothan, AL', 'Indore', 'Khammam',\n",
              "       'Scranton--Wilkes-Barre--Hazleton, PA', 'Green Bay, WI', 'Bhopal ',\n",
              "       'Sebring, FL', 'Bhavnagar', 'Birmingham-Hoover, AL', 'Davangere',\n",
              "       'Adilabad', 'Silvassa', 'Bharatpur',\n",
              "       'Burlington-South Burlington, VT',\n",
              "       'Greenville-Anderson-Mauldin, SC', 'Mahabubnagar',\n",
              "       'Tampa-St. Petersburg-Clearwater, FL', 'Kokomo, IN',\n",
              "       'Hattiesburg, MS', 'Vizianagaram', 'Haora', 'Tirupati', 'Nellore',\n",
              "       'Oklahoma City, OK', 'Hanford-Corcoran, CA', 'Bhilai',\n",
              "       'Cape Girardeau, MO-IL', 'Raipur', 'Panaji', 'Itanagar',\n",
              "       'Kankakee, IL', 'Ocala, FL', 'Chikka Mandya', 'Muzaffarnagar',\n",
              "       'Kota', 'Ahmedabad', 'Ajmer', 'Firozabad', 'Walla Walla, WA',\n",
              "       'Bikaner', 'Minneapolis-St. Paul-Bloomington, MN-WI', 'Yuma, AZ',\n",
              "       'Altoona, PA', 'Purnea', 'Huntsville, AL',\n",
              "       'Dallas-Fort Worth-Arlington, TX', 'Shiliguri', 'Enid, OK', 'Hata',\n",
              "       'Bengaluru', 'Vishakhapatnam',\n",
              "       'New York-Newark-Jersey City, NY-NJ-PA', 'Porbandar', 'Jammu',\n",
              "       'Pittsfield, MA', 'Battle Creek, MI',\n",
              "       'Huntington-Ashland, WV-KY-OH', 'Jhansi', 'Dalton, GA',\n",
              "       'Cleveland, TN', 'Hisar', 'Dubuque, IA', 'Panama City, FL',\n",
              "       'Fond du Lac, WI', 'Buffalo-Cheektowaga-Niagara Falls, NY',\n",
              "       'Nasik', 'Little Rock-North Little Rock-Conway, AR',\n",
              "       'Provo-Orem, UT', 'Fresno, CA', 'Guwahati', 'Hubli',\n",
              "       'Vallejo-Fairfield, CA', 'Gangtok', 'St. Joseph, MO-KS',\n",
              "       'Grand Rapids-Wyoming, MI', 'Shimla', 'San Diego-Carlsbad, CA',\n",
              "       'Kagaznagar', 'Charlotte-Concord-Gastonia, NC-SC',\n",
              "       'Detroit-Warren-Dearborn, MI', 'Chandigarh ', 'Lubbock, TX',\n",
              "       'Cape Coral-Fort Myers, FL', 'Casper, WY',\n",
              "       'Crestview-Fort Walton Beach-Destin, FL',\n",
              "       'Augusta-Richmond County, GA-SC', 'Gulbarga', \"Coeur d'Alene, ID\",\n",
              "       'Fargo, ND-MN', 'Sierra Vista-Douglas, AZ', 'Agartala', 'Parbhani',\n",
              "       'Terre Haute, IN', 'Pittsburgh, PA', 'Kavaratti', 'Gwalior',\n",
              "       'Philadelphia-Camden-Wilmington, PA-NJ-DE-MD', 'Amritsar',\n",
              "       'Urban Honolulu, HI', 'Valdosta, GA', 'Kollam', 'Tulsa, OK',\n",
              "       'Myrtle Beach-Conway-North Myrtle Beach, SC-NC', 'Sirsa',\n",
              "       'Parkersburg-Vienna, WV', 'Haripur', 'Wichita, KS',\n",
              "       'Utica-Rome, NY', 'Cedar Rapids, IA', 'Sioux City, IA-NE-SD',\n",
              "       'Durham-Chapel Hill, NC', 'Jamshedpur', 'Krishnanagar',\n",
              "       'Olympia-Tumwater, WA', 'Norwich-New London, CT',\n",
              "       'Portland-Vancouver-Hillsboro, OR-WA', 'Waco, TX', 'Hapur',\n",
              "       'Dispur', 'Michigan City-La Porte, IN', 'Prescott, AZ',\n",
              "       'Burlington, NC', 'Agra', 'Athens-Clarke County, GA', 'Kochi',\n",
              "       'Portland-South Portland, ME', 'Krishnapuram', 'San Angelo, TX',\n",
              "       'Patiala', 'New Orleans-Metairie, LA', 'Alexandria, LA',\n",
              "       'The Villages, FL', 'Silchar', 'Sonipat', 'Springfield, MA',\n",
              "       'Proddatur', 'Madurai', 'Bridgeport-Stamford-Norwalk, CT',\n",
              "       'East Stroudsburg, PA', 'Spartanburg, SC', 'Kolkata ', 'Patna',\n",
              "       'Akola', 'Auburn-Opelika, AL', 'Pathankot', 'Kumbakonam',\n",
              "       'Tallahassee, FL', 'Puri', 'Springfield, MO', 'Tharati Etawah',\n",
              "       'Rajapalaiyam', 'Montgomery, AL', 'Talcher', 'Fort Collins, CO',\n",
              "       'Gainesville, FL', 'Trenton, NJ', 'Bhilwara', 'Madera, CA',\n",
              "       'Hilton Head Island-Bluffton-Beaufort, SC', 'Albuquerque, NM',\n",
              "       'Bhiwani', 'Worcester, MA-CT', 'Kurnool', 'Modesto, CA',\n",
              "       'Aurangabad', 'Milwaukee-Waukesha-West Allis, WI', 'Allahabad',\n",
              "       'Fort Smith, AR-OK', 'Kohima', 'Bhusaval',\n",
              "       'Niles-Benton Harbor, MI', 'Louisville/Jefferson County, KY-IN',\n",
              "       'Abilene, TX', 'Kansas City, MO-KS', 'Yakima, WA', 'Reading, PA',\n",
              "       'Columbus, GA-AL', 'Rohtak', 'Kolar',\n",
              "       'South Bend-Mishawaka, IN-MI',\n",
              "       'Fayetteville-Springdale-Rogers, AR-MO', 'Pali',\n",
              "       'Phoenix-Mesa-Scottsdale, AZ', 'Nagercoil', 'Brajrajnagar',\n",
              "       'Warner Robins, GA', 'Bhatpara',\n",
              "       'Davenport-Moline-Rock Island, IA-IL',\n",
              "       'Des Moines-West Des Moines, IA', 'Sangli', 'Evansville, IN-KY',\n",
              "       'Omaha-Council Bluffs, NE-IA', 'Odessa, TX',\n",
              "       'Shreveport-Bossier City, LA', 'Cuttack', 'Faridabad',\n",
              "       'Barnstable Town, MA', 'Allentown-Bethlehem-Easton, PA-NJ',\n",
              "       'Karnal', 'Imphal', 'New Delhi', 'Albany, OR', 'Idaho Falls, ID',\n",
              "       'Ogden-Clearfield, UT', 'Lynchburg, VA',\n",
              "       'Daphne-Fairhope-Foley, AL', 'Gurugram', 'Johnstown, PA',\n",
              "       'Medford, OR', 'Tezpur', 'Cleveland-Elyria, OH',\n",
              "       'Sherman-Denison, TX', 'Hyderabad', 'Gopalpur', 'Longview, WA',\n",
              "       'Mirzapur', 'Fort Wayne, IN', 'St. Cloud, MN', 'Malegaon Camp',\n",
              "       'Palm Bay-Melbourne-Titusville, FL',\n",
              "       'Youngstown-Warren-Boardman, OH-PA', 'Khanapur', 'Samlaipadar',\n",
              "       'Jackson, MS', 'Corpus Christi, TX',\n",
              "       'Anniston-Oxford-Jacksonville, AL', 'Roanoke, VA',\n",
              "       'Rocky Mount, NC', 'Panchkula', 'Port St. Lucie, FL', 'Bilaspur',\n",
              "       'Barddhaman', 'Delhi', 'Akron, OH', 'Elkhart-Goshen, IN',\n",
              "       'Nandyal', 'Great Falls, MT', 'Yuba City, CA', 'Jorapokhar',\n",
              "       'Alwar', 'Vadodara', 'Navsari', 'Bend-Redmond, OR',\n",
              "       'Asheville, NC', 'Atlanta-Sandy Springs-Roswell, GA',\n",
              "       'U.S. metropolitan areas', 'Kalyan', 'Mangalore',\n",
              "       'Gulfport-Biloxi-Pascagoula, MS', 'Pine Bluff, AR', 'Bhiwandi',\n",
              "       'Wenatchee, WA', 'Florence, SC', 'Duluth, MN-WI',\n",
              "       'Kennewick-Richland, WA', 'Hinesville, GA', 'Ujjain',\n",
              "       'Pensacola-Ferry Pass-Brent, FL', 'Baramula', 'Lake Charles, LA',\n",
              "       'Valparai', 'Jaipur', 'San Francisco-Oakland-Hayward, CA',\n",
              "       'Wichita Falls, TX', 'Florence-Muscle Shoals, AL', 'Mumbai',\n",
              "       'Sheboygan, WI', 'Jacksonville, NC', 'Bloomington, IL',\n",
              "       'Amarillo, TX', 'Pune', 'Madison, WI', 'Lewiston, ID-WA',\n",
              "       'El Centro, CA', 'Ann Arbor, MI', 'Ambala', nan, 'Haldia',\n",
              "       'McAllen-Edinburg-Mission, TX', 'Rapid City, SD', 'Midland, TX',\n",
              "       'Bremerton-Silverdale, WA', 'Kakinada', 'Toledo, OH', 'Bangor, ME',\n",
              "       'Anchorage, AK', 'La Crosse-Onalaska, WI-MN',\n",
              "       'Houston-The Woodlands-Sugar Land, TX', 'Rajahmundry',\n",
              "       'Brownsville-Harlingen, TX',\n",
              "       'Hartford-West Hartford-East Hartford, CT', 'Aizawl  ',\n",
              "       'Boise City, ID', 'Hindupur', 'Memphis, TN-MS-AR',\n",
              "       'Grand Island, NE', 'Gainesville, GA', 'Appleton, WI', 'Guntur',\n",
              "       'Los Angeles-Long Beach-Anaheim, CA', 'Tuscaloosa, AL', 'Napa, CA',\n",
              "       'Lewiston-Auburn, ME', 'Logan, UT-ID', 'Mankato-North Mankato, MN',\n",
              "       'Rochester, NY', 'Syracuse, NY', 'Chanda', 'Karimnagar',\n",
              "       'Greenville, NC', 'Macon, GA', 'Corvallis, OR', 'Nizamabad',\n",
              "       'Calicut', 'Staunton-Waynesboro, VA', 'Kingston, NY', 'Tyler, TX',\n",
              "       'Rampura', 'Lincoln, NE', 'Albany, GA',\n",
              "       'Naples-Immokalee-Marco Island, FL', 'Saidpur', 'Texarkana, TX-AR',\n",
              "       'Cuddalore', 'Lawrence, KS', 'Wausau, WI', 'Fairbanks, AK',\n",
              "       'Ramagundam', 'Denver-Aurora-Lakewood, CO', 'Jackson, TN',\n",
              "       'Winston-Salem, NC', 'Thiruvananthapuram', 'Knoxville, TN',\n",
              "       'Grand Forks, ND-MN', 'Decatur, IL', 'Decatur, AL', 'Brahmapur',\n",
              "       'St. George, UT', 'Raleigh, NC',\n",
              "       'Source: U.S. Bureau of Economic Analysis', 'Meerut', 'Monroe, LA',\n",
              "       'Ames, IA', 'Kalamazoo-Portage, MI', 'Ghaziabad', 'Bellingham, WA',\n",
              "       'Virginia Beach-Norfolk-Newport News, VA-NC',\n",
              "       'Kahului-Wailuku-Lahaina, HI', 'Coimbatore',\n",
              "       'San Jose-Sunnyvale-Santa Clara, CA', 'Longview, TX', 'Belgaum',\n",
              "       'Grants Pass, OR', 'Washington-Arlington-Alexandria, DC-VA-MD-WV',\n",
              "       'Riverside-San Bernardino-Ontario, CA', 'Lancaster, PA',\n",
              "       'State College, PA', 'Cumberland, MD-WV',\n",
              "       'Hickory-Lenoir-Morganton, NC', 'Harrisburg-Carlisle, PA',\n",
              "       'Mansfield, OH', 'Chennai', 'Ithaca, NY', 'Moradabad',\n",
              "       'Farmington, NM', 'Greeley, CO', 'Santa Maria-Santa Barbara, CA',\n",
              "       'Chattanooga, TN-GA', 'Dover, DE', 'Panipat', 'Oshkosh-Neenah, WI',\n",
              "       'Columbia, SC', 'Morgantown, WV', 'Surat',\n",
              "       'Waterloo-Cedar Falls, IA', 'Austin-Round Rock, TX', 'Latur',\n",
              "       'Elmira, NY', 'Baton Rouge, LA',\n",
              "       'Blacksburg-Christiansburg-Radford, VA', 'Asansol',\n",
              "       'Indianapolis-Carmel-Anderson, IN', 'Elizabethtown-Fort Knox, KY',\n",
              "       'Mathura', 'Kolhapur', 'Harrisonburg, VA', 'Bijapur', 'Bidar',\n",
              "       'New Bern, NC', 'Punta Gorda, FL', 'Tuticorin', 'Wilmington, NC',\n",
              "       'St. Louis, MO-IL', 'Raichur', 'El Paso, TX', 'Johnson City, TN',\n",
              "       'Bamanpuri', 'Lima, OH', 'Tucson, AZ', 'Laredo, TX',\n",
              "       'Missoula, MT', 'New Haven-Milford, CT', 'Topeka, KS',\n",
              "       'Pueblo, CO', 'Muskegon, MI', 'Tirunelveli',\n",
              "       '* Advance statistics', 'Visalia-Porterville, CA', 'Jabalpur',\n",
              "       'Atlantic City-Hammonton, NJ', 'Goldsboro, NC',\n",
              "       'Beaumont-Port Arthur, TX', 'Wheeling, WV-OH', 'Muncie, IN',\n",
              "       'Saugor', 'Carson City, NV', 'Eugene, OR', 'Amaravati',\n",
              "       'Columbus, OH', 'Shillong ', 'Spokane-Spokane Valley, WA',\n",
              "       'Budaun', 'Santa Rosa, CA', 'Owensboro, KY', 'Mysore',\n",
              "       'Lafayette-West Lafayette, IN', 'Karur', 'Lebanon, PA',\n",
              "       'Boston-Cambridge-Newton, MA-NH', 'Santa Fe, NM', 'Fyzabad',\n",
              "       'Manchester-Nashua, NH', 'Vineland-Bridgeton, NJ', 'Saginaw, MI',\n",
              "       'Deltona-Daytona Beach-Ormond Beach, FL',\n",
              "       'Greensboro-High Point, NC', 'Warangal', 'Brunswick, GA',\n",
              "       'Springfield, IL', 'Rockford, IL', 'Merced, CA', 'Morristown, TN',\n",
              "       'Midland, MI', 'San Antonio-New Braunfels, TX', 'Victoria, TX',\n",
              "       'Charleston, WV', 'Sebastian-Vero Beach, FL', 'Boulder, CO',\n",
              "       'Bloomsburg-Berwick, PA', 'Bloomington, IN', 'Glens Falls, NY',\n",
              "       'Cheyenne, WY', 'Cincinnati, OH-KY-IN', 'Colorado Springs, CO',\n",
              "       'Las Cruces, NM', 'Port Blair', 'Daman', 'Salt Lake City, UT',\n",
              "       'Varanasi', 'Las Vegas-Henderson-Paradise, NV',\n",
              "       'California-Lexington Park, MD', 'Carbondale-Marion, IL',\n",
              "       'Lawton, OK', 'Bismarck, ND', 'Homosassa Springs, FL',\n",
              "       'Champaign-Urbana, IL', 'Santa Cruz-Watsonville, CA',\n",
              "       'Houma-Thibodaux, LA', 'Savannah, GA',\n",
              "       'Orlando-Kissimmee-Sanford, FL', 'Canton-Massillon, OH',\n",
              "       'Rochester, MN', 'Hammond, LA', 'Sikar', 'Pocatello, ID',\n",
              "       'Joplin, MO', 'Hospet',\n",
              "       'San Luis Obispo-Paso Robles-Arroyo Grande, CA',\n",
              "       'Lexington-Fayette, KY', 'DehraDun', 'Erie, PA', 'Flagstaff, AZ',\n",
              "       'Sumter, SC', 'Raurkela', 'Weirton-Steubenville, WV-OH',\n",
              "       'Fayetteville, NC', 'Ocean City, NJ', 'Redding, CA',\n",
              "       'York-Hanover, PA',\n",
              "       'Nashville-Davidson--Murfreesboro--Franklin, TN', 'Udaipur',\n",
              "       'Stockton-Lodi, CA', 'Chicago-Naperville-Elgin, IL-IN-WI',\n",
              "       'Ongole', 'Salem, OR', 'Eau Claire, WI', 'Bay City, MI',\n",
              "       'Nalgonda', 'Gettysburg, PA', 'Jonesboro, AR', 'Hot Springs, AR',\n",
              "       'Columbia, MO', 'Hagerstown-Martinsburg, MD-WV',\n",
              "       'Baltimore-Columbia-Towson, MD', 'Racine, WI',\n",
              "       'North Port-Sarasota-Bradenton, FL', 'Richmond, VA',\n",
              "       'Bowling Green, KY', 'Beckley, WV', 'Bakersfield, CA',\n",
              "       'Manhattan, KS', 'Jackson, MI'], dtype=object)"
            ]
          },
          "metadata": {
            "tags": []
          },
          "execution_count": 51
        }
      ]
    },
    {
      "cell_type": "code",
      "metadata": {
        "colab": {
          "base_uri": "https://localhost:8080/"
        },
        "id": "KsOkoo4U-k5c",
        "outputId": "f6759f89-2bf9-43e2-9d3e-3a45ef650d33"
      },
      "source": [
        "fillNanValues(train, 'Location', train['Location'].mode()[0])\n",
        "fillNanValues(test, 'Location', test['Location'].mode()[0])\n",
        "print(train['Location'].isna().any())#any returns boolean values\n",
        "print(test['Location'].isna().any())"
      ],
      "execution_count": 52,
      "outputs": [
        {
          "output_type": "stream",
          "text": [
            "False\n",
            "False\n"
          ],
          "name": "stdout"
        }
      ]
    },
    {
      "cell_type": "code",
      "metadata": {
        "colab": {
          "base_uri": "https://localhost:8080/"
        },
        "id": "J7nRwzEH_EkL",
        "outputId": "33a9a7eb-9c5e-473b-fef9-e3c1fe620d85"
      },
      "source": [
        "train['POC_name'].unique()"
      ],
      "execution_count": 53,
      "outputs": [
        {
          "output_type": "execute_result",
          "data": {
            "text/plain": [
              "array(['Charlene Werner', 'rakhi', 'Ariel Hamilton', ...,\n",
              "       'Nicholas Duncan', 'Wayne Williams', 'Carol Strickland'],\n",
              "      dtype=object)"
            ]
          },
          "metadata": {
            "tags": []
          },
          "execution_count": 53
        }
      ]
    },
    {
      "cell_type": "code",
      "metadata": {
        "colab": {
          "base_uri": "https://localhost:8080/"
        },
        "id": "yGBEohER_TuW",
        "outputId": "fa52e331-784a-4876-978f-65b502e7f2a1"
      },
      "source": [
        "fillNanValues(train, 'POC_name', train['POC_name'].mode()[0])\n",
        "fillNanValues(test, 'POC_name', test['POC_name'].mode()[0])\n",
        "print(train['POC_name'].isna().any())#any returns boolean values\n",
        "print(test['POC_name'].isna().any())"
      ],
      "execution_count": 54,
      "outputs": [
        {
          "output_type": "stream",
          "text": [
            "False\n",
            "False\n"
          ],
          "name": "stdout"
        }
      ]
    },
    {
      "cell_type": "code",
      "metadata": {
        "colab": {
          "base_uri": "https://localhost:8080/"
        },
        "id": "aw04OHjq_fek",
        "outputId": "47ebadcc-36f7-4e8c-cf04-f8ece54259b2"
      },
      "source": [
        "train['Industry'].unique()"
      ],
      "execution_count": 55,
      "outputs": [
        {
          "output_type": "execute_result",
          "data": {
            "text/plain": [
              "array(['Restaurants', 'Construction Services', 'Hospitals/Clinics',\n",
              "       'Real Estate', 'Financial Services', 'Banks',\n",
              "       'Architecture/Engineering', 'Education/Training', 'REIT',\n",
              "       'Healthcare Facilities/Services', 'Hotels/Motels',\n",
              "       'Biotech/Healthcare', 'Services', 'Other Investment Firms',\n",
              "       'Software', 'Other Biz Services', 'Materials/Manufacturing',\n",
              "       'Other', 'Trucking', 'Automotive/Transportation',\n",
              "       'Constr - Supplies', 'Casinos/Gaming', 'Food Processing',\n",
              "       'BioTech/Drugs', 'Investment Bank/Brokerage',\n",
              "       'Technology Consulting', 'Grocery', 'Online Banking', 'Staffing',\n",
              "       'Associations', 'Consumer Products', 'Professional Services',\n",
              "       'Insurance', 'Beverages (Non-Alcoholic)', 'Non-Profit',\n",
              "       'Internet Software', 'Software Consulting', 'Energy',\n",
              "       'Furniture/Fixtures', 'Recreational Products',\n",
              "       'Chemical Manufacturing', 'Personal Services', 'Training',\n",
              "       'Health/Accident', 'Marketing/Advertising', 'Telecom Hardware',\n",
              "       'Gold/Silver', 'Semiconductors', 'Other Consulting',\n",
              "       'Oil, Gas, Coal', 'Aerospace/Defense', 'Social Services',\n",
              "       'Information Services', 'Telecom Consulting', 'Machine Tools',\n",
              "       'Iron/Steel', 'Industrial Equip', 'Wireless Consulting',\n",
              "       'Service Providers', 'Lending/Mortgage', 'Fabricated Products',\n",
              "       'Advertising/PR', 'Wood/Paper', 'Networking/Comm.',\n",
              "       'Electric Utilities', 'eCommerce', 'Office Supplies',\n",
              "       'Photography', 'eBusiness', 'Conglomerates', 'Electronics',\n",
              "       'Apparel Retail', 'Metals/Mining', 'Finance', 'Life', 'Specialty',\n",
              "       'Alternative', 'Apparel Products', 'Water Utilities',\n",
              "       'Recreational Services', 'MSPs (Mgmt)', 'Medical Equipment',\n",
              "       'Catalog/MailOrder', 'Retail', 'Department/Discount',\n",
              "       'Entertainment/Media', 'B2B eCommerce', 'Plumbing/HVAC',\n",
              "       'Property/Casualty', 'Venture Capital', 'WSPs (Wireless)',\n",
              "       'Sales/Marketing Services', 'Auto Manufacturers', 'Plastic/Rubber',\n",
              "       'Auto Parts/Services', 'Legal', 'Religious Groups', 'Web',\n",
              "       'Peripherals/Comp.', 'Finance Software', 'BSPs (Broadband)',\n",
              "       'Outsourcing', 'Shipping', 'Personal/Household Products',\n",
              "       'Home Improvement', 'Waste/Recycling', 'Government', 'Periodicals',\n",
              "       'Scientific', 'Computer Hardware', 'Constr/Agric Machinery',\n",
              "       'SaaS', 'Staffing/Outsourcing/HR', 'Television/Cable',\n",
              "       'Warehousing/Logistics', 'Network Infrastructure', 'Schools',\n",
              "       'Rentals/Leasing', 'Wood/Timber', 'Movies', 'Testing',\n",
              "       'Human Resources', 'Packaging/Containers', 'Publishing',\n",
              "       'Printing Services', 'Vitamins/Nutritionals/Other', 'Utilities',\n",
              "       'Wireless Hardware', 'Supply Chain', 'Beverages (Alcoholic)',\n",
              "       'Security Software', 'OSPs (Optical)', 'Technology Retail',\n",
              "       'Hardware Consulting', 'Concrete/Cement', 'Music',\n",
              "       'Internet Consulting', 'Telecom Services/Telephone Companies',\n",
              "       'Airlines/Air Couriers', 'Satellite/RF/Micro',\n",
              "       'Construction/Agriculture', 'Aircraft Parts',\n",
              "       'Leisure/Hospitality', 'Servers/Storage', 'Trucks/Buses/RVs',\n",
              "       'Security Hardware', 'Accounting', 'Natural Gas',\n",
              "       'Multimedia Software', 'Security Services', 'Railroads',\n",
              "       'Other Vehicles', 'Wireless Software Networking',\n",
              "       'Sales/Marketing Software', 'Database', 'Office Equipment',\n",
              "       'Enterprise', 'ISPs', 'Internet', 'eMail/Messaging',\n",
              "       'Speech Recognition', 'Radio', 'Appliances/Tools',\n",
              "       'Telecom Software', 'Book', nan, 'Other Biz Products', 'ERP',\n",
              "       'Newspapers', 'Auto Dealers', 'Multimedia Hardware',\n",
              "       'Web Development'], dtype=object)"
            ]
          },
          "metadata": {
            "tags": []
          },
          "execution_count": 55
        }
      ]
    },
    {
      "cell_type": "code",
      "metadata": {
        "colab": {
          "base_uri": "https://localhost:8080/"
        },
        "id": "yprxY4FS_oi0",
        "outputId": "481990be-f0d6-42bd-95e4-36ed6f31b6f4"
      },
      "source": [
        "fillNanValues(train, 'Industry', train['Industry'].mode()[0])\n",
        "fillNanValues(test, 'Industry', test['Industry'].mode()[0])\n",
        "print(train['Industry'].isna().any())#any returns boolean values\n",
        "print(test['Industry'].isna().any())"
      ],
      "execution_count": 56,
      "outputs": [
        {
          "output_type": "stream",
          "text": [
            "False\n",
            "False\n"
          ],
          "name": "stdout"
        }
      ]
    },
    {
      "cell_type": "code",
      "metadata": {
        "colab": {
          "base_uri": "https://localhost:8080/"
        },
        "id": "2xZK7CusBLq1",
        "outputId": "81568ece-849f-473f-c0f3-b57327ca6a9e"
      },
      "source": [
        "train['Last_lead_update'].value_counts()"
      ],
      "execution_count": 57,
      "outputs": [
        {
          "output_type": "execute_result",
          "data": {
            "text/plain": [
              "Following up but lead not responding    1260\n",
              "Up-to-date                               623\n",
              "more than a month                        605\n",
              "No track                                 601\n",
              "?                                        585\n",
              "5 days back                              564\n",
              "2 days back                              559\n",
              "More than 2 weeks                        556\n",
              "More than a week back                    554\n",
              "Did not hear back after Level 1          553\n",
              "Pending                                  547\n",
              "Name: Last_lead_update, dtype: int64"
            ]
          },
          "metadata": {
            "tags": []
          },
          "execution_count": 57
        }
      ]
    },
    {
      "cell_type": "code",
      "metadata": {
        "colab": {
          "base_uri": "https://localhost:8080/"
        },
        "id": "6GmtKTYwAFqR",
        "outputId": "a92120d0-22e3-4aaa-f068-5998b6230455"
      },
      "source": [
        "# setting missing values to most occurring values\n",
        "train['Last_lead_update'] = train['Last_lead_update'].apply(lambda x:'No track' if x == '?' else x)\n",
        "test['Last_lead_update'] = test['Last_lead_update'].apply(lambda x:'No track' if x == '?' else x)\n",
        "train['Last_lead_update'].unique()"
      ],
      "execution_count": 58,
      "outputs": [
        {
          "output_type": "execute_result",
          "data": {
            "text/plain": [
              "array(['No track', 'Did not hear back after Level 1', 'Up-to-date',\n",
              "       '2 days back', 'More than 2 weeks', '5 days back',\n",
              "       'more than a month', 'Following up but lead not responding',\n",
              "       'More than a week back', 'Pending'], dtype=object)"
            ]
          },
          "metadata": {
            "tags": []
          },
          "execution_count": 58
        }
      ]
    },
    {
      "cell_type": "code",
      "metadata": {
        "colab": {
          "base_uri": "https://localhost:8080/"
        },
        "id": "5poSvC2vByNu",
        "outputId": "7730ca02-39b8-446e-f2ef-80e145669a4e"
      },
      "source": [
        "train['Last_lead_update'].value_counts()"
      ],
      "execution_count": 59,
      "outputs": [
        {
          "output_type": "execute_result",
          "data": {
            "text/plain": [
              "Following up but lead not responding    1260\n",
              "No track                                1186\n",
              "Up-to-date                               623\n",
              "more than a month                        605\n",
              "5 days back                              564\n",
              "2 days back                              559\n",
              "More than 2 weeks                        556\n",
              "More than a week back                    554\n",
              "Did not hear back after Level 1          553\n",
              "Pending                                  547\n",
              "Name: Last_lead_update, dtype: int64"
            ]
          },
          "metadata": {
            "tags": []
          },
          "execution_count": 59
        }
      ]
    },
    {
      "cell_type": "code",
      "metadata": {
        "colab": {
          "base_uri": "https://localhost:8080/",
          "height": 383
        },
        "id": "1lnU6N_8B0sw",
        "outputId": "0722aee1-75db-4ba4-b144-fd87bb82dd3e"
      },
      "source": [
        "train[:5]"
      ],
      "execution_count": 60,
      "outputs": [
        {
          "output_type": "execute_result",
          "data": {
            "text/html": [
              "<div>\n",
              "<style scoped>\n",
              "    .dataframe tbody tr th:only-of-type {\n",
              "        vertical-align: middle;\n",
              "    }\n",
              "\n",
              "    .dataframe tbody tr th {\n",
              "        vertical-align: top;\n",
              "    }\n",
              "\n",
              "    .dataframe thead th {\n",
              "        text-align: right;\n",
              "    }\n",
              "</style>\n",
              "<table border=\"1\" class=\"dataframe\">\n",
              "  <thead>\n",
              "    <tr style=\"text-align: right;\">\n",
              "      <th></th>\n",
              "      <th>Lead_name</th>\n",
              "      <th>Industry</th>\n",
              "      <th>Deal_value</th>\n",
              "      <th>Weighted_amount</th>\n",
              "      <th>Date_of_creation</th>\n",
              "      <th>Pitch</th>\n",
              "      <th>Contact_no</th>\n",
              "      <th>Lead_revenue</th>\n",
              "      <th>Fund_category</th>\n",
              "      <th>Geography</th>\n",
              "      <th>Location</th>\n",
              "      <th>POC_name</th>\n",
              "      <th>Designation</th>\n",
              "      <th>Lead_POC_email</th>\n",
              "      <th>Hiring_candidate_role</th>\n",
              "      <th>Lead_source</th>\n",
              "      <th>Level_of_meeting</th>\n",
              "      <th>Last_lead_update</th>\n",
              "      <th>Internal_POC</th>\n",
              "      <th>Resource</th>\n",
              "      <th>Internal_rating</th>\n",
              "      <th>Success_probability</th>\n",
              "    </tr>\n",
              "  </thead>\n",
              "  <tbody>\n",
              "    <tr>\n",
              "      <th>0</th>\n",
              "      <td>Davis, Perkins and Bishop Inc</td>\n",
              "      <td>Restaurants</td>\n",
              "      <td>320506$</td>\n",
              "      <td>2067263.7$</td>\n",
              "      <td>2020-03-29</td>\n",
              "      <td>Product_2</td>\n",
              "      <td>607.447.7883</td>\n",
              "      <td>50 - 100 Million</td>\n",
              "      <td>Category 2</td>\n",
              "      <td>USA</td>\n",
              "      <td>Killeen-Temple, TX</td>\n",
              "      <td>Charlene Werner</td>\n",
              "      <td>Executive Vice President</td>\n",
              "      <td>charlenewerner@davis.com</td>\n",
              "      <td>Community pharmacist</td>\n",
              "      <td>Website</td>\n",
              "      <td>Level 3</td>\n",
              "      <td>No track</td>\n",
              "      <td>Davis,Sharrice A</td>\n",
              "      <td>No</td>\n",
              "      <td>3</td>\n",
              "      <td>73.6</td>\n",
              "    </tr>\n",
              "    <tr>\n",
              "      <th>1</th>\n",
              "      <td>Bender PLC LLC</td>\n",
              "      <td>Construction Services</td>\n",
              "      <td>39488$</td>\n",
              "      <td>240876.8$</td>\n",
              "      <td>2019-07-10</td>\n",
              "      <td>Product_2</td>\n",
              "      <td>892-938-9493</td>\n",
              "      <td>500 Million - 1 Billion</td>\n",
              "      <td>Category 4</td>\n",
              "      <td>India</td>\n",
              "      <td>Ratlam</td>\n",
              "      <td>rakhi</td>\n",
              "      <td>Chairman/CEO/President</td>\n",
              "      <td>terrylogan@bender.com</td>\n",
              "      <td>Recruitment consultant</td>\n",
              "      <td>Others</td>\n",
              "      <td>Level 1</td>\n",
              "      <td>Did not hear back after Level 1</td>\n",
              "      <td>Brown,Maxine A</td>\n",
              "      <td>No</td>\n",
              "      <td>5</td>\n",
              "      <td>58.9</td>\n",
              "    </tr>\n",
              "    <tr>\n",
              "      <th>2</th>\n",
              "      <td>Carter-Henry and Sons</td>\n",
              "      <td>Hospitals/Clinics</td>\n",
              "      <td>359392$</td>\n",
              "      <td>2407926.4$</td>\n",
              "      <td>2019-07-27</td>\n",
              "      <td>Product_1</td>\n",
              "      <td>538.748.2271</td>\n",
              "      <td>500 Million - 1 Billion</td>\n",
              "      <td>Category 4</td>\n",
              "      <td>USA</td>\n",
              "      <td>Albany-Schenectady-Troy, NY</td>\n",
              "      <td>Ariel Hamilton</td>\n",
              "      <td>SVP/General Counsel</td>\n",
              "      <td>arielhamilton@carterhenry.com</td>\n",
              "      <td>Health service manager</td>\n",
              "      <td>Marketing Event</td>\n",
              "      <td>Level 1</td>\n",
              "      <td>No track</td>\n",
              "      <td>Georgakopoulos,Vasilios T</td>\n",
              "      <td>No</td>\n",
              "      <td>4</td>\n",
              "      <td>68.8</td>\n",
              "    </tr>\n",
              "    <tr>\n",
              "      <th>3</th>\n",
              "      <td>Garcia Ltd Ltd</td>\n",
              "      <td>Real Estate</td>\n",
              "      <td>76774$</td>\n",
              "      <td>468321.4$</td>\n",
              "      <td>2021-01-30</td>\n",
              "      <td>Product_2</td>\n",
              "      <td>(692)052-1389x75188</td>\n",
              "      <td>500 Million - 1 Billion</td>\n",
              "      <td>Category 3</td>\n",
              "      <td>USA</td>\n",
              "      <td>Mount Vernon-Anacortes, WA</td>\n",
              "      <td>Erin Wilson</td>\n",
              "      <td>CEO/Co-Founder/Chairman</td>\n",
              "      <td>erinwilson@garcia.com</td>\n",
              "      <td>Therapist, speech and language</td>\n",
              "      <td>Contact Email</td>\n",
              "      <td>Level 2</td>\n",
              "      <td>Did not hear back after Level 1</td>\n",
              "      <td>Brown,Maxine A</td>\n",
              "      <td>We have all the requirements</td>\n",
              "      <td>1</td>\n",
              "      <td>64.5</td>\n",
              "    </tr>\n",
              "    <tr>\n",
              "      <th>4</th>\n",
              "      <td>Lee and Sons PLC</td>\n",
              "      <td>Financial Services</td>\n",
              "      <td>483896$</td>\n",
              "      <td>2590876.2$</td>\n",
              "      <td>2019-05-22</td>\n",
              "      <td>Product_2</td>\n",
              "      <td>001-878-814-6134x015</td>\n",
              "      <td>50 - 100 Million</td>\n",
              "      <td>Category 3</td>\n",
              "      <td>India</td>\n",
              "      <td>Shimoga</td>\n",
              "      <td>kavita</td>\n",
              "      <td>Executive Vice President</td>\n",
              "      <td>mr.christopher@lee.com</td>\n",
              "      <td>Media planner</td>\n",
              "      <td>Website</td>\n",
              "      <td>Level 2</td>\n",
              "      <td>Up-to-date</td>\n",
              "      <td>Thomas,Lori E</td>\n",
              "      <td>No</td>\n",
              "      <td>4</td>\n",
              "      <td>62.4</td>\n",
              "    </tr>\n",
              "  </tbody>\n",
              "</table>\n",
              "</div>"
            ],
            "text/plain": [
              "                       Lead_name  ... Success_probability\n",
              "0  Davis, Perkins and Bishop Inc  ...                73.6\n",
              "1                 Bender PLC LLC  ...                58.9\n",
              "2          Carter-Henry and Sons  ...                68.8\n",
              "3                 Garcia Ltd Ltd  ...                64.5\n",
              "4               Lee and Sons PLC  ...                62.4\n",
              "\n",
              "[5 rows x 22 columns]"
            ]
          },
          "metadata": {
            "tags": []
          },
          "execution_count": 60
        }
      ]
    },
    {
      "cell_type": "code",
      "metadata": {
        "id": "_7k5T1U0PuGU"
      },
      "source": [
        "train['Date_of_creation'] = pd.to_datetime(train['Date_of_creation'])\n",
        "test['Date_of_creation'] = pd.to_datetime(test['Date_of_creation'])"
      ],
      "execution_count": 61,
      "outputs": []
    },
    {
      "cell_type": "code",
      "metadata": {
        "colab": {
          "base_uri": "https://localhost:8080/"
        },
        "id": "nYTpr8b0QEXG",
        "outputId": "5d5cace4-3fa3-437c-8209-436cbf21631f"
      },
      "source": [
        "train['Date_of_creation'].dtypes"
      ],
      "execution_count": 62,
      "outputs": [
        {
          "output_type": "execute_result",
          "data": {
            "text/plain": [
              "dtype('<M8[ns]')"
            ]
          },
          "metadata": {
            "tags": []
          },
          "execution_count": 62
        }
      ]
    },
    {
      "cell_type": "code",
      "metadata": {
        "id": "wOVUjQW6Svo2"
      },
      "source": [
        "#train['Deal_value'] = train['Deal_value'].replace({'\\$':''}, regex = True).astype(str)\n",
        "cols = ['Deal_value']\n",
        "for col in cols:\n",
        "    train[col] = train[col].map(lambda x: str(x).rstrip('$')).astype(float)\n",
        "    test[col] = test[col].map(lambda x: str(x).rstrip('$')).astype(float)\n"
      ],
      "execution_count": 63,
      "outputs": []
    },
    {
      "cell_type": "code",
      "metadata": {
        "id": "12dyiQzyRNWL"
      },
      "source": [
        "train['Deal_value'] = pd.to_numeric(train['Deal_value'])\n",
        "test['Deal_value'] = pd.to_numeric(test['Deal_value'])"
      ],
      "execution_count": 64,
      "outputs": []
    },
    {
      "cell_type": "code",
      "metadata": {
        "id": "G_yYcwINXAuz"
      },
      "source": [
        "#for col in cols:\n",
        "#    df[col] = df[col].map(lambda x: str(x).lstrip('*').rstrip('*')).astype(float)\n",
        "cols = ['Weighted_amount']\n",
        "for col in cols:\n",
        "    train[col] = train[col].map(lambda x: str(x).rstrip('$')).astype(float)\n",
        "    test[col] = test[col].map(lambda x: str(x).rstrip('$')).astype(float)\n"
      ],
      "execution_count": 65,
      "outputs": []
    },
    {
      "cell_type": "code",
      "metadata": {
        "id": "tyzv-45rXAkH"
      },
      "source": [
        "train['Weighted_amount'] = pd.to_numeric(train['Weighted_amount'])\n",
        "test['Weighted_amount'] = pd.to_numeric(test['Weighted_amount'])"
      ],
      "execution_count": 66,
      "outputs": []
    },
    {
      "cell_type": "code",
      "metadata": {
        "colab": {
          "base_uri": "https://localhost:8080/",
          "height": 194
        },
        "id": "dcGUBetsQKJD",
        "outputId": "823f1724-83ec-405a-b2f0-615de72f8879"
      },
      "source": [
        "train[:2]"
      ],
      "execution_count": 67,
      "outputs": [
        {
          "output_type": "execute_result",
          "data": {
            "text/html": [
              "<div>\n",
              "<style scoped>\n",
              "    .dataframe tbody tr th:only-of-type {\n",
              "        vertical-align: middle;\n",
              "    }\n",
              "\n",
              "    .dataframe tbody tr th {\n",
              "        vertical-align: top;\n",
              "    }\n",
              "\n",
              "    .dataframe thead th {\n",
              "        text-align: right;\n",
              "    }\n",
              "</style>\n",
              "<table border=\"1\" class=\"dataframe\">\n",
              "  <thead>\n",
              "    <tr style=\"text-align: right;\">\n",
              "      <th></th>\n",
              "      <th>Lead_name</th>\n",
              "      <th>Industry</th>\n",
              "      <th>Deal_value</th>\n",
              "      <th>Weighted_amount</th>\n",
              "      <th>Date_of_creation</th>\n",
              "      <th>Pitch</th>\n",
              "      <th>Contact_no</th>\n",
              "      <th>Lead_revenue</th>\n",
              "      <th>Fund_category</th>\n",
              "      <th>Geography</th>\n",
              "      <th>Location</th>\n",
              "      <th>POC_name</th>\n",
              "      <th>Designation</th>\n",
              "      <th>Lead_POC_email</th>\n",
              "      <th>Hiring_candidate_role</th>\n",
              "      <th>Lead_source</th>\n",
              "      <th>Level_of_meeting</th>\n",
              "      <th>Last_lead_update</th>\n",
              "      <th>Internal_POC</th>\n",
              "      <th>Resource</th>\n",
              "      <th>Internal_rating</th>\n",
              "      <th>Success_probability</th>\n",
              "    </tr>\n",
              "  </thead>\n",
              "  <tbody>\n",
              "    <tr>\n",
              "      <th>0</th>\n",
              "      <td>Davis, Perkins and Bishop Inc</td>\n",
              "      <td>Restaurants</td>\n",
              "      <td>320506.0</td>\n",
              "      <td>2067263.7</td>\n",
              "      <td>2020-03-29</td>\n",
              "      <td>Product_2</td>\n",
              "      <td>607.447.7883</td>\n",
              "      <td>50 - 100 Million</td>\n",
              "      <td>Category 2</td>\n",
              "      <td>USA</td>\n",
              "      <td>Killeen-Temple, TX</td>\n",
              "      <td>Charlene Werner</td>\n",
              "      <td>Executive Vice President</td>\n",
              "      <td>charlenewerner@davis.com</td>\n",
              "      <td>Community pharmacist</td>\n",
              "      <td>Website</td>\n",
              "      <td>Level 3</td>\n",
              "      <td>No track</td>\n",
              "      <td>Davis,Sharrice A</td>\n",
              "      <td>No</td>\n",
              "      <td>3</td>\n",
              "      <td>73.6</td>\n",
              "    </tr>\n",
              "    <tr>\n",
              "      <th>1</th>\n",
              "      <td>Bender PLC LLC</td>\n",
              "      <td>Construction Services</td>\n",
              "      <td>39488.0</td>\n",
              "      <td>240876.8</td>\n",
              "      <td>2019-07-10</td>\n",
              "      <td>Product_2</td>\n",
              "      <td>892-938-9493</td>\n",
              "      <td>500 Million - 1 Billion</td>\n",
              "      <td>Category 4</td>\n",
              "      <td>India</td>\n",
              "      <td>Ratlam</td>\n",
              "      <td>rakhi</td>\n",
              "      <td>Chairman/CEO/President</td>\n",
              "      <td>terrylogan@bender.com</td>\n",
              "      <td>Recruitment consultant</td>\n",
              "      <td>Others</td>\n",
              "      <td>Level 1</td>\n",
              "      <td>Did not hear back after Level 1</td>\n",
              "      <td>Brown,Maxine A</td>\n",
              "      <td>No</td>\n",
              "      <td>5</td>\n",
              "      <td>58.9</td>\n",
              "    </tr>\n",
              "  </tbody>\n",
              "</table>\n",
              "</div>"
            ],
            "text/plain": [
              "                       Lead_name  ... Success_probability\n",
              "0  Davis, Perkins and Bishop Inc  ...                73.6\n",
              "1                 Bender PLC LLC  ...                58.9\n",
              "\n",
              "[2 rows x 22 columns]"
            ]
          },
          "metadata": {
            "tags": []
          },
          "execution_count": 67
        }
      ]
    },
    {
      "cell_type": "code",
      "metadata": {
        "colab": {
          "base_uri": "https://localhost:8080/",
          "height": 383
        },
        "id": "E2dwaYbTQPeG",
        "outputId": "7de5aaac-cbc1-4cb0-ebbe-0bb36a395ebc"
      },
      "source": [
        "# remove non-useful features\n",
        "#'POC_name', 'Lead_POC_email','Contact_no','Location',,'Deal_value','Weighted_amount'\n",
        "#'Lead_name','POC_name', 'Lead_POC_email','Contact_no','Location',\n",
        "colsToRemove = ['Date_of_creation']\n",
        "train.drop(colsToRemove, inplace=True, axis=1)\n",
        "test.drop(colsToRemove, inplace=True, axis=1)\n",
        "train.head()"
      ],
      "execution_count": 68,
      "outputs": [
        {
          "output_type": "execute_result",
          "data": {
            "text/html": [
              "<div>\n",
              "<style scoped>\n",
              "    .dataframe tbody tr th:only-of-type {\n",
              "        vertical-align: middle;\n",
              "    }\n",
              "\n",
              "    .dataframe tbody tr th {\n",
              "        vertical-align: top;\n",
              "    }\n",
              "\n",
              "    .dataframe thead th {\n",
              "        text-align: right;\n",
              "    }\n",
              "</style>\n",
              "<table border=\"1\" class=\"dataframe\">\n",
              "  <thead>\n",
              "    <tr style=\"text-align: right;\">\n",
              "      <th></th>\n",
              "      <th>Lead_name</th>\n",
              "      <th>Industry</th>\n",
              "      <th>Deal_value</th>\n",
              "      <th>Weighted_amount</th>\n",
              "      <th>Pitch</th>\n",
              "      <th>Contact_no</th>\n",
              "      <th>Lead_revenue</th>\n",
              "      <th>Fund_category</th>\n",
              "      <th>Geography</th>\n",
              "      <th>Location</th>\n",
              "      <th>POC_name</th>\n",
              "      <th>Designation</th>\n",
              "      <th>Lead_POC_email</th>\n",
              "      <th>Hiring_candidate_role</th>\n",
              "      <th>Lead_source</th>\n",
              "      <th>Level_of_meeting</th>\n",
              "      <th>Last_lead_update</th>\n",
              "      <th>Internal_POC</th>\n",
              "      <th>Resource</th>\n",
              "      <th>Internal_rating</th>\n",
              "      <th>Success_probability</th>\n",
              "    </tr>\n",
              "  </thead>\n",
              "  <tbody>\n",
              "    <tr>\n",
              "      <th>0</th>\n",
              "      <td>Davis, Perkins and Bishop Inc</td>\n",
              "      <td>Restaurants</td>\n",
              "      <td>320506.0</td>\n",
              "      <td>2067263.7</td>\n",
              "      <td>Product_2</td>\n",
              "      <td>607.447.7883</td>\n",
              "      <td>50 - 100 Million</td>\n",
              "      <td>Category 2</td>\n",
              "      <td>USA</td>\n",
              "      <td>Killeen-Temple, TX</td>\n",
              "      <td>Charlene Werner</td>\n",
              "      <td>Executive Vice President</td>\n",
              "      <td>charlenewerner@davis.com</td>\n",
              "      <td>Community pharmacist</td>\n",
              "      <td>Website</td>\n",
              "      <td>Level 3</td>\n",
              "      <td>No track</td>\n",
              "      <td>Davis,Sharrice A</td>\n",
              "      <td>No</td>\n",
              "      <td>3</td>\n",
              "      <td>73.6</td>\n",
              "    </tr>\n",
              "    <tr>\n",
              "      <th>1</th>\n",
              "      <td>Bender PLC LLC</td>\n",
              "      <td>Construction Services</td>\n",
              "      <td>39488.0</td>\n",
              "      <td>240876.8</td>\n",
              "      <td>Product_2</td>\n",
              "      <td>892-938-9493</td>\n",
              "      <td>500 Million - 1 Billion</td>\n",
              "      <td>Category 4</td>\n",
              "      <td>India</td>\n",
              "      <td>Ratlam</td>\n",
              "      <td>rakhi</td>\n",
              "      <td>Chairman/CEO/President</td>\n",
              "      <td>terrylogan@bender.com</td>\n",
              "      <td>Recruitment consultant</td>\n",
              "      <td>Others</td>\n",
              "      <td>Level 1</td>\n",
              "      <td>Did not hear back after Level 1</td>\n",
              "      <td>Brown,Maxine A</td>\n",
              "      <td>No</td>\n",
              "      <td>5</td>\n",
              "      <td>58.9</td>\n",
              "    </tr>\n",
              "    <tr>\n",
              "      <th>2</th>\n",
              "      <td>Carter-Henry and Sons</td>\n",
              "      <td>Hospitals/Clinics</td>\n",
              "      <td>359392.0</td>\n",
              "      <td>2407926.4</td>\n",
              "      <td>Product_1</td>\n",
              "      <td>538.748.2271</td>\n",
              "      <td>500 Million - 1 Billion</td>\n",
              "      <td>Category 4</td>\n",
              "      <td>USA</td>\n",
              "      <td>Albany-Schenectady-Troy, NY</td>\n",
              "      <td>Ariel Hamilton</td>\n",
              "      <td>SVP/General Counsel</td>\n",
              "      <td>arielhamilton@carterhenry.com</td>\n",
              "      <td>Health service manager</td>\n",
              "      <td>Marketing Event</td>\n",
              "      <td>Level 1</td>\n",
              "      <td>No track</td>\n",
              "      <td>Georgakopoulos,Vasilios T</td>\n",
              "      <td>No</td>\n",
              "      <td>4</td>\n",
              "      <td>68.8</td>\n",
              "    </tr>\n",
              "    <tr>\n",
              "      <th>3</th>\n",
              "      <td>Garcia Ltd Ltd</td>\n",
              "      <td>Real Estate</td>\n",
              "      <td>76774.0</td>\n",
              "      <td>468321.4</td>\n",
              "      <td>Product_2</td>\n",
              "      <td>(692)052-1389x75188</td>\n",
              "      <td>500 Million - 1 Billion</td>\n",
              "      <td>Category 3</td>\n",
              "      <td>USA</td>\n",
              "      <td>Mount Vernon-Anacortes, WA</td>\n",
              "      <td>Erin Wilson</td>\n",
              "      <td>CEO/Co-Founder/Chairman</td>\n",
              "      <td>erinwilson@garcia.com</td>\n",
              "      <td>Therapist, speech and language</td>\n",
              "      <td>Contact Email</td>\n",
              "      <td>Level 2</td>\n",
              "      <td>Did not hear back after Level 1</td>\n",
              "      <td>Brown,Maxine A</td>\n",
              "      <td>We have all the requirements</td>\n",
              "      <td>1</td>\n",
              "      <td>64.5</td>\n",
              "    </tr>\n",
              "    <tr>\n",
              "      <th>4</th>\n",
              "      <td>Lee and Sons PLC</td>\n",
              "      <td>Financial Services</td>\n",
              "      <td>483896.0</td>\n",
              "      <td>2590876.2</td>\n",
              "      <td>Product_2</td>\n",
              "      <td>001-878-814-6134x015</td>\n",
              "      <td>50 - 100 Million</td>\n",
              "      <td>Category 3</td>\n",
              "      <td>India</td>\n",
              "      <td>Shimoga</td>\n",
              "      <td>kavita</td>\n",
              "      <td>Executive Vice President</td>\n",
              "      <td>mr.christopher@lee.com</td>\n",
              "      <td>Media planner</td>\n",
              "      <td>Website</td>\n",
              "      <td>Level 2</td>\n",
              "      <td>Up-to-date</td>\n",
              "      <td>Thomas,Lori E</td>\n",
              "      <td>No</td>\n",
              "      <td>4</td>\n",
              "      <td>62.4</td>\n",
              "    </tr>\n",
              "  </tbody>\n",
              "</table>\n",
              "</div>"
            ],
            "text/plain": [
              "                       Lead_name  ... Success_probability\n",
              "0  Davis, Perkins and Bishop Inc  ...                73.6\n",
              "1                 Bender PLC LLC  ...                58.9\n",
              "2          Carter-Henry and Sons  ...                68.8\n",
              "3                 Garcia Ltd Ltd  ...                64.5\n",
              "4               Lee and Sons PLC  ...                62.4\n",
              "\n",
              "[5 rows x 21 columns]"
            ]
          },
          "metadata": {
            "tags": []
          },
          "execution_count": 68
        }
      ]
    },
    {
      "cell_type": "code",
      "metadata": {
        "id": "QhYX_aY6Ql_V"
      },
      "source": [
        "# segregate numerical and categorical features\n",
        "def divideFeatures(df):\n",
        "    numerical_features = df.select_dtypes(include=[np.number])\n",
        "    categorical_features = df.select_dtypes(include=[np.object])\n",
        "    return numerical_features, categorical_features"
      ],
      "execution_count": 69,
      "outputs": []
    },
    {
      "cell_type": "code",
      "metadata": {
        "id": "0EpLZa02QvO4"
      },
      "source": [
        "continuous_data, categorical_data = divideFeatures(train)"
      ],
      "execution_count": 70,
      "outputs": []
    },
    {
      "cell_type": "code",
      "metadata": {
        "id": "k45gPcL1Qxle"
      },
      "source": [
        "from sklearn.preprocessing import LabelEncoder"
      ],
      "execution_count": 71,
      "outputs": []
    },
    {
      "cell_type": "code",
      "metadata": {
        "id": "Nk7LeizdaPbA"
      },
      "source": [
        "cat_feature = ['Pitch', 'Lead_revenue', 'Fund_category', 'Geography','Resource','Level_of_meeting','Lead_source']"
      ],
      "execution_count": 72,
      "outputs": []
    },
    {
      "cell_type": "code",
      "metadata": {
        "id": "wekgRSgeQ2OH"
      },
      "source": [
        "le = LabelEncoder()\n",
        "#label_columns=categorical_data.columns\n",
        "label_columns=cat_feature\n",
        "\n",
        "for label_column in label_columns:\n",
        "    train[label_column] = le.fit_transform(train[label_column])"
      ],
      "execution_count": 73,
      "outputs": []
    },
    {
      "cell_type": "code",
      "metadata": {
        "id": "WA7NsTceZ9j3"
      },
      "source": [
        "for label_column in label_columns:\n",
        "    test[label_column] = le.fit_transform(test[label_column])"
      ],
      "execution_count": 74,
      "outputs": []
    },
    {
      "cell_type": "code",
      "metadata": {
        "colab": {
          "base_uri": "https://localhost:8080/",
          "height": 383
        },
        "id": "l08mYZEmQ6jo",
        "outputId": "4aa131f3-0d21-45ca-cd3f-648efaea6e4e"
      },
      "source": [
        "train[:5]"
      ],
      "execution_count": 75,
      "outputs": [
        {
          "output_type": "execute_result",
          "data": {
            "text/html": [
              "<div>\n",
              "<style scoped>\n",
              "    .dataframe tbody tr th:only-of-type {\n",
              "        vertical-align: middle;\n",
              "    }\n",
              "\n",
              "    .dataframe tbody tr th {\n",
              "        vertical-align: top;\n",
              "    }\n",
              "\n",
              "    .dataframe thead th {\n",
              "        text-align: right;\n",
              "    }\n",
              "</style>\n",
              "<table border=\"1\" class=\"dataframe\">\n",
              "  <thead>\n",
              "    <tr style=\"text-align: right;\">\n",
              "      <th></th>\n",
              "      <th>Lead_name</th>\n",
              "      <th>Industry</th>\n",
              "      <th>Deal_value</th>\n",
              "      <th>Weighted_amount</th>\n",
              "      <th>Pitch</th>\n",
              "      <th>Contact_no</th>\n",
              "      <th>Lead_revenue</th>\n",
              "      <th>Fund_category</th>\n",
              "      <th>Geography</th>\n",
              "      <th>Location</th>\n",
              "      <th>POC_name</th>\n",
              "      <th>Designation</th>\n",
              "      <th>Lead_POC_email</th>\n",
              "      <th>Hiring_candidate_role</th>\n",
              "      <th>Lead_source</th>\n",
              "      <th>Level_of_meeting</th>\n",
              "      <th>Last_lead_update</th>\n",
              "      <th>Internal_POC</th>\n",
              "      <th>Resource</th>\n",
              "      <th>Internal_rating</th>\n",
              "      <th>Success_probability</th>\n",
              "    </tr>\n",
              "  </thead>\n",
              "  <tbody>\n",
              "    <tr>\n",
              "      <th>0</th>\n",
              "      <td>Davis, Perkins and Bishop Inc</td>\n",
              "      <td>Restaurants</td>\n",
              "      <td>320506.0</td>\n",
              "      <td>2067263.7</td>\n",
              "      <td>1</td>\n",
              "      <td>607.447.7883</td>\n",
              "      <td>1</td>\n",
              "      <td>1</td>\n",
              "      <td>1</td>\n",
              "      <td>Killeen-Temple, TX</td>\n",
              "      <td>Charlene Werner</td>\n",
              "      <td>Executive Vice President</td>\n",
              "      <td>charlenewerner@davis.com</td>\n",
              "      <td>Community pharmacist</td>\n",
              "      <td>3</td>\n",
              "      <td>2</td>\n",
              "      <td>No track</td>\n",
              "      <td>Davis,Sharrice A</td>\n",
              "      <td>2</td>\n",
              "      <td>3</td>\n",
              "      <td>73.6</td>\n",
              "    </tr>\n",
              "    <tr>\n",
              "      <th>1</th>\n",
              "      <td>Bender PLC LLC</td>\n",
              "      <td>Construction Services</td>\n",
              "      <td>39488.0</td>\n",
              "      <td>240876.8</td>\n",
              "      <td>1</td>\n",
              "      <td>892-938-9493</td>\n",
              "      <td>2</td>\n",
              "      <td>3</td>\n",
              "      <td>0</td>\n",
              "      <td>Ratlam</td>\n",
              "      <td>rakhi</td>\n",
              "      <td>Chairman/CEO/President</td>\n",
              "      <td>terrylogan@bender.com</td>\n",
              "      <td>Recruitment consultant</td>\n",
              "      <td>2</td>\n",
              "      <td>0</td>\n",
              "      <td>Did not hear back after Level 1</td>\n",
              "      <td>Brown,Maxine A</td>\n",
              "      <td>2</td>\n",
              "      <td>5</td>\n",
              "      <td>58.9</td>\n",
              "    </tr>\n",
              "    <tr>\n",
              "      <th>2</th>\n",
              "      <td>Carter-Henry and Sons</td>\n",
              "      <td>Hospitals/Clinics</td>\n",
              "      <td>359392.0</td>\n",
              "      <td>2407926.4</td>\n",
              "      <td>0</td>\n",
              "      <td>538.748.2271</td>\n",
              "      <td>2</td>\n",
              "      <td>3</td>\n",
              "      <td>1</td>\n",
              "      <td>Albany-Schenectady-Troy, NY</td>\n",
              "      <td>Ariel Hamilton</td>\n",
              "      <td>SVP/General Counsel</td>\n",
              "      <td>arielhamilton@carterhenry.com</td>\n",
              "      <td>Health service manager</td>\n",
              "      <td>1</td>\n",
              "      <td>0</td>\n",
              "      <td>No track</td>\n",
              "      <td>Georgakopoulos,Vasilios T</td>\n",
              "      <td>2</td>\n",
              "      <td>4</td>\n",
              "      <td>68.8</td>\n",
              "    </tr>\n",
              "    <tr>\n",
              "      <th>3</th>\n",
              "      <td>Garcia Ltd Ltd</td>\n",
              "      <td>Real Estate</td>\n",
              "      <td>76774.0</td>\n",
              "      <td>468321.4</td>\n",
              "      <td>1</td>\n",
              "      <td>(692)052-1389x75188</td>\n",
              "      <td>2</td>\n",
              "      <td>2</td>\n",
              "      <td>1</td>\n",
              "      <td>Mount Vernon-Anacortes, WA</td>\n",
              "      <td>Erin Wilson</td>\n",
              "      <td>CEO/Co-Founder/Chairman</td>\n",
              "      <td>erinwilson@garcia.com</td>\n",
              "      <td>Therapist, speech and language</td>\n",
              "      <td>0</td>\n",
              "      <td>1</td>\n",
              "      <td>Did not hear back after Level 1</td>\n",
              "      <td>Brown,Maxine A</td>\n",
              "      <td>4</td>\n",
              "      <td>1</td>\n",
              "      <td>64.5</td>\n",
              "    </tr>\n",
              "    <tr>\n",
              "      <th>4</th>\n",
              "      <td>Lee and Sons PLC</td>\n",
              "      <td>Financial Services</td>\n",
              "      <td>483896.0</td>\n",
              "      <td>2590876.2</td>\n",
              "      <td>1</td>\n",
              "      <td>001-878-814-6134x015</td>\n",
              "      <td>1</td>\n",
              "      <td>2</td>\n",
              "      <td>0</td>\n",
              "      <td>Shimoga</td>\n",
              "      <td>kavita</td>\n",
              "      <td>Executive Vice President</td>\n",
              "      <td>mr.christopher@lee.com</td>\n",
              "      <td>Media planner</td>\n",
              "      <td>3</td>\n",
              "      <td>1</td>\n",
              "      <td>Up-to-date</td>\n",
              "      <td>Thomas,Lori E</td>\n",
              "      <td>2</td>\n",
              "      <td>4</td>\n",
              "      <td>62.4</td>\n",
              "    </tr>\n",
              "  </tbody>\n",
              "</table>\n",
              "</div>"
            ],
            "text/plain": [
              "                       Lead_name  ... Success_probability\n",
              "0  Davis, Perkins and Bishop Inc  ...                73.6\n",
              "1                 Bender PLC LLC  ...                58.9\n",
              "2          Carter-Henry and Sons  ...                68.8\n",
              "3                 Garcia Ltd Ltd  ...                64.5\n",
              "4               Lee and Sons PLC  ...                62.4\n",
              "\n",
              "[5 rows x 21 columns]"
            ]
          },
          "metadata": {
            "tags": []
          },
          "execution_count": 75
        }
      ]
    },
    {
      "cell_type": "code",
      "metadata": {
        "id": "xHDfce11bh3_"
      },
      "source": [
        "from sklearn.feature_extraction.text import CountVectorizer\n",
        "\n",
        "# Extracting features from text columns using CountVectorizer\n",
        "def CountVect(column, train, test):\n",
        "    vect = CountVectorizer()\n",
        "    \n",
        "    train_feature = vect.fit_transform(train[column])\n",
        "    train_feature = pd.DataFrame(train_feature.todense(), columns=[(column+str(i)) for i in range(len(vect.get_feature_names()))])\n",
        "    train = pd.concat([train, train_feature], axis=1)\n",
        "    \n",
        "    test_feature = vect.transform(test[column])\n",
        "    test_feature = pd.DataFrame(test_feature.todense(), columns=[(column+str(i)) for i in range(len(vect.get_feature_names()))])\n",
        "    test = pd.concat([test, test_feature], axis=1)\n",
        "    \n",
        "    return train, test"
      ],
      "execution_count": 76,
      "outputs": []
    },
    {
      "cell_type": "code",
      "metadata": {
        "id": "9yjM25tdcOWO"
      },
      "source": [
        "# segregate numerical and categorical features\n",
        "def divideFeatures(df):\n",
        "    numerical_features = df.select_dtypes(include=[np.number])\n",
        "    categorical_features = df.select_dtypes(include=[np.object])\n",
        "    return numerical_features, categorical_features"
      ],
      "execution_count": 77,
      "outputs": []
    },
    {
      "cell_type": "code",
      "metadata": {
        "id": "t1hsBjJzcOKi"
      },
      "source": [
        "continuous_data, categorical_data = divideFeatures(train)"
      ],
      "execution_count": 78,
      "outputs": []
    },
    {
      "cell_type": "code",
      "metadata": {
        "colab": {
          "base_uri": "https://localhost:8080/"
        },
        "id": "WPSaa1_IceiU",
        "outputId": "0bf76915-4e92-47da-ec9c-0489d4052b15"
      },
      "source": [
        "for col in categorical_data:\n",
        "    print(f'{col} : {categorical_data[col].nunique()}')"
      ],
      "execution_count": 79,
      "outputs": [
        {
          "output_type": "stream",
          "text": [
            "Lead_name : 7007\n",
            "Industry : 171\n",
            "Contact_no : 7007\n",
            "Location : 597\n",
            "POC_name : 5261\n",
            "Designation : 10\n",
            "Lead_POC_email : 7007\n",
            "Hiring_candidate_role : 639\n",
            "Last_lead_update : 10\n",
            "Internal_POC : 60\n"
          ],
          "name": "stdout"
        }
      ]
    },
    {
      "cell_type": "code",
      "metadata": {
        "id": "CmxNanNjbqzA"
      },
      "source": [
        "# Calling 'CountVec' function for these columns\n",
        "for column in ['Industry', 'POC_name', 'Designation', 'Hiring_candidate_role','Last_lead_update','Internal_POC']:\n",
        "    train, test = CountVect(column, train, test)"
      ],
      "execution_count": 80,
      "outputs": []
    },
    {
      "cell_type": "code",
      "metadata": {
        "id": "-hK7eb_XdbUN"
      },
      "source": [
        "# Dropping columns after text feature extraction\n",
        "train.drop(['Lead_POC_email','Location','Contact_no','Lead_name','Industry', 'POC_name', 'Designation', 'Hiring_candidate_role','Last_lead_update','Internal_POC'], axis=1, inplace=True)\n",
        "\n",
        "test.drop(['Lead_POC_email','Location','Contact_no','Lead_name','Industry', 'POC_name', 'Designation', 'Hiring_candidate_role','Last_lead_update','Internal_POC'], axis=1, inplace=True)"
      ],
      "execution_count": 81,
      "outputs": []
    },
    {
      "cell_type": "code",
      "metadata": {
        "colab": {
          "base_uri": "https://localhost:8080/",
          "height": 155
        },
        "id": "GhpEV7-ZePXV",
        "outputId": "742fbb4c-117b-4aaa-a6e7-00326007bfd8"
      },
      "source": [
        "train[:2]"
      ],
      "execution_count": 82,
      "outputs": [
        {
          "output_type": "execute_result",
          "data": {
            "text/html": [
              "<div>\n",
              "<style scoped>\n",
              "    .dataframe tbody tr th:only-of-type {\n",
              "        vertical-align: middle;\n",
              "    }\n",
              "\n",
              "    .dataframe tbody tr th {\n",
              "        vertical-align: top;\n",
              "    }\n",
              "\n",
              "    .dataframe thead th {\n",
              "        text-align: right;\n",
              "    }\n",
              "</style>\n",
              "<table border=\"1\" class=\"dataframe\">\n",
              "  <thead>\n",
              "    <tr style=\"text-align: right;\">\n",
              "      <th></th>\n",
              "      <th>Deal_value</th>\n",
              "      <th>Weighted_amount</th>\n",
              "      <th>Pitch</th>\n",
              "      <th>Lead_revenue</th>\n",
              "      <th>Fund_category</th>\n",
              "      <th>Geography</th>\n",
              "      <th>Lead_source</th>\n",
              "      <th>Level_of_meeting</th>\n",
              "      <th>Resource</th>\n",
              "      <th>Internal_rating</th>\n",
              "      <th>Success_probability</th>\n",
              "      <th>Industry0</th>\n",
              "      <th>Industry1</th>\n",
              "      <th>Industry2</th>\n",
              "      <th>Industry3</th>\n",
              "      <th>Industry4</th>\n",
              "      <th>Industry5</th>\n",
              "      <th>Industry6</th>\n",
              "      <th>Industry7</th>\n",
              "      <th>Industry8</th>\n",
              "      <th>Industry9</th>\n",
              "      <th>Industry10</th>\n",
              "      <th>Industry11</th>\n",
              "      <th>Industry12</th>\n",
              "      <th>Industry13</th>\n",
              "      <th>Industry14</th>\n",
              "      <th>Industry15</th>\n",
              "      <th>Industry16</th>\n",
              "      <th>Industry17</th>\n",
              "      <th>Industry18</th>\n",
              "      <th>Industry19</th>\n",
              "      <th>Industry20</th>\n",
              "      <th>Industry21</th>\n",
              "      <th>Industry22</th>\n",
              "      <th>Industry23</th>\n",
              "      <th>Industry24</th>\n",
              "      <th>Industry25</th>\n",
              "      <th>Industry26</th>\n",
              "      <th>Industry27</th>\n",
              "      <th>Industry28</th>\n",
              "      <th>...</th>\n",
              "      <th>Internal_POC78</th>\n",
              "      <th>Internal_POC79</th>\n",
              "      <th>Internal_POC80</th>\n",
              "      <th>Internal_POC81</th>\n",
              "      <th>Internal_POC82</th>\n",
              "      <th>Internal_POC83</th>\n",
              "      <th>Internal_POC84</th>\n",
              "      <th>Internal_POC85</th>\n",
              "      <th>Internal_POC86</th>\n",
              "      <th>Internal_POC87</th>\n",
              "      <th>Internal_POC88</th>\n",
              "      <th>Internal_POC89</th>\n",
              "      <th>Internal_POC90</th>\n",
              "      <th>Internal_POC91</th>\n",
              "      <th>Internal_POC92</th>\n",
              "      <th>Internal_POC93</th>\n",
              "      <th>Internal_POC94</th>\n",
              "      <th>Internal_POC95</th>\n",
              "      <th>Internal_POC96</th>\n",
              "      <th>Internal_POC97</th>\n",
              "      <th>Internal_POC98</th>\n",
              "      <th>Internal_POC99</th>\n",
              "      <th>Internal_POC100</th>\n",
              "      <th>Internal_POC101</th>\n",
              "      <th>Internal_POC102</th>\n",
              "      <th>Internal_POC103</th>\n",
              "      <th>Internal_POC104</th>\n",
              "      <th>Internal_POC105</th>\n",
              "      <th>Internal_POC106</th>\n",
              "      <th>Internal_POC107</th>\n",
              "      <th>Internal_POC108</th>\n",
              "      <th>Internal_POC109</th>\n",
              "      <th>Internal_POC110</th>\n",
              "      <th>Internal_POC111</th>\n",
              "      <th>Internal_POC112</th>\n",
              "      <th>Internal_POC113</th>\n",
              "      <th>Internal_POC114</th>\n",
              "      <th>Internal_POC115</th>\n",
              "      <th>Internal_POC116</th>\n",
              "      <th>Internal_POC117</th>\n",
              "    </tr>\n",
              "  </thead>\n",
              "  <tbody>\n",
              "    <tr>\n",
              "      <th>0</th>\n",
              "      <td>320506.0</td>\n",
              "      <td>2067263.7</td>\n",
              "      <td>1</td>\n",
              "      <td>1</td>\n",
              "      <td>1</td>\n",
              "      <td>1</td>\n",
              "      <td>3</td>\n",
              "      <td>2</td>\n",
              "      <td>2</td>\n",
              "      <td>3</td>\n",
              "      <td>73.6</td>\n",
              "      <td>0</td>\n",
              "      <td>0</td>\n",
              "      <td>0</td>\n",
              "      <td>0</td>\n",
              "      <td>0</td>\n",
              "      <td>0</td>\n",
              "      <td>0</td>\n",
              "      <td>0</td>\n",
              "      <td>0</td>\n",
              "      <td>0</td>\n",
              "      <td>0</td>\n",
              "      <td>0</td>\n",
              "      <td>0</td>\n",
              "      <td>0</td>\n",
              "      <td>0</td>\n",
              "      <td>0</td>\n",
              "      <td>0</td>\n",
              "      <td>0</td>\n",
              "      <td>0</td>\n",
              "      <td>0</td>\n",
              "      <td>0</td>\n",
              "      <td>0</td>\n",
              "      <td>0</td>\n",
              "      <td>0</td>\n",
              "      <td>0</td>\n",
              "      <td>0</td>\n",
              "      <td>0</td>\n",
              "      <td>0</td>\n",
              "      <td>0</td>\n",
              "      <td>...</td>\n",
              "      <td>0</td>\n",
              "      <td>0</td>\n",
              "      <td>0</td>\n",
              "      <td>0</td>\n",
              "      <td>0</td>\n",
              "      <td>0</td>\n",
              "      <td>0</td>\n",
              "      <td>0</td>\n",
              "      <td>0</td>\n",
              "      <td>0</td>\n",
              "      <td>0</td>\n",
              "      <td>0</td>\n",
              "      <td>0</td>\n",
              "      <td>0</td>\n",
              "      <td>0</td>\n",
              "      <td>0</td>\n",
              "      <td>0</td>\n",
              "      <td>0</td>\n",
              "      <td>0</td>\n",
              "      <td>1</td>\n",
              "      <td>0</td>\n",
              "      <td>0</td>\n",
              "      <td>0</td>\n",
              "      <td>0</td>\n",
              "      <td>0</td>\n",
              "      <td>0</td>\n",
              "      <td>0</td>\n",
              "      <td>0</td>\n",
              "      <td>0</td>\n",
              "      <td>0</td>\n",
              "      <td>0</td>\n",
              "      <td>0</td>\n",
              "      <td>0</td>\n",
              "      <td>0</td>\n",
              "      <td>0</td>\n",
              "      <td>0</td>\n",
              "      <td>0</td>\n",
              "      <td>0</td>\n",
              "      <td>0</td>\n",
              "      <td>0</td>\n",
              "    </tr>\n",
              "    <tr>\n",
              "      <th>1</th>\n",
              "      <td>39488.0</td>\n",
              "      <td>240876.8</td>\n",
              "      <td>1</td>\n",
              "      <td>2</td>\n",
              "      <td>3</td>\n",
              "      <td>0</td>\n",
              "      <td>2</td>\n",
              "      <td>0</td>\n",
              "      <td>2</td>\n",
              "      <td>5</td>\n",
              "      <td>58.9</td>\n",
              "      <td>0</td>\n",
              "      <td>0</td>\n",
              "      <td>0</td>\n",
              "      <td>0</td>\n",
              "      <td>0</td>\n",
              "      <td>0</td>\n",
              "      <td>0</td>\n",
              "      <td>0</td>\n",
              "      <td>0</td>\n",
              "      <td>0</td>\n",
              "      <td>0</td>\n",
              "      <td>0</td>\n",
              "      <td>0</td>\n",
              "      <td>0</td>\n",
              "      <td>0</td>\n",
              "      <td>0</td>\n",
              "      <td>0</td>\n",
              "      <td>0</td>\n",
              "      <td>0</td>\n",
              "      <td>0</td>\n",
              "      <td>0</td>\n",
              "      <td>0</td>\n",
              "      <td>0</td>\n",
              "      <td>0</td>\n",
              "      <td>0</td>\n",
              "      <td>0</td>\n",
              "      <td>0</td>\n",
              "      <td>0</td>\n",
              "      <td>0</td>\n",
              "      <td>...</td>\n",
              "      <td>0</td>\n",
              "      <td>0</td>\n",
              "      <td>0</td>\n",
              "      <td>0</td>\n",
              "      <td>0</td>\n",
              "      <td>0</td>\n",
              "      <td>0</td>\n",
              "      <td>0</td>\n",
              "      <td>0</td>\n",
              "      <td>0</td>\n",
              "      <td>0</td>\n",
              "      <td>0</td>\n",
              "      <td>0</td>\n",
              "      <td>0</td>\n",
              "      <td>0</td>\n",
              "      <td>0</td>\n",
              "      <td>0</td>\n",
              "      <td>0</td>\n",
              "      <td>0</td>\n",
              "      <td>0</td>\n",
              "      <td>0</td>\n",
              "      <td>0</td>\n",
              "      <td>0</td>\n",
              "      <td>0</td>\n",
              "      <td>0</td>\n",
              "      <td>0</td>\n",
              "      <td>0</td>\n",
              "      <td>0</td>\n",
              "      <td>0</td>\n",
              "      <td>0</td>\n",
              "      <td>0</td>\n",
              "      <td>0</td>\n",
              "      <td>0</td>\n",
              "      <td>0</td>\n",
              "      <td>0</td>\n",
              "      <td>0</td>\n",
              "      <td>0</td>\n",
              "      <td>0</td>\n",
              "      <td>0</td>\n",
              "      <td>0</td>\n",
              "    </tr>\n",
              "  </tbody>\n",
              "</table>\n",
              "<p>2 rows × 3743 columns</p>\n",
              "</div>"
            ],
            "text/plain": [
              "   Deal_value  Weighted_amount  ...  Internal_POC116  Internal_POC117\n",
              "0    320506.0        2067263.7  ...                0                0\n",
              "1     39488.0         240876.8  ...                0                0\n",
              "\n",
              "[2 rows x 3743 columns]"
            ]
          },
          "metadata": {
            "tags": []
          },
          "execution_count": 82
        }
      ]
    },
    {
      "cell_type": "code",
      "metadata": {
        "colab": {
          "base_uri": "https://localhost:8080/",
          "height": 155
        },
        "id": "Srxem98keRcA",
        "outputId": "644a5219-b3ad-4fc3-d39f-af7e96ac272b"
      },
      "source": [
        "test[:2]"
      ],
      "execution_count": 83,
      "outputs": [
        {
          "output_type": "execute_result",
          "data": {
            "text/html": [
              "<div>\n",
              "<style scoped>\n",
              "    .dataframe tbody tr th:only-of-type {\n",
              "        vertical-align: middle;\n",
              "    }\n",
              "\n",
              "    .dataframe tbody tr th {\n",
              "        vertical-align: top;\n",
              "    }\n",
              "\n",
              "    .dataframe thead th {\n",
              "        text-align: right;\n",
              "    }\n",
              "</style>\n",
              "<table border=\"1\" class=\"dataframe\">\n",
              "  <thead>\n",
              "    <tr style=\"text-align: right;\">\n",
              "      <th></th>\n",
              "      <th>Deal_title</th>\n",
              "      <th>Deal_value</th>\n",
              "      <th>Weighted_amount</th>\n",
              "      <th>Pitch</th>\n",
              "      <th>Lead_revenue</th>\n",
              "      <th>Fund_category</th>\n",
              "      <th>Geography</th>\n",
              "      <th>Lead_source</th>\n",
              "      <th>Level_of_meeting</th>\n",
              "      <th>Resource</th>\n",
              "      <th>Internal_rating</th>\n",
              "      <th>Industry0</th>\n",
              "      <th>Industry1</th>\n",
              "      <th>Industry2</th>\n",
              "      <th>Industry3</th>\n",
              "      <th>Industry4</th>\n",
              "      <th>Industry5</th>\n",
              "      <th>Industry6</th>\n",
              "      <th>Industry7</th>\n",
              "      <th>Industry8</th>\n",
              "      <th>Industry9</th>\n",
              "      <th>Industry10</th>\n",
              "      <th>Industry11</th>\n",
              "      <th>Industry12</th>\n",
              "      <th>Industry13</th>\n",
              "      <th>Industry14</th>\n",
              "      <th>Industry15</th>\n",
              "      <th>Industry16</th>\n",
              "      <th>Industry17</th>\n",
              "      <th>Industry18</th>\n",
              "      <th>Industry19</th>\n",
              "      <th>Industry20</th>\n",
              "      <th>Industry21</th>\n",
              "      <th>Industry22</th>\n",
              "      <th>Industry23</th>\n",
              "      <th>Industry24</th>\n",
              "      <th>Industry25</th>\n",
              "      <th>Industry26</th>\n",
              "      <th>Industry27</th>\n",
              "      <th>Industry28</th>\n",
              "      <th>...</th>\n",
              "      <th>Internal_POC78</th>\n",
              "      <th>Internal_POC79</th>\n",
              "      <th>Internal_POC80</th>\n",
              "      <th>Internal_POC81</th>\n",
              "      <th>Internal_POC82</th>\n",
              "      <th>Internal_POC83</th>\n",
              "      <th>Internal_POC84</th>\n",
              "      <th>Internal_POC85</th>\n",
              "      <th>Internal_POC86</th>\n",
              "      <th>Internal_POC87</th>\n",
              "      <th>Internal_POC88</th>\n",
              "      <th>Internal_POC89</th>\n",
              "      <th>Internal_POC90</th>\n",
              "      <th>Internal_POC91</th>\n",
              "      <th>Internal_POC92</th>\n",
              "      <th>Internal_POC93</th>\n",
              "      <th>Internal_POC94</th>\n",
              "      <th>Internal_POC95</th>\n",
              "      <th>Internal_POC96</th>\n",
              "      <th>Internal_POC97</th>\n",
              "      <th>Internal_POC98</th>\n",
              "      <th>Internal_POC99</th>\n",
              "      <th>Internal_POC100</th>\n",
              "      <th>Internal_POC101</th>\n",
              "      <th>Internal_POC102</th>\n",
              "      <th>Internal_POC103</th>\n",
              "      <th>Internal_POC104</th>\n",
              "      <th>Internal_POC105</th>\n",
              "      <th>Internal_POC106</th>\n",
              "      <th>Internal_POC107</th>\n",
              "      <th>Internal_POC108</th>\n",
              "      <th>Internal_POC109</th>\n",
              "      <th>Internal_POC110</th>\n",
              "      <th>Internal_POC111</th>\n",
              "      <th>Internal_POC112</th>\n",
              "      <th>Internal_POC113</th>\n",
              "      <th>Internal_POC114</th>\n",
              "      <th>Internal_POC115</th>\n",
              "      <th>Internal_POC116</th>\n",
              "      <th>Internal_POC117</th>\n",
              "    </tr>\n",
              "  </thead>\n",
              "  <tbody>\n",
              "    <tr>\n",
              "      <th>0</th>\n",
              "      <td>TitleAD16O</td>\n",
              "      <td>200988.0</td>\n",
              "      <td>1002116.7</td>\n",
              "      <td>0</td>\n",
              "      <td>0</td>\n",
              "      <td>3</td>\n",
              "      <td>0</td>\n",
              "      <td>1</td>\n",
              "      <td>0</td>\n",
              "      <td>2</td>\n",
              "      <td>-1.0</td>\n",
              "      <td>0</td>\n",
              "      <td>0</td>\n",
              "      <td>0</td>\n",
              "      <td>0</td>\n",
              "      <td>0</td>\n",
              "      <td>0</td>\n",
              "      <td>0</td>\n",
              "      <td>0</td>\n",
              "      <td>0</td>\n",
              "      <td>0</td>\n",
              "      <td>0</td>\n",
              "      <td>0</td>\n",
              "      <td>0</td>\n",
              "      <td>0</td>\n",
              "      <td>0</td>\n",
              "      <td>0</td>\n",
              "      <td>0</td>\n",
              "      <td>0</td>\n",
              "      <td>1</td>\n",
              "      <td>0</td>\n",
              "      <td>0</td>\n",
              "      <td>0</td>\n",
              "      <td>0</td>\n",
              "      <td>0</td>\n",
              "      <td>0</td>\n",
              "      <td>0</td>\n",
              "      <td>1</td>\n",
              "      <td>0</td>\n",
              "      <td>0</td>\n",
              "      <td>...</td>\n",
              "      <td>0</td>\n",
              "      <td>0</td>\n",
              "      <td>0</td>\n",
              "      <td>0</td>\n",
              "      <td>0</td>\n",
              "      <td>0</td>\n",
              "      <td>0</td>\n",
              "      <td>0</td>\n",
              "      <td>0</td>\n",
              "      <td>0</td>\n",
              "      <td>0</td>\n",
              "      <td>0</td>\n",
              "      <td>0</td>\n",
              "      <td>0</td>\n",
              "      <td>0</td>\n",
              "      <td>0</td>\n",
              "      <td>0</td>\n",
              "      <td>0</td>\n",
              "      <td>0</td>\n",
              "      <td>0</td>\n",
              "      <td>0</td>\n",
              "      <td>0</td>\n",
              "      <td>0</td>\n",
              "      <td>0</td>\n",
              "      <td>0</td>\n",
              "      <td>0</td>\n",
              "      <td>0</td>\n",
              "      <td>0</td>\n",
              "      <td>0</td>\n",
              "      <td>0</td>\n",
              "      <td>0</td>\n",
              "      <td>0</td>\n",
              "      <td>0</td>\n",
              "      <td>0</td>\n",
              "      <td>0</td>\n",
              "      <td>0</td>\n",
              "      <td>0</td>\n",
              "      <td>0</td>\n",
              "      <td>0</td>\n",
              "      <td>0</td>\n",
              "    </tr>\n",
              "    <tr>\n",
              "      <th>1</th>\n",
              "      <td>TitleOW6CR</td>\n",
              "      <td>409961.0</td>\n",
              "      <td>2541758.2</td>\n",
              "      <td>0</td>\n",
              "      <td>0</td>\n",
              "      <td>2</td>\n",
              "      <td>1</td>\n",
              "      <td>1</td>\n",
              "      <td>1</td>\n",
              "      <td>5</td>\n",
              "      <td>1.0</td>\n",
              "      <td>0</td>\n",
              "      <td>0</td>\n",
              "      <td>0</td>\n",
              "      <td>0</td>\n",
              "      <td>0</td>\n",
              "      <td>0</td>\n",
              "      <td>0</td>\n",
              "      <td>0</td>\n",
              "      <td>0</td>\n",
              "      <td>0</td>\n",
              "      <td>0</td>\n",
              "      <td>0</td>\n",
              "      <td>0</td>\n",
              "      <td>0</td>\n",
              "      <td>0</td>\n",
              "      <td>0</td>\n",
              "      <td>0</td>\n",
              "      <td>0</td>\n",
              "      <td>0</td>\n",
              "      <td>0</td>\n",
              "      <td>0</td>\n",
              "      <td>0</td>\n",
              "      <td>0</td>\n",
              "      <td>0</td>\n",
              "      <td>0</td>\n",
              "      <td>0</td>\n",
              "      <td>0</td>\n",
              "      <td>0</td>\n",
              "      <td>0</td>\n",
              "      <td>...</td>\n",
              "      <td>0</td>\n",
              "      <td>0</td>\n",
              "      <td>0</td>\n",
              "      <td>0</td>\n",
              "      <td>0</td>\n",
              "      <td>0</td>\n",
              "      <td>0</td>\n",
              "      <td>0</td>\n",
              "      <td>0</td>\n",
              "      <td>0</td>\n",
              "      <td>0</td>\n",
              "      <td>0</td>\n",
              "      <td>0</td>\n",
              "      <td>0</td>\n",
              "      <td>0</td>\n",
              "      <td>0</td>\n",
              "      <td>0</td>\n",
              "      <td>0</td>\n",
              "      <td>0</td>\n",
              "      <td>0</td>\n",
              "      <td>0</td>\n",
              "      <td>0</td>\n",
              "      <td>1</td>\n",
              "      <td>0</td>\n",
              "      <td>0</td>\n",
              "      <td>0</td>\n",
              "      <td>0</td>\n",
              "      <td>0</td>\n",
              "      <td>0</td>\n",
              "      <td>0</td>\n",
              "      <td>0</td>\n",
              "      <td>0</td>\n",
              "      <td>0</td>\n",
              "      <td>0</td>\n",
              "      <td>0</td>\n",
              "      <td>0</td>\n",
              "      <td>0</td>\n",
              "      <td>0</td>\n",
              "      <td>0</td>\n",
              "      <td>0</td>\n",
              "    </tr>\n",
              "  </tbody>\n",
              "</table>\n",
              "<p>2 rows × 3743 columns</p>\n",
              "</div>"
            ],
            "text/plain": [
              "   Deal_title  Deal_value  ...  Internal_POC116  Internal_POC117\n",
              "0  TitleAD16O    200988.0  ...                0                0\n",
              "1  TitleOW6CR    409961.0  ...                0                0\n",
              "\n",
              "[2 rows x 3743 columns]"
            ]
          },
          "metadata": {
            "tags": []
          },
          "execution_count": 83
        }
      ]
    },
    {
      "cell_type": "code",
      "metadata": {
        "id": "Z6DEmidmDf8P"
      },
      "source": [
        "#testing_col=['Industry']\n",
        "\t\t\n",
        "#for col in testing_col:\n",
        "  #  print(f'{col} : {train[col].unique()}')"
      ],
      "execution_count": 84,
      "outputs": []
    },
    {
      "cell_type": "code",
      "metadata": {
        "colab": {
          "base_uri": "https://localhost:8080/"
        },
        "id": "Wk2pl1qaQ-bJ",
        "outputId": "107c514d-916c-403d-cd2b-2d8ae7e0bee2"
      },
      "source": [
        "train.shape"
      ],
      "execution_count": 85,
      "outputs": [
        {
          "output_type": "execute_result",
          "data": {
            "text/plain": [
              "(7007, 3743)"
            ]
          },
          "metadata": {
            "tags": []
          },
          "execution_count": 85
        }
      ]
    },
    {
      "cell_type": "code",
      "metadata": {
        "colab": {
          "base_uri": "https://localhost:8080/",
          "height": 126
        },
        "id": "vnN8aGEGX_SD",
        "outputId": "f9f2f079-6144-4f5a-812f-5589e23d7996"
      },
      "source": [
        "test[:1]"
      ],
      "execution_count": 86,
      "outputs": [
        {
          "output_type": "execute_result",
          "data": {
            "text/html": [
              "<div>\n",
              "<style scoped>\n",
              "    .dataframe tbody tr th:only-of-type {\n",
              "        vertical-align: middle;\n",
              "    }\n",
              "\n",
              "    .dataframe tbody tr th {\n",
              "        vertical-align: top;\n",
              "    }\n",
              "\n",
              "    .dataframe thead th {\n",
              "        text-align: right;\n",
              "    }\n",
              "</style>\n",
              "<table border=\"1\" class=\"dataframe\">\n",
              "  <thead>\n",
              "    <tr style=\"text-align: right;\">\n",
              "      <th></th>\n",
              "      <th>Deal_title</th>\n",
              "      <th>Deal_value</th>\n",
              "      <th>Weighted_amount</th>\n",
              "      <th>Pitch</th>\n",
              "      <th>Lead_revenue</th>\n",
              "      <th>Fund_category</th>\n",
              "      <th>Geography</th>\n",
              "      <th>Lead_source</th>\n",
              "      <th>Level_of_meeting</th>\n",
              "      <th>Resource</th>\n",
              "      <th>Internal_rating</th>\n",
              "      <th>Industry0</th>\n",
              "      <th>Industry1</th>\n",
              "      <th>Industry2</th>\n",
              "      <th>Industry3</th>\n",
              "      <th>Industry4</th>\n",
              "      <th>Industry5</th>\n",
              "      <th>Industry6</th>\n",
              "      <th>Industry7</th>\n",
              "      <th>Industry8</th>\n",
              "      <th>Industry9</th>\n",
              "      <th>Industry10</th>\n",
              "      <th>Industry11</th>\n",
              "      <th>Industry12</th>\n",
              "      <th>Industry13</th>\n",
              "      <th>Industry14</th>\n",
              "      <th>Industry15</th>\n",
              "      <th>Industry16</th>\n",
              "      <th>Industry17</th>\n",
              "      <th>Industry18</th>\n",
              "      <th>Industry19</th>\n",
              "      <th>Industry20</th>\n",
              "      <th>Industry21</th>\n",
              "      <th>Industry22</th>\n",
              "      <th>Industry23</th>\n",
              "      <th>Industry24</th>\n",
              "      <th>Industry25</th>\n",
              "      <th>Industry26</th>\n",
              "      <th>Industry27</th>\n",
              "      <th>Industry28</th>\n",
              "      <th>...</th>\n",
              "      <th>Internal_POC78</th>\n",
              "      <th>Internal_POC79</th>\n",
              "      <th>Internal_POC80</th>\n",
              "      <th>Internal_POC81</th>\n",
              "      <th>Internal_POC82</th>\n",
              "      <th>Internal_POC83</th>\n",
              "      <th>Internal_POC84</th>\n",
              "      <th>Internal_POC85</th>\n",
              "      <th>Internal_POC86</th>\n",
              "      <th>Internal_POC87</th>\n",
              "      <th>Internal_POC88</th>\n",
              "      <th>Internal_POC89</th>\n",
              "      <th>Internal_POC90</th>\n",
              "      <th>Internal_POC91</th>\n",
              "      <th>Internal_POC92</th>\n",
              "      <th>Internal_POC93</th>\n",
              "      <th>Internal_POC94</th>\n",
              "      <th>Internal_POC95</th>\n",
              "      <th>Internal_POC96</th>\n",
              "      <th>Internal_POC97</th>\n",
              "      <th>Internal_POC98</th>\n",
              "      <th>Internal_POC99</th>\n",
              "      <th>Internal_POC100</th>\n",
              "      <th>Internal_POC101</th>\n",
              "      <th>Internal_POC102</th>\n",
              "      <th>Internal_POC103</th>\n",
              "      <th>Internal_POC104</th>\n",
              "      <th>Internal_POC105</th>\n",
              "      <th>Internal_POC106</th>\n",
              "      <th>Internal_POC107</th>\n",
              "      <th>Internal_POC108</th>\n",
              "      <th>Internal_POC109</th>\n",
              "      <th>Internal_POC110</th>\n",
              "      <th>Internal_POC111</th>\n",
              "      <th>Internal_POC112</th>\n",
              "      <th>Internal_POC113</th>\n",
              "      <th>Internal_POC114</th>\n",
              "      <th>Internal_POC115</th>\n",
              "      <th>Internal_POC116</th>\n",
              "      <th>Internal_POC117</th>\n",
              "    </tr>\n",
              "  </thead>\n",
              "  <tbody>\n",
              "    <tr>\n",
              "      <th>0</th>\n",
              "      <td>TitleAD16O</td>\n",
              "      <td>200988.0</td>\n",
              "      <td>1002116.7</td>\n",
              "      <td>0</td>\n",
              "      <td>0</td>\n",
              "      <td>3</td>\n",
              "      <td>0</td>\n",
              "      <td>1</td>\n",
              "      <td>0</td>\n",
              "      <td>2</td>\n",
              "      <td>-1.0</td>\n",
              "      <td>0</td>\n",
              "      <td>0</td>\n",
              "      <td>0</td>\n",
              "      <td>0</td>\n",
              "      <td>0</td>\n",
              "      <td>0</td>\n",
              "      <td>0</td>\n",
              "      <td>0</td>\n",
              "      <td>0</td>\n",
              "      <td>0</td>\n",
              "      <td>0</td>\n",
              "      <td>0</td>\n",
              "      <td>0</td>\n",
              "      <td>0</td>\n",
              "      <td>0</td>\n",
              "      <td>0</td>\n",
              "      <td>0</td>\n",
              "      <td>0</td>\n",
              "      <td>1</td>\n",
              "      <td>0</td>\n",
              "      <td>0</td>\n",
              "      <td>0</td>\n",
              "      <td>0</td>\n",
              "      <td>0</td>\n",
              "      <td>0</td>\n",
              "      <td>0</td>\n",
              "      <td>1</td>\n",
              "      <td>0</td>\n",
              "      <td>0</td>\n",
              "      <td>...</td>\n",
              "      <td>0</td>\n",
              "      <td>0</td>\n",
              "      <td>0</td>\n",
              "      <td>0</td>\n",
              "      <td>0</td>\n",
              "      <td>0</td>\n",
              "      <td>0</td>\n",
              "      <td>0</td>\n",
              "      <td>0</td>\n",
              "      <td>0</td>\n",
              "      <td>0</td>\n",
              "      <td>0</td>\n",
              "      <td>0</td>\n",
              "      <td>0</td>\n",
              "      <td>0</td>\n",
              "      <td>0</td>\n",
              "      <td>0</td>\n",
              "      <td>0</td>\n",
              "      <td>0</td>\n",
              "      <td>0</td>\n",
              "      <td>0</td>\n",
              "      <td>0</td>\n",
              "      <td>0</td>\n",
              "      <td>0</td>\n",
              "      <td>0</td>\n",
              "      <td>0</td>\n",
              "      <td>0</td>\n",
              "      <td>0</td>\n",
              "      <td>0</td>\n",
              "      <td>0</td>\n",
              "      <td>0</td>\n",
              "      <td>0</td>\n",
              "      <td>0</td>\n",
              "      <td>0</td>\n",
              "      <td>0</td>\n",
              "      <td>0</td>\n",
              "      <td>0</td>\n",
              "      <td>0</td>\n",
              "      <td>0</td>\n",
              "      <td>0</td>\n",
              "    </tr>\n",
              "  </tbody>\n",
              "</table>\n",
              "<p>1 rows × 3743 columns</p>\n",
              "</div>"
            ],
            "text/plain": [
              "   Deal_title  Deal_value  ...  Internal_POC116  Internal_POC117\n",
              "0  TitleAD16O    200988.0  ...                0                0\n",
              "\n",
              "[1 rows x 3743 columns]"
            ]
          },
          "metadata": {
            "tags": []
          },
          "execution_count": 86
        }
      ]
    },
    {
      "cell_type": "code",
      "metadata": {
        "id": "70EpC7kfYFuE"
      },
      "source": [
        "test_df=test.drop(['Deal_title'],axis=1)"
      ],
      "execution_count": 87,
      "outputs": []
    },
    {
      "cell_type": "code",
      "metadata": {
        "colab": {
          "base_uri": "https://localhost:8080/"
        },
        "id": "E8Wpzy7DYODy",
        "outputId": "da6cf939-5c68-45bb-ef22-9ff8e1e964a1"
      },
      "source": [
        "test.shape"
      ],
      "execution_count": 88,
      "outputs": [
        {
          "output_type": "execute_result",
          "data": {
            "text/plain": [
              "(2093, 3743)"
            ]
          },
          "metadata": {
            "tags": []
          },
          "execution_count": 88
        }
      ]
    },
    {
      "cell_type": "code",
      "metadata": {
        "colab": {
          "base_uri": "https://localhost:8080/"
        },
        "id": "7vI4T4KsX4tV",
        "outputId": "7a54cbf8-1e44-461c-ff6f-47134fb0264c"
      },
      "source": [
        "test_df.shape"
      ],
      "execution_count": 89,
      "outputs": [
        {
          "output_type": "execute_result",
          "data": {
            "text/plain": [
              "(2093, 3742)"
            ]
          },
          "metadata": {
            "tags": []
          },
          "execution_count": 89
        }
      ]
    },
    {
      "cell_type": "code",
      "metadata": {
        "colab": {
          "base_uri": "https://localhost:8080/",
          "height": 155
        },
        "id": "1tRVqlSjt_ge",
        "outputId": "02fe8ae2-1cc9-45f3-df3e-b47b6a14c87e"
      },
      "source": [
        "test_df[:2]"
      ],
      "execution_count": 90,
      "outputs": [
        {
          "output_type": "execute_result",
          "data": {
            "text/html": [
              "<div>\n",
              "<style scoped>\n",
              "    .dataframe tbody tr th:only-of-type {\n",
              "        vertical-align: middle;\n",
              "    }\n",
              "\n",
              "    .dataframe tbody tr th {\n",
              "        vertical-align: top;\n",
              "    }\n",
              "\n",
              "    .dataframe thead th {\n",
              "        text-align: right;\n",
              "    }\n",
              "</style>\n",
              "<table border=\"1\" class=\"dataframe\">\n",
              "  <thead>\n",
              "    <tr style=\"text-align: right;\">\n",
              "      <th></th>\n",
              "      <th>Deal_value</th>\n",
              "      <th>Weighted_amount</th>\n",
              "      <th>Pitch</th>\n",
              "      <th>Lead_revenue</th>\n",
              "      <th>Fund_category</th>\n",
              "      <th>Geography</th>\n",
              "      <th>Lead_source</th>\n",
              "      <th>Level_of_meeting</th>\n",
              "      <th>Resource</th>\n",
              "      <th>Internal_rating</th>\n",
              "      <th>Industry0</th>\n",
              "      <th>Industry1</th>\n",
              "      <th>Industry2</th>\n",
              "      <th>Industry3</th>\n",
              "      <th>Industry4</th>\n",
              "      <th>Industry5</th>\n",
              "      <th>Industry6</th>\n",
              "      <th>Industry7</th>\n",
              "      <th>Industry8</th>\n",
              "      <th>Industry9</th>\n",
              "      <th>Industry10</th>\n",
              "      <th>Industry11</th>\n",
              "      <th>Industry12</th>\n",
              "      <th>Industry13</th>\n",
              "      <th>Industry14</th>\n",
              "      <th>Industry15</th>\n",
              "      <th>Industry16</th>\n",
              "      <th>Industry17</th>\n",
              "      <th>Industry18</th>\n",
              "      <th>Industry19</th>\n",
              "      <th>Industry20</th>\n",
              "      <th>Industry21</th>\n",
              "      <th>Industry22</th>\n",
              "      <th>Industry23</th>\n",
              "      <th>Industry24</th>\n",
              "      <th>Industry25</th>\n",
              "      <th>Industry26</th>\n",
              "      <th>Industry27</th>\n",
              "      <th>Industry28</th>\n",
              "      <th>Industry29</th>\n",
              "      <th>...</th>\n",
              "      <th>Internal_POC78</th>\n",
              "      <th>Internal_POC79</th>\n",
              "      <th>Internal_POC80</th>\n",
              "      <th>Internal_POC81</th>\n",
              "      <th>Internal_POC82</th>\n",
              "      <th>Internal_POC83</th>\n",
              "      <th>Internal_POC84</th>\n",
              "      <th>Internal_POC85</th>\n",
              "      <th>Internal_POC86</th>\n",
              "      <th>Internal_POC87</th>\n",
              "      <th>Internal_POC88</th>\n",
              "      <th>Internal_POC89</th>\n",
              "      <th>Internal_POC90</th>\n",
              "      <th>Internal_POC91</th>\n",
              "      <th>Internal_POC92</th>\n",
              "      <th>Internal_POC93</th>\n",
              "      <th>Internal_POC94</th>\n",
              "      <th>Internal_POC95</th>\n",
              "      <th>Internal_POC96</th>\n",
              "      <th>Internal_POC97</th>\n",
              "      <th>Internal_POC98</th>\n",
              "      <th>Internal_POC99</th>\n",
              "      <th>Internal_POC100</th>\n",
              "      <th>Internal_POC101</th>\n",
              "      <th>Internal_POC102</th>\n",
              "      <th>Internal_POC103</th>\n",
              "      <th>Internal_POC104</th>\n",
              "      <th>Internal_POC105</th>\n",
              "      <th>Internal_POC106</th>\n",
              "      <th>Internal_POC107</th>\n",
              "      <th>Internal_POC108</th>\n",
              "      <th>Internal_POC109</th>\n",
              "      <th>Internal_POC110</th>\n",
              "      <th>Internal_POC111</th>\n",
              "      <th>Internal_POC112</th>\n",
              "      <th>Internal_POC113</th>\n",
              "      <th>Internal_POC114</th>\n",
              "      <th>Internal_POC115</th>\n",
              "      <th>Internal_POC116</th>\n",
              "      <th>Internal_POC117</th>\n",
              "    </tr>\n",
              "  </thead>\n",
              "  <tbody>\n",
              "    <tr>\n",
              "      <th>0</th>\n",
              "      <td>200988.0</td>\n",
              "      <td>1002116.7</td>\n",
              "      <td>0</td>\n",
              "      <td>0</td>\n",
              "      <td>3</td>\n",
              "      <td>0</td>\n",
              "      <td>1</td>\n",
              "      <td>0</td>\n",
              "      <td>2</td>\n",
              "      <td>-1.0</td>\n",
              "      <td>0</td>\n",
              "      <td>0</td>\n",
              "      <td>0</td>\n",
              "      <td>0</td>\n",
              "      <td>0</td>\n",
              "      <td>0</td>\n",
              "      <td>0</td>\n",
              "      <td>0</td>\n",
              "      <td>0</td>\n",
              "      <td>0</td>\n",
              "      <td>0</td>\n",
              "      <td>0</td>\n",
              "      <td>0</td>\n",
              "      <td>0</td>\n",
              "      <td>0</td>\n",
              "      <td>0</td>\n",
              "      <td>0</td>\n",
              "      <td>0</td>\n",
              "      <td>1</td>\n",
              "      <td>0</td>\n",
              "      <td>0</td>\n",
              "      <td>0</td>\n",
              "      <td>0</td>\n",
              "      <td>0</td>\n",
              "      <td>0</td>\n",
              "      <td>0</td>\n",
              "      <td>1</td>\n",
              "      <td>0</td>\n",
              "      <td>0</td>\n",
              "      <td>0</td>\n",
              "      <td>...</td>\n",
              "      <td>0</td>\n",
              "      <td>0</td>\n",
              "      <td>0</td>\n",
              "      <td>0</td>\n",
              "      <td>0</td>\n",
              "      <td>0</td>\n",
              "      <td>0</td>\n",
              "      <td>0</td>\n",
              "      <td>0</td>\n",
              "      <td>0</td>\n",
              "      <td>0</td>\n",
              "      <td>0</td>\n",
              "      <td>0</td>\n",
              "      <td>0</td>\n",
              "      <td>0</td>\n",
              "      <td>0</td>\n",
              "      <td>0</td>\n",
              "      <td>0</td>\n",
              "      <td>0</td>\n",
              "      <td>0</td>\n",
              "      <td>0</td>\n",
              "      <td>0</td>\n",
              "      <td>0</td>\n",
              "      <td>0</td>\n",
              "      <td>0</td>\n",
              "      <td>0</td>\n",
              "      <td>0</td>\n",
              "      <td>0</td>\n",
              "      <td>0</td>\n",
              "      <td>0</td>\n",
              "      <td>0</td>\n",
              "      <td>0</td>\n",
              "      <td>0</td>\n",
              "      <td>0</td>\n",
              "      <td>0</td>\n",
              "      <td>0</td>\n",
              "      <td>0</td>\n",
              "      <td>0</td>\n",
              "      <td>0</td>\n",
              "      <td>0</td>\n",
              "    </tr>\n",
              "    <tr>\n",
              "      <th>1</th>\n",
              "      <td>409961.0</td>\n",
              "      <td>2541758.2</td>\n",
              "      <td>0</td>\n",
              "      <td>0</td>\n",
              "      <td>2</td>\n",
              "      <td>1</td>\n",
              "      <td>1</td>\n",
              "      <td>1</td>\n",
              "      <td>5</td>\n",
              "      <td>1.0</td>\n",
              "      <td>0</td>\n",
              "      <td>0</td>\n",
              "      <td>0</td>\n",
              "      <td>0</td>\n",
              "      <td>0</td>\n",
              "      <td>0</td>\n",
              "      <td>0</td>\n",
              "      <td>0</td>\n",
              "      <td>0</td>\n",
              "      <td>0</td>\n",
              "      <td>0</td>\n",
              "      <td>0</td>\n",
              "      <td>0</td>\n",
              "      <td>0</td>\n",
              "      <td>0</td>\n",
              "      <td>0</td>\n",
              "      <td>0</td>\n",
              "      <td>0</td>\n",
              "      <td>0</td>\n",
              "      <td>0</td>\n",
              "      <td>0</td>\n",
              "      <td>0</td>\n",
              "      <td>0</td>\n",
              "      <td>0</td>\n",
              "      <td>0</td>\n",
              "      <td>0</td>\n",
              "      <td>0</td>\n",
              "      <td>0</td>\n",
              "      <td>0</td>\n",
              "      <td>0</td>\n",
              "      <td>...</td>\n",
              "      <td>0</td>\n",
              "      <td>0</td>\n",
              "      <td>0</td>\n",
              "      <td>0</td>\n",
              "      <td>0</td>\n",
              "      <td>0</td>\n",
              "      <td>0</td>\n",
              "      <td>0</td>\n",
              "      <td>0</td>\n",
              "      <td>0</td>\n",
              "      <td>0</td>\n",
              "      <td>0</td>\n",
              "      <td>0</td>\n",
              "      <td>0</td>\n",
              "      <td>0</td>\n",
              "      <td>0</td>\n",
              "      <td>0</td>\n",
              "      <td>0</td>\n",
              "      <td>0</td>\n",
              "      <td>0</td>\n",
              "      <td>0</td>\n",
              "      <td>0</td>\n",
              "      <td>1</td>\n",
              "      <td>0</td>\n",
              "      <td>0</td>\n",
              "      <td>0</td>\n",
              "      <td>0</td>\n",
              "      <td>0</td>\n",
              "      <td>0</td>\n",
              "      <td>0</td>\n",
              "      <td>0</td>\n",
              "      <td>0</td>\n",
              "      <td>0</td>\n",
              "      <td>0</td>\n",
              "      <td>0</td>\n",
              "      <td>0</td>\n",
              "      <td>0</td>\n",
              "      <td>0</td>\n",
              "      <td>0</td>\n",
              "      <td>0</td>\n",
              "    </tr>\n",
              "  </tbody>\n",
              "</table>\n",
              "<p>2 rows × 3742 columns</p>\n",
              "</div>"
            ],
            "text/plain": [
              "   Deal_value  Weighted_amount  ...  Internal_POC116  Internal_POC117\n",
              "0    200988.0        1002116.7  ...                0                0\n",
              "1    409961.0        2541758.2  ...                0                0\n",
              "\n",
              "[2 rows x 3742 columns]"
            ]
          },
          "metadata": {
            "tags": []
          },
          "execution_count": 90
        }
      ]
    },
    {
      "cell_type": "code",
      "metadata": {
        "id": "FSE9cjZmX-Un"
      },
      "source": [
        "continuous_data_t, categorical_data_t = divideFeatures(test_df)"
      ],
      "execution_count": 91,
      "outputs": []
    },
    {
      "cell_type": "code",
      "metadata": {
        "colab": {
          "base_uri": "https://localhost:8080/",
          "height": 90
        },
        "id": "ogggZ4spYULP",
        "outputId": "3ce05f4f-7570-4106-e8af-19b5dd6600d4"
      },
      "source": [
        "categorical_data_t[:2]"
      ],
      "execution_count": 92,
      "outputs": [
        {
          "output_type": "execute_result",
          "data": {
            "text/html": [
              "<div>\n",
              "<style scoped>\n",
              "    .dataframe tbody tr th:only-of-type {\n",
              "        vertical-align: middle;\n",
              "    }\n",
              "\n",
              "    .dataframe tbody tr th {\n",
              "        vertical-align: top;\n",
              "    }\n",
              "\n",
              "    .dataframe thead th {\n",
              "        text-align: right;\n",
              "    }\n",
              "</style>\n",
              "<table border=\"1\" class=\"dataframe\">\n",
              "  <thead>\n",
              "    <tr style=\"text-align: right;\">\n",
              "      <th></th>\n",
              "    </tr>\n",
              "  </thead>\n",
              "  <tbody>\n",
              "    <tr>\n",
              "      <th>0</th>\n",
              "    </tr>\n",
              "    <tr>\n",
              "      <th>1</th>\n",
              "    </tr>\n",
              "  </tbody>\n",
              "</table>\n",
              "</div>"
            ],
            "text/plain": [
              "Empty DataFrame\n",
              "Columns: []\n",
              "Index: [0, 1]"
            ]
          },
          "metadata": {
            "tags": []
          },
          "execution_count": 92
        }
      ]
    },
    {
      "cell_type": "code",
      "metadata": {
        "colab": {
          "base_uri": "https://localhost:8080/",
          "height": 155
        },
        "id": "dAFtjldTYdbI",
        "outputId": "502a639b-d8b7-43a8-d6e1-20c58c47a524"
      },
      "source": [
        "test_df[:2]"
      ],
      "execution_count": 93,
      "outputs": [
        {
          "output_type": "execute_result",
          "data": {
            "text/html": [
              "<div>\n",
              "<style scoped>\n",
              "    .dataframe tbody tr th:only-of-type {\n",
              "        vertical-align: middle;\n",
              "    }\n",
              "\n",
              "    .dataframe tbody tr th {\n",
              "        vertical-align: top;\n",
              "    }\n",
              "\n",
              "    .dataframe thead th {\n",
              "        text-align: right;\n",
              "    }\n",
              "</style>\n",
              "<table border=\"1\" class=\"dataframe\">\n",
              "  <thead>\n",
              "    <tr style=\"text-align: right;\">\n",
              "      <th></th>\n",
              "      <th>Deal_value</th>\n",
              "      <th>Weighted_amount</th>\n",
              "      <th>Pitch</th>\n",
              "      <th>Lead_revenue</th>\n",
              "      <th>Fund_category</th>\n",
              "      <th>Geography</th>\n",
              "      <th>Lead_source</th>\n",
              "      <th>Level_of_meeting</th>\n",
              "      <th>Resource</th>\n",
              "      <th>Internal_rating</th>\n",
              "      <th>Industry0</th>\n",
              "      <th>Industry1</th>\n",
              "      <th>Industry2</th>\n",
              "      <th>Industry3</th>\n",
              "      <th>Industry4</th>\n",
              "      <th>Industry5</th>\n",
              "      <th>Industry6</th>\n",
              "      <th>Industry7</th>\n",
              "      <th>Industry8</th>\n",
              "      <th>Industry9</th>\n",
              "      <th>Industry10</th>\n",
              "      <th>Industry11</th>\n",
              "      <th>Industry12</th>\n",
              "      <th>Industry13</th>\n",
              "      <th>Industry14</th>\n",
              "      <th>Industry15</th>\n",
              "      <th>Industry16</th>\n",
              "      <th>Industry17</th>\n",
              "      <th>Industry18</th>\n",
              "      <th>Industry19</th>\n",
              "      <th>Industry20</th>\n",
              "      <th>Industry21</th>\n",
              "      <th>Industry22</th>\n",
              "      <th>Industry23</th>\n",
              "      <th>Industry24</th>\n",
              "      <th>Industry25</th>\n",
              "      <th>Industry26</th>\n",
              "      <th>Industry27</th>\n",
              "      <th>Industry28</th>\n",
              "      <th>Industry29</th>\n",
              "      <th>...</th>\n",
              "      <th>Internal_POC78</th>\n",
              "      <th>Internal_POC79</th>\n",
              "      <th>Internal_POC80</th>\n",
              "      <th>Internal_POC81</th>\n",
              "      <th>Internal_POC82</th>\n",
              "      <th>Internal_POC83</th>\n",
              "      <th>Internal_POC84</th>\n",
              "      <th>Internal_POC85</th>\n",
              "      <th>Internal_POC86</th>\n",
              "      <th>Internal_POC87</th>\n",
              "      <th>Internal_POC88</th>\n",
              "      <th>Internal_POC89</th>\n",
              "      <th>Internal_POC90</th>\n",
              "      <th>Internal_POC91</th>\n",
              "      <th>Internal_POC92</th>\n",
              "      <th>Internal_POC93</th>\n",
              "      <th>Internal_POC94</th>\n",
              "      <th>Internal_POC95</th>\n",
              "      <th>Internal_POC96</th>\n",
              "      <th>Internal_POC97</th>\n",
              "      <th>Internal_POC98</th>\n",
              "      <th>Internal_POC99</th>\n",
              "      <th>Internal_POC100</th>\n",
              "      <th>Internal_POC101</th>\n",
              "      <th>Internal_POC102</th>\n",
              "      <th>Internal_POC103</th>\n",
              "      <th>Internal_POC104</th>\n",
              "      <th>Internal_POC105</th>\n",
              "      <th>Internal_POC106</th>\n",
              "      <th>Internal_POC107</th>\n",
              "      <th>Internal_POC108</th>\n",
              "      <th>Internal_POC109</th>\n",
              "      <th>Internal_POC110</th>\n",
              "      <th>Internal_POC111</th>\n",
              "      <th>Internal_POC112</th>\n",
              "      <th>Internal_POC113</th>\n",
              "      <th>Internal_POC114</th>\n",
              "      <th>Internal_POC115</th>\n",
              "      <th>Internal_POC116</th>\n",
              "      <th>Internal_POC117</th>\n",
              "    </tr>\n",
              "  </thead>\n",
              "  <tbody>\n",
              "    <tr>\n",
              "      <th>0</th>\n",
              "      <td>200988.0</td>\n",
              "      <td>1002116.7</td>\n",
              "      <td>0</td>\n",
              "      <td>0</td>\n",
              "      <td>3</td>\n",
              "      <td>0</td>\n",
              "      <td>1</td>\n",
              "      <td>0</td>\n",
              "      <td>2</td>\n",
              "      <td>-1.0</td>\n",
              "      <td>0</td>\n",
              "      <td>0</td>\n",
              "      <td>0</td>\n",
              "      <td>0</td>\n",
              "      <td>0</td>\n",
              "      <td>0</td>\n",
              "      <td>0</td>\n",
              "      <td>0</td>\n",
              "      <td>0</td>\n",
              "      <td>0</td>\n",
              "      <td>0</td>\n",
              "      <td>0</td>\n",
              "      <td>0</td>\n",
              "      <td>0</td>\n",
              "      <td>0</td>\n",
              "      <td>0</td>\n",
              "      <td>0</td>\n",
              "      <td>0</td>\n",
              "      <td>1</td>\n",
              "      <td>0</td>\n",
              "      <td>0</td>\n",
              "      <td>0</td>\n",
              "      <td>0</td>\n",
              "      <td>0</td>\n",
              "      <td>0</td>\n",
              "      <td>0</td>\n",
              "      <td>1</td>\n",
              "      <td>0</td>\n",
              "      <td>0</td>\n",
              "      <td>0</td>\n",
              "      <td>...</td>\n",
              "      <td>0</td>\n",
              "      <td>0</td>\n",
              "      <td>0</td>\n",
              "      <td>0</td>\n",
              "      <td>0</td>\n",
              "      <td>0</td>\n",
              "      <td>0</td>\n",
              "      <td>0</td>\n",
              "      <td>0</td>\n",
              "      <td>0</td>\n",
              "      <td>0</td>\n",
              "      <td>0</td>\n",
              "      <td>0</td>\n",
              "      <td>0</td>\n",
              "      <td>0</td>\n",
              "      <td>0</td>\n",
              "      <td>0</td>\n",
              "      <td>0</td>\n",
              "      <td>0</td>\n",
              "      <td>0</td>\n",
              "      <td>0</td>\n",
              "      <td>0</td>\n",
              "      <td>0</td>\n",
              "      <td>0</td>\n",
              "      <td>0</td>\n",
              "      <td>0</td>\n",
              "      <td>0</td>\n",
              "      <td>0</td>\n",
              "      <td>0</td>\n",
              "      <td>0</td>\n",
              "      <td>0</td>\n",
              "      <td>0</td>\n",
              "      <td>0</td>\n",
              "      <td>0</td>\n",
              "      <td>0</td>\n",
              "      <td>0</td>\n",
              "      <td>0</td>\n",
              "      <td>0</td>\n",
              "      <td>0</td>\n",
              "      <td>0</td>\n",
              "    </tr>\n",
              "    <tr>\n",
              "      <th>1</th>\n",
              "      <td>409961.0</td>\n",
              "      <td>2541758.2</td>\n",
              "      <td>0</td>\n",
              "      <td>0</td>\n",
              "      <td>2</td>\n",
              "      <td>1</td>\n",
              "      <td>1</td>\n",
              "      <td>1</td>\n",
              "      <td>5</td>\n",
              "      <td>1.0</td>\n",
              "      <td>0</td>\n",
              "      <td>0</td>\n",
              "      <td>0</td>\n",
              "      <td>0</td>\n",
              "      <td>0</td>\n",
              "      <td>0</td>\n",
              "      <td>0</td>\n",
              "      <td>0</td>\n",
              "      <td>0</td>\n",
              "      <td>0</td>\n",
              "      <td>0</td>\n",
              "      <td>0</td>\n",
              "      <td>0</td>\n",
              "      <td>0</td>\n",
              "      <td>0</td>\n",
              "      <td>0</td>\n",
              "      <td>0</td>\n",
              "      <td>0</td>\n",
              "      <td>0</td>\n",
              "      <td>0</td>\n",
              "      <td>0</td>\n",
              "      <td>0</td>\n",
              "      <td>0</td>\n",
              "      <td>0</td>\n",
              "      <td>0</td>\n",
              "      <td>0</td>\n",
              "      <td>0</td>\n",
              "      <td>0</td>\n",
              "      <td>0</td>\n",
              "      <td>0</td>\n",
              "      <td>...</td>\n",
              "      <td>0</td>\n",
              "      <td>0</td>\n",
              "      <td>0</td>\n",
              "      <td>0</td>\n",
              "      <td>0</td>\n",
              "      <td>0</td>\n",
              "      <td>0</td>\n",
              "      <td>0</td>\n",
              "      <td>0</td>\n",
              "      <td>0</td>\n",
              "      <td>0</td>\n",
              "      <td>0</td>\n",
              "      <td>0</td>\n",
              "      <td>0</td>\n",
              "      <td>0</td>\n",
              "      <td>0</td>\n",
              "      <td>0</td>\n",
              "      <td>0</td>\n",
              "      <td>0</td>\n",
              "      <td>0</td>\n",
              "      <td>0</td>\n",
              "      <td>0</td>\n",
              "      <td>1</td>\n",
              "      <td>0</td>\n",
              "      <td>0</td>\n",
              "      <td>0</td>\n",
              "      <td>0</td>\n",
              "      <td>0</td>\n",
              "      <td>0</td>\n",
              "      <td>0</td>\n",
              "      <td>0</td>\n",
              "      <td>0</td>\n",
              "      <td>0</td>\n",
              "      <td>0</td>\n",
              "      <td>0</td>\n",
              "      <td>0</td>\n",
              "      <td>0</td>\n",
              "      <td>0</td>\n",
              "      <td>0</td>\n",
              "      <td>0</td>\n",
              "    </tr>\n",
              "  </tbody>\n",
              "</table>\n",
              "<p>2 rows × 3742 columns</p>\n",
              "</div>"
            ],
            "text/plain": [
              "   Deal_value  Weighted_amount  ...  Internal_POC116  Internal_POC117\n",
              "0    200988.0        1002116.7  ...                0                0\n",
              "1    409961.0        2541758.2  ...                0                0\n",
              "\n",
              "[2 rows x 3742 columns]"
            ]
          },
          "metadata": {
            "tags": []
          },
          "execution_count": 93
        }
      ]
    },
    {
      "cell_type": "code",
      "metadata": {
        "colab": {
          "base_uri": "https://localhost:8080/"
        },
        "id": "0UagYkHil_7X",
        "outputId": "c74dc243-aa62-4f5f-9fe9-5a94087df55f"
      },
      "source": [
        "train.isna().sum().head(20)"
      ],
      "execution_count": 94,
      "outputs": [
        {
          "output_type": "execute_result",
          "data": {
            "text/plain": [
              "Deal_value             0\n",
              "Weighted_amount        0\n",
              "Pitch                  0\n",
              "Lead_revenue           0\n",
              "Fund_category          0\n",
              "Geography              0\n",
              "Lead_source            0\n",
              "Level_of_meeting       0\n",
              "Resource               0\n",
              "Internal_rating        0\n",
              "Success_probability    0\n",
              "Industry0              0\n",
              "Industry1              0\n",
              "Industry2              0\n",
              "Industry3              0\n",
              "Industry4              0\n",
              "Industry5              0\n",
              "Industry6              0\n",
              "Industry7              0\n",
              "Industry8              0\n",
              "dtype: int64"
            ]
          },
          "metadata": {
            "tags": []
          },
          "execution_count": 94
        }
      ]
    },
    {
      "cell_type": "code",
      "metadata": {
        "colab": {
          "base_uri": "https://localhost:8080/"
        },
        "id": "KXGUS7RHfMPr",
        "outputId": "ae639842-7374-4f8a-bc56-69e3ceb6d28e"
      },
      "source": [
        "!pip install catboost\n",
        "!pip install category_encoders"
      ],
      "execution_count": 280,
      "outputs": [
        {
          "output_type": "stream",
          "text": [
            "Requirement already satisfied: catboost in /usr/local/lib/python3.7/dist-packages (0.25.1)\n",
            "Requirement already satisfied: matplotlib in /usr/local/lib/python3.7/dist-packages (from catboost) (3.2.2)\n",
            "Requirement already satisfied: numpy>=1.16.0 in /usr/local/lib/python3.7/dist-packages (from catboost) (1.19.5)\n",
            "Requirement already satisfied: pandas>=0.24.0 in /usr/local/lib/python3.7/dist-packages (from catboost) (1.1.5)\n",
            "Requirement already satisfied: plotly in /usr/local/lib/python3.7/dist-packages (from catboost) (4.4.1)\n",
            "Requirement already satisfied: six in /usr/local/lib/python3.7/dist-packages (from catboost) (1.15.0)\n",
            "Requirement already satisfied: graphviz in /usr/local/lib/python3.7/dist-packages (from catboost) (0.10.1)\n",
            "Requirement already satisfied: scipy in /usr/local/lib/python3.7/dist-packages (from catboost) (1.4.1)\n",
            "Requirement already satisfied: kiwisolver>=1.0.1 in /usr/local/lib/python3.7/dist-packages (from matplotlib->catboost) (1.3.1)\n",
            "Requirement already satisfied: pyparsing!=2.0.4,!=2.1.2,!=2.1.6,>=2.0.1 in /usr/local/lib/python3.7/dist-packages (from matplotlib->catboost) (2.4.7)\n",
            "Requirement already satisfied: python-dateutil>=2.1 in /usr/local/lib/python3.7/dist-packages (from matplotlib->catboost) (2.8.1)\n",
            "Requirement already satisfied: cycler>=0.10 in /usr/local/lib/python3.7/dist-packages (from matplotlib->catboost) (0.10.0)\n",
            "Requirement already satisfied: pytz>=2017.2 in /usr/local/lib/python3.7/dist-packages (from pandas>=0.24.0->catboost) (2018.9)\n",
            "Requirement already satisfied: retrying>=1.3.3 in /usr/local/lib/python3.7/dist-packages (from plotly->catboost) (1.3.3)\n",
            "Requirement already satisfied: category_encoders in /usr/local/lib/python3.7/dist-packages (2.2.2)\n",
            "Requirement already satisfied: patsy>=0.5.1 in /usr/local/lib/python3.7/dist-packages (from category_encoders) (0.5.1)\n",
            "Requirement already satisfied: numpy>=1.14.0 in /usr/local/lib/python3.7/dist-packages (from category_encoders) (1.19.5)\n",
            "Requirement already satisfied: pandas>=0.21.1 in /usr/local/lib/python3.7/dist-packages (from category_encoders) (1.1.5)\n",
            "Requirement already satisfied: scipy>=1.0.0 in /usr/local/lib/python3.7/dist-packages (from category_encoders) (1.4.1)\n",
            "Requirement already satisfied: statsmodels>=0.9.0 in /usr/local/lib/python3.7/dist-packages (from category_encoders) (0.10.2)\n",
            "Requirement already satisfied: scikit-learn>=0.20.0 in /usr/local/lib/python3.7/dist-packages (from category_encoders) (0.22.2.post1)\n",
            "Requirement already satisfied: six in /usr/local/lib/python3.7/dist-packages (from patsy>=0.5.1->category_encoders) (1.15.0)\n",
            "Requirement already satisfied: python-dateutil>=2.7.3 in /usr/local/lib/python3.7/dist-packages (from pandas>=0.21.1->category_encoders) (2.8.1)\n",
            "Requirement already satisfied: pytz>=2017.2 in /usr/local/lib/python3.7/dist-packages (from pandas>=0.21.1->category_encoders) (2018.9)\n",
            "Requirement already satisfied: joblib>=0.11 in /usr/local/lib/python3.7/dist-packages (from scikit-learn>=0.20.0->category_encoders) (1.0.1)\n"
          ],
          "name": "stdout"
        }
      ]
    },
    {
      "cell_type": "code",
      "metadata": {
        "colab": {
          "base_uri": "https://localhost:8080/"
        },
        "id": "qISJ2pOZfGQp",
        "outputId": "d1abb41c-9868-4f5b-f30f-4373e5e544cf"
      },
      "source": [
        "from sklearn.model_selection import KFold\n",
        "from sklearn.ensemble import RandomForestRegressor\n",
        "from sklearn.metrics import mean_squared_log_error\n",
        "from sklearn.linear_model import LinearRegression\n",
        "from sklearn.ensemble import ExtraTreesRegressor\n",
        "from sklearn.ensemble import GradientBoostingRegressor\n",
        "from catboost import CatBoostRegressor\n",
        "from sklearn.linear_model import LassoCV, ElasticNet\n",
        "from sklearn.linear_model import RidgeCV\n",
        "from sklearn.tree import DecisionTreeRegressor\n",
        "from category_encoders import MEstimateEncoder\n",
        "from sklearn.ensemble import StackingRegressor\n",
        "from sklearn.ensemble import VotingRegressor\n",
        "from sklearn.neighbors import KNeighborsRegressor\n",
        "from sklearn.preprocessing import OrdinalEncoder\n",
        "from sklearn.svm import SVR\n",
        "import lightgbm as lgb\n",
        "import xgboost as xgb\n",
        "from sklearn.metrics import mean_squared_log_error"
      ],
      "execution_count": 100,
      "outputs": [
        {
          "output_type": "stream",
          "text": [
            "/usr/local/lib/python3.7/dist-packages/statsmodels/tools/_testing.py:19: FutureWarning: pandas.util.testing is deprecated. Use the functions in the public API at pandas.testing instead.\n",
            "  import pandas.util.testing as tm\n"
          ],
          "name": "stderr"
        }
      ]
    },
    {
      "cell_type": "code",
      "metadata": {
        "id": "8UJpzjB2Yg7C"
      },
      "source": [
        "X = train.drop('Success_probability', axis=1)\n",
        "y= train['Success_probability']"
      ],
      "execution_count": 95,
      "outputs": []
    },
    {
      "cell_type": "code",
      "metadata": {
        "colab": {
          "base_uri": "https://localhost:8080/"
        },
        "id": "p4RrxhErmQcP",
        "outputId": "76150ca2-77b8-4d27-aa63-9d89df7658c5"
      },
      "source": [
        "y"
      ],
      "execution_count": 96,
      "outputs": [
        {
          "output_type": "execute_result",
          "data": {
            "text/plain": [
              "0        73.60\n",
              "1        58.90\n",
              "2        68.80\n",
              "3        64.50\n",
              "4        62.40\n",
              "         ...  \n",
              "7002    107.34\n",
              "7003     26.35\n",
              "7004     70.60\n",
              "7005     -5.00\n",
              "7006     68.70\n",
              "Name: Success_probability, Length: 7007, dtype: float64"
            ]
          },
          "metadata": {
            "tags": []
          },
          "execution_count": 96
        }
      ]
    },
    {
      "cell_type": "code",
      "metadata": {
        "colab": {
          "base_uri": "https://localhost:8080/"
        },
        "id": "uRroByT4zB6-",
        "outputId": "59a24e65-9948-49a0-d148-9338f4087a49"
      },
      "source": [
        "y=np.log(y)"
      ],
      "execution_count": 145,
      "outputs": [
        {
          "output_type": "stream",
          "text": [
            "/usr/local/lib/python3.7/dist-packages/pandas/core/series.py:726: RuntimeWarning: invalid value encountered in log\n",
            "  result = getattr(ufunc, method)(*inputs, **kwargs)\n"
          ],
          "name": "stderr"
        }
      ]
    },
    {
      "cell_type": "code",
      "metadata": {
        "colab": {
          "base_uri": "https://localhost:8080/"
        },
        "id": "28BuC5Pk0tg6",
        "outputId": "67857c5b-5eba-4764-f512-3630adcb254c"
      },
      "source": [
        "y"
      ],
      "execution_count": 97,
      "outputs": [
        {
          "output_type": "execute_result",
          "data": {
            "text/plain": [
              "0        73.60\n",
              "1        58.90\n",
              "2        68.80\n",
              "3        64.50\n",
              "4        62.40\n",
              "         ...  \n",
              "7002    107.34\n",
              "7003     26.35\n",
              "7004     70.60\n",
              "7005     -5.00\n",
              "7006     68.70\n",
              "Name: Success_probability, Length: 7007, dtype: float64"
            ]
          },
          "metadata": {
            "tags": []
          },
          "execution_count": 97
        }
      ]
    },
    {
      "cell_type": "code",
      "metadata": {
        "id": "Z113Yfp4ffhV"
      },
      "source": [
        "# Stacking regressor function to ensemble LGBM and CatBoost\n",
        "def get_stacking():\n",
        "    level0 = [#('lgbm_regressor', lgb.LGBMRegressor(n_estimators=3000, max_depth=11, learning_rate=0.06, num_leaves=40)),\n",
        "              #('gradient_regressor',GradientBoostingRegressor(n_estimators=1000, learning_rate=0.03)),\n",
        "               ('XGB_regressor', xgb.XGBRegressor(n_estimators=700, objective='reg:squarederror', max_depth=7, learning_rate=0.06, colsample_bytree=0.9, subsample=0.8))]\n",
        "               #('catboost', CatBoostRegressor(silent=True,learning_rate=0.18, n_estimators=2000, depth=6))]\n",
        "    \n",
        "    level1 = ExtraTreesRegressor()\n",
        "    model = StackingRegressor(estimators=level0, final_estimator=level1, cv=5)\n",
        "    return model"
      ],
      "execution_count": 98,
      "outputs": []
    },
    {
      "cell_type": "code",
      "metadata": {
        "colab": {
          "base_uri": "https://localhost:8080/"
        },
        "id": "7ENoURacfitc",
        "outputId": "fb19deeb-7949-4b97-dbbe-5f5af821b6c4"
      },
      "source": [
        "# K-Fold Cross Validation \n",
        "kf = KFold(n_splits=10, shuffle=True)\n",
        "scores = []\n",
        "for fold, (train_index, test_index) in enumerate(kf.split(X, y), 1):\n",
        "    X_train = X.iloc[train_index]\n",
        "    #X_train = ordinal_enc(X_train, cat_feature)\n",
        "    #for col in cat_feature:\n",
        "      #X_train[col] = le.fit_transform(X_train[col])\n",
        "    \n",
        "   # y_train = np.log(y.iloc[train_index])\n",
        "    y_train = y.iloc[train_index]\n",
        "\n",
        "    \n",
        "    X_test = X.iloc[test_index]\n",
        "    #X_test = label_enc(X_test, cat_feature, testing=True)\n",
        "    #for col in cat_feature:\n",
        "      #X_test[col] = le.fit_transform(X_test[col])\n",
        "\n",
        "    y_test = y.iloc[test_index]\n",
        "    \n",
        "    model = GradientBoostingRegressor(n_estimators=200, learning_rate=0.03)\n",
        "    #model = RandomForestRegressor(n_estimators=200, n_jobs=-1)\n",
        "    #model = ElasticNet()\n",
        "    #model = lgb.LGBMRegressor(n_estimators=2500, max_depth=11, learning_rate=0.05, num_leaves=40)\n",
        "    #model = xgb.XGBRegressor(n_estimators=590, objective='reg:squarederror', max_depth=7, learning_rate=0.06, min_child_weight=1.2)\n",
        "    #model = get_stacking()\n",
        "    #model = ExtraTreesRegressor(n_estimators=500, bootstrap=True, n_jobs=-1)\n",
        "    #model = LinearRegression()\n",
        "    #model = KNeighborsRegressor(weights='distance', n_neighbors=15)\n",
        "    #model = CatBoostRegressor(silent=True,learning_rate=0.18, n_estimators=1700, depth=6)\n",
        "    model.fit(X_train, y_train)\n",
        "    \n",
        "    pred = model.predict(X_test)\n",
        " \n",
        "    score = np.sqrt(mean_squared_error(y_test, (pred)))#np.expm1\n",
        "    print(f'RMSLE score for fold {fold} is {score}')\n",
        "    scores.append(score)\n",
        "\n",
        "print(f'Mean RMSLE score is {np.mean(scores)}')"
      ],
      "execution_count": 102,
      "outputs": [
        {
          "output_type": "stream",
          "text": [
            "RMSLE score for fold 1 is 17.641006207038767\n",
            "RMSLE score for fold 2 is 17.310159410520914\n",
            "RMSLE score for fold 3 is 17.283583065246756\n",
            "RMSLE score for fold 4 is 16.611788129933743\n",
            "RMSLE score for fold 5 is 18.295877408536537\n",
            "RMSLE score for fold 6 is 17.036918598628333\n",
            "RMSLE score for fold 7 is 18.443107108506\n",
            "RMSLE score for fold 8 is 17.014409908311194\n",
            "RMSLE score for fold 9 is 17.556725551516756\n",
            "RMSLE score for fold 10 is 19.135179846202632\n",
            "Mean RMSLE score is 17.632875523444163\n"
          ],
          "name": "stdout"
        }
      ]
    },
    {
      "cell_type": "code",
      "metadata": {
        "id": "NcAS7cqMiVfc"
      },
      "source": [
        "# Stack Model \n",
        "model = get_stacking()"
      ],
      "execution_count": 108,
      "outputs": []
    },
    {
      "cell_type": "code",
      "metadata": {
        "id": "AT9YycK2iaTK"
      },
      "source": [
        "# Log transforming Target Variable before training\n",
        "#yn = np.log1p(y)\n",
        "\n",
        "# Model Training\n",
        "model.fit(X, y)"
      ],
      "execution_count": null,
      "outputs": []
    },
    {
      "cell_type": "code",
      "metadata": {
        "id": "G8AOjVLij1w3"
      },
      "source": [
        "qw=model.predict(test_df)"
      ],
      "execution_count": null,
      "outputs": []
    },
    {
      "cell_type": "code",
      "metadata": {
        "id": "7jQvPpjKigp6"
      },
      "source": [
        "# Making Predictions and using 'expm1' to convert it back to original form\n",
        "\n",
        "sub = pd.DataFrame()"
      ],
      "execution_count": null,
      "outputs": []
    },
    {
      "cell_type": "code",
      "metadata": {
        "id": "8OdQHoLtjWNO"
      },
      "source": [
        "sub['Deal_title'] = test['Deal_title']\n",
        "sub['Success_probability'] =qw"
      ],
      "execution_count": null,
      "outputs": []
    },
    {
      "cell_type": "code",
      "metadata": {
        "colab": {
          "base_uri": "https://localhost:8080/",
          "height": 402
        },
        "id": "W0TCdyHhjgZW",
        "outputId": "9ce5039e-8775-4db2-876b-2fe5cf99ad01"
      },
      "source": [
        "sub"
      ],
      "execution_count": 106,
      "outputs": [
        {
          "output_type": "execute_result",
          "data": {
            "text/html": [
              "<div>\n",
              "<style scoped>\n",
              "    .dataframe tbody tr th:only-of-type {\n",
              "        vertical-align: middle;\n",
              "    }\n",
              "\n",
              "    .dataframe tbody tr th {\n",
              "        vertical-align: top;\n",
              "    }\n",
              "\n",
              "    .dataframe thead th {\n",
              "        text-align: right;\n",
              "    }\n",
              "</style>\n",
              "<table border=\"1\" class=\"dataframe\">\n",
              "  <thead>\n",
              "    <tr style=\"text-align: right;\">\n",
              "      <th></th>\n",
              "      <th>Deal_title</th>\n",
              "      <th>Success_probability</th>\n",
              "    </tr>\n",
              "  </thead>\n",
              "  <tbody>\n",
              "    <tr>\n",
              "      <th>0</th>\n",
              "      <td>TitleAD16O</td>\n",
              "      <td>60.368127</td>\n",
              "    </tr>\n",
              "    <tr>\n",
              "      <th>1</th>\n",
              "      <td>TitleOW6CR</td>\n",
              "      <td>65.424654</td>\n",
              "    </tr>\n",
              "    <tr>\n",
              "      <th>2</th>\n",
              "      <td>TitleVVJQ5</td>\n",
              "      <td>68.001816</td>\n",
              "    </tr>\n",
              "    <tr>\n",
              "      <th>3</th>\n",
              "      <td>TitleUS8NA</td>\n",
              "      <td>65.519517</td>\n",
              "    </tr>\n",
              "    <tr>\n",
              "      <th>4</th>\n",
              "      <td>Title5VGWW</td>\n",
              "      <td>66.829034</td>\n",
              "    </tr>\n",
              "    <tr>\n",
              "      <th>...</th>\n",
              "      <td>...</td>\n",
              "      <td>...</td>\n",
              "    </tr>\n",
              "    <tr>\n",
              "      <th>2088</th>\n",
              "      <td>Title2R8VU</td>\n",
              "      <td>66.829034</td>\n",
              "    </tr>\n",
              "    <tr>\n",
              "      <th>2089</th>\n",
              "      <td>Title7HCNJ</td>\n",
              "      <td>67.237907</td>\n",
              "    </tr>\n",
              "    <tr>\n",
              "      <th>2090</th>\n",
              "      <td>TitleCD5YZ</td>\n",
              "      <td>61.468770</td>\n",
              "    </tr>\n",
              "    <tr>\n",
              "      <th>2091</th>\n",
              "      <td>Title8OKXL</td>\n",
              "      <td>62.019911</td>\n",
              "    </tr>\n",
              "    <tr>\n",
              "      <th>2092</th>\n",
              "      <td>TitleHFQT8</td>\n",
              "      <td>62.491765</td>\n",
              "    </tr>\n",
              "  </tbody>\n",
              "</table>\n",
              "<p>2093 rows × 2 columns</p>\n",
              "</div>"
            ],
            "text/plain": [
              "      Deal_title  Success_probability\n",
              "0     TitleAD16O            60.368127\n",
              "1     TitleOW6CR            65.424654\n",
              "2     TitleVVJQ5            68.001816\n",
              "3     TitleUS8NA            65.519517\n",
              "4     Title5VGWW            66.829034\n",
              "...          ...                  ...\n",
              "2088  Title2R8VU            66.829034\n",
              "2089  Title7HCNJ            67.237907\n",
              "2090  TitleCD5YZ            61.468770\n",
              "2091  Title8OKXL            62.019911\n",
              "2092  TitleHFQT8            62.491765\n",
              "\n",
              "[2093 rows x 2 columns]"
            ]
          },
          "metadata": {
            "tags": []
          },
          "execution_count": 106
        }
      ]
    },
    {
      "cell_type": "code",
      "metadata": {
        "id": "vZHBf5WkkPH3"
      },
      "source": [
        "sub.to_csv(\"kfold_XGB_GB-1.csv\",index=False)"
      ],
      "execution_count": 107,
      "outputs": []
    },
    {
      "cell_type": "code",
      "metadata": {
        "colab": {
          "base_uri": "https://localhost:8080/",
          "height": 77
        },
        "id": "1HmuO1_skfhw",
        "outputId": "ea186388-7e28-456e-c8b8-392420a877f4"
      },
      "source": [
        "n=pd.read_csv(\"/content/stacked_-cat,lin,lgbm.csv\")\n",
        "n[:1]"
      ],
      "execution_count": 398,
      "outputs": [
        {
          "output_type": "execute_result",
          "data": {
            "text/html": [
              "<div>\n",
              "<style scoped>\n",
              "    .dataframe tbody tr th:only-of-type {\n",
              "        vertical-align: middle;\n",
              "    }\n",
              "\n",
              "    .dataframe tbody tr th {\n",
              "        vertical-align: top;\n",
              "    }\n",
              "\n",
              "    .dataframe thead th {\n",
              "        text-align: right;\n",
              "    }\n",
              "</style>\n",
              "<table border=\"1\" class=\"dataframe\">\n",
              "  <thead>\n",
              "    <tr style=\"text-align: right;\">\n",
              "      <th></th>\n",
              "      <th>Deal_title</th>\n",
              "      <th>Success_probability</th>\n",
              "    </tr>\n",
              "  </thead>\n",
              "  <tbody>\n",
              "    <tr>\n",
              "      <th>0</th>\n",
              "      <td>TitleAD16O</td>\n",
              "      <td>63.337615</td>\n",
              "    </tr>\n",
              "  </tbody>\n",
              "</table>\n",
              "</div>"
            ],
            "text/plain": [
              "   Deal_title  Success_probability\n",
              "0  TitleAD16O            63.337615"
            ]
          },
          "metadata": {
            "tags": []
          },
          "execution_count": 398
        }
      ]
    },
    {
      "cell_type": "markdown",
      "metadata": {
        "id": "L7VJne-ajxK4"
      },
      "source": [
        "**Another Approach**"
      ]
    },
    {
      "cell_type": "code",
      "metadata": {
        "id": "Ee51dXyNYuC-"
      },
      "source": [
        "# split into train dev and test\n",
        "from sklearn.model_selection import train_test_split\n",
        "X_train, X_test, y_train, y_test = train_test_split(X, y, train_size=0.85, random_state=30)"
      ],
      "execution_count": 84,
      "outputs": []
    },
    {
      "cell_type": "code",
      "metadata": {
        "colab": {
          "base_uri": "https://localhost:8080/",
          "height": 126
        },
        "id": "XFOFlKHLZJFx",
        "outputId": "15b12fba-5973-438f-857f-1674d5ba47f1"
      },
      "source": [
        "X_train[:2]"
      ],
      "execution_count": 85,
      "outputs": [
        {
          "output_type": "execute_result",
          "data": {
            "text/html": [
              "<div>\n",
              "<style scoped>\n",
              "    .dataframe tbody tr th:only-of-type {\n",
              "        vertical-align: middle;\n",
              "    }\n",
              "\n",
              "    .dataframe tbody tr th {\n",
              "        vertical-align: top;\n",
              "    }\n",
              "\n",
              "    .dataframe thead th {\n",
              "        text-align: right;\n",
              "    }\n",
              "</style>\n",
              "<table border=\"1\" class=\"dataframe\">\n",
              "  <thead>\n",
              "    <tr style=\"text-align: right;\">\n",
              "      <th></th>\n",
              "      <th>Lead_name</th>\n",
              "      <th>Industry</th>\n",
              "      <th>Deal_value</th>\n",
              "      <th>Weighted_amount</th>\n",
              "      <th>Pitch</th>\n",
              "      <th>Lead_revenue</th>\n",
              "      <th>Fund_category</th>\n",
              "      <th>Geography</th>\n",
              "      <th>Designation</th>\n",
              "      <th>Hiring_candidate_role</th>\n",
              "      <th>Lead_source</th>\n",
              "      <th>Level_of_meeting</th>\n",
              "      <th>Last_lead_update</th>\n",
              "      <th>Internal_POC</th>\n",
              "      <th>Resource</th>\n",
              "      <th>Internal_rating</th>\n",
              "    </tr>\n",
              "  </thead>\n",
              "  <tbody>\n",
              "    <tr>\n",
              "      <th>4620</th>\n",
              "      <td>3060</td>\n",
              "      <td>66</td>\n",
              "      <td>210238.0</td>\n",
              "      <td>1377058.9</td>\n",
              "      <td>0</td>\n",
              "      <td>2</td>\n",
              "      <td>1</td>\n",
              "      <td>0</td>\n",
              "      <td>8</td>\n",
              "      <td>393</td>\n",
              "      <td>1</td>\n",
              "      <td>2</td>\n",
              "      <td>1</td>\n",
              "      <td>17</td>\n",
              "      <td>0</td>\n",
              "      <td>3</td>\n",
              "    </tr>\n",
              "    <tr>\n",
              "      <th>4072</th>\n",
              "      <td>6281</td>\n",
              "      <td>7</td>\n",
              "      <td>383406.0</td>\n",
              "      <td>2453798.4</td>\n",
              "      <td>0</td>\n",
              "      <td>0</td>\n",
              "      <td>1</td>\n",
              "      <td>1</td>\n",
              "      <td>7</td>\n",
              "      <td>70</td>\n",
              "      <td>3</td>\n",
              "      <td>2</td>\n",
              "      <td>7</td>\n",
              "      <td>30</td>\n",
              "      <td>5</td>\n",
              "      <td>2</td>\n",
              "    </tr>\n",
              "  </tbody>\n",
              "</table>\n",
              "</div>"
            ],
            "text/plain": [
              "      Lead_name  Industry  Deal_value  ...  Internal_POC  Resource  Internal_rating\n",
              "4620       3060        66    210238.0  ...            17         0                3\n",
              "4072       6281         7    383406.0  ...            30         5                2\n",
              "\n",
              "[2 rows x 16 columns]"
            ]
          },
          "metadata": {
            "tags": []
          },
          "execution_count": 85
        }
      ]
    },
    {
      "cell_type": "code",
      "metadata": {
        "colab": {
          "base_uri": "https://localhost:8080/"
        },
        "id": "p4VMagRUfrkn",
        "outputId": "0207ed03-1a3b-47bb-9302-9e8b531ea3b4"
      },
      "source": [
        "X_train.info()"
      ],
      "execution_count": 86,
      "outputs": [
        {
          "output_type": "stream",
          "text": [
            "<class 'pandas.core.frame.DataFrame'>\n",
            "Int64Index: 5955 entries, 4620 to 5925\n",
            "Data columns (total 16 columns):\n",
            " #   Column                 Non-Null Count  Dtype  \n",
            "---  ------                 --------------  -----  \n",
            " 0   Lead_name              5955 non-null   int64  \n",
            " 1   Industry               5955 non-null   int64  \n",
            " 2   Deal_value             5955 non-null   float64\n",
            " 3   Weighted_amount        5955 non-null   float64\n",
            " 4   Pitch                  5955 non-null   int64  \n",
            " 5   Lead_revenue           5955 non-null   int64  \n",
            " 6   Fund_category          5955 non-null   int64  \n",
            " 7   Geography              5955 non-null   int64  \n",
            " 8   Designation            5955 non-null   int64  \n",
            " 9   Hiring_candidate_role  5955 non-null   int64  \n",
            " 10  Lead_source            5955 non-null   int64  \n",
            " 11  Level_of_meeting       5955 non-null   int64  \n",
            " 12  Last_lead_update       5955 non-null   int64  \n",
            " 13  Internal_POC           5955 non-null   int64  \n",
            " 14  Resource               5955 non-null   int64  \n",
            " 15  Internal_rating        5955 non-null   int64  \n",
            "dtypes: float64(2), int64(14)\n",
            "memory usage: 790.9 KB\n"
          ],
          "name": "stdout"
        }
      ]
    },
    {
      "cell_type": "code",
      "metadata": {
        "colab": {
          "base_uri": "https://localhost:8080/",
          "height": 106
        },
        "id": "sqL6XtQYZi6J",
        "outputId": "17f319e7-5db5-4cbe-e082-5b0d864446e8"
      },
      "source": [
        "continuous_data[:2]"
      ],
      "execution_count": null,
      "outputs": [
        {
          "output_type": "execute_result",
          "data": {
            "text/html": [
              "<div>\n",
              "<style scoped>\n",
              "    .dataframe tbody tr th:only-of-type {\n",
              "        vertical-align: middle;\n",
              "    }\n",
              "\n",
              "    .dataframe tbody tr th {\n",
              "        vertical-align: top;\n",
              "    }\n",
              "\n",
              "    .dataframe thead th {\n",
              "        text-align: right;\n",
              "    }\n",
              "</style>\n",
              "<table border=\"1\" class=\"dataframe\">\n",
              "  <thead>\n",
              "    <tr style=\"text-align: right;\">\n",
              "      <th></th>\n",
              "      <th>Internal_rating</th>\n",
              "      <th>Success_probability</th>\n",
              "    </tr>\n",
              "  </thead>\n",
              "  <tbody>\n",
              "    <tr>\n",
              "      <th>0</th>\n",
              "      <td>3</td>\n",
              "      <td>73.6</td>\n",
              "    </tr>\n",
              "    <tr>\n",
              "      <th>1</th>\n",
              "      <td>5</td>\n",
              "      <td>58.9</td>\n",
              "    </tr>\n",
              "  </tbody>\n",
              "</table>\n",
              "</div>"
            ],
            "text/plain": [
              "   Internal_rating  Success_probability\n",
              "0                3                 73.6\n",
              "1                5                 58.9"
            ]
          },
          "metadata": {
            "tags": []
          },
          "execution_count": 402
        }
      ]
    },
    {
      "cell_type": "code",
      "metadata": {
        "colab": {
          "base_uri": "https://localhost:8080/"
        },
        "id": "43AWajZLYyNz",
        "outputId": "2e96d68f-465b-41ac-fd41-8b378bd1c19a"
      },
      "source": [
        "import sklearn.preprocessing as pre\n",
        "#scaler = pre.RobustScaler()\n",
        "#scaler = pre.MinMaxScaler()\n",
        "scaler = pre.StandardScaler()\n",
        "\n",
        "# apply scaling to all numerical variables except dummy variables as they are already between 0 and 1\n",
        "X_train= pd.DataFrame(scaler.fit_transform(X_train), columns=X_train.columns)\n",
        "\n",
        "#scale test data with transform()\n",
        "X_test= pd.DataFrame(scaler.transform(X_test), columns=X_test.columns)\n",
        "'''\n",
        "from sklearn.preprocessing import StandardScaler\n",
        "scaler = StandardScaler()\n",
        "X_train_scaled = scaler.fit_transform(X_train)\n",
        "X_cv_scaled= scaler.transform(X_test)\n",
        "X_test_scaled = scaler.transform(test_df)\n",
        "'''\n",
        "#new_test= pd.DataFrame(scaler.transform(test_df), columns=test_df.columns)\n",
        "# view sample data\n",
        "#X_train.describe()\n",
        "X_train.head()\n",
        "print(X_train.shape,X_test.shape)"
      ],
      "execution_count": 87,
      "outputs": [
        {
          "output_type": "stream",
          "text": [
            "(5955, 16) (1052, 16)\n"
          ],
          "name": "stdout"
        }
      ]
    },
    {
      "cell_type": "code",
      "metadata": {
        "colab": {
          "base_uri": "https://localhost:8080/"
        },
        "id": "KuXSq7_GY6EO",
        "outputId": "75fb3e7d-d971-496f-c993-8b7a0c9d0bab"
      },
      "source": [
        "!pip install catboost"
      ],
      "execution_count": null,
      "outputs": [
        {
          "output_type": "stream",
          "text": [
            "Collecting catboost\n",
            "\u001b[?25l  Downloading https://files.pythonhosted.org/packages/47/80/8e9c57ec32dfed6ba2922bc5c96462cbf8596ce1a6f5de532ad1e43e53fe/catboost-0.25.1-cp37-none-manylinux1_x86_64.whl (67.3MB)\n",
            "\u001b[K     |████████████████████████████████| 67.3MB 57kB/s \n",
            "\u001b[?25hRequirement already satisfied: numpy>=1.16.0 in /usr/local/lib/python3.7/dist-packages (from catboost) (1.19.5)\n",
            "Requirement already satisfied: graphviz in /usr/local/lib/python3.7/dist-packages (from catboost) (0.10.1)\n",
            "Requirement already satisfied: scipy in /usr/local/lib/python3.7/dist-packages (from catboost) (1.4.1)\n",
            "Requirement already satisfied: pandas>=0.24.0 in /usr/local/lib/python3.7/dist-packages (from catboost) (1.1.5)\n",
            "Requirement already satisfied: matplotlib in /usr/local/lib/python3.7/dist-packages (from catboost) (3.2.2)\n",
            "Requirement already satisfied: plotly in /usr/local/lib/python3.7/dist-packages (from catboost) (4.4.1)\n",
            "Requirement already satisfied: six in /usr/local/lib/python3.7/dist-packages (from catboost) (1.15.0)\n",
            "Requirement already satisfied: pytz>=2017.2 in /usr/local/lib/python3.7/dist-packages (from pandas>=0.24.0->catboost) (2018.9)\n",
            "Requirement already satisfied: python-dateutil>=2.7.3 in /usr/local/lib/python3.7/dist-packages (from pandas>=0.24.0->catboost) (2.8.1)\n",
            "Requirement already satisfied: pyparsing!=2.0.4,!=2.1.2,!=2.1.6,>=2.0.1 in /usr/local/lib/python3.7/dist-packages (from matplotlib->catboost) (2.4.7)\n",
            "Requirement already satisfied: cycler>=0.10 in /usr/local/lib/python3.7/dist-packages (from matplotlib->catboost) (0.10.0)\n",
            "Requirement already satisfied: kiwisolver>=1.0.1 in /usr/local/lib/python3.7/dist-packages (from matplotlib->catboost) (1.3.1)\n",
            "Requirement already satisfied: retrying>=1.3.3 in /usr/local/lib/python3.7/dist-packages (from plotly->catboost) (1.3.3)\n",
            "Installing collected packages: catboost\n",
            "Successfully installed catboost-0.25.1\n"
          ],
          "name": "stdout"
        }
      ]
    },
    {
      "cell_type": "code",
      "metadata": {
        "id": "iR2Z7qH-djdC"
      },
      "source": [
        " \n",
        "from sklearn.ensemble import RandomForestRegressor\n",
        "from sklearn.neighbors import KNeighborsRegressor\n",
        "from sklearn.ensemble import GradientBoostingRegressor\n",
        "from sklearn.ensemble import AdaBoostRegressor\n",
        "import catboost as cb\n",
        "import xgboost as xgb\n",
        "import lightgbm as lgb \n",
        "from sklearn.tree import DecisionTreeRegressor\n",
        "from sklearn import metrics\n",
        "from sklearn.metrics import mean_squared_log_error,mean_squared_error, r2_score,mean_absolute_error,accuracy_score,f1_score"
      ],
      "execution_count": 101,
      "outputs": []
    },
    {
      "cell_type": "code",
      "metadata": {
        "colab": {
          "base_uri": "https://localhost:8080/"
        },
        "id": "GRMYtM3KdoVV",
        "outputId": "57a1d105-6afc-4901-f777-264a03fc4a4e"
      },
      "source": [
        "models=[cb.CatBoostRegressor(verbose=0, iterations=100),RandomForestRegressor(),KNeighborsRegressor(),DecisionTreeRegressor(),GradientBoostingRegressor(),AdaBoostRegressor(random_state=0, n_estimators=100),xgb.XGBRegressor(n_estimators = 400),lgb.LGBMRegressor(random_state=1, n_jobs=-1,learning_rate=0.15, n_estimators=100)]\n",
        "model_names=['CatBoost Regressor','Randomforest Regressor','Kneighbors Regressor','DecisionTreeRegressor','GradientBoostingRegressor','AdaBoostRegressor','XGBRegressor','LGBM Regressor']\n",
        "rmse=[]\n",
        "accuracy=[]\n",
        "d={}\n",
        "for model in range (len(models)):\n",
        "    clf=models[model]\n",
        "    clf.fit(X_train,y_train)\n",
        "    test_pred=clf.predict(X_test)\n",
        "    rmse.append(np.sqrt(mean_squared_error(test_pred,y_test)))\n",
        "    accuracy.append(clf.score(X_test,y_test))\n",
        "d={'Modelling Algo':model_names,'RMSE':rmse,\"Accuracy\":accuracy}  "
      ],
      "execution_count": null,
      "outputs": [
        {
          "output_type": "stream",
          "text": [
            "[06:58:42] WARNING: /workspace/src/objective/regression_obj.cu:152: reg:linear is now deprecated in favor of reg:squarederror.\n"
          ],
          "name": "stdout"
        }
      ]
    },
    {
      "cell_type": "code",
      "metadata": {
        "id": "hfhVLgSefjCr"
      },
      "source": [
        "data_model = pd.DataFrame(d)"
      ],
      "execution_count": null,
      "outputs": []
    },
    {
      "cell_type": "code",
      "metadata": {
        "colab": {
          "base_uri": "https://localhost:8080/",
          "height": 284
        },
        "id": "tOn3NJl7gXmt",
        "outputId": "a5b12c49-1284-4b92-b736-8d4efaad7064"
      },
      "source": [
        "data_model"
      ],
      "execution_count": null,
      "outputs": [
        {
          "output_type": "execute_result",
          "data": {
            "text/html": [
              "<div>\n",
              "<style scoped>\n",
              "    .dataframe tbody tr th:only-of-type {\n",
              "        vertical-align: middle;\n",
              "    }\n",
              "\n",
              "    .dataframe tbody tr th {\n",
              "        vertical-align: top;\n",
              "    }\n",
              "\n",
              "    .dataframe thead th {\n",
              "        text-align: right;\n",
              "    }\n",
              "</style>\n",
              "<table border=\"1\" class=\"dataframe\">\n",
              "  <thead>\n",
              "    <tr style=\"text-align: right;\">\n",
              "      <th></th>\n",
              "      <th>Modelling Algo</th>\n",
              "      <th>RMSE</th>\n",
              "      <th>Accuracy</th>\n",
              "    </tr>\n",
              "  </thead>\n",
              "  <tbody>\n",
              "    <tr>\n",
              "      <th>0</th>\n",
              "      <td>CatBoost Regressor</td>\n",
              "      <td>18.468965</td>\n",
              "      <td>-0.046180</td>\n",
              "    </tr>\n",
              "    <tr>\n",
              "      <th>1</th>\n",
              "      <td>Randomforest Regressor</td>\n",
              "      <td>18.168170</td>\n",
              "      <td>-0.012380</td>\n",
              "    </tr>\n",
              "    <tr>\n",
              "      <th>2</th>\n",
              "      <td>Kneighbors Regressor</td>\n",
              "      <td>19.243453</td>\n",
              "      <td>-0.135762</td>\n",
              "    </tr>\n",
              "    <tr>\n",
              "      <th>3</th>\n",
              "      <td>DecisionTreeRegressor</td>\n",
              "      <td>26.052196</td>\n",
              "      <td>-1.081661</td>\n",
              "    </tr>\n",
              "    <tr>\n",
              "      <th>4</th>\n",
              "      <td>GradientBoostingRegressor</td>\n",
              "      <td>17.616122</td>\n",
              "      <td>0.048208</td>\n",
              "    </tr>\n",
              "    <tr>\n",
              "      <th>5</th>\n",
              "      <td>AdaBoostRegressor</td>\n",
              "      <td>17.927493</td>\n",
              "      <td>0.014264</td>\n",
              "    </tr>\n",
              "    <tr>\n",
              "      <th>6</th>\n",
              "      <td>XGBRegressor</td>\n",
              "      <td>17.879736</td>\n",
              "      <td>0.019509</td>\n",
              "    </tr>\n",
              "    <tr>\n",
              "      <th>7</th>\n",
              "      <td>LGBM Regressor</td>\n",
              "      <td>18.176486</td>\n",
              "      <td>-0.013308</td>\n",
              "    </tr>\n",
              "  </tbody>\n",
              "</table>\n",
              "</div>"
            ],
            "text/plain": [
              "              Modelling Algo       RMSE  Accuracy\n",
              "0         CatBoost Regressor  18.468965 -0.046180\n",
              "1     Randomforest Regressor  18.168170 -0.012380\n",
              "2       Kneighbors Regressor  19.243453 -0.135762\n",
              "3      DecisionTreeRegressor  26.052196 -1.081661\n",
              "4  GradientBoostingRegressor  17.616122  0.048208\n",
              "5          AdaBoostRegressor  17.927493  0.014264\n",
              "6               XGBRegressor  17.879736  0.019509\n",
              "7             LGBM Regressor  18.176486 -0.013308"
            ]
          },
          "metadata": {
            "tags": []
          },
          "execution_count": 407
        }
      ]
    },
    {
      "cell_type": "code",
      "metadata": {
        "id": "8lLRdvtbgaXg"
      },
      "source": [
        "#def printScore(y_train, y_train_pred):\n",
        "#    print(f1_score(y_train, y_train_pred))#average=\"macro\""
      ],
      "execution_count": null,
      "outputs": []
    },
    {
      "cell_type": "markdown",
      "metadata": {
        "id": "U0qN8l8yc3cT"
      },
      "source": [
        "**Model that gives me 84 and 92 % accuracy in the leaderboard**"
      ]
    },
    {
      "cell_type": "code",
      "metadata": {
        "id": "ZnIWeYJNiZwY"
      },
      "source": [
        ""
      ],
      "execution_count": null,
      "outputs": []
    },
    {
      "cell_type": "code",
      "metadata": {
        "id": "AP7Jzs7ogxIf"
      },
      "source": [
        "GBR_model = GradientBoostingRegressor(n_estimators=400)\n",
        "GBR_model.fit(X_train, y_train)\n",
        "\n",
        "# predict\n",
        "y_train_pred = GBR_model.predict(X_train)\n",
        "y_test_pred = GBR_model.predict(X_test)\n",
        "#print(accuracy_score(y_train, y_train_pred))\n",
        "#print(accuracy_score(y_test, y_test_pred))\n",
        "#printScore(y_train, y_train_pred)\n",
        "#printScore(y_test, y_test_pred)"
      ],
      "execution_count": 89,
      "outputs": []
    },
    {
      "cell_type": "code",
      "metadata": {
        "id": "D1XPzal0hmuJ"
      },
      "source": [
        "gb_p = GBR_model.predict(test_df)"
      ],
      "execution_count": 90,
      "outputs": []
    },
    {
      "cell_type": "code",
      "metadata": {
        "id": "ubC0ihzAiJjm"
      },
      "source": [
        "rmslg=(np.sqrt(mean_squared_error(y_test_pred,y_test)))"
      ],
      "execution_count": 91,
      "outputs": []
    },
    {
      "cell_type": "code",
      "metadata": {
        "colab": {
          "base_uri": "https://localhost:8080/"
        },
        "id": "QuU1q2ayiMVs",
        "outputId": "05475a5c-92aa-402a-fb40-c25178c8bc90"
      },
      "source": [
        "rmslg"
      ],
      "execution_count": 92,
      "outputs": [
        {
          "output_type": "execute_result",
          "data": {
            "text/plain": [
              "18.12266116068295"
            ]
          },
          "metadata": {
            "tags": []
          },
          "execution_count": 92
        }
      ]
    },
    {
      "cell_type": "code",
      "metadata": {
        "colab": {
          "base_uri": "https://localhost:8080/",
          "height": 195
        },
        "id": "E1QY1ZWiiPt-",
        "outputId": "04995627-8ada-40eb-91d0-82f7d714d5cc"
      },
      "source": [
        "subm.head()"
      ],
      "execution_count": null,
      "outputs": [
        {
          "output_type": "execute_result",
          "data": {
            "text/html": [
              "<div>\n",
              "<style scoped>\n",
              "    .dataframe tbody tr th:only-of-type {\n",
              "        vertical-align: middle;\n",
              "    }\n",
              "\n",
              "    .dataframe tbody tr th {\n",
              "        vertical-align: top;\n",
              "    }\n",
              "\n",
              "    .dataframe thead th {\n",
              "        text-align: right;\n",
              "    }\n",
              "</style>\n",
              "<table border=\"1\" class=\"dataframe\">\n",
              "  <thead>\n",
              "    <tr style=\"text-align: right;\">\n",
              "      <th></th>\n",
              "      <th>Deal_title</th>\n",
              "      <th>Success_probability</th>\n",
              "    </tr>\n",
              "  </thead>\n",
              "  <tbody>\n",
              "    <tr>\n",
              "      <th>0</th>\n",
              "      <td>TitleM5DZY</td>\n",
              "      <td>48.6</td>\n",
              "    </tr>\n",
              "    <tr>\n",
              "      <th>1</th>\n",
              "      <td>TitleKIW18</td>\n",
              "      <td>33.9</td>\n",
              "    </tr>\n",
              "    <tr>\n",
              "      <th>2</th>\n",
              "      <td>TitleFXSDN</td>\n",
              "      <td>43.8</td>\n",
              "    </tr>\n",
              "    <tr>\n",
              "      <th>3</th>\n",
              "      <td>TitlePSK4Y</td>\n",
              "      <td>39.5</td>\n",
              "    </tr>\n",
              "    <tr>\n",
              "      <th>4</th>\n",
              "      <td>Title904GV</td>\n",
              "      <td>37.4</td>\n",
              "    </tr>\n",
              "  </tbody>\n",
              "</table>\n",
              "</div>"
            ],
            "text/plain": [
              "   Deal_title  Success_probability\n",
              "0  TitleM5DZY                 48.6\n",
              "1  TitleKIW18                 33.9\n",
              "2  TitleFXSDN                 43.8\n",
              "3  TitlePSK4Y                 39.5\n",
              "4  Title904GV                 37.4"
            ]
          },
          "metadata": {
            "tags": []
          },
          "execution_count": 413
        }
      ]
    },
    {
      "cell_type": "code",
      "metadata": {
        "id": "BRc7M_J3iSKd"
      },
      "source": [
        "submmitted_data = pd.DataFrame()\n",
        "submmitted_data['Deal_title'] = test['Deal_title']\n",
        "submmitted_data['Success_probability'] =gb_p"
      ],
      "execution_count": null,
      "outputs": []
    },
    {
      "cell_type": "code",
      "metadata": {
        "colab": {
          "base_uri": "https://localhost:8080/",
          "height": 402
        },
        "id": "pvs4X2MUio8Y",
        "outputId": "f967d80e-616e-4a68-aaaa-7de6ededfcce"
      },
      "source": [
        "submmitted_data"
      ],
      "execution_count": null,
      "outputs": [
        {
          "output_type": "execute_result",
          "data": {
            "text/html": [
              "<div>\n",
              "<style scoped>\n",
              "    .dataframe tbody tr th:only-of-type {\n",
              "        vertical-align: middle;\n",
              "    }\n",
              "\n",
              "    .dataframe tbody tr th {\n",
              "        vertical-align: top;\n",
              "    }\n",
              "\n",
              "    .dataframe thead th {\n",
              "        text-align: right;\n",
              "    }\n",
              "</style>\n",
              "<table border=\"1\" class=\"dataframe\">\n",
              "  <thead>\n",
              "    <tr style=\"text-align: right;\">\n",
              "      <th></th>\n",
              "      <th>Deal_title</th>\n",
              "      <th>Success_probability</th>\n",
              "    </tr>\n",
              "  </thead>\n",
              "  <tbody>\n",
              "    <tr>\n",
              "      <th>0</th>\n",
              "      <td>TitleAD16O</td>\n",
              "      <td>63.120717</td>\n",
              "    </tr>\n",
              "    <tr>\n",
              "      <th>1</th>\n",
              "      <td>TitleOW6CR</td>\n",
              "      <td>53.406673</td>\n",
              "    </tr>\n",
              "    <tr>\n",
              "      <th>2</th>\n",
              "      <td>TitleVVJQ5</td>\n",
              "      <td>54.185298</td>\n",
              "    </tr>\n",
              "    <tr>\n",
              "      <th>3</th>\n",
              "      <td>TitleUS8NA</td>\n",
              "      <td>52.257977</td>\n",
              "    </tr>\n",
              "    <tr>\n",
              "      <th>4</th>\n",
              "      <td>Title5VGWW</td>\n",
              "      <td>49.363223</td>\n",
              "    </tr>\n",
              "    <tr>\n",
              "      <th>...</th>\n",
              "      <td>...</td>\n",
              "      <td>...</td>\n",
              "    </tr>\n",
              "    <tr>\n",
              "      <th>2088</th>\n",
              "      <td>Title2R8VU</td>\n",
              "      <td>53.406673</td>\n",
              "    </tr>\n",
              "    <tr>\n",
              "      <th>2089</th>\n",
              "      <td>Title7HCNJ</td>\n",
              "      <td>64.644692</td>\n",
              "    </tr>\n",
              "    <tr>\n",
              "      <th>2090</th>\n",
              "      <td>TitleCD5YZ</td>\n",
              "      <td>49.431405</td>\n",
              "    </tr>\n",
              "    <tr>\n",
              "      <th>2091</th>\n",
              "      <td>Title8OKXL</td>\n",
              "      <td>49.246045</td>\n",
              "    </tr>\n",
              "    <tr>\n",
              "      <th>2092</th>\n",
              "      <td>TitleHFQT8</td>\n",
              "      <td>49.288995</td>\n",
              "    </tr>\n",
              "  </tbody>\n",
              "</table>\n",
              "<p>2093 rows × 2 columns</p>\n",
              "</div>"
            ],
            "text/plain": [
              "      Deal_title  Success_probability\n",
              "0     TitleAD16O            63.120717\n",
              "1     TitleOW6CR            53.406673\n",
              "2     TitleVVJQ5            54.185298\n",
              "3     TitleUS8NA            52.257977\n",
              "4     Title5VGWW            49.363223\n",
              "...          ...                  ...\n",
              "2088  Title2R8VU            53.406673\n",
              "2089  Title7HCNJ            64.644692\n",
              "2090  TitleCD5YZ            49.431405\n",
              "2091  Title8OKXL            49.246045\n",
              "2092  TitleHFQT8            49.288995\n",
              "\n",
              "[2093 rows x 2 columns]"
            ]
          },
          "metadata": {
            "tags": []
          },
          "execution_count": 415
        }
      ]
    },
    {
      "cell_type": "code",
      "metadata": {
        "id": "PND2viz0iqpn"
      },
      "source": [
        "submmitted_data.to_csv(\"gradient-13.csv\")"
      ],
      "execution_count": null,
      "outputs": []
    },
    {
      "cell_type": "code",
      "metadata": {
        "id": "SjyVuZ-AfIaI"
      },
      "source": [
        "from sklearn.model_selection import cross_val_score"
      ],
      "execution_count": null,
      "outputs": []
    },
    {
      "cell_type": "code",
      "metadata": {
        "id": "qkJU2vbsetv-"
      },
      "source": [
        "from sklearn.model_selection import ShuffleSplit\n",
        "cv = ShuffleSplit(n_splits=5, test_size=0.15, random_state=0)\n",
        "crs=cross_val_score(GBR_model, X_train, y_train, cv=cv)"
      ],
      "execution_count": null,
      "outputs": []
    },
    {
      "cell_type": "code",
      "metadata": {
        "colab": {
          "base_uri": "https://localhost:8080/"
        },
        "id": "uyZmIyN-fQQ7",
        "outputId": "440fe683-d045-40ec-be30-bcdf54cc22b8"
      },
      "source": [
        "crs"
      ],
      "execution_count": null,
      "outputs": [
        {
          "output_type": "execute_result",
          "data": {
            "text/plain": [
              "array([-0.03378679, -0.06029835, -0.05177473,  0.00268841, -0.0481258 ])"
            ]
          },
          "metadata": {
            "tags": []
          },
          "execution_count": 852
        }
      ]
    },
    {
      "cell_type": "code",
      "metadata": {
        "id": "00hXvjcBfuAy"
      },
      "source": [
        "crs_m=crs.mean()"
      ],
      "execution_count": null,
      "outputs": []
    },
    {
      "cell_type": "code",
      "metadata": {
        "id": "J9VzGNk0fzGF"
      },
      "source": [
        ""
      ],
      "execution_count": null,
      "outputs": []
    },
    {
      "cell_type": "code",
      "metadata": {
        "id": "YLeTjqivf5Bq"
      },
      "source": [
        "submmitted_data = pd.DataFrame()\n",
        "submmitted_data['Deal_title'] = test['Deal_title']\n",
        "submmitted_data['Success_probability'] ="
      ],
      "execution_count": null,
      "outputs": []
    },
    {
      "cell_type": "code",
      "metadata": {
        "id": "AZWCwmKmf7ky"
      },
      "source": [
        "submmitted_data.to_csv(\"gradient-10.csv\")"
      ],
      "execution_count": null,
      "outputs": []
    },
    {
      "cell_type": "code",
      "metadata": {
        "colab": {
          "base_uri": "https://localhost:8080/"
        },
        "id": "BuHF8nYki6bN",
        "outputId": "1cb70120-9c18-486c-d0dd-d3a01e194d29"
      },
      "source": [
        "CB_model = cb.CatBoostRegressor(iterations=300)\n",
        "CB_model.fit(X_train, y_train)\n",
        "\n",
        "# predict\n",
        "y_train_pred = CB_model.predict(X_train)\n",
        "y_test_pred = CB_model.predict(X_test)\n",
        "#print(accuracy_score(y_train, y_train_pred))\n",
        "#print(accuracy_score(y_test, y_test_pred))\n",
        "#printScore(y_train, y_train_pred)\n",
        "#printScore(y_test, y_test_pred)"
      ],
      "execution_count": null,
      "outputs": [
        {
          "output_type": "stream",
          "text": [
            "Learning rate set to 0.133881\n",
            "0:\tlearn: 17.8403297\ttotal: 1.42ms\tremaining: 426ms\n",
            "1:\tlearn: 17.7524887\ttotal: 3.81ms\tremaining: 567ms\n",
            "2:\tlearn: 17.6864960\ttotal: 6.55ms\tremaining: 649ms\n",
            "3:\tlearn: 17.6237258\ttotal: 9.18ms\tremaining: 679ms\n",
            "4:\tlearn: 17.5725128\ttotal: 11.5ms\tremaining: 679ms\n",
            "5:\tlearn: 17.5252119\ttotal: 14ms\tremaining: 688ms\n",
            "6:\tlearn: 17.4810691\ttotal: 16.4ms\tremaining: 687ms\n",
            "7:\tlearn: 17.4391334\ttotal: 18.6ms\tremaining: 680ms\n",
            "8:\tlearn: 17.4092845\ttotal: 20.8ms\tremaining: 672ms\n",
            "9:\tlearn: 17.3697873\ttotal: 23.2ms\tremaining: 673ms\n",
            "10:\tlearn: 17.3352062\ttotal: 26.9ms\tremaining: 706ms\n",
            "11:\tlearn: 17.3055312\ttotal: 29.3ms\tremaining: 703ms\n",
            "12:\tlearn: 17.2798242\ttotal: 31.6ms\tremaining: 698ms\n",
            "13:\tlearn: 17.2535368\ttotal: 34ms\tremaining: 695ms\n",
            "14:\tlearn: 17.2276307\ttotal: 36.2ms\tremaining: 688ms\n",
            "15:\tlearn: 17.2030278\ttotal: 38.5ms\tremaining: 684ms\n",
            "16:\tlearn: 17.1830313\ttotal: 40.9ms\tremaining: 680ms\n",
            "17:\tlearn: 17.1676346\ttotal: 42.9ms\tremaining: 673ms\n",
            "18:\tlearn: 17.1546998\ttotal: 45.4ms\tremaining: 672ms\n",
            "19:\tlearn: 17.1379439\ttotal: 47.7ms\tremaining: 668ms\n",
            "20:\tlearn: 17.1059392\ttotal: 49.9ms\tremaining: 664ms\n",
            "21:\tlearn: 17.0929485\ttotal: 52.5ms\tremaining: 663ms\n",
            "22:\tlearn: 17.0679603\ttotal: 54.9ms\tremaining: 661ms\n",
            "23:\tlearn: 17.0560899\ttotal: 57ms\tremaining: 656ms\n",
            "24:\tlearn: 17.0402154\ttotal: 59.8ms\tremaining: 658ms\n",
            "25:\tlearn: 17.0057144\ttotal: 62.2ms\tremaining: 655ms\n",
            "26:\tlearn: 16.9734876\ttotal: 64.5ms\tremaining: 653ms\n",
            "27:\tlearn: 16.9494656\ttotal: 67ms\tremaining: 651ms\n",
            "28:\tlearn: 16.9256331\ttotal: 69.3ms\tremaining: 648ms\n",
            "29:\tlearn: 16.9041944\ttotal: 71.5ms\tremaining: 643ms\n",
            "30:\tlearn: 16.8854095\ttotal: 73.6ms\tremaining: 638ms\n",
            "31:\tlearn: 16.8687303\ttotal: 75.8ms\tremaining: 634ms\n",
            "32:\tlearn: 16.8537394\ttotal: 78.1ms\tremaining: 632ms\n",
            "33:\tlearn: 16.8282932\ttotal: 80.6ms\tremaining: 631ms\n",
            "34:\tlearn: 16.8160147\ttotal: 82.8ms\tremaining: 627ms\n",
            "35:\tlearn: 16.7943589\ttotal: 85.4ms\tremaining: 626ms\n",
            "36:\tlearn: 16.7690573\ttotal: 87.7ms\tremaining: 624ms\n",
            "37:\tlearn: 16.7539494\ttotal: 90ms\tremaining: 621ms\n",
            "38:\tlearn: 16.7305572\ttotal: 92.6ms\tremaining: 619ms\n",
            "39:\tlearn: 16.7091860\ttotal: 95.5ms\tremaining: 621ms\n",
            "40:\tlearn: 16.6922327\ttotal: 97.9ms\tremaining: 618ms\n",
            "41:\tlearn: 16.6750227\ttotal: 100ms\tremaining: 615ms\n",
            "42:\tlearn: 16.6591765\ttotal: 102ms\tremaining: 612ms\n",
            "43:\tlearn: 16.6474811\ttotal: 106ms\tremaining: 619ms\n",
            "44:\tlearn: 16.6272721\ttotal: 110ms\tremaining: 623ms\n",
            "45:\tlearn: 16.6106740\ttotal: 113ms\tremaining: 622ms\n",
            "46:\tlearn: 16.5888394\ttotal: 115ms\tremaining: 619ms\n",
            "47:\tlearn: 16.5709935\ttotal: 117ms\tremaining: 616ms\n",
            "48:\tlearn: 16.5525721\ttotal: 120ms\tremaining: 613ms\n",
            "49:\tlearn: 16.5311937\ttotal: 122ms\tremaining: 610ms\n",
            "50:\tlearn: 16.5147260\ttotal: 125ms\tremaining: 609ms\n",
            "51:\tlearn: 16.5083273\ttotal: 127ms\tremaining: 607ms\n",
            "52:\tlearn: 16.4909825\ttotal: 130ms\tremaining: 605ms\n",
            "53:\tlearn: 16.4820386\ttotal: 132ms\tremaining: 602ms\n",
            "54:\tlearn: 16.4636603\ttotal: 134ms\tremaining: 598ms\n",
            "55:\tlearn: 16.4480267\ttotal: 137ms\tremaining: 595ms\n",
            "56:\tlearn: 16.4286291\ttotal: 139ms\tremaining: 591ms\n",
            "57:\tlearn: 16.4190120\ttotal: 141ms\tremaining: 588ms\n",
            "58:\tlearn: 16.4073734\ttotal: 143ms\tremaining: 586ms\n",
            "59:\tlearn: 16.3823705\ttotal: 146ms\tremaining: 583ms\n",
            "60:\tlearn: 16.3659428\ttotal: 148ms\tremaining: 580ms\n",
            "61:\tlearn: 16.3539565\ttotal: 150ms\tremaining: 577ms\n",
            "62:\tlearn: 16.3374599\ttotal: 152ms\tremaining: 573ms\n",
            "63:\tlearn: 16.3147760\ttotal: 155ms\tremaining: 570ms\n",
            "64:\tlearn: 16.3006418\ttotal: 157ms\tremaining: 567ms\n",
            "65:\tlearn: 16.2876648\ttotal: 159ms\tremaining: 564ms\n",
            "66:\tlearn: 16.2747581\ttotal: 161ms\tremaining: 561ms\n",
            "67:\tlearn: 16.2525873\ttotal: 163ms\tremaining: 557ms\n",
            "68:\tlearn: 16.2315575\ttotal: 166ms\tremaining: 554ms\n",
            "69:\tlearn: 16.2206969\ttotal: 168ms\tremaining: 551ms\n",
            "70:\tlearn: 16.2099183\ttotal: 170ms\tremaining: 548ms\n",
            "71:\tlearn: 16.1876238\ttotal: 172ms\tremaining: 545ms\n",
            "72:\tlearn: 16.1737633\ttotal: 174ms\tremaining: 542ms\n",
            "73:\tlearn: 16.1571323\ttotal: 177ms\tremaining: 539ms\n",
            "74:\tlearn: 16.1376398\ttotal: 179ms\tremaining: 536ms\n",
            "75:\tlearn: 16.1271857\ttotal: 181ms\tremaining: 533ms\n",
            "76:\tlearn: 16.1132060\ttotal: 187ms\tremaining: 543ms\n",
            "77:\tlearn: 16.0946063\ttotal: 191ms\tremaining: 542ms\n",
            "78:\tlearn: 16.0782720\ttotal: 193ms\tremaining: 540ms\n",
            "79:\tlearn: 16.0636289\ttotal: 195ms\tremaining: 537ms\n",
            "80:\tlearn: 16.0511290\ttotal: 198ms\tremaining: 535ms\n",
            "81:\tlearn: 16.0368341\ttotal: 201ms\tremaining: 533ms\n",
            "82:\tlearn: 16.0196558\ttotal: 203ms\tremaining: 530ms\n",
            "83:\tlearn: 15.9979433\ttotal: 205ms\tremaining: 527ms\n",
            "84:\tlearn: 15.9802821\ttotal: 207ms\tremaining: 524ms\n",
            "85:\tlearn: 15.9619350\ttotal: 210ms\tremaining: 522ms\n",
            "86:\tlearn: 15.9489749\ttotal: 212ms\tremaining: 519ms\n",
            "87:\tlearn: 15.9332539\ttotal: 214ms\tremaining: 516ms\n",
            "88:\tlearn: 15.9123618\ttotal: 217ms\tremaining: 513ms\n",
            "89:\tlearn: 15.8991001\ttotal: 219ms\tremaining: 510ms\n",
            "90:\tlearn: 15.8769787\ttotal: 221ms\tremaining: 508ms\n",
            "91:\tlearn: 15.8577414\ttotal: 223ms\tremaining: 505ms\n",
            "92:\tlearn: 15.8336623\ttotal: 226ms\tremaining: 502ms\n",
            "93:\tlearn: 15.8182463\ttotal: 228ms\tremaining: 499ms\n",
            "94:\tlearn: 15.8077465\ttotal: 230ms\tremaining: 496ms\n",
            "95:\tlearn: 15.7941519\ttotal: 232ms\tremaining: 494ms\n",
            "96:\tlearn: 15.7832386\ttotal: 235ms\tremaining: 492ms\n",
            "97:\tlearn: 15.7623098\ttotal: 237ms\tremaining: 489ms\n",
            "98:\tlearn: 15.7391150\ttotal: 240ms\tremaining: 487ms\n",
            "99:\tlearn: 15.7234563\ttotal: 242ms\tremaining: 484ms\n",
            "100:\tlearn: 15.7022618\ttotal: 244ms\tremaining: 481ms\n",
            "101:\tlearn: 15.6854288\ttotal: 247ms\tremaining: 479ms\n",
            "102:\tlearn: 15.6645351\ttotal: 249ms\tremaining: 476ms\n",
            "103:\tlearn: 15.6554651\ttotal: 252ms\tremaining: 474ms\n",
            "104:\tlearn: 15.6399242\ttotal: 254ms\tremaining: 472ms\n",
            "105:\tlearn: 15.6265900\ttotal: 257ms\tremaining: 470ms\n",
            "106:\tlearn: 15.6141031\ttotal: 259ms\tremaining: 467ms\n",
            "107:\tlearn: 15.5936291\ttotal: 261ms\tremaining: 465ms\n",
            "108:\tlearn: 15.5748599\ttotal: 264ms\tremaining: 462ms\n",
            "109:\tlearn: 15.5530190\ttotal: 266ms\tremaining: 459ms\n",
            "110:\tlearn: 15.5406034\ttotal: 268ms\tremaining: 457ms\n",
            "111:\tlearn: 15.5237129\ttotal: 270ms\tremaining: 454ms\n",
            "112:\tlearn: 15.5045210\ttotal: 273ms\tremaining: 451ms\n",
            "113:\tlearn: 15.4797614\ttotal: 275ms\tremaining: 449ms\n",
            "114:\tlearn: 15.4653869\ttotal: 278ms\tremaining: 447ms\n",
            "115:\tlearn: 15.4546187\ttotal: 280ms\tremaining: 444ms\n",
            "116:\tlearn: 15.4329838\ttotal: 283ms\tremaining: 442ms\n",
            "117:\tlearn: 15.4174650\ttotal: 285ms\tremaining: 439ms\n",
            "118:\tlearn: 15.4046092\ttotal: 287ms\tremaining: 436ms\n",
            "119:\tlearn: 15.3928414\ttotal: 289ms\tremaining: 434ms\n",
            "120:\tlearn: 15.3781284\ttotal: 291ms\tremaining: 431ms\n",
            "121:\tlearn: 15.3563715\ttotal: 294ms\tremaining: 428ms\n",
            "122:\tlearn: 15.3384292\ttotal: 296ms\tremaining: 426ms\n",
            "123:\tlearn: 15.3299343\ttotal: 298ms\tremaining: 423ms\n",
            "124:\tlearn: 15.3136993\ttotal: 301ms\tremaining: 421ms\n",
            "125:\tlearn: 15.2965127\ttotal: 303ms\tremaining: 418ms\n",
            "126:\tlearn: 15.2708524\ttotal: 305ms\tremaining: 416ms\n",
            "127:\tlearn: 15.2513697\ttotal: 308ms\tremaining: 414ms\n",
            "128:\tlearn: 15.2303398\ttotal: 310ms\tremaining: 411ms\n",
            "129:\tlearn: 15.2212632\ttotal: 313ms\tremaining: 409ms\n",
            "130:\tlearn: 15.2080330\ttotal: 315ms\tremaining: 406ms\n",
            "131:\tlearn: 15.1886746\ttotal: 317ms\tremaining: 404ms\n",
            "132:\tlearn: 15.1776197\ttotal: 320ms\tremaining: 402ms\n",
            "133:\tlearn: 15.1617835\ttotal: 322ms\tremaining: 399ms\n",
            "134:\tlearn: 15.1454504\ttotal: 324ms\tremaining: 396ms\n",
            "135:\tlearn: 15.1287575\ttotal: 327ms\tremaining: 394ms\n",
            "136:\tlearn: 15.1215681\ttotal: 329ms\tremaining: 391ms\n",
            "137:\tlearn: 15.1111480\ttotal: 331ms\tremaining: 389ms\n",
            "138:\tlearn: 15.1010022\ttotal: 334ms\tremaining: 386ms\n",
            "139:\tlearn: 15.0895047\ttotal: 336ms\tremaining: 384ms\n",
            "140:\tlearn: 15.0823541\ttotal: 338ms\tremaining: 381ms\n",
            "141:\tlearn: 15.0666922\ttotal: 341ms\tremaining: 379ms\n",
            "142:\tlearn: 15.0487692\ttotal: 343ms\tremaining: 377ms\n",
            "143:\tlearn: 15.0369840\ttotal: 345ms\tremaining: 374ms\n",
            "144:\tlearn: 15.0251109\ttotal: 348ms\tremaining: 372ms\n",
            "145:\tlearn: 15.0067377\ttotal: 350ms\tremaining: 369ms\n",
            "146:\tlearn: 14.9896757\ttotal: 352ms\tremaining: 367ms\n",
            "147:\tlearn: 14.9807166\ttotal: 354ms\tremaining: 364ms\n",
            "148:\tlearn: 14.9661856\ttotal: 357ms\tremaining: 361ms\n",
            "149:\tlearn: 14.9515929\ttotal: 359ms\tremaining: 359ms\n",
            "150:\tlearn: 14.9270267\ttotal: 361ms\tremaining: 357ms\n",
            "151:\tlearn: 14.9047278\ttotal: 364ms\tremaining: 354ms\n",
            "152:\tlearn: 14.8965749\ttotal: 366ms\tremaining: 352ms\n",
            "153:\tlearn: 14.8875553\ttotal: 368ms\tremaining: 349ms\n",
            "154:\tlearn: 14.8700718\ttotal: 372ms\tremaining: 348ms\n",
            "155:\tlearn: 14.8530740\ttotal: 378ms\tremaining: 349ms\n",
            "156:\tlearn: 14.8350644\ttotal: 380ms\tremaining: 346ms\n",
            "157:\tlearn: 14.8180325\ttotal: 382ms\tremaining: 343ms\n",
            "158:\tlearn: 14.7952045\ttotal: 385ms\tremaining: 341ms\n",
            "159:\tlearn: 14.7811768\ttotal: 387ms\tremaining: 339ms\n",
            "160:\tlearn: 14.7750943\ttotal: 389ms\tremaining: 336ms\n",
            "161:\tlearn: 14.7591230\ttotal: 391ms\tremaining: 333ms\n",
            "162:\tlearn: 14.7480732\ttotal: 393ms\tremaining: 331ms\n",
            "163:\tlearn: 14.7338625\ttotal: 396ms\tremaining: 328ms\n",
            "164:\tlearn: 14.7229392\ttotal: 398ms\tremaining: 325ms\n",
            "165:\tlearn: 14.7066392\ttotal: 400ms\tremaining: 323ms\n",
            "166:\tlearn: 14.6942386\ttotal: 402ms\tremaining: 320ms\n",
            "167:\tlearn: 14.6881662\ttotal: 404ms\tremaining: 317ms\n",
            "168:\tlearn: 14.6774174\ttotal: 406ms\tremaining: 315ms\n",
            "169:\tlearn: 14.6577130\ttotal: 408ms\tremaining: 312ms\n",
            "170:\tlearn: 14.6404635\ttotal: 412ms\tremaining: 311ms\n",
            "171:\tlearn: 14.6356319\ttotal: 414ms\tremaining: 308ms\n",
            "172:\tlearn: 14.6256237\ttotal: 416ms\tremaining: 306ms\n",
            "173:\tlearn: 14.6121585\ttotal: 419ms\tremaining: 303ms\n",
            "174:\tlearn: 14.5989341\ttotal: 421ms\tremaining: 301ms\n",
            "175:\tlearn: 14.5867464\ttotal: 423ms\tremaining: 298ms\n",
            "176:\tlearn: 14.5786222\ttotal: 425ms\tremaining: 295ms\n",
            "177:\tlearn: 14.5673092\ttotal: 427ms\tremaining: 293ms\n",
            "178:\tlearn: 14.5526963\ttotal: 429ms\tremaining: 290ms\n",
            "179:\tlearn: 14.5399541\ttotal: 432ms\tremaining: 288ms\n",
            "180:\tlearn: 14.5248959\ttotal: 434ms\tremaining: 285ms\n",
            "181:\tlearn: 14.5086687\ttotal: 436ms\tremaining: 283ms\n",
            "182:\tlearn: 14.4998533\ttotal: 438ms\tremaining: 280ms\n",
            "183:\tlearn: 14.4896048\ttotal: 440ms\tremaining: 277ms\n",
            "184:\tlearn: 14.4783032\ttotal: 442ms\tremaining: 275ms\n",
            "185:\tlearn: 14.4588130\ttotal: 445ms\tremaining: 273ms\n",
            "186:\tlearn: 14.4434534\ttotal: 447ms\tremaining: 270ms\n",
            "187:\tlearn: 14.4302464\ttotal: 449ms\tremaining: 268ms\n",
            "188:\tlearn: 14.4079848\ttotal: 452ms\tremaining: 265ms\n",
            "189:\tlearn: 14.3968967\ttotal: 454ms\tremaining: 263ms\n",
            "190:\tlearn: 14.3803184\ttotal: 456ms\tremaining: 261ms\n",
            "191:\tlearn: 14.3706809\ttotal: 459ms\tremaining: 258ms\n",
            "192:\tlearn: 14.3621106\ttotal: 461ms\tremaining: 256ms\n",
            "193:\tlearn: 14.3486117\ttotal: 463ms\tremaining: 253ms\n",
            "194:\tlearn: 14.3348065\ttotal: 465ms\tremaining: 251ms\n",
            "195:\tlearn: 14.3254518\ttotal: 468ms\tremaining: 248ms\n",
            "196:\tlearn: 14.3124429\ttotal: 471ms\tremaining: 246ms\n",
            "197:\tlearn: 14.2988882\ttotal: 474ms\tremaining: 244ms\n",
            "198:\tlearn: 14.2825707\ttotal: 476ms\tremaining: 242ms\n",
            "199:\tlearn: 14.2748201\ttotal: 478ms\tremaining: 239ms\n",
            "200:\tlearn: 14.2649316\ttotal: 481ms\tremaining: 237ms\n",
            "201:\tlearn: 14.2531028\ttotal: 483ms\tremaining: 234ms\n",
            "202:\tlearn: 14.2377751\ttotal: 485ms\tremaining: 232ms\n",
            "203:\tlearn: 14.2256797\ttotal: 487ms\tremaining: 229ms\n",
            "204:\tlearn: 14.2072650\ttotal: 490ms\tremaining: 227ms\n",
            "205:\tlearn: 14.1973151\ttotal: 492ms\tremaining: 224ms\n",
            "206:\tlearn: 14.1877501\ttotal: 494ms\tremaining: 222ms\n",
            "207:\tlearn: 14.1764390\ttotal: 496ms\tremaining: 219ms\n",
            "208:\tlearn: 14.1685063\ttotal: 499ms\tremaining: 217ms\n",
            "209:\tlearn: 14.1532373\ttotal: 501ms\tremaining: 215ms\n",
            "210:\tlearn: 14.1369547\ttotal: 504ms\tremaining: 212ms\n",
            "211:\tlearn: 14.1295602\ttotal: 506ms\tremaining: 210ms\n",
            "212:\tlearn: 14.1247753\ttotal: 508ms\tremaining: 208ms\n",
            "213:\tlearn: 14.1164622\ttotal: 510ms\tremaining: 205ms\n",
            "214:\tlearn: 14.1075737\ttotal: 513ms\tremaining: 203ms\n",
            "215:\tlearn: 14.0995858\ttotal: 515ms\tremaining: 200ms\n",
            "216:\tlearn: 14.0913663\ttotal: 517ms\tremaining: 198ms\n",
            "217:\tlearn: 14.0835851\ttotal: 520ms\tremaining: 195ms\n",
            "218:\tlearn: 14.0641054\ttotal: 522ms\tremaining: 193ms\n",
            "219:\tlearn: 14.0558148\ttotal: 525ms\tremaining: 191ms\n",
            "220:\tlearn: 14.0403646\ttotal: 527ms\tremaining: 189ms\n",
            "221:\tlearn: 14.0329963\ttotal: 530ms\tremaining: 186ms\n",
            "222:\tlearn: 14.0226333\ttotal: 532ms\tremaining: 184ms\n",
            "223:\tlearn: 14.0106680\ttotal: 534ms\tremaining: 181ms\n",
            "224:\tlearn: 13.9967770\ttotal: 536ms\tremaining: 179ms\n",
            "225:\tlearn: 13.9863454\ttotal: 539ms\tremaining: 176ms\n",
            "226:\tlearn: 13.9743476\ttotal: 541ms\tremaining: 174ms\n",
            "227:\tlearn: 13.9653338\ttotal: 543ms\tremaining: 172ms\n",
            "228:\tlearn: 13.9536798\ttotal: 545ms\tremaining: 169ms\n",
            "229:\tlearn: 13.9359017\ttotal: 548ms\tremaining: 167ms\n",
            "230:\tlearn: 13.9296732\ttotal: 550ms\tremaining: 164ms\n",
            "231:\tlearn: 13.9136937\ttotal: 552ms\tremaining: 162ms\n",
            "232:\tlearn: 13.9064120\ttotal: 556ms\tremaining: 160ms\n",
            "233:\tlearn: 13.8916993\ttotal: 562ms\tremaining: 159ms\n",
            "234:\tlearn: 13.8822470\ttotal: 565ms\tremaining: 156ms\n",
            "235:\tlearn: 13.8640010\ttotal: 567ms\tremaining: 154ms\n",
            "236:\tlearn: 13.8489459\ttotal: 570ms\tremaining: 151ms\n",
            "237:\tlearn: 13.8375553\ttotal: 572ms\tremaining: 149ms\n",
            "238:\tlearn: 13.8224918\ttotal: 574ms\tremaining: 147ms\n",
            "239:\tlearn: 13.8078496\ttotal: 577ms\tremaining: 144ms\n",
            "240:\tlearn: 13.7997274\ttotal: 579ms\tremaining: 142ms\n",
            "241:\tlearn: 13.7881994\ttotal: 581ms\tremaining: 139ms\n",
            "242:\tlearn: 13.7772093\ttotal: 584ms\tremaining: 137ms\n",
            "243:\tlearn: 13.7645023\ttotal: 586ms\tremaining: 134ms\n",
            "244:\tlearn: 13.7446856\ttotal: 588ms\tremaining: 132ms\n",
            "245:\tlearn: 13.7344495\ttotal: 590ms\tremaining: 130ms\n",
            "246:\tlearn: 13.7187850\ttotal: 593ms\tremaining: 127ms\n",
            "247:\tlearn: 13.7072815\ttotal: 595ms\tremaining: 125ms\n",
            "248:\tlearn: 13.6902495\ttotal: 597ms\tremaining: 122ms\n",
            "249:\tlearn: 13.6785626\ttotal: 599ms\tremaining: 120ms\n",
            "250:\tlearn: 13.6666203\ttotal: 601ms\tremaining: 117ms\n",
            "251:\tlearn: 13.6521394\ttotal: 604ms\tremaining: 115ms\n",
            "252:\tlearn: 13.6378927\ttotal: 606ms\tremaining: 113ms\n",
            "253:\tlearn: 13.6226073\ttotal: 609ms\tremaining: 110ms\n",
            "254:\tlearn: 13.6060328\ttotal: 611ms\tremaining: 108ms\n",
            "255:\tlearn: 13.5912652\ttotal: 614ms\tremaining: 106ms\n",
            "256:\tlearn: 13.5726104\ttotal: 616ms\tremaining: 103ms\n",
            "257:\tlearn: 13.5626432\ttotal: 619ms\tremaining: 101ms\n",
            "258:\tlearn: 13.5498775\ttotal: 621ms\tremaining: 98.3ms\n",
            "259:\tlearn: 13.5358487\ttotal: 624ms\tremaining: 95.9ms\n",
            "260:\tlearn: 13.5257514\ttotal: 628ms\tremaining: 93.9ms\n",
            "261:\tlearn: 13.5094062\ttotal: 634ms\tremaining: 91.9ms\n",
            "262:\tlearn: 13.4955892\ttotal: 638ms\tremaining: 89.8ms\n",
            "263:\tlearn: 13.4770063\ttotal: 640ms\tremaining: 87.3ms\n",
            "264:\tlearn: 13.4618526\ttotal: 643ms\tremaining: 84.9ms\n",
            "265:\tlearn: 13.4496333\ttotal: 645ms\tremaining: 82.5ms\n",
            "266:\tlearn: 13.4364216\ttotal: 647ms\tremaining: 80ms\n",
            "267:\tlearn: 13.4293997\ttotal: 650ms\tremaining: 77.6ms\n",
            "268:\tlearn: 13.4168282\ttotal: 652ms\tremaining: 75.2ms\n",
            "269:\tlearn: 13.4110634\ttotal: 655ms\tremaining: 72.8ms\n",
            "270:\tlearn: 13.3993371\ttotal: 657ms\tremaining: 70.3ms\n",
            "271:\tlearn: 13.3920089\ttotal: 659ms\tremaining: 67.9ms\n",
            "272:\tlearn: 13.3793334\ttotal: 661ms\tremaining: 65.4ms\n",
            "273:\tlearn: 13.3623505\ttotal: 664ms\tremaining: 63ms\n",
            "274:\tlearn: 13.3534876\ttotal: 666ms\tremaining: 60.5ms\n",
            "275:\tlearn: 13.3421379\ttotal: 668ms\tremaining: 58.1ms\n",
            "276:\tlearn: 13.3250495\ttotal: 670ms\tremaining: 55.7ms\n",
            "277:\tlearn: 13.3126775\ttotal: 673ms\tremaining: 53.3ms\n",
            "278:\tlearn: 13.3012412\ttotal: 676ms\tremaining: 50.9ms\n",
            "279:\tlearn: 13.2915477\ttotal: 679ms\tremaining: 48.5ms\n",
            "280:\tlearn: 13.2821260\ttotal: 681ms\tremaining: 46ms\n",
            "281:\tlearn: 13.2702440\ttotal: 683ms\tremaining: 43.6ms\n",
            "282:\tlearn: 13.2598650\ttotal: 685ms\tremaining: 41.2ms\n",
            "283:\tlearn: 13.2484093\ttotal: 687ms\tremaining: 38.7ms\n",
            "284:\tlearn: 13.2387744\ttotal: 690ms\tremaining: 36.3ms\n",
            "285:\tlearn: 13.2316360\ttotal: 694ms\tremaining: 34ms\n",
            "286:\tlearn: 13.2242337\ttotal: 697ms\tremaining: 31.6ms\n",
            "287:\tlearn: 13.2173737\ttotal: 699ms\tremaining: 29.1ms\n",
            "288:\tlearn: 13.2128349\ttotal: 702ms\tremaining: 26.7ms\n",
            "289:\tlearn: 13.2042327\ttotal: 704ms\tremaining: 24.3ms\n",
            "290:\tlearn: 13.1878631\ttotal: 707ms\tremaining: 21.9ms\n",
            "291:\tlearn: 13.1750640\ttotal: 709ms\tremaining: 19.4ms\n",
            "292:\tlearn: 13.1679420\ttotal: 711ms\tremaining: 17ms\n",
            "293:\tlearn: 13.1579775\ttotal: 714ms\tremaining: 14.6ms\n",
            "294:\tlearn: 13.1471389\ttotal: 716ms\tremaining: 12.1ms\n",
            "295:\tlearn: 13.1394239\ttotal: 718ms\tremaining: 9.71ms\n",
            "296:\tlearn: 13.1299128\ttotal: 720ms\tremaining: 7.28ms\n",
            "297:\tlearn: 13.1247894\ttotal: 723ms\tremaining: 4.85ms\n",
            "298:\tlearn: 13.1123549\ttotal: 725ms\tremaining: 2.43ms\n",
            "299:\tlearn: 13.1013553\ttotal: 728ms\tremaining: 0us\n"
          ],
          "name": "stdout"
        }
      ]
    },
    {
      "cell_type": "code",
      "metadata": {
        "id": "KnKPARsOLB9n"
      },
      "source": [
        "cb_p = CB_model.predict(test_df)"
      ],
      "execution_count": null,
      "outputs": []
    },
    {
      "cell_type": "code",
      "metadata": {
        "id": "W5WGChLrLikX"
      },
      "source": [
        "rmscb=(np.sqrt(mean_squared_error(y_test_pred,y_test)))"
      ],
      "execution_count": null,
      "outputs": []
    },
    {
      "cell_type": "code",
      "metadata": {
        "colab": {
          "base_uri": "https://localhost:8080/"
        },
        "id": "53msQko0LoEO",
        "outputId": "d5f2a0e5-08f5-4e7c-c132-39238e88a202"
      },
      "source": [
        "rmscb"
      ],
      "execution_count": null,
      "outputs": [
        {
          "output_type": "execute_result",
          "data": {
            "text/plain": [
              "18.152879292295587"
            ]
          },
          "metadata": {
            "tags": []
          },
          "execution_count": 721
        }
      ]
    },
    {
      "cell_type": "code",
      "metadata": {
        "id": "pKP8CB3uLpTX"
      },
      "source": [
        "submmitted_data = pd.DataFrame()\n",
        "submmitted_data['Deal_title'] = test['Deal_title']\n",
        "submmitted_data['Success_probability'] =cb_p"
      ],
      "execution_count": null,
      "outputs": []
    },
    {
      "cell_type": "code",
      "metadata": {
        "id": "4saom7H9Lu6T"
      },
      "source": [
        "submmitted_data.to_csv(\"CB-2.csv\")"
      ],
      "execution_count": null,
      "outputs": []
    },
    {
      "cell_type": "code",
      "metadata": {
        "id": "LwdvZHtgXMSi"
      },
      "source": [
        "from sklearn.ensemble import ExtraTreesRegressor"
      ],
      "execution_count": null,
      "outputs": []
    },
    {
      "cell_type": "code",
      "metadata": {
        "colab": {
          "base_uri": "https://localhost:8080/"
        },
        "id": "k_w2NW3ELzoa",
        "outputId": "f6f76b01-c68e-4260-cba6-7de8aada647b"
      },
      "source": [
        "extreg=ExtraTreesRegressor(n_estimators=200)\n",
        "extreg.fit(X_train, y_train).score(X_test, y_test)"
      ],
      "execution_count": null,
      "outputs": [
        {
          "output_type": "execute_result",
          "data": {
            "text/plain": [
              "-0.023796334028811872"
            ]
          },
          "metadata": {
            "tags": []
          },
          "execution_count": 725
        }
      ]
    },
    {
      "cell_type": "code",
      "metadata": {
        "id": "WAd9IKrbWull"
      },
      "source": [
        "y_train_pred = CB_model.predict(X_train)\n",
        "y_test_pred = CB_model.predict(X_test)"
      ],
      "execution_count": null,
      "outputs": []
    },
    {
      "cell_type": "code",
      "metadata": {
        "id": "9t-mP7r3Wynl"
      },
      "source": [
        "ext_p = extreg.predict(test_df)"
      ],
      "execution_count": null,
      "outputs": []
    },
    {
      "cell_type": "code",
      "metadata": {
        "id": "87GxGJjmW4Pp"
      },
      "source": [
        "rmsext=(np.sqrt(mean_squared_error(y_test_pred,y_test)))"
      ],
      "execution_count": null,
      "outputs": []
    },
    {
      "cell_type": "code",
      "metadata": {
        "colab": {
          "base_uri": "https://localhost:8080/"
        },
        "id": "ikKmNrvLW_PX",
        "outputId": "c50f29d9-277d-4b3a-c23f-473a61354364"
      },
      "source": [
        "rmsext"
      ],
      "execution_count": null,
      "outputs": [
        {
          "output_type": "execute_result",
          "data": {
            "text/plain": [
              "18.152879292295587"
            ]
          },
          "metadata": {
            "tags": []
          },
          "execution_count": 729
        }
      ]
    },
    {
      "cell_type": "code",
      "metadata": {
        "id": "g8pNv1kuXBP8"
      },
      "source": [
        "submmitted_data = pd.DataFrame()\n",
        "submmitted_data['Deal_title'] = test['Deal_title']\n",
        "submmitted_data['Success_probability'] =ext_p"
      ],
      "execution_count": null,
      "outputs": []
    },
    {
      "cell_type": "code",
      "metadata": {
        "id": "yX_0s7GsXWrE"
      },
      "source": [
        "submmitted_data.to_csv(\"ext-1.csv\")"
      ],
      "execution_count": null,
      "outputs": []
    },
    {
      "cell_type": "code",
      "metadata": {
        "id": "ZgbL_WftYng0"
      },
      "source": [
        "from sklearn.ensemble import StackingRegressor"
      ],
      "execution_count": null,
      "outputs": []
    },
    {
      "cell_type": "code",
      "metadata": {
        "colab": {
          "base_uri": "https://localhost:8080/"
        },
        "id": "ZHQIW6bkXaQ0",
        "outputId": "6888de7e-219c-4ea1-8b8e-436789590cd2"
      },
      "source": [
        "estimators = [('GB', GradientBoostingRegressor()),('XGB', xgb.XGBRegressor()),('ADB',AdaBoostRegressor())]\n",
        "clf = StackingRegressor(estimators=estimators, final_estimator=lgb.LGBMRegressor())\n",
        "clf.fit(X_train, y_train).score(X_test, y_test)"
      ],
      "execution_count": null,
      "outputs": [
        {
          "output_type": "stream",
          "text": [
            "[16:35:52] WARNING: /workspace/src/objective/regression_obj.cu:152: reg:linear is now deprecated in favor of reg:squarederror.\n",
            "[16:35:57] WARNING: /workspace/src/objective/regression_obj.cu:152: reg:linear is now deprecated in favor of reg:squarederror.\n",
            "[16:35:57] WARNING: /workspace/src/objective/regression_obj.cu:152: reg:linear is now deprecated in favor of reg:squarederror.\n",
            "[16:35:58] WARNING: /workspace/src/objective/regression_obj.cu:152: reg:linear is now deprecated in favor of reg:squarederror.\n",
            "[16:35:58] WARNING: /workspace/src/objective/regression_obj.cu:152: reg:linear is now deprecated in favor of reg:squarederror.\n",
            "[16:35:58] WARNING: /workspace/src/objective/regression_obj.cu:152: reg:linear is now deprecated in favor of reg:squarederror.\n"
          ],
          "name": "stdout"
        },
        {
          "output_type": "execute_result",
          "data": {
            "text/plain": [
              "-3.567830518802495e-05"
            ]
          },
          "metadata": {
            "tags": []
          },
          "execution_count": 734
        }
      ]
    },
    {
      "cell_type": "code",
      "metadata": {
        "id": "00g46nvdX97i"
      },
      "source": [
        "y_train_pred = clf.predict(X_train)\n",
        "y_test_pred = clf.predict(X_test)"
      ],
      "execution_count": null,
      "outputs": []
    },
    {
      "cell_type": "code",
      "metadata": {
        "id": "HxOtIzrMX_cM"
      },
      "source": [
        "stacked_p = clf.predict(test_df)"
      ],
      "execution_count": null,
      "outputs": []
    },
    {
      "cell_type": "code",
      "metadata": {
        "id": "VZ1Gm-E3YJKm"
      },
      "source": [
        "rms_stacked=(np.sqrt(mean_squared_error(y_test_pred,y_test)))"
      ],
      "execution_count": null,
      "outputs": []
    },
    {
      "cell_type": "code",
      "metadata": {
        "colab": {
          "base_uri": "https://localhost:8080/"
        },
        "id": "rA0Wf9JuYUWB",
        "outputId": "1f742477-8aa5-4168-d456-63859f0f0647"
      },
      "source": [
        "rms_stacked"
      ],
      "execution_count": null,
      "outputs": [
        {
          "output_type": "execute_result",
          "data": {
            "text/plain": [
              "18.057060455935172"
            ]
          },
          "metadata": {
            "tags": []
          },
          "execution_count": 738
        }
      ]
    },
    {
      "cell_type": "code",
      "metadata": {
        "id": "PYWvMeN3YXS0"
      },
      "source": [
        "submmitted_data = pd.DataFrame()\n",
        "submmitted_data['Deal_title'] = test['Deal_title']\n",
        "submmitted_data['Success_probability'] =stacked_p"
      ],
      "execution_count": null,
      "outputs": []
    },
    {
      "cell_type": "code",
      "metadata": {
        "id": "ECDil-CPYyLC"
      },
      "source": [
        "submmitted_data.to_csv(\"stacked-1.csv\")"
      ],
      "execution_count": null,
      "outputs": []
    },
    {
      "cell_type": "code",
      "metadata": {
        "id": "H71nFfERY14u"
      },
      "source": [
        ""
      ],
      "execution_count": null,
      "outputs": []
    },
    {
      "cell_type": "code",
      "metadata": {
        "id": "qNoe9F4ql5KJ"
      },
      "source": [
        "import pandas as pd\n",
        "import numpy as np\n",
        "from sklearn.ensemble import GradientBoostingRegressor  #GBM algorithm\n",
        "from sklearn.model_selection import cross_validate  #Additional scklearn functions\n",
        "from sklearn.model_selection import GridSearchCV   #Perforing grid search\n",
        "from sklearn.model_selection import cross_val_score\n",
        "\n",
        "import matplotlib.pylab as plt\n",
        "%matplotlib inline\n",
        "from matplotlib.pylab import rcParams\n",
        "rcParams['figure.figsize'] = 12, 4\n",
        "\n",
        "#train = pd.read_csv('train_modified.csv')\n",
        "#target = 'Success_probability'\n",
        "#IDcol = 'ID'"
      ],
      "execution_count": null,
      "outputs": []
    },
    {
      "cell_type": "code",
      "metadata": {
        "id": "bEACVpEOmIUG"
      },
      "source": [
        "def modelfit(alg, X,y, performCV=True, printFeatureImportance=True, cv_folds=5):\n",
        "    #Fit the algorithm on the data\n",
        "    alg.fit(X, y)\n",
        "        \n",
        "    #Predict training set:\n",
        "    dtrain_predictions = alg.predict(X)\n",
        "    #dtrain_predprob = alg.predict_proba(X)\n",
        "    \n",
        "    #Perform cross-validation:\n",
        "    if performCV:\n",
        "        cv_score = cross_val_score(alg, X, y, cv=cv_folds)\n",
        "    \n",
        "    #Print model report:\n",
        "    #print(\"\\nModel Report\")\n",
        "    #print(\"Accuracy : %.4g\" % metrics.accuracy_score(y.values, dtrain_predictions))\n",
        "    #print(\"AUC Score (Train): %f\" % metrics.roc_auc_score(y, dtrain_predprob))\n",
        "    \n",
        "    if performCV:\n",
        "        print(\"CV Score : Mean - %.7g | Std - %.7g | Min - %.7g | Max - %.7g\" % (np.mean(cv_score),np.std(cv_score),np.min(cv_score),np.max(cv_score)))\n",
        "        \n",
        "    #Print Feature Importance:\n",
        "    if printFeatureImportance:\n",
        "        feat_imp = pd.Series(alg.feature_importances_, predictors).sort_values(ascending=False)\n",
        "        feat_imp.plot(kind='bar', title='Feature Importances')\n",
        "        plt.ylabel('Feature Importance Score')"
      ],
      "execution_count": null,
      "outputs": []
    },
    {
      "cell_type": "code",
      "metadata": {
        "colab": {
          "base_uri": "https://localhost:8080/",
          "height": 397
        },
        "id": "DUBpo-admhIz",
        "outputId": "8b2a7a7d-c7b5-4ef2-cfa4-117aba50d0ce"
      },
      "source": [
        "#Choose all predictors except target & IDcols\n",
        "#predictors =  [x for x in train.columns if x not in [target]]\n",
        "gbm0 = GradientBoostingRegressor(random_state=10)\n",
        "modelfit(gbm0, X, y)"
      ],
      "execution_count": null,
      "outputs": [
        {
          "output_type": "stream",
          "text": [
            "CV Score : Mean - 0.02250241 | Std - 0.005146607 | Min - 0.01492491 | Max - 0.02939001\n"
          ],
          "name": "stdout"
        },
        {
          "output_type": "display_data",
          "data": {
            "image/png": "[encoded data removed]",
            "text/plain": [
              "<Figure size 864x288 with 1 Axes>"
            ]
          },
          "metadata": {
            "tags": []
          }
        }
      ]
    },
    {
      "cell_type": "code",
      "metadata": {
        "id": "nOOswgtds2w8"
      },
      "source": [
        "from sklearn.metrics import mean_squared_error"
      ],
      "execution_count": null,
      "outputs": []
    },
    {
      "cell_type": "code",
      "metadata": {
        "colab": {
          "base_uri": "https://localhost:8080/"
        },
        "id": "ymsloIRun5lG",
        "outputId": "ba0d54dd-bfa3-48db-dad4-8ab2c39eda1d"
      },
      "source": [
        "\n",
        "param_test1 = {'n_estimators':range(20,81,10)}\n",
        "gsearch1 = GridSearchCV(estimator = GradientBoostingRegressor(learning_rate=0.1, min_samples_split=500,min_samples_leaf=50,max_depth=8,max_features='sqrt',subsample=0.8,random_state=10), \n",
        "param_grid = param_test1, scoring='neg_mean_squared_error',n_jobs=4,iid=False, cv=5)\n",
        "gsearch1.fit(X,y)"
      ],
      "execution_count": null,
      "outputs": [
        {
          "output_type": "stream",
          "text": [
            "/usr/local/lib/python3.7/dist-packages/sklearn/model_selection/_search.py:823: FutureWarning: The parameter 'iid' is deprecated in 0.22 and will be removed in 0.24.\n",
            "  \"removed in 0.24.\", FutureWarning\n"
          ],
          "name": "stderr"
        },
        {
          "output_type": "execute_result",
          "data": {
            "text/plain": [
              "GridSearchCV(cv=5, error_score=nan,\n",
              "             estimator=GradientBoostingRegressor(alpha=0.9, ccp_alpha=0.0,\n",
              "                                                 criterion='friedman_mse',\n",
              "                                                 init=None, learning_rate=0.1,\n",
              "                                                 loss='ls', max_depth=8,\n",
              "                                                 max_features='sqrt',\n",
              "                                                 max_leaf_nodes=None,\n",
              "                                                 min_impurity_decrease=0.0,\n",
              "                                                 min_impurity_split=None,\n",
              "                                                 min_samples_leaf=50,\n",
              "                                                 min_samples_split=500,\n",
              "                                                 min_weight_fraction_leaf=0.0,\n",
              "                                                 n_estimators=100,\n",
              "                                                 n_iter_no_change=None,\n",
              "                                                 presort='deprecated',\n",
              "                                                 random_state=10, subsample=0.8,\n",
              "                                                 tol=0.0001,\n",
              "                                                 validation_fraction=0.1,\n",
              "                                                 verbose=0, warm_start=False),\n",
              "             iid=False, n_jobs=4,\n",
              "             param_grid={'n_estimators': range(20, 81, 10)},\n",
              "             pre_dispatch='2*n_jobs', refit=True, return_train_score=False,\n",
              "             scoring='neg_mean_squared_error', verbose=0)"
            ]
          },
          "metadata": {
            "tags": []
          },
          "execution_count": 99
        }
      ]
    },
    {
      "cell_type": "code",
      "metadata": {
        "colab": {
          "base_uri": "https://localhost:8080/"
        },
        "id": "y87lPhcwssIf",
        "outputId": "71a65d2b-1c2c-46d9-ffbf-f9cd390de6ba"
      },
      "source": [
        "gsearch1.cv_results_, gsearch1.best_params_, gsearch1.best_score_"
      ],
      "execution_count": null,
      "outputs": [
        {
          "output_type": "execute_result",
          "data": {
            "text/plain": [
              "({'mean_fit_time': array([0.27403703, 0.35402336, 0.52433295, 0.64270163, 0.77712812,\n",
              "         0.89067607, 0.91437354]),\n",
              "  'mean_score_time': array([0.01148949, 0.00706339, 0.01154647, 0.01275487, 0.01200576,\n",
              "         0.01394958, 0.01077018]),\n",
              "  'mean_test_score': array([-310.48598279, -310.83709626, -311.86151568, -312.39764707,\n",
              "         -312.66790469, -313.15727887, -314.09945467]),\n",
              "  'param_n_estimators': masked_array(data=[20, 30, 40, 50, 60, 70, 80],\n",
              "               mask=[False, False, False, False, False, False, False],\n",
              "         fill_value='?',\n",
              "              dtype=object),\n",
              "  'params': [{'n_estimators': 20},\n",
              "   {'n_estimators': 30},\n",
              "   {'n_estimators': 40},\n",
              "   {'n_estimators': 50},\n",
              "   {'n_estimators': 60},\n",
              "   {'n_estimators': 70},\n",
              "   {'n_estimators': 80}],\n",
              "  'rank_test_score': array([1, 2, 3, 4, 5, 6, 7], dtype=int32),\n",
              "  'split0_test_score': array([-337.76008222, -337.95690215, -337.88105519, -337.76879689,\n",
              "         -338.24401041, -338.80050075, -339.47696814]),\n",
              "  'split1_test_score': array([-287.87300967, -287.83581763, -288.29962436, -288.07750455,\n",
              "         -288.29725957, -288.63684115, -289.76422856]),\n",
              "  'split2_test_score': array([-282.42112809, -282.60287673, -283.83551469, -285.13941839,\n",
              "         -285.05097908, -286.03231167, -287.17109657]),\n",
              "  'split3_test_score': array([-328.94977476, -328.87914359, -330.75815109, -331.77690867,\n",
              "         -332.13026423, -332.98000216, -333.03097146]),\n",
              "  'split4_test_score': array([-315.4259192 , -316.91074118, -318.53323308, -319.22560686,\n",
              "         -319.61701016, -319.33673859, -321.05400861]),\n",
              "  'std_fit_time': array([0.01924528, 0.05268456, 0.00867904, 0.02604841, 0.01677279,\n",
              "         0.00939449, 0.13902688]),\n",
              "  'std_score_time': array([0.00267228, 0.00356506, 0.00300877, 0.00023317, 0.00300136,\n",
              "         0.00062451, 0.00322126]),\n",
              "  'std_test_score': array([21.94617829, 22.01871239, 21.99650215, 21.91051082, 22.08091309,\n",
              "         22.02596931, 21.76293196])},\n",
              " {'n_estimators': 20},\n",
              " -310.4859827891204)"
            ]
          },
          "metadata": {
            "tags": []
          },
          "execution_count": 903
        }
      ]
    },
    {
      "cell_type": "code",
      "metadata": {
        "id": "Iqt1KMFUvqOz"
      },
      "source": [
        "from sklearn.model_selection import KFold"
      ],
      "execution_count": null,
      "outputs": []
    },
    {
      "cell_type": "code",
      "metadata": {
        "id": "vJanzw7xxqUf"
      },
      "source": [
        "# check maybe 10 kfolds would be better\n",
        "kfolds = KFold(n_splits=5, shuffle=True, random_state=42)"
      ],
      "execution_count": null,
      "outputs": []
    },
    {
      "cell_type": "code",
      "metadata": {
        "id": "VGUD2xa7tR-v"
      },
      "source": [
        "GBR=GradientBoostingRegressor()\n",
        "search_grid={'n_estimators':[400,500,1000],'learning_rate':[.001,0.01,.1],'max_depth':[1,2,4],'subsample':[.5,.75,1],'random_state':[1,7,21]}\n",
        "search=GridSearchCV(estimator=GBR,param_grid=search_grid,scoring='neg_mean_squared_error',n_jobs=1,cv=kfolds)"
      ],
      "execution_count": null,
      "outputs": []
    },
    {
      "cell_type": "code",
      "metadata": {
        "colab": {
          "base_uri": "https://localhost:8080/"
        },
        "id": "ZP6vPR8ovKyH",
        "outputId": "0cd66559-6e40-45ea-d347-daad51d335bc"
      },
      "source": [
        "search.fit(X,y)"
      ],
      "execution_count": null,
      "outputs": [
        {
          "output_type": "execute_result",
          "data": {
            "text/plain": [
              "GridSearchCV(cv=KFold(n_splits=5, random_state=42, shuffle=True),\n",
              "             error_score=nan,\n",
              "             estimator=GradientBoostingRegressor(alpha=0.9, ccp_alpha=0.0,\n",
              "                                                 criterion='friedman_mse',\n",
              "                                                 init=None, learning_rate=0.1,\n",
              "                                                 loss='ls', max_depth=3,\n",
              "                                                 max_features=None,\n",
              "                                                 max_leaf_nodes=None,\n",
              "                                                 min_impurity_decrease=0.0,\n",
              "                                                 min_impurity_split=None,\n",
              "                                                 min_samples_leaf=1,\n",
              "                                                 min_samples_split=2,\n",
              "                                                 min_weigh...\n",
              "                                                 subsample=1.0, tol=0.0001,\n",
              "                                                 validation_fraction=0.1,\n",
              "                                                 verbose=0, warm_start=False),\n",
              "             iid='deprecated', n_jobs=1,\n",
              "             param_grid={'learning_rate': [0.001, 0.01, 0.1],\n",
              "                         'max_depth': [1, 2, 4],\n",
              "                         'n_estimators': [400, 500, 1000],\n",
              "                         'random_state': [1, 7, 21],\n",
              "                         'subsample': [0.5, 0.75, 1]},\n",
              "             pre_dispatch='2*n_jobs', refit=True, return_train_score=False,\n",
              "             scoring='neg_mean_squared_error', verbose=0)"
            ]
          },
          "metadata": {
            "tags": []
          },
          "execution_count": 103
        }
      ]
    },
    {
      "cell_type": "code",
      "metadata": {
        "id": "kGdJN8P0vxuA",
        "colab": {
          "base_uri": "https://localhost:8080/"
        },
        "outputId": "cdb555b9-fcac-4b82-d3e4-93147d143ced"
      },
      "source": [
        "search.cv_results_"
      ],
      "execution_count": null,
      "outputs": [
        {
          "output_type": "execute_result",
          "data": {
            "text/plain": [
              "{'mean_fit_time': array([ 1.1768671 ,  1.40377579,  1.48085499,  1.17427387,  1.42625713,\n",
              "         1.52989984,  1.18102307,  1.43183346,  1.53428159,  1.51439395,\n",
              "         1.84657264,  1.92086697,  1.48144689,  1.76640677,  1.85537567,\n",
              "         1.39711404,  1.76404343,  1.82679477,  2.89191327,  3.58642087,\n",
              "         3.71109695,  2.87617602,  3.50046096,  3.64609919,  2.700564  ,\n",
              "         3.30052562,  3.45969591,  1.69818125,  2.22009478,  2.56147704,\n",
              "         1.67954068,  2.22657866,  2.57529812,  1.66589546,  2.23101878,\n",
              "         2.5757019 ,  2.10237918,  2.79007826,  3.24386377,  2.09428782,\n",
              "         2.81146293,  3.2846941 ,  2.17305908,  2.84462624,  3.25864019,\n",
              "         4.22473927,  5.54176927,  6.45415831,  4.15156689,  5.63143034,\n",
              "         6.48418331,  4.28311691,  5.5732687 ,  6.59704871,  3.09084921,\n",
              "         4.31845551,  5.27580819,  3.1419467 ,  4.29396958,  5.2970222 ,\n",
              "         3.27693357,  4.23810673,  5.00603852,  3.62554297,  5.01388178,\n",
              "         6.14857759,  3.63426085,  5.03119693,  6.19047403,  3.64360514,\n",
              "         5.05144005,  6.19649916,  7.29641314,  9.97338524, 12.48424954,\n",
              "         7.32477813, 10.43441863, 12.62879848,  7.40547643, 10.28596191,\n",
              "        12.43979273,  1.08901696,  1.35482397,  1.48944864,  1.0922771 ,\n",
              "         1.36142573,  1.41693535,  1.11039486,  1.3835927 ,  1.44726877,\n",
              "         1.3723516 ,  1.71903305,  1.8013679 ,  1.37939467,  1.76815   ,\n",
              "         1.80102568,  1.4238102 ,  1.74215226,  1.82224579,  2.85516148,\n",
              "         3.45399942,  3.565834  ,  2.72899323,  3.39623899,  3.51770191,\n",
              "         2.70903764,  3.41839457,  3.53679123,  1.75774312,  2.31308727,\n",
              "         2.67709923,  1.79280572,  2.30002785,  2.75985656,  1.80914407,\n",
              "         2.3557621 ,  2.74956851,  2.24168015,  3.00297761,  3.32903209,\n",
              "         2.15266213,  2.87681718,  3.40380831,  2.25586514,  2.9001647 ,\n",
              "         3.36228142,  4.40393562,  5.68832898,  6.5738596 ,  4.21403165,\n",
              "         5.58410211,  6.46878538,  4.17308798,  5.5497334 ,  6.40832562,\n",
              "         2.8984107 ,  4.00764256,  4.94064231,  2.92133913,  3.99952555,\n",
              "         4.93288193,  2.93212266,  4.02484469,  4.93045845,  3.66026645,\n",
              "         5.08696499,  6.20651999,  3.64287024,  5.07098575,  6.17395191,\n",
              "         3.62699399,  5.00420208,  6.18074069,  7.28145237, 10.03134151,\n",
              "        12.34628439,  7.28019071, 10.02046046, 12.26684451,  7.20976543,\n",
              "         9.98301606, 12.33993187,  1.06142817,  1.31151185,  1.35510626,\n",
              "         1.04331164,  1.29865298,  1.3946269 ,  1.0547998 ,  1.35431476,\n",
              "         1.43625312,  1.34901123,  1.69863973,  1.76729412,  1.34476123,\n",
              "         1.69228039,  1.77192154,  1.36255388,  1.68162355,  1.72762041,\n",
              "         2.63089519,  3.27597308,  3.47296433,  2.62399645,  3.25848541,\n",
              "         3.42574182,  2.62669687,  3.33790822,  3.42621641,  1.69199519,\n",
              "         2.21009579,  2.58372049,  1.68360004,  2.2018702 ,  2.56550622,\n",
              "         1.67731543,  2.20476356,  2.57485843,  2.10635486,  2.75909462,\n",
              "         3.19916487,  2.07387404,  2.76461101,  3.18415589,  2.06483593,\n",
              "         2.72372847,  3.18296232,  4.1521791 ,  5.49690189,  6.43176131,\n",
              "         4.2083281 ,  5.56040816,  6.77095828,  4.3854702 ,  5.88177137,\n",
              "         6.72029891,  2.98554897,  4.09011979,  5.01229744,  3.03545337,\n",
              "         4.15517478,  5.17340536,  3.06819277,  4.15968041,  5.05157804,\n",
              "         3.74439855,  5.14797688,  6.30511432,  3.82418637,  5.09493556,\n",
              "         6.2481101 ,  3.76460085,  5.12991824,  6.31064239,  7.57623258,\n",
              "        10.29034657, 12.45071688,  7.52107472, 10.22213988, 12.57205667,\n",
              "         7.44826698, 10.30811296, 12.46395636]),\n",
              " 'mean_score_time': array([0.00431294, 0.00418067, 0.00383739, 0.00455852, 0.0048593 ,\n",
              "        0.00413036, 0.00425591, 0.00463171, 0.00438442, 0.00762272,\n",
              "        0.00507622, 0.00496011, 0.00540729, 0.00536027, 0.00461068,\n",
              "        0.00498543, 0.0051825 , 0.00498796, 0.01073537, 0.0100482 ,\n",
              "        0.01066947, 0.01032801, 0.0096622 , 0.00971389, 0.00960088,\n",
              "        0.00938692, 0.00934629, 0.01059117, 0.01046615, 0.00888486,\n",
              "        0.01063929, 0.00984697, 0.00876303, 0.01062369, 0.00986648,\n",
              "        0.0088099 , 0.01303492, 0.0129848 , 0.01104407, 0.01320825,\n",
              "        0.0122952 , 0.01175685, 0.01332088, 0.01285038, 0.01117129,\n",
              "        0.02410145, 0.02411828, 0.02248263, 0.02423706, 0.02425671,\n",
              "        0.02225981, 0.025387  , 0.02456141, 0.02338181, 0.0190309 ,\n",
              "        0.01913939, 0.01788039, 0.0219326 , 0.01984887, 0.01850276,\n",
              "        0.01947546, 0.01881433, 0.01668134, 0.02171059, 0.02194839,\n",
              "        0.02126689, 0.0224153 , 0.02215786, 0.02118793, 0.02186518,\n",
              "        0.02217646, 0.02113056, 0.04169159, 0.04256487, 0.04260659,\n",
              "        0.04187984, 0.04463701, 0.04271822, 0.04203234, 0.04308376,\n",
              "        0.042908  , 0.00559649, 0.00554771, 0.00578918, 0.00534678,\n",
              "        0.00557971, 0.00558572, 0.00551019, 0.00571394, 0.00611606,\n",
              "        0.00661888, 0.00695906, 0.00722027, 0.00638471, 0.00721316,\n",
              "        0.00681148, 0.00636888, 0.00699587, 0.00695763, 0.01191335,\n",
              "        0.01216621, 0.01219006, 0.01108756, 0.01146131, 0.01189833,\n",
              "        0.01156006, 0.01145725, 0.01196151, 0.00972967, 0.00984449,\n",
              "        0.01011653, 0.00977411, 0.00991035, 0.01016011, 0.01022573,\n",
              "        0.01080456, 0.01021695, 0.01206737, 0.01339507, 0.01207366,\n",
              "        0.01133523, 0.01185555, 0.01194639, 0.0116816 , 0.01210537,\n",
              "        0.01178393, 0.0204164 , 0.01985378, 0.0206707 , 0.02014618,\n",
              "        0.02112794, 0.02126093, 0.01941576, 0.01955228, 0.02001867,\n",
              "        0.01607151, 0.01653929, 0.01796355, 0.01607914, 0.01765127,\n",
              "        0.01684589, 0.01704659, 0.01663165, 0.01694317, 0.019525  ,\n",
              "        0.01993752, 0.01999631, 0.01993527, 0.02017522, 0.0201448 ,\n",
              "        0.01965456, 0.01994853, 0.02023249, 0.03695102, 0.03627586,\n",
              "        0.03530664, 0.03633685, 0.03582244, 0.034729  , 0.03725142,\n",
              "        0.03551397, 0.03570113, 0.00486131, 0.00499363, 0.00511169,\n",
              "        0.00483246, 0.00499959, 0.0051734 , 0.00491066, 0.0049891 ,\n",
              "        0.00521498, 0.00582485, 0.00592418, 0.00638227, 0.00585613,\n",
              "        0.00597644, 0.00596819, 0.00583143, 0.00580807, 0.00600042,\n",
              "        0.00998502, 0.01034894, 0.01044602, 0.01020045, 0.01018453,\n",
              "        0.01044307, 0.01102705, 0.01049275, 0.01043205, 0.00817075,\n",
              "        0.00817351, 0.00830941, 0.00811276, 0.0078753 , 0.00765557,\n",
              "        0.00837851, 0.00797596, 0.00795112, 0.00990615, 0.0095295 ,\n",
              "        0.00913448, 0.00981359, 0.00937667, 0.00926843, 0.00966167,\n",
              "        0.00957003, 0.0091845 , 0.01846933, 0.01792898, 0.01683202,\n",
              "        0.01842217, 0.01809945, 0.01765513, 0.0190125 , 0.01864471,\n",
              "        0.01766405, 0.01551576, 0.01483197, 0.01307464, 0.01625295,\n",
              "        0.01494598, 0.01460481, 0.01641531, 0.01509037, 0.01430163,\n",
              "        0.01937513, 0.01932683, 0.01819553, 0.01982794, 0.01834702,\n",
              "        0.01658959, 0.01942806, 0.01837778, 0.01635537, 0.03768411,\n",
              "        0.03588505, 0.0303803 , 0.03782859, 0.03536835, 0.03010392,\n",
              "        0.037288  , 0.03600507, 0.02925048]),\n",
              " 'mean_test_score': array([-317.56381814, -317.55876488, -317.55447107, -317.54755382,\n",
              "        -317.5538969 , -317.55447107, -317.54530646, -317.55174462,\n",
              "        -317.55447107, -316.92589   , -316.95107084, -316.96900373,\n",
              "        -316.91301417, -316.94937508, -316.96900373, -316.91682601,\n",
              "        -316.94616885, -316.96900373, -314.55703244, -314.65453316,\n",
              "        -314.80552693, -314.56146306, -314.65897236, -314.80552693,\n",
              "        -314.56465786, -314.66091508, -314.80552693, -316.17336623,\n",
              "        -316.04294768, -315.99560039, -316.16129569, -316.02952942,\n",
              "        -315.99560039, -316.15236748, -316.05621303, -315.99560039,\n",
              "        -315.32760815, -315.20973377, -315.18620329, -315.32202106,\n",
              "        -315.20772344, -315.18620329, -315.33120149, -315.22047369,\n",
              "        -315.18620329, -312.63022655, -312.586263  , -312.74646274,\n",
              "        -312.65225062, -312.58688936, -312.74646274, -312.64984828,\n",
              "        -312.60857985, -312.74646274, -315.13078022, -314.97736138,\n",
              "        -315.08258092, -315.16053804, -314.94081284, -315.08633322,\n",
              "        -315.11098185, -314.97381857, -315.08523335, -314.16763103,\n",
              "        -314.0180751 , -314.15225996, -314.22610302, -313.98344969,\n",
              "        -314.15752238, -314.15673628, -314.01740603, -314.15779216,\n",
              "        -311.3496715 , -311.26171506, -311.55490146, -311.39945543,\n",
              "        -311.24164923, -311.56394487, -311.29324739, -311.24158052,\n",
              "        -311.56299637, -309.74693873, -309.78941091, -309.97211262,\n",
              "        -309.73315493, -309.7041569 , -309.97211262, -309.77561906,\n",
              "        -309.79543497, -309.97211262, -309.23778329, -309.24148873,\n",
              "        -309.47624924, -309.25615305, -309.19010959, -309.47624924,\n",
              "        -309.31503801, -309.26284316, -309.47624924, -308.71371159,\n",
              "        -308.6488963 , -308.61318333, -308.76344437, -308.54686514,\n",
              "        -308.61318333, -308.77836627, -308.46026708, -308.61318333,\n",
              "        -309.02335308, -308.75848487, -309.03740087, -308.94170482,\n",
              "        -308.81357963, -309.03740087, -308.90233069, -308.94090328,\n",
              "        -309.03740087, -308.91998357, -308.63333119, -308.82782221,\n",
              "        -308.79599509, -308.63533882, -308.82782221, -308.81486086,\n",
              "        -308.75798663, -308.82782221, -309.52571812, -309.15143677,\n",
              "        -309.24641056, -309.5531153 , -309.14374546, -309.25002532,\n",
              "        -309.4893233 , -309.10707537, -309.25359611, -309.49466746,\n",
              "        -310.01468423, -310.04714985, -310.5668335 , -309.99205068,\n",
              "        -310.07084181, -310.17491428, -310.03221176, -310.04465453,\n",
              "        -310.25500276, -310.47518516, -310.61592424, -311.23649075,\n",
              "        -310.38547702, -310.64122239, -310.79179439, -310.63610306,\n",
              "        -310.61672274, -313.90403538, -313.92983274, -314.49501519,\n",
              "        -314.84973205, -313.90413686, -314.49658814, -314.47847291,\n",
              "        -313.72882391, -314.50754789, -310.88649416, -310.09020027,\n",
              "        -309.14321815, -310.76965534, -309.97303909, -309.14321815,\n",
              "        -310.45720314, -309.60251284, -309.14321815, -311.54827009,\n",
              "        -310.4544834 , -309.34253097, -311.35545026, -310.16834134,\n",
              "        -309.34253097, -311.21001378, -310.13790493, -309.34253097,\n",
              "        -313.7147115 , -312.34524135, -309.85432591, -314.21275622,\n",
              "        -311.90210946, -309.85432591, -313.02072325, -311.9003181 ,\n",
              "        -309.85432591, -317.41132612, -317.82251475, -315.37203426,\n",
              "        -317.96609257, -317.22228689, -315.56476293, -320.16615237,\n",
              "        -317.35379643, -315.45671895, -321.29383915, -320.25353927,\n",
              "        -317.82654595, -320.77784522, -319.49989834, -318.02517093,\n",
              "        -322.50331725, -318.95505567, -317.90295637, -331.58357523,\n",
              "        -330.09635661, -327.27286971, -332.65471855, -330.03402943,\n",
              "        -327.55222121, -331.61882429, -329.02416269, -327.41955626,\n",
              "        -350.45230551, -340.57324767, -337.80233698, -347.24339386,\n",
              "        -340.7044519 , -337.15937096, -351.04469371, -340.3583043 ,\n",
              "        -337.76183067, -357.35126649, -346.0148589 , -343.53749981,\n",
              "        -352.28193821, -345.16969201, -343.18411339, -356.47296816,\n",
              "        -345.29942304, -343.43858469, -376.6606824 , -366.18524828,\n",
              "        -365.07772533, -374.63727455, -363.51861824, -364.35004408,\n",
              "        -377.58018773, -365.4633807 , -364.44802648]),\n",
              " 'param_learning_rate': masked_array(data=[0.001, 0.001, 0.001, 0.001, 0.001, 0.001, 0.001, 0.001,\n",
              "                    0.001, 0.001, 0.001, 0.001, 0.001, 0.001, 0.001, 0.001,\n",
              "                    0.001, 0.001, 0.001, 0.001, 0.001, 0.001, 0.001, 0.001,\n",
              "                    0.001, 0.001, 0.001, 0.001, 0.001, 0.001, 0.001, 0.001,\n",
              "                    0.001, 0.001, 0.001, 0.001, 0.001, 0.001, 0.001, 0.001,\n",
              "                    0.001, 0.001, 0.001, 0.001, 0.001, 0.001, 0.001, 0.001,\n",
              "                    0.001, 0.001, 0.001, 0.001, 0.001, 0.001, 0.001, 0.001,\n",
              "                    0.001, 0.001, 0.001, 0.001, 0.001, 0.001, 0.001, 0.001,\n",
              "                    0.001, 0.001, 0.001, 0.001, 0.001, 0.001, 0.001, 0.001,\n",
              "                    0.001, 0.001, 0.001, 0.001, 0.001, 0.001, 0.001, 0.001,\n",
              "                    0.001, 0.01, 0.01, 0.01, 0.01, 0.01, 0.01, 0.01, 0.01,\n",
              "                    0.01, 0.01, 0.01, 0.01, 0.01, 0.01, 0.01, 0.01, 0.01,\n",
              "                    0.01, 0.01, 0.01, 0.01, 0.01, 0.01, 0.01, 0.01, 0.01,\n",
              "                    0.01, 0.01, 0.01, 0.01, 0.01, 0.01, 0.01, 0.01, 0.01,\n",
              "                    0.01, 0.01, 0.01, 0.01, 0.01, 0.01, 0.01, 0.01, 0.01,\n",
              "                    0.01, 0.01, 0.01, 0.01, 0.01, 0.01, 0.01, 0.01, 0.01,\n",
              "                    0.01, 0.01, 0.01, 0.01, 0.01, 0.01, 0.01, 0.01, 0.01,\n",
              "                    0.01, 0.01, 0.01, 0.01, 0.01, 0.01, 0.01, 0.01, 0.01,\n",
              "                    0.01, 0.01, 0.01, 0.01, 0.01, 0.01, 0.01, 0.01, 0.01,\n",
              "                    0.01, 0.1, 0.1, 0.1, 0.1, 0.1, 0.1, 0.1, 0.1, 0.1, 0.1,\n",
              "                    0.1, 0.1, 0.1, 0.1, 0.1, 0.1, 0.1, 0.1, 0.1, 0.1, 0.1,\n",
              "                    0.1, 0.1, 0.1, 0.1, 0.1, 0.1, 0.1, 0.1, 0.1, 0.1, 0.1,\n",
              "                    0.1, 0.1, 0.1, 0.1, 0.1, 0.1, 0.1, 0.1, 0.1, 0.1, 0.1,\n",
              "                    0.1, 0.1, 0.1, 0.1, 0.1, 0.1, 0.1, 0.1, 0.1, 0.1, 0.1,\n",
              "                    0.1, 0.1, 0.1, 0.1, 0.1, 0.1, 0.1, 0.1, 0.1, 0.1, 0.1,\n",
              "                    0.1, 0.1, 0.1, 0.1, 0.1, 0.1, 0.1, 0.1, 0.1, 0.1, 0.1,\n",
              "                    0.1, 0.1, 0.1, 0.1, 0.1],\n",
              "              mask=[False, False, False, False, False, False, False, False,\n",
              "                    False, False, False, False, False, False, False, False,\n",
              "                    False, False, False, False, False, False, False, False,\n",
              "                    False, False, False, False, False, False, False, False,\n",
              "                    False, False, False, False, False, False, False, False,\n",
              "                    False, False, False, False, False, False, False, False,\n",
              "                    False, False, False, False, False, False, False, False,\n",
              "                    False, False, False, False, False, False, False, False,\n",
              "                    False, False, False, False, False, False, False, False,\n",
              "                    False, False, False, False, False, False, False, False,\n",
              "                    False, False, False, False, False, False, False, False,\n",
              "                    False, False, False, False, False, False, False, False,\n",
              "                    False, False, False, False, False, False, False, False,\n",
              "                    False, False, False, False, False, False, False, False,\n",
              "                    False, False, False, False, False, False, False, False,\n",
              "                    False, False, False, False, False, False, False, False,\n",
              "                    False, False, False, False, False, False, False, False,\n",
              "                    False, False, False, False, False, False, False, False,\n",
              "                    False, False, False, False, False, False, False, False,\n",
              "                    False, False, False, False, False, False, False, False,\n",
              "                    False, False, False, False, False, False, False, False,\n",
              "                    False, False, False, False, False, False, False, False,\n",
              "                    False, False, False, False, False, False, False, False,\n",
              "                    False, False, False, False, False, False, False, False,\n",
              "                    False, False, False, False, False, False, False, False,\n",
              "                    False, False, False, False, False, False, False, False,\n",
              "                    False, False, False, False, False, False, False, False,\n",
              "                    False, False, False, False, False, False, False, False,\n",
              "                    False, False, False, False, False, False, False, False,\n",
              "                    False, False, False, False, False, False, False, False,\n",
              "                    False, False, False],\n",
              "        fill_value='?',\n",
              "             dtype=object),\n",
              " 'param_max_depth': masked_array(data=[1, 1, 1, 1, 1, 1, 1, 1, 1, 1, 1, 1, 1, 1, 1, 1, 1, 1,\n",
              "                    1, 1, 1, 1, 1, 1, 1, 1, 1, 2, 2, 2, 2, 2, 2, 2, 2, 2,\n",
              "                    2, 2, 2, 2, 2, 2, 2, 2, 2, 2, 2, 2, 2, 2, 2, 2, 2, 2,\n",
              "                    4, 4, 4, 4, 4, 4, 4, 4, 4, 4, 4, 4, 4, 4, 4, 4, 4, 4,\n",
              "                    4, 4, 4, 4, 4, 4, 4, 4, 4, 1, 1, 1, 1, 1, 1, 1, 1, 1,\n",
              "                    1, 1, 1, 1, 1, 1, 1, 1, 1, 1, 1, 1, 1, 1, 1, 1, 1, 1,\n",
              "                    2, 2, 2, 2, 2, 2, 2, 2, 2, 2, 2, 2, 2, 2, 2, 2, 2, 2,\n",
              "                    2, 2, 2, 2, 2, 2, 2, 2, 2, 4, 4, 4, 4, 4, 4, 4, 4, 4,\n",
              "                    4, 4, 4, 4, 4, 4, 4, 4, 4, 4, 4, 4, 4, 4, 4, 4, 4, 4,\n",
              "                    1, 1, 1, 1, 1, 1, 1, 1, 1, 1, 1, 1, 1, 1, 1, 1, 1, 1,\n",
              "                    1, 1, 1, 1, 1, 1, 1, 1, 1, 2, 2, 2, 2, 2, 2, 2, 2, 2,\n",
              "                    2, 2, 2, 2, 2, 2, 2, 2, 2, 2, 2, 2, 2, 2, 2, 2, 2, 2,\n",
              "                    4, 4, 4, 4, 4, 4, 4, 4, 4, 4, 4, 4, 4, 4, 4, 4, 4, 4,\n",
              "                    4, 4, 4, 4, 4, 4, 4, 4, 4],\n",
              "              mask=[False, False, False, False, False, False, False, False,\n",
              "                    False, False, False, False, False, False, False, False,\n",
              "                    False, False, False, False, False, False, False, False,\n",
              "                    False, False, False, False, False, False, False, False,\n",
              "                    False, False, False, False, False, False, False, False,\n",
              "                    False, False, False, False, False, False, False, False,\n",
              "                    False, False, False, False, False, False, False, False,\n",
              "                    False, False, False, False, False, False, False, False,\n",
              "                    False, False, False, False, False, False, False, False,\n",
              "                    False, False, False, False, False, False, False, False,\n",
              "                    False, False, False, False, False, False, False, False,\n",
              "                    False, False, False, False, False, False, False, False,\n",
              "                    False, False, False, False, False, False, False, False,\n",
              "                    False, False, False, False, False, False, False, False,\n",
              "                    False, False, False, False, False, False, False, False,\n",
              "                    False, False, False, False, False, False, False, False,\n",
              "                    False, False, False, False, False, False, False, False,\n",
              "                    False, False, False, False, False, False, False, False,\n",
              "                    False, False, False, False, False, False, False, False,\n",
              "                    False, False, False, False, False, False, False, False,\n",
              "                    False, False, False, False, False, False, False, False,\n",
              "                    False, False, False, False, False, False, False, False,\n",
              "                    False, False, False, False, False, False, False, False,\n",
              "                    False, False, False, False, False, False, False, False,\n",
              "                    False, False, False, False, False, False, False, False,\n",
              "                    False, False, False, False, False, False, False, False,\n",
              "                    False, False, False, False, False, False, False, False,\n",
              "                    False, False, False, False, False, False, False, False,\n",
              "                    False, False, False, False, False, False, False, False,\n",
              "                    False, False, False, False, False, False, False, False,\n",
              "                    False, False, False],\n",
              "        fill_value='?',\n",
              "             dtype=object),\n",
              " 'param_n_estimators': masked_array(data=[400, 400, 400, 400, 400, 400, 400, 400, 400, 500, 500,\n",
              "                    500, 500, 500, 500, 500, 500, 500, 1000, 1000, 1000,\n",
              "                    1000, 1000, 1000, 1000, 1000, 1000, 400, 400, 400, 400,\n",
              "                    400, 400, 400, 400, 400, 500, 500, 500, 500, 500, 500,\n",
              "                    500, 500, 500, 1000, 1000, 1000, 1000, 1000, 1000,\n",
              "                    1000, 1000, 1000, 400, 400, 400, 400, 400, 400, 400,\n",
              "                    400, 400, 500, 500, 500, 500, 500, 500, 500, 500, 500,\n",
              "                    1000, 1000, 1000, 1000, 1000, 1000, 1000, 1000, 1000,\n",
              "                    400, 400, 400, 400, 400, 400, 400, 400, 400, 500, 500,\n",
              "                    500, 500, 500, 500, 500, 500, 500, 1000, 1000, 1000,\n",
              "                    1000, 1000, 1000, 1000, 1000, 1000, 400, 400, 400, 400,\n",
              "                    400, 400, 400, 400, 400, 500, 500, 500, 500, 500, 500,\n",
              "                    500, 500, 500, 1000, 1000, 1000, 1000, 1000, 1000,\n",
              "                    1000, 1000, 1000, 400, 400, 400, 400, 400, 400, 400,\n",
              "                    400, 400, 500, 500, 500, 500, 500, 500, 500, 500, 500,\n",
              "                    1000, 1000, 1000, 1000, 1000, 1000, 1000, 1000, 1000,\n",
              "                    400, 400, 400, 400, 400, 400, 400, 400, 400, 500, 500,\n",
              "                    500, 500, 500, 500, 500, 500, 500, 1000, 1000, 1000,\n",
              "                    1000, 1000, 1000, 1000, 1000, 1000, 400, 400, 400, 400,\n",
              "                    400, 400, 400, 400, 400, 500, 500, 500, 500, 500, 500,\n",
              "                    500, 500, 500, 1000, 1000, 1000, 1000, 1000, 1000,\n",
              "                    1000, 1000, 1000, 400, 400, 400, 400, 400, 400, 400,\n",
              "                    400, 400, 500, 500, 500, 500, 500, 500, 500, 500, 500,\n",
              "                    1000, 1000, 1000, 1000, 1000, 1000, 1000, 1000, 1000],\n",
              "              mask=[False, False, False, False, False, False, False, False,\n",
              "                    False, False, False, False, False, False, False, False,\n",
              "                    False, False, False, False, False, False, False, False,\n",
              "                    False, False, False, False, False, False, False, False,\n",
              "                    False, False, False, False, False, False, False, False,\n",
              "                    False, False, False, False, False, False, False, False,\n",
              "                    False, False, False, False, False, False, False, False,\n",
              "                    False, False, False, False, False, False, False, False,\n",
              "                    False, False, False, False, False, False, False, False,\n",
              "                    False, False, False, False, False, False, False, False,\n",
              "                    False, False, False, False, False, False, False, False,\n",
              "                    False, False, False, False, False, False, False, False,\n",
              "                    False, False, False, False, False, False, False, False,\n",
              "                    False, False, False, False, False, False, False, False,\n",
              "                    False, False, False, False, False, False, False, False,\n",
              "                    False, False, False, False, False, False, False, False,\n",
              "                    False, False, False, False, False, False, False, False,\n",
              "                    False, False, False, False, False, False, False, False,\n",
              "                    False, False, False, False, False, False, False, False,\n",
              "                    False, False, False, False, False, False, False, False,\n",
              "                    False, False, False, False, False, False, False, False,\n",
              "                    False, False, False, False, False, False, False, False,\n",
              "                    False, False, False, False, False, False, False, False,\n",
              "                    False, False, False, False, False, False, False, False,\n",
              "                    False, False, False, False, False, False, False, False,\n",
              "                    False, False, False, False, False, False, False, False,\n",
              "                    False, False, False, False, False, False, False, False,\n",
              "                    False, False, False, False, False, False, False, False,\n",
              "                    False, False, False, False, False, False, False, False,\n",
              "                    False, False, False, False, False, False, False, False,\n",
              "                    False, False, False],\n",
              "        fill_value='?',\n",
              "             dtype=object),\n",
              " 'param_random_state': masked_array(data=[1, 1, 1, 7, 7, 7, 21, 21, 21, 1, 1, 1, 7, 7, 7, 21, 21,\n",
              "                    21, 1, 1, 1, 7, 7, 7, 21, 21, 21, 1, 1, 1, 7, 7, 7, 21,\n",
              "                    21, 21, 1, 1, 1, 7, 7, 7, 21, 21, 21, 1, 1, 1, 7, 7, 7,\n",
              "                    21, 21, 21, 1, 1, 1, 7, 7, 7, 21, 21, 21, 1, 1, 1, 7,\n",
              "                    7, 7, 21, 21, 21, 1, 1, 1, 7, 7, 7, 21, 21, 21, 1, 1,\n",
              "                    1, 7, 7, 7, 21, 21, 21, 1, 1, 1, 7, 7, 7, 21, 21, 21,\n",
              "                    1, 1, 1, 7, 7, 7, 21, 21, 21, 1, 1, 1, 7, 7, 7, 21, 21,\n",
              "                    21, 1, 1, 1, 7, 7, 7, 21, 21, 21, 1, 1, 1, 7, 7, 7, 21,\n",
              "                    21, 21, 1, 1, 1, 7, 7, 7, 21, 21, 21, 1, 1, 1, 7, 7, 7,\n",
              "                    21, 21, 21, 1, 1, 1, 7, 7, 7, 21, 21, 21, 1, 1, 1, 7,\n",
              "                    7, 7, 21, 21, 21, 1, 1, 1, 7, 7, 7, 21, 21, 21, 1, 1,\n",
              "                    1, 7, 7, 7, 21, 21, 21, 1, 1, 1, 7, 7, 7, 21, 21, 21,\n",
              "                    1, 1, 1, 7, 7, 7, 21, 21, 21, 1, 1, 1, 7, 7, 7, 21, 21,\n",
              "                    21, 1, 1, 1, 7, 7, 7, 21, 21, 21, 1, 1, 1, 7, 7, 7, 21,\n",
              "                    21, 21, 1, 1, 1, 7, 7, 7, 21, 21, 21],\n",
              "              mask=[False, False, False, False, False, False, False, False,\n",
              "                    False, False, False, False, False, False, False, False,\n",
              "                    False, False, False, False, False, False, False, False,\n",
              "                    False, False, False, False, False, False, False, False,\n",
              "                    False, False, False, False, False, False, False, False,\n",
              "                    False, False, False, False, False, False, False, False,\n",
              "                    False, False, False, False, False, False, False, False,\n",
              "                    False, False, False, False, False, False, False, False,\n",
              "                    False, False, False, False, False, False, False, False,\n",
              "                    False, False, False, False, False, False, False, False,\n",
              "                    False, False, False, False, False, False, False, False,\n",
              "                    False, False, False, False, False, False, False, False,\n",
              "                    False, False, False, False, False, False, False, False,\n",
              "                    False, False, False, False, False, False, False, False,\n",
              "                    False, False, False, False, False, False, False, False,\n",
              "                    False, False, False, False, False, False, False, False,\n",
              "                    False, False, False, False, False, False, False, False,\n",
              "                    False, False, False, False, False, False, False, False,\n",
              "                    False, False, False, False, False, False, False, False,\n",
              "                    False, False, False, False, False, False, False, False,\n",
              "                    False, False, False, False, False, False, False, False,\n",
              "                    False, False, False, False, False, False, False, False,\n",
              "                    False, False, False, False, False, False, False, False,\n",
              "                    False, False, False, False, False, False, False, False,\n",
              "                    False, False, False, False, False, False, False, False,\n",
              "                    False, False, False, False, False, False, False, False,\n",
              "                    False, False, False, False, False, False, False, False,\n",
              "                    False, False, False, False, False, False, False, False,\n",
              "                    False, False, False, False, False, False, False, False,\n",
              "                    False, False, False, False, False, False, False, False,\n",
              "                    False, False, False],\n",
              "        fill_value='?',\n",
              "             dtype=object),\n",
              " 'param_subsample': masked_array(data=[0.5, 0.75, 1, 0.5, 0.75, 1, 0.5, 0.75, 1, 0.5, 0.75, 1,\n",
              "                    0.5, 0.75, 1, 0.5, 0.75, 1, 0.5, 0.75, 1, 0.5, 0.75, 1,\n",
              "                    0.5, 0.75, 1, 0.5, 0.75, 1, 0.5, 0.75, 1, 0.5, 0.75, 1,\n",
              "                    0.5, 0.75, 1, 0.5, 0.75, 1, 0.5, 0.75, 1, 0.5, 0.75, 1,\n",
              "                    0.5, 0.75, 1, 0.5, 0.75, 1, 0.5, 0.75, 1, 0.5, 0.75, 1,\n",
              "                    0.5, 0.75, 1, 0.5, 0.75, 1, 0.5, 0.75, 1, 0.5, 0.75, 1,\n",
              "                    0.5, 0.75, 1, 0.5, 0.75, 1, 0.5, 0.75, 1, 0.5, 0.75, 1,\n",
              "                    0.5, 0.75, 1, 0.5, 0.75, 1, 0.5, 0.75, 1, 0.5, 0.75, 1,\n",
              "                    0.5, 0.75, 1, 0.5, 0.75, 1, 0.5, 0.75, 1, 0.5, 0.75, 1,\n",
              "                    0.5, 0.75, 1, 0.5, 0.75, 1, 0.5, 0.75, 1, 0.5, 0.75, 1,\n",
              "                    0.5, 0.75, 1, 0.5, 0.75, 1, 0.5, 0.75, 1, 0.5, 0.75, 1,\n",
              "                    0.5, 0.75, 1, 0.5, 0.75, 1, 0.5, 0.75, 1, 0.5, 0.75, 1,\n",
              "                    0.5, 0.75, 1, 0.5, 0.75, 1, 0.5, 0.75, 1, 0.5, 0.75, 1,\n",
              "                    0.5, 0.75, 1, 0.5, 0.75, 1, 0.5, 0.75, 1, 0.5, 0.75, 1,\n",
              "                    0.5, 0.75, 1, 0.5, 0.75, 1, 0.5, 0.75, 1, 0.5, 0.75, 1,\n",
              "                    0.5, 0.75, 1, 0.5, 0.75, 1, 0.5, 0.75, 1, 0.5, 0.75, 1,\n",
              "                    0.5, 0.75, 1, 0.5, 0.75, 1, 0.5, 0.75, 1, 0.5, 0.75, 1,\n",
              "                    0.5, 0.75, 1, 0.5, 0.75, 1, 0.5, 0.75, 1, 0.5, 0.75, 1,\n",
              "                    0.5, 0.75, 1, 0.5, 0.75, 1, 0.5, 0.75, 1, 0.5, 0.75, 1,\n",
              "                    0.5, 0.75, 1, 0.5, 0.75, 1, 0.5, 0.75, 1, 0.5, 0.75, 1,\n",
              "                    0.5, 0.75, 1],\n",
              "              mask=[False, False, False, False, False, False, False, False,\n",
              "                    False, False, False, False, False, False, False, False,\n",
              "                    False, False, False, False, False, False, False, False,\n",
              "                    False, False, False, False, False, False, False, False,\n",
              "                    False, False, False, False, False, False, False, False,\n",
              "                    False, False, False, False, False, False, False, False,\n",
              "                    False, False, False, False, False, False, False, False,\n",
              "                    False, False, False, False, False, False, False, False,\n",
              "                    False, False, False, False, False, False, False, False,\n",
              "                    False, False, False, False, False, False, False, False,\n",
              "                    False, False, False, False, False, False, False, False,\n",
              "                    False, False, False, False, False, False, False, False,\n",
              "                    False, False, False, False, False, False, False, False,\n",
              "                    False, False, False, False, False, False, False, False,\n",
              "                    False, False, False, False, False, False, False, False,\n",
              "                    False, False, False, False, False, False, False, False,\n",
              "                    False, False, False, False, False, False, False, False,\n",
              "                    False, False, False, False, False, False, False, False,\n",
              "                    False, False, False, False, False, False, False, False,\n",
              "                    False, False, False, False, False, False, False, False,\n",
              "                    False, False, False, False, False, False, False, False,\n",
              "                    False, False, False, False, False, False, False, False,\n",
              "                    False, False, False, False, False, False, False, False,\n",
              "                    False, False, False, False, False, False, False, False,\n",
              "                    False, False, False, False, False, False, False, False,\n",
              "                    False, False, False, False, False, False, False, False,\n",
              "                    False, False, False, False, False, False, False, False,\n",
              "                    False, False, False, False, False, False, False, False,\n",
              "                    False, False, False, False, False, False, False, False,\n",
              "                    False, False, False, False, False, False, False, False,\n",
              "                    False, False, False],\n",
              "        fill_value='?',\n",
              "             dtype=object),\n",
              " 'params': [{'learning_rate': 0.001,\n",
              "   'max_depth': 1,\n",
              "   'n_estimators': 400,\n",
              "   'random_state': 1,\n",
              "   'subsample': 0.5},\n",
              "  {'learning_rate': 0.001,\n",
              "   'max_depth': 1,\n",
              "   'n_estimators': 400,\n",
              "   'random_state': 1,\n",
              "   'subsample': 0.75},\n",
              "  {'learning_rate': 0.001,\n",
              "   'max_depth': 1,\n",
              "   'n_estimators': 400,\n",
              "   'random_state': 1,\n",
              "   'subsample': 1},\n",
              "  {'learning_rate': 0.001,\n",
              "   'max_depth': 1,\n",
              "   'n_estimators': 400,\n",
              "   'random_state': 7,\n",
              "   'subsample': 0.5},\n",
              "  {'learning_rate': 0.001,\n",
              "   'max_depth': 1,\n",
              "   'n_estimators': 400,\n",
              "   'random_state': 7,\n",
              "   'subsample': 0.75},\n",
              "  {'learning_rate': 0.001,\n",
              "   'max_depth': 1,\n",
              "   'n_estimators': 400,\n",
              "   'random_state': 7,\n",
              "   'subsample': 1},\n",
              "  {'learning_rate': 0.001,\n",
              "   'max_depth': 1,\n",
              "   'n_estimators': 400,\n",
              "   'random_state': 21,\n",
              "   'subsample': 0.5},\n",
              "  {'learning_rate': 0.001,\n",
              "   'max_depth': 1,\n",
              "   'n_estimators': 400,\n",
              "   'random_state': 21,\n",
              "   'subsample': 0.75},\n",
              "  {'learning_rate': 0.001,\n",
              "   'max_depth': 1,\n",
              "   'n_estimators': 400,\n",
              "   'random_state': 21,\n",
              "   'subsample': 1},\n",
              "  {'learning_rate': 0.001,\n",
              "   'max_depth': 1,\n",
              "   'n_estimators': 500,\n",
              "   'random_state': 1,\n",
              "   'subsample': 0.5},\n",
              "  {'learning_rate': 0.001,\n",
              "   'max_depth': 1,\n",
              "   'n_estimators': 500,\n",
              "   'random_state': 1,\n",
              "   'subsample': 0.75},\n",
              "  {'learning_rate': 0.001,\n",
              "   'max_depth': 1,\n",
              "   'n_estimators': 500,\n",
              "   'random_state': 1,\n",
              "   'subsample': 1},\n",
              "  {'learning_rate': 0.001,\n",
              "   'max_depth': 1,\n",
              "   'n_estimators': 500,\n",
              "   'random_state': 7,\n",
              "   'subsample': 0.5},\n",
              "  {'learning_rate': 0.001,\n",
              "   'max_depth': 1,\n",
              "   'n_estimators': 500,\n",
              "   'random_state': 7,\n",
              "   'subsample': 0.75},\n",
              "  {'learning_rate': 0.001,\n",
              "   'max_depth': 1,\n",
              "   'n_estimators': 500,\n",
              "   'random_state': 7,\n",
              "   'subsample': 1},\n",
              "  {'learning_rate': 0.001,\n",
              "   'max_depth': 1,\n",
              "   'n_estimators': 500,\n",
              "   'random_state': 21,\n",
              "   'subsample': 0.5},\n",
              "  {'learning_rate': 0.001,\n",
              "   'max_depth': 1,\n",
              "   'n_estimators': 500,\n",
              "   'random_state': 21,\n",
              "   'subsample': 0.75},\n",
              "  {'learning_rate': 0.001,\n",
              "   'max_depth': 1,\n",
              "   'n_estimators': 500,\n",
              "   'random_state': 21,\n",
              "   'subsample': 1},\n",
              "  {'learning_rate': 0.001,\n",
              "   'max_depth': 1,\n",
              "   'n_estimators': 1000,\n",
              "   'random_state': 1,\n",
              "   'subsample': 0.5},\n",
              "  {'learning_rate': 0.001,\n",
              "   'max_depth': 1,\n",
              "   'n_estimators': 1000,\n",
              "   'random_state': 1,\n",
              "   'subsample': 0.75},\n",
              "  {'learning_rate': 0.001,\n",
              "   'max_depth': 1,\n",
              "   'n_estimators': 1000,\n",
              "   'random_state': 1,\n",
              "   'subsample': 1},\n",
              "  {'learning_rate': 0.001,\n",
              "   'max_depth': 1,\n",
              "   'n_estimators': 1000,\n",
              "   'random_state': 7,\n",
              "   'subsample': 0.5},\n",
              "  {'learning_rate': 0.001,\n",
              "   'max_depth': 1,\n",
              "   'n_estimators': 1000,\n",
              "   'random_state': 7,\n",
              "   'subsample': 0.75},\n",
              "  {'learning_rate': 0.001,\n",
              "   'max_depth': 1,\n",
              "   'n_estimators': 1000,\n",
              "   'random_state': 7,\n",
              "   'subsample': 1},\n",
              "  {'learning_rate': 0.001,\n",
              "   'max_depth': 1,\n",
              "   'n_estimators': 1000,\n",
              "   'random_state': 21,\n",
              "   'subsample': 0.5},\n",
              "  {'learning_rate': 0.001,\n",
              "   'max_depth': 1,\n",
              "   'n_estimators': 1000,\n",
              "   'random_state': 21,\n",
              "   'subsample': 0.75},\n",
              "  {'learning_rate': 0.001,\n",
              "   'max_depth': 1,\n",
              "   'n_estimators': 1000,\n",
              "   'random_state': 21,\n",
              "   'subsample': 1},\n",
              "  {'learning_rate': 0.001,\n",
              "   'max_depth': 2,\n",
              "   'n_estimators': 400,\n",
              "   'random_state': 1,\n",
              "   'subsample': 0.5},\n",
              "  {'learning_rate': 0.001,\n",
              "   'max_depth': 2,\n",
              "   'n_estimators': 400,\n",
              "   'random_state': 1,\n",
              "   'subsample': 0.75},\n",
              "  {'learning_rate': 0.001,\n",
              "   'max_depth': 2,\n",
              "   'n_estimators': 400,\n",
              "   'random_state': 1,\n",
              "   'subsample': 1},\n",
              "  {'learning_rate': 0.001,\n",
              "   'max_depth': 2,\n",
              "   'n_estimators': 400,\n",
              "   'random_state': 7,\n",
              "   'subsample': 0.5},\n",
              "  {'learning_rate': 0.001,\n",
              "   'max_depth': 2,\n",
              "   'n_estimators': 400,\n",
              "   'random_state': 7,\n",
              "   'subsample': 0.75},\n",
              "  {'learning_rate': 0.001,\n",
              "   'max_depth': 2,\n",
              "   'n_estimators': 400,\n",
              "   'random_state': 7,\n",
              "   'subsample': 1},\n",
              "  {'learning_rate': 0.001,\n",
              "   'max_depth': 2,\n",
              "   'n_estimators': 400,\n",
              "   'random_state': 21,\n",
              "   'subsample': 0.5},\n",
              "  {'learning_rate': 0.001,\n",
              "   'max_depth': 2,\n",
              "   'n_estimators': 400,\n",
              "   'random_state': 21,\n",
              "   'subsample': 0.75},\n",
              "  {'learning_rate': 0.001,\n",
              "   'max_depth': 2,\n",
              "   'n_estimators': 400,\n",
              "   'random_state': 21,\n",
              "   'subsample': 1},\n",
              "  {'learning_rate': 0.001,\n",
              "   'max_depth': 2,\n",
              "   'n_estimators': 500,\n",
              "   'random_state': 1,\n",
              "   'subsample': 0.5},\n",
              "  {'learning_rate': 0.001,\n",
              "   'max_depth': 2,\n",
              "   'n_estimators': 500,\n",
              "   'random_state': 1,\n",
              "   'subsample': 0.75},\n",
              "  {'learning_rate': 0.001,\n",
              "   'max_depth': 2,\n",
              "   'n_estimators': 500,\n",
              "   'random_state': 1,\n",
              "   'subsample': 1},\n",
              "  {'learning_rate': 0.001,\n",
              "   'max_depth': 2,\n",
              "   'n_estimators': 500,\n",
              "   'random_state': 7,\n",
              "   'subsample': 0.5},\n",
              "  {'learning_rate': 0.001,\n",
              "   'max_depth': 2,\n",
              "   'n_estimators': 500,\n",
              "   'random_state': 7,\n",
              "   'subsample': 0.75},\n",
              "  {'learning_rate': 0.001,\n",
              "   'max_depth': 2,\n",
              "   'n_estimators': 500,\n",
              "   'random_state': 7,\n",
              "   'subsample': 1},\n",
              "  {'learning_rate': 0.001,\n",
              "   'max_depth': 2,\n",
              "   'n_estimators': 500,\n",
              "   'random_state': 21,\n",
              "   'subsample': 0.5},\n",
              "  {'learning_rate': 0.001,\n",
              "   'max_depth': 2,\n",
              "   'n_estimators': 500,\n",
              "   'random_state': 21,\n",
              "   'subsample': 0.75},\n",
              "  {'learning_rate': 0.001,\n",
              "   'max_depth': 2,\n",
              "   'n_estimators': 500,\n",
              "   'random_state': 21,\n",
              "   'subsample': 1},\n",
              "  {'learning_rate': 0.001,\n",
              "   'max_depth': 2,\n",
              "   'n_estimators': 1000,\n",
              "   'random_state': 1,\n",
              "   'subsample': 0.5},\n",
              "  {'learning_rate': 0.001,\n",
              "   'max_depth': 2,\n",
              "   'n_estimators': 1000,\n",
              "   'random_state': 1,\n",
              "   'subsample': 0.75},\n",
              "  {'learning_rate': 0.001,\n",
              "   'max_depth': 2,\n",
              "   'n_estimators': 1000,\n",
              "   'random_state': 1,\n",
              "   'subsample': 1},\n",
              "  {'learning_rate': 0.001,\n",
              "   'max_depth': 2,\n",
              "   'n_estimators': 1000,\n",
              "   'random_state': 7,\n",
              "   'subsample': 0.5},\n",
              "  {'learning_rate': 0.001,\n",
              "   'max_depth': 2,\n",
              "   'n_estimators': 1000,\n",
              "   'random_state': 7,\n",
              "   'subsample': 0.75},\n",
              "  {'learning_rate': 0.001,\n",
              "   'max_depth': 2,\n",
              "   'n_estimators': 1000,\n",
              "   'random_state': 7,\n",
              "   'subsample': 1},\n",
              "  {'learning_rate': 0.001,\n",
              "   'max_depth': 2,\n",
              "   'n_estimators': 1000,\n",
              "   'random_state': 21,\n",
              "   'subsample': 0.5},\n",
              "  {'learning_rate': 0.001,\n",
              "   'max_depth': 2,\n",
              "   'n_estimators': 1000,\n",
              "   'random_state': 21,\n",
              "   'subsample': 0.75},\n",
              "  {'learning_rate': 0.001,\n",
              "   'max_depth': 2,\n",
              "   'n_estimators': 1000,\n",
              "   'random_state': 21,\n",
              "   'subsample': 1},\n",
              "  {'learning_rate': 0.001,\n",
              "   'max_depth': 4,\n",
              "   'n_estimators': 400,\n",
              "   'random_state': 1,\n",
              "   'subsample': 0.5},\n",
              "  {'learning_rate': 0.001,\n",
              "   'max_depth': 4,\n",
              "   'n_estimators': 400,\n",
              "   'random_state': 1,\n",
              "   'subsample': 0.75},\n",
              "  {'learning_rate': 0.001,\n",
              "   'max_depth': 4,\n",
              "   'n_estimators': 400,\n",
              "   'random_state': 1,\n",
              "   'subsample': 1},\n",
              "  {'learning_rate': 0.001,\n",
              "   'max_depth': 4,\n",
              "   'n_estimators': 400,\n",
              "   'random_state': 7,\n",
              "   'subsample': 0.5},\n",
              "  {'learning_rate': 0.001,\n",
              "   'max_depth': 4,\n",
              "   'n_estimators': 400,\n",
              "   'random_state': 7,\n",
              "   'subsample': 0.75},\n",
              "  {'learning_rate': 0.001,\n",
              "   'max_depth': 4,\n",
              "   'n_estimators': 400,\n",
              "   'random_state': 7,\n",
              "   'subsample': 1},\n",
              "  {'learning_rate': 0.001,\n",
              "   'max_depth': 4,\n",
              "   'n_estimators': 400,\n",
              "   'random_state': 21,\n",
              "   'subsample': 0.5},\n",
              "  {'learning_rate': 0.001,\n",
              "   'max_depth': 4,\n",
              "   'n_estimators': 400,\n",
              "   'random_state': 21,\n",
              "   'subsample': 0.75},\n",
              "  {'learning_rate': 0.001,\n",
              "   'max_depth': 4,\n",
              "   'n_estimators': 400,\n",
              "   'random_state': 21,\n",
              "   'subsample': 1},\n",
              "  {'learning_rate': 0.001,\n",
              "   'max_depth': 4,\n",
              "   'n_estimators': 500,\n",
              "   'random_state': 1,\n",
              "   'subsample': 0.5},\n",
              "  {'learning_rate': 0.001,\n",
              "   'max_depth': 4,\n",
              "   'n_estimators': 500,\n",
              "   'random_state': 1,\n",
              "   'subsample': 0.75},\n",
              "  {'learning_rate': 0.001,\n",
              "   'max_depth': 4,\n",
              "   'n_estimators': 500,\n",
              "   'random_state': 1,\n",
              "   'subsample': 1},\n",
              "  {'learning_rate': 0.001,\n",
              "   'max_depth': 4,\n",
              "   'n_estimators': 500,\n",
              "   'random_state': 7,\n",
              "   'subsample': 0.5},\n",
              "  {'learning_rate': 0.001,\n",
              "   'max_depth': 4,\n",
              "   'n_estimators': 500,\n",
              "   'random_state': 7,\n",
              "   'subsample': 0.75},\n",
              "  {'learning_rate': 0.001,\n",
              "   'max_depth': 4,\n",
              "   'n_estimators': 500,\n",
              "   'random_state': 7,\n",
              "   'subsample': 1},\n",
              "  {'learning_rate': 0.001,\n",
              "   'max_depth': 4,\n",
              "   'n_estimators': 500,\n",
              "   'random_state': 21,\n",
              "   'subsample': 0.5},\n",
              "  {'learning_rate': 0.001,\n",
              "   'max_depth': 4,\n",
              "   'n_estimators': 500,\n",
              "   'random_state': 21,\n",
              "   'subsample': 0.75},\n",
              "  {'learning_rate': 0.001,\n",
              "   'max_depth': 4,\n",
              "   'n_estimators': 500,\n",
              "   'random_state': 21,\n",
              "   'subsample': 1},\n",
              "  {'learning_rate': 0.001,\n",
              "   'max_depth': 4,\n",
              "   'n_estimators': 1000,\n",
              "   'random_state': 1,\n",
              "   'subsample': 0.5},\n",
              "  {'learning_rate': 0.001,\n",
              "   'max_depth': 4,\n",
              "   'n_estimators': 1000,\n",
              "   'random_state': 1,\n",
              "   'subsample': 0.75},\n",
              "  {'learning_rate': 0.001,\n",
              "   'max_depth': 4,\n",
              "   'n_estimators': 1000,\n",
              "   'random_state': 1,\n",
              "   'subsample': 1},\n",
              "  {'learning_rate': 0.001,\n",
              "   'max_depth': 4,\n",
              "   'n_estimators': 1000,\n",
              "   'random_state': 7,\n",
              "   'subsample': 0.5},\n",
              "  {'learning_rate': 0.001,\n",
              "   'max_depth': 4,\n",
              "   'n_estimators': 1000,\n",
              "   'random_state': 7,\n",
              "   'subsample': 0.75},\n",
              "  {'learning_rate': 0.001,\n",
              "   'max_depth': 4,\n",
              "   'n_estimators': 1000,\n",
              "   'random_state': 7,\n",
              "   'subsample': 1},\n",
              "  {'learning_rate': 0.001,\n",
              "   'max_depth': 4,\n",
              "   'n_estimators': 1000,\n",
              "   'random_state': 21,\n",
              "   'subsample': 0.5},\n",
              "  {'learning_rate': 0.001,\n",
              "   'max_depth': 4,\n",
              "   'n_estimators': 1000,\n",
              "   'random_state': 21,\n",
              "   'subsample': 0.75},\n",
              "  {'learning_rate': 0.001,\n",
              "   'max_depth': 4,\n",
              "   'n_estimators': 1000,\n",
              "   'random_state': 21,\n",
              "   'subsample': 1},\n",
              "  {'learning_rate': 0.01,\n",
              "   'max_depth': 1,\n",
              "   'n_estimators': 400,\n",
              "   'random_state': 1,\n",
              "   'subsample': 0.5},\n",
              "  {'learning_rate': 0.01,\n",
              "   'max_depth': 1,\n",
              "   'n_estimators': 400,\n",
              "   'random_state': 1,\n",
              "   'subsample': 0.75},\n",
              "  {'learning_rate': 0.01,\n",
              "   'max_depth': 1,\n",
              "   'n_estimators': 400,\n",
              "   'random_state': 1,\n",
              "   'subsample': 1},\n",
              "  {'learning_rate': 0.01,\n",
              "   'max_depth': 1,\n",
              "   'n_estimators': 400,\n",
              "   'random_state': 7,\n",
              "   'subsample': 0.5},\n",
              "  {'learning_rate': 0.01,\n",
              "   'max_depth': 1,\n",
              "   'n_estimators': 400,\n",
              "   'random_state': 7,\n",
              "   'subsample': 0.75},\n",
              "  {'learning_rate': 0.01,\n",
              "   'max_depth': 1,\n",
              "   'n_estimators': 400,\n",
              "   'random_state': 7,\n",
              "   'subsample': 1},\n",
              "  {'learning_rate': 0.01,\n",
              "   'max_depth': 1,\n",
              "   'n_estimators': 400,\n",
              "   'random_state': 21,\n",
              "   'subsample': 0.5},\n",
              "  {'learning_rate': 0.01,\n",
              "   'max_depth': 1,\n",
              "   'n_estimators': 400,\n",
              "   'random_state': 21,\n",
              "   'subsample': 0.75},\n",
              "  {'learning_rate': 0.01,\n",
              "   'max_depth': 1,\n",
              "   'n_estimators': 400,\n",
              "   'random_state': 21,\n",
              "   'subsample': 1},\n",
              "  {'learning_rate': 0.01,\n",
              "   'max_depth': 1,\n",
              "   'n_estimators': 500,\n",
              "   'random_state': 1,\n",
              "   'subsample': 0.5},\n",
              "  {'learning_rate': 0.01,\n",
              "   'max_depth': 1,\n",
              "   'n_estimators': 500,\n",
              "   'random_state': 1,\n",
              "   'subsample': 0.75},\n",
              "  {'learning_rate': 0.01,\n",
              "   'max_depth': 1,\n",
              "   'n_estimators': 500,\n",
              "   'random_state': 1,\n",
              "   'subsample': 1},\n",
              "  {'learning_rate': 0.01,\n",
              "   'max_depth': 1,\n",
              "   'n_estimators': 500,\n",
              "   'random_state': 7,\n",
              "   'subsample': 0.5},\n",
              "  {'learning_rate': 0.01,\n",
              "   'max_depth': 1,\n",
              "   'n_estimators': 500,\n",
              "   'random_state': 7,\n",
              "   'subsample': 0.75},\n",
              "  {'learning_rate': 0.01,\n",
              "   'max_depth': 1,\n",
              "   'n_estimators': 500,\n",
              "   'random_state': 7,\n",
              "   'subsample': 1},\n",
              "  {'learning_rate': 0.01,\n",
              "   'max_depth': 1,\n",
              "   'n_estimators': 500,\n",
              "   'random_state': 21,\n",
              "   'subsample': 0.5},\n",
              "  {'learning_rate': 0.01,\n",
              "   'max_depth': 1,\n",
              "   'n_estimators': 500,\n",
              "   'random_state': 21,\n",
              "   'subsample': 0.75},\n",
              "  {'learning_rate': 0.01,\n",
              "   'max_depth': 1,\n",
              "   'n_estimators': 500,\n",
              "   'random_state': 21,\n",
              "   'subsample': 1},\n",
              "  {'learning_rate': 0.01,\n",
              "   'max_depth': 1,\n",
              "   'n_estimators': 1000,\n",
              "   'random_state': 1,\n",
              "   'subsample': 0.5},\n",
              "  {'learning_rate': 0.01,\n",
              "   'max_depth': 1,\n",
              "   'n_estimators': 1000,\n",
              "   'random_state': 1,\n",
              "   'subsample': 0.75},\n",
              "  {'learning_rate': 0.01,\n",
              "   'max_depth': 1,\n",
              "   'n_estimators': 1000,\n",
              "   'random_state': 1,\n",
              "   'subsample': 1},\n",
              "  {'learning_rate': 0.01,\n",
              "   'max_depth': 1,\n",
              "   'n_estimators': 1000,\n",
              "   'random_state': 7,\n",
              "   'subsample': 0.5},\n",
              "  {'learning_rate': 0.01,\n",
              "   'max_depth': 1,\n",
              "   'n_estimators': 1000,\n",
              "   'random_state': 7,\n",
              "   'subsample': 0.75},\n",
              "  {'learning_rate': 0.01,\n",
              "   'max_depth': 1,\n",
              "   'n_estimators': 1000,\n",
              "   'random_state': 7,\n",
              "   'subsample': 1},\n",
              "  {'learning_rate': 0.01,\n",
              "   'max_depth': 1,\n",
              "   'n_estimators': 1000,\n",
              "   'random_state': 21,\n",
              "   'subsample': 0.5},\n",
              "  {'learning_rate': 0.01,\n",
              "   'max_depth': 1,\n",
              "   'n_estimators': 1000,\n",
              "   'random_state': 21,\n",
              "   'subsample': 0.75},\n",
              "  {'learning_rate': 0.01,\n",
              "   'max_depth': 1,\n",
              "   'n_estimators': 1000,\n",
              "   'random_state': 21,\n",
              "   'subsample': 1},\n",
              "  {'learning_rate': 0.01,\n",
              "   'max_depth': 2,\n",
              "   'n_estimators': 400,\n",
              "   'random_state': 1,\n",
              "   'subsample': 0.5},\n",
              "  {'learning_rate': 0.01,\n",
              "   'max_depth': 2,\n",
              "   'n_estimators': 400,\n",
              "   'random_state': 1,\n",
              "   'subsample': 0.75},\n",
              "  {'learning_rate': 0.01,\n",
              "   'max_depth': 2,\n",
              "   'n_estimators': 400,\n",
              "   'random_state': 1,\n",
              "   'subsample': 1},\n",
              "  {'learning_rate': 0.01,\n",
              "   'max_depth': 2,\n",
              "   'n_estimators': 400,\n",
              "   'random_state': 7,\n",
              "   'subsample': 0.5},\n",
              "  {'learning_rate': 0.01,\n",
              "   'max_depth': 2,\n",
              "   'n_estimators': 400,\n",
              "   'random_state': 7,\n",
              "   'subsample': 0.75},\n",
              "  {'learning_rate': 0.01,\n",
              "   'max_depth': 2,\n",
              "   'n_estimators': 400,\n",
              "   'random_state': 7,\n",
              "   'subsample': 1},\n",
              "  {'learning_rate': 0.01,\n",
              "   'max_depth': 2,\n",
              "   'n_estimators': 400,\n",
              "   'random_state': 21,\n",
              "   'subsample': 0.5},\n",
              "  {'learning_rate': 0.01,\n",
              "   'max_depth': 2,\n",
              "   'n_estimators': 400,\n",
              "   'random_state': 21,\n",
              "   'subsample': 0.75},\n",
              "  {'learning_rate': 0.01,\n",
              "   'max_depth': 2,\n",
              "   'n_estimators': 400,\n",
              "   'random_state': 21,\n",
              "   'subsample': 1},\n",
              "  {'learning_rate': 0.01,\n",
              "   'max_depth': 2,\n",
              "   'n_estimators': 500,\n",
              "   'random_state': 1,\n",
              "   'subsample': 0.5},\n",
              "  {'learning_rate': 0.01,\n",
              "   'max_depth': 2,\n",
              "   'n_estimators': 500,\n",
              "   'random_state': 1,\n",
              "   'subsample': 0.75},\n",
              "  {'learning_rate': 0.01,\n",
              "   'max_depth': 2,\n",
              "   'n_estimators': 500,\n",
              "   'random_state': 1,\n",
              "   'subsample': 1},\n",
              "  {'learning_rate': 0.01,\n",
              "   'max_depth': 2,\n",
              "   'n_estimators': 500,\n",
              "   'random_state': 7,\n",
              "   'subsample': 0.5},\n",
              "  {'learning_rate': 0.01,\n",
              "   'max_depth': 2,\n",
              "   'n_estimators': 500,\n",
              "   'random_state': 7,\n",
              "   'subsample': 0.75},\n",
              "  {'learning_rate': 0.01,\n",
              "   'max_depth': 2,\n",
              "   'n_estimators': 500,\n",
              "   'random_state': 7,\n",
              "   'subsample': 1},\n",
              "  {'learning_rate': 0.01,\n",
              "   'max_depth': 2,\n",
              "   'n_estimators': 500,\n",
              "   'random_state': 21,\n",
              "   'subsample': 0.5},\n",
              "  {'learning_rate': 0.01,\n",
              "   'max_depth': 2,\n",
              "   'n_estimators': 500,\n",
              "   'random_state': 21,\n",
              "   'subsample': 0.75},\n",
              "  {'learning_rate': 0.01,\n",
              "   'max_depth': 2,\n",
              "   'n_estimators': 500,\n",
              "   'random_state': 21,\n",
              "   'subsample': 1},\n",
              "  {'learning_rate': 0.01,\n",
              "   'max_depth': 2,\n",
              "   'n_estimators': 1000,\n",
              "   'random_state': 1,\n",
              "   'subsample': 0.5},\n",
              "  {'learning_rate': 0.01,\n",
              "   'max_depth': 2,\n",
              "   'n_estimators': 1000,\n",
              "   'random_state': 1,\n",
              "   'subsample': 0.75},\n",
              "  {'learning_rate': 0.01,\n",
              "   'max_depth': 2,\n",
              "   'n_estimators': 1000,\n",
              "   'random_state': 1,\n",
              "   'subsample': 1},\n",
              "  {'learning_rate': 0.01,\n",
              "   'max_depth': 2,\n",
              "   'n_estimators': 1000,\n",
              "   'random_state': 7,\n",
              "   'subsample': 0.5},\n",
              "  {'learning_rate': 0.01,\n",
              "   'max_depth': 2,\n",
              "   'n_estimators': 1000,\n",
              "   'random_state': 7,\n",
              "   'subsample': 0.75},\n",
              "  {'learning_rate': 0.01,\n",
              "   'max_depth': 2,\n",
              "   'n_estimators': 1000,\n",
              "   'random_state': 7,\n",
              "   'subsample': 1},\n",
              "  {'learning_rate': 0.01,\n",
              "   'max_depth': 2,\n",
              "   'n_estimators': 1000,\n",
              "   'random_state': 21,\n",
              "   'subsample': 0.5},\n",
              "  {'learning_rate': 0.01,\n",
              "   'max_depth': 2,\n",
              "   'n_estimators': 1000,\n",
              "   'random_state': 21,\n",
              "   'subsample': 0.75},\n",
              "  {'learning_rate': 0.01,\n",
              "   'max_depth': 2,\n",
              "   'n_estimators': 1000,\n",
              "   'random_state': 21,\n",
              "   'subsample': 1},\n",
              "  {'learning_rate': 0.01,\n",
              "   'max_depth': 4,\n",
              "   'n_estimators': 400,\n",
              "   'random_state': 1,\n",
              "   'subsample': 0.5},\n",
              "  {'learning_rate': 0.01,\n",
              "   'max_depth': 4,\n",
              "   'n_estimators': 400,\n",
              "   'random_state': 1,\n",
              "   'subsample': 0.75},\n",
              "  {'learning_rate': 0.01,\n",
              "   'max_depth': 4,\n",
              "   'n_estimators': 400,\n",
              "   'random_state': 1,\n",
              "   'subsample': 1},\n",
              "  {'learning_rate': 0.01,\n",
              "   'max_depth': 4,\n",
              "   'n_estimators': 400,\n",
              "   'random_state': 7,\n",
              "   'subsample': 0.5},\n",
              "  {'learning_rate': 0.01,\n",
              "   'max_depth': 4,\n",
              "   'n_estimators': 400,\n",
              "   'random_state': 7,\n",
              "   'subsample': 0.75},\n",
              "  {'learning_rate': 0.01,\n",
              "   'max_depth': 4,\n",
              "   'n_estimators': 400,\n",
              "   'random_state': 7,\n",
              "   'subsample': 1},\n",
              "  {'learning_rate': 0.01,\n",
              "   'max_depth': 4,\n",
              "   'n_estimators': 400,\n",
              "   'random_state': 21,\n",
              "   'subsample': 0.5},\n",
              "  {'learning_rate': 0.01,\n",
              "   'max_depth': 4,\n",
              "   'n_estimators': 400,\n",
              "   'random_state': 21,\n",
              "   'subsample': 0.75},\n",
              "  {'learning_rate': 0.01,\n",
              "   'max_depth': 4,\n",
              "   'n_estimators': 400,\n",
              "   'random_state': 21,\n",
              "   'subsample': 1},\n",
              "  {'learning_rate': 0.01,\n",
              "   'max_depth': 4,\n",
              "   'n_estimators': 500,\n",
              "   'random_state': 1,\n",
              "   'subsample': 0.5},\n",
              "  {'learning_rate': 0.01,\n",
              "   'max_depth': 4,\n",
              "   'n_estimators': 500,\n",
              "   'random_state': 1,\n",
              "   'subsample': 0.75},\n",
              "  {'learning_rate': 0.01,\n",
              "   'max_depth': 4,\n",
              "   'n_estimators': 500,\n",
              "   'random_state': 1,\n",
              "   'subsample': 1},\n",
              "  {'learning_rate': 0.01,\n",
              "   'max_depth': 4,\n",
              "   'n_estimators': 500,\n",
              "   'random_state': 7,\n",
              "   'subsample': 0.5},\n",
              "  {'learning_rate': 0.01,\n",
              "   'max_depth': 4,\n",
              "   'n_estimators': 500,\n",
              "   'random_state': 7,\n",
              "   'subsample': 0.75},\n",
              "  {'learning_rate': 0.01,\n",
              "   'max_depth': 4,\n",
              "   'n_estimators': 500,\n",
              "   'random_state': 7,\n",
              "   'subsample': 1},\n",
              "  {'learning_rate': 0.01,\n",
              "   'max_depth': 4,\n",
              "   'n_estimators': 500,\n",
              "   'random_state': 21,\n",
              "   'subsample': 0.5},\n",
              "  {'learning_rate': 0.01,\n",
              "   'max_depth': 4,\n",
              "   'n_estimators': 500,\n",
              "   'random_state': 21,\n",
              "   'subsample': 0.75},\n",
              "  {'learning_rate': 0.01,\n",
              "   'max_depth': 4,\n",
              "   'n_estimators': 500,\n",
              "   'random_state': 21,\n",
              "   'subsample': 1},\n",
              "  {'learning_rate': 0.01,\n",
              "   'max_depth': 4,\n",
              "   'n_estimators': 1000,\n",
              "   'random_state': 1,\n",
              "   'subsample': 0.5},\n",
              "  {'learning_rate': 0.01,\n",
              "   'max_depth': 4,\n",
              "   'n_estimators': 1000,\n",
              "   'random_state': 1,\n",
              "   'subsample': 0.75},\n",
              "  {'learning_rate': 0.01,\n",
              "   'max_depth': 4,\n",
              "   'n_estimators': 1000,\n",
              "   'random_state': 1,\n",
              "   'subsample': 1},\n",
              "  {'learning_rate': 0.01,\n",
              "   'max_depth': 4,\n",
              "   'n_estimators': 1000,\n",
              "   'random_state': 7,\n",
              "   'subsample': 0.5},\n",
              "  {'learning_rate': 0.01,\n",
              "   'max_depth': 4,\n",
              "   'n_estimators': 1000,\n",
              "   'random_state': 7,\n",
              "   'subsample': 0.75},\n",
              "  {'learning_rate': 0.01,\n",
              "   'max_depth': 4,\n",
              "   'n_estimators': 1000,\n",
              "   'random_state': 7,\n",
              "   'subsample': 1},\n",
              "  {'learning_rate': 0.01,\n",
              "   'max_depth': 4,\n",
              "   'n_estimators': 1000,\n",
              "   'random_state': 21,\n",
              "   'subsample': 0.5},\n",
              "  {'learning_rate': 0.01,\n",
              "   'max_depth': 4,\n",
              "   'n_estimators': 1000,\n",
              "   'random_state': 21,\n",
              "   'subsample': 0.75},\n",
              "  {'learning_rate': 0.01,\n",
              "   'max_depth': 4,\n",
              "   'n_estimators': 1000,\n",
              "   'random_state': 21,\n",
              "   'subsample': 1},\n",
              "  {'learning_rate': 0.1,\n",
              "   'max_depth': 1,\n",
              "   'n_estimators': 400,\n",
              "   'random_state': 1,\n",
              "   'subsample': 0.5},\n",
              "  {'learning_rate': 0.1,\n",
              "   'max_depth': 1,\n",
              "   'n_estimators': 400,\n",
              "   'random_state': 1,\n",
              "   'subsample': 0.75},\n",
              "  {'learning_rate': 0.1,\n",
              "   'max_depth': 1,\n",
              "   'n_estimators': 400,\n",
              "   'random_state': 1,\n",
              "   'subsample': 1},\n",
              "  {'learning_rate': 0.1,\n",
              "   'max_depth': 1,\n",
              "   'n_estimators': 400,\n",
              "   'random_state': 7,\n",
              "   'subsample': 0.5},\n",
              "  {'learning_rate': 0.1,\n",
              "   'max_depth': 1,\n",
              "   'n_estimators': 400,\n",
              "   'random_state': 7,\n",
              "   'subsample': 0.75},\n",
              "  {'learning_rate': 0.1,\n",
              "   'max_depth': 1,\n",
              "   'n_estimators': 400,\n",
              "   'random_state': 7,\n",
              "   'subsample': 1},\n",
              "  {'learning_rate': 0.1,\n",
              "   'max_depth': 1,\n",
              "   'n_estimators': 400,\n",
              "   'random_state': 21,\n",
              "   'subsample': 0.5},\n",
              "  {'learning_rate': 0.1,\n",
              "   'max_depth': 1,\n",
              "   'n_estimators': 400,\n",
              "   'random_state': 21,\n",
              "   'subsample': 0.75},\n",
              "  {'learning_rate': 0.1,\n",
              "   'max_depth': 1,\n",
              "   'n_estimators': 400,\n",
              "   'random_state': 21,\n",
              "   'subsample': 1},\n",
              "  {'learning_rate': 0.1,\n",
              "   'max_depth': 1,\n",
              "   'n_estimators': 500,\n",
              "   'random_state': 1,\n",
              "   'subsample': 0.5},\n",
              "  {'learning_rate': 0.1,\n",
              "   'max_depth': 1,\n",
              "   'n_estimators': 500,\n",
              "   'random_state': 1,\n",
              "   'subsample': 0.75},\n",
              "  {'learning_rate': 0.1,\n",
              "   'max_depth': 1,\n",
              "   'n_estimators': 500,\n",
              "   'random_state': 1,\n",
              "   'subsample': 1},\n",
              "  {'learning_rate': 0.1,\n",
              "   'max_depth': 1,\n",
              "   'n_estimators': 500,\n",
              "   'random_state': 7,\n",
              "   'subsample': 0.5},\n",
              "  {'learning_rate': 0.1,\n",
              "   'max_depth': 1,\n",
              "   'n_estimators': 500,\n",
              "   'random_state': 7,\n",
              "   'subsample': 0.75},\n",
              "  {'learning_rate': 0.1,\n",
              "   'max_depth': 1,\n",
              "   'n_estimators': 500,\n",
              "   'random_state': 7,\n",
              "   'subsample': 1},\n",
              "  {'learning_rate': 0.1,\n",
              "   'max_depth': 1,\n",
              "   'n_estimators': 500,\n",
              "   'random_state': 21,\n",
              "   'subsample': 0.5},\n",
              "  {'learning_rate': 0.1,\n",
              "   'max_depth': 1,\n",
              "   'n_estimators': 500,\n",
              "   'random_state': 21,\n",
              "   'subsample': 0.75},\n",
              "  {'learning_rate': 0.1,\n",
              "   'max_depth': 1,\n",
              "   'n_estimators': 500,\n",
              "   'random_state': 21,\n",
              "   'subsample': 1},\n",
              "  {'learning_rate': 0.1,\n",
              "   'max_depth': 1,\n",
              "   'n_estimators': 1000,\n",
              "   'random_state': 1,\n",
              "   'subsample': 0.5},\n",
              "  {'learning_rate': 0.1,\n",
              "   'max_depth': 1,\n",
              "   'n_estimators': 1000,\n",
              "   'random_state': 1,\n",
              "   'subsample': 0.75},\n",
              "  {'learning_rate': 0.1,\n",
              "   'max_depth': 1,\n",
              "   'n_estimators': 1000,\n",
              "   'random_state': 1,\n",
              "   'subsample': 1},\n",
              "  {'learning_rate': 0.1,\n",
              "   'max_depth': 1,\n",
              "   'n_estimators': 1000,\n",
              "   'random_state': 7,\n",
              "   'subsample': 0.5},\n",
              "  {'learning_rate': 0.1,\n",
              "   'max_depth': 1,\n",
              "   'n_estimators': 1000,\n",
              "   'random_state': 7,\n",
              "   'subsample': 0.75},\n",
              "  {'learning_rate': 0.1,\n",
              "   'max_depth': 1,\n",
              "   'n_estimators': 1000,\n",
              "   'random_state': 7,\n",
              "   'subsample': 1},\n",
              "  {'learning_rate': 0.1,\n",
              "   'max_depth': 1,\n",
              "   'n_estimators': 1000,\n",
              "   'random_state': 21,\n",
              "   'subsample': 0.5},\n",
              "  {'learning_rate': 0.1,\n",
              "   'max_depth': 1,\n",
              "   'n_estimators': 1000,\n",
              "   'random_state': 21,\n",
              "   'subsample': 0.75},\n",
              "  {'learning_rate': 0.1,\n",
              "   'max_depth': 1,\n",
              "   'n_estimators': 1000,\n",
              "   'random_state': 21,\n",
              "   'subsample': 1},\n",
              "  {'learning_rate': 0.1,\n",
              "   'max_depth': 2,\n",
              "   'n_estimators': 400,\n",
              "   'random_state': 1,\n",
              "   'subsample': 0.5},\n",
              "  {'learning_rate': 0.1,\n",
              "   'max_depth': 2,\n",
              "   'n_estimators': 400,\n",
              "   'random_state': 1,\n",
              "   'subsample': 0.75},\n",
              "  {'learning_rate': 0.1,\n",
              "   'max_depth': 2,\n",
              "   'n_estimators': 400,\n",
              "   'random_state': 1,\n",
              "   'subsample': 1},\n",
              "  {'learning_rate': 0.1,\n",
              "   'max_depth': 2,\n",
              "   'n_estimators': 400,\n",
              "   'random_state': 7,\n",
              "   'subsample': 0.5},\n",
              "  {'learning_rate': 0.1,\n",
              "   'max_depth': 2,\n",
              "   'n_estimators': 400,\n",
              "   'random_state': 7,\n",
              "   'subsample': 0.75},\n",
              "  {'learning_rate': 0.1,\n",
              "   'max_depth': 2,\n",
              "   'n_estimators': 400,\n",
              "   'random_state': 7,\n",
              "   'subsample': 1},\n",
              "  {'learning_rate': 0.1,\n",
              "   'max_depth': 2,\n",
              "   'n_estimators': 400,\n",
              "   'random_state': 21,\n",
              "   'subsample': 0.5},\n",
              "  {'learning_rate': 0.1,\n",
              "   'max_depth': 2,\n",
              "   'n_estimators': 400,\n",
              "   'random_state': 21,\n",
              "   'subsample': 0.75},\n",
              "  {'learning_rate': 0.1,\n",
              "   'max_depth': 2,\n",
              "   'n_estimators': 400,\n",
              "   'random_state': 21,\n",
              "   'subsample': 1},\n",
              "  {'learning_rate': 0.1,\n",
              "   'max_depth': 2,\n",
              "   'n_estimators': 500,\n",
              "   'random_state': 1,\n",
              "   'subsample': 0.5},\n",
              "  {'learning_rate': 0.1,\n",
              "   'max_depth': 2,\n",
              "   'n_estimators': 500,\n",
              "   'random_state': 1,\n",
              "   'subsample': 0.75},\n",
              "  {'learning_rate': 0.1,\n",
              "   'max_depth': 2,\n",
              "   'n_estimators': 500,\n",
              "   'random_state': 1,\n",
              "   'subsample': 1},\n",
              "  {'learning_rate': 0.1,\n",
              "   'max_depth': 2,\n",
              "   'n_estimators': 500,\n",
              "   'random_state': 7,\n",
              "   'subsample': 0.5},\n",
              "  {'learning_rate': 0.1,\n",
              "   'max_depth': 2,\n",
              "   'n_estimators': 500,\n",
              "   'random_state': 7,\n",
              "   'subsample': 0.75},\n",
              "  {'learning_rate': 0.1,\n",
              "   'max_depth': 2,\n",
              "   'n_estimators': 500,\n",
              "   'random_state': 7,\n",
              "   'subsample': 1},\n",
              "  {'learning_rate': 0.1,\n",
              "   'max_depth': 2,\n",
              "   'n_estimators': 500,\n",
              "   'random_state': 21,\n",
              "   'subsample': 0.5},\n",
              "  {'learning_rate': 0.1,\n",
              "   'max_depth': 2,\n",
              "   'n_estimators': 500,\n",
              "   'random_state': 21,\n",
              "   'subsample': 0.75},\n",
              "  {'learning_rate': 0.1,\n",
              "   'max_depth': 2,\n",
              "   'n_estimators': 500,\n",
              "   'random_state': 21,\n",
              "   'subsample': 1},\n",
              "  {'learning_rate': 0.1,\n",
              "   'max_depth': 2,\n",
              "   'n_estimators': 1000,\n",
              "   'random_state': 1,\n",
              "   'subsample': 0.5},\n",
              "  {'learning_rate': 0.1,\n",
              "   'max_depth': 2,\n",
              "   'n_estimators': 1000,\n",
              "   'random_state': 1,\n",
              "   'subsample': 0.75},\n",
              "  {'learning_rate': 0.1,\n",
              "   'max_depth': 2,\n",
              "   'n_estimators': 1000,\n",
              "   'random_state': 1,\n",
              "   'subsample': 1},\n",
              "  {'learning_rate': 0.1,\n",
              "   'max_depth': 2,\n",
              "   'n_estimators': 1000,\n",
              "   'random_state': 7,\n",
              "   'subsample': 0.5},\n",
              "  {'learning_rate': 0.1,\n",
              "   'max_depth': 2,\n",
              "   'n_estimators': 1000,\n",
              "   'random_state': 7,\n",
              "   'subsample': 0.75},\n",
              "  {'learning_rate': 0.1,\n",
              "   'max_depth': 2,\n",
              "   'n_estimators': 1000,\n",
              "   'random_state': 7,\n",
              "   'subsample': 1},\n",
              "  {'learning_rate': 0.1,\n",
              "   'max_depth': 2,\n",
              "   'n_estimators': 1000,\n",
              "   'random_state': 21,\n",
              "   'subsample': 0.5},\n",
              "  {'learning_rate': 0.1,\n",
              "   'max_depth': 2,\n",
              "   'n_estimators': 1000,\n",
              "   'random_state': 21,\n",
              "   'subsample': 0.75},\n",
              "  {'learning_rate': 0.1,\n",
              "   'max_depth': 2,\n",
              "   'n_estimators': 1000,\n",
              "   'random_state': 21,\n",
              "   'subsample': 1},\n",
              "  {'learning_rate': 0.1,\n",
              "   'max_depth': 4,\n",
              "   'n_estimators': 400,\n",
              "   'random_state': 1,\n",
              "   'subsample': 0.5},\n",
              "  {'learning_rate': 0.1,\n",
              "   'max_depth': 4,\n",
              "   'n_estimators': 400,\n",
              "   'random_state': 1,\n",
              "   'subsample': 0.75},\n",
              "  {'learning_rate': 0.1,\n",
              "   'max_depth': 4,\n",
              "   'n_estimators': 400,\n",
              "   'random_state': 1,\n",
              "   'subsample': 1},\n",
              "  {'learning_rate': 0.1,\n",
              "   'max_depth': 4,\n",
              "   'n_estimators': 400,\n",
              "   'random_state': 7,\n",
              "   'subsample': 0.5},\n",
              "  {'learning_rate': 0.1,\n",
              "   'max_depth': 4,\n",
              "   'n_estimators': 400,\n",
              "   'random_state': 7,\n",
              "   'subsample': 0.75},\n",
              "  {'learning_rate': 0.1,\n",
              "   'max_depth': 4,\n",
              "   'n_estimators': 400,\n",
              "   'random_state': 7,\n",
              "   'subsample': 1},\n",
              "  {'learning_rate': 0.1,\n",
              "   'max_depth': 4,\n",
              "   'n_estimators': 400,\n",
              "   'random_state': 21,\n",
              "   'subsample': 0.5},\n",
              "  {'learning_rate': 0.1,\n",
              "   'max_depth': 4,\n",
              "   'n_estimators': 400,\n",
              "   'random_state': 21,\n",
              "   'subsample': 0.75},\n",
              "  {'learning_rate': 0.1,\n",
              "   'max_depth': 4,\n",
              "   'n_estimators': 400,\n",
              "   'random_state': 21,\n",
              "   'subsample': 1},\n",
              "  {'learning_rate': 0.1,\n",
              "   'max_depth': 4,\n",
              "   'n_estimators': 500,\n",
              "   'random_state': 1,\n",
              "   'subsample': 0.5},\n",
              "  {'learning_rate': 0.1,\n",
              "   'max_depth': 4,\n",
              "   'n_estimators': 500,\n",
              "   'random_state': 1,\n",
              "   'subsample': 0.75},\n",
              "  {'learning_rate': 0.1,\n",
              "   'max_depth': 4,\n",
              "   'n_estimators': 500,\n",
              "   'random_state': 1,\n",
              "   'subsample': 1},\n",
              "  {'learning_rate': 0.1,\n",
              "   'max_depth': 4,\n",
              "   'n_estimators': 500,\n",
              "   'random_state': 7,\n",
              "   'subsample': 0.5},\n",
              "  {'learning_rate': 0.1,\n",
              "   'max_depth': 4,\n",
              "   'n_estimators': 500,\n",
              "   'random_state': 7,\n",
              "   'subsample': 0.75},\n",
              "  {'learning_rate': 0.1,\n",
              "   'max_depth': 4,\n",
              "   'n_estimators': 500,\n",
              "   'random_state': 7,\n",
              "   'subsample': 1},\n",
              "  {'learning_rate': 0.1,\n",
              "   'max_depth': 4,\n",
              "   'n_estimators': 500,\n",
              "   'random_state': 21,\n",
              "   'subsample': 0.5},\n",
              "  {'learning_rate': 0.1,\n",
              "   'max_depth': 4,\n",
              "   'n_estimators': 500,\n",
              "   'random_state': 21,\n",
              "   'subsample': 0.75},\n",
              "  {'learning_rate': 0.1,\n",
              "   'max_depth': 4,\n",
              "   'n_estimators': 500,\n",
              "   'random_state': 21,\n",
              "   'subsample': 1},\n",
              "  {'learning_rate': 0.1,\n",
              "   'max_depth': 4,\n",
              "   'n_estimators': 1000,\n",
              "   'random_state': 1,\n",
              "   'subsample': 0.5},\n",
              "  {'learning_rate': 0.1,\n",
              "   'max_depth': 4,\n",
              "   'n_estimators': 1000,\n",
              "   'random_state': 1,\n",
              "   'subsample': 0.75},\n",
              "  {'learning_rate': 0.1,\n",
              "   'max_depth': 4,\n",
              "   'n_estimators': 1000,\n",
              "   'random_state': 1,\n",
              "   'subsample': 1},\n",
              "  {'learning_rate': 0.1,\n",
              "   'max_depth': 4,\n",
              "   'n_estimators': 1000,\n",
              "   'random_state': 7,\n",
              "   'subsample': 0.5},\n",
              "  {'learning_rate': 0.1,\n",
              "   'max_depth': 4,\n",
              "   'n_estimators': 1000,\n",
              "   'random_state': 7,\n",
              "   'subsample': 0.75},\n",
              "  {'learning_rate': 0.1,\n",
              "   'max_depth': 4,\n",
              "   'n_estimators': 1000,\n",
              "   'random_state': 7,\n",
              "   'subsample': 1},\n",
              "  {'learning_rate': 0.1,\n",
              "   'max_depth': 4,\n",
              "   'n_estimators': 1000,\n",
              "   'random_state': 21,\n",
              "   'subsample': 0.5},\n",
              "  {'learning_rate': 0.1,\n",
              "   'max_depth': 4,\n",
              "   'n_estimators': 1000,\n",
              "   'random_state': 21,\n",
              "   'subsample': 0.75},\n",
              "  {'learning_rate': 0.1,\n",
              "   'max_depth': 4,\n",
              "   'n_estimators': 1000,\n",
              "   'random_state': 21,\n",
              "   'subsample': 1}],\n",
              " 'rank_test_score': array([195, 194, 191, 188, 190, 191, 187, 189, 191, 177, 180, 181, 175,\n",
              "        179, 181, 176, 178, 181, 135, 138, 141, 136, 139, 141, 137, 140,\n",
              "        141, 174, 170, 166, 173, 169, 166, 172, 171, 166, 161, 158, 154,\n",
              "        160, 157, 154, 162, 159, 154, 109, 106, 112, 111, 107, 112, 110,\n",
              "        108, 112, 152, 147, 148, 153, 145, 150, 151, 146, 149, 128, 123,\n",
              "        124, 130, 121, 126, 125, 122, 127,  96,  94, 100,  98,  93, 102,\n",
              "         95,  92, 101,  56,  58,  65,  55,  54,  63,  57,  59,  63,  35,\n",
              "         36,  46,  40,  34,  46,  42,  41,  46,   9,   8,   4,  12,   2,\n",
              "          4,  13,   1,   3,  24,  11,  25,  23,  15,  25,  20,  22,  25,\n",
              "         21,   6,  17,  14,   7,  17,  16,  10,  17,  51,  33,  37,  52,\n",
              "         32,  38,  49,  28,  39,  50,  68,  71,  82,  67,  72,  76,  69,\n",
              "         70,  77,  81,  83,  91,  78,  86,  88,  85,  84, 118, 120, 132,\n",
              "        144, 119, 133, 131, 117, 134,  89,  73,  29,  87,  66,  29,  80,\n",
              "         53,  29,  99,  79,  45,  97,  75,  43,  90,  74,  43, 116, 105,\n",
              "         60, 129, 104,  60, 115, 103,  60, 186, 196, 163, 199, 184, 165,\n",
              "        203, 185, 164, 206, 204, 197, 205, 202, 200, 207, 201, 198, 214,\n",
              "        213, 208, 216, 212, 210, 215, 211, 209, 230, 221, 219, 229, 222,\n",
              "        217, 231, 220, 218, 234, 228, 225, 232, 226, 223, 233, 227, 224,\n",
              "        242, 240, 238, 241, 235, 236, 243, 239, 237], dtype=int32),\n",
              " 'split0_test_score': array([-319.97382822, -319.99953723, -320.00804953, -319.97017247,\n",
              "        -319.99478689, -320.00804953, -319.98669796, -319.99923416,\n",
              "        -320.00804953, -319.46110406, -319.52048877, -319.55903106,\n",
              "        -319.45932318, -319.51719335, -319.55903106, -319.47560942,\n",
              "        -319.51947387, -319.55903106, -317.56061464, -317.68335478,\n",
              "        -317.80312187, -317.55838281, -317.67032162, -317.80312187,\n",
              "        -317.56471677, -317.67727884, -317.80312187, -318.34393855,\n",
              "        -318.29520268, -318.34732341, -318.30207997, -318.26796948,\n",
              "        -318.34732341, -318.29278058, -318.28664413, -318.34732341,\n",
              "        -317.58470043, -317.55857205, -317.63812494, -317.51660229,\n",
              "        -317.54020209, -317.63812494, -317.55334423, -317.5442087 ,\n",
              "        -317.63812494, -314.99926832, -315.13205533, -315.47962715,\n",
              "        -314.97004758, -315.11724536, -315.47962715, -315.0105152 ,\n",
              "        -315.13789481, -315.47962715, -317.03789616, -317.06696775,\n",
              "        -317.5452815 , -317.14052923, -317.04131659, -317.54511464,\n",
              "        -317.04767369, -317.00407261, -317.54490676, -316.09568186,\n",
              "        -316.13165374, -316.48311553, -316.21982747, -316.11799627,\n",
              "        -316.48290855, -316.13628638, -316.04707643, -316.48264596,\n",
              "        -313.2511998 , -313.43291744, -313.45785038, -313.42248224,\n",
              "        -313.36104709, -313.45745536, -313.23188508, -313.29934509,\n",
              "        -313.4569363 , -313.25007232, -313.23630723, -313.54727356,\n",
              "        -313.2045204 , -313.22730322, -313.54727356, -313.29381828,\n",
              "        -313.20704369, -313.54727356, -312.76274622, -312.62724301,\n",
              "        -312.9134407 , -312.74834961, -312.70423516, -312.9134407 ,\n",
              "        -312.8258863 , -312.58929572, -312.9134407 , -312.27954676,\n",
              "        -312.18287395, -312.07918318, -311.77435746, -311.98643908,\n",
              "        -312.07918318, -311.86046691, -311.81633213, -312.07918318,\n",
              "        -311.44886719, -310.9438756 , -311.45111539, -311.06837747,\n",
              "        -311.03766889, -311.45111539, -311.14636583, -311.1213992 ,\n",
              "        -311.45111539, -311.4062848 , -310.87334257, -311.27596253,\n",
              "        -310.80972453, -310.75639827, -311.27596253, -311.07324842,\n",
              "        -310.8340618 , -311.27596253, -312.17371107, -311.14724676,\n",
              "        -310.80399164, -311.37382133, -310.87118137, -310.76216079,\n",
              "        -311.38362128, -310.56873177, -310.84686102, -310.94447254,\n",
              "        -310.86495119, -309.74254128, -312.072397  , -310.96185465,\n",
              "        -309.84531038, -312.00475603, -311.45483468, -309.81858304,\n",
              "        -311.46335228, -311.41923506, -310.50869434, -312.59610156,\n",
              "        -311.40391765, -310.57170527, -312.41482451, -311.89161989,\n",
              "        -310.58643341, -313.95054899, -314.30092228, -316.01801029,\n",
              "        -315.67342979, -314.24887122, -315.95843893, -314.69807542,\n",
              "        -314.9969058 , -315.93947021, -314.56844273, -313.92595685,\n",
              "        -312.63162562, -314.25410504, -313.17719032, -312.63162562,\n",
              "        -313.8265014 , -313.09645056, -312.63162562, -314.7488117 ,\n",
              "        -313.88683122, -313.05989035, -314.60621495, -313.47730862,\n",
              "        -313.05989035, -314.66218085, -313.5763551 , -313.05989035,\n",
              "        -317.73005136, -316.4230291 , -313.39170508, -317.15208341,\n",
              "        -315.3989028 , -313.39170508, -316.28135331, -315.47195272,\n",
              "        -313.39170508, -319.12986114, -319.39055361, -318.28319151,\n",
              "        -320.31019405, -318.62904521, -319.26440799, -321.25058055,\n",
              "        -320.34951417, -319.04783754, -321.79549988, -320.68175116,\n",
              "        -320.9047181 , -322.42225047, -319.69443055, -321.86505609,\n",
              "        -323.2810766 , -321.16142464, -321.66648179, -333.31189649,\n",
              "        -330.43179024, -326.25366713, -329.86067474, -327.51114501,\n",
              "        -327.45080929, -331.50172468, -330.57269153, -327.26858097,\n",
              "        -337.66972211, -336.72152867, -333.34896339, -342.98607743,\n",
              "        -338.2940054 , -332.15345697, -344.77789992, -339.04412734,\n",
              "        -331.76117154, -343.41953507, -340.75151975, -336.78115345,\n",
              "        -347.60337576, -341.77793141, -336.05020627, -349.1953963 ,\n",
              "        -342.04731441, -335.31078235, -362.86010016, -357.69979081,\n",
              "        -359.32400382, -365.35628361, -355.92870752, -358.08808626,\n",
              "        -370.82844532, -360.60502128, -357.77963815]),\n",
              " 'split1_test_score': array([-350.77065101, -350.77061706, -350.75237756, -350.76785878,\n",
              "        -350.76979078, -350.75237756, -350.72138867, -350.75062626,\n",
              "        -350.75237756, -350.03264475, -350.07212876, -350.08298844,\n",
              "        -350.04223554, -350.08383236, -350.08298844, -350.01247718,\n",
              "        -350.06488084, -350.08298844, -347.26142876, -347.38083814,\n",
              "        -347.61079497, -347.29094353, -347.42196672, -347.61079497,\n",
              "        -347.27948347, -347.40136447, -347.61079497, -349.34069008,\n",
              "        -349.06283579, -348.77987773, -349.39397928, -349.06614865,\n",
              "        -348.77987773, -349.34215355, -349.09955314, -348.77987773,\n",
              "        -348.35997832, -348.08455734, -347.85043614, -348.46296584,\n",
              "        -348.10485901, -347.85043614, -348.4086473 , -348.14397928,\n",
              "        -347.85043614, -345.26975047, -344.99503719, -344.87427898,\n",
              "        -345.30696068, -345.01778218, -344.87427898, -345.25759714,\n",
              "        -344.9794223 , -344.87427898, -348.08492661, -347.77573894,\n",
              "        -347.82590924, -348.10876326, -347.71708673, -347.83711347,\n",
              "        -347.97228009, -347.77962765, -347.82974412, -346.97824601,\n",
              "        -346.55893061, -346.64361196, -347.0131802 , -346.53480149,\n",
              "        -346.65477363, -346.79921115, -346.63781153, -346.64779638,\n",
              "        -343.59850957, -343.00112356, -342.77161308, -343.3608844 ,\n",
              "        -343.05911998, -342.79480645, -343.25542811, -343.01170805,\n",
              "        -342.77836745, -341.54766851, -341.45345252, -341.58326406,\n",
              "        -341.59669077, -341.24301492, -341.58326406, -341.64290836,\n",
              "        -341.56404633, -341.58326406, -340.67716366, -340.59990954,\n",
              "        -341.00151219, -340.86359406, -340.42787313, -341.00151219,\n",
              "        -340.91699375, -340.7835836 , -341.00151219, -339.3317596 ,\n",
              "        -339.35968099, -339.47214972, -339.48976763, -339.03986873,\n",
              "        -339.47214972, -339.32874581, -339.03742154, -339.47214972,\n",
              "        -340.30483418, -339.63201423, -339.72677955, -340.29845915,\n",
              "        -339.98431161, -339.72677955, -340.49326643, -340.28001193,\n",
              "        -339.72677955, -339.75798217, -339.10854106, -339.07997829,\n",
              "        -339.73028718, -339.3612731 , -339.07997829, -340.14511027,\n",
              "        -339.81631503, -339.07997829, -339.66506417, -338.96141883,\n",
              "        -338.81010341, -339.07514117, -338.8941722 , -338.81010341,\n",
              "        -339.71114037, -339.16101892, -338.81010341, -339.95549615,\n",
              "        -339.79705669, -338.50745203, -339.99001672, -339.3547533 ,\n",
              "        -338.47031263, -340.50627359, -339.92711197, -338.34548768,\n",
              "        -340.3524933 , -339.45452068, -338.30418846, -340.01161892,\n",
              "        -339.1583447 , -338.25484941, -340.96520826, -340.31173056,\n",
              "        -338.12578183, -343.38800792, -342.44115821, -338.45464131,\n",
              "        -342.22195212, -341.38204324, -338.41016736, -343.42206453,\n",
              "        -342.19438178, -338.24846504, -340.54448355, -338.70336271,\n",
              "        -338.43432261, -339.65538836, -338.59216673, -338.43432261,\n",
              "        -339.24519209, -338.04874655, -338.43432261, -341.35364882,\n",
              "        -338.61514662, -338.33318997, -340.47345218, -338.48174892,\n",
              "        -338.33318997, -339.87122346, -338.65410802, -338.33318997,\n",
              "        -343.25429744, -340.78126851, -338.78130108, -343.12301833,\n",
              "        -340.67657259, -338.78130108, -342.45623617, -340.47616435,\n",
              "        -338.78130108, -347.93068838, -347.25356251, -343.27515812,\n",
              "        -344.96658994, -346.49281981, -343.27515812, -351.82284938,\n",
              "        -344.39948996, -343.08930625, -352.07295515, -348.64297564,\n",
              "        -345.59770356, -347.16382171, -347.85413457, -345.59770356,\n",
              "        -354.08511451, -346.84440493, -345.39241918, -360.27145117,\n",
              "        -359.65143126, -356.10157849, -362.83723122, -360.83882498,\n",
              "        -356.10843727, -364.57195597, -355.87252186, -355.90701826,\n",
              "        -384.14405325, -367.53245427, -362.27437027, -375.83000104,\n",
              "        -366.62086379, -362.52323107, -382.14670132, -366.57514997,\n",
              "        -363.40203171, -389.22479135, -371.50286073, -371.93696801,\n",
              "        -379.72672486, -368.29256006, -372.89666765, -387.03235135,\n",
              "        -369.92568521, -372.37849528, -407.90885269, -389.71183068,\n",
              "        -395.02456907, -401.57430259, -383.21170758, -396.40863845,\n",
              "        -402.34948173, -390.34116055, -395.64011678]),\n",
              " 'split2_test_score': array([-291.23867037, -291.19770574, -291.18093869, -291.18552273,\n",
              "        -291.18173392, -291.18093869, -291.20013649, -291.18536947,\n",
              "        -291.18093869, -290.51419462, -290.52119832, -290.51192252,\n",
              "        -290.47695348, -290.49340525, -290.51192252, -290.49558846,\n",
              "        -290.49279146, -290.51192252, -287.88323665, -287.95309514,\n",
              "        -288.08984346, -287.90866376, -287.94422467, -288.08984346,\n",
              "        -287.89190289, -287.96644597, -288.08984346, -290.05086584,\n",
              "        -289.87705182, -289.86196414, -289.99716603, -289.85546055,\n",
              "        -289.86196414, -290.01952714, -289.91230507, -289.86196414,\n",
              "        -289.1569751 , -288.9851412 , -289.01342746, -289.12839346,\n",
              "        -288.98329129, -289.01342746, -289.17585074, -289.02343774,\n",
              "        -289.01342746, -286.31838137, -286.21532218, -286.36024406,\n",
              "        -286.44469574, -286.25723256, -286.36024406, -286.35875708,\n",
              "        -286.25352673, -286.36024406, -289.11334503, -288.9151144 ,\n",
              "        -289.02048636, -289.22436074, -288.96963026, -289.02821051,\n",
              "        -289.21103556, -289.07233417, -289.03028836, -288.11100269,\n",
              "        -287.97236204, -288.21119496, -288.27560014, -287.98175849,\n",
              "        -288.22655238, -288.24943304, -288.08696846, -288.23514116,\n",
              "        -285.19612054, -285.12884897, -285.72716835, -285.52434066,\n",
              "        -285.19881951, -285.75156779, -285.42186681, -285.22251778,\n",
              "        -285.76218159, -282.80402306, -283.08115684, -283.06964732,\n",
              "        -282.89397796, -282.82222454, -283.06964732, -283.036336  ,\n",
              "        -282.99804815, -283.06964732, -282.30152048, -282.53347338,\n",
              "        -282.63728442, -282.37971092, -282.46507018, -282.63728442,\n",
              "        -282.65371849, -282.51259257, -282.63728442, -282.05369252,\n",
              "        -282.16348016, -282.04018993, -282.2412778 , -282.22744905,\n",
              "        -282.04018993, -282.27544628, -282.02413696, -282.04018993,\n",
              "        -282.760164  , -282.81838528, -282.74838786, -282.70527344,\n",
              "        -282.85338241, -282.74838786, -282.77424618, -282.95823219,\n",
              "        -282.74838786, -282.44641605, -282.81590639, -282.50840752,\n",
              "        -282.56484979, -282.96298612, -282.50840752, -282.71691387,\n",
              "        -282.99595606, -282.50840752, -283.43462441, -283.75472098,\n",
              "        -283.16136959, -284.18113148, -283.99694727, -283.22127423,\n",
              "        -283.81456784, -284.10602289, -283.15442793, -283.78617768,\n",
              "        -284.30363468, -286.09965371, -285.67751426, -284.66784709,\n",
              "        -286.17777735, -285.38665372, -284.59313034, -286.1300842 ,\n",
              "        -284.79548117, -284.97682325, -286.89202566, -286.27534361,\n",
              "        -285.20858817, -286.97739585, -285.96282837, -285.29047766,\n",
              "        -286.97005506, -289.22016732, -289.59515341, -290.88621458,\n",
              "        -291.02100189, -290.4101951 , -290.83195258, -291.27040352,\n",
              "        -288.82998808, -290.96980285, -284.37574121, -284.23898665,\n",
              "        -282.85007809, -284.29016408, -284.24353938, -282.85007809,\n",
              "        -283.62608174, -283.44365504, -282.85007809, -284.7273918 ,\n",
              "        -284.12441063, -282.98185431, -284.7856672 , -283.99398063,\n",
              "        -282.98185431, -284.01957604, -284.10926079, -282.98185431,\n",
              "        -287.24657051, -285.91820345, -283.50951063, -286.98828753,\n",
              "        -284.9428161 , -283.50951063, -284.98683368, -285.53799482,\n",
              "        -283.50951063, -292.90339732, -293.34861952, -289.47564037,\n",
              "        -295.96675986, -293.1541373 , -289.60012658, -294.13898163,\n",
              "        -294.99099526, -289.49501346, -296.07944134, -296.14343747,\n",
              "        -291.40462314, -300.32783107, -295.50417476, -291.59025321,\n",
              "        -297.80460392, -297.09113437, -291.42118795, -309.15453691,\n",
              "        -307.68333939, -303.3688751 , -315.39684009, -306.28926872,\n",
              "        -303.59631914, -307.09129015, -307.86584646, -303.42013056,\n",
              "        -335.49541486, -316.64486797, -318.24511752, -332.10103042,\n",
              "        -320.20767115, -316.3989602 , -331.60867971, -319.72683398,\n",
              "        -318.32958401, -342.51955992, -323.76188571, -322.34527887,\n",
              "        -335.68085662, -325.66919637, -320.34776541, -336.16470652,\n",
              "        -325.40032093, -322.19557274, -362.58841618, -342.24688491,\n",
              "        -339.88173312, -362.75682567, -348.3112262 , -337.63362756,\n",
              "        -359.98660361, -344.16224315, -339.03955718]),\n",
              " 'split3_test_score': array([-336.82561153, -336.82676815, -336.83545856, -336.81881836,\n",
              "        -336.82802649, -336.83545856, -336.8375236 , -336.82966795,\n",
              "        -336.83545856, -336.26042478, -336.27186561, -336.29589113,\n",
              "        -336.22330671, -336.26754581, -336.29589113, -336.25116064,\n",
              "        -336.26484706, -336.29589113, -334.09508749, -334.19958271,\n",
              "        -334.33666361, -334.08942604, -334.20499948, -334.33666361,\n",
              "        -334.10029288, -334.19726395, -334.33666361, -335.50069347,\n",
              "        -335.48791284, -335.55454634, -335.51266523, -335.49757224,\n",
              "        -335.55454634, -335.53438254, -335.49129394, -335.55454634,\n",
              "        -334.75344116, -334.71706161, -334.81420479, -334.73952935,\n",
              "        -334.75107585, -334.81420479, -334.75326756, -334.70508868,\n",
              "        -334.81420479, -332.42546359, -332.49179541, -332.60579555,\n",
              "        -332.41429197, -332.48651384, -332.60579555, -332.45270297,\n",
              "        -332.48754673, -332.60579555, -334.76716204, -334.74869161,\n",
              "        -334.54668933, -334.77412846, -334.59785331, -334.54668933,\n",
              "        -334.81948041, -334.62803661, -334.54668933, -333.96332549,\n",
              "        -333.99109058, -333.91335284, -334.00229401, -333.83705387,\n",
              "        -333.91335284, -334.01120356, -333.86466556, -333.91335284,\n",
              "        -331.82931772, -331.99831778, -332.91293036, -331.76663927,\n",
              "        -331.91619608, -332.91094967, -331.71346771, -331.9568984 ,\n",
              "        -332.91255139, -329.92320055, -330.0847358 , -330.36890676,\n",
              "        -329.88635265, -330.06358269, -330.36890676, -329.90886941,\n",
              "        -330.05134686, -330.36890676, -329.51116397, -329.70395402,\n",
              "        -329.95866171, -329.46474918, -329.69553575, -329.95866171,\n",
              "        -329.53916203, -329.63703007, -329.95866171, -329.15366346,\n",
              "        -329.1580676 , -329.31498207, -329.1476622 , -329.24657833,\n",
              "        -329.31498207, -329.30877246, -329.104371  , -329.31498207,\n",
              "        -329.90497151, -329.94930046, -330.04998778, -329.6814012 ,\n",
              "        -329.75966097, -330.04998778, -329.91930808, -329.916985  ,\n",
              "        -330.04998778, -329.94987388, -329.98581319, -330.06815956,\n",
              "        -329.92838542, -329.74175599, -330.06815956, -329.76102613,\n",
              "        -329.9468517 , -330.06815956, -330.43320998, -330.5976607 ,\n",
              "        -331.87523191, -331.17118235, -330.9272949 , -331.87523191,\n",
              "        -330.77804522, -330.94297733, -331.87523191, -331.05733893,\n",
              "        -334.00503063, -333.4568123 , -332.30388028, -333.27995958,\n",
              "        -333.49082342, -331.75545323, -333.0704526 , -333.47595629,\n",
              "        -332.18416658, -334.76168725, -334.57223192, -333.5099768 ,\n",
              "        -333.97317923, -334.63879754, -332.44600318, -333.8954549 ,\n",
              "        -334.5955909 , -336.44087002, -338.30280435, -341.14261943,\n",
              "        -338.30460853, -338.09036693, -341.25522065, -336.70918985,\n",
              "        -337.64892105, -341.32836113, -331.35352613, -331.28859584,\n",
              "        -330.59454653, -331.56532934, -331.09469478, -330.59454653,\n",
              "        -332.04574068, -331.10458153, -330.59454653, -332.26262143,\n",
              "        -331.98581392, -330.9546287 , -331.6787739 , -331.57535344,\n",
              "        -330.9546287 , -333.31641203, -331.80039032, -330.9546287 ,\n",
              "        -335.0969985 , -334.17272272, -331.96448217, -334.98608837,\n",
              "        -333.81371596, -331.96448217, -334.62609515, -333.75340097,\n",
              "        -331.96448217, -336.64435418, -338.68011076, -337.60172274,\n",
              "        -336.4330138 , -339.91242816, -337.4875881 , -342.10942791,\n",
              "        -337.99093738, -337.51658309, -341.02259769, -341.4584907 ,\n",
              "        -340.59693134, -338.4548013 , -342.78741895, -340.48238729,\n",
              "        -342.7020673 , -339.45195683, -340.51153778, -350.53418324,\n",
              "        -348.96448026, -348.63790172, -347.23777253, -353.39353997,\n",
              "        -348.61216943, -348.52833203, -346.963915  , -348.65033548,\n",
              "        -375.39633427, -367.15316669, -366.71378392, -368.37222001,\n",
              "        -365.72694262, -366.26953422, -375.81503275, -363.44090704,\n",
              "        -366.26443049, -382.27765686, -373.77225043, -372.63506311,\n",
              "        -374.07011965, -373.70284347, -372.2144253 , -381.41667845,\n",
              "        -368.89625351, -372.48267858, -396.10165748, -397.67877158,\n",
              "        -395.07230583, -396.63257836, -392.90000084, -394.41847143,\n",
              "        -403.62560975, -389.34933159, -394.21619202]),\n",
              " 'split4_test_score': array([-289.0103296 , -288.99919622, -288.995531  , -288.99539674,\n",
              "        -288.99514643, -288.995531  , -288.9807856 , -288.99382527,\n",
              "        -288.995531  , -288.36108181, -288.36967276, -288.39518549,\n",
              "        -288.36325191, -288.38489865, -288.39518549, -288.34929434,\n",
              "        -288.38885104, -288.39518549, -285.98479466, -286.05579503,\n",
              "        -286.18721076, -285.95989918, -286.05334934, -286.18721076,\n",
              "        -285.9868933 , -286.06222217, -286.18721076, -287.63064319,\n",
              "        -287.49173528, -287.43429031, -287.60058792, -287.46049616,\n",
              "        -287.43429031, -287.57299357, -287.49126888, -287.43429031,\n",
              "        -286.78294574, -286.70333666, -286.6148231 , -286.76261439,\n",
              "        -286.65918894, -286.6148231 , -286.76489762, -286.68565407,\n",
              "        -286.6148231 , -284.13826902, -284.09710492, -284.41236796,\n",
              "        -284.12525713, -284.05567283, -284.41236796, -284.16966899,\n",
              "        -284.18450869, -284.41236796, -286.65057126, -286.38029421,\n",
              "        -286.47453816, -286.55490853, -286.37817732, -286.47453816,\n",
              "        -286.50443948, -286.38502181, -286.47453816, -285.68989911,\n",
              "        -285.43633855, -285.51002448, -285.61961326, -285.44563832,\n",
              "        -285.51002448, -285.58754728, -285.45050817, -285.51002448,\n",
              "        -282.87320985, -282.74736756, -282.9049451 , -282.92293056,\n",
              "        -282.6730635 , -282.9049451 , -282.84358926, -282.7174333 ,\n",
              "        -282.9049451 , -281.2097292 , -281.09140218, -281.29147138,\n",
              "        -281.08423288, -281.16465913, -281.29147138, -280.99616325,\n",
              "        -281.1566898 , -281.29147138, -280.93632213, -280.74286367,\n",
              "        -280.87034718, -280.82436147, -280.65783374, -280.87034718,\n",
              "        -280.63942949, -280.79171386, -280.87034718, -280.7498956 ,\n",
              "        -280.38037879, -280.15941175, -281.16415674, -280.2339905 ,\n",
              "        -280.15941175, -281.1183999 , -280.31907375, -280.15941175,\n",
              "        -280.69792855, -280.44884878, -281.21073377, -280.95501284,\n",
              "        -280.43287428, -281.21073377, -280.17846695, -280.42788809,\n",
              "        -281.21073377, -281.03936097, -280.38305275, -281.20660317,\n",
              "        -280.94672853, -280.35428061, -281.20660317, -280.37800562,\n",
              "        -280.19674854, -281.20660317, -281.92198097, -281.29613657,\n",
              "        -281.58135626, -281.96430017, -281.02913155, -281.58135626,\n",
              "        -281.75924178, -280.75662594, -281.58135626, -281.72985202,\n",
              "        -281.10274794, -282.42928994, -282.79035926, -281.69583878,\n",
              "        -282.36998527, -281.22143482, -281.11552923, -282.45316143,\n",
              "        -282.47952047, -281.76365957, -282.80248083, -283.78941289,\n",
              "        -282.18335536, -282.76336387, -282.17010761, -281.79123228,\n",
              "        -282.8057525 , -286.52058265, -285.00912546, -285.97359036,\n",
              "        -287.02766793, -285.38920781, -286.02716118, -286.29263125,\n",
              "        -284.97392283, -286.05164023, -283.59027716, -282.29409931,\n",
              "        -281.20551791, -284.08328987, -282.75760425, -281.20551791,\n",
              "        -283.54249981, -282.31913052, -281.20551791, -284.6488767 ,\n",
              "        -283.6602146 , -281.38309154, -285.23314308, -283.31331507,\n",
              "        -281.38309154, -284.18067653, -282.54941041, -281.38309154,\n",
              "        -285.2456397 , -284.43098296, -281.62463059, -288.81430347,\n",
              "        -284.67853987, -281.62463059, -286.75309795, -284.26207765,\n",
              "        -281.62463059, -290.4483296 , -290.43972733, -288.22445857,\n",
              "        -292.1539052 , -287.92300393, -288.19653387, -291.5089224 ,\n",
              "        -289.03804539, -288.13485443, -295.49870169, -294.34104141,\n",
              "        -290.62875362, -295.52052156, -291.65933287, -290.59045447,\n",
              "        -294.64372392, -290.22635759, -290.52315514, -304.64580835,\n",
              "        -303.75074191, -302.00232612, -307.94107417, -302.13736845,\n",
              "        -301.99337093, -306.40081862, -303.84583863, -301.85171602,\n",
              "        -319.55600305, -314.81422076, -308.42944978, -316.92764038,\n",
              "        -312.67277655, -308.45167235, -320.87515487, -313.00450315,\n",
              "        -309.05193559, -329.31478926, -320.28577785, -313.98903563,\n",
              "        -324.32861417, -316.40592874, -314.41150234, -328.55570817,\n",
              "        -320.22754113, -314.82539449, -353.84438549, -343.58896343,\n",
              "        -336.0860148 , -346.86638249, -337.24144907, -335.20139672,\n",
              "        -351.11079827, -342.85914691, -335.56462826]),\n",
              " 'std_fit_time': array([0.02845543, 0.02652204, 0.03867131, 0.02186929, 0.02175116,\n",
              "        0.04128444, 0.01615866, 0.02702621, 0.02141579, 0.04850641,\n",
              "        0.03592001, 0.05890797, 0.03997816, 0.00492591, 0.02477375,\n",
              "        0.01804976, 0.04278535, 0.03691023, 0.15041103, 0.11704287,\n",
              "        0.04336918, 0.0668986 , 0.05466986, 0.04526248, 0.06236015,\n",
              "        0.03476442, 0.07856996, 0.01441207, 0.00889066, 0.01272387,\n",
              "        0.01293192, 0.00761514, 0.01934403, 0.00865382, 0.01611992,\n",
              "        0.01225712, 0.01536968, 0.01639959, 0.03246837, 0.0237752 ,\n",
              "        0.00931999, 0.03394631, 0.01763112, 0.0270641 , 0.02997475,\n",
              "        0.02930722, 0.02718786, 0.02536772, 0.0101461 , 0.02214352,\n",
              "        0.02933817, 0.03555611, 0.02606363, 0.06419222, 0.0774102 ,\n",
              "        0.10259524, 0.05047145, 0.0755708 , 0.07014105, 0.09297236,\n",
              "        0.13662452, 0.04972796, 0.07799684, 0.02918796, 0.00481296,\n",
              "        0.02156628, 0.02004996, 0.03342687, 0.01797374, 0.02475988,\n",
              "        0.03450879, 0.03636754, 0.0367576 , 0.02888333, 0.12218145,\n",
              "        0.07753266, 0.10286557, 0.07557779, 0.03904611, 0.02346179,\n",
              "        0.06202144, 0.0185259 , 0.01469047, 0.02881557, 0.02995115,\n",
              "        0.01957592, 0.00835692, 0.01587205, 0.01349555, 0.01332621,\n",
              "        0.01671177, 0.02196247, 0.03937527, 0.01214824, 0.05743555,\n",
              "        0.01674556, 0.03960662, 0.0318545 , 0.01690323, 0.08368325,\n",
              "        0.01777632, 0.0215029 , 0.01647711, 0.0430016 , 0.03344571,\n",
              "        0.04016525, 0.05586701, 0.02617906, 0.03816184, 0.01543237,\n",
              "        0.01902911, 0.03513248, 0.03524154, 0.0159953 , 0.03642599,\n",
              "        0.04510952, 0.03347813, 0.03156438, 0.0280276 , 0.04459849,\n",
              "        0.01630671, 0.03276034, 0.04654882, 0.03524384, 0.03852847,\n",
              "        0.03724135, 0.05826362, 0.02783605, 0.05580795, 0.02586236,\n",
              "        0.04913964, 0.05204032, 0.01654852, 0.00673033, 0.01684475,\n",
              "        0.0166283 , 0.01302675, 0.01509529, 0.01420586, 0.01646572,\n",
              "        0.02322772, 0.01116862, 0.03292227, 0.01960185, 0.02266176,\n",
              "        0.04549733, 0.0279479 , 0.00243657, 0.04778256, 0.03701477,\n",
              "        0.02286836, 0.01506591, 0.04379083, 0.03730473, 0.08471523,\n",
              "        0.03572217, 0.04493767, 0.03937192, 0.03906793, 0.00813839,\n",
              "        0.05870296, 0.0578703 , 0.00564327, 0.00819128, 0.00704513,\n",
              "        0.01094315, 0.01297936, 0.01174973, 0.00795568, 0.0529782 ,\n",
              "        0.01700725, 0.03188437, 0.02192184, 0.03899962, 0.01678615,\n",
              "        0.01773989, 0.01947208, 0.0251923 , 0.02154645, 0.01332467,\n",
              "        0.00655147, 0.0232708 , 0.02141424, 0.00847853, 0.0138472 ,\n",
              "        0.02402389, 0.03161365, 0.05127824, 0.02238031, 0.01742438,\n",
              "        0.00706196, 0.00459646, 0.01745782, 0.01651494, 0.00699724,\n",
              "        0.01660693, 0.00794214, 0.00762206, 0.01517835, 0.01395427,\n",
              "        0.01490557, 0.01087976, 0.01287586, 0.01528579, 0.00741702,\n",
              "        0.00909578, 0.01688244, 0.02503046, 0.03702214, 0.01860642,\n",
              "        0.03338347, 0.02889542, 0.04893591, 0.07705535, 0.14708274,\n",
              "        0.08804346, 0.01959515, 0.02663993, 0.02529363, 0.0363815 ,\n",
              "        0.01704222, 0.0488471 , 0.03096006, 0.02939797, 0.03001139,\n",
              "        0.03002029, 0.05065868, 0.05122242, 0.05856037, 0.02534718,\n",
              "        0.05806434, 0.01373941, 0.02463366, 0.06339341, 0.03636938,\n",
              "        0.07243634, 0.08510857, 0.06832937, 0.01970034, 0.1038198 ,\n",
              "        0.04951287, 0.02159077, 0.05367523]),\n",
              " 'std_score_time': array([3.80737239e-04, 3.20402105e-04, 1.23766885e-04, 3.13393487e-04,\n",
              "        1.15151935e-03, 4.19993529e-04, 3.60174824e-04, 1.29090633e-03,\n",
              "        6.01022787e-04, 2.03900345e-03, 4.16857916e-04, 9.08603432e-04,\n",
              "        4.15409421e-04, 8.55832874e-04, 1.39502588e-04, 3.09657096e-04,\n",
              "        4.98044074e-04, 7.02959688e-04, 1.04848622e-03, 1.27989200e-03,\n",
              "        1.20237981e-03, 4.41204243e-04, 9.79934903e-04, 7.17182552e-04,\n",
              "        2.89743224e-04, 3.70993240e-04, 4.36850359e-04, 3.58202238e-04,\n",
              "        9.22930550e-04, 5.11176315e-04, 9.21440894e-05, 3.40938048e-04,\n",
              "        4.18830384e-04, 3.32001548e-04, 1.46466182e-04, 5.42760502e-04,\n",
              "        5.03491373e-04, 5.53777773e-04, 6.07864697e-04, 9.67093313e-04,\n",
              "        1.52520031e-04, 9.92688976e-04, 4.21076382e-04, 5.19544000e-04,\n",
              "        2.93638916e-04, 7.85650993e-04, 5.49984557e-04, 5.70867387e-04,\n",
              "        7.73482971e-04, 8.42944981e-04, 1.72994694e-04, 1.29460923e-03,\n",
              "        7.72820164e-04, 1.10528062e-03, 1.50147902e-03, 9.30525443e-04,\n",
              "        1.37932925e-03, 3.31071028e-03, 1.23181351e-03, 8.02959291e-04,\n",
              "        8.65011480e-04, 5.03370476e-04, 6.71875868e-04, 3.83136280e-04,\n",
              "        5.83591556e-04, 9.91855657e-04, 1.34428406e-03, 6.03200275e-04,\n",
              "        7.91784384e-04, 4.36004717e-04, 3.99023346e-04, 5.18039343e-04,\n",
              "        9.29339246e-04, 8.89299319e-04, 2.03506165e-03, 1.81591543e-03,\n",
              "        1.57891892e-03, 6.55282843e-04, 7.80149886e-04, 1.63382347e-03,\n",
              "        2.03546420e-03, 4.05730973e-04, 2.83938787e-04, 1.92098133e-04,\n",
              "        6.16718404e-05, 3.15935331e-04, 2.13963289e-04, 1.62824746e-04,\n",
              "        3.46355586e-04, 9.99457754e-04, 5.01580780e-04, 5.87071185e-04,\n",
              "        4.64155577e-04, 1.22677014e-04, 4.78401703e-04, 4.28891886e-04,\n",
              "        1.94391018e-04, 6.61406905e-04, 3.42819739e-04, 6.61951011e-04,\n",
              "        6.19730772e-04, 7.07893347e-04, 3.54077088e-04, 2.14480347e-04,\n",
              "        4.50396976e-04, 1.26485328e-03, 3.01867200e-04, 7.35527467e-04,\n",
              "        6.22853056e-04, 3.83563003e-04, 2.21353048e-04, 4.88208988e-04,\n",
              "        4.49902037e-04, 4.16082394e-04, 4.54493590e-04, 1.59282572e-03,\n",
              "        5.12500465e-04, 6.33213703e-04, 1.04599692e-03, 7.06007174e-04,\n",
              "        2.81763985e-04, 4.77602235e-04, 2.11678826e-04, 3.20364506e-04,\n",
              "        6.51709039e-04, 3.53045370e-04, 1.38367009e-03, 7.61911480e-04,\n",
              "        7.40885179e-04, 1.49690126e-03, 1.55428214e-03, 1.81556630e-03,\n",
              "        7.52274441e-04, 4.04710475e-04, 8.66334470e-04, 1.74007764e-04,\n",
              "        3.69164649e-04, 1.95053212e-03, 3.46183330e-04, 1.96549355e-03,\n",
              "        2.74713059e-04, 1.35847949e-03, 6.57566280e-04, 5.71840695e-04,\n",
              "        6.52299349e-04, 4.77267095e-04, 4.26205566e-04, 8.50077044e-04,\n",
              "        5.89390055e-04, 5.28204438e-04, 4.82208314e-04, 2.44910797e-04,\n",
              "        1.10382020e-03, 2.46413698e-03, 9.98102003e-04, 1.26905558e-03,\n",
              "        4.28851164e-04, 4.29287397e-04, 9.58133204e-04, 2.04313941e-03,\n",
              "        4.10160916e-04, 2.21998673e-03, 1.81397930e-04, 1.29597146e-04,\n",
              "        1.32376213e-04, 1.11964919e-04, 1.06884131e-04, 2.11184249e-04,\n",
              "        1.53266723e-04, 2.41805500e-04, 2.33633148e-04, 2.04904445e-04,\n",
              "        2.53823040e-04, 7.85127222e-04, 3.24874150e-04, 2.69570726e-04,\n",
              "        3.24061971e-04, 1.45750829e-04, 2.55216344e-04, 1.76534016e-04,\n",
              "        4.13293484e-04, 4.69527911e-04, 5.18795659e-04, 3.65379484e-04,\n",
              "        2.93322416e-04, 6.70370751e-04, 2.15948940e-03, 7.30307973e-04,\n",
              "        6.99737228e-04, 2.29980128e-04, 2.74697746e-04, 2.75564701e-04,\n",
              "        2.66248619e-04, 3.67402972e-04, 2.79809792e-04, 6.61926014e-04,\n",
              "        2.07620813e-04, 3.65256939e-04, 1.91186287e-04, 2.97705084e-04,\n",
              "        3.17776940e-04, 2.01349503e-04, 2.31075188e-04, 3.16092709e-04,\n",
              "        1.39477599e-04, 2.26705787e-04, 2.46444861e-04, 5.50526001e-04,\n",
              "        5.33374848e-04, 1.37810856e-04, 1.24991144e-04, 8.99807139e-04,\n",
              "        7.86512155e-04, 8.27810833e-04, 9.38726905e-04, 6.71067277e-04,\n",
              "        1.97463984e-04, 1.65494880e-04, 2.65179086e-04, 6.91023559e-04,\n",
              "        1.43245882e-04, 1.08863560e-03, 8.04593046e-04, 4.30035627e-04,\n",
              "        1.63791339e-03, 3.18005893e-04, 9.16457134e-04, 2.51720605e-03,\n",
              "        1.32609524e-03, 4.87956926e-04, 4.72123485e-04, 4.61978468e-04,\n",
              "        2.14136254e-04, 6.69546250e-04, 1.30988293e-03, 1.15759735e-03,\n",
              "        1.27076454e-03, 7.89508898e-04, 2.40045177e-04, 7.74517644e-04,\n",
              "        7.63341104e-04, 6.81675424e-04, 1.08376959e-03]),\n",
              " 'std_test_score': array([24.44517824, 24.45728867, 24.4583474 , 24.45821636, 24.4615569 ,\n",
              "        24.4583474 , 24.44914027, 24.45622526, 24.4583474 , 24.45336245,\n",
              "        24.46358099, 24.46717407, 24.45759852, 24.4684504 , 24.46717407,\n",
              "        24.45351367, 24.46214989, 24.46717407, 24.44667173, 24.46650108,\n",
              "        24.49233452, 24.45388691, 24.48055805, 24.49233452, 24.45005394,\n",
              "        24.46705671, 24.49233452, 24.39426326, 24.38572603, 24.33765472,\n",
              "        24.42844829, 24.39961089, 24.33765472, 24.41930274, 24.38860175,\n",
              "        24.33765472, 24.38562986, 24.36042215, 24.32924344, 24.42099045,\n",
              "        24.38173198, 24.32924344, 24.39839372, 24.37017771, 24.32924344,\n",
              "        24.35942171, 24.33145525, 24.22029449, 24.3428258 , 24.33697479,\n",
              "        24.22029449, 24.34474554, 24.2979787 , 24.22029449, 24.34432001,\n",
              "        24.36406573, 24.30923628, 24.3522737 , 24.31222721, 24.31059542,\n",
              "        24.33590802, 24.30982321, 24.3081603 , 24.33948418, 24.32114583,\n",
              "        24.26906731, 24.33854948, 24.28500367, 24.2687698 , 24.29418275,\n",
              "        24.29230073, 24.26506099, 24.32256718, 24.24089754, 24.17503462,\n",
              "        24.16974054, 24.24323926, 24.17545776, 24.17037894, 24.22114115,\n",
              "        24.16921946, 24.37594278, 24.34460671, 24.39015253, 24.39093614,\n",
              "        24.32595143, 24.39015253, 24.3987539 , 24.36991331, 24.39015253,\n",
              "        24.24213243, 24.24465338, 24.34671795, 24.29124548, 24.23608033,\n",
              "        24.34671795, 24.30284484, 24.27307548, 24.34671795, 23.91946194,\n",
              "        23.98688705, 24.11884959, 23.80686822, 23.93517326, 24.11884959,\n",
              "        23.79832398, 23.92989892, 24.11884959, 24.13520641, 24.00552301,\n",
              "        23.89405113, 24.03958837, 24.06115419, 23.89405113, 24.3000963 ,\n",
              "        24.14531644, 23.89405113, 23.98999388, 23.89268595, 23.78226903,\n",
              "        23.96338075, 23.88702879, 23.78226903, 24.14615603, 24.07207675,\n",
              "        23.78226903, 23.64413982, 23.55194145, 23.80876369, 23.43965055,\n",
              "        23.60249108, 23.79510822, 23.65716281, 23.71068613, 23.81085241,\n",
              "        23.77698149, 24.33190298, 23.21345575, 23.37306299, 23.8638908 ,\n",
              "        23.2090169 , 23.84039083, 24.12389209, 23.1655405 , 23.69756075,\n",
              "        24.1041302 , 23.13857018, 23.24807808, 23.72564111, 23.13245566,\n",
              "        23.73879693, 24.07340414, 23.08397854, 23.39385621, 23.81452943,\n",
              "        23.05352533, 22.98662121, 23.26024241, 23.06748335, 23.08696884,\n",
              "        23.79438348, 23.01652317, 23.49449281, 23.33969384, 23.67336725,\n",
              "        23.2047951 , 23.14360577, 23.67336725, 23.45410737, 23.29121535,\n",
              "        23.67336725, 23.53986107, 23.1499794 , 23.65576195, 23.06422032,\n",
              "        23.13935209, 23.65576195, 23.63040507, 23.37894522, 23.65576195,\n",
              "        23.90381905, 23.57655229, 23.78700042, 23.07477985, 23.61458037,\n",
              "        23.78700042, 23.74767495, 23.51908679, 23.78700042, 22.94312951,\n",
              "        23.03246936, 23.18979211, 21.09876066, 23.71206184, 23.17475325,\n",
              "        24.42736268, 22.21806509, 23.16716665, 22.96947771, 22.39887489,\n",
              "        23.39675491, 20.33486699, 23.22585201, 23.3699995 , 23.63128313,\n",
              "        22.38828252, 23.37485921, 21.97185431, 22.02750916, 22.3544141 ,\n",
              "        20.19928119, 23.84535369, 22.29856162, 22.84470088, 20.62372126,\n",
              "        22.32483442, 24.89587499, 23.16990063, 23.23719454, 22.04578067,\n",
              "        22.40307365, 23.54108236, 24.11695251, 21.88947058, 23.27099612,\n",
              "        23.82168441, 22.82539896, 24.58075737, 21.47935915, 22.66245885,\n",
              "        25.0033976 , 23.66781161, 20.96860956, 24.56468683, 21.27659658,\n",
              "        23.2421273 , 25.70972938, 21.01381057, 21.12081697, 26.58754019,\n",
              "        21.66855205, 20.869768  , 26.0130682 ])}"
            ]
          },
          "metadata": {
            "tags": []
          },
          "execution_count": 104
        }
      ]
    },
    {
      "cell_type": "code",
      "metadata": {
        "colab": {
          "base_uri": "https://localhost:8080/"
        },
        "id": "2Dn98V73RYsr",
        "outputId": "89131095-8d38-45ea-e8a9-6c6b4caad4df"
      },
      "source": [
        "search.best_params_"
      ],
      "execution_count": null,
      "outputs": [
        {
          "output_type": "execute_result",
          "data": {
            "text/plain": [
              "{'learning_rate': 0.01,\n",
              " 'max_depth': 1,\n",
              " 'n_estimators': 1000,\n",
              " 'random_state': 21,\n",
              " 'subsample': 0.75}"
            ]
          },
          "metadata": {
            "tags": []
          },
          "execution_count": 105
        }
      ]
    },
    {
      "cell_type": "code",
      "metadata": {
        "colab": {
          "base_uri": "https://localhost:8080/"
        },
        "id": "YIx9Z6yzRfZ5",
        "outputId": "2f3ee9f8-305d-4104-c8ae-445919f39d6c"
      },
      "source": [
        "search.best_score_"
      ],
      "execution_count": null,
      "outputs": [
        {
          "output_type": "execute_result",
          "data": {
            "text/plain": [
              "-308.46026707561936"
            ]
          },
          "metadata": {
            "tags": []
          },
          "execution_count": 106
        }
      ]
    },
    {
      "cell_type": "code",
      "metadata": {
        "id": "gKVy-XddRjG9"
      },
      "source": [
        "GBR=GradientBoostingRegressor(learning_rate=0.01,max_depth=1,n_estimators=400,random_state=21,subsample=0.75)\n",
        "GBR.fit(X_train, y_train)\n",
        "\n",
        "# predict\n",
        "y_train_pred = GBR.predict(X_train)\n",
        "y_test_pred = GBR.predict(X_test)"
      ],
      "execution_count": null,
      "outputs": []
    },
    {
      "cell_type": "code",
      "metadata": {
        "id": "KFtnBzxAStC6"
      },
      "source": [
        "gb_hyp = GBR.predict(test_df)"
      ],
      "execution_count": null,
      "outputs": []
    },
    {
      "cell_type": "code",
      "metadata": {
        "id": "UFBhKHDPSw9K"
      },
      "source": [
        "rms_gb_hyp=(np.sqrt(mean_squared_error(y_test_pred,y_test)))"
      ],
      "execution_count": null,
      "outputs": []
    },
    {
      "cell_type": "code",
      "metadata": {
        "colab": {
          "base_uri": "https://localhost:8080/"
        },
        "id": "Cjo30jARS1dH",
        "outputId": "2114d85c-a8c5-4ebe-e4af-adedfe1bf7cb"
      },
      "source": [
        "rms_gb_hyp"
      ],
      "execution_count": null,
      "outputs": [
        {
          "output_type": "execute_result",
          "data": {
            "text/plain": [
              "17.692327418940394"
            ]
          },
          "metadata": {
            "tags": []
          },
          "execution_count": 148
        }
      ]
    },
    {
      "cell_type": "code",
      "metadata": {
        "id": "DixFTjOvS019"
      },
      "source": [
        "submmitted_data = pd.DataFrame()\n",
        "submmitted_data['Deal_title'] = test['Deal_title']\n",
        "submmitted_data['Success_probability'] =gb_hyp"
      ],
      "execution_count": null,
      "outputs": []
    },
    {
      "cell_type": "code",
      "metadata": {
        "colab": {
          "base_uri": "https://localhost:8080/",
          "height": 402
        },
        "id": "OOtlhwdnTahL",
        "outputId": "fc0b7c9a-5dde-4675-dcf9-9de183d35906"
      },
      "source": [
        "submmitted_data"
      ],
      "execution_count": null,
      "outputs": [
        {
          "output_type": "execute_result",
          "data": {
            "text/html": [
              "<div>\n",
              "<style scoped>\n",
              "    .dataframe tbody tr th:only-of-type {\n",
              "        vertical-align: middle;\n",
              "    }\n",
              "\n",
              "    .dataframe tbody tr th {\n",
              "        vertical-align: top;\n",
              "    }\n",
              "\n",
              "    .dataframe thead th {\n",
              "        text-align: right;\n",
              "    }\n",
              "</style>\n",
              "<table border=\"1\" class=\"dataframe\">\n",
              "  <thead>\n",
              "    <tr style=\"text-align: right;\">\n",
              "      <th></th>\n",
              "      <th>Deal_title</th>\n",
              "      <th>Success_probability</th>\n",
              "    </tr>\n",
              "  </thead>\n",
              "  <tbody>\n",
              "    <tr>\n",
              "      <th>0</th>\n",
              "      <td>TitleAD16O</td>\n",
              "      <td>64.884510</td>\n",
              "    </tr>\n",
              "    <tr>\n",
              "      <th>1</th>\n",
              "      <td>TitleOW6CR</td>\n",
              "      <td>68.870100</td>\n",
              "    </tr>\n",
              "    <tr>\n",
              "      <th>2</th>\n",
              "      <td>TitleVVJQ5</td>\n",
              "      <td>69.089105</td>\n",
              "    </tr>\n",
              "    <tr>\n",
              "      <th>3</th>\n",
              "      <td>TitleUS8NA</td>\n",
              "      <td>69.068698</td>\n",
              "    </tr>\n",
              "    <tr>\n",
              "      <th>4</th>\n",
              "      <td>Title5VGWW</td>\n",
              "      <td>68.870100</td>\n",
              "    </tr>\n",
              "    <tr>\n",
              "      <th>...</th>\n",
              "      <td>...</td>\n",
              "      <td>...</td>\n",
              "    </tr>\n",
              "    <tr>\n",
              "      <th>2088</th>\n",
              "      <td>Title2R8VU</td>\n",
              "      <td>68.870100</td>\n",
              "    </tr>\n",
              "    <tr>\n",
              "      <th>2089</th>\n",
              "      <td>Title7HCNJ</td>\n",
              "      <td>68.870100</td>\n",
              "    </tr>\n",
              "    <tr>\n",
              "      <th>2090</th>\n",
              "      <td>TitleCD5YZ</td>\n",
              "      <td>66.923279</td>\n",
              "    </tr>\n",
              "    <tr>\n",
              "      <th>2091</th>\n",
              "      <td>Title8OKXL</td>\n",
              "      <td>66.724681</td>\n",
              "    </tr>\n",
              "    <tr>\n",
              "      <th>2092</th>\n",
              "      <td>TitleHFQT8</td>\n",
              "      <td>68.870100</td>\n",
              "    </tr>\n",
              "  </tbody>\n",
              "</table>\n",
              "<p>2093 rows × 2 columns</p>\n",
              "</div>"
            ],
            "text/plain": [
              "      Deal_title  Success_probability\n",
              "0     TitleAD16O            64.884510\n",
              "1     TitleOW6CR            68.870100\n",
              "2     TitleVVJQ5            69.089105\n",
              "3     TitleUS8NA            69.068698\n",
              "4     Title5VGWW            68.870100\n",
              "...          ...                  ...\n",
              "2088  Title2R8VU            68.870100\n",
              "2089  Title7HCNJ            68.870100\n",
              "2090  TitleCD5YZ            66.923279\n",
              "2091  Title8OKXL            66.724681\n",
              "2092  TitleHFQT8            68.870100\n",
              "\n",
              "[2093 rows x 2 columns]"
            ]
          },
          "metadata": {
            "tags": []
          },
          "execution_count": 150
        }
      ]
    },
    {
      "cell_type": "code",
      "metadata": {
        "id": "dFbD5aODTJUb"
      },
      "source": [
        "submmitted_data.to_csv(\"gradient_hyp-1.csv\")"
      ],
      "execution_count": null,
      "outputs": []
    },
    {
      "cell_type": "code",
      "metadata": {
        "colab": {
          "base_uri": "https://localhost:8080/"
        },
        "id": "x-NSY8wIj43h",
        "outputId": "eed41b99-0832-4426-b795-724db1277071"
      },
      "source": [
        "!pip install optuna\n"
      ],
      "execution_count": null,
      "outputs": [
        {
          "output_type": "stream",
          "text": [
            "Collecting optuna\n",
            "\u001b[?25l  Downloading https://files.pythonhosted.org/packages/2b/21/d13081805e1e1afc71f5bb743ece324c8bd576237c51b899ecb38a717502/optuna-2.7.0-py3-none-any.whl (293kB)\n",
            "\u001b[K     |████████████████████████████████| 296kB 5.4MB/s \n",
            "\u001b[?25hCollecting alembic\n",
            "\u001b[?25l  Downloading https://files.pythonhosted.org/packages/72/a4/97eb6273839655cac14947986fa7a5935350fcfd4fff872e9654264c82d8/alembic-1.5.8-py2.py3-none-any.whl (159kB)\n",
            "\u001b[K     |████████████████████████████████| 163kB 5.7MB/s \n",
            "\u001b[?25hRequirement already satisfied: numpy in /usr/local/lib/python3.7/dist-packages (from optuna) (1.19.5)\n",
            "Collecting cliff\n",
            "\u001b[?25l  Downloading https://files.pythonhosted.org/packages/a2/d6/7d9acb68a77acd140be7fececb7f2701b2a29d2da9c54184cb8f93509590/cliff-3.7.0-py3-none-any.whl (80kB)\n",
            "\u001b[K     |████████████████████████████████| 81kB 4.5MB/s \n",
            "\u001b[?25hRequirement already satisfied: scipy!=1.4.0 in /usr/local/lib/python3.7/dist-packages (from optuna) (1.4.1)\n",
            "Requirement already satisfied: tqdm in /usr/local/lib/python3.7/dist-packages (from optuna) (4.41.1)\n",
            "Requirement already satisfied: packaging>=20.0 in /usr/local/lib/python3.7/dist-packages (from optuna) (20.9)\n",
            "Collecting colorlog\n",
            "  Downloading https://files.pythonhosted.org/packages/32/e6/e9ddc6fa1104fda718338b341e4b3dc31cd8039ab29e52fc73b508515361/colorlog-5.0.1-py2.py3-none-any.whl\n",
            "Collecting cmaes>=0.8.2\n",
            "  Downloading https://files.pythonhosted.org/packages/01/1f/43b01223a0366171f474320c6e966c39a11587287f098a5f09809b45e05f/cmaes-0.8.2-py3-none-any.whl\n",
            "Requirement already satisfied: sqlalchemy>=1.1.0 in /usr/local/lib/python3.7/dist-packages (from optuna) (1.4.7)\n",
            "Collecting python-editor>=0.3\n",
            "  Downloading https://files.pythonhosted.org/packages/c6/d3/201fc3abe391bbae6606e6f1d598c15d367033332bd54352b12f35513717/python_editor-1.0.4-py3-none-any.whl\n",
            "Collecting Mako\n",
            "\u001b[?25l  Downloading https://files.pythonhosted.org/packages/f3/54/dbc07fbb20865d3b78fdb7cf7fa713e2cba4f87f71100074ef2dc9f9d1f7/Mako-1.1.4-py2.py3-none-any.whl (75kB)\n",
            "\u001b[K     |████████████████████████████████| 81kB 5.3MB/s \n",
            "\u001b[?25hRequirement already satisfied: python-dateutil in /usr/local/lib/python3.7/dist-packages (from alembic->optuna) (2.8.1)\n",
            "Collecting stevedore>=2.0.1\n",
            "\u001b[?25l  Downloading https://files.pythonhosted.org/packages/d4/49/b602307aeac3df3384ff1fcd05da9c0376c622a6c48bb5325f28ab165b57/stevedore-3.3.0-py3-none-any.whl (49kB)\n",
            "\u001b[K     |████████████████████████████████| 51kB 3.4MB/s \n",
            "\u001b[?25hCollecting pbr!=2.1.0,>=2.0.0\n",
            "\u001b[?25l  Downloading https://files.pythonhosted.org/packages/fb/48/69046506f6ac61c1eaa9a0d42d22d54673b69e176d30ca98e3f61513e980/pbr-5.5.1-py2.py3-none-any.whl (106kB)\n",
            "\u001b[K     |████████████████████████████████| 112kB 8.5MB/s \n",
            "\u001b[?25hCollecting cmd2>=1.0.0\n",
            "\u001b[?25l  Downloading https://files.pythonhosted.org/packages/15/8b/15061b32332bb35ea2a2f6263d0f616779d576e82739ec8e7fcf3c94abf5/cmd2-1.5.0-py3-none-any.whl (133kB)\n",
            "\u001b[K     |████████████████████████████████| 143kB 8.4MB/s \n",
            "\u001b[?25hRequirement already satisfied: PyYAML>=3.12 in /usr/local/lib/python3.7/dist-packages (from cliff->optuna) (3.13)\n",
            "Requirement already satisfied: PrettyTable>=0.7.2 in /usr/local/lib/python3.7/dist-packages (from cliff->optuna) (2.1.0)\n",
            "Requirement already satisfied: pyparsing>=2.1.0 in /usr/local/lib/python3.7/dist-packages (from cliff->optuna) (2.4.7)\n",
            "Requirement already satisfied: importlib-metadata; python_version < \"3.8\" in /usr/local/lib/python3.7/dist-packages (from sqlalchemy>=1.1.0->optuna) (3.10.1)\n",
            "Requirement already satisfied: greenlet!=0.4.17; python_version >= \"3\" in /usr/local/lib/python3.7/dist-packages (from sqlalchemy>=1.1.0->optuna) (1.0.0)\n",
            "Requirement already satisfied: MarkupSafe>=0.9.2 in /usr/local/lib/python3.7/dist-packages (from Mako->alembic->optuna) (1.1.1)\n",
            "Requirement already satisfied: six>=1.5 in /usr/local/lib/python3.7/dist-packages (from python-dateutil->alembic->optuna) (1.15.0)\n",
            "Requirement already satisfied: wcwidth>=0.1.7 in /usr/local/lib/python3.7/dist-packages (from cmd2>=1.0.0->cliff->optuna) (0.2.5)\n",
            "Collecting colorama>=0.3.7\n",
            "  Downloading https://files.pythonhosted.org/packages/44/98/5b86278fbbf250d239ae0ecb724f8572af1c91f4a11edf4d36a206189440/colorama-0.4.4-py2.py3-none-any.whl\n",
            "Requirement already satisfied: attrs>=16.3.0 in /usr/local/lib/python3.7/dist-packages (from cmd2>=1.0.0->cliff->optuna) (20.3.0)\n",
            "Collecting pyperclip>=1.6\n",
            "  Downloading https://files.pythonhosted.org/packages/a7/2c/4c64579f847bd5d539803c8b909e54ba087a79d01bb3aba433a95879a6c5/pyperclip-1.8.2.tar.gz\n",
            "Requirement already satisfied: zipp>=0.5 in /usr/local/lib/python3.7/dist-packages (from importlib-metadata; python_version < \"3.8\"->sqlalchemy>=1.1.0->optuna) (3.4.1)\n",
            "Requirement already satisfied: typing-extensions>=3.6.4; python_version < \"3.8\" in /usr/local/lib/python3.7/dist-packages (from importlib-metadata; python_version < \"3.8\"->sqlalchemy>=1.1.0->optuna) (3.7.4.3)\n",
            "Building wheels for collected packages: pyperclip\n",
            "  Building wheel for pyperclip (setup.py) ... \u001b[?25l\u001b[?25hdone\n",
            "  Created wheel for pyperclip: filename=pyperclip-1.8.2-cp37-none-any.whl size=11107 sha256=a81d61fd478d744a1d0e799d538f66e6d781ca67f8f7394d893a91c0cbcebd21\n",
            "  Stored in directory: /root/.cache/pip/wheels/25/af/b8/3407109267803f4015e1ee2ff23be0c8c19ce4008665931ee1\n",
            "Successfully built pyperclip\n",
            "Installing collected packages: python-editor, Mako, alembic, pbr, stevedore, colorama, pyperclip, cmd2, cliff, colorlog, cmaes, optuna\n",
            "Successfully installed Mako-1.1.4 alembic-1.5.8 cliff-3.7.0 cmaes-0.8.2 cmd2-1.5.0 colorama-0.4.4 colorlog-5.0.1 optuna-2.7.0 pbr-5.5.1 pyperclip-1.8.2 python-editor-1.0.4 stevedore-3.3.0\n"
          ],
          "name": "stdout"
        }
      ]
    },
    {
      "cell_type": "code",
      "metadata": {
        "colab": {
          "base_uri": "https://localhost:8080/",
          "height": 676
        },
        "id": "hOYWONDSZFS_",
        "outputId": "7e3474ed-778a-4600-f556-e1e42f6c3f5a"
      },
      "source": [
        "import lightgbm as lgbm\n",
        "import optuna\n",
        "from optuna.samplers import TPESampler\n",
        "\n",
        "sampler = TPESampler(seed=10) # for reproducibility\n",
        "def objective(trial):\n",
        "    \n",
        "    # dtrain = lgb.Dataset(X_train, label=y_train)\n",
        "    \n",
        "    param = {\n",
        "        'objective': 'regression',\n",
        "        'metric': 'mean_absolute_error',\n",
        "        'verbosity': -1,\n",
        "        'boosting_type': 'gbdt',\n",
        "        # 'early_stopping_rounds': trial.suggest_int('early_stopping_rounds', 10, 2000),\n",
        "        'lambda_l1': trial.suggest_loguniform('lambda_l1', 1e-8, 10.0),\n",
        "        'lambda_l2': trial.suggest_loguniform('lambda_l2', 1e-8, 10.0),\n",
        "        'num_leaves': trial.suggest_int('num_leaves', 2, 512),\n",
        "        # 'learning_rate': trial.suggest_loguniform('learning_rate', 1e-8, 1.0),\n",
        "        'learning_rate': 0.01,\n",
        "        'n_estimators': trial.suggest_int('n_estimators', 700, 3000),\n",
        "        'feature_fraction': trial.suggest_uniform('feature_fraction', 0.4, 1.0),\n",
        "        'bagging_fraction': trial.suggest_uniform('bagging_fraction', 0.4, 1.0),\n",
        "        'bagging_freq': trial.suggest_int('bagging_freq', 1, 7),\n",
        "        'min_child_samples': trial.suggest_int('min_child_samples', 5, 100),\n",
        "    }\n",
        "    lgbm_regr = lgbm.LGBMRegressor(**param)\n",
        "    lgbm_2 = lgbm_regr.fit(X_train, y_train, eval_set=[(X_test, y_test)], verbose=False)\n",
        "    return mean_absolute_error(np.expm1(y_test), np.expm1(lgbm_2.predict(X_test)))\n",
        "\n",
        "study = optuna.create_study(direction='minimize', sampler=sampler)\n",
        "study.optimize(objective, n_trials=100)"
      ],
      "execution_count": null,
      "outputs": [
        {
          "output_type": "stream",
          "text": [
            "\u001b[32m[I 2021-04-23 07:11:11,181]\u001b[0m A new study created in memory with name: no-name-efb4b50e-6446-4b3d-ab6c-898ccf870012\u001b[0m\n",
            "\u001b[32m[I 2021-04-23 07:11:16,017]\u001b[0m Trial 0 finished with value: 3.2676237205121156e+45 and parameters: {'lambda_l1': 0.08747537025773001, 'lambda_l2': 1.537331564587801e-08, 'num_leaves': 325, 'n_estimators': 2422, 'feature_fraction': 0.6991042073815543, 'bagging_fraction': 0.5348779873185086, 'bagging_freq': 2, 'min_child_samples': 78}. Best is trial 0 with value: 3.2676237205121156e+45.\u001b[0m\n",
            "\u001b[32m[I 2021-04-23 07:11:22,566]\u001b[0m Trial 1 finished with value: 3.267623720508387e+45 and parameters: {'lambda_l1': 3.32657660618516e-07, 'lambda_l2': 6.238186113062485e-08, 'num_leaves': 352, 'n_estimators': 2893, 'feature_fraction': 0.4023689597967487, 'bagging_fraction': 0.707315358031466, 'bagging_freq': 6, 'min_child_samples': 63}. Best is trial 1 with value: 3.267623720508387e+45.\u001b[0m\n",
            "\u001b[32m[I 2021-04-23 07:11:27,257]\u001b[0m Trial 2 finished with value: 3.267623720511096e+45 and parameters: {'lambda_l1': 0.03131827670437561, 'lambda_l2': 4.235304245072407e-06, 'num_leaves': 470, 'n_estimators': 2344, 'feature_fraction': 0.7255266208067568, 'bagging_fraction': 0.4853020285609162, 'bagging_freq': 3, 'min_child_samples': 69}. Best is trial 1 with value: 3.267623720508387e+45.\u001b[0m\n",
            "\u001b[32m[I 2021-04-23 07:11:33,401]\u001b[0m Trial 3 finished with value: 3.267623720525329e+45 and parameters: {'lambda_l1': 9.473240648272395e-05, 'lambda_l2': 8.056120247993029e-05, 'num_leaves': 317, 'n_estimators': 1880, 'feature_fraction': 0.7902383091588803, 'bagging_fraction': 0.7606233720427267, 'bagging_freq': 6, 'min_child_samples': 55}. Best is trial 1 with value: 3.267623720508387e+45.\u001b[0m\n",
            "\u001b[32m[I 2021-04-23 07:11:36,147]\u001b[0m Trial 4 finished with value: 3.267623720513958e+45 and parameters: {'lambda_l1': 1.5060518616773197, 'lambda_l2': 7.4666329224550155e-06, 'num_leaves': 48, 'n_estimators': 1391, 'feature_fraction': 0.4683906171181299, 'bagging_fraction': 0.897208795784606, 'bagging_freq': 1, 'min_child_samples': 65}. Best is trial 1 with value: 3.267623720508387e+45.\u001b[0m\n",
            "\u001b[32m[I 2021-04-23 07:11:42,722]\u001b[0m Trial 5 finished with value: 3.2676237205236297e+45 and parameters: {'lambda_l1': 0.0008477648448701759, 'lambda_l2': 0.23636488716609746, 'num_leaves': 103, 'n_estimators': 2671, 'feature_fraction': 0.6109915836592528, 'bagging_fraction': 0.8527886149179144, 'bagging_freq': 3, 'min_child_samples': 89}. Best is trial 1 with value: 3.267623720508387e+45.\u001b[0m\n",
            "\u001b[32m[I 2021-04-23 07:11:44,402]\u001b[0m Trial 6 finished with value: 3.267623720513797e+45 and parameters: {'lambda_l1': 8.503637539944912e-06, 'lambda_l2': 3.055927730910031e-07, 'num_leaves': 202, 'n_estimators': 915, 'feature_fraction': 0.892663394702157, 'bagging_fraction': 0.4906912117855383, 'bagging_freq': 3, 'min_child_samples': 95}. Best is trial 1 with value: 3.267623720508387e+45.\u001b[0m\n",
            "\u001b[32m[I 2021-04-23 07:11:49,068]\u001b[0m Trial 7 finished with value: 3.267623720521942e+45 and parameters: {'lambda_l1': 7.738009776978926, 'lambda_l2': 0.00012786183233975197, 'num_leaves': 424, 'n_estimators': 1278, 'feature_fraction': 0.7584229889385306, 'bagging_fraction': 0.9416990561989764, 'bagging_freq': 4, 'min_child_samples': 61}. Best is trial 1 with value: 3.267623720508387e+45.\u001b[0m\n",
            "\u001b[32m[I 2021-04-23 07:11:51,808]\u001b[0m Trial 8 finished with value: 3.267623720514165e+45 and parameters: {'lambda_l1': 2.2570225857344917e-08, 'lambda_l2': 1.6392146534756105e-05, 'num_leaves': 42, 'n_estimators': 1402, 'feature_fraction': 0.5984315871892792, 'bagging_fraction': 0.8642981777263575, 'bagging_freq': 1, 'min_child_samples': 46}. Best is trial 1 with value: 3.267623720508387e+45.\u001b[0m\n",
            "\u001b[32m[I 2021-04-23 07:11:55,140]\u001b[0m Trial 9 finished with value: 3.267623720514291e+45 and parameters: {'lambda_l1': 6.828759954126584e-06, 'lambda_l2': 0.005350819333765382, 'num_leaves': 178, 'n_estimators': 799, 'feature_fraction': 0.9279491047107497, 'bagging_fraction': 0.8579443522862087, 'bagging_freq': 7, 'min_child_samples': 45}. Best is trial 1 with value: 3.267623720508387e+45.\u001b[0m\n",
            "\u001b[32m[I 2021-04-23 07:12:10,362]\u001b[0m Trial 10 finished with value: 3.2676237205803615e+45 and parameters: {'lambda_l1': 1.861867359392523e-08, 'lambda_l2': 1.3722941509200951e-08, 'num_leaves': 378, 'n_estimators': 2793, 'feature_fraction': 0.41584137907688995, 'bagging_fraction': 0.6485380411263282, 'bagging_freq': 6, 'min_child_samples': 15}. Best is trial 1 with value: 3.267623720508387e+45.\u001b[0m\n",
            "\u001b[32m[I 2021-04-23 07:12:16,047]\u001b[0m Trial 11 finished with value: 3.267623720503586e+45 and parameters: {'lambda_l1': 0.013601498774286848, 'lambda_l2': 5.259356474247144e-07, 'num_leaves': 505, 'n_estimators': 2302, 'feature_fraction': 0.5435935444057981, 'bagging_fraction': 0.403918156063912, 'bagging_freq': 5, 'min_child_samples': 33}. Best is trial 11 with value: 3.267623720503586e+45.\u001b[0m\n",
            "\u001b[32m[I 2021-04-23 07:12:25,057]\u001b[0m Trial 12 finished with value: 3.267623720506786e+45 and parameters: {'lambda_l1': 8.055122160222424e-07, 'lambda_l2': 1.8754814355054245e-07, 'num_leaves': 511, 'n_estimators': 2000, 'feature_fraction': 0.5034199835766792, 'bagging_fraction': 0.6334164425264114, 'bagging_freq': 5, 'min_child_samples': 23}. Best is trial 11 with value: 3.267623720503586e+45.\u001b[0m\n",
            "\u001b[32m[I 2021-04-23 07:12:31,807]\u001b[0m Trial 13 finished with value: 3.2676237205004906e+45 and parameters: {'lambda_l1': 0.003477385046878067, 'lambda_l2': 7.193441959101428e-07, 'num_leaves': 492, 'n_estimators': 1937, 'feature_fraction': 0.5266748879736949, 'bagging_fraction': 0.4038775978102857, 'bagging_freq': 5, 'min_child_samples': 20}. Best is trial 13 with value: 3.2676237205004906e+45.\u001b[0m\n",
            "\u001b[32m[I 2021-04-23 07:12:37,606]\u001b[0m Trial 14 finished with value: 3.267623720513388e+45 and parameters: {'lambda_l1': 0.005154018811123352, 'lambda_l2': 0.005447048780146475, 'num_leaves': 493, 'n_estimators': 2217, 'feature_fraction': 0.5710144534350386, 'bagging_fraction': 0.4142007160398344, 'bagging_freq': 5, 'min_child_samples': 30}. Best is trial 13 with value: 3.2676237205004906e+45.\u001b[0m\n",
            "\u001b[32m[I 2021-04-23 07:12:49,470]\u001b[0m Trial 15 finished with value: 3.2676237205167945e+45 and parameters: {'lambda_l1': 0.2701476919557649, 'lambda_l2': 9.501267794857371e-07, 'num_leaves': 435, 'n_estimators': 1654, 'feature_fraction': 0.5321687354058878, 'bagging_fraction': 0.4009036457733083, 'bagging_freq': 5, 'min_child_samples': 7}. Best is trial 13 with value: 3.2676237205004906e+45.\u001b[0m\n",
            "\u001b[32m[I 2021-04-23 07:12:55,617]\u001b[0m Trial 16 finished with value: 3.267623720542428e+45 and parameters: {'lambda_l1': 0.004052868024731006, 'lambda_l2': 0.001487581328245717, 'num_leaves': 262, 'n_estimators': 2125, 'feature_fraction': 0.4717843320382033, 'bagging_fraction': 0.5461978763834473, 'bagging_freq': 7, 'min_child_samples': 33}. Best is trial 13 with value: 3.2676237205004906e+45.\u001b[0m\n",
            "\u001b[32m[I 2021-04-23 07:13:06,776]\u001b[0m Trial 17 finished with value: 3.267623720551513e+45 and parameters: {'lambda_l1': 0.00016920184135619162, 'lambda_l2': 1.4202999632419064e-06, 'num_leaves': 507, 'n_estimators': 1676, 'feature_fraction': 0.6589873461394883, 'bagging_fraction': 0.40512644551280563, 'bagging_freq': 4, 'min_child_samples': 9}. Best is trial 13 with value: 3.2676237205004906e+45.\u001b[0m\n"
          ],
          "name": "stderr"
        },
        {
          "output_type": "error",
          "ename": "KeyboardInterrupt",
          "evalue": "ignored",
          "traceback": [
            "\u001b[0;31m---------------------------------------------------------------------------\u001b[0m",
            "\u001b[0;31mKeyboardInterrupt\u001b[0m                         Traceback (most recent call last)",
            "\u001b[0;32m<ipython-input-422-36fab4abeed3>\u001b[0m in \u001b[0;36m<module>\u001b[0;34m()\u001b[0m\n\u001b[1;32m     30\u001b[0m \u001b[0;34m\u001b[0m\u001b[0m\n\u001b[1;32m     31\u001b[0m \u001b[0mstudy\u001b[0m \u001b[0;34m=\u001b[0m \u001b[0moptuna\u001b[0m\u001b[0;34m.\u001b[0m\u001b[0mcreate_study\u001b[0m\u001b[0;34m(\u001b[0m\u001b[0mdirection\u001b[0m\u001b[0;34m=\u001b[0m\u001b[0;34m'minimize'\u001b[0m\u001b[0;34m,\u001b[0m \u001b[0msampler\u001b[0m\u001b[0;34m=\u001b[0m\u001b[0msampler\u001b[0m\u001b[0;34m)\u001b[0m\u001b[0;34m\u001b[0m\u001b[0;34m\u001b[0m\u001b[0m\n\u001b[0;32m---> 32\u001b[0;31m \u001b[0mstudy\u001b[0m\u001b[0;34m.\u001b[0m\u001b[0moptimize\u001b[0m\u001b[0;34m(\u001b[0m\u001b[0mobjective\u001b[0m\u001b[0;34m,\u001b[0m \u001b[0mn_trials\u001b[0m\u001b[0;34m=\u001b[0m\u001b[0;36m100\u001b[0m\u001b[0;34m)\u001b[0m\u001b[0;34m\u001b[0m\u001b[0;34m\u001b[0m\u001b[0m\n\u001b[0m",
            "\u001b[0;32m/usr/local/lib/python3.7/dist-packages/optuna/study.py\u001b[0m in \u001b[0;36moptimize\u001b[0;34m(self, func, n_trials, timeout, n_jobs, catch, callbacks, gc_after_trial, show_progress_bar)\u001b[0m\n\u001b[1;32m    407\u001b[0m             \u001b[0mcallbacks\u001b[0m\u001b[0;34m=\u001b[0m\u001b[0mcallbacks\u001b[0m\u001b[0;34m,\u001b[0m\u001b[0;34m\u001b[0m\u001b[0;34m\u001b[0m\u001b[0m\n\u001b[1;32m    408\u001b[0m             \u001b[0mgc_after_trial\u001b[0m\u001b[0;34m=\u001b[0m\u001b[0mgc_after_trial\u001b[0m\u001b[0;34m,\u001b[0m\u001b[0;34m\u001b[0m\u001b[0;34m\u001b[0m\u001b[0m\n\u001b[0;32m--> 409\u001b[0;31m             \u001b[0mshow_progress_bar\u001b[0m\u001b[0;34m=\u001b[0m\u001b[0mshow_progress_bar\u001b[0m\u001b[0;34m,\u001b[0m\u001b[0;34m\u001b[0m\u001b[0;34m\u001b[0m\u001b[0m\n\u001b[0m\u001b[1;32m    410\u001b[0m         )\n\u001b[1;32m    411\u001b[0m \u001b[0;34m\u001b[0m\u001b[0m\n",
            "\u001b[0;32m/usr/local/lib/python3.7/dist-packages/optuna/_optimize.py\u001b[0m in \u001b[0;36m_optimize\u001b[0;34m(study, func, n_trials, timeout, n_jobs, catch, callbacks, gc_after_trial, show_progress_bar)\u001b[0m\n\u001b[1;32m     74\u001b[0m                 \u001b[0mreseed_sampler_rng\u001b[0m\u001b[0;34m=\u001b[0m\u001b[0;32mFalse\u001b[0m\u001b[0;34m,\u001b[0m\u001b[0;34m\u001b[0m\u001b[0;34m\u001b[0m\u001b[0m\n\u001b[1;32m     75\u001b[0m                 \u001b[0mtime_start\u001b[0m\u001b[0;34m=\u001b[0m\u001b[0;32mNone\u001b[0m\u001b[0;34m,\u001b[0m\u001b[0;34m\u001b[0m\u001b[0;34m\u001b[0m\u001b[0m\n\u001b[0;32m---> 76\u001b[0;31m                 \u001b[0mprogress_bar\u001b[0m\u001b[0;34m=\u001b[0m\u001b[0mprogress_bar\u001b[0m\u001b[0;34m,\u001b[0m\u001b[0;34m\u001b[0m\u001b[0;34m\u001b[0m\u001b[0m\n\u001b[0m\u001b[1;32m     77\u001b[0m             )\n\u001b[1;32m     78\u001b[0m         \u001b[0;32melse\u001b[0m\u001b[0;34m:\u001b[0m\u001b[0;34m\u001b[0m\u001b[0;34m\u001b[0m\u001b[0m\n",
            "\u001b[0;32m/usr/local/lib/python3.7/dist-packages/optuna/_optimize.py\u001b[0m in \u001b[0;36m_optimize_sequential\u001b[0;34m(study, func, n_trials, timeout, catch, callbacks, gc_after_trial, reseed_sampler_rng, time_start, progress_bar)\u001b[0m\n\u001b[1;32m    161\u001b[0m \u001b[0;34m\u001b[0m\u001b[0m\n\u001b[1;32m    162\u001b[0m         \u001b[0;32mtry\u001b[0m\u001b[0;34m:\u001b[0m\u001b[0;34m\u001b[0m\u001b[0;34m\u001b[0m\u001b[0m\n\u001b[0;32m--> 163\u001b[0;31m             \u001b[0mtrial\u001b[0m \u001b[0;34m=\u001b[0m \u001b[0m_run_trial\u001b[0m\u001b[0;34m(\u001b[0m\u001b[0mstudy\u001b[0m\u001b[0;34m,\u001b[0m \u001b[0mfunc\u001b[0m\u001b[0;34m,\u001b[0m \u001b[0mcatch\u001b[0m\u001b[0;34m)\u001b[0m\u001b[0;34m\u001b[0m\u001b[0;34m\u001b[0m\u001b[0m\n\u001b[0m\u001b[1;32m    164\u001b[0m         \u001b[0;32mexcept\u001b[0m \u001b[0mException\u001b[0m\u001b[0;34m:\u001b[0m\u001b[0;34m\u001b[0m\u001b[0;34m\u001b[0m\u001b[0m\n\u001b[1;32m    165\u001b[0m             \u001b[0;32mraise\u001b[0m\u001b[0;34m\u001b[0m\u001b[0;34m\u001b[0m\u001b[0m\n",
            "\u001b[0;32m/usr/local/lib/python3.7/dist-packages/optuna/_optimize.py\u001b[0m in \u001b[0;36m_run_trial\u001b[0;34m(study, func, catch)\u001b[0m\n\u001b[1;32m    215\u001b[0m \u001b[0;34m\u001b[0m\u001b[0m\n\u001b[1;32m    216\u001b[0m     \u001b[0;32mtry\u001b[0m\u001b[0;34m:\u001b[0m\u001b[0;34m\u001b[0m\u001b[0;34m\u001b[0m\u001b[0m\n\u001b[0;32m--> 217\u001b[0;31m         \u001b[0mvalue_or_values\u001b[0m \u001b[0;34m=\u001b[0m \u001b[0mfunc\u001b[0m\u001b[0;34m(\u001b[0m\u001b[0mtrial\u001b[0m\u001b[0;34m)\u001b[0m\u001b[0;34m\u001b[0m\u001b[0;34m\u001b[0m\u001b[0m\n\u001b[0m\u001b[1;32m    218\u001b[0m     \u001b[0;32mexcept\u001b[0m \u001b[0mexceptions\u001b[0m\u001b[0;34m.\u001b[0m\u001b[0mTrialPruned\u001b[0m \u001b[0;32mas\u001b[0m \u001b[0me\u001b[0m\u001b[0;34m:\u001b[0m\u001b[0;34m\u001b[0m\u001b[0;34m\u001b[0m\u001b[0m\n\u001b[1;32m    219\u001b[0m         \u001b[0;31m# TODO(mamu): Handle multi-objective cases.\u001b[0m\u001b[0;34m\u001b[0m\u001b[0;34m\u001b[0m\u001b[0;34m\u001b[0m\u001b[0m\n",
            "\u001b[0;32m<ipython-input-422-36fab4abeed3>\u001b[0m in \u001b[0;36mobjective\u001b[0;34m(trial)\u001b[0m\n\u001b[1;32m     26\u001b[0m     }\n\u001b[1;32m     27\u001b[0m     \u001b[0mlgbm_regr\u001b[0m \u001b[0;34m=\u001b[0m \u001b[0mlgbm\u001b[0m\u001b[0;34m.\u001b[0m\u001b[0mLGBMRegressor\u001b[0m\u001b[0;34m(\u001b[0m\u001b[0;34m**\u001b[0m\u001b[0mparam\u001b[0m\u001b[0;34m)\u001b[0m\u001b[0;34m\u001b[0m\u001b[0;34m\u001b[0m\u001b[0m\n\u001b[0;32m---> 28\u001b[0;31m     \u001b[0mlgbm_2\u001b[0m \u001b[0;34m=\u001b[0m \u001b[0mlgbm_regr\u001b[0m\u001b[0;34m.\u001b[0m\u001b[0mfit\u001b[0m\u001b[0;34m(\u001b[0m\u001b[0mX_train\u001b[0m\u001b[0;34m,\u001b[0m \u001b[0my_train\u001b[0m\u001b[0;34m,\u001b[0m \u001b[0meval_set\u001b[0m\u001b[0;34m=\u001b[0m\u001b[0;34m[\u001b[0m\u001b[0;34m(\u001b[0m\u001b[0mX_test\u001b[0m\u001b[0;34m,\u001b[0m \u001b[0my_test\u001b[0m\u001b[0;34m)\u001b[0m\u001b[0;34m]\u001b[0m\u001b[0;34m,\u001b[0m \u001b[0mverbose\u001b[0m\u001b[0;34m=\u001b[0m\u001b[0;32mFalse\u001b[0m\u001b[0;34m)\u001b[0m\u001b[0;34m\u001b[0m\u001b[0;34m\u001b[0m\u001b[0m\n\u001b[0m\u001b[1;32m     29\u001b[0m     \u001b[0;32mreturn\u001b[0m \u001b[0mmean_absolute_error\u001b[0m\u001b[0;34m(\u001b[0m\u001b[0mnp\u001b[0m\u001b[0;34m.\u001b[0m\u001b[0mexpm1\u001b[0m\u001b[0;34m(\u001b[0m\u001b[0my_test\u001b[0m\u001b[0;34m)\u001b[0m\u001b[0;34m,\u001b[0m \u001b[0mnp\u001b[0m\u001b[0;34m.\u001b[0m\u001b[0mexpm1\u001b[0m\u001b[0;34m(\u001b[0m\u001b[0mlgbm_2\u001b[0m\u001b[0;34m.\u001b[0m\u001b[0mpredict\u001b[0m\u001b[0;34m(\u001b[0m\u001b[0mX_test\u001b[0m\u001b[0;34m)\u001b[0m\u001b[0;34m)\u001b[0m\u001b[0;34m)\u001b[0m\u001b[0;34m\u001b[0m\u001b[0;34m\u001b[0m\u001b[0m\n\u001b[1;32m     30\u001b[0m \u001b[0;34m\u001b[0m\u001b[0m\n",
            "\u001b[0;32m/usr/local/lib/python3.7/dist-packages/lightgbm/sklearn.py\u001b[0m in \u001b[0;36mfit\u001b[0;34m(self, X, y, sample_weight, init_score, eval_set, eval_names, eval_sample_weight, eval_init_score, eval_metric, early_stopping_rounds, verbose, feature_name, categorical_feature, callbacks)\u001b[0m\n\u001b[1;32m    683\u001b[0m                                        \u001b[0mverbose\u001b[0m\u001b[0;34m=\u001b[0m\u001b[0mverbose\u001b[0m\u001b[0;34m,\u001b[0m \u001b[0mfeature_name\u001b[0m\u001b[0;34m=\u001b[0m\u001b[0mfeature_name\u001b[0m\u001b[0;34m,\u001b[0m\u001b[0;34m\u001b[0m\u001b[0;34m\u001b[0m\u001b[0m\n\u001b[1;32m    684\u001b[0m                                        \u001b[0mcategorical_feature\u001b[0m\u001b[0;34m=\u001b[0m\u001b[0mcategorical_feature\u001b[0m\u001b[0;34m,\u001b[0m\u001b[0;34m\u001b[0m\u001b[0;34m\u001b[0m\u001b[0m\n\u001b[0;32m--> 685\u001b[0;31m                                        callbacks=callbacks)\n\u001b[0m\u001b[1;32m    686\u001b[0m         \u001b[0;32mreturn\u001b[0m \u001b[0mself\u001b[0m\u001b[0;34m\u001b[0m\u001b[0;34m\u001b[0m\u001b[0m\n\u001b[1;32m    687\u001b[0m \u001b[0;34m\u001b[0m\u001b[0m\n",
            "\u001b[0;32m/usr/local/lib/python3.7/dist-packages/lightgbm/sklearn.py\u001b[0m in \u001b[0;36mfit\u001b[0;34m(self, X, y, sample_weight, init_score, group, eval_set, eval_names, eval_sample_weight, eval_class_weight, eval_init_score, eval_group, eval_metric, early_stopping_rounds, verbose, feature_name, categorical_feature, callbacks)\u001b[0m\n\u001b[1;32m    542\u001b[0m                               \u001b[0mverbose_eval\u001b[0m\u001b[0;34m=\u001b[0m\u001b[0mverbose\u001b[0m\u001b[0;34m,\u001b[0m \u001b[0mfeature_name\u001b[0m\u001b[0;34m=\u001b[0m\u001b[0mfeature_name\u001b[0m\u001b[0;34m,\u001b[0m\u001b[0;34m\u001b[0m\u001b[0;34m\u001b[0m\u001b[0m\n\u001b[1;32m    543\u001b[0m                               \u001b[0mcategorical_feature\u001b[0m\u001b[0;34m=\u001b[0m\u001b[0mcategorical_feature\u001b[0m\u001b[0;34m,\u001b[0m\u001b[0;34m\u001b[0m\u001b[0;34m\u001b[0m\u001b[0m\n\u001b[0;32m--> 544\u001b[0;31m                               callbacks=callbacks)\n\u001b[0m\u001b[1;32m    545\u001b[0m \u001b[0;34m\u001b[0m\u001b[0m\n\u001b[1;32m    546\u001b[0m         \u001b[0;32mif\u001b[0m \u001b[0mevals_result\u001b[0m\u001b[0;34m:\u001b[0m\u001b[0;34m\u001b[0m\u001b[0;34m\u001b[0m\u001b[0m\n",
            "\u001b[0;32m/usr/local/lib/python3.7/dist-packages/lightgbm/engine.py\u001b[0m in \u001b[0;36mtrain\u001b[0;34m(params, train_set, num_boost_round, valid_sets, valid_names, fobj, feval, init_model, feature_name, categorical_feature, early_stopping_rounds, evals_result, verbose_eval, learning_rates, keep_training_booster, callbacks)\u001b[0m\n\u001b[1;32m    216\u001b[0m                                     evaluation_result_list=None))\n\u001b[1;32m    217\u001b[0m \u001b[0;34m\u001b[0m\u001b[0m\n\u001b[0;32m--> 218\u001b[0;31m         \u001b[0mbooster\u001b[0m\u001b[0;34m.\u001b[0m\u001b[0mupdate\u001b[0m\u001b[0;34m(\u001b[0m\u001b[0mfobj\u001b[0m\u001b[0;34m=\u001b[0m\u001b[0mfobj\u001b[0m\u001b[0;34m)\u001b[0m\u001b[0;34m\u001b[0m\u001b[0;34m\u001b[0m\u001b[0m\n\u001b[0m\u001b[1;32m    219\u001b[0m \u001b[0;34m\u001b[0m\u001b[0m\n\u001b[1;32m    220\u001b[0m         \u001b[0mevaluation_result_list\u001b[0m \u001b[0;34m=\u001b[0m \u001b[0;34m[\u001b[0m\u001b[0;34m]\u001b[0m\u001b[0;34m\u001b[0m\u001b[0;34m\u001b[0m\u001b[0m\n",
            "\u001b[0;32m/usr/local/lib/python3.7/dist-packages/lightgbm/basic.py\u001b[0m in \u001b[0;36mupdate\u001b[0;34m(self, train_set, fobj)\u001b[0m\n\u001b[1;32m   1800\u001b[0m             _safe_call(_LIB.LGBM_BoosterUpdateOneIter(\n\u001b[1;32m   1801\u001b[0m                 \u001b[0mself\u001b[0m\u001b[0;34m.\u001b[0m\u001b[0mhandle\u001b[0m\u001b[0;34m,\u001b[0m\u001b[0;34m\u001b[0m\u001b[0;34m\u001b[0m\u001b[0m\n\u001b[0;32m-> 1802\u001b[0;31m                 ctypes.byref(is_finished)))\n\u001b[0m\u001b[1;32m   1803\u001b[0m             \u001b[0mself\u001b[0m\u001b[0;34m.\u001b[0m\u001b[0m__is_predicted_cur_iter\u001b[0m \u001b[0;34m=\u001b[0m \u001b[0;34m[\u001b[0m\u001b[0;32mFalse\u001b[0m \u001b[0;32mfor\u001b[0m \u001b[0m_\u001b[0m \u001b[0;32min\u001b[0m \u001b[0mrange_\u001b[0m\u001b[0;34m(\u001b[0m\u001b[0mself\u001b[0m\u001b[0;34m.\u001b[0m\u001b[0m__num_dataset\u001b[0m\u001b[0;34m)\u001b[0m\u001b[0;34m]\u001b[0m\u001b[0;34m\u001b[0m\u001b[0;34m\u001b[0m\u001b[0m\n\u001b[1;32m   1804\u001b[0m             \u001b[0;32mreturn\u001b[0m \u001b[0mis_finished\u001b[0m\u001b[0;34m.\u001b[0m\u001b[0mvalue\u001b[0m \u001b[0;34m==\u001b[0m \u001b[0;36m1\u001b[0m\u001b[0;34m\u001b[0m\u001b[0;34m\u001b[0m\u001b[0m\n",
            "\u001b[0;31mKeyboardInterrupt\u001b[0m: "
          ]
        }
      ]
    },
    {
      "cell_type": "code",
      "metadata": {
        "id": "X_TTjSNumgv-"
      },
      "source": [
        ""
      ],
      "execution_count": null,
      "outputs": []
    }
  ]
}