{
  "nbformat": 4,
  "nbformat_minor": 0,
  "metadata": {
    "colab": {
      "name": "MachineHack~Workation(Optuna-trained LGBM).ipynb",
      "provenance": [],
      "collapsed_sections": []
    },
    "kernelspec": {
      "name": "python3",
      "display_name": "Python 3"
    },
    "language_info": {
      "name": "python"
    }
  },
  "cells": [
    {
      "cell_type": "code",
      "metadata": {
        "colab": {
          "base_uri": "https://localhost:8080/"
        },
        "id": "sarOk6_DlsN8",
        "outputId": "14162eac-04fc-4275-fb20-ef119ae89371"
      },
      "source": [
        "from zipfile import ZipFile\n",
        "file_name = \"/content/drive/MyDrive/machineHack/Workation Price Prediction Challenge/Participant_Data_WPPH.zip\"\n",
        "with ZipFile(file_name,'r') as zip:\n",
        "  zip.extractall()\n",
        "  print('finish')\n"
      ],
      "execution_count": null,
      "outputs": [
        {
          "output_type": "stream",
          "text": [
            "finish\n"
          ],
          "name": "stdout"
        }
      ]
    },
    {
      "cell_type": "code",
      "metadata": {
        "id": "BGwhklOxl0ii"
      },
      "source": [
        "import numpy as np\n",
        "import pandas as pd\n",
        "\n",
        "from sklearn.model_selection import cross_val_score\n",
        "from sklearn.model_selection import KFold\n",
        "from sklearn.preprocessing import MinMaxScaler\n",
        "from sklearn.model_selection import train_test_split\n",
        "import seaborn as sns\n",
        "import matplotlib.pyplot as plt"
      ],
      "execution_count": null,
      "outputs": []
    },
    {
      "cell_type": "code",
      "metadata": {
        "id": "N35jnF0Hl4U6"
      },
      "source": [
        "train=pd.read_csv(\"/content/Participant_Data_WPPH/Train.csv\")\n",
        "test = pd.read_csv('/content/Participant_Data_WPPH/Test.csv')\n",
        "submission = pd.read_csv('/content/Participant_Data_WPPH/sample submission.csv')"
      ],
      "execution_count": null,
      "outputs": []
    },
    {
      "cell_type": "code",
      "metadata": {
        "id": "vaGP2Yxcl9q9"
      },
      "source": [
        "train['Travel Date'] = pd.to_datetime(train['Travel Date'])"
      ],
      "execution_count": null,
      "outputs": []
    },
    {
      "cell_type": "code",
      "metadata": {
        "id": "Y3FH_0ycl-Qd"
      },
      "source": [
        "train['Year']=pd.DatetimeIndex(train['Travel Date']).year\n",
        "train['month']=pd.DatetimeIndex(train['Travel Date']).month\n"
      ],
      "execution_count": null,
      "outputs": []
    },
    {
      "cell_type": "code",
      "metadata": {
        "colab": {
          "base_uri": "https://localhost:8080/",
          "height": 568
        },
        "id": "W3jbpk_En7GT",
        "outputId": "759668ca-8547-497c-9461-6ace75e30f88"
      },
      "source": [
        "train[:5]"
      ],
      "execution_count": null,
      "outputs": [
        {
          "output_type": "execute_result",
          "data": {
            "text/html": [
              "<div>\n",
              "<style scoped>\n",
              "    .dataframe tbody tr th:only-of-type {\n",
              "        vertical-align: middle;\n",
              "    }\n",
              "\n",
              "    .dataframe tbody tr th {\n",
              "        vertical-align: top;\n",
              "    }\n",
              "\n",
              "    .dataframe thead th {\n",
              "        text-align: right;\n",
              "    }\n",
              "</style>\n",
              "<table border=\"1\" class=\"dataframe\">\n",
              "  <thead>\n",
              "    <tr style=\"text-align: right;\">\n",
              "      <th></th>\n",
              "      <th>Uniq Id</th>\n",
              "      <th>Package Name</th>\n",
              "      <th>Package Type</th>\n",
              "      <th>Destination</th>\n",
              "      <th>Itinerary</th>\n",
              "      <th>Places Covered</th>\n",
              "      <th>Travel Date</th>\n",
              "      <th>Hotel Details</th>\n",
              "      <th>Start City</th>\n",
              "      <th>Airline</th>\n",
              "      <th>Flight Stops</th>\n",
              "      <th>Meals</th>\n",
              "      <th>Sightseeing Places Covered</th>\n",
              "      <th>Cancellation Rules</th>\n",
              "      <th>Per Person Price</th>\n",
              "      <th>Year</th>\n",
              "      <th>month</th>\n",
              "    </tr>\n",
              "  </thead>\n",
              "  <tbody>\n",
              "    <tr>\n",
              "      <th>0</th>\n",
              "      <td>e788ab76d9d8cf1e6ed2f139645ca5d1</td>\n",
              "      <td>Best of Shimla and Manali Holiday from Delhi</td>\n",
              "      <td>Standard</td>\n",
              "      <td>New Delhi|Shimla|Manali|Chandigarh</td>\n",
              "      <td>1N New Delhi . 2N Shimla . 2N Manali . 1N Chan...</td>\n",
              "      <td>New Delhi|Shimla|Manali|Chandigarh</td>\n",
              "      <td>2021-07-30</td>\n",
              "      <td>Not Available</td>\n",
              "      <td>Mumbai</td>\n",
              "      <td>Not Available</td>\n",
              "      <td>2</td>\n",
              "      <td>3</td>\n",
              "      <td>Not Available</td>\n",
              "      <td>Not Available</td>\n",
              "      <td>11509.0</td>\n",
              "      <td>2021</td>\n",
              "      <td>7</td>\n",
              "    </tr>\n",
              "    <tr>\n",
              "      <th>1</th>\n",
              "      <td>178f892630ce3e335a5a41d5d83937fd</td>\n",
              "      <td>Kashmir Valley vacation</td>\n",
              "      <td>Premium</td>\n",
              "      <td>Srinagar|Pahalgam|Srinagar</td>\n",
              "      <td>1N Srinagar . 2N Pahalgam . 1N Srinagar</td>\n",
              "      <td>Srinagar|Pahalgam|Srinagar</td>\n",
              "      <td>2021-08-12</td>\n",
              "      <td>The Orchard Retreat &amp; Spa:4.6|WelcomHotel Pine...</td>\n",
              "      <td>New Delhi</td>\n",
              "      <td>IndiGo|IndiGo</td>\n",
              "      <td>0</td>\n",
              "      <td>5</td>\n",
              "      <td>Dal Lake | Avantipura Ruins | Mughal Gardens ...</td>\n",
              "      <td>Cancellation any time after making the 1st pay...</td>\n",
              "      <td>22485.5</td>\n",
              "      <td>2021</td>\n",
              "      <td>8</td>\n",
              "    </tr>\n",
              "    <tr>\n",
              "      <th>2</th>\n",
              "      <td>f060f2954840503cc2fdaf495357b7df</td>\n",
              "      <td>Might of Mewar- Udaipur and Chittorgarh</td>\n",
              "      <td>Luxury</td>\n",
              "      <td>Udaipur|Chittorgarh</td>\n",
              "      <td>2N Udaipur . 1N Chittorgarh</td>\n",
              "      <td>Udaipur|Chittorgarh</td>\n",
              "      <td>2021-04-26</td>\n",
              "      <td>The Ananta:4.4|juSTa Lake Nahargarh Palace:4</td>\n",
              "      <td>New Delhi</td>\n",
              "      <td>IndiGo</td>\n",
              "      <td>0</td>\n",
              "      <td>4</td>\n",
              "      <td>Lake Pichola | Jag Mandir Palace | Saheliyon ...</td>\n",
              "      <td>Cancellation any time after making the 1st pay...</td>\n",
              "      <td>12421.5</td>\n",
              "      <td>2021</td>\n",
              "      <td>4</td>\n",
              "    </tr>\n",
              "    <tr>\n",
              "      <th>3</th>\n",
              "      <td>32a19a6c171e67448f2346da46c619dc</td>\n",
              "      <td>Colorful Kerala ( Romantic Getaway )</td>\n",
              "      <td>Premium</td>\n",
              "      <td>Munnar|Kumarakom|Allepey|Kovalam and Poovar</td>\n",
              "      <td>2N Munnar . 1N Kumarakom . 1N Allepey . 2N Kov...</td>\n",
              "      <td>Munnar|Kumarakom|Allepey|Kovalam and Poovar</td>\n",
              "      <td>2021-08-27</td>\n",
              "      <td>Elixir Hills Suites Resort &amp; Spa-MMT Holidays ...</td>\n",
              "      <td>New Delhi</td>\n",
              "      <td>IndiGo</td>\n",
              "      <td>0</td>\n",
              "      <td>5</td>\n",
              "      <td>Mattupetty Dam | Echo Point | Tata Tea Museum...</td>\n",
              "      <td>Cancellation any time after making the 1st pay...</td>\n",
              "      <td>35967.0</td>\n",
              "      <td>2021</td>\n",
              "      <td>8</td>\n",
              "    </tr>\n",
              "    <tr>\n",
              "      <th>4</th>\n",
              "      <td>107b068aa0ca03bc6248966f594d105f</td>\n",
              "      <td>A Week In Bangkok &amp; Pattaya</td>\n",
              "      <td>Premium</td>\n",
              "      <td>Pattaya|Bangkok</td>\n",
              "      <td>4N Pattaya . 3N Bangkok</td>\n",
              "      <td>Pattaya|Bangkok</td>\n",
              "      <td>2021-12-12</td>\n",
              "      <td>Dusit Thani Pattaya - MMT Special:4.5|Amari Wa...</td>\n",
              "      <td>New Delhi</td>\n",
              "      <td>Spicejet|Go Air</td>\n",
              "      <td>0</td>\n",
              "      <td>5</td>\n",
              "      <td>Coral Island Tour with Indian Lunch, Join Spe...</td>\n",
              "      <td>Cancellation any time after making the 1st pay...</td>\n",
              "      <td>25584.0</td>\n",
              "      <td>2021</td>\n",
              "      <td>12</td>\n",
              "    </tr>\n",
              "  </tbody>\n",
              "</table>\n",
              "</div>"
            ],
            "text/plain": [
              "                            Uniq Id  ... month\n",
              "0  e788ab76d9d8cf1e6ed2f139645ca5d1  ...     7\n",
              "1  178f892630ce3e335a5a41d5d83937fd  ...     8\n",
              "2  f060f2954840503cc2fdaf495357b7df  ...     4\n",
              "3  32a19a6c171e67448f2346da46c619dc  ...     8\n",
              "4  107b068aa0ca03bc6248966f594d105f  ...    12\n",
              "\n",
              "[5 rows x 17 columns]"
            ]
          },
          "metadata": {
            "tags": []
          },
          "execution_count": 25
        }
      ]
    },
    {
      "cell_type": "code",
      "metadata": {
        "id": "uSb3ScTOl_MW"
      },
      "source": [
        "# select numerical and categorical features\n",
        "def divideFeatures(train):\n",
        "    numerical_features = train.select_dtypes(include=[np.number])\n",
        "    categorical_features = train.select_dtypes(include=[np.object])\n",
        "    return numerical_features, categorical_features"
      ],
      "execution_count": null,
      "outputs": []
    },
    {
      "cell_type": "code",
      "metadata": {
        "colab": {
          "base_uri": "https://localhost:8080/",
          "height": 568
        },
        "id": "tCnBw8kwmNUz",
        "outputId": "e4c00094-6e87-4944-9beb-5ab844325fb0"
      },
      "source": [
        "continuous_data, categorical_data = divideFeatures(train)\n",
        "categorical_data[:5]"
      ],
      "execution_count": null,
      "outputs": [
        {
          "output_type": "execute_result",
          "data": {
            "text/html": [
              "<div>\n",
              "<style scoped>\n",
              "    .dataframe tbody tr th:only-of-type {\n",
              "        vertical-align: middle;\n",
              "    }\n",
              "\n",
              "    .dataframe tbody tr th {\n",
              "        vertical-align: top;\n",
              "    }\n",
              "\n",
              "    .dataframe thead th {\n",
              "        text-align: right;\n",
              "    }\n",
              "</style>\n",
              "<table border=\"1\" class=\"dataframe\">\n",
              "  <thead>\n",
              "    <tr style=\"text-align: right;\">\n",
              "      <th></th>\n",
              "      <th>Uniq Id</th>\n",
              "      <th>Package Name</th>\n",
              "      <th>Package Type</th>\n",
              "      <th>Destination</th>\n",
              "      <th>Itinerary</th>\n",
              "      <th>Places Covered</th>\n",
              "      <th>Hotel Details</th>\n",
              "      <th>Start City</th>\n",
              "      <th>Airline</th>\n",
              "      <th>Sightseeing Places Covered</th>\n",
              "      <th>Cancellation Rules</th>\n",
              "    </tr>\n",
              "  </thead>\n",
              "  <tbody>\n",
              "    <tr>\n",
              "      <th>0</th>\n",
              "      <td>e788ab76d9d8cf1e6ed2f139645ca5d1</td>\n",
              "      <td>Best of Shimla and Manali Holiday from Delhi</td>\n",
              "      <td>Standard</td>\n",
              "      <td>New Delhi|Shimla|Manali|Chandigarh</td>\n",
              "      <td>1N New Delhi . 2N Shimla . 2N Manali . 1N Chan...</td>\n",
              "      <td>New Delhi|Shimla|Manali|Chandigarh</td>\n",
              "      <td>Not Available</td>\n",
              "      <td>Mumbai</td>\n",
              "      <td>Not Available</td>\n",
              "      <td>Not Available</td>\n",
              "      <td>Not Available</td>\n",
              "    </tr>\n",
              "    <tr>\n",
              "      <th>1</th>\n",
              "      <td>178f892630ce3e335a5a41d5d83937fd</td>\n",
              "      <td>Kashmir Valley vacation</td>\n",
              "      <td>Premium</td>\n",
              "      <td>Srinagar|Pahalgam|Srinagar</td>\n",
              "      <td>1N Srinagar . 2N Pahalgam . 1N Srinagar</td>\n",
              "      <td>Srinagar|Pahalgam|Srinagar</td>\n",
              "      <td>The Orchard Retreat &amp; Spa:4.6|WelcomHotel Pine...</td>\n",
              "      <td>New Delhi</td>\n",
              "      <td>IndiGo|IndiGo</td>\n",
              "      <td>Dal Lake | Avantipura Ruins | Mughal Gardens ...</td>\n",
              "      <td>Cancellation any time after making the 1st pay...</td>\n",
              "    </tr>\n",
              "    <tr>\n",
              "      <th>2</th>\n",
              "      <td>f060f2954840503cc2fdaf495357b7df</td>\n",
              "      <td>Might of Mewar- Udaipur and Chittorgarh</td>\n",
              "      <td>Luxury</td>\n",
              "      <td>Udaipur|Chittorgarh</td>\n",
              "      <td>2N Udaipur . 1N Chittorgarh</td>\n",
              "      <td>Udaipur|Chittorgarh</td>\n",
              "      <td>The Ananta:4.4|juSTa Lake Nahargarh Palace:4</td>\n",
              "      <td>New Delhi</td>\n",
              "      <td>IndiGo</td>\n",
              "      <td>Lake Pichola | Jag Mandir Palace | Saheliyon ...</td>\n",
              "      <td>Cancellation any time after making the 1st pay...</td>\n",
              "    </tr>\n",
              "    <tr>\n",
              "      <th>3</th>\n",
              "      <td>32a19a6c171e67448f2346da46c619dc</td>\n",
              "      <td>Colorful Kerala ( Romantic Getaway )</td>\n",
              "      <td>Premium</td>\n",
              "      <td>Munnar|Kumarakom|Allepey|Kovalam and Poovar</td>\n",
              "      <td>2N Munnar . 1N Kumarakom . 1N Allepey . 2N Kov...</td>\n",
              "      <td>Munnar|Kumarakom|Allepey|Kovalam and Poovar</td>\n",
              "      <td>Elixir Hills Suites Resort &amp; Spa-MMT Holidays ...</td>\n",
              "      <td>New Delhi</td>\n",
              "      <td>IndiGo</td>\n",
              "      <td>Mattupetty Dam | Echo Point | Tata Tea Museum...</td>\n",
              "      <td>Cancellation any time after making the 1st pay...</td>\n",
              "    </tr>\n",
              "    <tr>\n",
              "      <th>4</th>\n",
              "      <td>107b068aa0ca03bc6248966f594d105f</td>\n",
              "      <td>A Week In Bangkok &amp; Pattaya</td>\n",
              "      <td>Premium</td>\n",
              "      <td>Pattaya|Bangkok</td>\n",
              "      <td>4N Pattaya . 3N Bangkok</td>\n",
              "      <td>Pattaya|Bangkok</td>\n",
              "      <td>Dusit Thani Pattaya - MMT Special:4.5|Amari Wa...</td>\n",
              "      <td>New Delhi</td>\n",
              "      <td>Spicejet|Go Air</td>\n",
              "      <td>Coral Island Tour with Indian Lunch, Join Spe...</td>\n",
              "      <td>Cancellation any time after making the 1st pay...</td>\n",
              "    </tr>\n",
              "  </tbody>\n",
              "</table>\n",
              "</div>"
            ],
            "text/plain": [
              "                            Uniq Id  ...                                 Cancellation Rules\n",
              "0  e788ab76d9d8cf1e6ed2f139645ca5d1  ...                                      Not Available\n",
              "1  178f892630ce3e335a5a41d5d83937fd  ...  Cancellation any time after making the 1st pay...\n",
              "2  f060f2954840503cc2fdaf495357b7df  ...  Cancellation any time after making the 1st pay...\n",
              "3  32a19a6c171e67448f2346da46c619dc  ...  Cancellation any time after making the 1st pay...\n",
              "4  107b068aa0ca03bc6248966f594d105f  ...  Cancellation any time after making the 1st pay...\n",
              "\n",
              "[5 rows x 11 columns]"
            ]
          },
          "metadata": {
            "tags": []
          },
          "execution_count": 27
        }
      ]
    },
    {
      "cell_type": "code",
      "metadata": {
        "colab": {
          "base_uri": "https://localhost:8080/",
          "height": 362
        },
        "id": "n3laNMvGmQQO",
        "outputId": "b1e47a90-a601-4173-8f04-adea69d47fef"
      },
      "source": [
        "df_train = train.drop(columns=['Uniq Id'])\n",
        "print('Shape',df_train.shape)\n",
        "df_train.head(2)"
      ],
      "execution_count": null,
      "outputs": [
        {
          "output_type": "stream",
          "text": [
            "Shape (21000, 16)\n"
          ],
          "name": "stdout"
        },
        {
          "output_type": "execute_result",
          "data": {
            "text/html": [
              "<div>\n",
              "<style scoped>\n",
              "    .dataframe tbody tr th:only-of-type {\n",
              "        vertical-align: middle;\n",
              "    }\n",
              "\n",
              "    .dataframe tbody tr th {\n",
              "        vertical-align: top;\n",
              "    }\n",
              "\n",
              "    .dataframe thead th {\n",
              "        text-align: right;\n",
              "    }\n",
              "</style>\n",
              "<table border=\"1\" class=\"dataframe\">\n",
              "  <thead>\n",
              "    <tr style=\"text-align: right;\">\n",
              "      <th></th>\n",
              "      <th>Package Name</th>\n",
              "      <th>Package Type</th>\n",
              "      <th>Destination</th>\n",
              "      <th>Itinerary</th>\n",
              "      <th>Places Covered</th>\n",
              "      <th>Travel Date</th>\n",
              "      <th>Hotel Details</th>\n",
              "      <th>Start City</th>\n",
              "      <th>Airline</th>\n",
              "      <th>Flight Stops</th>\n",
              "      <th>Meals</th>\n",
              "      <th>Sightseeing Places Covered</th>\n",
              "      <th>Cancellation Rules</th>\n",
              "      <th>Per Person Price</th>\n",
              "      <th>Year</th>\n",
              "      <th>month</th>\n",
              "    </tr>\n",
              "  </thead>\n",
              "  <tbody>\n",
              "    <tr>\n",
              "      <th>0</th>\n",
              "      <td>Best of Shimla and Manali Holiday from Delhi</td>\n",
              "      <td>Standard</td>\n",
              "      <td>New Delhi|Shimla|Manali|Chandigarh</td>\n",
              "      <td>1N New Delhi . 2N Shimla . 2N Manali . 1N Chan...</td>\n",
              "      <td>New Delhi|Shimla|Manali|Chandigarh</td>\n",
              "      <td>2021-07-30</td>\n",
              "      <td>Not Available</td>\n",
              "      <td>Mumbai</td>\n",
              "      <td>Not Available</td>\n",
              "      <td>2</td>\n",
              "      <td>3</td>\n",
              "      <td>Not Available</td>\n",
              "      <td>Not Available</td>\n",
              "      <td>11509.0</td>\n",
              "      <td>2021</td>\n",
              "      <td>7</td>\n",
              "    </tr>\n",
              "    <tr>\n",
              "      <th>1</th>\n",
              "      <td>Kashmir Valley vacation</td>\n",
              "      <td>Premium</td>\n",
              "      <td>Srinagar|Pahalgam|Srinagar</td>\n",
              "      <td>1N Srinagar . 2N Pahalgam . 1N Srinagar</td>\n",
              "      <td>Srinagar|Pahalgam|Srinagar</td>\n",
              "      <td>2021-08-12</td>\n",
              "      <td>The Orchard Retreat &amp; Spa:4.6|WelcomHotel Pine...</td>\n",
              "      <td>New Delhi</td>\n",
              "      <td>IndiGo|IndiGo</td>\n",
              "      <td>0</td>\n",
              "      <td>5</td>\n",
              "      <td>Dal Lake | Avantipura Ruins | Mughal Gardens ...</td>\n",
              "      <td>Cancellation any time after making the 1st pay...</td>\n",
              "      <td>22485.5</td>\n",
              "      <td>2021</td>\n",
              "      <td>8</td>\n",
              "    </tr>\n",
              "  </tbody>\n",
              "</table>\n",
              "</div>"
            ],
            "text/plain": [
              "                                   Package Name Package Type  ...  Year month\n",
              "0  Best of Shimla and Manali Holiday from Delhi     Standard  ...  2021     7\n",
              "1                       Kashmir Valley vacation      Premium  ...  2021     8\n",
              "\n",
              "[2 rows x 16 columns]"
            ]
          },
          "metadata": {
            "tags": []
          },
          "execution_count": 28
        }
      ]
    },
    {
      "cell_type": "code",
      "metadata": {
        "colab": {
          "base_uri": "https://localhost:8080/",
          "height": 568
        },
        "id": "oc480oQJmTc4",
        "outputId": "1d82aa29-56f9-4883-8ece-b9e13b9b291c"
      },
      "source": [
        "continuous_data, categorical_data = divideFeatures(df_train)\n",
        "categorical_data[:5]"
      ],
      "execution_count": null,
      "outputs": [
        {
          "output_type": "execute_result",
          "data": {
            "text/html": [
              "<div>\n",
              "<style scoped>\n",
              "    .dataframe tbody tr th:only-of-type {\n",
              "        vertical-align: middle;\n",
              "    }\n",
              "\n",
              "    .dataframe tbody tr th {\n",
              "        vertical-align: top;\n",
              "    }\n",
              "\n",
              "    .dataframe thead th {\n",
              "        text-align: right;\n",
              "    }\n",
              "</style>\n",
              "<table border=\"1\" class=\"dataframe\">\n",
              "  <thead>\n",
              "    <tr style=\"text-align: right;\">\n",
              "      <th></th>\n",
              "      <th>Package Name</th>\n",
              "      <th>Package Type</th>\n",
              "      <th>Destination</th>\n",
              "      <th>Itinerary</th>\n",
              "      <th>Places Covered</th>\n",
              "      <th>Hotel Details</th>\n",
              "      <th>Start City</th>\n",
              "      <th>Airline</th>\n",
              "      <th>Sightseeing Places Covered</th>\n",
              "      <th>Cancellation Rules</th>\n",
              "    </tr>\n",
              "  </thead>\n",
              "  <tbody>\n",
              "    <tr>\n",
              "      <th>0</th>\n",
              "      <td>Best of Shimla and Manali Holiday from Delhi</td>\n",
              "      <td>Standard</td>\n",
              "      <td>New Delhi|Shimla|Manali|Chandigarh</td>\n",
              "      <td>1N New Delhi . 2N Shimla . 2N Manali . 1N Chan...</td>\n",
              "      <td>New Delhi|Shimla|Manali|Chandigarh</td>\n",
              "      <td>Not Available</td>\n",
              "      <td>Mumbai</td>\n",
              "      <td>Not Available</td>\n",
              "      <td>Not Available</td>\n",
              "      <td>Not Available</td>\n",
              "    </tr>\n",
              "    <tr>\n",
              "      <th>1</th>\n",
              "      <td>Kashmir Valley vacation</td>\n",
              "      <td>Premium</td>\n",
              "      <td>Srinagar|Pahalgam|Srinagar</td>\n",
              "      <td>1N Srinagar . 2N Pahalgam . 1N Srinagar</td>\n",
              "      <td>Srinagar|Pahalgam|Srinagar</td>\n",
              "      <td>The Orchard Retreat &amp; Spa:4.6|WelcomHotel Pine...</td>\n",
              "      <td>New Delhi</td>\n",
              "      <td>IndiGo|IndiGo</td>\n",
              "      <td>Dal Lake | Avantipura Ruins | Mughal Gardens ...</td>\n",
              "      <td>Cancellation any time after making the 1st pay...</td>\n",
              "    </tr>\n",
              "    <tr>\n",
              "      <th>2</th>\n",
              "      <td>Might of Mewar- Udaipur and Chittorgarh</td>\n",
              "      <td>Luxury</td>\n",
              "      <td>Udaipur|Chittorgarh</td>\n",
              "      <td>2N Udaipur . 1N Chittorgarh</td>\n",
              "      <td>Udaipur|Chittorgarh</td>\n",
              "      <td>The Ananta:4.4|juSTa Lake Nahargarh Palace:4</td>\n",
              "      <td>New Delhi</td>\n",
              "      <td>IndiGo</td>\n",
              "      <td>Lake Pichola | Jag Mandir Palace | Saheliyon ...</td>\n",
              "      <td>Cancellation any time after making the 1st pay...</td>\n",
              "    </tr>\n",
              "    <tr>\n",
              "      <th>3</th>\n",
              "      <td>Colorful Kerala ( Romantic Getaway )</td>\n",
              "      <td>Premium</td>\n",
              "      <td>Munnar|Kumarakom|Allepey|Kovalam and Poovar</td>\n",
              "      <td>2N Munnar . 1N Kumarakom . 1N Allepey . 2N Kov...</td>\n",
              "      <td>Munnar|Kumarakom|Allepey|Kovalam and Poovar</td>\n",
              "      <td>Elixir Hills Suites Resort &amp; Spa-MMT Holidays ...</td>\n",
              "      <td>New Delhi</td>\n",
              "      <td>IndiGo</td>\n",
              "      <td>Mattupetty Dam | Echo Point | Tata Tea Museum...</td>\n",
              "      <td>Cancellation any time after making the 1st pay...</td>\n",
              "    </tr>\n",
              "    <tr>\n",
              "      <th>4</th>\n",
              "      <td>A Week In Bangkok &amp; Pattaya</td>\n",
              "      <td>Premium</td>\n",
              "      <td>Pattaya|Bangkok</td>\n",
              "      <td>4N Pattaya . 3N Bangkok</td>\n",
              "      <td>Pattaya|Bangkok</td>\n",
              "      <td>Dusit Thani Pattaya - MMT Special:4.5|Amari Wa...</td>\n",
              "      <td>New Delhi</td>\n",
              "      <td>Spicejet|Go Air</td>\n",
              "      <td>Coral Island Tour with Indian Lunch, Join Spe...</td>\n",
              "      <td>Cancellation any time after making the 1st pay...</td>\n",
              "    </tr>\n",
              "  </tbody>\n",
              "</table>\n",
              "</div>"
            ],
            "text/plain": [
              "                                   Package Name  ...                                 Cancellation Rules\n",
              "0  Best of Shimla and Manali Holiday from Delhi  ...                                      Not Available\n",
              "1                       Kashmir Valley vacation  ...  Cancellation any time after making the 1st pay...\n",
              "2       Might of Mewar- Udaipur and Chittorgarh  ...  Cancellation any time after making the 1st pay...\n",
              "3          Colorful Kerala ( Romantic Getaway )  ...  Cancellation any time after making the 1st pay...\n",
              "4                   A Week In Bangkok & Pattaya  ...  Cancellation any time after making the 1st pay...\n",
              "\n",
              "[5 rows x 10 columns]"
            ]
          },
          "metadata": {
            "tags": []
          },
          "execution_count": 29
        }
      ]
    },
    {
      "cell_type": "code",
      "metadata": {
        "id": "MrbuljKmmWVI"
      },
      "source": [
        "from sklearn.preprocessing import LabelEncoder\n",
        "lb = LabelEncoder()"
      ],
      "execution_count": null,
      "outputs": []
    },
    {
      "cell_type": "code",
      "metadata": {
        "id": "m0bVDwAcnG0h"
      },
      "source": [
        "for col in categorical_data:\n",
        "  df_train[col] = lb.fit_transform(df_train[col])"
      ],
      "execution_count": null,
      "outputs": []
    },
    {
      "cell_type": "code",
      "metadata": {
        "colab": {
          "base_uri": "https://localhost:8080/",
          "height": 257
        },
        "id": "hwz1uyA6nJ4V",
        "outputId": "aa88585c-db9e-43e5-9505-8091b41fb46d"
      },
      "source": [
        "print('Shape:',df_train.shape)\n",
        "df_train.head(3)"
      ],
      "execution_count": null,
      "outputs": [
        {
          "output_type": "stream",
          "text": [
            "Shape: (21000, 16)\n"
          ],
          "name": "stdout"
        },
        {
          "output_type": "execute_result",
          "data": {
            "text/html": [
              "<div>\n",
              "<style scoped>\n",
              "    .dataframe tbody tr th:only-of-type {\n",
              "        vertical-align: middle;\n",
              "    }\n",
              "\n",
              "    .dataframe tbody tr th {\n",
              "        vertical-align: top;\n",
              "    }\n",
              "\n",
              "    .dataframe thead th {\n",
              "        text-align: right;\n",
              "    }\n",
              "</style>\n",
              "<table border=\"1\" class=\"dataframe\">\n",
              "  <thead>\n",
              "    <tr style=\"text-align: right;\">\n",
              "      <th></th>\n",
              "      <th>Package Name</th>\n",
              "      <th>Package Type</th>\n",
              "      <th>Destination</th>\n",
              "      <th>Itinerary</th>\n",
              "      <th>Places Covered</th>\n",
              "      <th>Travel Date</th>\n",
              "      <th>Hotel Details</th>\n",
              "      <th>Start City</th>\n",
              "      <th>Airline</th>\n",
              "      <th>Flight Stops</th>\n",
              "      <th>Meals</th>\n",
              "      <th>Sightseeing Places Covered</th>\n",
              "      <th>Cancellation Rules</th>\n",
              "      <th>Per Person Price</th>\n",
              "      <th>Year</th>\n",
              "      <th>month</th>\n",
              "    </tr>\n",
              "  </thead>\n",
              "  <tbody>\n",
              "    <tr>\n",
              "      <th>0</th>\n",
              "      <td>421</td>\n",
              "      <td>4</td>\n",
              "      <td>417</td>\n",
              "      <td>214</td>\n",
              "      <td>417</td>\n",
              "      <td>2021-07-30</td>\n",
              "      <td>3202</td>\n",
              "      <td>0</td>\n",
              "      <td>211</td>\n",
              "      <td>2</td>\n",
              "      <td>3</td>\n",
              "      <td>1713</td>\n",
              "      <td>5</td>\n",
              "      <td>11509.0</td>\n",
              "      <td>2021</td>\n",
              "      <td>7</td>\n",
              "    </tr>\n",
              "    <tr>\n",
              "      <th>1</th>\n",
              "      <td>1138</td>\n",
              "      <td>3</td>\n",
              "      <td>533</td>\n",
              "      <td>283</td>\n",
              "      <td>533</td>\n",
              "      <td>2021-08-12</td>\n",
              "      <td>5463</td>\n",
              "      <td>1</td>\n",
              "      <td>125</td>\n",
              "      <td>0</td>\n",
              "      <td>5</td>\n",
              "      <td>524</td>\n",
              "      <td>0</td>\n",
              "      <td>22485.5</td>\n",
              "      <td>2021</td>\n",
              "      <td>8</td>\n",
              "    </tr>\n",
              "    <tr>\n",
              "      <th>2</th>\n",
              "      <td>1417</td>\n",
              "      <td>2</td>\n",
              "      <td>549</td>\n",
              "      <td>700</td>\n",
              "      <td>549</td>\n",
              "      <td>2021-04-26</td>\n",
              "      <td>5092</td>\n",
              "      <td>1</td>\n",
              "      <td>114</td>\n",
              "      <td>0</td>\n",
              "      <td>4</td>\n",
              "      <td>1000</td>\n",
              "      <td>0</td>\n",
              "      <td>12421.5</td>\n",
              "      <td>2021</td>\n",
              "      <td>4</td>\n",
              "    </tr>\n",
              "  </tbody>\n",
              "</table>\n",
              "</div>"
            ],
            "text/plain": [
              "   Package Name  Package Type  Destination  ...  Per Person Price  Year month\n",
              "0           421             4          417  ...           11509.0  2021     7\n",
              "1          1138             3          533  ...           22485.5  2021     8\n",
              "2          1417             2          549  ...           12421.5  2021     4\n",
              "\n",
              "[3 rows x 16 columns]"
            ]
          },
          "metadata": {
            "tags": []
          },
          "execution_count": 32
        }
      ]
    },
    {
      "cell_type": "code",
      "metadata": {
        "colab": {
          "base_uri": "https://localhost:8080/",
          "height": 123
        },
        "id": "acbVELiGoM7n",
        "outputId": "8866517e-0e9d-4fa3-e1d3-2bd3fc2b648b"
      },
      "source": [
        "X = df_train.drop(columns=['Per Person Price','Travel Date','month','Package Type','Meals','Destination','Places Covered'])\n",
        "print('Shape:',X.shape)\n",
        "X.head(2)"
      ],
      "execution_count": null,
      "outputs": [
        {
          "output_type": "stream",
          "text": [
            "Shape: (21000, 9)\n"
          ],
          "name": "stdout"
        },
        {
          "output_type": "execute_result",
          "data": {
            "text/html": [
              "<div>\n",
              "<style scoped>\n",
              "    .dataframe tbody tr th:only-of-type {\n",
              "        vertical-align: middle;\n",
              "    }\n",
              "\n",
              "    .dataframe tbody tr th {\n",
              "        vertical-align: top;\n",
              "    }\n",
              "\n",
              "    .dataframe thead th {\n",
              "        text-align: right;\n",
              "    }\n",
              "</style>\n",
              "<table border=\"1\" class=\"dataframe\">\n",
              "  <thead>\n",
              "    <tr style=\"text-align: right;\">\n",
              "      <th></th>\n",
              "      <th>Package Name</th>\n",
              "      <th>Itinerary</th>\n",
              "      <th>Hotel Details</th>\n",
              "      <th>Start City</th>\n",
              "      <th>Airline</th>\n",
              "      <th>Flight Stops</th>\n",
              "      <th>Sightseeing Places Covered</th>\n",
              "      <th>Cancellation Rules</th>\n",
              "      <th>Year</th>\n",
              "    </tr>\n",
              "  </thead>\n",
              "  <tbody>\n",
              "    <tr>\n",
              "      <th>0</th>\n",
              "      <td>421</td>\n",
              "      <td>214</td>\n",
              "      <td>3202</td>\n",
              "      <td>0</td>\n",
              "      <td>211</td>\n",
              "      <td>2</td>\n",
              "      <td>1713</td>\n",
              "      <td>5</td>\n",
              "      <td>2021</td>\n",
              "    </tr>\n",
              "    <tr>\n",
              "      <th>1</th>\n",
              "      <td>1138</td>\n",
              "      <td>283</td>\n",
              "      <td>5463</td>\n",
              "      <td>1</td>\n",
              "      <td>125</td>\n",
              "      <td>0</td>\n",
              "      <td>524</td>\n",
              "      <td>0</td>\n",
              "      <td>2021</td>\n",
              "    </tr>\n",
              "  </tbody>\n",
              "</table>\n",
              "</div>"
            ],
            "text/plain": [
              "   Package Name  Itinerary  ...  Cancellation Rules  Year\n",
              "0           421        214  ...                   5  2021\n",
              "1          1138        283  ...                   0  2021\n",
              "\n",
              "[2 rows x 9 columns]"
            ]
          },
          "metadata": {
            "tags": []
          },
          "execution_count": 33
        }
      ]
    },
    {
      "cell_type": "code",
      "metadata": {
        "id": "m3I9e8dWsTxI"
      },
      "source": [
        "df_train['Per Person Price'] = np.log(df_train['Per Person Price'])"
      ],
      "execution_count": null,
      "outputs": []
    },
    {
      "cell_type": "code",
      "metadata": {
        "id": "5eivxlH5pEVv"
      },
      "source": [
        "y=df_train['Per Person Price']"
      ],
      "execution_count": null,
      "outputs": []
    },
    {
      "cell_type": "code",
      "metadata": {
        "colab": {
          "base_uri": "https://localhost:8080/"
        },
        "id": "9hubxgywsOsE",
        "outputId": "7b96787e-90f4-4871-a11f-e916bdf20bd0"
      },
      "source": [
        "y"
      ],
      "execution_count": null,
      "outputs": [
        {
          "output_type": "execute_result",
          "data": {
            "text/plain": [
              "0         9.350885\n",
              "1        10.020626\n",
              "2         9.427184\n",
              "3        10.490357\n",
              "4        10.149722\n",
              "           ...    \n",
              "20995     9.690820\n",
              "20996    10.427343\n",
              "20997    10.307752\n",
              "20998    10.245143\n",
              "20999     9.663706\n",
              "Name: Per Person Price, Length: 21000, dtype: float64"
            ]
          },
          "metadata": {
            "tags": []
          },
          "execution_count": 69
        }
      ]
    },
    {
      "cell_type": "code",
      "metadata": {
        "colab": {
          "base_uri": "https://localhost:8080/",
          "height": 195
        },
        "id": "buDOCMMBq7q1",
        "outputId": "bb0d7049-b014-4db2-8cf9-f55579900a78"
      },
      "source": [
        "from sklearn.preprocessing import StandardScaler,RobustScaler\n",
        "rs = StandardScaler()\n",
        "for c in X.columns:\n",
        "    X[c] = rs.fit_transform(X[c].values.reshape(-1, 1))\n",
        "X.head()"
      ],
      "execution_count": null,
      "outputs": [
        {
          "output_type": "execute_result",
          "data": {
            "text/html": [
              "<div>\n",
              "<style scoped>\n",
              "    .dataframe tbody tr th:only-of-type {\n",
              "        vertical-align: middle;\n",
              "    }\n",
              "\n",
              "    .dataframe tbody tr th {\n",
              "        vertical-align: top;\n",
              "    }\n",
              "\n",
              "    .dataframe thead th {\n",
              "        text-align: right;\n",
              "    }\n",
              "</style>\n",
              "<table border=\"1\" class=\"dataframe\">\n",
              "  <thead>\n",
              "    <tr style=\"text-align: right;\">\n",
              "      <th></th>\n",
              "      <th>Package Name</th>\n",
              "      <th>Itinerary</th>\n",
              "      <th>Hotel Details</th>\n",
              "      <th>Start City</th>\n",
              "      <th>Airline</th>\n",
              "      <th>Flight Stops</th>\n",
              "      <th>Sightseeing Places Covered</th>\n",
              "      <th>Cancellation Rules</th>\n",
              "      <th>Year</th>\n",
              "    </tr>\n",
              "  </thead>\n",
              "  <tbody>\n",
              "    <tr>\n",
              "      <th>0</th>\n",
              "      <td>-1.002439</td>\n",
              "      <td>-1.095036</td>\n",
              "      <td>0.061264</td>\n",
              "      <td>-1.374691</td>\n",
              "      <td>0.599893</td>\n",
              "      <td>1.353001</td>\n",
              "      <td>1.423497</td>\n",
              "      <td>1.207148</td>\n",
              "      <td>-0.205638</td>\n",
              "    </tr>\n",
              "    <tr>\n",
              "      <th>1</th>\n",
              "      <td>0.125036</td>\n",
              "      <td>-0.840970</td>\n",
              "      <td>1.427552</td>\n",
              "      <td>0.727436</td>\n",
              "      <td>-0.623436</td>\n",
              "      <td>-1.042296</td>\n",
              "      <td>-0.929885</td>\n",
              "      <td>-0.430075</td>\n",
              "      <td>-0.205638</td>\n",
              "    </tr>\n",
              "    <tr>\n",
              "      <th>2</th>\n",
              "      <td>0.563760</td>\n",
              "      <td>0.694473</td>\n",
              "      <td>1.203362</td>\n",
              "      <td>0.727436</td>\n",
              "      <td>-0.779908</td>\n",
              "      <td>-1.042296</td>\n",
              "      <td>0.012260</td>\n",
              "      <td>-0.430075</td>\n",
              "      <td>-0.205638</td>\n",
              "    </tr>\n",
              "    <tr>\n",
              "      <th>3</th>\n",
              "      <td>-0.900227</td>\n",
              "      <td>0.057466</td>\n",
              "      <td>-1.350344</td>\n",
              "      <td>0.727436</td>\n",
              "      <td>-0.779908</td>\n",
              "      <td>-1.042296</td>\n",
              "      <td>0.198313</td>\n",
              "      <td>-0.430075</td>\n",
              "      <td>-0.205638</td>\n",
              "    </tr>\n",
              "    <tr>\n",
              "      <th>4</th>\n",
              "      <td>-1.356249</td>\n",
              "      <td>1.508220</td>\n",
              "      <td>-1.376328</td>\n",
              "      <td>0.727436</td>\n",
              "      <td>0.983962</td>\n",
              "      <td>-1.042296</td>\n",
              "      <td>-1.301992</td>\n",
              "      <td>-0.430075</td>\n",
              "      <td>-0.205638</td>\n",
              "    </tr>\n",
              "  </tbody>\n",
              "</table>\n",
              "</div>"
            ],
            "text/plain": [
              "   Package Name  Itinerary  ...  Cancellation Rules      Year\n",
              "0     -1.002439  -1.095036  ...            1.207148 -0.205638\n",
              "1      0.125036  -0.840970  ...           -0.430075 -0.205638\n",
              "2      0.563760   0.694473  ...           -0.430075 -0.205638\n",
              "3     -0.900227   0.057466  ...           -0.430075 -0.205638\n",
              "4     -1.356249   1.508220  ...           -0.430075 -0.205638\n",
              "\n",
              "[5 rows x 9 columns]"
            ]
          },
          "metadata": {
            "tags": []
          },
          "execution_count": 51
        }
      ]
    },
    {
      "cell_type": "code",
      "metadata": {
        "id": "c3bqahJRpRqj"
      },
      "source": [
        "from sklearn.model_selection import train_test_split\n",
        "X_train,X_test,y_train,y_test=train_test_split(X, y, test_size=0.2,random_state=30)"
      ],
      "execution_count": null,
      "outputs": []
    },
    {
      "cell_type": "code",
      "metadata": {
        "colab": {
          "base_uri": "https://localhost:8080/"
        },
        "id": "nxLJUlu9pxUZ",
        "outputId": "d675f44b-2462-4e62-b040-7068c8a875d7"
      },
      "source": [
        "!pip install optuna"
      ],
      "execution_count": null,
      "outputs": [
        {
          "output_type": "stream",
          "text": [
            "Requirement already satisfied: optuna in /usr/local/lib/python3.7/dist-packages (2.7.0)\n",
            "Requirement already satisfied: cliff in /usr/local/lib/python3.7/dist-packages (from optuna) (3.7.0)\n",
            "Requirement already satisfied: sqlalchemy>=1.1.0 in /usr/local/lib/python3.7/dist-packages (from optuna) (1.4.3)\n",
            "Requirement already satisfied: alembic in /usr/local/lib/python3.7/dist-packages (from optuna) (1.5.8)\n",
            "Requirement already satisfied: scipy!=1.4.0 in /usr/local/lib/python3.7/dist-packages (from optuna) (1.4.1)\n",
            "Requirement already satisfied: cmaes>=0.8.2 in /usr/local/lib/python3.7/dist-packages (from optuna) (0.8.2)\n",
            "Requirement already satisfied: packaging>=20.0 in /usr/local/lib/python3.7/dist-packages (from optuna) (20.9)\n",
            "Requirement already satisfied: colorlog in /usr/local/lib/python3.7/dist-packages (from optuna) (4.8.0)\n",
            "Requirement already satisfied: numpy in /usr/local/lib/python3.7/dist-packages (from optuna) (1.19.5)\n",
            "Requirement already satisfied: tqdm in /usr/local/lib/python3.7/dist-packages (from optuna) (4.41.1)\n",
            "Requirement already satisfied: stevedore>=2.0.1 in /usr/local/lib/python3.7/dist-packages (from cliff->optuna) (3.3.0)\n",
            "Requirement already satisfied: pyparsing>=2.1.0 in /usr/local/lib/python3.7/dist-packages (from cliff->optuna) (2.4.7)\n",
            "Requirement already satisfied: PyYAML>=3.12 in /usr/local/lib/python3.7/dist-packages (from cliff->optuna) (3.13)\n",
            "Requirement already satisfied: cmd2>=1.0.0 in /usr/local/lib/python3.7/dist-packages (from cliff->optuna) (1.5.0)\n",
            "Requirement already satisfied: PrettyTable>=0.7.2 in /usr/local/lib/python3.7/dist-packages (from cliff->optuna) (2.1.0)\n",
            "Requirement already satisfied: pbr!=2.1.0,>=2.0.0 in /usr/local/lib/python3.7/dist-packages (from cliff->optuna) (5.5.1)\n",
            "Requirement already satisfied: importlib-metadata; python_version < \"3.8\" in /usr/local/lib/python3.7/dist-packages (from sqlalchemy>=1.1.0->optuna) (3.8.1)\n",
            "Requirement already satisfied: greenlet!=0.4.17; python_version >= \"3\" in /usr/local/lib/python3.7/dist-packages (from sqlalchemy>=1.1.0->optuna) (1.0.0)\n",
            "Requirement already satisfied: python-editor>=0.3 in /usr/local/lib/python3.7/dist-packages (from alembic->optuna) (1.0.4)\n",
            "Requirement already satisfied: python-dateutil in /usr/local/lib/python3.7/dist-packages (from alembic->optuna) (2.8.1)\n",
            "Requirement already satisfied: Mako in /usr/local/lib/python3.7/dist-packages (from alembic->optuna) (1.1.4)\n",
            "Requirement already satisfied: colorama>=0.3.7 in /usr/local/lib/python3.7/dist-packages (from cmd2>=1.0.0->cliff->optuna) (0.4.4)\n",
            "Requirement already satisfied: pyperclip>=1.6 in /usr/local/lib/python3.7/dist-packages (from cmd2>=1.0.0->cliff->optuna) (1.8.2)\n",
            "Requirement already satisfied: wcwidth>=0.1.7 in /usr/local/lib/python3.7/dist-packages (from cmd2>=1.0.0->cliff->optuna) (0.2.5)\n",
            "Requirement already satisfied: attrs>=16.3.0 in /usr/local/lib/python3.7/dist-packages (from cmd2>=1.0.0->cliff->optuna) (20.3.0)\n",
            "Requirement already satisfied: typing-extensions>=3.6.4; python_version < \"3.8\" in /usr/local/lib/python3.7/dist-packages (from importlib-metadata; python_version < \"3.8\"->sqlalchemy>=1.1.0->optuna) (3.7.4.3)\n",
            "Requirement already satisfied: zipp>=0.5 in /usr/local/lib/python3.7/dist-packages (from importlib-metadata; python_version < \"3.8\"->sqlalchemy>=1.1.0->optuna) (3.4.1)\n",
            "Requirement already satisfied: six>=1.5 in /usr/local/lib/python3.7/dist-packages (from python-dateutil->alembic->optuna) (1.15.0)\n",
            "Requirement already satisfied: MarkupSafe>=0.9.2 in /usr/local/lib/python3.7/dist-packages (from Mako->alembic->optuna) (1.1.1)\n"
          ],
          "name": "stdout"
        }
      ]
    },
    {
      "cell_type": "code",
      "metadata": {
        "id": "peS0cQ1wpXUE"
      },
      "source": [
        "import optuna\n",
        "from math import sqrt\n",
        "import lightgbm as lgb\n",
        "from sklearn.metrics import mean_squared_log_error"
      ],
      "execution_count": null,
      "outputs": []
    },
    {
      "cell_type": "code",
      "metadata": {
        "id": "gCfaRZ0vpbPA"
      },
      "source": [
        "lgb_train = lgb.Dataset(X_train, y_train)\n",
        "lgb_valid = lgb.Dataset(X_test, y_test, reference=lgb_train)"
      ],
      "execution_count": null,
      "outputs": []
    },
    {
      "cell_type": "code",
      "metadata": {
        "id": "8y8HpIkmp3aB"
      },
      "source": [
        "def objective(trial):    \n",
        "    params = {\n",
        "            'num_leaves': trial.suggest_int('num_leaves', 22, 712),\n",
        "            'max_bin': trial.suggest_int('max_bin', 300, 1400),\n",
        "            'objective': 'regression',\n",
        "            'metric': 'RMSE',\n",
        "            'learning_rate': trial.suggest_float('learning_rate',0.005,0.2),\n",
        "            'random_state' : 33,\n",
        "            'max_depth': trial.suggest_int('max_depth', 4, 16),\n",
        "            'min_child_weight': trial.suggest_int('min_child_weight', 1, 21),\n",
        "            'feature_fraction': trial.suggest_uniform('feature_fraction', 0.4, 1.0),\n",
        "            'bagging_fraction': trial.suggest_uniform('bagging_fraction', 0.4, 1.0),\n",
        "            'bagging_freq': trial.suggest_int('bagging_freq', 1, 9),\n",
        "            'min_child_samples': trial.suggest_int('min_child_samples', 3, 100),\n",
        "            'lambda_l1': trial.suggest_loguniform('lambda_l1', 1e-8, 1.0),\n",
        "            'lambda_l2': trial.suggest_loguniform('lambda_l2', 1e-8, 1.0),\n",
        "            'early_stopping_rounds': 10\n",
        "            }\n",
        "    \n",
        "    model = lgb.train(params, lgb_train, valid_sets=[lgb_valid], verbose_eval=100, num_boost_round=800)\n",
        "    y_pred  = model.predict(X_test)\n",
        "    score = np.sqrt(mean_squared_log_error(y_test, y_pred))\n",
        "    print(f\"RMSE = {score}\")\n",
        "    return score"
      ],
      "execution_count": null,
      "outputs": []
    },
    {
      "cell_type": "code",
      "metadata": {
        "colab": {
          "base_uri": "https://localhost:8080/"
        },
        "id": "BBCX0NTpqDbB",
        "outputId": "c45a6560-e866-4483-e193-dfc02b1e8de3"
      },
      "source": [
        "study = optuna.create_study(direction = 'minimize')\n",
        "study.optimize(objective, n_trials = 50)"
      ],
      "execution_count": null,
      "outputs": [
        {
          "output_type": "stream",
          "text": [
            "\u001b[32m[I 2021-04-08 18:14:50,261]\u001b[0m A new study created in memory with name: no-name-4bffd2ab-0cf9-4a67-9c29-93619d368f6b\u001b[0m\n",
            "/usr/local/lib/python3.7/dist-packages/lightgbm/engine.py:123: UserWarning:\n",
            "\n",
            "Found `early_stopping_rounds` in params. Will use it instead of argument\n",
            "\n"
          ],
          "name": "stderr"
        },
        {
          "output_type": "stream",
          "text": [
            "Training until validation scores don't improve for 10 rounds.\n",
            "[100]\tvalid_0's rmse: 0.273733\n",
            "[200]\tvalid_0's rmse: 0.250601\n",
            "[300]\tvalid_0's rmse: 0.238523\n",
            "[400]\tvalid_0's rmse: 0.230386\n",
            "[500]\tvalid_0's rmse: 0.225057\n",
            "[600]\tvalid_0's rmse: 0.220761\n",
            "[700]\tvalid_0's rmse: 0.217141\n",
            "[800]\tvalid_0's rmse: 0.214122\n",
            "Did not meet early stopping. Best iteration is:\n",
            "[800]\tvalid_0's rmse: 0.214122\n"
          ],
          "name": "stdout"
        },
        {
          "output_type": "stream",
          "text": [
            "\u001b[32m[I 2021-04-08 18:14:53,697]\u001b[0m Trial 0 finished with value: 0.019824811444297083 and parameters: {'num_leaves': 609, 'max_bin': 1191, 'learning_rate': 0.1706551003549254, 'max_depth': 5, 'min_child_weight': 7, 'feature_fraction': 0.7704519771250012, 'bagging_fraction': 0.9662504747685563, 'bagging_freq': 3, 'min_child_samples': 81, 'lambda_l1': 0.001501684762881629, 'lambda_l2': 6.587557895433719e-07}. Best is trial 0 with value: 0.019824811444297083.\u001b[0m\n"
          ],
          "name": "stderr"
        },
        {
          "output_type": "stream",
          "text": [
            "RMSE = 0.019824811444297083\n",
            "Training until validation scores don't improve for 10 rounds.\n"
          ],
          "name": "stdout"
        },
        {
          "output_type": "stream",
          "text": [
            "/usr/local/lib/python3.7/dist-packages/lightgbm/engine.py:123: UserWarning:\n",
            "\n",
            "Found `early_stopping_rounds` in params. Will use it instead of argument\n",
            "\n"
          ],
          "name": "stderr"
        },
        {
          "output_type": "stream",
          "text": [
            "[100]\tvalid_0's rmse: 0.379522\n",
            "[200]\tvalid_0's rmse: 0.324429\n",
            "[300]\tvalid_0's rmse: 0.300252\n",
            "[400]\tvalid_0's rmse: 0.286742\n",
            "[500]\tvalid_0's rmse: 0.278229\n",
            "[600]\tvalid_0's rmse: 0.271113\n",
            "[700]\tvalid_0's rmse: 0.265077\n",
            "[800]\tvalid_0's rmse: 0.260388\n",
            "Did not meet early stopping. Best iteration is:\n",
            "[800]\tvalid_0's rmse: 0.260388\n"
          ],
          "name": "stdout"
        },
        {
          "output_type": "stream",
          "text": [
            "\u001b[32m[I 2021-04-08 18:14:56,938]\u001b[0m Trial 1 finished with value: 0.024161235582262786 and parameters: {'num_leaves': 39, 'max_bin': 576, 'learning_rate': 0.01522288772134225, 'max_depth': 7, 'min_child_weight': 15, 'feature_fraction': 0.5368246187332779, 'bagging_fraction': 0.8507001620542597, 'bagging_freq': 1, 'min_child_samples': 57, 'lambda_l1': 4.0028183773865825e-05, 'lambda_l2': 6.364661932463171e-07}. Best is trial 0 with value: 0.019824811444297083.\u001b[0m\n"
          ],
          "name": "stderr"
        },
        {
          "output_type": "stream",
          "text": [
            "RMSE = 0.024161235582262786\n",
            "Training until validation scores don't improve for 10 rounds.\n"
          ],
          "name": "stdout"
        },
        {
          "output_type": "stream",
          "text": [
            "/usr/local/lib/python3.7/dist-packages/lightgbm/engine.py:123: UserWarning:\n",
            "\n",
            "Found `early_stopping_rounds` in params. Will use it instead of argument\n",
            "\n"
          ],
          "name": "stderr"
        },
        {
          "output_type": "stream",
          "text": [
            "[100]\tvalid_0's rmse: 0.267526\n",
            "[200]\tvalid_0's rmse: 0.23814\n",
            "[300]\tvalid_0's rmse: 0.224748\n",
            "[400]\tvalid_0's rmse: 0.215614\n",
            "[500]\tvalid_0's rmse: 0.210069\n",
            "[600]\tvalid_0's rmse: 0.205486\n",
            "[700]\tvalid_0's rmse: 0.202291\n",
            "[800]\tvalid_0's rmse: 0.19981\n",
            "Did not meet early stopping. Best iteration is:\n",
            "[800]\tvalid_0's rmse: 0.19981\n"
          ],
          "name": "stdout"
        },
        {
          "output_type": "stream",
          "text": [
            "\u001b[32m[I 2021-04-08 18:15:02,388]\u001b[0m Trial 2 finished with value: 0.018486876220854605 and parameters: {'num_leaves': 296, 'max_bin': 1029, 'learning_rate': 0.09789090524205035, 'max_depth': 6, 'min_child_weight': 21, 'feature_fraction': 0.9173199064311877, 'bagging_fraction': 0.9568358675804206, 'bagging_freq': 8, 'min_child_samples': 14, 'lambda_l1': 0.4590548300822361, 'lambda_l2': 4.057027402967878e-05}. Best is trial 2 with value: 0.018486876220854605.\u001b[0m\n"
          ],
          "name": "stderr"
        },
        {
          "output_type": "stream",
          "text": [
            "RMSE = 0.018486876220854605\n",
            "Training until validation scores don't improve for 10 rounds.\n"
          ],
          "name": "stdout"
        },
        {
          "output_type": "stream",
          "text": [
            "/usr/local/lib/python3.7/dist-packages/lightgbm/engine.py:123: UserWarning:\n",
            "\n",
            "Found `early_stopping_rounds` in params. Will use it instead of argument\n",
            "\n"
          ],
          "name": "stderr"
        },
        {
          "output_type": "stream",
          "text": [
            "[100]\tvalid_0's rmse: 0.264242\n",
            "[200]\tvalid_0's rmse: 0.236451\n",
            "[300]\tvalid_0's rmse: 0.224072\n",
            "[400]\tvalid_0's rmse: 0.216033\n",
            "[500]\tvalid_0's rmse: 0.210647\n",
            "[600]\tvalid_0's rmse: 0.206612\n",
            "[700]\tvalid_0's rmse: 0.203826\n",
            "[800]\tvalid_0's rmse: 0.201956\n",
            "Did not meet early stopping. Best iteration is:\n",
            "[800]\tvalid_0's rmse: 0.201956\n"
          ],
          "name": "stdout"
        },
        {
          "output_type": "stream",
          "text": [
            "\u001b[32m[I 2021-04-08 18:15:11,863]\u001b[0m Trial 3 finished with value: 0.018674267719637833 and parameters: {'num_leaves': 137, 'max_bin': 969, 'learning_rate': 0.0838821465994075, 'max_depth': 14, 'min_child_weight': 15, 'feature_fraction': 0.9920348284363207, 'bagging_fraction': 0.709334746396292, 'bagging_freq': 3, 'min_child_samples': 98, 'lambda_l1': 7.269983135109203e-06, 'lambda_l2': 4.7572251592649685e-08}. Best is trial 2 with value: 0.018486876220854605.\u001b[0m\n"
          ],
          "name": "stderr"
        },
        {
          "output_type": "stream",
          "text": [
            "RMSE = 0.018674267719637833\n",
            "Training until validation scores don't improve for 10 rounds.\n"
          ],
          "name": "stdout"
        },
        {
          "output_type": "stream",
          "text": [
            "/usr/local/lib/python3.7/dist-packages/lightgbm/engine.py:123: UserWarning:\n",
            "\n",
            "Found `early_stopping_rounds` in params. Will use it instead of argument\n",
            "\n"
          ],
          "name": "stderr"
        },
        {
          "output_type": "stream",
          "text": [
            "[100]\tvalid_0's rmse: 0.31241\n",
            "[200]\tvalid_0's rmse: 0.29238\n",
            "[300]\tvalid_0's rmse: 0.279114\n",
            "[400]\tvalid_0's rmse: 0.268713\n",
            "[500]\tvalid_0's rmse: 0.262749\n",
            "[600]\tvalid_0's rmse: 0.256182\n",
            "[700]\tvalid_0's rmse: 0.251052\n"
          ],
          "name": "stdout"
        },
        {
          "output_type": "stream",
          "text": [
            "\u001b[32m[I 2021-04-08 18:15:14,034]\u001b[0m Trial 4 finished with value: 0.022834824443739344 and parameters: {'num_leaves': 153, 'max_bin': 958, 'learning_rate': 0.12792987848766302, 'max_depth': 4, 'min_child_weight': 4, 'feature_fraction': 0.55710585244537, 'bagging_fraction': 0.4261099553450634, 'bagging_freq': 9, 'min_child_samples': 85, 'lambda_l1': 1.0125136614182608e-06, 'lambda_l2': 0.0002548401295109415}. Best is trial 2 with value: 0.018486876220854605.\u001b[0m\n"
          ],
          "name": "stderr"
        },
        {
          "output_type": "stream",
          "text": [
            "[800]\tvalid_0's rmse: 0.245965\n",
            "Did not meet early stopping. Best iteration is:\n",
            "[800]\tvalid_0's rmse: 0.245965\n",
            "RMSE = 0.022834824443739344\n",
            "Training until validation scores don't improve for 10 rounds.\n"
          ],
          "name": "stdout"
        },
        {
          "output_type": "stream",
          "text": [
            "/usr/local/lib/python3.7/dist-packages/lightgbm/engine.py:123: UserWarning:\n",
            "\n",
            "Found `early_stopping_rounds` in params. Will use it instead of argument\n",
            "\n"
          ],
          "name": "stderr"
        },
        {
          "output_type": "stream",
          "text": [
            "[100]\tvalid_0's rmse: 0.283313\n",
            "[200]\tvalid_0's rmse: 0.260636\n",
            "[300]\tvalid_0's rmse: 0.248163\n",
            "[400]\tvalid_0's rmse: 0.239495\n",
            "[500]\tvalid_0's rmse: 0.23293\n",
            "[600]\tvalid_0's rmse: 0.226952\n",
            "[700]\tvalid_0's rmse: 0.222414\n",
            "[800]\tvalid_0's rmse: 0.218953\n",
            "Did not meet early stopping. Best iteration is:\n",
            "[798]\tvalid_0's rmse: 0.218897\n"
          ],
          "name": "stdout"
        },
        {
          "output_type": "stream",
          "text": [
            "\u001b[32m[I 2021-04-08 18:15:18,612]\u001b[0m Trial 5 finished with value: 0.02027398097937568 and parameters: {'num_leaves': 341, 'max_bin': 410, 'learning_rate': 0.10639194435643046, 'max_depth': 7, 'min_child_weight': 1, 'feature_fraction': 0.982118385846405, 'bagging_fraction': 0.4092289412598779, 'bagging_freq': 9, 'min_child_samples': 72, 'lambda_l1': 0.005484164848502028, 'lambda_l2': 2.7354593312797104e-07}. Best is trial 2 with value: 0.018486876220854605.\u001b[0m\n"
          ],
          "name": "stderr"
        },
        {
          "output_type": "stream",
          "text": [
            "RMSE = 0.02027398097937568\n",
            "Training until validation scores don't improve for 10 rounds.\n"
          ],
          "name": "stdout"
        },
        {
          "output_type": "stream",
          "text": [
            "/usr/local/lib/python3.7/dist-packages/lightgbm/engine.py:123: UserWarning:\n",
            "\n",
            "Found `early_stopping_rounds` in params. Will use it instead of argument\n",
            "\n"
          ],
          "name": "stderr"
        },
        {
          "output_type": "stream",
          "text": [
            "[100]\tvalid_0's rmse: 0.209107\n",
            "Early stopping, best iteration is:\n",
            "[171]\tvalid_0's rmse: 0.201292\n"
          ],
          "name": "stdout"
        },
        {
          "output_type": "stream",
          "text": [
            "\u001b[32m[I 2021-04-08 18:15:21,341]\u001b[0m Trial 6 finished with value: 0.01860949855574716 and parameters: {'num_leaves': 229, 'max_bin': 385, 'learning_rate': 0.19899610276365154, 'max_depth': 13, 'min_child_weight': 9, 'feature_fraction': 0.6613764563128931, 'bagging_fraction': 0.4013725578426053, 'bagging_freq': 1, 'min_child_samples': 15, 'lambda_l1': 0.09989323181010107, 'lambda_l2': 0.5269999853094569}. Best is trial 2 with value: 0.018486876220854605.\u001b[0m\n"
          ],
          "name": "stderr"
        },
        {
          "output_type": "stream",
          "text": [
            "RMSE = 0.01860949855574716\n",
            "Training until validation scores don't improve for 10 rounds.\n"
          ],
          "name": "stdout"
        },
        {
          "output_type": "stream",
          "text": [
            "/usr/local/lib/python3.7/dist-packages/lightgbm/engine.py:123: UserWarning:\n",
            "\n",
            "Found `early_stopping_rounds` in params. Will use it instead of argument\n",
            "\n"
          ],
          "name": "stderr"
        },
        {
          "output_type": "stream",
          "text": [
            "[100]\tvalid_0's rmse: 0.281148\n",
            "[200]\tvalid_0's rmse: 0.258604\n",
            "[300]\tvalid_0's rmse: 0.246011\n",
            "[400]\tvalid_0's rmse: 0.236507\n",
            "[500]\tvalid_0's rmse: 0.229829\n",
            "[600]\tvalid_0's rmse: 0.22488\n",
            "[700]\tvalid_0's rmse: 0.219874\n",
            "[800]\tvalid_0's rmse: 0.216567\n",
            "Did not meet early stopping. Best iteration is:\n",
            "[800]\tvalid_0's rmse: 0.216567\n"
          ],
          "name": "stdout"
        },
        {
          "output_type": "stream",
          "text": [
            "\u001b[32m[I 2021-04-08 18:15:24,953]\u001b[0m Trial 7 finished with value: 0.020052951912157828 and parameters: {'num_leaves': 388, 'max_bin': 1357, 'learning_rate': 0.13031496966390294, 'max_depth': 6, 'min_child_weight': 15, 'feature_fraction': 0.7153954076774105, 'bagging_fraction': 0.5631297126639792, 'bagging_freq': 8, 'min_child_samples': 85, 'lambda_l1': 0.03571005010701106, 'lambda_l2': 3.69049466634199e-07}. Best is trial 2 with value: 0.018486876220854605.\u001b[0m\n"
          ],
          "name": "stderr"
        },
        {
          "output_type": "stream",
          "text": [
            "RMSE = 0.020052951912157828\n",
            "Training until validation scores don't improve for 10 rounds.\n"
          ],
          "name": "stdout"
        },
        {
          "output_type": "stream",
          "text": [
            "/usr/local/lib/python3.7/dist-packages/lightgbm/engine.py:123: UserWarning:\n",
            "\n",
            "Found `early_stopping_rounds` in params. Will use it instead of argument\n",
            "\n"
          ],
          "name": "stderr"
        },
        {
          "output_type": "stream",
          "text": [
            "[100]\tvalid_0's rmse: 0.290529\n",
            "[200]\tvalid_0's rmse: 0.264929\n",
            "[300]\tvalid_0's rmse: 0.250004\n",
            "[400]\tvalid_0's rmse: 0.240938\n",
            "[500]\tvalid_0's rmse: 0.234742\n",
            "[600]\tvalid_0's rmse: 0.229014\n",
            "[700]\tvalid_0's rmse: 0.225287\n",
            "[800]\tvalid_0's rmse: 0.222042\n",
            "Did not meet early stopping. Best iteration is:\n",
            "[800]\tvalid_0's rmse: 0.222042\n"
          ],
          "name": "stdout"
        },
        {
          "output_type": "stream",
          "text": [
            "\u001b[32m[I 2021-04-08 18:15:29,327]\u001b[0m Trial 8 finished with value: 0.020570923167524194 and parameters: {'num_leaves': 640, 'max_bin': 336, 'learning_rate': 0.06563868458068234, 'max_depth': 7, 'min_child_weight': 18, 'feature_fraction': 0.675553050536907, 'bagging_fraction': 0.8143858331276864, 'bagging_freq': 5, 'min_child_samples': 91, 'lambda_l1': 1.1189857525339796e-07, 'lambda_l2': 1.5016252531833157e-07}. Best is trial 2 with value: 0.018486876220854605.\u001b[0m\n"
          ],
          "name": "stderr"
        },
        {
          "output_type": "stream",
          "text": [
            "RMSE = 0.020570923167524194\n",
            "Training until validation scores don't improve for 10 rounds.\n"
          ],
          "name": "stdout"
        },
        {
          "output_type": "stream",
          "text": [
            "/usr/local/lib/python3.7/dist-packages/lightgbm/engine.py:123: UserWarning:\n",
            "\n",
            "Found `early_stopping_rounds` in params. Will use it instead of argument\n",
            "\n"
          ],
          "name": "stderr"
        },
        {
          "output_type": "stream",
          "text": [
            "[100]\tvalid_0's rmse: 0.31267\n",
            "[200]\tvalid_0's rmse: 0.281435\n",
            "[300]\tvalid_0's rmse: 0.263622\n",
            "[400]\tvalid_0's rmse: 0.252989\n",
            "[500]\tvalid_0's rmse: 0.244209\n",
            "[600]\tvalid_0's rmse: 0.237542\n",
            "[700]\tvalid_0's rmse: 0.232904\n",
            "[800]\tvalid_0's rmse: 0.228801\n",
            "Did not meet early stopping. Best iteration is:\n",
            "[800]\tvalid_0's rmse: 0.228801\n"
          ],
          "name": "stdout"
        },
        {
          "output_type": "stream",
          "text": [
            "\u001b[32m[I 2021-04-08 18:15:35,629]\u001b[0m Trial 9 finished with value: 0.02119792561947936 and parameters: {'num_leaves': 100, 'max_bin': 1076, 'learning_rate': 0.036755046457764944, 'max_depth': 9, 'min_child_weight': 7, 'feature_fraction': 0.9507682903809178, 'bagging_fraction': 0.4714604032538181, 'bagging_freq': 3, 'min_child_samples': 72, 'lambda_l1': 0.1849574431728579, 'lambda_l2': 0.014392574142052991}. Best is trial 2 with value: 0.018486876220854605.\u001b[0m\n"
          ],
          "name": "stderr"
        },
        {
          "output_type": "stream",
          "text": [
            "RMSE = 0.02119792561947936\n",
            "Training until validation scores don't improve for 10 rounds.\n"
          ],
          "name": "stdout"
        },
        {
          "output_type": "stream",
          "text": [
            "/usr/local/lib/python3.7/dist-packages/lightgbm/engine.py:123: UserWarning:\n",
            "\n",
            "Found `early_stopping_rounds` in params. Will use it instead of argument\n",
            "\n"
          ],
          "name": "stderr"
        },
        {
          "output_type": "stream",
          "text": [
            "[100]\tvalid_0's rmse: 0.212324\n",
            "[200]\tvalid_0's rmse: 0.200939\n",
            "[300]\tvalid_0's rmse: 0.197299\n",
            "[400]\tvalid_0's rmse: 0.195701\n",
            "Early stopping, best iteration is:\n",
            "[413]\tvalid_0's rmse: 0.195559\n"
          ],
          "name": "stdout"
        },
        {
          "output_type": "stream",
          "text": [
            "\u001b[32m[I 2021-04-08 18:15:43,127]\u001b[0m Trial 10 finished with value: 0.018071078112693855 and parameters: {'num_leaves': 486, 'max_bin': 703, 'learning_rate': 0.16256494629586396, 'max_depth': 11, 'min_child_weight': 20, 'feature_fraction': 0.8584293704736086, 'bagging_fraction': 0.9870312627550502, 'bagging_freq': 7, 'min_child_samples': 4, 'lambda_l1': 0.7864953168712686, 'lambda_l2': 7.840227404594021e-05}. Best is trial 10 with value: 0.018071078112693855.\u001b[0m\n"
          ],
          "name": "stderr"
        },
        {
          "output_type": "stream",
          "text": [
            "RMSE = 0.018071078112693855\n",
            "Training until validation scores don't improve for 10 rounds.\n"
          ],
          "name": "stdout"
        },
        {
          "output_type": "stream",
          "text": [
            "/usr/local/lib/python3.7/dist-packages/lightgbm/engine.py:123: UserWarning:\n",
            "\n",
            "Found `early_stopping_rounds` in params. Will use it instead of argument\n",
            "\n"
          ],
          "name": "stderr"
        },
        {
          "output_type": "stream",
          "text": [
            "[100]\tvalid_0's rmse: 0.211125\n",
            "[200]\tvalid_0's rmse: 0.199982\n",
            "[300]\tvalid_0's rmse: 0.196535\n",
            "[400]\tvalid_0's rmse: 0.1949\n",
            "Early stopping, best iteration is:\n",
            "[475]\tvalid_0's rmse: 0.19438\n"
          ],
          "name": "stdout"
        },
        {
          "output_type": "stream",
          "text": [
            "\u001b[32m[I 2021-04-08 18:15:51,443]\u001b[0m Trial 11 finished with value: 0.0179712764947115 and parameters: {'num_leaves': 498, 'max_bin': 707, 'learning_rate': 0.1624482670983321, 'max_depth': 11, 'min_child_weight': 21, 'feature_fraction': 0.8490322483780064, 'bagging_fraction': 0.9913422901161565, 'bagging_freq': 7, 'min_child_samples': 6, 'lambda_l1': 0.9608383487317183, 'lambda_l2': 9.014775106890857e-05}. Best is trial 11 with value: 0.0179712764947115.\u001b[0m\n"
          ],
          "name": "stderr"
        },
        {
          "output_type": "stream",
          "text": [
            "RMSE = 0.0179712764947115\n",
            "Training until validation scores don't improve for 10 rounds.\n"
          ],
          "name": "stdout"
        },
        {
          "output_type": "stream",
          "text": [
            "/usr/local/lib/python3.7/dist-packages/lightgbm/engine.py:123: UserWarning:\n",
            "\n",
            "Found `early_stopping_rounds` in params. Will use it instead of argument\n",
            "\n"
          ],
          "name": "stderr"
        },
        {
          "output_type": "stream",
          "text": [
            "[100]\tvalid_0's rmse: 0.212328\n",
            "[200]\tvalid_0's rmse: 0.203474\n",
            "[300]\tvalid_0's rmse: 0.19921\n",
            "[400]\tvalid_0's rmse: 0.19718\n",
            "Early stopping, best iteration is:\n",
            "[442]\tvalid_0's rmse: 0.196823\n"
          ],
          "name": "stdout"
        },
        {
          "output_type": "stream",
          "text": [
            "\u001b[32m[I 2021-04-08 18:15:58,097]\u001b[0m Trial 12 finished with value: 0.018184413085668233 and parameters: {'num_leaves': 508, 'max_bin': 696, 'learning_rate': 0.16902644690888033, 'max_depth': 11, 'min_child_weight': 21, 'feature_fraction': 0.8230531839558684, 'bagging_fraction': 0.990648190151451, 'bagging_freq': 6, 'min_child_samples': 3, 'lambda_l1': 0.0008561748765816785, 'lambda_l2': 0.00010166226314956867}. Best is trial 11 with value: 0.0179712764947115.\u001b[0m\n"
          ],
          "name": "stderr"
        },
        {
          "output_type": "stream",
          "text": [
            "RMSE = 0.018184413085668233\n",
            "Training until validation scores don't improve for 10 rounds.\n"
          ],
          "name": "stdout"
        },
        {
          "output_type": "stream",
          "text": [
            "/usr/local/lib/python3.7/dist-packages/lightgbm/engine.py:123: UserWarning:\n",
            "\n",
            "Found `early_stopping_rounds` in params. Will use it instead of argument\n",
            "\n"
          ],
          "name": "stderr"
        },
        {
          "output_type": "stream",
          "text": [
            "[100]\tvalid_0's rmse: 0.207541\n",
            "[200]\tvalid_0's rmse: 0.200813\n",
            "Early stopping, best iteration is:\n",
            "[273]\tvalid_0's rmse: 0.199143\n"
          ],
          "name": "stdout"
        },
        {
          "output_type": "stream",
          "text": [
            "\u001b[32m[I 2021-04-08 18:16:04,252]\u001b[0m Trial 13 finished with value: 0.018422095957246875 and parameters: {'num_leaves': 496, 'max_bin': 766, 'learning_rate': 0.19857057230836925, 'max_depth': 16, 'min_child_weight': 19, 'feature_fraction': 0.8392703633496289, 'bagging_fraction': 0.8750536050720702, 'bagging_freq': 7, 'min_child_samples': 31, 'lambda_l1': 0.7485854111540113, 'lambda_l2': 0.002681775964325941}. Best is trial 11 with value: 0.0179712764947115.\u001b[0m\n"
          ],
          "name": "stderr"
        },
        {
          "output_type": "stream",
          "text": [
            "RMSE = 0.018422095957246875\n",
            "Training until validation scores don't improve for 10 rounds.\n"
          ],
          "name": "stdout"
        },
        {
          "output_type": "stream",
          "text": [
            "/usr/local/lib/python3.7/dist-packages/lightgbm/engine.py:123: UserWarning:\n",
            "\n",
            "Found `early_stopping_rounds` in params. Will use it instead of argument\n",
            "\n"
          ],
          "name": "stderr"
        },
        {
          "output_type": "stream",
          "text": [
            "[100]\tvalid_0's rmse: 0.221234\n",
            "[200]\tvalid_0's rmse: 0.204943\n",
            "[300]\tvalid_0's rmse: 0.200401\n",
            "Early stopping, best iteration is:\n",
            "[373]\tvalid_0's rmse: 0.198324\n"
          ],
          "name": "stdout"
        },
        {
          "output_type": "stream",
          "text": [
            "\u001b[32m[I 2021-04-08 18:16:09,793]\u001b[0m Trial 14 finished with value: 0.018338722693320642 and parameters: {'num_leaves': 465, 'max_bin': 556, 'learning_rate': 0.15361322274816933, 'max_depth': 11, 'min_child_weight': 18, 'feature_fraction': 0.8612847349518756, 'bagging_fraction': 0.7427477603420478, 'bagging_freq': 6, 'min_child_samples': 35, 'lambda_l1': 0.8635638916229399, 'lambda_l2': 4.636219273383911e-06}. Best is trial 11 with value: 0.0179712764947115.\u001b[0m\n"
          ],
          "name": "stderr"
        },
        {
          "output_type": "stream",
          "text": [
            "RMSE = 0.018338722693320642\n",
            "Training until validation scores don't improve for 10 rounds.\n"
          ],
          "name": "stdout"
        },
        {
          "output_type": "stream",
          "text": [
            "/usr/local/lib/python3.7/dist-packages/lightgbm/engine.py:123: UserWarning:\n",
            "\n",
            "Found `early_stopping_rounds` in params. Will use it instead of argument\n",
            "\n"
          ],
          "name": "stderr"
        },
        {
          "output_type": "stream",
          "text": [
            "[100]\tvalid_0's rmse: 0.215157\n",
            "[200]\tvalid_0's rmse: 0.20008\n",
            "[300]\tvalid_0's rmse: 0.195291\n",
            "[400]\tvalid_0's rmse: 0.19262\n",
            "[500]\tvalid_0's rmse: 0.191333\n",
            "Early stopping, best iteration is:\n",
            "[497]\tvalid_0's rmse: 0.191253\n"
          ],
          "name": "stdout"
        },
        {
          "output_type": "stream",
          "text": [
            "\u001b[32m[I 2021-04-08 18:16:15,762]\u001b[0m Trial 15 finished with value: 0.017663654096579585 and parameters: {'num_leaves': 692, 'max_bin': 813, 'learning_rate': 0.14804821577544444, 'max_depth': 9, 'min_child_weight': 12, 'feature_fraction': 0.7628037044042512, 'bagging_fraction': 0.9172086987696152, 'bagging_freq': 7, 'min_child_samples': 3, 'lambda_l1': 0.020036796379913704, 'lambda_l2': 0.0066361872089143546}. Best is trial 15 with value: 0.017663654096579585.\u001b[0m\n"
          ],
          "name": "stderr"
        },
        {
          "output_type": "stream",
          "text": [
            "RMSE = 0.017663654096579585\n",
            "Training until validation scores don't improve for 10 rounds.\n"
          ],
          "name": "stdout"
        },
        {
          "output_type": "stream",
          "text": [
            "/usr/local/lib/python3.7/dist-packages/lightgbm/engine.py:123: UserWarning:\n",
            "\n",
            "Found `early_stopping_rounds` in params. Will use it instead of argument\n",
            "\n"
          ],
          "name": "stderr"
        },
        {
          "output_type": "stream",
          "text": [
            "[100]\tvalid_0's rmse: 0.226585\n",
            "[200]\tvalid_0's rmse: 0.211432\n",
            "[300]\tvalid_0's rmse: 0.203415\n",
            "[400]\tvalid_0's rmse: 0.199265\n",
            "[500]\tvalid_0's rmse: 0.195562\n",
            "[600]\tvalid_0's rmse: 0.192525\n",
            "[700]\tvalid_0's rmse: 0.190454\n",
            "[800]\tvalid_0's rmse: 0.18907\n",
            "Did not meet early stopping. Best iteration is:\n",
            "[800]\tvalid_0's rmse: 0.18907\n"
          ],
          "name": "stdout"
        },
        {
          "output_type": "stream",
          "text": [
            "\u001b[32m[I 2021-04-08 18:16:20,585]\u001b[0m Trial 16 finished with value: 0.017457665514876135 and parameters: {'num_leaves': 712, 'max_bin': 832, 'learning_rate': 0.1350990640886697, 'max_depth': 9, 'min_child_weight': 12, 'feature_fraction': 0.43597908864162815, 'bagging_fraction': 0.9098625581598668, 'bagging_freq': 5, 'min_child_samples': 28, 'lambda_l1': 0.018633200799767394, 'lambda_l2': 0.10268399813889759}. Best is trial 16 with value: 0.017457665514876135.\u001b[0m\n"
          ],
          "name": "stderr"
        },
        {
          "output_type": "stream",
          "text": [
            "RMSE = 0.017457665514876135\n",
            "Training until validation scores don't improve for 10 rounds.\n"
          ],
          "name": "stdout"
        },
        {
          "output_type": "stream",
          "text": [
            "/usr/local/lib/python3.7/dist-packages/lightgbm/engine.py:123: UserWarning:\n",
            "\n",
            "Found `early_stopping_rounds` in params. Will use it instead of argument\n",
            "\n"
          ],
          "name": "stderr"
        },
        {
          "output_type": "stream",
          "text": [
            "[100]\tvalid_0's rmse: 0.248079\n",
            "[200]\tvalid_0's rmse: 0.226382\n",
            "[300]\tvalid_0's rmse: 0.215713\n",
            "[400]\tvalid_0's rmse: 0.209103\n",
            "[500]\tvalid_0's rmse: 0.204099\n",
            "[600]\tvalid_0's rmse: 0.19993\n",
            "[700]\tvalid_0's rmse: 0.197404\n",
            "Early stopping, best iteration is:\n",
            "[750]\tvalid_0's rmse: 0.196337\n"
          ],
          "name": "stdout"
        },
        {
          "output_type": "stream",
          "text": [
            "\u001b[32m[I 2021-04-08 18:16:24,351]\u001b[0m Trial 17 finished with value: 0.01816032995322363 and parameters: {'num_leaves': 696, 'max_bin': 871, 'learning_rate': 0.13262274328298873, 'max_depth': 8, 'min_child_weight': 11, 'feature_fraction': 0.4061063657353123, 'bagging_fraction': 0.6020933275440294, 'bagging_freq': 5, 'min_child_samples': 33, 'lambda_l1': 0.012743358587784331, 'lambda_l2': 0.6140149333439295}. Best is trial 16 with value: 0.017457665514876135.\u001b[0m\n"
          ],
          "name": "stderr"
        },
        {
          "output_type": "stream",
          "text": [
            "RMSE = 0.01816032995322363\n",
            "Training until validation scores don't improve for 10 rounds.\n"
          ],
          "name": "stdout"
        },
        {
          "output_type": "stream",
          "text": [
            "/usr/local/lib/python3.7/dist-packages/lightgbm/engine.py:123: UserWarning:\n",
            "\n",
            "Found `early_stopping_rounds` in params. Will use it instead of argument\n",
            "\n"
          ],
          "name": "stderr"
        },
        {
          "output_type": "stream",
          "text": [
            "[100]\tvalid_0's rmse: 0.203165\n",
            "[200]\tvalid_0's rmse: 0.193598\n",
            "[300]\tvalid_0's rmse: 0.18996\n",
            "Early stopping, best iteration is:\n",
            "[294]\tvalid_0's rmse: 0.189842\n"
          ],
          "name": "stdout"
        },
        {
          "output_type": "stream",
          "text": [
            "\u001b[32m[I 2021-04-08 18:16:27,536]\u001b[0m Trial 18 finished with value: 0.01751710014825352 and parameters: {'num_leaves': 712, 'max_bin': 1230, 'learning_rate': 0.18801312921925029, 'max_depth': 13, 'min_child_weight': 12, 'feature_fraction': 0.4033868437001352, 'bagging_fraction': 0.898397301389212, 'bagging_freq': 4, 'min_child_samples': 23, 'lambda_l1': 0.0004741787483647089, 'lambda_l2': 0.05416875608264409}. Best is trial 16 with value: 0.017457665514876135.\u001b[0m\n"
          ],
          "name": "stderr"
        },
        {
          "output_type": "stream",
          "text": [
            "RMSE = 0.01751710014825352\n",
            "Training until validation scores don't improve for 10 rounds.\n"
          ],
          "name": "stdout"
        },
        {
          "output_type": "stream",
          "text": [
            "/usr/local/lib/python3.7/dist-packages/lightgbm/engine.py:123: UserWarning:\n",
            "\n",
            "Found `early_stopping_rounds` in params. Will use it instead of argument\n",
            "\n"
          ],
          "name": "stderr"
        },
        {
          "output_type": "stream",
          "text": [
            "[100]\tvalid_0's rmse: 0.218093\n",
            "[200]\tvalid_0's rmse: 0.201822\n",
            "[300]\tvalid_0's rmse: 0.195017\n",
            "[400]\tvalid_0's rmse: 0.191642\n",
            "[500]\tvalid_0's rmse: 0.189157\n",
            "Early stopping, best iteration is:\n",
            "[533]\tvalid_0's rmse: 0.188555\n"
          ],
          "name": "stdout"
        },
        {
          "output_type": "stream",
          "text": [
            "\u001b[32m[I 2021-04-08 18:16:31,972]\u001b[0m Trial 19 finished with value: 0.017405960551794667 and parameters: {'num_leaves': 569, 'max_bin': 1334, 'learning_rate': 0.18868012581937332, 'max_depth': 13, 'min_child_weight': 13, 'feature_fraction': 0.4032081462489125, 'bagging_fraction': 0.7895666366182069, 'bagging_freq': 4, 'min_child_samples': 46, 'lambda_l1': 0.00017449912897291974, 'lambda_l2': 0.07357206748330612}. Best is trial 19 with value: 0.017405960551794667.\u001b[0m\n"
          ],
          "name": "stderr"
        },
        {
          "output_type": "stream",
          "text": [
            "RMSE = 0.017405960551794667\n",
            "Training until validation scores don't improve for 10 rounds.\n"
          ],
          "name": "stdout"
        },
        {
          "output_type": "stream",
          "text": [
            "/usr/local/lib/python3.7/dist-packages/lightgbm/engine.py:123: UserWarning:\n",
            "\n",
            "Found `early_stopping_rounds` in params. Will use it instead of argument\n",
            "\n"
          ],
          "name": "stderr"
        },
        {
          "output_type": "stream",
          "text": [
            "[100]\tvalid_0's rmse: 0.223088\n",
            "[200]\tvalid_0's rmse: 0.205097\n",
            "[300]\tvalid_0's rmse: 0.197855\n",
            "[400]\tvalid_0's rmse: 0.1934\n",
            "[500]\tvalid_0's rmse: 0.190733\n",
            "Early stopping, best iteration is:\n",
            "[516]\tvalid_0's rmse: 0.190396\n"
          ],
          "name": "stdout"
        },
        {
          "output_type": "stream",
          "text": [
            "\u001b[32m[I 2021-04-08 18:16:37,989]\u001b[0m Trial 20 finished with value: 0.017590811619017807 and parameters: {'num_leaves': 593, 'max_bin': 1399, 'learning_rate': 0.1143656032832285, 'max_depth': 16, 'min_child_weight': 14, 'feature_fraction': 0.4745314938089671, 'bagging_fraction': 0.7740928366416652, 'bagging_freq': 4, 'min_child_samples': 48, 'lambda_l1': 0.00012842841261054858, 'lambda_l2': 0.0693504379876961}. Best is trial 19 with value: 0.017405960551794667.\u001b[0m\n"
          ],
          "name": "stderr"
        },
        {
          "output_type": "stream",
          "text": [
            "RMSE = 0.017590811619017807\n",
            "Training until validation scores don't improve for 10 rounds.\n"
          ],
          "name": "stdout"
        },
        {
          "output_type": "stream",
          "text": [
            "/usr/local/lib/python3.7/dist-packages/lightgbm/engine.py:123: UserWarning:\n",
            "\n",
            "Found `early_stopping_rounds` in params. Will use it instead of argument\n",
            "\n"
          ],
          "name": "stderr"
        },
        {
          "output_type": "stream",
          "text": [
            "[100]\tvalid_0's rmse: 0.217916\n",
            "[200]\tvalid_0's rmse: 0.202162\n",
            "[300]\tvalid_0's rmse: 0.195485\n",
            "[400]\tvalid_0's rmse: 0.191342\n",
            "[500]\tvalid_0's rmse: 0.188254\n",
            "Early stopping, best iteration is:\n",
            "[548]\tvalid_0's rmse: 0.187641\n"
          ],
          "name": "stdout"
        },
        {
          "output_type": "stream",
          "text": [
            "\u001b[32m[I 2021-04-08 18:16:42,557]\u001b[0m Trial 21 finished with value: 0.017338828200114335 and parameters: {'num_leaves': 701, 'max_bin': 1232, 'learning_rate': 0.18495691662267455, 'max_depth': 13, 'min_child_weight': 13, 'feature_fraction': 0.4158915255260251, 'bagging_fraction': 0.8905443811609384, 'bagging_freq': 4, 'min_child_samples': 47, 'lambda_l1': 0.0002460629447517687, 'lambda_l2': 0.0851467884979212}. Best is trial 21 with value: 0.017338828200114335.\u001b[0m\n"
          ],
          "name": "stderr"
        },
        {
          "output_type": "stream",
          "text": [
            "RMSE = 0.017338828200114335\n",
            "Training until validation scores don't improve for 10 rounds.\n"
          ],
          "name": "stdout"
        },
        {
          "output_type": "stream",
          "text": [
            "/usr/local/lib/python3.7/dist-packages/lightgbm/engine.py:123: UserWarning:\n",
            "\n",
            "Found `early_stopping_rounds` in params. Will use it instead of argument\n",
            "\n"
          ],
          "name": "stderr"
        },
        {
          "output_type": "stream",
          "text": [
            "[100]\tvalid_0's rmse: 0.214148\n",
            "[200]\tvalid_0's rmse: 0.201083\n",
            "[300]\tvalid_0's rmse: 0.194988\n",
            "Early stopping, best iteration is:\n",
            "[371]\tvalid_0's rmse: 0.192175\n"
          ],
          "name": "stdout"
        },
        {
          "output_type": "stream",
          "text": [
            "\u001b[32m[I 2021-04-08 18:16:46,553]\u001b[0m Trial 22 finished with value: 0.017758366918456434 and parameters: {'num_leaves': 582, 'max_bin': 1267, 'learning_rate': 0.1812941852146204, 'max_depth': 14, 'min_child_weight': 9, 'feature_fraction': 0.45204339447121555, 'bagging_fraction': 0.8144465618998769, 'bagging_freq': 4, 'min_child_samples': 47, 'lambda_l1': 1.7438893678373482e-05, 'lambda_l2': 0.14171990074615004}. Best is trial 21 with value: 0.017338828200114335.\u001b[0m\n"
          ],
          "name": "stderr"
        },
        {
          "output_type": "stream",
          "text": [
            "RMSE = 0.017758366918456434\n",
            "Training until validation scores don't improve for 10 rounds.\n"
          ],
          "name": "stdout"
        },
        {
          "output_type": "stream",
          "text": [
            "/usr/local/lib/python3.7/dist-packages/lightgbm/engine.py:123: UserWarning:\n",
            "\n",
            "Found `early_stopping_rounds` in params. Will use it instead of argument\n",
            "\n"
          ],
          "name": "stderr"
        },
        {
          "output_type": "stream",
          "text": [
            "[100]\tvalid_0's rmse: 0.221229\n",
            "[200]\tvalid_0's rmse: 0.20441\n",
            "[300]\tvalid_0's rmse: 0.197229\n",
            "[400]\tvalid_0's rmse: 0.193849\n",
            "Early stopping, best iteration is:\n",
            "[472]\tvalid_0's rmse: 0.191879\n"
          ],
          "name": "stdout"
        },
        {
          "output_type": "stream",
          "text": [
            "\u001b[32m[I 2021-04-08 18:16:50,879]\u001b[0m Trial 23 finished with value: 0.017730257256937144 and parameters: {'num_leaves': 675, 'max_bin': 1125, 'learning_rate': 0.18695536516425537, 'max_depth': 13, 'min_child_weight': 13, 'feature_fraction': 0.5313695717560241, 'bagging_fraction': 0.6799712161416666, 'bagging_freq': 2, 'min_child_samples': 58, 'lambda_l1': 0.00016862282742649478, 'lambda_l2': 0.0010087500615456701}. Best is trial 21 with value: 0.017338828200114335.\u001b[0m\n"
          ],
          "name": "stderr"
        },
        {
          "output_type": "stream",
          "text": [
            "RMSE = 0.017730257256937144\n",
            "Training until validation scores don't improve for 10 rounds.\n"
          ],
          "name": "stdout"
        },
        {
          "output_type": "stream",
          "text": [
            "/usr/local/lib/python3.7/dist-packages/lightgbm/engine.py:123: UserWarning:\n",
            "\n",
            "Found `early_stopping_rounds` in params. Will use it instead of argument\n",
            "\n"
          ],
          "name": "stderr"
        },
        {
          "output_type": "stream",
          "text": [
            "[100]\tvalid_0's rmse: 0.219733\n",
            "[200]\tvalid_0's rmse: 0.204091\n",
            "[300]\tvalid_0's rmse: 0.196757\n",
            "[400]\tvalid_0's rmse: 0.193159\n",
            "Early stopping, best iteration is:\n",
            "[426]\tvalid_0's rmse: 0.192424\n"
          ],
          "name": "stdout"
        },
        {
          "output_type": "stream",
          "text": [
            "\u001b[32m[I 2021-04-08 18:16:55,713]\u001b[0m Trial 24 finished with value: 0.017779178202177007 and parameters: {'num_leaves': 553, 'max_bin': 1336, 'learning_rate': 0.1459327987759268, 'max_depth': 12, 'min_child_weight': 17, 'feature_fraction': 0.6053241644631372, 'bagging_fraction': 0.8105394186453481, 'bagging_freq': 5, 'min_child_samples': 39, 'lambda_l1': 2.7568083585653814e-06, 'lambda_l2': 0.9484728089502171}. Best is trial 21 with value: 0.017338828200114335.\u001b[0m\n"
          ],
          "name": "stderr"
        },
        {
          "output_type": "stream",
          "text": [
            "RMSE = 0.017779178202177007\n",
            "Training until validation scores don't improve for 10 rounds.\n"
          ],
          "name": "stdout"
        },
        {
          "output_type": "stream",
          "text": [
            "/usr/local/lib/python3.7/dist-packages/lightgbm/engine.py:123: UserWarning:\n",
            "\n",
            "Found `early_stopping_rounds` in params. Will use it instead of argument\n",
            "\n"
          ],
          "name": "stderr"
        },
        {
          "output_type": "stream",
          "text": [
            "[100]\tvalid_0's rmse: 0.208485\n",
            "[200]\tvalid_0's rmse: 0.196868\n",
            "Early stopping, best iteration is:\n",
            "[244]\tvalid_0's rmse: 0.193668\n"
          ],
          "name": "stdout"
        },
        {
          "output_type": "stream",
          "text": [
            "\u001b[32m[I 2021-04-08 18:16:58,564]\u001b[0m Trial 25 finished with value: 0.01787507869697615 and parameters: {'num_leaves': 650, 'max_bin': 899, 'learning_rate': 0.19992054188626487, 'max_depth': 15, 'min_child_weight': 9, 'feature_fraction': 0.4589034643743664, 'bagging_fraction': 0.9063885752840362, 'bagging_freq': 4, 'min_child_samples': 42, 'lambda_l1': 0.00278504076919405, 'lambda_l2': 0.02079031435685897}. Best is trial 21 with value: 0.017338828200114335.\u001b[0m\n"
          ],
          "name": "stderr"
        },
        {
          "output_type": "stream",
          "text": [
            "RMSE = 0.01787507869697615\n",
            "Training until validation scores don't improve for 10 rounds.\n"
          ],
          "name": "stdout"
        },
        {
          "output_type": "stream",
          "text": [
            "/usr/local/lib/python3.7/dist-packages/lightgbm/engine.py:123: UserWarning:\n",
            "\n",
            "Found `early_stopping_rounds` in params. Will use it instead of argument\n",
            "\n"
          ],
          "name": "stderr"
        },
        {
          "output_type": "stream",
          "text": [
            "[100]\tvalid_0's rmse: 0.254061\n",
            "[200]\tvalid_0's rmse: 0.233958\n",
            "[300]\tvalid_0's rmse: 0.223422\n",
            "[400]\tvalid_0's rmse: 0.216774\n",
            "[500]\tvalid_0's rmse: 0.210402\n",
            "[600]\tvalid_0's rmse: 0.206103\n",
            "[700]\tvalid_0's rmse: 0.202637\n",
            "[800]\tvalid_0's rmse: 0.200199\n",
            "Did not meet early stopping. Best iteration is:\n",
            "[800]\tvalid_0's rmse: 0.200199\n"
          ],
          "name": "stdout"
        },
        {
          "output_type": "stream",
          "text": [
            "\u001b[32m[I 2021-04-08 18:17:03,350]\u001b[0m Trial 26 finished with value: 0.018519712978217615 and parameters: {'num_leaves': 711, 'max_bin': 1167, 'learning_rate': 0.08121290273998168, 'max_depth': 10, 'min_child_weight': 10, 'feature_fraction': 0.4185063942789085, 'bagging_fraction': 0.8466063921508127, 'bagging_freq': 2, 'min_child_samples': 58, 'lambda_l1': 0.00031487481338774256, 'lambda_l2': 0.22806519121501576}. Best is trial 21 with value: 0.017338828200114335.\u001b[0m\n"
          ],
          "name": "stderr"
        },
        {
          "output_type": "stream",
          "text": [
            "RMSE = 0.018519712978217615\n",
            "Training until validation scores don't improve for 10 rounds.\n"
          ],
          "name": "stdout"
        },
        {
          "output_type": "stream",
          "text": [
            "/usr/local/lib/python3.7/dist-packages/lightgbm/engine.py:123: UserWarning:\n",
            "\n",
            "Found `early_stopping_rounds` in params. Will use it instead of argument\n",
            "\n"
          ],
          "name": "stderr"
        },
        {
          "output_type": "stream",
          "text": [
            "[100]\tvalid_0's rmse: 0.220745\n",
            "[200]\tvalid_0's rmse: 0.203834\n",
            "[300]\tvalid_0's rmse: 0.197104\n",
            "[400]\tvalid_0's rmse: 0.194253\n",
            "Early stopping, best iteration is:\n",
            "[435]\tvalid_0's rmse: 0.193273\n"
          ],
          "name": "stdout"
        },
        {
          "output_type": "stream",
          "text": [
            "\u001b[32m[I 2021-04-08 18:17:06,412]\u001b[0m Trial 27 finished with value: 0.017856449688942264 and parameters: {'num_leaves': 438, 'max_bin': 1285, 'learning_rate': 0.17817492287670203, 'max_depth': 9, 'min_child_weight': 16, 'feature_fraction': 0.49213287870656275, 'bagging_fraction': 0.9367516108052842, 'bagging_freq': 6, 'min_child_samples': 26, 'lambda_l1': 4.246755864472331e-05, 'lambda_l2': 0.0009870332215963834}. Best is trial 21 with value: 0.017338828200114335.\u001b[0m\n"
          ],
          "name": "stderr"
        },
        {
          "output_type": "stream",
          "text": [
            "RMSE = 0.017856449688942264\n",
            "Training until validation scores don't improve for 10 rounds.\n"
          ],
          "name": "stdout"
        },
        {
          "output_type": "stream",
          "text": [
            "/usr/local/lib/python3.7/dist-packages/lightgbm/engine.py:123: UserWarning:\n",
            "\n",
            "Found `early_stopping_rounds` in params. Will use it instead of argument\n",
            "\n"
          ],
          "name": "stderr"
        },
        {
          "output_type": "stream",
          "text": [
            "[100]\tvalid_0's rmse: 0.239076\n",
            "[200]\tvalid_0's rmse: 0.217108\n",
            "[300]\tvalid_0's rmse: 0.206781\n",
            "[400]\tvalid_0's rmse: 0.200967\n",
            "[500]\tvalid_0's rmse: 0.197234\n",
            "Early stopping, best iteration is:\n",
            "[562]\tvalid_0's rmse: 0.195753\n"
          ],
          "name": "stdout"
        },
        {
          "output_type": "stream",
          "text": [
            "\u001b[32m[I 2021-04-08 18:17:11,663]\u001b[0m Trial 28 finished with value: 0.018082110296200157 and parameters: {'num_leaves': 544, 'max_bin': 1039, 'learning_rate': 0.14112177499397352, 'max_depth': 12, 'min_child_weight': 13, 'feature_fraction': 0.6007081170661319, 'bagging_fraction': 0.6567977081328962, 'bagging_freq': 2, 'min_child_samples': 65, 'lambda_l1': 4.4050439662943576e-07, 'lambda_l2': 0.034513982778203715}. Best is trial 21 with value: 0.017338828200114335.\u001b[0m\n"
          ],
          "name": "stderr"
        },
        {
          "output_type": "stream",
          "text": [
            "RMSE = 0.018082110296200157\n",
            "Training until validation scores don't improve for 10 rounds.\n"
          ],
          "name": "stdout"
        },
        {
          "output_type": "stream",
          "text": [
            "/usr/local/lib/python3.7/dist-packages/lightgbm/engine.py:123: UserWarning:\n",
            "\n",
            "Found `early_stopping_rounds` in params. Will use it instead of argument\n",
            "\n"
          ],
          "name": "stderr"
        },
        {
          "output_type": "stream",
          "text": [
            "[100]\tvalid_0's rmse: 0.216364\n",
            "[200]\tvalid_0's rmse: 0.2003\n",
            "[300]\tvalid_0's rmse: 0.194256\n",
            "[400]\tvalid_0's rmse: 0.190896\n",
            "[500]\tvalid_0's rmse: 0.18798\n",
            "Early stopping, best iteration is:\n",
            "[533]\tvalid_0's rmse: 0.187595\n"
          ],
          "name": "stdout"
        },
        {
          "output_type": "stream",
          "text": [
            "\u001b[32m[I 2021-04-08 18:17:16,606]\u001b[0m Trial 29 finished with value: 0.017330136698949696 and parameters: {'num_leaves': 616, 'max_bin': 1197, 'learning_rate': 0.17346335913828473, 'max_depth': 14, 'min_child_weight': 6, 'feature_fraction': 0.40356603617945913, 'bagging_fraction': 0.7569717047557512, 'bagging_freq': 3, 'min_child_samples': 41, 'lambda_l1': 0.0023783207958816975, 'lambda_l2': 0.20306661320095667}. Best is trial 29 with value: 0.017330136698949696.\u001b[0m\n"
          ],
          "name": "stderr"
        },
        {
          "output_type": "stream",
          "text": [
            "RMSE = 0.017330136698949696\n",
            "Training until validation scores don't improve for 10 rounds.\n"
          ],
          "name": "stdout"
        },
        {
          "output_type": "stream",
          "text": [
            "/usr/local/lib/python3.7/dist-packages/lightgbm/engine.py:123: UserWarning:\n",
            "\n",
            "Found `early_stopping_rounds` in params. Will use it instead of argument\n",
            "\n"
          ],
          "name": "stderr"
        },
        {
          "output_type": "stream",
          "text": [
            "[100]\tvalid_0's rmse: 0.218037\n",
            "[200]\tvalid_0's rmse: 0.201151\n",
            "[300]\tvalid_0's rmse: 0.195287\n",
            "[400]\tvalid_0's rmse: 0.191625\n",
            "[500]\tvalid_0's rmse: 0.189864\n",
            "Early stopping, best iteration is:\n",
            "[504]\tvalid_0's rmse: 0.189858\n"
          ],
          "name": "stdout"
        },
        {
          "output_type": "stream",
          "text": [
            "\u001b[32m[I 2021-04-08 18:17:22,136]\u001b[0m Trial 30 finished with value: 0.01754841269805417 and parameters: {'num_leaves': 625, 'max_bin': 1179, 'learning_rate': 0.1760873279584515, 'max_depth': 15, 'min_child_weight': 4, 'feature_fraction': 0.4988431268077341, 'bagging_fraction': 0.7511597996872573, 'bagging_freq': 3, 'min_child_samples': 51, 'lambda_l1': 0.0016341482802560803, 'lambda_l2': 0.005765694907397136}. Best is trial 29 with value: 0.017330136698949696.\u001b[0m\n"
          ],
          "name": "stderr"
        },
        {
          "output_type": "stream",
          "text": [
            "RMSE = 0.01754841269805417\n",
            "Training until validation scores don't improve for 10 rounds.\n"
          ],
          "name": "stdout"
        },
        {
          "output_type": "stream",
          "text": [
            "/usr/local/lib/python3.7/dist-packages/lightgbm/engine.py:123: UserWarning:\n",
            "\n",
            "Found `early_stopping_rounds` in params. Will use it instead of argument\n",
            "\n"
          ],
          "name": "stderr"
        },
        {
          "output_type": "stream",
          "text": [
            "[100]\tvalid_0's rmse: 0.216822\n",
            "[200]\tvalid_0's rmse: 0.200887\n",
            "[300]\tvalid_0's rmse: 0.194455\n",
            "[400]\tvalid_0's rmse: 0.191136\n",
            "Early stopping, best iteration is:\n",
            "[453]\tvalid_0's rmse: 0.189397\n"
          ],
          "name": "stdout"
        },
        {
          "output_type": "stream",
          "text": [
            "\u001b[32m[I 2021-04-08 18:17:26,357]\u001b[0m Trial 31 finished with value: 0.017504685480942198 and parameters: {'num_leaves': 609, 'max_bin': 1307, 'learning_rate': 0.15756874263619833, 'max_depth': 14, 'min_child_weight': 6, 'feature_fraction': 0.42915532313879345, 'bagging_fraction': 0.7824958117713077, 'bagging_freq': 4, 'min_child_samples': 42, 'lambda_l1': 0.0077246482734413995, 'lambda_l2': 0.10366108593115374}. Best is trial 29 with value: 0.017330136698949696.\u001b[0m\n"
          ],
          "name": "stderr"
        },
        {
          "output_type": "stream",
          "text": [
            "RMSE = 0.017504685480942198\n",
            "Training until validation scores don't improve for 10 rounds.\n"
          ],
          "name": "stdout"
        },
        {
          "output_type": "stream",
          "text": [
            "/usr/local/lib/python3.7/dist-packages/lightgbm/engine.py:123: UserWarning:\n",
            "\n",
            "Found `early_stopping_rounds` in params. Will use it instead of argument\n",
            "\n"
          ],
          "name": "stderr"
        },
        {
          "output_type": "stream",
          "text": [
            "[100]\tvalid_0's rmse: 0.200678\n",
            "[200]\tvalid_0's rmse: 0.192268\n",
            "Early stopping, best iteration is:\n",
            "[256]\tvalid_0's rmse: 0.190347\n"
          ],
          "name": "stdout"
        },
        {
          "output_type": "stream",
          "text": [
            "\u001b[32m[I 2021-04-08 18:17:29,551]\u001b[0m Trial 32 finished with value: 0.017579386192980467 and parameters: {'num_leaves': 661, 'max_bin': 1221, 'learning_rate': 0.19159281696447591, 'max_depth': 15, 'min_child_weight': 11, 'feature_fraction': 0.4033742376442855, 'bagging_fraction': 0.853617536818545, 'bagging_freq': 3, 'min_child_samples': 26, 'lambda_l1': 0.002184730522638806, 'lambda_l2': 0.2839320072532989}. Best is trial 29 with value: 0.017330136698949696.\u001b[0m\n"
          ],
          "name": "stderr"
        },
        {
          "output_type": "stream",
          "text": [
            "RMSE = 0.017579386192980467\n",
            "Training until validation scores don't improve for 10 rounds.\n"
          ],
          "name": "stdout"
        },
        {
          "output_type": "stream",
          "text": [
            "/usr/local/lib/python3.7/dist-packages/lightgbm/engine.py:123: UserWarning:\n",
            "\n",
            "Found `early_stopping_rounds` in params. Will use it instead of argument\n",
            "\n"
          ],
          "name": "stderr"
        },
        {
          "output_type": "stream",
          "text": [
            "[100]\tvalid_0's rmse: 0.209767\n",
            "[200]\tvalid_0's rmse: 0.195849\n",
            "[300]\tvalid_0's rmse: 0.191629\n",
            "Early stopping, best iteration is:\n",
            "[336]\tvalid_0's rmse: 0.190422\n"
          ],
          "name": "stdout"
        },
        {
          "output_type": "stream",
          "text": [
            "\u001b[32m[I 2021-04-08 18:17:32,803]\u001b[0m Trial 33 finished with value: 0.017592183255571624 and parameters: {'num_leaves': 552, 'max_bin': 1124, 'learning_rate': 0.16970570415318542, 'max_depth': 12, 'min_child_weight': 7, 'feature_fraction': 0.44043487875402504, 'bagging_fraction': 0.7167418592018392, 'bagging_freq': 5, 'min_child_samples': 21, 'lambda_l1': 5.198035390159283e-05, 'lambda_l2': 0.896106398315922}. Best is trial 29 with value: 0.017330136698949696.\u001b[0m\n"
          ],
          "name": "stderr"
        },
        {
          "output_type": "stream",
          "text": [
            "RMSE = 0.017592183255571624\n",
            "Training until validation scores don't improve for 10 rounds.\n"
          ],
          "name": "stdout"
        },
        {
          "output_type": "stream",
          "text": [
            "/usr/local/lib/python3.7/dist-packages/lightgbm/engine.py:123: UserWarning:\n",
            "\n",
            "Found `early_stopping_rounds` in params. Will use it instead of argument\n",
            "\n"
          ],
          "name": "stderr"
        },
        {
          "output_type": "stream",
          "text": [
            "[100]\tvalid_0's rmse: 0.24084\n",
            "[200]\tvalid_0's rmse: 0.220439\n",
            "[300]\tvalid_0's rmse: 0.210945\n",
            "[400]\tvalid_0's rmse: 0.204521\n",
            "[500]\tvalid_0's rmse: 0.199537\n",
            "[600]\tvalid_0's rmse: 0.19671\n",
            "[700]\tvalid_0's rmse: 0.19486\n",
            "[800]\tvalid_0's rmse: 0.192813\n",
            "Did not meet early stopping. Best iteration is:\n",
            "[800]\tvalid_0's rmse: 0.192813\n"
          ],
          "name": "stdout"
        },
        {
          "output_type": "stream",
          "text": [
            "\u001b[32m[I 2021-04-08 18:17:38,526]\u001b[0m Trial 34 finished with value: 0.017832989142090732 and parameters: {'num_leaves': 710, 'max_bin': 1377, 'learning_rate': 0.11831581260562463, 'max_depth': 10, 'min_child_weight': 14, 'feature_fraction': 0.5413256406454006, 'bagging_fraction': 0.8797014996206811, 'bagging_freq': 4, 'min_child_samples': 55, 'lambda_l1': 0.04276106867852016, 'lambda_l2': 0.016063309493210387}. Best is trial 29 with value: 0.017330136698949696.\u001b[0m\n"
          ],
          "name": "stderr"
        },
        {
          "output_type": "stream",
          "text": [
            "RMSE = 0.017832989142090732\n",
            "Training until validation scores don't improve for 10 rounds.\n"
          ],
          "name": "stdout"
        },
        {
          "output_type": "stream",
          "text": [
            "/usr/local/lib/python3.7/dist-packages/lightgbm/engine.py:123: UserWarning:\n",
            "\n",
            "Found `early_stopping_rounds` in params. Will use it instead of argument\n",
            "\n"
          ],
          "name": "stderr"
        },
        {
          "output_type": "stream",
          "text": [
            "[100]\tvalid_0's rmse: 0.212074\n",
            "[200]\tvalid_0's rmse: 0.19988\n",
            "[300]\tvalid_0's rmse: 0.194112\n",
            "[400]\tvalid_0's rmse: 0.19117\n",
            "[500]\tvalid_0's rmse: 0.189098\n",
            "[600]\tvalid_0's rmse: 0.188181\n",
            "Early stopping, best iteration is:\n",
            "[601]\tvalid_0's rmse: 0.18818\n"
          ],
          "name": "stdout"
        },
        {
          "output_type": "stream",
          "text": [
            "\u001b[32m[I 2021-04-08 18:17:45,276]\u001b[0m Trial 35 finished with value: 0.017370306466230744 and parameters: {'num_leaves': 591, 'max_bin': 981, 'learning_rate': 0.1407746419306567, 'max_depth': 14, 'min_child_weight': 1, 'feature_fraction': 0.5060826988400184, 'bagging_fraction': 0.9361877064581281, 'bagging_freq': 2, 'min_child_samples': 39, 'lambda_l1': 0.0005650460194765422, 'lambda_l2': 0.22606861984079307}. Best is trial 29 with value: 0.017330136698949696.\u001b[0m\n"
          ],
          "name": "stderr"
        },
        {
          "output_type": "stream",
          "text": [
            "RMSE = 0.017370306466230744\n",
            "Training until validation scores don't improve for 10 rounds.\n"
          ],
          "name": "stdout"
        },
        {
          "output_type": "stream",
          "text": [
            "/usr/local/lib/python3.7/dist-packages/lightgbm/engine.py:123: UserWarning:\n",
            "\n",
            "Found `early_stopping_rounds` in params. Will use it instead of argument\n",
            "\n"
          ],
          "name": "stderr"
        },
        {
          "output_type": "stream",
          "text": [
            "[100]\tvalid_0's rmse: 0.223055\n",
            "[200]\tvalid_0's rmse: 0.206367\n",
            "[300]\tvalid_0's rmse: 0.198548\n",
            "[400]\tvalid_0's rmse: 0.194586\n",
            "Early stopping, best iteration is:\n",
            "[456]\tvalid_0's rmse: 0.193404\n"
          ],
          "name": "stdout"
        },
        {
          "output_type": "stream",
          "text": [
            "\u001b[32m[I 2021-04-08 18:17:49,813]\u001b[0m Trial 36 finished with value: 0.017882032910881862 and parameters: {'num_leaves': 414, 'max_bin': 972, 'learning_rate': 0.1709412964174009, 'max_depth': 14, 'min_child_weight': 1, 'feature_fraction': 0.5716272483610433, 'bagging_fraction': 0.8373025279470115, 'bagging_freq': 1, 'min_child_samples': 65, 'lambda_l1': 7.428246975816229e-06, 'lambda_l2': 0.24344037681554073}. Best is trial 29 with value: 0.017330136698949696.\u001b[0m\n"
          ],
          "name": "stderr"
        },
        {
          "output_type": "stream",
          "text": [
            "RMSE = 0.017882032910881862\n",
            "Training until validation scores don't improve for 10 rounds.\n"
          ],
          "name": "stdout"
        },
        {
          "output_type": "stream",
          "text": [
            "/usr/local/lib/python3.7/dist-packages/lightgbm/engine.py:123: UserWarning:\n",
            "\n",
            "Found `early_stopping_rounds` in params. Will use it instead of argument\n",
            "\n"
          ],
          "name": "stderr"
        },
        {
          "output_type": "stream",
          "text": [
            "[100]\tvalid_0's rmse: 0.212191\n",
            "[200]\tvalid_0's rmse: 0.198514\n",
            "[300]\tvalid_0's rmse: 0.193534\n",
            "[400]\tvalid_0's rmse: 0.19053\n",
            "[500]\tvalid_0's rmse: 0.188657\n",
            "Early stopping, best iteration is:\n",
            "[528]\tvalid_0's rmse: 0.188255\n"
          ],
          "name": "stdout"
        },
        {
          "output_type": "stream",
          "text": [
            "\u001b[32m[I 2021-04-08 18:17:55,038]\u001b[0m Trial 37 finished with value: 0.017392566639258464 and parameters: {'num_leaves': 576, 'max_bin': 1076, 'learning_rate': 0.19616857045504818, 'max_depth': 13, 'min_child_weight': 3, 'feature_fraction': 0.5142537213937525, 'bagging_fraction': 0.9561612570181762, 'bagging_freq': 2, 'min_child_samples': 44, 'lambda_l1': 0.00039774680078924257, 'lambda_l2': 0.9241249381624749}. Best is trial 29 with value: 0.017330136698949696.\u001b[0m\n"
          ],
          "name": "stderr"
        },
        {
          "output_type": "stream",
          "text": [
            "RMSE = 0.017392566639258464\n",
            "Training until validation scores don't improve for 10 rounds.\n"
          ],
          "name": "stdout"
        },
        {
          "output_type": "stream",
          "text": [
            "/usr/local/lib/python3.7/dist-packages/lightgbm/engine.py:123: UserWarning:\n",
            "\n",
            "Found `early_stopping_rounds` in params. Will use it instead of argument\n",
            "\n"
          ],
          "name": "stderr"
        },
        {
          "output_type": "stream",
          "text": [
            "[100]\tvalid_0's rmse: 0.20726\n",
            "[200]\tvalid_0's rmse: 0.195684\n",
            "[300]\tvalid_0's rmse: 0.19109\n",
            "[400]\tvalid_0's rmse: 0.188802\n",
            "[500]\tvalid_0's rmse: 0.187435\n",
            "Early stopping, best iteration is:\n",
            "[500]\tvalid_0's rmse: 0.187435\n"
          ],
          "name": "stdout"
        },
        {
          "output_type": "stream",
          "text": [
            "\u001b[32m[I 2021-04-08 18:18:01,082]\u001b[0m Trial 38 finished with value: 0.01732541954374794 and parameters: {'num_leaves': 337, 'max_bin': 944, 'learning_rate': 0.1533844582915886, 'max_depth': 15, 'min_child_weight': 3, 'feature_fraction': 0.4921285103443345, 'bagging_fraction': 0.9544534108128411, 'bagging_freq': 2, 'min_child_samples': 38, 'lambda_l1': 0.0007099642033407883, 'lambda_l2': 0.8702487336656474}. Best is trial 38 with value: 0.01732541954374794.\u001b[0m\n"
          ],
          "name": "stderr"
        },
        {
          "output_type": "stream",
          "text": [
            "RMSE = 0.01732541954374794\n",
            "Training until validation scores don't improve for 10 rounds.\n"
          ],
          "name": "stdout"
        },
        {
          "output_type": "stream",
          "text": [
            "/usr/local/lib/python3.7/dist-packages/lightgbm/engine.py:123: UserWarning:\n",
            "\n",
            "Found `early_stopping_rounds` in params. Will use it instead of argument\n",
            "\n"
          ],
          "name": "stderr"
        },
        {
          "output_type": "stream",
          "text": [
            "[100]\tvalid_0's rmse: 0.211242\n",
            "[200]\tvalid_0's rmse: 0.199746\n",
            "[300]\tvalid_0's rmse: 0.194308\n",
            "[400]\tvalid_0's rmse: 0.191843\n",
            "Early stopping, best iteration is:\n",
            "[475]\tvalid_0's rmse: 0.190277\n"
          ],
          "name": "stdout"
        },
        {
          "output_type": "stream",
          "text": [
            "\u001b[32m[I 2021-04-08 18:18:07,572]\u001b[0m Trial 39 finished with value: 0.017571244612938793 and parameters: {'num_leaves': 281, 'max_bin': 926, 'learning_rate': 0.12049926892354702, 'max_depth': 16, 'min_child_weight': 2, 'feature_fraction': 0.5840053732807681, 'bagging_fraction': 0.9398845790149288, 'bagging_freq': 1, 'min_child_samples': 37, 'lambda_l1': 0.0038685338199568237, 'lambda_l2': 8.42090174478207e-06}. Best is trial 38 with value: 0.01732541954374794.\u001b[0m\n"
          ],
          "name": "stderr"
        },
        {
          "output_type": "stream",
          "text": [
            "RMSE = 0.017571244612938793\n",
            "Training until validation scores don't improve for 10 rounds.\n"
          ],
          "name": "stdout"
        },
        {
          "output_type": "stream",
          "text": [
            "/usr/local/lib/python3.7/dist-packages/lightgbm/engine.py:123: UserWarning:\n",
            "\n",
            "Found `early_stopping_rounds` in params. Will use it instead of argument\n",
            "\n"
          ],
          "name": "stderr"
        },
        {
          "output_type": "stream",
          "text": [
            "[100]\tvalid_0's rmse: 0.198945\n",
            "[200]\tvalid_0's rmse: 0.189927\n",
            "[300]\tvalid_0's rmse: 0.186961\n",
            "[400]\tvalid_0's rmse: 0.185534\n",
            "Early stopping, best iteration is:\n",
            "[441]\tvalid_0's rmse: 0.185332\n"
          ],
          "name": "stdout"
        },
        {
          "output_type": "stream",
          "text": [
            "\u001b[32m[I 2021-04-08 18:18:15,129]\u001b[0m Trial 40 finished with value: 0.017099623670520637 and parameters: {'num_leaves': 352, 'max_bin': 1001, 'learning_rate': 0.1021536328282803, 'max_depth': 15, 'min_child_weight': 3, 'feature_fraction': 0.4648853005314325, 'bagging_fraction': 0.9574952081206655, 'bagging_freq': 3, 'min_child_samples': 14, 'lambda_l1': 0.0010154052609041059, 'lambda_l2': 0.4888318395119941}. Best is trial 40 with value: 0.017099623670520637.\u001b[0m\n"
          ],
          "name": "stderr"
        },
        {
          "output_type": "stream",
          "text": [
            "RMSE = 0.017099623670520637\n",
            "Training until validation scores don't improve for 10 rounds.\n"
          ],
          "name": "stdout"
        },
        {
          "output_type": "stream",
          "text": [
            "/usr/local/lib/python3.7/dist-packages/lightgbm/engine.py:123: UserWarning:\n",
            "\n",
            "Found `early_stopping_rounds` in params. Will use it instead of argument\n",
            "\n"
          ],
          "name": "stderr"
        },
        {
          "output_type": "stream",
          "text": [
            "[100]\tvalid_0's rmse: 0.200475\n",
            "[200]\tvalid_0's rmse: 0.191263\n",
            "[300]\tvalid_0's rmse: 0.188237\n",
            "[400]\tvalid_0's rmse: 0.186621\n",
            "Early stopping, best iteration is:\n",
            "[418]\tvalid_0's rmse: 0.186475\n"
          ],
          "name": "stdout"
        },
        {
          "output_type": "stream",
          "text": [
            "\u001b[32m[I 2021-04-08 18:18:22,435]\u001b[0m Trial 41 finished with value: 0.017202016918785926 and parameters: {'num_leaves': 343, 'max_bin': 997, 'learning_rate': 0.10063584924226517, 'max_depth': 15, 'min_child_weight': 5, 'feature_fraction': 0.4753473672592812, 'bagging_fraction': 0.9670199451614052, 'bagging_freq': 3, 'min_child_samples': 14, 'lambda_l1': 0.000900263668205805, 'lambda_l2': 0.4360275315563138}. Best is trial 40 with value: 0.017099623670520637.\u001b[0m\n"
          ],
          "name": "stderr"
        },
        {
          "output_type": "stream",
          "text": [
            "RMSE = 0.017202016918785926\n",
            "Training until validation scores don't improve for 10 rounds.\n"
          ],
          "name": "stdout"
        },
        {
          "output_type": "stream",
          "text": [
            "/usr/local/lib/python3.7/dist-packages/lightgbm/engine.py:123: UserWarning:\n",
            "\n",
            "Found `early_stopping_rounds` in params. Will use it instead of argument\n",
            "\n"
          ],
          "name": "stderr"
        },
        {
          "output_type": "stream",
          "text": [
            "[100]\tvalid_0's rmse: 0.201651\n",
            "[200]\tvalid_0's rmse: 0.191197\n",
            "[300]\tvalid_0's rmse: 0.187808\n",
            "[400]\tvalid_0's rmse: 0.186421\n",
            "Early stopping, best iteration is:\n",
            "[423]\tvalid_0's rmse: 0.186073\n"
          ],
          "name": "stdout"
        },
        {
          "output_type": "stream",
          "text": [
            "\u001b[32m[I 2021-04-08 18:18:29,675]\u001b[0m Trial 42 finished with value: 0.017168477250207745 and parameters: {'num_leaves': 319, 'max_bin': 1023, 'learning_rate': 0.09413622201484687, 'max_depth': 15, 'min_child_weight': 5, 'feature_fraction': 0.477144680118723, 'bagging_fraction': 0.9663601875657702, 'bagging_freq': 3, 'min_child_samples': 12, 'lambda_l1': 0.001598890219983182, 'lambda_l2': 0.5347398539843444}. Best is trial 40 with value: 0.017099623670520637.\u001b[0m\n"
          ],
          "name": "stderr"
        },
        {
          "output_type": "stream",
          "text": [
            "RMSE = 0.017168477250207745\n",
            "Training until validation scores don't improve for 10 rounds.\n"
          ],
          "name": "stdout"
        },
        {
          "output_type": "stream",
          "text": [
            "/usr/local/lib/python3.7/dist-packages/lightgbm/engine.py:123: UserWarning:\n",
            "\n",
            "Found `early_stopping_rounds` in params. Will use it instead of argument\n",
            "\n"
          ],
          "name": "stderr"
        },
        {
          "output_type": "stream",
          "text": [
            "[100]\tvalid_0's rmse: 0.200662\n",
            "[200]\tvalid_0's rmse: 0.190993\n",
            "[300]\tvalid_0's rmse: 0.188488\n",
            "[400]\tvalid_0's rmse: 0.18697\n",
            "Early stopping, best iteration is:\n",
            "[487]\tvalid_0's rmse: 0.186358\n"
          ],
          "name": "stdout"
        },
        {
          "output_type": "stream",
          "text": [
            "\u001b[32m[I 2021-04-08 18:18:37,983]\u001b[0m Trial 43 finished with value: 0.017202680545719082 and parameters: {'num_leaves': 330, 'max_bin': 1037, 'learning_rate': 0.09283547440444669, 'max_depth': 15, 'min_child_weight': 5, 'feature_fraction': 0.46653310213971244, 'bagging_fraction': 0.998654366730429, 'bagging_freq': 3, 'min_child_samples': 11, 'lambda_l1': 0.00769049858699802, 'lambda_l2': 0.4258379204309695}. Best is trial 40 with value: 0.017099623670520637.\u001b[0m\n"
          ],
          "name": "stderr"
        },
        {
          "output_type": "stream",
          "text": [
            "RMSE = 0.017202680545719082\n",
            "Training until validation scores don't improve for 10 rounds.\n"
          ],
          "name": "stdout"
        },
        {
          "output_type": "stream",
          "text": [
            "/usr/local/lib/python3.7/dist-packages/lightgbm/engine.py:123: UserWarning:\n",
            "\n",
            "Found `early_stopping_rounds` in params. Will use it instead of argument\n",
            "\n"
          ],
          "name": "stderr"
        },
        {
          "output_type": "stream",
          "text": [
            "[100]\tvalid_0's rmse: 0.198823\n",
            "[200]\tvalid_0's rmse: 0.189915\n",
            "[300]\tvalid_0's rmse: 0.186963\n",
            "[400]\tvalid_0's rmse: 0.185942\n",
            "Early stopping, best iteration is:\n",
            "[408]\tvalid_0's rmse: 0.185852\n"
          ],
          "name": "stdout"
        },
        {
          "output_type": "stream",
          "text": [
            "\u001b[32m[I 2021-04-08 18:18:45,103]\u001b[0m Trial 44 finished with value: 0.017150709067793077 and parameters: {'num_leaves': 335, 'max_bin': 1011, 'learning_rate': 0.09730879618297011, 'max_depth': 15, 'min_child_weight': 4, 'feature_fraction': 0.47055457817417967, 'bagging_fraction': 0.9738984775717588, 'bagging_freq': 3, 'min_child_samples': 12, 'lambda_l1': 0.0009673327890410155, 'lambda_l2': 0.4990060234546875}. Best is trial 40 with value: 0.017099623670520637.\u001b[0m\n"
          ],
          "name": "stderr"
        },
        {
          "output_type": "stream",
          "text": [
            "RMSE = 0.017150709067793077\n",
            "Training until validation scores don't improve for 10 rounds.\n"
          ],
          "name": "stdout"
        },
        {
          "output_type": "stream",
          "text": [
            "/usr/local/lib/python3.7/dist-packages/lightgbm/engine.py:123: UserWarning:\n",
            "\n",
            "Found `early_stopping_rounds` in params. Will use it instead of argument\n",
            "\n"
          ],
          "name": "stderr"
        },
        {
          "output_type": "stream",
          "text": [
            "[100]\tvalid_0's rmse: 0.202172\n",
            "[200]\tvalid_0's rmse: 0.190444\n",
            "[300]\tvalid_0's rmse: 0.187015\n",
            "[400]\tvalid_0's rmse: 0.185522\n",
            "Early stopping, best iteration is:\n",
            "[421]\tvalid_0's rmse: 0.185367\n"
          ],
          "name": "stdout"
        },
        {
          "output_type": "stream",
          "text": [
            "\u001b[32m[I 2021-04-08 18:18:51,969]\u001b[0m Trial 45 finished with value: 0.017117965147601024 and parameters: {'num_leaves': 241, 'max_bin': 1020, 'learning_rate': 0.09396351443170536, 'max_depth': 16, 'min_child_weight': 5, 'feature_fraction': 0.46907377510007675, 'bagging_fraction': 0.9999378678604544, 'bagging_freq': 3, 'min_child_samples': 11, 'lambda_l1': 0.06320541018426343, 'lambda_l2': 0.4538451467322992}. Best is trial 40 with value: 0.017099623670520637.\u001b[0m\n"
          ],
          "name": "stderr"
        },
        {
          "output_type": "stream",
          "text": [
            "RMSE = 0.017117965147601024\n",
            "Training until validation scores don't improve for 10 rounds.\n"
          ],
          "name": "stdout"
        },
        {
          "output_type": "stream",
          "text": [
            "/usr/local/lib/python3.7/dist-packages/lightgbm/engine.py:123: UserWarning:\n",
            "\n",
            "Found `early_stopping_rounds` in params. Will use it instead of argument\n",
            "\n"
          ],
          "name": "stderr"
        },
        {
          "output_type": "stream",
          "text": [
            "[100]\tvalid_0's rmse: 0.214455\n",
            "[200]\tvalid_0's rmse: 0.198729\n",
            "[300]\tvalid_0's rmse: 0.193201\n",
            "[400]\tvalid_0's rmse: 0.190096\n",
            "[500]\tvalid_0's rmse: 0.188469\n",
            "[600]\tvalid_0's rmse: 0.187809\n",
            "Early stopping, best iteration is:\n",
            "[650]\tvalid_0's rmse: 0.187558\n"
          ],
          "name": "stdout"
        },
        {
          "output_type": "stream",
          "text": [
            "\u001b[32m[I 2021-04-08 18:19:04,522]\u001b[0m Trial 46 finished with value: 0.017311383865782373 and parameters: {'num_leaves': 229, 'max_bin': 991, 'learning_rate': 0.06566572657463447, 'max_depth': 16, 'min_child_weight': 4, 'feature_fraction': 0.6269659945932421, 'bagging_fraction': 0.9797922598961217, 'bagging_freq': 3, 'min_child_samples': 17, 'lambda_l1': 0.24859725347528544, 'lambda_l2': 3.264144686393052e-08}. Best is trial 40 with value: 0.017099623670520637.\u001b[0m\n"
          ],
          "name": "stderr"
        },
        {
          "output_type": "stream",
          "text": [
            "RMSE = 0.017311383865782373\n",
            "Training until validation scores don't improve for 10 rounds.\n"
          ],
          "name": "stdout"
        },
        {
          "output_type": "stream",
          "text": [
            "/usr/local/lib/python3.7/dist-packages/lightgbm/engine.py:123: UserWarning:\n",
            "\n",
            "Found `early_stopping_rounds` in params. Will use it instead of argument\n",
            "\n"
          ],
          "name": "stderr"
        },
        {
          "output_type": "stream",
          "text": [
            "[100]\tvalid_0's rmse: 0.196607\n",
            "[200]\tvalid_0's rmse: 0.187379\n",
            "[300]\tvalid_0's rmse: 0.185339\n",
            "Early stopping, best iteration is:\n",
            "[300]\tvalid_0's rmse: 0.185339\n"
          ],
          "name": "stdout"
        },
        {
          "output_type": "stream",
          "text": [
            "\u001b[32m[I 2021-04-08 18:19:10,145]\u001b[0m Trial 47 finished with value: 0.017095672362860786 and parameters: {'num_leaves': 274, 'max_bin': 1077, 'learning_rate': 0.10208243458515112, 'max_depth': 16, 'min_child_weight': 7, 'feature_fraction': 0.5436215021997439, 'bagging_fraction': 0.9691923723511747, 'bagging_freq': 3, 'min_child_samples': 9, 'lambda_l1': 0.056387950438096565, 'lambda_l2': 0.030798668887673134}. Best is trial 47 with value: 0.017095672362860786.\u001b[0m\n"
          ],
          "name": "stderr"
        },
        {
          "output_type": "stream",
          "text": [
            "RMSE = 0.017095672362860786\n",
            "Training until validation scores don't improve for 10 rounds.\n"
          ],
          "name": "stdout"
        },
        {
          "output_type": "stream",
          "text": [
            "/usr/local/lib/python3.7/dist-packages/lightgbm/engine.py:123: UserWarning:\n",
            "\n",
            "Found `early_stopping_rounds` in params. Will use it instead of argument\n",
            "\n"
          ],
          "name": "stderr"
        },
        {
          "output_type": "stream",
          "text": [
            "[100]\tvalid_0's rmse: 0.203988\n",
            "[200]\tvalid_0's rmse: 0.190496\n",
            "[300]\tvalid_0's rmse: 0.186227\n",
            "[400]\tvalid_0's rmse: 0.18416\n",
            "Early stopping, best iteration is:\n",
            "[440]\tvalid_0's rmse: 0.183764\n"
          ],
          "name": "stdout"
        },
        {
          "output_type": "stream",
          "text": [
            "\u001b[32m[I 2021-04-08 18:19:17,361]\u001b[0m Trial 48 finished with value: 0.016954249416854254 and parameters: {'num_leaves': 226, 'max_bin': 1117, 'learning_rate': 0.0756478723673066, 'max_depth': 16, 'min_child_weight': 7, 'feature_fraction': 0.5471448075487002, 'bagging_fraction': 0.9890210285632416, 'bagging_freq': 2, 'min_child_samples': 8, 'lambda_l1': 0.061667095278047805, 'lambda_l2': 0.029641974531607607}. Best is trial 48 with value: 0.016954249416854254.\u001b[0m\n"
          ],
          "name": "stderr"
        },
        {
          "output_type": "stream",
          "text": [
            "RMSE = 0.016954249416854254\n",
            "Training until validation scores don't improve for 10 rounds.\n"
          ],
          "name": "stdout"
        },
        {
          "output_type": "stream",
          "text": [
            "/usr/local/lib/python3.7/dist-packages/lightgbm/engine.py:123: UserWarning:\n",
            "\n",
            "Found `early_stopping_rounds` in params. Will use it instead of argument\n",
            "\n"
          ],
          "name": "stderr"
        },
        {
          "output_type": "stream",
          "text": [
            "[100]\tvalid_0's rmse: 0.204134\n",
            "[200]\tvalid_0's rmse: 0.189963\n",
            "[300]\tvalid_0's rmse: 0.185936\n",
            "[400]\tvalid_0's rmse: 0.184373\n",
            "[500]\tvalid_0's rmse: 0.183568\n",
            "Early stopping, best iteration is:\n",
            "[498]\tvalid_0's rmse: 0.1835\n"
          ],
          "name": "stdout"
        },
        {
          "output_type": "stream",
          "text": [
            "\u001b[32m[I 2021-04-08 18:19:24,918]\u001b[0m Trial 49 finished with value: 0.016925916856715472 and parameters: {'num_leaves': 237, 'max_bin': 1109, 'learning_rate': 0.07197448740086385, 'max_depth': 16, 'min_child_weight': 8, 'feature_fraction': 0.5497524289695054, 'bagging_fraction': 0.9970080341459777, 'bagging_freq': 1, 'min_child_samples': 8, 'lambda_l1': 0.10323861609376331, 'lambda_l2': 0.007450028014742337}. Best is trial 49 with value: 0.016925916856715472.\u001b[0m\n"
          ],
          "name": "stderr"
        },
        {
          "output_type": "stream",
          "text": [
            "RMSE = 0.016925916856715472\n"
          ],
          "name": "stdout"
        }
      ]
    },
    {
      "cell_type": "code",
      "metadata": {
        "colab": {
          "base_uri": "https://localhost:8080/"
        },
        "id": "sTPrNMxbqF1a",
        "outputId": "aae44a03-346a-4d63-eeea-ca0f7231d4e2"
      },
      "source": [
        "print(f\"Trials : {len(study.trials)}\")\n",
        "print(f\"Best Trial : {study.best_trial}\")\n",
        "best = study.best_trial\n",
        "for i, j in best.params.items():\n",
        "    print(f\"{i} : {j}\")\n",
        "print(f\"{best.value}\")"
      ],
      "execution_count": null,
      "outputs": [
        {
          "output_type": "stream",
          "text": [
            "Trials : 50\n",
            "Best Trial : FrozenTrial(number=49, values=[0.016925916856715472], datetime_start=datetime.datetime(2021, 4, 8, 18, 19, 17, 363757), datetime_complete=datetime.datetime(2021, 4, 8, 18, 19, 24, 917323), params={'num_leaves': 237, 'max_bin': 1109, 'learning_rate': 0.07197448740086385, 'max_depth': 16, 'min_child_weight': 8, 'feature_fraction': 0.5497524289695054, 'bagging_fraction': 0.9970080341459777, 'bagging_freq': 1, 'min_child_samples': 8, 'lambda_l1': 0.10323861609376331, 'lambda_l2': 0.007450028014742337}, distributions={'num_leaves': IntUniformDistribution(high=712, low=22, step=1), 'max_bin': IntUniformDistribution(high=1400, low=300, step=1), 'learning_rate': UniformDistribution(high=0.2, low=0.005), 'max_depth': IntUniformDistribution(high=16, low=4, step=1), 'min_child_weight': IntUniformDistribution(high=21, low=1, step=1), 'feature_fraction': UniformDistribution(high=1.0, low=0.4), 'bagging_fraction': UniformDistribution(high=1.0, low=0.4), 'bagging_freq': IntUniformDistribution(high=9, low=1, step=1), 'min_child_samples': IntUniformDistribution(high=100, low=3, step=1), 'lambda_l1': LogUniformDistribution(high=1.0, low=1e-08), 'lambda_l2': LogUniformDistribution(high=1.0, low=1e-08)}, user_attrs={}, system_attrs={}, intermediate_values={}, trial_id=49, state=TrialState.COMPLETE, value=None)\n",
            "num_leaves : 237\n",
            "max_bin : 1109\n",
            "learning_rate : 0.07197448740086385\n",
            "max_depth : 16\n",
            "min_child_weight : 8\n",
            "feature_fraction : 0.5497524289695054\n",
            "bagging_fraction : 0.9970080341459777\n",
            "bagging_freq : 1\n",
            "min_child_samples : 8\n",
            "lambda_l1 : 0.10323861609376331\n",
            "lambda_l2 : 0.007450028014742337\n",
            "0.016925916856715472\n"
          ],
          "name": "stdout"
        }
      ]
    },
    {
      "cell_type": "code",
      "metadata": {
        "id": "JF9SnJFyt6OG"
      },
      "source": [
        "best_params = best.params"
      ],
      "execution_count": null,
      "outputs": []
    },
    {
      "cell_type": "code",
      "metadata": {
        "colab": {
          "base_uri": "https://localhost:8080/"
        },
        "id": "zxhWFNp2uJGe",
        "outputId": "4e882382-ae0b-4e58-c272-c43040a00f96"
      },
      "source": [
        "best_params"
      ],
      "execution_count": null,
      "outputs": [
        {
          "output_type": "execute_result",
          "data": {
            "text/plain": [
              "{'bagging_fraction': 0.9970080341459777,\n",
              " 'bagging_freq': 1,\n",
              " 'feature_fraction': 0.5497524289695054,\n",
              " 'lambda_l1': 0.10323861609376331,\n",
              " 'lambda_l2': 0.007450028014742337,\n",
              " 'learning_rate': 0.07197448740086385,\n",
              " 'max_bin': 1109,\n",
              " 'max_depth': 16,\n",
              " 'min_child_samples': 8,\n",
              " 'min_child_weight': 8,\n",
              " 'num_leaves': 237}"
            ]
          },
          "metadata": {
            "tags": []
          },
          "execution_count": 79
        }
      ]
    },
    {
      "cell_type": "code",
      "metadata": {
        "colab": {
          "base_uri": "https://localhost:8080/"
        },
        "id": "6uxPcGJJuK2D",
        "outputId": "24eb6410-25a5-408f-c958-f8dffc165860"
      },
      "source": [
        "import lightgbm as lgb\n",
        "clf = lgb.LGBMRegressor(bagging_fraction=0.9970080341459777,bagging_freq=1,\n",
        " feature_fraction=0.5497524289695054,\n",
        " lambda_l1= 0.10323861609376331,\n",
        " lambda_l2= 0.007450028014742337,\n",
        " learning_rate= 0.07197448740086385,\n",
        " max_bin= 1109,\n",
        " max_depth= 16,\n",
        " min_child_samples= 8,\n",
        " min_child_weight=8,\n",
        " num_leaves=237)\n",
        "clf.fit(X_train, y_train)"
      ],
      "execution_count": null,
      "outputs": [
        {
          "output_type": "execute_result",
          "data": {
            "text/plain": [
              "LGBMRegressor(bagging_fraction=0.9970080341459777, bagging_freq=1,\n",
              "              boosting_type='gbdt', class_weight=None, colsample_bytree=1.0,\n",
              "              feature_fraction=0.5497524289695054, importance_type='split',\n",
              "              lambda_l1=0.10323861609376331, lambda_l2=0.007450028014742337,\n",
              "              learning_rate=0.07197448740086385, max_bin=1109, max_depth=16,\n",
              "              min_child_samples=8, min_child_weight=8, min_split_gain=0.0,\n",
              "              n_estimators=100, n_jobs=-1, num_leaves=237, objective=None,\n",
              "              random_state=None, reg_alpha=0.0, reg_lambda=0.0, silent=True,\n",
              "              subsample=1.0, subsample_for_bin=200000, subsample_freq=0)"
            ]
          },
          "metadata": {
            "tags": []
          },
          "execution_count": 81
        }
      ]
    },
    {
      "cell_type": "code",
      "metadata": {
        "colab": {
          "base_uri": "https://localhost:8080/"
        },
        "id": "k71TxLOWuqrg",
        "outputId": "59ed4809-beb5-44b0-f879-6ebee43bbbfc"
      },
      "source": [
        "pred = clf.predict(X_test)\n",
        "\n",
        "from sklearn.metrics import r2_score\n",
        "print(r2_score(y_test, pred))"
      ],
      "execution_count": null,
      "outputs": [
        {
          "output_type": "stream",
          "text": [
            "0.8630614747169733\n"
          ],
          "name": "stdout"
        }
      ]
    },
    {
      "cell_type": "code",
      "metadata": {
        "colab": {
          "base_uri": "https://localhost:8080/"
        },
        "id": "43yR8R_ruySn",
        "outputId": "4c97edfa-432d-45d8-87d4-a9cb3a8fce89"
      },
      "source": [
        "from sklearn.metrics import mean_squared_log_error\n",
        "np.sqrt(mean_squared_log_error(y_test, pred))"
      ],
      "execution_count": null,
      "outputs": [
        {
          "output_type": "execute_result",
          "data": {
            "text/plain": [
              "0.018719252235271742"
            ]
          },
          "metadata": {
            "tags": []
          },
          "execution_count": 83
        }
      ]
    },
    {
      "cell_type": "code",
      "metadata": {
        "colab": {
          "base_uri": "https://localhost:8080/",
          "height": 362
        },
        "id": "J0hjHOYNu2y5",
        "outputId": "09299ad9-66d8-49bc-d9b2-4abbba9cf461"
      },
      "source": [
        "print('Shape:',test.shape)\n",
        "test.head(2)"
      ],
      "execution_count": null,
      "outputs": [
        {
          "output_type": "stream",
          "text": [
            "Shape: (9000, 14)\n"
          ],
          "name": "stdout"
        },
        {
          "output_type": "execute_result",
          "data": {
            "text/html": [
              "<div>\n",
              "<style scoped>\n",
              "    .dataframe tbody tr th:only-of-type {\n",
              "        vertical-align: middle;\n",
              "    }\n",
              "\n",
              "    .dataframe tbody tr th {\n",
              "        vertical-align: top;\n",
              "    }\n",
              "\n",
              "    .dataframe thead th {\n",
              "        text-align: right;\n",
              "    }\n",
              "</style>\n",
              "<table border=\"1\" class=\"dataframe\">\n",
              "  <thead>\n",
              "    <tr style=\"text-align: right;\">\n",
              "      <th></th>\n",
              "      <th>Uniq Id</th>\n",
              "      <th>Package Name</th>\n",
              "      <th>Package Type</th>\n",
              "      <th>Destination</th>\n",
              "      <th>Itinerary</th>\n",
              "      <th>Places Covered</th>\n",
              "      <th>Travel Date</th>\n",
              "      <th>Hotel Details</th>\n",
              "      <th>Start City</th>\n",
              "      <th>Airline</th>\n",
              "      <th>Flight Stops</th>\n",
              "      <th>Meals</th>\n",
              "      <th>Sightseeing Places Covered</th>\n",
              "      <th>Cancellation Rules</th>\n",
              "    </tr>\n",
              "  </thead>\n",
              "  <tbody>\n",
              "    <tr>\n",
              "      <th>0</th>\n",
              "      <td>12c47aefbcca65d6156ba0bc7946704b</td>\n",
              "      <td>Goa 5N stay with flights &amp; Transfers-North Goa</td>\n",
              "      <td>Luxury</td>\n",
              "      <td>Goa</td>\n",
              "      <td>5N Goa</td>\n",
              "      <td>Goa</td>\n",
              "      <td>13-07-2021</td>\n",
              "      <td>Novotel Goa Resort &amp; Spa:4.1</td>\n",
              "      <td>New Delhi</td>\n",
              "      <td>IndiGo</td>\n",
              "      <td>0</td>\n",
              "      <td>4</td>\n",
              "      <td>Not Available</td>\n",
              "      <td>Cancellation any time after making the 1st pay...</td>\n",
              "    </tr>\n",
              "    <tr>\n",
              "      <th>1</th>\n",
              "      <td>156febf7d27315ae9f210ed13bca3ac2</td>\n",
              "      <td>Into the Wild - Weekend at Bandipur National Park</td>\n",
              "      <td>Luxury</td>\n",
              "      <td>Bandipur</td>\n",
              "      <td>2N Bandipur</td>\n",
              "      <td>Bandipur</td>\n",
              "      <td>20-03-2021</td>\n",
              "      <td>The Windflower Jungle Resorts &amp; Spa Bandipur:4.4</td>\n",
              "      <td>New Delhi</td>\n",
              "      <td>Not Available</td>\n",
              "      <td>0</td>\n",
              "      <td>4</td>\n",
              "      <td>Bandipur National Park</td>\n",
              "      <td>This cancellation policy is applicable for boo...</td>\n",
              "    </tr>\n",
              "  </tbody>\n",
              "</table>\n",
              "</div>"
            ],
            "text/plain": [
              "                            Uniq Id  ...                                 Cancellation Rules\n",
              "0  12c47aefbcca65d6156ba0bc7946704b  ...  Cancellation any time after making the 1st pay...\n",
              "1  156febf7d27315ae9f210ed13bca3ac2  ...  This cancellation policy is applicable for boo...\n",
              "\n",
              "[2 rows x 14 columns]"
            ]
          },
          "metadata": {
            "tags": []
          },
          "execution_count": 84
        }
      ]
    },
    {
      "cell_type": "code",
      "metadata": {
        "id": "9GPqQgcJvCiZ"
      },
      "source": [
        "test['Travel Date'] = pd.to_datetime(test['Travel Date'])"
      ],
      "execution_count": null,
      "outputs": []
    },
    {
      "cell_type": "code",
      "metadata": {
        "id": "Py1q515gvNsk"
      },
      "source": [
        "test['Year']=pd.DatetimeIndex(test['Travel Date']).year\n",
        "test['month']=pd.DatetimeIndex(test['Travel Date']).month\n"
      ],
      "execution_count": null,
      "outputs": []
    },
    {
      "cell_type": "code",
      "metadata": {
        "colab": {
          "base_uri": "https://localhost:8080/",
          "height": 362
        },
        "id": "TklwsSepvqor",
        "outputId": "d9a94126-006b-43ba-85c7-e18632c7ebf5"
      },
      "source": [
        "df_test = test.drop(columns=['Uniq Id'])\n",
        "print('Shape',df_test.shape)\n",
        "df_test.head(2)"
      ],
      "execution_count": null,
      "outputs": [
        {
          "output_type": "stream",
          "text": [
            "Shape (9000, 15)\n"
          ],
          "name": "stdout"
        },
        {
          "output_type": "execute_result",
          "data": {
            "text/html": [
              "<div>\n",
              "<style scoped>\n",
              "    .dataframe tbody tr th:only-of-type {\n",
              "        vertical-align: middle;\n",
              "    }\n",
              "\n",
              "    .dataframe tbody tr th {\n",
              "        vertical-align: top;\n",
              "    }\n",
              "\n",
              "    .dataframe thead th {\n",
              "        text-align: right;\n",
              "    }\n",
              "</style>\n",
              "<table border=\"1\" class=\"dataframe\">\n",
              "  <thead>\n",
              "    <tr style=\"text-align: right;\">\n",
              "      <th></th>\n",
              "      <th>Package Name</th>\n",
              "      <th>Package Type</th>\n",
              "      <th>Destination</th>\n",
              "      <th>Itinerary</th>\n",
              "      <th>Places Covered</th>\n",
              "      <th>Travel Date</th>\n",
              "      <th>Hotel Details</th>\n",
              "      <th>Start City</th>\n",
              "      <th>Airline</th>\n",
              "      <th>Flight Stops</th>\n",
              "      <th>Meals</th>\n",
              "      <th>Sightseeing Places Covered</th>\n",
              "      <th>Cancellation Rules</th>\n",
              "      <th>Year</th>\n",
              "      <th>month</th>\n",
              "    </tr>\n",
              "  </thead>\n",
              "  <tbody>\n",
              "    <tr>\n",
              "      <th>0</th>\n",
              "      <td>Goa 5N stay with flights &amp; Transfers-North Goa</td>\n",
              "      <td>Luxury</td>\n",
              "      <td>Goa</td>\n",
              "      <td>5N Goa</td>\n",
              "      <td>Goa</td>\n",
              "      <td>2021-07-13</td>\n",
              "      <td>Novotel Goa Resort &amp; Spa:4.1</td>\n",
              "      <td>New Delhi</td>\n",
              "      <td>IndiGo</td>\n",
              "      <td>0</td>\n",
              "      <td>4</td>\n",
              "      <td>Not Available</td>\n",
              "      <td>Cancellation any time after making the 1st pay...</td>\n",
              "      <td>2021</td>\n",
              "      <td>7</td>\n",
              "    </tr>\n",
              "    <tr>\n",
              "      <th>1</th>\n",
              "      <td>Into the Wild - Weekend at Bandipur National Park</td>\n",
              "      <td>Luxury</td>\n",
              "      <td>Bandipur</td>\n",
              "      <td>2N Bandipur</td>\n",
              "      <td>Bandipur</td>\n",
              "      <td>2021-03-20</td>\n",
              "      <td>The Windflower Jungle Resorts &amp; Spa Bandipur:4.4</td>\n",
              "      <td>New Delhi</td>\n",
              "      <td>Not Available</td>\n",
              "      <td>0</td>\n",
              "      <td>4</td>\n",
              "      <td>Bandipur National Park</td>\n",
              "      <td>This cancellation policy is applicable for boo...</td>\n",
              "      <td>2021</td>\n",
              "      <td>3</td>\n",
              "    </tr>\n",
              "  </tbody>\n",
              "</table>\n",
              "</div>"
            ],
            "text/plain": [
              "                                        Package Name Package Type  ...  Year month\n",
              "0     Goa 5N stay with flights & Transfers-North Goa       Luxury  ...  2021     7\n",
              "1  Into the Wild - Weekend at Bandipur National Park       Luxury  ...  2021     3\n",
              "\n",
              "[2 rows x 15 columns]"
            ]
          },
          "metadata": {
            "tags": []
          },
          "execution_count": 88
        }
      ]
    },
    {
      "cell_type": "code",
      "metadata": {
        "colab": {
          "base_uri": "https://localhost:8080/",
          "height": 602
        },
        "id": "teb5BUVMv182",
        "outputId": "d40bf28d-d50c-4540-b6b7-0d08402c0b94"
      },
      "source": [
        "continuous_data, categorical_data = divideFeatures(df_test)\n",
        "categorical_data[:5]"
      ],
      "execution_count": null,
      "outputs": [
        {
          "output_type": "execute_result",
          "data": {
            "text/html": [
              "<div>\n",
              "<style scoped>\n",
              "    .dataframe tbody tr th:only-of-type {\n",
              "        vertical-align: middle;\n",
              "    }\n",
              "\n",
              "    .dataframe tbody tr th {\n",
              "        vertical-align: top;\n",
              "    }\n",
              "\n",
              "    .dataframe thead th {\n",
              "        text-align: right;\n",
              "    }\n",
              "</style>\n",
              "<table border=\"1\" class=\"dataframe\">\n",
              "  <thead>\n",
              "    <tr style=\"text-align: right;\">\n",
              "      <th></th>\n",
              "      <th>Package Name</th>\n",
              "      <th>Package Type</th>\n",
              "      <th>Destination</th>\n",
              "      <th>Itinerary</th>\n",
              "      <th>Places Covered</th>\n",
              "      <th>Hotel Details</th>\n",
              "      <th>Start City</th>\n",
              "      <th>Airline</th>\n",
              "      <th>Sightseeing Places Covered</th>\n",
              "      <th>Cancellation Rules</th>\n",
              "    </tr>\n",
              "  </thead>\n",
              "  <tbody>\n",
              "    <tr>\n",
              "      <th>0</th>\n",
              "      <td>Goa 5N stay with flights &amp; Transfers-North Goa</td>\n",
              "      <td>Luxury</td>\n",
              "      <td>Goa</td>\n",
              "      <td>5N Goa</td>\n",
              "      <td>Goa</td>\n",
              "      <td>Novotel Goa Resort &amp; Spa:4.1</td>\n",
              "      <td>New Delhi</td>\n",
              "      <td>IndiGo</td>\n",
              "      <td>Not Available</td>\n",
              "      <td>Cancellation any time after making the 1st pay...</td>\n",
              "    </tr>\n",
              "    <tr>\n",
              "      <th>1</th>\n",
              "      <td>Into the Wild - Weekend at Bandipur National Park</td>\n",
              "      <td>Luxury</td>\n",
              "      <td>Bandipur</td>\n",
              "      <td>2N Bandipur</td>\n",
              "      <td>Bandipur</td>\n",
              "      <td>The Windflower Jungle Resorts &amp; Spa Bandipur:4.4</td>\n",
              "      <td>New Delhi</td>\n",
              "      <td>Not Available</td>\n",
              "      <td>Bandipur National Park</td>\n",
              "      <td>This cancellation policy is applicable for boo...</td>\n",
              "    </tr>\n",
              "    <tr>\n",
              "      <th>2</th>\n",
              "      <td>Unforgettable Munnar Getaway - Private Picnic ...</td>\n",
              "      <td>Standard</td>\n",
              "      <td>Munnar</td>\n",
              "      <td>3N Munnar</td>\n",
              "      <td>Munnar</td>\n",
              "      <td>Not Available</td>\n",
              "      <td>New Delhi</td>\n",
              "      <td>Not Available</td>\n",
              "      <td>Old Munnar Town | Eravikulam national park | ...</td>\n",
              "      <td>This cancellation policy is applicable for boo...</td>\n",
              "    </tr>\n",
              "    <tr>\n",
              "      <th>3</th>\n",
              "      <td>Munnar for Adventure Lovers - Top Valley Trek</td>\n",
              "      <td>Deluxe</td>\n",
              "      <td>Munnar</td>\n",
              "      <td>3N Munnar</td>\n",
              "      <td>Munnar</td>\n",
              "      <td>Not Available</td>\n",
              "      <td>Mumbai</td>\n",
              "      <td>Not Available</td>\n",
              "      <td>Tata Tea Museum | Eravikulam national park | ...</td>\n",
              "      <td>This cancellation policy is applicable for boo...</td>\n",
              "    </tr>\n",
              "    <tr>\n",
              "      <th>4</th>\n",
              "      <td>Splendours of Kerala - Make your own Tea</td>\n",
              "      <td>Luxury</td>\n",
              "      <td>Cochin|Munnar|Thekkady|Allepey</td>\n",
              "      <td>1N Cochin . 2N Munnar . 1N Thekkady . 1N Allepey</td>\n",
              "      <td>Cochin|Munnar|Thekkady|Allepey</td>\n",
              "      <td>Casino Hotel - Cgh Earth-MMT Holidays Special:...</td>\n",
              "      <td>New Delhi</td>\n",
              "      <td>IndiGo</td>\n",
              "      <td>Fort Cochin | Dutch Palace | Jewish Synagogue...</td>\n",
              "      <td>Cancellation any time after making the 1st pay...</td>\n",
              "    </tr>\n",
              "  </tbody>\n",
              "</table>\n",
              "</div>"
            ],
            "text/plain": [
              "                                        Package Name  ...                                 Cancellation Rules\n",
              "0     Goa 5N stay with flights & Transfers-North Goa  ...  Cancellation any time after making the 1st pay...\n",
              "1  Into the Wild - Weekend at Bandipur National Park  ...  This cancellation policy is applicable for boo...\n",
              "2  Unforgettable Munnar Getaway - Private Picnic ...  ...  This cancellation policy is applicable for boo...\n",
              "3      Munnar for Adventure Lovers - Top Valley Trek  ...  This cancellation policy is applicable for boo...\n",
              "4           Splendours of Kerala - Make your own Tea  ...  Cancellation any time after making the 1st pay...\n",
              "\n",
              "[5 rows x 10 columns]"
            ]
          },
          "metadata": {
            "tags": []
          },
          "execution_count": 89
        }
      ]
    },
    {
      "cell_type": "code",
      "metadata": {
        "id": "P-uZeRJev7lS"
      },
      "source": [
        "for col in categorical_data:\n",
        "  df_test[col] = lb.fit_transform(df_test[col])"
      ],
      "execution_count": null,
      "outputs": []
    },
    {
      "cell_type": "code",
      "metadata": {
        "colab": {
          "base_uri": "https://localhost:8080/",
          "height": 123
        },
        "id": "agZZARGOvViX",
        "outputId": "467ea381-88a7-444f-d276-b6ed4ef49972"
      },
      "source": [
        "X = df_test.drop(columns=['Travel Date','month','Package Type','Meals','Destination','Places Covered'])\n",
        "print('Shape:',X.shape)\n",
        "X.head(2)"
      ],
      "execution_count": null,
      "outputs": [
        {
          "output_type": "stream",
          "text": [
            "Shape: (9000, 9)\n"
          ],
          "name": "stdout"
        },
        {
          "output_type": "execute_result",
          "data": {
            "text/html": [
              "<div>\n",
              "<style scoped>\n",
              "    .dataframe tbody tr th:only-of-type {\n",
              "        vertical-align: middle;\n",
              "    }\n",
              "\n",
              "    .dataframe tbody tr th {\n",
              "        vertical-align: top;\n",
              "    }\n",
              "\n",
              "    .dataframe thead th {\n",
              "        text-align: right;\n",
              "    }\n",
              "</style>\n",
              "<table border=\"1\" class=\"dataframe\">\n",
              "  <thead>\n",
              "    <tr style=\"text-align: right;\">\n",
              "      <th></th>\n",
              "      <th>Package Name</th>\n",
              "      <th>Itinerary</th>\n",
              "      <th>Hotel Details</th>\n",
              "      <th>Start City</th>\n",
              "      <th>Airline</th>\n",
              "      <th>Flight Stops</th>\n",
              "      <th>Sightseeing Places Covered</th>\n",
              "      <th>Cancellation Rules</th>\n",
              "      <th>Year</th>\n",
              "    </tr>\n",
              "  </thead>\n",
              "  <tbody>\n",
              "    <tr>\n",
              "      <th>0</th>\n",
              "      <td>797</td>\n",
              "      <td>918</td>\n",
              "      <td>1959</td>\n",
              "      <td>1</td>\n",
              "      <td>80</td>\n",
              "      <td>0</td>\n",
              "      <td>1475</td>\n",
              "      <td>0</td>\n",
              "      <td>2021</td>\n",
              "    </tr>\n",
              "    <tr>\n",
              "      <th>1</th>\n",
              "      <td>1003</td>\n",
              "      <td>308</td>\n",
              "      <td>3442</td>\n",
              "      <td>1</td>\n",
              "      <td>147</td>\n",
              "      <td>0</td>\n",
              "      <td>66</td>\n",
              "      <td>6</td>\n",
              "      <td>2021</td>\n",
              "    </tr>\n",
              "  </tbody>\n",
              "</table>\n",
              "</div>"
            ],
            "text/plain": [
              "   Package Name  Itinerary  ...  Cancellation Rules  Year\n",
              "0           797        918  ...                   0  2021\n",
              "1          1003        308  ...                   6  2021\n",
              "\n",
              "[2 rows x 9 columns]"
            ]
          },
          "metadata": {
            "tags": []
          },
          "execution_count": 91
        }
      ]
    },
    {
      "cell_type": "code",
      "metadata": {
        "colab": {
          "base_uri": "https://localhost:8080/",
          "height": 195
        },
        "id": "CLUehfUdvjOe",
        "outputId": "bf63416d-f32a-4296-f6e6-77281c609d92"
      },
      "source": [
        "from sklearn.preprocessing import StandardScaler,RobustScaler\n",
        "rs = StandardScaler()\n",
        "for c in X.columns:\n",
        "    X[c] = rs.fit_transform(X[c].values.reshape(-1, 1))\n",
        "X.head()"
      ],
      "execution_count": null,
      "outputs": [
        {
          "output_type": "execute_result",
          "data": {
            "text/html": [
              "<div>\n",
              "<style scoped>\n",
              "    .dataframe tbody tr th:only-of-type {\n",
              "        vertical-align: middle;\n",
              "    }\n",
              "\n",
              "    .dataframe tbody tr th {\n",
              "        vertical-align: top;\n",
              "    }\n",
              "\n",
              "    .dataframe thead th {\n",
              "        text-align: right;\n",
              "    }\n",
              "</style>\n",
              "<table border=\"1\" class=\"dataframe\">\n",
              "  <thead>\n",
              "    <tr style=\"text-align: right;\">\n",
              "      <th></th>\n",
              "      <th>Package Name</th>\n",
              "      <th>Itinerary</th>\n",
              "      <th>Hotel Details</th>\n",
              "      <th>Start City</th>\n",
              "      <th>Airline</th>\n",
              "      <th>Flight Stops</th>\n",
              "      <th>Sightseeing Places Covered</th>\n",
              "      <th>Cancellation Rules</th>\n",
              "      <th>Year</th>\n",
              "    </tr>\n",
              "  </thead>\n",
              "  <tbody>\n",
              "    <tr>\n",
              "      <th>0</th>\n",
              "      <td>-0.338273</td>\n",
              "      <td>1.590855</td>\n",
              "      <td>0.077686</td>\n",
              "      <td>0.719340</td>\n",
              "      <td>-0.771121</td>\n",
              "      <td>-1.046411</td>\n",
              "      <td>1.472236</td>\n",
              "      <td>-0.442660</td>\n",
              "      <td>-0.198446</td>\n",
              "    </tr>\n",
              "    <tr>\n",
              "      <th>1</th>\n",
              "      <td>0.008203</td>\n",
              "      <td>-0.721739</td>\n",
              "      <td>1.555609</td>\n",
              "      <td>0.719340</td>\n",
              "      <td>0.614940</td>\n",
              "      <td>-1.046411</td>\n",
              "      <td>-1.743153</td>\n",
              "      <td>2.420738</td>\n",
              "      <td>-0.198446</td>\n",
              "    </tr>\n",
              "    <tr>\n",
              "      <th>2</th>\n",
              "      <td>1.637987</td>\n",
              "      <td>1.075261</td>\n",
              "      <td>0.072703</td>\n",
              "      <td>0.719340</td>\n",
              "      <td>0.614940</td>\n",
              "      <td>1.329096</td>\n",
              "      <td>0.395115</td>\n",
              "      <td>2.420738</td>\n",
              "      <td>5.039143</td>\n",
              "    </tr>\n",
              "    <tr>\n",
              "      <th>3</th>\n",
              "      <td>0.606968</td>\n",
              "      <td>1.075261</td>\n",
              "      <td>0.072703</td>\n",
              "      <td>-1.390162</td>\n",
              "      <td>0.614940</td>\n",
              "      <td>0.141343</td>\n",
              "      <td>1.127648</td>\n",
              "      <td>2.420738</td>\n",
              "      <td>-0.198446</td>\n",
              "    </tr>\n",
              "    <tr>\n",
              "      <th>4</th>\n",
              "      <td>1.345332</td>\n",
              "      <td>-1.650568</td>\n",
              "      <td>-1.684261</td>\n",
              "      <td>0.719340</td>\n",
              "      <td>-0.771121</td>\n",
              "      <td>-1.046411</td>\n",
              "      <td>-0.574751</td>\n",
              "      <td>-0.442660</td>\n",
              "      <td>-0.198446</td>\n",
              "    </tr>\n",
              "  </tbody>\n",
              "</table>\n",
              "</div>"
            ],
            "text/plain": [
              "   Package Name  Itinerary  ...  Cancellation Rules      Year\n",
              "0     -0.338273   1.590855  ...           -0.442660 -0.198446\n",
              "1      0.008203  -0.721739  ...            2.420738 -0.198446\n",
              "2      1.637987   1.075261  ...            2.420738  5.039143\n",
              "3      0.606968   1.075261  ...            2.420738 -0.198446\n",
              "4      1.345332  -1.650568  ...           -0.442660 -0.198446\n",
              "\n",
              "[5 rows x 9 columns]"
            ]
          },
          "metadata": {
            "tags": []
          },
          "execution_count": 92
        }
      ]
    },
    {
      "cell_type": "code",
      "metadata": {
        "colab": {
          "base_uri": "https://localhost:8080/"
        },
        "id": "lI7IihzFwMDd",
        "outputId": "331ff889-7e9c-4c56-ff4f-55f10d70564d"
      },
      "source": [
        "prediction = clf.predict(X)\n",
        "prediction"
      ],
      "execution_count": null,
      "outputs": [
        {
          "output_type": "execute_result",
          "data": {
            "text/plain": [
              "array([ 9.92886743,  9.88525168,  9.68037783, ..., 10.02411976,\n",
              "        9.9214275 ,  9.61595485])"
            ]
          },
          "metadata": {
            "tags": []
          },
          "execution_count": 93
        }
      ]
    },
    {
      "cell_type": "code",
      "metadata": {
        "id": "oCIQGPPVwiX-"
      },
      "source": [
        "Predict=np.exp(prediction)"
      ],
      "execution_count": null,
      "outputs": []
    },
    {
      "cell_type": "code",
      "metadata": {
        "colab": {
          "base_uri": "https://localhost:8080/",
          "height": 195
        },
        "id": "Dy68p07dwo4C",
        "outputId": "7d82c767-e741-4833-94d1-11b8552e9950"
      },
      "source": [
        "submission = pd.DataFrame({'Per Person Price':Predict})\n",
        "submission.head()"
      ],
      "execution_count": null,
      "outputs": [
        {
          "output_type": "execute_result",
          "data": {
            "text/html": [
              "<div>\n",
              "<style scoped>\n",
              "    .dataframe tbody tr th:only-of-type {\n",
              "        vertical-align: middle;\n",
              "    }\n",
              "\n",
              "    .dataframe tbody tr th {\n",
              "        vertical-align: top;\n",
              "    }\n",
              "\n",
              "    .dataframe thead th {\n",
              "        text-align: right;\n",
              "    }\n",
              "</style>\n",
              "<table border=\"1\" class=\"dataframe\">\n",
              "  <thead>\n",
              "    <tr style=\"text-align: right;\">\n",
              "      <th></th>\n",
              "      <th>Per Person Price</th>\n",
              "    </tr>\n",
              "  </thead>\n",
              "  <tbody>\n",
              "    <tr>\n",
              "      <th>0</th>\n",
              "      <td>20514.093709</td>\n",
              "    </tr>\n",
              "    <tr>\n",
              "      <th>1</th>\n",
              "      <td>19638.587839</td>\n",
              "    </tr>\n",
              "    <tr>\n",
              "      <th>2</th>\n",
              "      <td>16000.541319</td>\n",
              "    </tr>\n",
              "    <tr>\n",
              "      <th>3</th>\n",
              "      <td>17886.563602</td>\n",
              "    </tr>\n",
              "    <tr>\n",
              "      <th>4</th>\n",
              "      <td>22578.753990</td>\n",
              "    </tr>\n",
              "  </tbody>\n",
              "</table>\n",
              "</div>"
            ],
            "text/plain": [
              "   Per Person Price\n",
              "0      20514.093709\n",
              "1      19638.587839\n",
              "2      16000.541319\n",
              "3      17886.563602\n",
              "4      22578.753990"
            ]
          },
          "metadata": {
            "tags": []
          },
          "execution_count": 95
        }
      ]
    },
    {
      "cell_type": "code",
      "metadata": {
        "id": "tCxr-6JMwr1R"
      },
      "source": [
        "submission.to_csv('lgbm-o.csv')"
      ],
      "execution_count": null,
      "outputs": []
    },
    {
      "cell_type": "code",
      "metadata": {
        "id": "6qVlx_Xywz4J"
      },
      "source": [
        ""
      ],
      "execution_count": null,
      "outputs": []
    }
  ]
}