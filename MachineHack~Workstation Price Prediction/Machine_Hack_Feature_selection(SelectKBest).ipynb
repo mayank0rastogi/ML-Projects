{
  "nbformat": 4,
  "nbformat_minor": 0,
  "metadata": {
    "colab": {
      "name": "Machine Hack~Feature selection(SelectKBest).ipynb",
      "provenance": []
    },
    "kernelspec": {
      "name": "python3",
      "display_name": "Python 3"
    },
    "language_info": {
      "name": "python"
    }
  },
  "cells": [
    {
      "cell_type": "code",
      "metadata": {
        "colab": {
          "base_uri": "https://localhost:8080/"
        },
        "id": "bAsElTj5FafP",
        "outputId": "8267d892-7c92-49f7-8d49-d65e3a78f4ec"
      },
      "source": [
        "from zipfile import ZipFile\n",
        "file_name = \"/content/drive/MyDrive/machineHack/Workation Price Prediction Challenge/Participant_Data_WPPH.zip\"\n",
        "with ZipFile(file_name,'r') as zip:\n",
        "  zip.extractall()\n",
        "  print('finish')\n"
      ],
      "execution_count": 1,
      "outputs": [
        {
          "output_type": "stream",
          "text": [
            "finish\n"
          ],
          "name": "stdout"
        }
      ]
    },
    {
      "cell_type": "code",
      "metadata": {
        "id": "mqbOYHlUFz8i"
      },
      "source": [
        "import numpy as np\n",
        "import pandas as pd\n",
        "\n",
        "from sklearn.model_selection import train_test_split\n",
        "import seaborn as sns\n",
        "import matplotlib.pyplot as plt"
      ],
      "execution_count": 2,
      "outputs": []
    },
    {
      "cell_type": "code",
      "metadata": {
        "id": "hO2g8MkaGAj2"
      },
      "source": [
        "train=pd.read_csv(\"/content/Participant_Data_WPPH/Train.csv\")\n",
        "test = pd.read_csv('/content/Participant_Data_WPPH/Test.csv')\n",
        "submission = pd.read_csv('/content/Participant_Data_WPPH/sample submission.csv')"
      ],
      "execution_count": 3,
      "outputs": []
    },
    {
      "cell_type": "code",
      "metadata": {
        "id": "xgypWZcjGE5p"
      },
      "source": [
        "train['Travel Date'] = pd.to_datetime(train['Travel Date'])"
      ],
      "execution_count": 4,
      "outputs": []
    },
    {
      "cell_type": "code",
      "metadata": {
        "id": "Ct7mSjlEGKoS"
      },
      "source": [
        "train['Year']=pd.DatetimeIndex(train['Travel Date']).year\n",
        "train['month']=pd.DatetimeIndex(train['Travel Date']).month\n"
      ],
      "execution_count": 5,
      "outputs": []
    },
    {
      "cell_type": "code",
      "metadata": {
        "colab": {
          "base_uri": "https://localhost:8080/"
        },
        "id": "xFRL6YVtBjAm",
        "outputId": "a4057925-403b-4fff-966a-5af1e6b547f2"
      },
      "source": [
        "train.info()"
      ],
      "execution_count": 10,
      "outputs": [
        {
          "output_type": "stream",
          "text": [
            "<class 'pandas.core.frame.DataFrame'>\n",
            "RangeIndex: 21000 entries, 0 to 20999\n",
            "Data columns (total 17 columns):\n",
            " #   Column                      Non-Null Count  Dtype         \n",
            "---  ------                      --------------  -----         \n",
            " 0   Uniq Id                     21000 non-null  object        \n",
            " 1   Package Name                21000 non-null  object        \n",
            " 2   Package Type                21000 non-null  object        \n",
            " 3   Destination                 21000 non-null  object        \n",
            " 4   Itinerary                   21000 non-null  object        \n",
            " 5   Places Covered              21000 non-null  object        \n",
            " 6   Travel Date                 21000 non-null  datetime64[ns]\n",
            " 7   Hotel Details               21000 non-null  object        \n",
            " 8   Start City                  21000 non-null  object        \n",
            " 9   Airline                     21000 non-null  object        \n",
            " 10  Flight Stops                21000 non-null  int64         \n",
            " 11  Meals                       21000 non-null  int64         \n",
            " 12  Sightseeing Places Covered  21000 non-null  object        \n",
            " 13  Cancellation Rules          21000 non-null  object        \n",
            " 14  Per Person Price            21000 non-null  float64       \n",
            " 15  Year                        21000 non-null  int64         \n",
            " 16  month                       21000 non-null  int64         \n",
            "dtypes: datetime64[ns](1), float64(1), int64(4), object(11)\n",
            "memory usage: 2.7+ MB\n"
          ],
          "name": "stdout"
        }
      ]
    },
    {
      "cell_type": "code",
      "metadata": {
        "id": "ppEbI_WIGMMq"
      },
      "source": [
        "# select numerical and categorical features\n",
        "def divideFeatures(train):\n",
        "    numerical_features = train.select_dtypes(include=[np.number])\n",
        "    categorical_features = train.select_dtypes(include=[np.object])\n",
        "    return numerical_features, categorical_features"
      ],
      "execution_count": 11,
      "outputs": []
    },
    {
      "cell_type": "code",
      "metadata": {
        "colab": {
          "base_uri": "https://localhost:8080/",
          "height": 568
        },
        "id": "aLyuf2YiG2v8",
        "outputId": "721c4471-9856-47ee-d7f3-d4fa6344bd18"
      },
      "source": [
        "continuous_data, categorical_data = divideFeatures(train)\n",
        "categorical_data[:5]"
      ],
      "execution_count": 12,
      "outputs": [
        {
          "output_type": "execute_result",
          "data": {
            "text/html": [
              "<div>\n",
              "<style scoped>\n",
              "    .dataframe tbody tr th:only-of-type {\n",
              "        vertical-align: middle;\n",
              "    }\n",
              "\n",
              "    .dataframe tbody tr th {\n",
              "        vertical-align: top;\n",
              "    }\n",
              "\n",
              "    .dataframe thead th {\n",
              "        text-align: right;\n",
              "    }\n",
              "</style>\n",
              "<table border=\"1\" class=\"dataframe\">\n",
              "  <thead>\n",
              "    <tr style=\"text-align: right;\">\n",
              "      <th></th>\n",
              "      <th>Uniq Id</th>\n",
              "      <th>Package Name</th>\n",
              "      <th>Package Type</th>\n",
              "      <th>Destination</th>\n",
              "      <th>Itinerary</th>\n",
              "      <th>Places Covered</th>\n",
              "      <th>Hotel Details</th>\n",
              "      <th>Start City</th>\n",
              "      <th>Airline</th>\n",
              "      <th>Sightseeing Places Covered</th>\n",
              "      <th>Cancellation Rules</th>\n",
              "    </tr>\n",
              "  </thead>\n",
              "  <tbody>\n",
              "    <tr>\n",
              "      <th>0</th>\n",
              "      <td>e788ab76d9d8cf1e6ed2f139645ca5d1</td>\n",
              "      <td>Best of Shimla and Manali Holiday from Delhi</td>\n",
              "      <td>Standard</td>\n",
              "      <td>New Delhi|Shimla|Manali|Chandigarh</td>\n",
              "      <td>1N New Delhi . 2N Shimla . 2N Manali . 1N Chan...</td>\n",
              "      <td>New Delhi|Shimla|Manali|Chandigarh</td>\n",
              "      <td>Not Available</td>\n",
              "      <td>Mumbai</td>\n",
              "      <td>Not Available</td>\n",
              "      <td>Not Available</td>\n",
              "      <td>Not Available</td>\n",
              "    </tr>\n",
              "    <tr>\n",
              "      <th>1</th>\n",
              "      <td>178f892630ce3e335a5a41d5d83937fd</td>\n",
              "      <td>Kashmir Valley vacation</td>\n",
              "      <td>Premium</td>\n",
              "      <td>Srinagar|Pahalgam|Srinagar</td>\n",
              "      <td>1N Srinagar . 2N Pahalgam . 1N Srinagar</td>\n",
              "      <td>Srinagar|Pahalgam|Srinagar</td>\n",
              "      <td>The Orchard Retreat &amp; Spa:4.6|WelcomHotel Pine...</td>\n",
              "      <td>New Delhi</td>\n",
              "      <td>IndiGo|IndiGo</td>\n",
              "      <td>Dal Lake | Avantipura Ruins | Mughal Gardens ...</td>\n",
              "      <td>Cancellation any time after making the 1st pay...</td>\n",
              "    </tr>\n",
              "    <tr>\n",
              "      <th>2</th>\n",
              "      <td>f060f2954840503cc2fdaf495357b7df</td>\n",
              "      <td>Might of Mewar- Udaipur and Chittorgarh</td>\n",
              "      <td>Luxury</td>\n",
              "      <td>Udaipur|Chittorgarh</td>\n",
              "      <td>2N Udaipur . 1N Chittorgarh</td>\n",
              "      <td>Udaipur|Chittorgarh</td>\n",
              "      <td>The Ananta:4.4|juSTa Lake Nahargarh Palace:4</td>\n",
              "      <td>New Delhi</td>\n",
              "      <td>IndiGo</td>\n",
              "      <td>Lake Pichola | Jag Mandir Palace | Saheliyon ...</td>\n",
              "      <td>Cancellation any time after making the 1st pay...</td>\n",
              "    </tr>\n",
              "    <tr>\n",
              "      <th>3</th>\n",
              "      <td>32a19a6c171e67448f2346da46c619dc</td>\n",
              "      <td>Colorful Kerala ( Romantic Getaway )</td>\n",
              "      <td>Premium</td>\n",
              "      <td>Munnar|Kumarakom|Allepey|Kovalam and Poovar</td>\n",
              "      <td>2N Munnar . 1N Kumarakom . 1N Allepey . 2N Kov...</td>\n",
              "      <td>Munnar|Kumarakom|Allepey|Kovalam and Poovar</td>\n",
              "      <td>Elixir Hills Suites Resort &amp; Spa-MMT Holidays ...</td>\n",
              "      <td>New Delhi</td>\n",
              "      <td>IndiGo</td>\n",
              "      <td>Mattupetty Dam | Echo Point | Tata Tea Museum...</td>\n",
              "      <td>Cancellation any time after making the 1st pay...</td>\n",
              "    </tr>\n",
              "    <tr>\n",
              "      <th>4</th>\n",
              "      <td>107b068aa0ca03bc6248966f594d105f</td>\n",
              "      <td>A Week In Bangkok &amp; Pattaya</td>\n",
              "      <td>Premium</td>\n",
              "      <td>Pattaya|Bangkok</td>\n",
              "      <td>4N Pattaya . 3N Bangkok</td>\n",
              "      <td>Pattaya|Bangkok</td>\n",
              "      <td>Dusit Thani Pattaya - MMT Special:4.5|Amari Wa...</td>\n",
              "      <td>New Delhi</td>\n",
              "      <td>Spicejet|Go Air</td>\n",
              "      <td>Coral Island Tour with Indian Lunch, Join Spe...</td>\n",
              "      <td>Cancellation any time after making the 1st pay...</td>\n",
              "    </tr>\n",
              "  </tbody>\n",
              "</table>\n",
              "</div>"
            ],
            "text/plain": [
              "                            Uniq Id  ...                                 Cancellation Rules\n",
              "0  e788ab76d9d8cf1e6ed2f139645ca5d1  ...                                      Not Available\n",
              "1  178f892630ce3e335a5a41d5d83937fd  ...  Cancellation any time after making the 1st pay...\n",
              "2  f060f2954840503cc2fdaf495357b7df  ...  Cancellation any time after making the 1st pay...\n",
              "3  32a19a6c171e67448f2346da46c619dc  ...  Cancellation any time after making the 1st pay...\n",
              "4  107b068aa0ca03bc6248966f594d105f  ...  Cancellation any time after making the 1st pay...\n",
              "\n",
              "[5 rows x 11 columns]"
            ]
          },
          "metadata": {
            "tags": []
          },
          "execution_count": 12
        }
      ]
    },
    {
      "cell_type": "code",
      "metadata": {
        "colab": {
          "base_uri": "https://localhost:8080/",
          "height": 362
        },
        "id": "oEidi_pQNfI0",
        "outputId": "c5a8e140-f0b4-458a-f35e-930405940719"
      },
      "source": [
        "df_train = train.drop(columns=['Uniq Id'])\n",
        "print('Shape',df_train.shape)\n",
        "df_train.head(2)"
      ],
      "execution_count": 13,
      "outputs": [
        {
          "output_type": "stream",
          "text": [
            "Shape (21000, 16)\n"
          ],
          "name": "stdout"
        },
        {
          "output_type": "execute_result",
          "data": {
            "text/html": [
              "<div>\n",
              "<style scoped>\n",
              "    .dataframe tbody tr th:only-of-type {\n",
              "        vertical-align: middle;\n",
              "    }\n",
              "\n",
              "    .dataframe tbody tr th {\n",
              "        vertical-align: top;\n",
              "    }\n",
              "\n",
              "    .dataframe thead th {\n",
              "        text-align: right;\n",
              "    }\n",
              "</style>\n",
              "<table border=\"1\" class=\"dataframe\">\n",
              "  <thead>\n",
              "    <tr style=\"text-align: right;\">\n",
              "      <th></th>\n",
              "      <th>Package Name</th>\n",
              "      <th>Package Type</th>\n",
              "      <th>Destination</th>\n",
              "      <th>Itinerary</th>\n",
              "      <th>Places Covered</th>\n",
              "      <th>Travel Date</th>\n",
              "      <th>Hotel Details</th>\n",
              "      <th>Start City</th>\n",
              "      <th>Airline</th>\n",
              "      <th>Flight Stops</th>\n",
              "      <th>Meals</th>\n",
              "      <th>Sightseeing Places Covered</th>\n",
              "      <th>Cancellation Rules</th>\n",
              "      <th>Per Person Price</th>\n",
              "      <th>Year</th>\n",
              "      <th>month</th>\n",
              "    </tr>\n",
              "  </thead>\n",
              "  <tbody>\n",
              "    <tr>\n",
              "      <th>0</th>\n",
              "      <td>Best of Shimla and Manali Holiday from Delhi</td>\n",
              "      <td>Standard</td>\n",
              "      <td>New Delhi|Shimla|Manali|Chandigarh</td>\n",
              "      <td>1N New Delhi . 2N Shimla . 2N Manali . 1N Chan...</td>\n",
              "      <td>New Delhi|Shimla|Manali|Chandigarh</td>\n",
              "      <td>2021-07-30</td>\n",
              "      <td>Not Available</td>\n",
              "      <td>Mumbai</td>\n",
              "      <td>Not Available</td>\n",
              "      <td>2</td>\n",
              "      <td>3</td>\n",
              "      <td>Not Available</td>\n",
              "      <td>Not Available</td>\n",
              "      <td>11509.0</td>\n",
              "      <td>2021</td>\n",
              "      <td>7</td>\n",
              "    </tr>\n",
              "    <tr>\n",
              "      <th>1</th>\n",
              "      <td>Kashmir Valley vacation</td>\n",
              "      <td>Premium</td>\n",
              "      <td>Srinagar|Pahalgam|Srinagar</td>\n",
              "      <td>1N Srinagar . 2N Pahalgam . 1N Srinagar</td>\n",
              "      <td>Srinagar|Pahalgam|Srinagar</td>\n",
              "      <td>2021-08-12</td>\n",
              "      <td>The Orchard Retreat &amp; Spa:4.6|WelcomHotel Pine...</td>\n",
              "      <td>New Delhi</td>\n",
              "      <td>IndiGo|IndiGo</td>\n",
              "      <td>0</td>\n",
              "      <td>5</td>\n",
              "      <td>Dal Lake | Avantipura Ruins | Mughal Gardens ...</td>\n",
              "      <td>Cancellation any time after making the 1st pay...</td>\n",
              "      <td>22485.5</td>\n",
              "      <td>2021</td>\n",
              "      <td>8</td>\n",
              "    </tr>\n",
              "  </tbody>\n",
              "</table>\n",
              "</div>"
            ],
            "text/plain": [
              "                                   Package Name Package Type  ...  Year month\n",
              "0  Best of Shimla and Manali Holiday from Delhi     Standard  ...  2021     7\n",
              "1                       Kashmir Valley vacation      Premium  ...  2021     8\n",
              "\n",
              "[2 rows x 16 columns]"
            ]
          },
          "metadata": {
            "tags": []
          },
          "execution_count": 13
        }
      ]
    },
    {
      "cell_type": "code",
      "metadata": {
        "colab": {
          "base_uri": "https://localhost:8080/",
          "height": 568
        },
        "id": "VmUTRosJNiF5",
        "outputId": "bfe62e9c-9c80-40fa-db5f-30b4da91c4d7"
      },
      "source": [
        "continuous_data, categorical_data = divideFeatures(df_train)\n",
        "categorical_data[:5]"
      ],
      "execution_count": 14,
      "outputs": [
        {
          "output_type": "execute_result",
          "data": {
            "text/html": [
              "<div>\n",
              "<style scoped>\n",
              "    .dataframe tbody tr th:only-of-type {\n",
              "        vertical-align: middle;\n",
              "    }\n",
              "\n",
              "    .dataframe tbody tr th {\n",
              "        vertical-align: top;\n",
              "    }\n",
              "\n",
              "    .dataframe thead th {\n",
              "        text-align: right;\n",
              "    }\n",
              "</style>\n",
              "<table border=\"1\" class=\"dataframe\">\n",
              "  <thead>\n",
              "    <tr style=\"text-align: right;\">\n",
              "      <th></th>\n",
              "      <th>Package Name</th>\n",
              "      <th>Package Type</th>\n",
              "      <th>Destination</th>\n",
              "      <th>Itinerary</th>\n",
              "      <th>Places Covered</th>\n",
              "      <th>Hotel Details</th>\n",
              "      <th>Start City</th>\n",
              "      <th>Airline</th>\n",
              "      <th>Sightseeing Places Covered</th>\n",
              "      <th>Cancellation Rules</th>\n",
              "    </tr>\n",
              "  </thead>\n",
              "  <tbody>\n",
              "    <tr>\n",
              "      <th>0</th>\n",
              "      <td>Best of Shimla and Manali Holiday from Delhi</td>\n",
              "      <td>Standard</td>\n",
              "      <td>New Delhi|Shimla|Manali|Chandigarh</td>\n",
              "      <td>1N New Delhi . 2N Shimla . 2N Manali . 1N Chan...</td>\n",
              "      <td>New Delhi|Shimla|Manali|Chandigarh</td>\n",
              "      <td>Not Available</td>\n",
              "      <td>Mumbai</td>\n",
              "      <td>Not Available</td>\n",
              "      <td>Not Available</td>\n",
              "      <td>Not Available</td>\n",
              "    </tr>\n",
              "    <tr>\n",
              "      <th>1</th>\n",
              "      <td>Kashmir Valley vacation</td>\n",
              "      <td>Premium</td>\n",
              "      <td>Srinagar|Pahalgam|Srinagar</td>\n",
              "      <td>1N Srinagar . 2N Pahalgam . 1N Srinagar</td>\n",
              "      <td>Srinagar|Pahalgam|Srinagar</td>\n",
              "      <td>The Orchard Retreat &amp; Spa:4.6|WelcomHotel Pine...</td>\n",
              "      <td>New Delhi</td>\n",
              "      <td>IndiGo|IndiGo</td>\n",
              "      <td>Dal Lake | Avantipura Ruins | Mughal Gardens ...</td>\n",
              "      <td>Cancellation any time after making the 1st pay...</td>\n",
              "    </tr>\n",
              "    <tr>\n",
              "      <th>2</th>\n",
              "      <td>Might of Mewar- Udaipur and Chittorgarh</td>\n",
              "      <td>Luxury</td>\n",
              "      <td>Udaipur|Chittorgarh</td>\n",
              "      <td>2N Udaipur . 1N Chittorgarh</td>\n",
              "      <td>Udaipur|Chittorgarh</td>\n",
              "      <td>The Ananta:4.4|juSTa Lake Nahargarh Palace:4</td>\n",
              "      <td>New Delhi</td>\n",
              "      <td>IndiGo</td>\n",
              "      <td>Lake Pichola | Jag Mandir Palace | Saheliyon ...</td>\n",
              "      <td>Cancellation any time after making the 1st pay...</td>\n",
              "    </tr>\n",
              "    <tr>\n",
              "      <th>3</th>\n",
              "      <td>Colorful Kerala ( Romantic Getaway )</td>\n",
              "      <td>Premium</td>\n",
              "      <td>Munnar|Kumarakom|Allepey|Kovalam and Poovar</td>\n",
              "      <td>2N Munnar . 1N Kumarakom . 1N Allepey . 2N Kov...</td>\n",
              "      <td>Munnar|Kumarakom|Allepey|Kovalam and Poovar</td>\n",
              "      <td>Elixir Hills Suites Resort &amp; Spa-MMT Holidays ...</td>\n",
              "      <td>New Delhi</td>\n",
              "      <td>IndiGo</td>\n",
              "      <td>Mattupetty Dam | Echo Point | Tata Tea Museum...</td>\n",
              "      <td>Cancellation any time after making the 1st pay...</td>\n",
              "    </tr>\n",
              "    <tr>\n",
              "      <th>4</th>\n",
              "      <td>A Week In Bangkok &amp; Pattaya</td>\n",
              "      <td>Premium</td>\n",
              "      <td>Pattaya|Bangkok</td>\n",
              "      <td>4N Pattaya . 3N Bangkok</td>\n",
              "      <td>Pattaya|Bangkok</td>\n",
              "      <td>Dusit Thani Pattaya - MMT Special:4.5|Amari Wa...</td>\n",
              "      <td>New Delhi</td>\n",
              "      <td>Spicejet|Go Air</td>\n",
              "      <td>Coral Island Tour with Indian Lunch, Join Spe...</td>\n",
              "      <td>Cancellation any time after making the 1st pay...</td>\n",
              "    </tr>\n",
              "  </tbody>\n",
              "</table>\n",
              "</div>"
            ],
            "text/plain": [
              "                                   Package Name  ...                                 Cancellation Rules\n",
              "0  Best of Shimla and Manali Holiday from Delhi  ...                                      Not Available\n",
              "1                       Kashmir Valley vacation  ...  Cancellation any time after making the 1st pay...\n",
              "2       Might of Mewar- Udaipur and Chittorgarh  ...  Cancellation any time after making the 1st pay...\n",
              "3          Colorful Kerala ( Romantic Getaway )  ...  Cancellation any time after making the 1st pay...\n",
              "4                   A Week In Bangkok & Pattaya  ...  Cancellation any time after making the 1st pay...\n",
              "\n",
              "[5 rows x 10 columns]"
            ]
          },
          "metadata": {
            "tags": []
          },
          "execution_count": 14
        }
      ]
    },
    {
      "cell_type": "code",
      "metadata": {
        "id": "P3AKBRKWNnHu"
      },
      "source": [
        "from sklearn.preprocessing import LabelEncoder\n",
        "lb = LabelEncoder()"
      ],
      "execution_count": 15,
      "outputs": []
    },
    {
      "cell_type": "code",
      "metadata": {
        "id": "EALGzesbN3Ic"
      },
      "source": [
        "for col in categorical_data:\n",
        "  df_train[col] = lb.fit_transform(df_train[col])"
      ],
      "execution_count": 16,
      "outputs": []
    },
    {
      "cell_type": "code",
      "metadata": {
        "colab": {
          "base_uri": "https://localhost:8080/",
          "height": 257
        },
        "id": "gmz0vz6SN5Qw",
        "outputId": "b5a48199-c773-4e61-9fe9-df8a389c0194"
      },
      "source": [
        "print('Shape:',df_train.shape)\n",
        "df_train.head(3)"
      ],
      "execution_count": 17,
      "outputs": [
        {
          "output_type": "stream",
          "text": [
            "Shape: (21000, 16)\n"
          ],
          "name": "stdout"
        },
        {
          "output_type": "execute_result",
          "data": {
            "text/html": [
              "<div>\n",
              "<style scoped>\n",
              "    .dataframe tbody tr th:only-of-type {\n",
              "        vertical-align: middle;\n",
              "    }\n",
              "\n",
              "    .dataframe tbody tr th {\n",
              "        vertical-align: top;\n",
              "    }\n",
              "\n",
              "    .dataframe thead th {\n",
              "        text-align: right;\n",
              "    }\n",
              "</style>\n",
              "<table border=\"1\" class=\"dataframe\">\n",
              "  <thead>\n",
              "    <tr style=\"text-align: right;\">\n",
              "      <th></th>\n",
              "      <th>Package Name</th>\n",
              "      <th>Package Type</th>\n",
              "      <th>Destination</th>\n",
              "      <th>Itinerary</th>\n",
              "      <th>Places Covered</th>\n",
              "      <th>Travel Date</th>\n",
              "      <th>Hotel Details</th>\n",
              "      <th>Start City</th>\n",
              "      <th>Airline</th>\n",
              "      <th>Flight Stops</th>\n",
              "      <th>Meals</th>\n",
              "      <th>Sightseeing Places Covered</th>\n",
              "      <th>Cancellation Rules</th>\n",
              "      <th>Per Person Price</th>\n",
              "      <th>Year</th>\n",
              "      <th>month</th>\n",
              "    </tr>\n",
              "  </thead>\n",
              "  <tbody>\n",
              "    <tr>\n",
              "      <th>0</th>\n",
              "      <td>421</td>\n",
              "      <td>4</td>\n",
              "      <td>417</td>\n",
              "      <td>214</td>\n",
              "      <td>417</td>\n",
              "      <td>2021-07-30</td>\n",
              "      <td>3202</td>\n",
              "      <td>0</td>\n",
              "      <td>211</td>\n",
              "      <td>2</td>\n",
              "      <td>3</td>\n",
              "      <td>1713</td>\n",
              "      <td>5</td>\n",
              "      <td>11509.0</td>\n",
              "      <td>2021</td>\n",
              "      <td>7</td>\n",
              "    </tr>\n",
              "    <tr>\n",
              "      <th>1</th>\n",
              "      <td>1138</td>\n",
              "      <td>3</td>\n",
              "      <td>533</td>\n",
              "      <td>283</td>\n",
              "      <td>533</td>\n",
              "      <td>2021-08-12</td>\n",
              "      <td>5463</td>\n",
              "      <td>1</td>\n",
              "      <td>125</td>\n",
              "      <td>0</td>\n",
              "      <td>5</td>\n",
              "      <td>524</td>\n",
              "      <td>0</td>\n",
              "      <td>22485.5</td>\n",
              "      <td>2021</td>\n",
              "      <td>8</td>\n",
              "    </tr>\n",
              "    <tr>\n",
              "      <th>2</th>\n",
              "      <td>1417</td>\n",
              "      <td>2</td>\n",
              "      <td>549</td>\n",
              "      <td>700</td>\n",
              "      <td>549</td>\n",
              "      <td>2021-04-26</td>\n",
              "      <td>5092</td>\n",
              "      <td>1</td>\n",
              "      <td>114</td>\n",
              "      <td>0</td>\n",
              "      <td>4</td>\n",
              "      <td>1000</td>\n",
              "      <td>0</td>\n",
              "      <td>12421.5</td>\n",
              "      <td>2021</td>\n",
              "      <td>4</td>\n",
              "    </tr>\n",
              "  </tbody>\n",
              "</table>\n",
              "</div>"
            ],
            "text/plain": [
              "   Package Name  Package Type  Destination  ...  Per Person Price  Year month\n",
              "0           421             4          417  ...           11509.0  2021     7\n",
              "1          1138             3          533  ...           22485.5  2021     8\n",
              "2          1417             2          549  ...           12421.5  2021     4\n",
              "\n",
              "[3 rows x 16 columns]"
            ]
          },
          "metadata": {
            "tags": []
          },
          "execution_count": 17
        }
      ]
    },
    {
      "cell_type": "code",
      "metadata": {
        "colab": {
          "base_uri": "https://localhost:8080/",
          "height": 140
        },
        "id": "VmCWItj2N6i_",
        "outputId": "fff4d135-664d-4ed1-dd22-01bdd107a861"
      },
      "source": [
        "X = df_train.drop(columns=['Per Person Price','Travel Date'])\n",
        "print('Shape:',X.shape)\n",
        "X.head(2)"
      ],
      "execution_count": 18,
      "outputs": [
        {
          "output_type": "stream",
          "text": [
            "Shape: (21000, 14)\n"
          ],
          "name": "stdout"
        },
        {
          "output_type": "execute_result",
          "data": {
            "text/html": [
              "<div>\n",
              "<style scoped>\n",
              "    .dataframe tbody tr th:only-of-type {\n",
              "        vertical-align: middle;\n",
              "    }\n",
              "\n",
              "    .dataframe tbody tr th {\n",
              "        vertical-align: top;\n",
              "    }\n",
              "\n",
              "    .dataframe thead th {\n",
              "        text-align: right;\n",
              "    }\n",
              "</style>\n",
              "<table border=\"1\" class=\"dataframe\">\n",
              "  <thead>\n",
              "    <tr style=\"text-align: right;\">\n",
              "      <th></th>\n",
              "      <th>Package Name</th>\n",
              "      <th>Package Type</th>\n",
              "      <th>Destination</th>\n",
              "      <th>Itinerary</th>\n",
              "      <th>Places Covered</th>\n",
              "      <th>Hotel Details</th>\n",
              "      <th>Start City</th>\n",
              "      <th>Airline</th>\n",
              "      <th>Flight Stops</th>\n",
              "      <th>Meals</th>\n",
              "      <th>Sightseeing Places Covered</th>\n",
              "      <th>Cancellation Rules</th>\n",
              "      <th>Year</th>\n",
              "      <th>month</th>\n",
              "    </tr>\n",
              "  </thead>\n",
              "  <tbody>\n",
              "    <tr>\n",
              "      <th>0</th>\n",
              "      <td>421</td>\n",
              "      <td>4</td>\n",
              "      <td>417</td>\n",
              "      <td>214</td>\n",
              "      <td>417</td>\n",
              "      <td>3202</td>\n",
              "      <td>0</td>\n",
              "      <td>211</td>\n",
              "      <td>2</td>\n",
              "      <td>3</td>\n",
              "      <td>1713</td>\n",
              "      <td>5</td>\n",
              "      <td>2021</td>\n",
              "      <td>7</td>\n",
              "    </tr>\n",
              "    <tr>\n",
              "      <th>1</th>\n",
              "      <td>1138</td>\n",
              "      <td>3</td>\n",
              "      <td>533</td>\n",
              "      <td>283</td>\n",
              "      <td>533</td>\n",
              "      <td>5463</td>\n",
              "      <td>1</td>\n",
              "      <td>125</td>\n",
              "      <td>0</td>\n",
              "      <td>5</td>\n",
              "      <td>524</td>\n",
              "      <td>0</td>\n",
              "      <td>2021</td>\n",
              "      <td>8</td>\n",
              "    </tr>\n",
              "  </tbody>\n",
              "</table>\n",
              "</div>"
            ],
            "text/plain": [
              "   Package Name  Package Type  Destination  ...  Cancellation Rules  Year  month\n",
              "0           421             4          417  ...                   5  2021      7\n",
              "1          1138             3          533  ...                   0  2021      8\n",
              "\n",
              "[2 rows x 14 columns]"
            ]
          },
          "metadata": {
            "tags": []
          },
          "execution_count": 18
        }
      ]
    },
    {
      "cell_type": "code",
      "metadata": {
        "id": "eR-vX8ysOIok"
      },
      "source": [
        "y=df_train['Per Person Price']"
      ],
      "execution_count": 19,
      "outputs": []
    },
    {
      "cell_type": "code",
      "metadata": {
        "colab": {
          "base_uri": "https://localhost:8080/",
          "height": 229
        },
        "id": "oJrNPyxaOuiJ",
        "outputId": "4731ce66-f208-4ea7-9101-856c760a1d5f"
      },
      "source": [
        "from sklearn.preprocessing import StandardScaler,RobustScaler,MinMaxScaler\n",
        "rs = MinMaxScaler()\n",
        "for c in X.columns:\n",
        "    X[c] = rs.fit_transform(X[c].values.reshape(-1, 1))\n",
        "X.head()"
      ],
      "execution_count": 20,
      "outputs": [
        {
          "output_type": "execute_result",
          "data": {
            "text/html": [
              "<div>\n",
              "<style scoped>\n",
              "    .dataframe tbody tr th:only-of-type {\n",
              "        vertical-align: middle;\n",
              "    }\n",
              "\n",
              "    .dataframe tbody tr th {\n",
              "        vertical-align: top;\n",
              "    }\n",
              "\n",
              "    .dataframe thead th {\n",
              "        text-align: right;\n",
              "    }\n",
              "</style>\n",
              "<table border=\"1\" class=\"dataframe\">\n",
              "  <thead>\n",
              "    <tr style=\"text-align: right;\">\n",
              "      <th></th>\n",
              "      <th>Package Name</th>\n",
              "      <th>Package Type</th>\n",
              "      <th>Destination</th>\n",
              "      <th>Itinerary</th>\n",
              "      <th>Places Covered</th>\n",
              "      <th>Hotel Details</th>\n",
              "      <th>Start City</th>\n",
              "      <th>Airline</th>\n",
              "      <th>Flight Stops</th>\n",
              "      <th>Meals</th>\n",
              "      <th>Sightseeing Places Covered</th>\n",
              "      <th>Cancellation Rules</th>\n",
              "      <th>Year</th>\n",
              "      <th>month</th>\n",
              "    </tr>\n",
              "  </thead>\n",
              "  <tbody>\n",
              "    <tr>\n",
              "      <th>0</th>\n",
              "      <td>0.191103</td>\n",
              "      <td>1.00</td>\n",
              "      <td>0.739362</td>\n",
              "      <td>0.221762</td>\n",
              "      <td>0.739362</td>\n",
              "      <td>0.528470</td>\n",
              "      <td>0.0</td>\n",
              "      <td>0.674121</td>\n",
              "      <td>1.0</td>\n",
              "      <td>0.333333</td>\n",
              "      <td>1.000000</td>\n",
              "      <td>0.555556</td>\n",
              "      <td>0.0</td>\n",
              "      <td>0.545455</td>\n",
              "    </tr>\n",
              "    <tr>\n",
              "      <th>1</th>\n",
              "      <td>0.516568</td>\n",
              "      <td>0.75</td>\n",
              "      <td>0.945035</td>\n",
              "      <td>0.293264</td>\n",
              "      <td>0.945035</td>\n",
              "      <td>0.901634</td>\n",
              "      <td>1.0</td>\n",
              "      <td>0.399361</td>\n",
              "      <td>0.0</td>\n",
              "      <td>1.000000</td>\n",
              "      <td>0.305896</td>\n",
              "      <td>0.000000</td>\n",
              "      <td>0.0</td>\n",
              "      <td>0.636364</td>\n",
              "    </tr>\n",
              "    <tr>\n",
              "      <th>2</th>\n",
              "      <td>0.643214</td>\n",
              "      <td>0.50</td>\n",
              "      <td>0.973404</td>\n",
              "      <td>0.725389</td>\n",
              "      <td>0.973404</td>\n",
              "      <td>0.840403</td>\n",
              "      <td>1.0</td>\n",
              "      <td>0.364217</td>\n",
              "      <td>0.0</td>\n",
              "      <td>0.666667</td>\n",
              "      <td>0.583771</td>\n",
              "      <td>0.000000</td>\n",
              "      <td>0.0</td>\n",
              "      <td>0.272727</td>\n",
              "    </tr>\n",
              "    <tr>\n",
              "      <th>3</th>\n",
              "      <td>0.220608</td>\n",
              "      <td>0.75</td>\n",
              "      <td>0.583333</td>\n",
              "      <td>0.546114</td>\n",
              "      <td>0.583333</td>\n",
              "      <td>0.142928</td>\n",
              "      <td>1.0</td>\n",
              "      <td>0.364217</td>\n",
              "      <td>0.0</td>\n",
              "      <td>1.000000</td>\n",
              "      <td>0.638646</td>\n",
              "      <td>0.000000</td>\n",
              "      <td>0.0</td>\n",
              "      <td>0.636364</td>\n",
              "    </tr>\n",
              "    <tr>\n",
              "      <th>4</th>\n",
              "      <td>0.088970</td>\n",
              "      <td>0.75</td>\n",
              "      <td>0.785461</td>\n",
              "      <td>0.954404</td>\n",
              "      <td>0.785461</td>\n",
              "      <td>0.135831</td>\n",
              "      <td>1.0</td>\n",
              "      <td>0.760383</td>\n",
              "      <td>0.0</td>\n",
              "      <td>1.000000</td>\n",
              "      <td>0.196147</td>\n",
              "      <td>0.000000</td>\n",
              "      <td>0.0</td>\n",
              "      <td>1.000000</td>\n",
              "    </tr>\n",
              "  </tbody>\n",
              "</table>\n",
              "</div>"
            ],
            "text/plain": [
              "   Package Name  Package Type  Destination  ...  Cancellation Rules  Year     month\n",
              "0      0.191103          1.00     0.739362  ...            0.555556   0.0  0.545455\n",
              "1      0.516568          0.75     0.945035  ...            0.000000   0.0  0.636364\n",
              "2      0.643214          0.50     0.973404  ...            0.000000   0.0  0.272727\n",
              "3      0.220608          0.75     0.583333  ...            0.000000   0.0  0.636364\n",
              "4      0.088970          0.75     0.785461  ...            0.000000   0.0  1.000000\n",
              "\n",
              "[5 rows x 14 columns]"
            ]
          },
          "metadata": {
            "tags": []
          },
          "execution_count": 20
        }
      ]
    },
    {
      "cell_type": "code",
      "metadata": {
        "id": "eLcP387aO25P"
      },
      "source": [
        "from sklearn.model_selection import train_test_split\n",
        "X_train,X_test,y_train,y_test=train_test_split(X, y, test_size=0.2,random_state=30)"
      ],
      "execution_count": 21,
      "outputs": []
    },
    {
      "cell_type": "code",
      "metadata": {
        "id": "LYAmdWGsPn9C"
      },
      "source": [
        "from sklearn.feature_selection import SelectKBest\n",
        "from sklearn.feature_selection import f_regression\n",
        "import matplotlib.pyplot as plt\n",
        "from sklearn.feature_selection import mutual_info_regression"
      ],
      "execution_count": 22,
      "outputs": []
    },
    {
      "cell_type": "code",
      "metadata": {
        "colab": {
          "base_uri": "https://localhost:8080/"
        },
        "id": "9SYKbmXHPuc1",
        "outputId": "1b4e678e-6fcd-4ba3-e7c8-86d540f65a3d"
      },
      "source": [
        "# feature selection\n",
        "f_selector = SelectKBest(score_func=f_regression, k='all')\n",
        "# learn relationship from training data\n",
        "f_selector.fit(X_train, y_train)\n"
      ],
      "execution_count": 23,
      "outputs": [
        {
          "output_type": "execute_result",
          "data": {
            "text/plain": [
              "SelectKBest(k='all', score_func=<function f_regression at 0x7fd1ba7de4d0>)"
            ]
          },
          "metadata": {
            "tags": []
          },
          "execution_count": 23
        }
      ]
    },
    {
      "cell_type": "code",
      "metadata": {
        "id": "ubhCLetPPx_T"
      },
      "source": [
        "# transform train input data\n",
        "X_train_fs = f_selector.transform(X_train)\n",
        "# transform test input data\n",
        "X_test_fs = f_selector.transform(X_test)"
      ],
      "execution_count": 24,
      "outputs": []
    },
    {
      "cell_type": "code",
      "metadata": {
        "colab": {
          "base_uri": "https://localhost:8080/",
          "height": 294
        },
        "id": "5gOGOnRUQEIY",
        "outputId": "c1a90202-03be-49d6-e9a5-5c3a6a3e1c76"
      },
      "source": [
        "# Plot the scores for the features\n",
        "plt.bar([i for i in range(len(f_selector.scores_))], f_selector.scores_)\n",
        "plt.xlabel(\"feature index\")\n",
        "plt.ylabel(\"F-value (transformed from the correlation values)\")\n",
        "plt.show()"
      ],
      "execution_count": 25,
      "outputs": [
        {
          "output_type": "display_data",
          "data": {
            "image/png": "[encoded data removed]",
            "text/plain": [
              "<Figure size 432x288 with 1 Axes>"
            ]
          },
          "metadata": {
            "tags": [],
            "needs_background": "light"
          }
        }
      ]
    },
    {
      "cell_type": "code",
      "metadata": {
        "colab": {
          "base_uri": "https://localhost:8080/"
        },
        "id": "QCe9KIluQHNy",
        "outputId": "7e454e21-2861-4084-a857-7a9b4543c39b"
      },
      "source": [
        "\n",
        "f_selector.scores_"
      ],
      "execution_count": 27,
      "outputs": [
        {
          "output_type": "execute_result",
          "data": {
            "text/plain": [
              "array([4.12109240e+01, 4.52571640e+00, 5.18859119e+00, 9.70537614e+01,\n",
              "       5.18859119e+00, 8.51337549e+01, 4.09219958e+01, 1.23785733e+02,\n",
              "       1.45242553e+03, 1.29107261e+03, 7.23165725e+01, 1.30244449e+03,\n",
              "       1.01334004e+00, 2.30897796e+00])"
            ]
          },
          "metadata": {
            "tags": []
          },
          "execution_count": 27
        }
      ]
    },
    {
      "cell_type": "code",
      "metadata": {
        "id": "cgf1BgAhQTv5"
      },
      "source": [
        "score = f_selector.scores_"
      ],
      "execution_count": 28,
      "outputs": []
    },
    {
      "cell_type": "code",
      "metadata": {
        "id": "FmwIwPJAQW2H"
      },
      "source": [
        "Best_Feat = pd.DataFrame({'Feature_Score': score})"
      ],
      "execution_count": 29,
      "outputs": []
    },
    {
      "cell_type": "code",
      "metadata": {
        "colab": {
          "base_uri": "https://localhost:8080/",
          "height": 195
        },
        "id": "K66FRJyrQaGo",
        "outputId": "9930c7f9-7fb3-4bcc-d31c-c4f107ee7ffb"
      },
      "source": [
        "Best_Feat.head(5)"
      ],
      "execution_count": 30,
      "outputs": [
        {
          "output_type": "execute_result",
          "data": {
            "text/html": [
              "<div>\n",
              "<style scoped>\n",
              "    .dataframe tbody tr th:only-of-type {\n",
              "        vertical-align: middle;\n",
              "    }\n",
              "\n",
              "    .dataframe tbody tr th {\n",
              "        vertical-align: top;\n",
              "    }\n",
              "\n",
              "    .dataframe thead th {\n",
              "        text-align: right;\n",
              "    }\n",
              "</style>\n",
              "<table border=\"1\" class=\"dataframe\">\n",
              "  <thead>\n",
              "    <tr style=\"text-align: right;\">\n",
              "      <th></th>\n",
              "      <th>Feature_Score</th>\n",
              "    </tr>\n",
              "  </thead>\n",
              "  <tbody>\n",
              "    <tr>\n",
              "      <th>0</th>\n",
              "      <td>41.210924</td>\n",
              "    </tr>\n",
              "    <tr>\n",
              "      <th>1</th>\n",
              "      <td>4.525716</td>\n",
              "    </tr>\n",
              "    <tr>\n",
              "      <th>2</th>\n",
              "      <td>5.188591</td>\n",
              "    </tr>\n",
              "    <tr>\n",
              "      <th>3</th>\n",
              "      <td>97.053761</td>\n",
              "    </tr>\n",
              "    <tr>\n",
              "      <th>4</th>\n",
              "      <td>5.188591</td>\n",
              "    </tr>\n",
              "  </tbody>\n",
              "</table>\n",
              "</div>"
            ],
            "text/plain": [
              "   Feature_Score\n",
              "0      41.210924\n",
              "1       4.525716\n",
              "2       5.188591\n",
              "3      97.053761\n",
              "4       5.188591"
            ]
          },
          "metadata": {
            "tags": []
          },
          "execution_count": 30
        }
      ]
    },
    {
      "cell_type": "code",
      "metadata": {
        "colab": {
          "base_uri": "https://localhost:8080/"
        },
        "id": "3CB4KIq4QceS",
        "outputId": "5e9ff237-c619-4d18-f650-2e078d913063"
      },
      "source": [
        "name = df_train.columns\n",
        "name"
      ],
      "execution_count": 31,
      "outputs": [
        {
          "output_type": "execute_result",
          "data": {
            "text/plain": [
              "Index(['Package Name', 'Package Type', 'Destination', 'Itinerary',\n",
              "       'Places Covered', 'Travel Date', 'Hotel Details', 'Start City',\n",
              "       'Airline', 'Flight Stops', 'Meals', 'Sightseeing Places Covered',\n",
              "       'Cancellation Rules', 'Per Person Price', 'Year', 'month'],\n",
              "      dtype='object')"
            ]
          },
          "metadata": {
            "tags": []
          },
          "execution_count": 31
        }
      ]
    },
    {
      "cell_type": "code",
      "metadata": {
        "id": "nECnQf8Go2Xd"
      },
      "source": [
        "col_name = pd.DataFrame({'col_name': name})"
      ],
      "execution_count": 32,
      "outputs": []
    },
    {
      "cell_type": "code",
      "metadata": {
        "colab": {
          "base_uri": "https://localhost:8080/",
          "height": 195
        },
        "id": "UWzbT-zto8zy",
        "outputId": "ba9d8cd8-fd23-46e6-9871-f0d8d1a47712"
      },
      "source": [
        "col_name.head()"
      ],
      "execution_count": 33,
      "outputs": [
        {
          "output_type": "execute_result",
          "data": {
            "text/html": [
              "<div>\n",
              "<style scoped>\n",
              "    .dataframe tbody tr th:only-of-type {\n",
              "        vertical-align: middle;\n",
              "    }\n",
              "\n",
              "    .dataframe tbody tr th {\n",
              "        vertical-align: top;\n",
              "    }\n",
              "\n",
              "    .dataframe thead th {\n",
              "        text-align: right;\n",
              "    }\n",
              "</style>\n",
              "<table border=\"1\" class=\"dataframe\">\n",
              "  <thead>\n",
              "    <tr style=\"text-align: right;\">\n",
              "      <th></th>\n",
              "      <th>col_name</th>\n",
              "    </tr>\n",
              "  </thead>\n",
              "  <tbody>\n",
              "    <tr>\n",
              "      <th>0</th>\n",
              "      <td>Package Name</td>\n",
              "    </tr>\n",
              "    <tr>\n",
              "      <th>1</th>\n",
              "      <td>Package Type</td>\n",
              "    </tr>\n",
              "    <tr>\n",
              "      <th>2</th>\n",
              "      <td>Destination</td>\n",
              "    </tr>\n",
              "    <tr>\n",
              "      <th>3</th>\n",
              "      <td>Itinerary</td>\n",
              "    </tr>\n",
              "    <tr>\n",
              "      <th>4</th>\n",
              "      <td>Places Covered</td>\n",
              "    </tr>\n",
              "  </tbody>\n",
              "</table>\n",
              "</div>"
            ],
            "text/plain": [
              "         col_name\n",
              "0    Package Name\n",
              "1    Package Type\n",
              "2     Destination\n",
              "3       Itinerary\n",
              "4  Places Covered"
            ]
          },
          "metadata": {
            "tags": []
          },
          "execution_count": 33
        }
      ]
    },
    {
      "cell_type": "code",
      "metadata": {
        "id": "LWRvVf3AQh9C",
        "colab": {
          "base_uri": "https://localhost:8080/",
          "height": 195
        },
        "outputId": "e80164c8-33ec-46ef-ac34-9d0c6da5746d"
      },
      "source": [
        "\n",
        "Merged = pd.concat([col_name, Best_Feat], axis=1)\n",
        "Merged.head()"
      ],
      "execution_count": 34,
      "outputs": [
        {
          "output_type": "execute_result",
          "data": {
            "text/html": [
              "<div>\n",
              "<style scoped>\n",
              "    .dataframe tbody tr th:only-of-type {\n",
              "        vertical-align: middle;\n",
              "    }\n",
              "\n",
              "    .dataframe tbody tr th {\n",
              "        vertical-align: top;\n",
              "    }\n",
              "\n",
              "    .dataframe thead th {\n",
              "        text-align: right;\n",
              "    }\n",
              "</style>\n",
              "<table border=\"1\" class=\"dataframe\">\n",
              "  <thead>\n",
              "    <tr style=\"text-align: right;\">\n",
              "      <th></th>\n",
              "      <th>col_name</th>\n",
              "      <th>Feature_Score</th>\n",
              "    </tr>\n",
              "  </thead>\n",
              "  <tbody>\n",
              "    <tr>\n",
              "      <th>0</th>\n",
              "      <td>Package Name</td>\n",
              "      <td>41.210924</td>\n",
              "    </tr>\n",
              "    <tr>\n",
              "      <th>1</th>\n",
              "      <td>Package Type</td>\n",
              "      <td>4.525716</td>\n",
              "    </tr>\n",
              "    <tr>\n",
              "      <th>2</th>\n",
              "      <td>Destination</td>\n",
              "      <td>5.188591</td>\n",
              "    </tr>\n",
              "    <tr>\n",
              "      <th>3</th>\n",
              "      <td>Itinerary</td>\n",
              "      <td>97.053761</td>\n",
              "    </tr>\n",
              "    <tr>\n",
              "      <th>4</th>\n",
              "      <td>Places Covered</td>\n",
              "      <td>5.188591</td>\n",
              "    </tr>\n",
              "  </tbody>\n",
              "</table>\n",
              "</div>"
            ],
            "text/plain": [
              "         col_name  Feature_Score\n",
              "0    Package Name      41.210924\n",
              "1    Package Type       4.525716\n",
              "2     Destination       5.188591\n",
              "3       Itinerary      97.053761\n",
              "4  Places Covered       5.188591"
            ]
          },
          "metadata": {
            "tags": []
          },
          "execution_count": 34
        }
      ]
    },
    {
      "cell_type": "code",
      "metadata": {
        "colab": {
          "base_uri": "https://localhost:8080/",
          "height": 491
        },
        "id": "ds0EtbOupCSi",
        "outputId": "56c27101-9749-4edf-e233-7abda4849f66"
      },
      "source": [
        "Merged.sort_values(['Feature_Score'], ascending=False).head(15)"
      ],
      "execution_count": 35,
      "outputs": [
        {
          "output_type": "execute_result",
          "data": {
            "text/html": [
              "<div>\n",
              "<style scoped>\n",
              "    .dataframe tbody tr th:only-of-type {\n",
              "        vertical-align: middle;\n",
              "    }\n",
              "\n",
              "    .dataframe tbody tr th {\n",
              "        vertical-align: top;\n",
              "    }\n",
              "\n",
              "    .dataframe thead th {\n",
              "        text-align: right;\n",
              "    }\n",
              "</style>\n",
              "<table border=\"1\" class=\"dataframe\">\n",
              "  <thead>\n",
              "    <tr style=\"text-align: right;\">\n",
              "      <th></th>\n",
              "      <th>col_name</th>\n",
              "      <th>Feature_Score</th>\n",
              "    </tr>\n",
              "  </thead>\n",
              "  <tbody>\n",
              "    <tr>\n",
              "      <th>8</th>\n",
              "      <td>Airline</td>\n",
              "      <td>1452.425533</td>\n",
              "    </tr>\n",
              "    <tr>\n",
              "      <th>11</th>\n",
              "      <td>Sightseeing Places Covered</td>\n",
              "      <td>1302.444492</td>\n",
              "    </tr>\n",
              "    <tr>\n",
              "      <th>9</th>\n",
              "      <td>Flight Stops</td>\n",
              "      <td>1291.072612</td>\n",
              "    </tr>\n",
              "    <tr>\n",
              "      <th>7</th>\n",
              "      <td>Start City</td>\n",
              "      <td>123.785733</td>\n",
              "    </tr>\n",
              "    <tr>\n",
              "      <th>3</th>\n",
              "      <td>Itinerary</td>\n",
              "      <td>97.053761</td>\n",
              "    </tr>\n",
              "    <tr>\n",
              "      <th>5</th>\n",
              "      <td>Travel Date</td>\n",
              "      <td>85.133755</td>\n",
              "    </tr>\n",
              "    <tr>\n",
              "      <th>10</th>\n",
              "      <td>Meals</td>\n",
              "      <td>72.316573</td>\n",
              "    </tr>\n",
              "    <tr>\n",
              "      <th>0</th>\n",
              "      <td>Package Name</td>\n",
              "      <td>41.210924</td>\n",
              "    </tr>\n",
              "    <tr>\n",
              "      <th>6</th>\n",
              "      <td>Hotel Details</td>\n",
              "      <td>40.921996</td>\n",
              "    </tr>\n",
              "    <tr>\n",
              "      <th>2</th>\n",
              "      <td>Destination</td>\n",
              "      <td>5.188591</td>\n",
              "    </tr>\n",
              "    <tr>\n",
              "      <th>4</th>\n",
              "      <td>Places Covered</td>\n",
              "      <td>5.188591</td>\n",
              "    </tr>\n",
              "    <tr>\n",
              "      <th>1</th>\n",
              "      <td>Package Type</td>\n",
              "      <td>4.525716</td>\n",
              "    </tr>\n",
              "    <tr>\n",
              "      <th>13</th>\n",
              "      <td>Per Person Price</td>\n",
              "      <td>2.308978</td>\n",
              "    </tr>\n",
              "    <tr>\n",
              "      <th>12</th>\n",
              "      <td>Cancellation Rules</td>\n",
              "      <td>1.013340</td>\n",
              "    </tr>\n",
              "    <tr>\n",
              "      <th>14</th>\n",
              "      <td>Year</td>\n",
              "      <td>NaN</td>\n",
              "    </tr>\n",
              "  </tbody>\n",
              "</table>\n",
              "</div>"
            ],
            "text/plain": [
              "                      col_name  Feature_Score\n",
              "8                      Airline    1452.425533\n",
              "11  Sightseeing Places Covered    1302.444492\n",
              "9                 Flight Stops    1291.072612\n",
              "7                   Start City     123.785733\n",
              "3                    Itinerary      97.053761\n",
              "5                  Travel Date      85.133755\n",
              "10                       Meals      72.316573\n",
              "0                 Package Name      41.210924\n",
              "6                Hotel Details      40.921996\n",
              "2                  Destination       5.188591\n",
              "4               Places Covered       5.188591\n",
              "1                 Package Type       4.525716\n",
              "13            Per Person Price       2.308978\n",
              "12          Cancellation Rules       1.013340\n",
              "14                        Year            NaN"
            ]
          },
          "metadata": {
            "tags": []
          },
          "execution_count": 35
        }
      ]
    },
    {
      "cell_type": "code",
      "metadata": {
        "id": "FEZ81myWpHtj"
      },
      "source": [
        ""
      ],
      "execution_count": null,
      "outputs": []
    }
  ]
}